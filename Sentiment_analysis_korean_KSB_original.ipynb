{
  "nbformat": 4,
  "nbformat_minor": 0,
  "metadata": {
    "colab": {
      "name": "Sentiment_analysis_korean_KSB_original.ipynb",
      "provenance": [],
      "collapsed_sections": [],
      "toc_visible": true,
      "machine_shape": "hm",
      "include_colab_link": true
    },
    "kernelspec": {
      "name": "python3",
      "display_name": "Python 3"
    },
    "accelerator": "GPU",
    "widgets": {
      "application/vnd.jupyter.widget-state+json": {
        "5456c908ea844794ac701e784992aeb4": {
          "model_module": "@jupyter-widgets/controls",
          "model_name": "HBoxModel",
          "state": {
            "_view_name": "HBoxView",
            "_dom_classes": [],
            "_model_name": "HBoxModel",
            "_view_module": "@jupyter-widgets/controls",
            "_model_module_version": "1.5.0",
            "_view_count": null,
            "_view_module_version": "1.5.0",
            "box_style": "",
            "layout": "IPY_MODEL_ac710fd0e64b402789cfc93313c1d070",
            "_model_module": "@jupyter-widgets/controls",
            "children": [
              "IPY_MODEL_44beea9938e94ca88ceada1f5d07af88",
              "IPY_MODEL_f13b6ffffc5f45f38d347fe527d8073a"
            ]
          }
        },
        "ac710fd0e64b402789cfc93313c1d070": {
          "model_module": "@jupyter-widgets/base",
          "model_name": "LayoutModel",
          "state": {
            "_view_name": "LayoutView",
            "grid_template_rows": null,
            "right": null,
            "justify_content": null,
            "_view_module": "@jupyter-widgets/base",
            "overflow": null,
            "_model_module_version": "1.2.0",
            "_view_count": null,
            "flex_flow": null,
            "width": null,
            "min_width": null,
            "border": null,
            "align_items": null,
            "bottom": null,
            "_model_module": "@jupyter-widgets/base",
            "top": null,
            "grid_column": null,
            "overflow_y": null,
            "overflow_x": null,
            "grid_auto_flow": null,
            "grid_area": null,
            "grid_template_columns": null,
            "flex": null,
            "_model_name": "LayoutModel",
            "justify_items": null,
            "grid_row": null,
            "max_height": null,
            "align_content": null,
            "visibility": null,
            "align_self": null,
            "height": null,
            "min_height": null,
            "padding": null,
            "grid_auto_rows": null,
            "grid_gap": null,
            "max_width": null,
            "order": null,
            "_view_module_version": "1.2.0",
            "grid_template_areas": null,
            "object_position": null,
            "object_fit": null,
            "grid_auto_columns": null,
            "margin": null,
            "display": null,
            "left": null
          }
        },
        "44beea9938e94ca88ceada1f5d07af88": {
          "model_module": "@jupyter-widgets/controls",
          "model_name": "FloatProgressModel",
          "state": {
            "_view_name": "ProgressView",
            "style": "IPY_MODEL_0ec1a7b154b64d27ac509f3043906aa8",
            "_dom_classes": [],
            "description": "Downloading: 100%",
            "_model_name": "FloatProgressModel",
            "bar_style": "success",
            "max": 995526,
            "_view_module": "@jupyter-widgets/controls",
            "_model_module_version": "1.5.0",
            "value": 995526,
            "_view_count": null,
            "_view_module_version": "1.5.0",
            "orientation": "horizontal",
            "min": 0,
            "description_tooltip": null,
            "_model_module": "@jupyter-widgets/controls",
            "layout": "IPY_MODEL_2f215ae050e142c68822a727e823fcc3"
          }
        },
        "f13b6ffffc5f45f38d347fe527d8073a": {
          "model_module": "@jupyter-widgets/controls",
          "model_name": "HTMLModel",
          "state": {
            "_view_name": "HTMLView",
            "style": "IPY_MODEL_728b0f8e952846ea849a115fb75270ca",
            "_dom_classes": [],
            "description": "",
            "_model_name": "HTMLModel",
            "placeholder": "​",
            "_view_module": "@jupyter-widgets/controls",
            "_model_module_version": "1.5.0",
            "value": " 996k/996k [00:00&lt;00:00, 1.64MB/s]",
            "_view_count": null,
            "_view_module_version": "1.5.0",
            "description_tooltip": null,
            "_model_module": "@jupyter-widgets/controls",
            "layout": "IPY_MODEL_b08d337f9b384195939c6925d1804373"
          }
        },
        "0ec1a7b154b64d27ac509f3043906aa8": {
          "model_module": "@jupyter-widgets/controls",
          "model_name": "ProgressStyleModel",
          "state": {
            "_view_name": "StyleView",
            "_model_name": "ProgressStyleModel",
            "description_width": "initial",
            "_view_module": "@jupyter-widgets/base",
            "_model_module_version": "1.5.0",
            "_view_count": null,
            "_view_module_version": "1.2.0",
            "bar_color": null,
            "_model_module": "@jupyter-widgets/controls"
          }
        },
        "2f215ae050e142c68822a727e823fcc3": {
          "model_module": "@jupyter-widgets/base",
          "model_name": "LayoutModel",
          "state": {
            "_view_name": "LayoutView",
            "grid_template_rows": null,
            "right": null,
            "justify_content": null,
            "_view_module": "@jupyter-widgets/base",
            "overflow": null,
            "_model_module_version": "1.2.0",
            "_view_count": null,
            "flex_flow": null,
            "width": null,
            "min_width": null,
            "border": null,
            "align_items": null,
            "bottom": null,
            "_model_module": "@jupyter-widgets/base",
            "top": null,
            "grid_column": null,
            "overflow_y": null,
            "overflow_x": null,
            "grid_auto_flow": null,
            "grid_area": null,
            "grid_template_columns": null,
            "flex": null,
            "_model_name": "LayoutModel",
            "justify_items": null,
            "grid_row": null,
            "max_height": null,
            "align_content": null,
            "visibility": null,
            "align_self": null,
            "height": null,
            "min_height": null,
            "padding": null,
            "grid_auto_rows": null,
            "grid_gap": null,
            "max_width": null,
            "order": null,
            "_view_module_version": "1.2.0",
            "grid_template_areas": null,
            "object_position": null,
            "object_fit": null,
            "grid_auto_columns": null,
            "margin": null,
            "display": null,
            "left": null
          }
        },
        "728b0f8e952846ea849a115fb75270ca": {
          "model_module": "@jupyter-widgets/controls",
          "model_name": "DescriptionStyleModel",
          "state": {
            "_view_name": "StyleView",
            "_model_name": "DescriptionStyleModel",
            "description_width": "",
            "_view_module": "@jupyter-widgets/base",
            "_model_module_version": "1.5.0",
            "_view_count": null,
            "_view_module_version": "1.2.0",
            "_model_module": "@jupyter-widgets/controls"
          }
        },
        "b08d337f9b384195939c6925d1804373": {
          "model_module": "@jupyter-widgets/base",
          "model_name": "LayoutModel",
          "state": {
            "_view_name": "LayoutView",
            "grid_template_rows": null,
            "right": null,
            "justify_content": null,
            "_view_module": "@jupyter-widgets/base",
            "overflow": null,
            "_model_module_version": "1.2.0",
            "_view_count": null,
            "flex_flow": null,
            "width": null,
            "min_width": null,
            "border": null,
            "align_items": null,
            "bottom": null,
            "_model_module": "@jupyter-widgets/base",
            "top": null,
            "grid_column": null,
            "overflow_y": null,
            "overflow_x": null,
            "grid_auto_flow": null,
            "grid_area": null,
            "grid_template_columns": null,
            "flex": null,
            "_model_name": "LayoutModel",
            "justify_items": null,
            "grid_row": null,
            "max_height": null,
            "align_content": null,
            "visibility": null,
            "align_self": null,
            "height": null,
            "min_height": null,
            "padding": null,
            "grid_auto_rows": null,
            "grid_gap": null,
            "max_width": null,
            "order": null,
            "_view_module_version": "1.2.0",
            "grid_template_areas": null,
            "object_position": null,
            "object_fit": null,
            "grid_auto_columns": null,
            "margin": null,
            "display": null,
            "left": null
          }
        },
        "e72ab80bdebf48ec88a7857e54ebbc81": {
          "model_module": "@jupyter-widgets/controls",
          "model_name": "HBoxModel",
          "state": {
            "_view_name": "HBoxView",
            "_dom_classes": [],
            "_model_name": "HBoxModel",
            "_view_module": "@jupyter-widgets/controls",
            "_model_module_version": "1.5.0",
            "_view_count": null,
            "_view_module_version": "1.5.0",
            "box_style": "",
            "layout": "IPY_MODEL_93f6f1e3c5694407befaa1d8c2063c38",
            "_model_module": "@jupyter-widgets/controls",
            "children": [
              "IPY_MODEL_5add17fa700e44ad96d6e6edc86e9795",
              "IPY_MODEL_b09bb491242043ad9b2e394dce618ce8"
            ]
          }
        },
        "93f6f1e3c5694407befaa1d8c2063c38": {
          "model_module": "@jupyter-widgets/base",
          "model_name": "LayoutModel",
          "state": {
            "_view_name": "LayoutView",
            "grid_template_rows": null,
            "right": null,
            "justify_content": null,
            "_view_module": "@jupyter-widgets/base",
            "overflow": null,
            "_model_module_version": "1.2.0",
            "_view_count": null,
            "flex_flow": null,
            "width": null,
            "min_width": null,
            "border": null,
            "align_items": null,
            "bottom": null,
            "_model_module": "@jupyter-widgets/base",
            "top": null,
            "grid_column": null,
            "overflow_y": null,
            "overflow_x": null,
            "grid_auto_flow": null,
            "grid_area": null,
            "grid_template_columns": null,
            "flex": null,
            "_model_name": "LayoutModel",
            "justify_items": null,
            "grid_row": null,
            "max_height": null,
            "align_content": null,
            "visibility": null,
            "align_self": null,
            "height": null,
            "min_height": null,
            "padding": null,
            "grid_auto_rows": null,
            "grid_gap": null,
            "max_width": null,
            "order": null,
            "_view_module_version": "1.2.0",
            "grid_template_areas": null,
            "object_position": null,
            "object_fit": null,
            "grid_auto_columns": null,
            "margin": null,
            "display": null,
            "left": null
          }
        },
        "5add17fa700e44ad96d6e6edc86e9795": {
          "model_module": "@jupyter-widgets/controls",
          "model_name": "FloatProgressModel",
          "state": {
            "_view_name": "ProgressView",
            "style": "IPY_MODEL_15ff6e2e95354456843c3006727c6dee",
            "_dom_classes": [],
            "description": "Downloading: 100%",
            "_model_name": "FloatProgressModel",
            "bar_style": "success",
            "max": 625,
            "_view_module": "@jupyter-widgets/controls",
            "_model_module_version": "1.5.0",
            "value": 625,
            "_view_count": null,
            "_view_module_version": "1.5.0",
            "orientation": "horizontal",
            "min": 0,
            "description_tooltip": null,
            "_model_module": "@jupyter-widgets/controls",
            "layout": "IPY_MODEL_f014a03f600d49c9afddf9fcfaac4f46"
          }
        },
        "b09bb491242043ad9b2e394dce618ce8": {
          "model_module": "@jupyter-widgets/controls",
          "model_name": "HTMLModel",
          "state": {
            "_view_name": "HTMLView",
            "style": "IPY_MODEL_c2972db7918f4e85b88c450f3d1fa3df",
            "_dom_classes": [],
            "description": "",
            "_model_name": "HTMLModel",
            "placeholder": "​",
            "_view_module": "@jupyter-widgets/controls",
            "_model_module_version": "1.5.0",
            "value": " 625/625 [00:00&lt;00:00, 1.74kB/s]",
            "_view_count": null,
            "_view_module_version": "1.5.0",
            "description_tooltip": null,
            "_model_module": "@jupyter-widgets/controls",
            "layout": "IPY_MODEL_ff30d95418254110826bc11f68a88365"
          }
        },
        "15ff6e2e95354456843c3006727c6dee": {
          "model_module": "@jupyter-widgets/controls",
          "model_name": "ProgressStyleModel",
          "state": {
            "_view_name": "StyleView",
            "_model_name": "ProgressStyleModel",
            "description_width": "initial",
            "_view_module": "@jupyter-widgets/base",
            "_model_module_version": "1.5.0",
            "_view_count": null,
            "_view_module_version": "1.2.0",
            "bar_color": null,
            "_model_module": "@jupyter-widgets/controls"
          }
        },
        "f014a03f600d49c9afddf9fcfaac4f46": {
          "model_module": "@jupyter-widgets/base",
          "model_name": "LayoutModel",
          "state": {
            "_view_name": "LayoutView",
            "grid_template_rows": null,
            "right": null,
            "justify_content": null,
            "_view_module": "@jupyter-widgets/base",
            "overflow": null,
            "_model_module_version": "1.2.0",
            "_view_count": null,
            "flex_flow": null,
            "width": null,
            "min_width": null,
            "border": null,
            "align_items": null,
            "bottom": null,
            "_model_module": "@jupyter-widgets/base",
            "top": null,
            "grid_column": null,
            "overflow_y": null,
            "overflow_x": null,
            "grid_auto_flow": null,
            "grid_area": null,
            "grid_template_columns": null,
            "flex": null,
            "_model_name": "LayoutModel",
            "justify_items": null,
            "grid_row": null,
            "max_height": null,
            "align_content": null,
            "visibility": null,
            "align_self": null,
            "height": null,
            "min_height": null,
            "padding": null,
            "grid_auto_rows": null,
            "grid_gap": null,
            "max_width": null,
            "order": null,
            "_view_module_version": "1.2.0",
            "grid_template_areas": null,
            "object_position": null,
            "object_fit": null,
            "grid_auto_columns": null,
            "margin": null,
            "display": null,
            "left": null
          }
        },
        "c2972db7918f4e85b88c450f3d1fa3df": {
          "model_module": "@jupyter-widgets/controls",
          "model_name": "DescriptionStyleModel",
          "state": {
            "_view_name": "StyleView",
            "_model_name": "DescriptionStyleModel",
            "description_width": "",
            "_view_module": "@jupyter-widgets/base",
            "_model_module_version": "1.5.0",
            "_view_count": null,
            "_view_module_version": "1.2.0",
            "_model_module": "@jupyter-widgets/controls"
          }
        },
        "ff30d95418254110826bc11f68a88365": {
          "model_module": "@jupyter-widgets/base",
          "model_name": "LayoutModel",
          "state": {
            "_view_name": "LayoutView",
            "grid_template_rows": null,
            "right": null,
            "justify_content": null,
            "_view_module": "@jupyter-widgets/base",
            "overflow": null,
            "_model_module_version": "1.2.0",
            "_view_count": null,
            "flex_flow": null,
            "width": null,
            "min_width": null,
            "border": null,
            "align_items": null,
            "bottom": null,
            "_model_module": "@jupyter-widgets/base",
            "top": null,
            "grid_column": null,
            "overflow_y": null,
            "overflow_x": null,
            "grid_auto_flow": null,
            "grid_area": null,
            "grid_template_columns": null,
            "flex": null,
            "_model_name": "LayoutModel",
            "justify_items": null,
            "grid_row": null,
            "max_height": null,
            "align_content": null,
            "visibility": null,
            "align_self": null,
            "height": null,
            "min_height": null,
            "padding": null,
            "grid_auto_rows": null,
            "grid_gap": null,
            "max_width": null,
            "order": null,
            "_view_module_version": "1.2.0",
            "grid_template_areas": null,
            "object_position": null,
            "object_fit": null,
            "grid_auto_columns": null,
            "margin": null,
            "display": null,
            "left": null
          }
        },
        "e46b9629ec0048a69d71d2efddb3db5a": {
          "model_module": "@jupyter-widgets/controls",
          "model_name": "HBoxModel",
          "state": {
            "_view_name": "HBoxView",
            "_dom_classes": [],
            "_model_name": "HBoxModel",
            "_view_module": "@jupyter-widgets/controls",
            "_model_module_version": "1.5.0",
            "_view_count": null,
            "_view_module_version": "1.5.0",
            "box_style": "",
            "layout": "IPY_MODEL_54cc9c1619d844d8bdf5d48b1cc0b3be",
            "_model_module": "@jupyter-widgets/controls",
            "children": [
              "IPY_MODEL_7954049b84384cb98b8ffe37a9c40f01",
              "IPY_MODEL_5bace8b583004b1ab5138e3e5bf08283"
            ]
          }
        },
        "54cc9c1619d844d8bdf5d48b1cc0b3be": {
          "model_module": "@jupyter-widgets/base",
          "model_name": "LayoutModel",
          "state": {
            "_view_name": "LayoutView",
            "grid_template_rows": null,
            "right": null,
            "justify_content": null,
            "_view_module": "@jupyter-widgets/base",
            "overflow": null,
            "_model_module_version": "1.2.0",
            "_view_count": null,
            "flex_flow": null,
            "width": null,
            "min_width": null,
            "border": null,
            "align_items": null,
            "bottom": null,
            "_model_module": "@jupyter-widgets/base",
            "top": null,
            "grid_column": null,
            "overflow_y": null,
            "overflow_x": null,
            "grid_auto_flow": null,
            "grid_area": null,
            "grid_template_columns": null,
            "flex": null,
            "_model_name": "LayoutModel",
            "justify_items": null,
            "grid_row": null,
            "max_height": null,
            "align_content": null,
            "visibility": null,
            "align_self": null,
            "height": null,
            "min_height": null,
            "padding": null,
            "grid_auto_rows": null,
            "grid_gap": null,
            "max_width": null,
            "order": null,
            "_view_module_version": "1.2.0",
            "grid_template_areas": null,
            "object_position": null,
            "object_fit": null,
            "grid_auto_columns": null,
            "margin": null,
            "display": null,
            "left": null
          }
        },
        "7954049b84384cb98b8ffe37a9c40f01": {
          "model_module": "@jupyter-widgets/controls",
          "model_name": "FloatProgressModel",
          "state": {
            "_view_name": "ProgressView",
            "style": "IPY_MODEL_a132a012c2fb4463adc2886be8183682",
            "_dom_classes": [],
            "description": "Downloading: 100%",
            "_model_name": "FloatProgressModel",
            "bar_style": "success",
            "max": 714314041,
            "_view_module": "@jupyter-widgets/controls",
            "_model_module_version": "1.5.0",
            "value": 714314041,
            "_view_count": null,
            "_view_module_version": "1.5.0",
            "orientation": "horizontal",
            "min": 0,
            "description_tooltip": null,
            "_model_module": "@jupyter-widgets/controls",
            "layout": "IPY_MODEL_f1dc681cb46049cca8e853ff17016b2b"
          }
        },
        "5bace8b583004b1ab5138e3e5bf08283": {
          "model_module": "@jupyter-widgets/controls",
          "model_name": "HTMLModel",
          "state": {
            "_view_name": "HTMLView",
            "style": "IPY_MODEL_7941b685f05844f3be3dc34bb9b7c12b",
            "_dom_classes": [],
            "description": "",
            "_model_name": "HTMLModel",
            "placeholder": "​",
            "_view_module": "@jupyter-widgets/controls",
            "_model_module_version": "1.5.0",
            "value": " 714M/714M [00:14&lt;00:00, 49.6MB/s]",
            "_view_count": null,
            "_view_module_version": "1.5.0",
            "description_tooltip": null,
            "_model_module": "@jupyter-widgets/controls",
            "layout": "IPY_MODEL_118eb57a645342c08d6a296d3ce9ed55"
          }
        },
        "a132a012c2fb4463adc2886be8183682": {
          "model_module": "@jupyter-widgets/controls",
          "model_name": "ProgressStyleModel",
          "state": {
            "_view_name": "StyleView",
            "_model_name": "ProgressStyleModel",
            "description_width": "initial",
            "_view_module": "@jupyter-widgets/base",
            "_model_module_version": "1.5.0",
            "_view_count": null,
            "_view_module_version": "1.2.0",
            "bar_color": null,
            "_model_module": "@jupyter-widgets/controls"
          }
        },
        "f1dc681cb46049cca8e853ff17016b2b": {
          "model_module": "@jupyter-widgets/base",
          "model_name": "LayoutModel",
          "state": {
            "_view_name": "LayoutView",
            "grid_template_rows": null,
            "right": null,
            "justify_content": null,
            "_view_module": "@jupyter-widgets/base",
            "overflow": null,
            "_model_module_version": "1.2.0",
            "_view_count": null,
            "flex_flow": null,
            "width": null,
            "min_width": null,
            "border": null,
            "align_items": null,
            "bottom": null,
            "_model_module": "@jupyter-widgets/base",
            "top": null,
            "grid_column": null,
            "overflow_y": null,
            "overflow_x": null,
            "grid_auto_flow": null,
            "grid_area": null,
            "grid_template_columns": null,
            "flex": null,
            "_model_name": "LayoutModel",
            "justify_items": null,
            "grid_row": null,
            "max_height": null,
            "align_content": null,
            "visibility": null,
            "align_self": null,
            "height": null,
            "min_height": null,
            "padding": null,
            "grid_auto_rows": null,
            "grid_gap": null,
            "max_width": null,
            "order": null,
            "_view_module_version": "1.2.0",
            "grid_template_areas": null,
            "object_position": null,
            "object_fit": null,
            "grid_auto_columns": null,
            "margin": null,
            "display": null,
            "left": null
          }
        },
        "7941b685f05844f3be3dc34bb9b7c12b": {
          "model_module": "@jupyter-widgets/controls",
          "model_name": "DescriptionStyleModel",
          "state": {
            "_view_name": "StyleView",
            "_model_name": "DescriptionStyleModel",
            "description_width": "",
            "_view_module": "@jupyter-widgets/base",
            "_model_module_version": "1.5.0",
            "_view_count": null,
            "_view_module_version": "1.2.0",
            "_model_module": "@jupyter-widgets/controls"
          }
        },
        "118eb57a645342c08d6a296d3ce9ed55": {
          "model_module": "@jupyter-widgets/base",
          "model_name": "LayoutModel",
          "state": {
            "_view_name": "LayoutView",
            "grid_template_rows": null,
            "right": null,
            "justify_content": null,
            "_view_module": "@jupyter-widgets/base",
            "overflow": null,
            "_model_module_version": "1.2.0",
            "_view_count": null,
            "flex_flow": null,
            "width": null,
            "min_width": null,
            "border": null,
            "align_items": null,
            "bottom": null,
            "_model_module": "@jupyter-widgets/base",
            "top": null,
            "grid_column": null,
            "overflow_y": null,
            "overflow_x": null,
            "grid_auto_flow": null,
            "grid_area": null,
            "grid_template_columns": null,
            "flex": null,
            "_model_name": "LayoutModel",
            "justify_items": null,
            "grid_row": null,
            "max_height": null,
            "align_content": null,
            "visibility": null,
            "align_self": null,
            "height": null,
            "min_height": null,
            "padding": null,
            "grid_auto_rows": null,
            "grid_gap": null,
            "max_width": null,
            "order": null,
            "_view_module_version": "1.2.0",
            "grid_template_areas": null,
            "object_position": null,
            "object_fit": null,
            "grid_auto_columns": null,
            "margin": null,
            "display": null,
            "left": null
          }
        }
      }
    }
  },
  "cells": [
    {
      "cell_type": "markdown",
      "metadata": {
        "id": "view-in-github",
        "colab_type": "text"
      },
      "source": [
        "<a href=\"https://colab.research.google.com/github/yklove1025/Ensamble-Sentiment-Analysis-for-Korean-English/blob/main/Sentiment_analysis_korean_KSB_original.ipynb\" target=\"_parent\"><img src=\"https://colab.research.google.com/assets/colab-badge.svg\" alt=\"Open In Colab\"/></a>"
      ]
    },
    {
      "cell_type": "markdown",
      "metadata": {
        "id": "vYJtT3GqGs4M"
      },
      "source": [
        "# **앙상블 한국어 감정분석 모델**\r\n",
        "\r\n",
        "본 한국어 감정분석 모델은 고려대학교 디지털금융공학과 DFE610 디지털금융공학을 위한 자연어처리기술 수업의 과제를 수행하기 위해 개발한 모델이다.\r\n",
        "\r\n",
        "본 앙상블 한국어 감정분석 모델은 앙상블 감정분석 대상 모델로 본 과정 수업 실습자료인 'Transformer를 이용한 감정분석 모델', 'CNN을 이용한 감정분석 모델' 과 '네이버 영화리뷰 감정분석 with Hugging Face BERT' 모델을 실습자료로 제공된 소스와 오픈소스를 참고하여 구성하였다.\r\n",
        "\r\n",
        "\r\n",
        "1.   모델의 오픈소스 참고 출처\r\n",
        "- 모델의 오픈소스 참고 출처\r\n",
        "\r\n",
        "\r\n",
        "\r\n",
        "> Transformer를 이용한 감정분석 모델 : Transformer를 이용한 감정분석 모델 : https://github.com/Parkchanjun/KU-NLP-2020-1, [5] Transformer를_이용한_감정분석_한국어.ipynb\r\n",
        "\r\n",
        "\r\n",
        "> CNN을 이용한 감정분석 모델 : https://github.com/Parkchanjun/KU-NLP-2020-1, [3] CNN_Sentiment_Analysis.ipynb\r\n",
        "\r\n",
        "\r\n",
        "> 네이버 영화리뷰 감정분석 with Hugging Face BERT : https://colab.research.google.com/drive/13AMh8N9tEIw5rmxgc1fQfS8581mWegxj\r\n",
        "\r\n",
        "\r\n",
        "2. 상세사항\r\n",
        "- 아래 깃허브의 Readme.md 확인\r\n",
        "\r\n",
        "  https://github.com/yklove1025/Ensamble-Sentiment-Analysis-for-Korean\r\n",
        "\r\n",
        "3. 실행환경\r\n",
        "- 본 소스는 구글 Colab에서 작성됨 \r\n",
        "- 본 소스의 실행을 위해서는 Colab Pro 환경이 필요(GPU 메모리 필요)\r\n",
        "- ① 실행 후 런타임 초기화 ② 순차 실행 → 종료 후 ③ 실행 (실행순번 표기)\r\n",
        "- BERT 모델 저장 후 업로드 시에도 메모리 문제 발생 가능함(재실행 권장) \r\n"
      ]
    },
    {
      "cell_type": "markdown",
      "metadata": {
        "id": "UhEEBCofxwdu"
      },
      "source": [
        "**Hugging Face의 Transformer Model 설치 ①,②**"
      ]
    },
    {
      "cell_type": "code",
      "metadata": {
        "colab": {
          "base_uri": "https://localhost:8080/"
        },
        "id": "l5JqXdFpxwAC",
        "outputId": "7eb12f42-5492-47b8-fde7-9293abef6316"
      },
      "source": [
        "!pip install transformers"
      ],
      "execution_count": null,
      "outputs": [
        {
          "output_type": "stream",
          "text": [
            "Collecting transformers\n",
            "\u001b[?25l  Downloading https://files.pythonhosted.org/packages/50/0c/7d5950fcd80b029be0a8891727ba21e0cd27692c407c51261c3c921f6da3/transformers-4.1.1-py3-none-any.whl (1.5MB)\n",
            "\u001b[K     |████████████████████████████████| 1.5MB 11.4MB/s \n",
            "\u001b[?25hCollecting sacremoses\n",
            "\u001b[?25l  Downloading https://files.pythonhosted.org/packages/7d/34/09d19aff26edcc8eb2a01bed8e98f13a1537005d31e95233fd48216eed10/sacremoses-0.0.43.tar.gz (883kB)\n",
            "\u001b[K     |████████████████████████████████| 890kB 48.6MB/s \n",
            "\u001b[?25hRequirement already satisfied: requests in /usr/local/lib/python3.6/dist-packages (from transformers) (2.23.0)\n",
            "Requirement already satisfied: packaging in /usr/local/lib/python3.6/dist-packages (from transformers) (20.8)\n",
            "Requirement already satisfied: regex!=2019.12.17 in /usr/local/lib/python3.6/dist-packages (from transformers) (2019.12.20)\n",
            "Requirement already satisfied: tqdm>=4.27 in /usr/local/lib/python3.6/dist-packages (from transformers) (4.41.1)\n",
            "Requirement already satisfied: filelock in /usr/local/lib/python3.6/dist-packages (from transformers) (3.0.12)\n",
            "Requirement already satisfied: dataclasses; python_version < \"3.7\" in /usr/local/lib/python3.6/dist-packages (from transformers) (0.8)\n",
            "Collecting tokenizers==0.9.4\n",
            "\u001b[?25l  Downloading https://files.pythonhosted.org/packages/0f/1c/e789a8b12e28be5bc1ce2156cf87cb522b379be9cadc7ad8091a4cc107c4/tokenizers-0.9.4-cp36-cp36m-manylinux2010_x86_64.whl (2.9MB)\n",
            "\u001b[K     |████████████████████████████████| 2.9MB 38.8MB/s \n",
            "\u001b[?25hRequirement already satisfied: numpy in /usr/local/lib/python3.6/dist-packages (from transformers) (1.19.4)\n",
            "Requirement already satisfied: six in /usr/local/lib/python3.6/dist-packages (from sacremoses->transformers) (1.15.0)\n",
            "Requirement already satisfied: click in /usr/local/lib/python3.6/dist-packages (from sacremoses->transformers) (7.1.2)\n",
            "Requirement already satisfied: joblib in /usr/local/lib/python3.6/dist-packages (from sacremoses->transformers) (1.0.0)\n",
            "Requirement already satisfied: chardet<4,>=3.0.2 in /usr/local/lib/python3.6/dist-packages (from requests->transformers) (3.0.4)\n",
            "Requirement already satisfied: certifi>=2017.4.17 in /usr/local/lib/python3.6/dist-packages (from requests->transformers) (2020.12.5)\n",
            "Requirement already satisfied: idna<3,>=2.5 in /usr/local/lib/python3.6/dist-packages (from requests->transformers) (2.10)\n",
            "Requirement already satisfied: urllib3!=1.25.0,!=1.25.1,<1.26,>=1.21.1 in /usr/local/lib/python3.6/dist-packages (from requests->transformers) (1.24.3)\n",
            "Requirement already satisfied: pyparsing>=2.0.2 in /usr/local/lib/python3.6/dist-packages (from packaging->transformers) (2.4.7)\n",
            "Building wheels for collected packages: sacremoses\n",
            "  Building wheel for sacremoses (setup.py) ... \u001b[?25l\u001b[?25hdone\n",
            "  Created wheel for sacremoses: filename=sacremoses-0.0.43-cp36-none-any.whl size=893261 sha256=3d60ed2198d91ac5d0f2cb4f6c17a4c89124aee95ce6ce370496fabaecb0b761\n",
            "  Stored in directory: /root/.cache/pip/wheels/29/3c/fd/7ce5c3f0666dab31a50123635e6fb5e19ceb42ce38d4e58f45\n",
            "Successfully built sacremoses\n",
            "Installing collected packages: sacremoses, tokenizers, transformers\n",
            "Successfully installed sacremoses-0.0.43 tokenizers-0.9.4 transformers-4.1.1\n"
          ],
          "name": "stdout"
        }
      ]
    },
    {
      "cell_type": "markdown",
      "metadata": {
        "id": "GLqWbfuZymBa"
      },
      "source": [
        "**한국어 형태소 분석기(Konlpy) 설치 ①,②**"
      ]
    },
    {
      "cell_type": "code",
      "metadata": {
        "colab": {
          "base_uri": "https://localhost:8080/"
        },
        "id": "8IDpLcuQylfc",
        "outputId": "18301c28-5ed8-4146-a64a-dc8f0cbfb667"
      },
      "source": [
        "!pip install konlpy"
      ],
      "execution_count": null,
      "outputs": [
        {
          "output_type": "stream",
          "text": [
            "Collecting konlpy\n",
            "\u001b[?25l  Downloading https://files.pythonhosted.org/packages/85/0e/f385566fec837c0b83f216b2da65db9997b35dd675e107752005b7d392b1/konlpy-0.5.2-py2.py3-none-any.whl (19.4MB)\n",
            "\u001b[K     |████████████████████████████████| 19.4MB 64.3MB/s \n",
            "\u001b[?25hCollecting colorama\n",
            "  Downloading https://files.pythonhosted.org/packages/44/98/5b86278fbbf250d239ae0ecb724f8572af1c91f4a11edf4d36a206189440/colorama-0.4.4-py2.py3-none-any.whl\n",
            "Requirement already satisfied: lxml>=4.1.0 in /usr/local/lib/python3.6/dist-packages (from konlpy) (4.2.6)\n",
            "Collecting JPype1>=0.7.0\n",
            "\u001b[?25l  Downloading https://files.pythonhosted.org/packages/b7/21/9e2c0dbf9df856e6392a1aec1d18006c60b175aa4e31d351e8278a8a63c0/JPype1-1.2.0-cp36-cp36m-manylinux2010_x86_64.whl (453kB)\n",
            "\u001b[K     |████████████████████████████████| 460kB 43.7MB/s \n",
            "\u001b[?25hCollecting beautifulsoup4==4.6.0\n",
            "\u001b[?25l  Downloading https://files.pythonhosted.org/packages/9e/d4/10f46e5cfac773e22707237bfcd51bbffeaf0a576b0a847ec7ab15bd7ace/beautifulsoup4-4.6.0-py3-none-any.whl (86kB)\n",
            "\u001b[K     |████████████████████████████████| 92kB 9.4MB/s \n",
            "\u001b[?25hCollecting tweepy>=3.7.0\n",
            "  Downloading https://files.pythonhosted.org/packages/bb/7c/99d51f80f3b77b107ebae2634108717362c059a41384a1810d13e2429a81/tweepy-3.9.0-py2.py3-none-any.whl\n",
            "Requirement already satisfied: numpy>=1.6 in /usr/local/lib/python3.6/dist-packages (from konlpy) (1.19.4)\n",
            "Requirement already satisfied: typing-extensions; python_version < \"3.8\" in /usr/local/lib/python3.6/dist-packages (from JPype1>=0.7.0->konlpy) (3.7.4.3)\n",
            "Requirement already satisfied: requests-oauthlib>=0.7.0 in /usr/local/lib/python3.6/dist-packages (from tweepy>=3.7.0->konlpy) (1.3.0)\n",
            "Requirement already satisfied: requests[socks]>=2.11.1 in /usr/local/lib/python3.6/dist-packages (from tweepy>=3.7.0->konlpy) (2.23.0)\n",
            "Requirement already satisfied: six>=1.10.0 in /usr/local/lib/python3.6/dist-packages (from tweepy>=3.7.0->konlpy) (1.15.0)\n",
            "Requirement already satisfied: oauthlib>=3.0.0 in /usr/local/lib/python3.6/dist-packages (from requests-oauthlib>=0.7.0->tweepy>=3.7.0->konlpy) (3.1.0)\n",
            "Requirement already satisfied: chardet<4,>=3.0.2 in /usr/local/lib/python3.6/dist-packages (from requests[socks]>=2.11.1->tweepy>=3.7.0->konlpy) (3.0.4)\n",
            "Requirement already satisfied: certifi>=2017.4.17 in /usr/local/lib/python3.6/dist-packages (from requests[socks]>=2.11.1->tweepy>=3.7.0->konlpy) (2020.12.5)\n",
            "Requirement already satisfied: idna<3,>=2.5 in /usr/local/lib/python3.6/dist-packages (from requests[socks]>=2.11.1->tweepy>=3.7.0->konlpy) (2.10)\n",
            "Requirement already satisfied: urllib3!=1.25.0,!=1.25.1,<1.26,>=1.21.1 in /usr/local/lib/python3.6/dist-packages (from requests[socks]>=2.11.1->tweepy>=3.7.0->konlpy) (1.24.3)\n",
            "Requirement already satisfied: PySocks!=1.5.7,>=1.5.6; extra == \"socks\" in /usr/local/lib/python3.6/dist-packages (from requests[socks]>=2.11.1->tweepy>=3.7.0->konlpy) (1.7.1)\n",
            "Installing collected packages: colorama, JPype1, beautifulsoup4, tweepy, konlpy\n",
            "  Found existing installation: beautifulsoup4 4.6.3\n",
            "    Uninstalling beautifulsoup4-4.6.3:\n",
            "      Successfully uninstalled beautifulsoup4-4.6.3\n",
            "  Found existing installation: tweepy 3.6.0\n",
            "    Uninstalling tweepy-3.6.0:\n",
            "      Successfully uninstalled tweepy-3.6.0\n",
            "Successfully installed JPype1-1.2.0 beautifulsoup4-4.6.0 colorama-0.4.4 konlpy-0.5.2 tweepy-3.9.0\n"
          ],
          "name": "stdout"
        }
      ]
    },
    {
      "cell_type": "markdown",
      "metadata": {
        "id": "bwDEBVLWyUNT"
      },
      "source": [
        "**학습 데이터 다운로드 (Naver, NSMC) ①,②**"
      ]
    },
    {
      "cell_type": "code",
      "metadata": {
        "colab": {
          "base_uri": "https://localhost:8080/"
        },
        "id": "ONoF6NmlyfNI",
        "outputId": "1c364921-ed2c-4434-ab7d-76b26614f02f"
      },
      "source": [
        "!git clone https://github.com/e9t/nsmc.git"
      ],
      "execution_count": null,
      "outputs": [
        {
          "output_type": "stream",
          "text": [
            "Cloning into 'nsmc'...\n",
            "remote: Enumerating objects: 14763, done.\u001b[K\n",
            "remote: Total 14763 (delta 0), reused 0 (delta 0), pack-reused 14763\u001b[K\n",
            "Receiving objects: 100% (14763/14763), 56.19 MiB | 7.44 MiB/s, done.\n",
            "Resolving deltas: 100% (1749/1749), done.\n",
            "Checking out files: 100% (14737/14737), done.\n"
          ],
          "name": "stdout"
        }
      ]
    },
    {
      "cell_type": "markdown",
      "metadata": {
        "id": "SnN3tSuknnu_"
      },
      "source": [
        "**Glove 다운로드 ①**"
      ]
    },
    {
      "cell_type": "code",
      "metadata": {
        "colab": {
          "base_uri": "https://localhost:8080/"
        },
        "id": "Yj0W3NxanlI7",
        "outputId": "5aff5e2f-003d-41fc-a911-3efc3b89cec5"
      },
      "source": [
        "#Glove 다운로드\n",
        "#출처: https://nlp.stanford.edu/projects/glove/\n",
        "!wget http://nlp.stanford.edu/data/glove.6B.zip\n",
        "!unzip glove*.zip"
      ],
      "execution_count": null,
      "outputs": [
        {
          "output_type": "stream",
          "text": [
            "--2020-12-20 00:53:35--  http://nlp.stanford.edu/data/glove.6B.zip\n",
            "Resolving nlp.stanford.edu (nlp.stanford.edu)... 171.64.67.140\n",
            "Connecting to nlp.stanford.edu (nlp.stanford.edu)|171.64.67.140|:80... connected.\n",
            "HTTP request sent, awaiting response... 302 Found\n",
            "Location: https://nlp.stanford.edu/data/glove.6B.zip [following]\n",
            "--2020-12-20 00:53:36--  https://nlp.stanford.edu/data/glove.6B.zip\n",
            "Connecting to nlp.stanford.edu (nlp.stanford.edu)|171.64.67.140|:443... connected.\n",
            "HTTP request sent, awaiting response... 301 Moved Permanently\n",
            "Location: http://downloads.cs.stanford.edu/nlp/data/glove.6B.zip [following]\n",
            "--2020-12-20 00:53:36--  http://downloads.cs.stanford.edu/nlp/data/glove.6B.zip\n",
            "Resolving downloads.cs.stanford.edu (downloads.cs.stanford.edu)... 171.64.64.22\n",
            "Connecting to downloads.cs.stanford.edu (downloads.cs.stanford.edu)|171.64.64.22|:80... connected.\n",
            "HTTP request sent, awaiting response... 200 OK\n",
            "Length: 862182613 (822M) [application/zip]\n",
            "Saving to: ‘glove.6B.zip’\n",
            "\n",
            "glove.6B.zip        100%[===================>] 822.24M  2.01MB/s    in 6m 41s  \n",
            "\n",
            "2020-12-20 01:00:17 (2.05 MB/s) - ‘glove.6B.zip’ saved [862182613/862182613]\n",
            "\n",
            "Archive:  glove.6B.zip\n",
            "  inflating: glove.6B.50d.txt        \n",
            "  inflating: glove.6B.100d.txt       \n",
            "  inflating: glove.6B.200d.txt       \n",
            "  inflating: glove.6B.300d.txt       \n"
          ],
          "name": "stdout"
        }
      ]
    },
    {
      "cell_type": "markdown",
      "metadata": {
        "id": "zDwwo4bLxHkX"
      },
      "source": [
        "**공통 패키지 Import ①,②**\n",
        "\n",
        "BERT, CNN, Transformer 모듈에 필요한 라이브러리 Import"
      ]
    },
    {
      "cell_type": "code",
      "metadata": {
        "id": "qX2FdeQZxoPy"
      },
      "source": [
        "import pandas as pd\n",
        "import numpy as np\n",
        "import random\n",
        "import time\n",
        "import datetime\n",
        "import torch\n",
        "import tensorflow as tf\n",
        "import keras\n",
        "import os\n",
        "import nltk\n",
        "import matplotlib.pyplot as plt\n",
        "\n",
        "from tensorflow import keras\n",
        "from tensorflow.keras import layers\n",
        "from tensorflow.keras.preprocessing.sequence import pad_sequences\n",
        "from tensorflow.keras.preprocessing.text import Tokenizer\n",
        "\n",
        "from transformers import BertTokenizer\n",
        "from transformers import BertForSequenceClassification, AdamW, BertConfig\n",
        "from transformers import get_linear_schedule_with_warmup\n",
        "\n",
        "from torch.utils.data import TensorDataset, DataLoader, RandomSampler, SequentialSampler\n",
        "\n",
        "from sklearn.model_selection import train_test_split\n",
        "from sklearn.ensemble import BaggingClassifier\n",
        "from sklearn.neighbors import KNeighborsClassifier\n",
        "from sklearn.linear_model import LogisticRegression\n",
        "from sklearn.naive_bayes import GaussianNB\n",
        "from sklearn.ensemble import RandomForestClassifier, VotingClassifier\n",
        "from sklearn.metrics import accuracy_score, recall_score, precision_score, f1_score\n",
        "\n",
        "from keras.models import Sequential\n",
        "from keras import layers\n",
        "from keras.models import Model\n",
        "from keras.models import load_model\n",
        "from keras.preprocessing.text import Tokenizer\n",
        "from keras.preprocessing.sequence import pad_sequences\n",
        "\n",
        "from konlpy.tag import Okt\n",
        "from konlpy.tag import Kkma\n",
        "from konlpy.tag import Hannanum\n",
        "from konlpy.tag import Komoran\n",
        "from konlpy.tag import Twitter"
      ],
      "execution_count": null,
      "outputs": []
    },
    {
      "cell_type": "markdown",
      "metadata": {
        "id": "cF3XuToCzbYl"
      },
      "source": [
        "**데이터 로드 ①,②** "
      ]
    },
    {
      "cell_type": "code",
      "metadata": {
        "colab": {
          "base_uri": "https://localhost:8080/"
        },
        "id": "tpq0DeMszdMO",
        "outputId": "1807e891-b043-44df-e5ca-85da06eaa8fe"
      },
      "source": [
        "train = pd.read_csv(\"nsmc/ratings_train.txt\", sep='\\t')\n",
        "test = pd.read_csv(\"nsmc/ratings_test.txt\", sep='\\t')\n",
        "\n",
        "print(train.shape)\n",
        "print(test.shape)"
      ],
      "execution_count": null,
      "outputs": [
        {
          "output_type": "stream",
          "text": [
            "(150000, 3)\n",
            "(50000, 3)\n"
          ],
          "name": "stdout"
        }
      ]
    },
    {
      "cell_type": "markdown",
      "metadata": {
        "id": "dClWALD-3k82"
      },
      "source": [
        "**테스트, 트레이닝 변수 선언 ①,②**"
      ]
    },
    {
      "cell_type": "code",
      "metadata": {
        "id": "nWAP_0DyYsdZ"
      },
      "source": [
        "X_train = []\n",
        "X_test = []\n",
        "okt = Okt()"
      ],
      "execution_count": null,
      "outputs": []
    },
    {
      "cell_type": "markdown",
      "metadata": {
        "id": "jSWTsppLpxoR"
      },
      "source": [
        "**트레이닝, 테스트 Document 형태소 분리 전처리 ①**"
      ]
    },
    {
      "cell_type": "code",
      "metadata": {
        "colab": {
          "base_uri": "https://localhost:8080/"
        },
        "id": "MsA76Cfi2iCD",
        "outputId": "69681d09-a733-44ae-baab-4713f389e4d5"
      },
      "source": [
        "sentences = train['document']\n",
        "\n",
        "X_train = [okt.morphs(word) for word in sentences.astype(str)]\n",
        "print('x_train : ', X_train[:10])"
      ],
      "execution_count": null,
      "outputs": [
        {
          "output_type": "stream",
          "text": [
            "x_train :  [['아', '더빙', '..', '진짜', '짜증나네요', '목소리'], ['흠', '...', '포스터', '보고', '초딩', '영화', '줄', '....', '오버', '연기', '조차', '가볍지', '않구나'], ['너', '무재', '밓었', '다그', '래서', '보는것을', '추천', '한', '다'], ['교도소', '이야기', '구먼', '..', '솔직히', '재미', '는', '없다', '..', '평점', '조정'], ['사이', '몬페', '그', '의', '익살스런', '연기', '가', '돋보였던', '영화', '!', '스파이더맨', '에서', '늙어', '보이기만', '했던', '커스틴', '던스트', '가', '너무나도', '이뻐', '보였다'], ['막', '걸음', '마', '뗀', '3', '세', '부터', '초등학교', '1', '학년', '생인', '8', '살용', '영화', '.', 'ㅋㅋㅋ', '...', '별', '반개', '도', '아까', '움', '.'], ['원작', '의', '긴장감', '을', '제대로', '살려내지못', '했다', '.'], ['별', '반개', '도', '아깝다', '욕', '나온다', '이응경', '길용우', '연', '기', '생활', '이', '몇', '년', '인지', '..', '정말', '발', '로', '해도', '그것', '보단', '낫겟다', '납치', '.', '감금', '만', '반복', '반복', '..', '이', '드라마', '는', '가족', '도', '없다', '연기', '못', '하는', '사람', '만', '모', '엿', '네'], ['액션', '이', '없는데도', '재미', '있는', '몇', '안되는', '영화'], ['왜케', '평점', '이', '낮은건데', '?', '꽤', '볼', '만', '한', '데', '..', '헐리우드', '식', '화려함에만', '너무', '길들여져', '있나', '?']]\n"
          ],
          "name": "stdout"
        }
      ]
    },
    {
      "cell_type": "code",
      "metadata": {
        "id": "qWIxZ71A9Y24",
        "colab": {
          "base_uri": "https://localhost:8080/"
        },
        "outputId": "7febff76-947d-4353-e02a-4829f1974f27"
      },
      "source": [
        "sentences = test['document']\n",
        "\n",
        "X_test = [okt.morphs(word) for word in sentences.astype(str)]\n",
        "print('x_test : ', X_test[:10])"
      ],
      "execution_count": null,
      "outputs": [
        {
          "output_type": "stream",
          "text": [
            "x_test :  [['굳', 'ㅋ'], ['GDNTOPCLASSINTHECLUB'], ['뭐', '야', '이', '평점', '들', '은', '....', '나쁘진', '않지만', '10', '점', '짜', '리', '는', '더', '더욱', '아니잖아'], ['지루하지는', '않은데', '완전', '막장', '임', '...', '돈', '주고', '보기', '에는', '....'], ['3', 'D', '만', '아니었어도', '별', '다섯', '개', '줬을텐데', '..', '왜', '3', 'D', '로', '나와서', '제', '심기', '를', '불편하게', '하죠', '??'], ['음악', '이', '주가', '된', ',', '최고', '의', '음악', '영화'], ['진정한', '쓰레기'], ['마치', '미국', '애니', '에서', '튀어나온듯', '한', '창의력', '없는', '로봇', '디자인', '부터가', ',', '고개', '를', '젖게', '한다'], ['갈수록', '개판', '되가는', '중국영화', '유치하고', '내용', '없음', '폼', '잡다', '끝남', '말', '도', '안되는', '무기', '에', '유치한', 'cg', '남무', '아', '그립다', '동사서독', '같은', '영화', '가', '이건', '3', '류', '아', '류작', '이다'], ['이별', '의', '아픔', '뒤', '에', '찾아오는', '새로운', '인연', '의', '기쁨', 'But', ',', '모든', '사람', '이', '그렇지는', '않네', '..']]\n"
          ],
          "name": "stdout"
        }
      ]
    },
    {
      "cell_type": "code",
      "metadata": {
        "colab": {
          "base_uri": "https://localhost:8080/"
        },
        "id": "yuNuvxLzx6es",
        "outputId": "8fb9e46b-7aed-4467-fd36-52fc444689e5"
      },
      "source": [
        "print(np.shape(X_test))\n",
        "print(np.shape(X_train))"
      ],
      "execution_count": null,
      "outputs": [
        {
          "output_type": "stream",
          "text": [
            "(50000,)\n",
            "(150000,)\n"
          ],
          "name": "stdout"
        },
        {
          "output_type": "stream",
          "text": [
            "/usr/local/lib/python3.6/dist-packages/numpy/core/_asarray.py:83: VisibleDeprecationWarning: Creating an ndarray from ragged nested sequences (which is a list-or-tuple of lists-or-tuples-or ndarrays with different lengths or shapes) is deprecated. If you meant to do this, you must specify 'dtype=object' when creating the ndarray\n",
            "  return array(a, dtype, copy=False, order=order)\n"
          ],
          "name": "stderr"
        }
      ]
    },
    {
      "cell_type": "markdown",
      "metadata": {
        "id": "HGEPaFJRrZR8"
      },
      "source": [
        "- Lable data set ①,②"
      ]
    },
    {
      "cell_type": "code",
      "metadata": {
        "id": "HrYafYyYrZ4Q"
      },
      "source": [
        "labels_train = train['label'].values\r\n",
        "labels_test = test['label'].values"
      ],
      "execution_count": null,
      "outputs": []
    },
    {
      "cell_type": "markdown",
      "metadata": {
        "id": "SwnXeVp6xBdr"
      },
      "source": [
        "**Transformer, CNN 모델 텍스트 데이터 패딩 및 문장 처리 ①**"
      ]
    },
    {
      "cell_type": "code",
      "metadata": {
        "id": "H5fYss9kw_L6"
      },
      "source": [
        "tokenizer = Tokenizer()\n",
        "\n",
        "tokenizer.fit_on_texts(X_train) #단어 인덱스를 구축합니다.\n",
        "tokenizer.fit_on_texts(X_test) \n",
        "\n",
        "X_train = tokenizer.texts_to_sequences(X_train) #문자열을 정수 인덱스의 리스트로 변환합니다.\n",
        "X_test = tokenizer.texts_to_sequences(X_test) \n",
        "\n",
        "maxlen = 128  \n",
        "vocab_size = len(tokenizer.word_index)+1 # 단어의 수\n",
        "\n",
        "X_train = keras.preprocessing.sequence.pad_sequences(X_train, maxlen=maxlen)#패딩\n",
        "X_test = keras.preprocessing.sequence.pad_sequences(X_test, maxlen=maxlen)"
      ],
      "execution_count": null,
      "outputs": []
    },
    {
      "cell_type": "code",
      "metadata": {
        "id": "-eLaN1V_vOtq"
      },
      "source": [
        "def create_embedding_matrix(filepath, word_index, embedding_dim):\n",
        "    vocab_size = len(word_index) + 1  # Adding again 1 because of reserved 0 index\n",
        "    embedding_matrix = np.zeros((vocab_size, embedding_dim))\n",
        "\n",
        "    with open(filepath) as f:\n",
        "        for line in f:\n",
        "            word, *vector = line.split()\n",
        "            if word in word_index:\n",
        "                idx = word_index[word] \n",
        "                embedding_matrix[idx] = np.array(\n",
        "                    vector, dtype=np.float32)[:embedding_dim]\n",
        "\n",
        "    return embedding_matrix\n",
        "\n",
        "EMBEDDING_DIM = 50 #100\n",
        "embedding_matrix = create_embedding_matrix(\n",
        "    './glove.6B.50d.txt',\n",
        "    tokenizer.word_index, EMBEDDING_DIM\n",
        "    )"
      ],
      "execution_count": null,
      "outputs": []
    },
    {
      "cell_type": "markdown",
      "metadata": {
        "id": "4XWJd10iwioI"
      },
      "source": [
        "**BERT 모델 텍스트 전처리 ①,②**"
      ]
    },
    {
      "cell_type": "code",
      "metadata": {
        "colab": {
          "base_uri": "https://localhost:8080/"
        },
        "id": "IjEiIEwPwpnD",
        "outputId": "cc0303b2-59a3-4625-d88d-581c13d43c0d"
      },
      "source": [
        "sentences = train['document']\n",
        "\n",
        "X_train_bert = [\"[CLS] \" + str(sentence) + \" [SEP]\" for sentence in sentences]\n",
        "X_train_bert[:10]"
      ],
      "execution_count": null,
      "outputs": [
        {
          "output_type": "execute_result",
          "data": {
            "text/plain": [
              "['[CLS] 아 더빙.. 진짜 짜증나네요 목소리 [SEP]',\n",
              " '[CLS] 흠...포스터보고 초딩영화줄....오버연기조차 가볍지 않구나 [SEP]',\n",
              " '[CLS] 너무재밓었다그래서보는것을추천한다 [SEP]',\n",
              " '[CLS] 교도소 이야기구먼 ..솔직히 재미는 없다..평점 조정 [SEP]',\n",
              " '[CLS] 사이몬페그의 익살스런 연기가 돋보였던 영화!스파이더맨에서 늙어보이기만 했던 커스틴 던스트가 너무나도 이뻐보였다 [SEP]',\n",
              " '[CLS] 막 걸음마 뗀 3세부터 초등학교 1학년생인 8살용영화.ㅋㅋㅋ...별반개도 아까움. [SEP]',\n",
              " '[CLS] 원작의 긴장감을 제대로 살려내지못했다. [SEP]',\n",
              " '[CLS] 별 반개도 아깝다 욕나온다 이응경 길용우 연기생활이몇년인지..정말 발로해도 그것보단 낫겟다 납치.감금만반복반복..이드라마는 가족도없다 연기못하는사람만모엿네 [SEP]',\n",
              " '[CLS] 액션이 없는데도 재미 있는 몇안되는 영화 [SEP]',\n",
              " '[CLS] 왜케 평점이 낮은건데? 꽤 볼만한데.. 헐리우드식 화려함에만 너무 길들여져 있나? [SEP]']"
            ]
          },
          "metadata": {
            "tags": []
          },
          "execution_count": 8
        }
      ]
    },
    {
      "cell_type": "code",
      "metadata": {
        "colab": {
          "base_uri": "https://localhost:8080/"
        },
        "id": "tKwanaldyv0w",
        "outputId": "cd7d0523-4680-49e0-ce6d-e6d6e9dfe7a3"
      },
      "source": [
        "sentences = test['document']\n",
        "\n",
        "X_test_bert = [\"[CLS] \" + str(sentence) + \" [SEP]\" for sentence in sentences]\n",
        "X_test_bert[:10]"
      ],
      "execution_count": null,
      "outputs": [
        {
          "output_type": "execute_result",
          "data": {
            "text/plain": [
              "['[CLS] 굳 ㅋ [SEP]',\n",
              " '[CLS] GDNTOPCLASSINTHECLUB [SEP]',\n",
              " '[CLS] 뭐야 이 평점들은.... 나쁘진 않지만 10점 짜리는 더더욱 아니잖아 [SEP]',\n",
              " '[CLS] 지루하지는 않은데 완전 막장임... 돈주고 보기에는.... [SEP]',\n",
              " '[CLS] 3D만 아니었어도 별 다섯 개 줬을텐데.. 왜 3D로 나와서 제 심기를 불편하게 하죠?? [SEP]',\n",
              " '[CLS] 음악이 주가 된, 최고의 음악영화 [SEP]',\n",
              " '[CLS] 진정한 쓰레기 [SEP]',\n",
              " '[CLS] 마치 미국애니에서 튀어나온듯한 창의력없는 로봇디자인부터가,고개를 젖게한다 [SEP]',\n",
              " '[CLS] 갈수록 개판되가는 중국영화 유치하고 내용없음 폼잡다 끝남 말도안되는 무기에 유치한cg남무 아 그립다 동사서독같은 영화가 이건 3류아류작이다 [SEP]',\n",
              " '[CLS] 이별의 아픔뒤에 찾아오는 새로운 인연의 기쁨 But, 모든 사람이 그렇지는 않네.. [SEP]']"
            ]
          },
          "metadata": {
            "tags": []
          },
          "execution_count": 9
        }
      ]
    },
    {
      "cell_type": "markdown",
      "metadata": {
        "id": "9L3Hu-4LiJRC"
      },
      "source": [
        "**앙상블 테스트를 위한 모델 정확도 산출 함수 선언(1만개 테스트 데이터 대상) ①,②**"
      ]
    },
    {
      "cell_type": "code",
      "metadata": {
        "id": "hxW0nmsviJxn"
      },
      "source": [
        "def convert_acc (x) :\r\n",
        "\r\n",
        "    acc = []\r\n",
        "\r\n",
        "    for i, row in x.iterrows() :\r\n",
        "      if x.at[i, 'Predicted'] == x.at[i, 'label'] : i = 1 \r\n",
        "      else : i = 0\r\n",
        "      acc.append(i)   \r\n",
        "\r\n",
        "    return acc"
      ],
      "execution_count": null,
      "outputs": []
    },
    {
      "cell_type": "markdown",
      "metadata": {
        "id": "pALRi8TU3B10"
      },
      "source": [
        "**Transformer를 이용한 감정분석 모델 설정 ①**"
      ]
    },
    {
      "cell_type": "code",
      "metadata": {
        "id": "S_ByoETo3OlP"
      },
      "source": [
        "class MultiHeadSelfAttention(layers.Layer):\n",
        "    def __init__(self, embed_dim, num_heads=8):\n",
        "        super(MultiHeadSelfAttention, self).__init__()\n",
        "        self.embed_dim = embed_dim\n",
        "        self.num_heads = num_heads\n",
        "        if embed_dim % num_heads != 0:\n",
        "            raise ValueError(\n",
        "                f\"embedding dimension = {embed_dim} should be divisible by number of heads = {num_heads}\"\n",
        "            )\n",
        "        self.projection_dim = embed_dim // num_heads\n",
        "        self.query_dense = layers.Dense(embed_dim)\n",
        "        self.key_dense = layers.Dense(embed_dim)\n",
        "        self.value_dense = layers.Dense(embed_dim)\n",
        "        self.combine_heads = layers.Dense(embed_dim)\n",
        "\n",
        "    def attention(self, query, key, value):\n",
        "        score = tf.matmul(query, key, transpose_b=True)\n",
        "        dim_key = tf.cast(tf.shape(key)[-1], tf.float32)\n",
        "        scaled_score = score / tf.math.sqrt(dim_key)\n",
        "        weights = tf.nn.softmax(scaled_score, axis=-1)\n",
        "        output = tf.matmul(weights, value)\n",
        "        return output, weights\n",
        "\n",
        "    def separate_heads(self, x, batch_size):\n",
        "        x = tf.reshape(x, (batch_size, -1, self.num_heads, self.projection_dim))\n",
        "        return tf.transpose(x, perm=[0, 2, 1, 3])\n",
        "\n",
        "    def call(self, inputs):\n",
        "        # x.shape = [batch_size, seq_len, embedding_dim]\n",
        "        batch_size = tf.shape(inputs)[0]\n",
        "        query = self.query_dense(inputs)  # (batch_size, seq_len, embed_dim)\n",
        "        key = self.key_dense(inputs)  # (batch_size, seq_len, embed_dim)\n",
        "        value = self.value_dense(inputs)  # (batch_size, seq_len, embed_dim)\n",
        "        query = self.separate_heads(\n",
        "            query, batch_size\n",
        "        )  # (batch_size, num_heads, seq_len, projection_dim)\n",
        "        key = self.separate_heads(\n",
        "            key, batch_size\n",
        "        )  # (batch_size, num_heads, seq_len, projection_dim)\n",
        "        value = self.separate_heads(\n",
        "            value, batch_size\n",
        "        )  # (batch_size, num_heads, seq_len, projection_dim)\n",
        "        attention, weights = self.attention(query, key, value)\n",
        "        attention = tf.transpose(\n",
        "            attention, perm=[0, 2, 1, 3]\n",
        "        )  # (batch_size, seq_len, num_heads, projection_dim)\n",
        "        concat_attention = tf.reshape(\n",
        "            attention, (batch_size, -1, self.embed_dim)\n",
        "        )  # (batch_size, seq_len, embed_dim)\n",
        "        output = self.combine_heads(\n",
        "            concat_attention\n",
        "        )  # (batch_size, seq_len, embed_dim)\n",
        "        return output\n",
        "\n",
        "class TransformerBlock(layers.Layer):\n",
        "    def __init__(self, embed_dim, num_heads, ff_dim, rate=0.1):\n",
        "        super(TransformerBlock, self).__init__()\n",
        "        self.att = MultiHeadSelfAttention(embed_dim, num_heads)\n",
        "        self.ffn = keras.Sequential(\n",
        "            [layers.Dense(ff_dim, activation=\"relu\"), layers.Dense(embed_dim),]\n",
        "        )\n",
        "        self.layernorm1 = layers.LayerNormalization(epsilon=1e-6)\n",
        "        self.layernorm2 = layers.LayerNormalization(epsilon=1e-6)\n",
        "        self.dropout1 = layers.Dropout(rate)\n",
        "        self.dropout2 = layers.Dropout(rate)\n",
        "\n",
        "    def call(self, inputs, training):\n",
        "        attn_output = self.att(inputs) #Multihead Attn 블록\n",
        "        attn_output = self.dropout1(attn_output, training=training) #드롭아웃\n",
        "        out1 = self.layernorm1(inputs + attn_output) #LM + Residual\n",
        "        ffn_output = self.ffn(out1) #FF 블록\n",
        "        ffn_output = self.dropout2(ffn_output, training=training) #드롭아웃\n",
        "        return self.layernorm2(out1 + ffn_output) #LM + Residual\n",
        "\n",
        "class TokenAndPositionEmbedding(layers.Layer):\n",
        "    def __init__(self, maxlen, vocab_size, emded_dim):\n",
        "        super(TokenAndPositionEmbedding, self).__init__()\n",
        "        self.token_emb = layers.Embedding(input_dim=vocab_size, output_dim=emded_dim)\n",
        "        self.pos_emb = layers.Embedding(input_dim=maxlen, output_dim=emded_dim)\n",
        "\n",
        "    def call(self, x):\n",
        "        maxlen = tf.shape(x)[-1]\n",
        "        positions = tf.range(start=0, limit=maxlen, delta=1) #포지션 정보\n",
        "        positions = self.pos_emb(positions) #포지션 임베딩\n",
        "        x = self.token_emb(x) #토큰임베딩\n",
        "        return x + positions #합치기"
      ],
      "execution_count": null,
      "outputs": []
    },
    {
      "cell_type": "code",
      "metadata": {
        "id": "iiw8j4E93TpJ"
      },
      "source": [
        "embed_dim = 32  # Embedding size for each token\n",
        "# embed_dim = 512  # Embedding size for each token\n",
        "num_heads = 2  # Number of attention heads\n",
        "# num_heads = 8  # Number of attention heads\n",
        "ff_dim = 32  # Hidden layer size in feed forward network inside transformer\n",
        "# ff_dim = 2048  # Hidden layer size in feed forward network inside transformer\n",
        "\n",
        "inputs = layers.Input(shape=(maxlen,)) #처음 입력\n",
        "embedding_layer = TokenAndPositionEmbedding(maxlen, vocab_size, embed_dim) #객체 생성\n",
        "x = embedding_layer(inputs)  #포지셔널 임베딩\n",
        "transformer_block = TransformerBlock(embed_dim, num_heads, ff_dim) #객체 생성\n",
        "x = transformer_block(x) #트랜스포머 \n",
        "x = layers.GlobalAveragePooling1D()(x) #Average Pooling\n",
        "x = layers.Dropout(0.1)(x) #드롯아웃\n",
        "x = layers.Dense(20, activation=\"relu\")(x) #FFNN\n",
        "x = layers.Dropout(0.1)(x) #드롭아웃\n",
        "outputs = layers.Dense(2, activation=\"softmax\")(x) #Softmax\n",
        "\n",
        "model = keras.Model(inputs=inputs, outputs=outputs) #모델 생성"
      ],
      "execution_count": null,
      "outputs": []
    },
    {
      "cell_type": "markdown",
      "metadata": {
        "id": "AGwhlSCM7kg1"
      },
      "source": [
        "**Transformer를 이용한 감정분석 모델 학습 실행 ①**"
      ]
    },
    {
      "cell_type": "code",
      "metadata": {
        "colab": {
          "base_uri": "https://localhost:8080/"
        },
        "id": "uuismUNU3V70",
        "outputId": "fa3a2325-ea2e-4998-cc87-449ed0eab47c"
      },
      "source": [
        "model.compile(\"adam\", \"sparse_categorical_crossentropy\", metrics=[\"accuracy\"])\n",
        "\n",
        "history = model.fit(X_train, labels_train, batch_size=32, epochs=5, validation_split=0.2)"
      ],
      "execution_count": null,
      "outputs": [
        {
          "output_type": "stream",
          "text": [
            "Epoch 1/5\n",
            "3750/3750 [==============================] - 93s 24ms/step - loss: 0.5102 - accuracy: 0.7053 - val_loss: 0.3398 - val_accuracy: 0.8496\n",
            "Epoch 2/5\n",
            "3750/3750 [==============================] - 90s 24ms/step - loss: 0.2622 - accuracy: 0.8941 - val_loss: 0.3442 - val_accuracy: 0.8581\n",
            "Epoch 3/5\n",
            "3750/3750 [==============================] - 90s 24ms/step - loss: 0.1841 - accuracy: 0.9270 - val_loss: 0.3830 - val_accuracy: 0.8510\n",
            "Epoch 4/5\n",
            "3750/3750 [==============================] - 90s 24ms/step - loss: 0.1404 - accuracy: 0.9467 - val_loss: 0.4519 - val_accuracy: 0.8457\n",
            "Epoch 5/5\n",
            "3750/3750 [==============================] - 90s 24ms/step - loss: 0.1152 - accuracy: 0.9558 - val_loss: 0.4783 - val_accuracy: 0.8394\n"
          ],
          "name": "stdout"
        }
      ]
    },
    {
      "cell_type": "code",
      "metadata": {
        "colab": {
          "base_uri": "https://localhost:8080/"
        },
        "id": "9AULFlz3tlEW",
        "outputId": "e497e5bd-4deb-46e0-cb95-48f5a48614bd"
      },
      "source": [
        "model.summary()"
      ],
      "execution_count": null,
      "outputs": [
        {
          "output_type": "stream",
          "text": [
            "Model: \"model\"\n",
            "_________________________________________________________________\n",
            "Layer (type)                 Output Shape              Param #   \n",
            "=================================================================\n",
            "input_1 (InputLayer)         [(None, 128)]             0         \n",
            "_________________________________________________________________\n",
            "token_and_position_embedding (None, 128, 32)           3915744   \n",
            "_________________________________________________________________\n",
            "transformer_block (Transform (None, 128, 32)           6464      \n",
            "_________________________________________________________________\n",
            "global_average_pooling1d (Gl (None, 32)                0         \n",
            "_________________________________________________________________\n",
            "dropout_2 (Dropout)          (None, 32)                0         \n",
            "_________________________________________________________________\n",
            "dense_6 (Dense)              (None, 20)                660       \n",
            "_________________________________________________________________\n",
            "dropout_3 (Dropout)          (None, 20)                0         \n",
            "_________________________________________________________________\n",
            "dense_7 (Dense)              (None, 2)                 42        \n",
            "=================================================================\n",
            "Total params: 3,922,910\n",
            "Trainable params: 3,922,910\n",
            "Non-trainable params: 0\n",
            "_________________________________________________________________\n"
          ],
          "name": "stdout"
        }
      ]
    },
    {
      "cell_type": "markdown",
      "metadata": {
        "id": "iFXMPdn84-Z2"
      },
      "source": [
        "**Transformer을 이용한 감정분석 모델 저장 및 테스트 ①**"
      ]
    },
    {
      "cell_type": "code",
      "metadata": {
        "colab": {
          "base_uri": "https://localhost:8080/"
        },
        "id": "duyZeUlX49w9",
        "outputId": "ac1f76fa-02f2-4156-d8c1-4eee2aaf2cd3"
      },
      "source": [
        "#model.save('Transformer_SENTIMENT_ANALYSIS_KOR') #모델 저장하기\n",
        "\n",
        "#모델 평가\n",
        "test_loss,test_acc=model.evaluate(X_test,labels_test)\n",
        "print(\"Test_acc: \",test_acc)"
      ],
      "execution_count": null,
      "outputs": [
        {
          "output_type": "stream",
          "text": [
            "1563/1563 [==============================] - 6s 4ms/step - loss: 0.4899 - accuracy: 0.8382\n",
            "Test_acc:  0.8381800055503845\n"
          ],
          "name": "stdout"
        }
      ]
    },
    {
      "cell_type": "markdown",
      "metadata": {
        "id": "Kg8IC4qGZlRn"
      },
      "source": [
        "**Transformer를 이용한 감정분석 모델 테스트 Output 데이터 생성 ①**\r\n"
      ]
    },
    {
      "cell_type": "markdown",
      "metadata": {
        "id": "jYMxnB18LhUn"
      },
      "source": [
        "- 테스트 데이터 분리 (코랩 GPU 메모리 문제로 분할 실행)\r\n"
      ]
    },
    {
      "cell_type": "code",
      "metadata": {
        "id": "-zuYTKNHmYrh"
      },
      "source": [
        "# test 데이터 분리 (Colab GPU 활용 제한으로 분리하여 예측 결과 저장 후 병합)\r\n",
        "X_test_input = X_test[:10000]"
      ],
      "execution_count": null,
      "outputs": []
    },
    {
      "cell_type": "markdown",
      "metadata": {
        "id": "CQWFv675mUoP"
      },
      "source": [
        "- 레이블 데이터 분리 (앙상블 아웃풋 Accuracy 산출 용 레이블 데이터 분리 생성)"
      ]
    },
    {
      "cell_type": "code",
      "metadata": {
        "id": "9ufCcG3Umbji"
      },
      "source": [
        "labels_test_input = labels_test[:10000]"
      ],
      "execution_count": null,
      "outputs": []
    },
    {
      "cell_type": "markdown",
      "metadata": {
        "id": "ZqllG_SzLkqV"
      },
      "source": [
        "- 테스트 데이터로 예측 아웃풋 산출 수행"
      ]
    },
    {
      "cell_type": "code",
      "metadata": {
        "colab": {
          "base_uri": "https://localhost:8080/"
        },
        "id": "MCw1RZjPEzd1",
        "outputId": "4fd04579-d24c-4820-b313-aadb8225bda0"
      },
      "source": [
        "x_predict_transformer = ()\n",
        "x_predict_transformer = model.predict(X_test_input)\n",
        "\n",
        "x_predict_transformer = np.argmax(x_predict_transformer, axis = 1)\n",
        "x_predict_transformer = x_predict_transformer.tolist()\n",
        "\n",
        "x_document = []\n",
        "x_document = test['document']\n",
        "x_document = x_document[:10000]\n",
        "x_document = x_document.tolist()\n",
        "\n",
        "x_output_transformer = pd.DataFrame({'document' : x_document, 'predict' : x_predict_transformer})\n",
        "print('아웃풋 데이터 : ', x_output_transformer[:20])\n",
        "print('아웃풋 데이터 Shape: ', np.shape(x_output_transformer))"
      ],
      "execution_count": null,
      "outputs": [
        {
          "output_type": "stream",
          "text": [
            "아웃풋 데이터 :                                               document  predict\n",
            "0                                                 굳 ㅋ        1\n",
            "1                                GDNTOPCLASSINTHECLUB        0\n",
            "2              뭐야 이 평점들은.... 나쁘진 않지만 10점 짜리는 더더욱 아니잖아        0\n",
            "3                    지루하지는 않은데 완전 막장임... 돈주고 보기에는....        0\n",
            "4   3D만 아니었어도 별 다섯 개 줬을텐데.. 왜 3D로 나와서 제 심기를 불편하게 하죠??        0\n",
            "5                                  음악이 주가 된, 최고의 음악영화        1\n",
            "6                                             진정한 쓰레기        0\n",
            "7            마치 미국애니에서 튀어나온듯한 창의력없는 로봇디자인부터가,고개를 젖게한다        0\n",
            "8   갈수록 개판되가는 중국영화 유치하고 내용없음 폼잡다 끝남 말도안되는 무기에 유치한c...        0\n",
            "9      이별의 아픔뒤에 찾아오는 새로운 인연의 기쁨 But, 모든 사람이 그렇지는 않네..        1\n",
            "10                                   괜찮네요오랜만포켓몬스터잼밌어요        1\n",
            "11                        한국독립영화의 한계 그렇게 아버지가 된다와 비교됨        0\n",
            "12  청춘은 아름답다 그 아름다움은 이성을 흔들어 놓는다. 찰나의 아름다움을 잘 포착한 ...        1\n",
            "13                   눈에 보이는 반전이었지만 영화의 흡인력은 사라지지 않았다.        1\n",
            "14  \"스토리, 연출, 연기, 비주얼 등 영화의 기본 조차 안된 영화에 무슨 평을 해. ...        0\n",
            "15                                   소위 ㅈ문가라는 평점은 뭐냐?        0\n",
            "16                                 최고!!!!!!!!!!!!!!!!        1\n",
            "17              발연기 도저히 못보겠다 진짜 이렇게 연기를 못할거라곤 상상도 못했네        0\n",
            "18                                                나이스        1\n",
            "19     별 재미도없는거 우려먹어 .... 챔프에서 방송 몇번했더라 ? ㅋㅋㅋㅋㅋㅋㅋㅋㅋㅋㅋ        0\n",
            "아웃풋 데이터 Shape:  (10000, 2)\n"
          ],
          "name": "stdout"
        }
      ]
    },
    {
      "cell_type": "markdown",
      "metadata": {
        "id": "u0tyzHAThGi7"
      },
      "source": [
        "- Transformer 모델 예측 결과 스코어링"
      ]
    },
    {
      "cell_type": "code",
      "metadata": {
        "colab": {
          "base_uri": "https://localhost:8080/"
        },
        "id": "nOT02pvXgv1v",
        "outputId": "803bdde7-08e0-40a8-ca56-75cb85cf6a34"
      },
      "source": [
        "print(\"Transformer model accuracy : \", accuracy_score(labels_test_input, x_predict_transformer))\r\n",
        "print(\"Transformer model recall : \",recall_score(labels_test_input, x_predict_transformer))\r\n",
        "print(\"Transformer model precision : \",precision_score(labels_test_input, x_predict_transformer))\r\n",
        "print(\"Transformer model f1 : \",f1_score(labels_test_input, x_predict_transformer))"
      ],
      "execution_count": null,
      "outputs": [
        {
          "output_type": "stream",
          "text": [
            "Transformer model accuracy :  0.8405\n",
            "Transformer model recall :  0.8263189093064611\n",
            "Transformer model precision :  0.8538178848509596\n",
            "Transformer model f1 :  0.839843357766844\n"
          ],
          "name": "stdout"
        }
      ]
    },
    {
      "cell_type": "markdown",
      "metadata": {
        "id": "HAmUMGh_K2--"
      },
      "source": [
        "- Transformer 예측결과 CSV 파일 저장 ① \r\n",
        "- Colab GPU 사용량 문제로 Transformer, CNN, BERT 예측결과 로컬 PC 저장 후 로딩하여 앙상블 결과 산출"
      ]
    },
    {
      "cell_type": "code",
      "metadata": {
        "colab": {
          "base_uri": "https://localhost:8080/"
        },
        "id": "9XgliKp8KkHK",
        "outputId": "838336b4-a462-4acf-d305-67d197ff50e6"
      },
      "source": [
        "ensemble_transformer = pd.DataFrame({'transformer prediction' : x_predict_transformer})\r\n",
        "print(ensemble_transformer)"
      ],
      "execution_count": null,
      "outputs": [
        {
          "output_type": "stream",
          "text": [
            "      transformer prediction\n",
            "0                          1\n",
            "1                          0\n",
            "2                          0\n",
            "3                          0\n",
            "4                          0\n",
            "...                      ...\n",
            "9995                       1\n",
            "9996                       0\n",
            "9997                       0\n",
            "9998                       0\n",
            "9999                       0\n",
            "\n",
            "[10000 rows x 1 columns]\n"
          ],
          "name": "stdout"
        }
      ]
    },
    {
      "cell_type": "code",
      "metadata": {
        "id": "HxISj-aEK17U"
      },
      "source": [
        "ensemble_transformer.to_csv('ensemble_transformer.csv')"
      ],
      "execution_count": null,
      "outputs": []
    },
    {
      "cell_type": "markdown",
      "metadata": {
        "id": "3-GVfCY5o19S"
      },
      "source": [
        "**CNN을 이용한 감정분석 모델 설정 ①**\r\n"
      ]
    },
    {
      "cell_type": "code",
      "metadata": {
        "id": "sIINQXhQotBj"
      },
      "source": [
        "seq_input = layers.Input(shape=(maxlen,), dtype='int32')\n",
        "\n",
        "seq_embedded = layers.Embedding(vocab_size, \n",
        "                           EMBEDDING_DIM, \n",
        "                           weights=[embedding_matrix], \n",
        "                           input_length=maxlen, \n",
        "                           trainable=True)(seq_input)\n",
        "\n",
        "filters = [2,3,4,5]\n",
        "conv_models = []\n",
        "for filter in filters:\n",
        "  conv_feat = layers.Conv1D(filters=100, \n",
        "                            kernel_size=filter, \n",
        "                            activation='relu',\n",
        "                            padding='valid')(seq_embedded) #Convolution Layer\n",
        "  pooled_feat = layers.GlobalMaxPooling1D()(conv_feat) #MaxPooling\n",
        "  conv_models.append(pooled_feat)\n",
        "\n",
        "conv_merged = layers.concatenate(conv_models, axis=1) #filter size가 2,3,4,5인 결과들 Concatenation\n",
        "\n",
        "model_output = layers.Dropout(0.2)(conv_merged)\n",
        "model_output = layers.Dense(10, activation='relu')(model_output)\n",
        "logits = layers.Dense(1, activation='sigmoid')(model_output)\n",
        "\n",
        "model = Model(seq_input, logits) #(입력,출력)"
      ],
      "execution_count": null,
      "outputs": []
    },
    {
      "cell_type": "markdown",
      "metadata": {
        "id": "IQhDb47y-Ptc"
      },
      "source": [
        "**CNN을 이용한 감정분석 모델 학습 실행 ①**"
      ]
    },
    {
      "cell_type": "code",
      "metadata": {
        "colab": {
          "base_uri": "https://localhost:8080/"
        },
        "id": "dNT_A3rX-OoE",
        "outputId": "321cd610-6b2d-412c-d33d-ffd823b04589"
      },
      "source": [
        "model.compile(optimizer='adam',loss='binary_crossentropy', metrics=['accuracy'])\n",
        "\n",
        "#학습 시작\n",
        "history = model.fit(X_train, labels_train, epochs=5, verbose=True, validation_data=(X_test, labels_test),batch_size=32)"
      ],
      "execution_count": null,
      "outputs": [
        {
          "output_type": "stream",
          "text": [
            "Epoch 1/5\n",
            "4688/4688 [==============================] - 204s 43ms/step - loss: 0.4526 - accuracy: 0.7808 - val_loss: 0.3307 - val_accuracy: 0.8561\n",
            "Epoch 2/5\n",
            "4688/4688 [==============================] - 195s 42ms/step - loss: 0.2378 - accuracy: 0.9058 - val_loss: 0.3273 - val_accuracy: 0.8606\n",
            "Epoch 3/5\n",
            "4688/4688 [==============================] - 195s 42ms/step - loss: 0.1398 - accuracy: 0.9488 - val_loss: 0.4016 - val_accuracy: 0.8540\n",
            "Epoch 4/5\n",
            "4688/4688 [==============================] - 198s 42ms/step - loss: 0.0783 - accuracy: 0.9720 - val_loss: 0.4882 - val_accuracy: 0.8480\n",
            "Epoch 5/5\n",
            "4688/4688 [==============================] - 197s 42ms/step - loss: 0.0467 - accuracy: 0.9830 - val_loss: 0.6001 - val_accuracy: 0.8466\n"
          ],
          "name": "stdout"
        }
      ]
    },
    {
      "cell_type": "code",
      "metadata": {
        "id": "576l6BrEtp4y",
        "colab": {
          "base_uri": "https://localhost:8080/"
        },
        "outputId": "9355dd8c-9bbb-4d02-ed4e-a41f1e55be67"
      },
      "source": [
        "model.summary()"
      ],
      "execution_count": null,
      "outputs": [
        {
          "output_type": "stream",
          "text": [
            "Model: \"model_1\"\n",
            "__________________________________________________________________________________________________\n",
            "Layer (type)                    Output Shape         Param #     Connected to                     \n",
            "==================================================================================================\n",
            "input_2 (InputLayer)            [(None, 128)]        0                                            \n",
            "__________________________________________________________________________________________________\n",
            "embedding_2 (Embedding)         (None, 128, 50)      6111950     input_2[0][0]                    \n",
            "__________________________________________________________________________________________________\n",
            "conv1d (Conv1D)                 (None, 127, 100)     10100       embedding_2[0][0]                \n",
            "__________________________________________________________________________________________________\n",
            "conv1d_1 (Conv1D)               (None, 126, 100)     15100       embedding_2[0][0]                \n",
            "__________________________________________________________________________________________________\n",
            "conv1d_2 (Conv1D)               (None, 125, 100)     20100       embedding_2[0][0]                \n",
            "__________________________________________________________________________________________________\n",
            "conv1d_3 (Conv1D)               (None, 124, 100)     25100       embedding_2[0][0]                \n",
            "__________________________________________________________________________________________________\n",
            "global_max_pooling1d (GlobalMax (None, 100)          0           conv1d[0][0]                     \n",
            "__________________________________________________________________________________________________\n",
            "global_max_pooling1d_1 (GlobalM (None, 100)          0           conv1d_1[0][0]                   \n",
            "__________________________________________________________________________________________________\n",
            "global_max_pooling1d_2 (GlobalM (None, 100)          0           conv1d_2[0][0]                   \n",
            "__________________________________________________________________________________________________\n",
            "global_max_pooling1d_3 (GlobalM (None, 100)          0           conv1d_3[0][0]                   \n",
            "__________________________________________________________________________________________________\n",
            "concatenate (Concatenate)       (None, 400)          0           global_max_pooling1d[0][0]       \n",
            "                                                                 global_max_pooling1d_1[0][0]     \n",
            "                                                                 global_max_pooling1d_2[0][0]     \n",
            "                                                                 global_max_pooling1d_3[0][0]     \n",
            "__________________________________________________________________________________________________\n",
            "dropout_4 (Dropout)             (None, 400)          0           concatenate[0][0]                \n",
            "__________________________________________________________________________________________________\n",
            "dense_8 (Dense)                 (None, 10)           4010        dropout_4[0][0]                  \n",
            "__________________________________________________________________________________________________\n",
            "dense_9 (Dense)                 (None, 1)            11          dense_8[0][0]                    \n",
            "==================================================================================================\n",
            "Total params: 6,186,371\n",
            "Trainable params: 6,186,371\n",
            "Non-trainable params: 0\n",
            "__________________________________________________________________________________________________\n"
          ],
          "name": "stdout"
        }
      ]
    },
    {
      "cell_type": "markdown",
      "metadata": {
        "id": "LdcoH8ei4ubu"
      },
      "source": [
        "**CNN을 이용한 감정분석 모델 저장 및 테스트 ①**"
      ]
    },
    {
      "cell_type": "code",
      "metadata": {
        "colab": {
          "base_uri": "https://localhost:8080/"
        },
        "id": "4jkL3I_K4s-9",
        "outputId": "ce71de9a-724d-41d7-ab3f-1bdec6eebb55"
      },
      "source": [
        "# model.save('CNN_SENTIMENT_ANALYSIS_KOR') #모델 저장하기\n",
        "\n",
        "#모델 평가\n",
        "test_loss,test_acc=model.evaluate(X_test,labels_test)\n",
        "print(\"Test_acc: \",test_acc)"
      ],
      "execution_count": null,
      "outputs": [
        {
          "output_type": "stream",
          "text": [
            "1563/1563 [==============================] - 4s 3ms/step - loss: 0.6001 - accuracy: 0.8466\n",
            "Test_acc:  0.846560001373291\n"
          ],
          "name": "stdout"
        }
      ]
    },
    {
      "cell_type": "markdown",
      "metadata": {
        "id": "XeKR4lp2bKNO"
      },
      "source": [
        "**CNN를 이용한 감정분석 모델 테스트 Output 데이터 생성 ①**\r\n"
      ]
    },
    {
      "cell_type": "markdown",
      "metadata": {
        "id": "gyfSLD7Xdv_d"
      },
      "source": [
        "- 테스트 데이터로 예측 아웃풋 산출 함수 선언"
      ]
    },
    {
      "cell_type": "code",
      "metadata": {
        "id": "4C82PtcqflvS"
      },
      "source": [
        "def sigmoid(x) :\n",
        "    \n",
        "    a = np.array(x)\n",
        "\n",
        "    return a > 0.5\n",
        "\n",
        "def convert(x) :\n",
        "\n",
        "    a = []\n",
        "\n",
        "    for i in x :\n",
        "      i = 1 if i == [True] else 0\n",
        "      a.append(i)   \n",
        "\n",
        "    return a"
      ],
      "execution_count": null,
      "outputs": []
    },
    {
      "cell_type": "markdown",
      "metadata": {
        "id": "lqjXD00Kdrl8"
      },
      "source": [
        "- 테스트 데이터로 예측 아웃풋 산출 수행"
      ]
    },
    {
      "cell_type": "code",
      "metadata": {
        "colab": {
          "base_uri": "https://localhost:8080/"
        },
        "id": "0v3nvyIGFn0M",
        "outputId": "94740838-72c0-444a-a504-829bf42d31ed"
      },
      "source": [
        "x_predict_CNN = ()\n",
        "x_predict_CNN = model.predict(X_test_input)\n",
        "\n",
        "x_predict_CNN = sigmoid(x_predict_CNN)\n",
        "x_predict_CNN = x_predict_CNN.tolist()\n",
        "x_predict_CNN = convert(x_predict_CNN)\n",
        "\n",
        "x_document = []\n",
        "x_document = test['document']\n",
        "x_document = x_document[:10000]\n",
        "x_document = x_document.tolist()\n",
        "\n",
        "x_output_CNN = pd.DataFrame({'document' : x_document, 'predict' : x_predict_CNN})\n",
        "\n",
        "print('아웃풋 데이터: ', x_output_CNN[:100])\n",
        "print('아웃풋 데이터 Shape: ', np.shape(x_output_CNN))"
      ],
      "execution_count": null,
      "outputs": [
        {
          "output_type": "stream",
          "text": [
            "아웃풋 데이터:                                               document  predict\n",
            "0                                                 굳 ㅋ        1\n",
            "1                                GDNTOPCLASSINTHECLUB        1\n",
            "2              뭐야 이 평점들은.... 나쁘진 않지만 10점 짜리는 더더욱 아니잖아        0\n",
            "3                    지루하지는 않은데 완전 막장임... 돈주고 보기에는....        0\n",
            "4   3D만 아니었어도 별 다섯 개 줬을텐데.. 왜 3D로 나와서 제 심기를 불편하게 하죠??        0\n",
            "..                                                ...      ...\n",
            "95                                 전기톱은못들고다니는데 엔진톱이겠죠        0\n",
            "96                                   완전 재밌엇는데 왜 평점이??        1\n",
            "97                                     제임스 완이 내 목표임 ㄷ        1\n",
            "98  1점고 아깝다. 개막장 영화의 원조라고나 할까.아내와 사별한 지 얼마나 지났다고 딴...        0\n",
            "99  가끔 문득 생각나서 다시보는 영화..색감이 정말 예술이죠 강렬하고 화려하고..츠지야...        1\n",
            "\n",
            "[100 rows x 2 columns]\n",
            "아웃풋 데이터 Shape:  (10000, 2)\n"
          ],
          "name": "stdout"
        }
      ]
    },
    {
      "cell_type": "markdown",
      "metadata": {
        "id": "enBbvt_ZnLh8"
      },
      "source": [
        "- CNN 모델 예측 결과 스코어링"
      ]
    },
    {
      "cell_type": "code",
      "metadata": {
        "colab": {
          "base_uri": "https://localhost:8080/"
        },
        "id": "KoYyiZr4nK5H",
        "outputId": "bfabe74e-bea9-4ad5-a49f-af4f0c077178"
      },
      "source": [
        "print(\"CNN model accuracy : \", accuracy_score(labels_test_input, x_predict_CNN))\r\n",
        "print(\"CNN model recall : \",recall_score(labels_test_input, x_predict_CNN))\r\n",
        "print(\"CNN model precision : \",precision_score(labels_test_input, x_predict_CNN))\r\n",
        "print(\"CNN model f1 : \",f1_score(labels_test_input, x_predict_CNN))"
      ],
      "execution_count": null,
      "outputs": [
        {
          "output_type": "stream",
          "text": [
            "CNN model accuracy :  0.8508\n",
            "CNN model recall :  0.8571428571428571\n",
            "CNN model precision :  0.8494223614646563\n",
            "CNN model f1 :  0.8532651455546814\n"
          ],
          "name": "stdout"
        }
      ]
    },
    {
      "cell_type": "markdown",
      "metadata": {
        "id": "1-tLcy1yODWl"
      },
      "source": [
        "**CNN 예측결과 CSV 파일 저장 ①**\r\n",
        "\r\n",
        "Colab GPU 사용량 문제로 Transformer, CNN, BERT 예측결과 로컬 PC 저장 후 로딩하여 앙상블 결과 산출"
      ]
    },
    {
      "cell_type": "code",
      "metadata": {
        "colab": {
          "base_uri": "https://localhost:8080/"
        },
        "id": "EjzjA4KFOLR_",
        "outputId": "206606e8-64a1-4ce2-a062-4c6ea2857c30"
      },
      "source": [
        "ensemble_CNN = pd.DataFrame({'CNN prediction' : x_predict_CNN})\r\n",
        "print(ensemble_CNN)"
      ],
      "execution_count": null,
      "outputs": [
        {
          "output_type": "stream",
          "text": [
            "      CNN prediction\n",
            "0                  1\n",
            "1                  1\n",
            "2                  0\n",
            "3                  0\n",
            "4                  0\n",
            "...              ...\n",
            "9995               1\n",
            "9996               0\n",
            "9997               0\n",
            "9998               0\n",
            "9999               0\n",
            "\n",
            "[10000 rows x 1 columns]\n"
          ],
          "name": "stdout"
        }
      ]
    },
    {
      "cell_type": "code",
      "metadata": {
        "id": "JwfiPdVjOsYQ"
      },
      "source": [
        "ensemble_CNN.to_csv('ensemble_CNN.csv')"
      ],
      "execution_count": null,
      "outputs": []
    },
    {
      "cell_type": "markdown",
      "metadata": {
        "id": "cMwheX6B3bEw"
      },
      "source": [
        "**BERT 감정분석 데이터 처리 ①,②**"
      ]
    },
    {
      "cell_type": "code",
      "metadata": {
        "id": "f0zSToZ5SzF1",
        "colab": {
          "base_uri": "https://localhost:8080/",
          "height": 102,
          "referenced_widgets": [
            "5456c908ea844794ac701e784992aeb4",
            "ac710fd0e64b402789cfc93313c1d070",
            "44beea9938e94ca88ceada1f5d07af88",
            "f13b6ffffc5f45f38d347fe527d8073a",
            "0ec1a7b154b64d27ac509f3043906aa8",
            "2f215ae050e142c68822a727e823fcc3",
            "728b0f8e952846ea849a115fb75270ca",
            "b08d337f9b384195939c6925d1804373"
          ]
        },
        "outputId": "d62f2e3d-5635-4c38-a40f-cd9accf3ee27"
      },
      "source": [
        "tokenizer = BertTokenizer.from_pretrained('bert-base-multilingual-cased', do_lower_case=False)\n",
        "\n",
        "X_train_tokenized_text = [tokenizer.tokenize(sent) for sent in X_train_bert]\n",
        "X_test_tokenized_text = [tokenizer.tokenize(sent) for sent in X_test_bert]\n",
        "\n",
        "print (X_train_tokenized_text[0])\n",
        "print (X_test_tokenized_text[0])\n",
        "\n",
        "# 입력 토큰의 최대 시퀀스 길이\n",
        "MAX_LEN = 128\n",
        "\n",
        "# 토큰을 숫자 인덱스로 변환\n",
        "X_train_bert = [tokenizer.convert_tokens_to_ids(x) for x in X_train_tokenized_text]\n",
        "X_test_bert = [tokenizer.convert_tokens_to_ids(x) for x in X_test_tokenized_text]\n",
        "\n",
        "# 문장을 MAX_LEN 길이에 맞게 자르고, 모자란 부분을 패딩 0으로 채움\n",
        "X_train_bert = pad_sequences(X_train_bert, maxlen=MAX_LEN, dtype=\"long\", truncating=\"post\", padding=\"post\")\n",
        "X_test_bert = pad_sequences(X_test_bert, maxlen=MAX_LEN, dtype=\"long\", truncating=\"post\", padding=\"post\")"
      ],
      "execution_count": null,
      "outputs": [
        {
          "output_type": "display_data",
          "data": {
            "application/vnd.jupyter.widget-view+json": {
              "model_id": "5456c908ea844794ac701e784992aeb4",
              "version_minor": 0,
              "version_major": 2
            },
            "text/plain": [
              "HBox(children=(FloatProgress(value=0.0, description='Downloading', max=995526.0, style=ProgressStyle(descripti…"
            ]
          },
          "metadata": {
            "tags": []
          }
        },
        {
          "output_type": "stream",
          "text": [
            "\n",
            "['[CLS]', '아', '더', '##빙', '.', '.', '진', '##짜', '짜', '##증', '##나', '##네', '##요', '목', '##소', '##리', '[SEP]']\n",
            "['[CLS]', '굳', '[UNK]', '[SEP]']\n"
          ],
          "name": "stdout"
        }
      ]
    },
    {
      "cell_type": "markdown",
      "metadata": {
        "id": "-8hFspMcTVl1"
      },
      "source": [
        "**BERT 감정분석 모델 설정 ①,②**"
      ]
    },
    {
      "cell_type": "code",
      "metadata": {
        "colab": {
          "base_uri": "https://localhost:8080/"
        },
        "id": "5pDSjeSX48iu",
        "outputId": "9291c997-8840-44e5-96b5-93a7d1d71259"
      },
      "source": [
        "# 어텐션 마스크 초기화\n",
        "attention_masks = []\n",
        "\n",
        "# 어텐션 마스크를 패딩이 아니면 1, 패딩이면 0으로 설정\n",
        "# 패딩 부분은 BERT 모델에서 어텐션을 수행하지 않아 속도 향상\n",
        "for seq in X_train_bert:\n",
        "    seq_mask = [float(i>0) for i in seq]\n",
        "    attention_masks.append(seq_mask)\n",
        "\n",
        "print(attention_masks[0])\n",
        "\n",
        "# 훈련셋과 검증셋으로 분리\n",
        "train_inputs, validation_inputs, train_labels, validation_labels = train_test_split(X_train_bert,\n",
        "                                                                                    labels_train, \n",
        "                                                                                    random_state=2018, \n",
        "                                                                                    test_size=0.1)\n",
        "\n",
        "# 어텐션 마스크를 훈련셋과 검증셋으로 분리\n",
        "train_masks, validation_masks, _, _ = train_test_split(attention_masks, \n",
        "                                                       X_train_bert,\n",
        "                                                       random_state=2018, \n",
        "                                                       test_size=0.1)\n",
        "\n",
        "# 데이터를 파이토치의 텐서로 변환\n",
        "train_inputs = torch.tensor(train_inputs)\n",
        "train_labels = torch.tensor(train_labels)\n",
        "train_masks = torch.tensor(train_masks)\n",
        "validation_inputs = torch.tensor(validation_inputs)\n",
        "validation_labels = torch.tensor(validation_labels)\n",
        "validation_masks = torch.tensor(validation_masks)\t\t\t\t\n",
        "\n",
        "attention_masks = []\n",
        "\n",
        "for seq in X_test_bert:\n",
        "    seq_mask = [float(i>0) for i in seq]\n",
        "    attention_masks.append(seq_mask)\n",
        "\n",
        "test_inputs = torch.tensor(X_test_bert)\n",
        "test_labels = torch.tensor(labels_test)\n",
        "test_masks = torch.tensor(attention_masks)"
      ],
      "execution_count": null,
      "outputs": [
        {
          "output_type": "stream",
          "text": [
            "[1.0, 1.0, 1.0, 1.0, 1.0, 1.0, 1.0, 1.0, 1.0, 1.0, 1.0, 1.0, 1.0, 1.0, 1.0, 1.0, 1.0, 0.0, 0.0, 0.0, 0.0, 0.0, 0.0, 0.0, 0.0, 0.0, 0.0, 0.0, 0.0, 0.0, 0.0, 0.0, 0.0, 0.0, 0.0, 0.0, 0.0, 0.0, 0.0, 0.0, 0.0, 0.0, 0.0, 0.0, 0.0, 0.0, 0.0, 0.0, 0.0, 0.0, 0.0, 0.0, 0.0, 0.0, 0.0, 0.0, 0.0, 0.0, 0.0, 0.0, 0.0, 0.0, 0.0, 0.0, 0.0, 0.0, 0.0, 0.0, 0.0, 0.0, 0.0, 0.0, 0.0, 0.0, 0.0, 0.0, 0.0, 0.0, 0.0, 0.0, 0.0, 0.0, 0.0, 0.0, 0.0, 0.0, 0.0, 0.0, 0.0, 0.0, 0.0, 0.0, 0.0, 0.0, 0.0, 0.0, 0.0, 0.0, 0.0, 0.0, 0.0, 0.0, 0.0, 0.0, 0.0, 0.0, 0.0, 0.0, 0.0, 0.0, 0.0, 0.0, 0.0, 0.0, 0.0, 0.0, 0.0, 0.0, 0.0, 0.0, 0.0, 0.0, 0.0, 0.0, 0.0, 0.0, 0.0, 0.0]\n"
          ],
          "name": "stdout"
        }
      ]
    },
    {
      "cell_type": "code",
      "metadata": {
        "id": "nB9LJ6GH6_-D"
      },
      "source": [
        "# 배치 사이즈\n",
        "batch_size = 32\n",
        "\n",
        "# 파이토치의 DataLoader로 입력, 마스크, 라벨을 묶어 데이터 설정\n",
        "# 학습시 배치 사이즈 만큼 데이터를 가져옴\n",
        "train_data = TensorDataset(train_inputs, train_masks, train_labels)\n",
        "train_sampler = RandomSampler(train_data)\n",
        "train_dataloader = DataLoader(train_data, sampler=train_sampler, batch_size=batch_size)\n",
        "\n",
        "validation_data = TensorDataset(validation_inputs, validation_masks, validation_labels)\n",
        "validation_sampler = SequentialSampler(validation_data)\n",
        "validation_dataloader = DataLoader(validation_data, sampler=validation_sampler, batch_size=batch_size)\n",
        "\n",
        "test_data = TensorDataset(test_inputs, test_masks, test_labels)\n",
        "test_sampler = RandomSampler(test_data)\n",
        "test_dataloader = DataLoader(test_data, sampler=test_sampler, batch_size=batch_size)"
      ],
      "execution_count": null,
      "outputs": []
    },
    {
      "cell_type": "code",
      "metadata": {
        "colab": {
          "base_uri": "https://localhost:8080/"
        },
        "id": "M2bJEmys7Lrl",
        "outputId": "39b3be3d-d9bf-4185-f83c-7f8eec49d958"
      },
      "source": [
        "# GPU 디바이스 이름 구함\n",
        "device_name = tf.test.gpu_device_name()\n",
        "\n",
        "# GPU 디바이스 이름 검사\n",
        "if device_name == '/device:GPU:0':\n",
        "    print('Found GPU at: {}'.format(device_name))\n",
        "else:\n",
        "    raise SystemError('GPU device not found')"
      ],
      "execution_count": null,
      "outputs": [
        {
          "output_type": "stream",
          "text": [
            "Found GPU at: /device:GPU:0\n"
          ],
          "name": "stdout"
        }
      ]
    },
    {
      "cell_type": "code",
      "metadata": {
        "id": "gVULVQ9b7P2l",
        "colab": {
          "base_uri": "https://localhost:8080/"
        },
        "outputId": "eaab82f6-ee44-47bc-e639-44ab1d963127"
      },
      "source": [
        "# 디바이스 설정\n",
        "if torch.cuda.is_available():    \n",
        "    device = torch.device(\"cuda\")\n",
        "    print('There are %d GPU(s) available.' % torch.cuda.device_count())\n",
        "    print('We will use the GPU:', torch.cuda.get_device_name(0))\n",
        "else:\n",
        "    device = torch.device(\"cpu\")\n",
        "    print('No GPU available, using the CPU instead.')"
      ],
      "execution_count": null,
      "outputs": [
        {
          "output_type": "stream",
          "text": [
            "There are 1 GPU(s) available.\n",
            "We will use the GPU: Tesla V100-SXM2-16GB\n"
          ],
          "name": "stdout"
        }
      ]
    },
    {
      "cell_type": "code",
      "metadata": {
        "id": "K_H8eFpw7R-Z",
        "colab": {
          "base_uri": "https://localhost:8080/",
          "height": 1000,
          "referenced_widgets": [
            "e72ab80bdebf48ec88a7857e54ebbc81",
            "93f6f1e3c5694407befaa1d8c2063c38",
            "5add17fa700e44ad96d6e6edc86e9795",
            "b09bb491242043ad9b2e394dce618ce8",
            "15ff6e2e95354456843c3006727c6dee",
            "f014a03f600d49c9afddf9fcfaac4f46",
            "c2972db7918f4e85b88c450f3d1fa3df",
            "ff30d95418254110826bc11f68a88365",
            "e46b9629ec0048a69d71d2efddb3db5a",
            "54cc9c1619d844d8bdf5d48b1cc0b3be",
            "7954049b84384cb98b8ffe37a9c40f01",
            "5bace8b583004b1ab5138e3e5bf08283",
            "a132a012c2fb4463adc2886be8183682",
            "f1dc681cb46049cca8e853ff17016b2b",
            "7941b685f05844f3be3dc34bb9b7c12b",
            "118eb57a645342c08d6a296d3ce9ed55"
          ]
        },
        "outputId": "c10df8d0-9c9f-4232-f082-2e01e9878375"
      },
      "source": [
        "# 분류를 위한 BERT 모델 생성\n",
        "model = BertForSequenceClassification.from_pretrained(\"bert-base-multilingual-cased\", num_labels=2)\n",
        "model.cuda()"
      ],
      "execution_count": null,
      "outputs": [
        {
          "output_type": "display_data",
          "data": {
            "application/vnd.jupyter.widget-view+json": {
              "model_id": "e72ab80bdebf48ec88a7857e54ebbc81",
              "version_minor": 0,
              "version_major": 2
            },
            "text/plain": [
              "HBox(children=(FloatProgress(value=0.0, description='Downloading', max=625.0, style=ProgressStyle(description_…"
            ]
          },
          "metadata": {
            "tags": []
          }
        },
        {
          "output_type": "stream",
          "text": [
            "\n"
          ],
          "name": "stdout"
        },
        {
          "output_type": "display_data",
          "data": {
            "application/vnd.jupyter.widget-view+json": {
              "model_id": "e46b9629ec0048a69d71d2efddb3db5a",
              "version_minor": 0,
              "version_major": 2
            },
            "text/plain": [
              "HBox(children=(FloatProgress(value=0.0, description='Downloading', max=714314041.0, style=ProgressStyle(descri…"
            ]
          },
          "metadata": {
            "tags": []
          }
        },
        {
          "output_type": "stream",
          "text": [
            "\n"
          ],
          "name": "stdout"
        },
        {
          "output_type": "stream",
          "text": [
            "Some weights of the model checkpoint at bert-base-multilingual-cased were not used when initializing BertForSequenceClassification: ['cls.predictions.bias', 'cls.predictions.transform.dense.weight', 'cls.predictions.transform.dense.bias', 'cls.predictions.decoder.weight', 'cls.seq_relationship.weight', 'cls.seq_relationship.bias', 'cls.predictions.transform.LayerNorm.weight', 'cls.predictions.transform.LayerNorm.bias']\n",
            "- This IS expected if you are initializing BertForSequenceClassification from the checkpoint of a model trained on another task or with another architecture (e.g. initializing a BertForSequenceClassification model from a BertForPreTraining model).\n",
            "- This IS NOT expected if you are initializing BertForSequenceClassification from the checkpoint of a model that you expect to be exactly identical (initializing a BertForSequenceClassification model from a BertForSequenceClassification model).\n",
            "Some weights of BertForSequenceClassification were not initialized from the model checkpoint at bert-base-multilingual-cased and are newly initialized: ['classifier.weight', 'classifier.bias']\n",
            "You should probably TRAIN this model on a down-stream task to be able to use it for predictions and inference.\n"
          ],
          "name": "stderr"
        },
        {
          "output_type": "execute_result",
          "data": {
            "text/plain": [
              "BertForSequenceClassification(\n",
              "  (bert): BertModel(\n",
              "    (embeddings): BertEmbeddings(\n",
              "      (word_embeddings): Embedding(119547, 768, padding_idx=0)\n",
              "      (position_embeddings): Embedding(512, 768)\n",
              "      (token_type_embeddings): Embedding(2, 768)\n",
              "      (LayerNorm): LayerNorm((768,), eps=1e-12, elementwise_affine=True)\n",
              "      (dropout): Dropout(p=0.1, inplace=False)\n",
              "    )\n",
              "    (encoder): BertEncoder(\n",
              "      (layer): ModuleList(\n",
              "        (0): BertLayer(\n",
              "          (attention): BertAttention(\n",
              "            (self): BertSelfAttention(\n",
              "              (query): Linear(in_features=768, out_features=768, bias=True)\n",
              "              (key): Linear(in_features=768, out_features=768, bias=True)\n",
              "              (value): Linear(in_features=768, out_features=768, bias=True)\n",
              "              (dropout): Dropout(p=0.1, inplace=False)\n",
              "            )\n",
              "            (output): BertSelfOutput(\n",
              "              (dense): Linear(in_features=768, out_features=768, bias=True)\n",
              "              (LayerNorm): LayerNorm((768,), eps=1e-12, elementwise_affine=True)\n",
              "              (dropout): Dropout(p=0.1, inplace=False)\n",
              "            )\n",
              "          )\n",
              "          (intermediate): BertIntermediate(\n",
              "            (dense): Linear(in_features=768, out_features=3072, bias=True)\n",
              "          )\n",
              "          (output): BertOutput(\n",
              "            (dense): Linear(in_features=3072, out_features=768, bias=True)\n",
              "            (LayerNorm): LayerNorm((768,), eps=1e-12, elementwise_affine=True)\n",
              "            (dropout): Dropout(p=0.1, inplace=False)\n",
              "          )\n",
              "        )\n",
              "        (1): BertLayer(\n",
              "          (attention): BertAttention(\n",
              "            (self): BertSelfAttention(\n",
              "              (query): Linear(in_features=768, out_features=768, bias=True)\n",
              "              (key): Linear(in_features=768, out_features=768, bias=True)\n",
              "              (value): Linear(in_features=768, out_features=768, bias=True)\n",
              "              (dropout): Dropout(p=0.1, inplace=False)\n",
              "            )\n",
              "            (output): BertSelfOutput(\n",
              "              (dense): Linear(in_features=768, out_features=768, bias=True)\n",
              "              (LayerNorm): LayerNorm((768,), eps=1e-12, elementwise_affine=True)\n",
              "              (dropout): Dropout(p=0.1, inplace=False)\n",
              "            )\n",
              "          )\n",
              "          (intermediate): BertIntermediate(\n",
              "            (dense): Linear(in_features=768, out_features=3072, bias=True)\n",
              "          )\n",
              "          (output): BertOutput(\n",
              "            (dense): Linear(in_features=3072, out_features=768, bias=True)\n",
              "            (LayerNorm): LayerNorm((768,), eps=1e-12, elementwise_affine=True)\n",
              "            (dropout): Dropout(p=0.1, inplace=False)\n",
              "          )\n",
              "        )\n",
              "        (2): BertLayer(\n",
              "          (attention): BertAttention(\n",
              "            (self): BertSelfAttention(\n",
              "              (query): Linear(in_features=768, out_features=768, bias=True)\n",
              "              (key): Linear(in_features=768, out_features=768, bias=True)\n",
              "              (value): Linear(in_features=768, out_features=768, bias=True)\n",
              "              (dropout): Dropout(p=0.1, inplace=False)\n",
              "            )\n",
              "            (output): BertSelfOutput(\n",
              "              (dense): Linear(in_features=768, out_features=768, bias=True)\n",
              "              (LayerNorm): LayerNorm((768,), eps=1e-12, elementwise_affine=True)\n",
              "              (dropout): Dropout(p=0.1, inplace=False)\n",
              "            )\n",
              "          )\n",
              "          (intermediate): BertIntermediate(\n",
              "            (dense): Linear(in_features=768, out_features=3072, bias=True)\n",
              "          )\n",
              "          (output): BertOutput(\n",
              "            (dense): Linear(in_features=3072, out_features=768, bias=True)\n",
              "            (LayerNorm): LayerNorm((768,), eps=1e-12, elementwise_affine=True)\n",
              "            (dropout): Dropout(p=0.1, inplace=False)\n",
              "          )\n",
              "        )\n",
              "        (3): BertLayer(\n",
              "          (attention): BertAttention(\n",
              "            (self): BertSelfAttention(\n",
              "              (query): Linear(in_features=768, out_features=768, bias=True)\n",
              "              (key): Linear(in_features=768, out_features=768, bias=True)\n",
              "              (value): Linear(in_features=768, out_features=768, bias=True)\n",
              "              (dropout): Dropout(p=0.1, inplace=False)\n",
              "            )\n",
              "            (output): BertSelfOutput(\n",
              "              (dense): Linear(in_features=768, out_features=768, bias=True)\n",
              "              (LayerNorm): LayerNorm((768,), eps=1e-12, elementwise_affine=True)\n",
              "              (dropout): Dropout(p=0.1, inplace=False)\n",
              "            )\n",
              "          )\n",
              "          (intermediate): BertIntermediate(\n",
              "            (dense): Linear(in_features=768, out_features=3072, bias=True)\n",
              "          )\n",
              "          (output): BertOutput(\n",
              "            (dense): Linear(in_features=3072, out_features=768, bias=True)\n",
              "            (LayerNorm): LayerNorm((768,), eps=1e-12, elementwise_affine=True)\n",
              "            (dropout): Dropout(p=0.1, inplace=False)\n",
              "          )\n",
              "        )\n",
              "        (4): BertLayer(\n",
              "          (attention): BertAttention(\n",
              "            (self): BertSelfAttention(\n",
              "              (query): Linear(in_features=768, out_features=768, bias=True)\n",
              "              (key): Linear(in_features=768, out_features=768, bias=True)\n",
              "              (value): Linear(in_features=768, out_features=768, bias=True)\n",
              "              (dropout): Dropout(p=0.1, inplace=False)\n",
              "            )\n",
              "            (output): BertSelfOutput(\n",
              "              (dense): Linear(in_features=768, out_features=768, bias=True)\n",
              "              (LayerNorm): LayerNorm((768,), eps=1e-12, elementwise_affine=True)\n",
              "              (dropout): Dropout(p=0.1, inplace=False)\n",
              "            )\n",
              "          )\n",
              "          (intermediate): BertIntermediate(\n",
              "            (dense): Linear(in_features=768, out_features=3072, bias=True)\n",
              "          )\n",
              "          (output): BertOutput(\n",
              "            (dense): Linear(in_features=3072, out_features=768, bias=True)\n",
              "            (LayerNorm): LayerNorm((768,), eps=1e-12, elementwise_affine=True)\n",
              "            (dropout): Dropout(p=0.1, inplace=False)\n",
              "          )\n",
              "        )\n",
              "        (5): BertLayer(\n",
              "          (attention): BertAttention(\n",
              "            (self): BertSelfAttention(\n",
              "              (query): Linear(in_features=768, out_features=768, bias=True)\n",
              "              (key): Linear(in_features=768, out_features=768, bias=True)\n",
              "              (value): Linear(in_features=768, out_features=768, bias=True)\n",
              "              (dropout): Dropout(p=0.1, inplace=False)\n",
              "            )\n",
              "            (output): BertSelfOutput(\n",
              "              (dense): Linear(in_features=768, out_features=768, bias=True)\n",
              "              (LayerNorm): LayerNorm((768,), eps=1e-12, elementwise_affine=True)\n",
              "              (dropout): Dropout(p=0.1, inplace=False)\n",
              "            )\n",
              "          )\n",
              "          (intermediate): BertIntermediate(\n",
              "            (dense): Linear(in_features=768, out_features=3072, bias=True)\n",
              "          )\n",
              "          (output): BertOutput(\n",
              "            (dense): Linear(in_features=3072, out_features=768, bias=True)\n",
              "            (LayerNorm): LayerNorm((768,), eps=1e-12, elementwise_affine=True)\n",
              "            (dropout): Dropout(p=0.1, inplace=False)\n",
              "          )\n",
              "        )\n",
              "        (6): BertLayer(\n",
              "          (attention): BertAttention(\n",
              "            (self): BertSelfAttention(\n",
              "              (query): Linear(in_features=768, out_features=768, bias=True)\n",
              "              (key): Linear(in_features=768, out_features=768, bias=True)\n",
              "              (value): Linear(in_features=768, out_features=768, bias=True)\n",
              "              (dropout): Dropout(p=0.1, inplace=False)\n",
              "            )\n",
              "            (output): BertSelfOutput(\n",
              "              (dense): Linear(in_features=768, out_features=768, bias=True)\n",
              "              (LayerNorm): LayerNorm((768,), eps=1e-12, elementwise_affine=True)\n",
              "              (dropout): Dropout(p=0.1, inplace=False)\n",
              "            )\n",
              "          )\n",
              "          (intermediate): BertIntermediate(\n",
              "            (dense): Linear(in_features=768, out_features=3072, bias=True)\n",
              "          )\n",
              "          (output): BertOutput(\n",
              "            (dense): Linear(in_features=3072, out_features=768, bias=True)\n",
              "            (LayerNorm): LayerNorm((768,), eps=1e-12, elementwise_affine=True)\n",
              "            (dropout): Dropout(p=0.1, inplace=False)\n",
              "          )\n",
              "        )\n",
              "        (7): BertLayer(\n",
              "          (attention): BertAttention(\n",
              "            (self): BertSelfAttention(\n",
              "              (query): Linear(in_features=768, out_features=768, bias=True)\n",
              "              (key): Linear(in_features=768, out_features=768, bias=True)\n",
              "              (value): Linear(in_features=768, out_features=768, bias=True)\n",
              "              (dropout): Dropout(p=0.1, inplace=False)\n",
              "            )\n",
              "            (output): BertSelfOutput(\n",
              "              (dense): Linear(in_features=768, out_features=768, bias=True)\n",
              "              (LayerNorm): LayerNorm((768,), eps=1e-12, elementwise_affine=True)\n",
              "              (dropout): Dropout(p=0.1, inplace=False)\n",
              "            )\n",
              "          )\n",
              "          (intermediate): BertIntermediate(\n",
              "            (dense): Linear(in_features=768, out_features=3072, bias=True)\n",
              "          )\n",
              "          (output): BertOutput(\n",
              "            (dense): Linear(in_features=3072, out_features=768, bias=True)\n",
              "            (LayerNorm): LayerNorm((768,), eps=1e-12, elementwise_affine=True)\n",
              "            (dropout): Dropout(p=0.1, inplace=False)\n",
              "          )\n",
              "        )\n",
              "        (8): BertLayer(\n",
              "          (attention): BertAttention(\n",
              "            (self): BertSelfAttention(\n",
              "              (query): Linear(in_features=768, out_features=768, bias=True)\n",
              "              (key): Linear(in_features=768, out_features=768, bias=True)\n",
              "              (value): Linear(in_features=768, out_features=768, bias=True)\n",
              "              (dropout): Dropout(p=0.1, inplace=False)\n",
              "            )\n",
              "            (output): BertSelfOutput(\n",
              "              (dense): Linear(in_features=768, out_features=768, bias=True)\n",
              "              (LayerNorm): LayerNorm((768,), eps=1e-12, elementwise_affine=True)\n",
              "              (dropout): Dropout(p=0.1, inplace=False)\n",
              "            )\n",
              "          )\n",
              "          (intermediate): BertIntermediate(\n",
              "            (dense): Linear(in_features=768, out_features=3072, bias=True)\n",
              "          )\n",
              "          (output): BertOutput(\n",
              "            (dense): Linear(in_features=3072, out_features=768, bias=True)\n",
              "            (LayerNorm): LayerNorm((768,), eps=1e-12, elementwise_affine=True)\n",
              "            (dropout): Dropout(p=0.1, inplace=False)\n",
              "          )\n",
              "        )\n",
              "        (9): BertLayer(\n",
              "          (attention): BertAttention(\n",
              "            (self): BertSelfAttention(\n",
              "              (query): Linear(in_features=768, out_features=768, bias=True)\n",
              "              (key): Linear(in_features=768, out_features=768, bias=True)\n",
              "              (value): Linear(in_features=768, out_features=768, bias=True)\n",
              "              (dropout): Dropout(p=0.1, inplace=False)\n",
              "            )\n",
              "            (output): BertSelfOutput(\n",
              "              (dense): Linear(in_features=768, out_features=768, bias=True)\n",
              "              (LayerNorm): LayerNorm((768,), eps=1e-12, elementwise_affine=True)\n",
              "              (dropout): Dropout(p=0.1, inplace=False)\n",
              "            )\n",
              "          )\n",
              "          (intermediate): BertIntermediate(\n",
              "            (dense): Linear(in_features=768, out_features=3072, bias=True)\n",
              "          )\n",
              "          (output): BertOutput(\n",
              "            (dense): Linear(in_features=3072, out_features=768, bias=True)\n",
              "            (LayerNorm): LayerNorm((768,), eps=1e-12, elementwise_affine=True)\n",
              "            (dropout): Dropout(p=0.1, inplace=False)\n",
              "          )\n",
              "        )\n",
              "        (10): BertLayer(\n",
              "          (attention): BertAttention(\n",
              "            (self): BertSelfAttention(\n",
              "              (query): Linear(in_features=768, out_features=768, bias=True)\n",
              "              (key): Linear(in_features=768, out_features=768, bias=True)\n",
              "              (value): Linear(in_features=768, out_features=768, bias=True)\n",
              "              (dropout): Dropout(p=0.1, inplace=False)\n",
              "            )\n",
              "            (output): BertSelfOutput(\n",
              "              (dense): Linear(in_features=768, out_features=768, bias=True)\n",
              "              (LayerNorm): LayerNorm((768,), eps=1e-12, elementwise_affine=True)\n",
              "              (dropout): Dropout(p=0.1, inplace=False)\n",
              "            )\n",
              "          )\n",
              "          (intermediate): BertIntermediate(\n",
              "            (dense): Linear(in_features=768, out_features=3072, bias=True)\n",
              "          )\n",
              "          (output): BertOutput(\n",
              "            (dense): Linear(in_features=3072, out_features=768, bias=True)\n",
              "            (LayerNorm): LayerNorm((768,), eps=1e-12, elementwise_affine=True)\n",
              "            (dropout): Dropout(p=0.1, inplace=False)\n",
              "          )\n",
              "        )\n",
              "        (11): BertLayer(\n",
              "          (attention): BertAttention(\n",
              "            (self): BertSelfAttention(\n",
              "              (query): Linear(in_features=768, out_features=768, bias=True)\n",
              "              (key): Linear(in_features=768, out_features=768, bias=True)\n",
              "              (value): Linear(in_features=768, out_features=768, bias=True)\n",
              "              (dropout): Dropout(p=0.1, inplace=False)\n",
              "            )\n",
              "            (output): BertSelfOutput(\n",
              "              (dense): Linear(in_features=768, out_features=768, bias=True)\n",
              "              (LayerNorm): LayerNorm((768,), eps=1e-12, elementwise_affine=True)\n",
              "              (dropout): Dropout(p=0.1, inplace=False)\n",
              "            )\n",
              "          )\n",
              "          (intermediate): BertIntermediate(\n",
              "            (dense): Linear(in_features=768, out_features=3072, bias=True)\n",
              "          )\n",
              "          (output): BertOutput(\n",
              "            (dense): Linear(in_features=3072, out_features=768, bias=True)\n",
              "            (LayerNorm): LayerNorm((768,), eps=1e-12, elementwise_affine=True)\n",
              "            (dropout): Dropout(p=0.1, inplace=False)\n",
              "          )\n",
              "        )\n",
              "      )\n",
              "    )\n",
              "    (pooler): BertPooler(\n",
              "      (dense): Linear(in_features=768, out_features=768, bias=True)\n",
              "      (activation): Tanh()\n",
              "    )\n",
              "  )\n",
              "  (dropout): Dropout(p=0.1, inplace=False)\n",
              "  (classifier): Linear(in_features=768, out_features=2, bias=True)\n",
              ")"
            ]
          },
          "metadata": {
            "tags": []
          },
          "execution_count": 16
        }
      ]
    },
    {
      "cell_type": "code",
      "metadata": {
        "id": "LBzmBFA37Wa2"
      },
      "source": [
        "# 옵티마이저 설정\n",
        "optimizer = AdamW(model.parameters(),\n",
        "                  lr = 2e-5, # 학습률\n",
        "                  eps = 1e-8 # 0으로 나누는 것을 방지하기 위한 epsilon 값\n",
        "                )\n",
        "\n",
        "# 에폭수\n",
        "epochs = 5\n",
        "\n",
        "# 총 훈련 스텝 : 배치반복 횟수 * 에폭\n",
        "total_steps = len(train_dataloader) * epochs\n",
        "\n",
        "# 처음에 학습률을 조금씩 변화시키는 스케줄러 생성\n",
        "scheduler = get_linear_schedule_with_warmup(optimizer, \n",
        "                                            num_warmup_steps = 0,\n",
        "                                            num_training_steps = total_steps)"
      ],
      "execution_count": null,
      "outputs": []
    },
    {
      "cell_type": "code",
      "metadata": {
        "id": "zpT9qvrr7Zfc"
      },
      "source": [
        "# 정확도 계산 함수\n",
        "def flat_accuracy(preds, labels):\n",
        "    \n",
        "    pred_flat = np.argmax(preds, axis=1).flatten()\n",
        "    labels_flat = labels.flatten()\n",
        "\n",
        "    return np.sum(pred_flat == labels_flat) / len(labels_flat)"
      ],
      "execution_count": null,
      "outputs": []
    },
    {
      "cell_type": "code",
      "metadata": {
        "id": "tsWxC3c87Zvn"
      },
      "source": [
        "# 시간 표시 함수\n",
        "def format_time(elapsed):\n",
        "\n",
        "    # 반올림\n",
        "    elapsed_rounded = int(round((elapsed)))\n",
        "    \n",
        "    # hh:mm:ss으로 형태 변경\n",
        "    return str(datetime.timedelta(seconds=elapsed_rounded))"
      ],
      "execution_count": null,
      "outputs": []
    },
    {
      "cell_type": "markdown",
      "metadata": {
        "id": "Sj2PRwH-Fwmj"
      },
      "source": [
        "**BERT 감정분석 모델 학습 실행 ①,②**"
      ]
    },
    {
      "cell_type": "markdown",
      "metadata": {
        "id": "9SXx6DYvTBrP"
      },
      "source": [
        "- Training, Validation 진행 (Colab Out of memory 시 초기화 후 분할 재실행 필요)"
      ]
    },
    {
      "cell_type": "code",
      "metadata": {
        "id": "e_0uwTuh7Z6S",
        "colab": {
          "base_uri": "https://localhost:8080/"
        },
        "outputId": "e24d88bf-095d-43a7-d826-ea47c71bc0a1"
      },
      "source": [
        "# 재현을 위해 랜덤시드 고정\n",
        "seed_val = 42\n",
        "random.seed(seed_val)\n",
        "np.random.seed(seed_val)\n",
        "torch.manual_seed(seed_val)\n",
        "torch.cuda.manual_seed_all(seed_val)\n",
        "\n",
        "# 그래디언트 초기화\n",
        "model.zero_grad()\n",
        "\n",
        "# 에폭만큼 반복\n",
        "for epoch_i in range(0, epochs):\n",
        "    \n",
        "    # ========================================\n",
        "    #               Training\n",
        "    # ========================================\n",
        "    \n",
        "    print(\"\")\n",
        "    print('======== Epoch {:} / {:} ========'.format(epoch_i + 1, epochs))\n",
        "    print('Training...')\n",
        "\n",
        "    # 시작 시간 설정\n",
        "    t0 = time.time()\n",
        "\n",
        "    # 로스 초기화\n",
        "    total_loss = 0\n",
        "\n",
        "    # 훈련모드로 변경\n",
        "    model.train()\n",
        "        \n",
        "    # 데이터로더에서 배치만큼 반복하여 가져옴\n",
        "    for step, batch in enumerate(train_dataloader):\n",
        "        # 경과 정보 표시\n",
        "        if step % 500 == 0 and not step == 0:\n",
        "            elapsed = format_time(time.time() - t0)\n",
        "            print('  Batch {:>5,}  of  {:>5,}.    Elapsed: {:}.'.format(step, len(train_dataloader), elapsed))\n",
        "\n",
        "        # 배치를 GPU에 넣음\n",
        "        batch = tuple(t.to(device) for t in batch)\n",
        "        \n",
        "        # 배치에서 데이터 추출\n",
        "        b_input_ids, b_input_mask, b_labels = batch\n",
        "\n",
        "        # Forward 수행                \n",
        "        outputs = model(b_input_ids, \n",
        "                        token_type_ids=None, \n",
        "                        attention_mask=b_input_mask, \n",
        "                        labels=b_labels)\n",
        "        \n",
        "        # 로스 구함\n",
        "        loss = outputs[0]\n",
        "\n",
        "        # 총 로스 계산\n",
        "        total_loss += loss.item()\n",
        "\n",
        "        # Backward 수행으로 그래디언트 계산\n",
        "        loss.backward()\n",
        "\n",
        "        # 그래디언트 클리핑\n",
        "        torch.nn.utils.clip_grad_norm_(model.parameters(), 1.0)\n",
        "\n",
        "        # 그래디언트를 통해 가중치 파라미터 업데이트\n",
        "        optimizer.step()\n",
        "\n",
        "        # 스케줄러로 학습률 감소\n",
        "        scheduler.step()\n",
        "\n",
        "        # 그래디언트 초기화\n",
        "        model.zero_grad()\n",
        "\n",
        "    # 평균 로스 계산\n",
        "    avg_train_loss = total_loss / len(train_dataloader)            \n",
        "\n",
        "    print(\"\")\n",
        "    print(\"  Average training loss: {0:.2f}\".format(avg_train_loss))\n",
        "    print(\"  Training epcoh took: {:}\".format(format_time(time.time() - t0)))\n",
        "        \n",
        "    # ========================================\n",
        "    #               Validation\n",
        "    # ========================================\n",
        "\n",
        "    print(\"\")\n",
        "    print(\"Running Validation...\")\n",
        "\n",
        "    #시작 시간 설정\n",
        "    t0 = time.time()\n",
        "\n",
        "    # 평가모드로 변경\n",
        "    model.eval()\n",
        "\n",
        "    # 변수 초기화\n",
        "    eval_loss, eval_accuracy = 0, 0\n",
        "    nb_eval_steps, nb_eval_examples = 0, 0\n",
        "\n",
        "    # 데이터로더에서 배치만큼 반복하여 가져옴\n",
        "    for batch in validation_dataloader:\n",
        "        # 배치를 GPU에 넣음\n",
        "        batch = tuple(t.to(device) for t in batch)\n",
        "        \n",
        "        # 배치에서 데이터 추출\n",
        "        b_input_ids, b_input_mask, b_labels = batch\n",
        "        \n",
        "        # 그래디언트 계산 안함\n",
        "        with torch.no_grad():     \n",
        "            # Forward 수행\n",
        "            outputs = model(b_input_ids, \n",
        "                            token_type_ids=None, \n",
        "                            attention_mask=b_input_mask)\n",
        "        \n",
        "        # 로스 구함\n",
        "        logits = outputs[0]\n",
        "\n",
        "        # CPU로 데이터 이동\n",
        "        logits = logits.detach().cpu().numpy()\n",
        "        label_ids = b_labels.to('cpu').numpy()\n",
        "        \n",
        "        # 출력 로짓과 라벨을 비교하여 정확도 계산\n",
        "        tmp_eval_accuracy = flat_accuracy(logits, label_ids)\n",
        "        eval_accuracy += tmp_eval_accuracy\n",
        "        nb_eval_steps += 1\n",
        "\n",
        "    print(\"  Accuracy: {0:.2f}\".format(eval_accuracy/nb_eval_steps))\n",
        "    print(\"  Validation took: {:}\".format(format_time(time.time() - t0)))\n",
        "\n",
        "print(\"\")\n",
        "print(\"Training complete!\")"
      ],
      "execution_count": null,
      "outputs": [
        {
          "output_type": "stream",
          "text": [
            "\n",
            "======== Epoch 1 / 5 ========\n",
            "Training...\n",
            "  Batch   500  of  4,219.    Elapsed: 0:01:59.\n",
            "  Batch 1,000  of  4,219.    Elapsed: 0:03:58.\n",
            "  Batch 1,500  of  4,219.    Elapsed: 0:05:57.\n",
            "  Batch 2,000  of  4,219.    Elapsed: 0:07:56.\n",
            "  Batch 2,500  of  4,219.    Elapsed: 0:09:55.\n",
            "  Batch 3,000  of  4,219.    Elapsed: 0:11:53.\n",
            "  Batch 3,500  of  4,219.    Elapsed: 0:13:52.\n",
            "  Batch 4,000  of  4,219.    Elapsed: 0:15:50.\n",
            "\n",
            "  Average training loss: 0.38\n",
            "  Training epcoh took: 0:16:41\n",
            "\n",
            "Running Validation...\n",
            "  Accuracy: 0.86\n",
            "  Validation took: 0:00:32\n",
            "\n",
            "======== Epoch 2 / 5 ========\n",
            "Training...\n",
            "  Batch   500  of  4,219.    Elapsed: 0:01:59.\n",
            "  Batch 1,000  of  4,219.    Elapsed: 0:03:57.\n",
            "  Batch 1,500  of  4,219.    Elapsed: 0:05:55.\n",
            "  Batch 2,000  of  4,219.    Elapsed: 0:07:53.\n",
            "  Batch 2,500  of  4,219.    Elapsed: 0:09:52.\n",
            "  Batch 3,000  of  4,219.    Elapsed: 0:11:50.\n",
            "  Batch 3,500  of  4,219.    Elapsed: 0:13:49.\n",
            "  Batch 4,000  of  4,219.    Elapsed: 0:15:48.\n",
            "\n",
            "  Average training loss: 0.29\n",
            "  Training epcoh took: 0:16:40\n",
            "\n",
            "Running Validation...\n",
            "  Accuracy: 0.87\n",
            "  Validation took: 0:00:32\n",
            "\n",
            "======== Epoch 3 / 5 ========\n",
            "Training...\n",
            "  Batch   500  of  4,219.    Elapsed: 0:01:59.\n",
            "  Batch 1,000  of  4,219.    Elapsed: 0:03:58.\n",
            "  Batch 1,500  of  4,219.    Elapsed: 0:05:57.\n",
            "  Batch 2,000  of  4,219.    Elapsed: 0:07:57.\n",
            "  Batch 2,500  of  4,219.    Elapsed: 0:09:56.\n",
            "  Batch 3,000  of  4,219.    Elapsed: 0:11:55.\n",
            "  Batch 3,500  of  4,219.    Elapsed: 0:13:54.\n",
            "  Batch 4,000  of  4,219.    Elapsed: 0:15:54.\n",
            "\n",
            "  Average training loss: 0.23\n",
            "  Training epcoh took: 0:16:46\n",
            "\n",
            "Running Validation...\n",
            "  Accuracy: 0.87\n",
            "  Validation took: 0:00:32\n",
            "\n",
            "======== Epoch 4 / 5 ========\n",
            "Training...\n",
            "  Batch   500  of  4,219.    Elapsed: 0:02:00.\n",
            "  Batch 1,000  of  4,219.    Elapsed: 0:04:00.\n",
            "  Batch 1,500  of  4,219.    Elapsed: 0:06:00.\n",
            "  Batch 2,000  of  4,219.    Elapsed: 0:08:00.\n",
            "  Batch 2,500  of  4,219.    Elapsed: 0:10:00.\n",
            "  Batch 3,000  of  4,219.    Elapsed: 0:12:00.\n",
            "  Batch 3,500  of  4,219.    Elapsed: 0:14:00.\n",
            "  Batch 4,000  of  4,219.    Elapsed: 0:16:00.\n",
            "\n",
            "  Average training loss: 0.18\n",
            "  Training epcoh took: 0:16:53\n",
            "\n",
            "Running Validation...\n",
            "  Accuracy: 0.87\n",
            "  Validation took: 0:00:32\n",
            "\n",
            "======== Epoch 5 / 5 ========\n",
            "Training...\n",
            "  Batch   500  of  4,219.    Elapsed: 0:02:00.\n",
            "  Batch 1,000  of  4,219.    Elapsed: 0:04:00.\n",
            "  Batch 1,500  of  4,219.    Elapsed: 0:06:00.\n",
            "  Batch 2,000  of  4,219.    Elapsed: 0:08:00.\n",
            "  Batch 2,500  of  4,219.    Elapsed: 0:10:00.\n",
            "  Batch 3,000  of  4,219.    Elapsed: 0:12:00.\n",
            "  Batch 3,500  of  4,219.    Elapsed: 0:14:00.\n",
            "  Batch 4,000  of  4,219.    Elapsed: 0:16:00.\n",
            "\n",
            "  Average training loss: 0.15\n",
            "  Training epcoh took: 0:16:53\n",
            "\n",
            "Running Validation...\n",
            "  Accuracy: 0.87\n",
            "  Validation took: 0:00:32\n",
            "\n",
            "Training complete!\n"
          ],
          "name": "stdout"
        }
      ]
    },
    {
      "cell_type": "markdown",
      "metadata": {
        "id": "DcPj_iEbGHnj"
      },
      "source": [
        "**BERT 감정분석 모델 테스트 ①,②**"
      ]
    },
    {
      "cell_type": "code",
      "metadata": {
        "id": "srY_sTxLE188",
        "colab": {
          "base_uri": "https://localhost:8080/"
        },
        "outputId": "ea91d843-54b3-4cc5-9776-98c9d929ff8c"
      },
      "source": [
        "#시작 시간 설정\n",
        "t0 = time.time()\n",
        "\n",
        "# 평가모드로 변경\n",
        "model.eval()\n",
        "\n",
        "# 변수 초기화\n",
        "eval_loss, eval_accuracy = 0, 0\n",
        "nb_eval_steps, nb_eval_examples = 0, 0\n",
        "\n",
        "# 데이터로더에서 배치만큼 반복하여 가져옴\n",
        "for step, batch in enumerate(test_dataloader):\n",
        "    # 경과 정보 표시\n",
        "    if step % 100 == 0 and not step == 0:\n",
        "        elapsed = format_time(time.time() - t0)\n",
        "        print('  Batch {:>5,}  of  {:>5,}.    Elapsed: {:}.'.format(step, len(test_dataloader), elapsed))\n",
        "\n",
        "    # 배치를 GPU에 넣음\n",
        "    batch = tuple(t.to(device) for t in batch)\n",
        "    \n",
        "    # 배치에서 데이터 추출\n",
        "    b_input_ids, b_input_mask, b_labels = batch\n",
        "    \n",
        "    # 그래디언트 계산 안함\n",
        "    with torch.no_grad():     \n",
        "        # Forward 수행\n",
        "        outputs = model(b_input_ids, \n",
        "                        token_type_ids=None, \n",
        "                        attention_mask=b_input_mask)\n",
        "    \n",
        "    # 로스 구함\n",
        "    logits = outputs[0]\n",
        "\n",
        "    # CPU로 데이터 이동\n",
        "    logits = logits.detach().cpu().numpy()\n",
        "    BERT_output = []\n",
        "    BERT_output = BERT_output.append(logits)\n",
        "    label_ids = b_labels.to('cpu').numpy()\n",
        "    \n",
        "    # 출력 로짓과 라벨을 비교하여 정확도 계산\n",
        "    tmp_eval_accuracy = flat_accuracy(logits, label_ids)\n",
        "    eval_accuracy += tmp_eval_accuracy\n",
        "    nb_eval_steps += 1\n",
        "\n",
        "print(\"\")\n",
        "print(\"Accuracy: {0:.2f}\".format(eval_accuracy/nb_eval_steps))\n",
        "print(\"Test took: {:}\".format(format_time(time.time() - t0)))"
      ],
      "execution_count": null,
      "outputs": [
        {
          "output_type": "stream",
          "text": [
            "  Batch   100  of  1,563.    Elapsed: 0:00:07.\n",
            "  Batch   200  of  1,563.    Elapsed: 0:00:13.\n",
            "  Batch   300  of  1,563.    Elapsed: 0:00:20.\n",
            "  Batch   400  of  1,563.    Elapsed: 0:00:27.\n",
            "  Batch   500  of  1,563.    Elapsed: 0:00:34.\n",
            "  Batch   600  of  1,563.    Elapsed: 0:00:40.\n",
            "  Batch   700  of  1,563.    Elapsed: 0:00:47.\n",
            "  Batch   800  of  1,563.    Elapsed: 0:00:54.\n",
            "  Batch   900  of  1,563.    Elapsed: 0:01:01.\n",
            "  Batch 1,000  of  1,563.    Elapsed: 0:01:07.\n",
            "  Batch 1,100  of  1,563.    Elapsed: 0:01:14.\n",
            "  Batch 1,200  of  1,563.    Elapsed: 0:01:21.\n",
            "  Batch 1,300  of  1,563.    Elapsed: 0:01:28.\n",
            "  Batch 1,400  of  1,563.    Elapsed: 0:01:34.\n",
            "  Batch 1,500  of  1,563.    Elapsed: 0:01:41.\n",
            "\n",
            "Accuracy: 0.87\n",
            "Test took: 0:01:45\n"
          ],
          "name": "stdout"
        }
      ]
    },
    {
      "cell_type": "markdown",
      "metadata": {
        "id": "bvONj04EtcWu"
      },
      "source": [
        "**BERT 감정분석 모델 신규 텍스트 함수 선언 ①,②**"
      ]
    },
    {
      "cell_type": "code",
      "metadata": {
        "id": "KiInMLzGJY1Z"
      },
      "source": [
        "# 문장 테스트\n",
        "def test_sentences(inputs, masks):\n",
        "\n",
        "    # 평가모드로 변경\n",
        "    model.eval()\n",
        "\n",
        "    # 문장을 입력 데이터로 변환\n",
        "    #inputs, masks = convert_input_data(sentences)\n",
        "    inputs = inputs\n",
        "    masks = masks\n",
        "\n",
        "    # 데이터를 GPU에 넣음\n",
        "    b_input_ids = inputs.to(device)\n",
        "    b_input_mask = masks.to(device)\n",
        "            \n",
        "    # 그래디언트 계산 안함\n",
        "    with torch.no_grad():     \n",
        "        # Forward 수행\n",
        "        outputs = model(b_input_ids, \n",
        "                        token_type_ids=None, \n",
        "                        attention_mask=b_input_mask)\n",
        "\n",
        "    # 로스 구함\n",
        "    logits = outputs[0]\n",
        "\n",
        "    # CPU로 데이터 이동\n",
        "    logits = logits.detach().cpu().numpy()\n",
        "\n",
        "    return logits"
      ],
      "execution_count": null,
      "outputs": []
    },
    {
      "cell_type": "markdown",
      "metadata": {
        "id": "b8uTqqANQU1Z"
      },
      "source": [
        "**BERT를 이용한 감정분석 모델 테스트 Output 데이터 생성 ①,②** "
      ]
    },
    {
      "cell_type": "markdown",
      "metadata": {
        "id": "ltINtXfEIMdz"
      },
      "source": [
        "- 테스트 데이터 분리 (코랩 GPU 메모리 문제로 분할 실행)"
      ]
    },
    {
      "cell_type": "code",
      "metadata": {
        "id": "BKULY9ojSvnO"
      },
      "source": [
        "# Kaggle test 데이터 분리 (Colab GPU 활용 제한으로 분리하여 예측 결과 저장 후 병합)\r\n",
        "test_inputs_1 = test_inputs[:2000]\r\n",
        "test_masks_1 = test_masks[:2000]\r\n",
        "test_inputs_2 = test_inputs[2000:4000]\r\n",
        "test_masks_2 = test_masks[2000:4000]\r\n",
        "test_inputs_3 = test_inputs[4000:6000]\r\n",
        "test_masks_3 = test_masks[4000:6000]\r\n",
        "test_inputs_4 = test_inputs[6000:8000]\r\n",
        "test_masks_4 = test_masks[6000:8000]\r\n",
        "test_inputs_5 = test_inputs[8000:10000]\r\n",
        "test_masks_5 = test_masks[8000:10000]"
      ],
      "execution_count": null,
      "outputs": []
    },
    {
      "cell_type": "markdown",
      "metadata": {
        "id": "UIrn64IgIYWS"
      },
      "source": [
        "- 테스트 데이터로 예측 수행 1"
      ]
    },
    {
      "cell_type": "code",
      "metadata": {
        "colab": {
          "base_uri": "https://localhost:8080/"
        },
        "id": "6ar9hOh3FGwA",
        "outputId": "a0d67ee3-11c6-4ab1-e25e-3e50da3a34c1"
      },
      "source": [
        "logits = test_sentences(test_inputs_1, test_masks_1)\r\n",
        "\r\n",
        "x_predict_BERT_1 = np.argmax(logits, axis = 1)\r\n",
        "x_predict_BERT_1 = x_predict_BERT_1.tolist()\r\n",
        "print('예측결과:', x_predict_BERT_1[:10])"
      ],
      "execution_count": null,
      "outputs": [
        {
          "output_type": "stream",
          "text": [
            "예측결과: [1, 0, 1, 0, 0, 1, 0, 0, 0, 1]\n"
          ],
          "name": "stdout"
        }
      ]
    },
    {
      "cell_type": "markdown",
      "metadata": {
        "id": "HtYNebQItMsd"
      },
      "source": [
        "- BERT output csv 파일 저장 1"
      ]
    },
    {
      "cell_type": "code",
      "metadata": {
        "id": "YZDBXFUnoWQ1",
        "colab": {
          "base_uri": "https://localhost:8080/"
        },
        "outputId": "fa4358bd-a442-4f2c-ba74-ca0286d79353"
      },
      "source": [
        "ensemble_BERT_1 = pd.DataFrame({'BERT prediction' : x_predict_BERT_1})\r\n",
        "print(ensemble_BERT_1)"
      ],
      "execution_count": null,
      "outputs": [
        {
          "output_type": "stream",
          "text": [
            "      BERT prediction\n",
            "0                   1\n",
            "1                   0\n",
            "2                   1\n",
            "3                   0\n",
            "4                   0\n",
            "...               ...\n",
            "1995                0\n",
            "1996                0\n",
            "1997                0\n",
            "1998                1\n",
            "1999                1\n",
            "\n",
            "[2000 rows x 1 columns]\n"
          ],
          "name": "stdout"
        }
      ]
    },
    {
      "cell_type": "code",
      "metadata": {
        "id": "v2WIG9a7ob1a"
      },
      "source": [
        "ensemble_BERT_1.to_csv('ensemble_BERT_1.csv')"
      ],
      "execution_count": null,
      "outputs": []
    },
    {
      "cell_type": "markdown",
      "metadata": {
        "id": "UCm0jmGQIbWO"
      },
      "source": [
        "- 테스트 데이터로 예측 수행 2"
      ]
    },
    {
      "cell_type": "code",
      "metadata": {
        "id": "yA9Ox9GjUkq1",
        "colab": {
          "base_uri": "https://localhost:8080/"
        },
        "outputId": "1b6a124a-b888-4106-b312-aed49aa3d6cc"
      },
      "source": [
        "logits = test_sentences(test_inputs_2, test_masks_2)\r\n",
        "\r\n",
        "x_predict_BERT_2 = np.argmax(logits, axis = 1)\r\n",
        "x_predict_BERT_2 = x_predict_BERT_2.tolist()\r\n",
        "print('예측결과:', x_predict_BERT_2[:10])"
      ],
      "execution_count": null,
      "outputs": [
        {
          "output_type": "stream",
          "text": [
            "예측결과: [1, 1, 1, 1, 0, 0, 1, 1, 0, 1]\n"
          ],
          "name": "stdout"
        }
      ]
    },
    {
      "cell_type": "markdown",
      "metadata": {
        "id": "pEoRXOYNtPpB"
      },
      "source": [
        "- BERT output csv 파일 저장 2"
      ]
    },
    {
      "cell_type": "code",
      "metadata": {
        "id": "teuAFwIcoW-4",
        "colab": {
          "base_uri": "https://localhost:8080/"
        },
        "outputId": "ed314774-da4a-440f-fb05-6120c2094949"
      },
      "source": [
        "ensemble_BERT_2 = pd.DataFrame({'BERT prediction' : x_predict_BERT_2})\r\n",
        "print(ensemble_BERT_2)"
      ],
      "execution_count": null,
      "outputs": [
        {
          "output_type": "stream",
          "text": [
            "      BERT prediction\n",
            "0                   1\n",
            "1                   1\n",
            "2                   1\n",
            "3                   1\n",
            "4                   0\n",
            "...               ...\n",
            "1995                0\n",
            "1996                0\n",
            "1997                0\n",
            "1998                0\n",
            "1999                1\n",
            "\n",
            "[2000 rows x 1 columns]\n"
          ],
          "name": "stdout"
        }
      ]
    },
    {
      "cell_type": "code",
      "metadata": {
        "id": "gX_TPBN9ocxT"
      },
      "source": [
        "ensemble_BERT_2.to_csv('ensemble_BERT_2.csv')"
      ],
      "execution_count": null,
      "outputs": []
    },
    {
      "cell_type": "markdown",
      "metadata": {
        "id": "4Vd2HEWKIhF1"
      },
      "source": [
        "- 테스트 데이터로 예측 수행 3"
      ]
    },
    {
      "cell_type": "code",
      "metadata": {
        "id": "tGqaNjzIUlI0",
        "colab": {
          "base_uri": "https://localhost:8080/"
        },
        "outputId": "51b5d80c-2541-4c30-e4dc-e67d28d418f1"
      },
      "source": [
        "logits = test_sentences(test_inputs_3, test_masks_3)\r\n",
        "\r\n",
        "x_predict_BERT_3 = np.argmax(logits, axis = 1)\r\n",
        "x_predict_BERT_3 = x_predict_BERT_3.tolist()\r\n",
        "print('예측결과:', x_predict_BERT_3[:10])"
      ],
      "execution_count": null,
      "outputs": [
        {
          "output_type": "stream",
          "text": [
            "예측결과: [1, 1, 1, 0, 0, 0, 0, 0, 1, 1]\n"
          ],
          "name": "stdout"
        }
      ]
    },
    {
      "cell_type": "markdown",
      "metadata": {
        "id": "nqOAgJ-ZtR6M"
      },
      "source": [
        "- BERT output csv 파일 저장 3"
      ]
    },
    {
      "cell_type": "code",
      "metadata": {
        "id": "tSoE5yWfoX7k",
        "colab": {
          "base_uri": "https://localhost:8080/"
        },
        "outputId": "572d697a-a231-4b2a-9aeb-9bfb20298913"
      },
      "source": [
        "ensemble_BERT_3 = pd.DataFrame({'BERT prediction' : x_predict_BERT_3})\r\n",
        "print(ensemble_BERT_3)"
      ],
      "execution_count": null,
      "outputs": [
        {
          "output_type": "stream",
          "text": [
            "      BERT prediction\n",
            "0                   1\n",
            "1                   1\n",
            "2                   1\n",
            "3                   0\n",
            "4                   0\n",
            "...               ...\n",
            "1995                0\n",
            "1996                0\n",
            "1997                1\n",
            "1998                0\n",
            "1999                0\n",
            "\n",
            "[2000 rows x 1 columns]\n"
          ],
          "name": "stdout"
        }
      ]
    },
    {
      "cell_type": "code",
      "metadata": {
        "id": "CDAakdA1odqI"
      },
      "source": [
        "ensemble_BERT_3.to_csv('ensemble_BERT_3.csv')"
      ],
      "execution_count": null,
      "outputs": []
    },
    {
      "cell_type": "markdown",
      "metadata": {
        "id": "POp5WH-QIljx"
      },
      "source": [
        "- 테스트 데이터로 예측 수행 4"
      ]
    },
    {
      "cell_type": "code",
      "metadata": {
        "colab": {
          "base_uri": "https://localhost:8080/"
        },
        "id": "dpJ9c904ID4e",
        "outputId": "8fd7140e-7016-4e49-d33a-e0f808f94e99"
      },
      "source": [
        "logits = test_sentences(test_inputs_4, test_masks_4)\r\n",
        "\r\n",
        "x_predict_BERT_4 = np.argmax(logits, axis = 1)\r\n",
        "x_predict_BERT_4 = x_predict_BERT_4.tolist()\r\n",
        "print('예측결과:', x_predict_BERT_4[:10])"
      ],
      "execution_count": null,
      "outputs": [
        {
          "output_type": "stream",
          "text": [
            "예측결과: [1, 1, 0, 0, 1, 0, 0, 1, 1, 1]\n"
          ],
          "name": "stdout"
        }
      ]
    },
    {
      "cell_type": "markdown",
      "metadata": {
        "id": "WeF8-11WIyoB"
      },
      "source": [
        "- BERT output csv 파일 저장 4"
      ]
    },
    {
      "cell_type": "code",
      "metadata": {
        "colab": {
          "base_uri": "https://localhost:8080/"
        },
        "id": "W6NADRiqIDxy",
        "outputId": "a39c476a-6985-431f-eae6-f07de82bd62f"
      },
      "source": [
        "ensemble_BERT_4 = pd.DataFrame({'BERT prediction' : x_predict_BERT_4})\r\n",
        "print(ensemble_BERT_4)"
      ],
      "execution_count": null,
      "outputs": [
        {
          "output_type": "stream",
          "text": [
            "      BERT prediction\n",
            "0                   1\n",
            "1                   1\n",
            "2                   0\n",
            "3                   0\n",
            "4                   1\n",
            "...               ...\n",
            "1995                1\n",
            "1996                1\n",
            "1997                0\n",
            "1998                0\n",
            "1999                0\n",
            "\n",
            "[2000 rows x 1 columns]\n"
          ],
          "name": "stdout"
        }
      ]
    },
    {
      "cell_type": "code",
      "metadata": {
        "id": "EtoysaqlIDrz"
      },
      "source": [
        "ensemble_BERT_4.to_csv('ensemble_BERT_4.csv')"
      ],
      "execution_count": null,
      "outputs": []
    },
    {
      "cell_type": "markdown",
      "metadata": {
        "id": "gH_fKx_qI1WJ"
      },
      "source": [
        "- 테스트 데이터로 예측 수행 5"
      ]
    },
    {
      "cell_type": "code",
      "metadata": {
        "colab": {
          "base_uri": "https://localhost:8080/"
        },
        "id": "0CJ-dD3pIDkl",
        "outputId": "5c5011e0-8b39-4df1-8ccc-7155a230a641"
      },
      "source": [
        "logits = test_sentences(test_inputs_5, test_masks_5)\r\n",
        "\r\n",
        "x_predict_BERT_5 = np.argmax(logits, axis = 1)\r\n",
        "x_predict_BERT_5 = x_predict_BERT_5.tolist()\r\n",
        "print('예측결과:', x_predict_BERT_5[:10])"
      ],
      "execution_count": null,
      "outputs": [
        {
          "output_type": "stream",
          "text": [
            "예측결과: [0, 0, 0, 1, 1, 0, 0, 1, 0, 1]\n"
          ],
          "name": "stdout"
        }
      ]
    },
    {
      "cell_type": "markdown",
      "metadata": {
        "id": "s-WAZ1HWJLtO"
      },
      "source": [
        "- BERT output csv 파일 저장 5"
      ]
    },
    {
      "cell_type": "code",
      "metadata": {
        "colab": {
          "base_uri": "https://localhost:8080/"
        },
        "id": "SfAds69tIDdz",
        "outputId": "7bf6c14a-fe2a-4a77-a897-2d4e12ebc3de"
      },
      "source": [
        "ensemble_BERT_5 = pd.DataFrame({'BERT prediction' : x_predict_BERT_5})\r\n",
        "print(ensemble_BERT_5)"
      ],
      "execution_count": null,
      "outputs": [
        {
          "output_type": "stream",
          "text": [
            "      BERT prediction\n",
            "0                   0\n",
            "1                   0\n",
            "2                   0\n",
            "3                   1\n",
            "4                   1\n",
            "...               ...\n",
            "1995                1\n",
            "1996                0\n",
            "1997                0\n",
            "1998                0\n",
            "1999                1\n",
            "\n",
            "[2000 rows x 1 columns]\n"
          ],
          "name": "stdout"
        }
      ]
    },
    {
      "cell_type": "code",
      "metadata": {
        "id": "Vzh0G0PNIDWf"
      },
      "source": [
        "ensemble_BERT_5.to_csv('ensemble_BERT_5.csv')"
      ],
      "execution_count": null,
      "outputs": []
    },
    {
      "cell_type": "markdown",
      "metadata": {
        "id": "U-6cNv5SQJjv"
      },
      "source": [
        "**BERT 예측결과 CSV 파일 저장**"
      ]
    },
    {
      "cell_type": "code",
      "metadata": {
        "id": "47L9xstLqU8b"
      },
      "source": [
        "ensemble_BERT = np.concatenate((x_predict_BERT_1, x_predict_BERT_2, x_predict_BERT_3, x_predict_BERT_4, x_predict_BERT_5), axis = 0)"
      ],
      "execution_count": null,
      "outputs": []
    },
    {
      "cell_type": "code",
      "metadata": {
        "id": "-mNyF1s3_ur5"
      },
      "source": [
        "ensemble_BERT_out = pd.DataFrame({'BERT prediction' : ensemble_BERT})\r\n",
        "print(ensemble_BERT_out)"
      ],
      "execution_count": null,
      "outputs": []
    },
    {
      "cell_type": "code",
      "metadata": {
        "id": "LRf8akl0qUvb"
      },
      "source": [
        "ensemble_BERT_out.to_csv('ensemble_BERT.csv')"
      ],
      "execution_count": null,
      "outputs": []
    },
    {
      "cell_type": "markdown",
      "metadata": {
        "id": "JBgsKBIT_qit"
      },
      "source": [
        "※ 본 셀은 GPU 사용량 문제로 BERT 분할 예측결과 CSV 파일 업로드 시에만 사용"
      ]
    },
    {
      "cell_type": "markdown",
      "metadata": {
        "id": "GPDVq5ZopP74"
      },
      "source": [
        "- 업로드 ensemble_BERT_1, ensemble_BERT_2, ensemble_BERT_3, ensemble_BERT_4, ensemble_BERT_5"
      ]
    },
    {
      "cell_type": "code",
      "metadata": {
        "id": "7YN1jmtorTnT",
        "colab": {
          "resources": {
            "http://localhost:8080/nbextensions/google.colab/files.js": {
              "data": "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",
              "ok": true,
              "headers": [
                [
                  "content-type",
                  "application/javascript"
                ]
              ],
              "status": 200,
              "status_text": ""
            }
          },
          "base_uri": "https://localhost:8080/",
          "height": 322
        },
        "outputId": "0d9ed6f1-cb79-46b4-b547-f66fa51cc00b"
      },
      "source": [
        "from google.colab import files\r\n",
        "files.upload()"
      ],
      "execution_count": null,
      "outputs": [
        {
          "output_type": "display_data",
          "data": {
            "text/html": [
              "\n",
              "     <input type=\"file\" id=\"files-eb963cda-fdaf-45d7-bdc2-ba9799ec8786\" name=\"files[]\" multiple disabled\n",
              "        style=\"border:none\" />\n",
              "     <output id=\"result-eb963cda-fdaf-45d7-bdc2-ba9799ec8786\">\n",
              "      Upload widget is only available when the cell has been executed in the\n",
              "      current browser session. Please rerun this cell to enable.\n",
              "      </output>\n",
              "      <script src=\"/nbextensions/google.colab/files.js\"></script> "
            ],
            "text/plain": [
              "<IPython.core.display.HTML object>"
            ]
          },
          "metadata": {
            "tags": []
          }
        },
        {
          "output_type": "stream",
          "text": [
            "Saving ensemble_BERT_1.csv to ensemble_BERT_1.csv\n",
            "Saving ensemble_BERT_2.csv to ensemble_BERT_2.csv\n",
            "Saving ensemble_BERT_3.csv to ensemble_BERT_3.csv\n",
            "Saving ensemble_BERT_4.csv to ensemble_BERT_4.csv\n",
            "Saving ensemble_BERT_5.csv to ensemble_BERT_5.csv\n"
          ],
          "name": "stdout"
        },
        {
          "output_type": "execute_result",
          "data": {
            "text/plain": [
              "{'ensemble_BERT_1.csv': b',BERT prediction\\n0,1\\n1,0\\n2,1\\n3,0\\n4,0\\n5,1\\n6,0\\n7,0\\n8,0\\n9,1\\n10,1\\n11,0\\n12,1\\n13,1\\n14,0\\n15,1\\n16,1\\n17,0\\n18,0\\n19,0\\n20,1\\n21,0\\n22,1\\n23,1\\n24,0\\n25,0\\n26,1\\n27,1\\n28,0\\n29,1\\n30,1\\n31,1\\n32,0\\n33,1\\n34,0\\n35,0\\n36,0\\n37,0\\n38,0\\n39,0\\n40,0\\n41,0\\n42,0\\n43,1\\n44,1\\n45,1\\n46,1\\n47,0\\n48,1\\n49,1\\n50,0\\n51,0\\n52,0\\n53,1\\n54,1\\n55,1\\n56,1\\n57,0\\n58,1\\n59,1\\n60,0\\n61,0\\n62,0\\n63,0\\n64,1\\n65,0\\n66,1\\n67,1\\n68,1\\n69,1\\n70,0\\n71,0\\n72,0\\n73,0\\n74,0\\n75,1\\n76,1\\n77,1\\n78,1\\n79,0\\n80,0\\n81,1\\n82,0\\n83,1\\n84,0\\n85,1\\n86,1\\n87,0\\n88,1\\n89,1\\n90,0\\n91,1\\n92,0\\n93,1\\n94,0\\n95,0\\n96,1\\n97,1\\n98,0\\n99,1\\n100,0\\n101,0\\n102,1\\n103,1\\n104,1\\n105,0\\n106,1\\n107,1\\n108,0\\n109,1\\n110,1\\n111,0\\n112,1\\n113,1\\n114,1\\n115,0\\n116,1\\n117,1\\n118,1\\n119,1\\n120,0\\n121,0\\n122,1\\n123,1\\n124,0\\n125,1\\n126,0\\n127,1\\n128,0\\n129,1\\n130,0\\n131,0\\n132,0\\n133,1\\n134,1\\n135,1\\n136,1\\n137,1\\n138,1\\n139,1\\n140,0\\n141,0\\n142,1\\n143,1\\n144,0\\n145,1\\n146,1\\n147,0\\n148,0\\n149,1\\n150,1\\n151,0\\n152,1\\n153,1\\n154,1\\n155,1\\n156,1\\n157,0\\n158,1\\n159,0\\n160,1\\n161,1\\n162,1\\n163,1\\n164,1\\n165,0\\n166,1\\n167,1\\n168,1\\n169,0\\n170,0\\n171,0\\n172,1\\n173,1\\n174,1\\n175,0\\n176,1\\n177,1\\n178,0\\n179,1\\n180,1\\n181,1\\n182,0\\n183,0\\n184,1\\n185,1\\n186,0\\n187,0\\n188,0\\n189,1\\n190,1\\n191,0\\n192,1\\n193,1\\n194,1\\n195,0\\n196,1\\n197,1\\n198,0\\n199,0\\n200,0\\n201,1\\n202,1\\n203,1\\n204,1\\n205,1\\n206,1\\n207,0\\n208,0\\n209,1\\n210,1\\n211,1\\n212,0\\n213,1\\n214,0\\n215,0\\n216,1\\n217,1\\n218,0\\n219,1\\n220,1\\n221,1\\n222,0\\n223,0\\n224,0\\n225,1\\n226,1\\n227,0\\n228,1\\n229,0\\n230,0\\n231,0\\n232,1\\n233,1\\n234,1\\n235,0\\n236,0\\n237,1\\n238,0\\n239,0\\n240,0\\n241,1\\n242,1\\n243,1\\n244,0\\n245,1\\n246,1\\n247,1\\n248,1\\n249,0\\n250,0\\n251,0\\n252,0\\n253,0\\n254,0\\n255,1\\n256,1\\n257,1\\n258,0\\n259,1\\n260,0\\n261,1\\n262,1\\n263,1\\n264,1\\n265,0\\n266,1\\n267,0\\n268,1\\n269,1\\n270,1\\n271,1\\n272,0\\n273,1\\n274,1\\n275,1\\n276,0\\n277,1\\n278,0\\n279,1\\n280,1\\n281,1\\n282,1\\n283,0\\n284,0\\n285,0\\n286,1\\n287,1\\n288,0\\n289,1\\n290,1\\n291,1\\n292,1\\n293,1\\n294,1\\n295,0\\n296,1\\n297,0\\n298,1\\n299,1\\n300,1\\n301,1\\n302,1\\n303,0\\n304,0\\n305,1\\n306,0\\n307,1\\n308,1\\n309,1\\n310,0\\n311,1\\n312,1\\n313,1\\n314,0\\n315,0\\n316,0\\n317,0\\n318,0\\n319,0\\n320,0\\n321,0\\n322,1\\n323,1\\n324,0\\n325,1\\n326,0\\n327,1\\n328,1\\n329,0\\n330,1\\n331,1\\n332,0\\n333,1\\n334,0\\n335,0\\n336,1\\n337,0\\n338,1\\n339,1\\n340,1\\n341,1\\n342,0\\n343,0\\n344,1\\n345,0\\n346,1\\n347,1\\n348,0\\n349,0\\n350,1\\n351,0\\n352,1\\n353,0\\n354,0\\n355,0\\n356,1\\n357,0\\n358,0\\n359,1\\n360,1\\n361,0\\n362,1\\n363,1\\n364,1\\n365,1\\n366,1\\n367,0\\n368,1\\n369,1\\n370,1\\n371,1\\n372,1\\n373,0\\n374,1\\n375,0\\n376,1\\n377,0\\n378,0\\n379,1\\n380,1\\n381,1\\n382,1\\n383,0\\n384,1\\n385,0\\n386,1\\n387,1\\n388,1\\n389,1\\n390,0\\n391,0\\n392,1\\n393,0\\n394,1\\n395,1\\n396,1\\n397,0\\n398,1\\n399,0\\n400,1\\n401,1\\n402,0\\n403,0\\n404,1\\n405,1\\n406,0\\n407,1\\n408,0\\n409,0\\n410,0\\n411,1\\n412,0\\n413,1\\n414,0\\n415,1\\n416,1\\n417,0\\n418,0\\n419,0\\n420,0\\n421,0\\n422,0\\n423,0\\n424,1\\n425,1\\n426,0\\n427,0\\n428,1\\n429,1\\n430,0\\n431,1\\n432,0\\n433,1\\n434,1\\n435,0\\n436,0\\n437,0\\n438,0\\n439,0\\n440,1\\n441,1\\n442,0\\n443,0\\n444,1\\n445,0\\n446,0\\n447,1\\n448,0\\n449,0\\n450,1\\n451,0\\n452,1\\n453,0\\n454,1\\n455,1\\n456,0\\n457,0\\n458,0\\n459,0\\n460,0\\n461,0\\n462,0\\n463,1\\n464,0\\n465,1\\n466,0\\n467,0\\n468,1\\n469,0\\n470,1\\n471,1\\n472,1\\n473,1\\n474,0\\n475,1\\n476,1\\n477,0\\n478,1\\n479,0\\n480,1\\n481,0\\n482,0\\n483,0\\n484,1\\n485,0\\n486,0\\n487,0\\n488,0\\n489,1\\n490,0\\n491,1\\n492,1\\n493,0\\n494,0\\n495,0\\n496,1\\n497,1\\n498,1\\n499,1\\n500,1\\n501,0\\n502,1\\n503,0\\n504,0\\n505,1\\n506,1\\n507,1\\n508,0\\n509,0\\n510,0\\n511,0\\n512,1\\n513,1\\n514,0\\n515,1\\n516,0\\n517,0\\n518,1\\n519,1\\n520,0\\n521,0\\n522,0\\n523,0\\n524,0\\n525,0\\n526,0\\n527,1\\n528,1\\n529,1\\n530,0\\n531,1\\n532,1\\n533,0\\n534,0\\n535,1\\n536,1\\n537,1\\n538,0\\n539,0\\n540,1\\n541,0\\n542,1\\n543,1\\n544,0\\n545,1\\n546,1\\n547,0\\n548,1\\n549,0\\n550,1\\n551,1\\n552,1\\n553,0\\n554,0\\n555,1\\n556,1\\n557,1\\n558,0\\n559,1\\n560,1\\n561,0\\n562,0\\n563,0\\n564,0\\n565,0\\n566,0\\n567,1\\n568,0\\n569,1\\n570,0\\n571,1\\n572,1\\n573,1\\n574,0\\n575,0\\n576,1\\n577,1\\n578,0\\n579,1\\n580,1\\n581,0\\n582,0\\n583,0\\n584,0\\n585,1\\n586,0\\n587,0\\n588,1\\n589,0\\n590,1\\n591,0\\n592,1\\n593,1\\n594,0\\n595,1\\n596,1\\n597,0\\n598,0\\n599,1\\n600,1\\n601,1\\n602,1\\n603,1\\n604,0\\n605,1\\n606,1\\n607,1\\n608,0\\n609,1\\n610,1\\n611,1\\n612,0\\n613,0\\n614,0\\n615,0\\n616,1\\n617,0\\n618,0\\n619,0\\n620,1\\n621,0\\n622,1\\n623,1\\n624,1\\n625,0\\n626,0\\n627,0\\n628,1\\n629,1\\n630,0\\n631,1\\n632,1\\n633,1\\n634,0\\n635,1\\n636,1\\n637,1\\n638,1\\n639,1\\n640,1\\n641,0\\n642,0\\n643,0\\n644,1\\n645,0\\n646,1\\n647,1\\n648,1\\n649,0\\n650,1\\n651,0\\n652,1\\n653,0\\n654,0\\n655,1\\n656,1\\n657,1\\n658,1\\n659,0\\n660,0\\n661,1\\n662,1\\n663,1\\n664,1\\n665,1\\n666,0\\n667,1\\n668,1\\n669,0\\n670,0\\n671,0\\n672,1\\n673,1\\n674,0\\n675,0\\n676,1\\n677,0\\n678,0\\n679,0\\n680,1\\n681,1\\n682,1\\n683,0\\n684,0\\n685,1\\n686,0\\n687,0\\n688,0\\n689,1\\n690,1\\n691,0\\n692,1\\n693,1\\n694,1\\n695,1\\n696,1\\n697,1\\n698,0\\n699,1\\n700,1\\n701,0\\n702,0\\n703,1\\n704,1\\n705,0\\n706,0\\n707,0\\n708,0\\n709,1\\n710,1\\n711,0\\n712,0\\n713,1\\n714,1\\n715,0\\n716,0\\n717,0\\n718,1\\n719,0\\n720,0\\n721,0\\n722,0\\n723,1\\n724,1\\n725,1\\n726,0\\n727,1\\n728,1\\n729,0\\n730,1\\n731,0\\n732,0\\n733,1\\n734,0\\n735,1\\n736,0\\n737,0\\n738,0\\n739,1\\n740,0\\n741,1\\n742,1\\n743,1\\n744,0\\n745,1\\n746,1\\n747,0\\n748,0\\n749,1\\n750,0\\n751,1\\n752,0\\n753,1\\n754,1\\n755,1\\n756,1\\n757,0\\n758,1\\n759,0\\n760,1\\n761,0\\n762,0\\n763,0\\n764,1\\n765,1\\n766,1\\n767,1\\n768,1\\n769,1\\n770,1\\n771,0\\n772,1\\n773,0\\n774,0\\n775,0\\n776,0\\n777,0\\n778,1\\n779,0\\n780,1\\n781,1\\n782,0\\n783,1\\n784,0\\n785,1\\n786,0\\n787,1\\n788,0\\n789,0\\n790,0\\n791,1\\n792,0\\n793,0\\n794,1\\n795,1\\n796,0\\n797,1\\n798,0\\n799,0\\n800,1\\n801,1\\n802,0\\n803,0\\n804,0\\n805,0\\n806,1\\n807,0\\n808,1\\n809,0\\n810,1\\n811,0\\n812,1\\n813,0\\n814,1\\n815,1\\n816,0\\n817,0\\n818,0\\n819,1\\n820,0\\n821,0\\n822,0\\n823,0\\n824,0\\n825,1\\n826,0\\n827,1\\n828,1\\n829,0\\n830,0\\n831,1\\n832,1\\n833,1\\n834,0\\n835,0\\n836,0\\n837,1\\n838,1\\n839,0\\n840,0\\n841,1\\n842,1\\n843,0\\n844,1\\n845,0\\n846,1\\n847,0\\n848,0\\n849,1\\n850,1\\n851,0\\n852,0\\n853,1\\n854,0\\n855,0\\n856,1\\n857,0\\n858,0\\n859,0\\n860,1\\n861,1\\n862,0\\n863,0\\n864,1\\n865,1\\n866,0\\n867,1\\n868,1\\n869,1\\n870,1\\n871,1\\n872,1\\n873,1\\n874,1\\n875,0\\n876,0\\n877,0\\n878,1\\n879,0\\n880,0\\n881,0\\n882,0\\n883,0\\n884,0\\n885,1\\n886,0\\n887,1\\n888,1\\n889,1\\n890,0\\n891,1\\n892,0\\n893,0\\n894,1\\n895,1\\n896,0\\n897,0\\n898,1\\n899,1\\n900,0\\n901,0\\n902,1\\n903,0\\n904,0\\n905,1\\n906,1\\n907,0\\n908,0\\n909,0\\n910,1\\n911,1\\n912,1\\n913,1\\n914,1\\n915,1\\n916,1\\n917,0\\n918,0\\n919,1\\n920,0\\n921,1\\n922,1\\n923,1\\n924,0\\n925,0\\n926,0\\n927,0\\n928,0\\n929,0\\n930,0\\n931,0\\n932,1\\n933,1\\n934,1\\n935,0\\n936,1\\n937,0\\n938,1\\n939,0\\n940,0\\n941,1\\n942,0\\n943,0\\n944,1\\n945,1\\n946,1\\n947,0\\n948,1\\n949,1\\n950,1\\n951,1\\n952,1\\n953,0\\n954,1\\n955,0\\n956,1\\n957,1\\n958,0\\n959,1\\n960,1\\n961,0\\n962,1\\n963,0\\n964,0\\n965,0\\n966,0\\n967,0\\n968,0\\n969,1\\n970,0\\n971,0\\n972,1\\n973,0\\n974,1\\n975,1\\n976,1\\n977,0\\n978,1\\n979,0\\n980,0\\n981,0\\n982,0\\n983,1\\n984,1\\n985,0\\n986,1\\n987,0\\n988,0\\n989,1\\n990,0\\n991,1\\n992,0\\n993,1\\n994,0\\n995,1\\n996,0\\n997,0\\n998,0\\n999,0\\n1000,1\\n1001,0\\n1002,1\\n1003,1\\n1004,1\\n1005,1\\n1006,0\\n1007,1\\n1008,0\\n1009,0\\n1010,0\\n1011,1\\n1012,0\\n1013,0\\n1014,1\\n1015,0\\n1016,0\\n1017,0\\n1018,0\\n1019,1\\n1020,1\\n1021,0\\n1022,0\\n1023,1\\n1024,1\\n1025,1\\n1026,1\\n1027,0\\n1028,0\\n1029,1\\n1030,0\\n1031,0\\n1032,0\\n1033,0\\n1034,0\\n1035,1\\n1036,1\\n1037,1\\n1038,0\\n1039,0\\n1040,1\\n1041,1\\n1042,1\\n1043,0\\n1044,0\\n1045,1\\n1046,1\\n1047,1\\n1048,1\\n1049,1\\n1050,1\\n1051,1\\n1052,0\\n1053,0\\n1054,0\\n1055,0\\n1056,0\\n1057,1\\n1058,0\\n1059,0\\n1060,1\\n1061,1\\n1062,1\\n1063,1\\n1064,1\\n1065,1\\n1066,1\\n1067,1\\n1068,1\\n1069,1\\n1070,1\\n1071,0\\n1072,1\\n1073,0\\n1074,1\\n1075,0\\n1076,0\\n1077,1\\n1078,0\\n1079,0\\n1080,1\\n1081,0\\n1082,0\\n1083,1\\n1084,1\\n1085,1\\n1086,0\\n1087,0\\n1088,1\\n1089,1\\n1090,0\\n1091,0\\n1092,0\\n1093,0\\n1094,0\\n1095,0\\n1096,0\\n1097,1\\n1098,0\\n1099,1\\n1100,1\\n1101,1\\n1102,1\\n1103,0\\n1104,0\\n1105,0\\n1106,1\\n1107,1\\n1108,1\\n1109,1\\n1110,0\\n1111,1\\n1112,1\\n1113,1\\n1114,0\\n1115,0\\n1116,0\\n1117,0\\n1118,0\\n1119,1\\n1120,1\\n1121,0\\n1122,1\\n1123,1\\n1124,1\\n1125,0\\n1126,0\\n1127,0\\n1128,0\\n1129,1\\n1130,1\\n1131,0\\n1132,0\\n1133,0\\n1134,1\\n1135,1\\n1136,1\\n1137,1\\n1138,0\\n1139,1\\n1140,0\\n1141,1\\n1142,0\\n1143,0\\n1144,0\\n1145,0\\n1146,1\\n1147,1\\n1148,1\\n1149,1\\n1150,1\\n1151,1\\n1152,0\\n1153,0\\n1154,0\\n1155,0\\n1156,0\\n1157,1\\n1158,0\\n1159,1\\n1160,1\\n1161,1\\n1162,0\\n1163,0\\n1164,0\\n1165,0\\n1166,0\\n1167,0\\n1168,0\\n1169,0\\n1170,0\\n1171,0\\n1172,1\\n1173,0\\n1174,0\\n1175,1\\n1176,0\\n1177,1\\n1178,0\\n1179,0\\n1180,0\\n1181,0\\n1182,1\\n1183,1\\n1184,1\\n1185,0\\n1186,1\\n1187,1\\n1188,0\\n1189,0\\n1190,0\\n1191,0\\n1192,1\\n1193,0\\n1194,1\\n1195,1\\n1196,1\\n1197,0\\n1198,1\\n1199,0\\n1200,0\\n1201,1\\n1202,1\\n1203,1\\n1204,0\\n1205,0\\n1206,1\\n1207,0\\n1208,0\\n1209,1\\n1210,0\\n1211,0\\n1212,0\\n1213,1\\n1214,1\\n1215,1\\n1216,1\\n1217,1\\n1218,0\\n1219,0\\n1220,0\\n1221,0\\n1222,1\\n1223,1\\n1224,0\\n1225,0\\n1226,1\\n1227,0\\n1228,0\\n1229,0\\n1230,1\\n1231,0\\n1232,1\\n1233,0\\n1234,1\\n1235,0\\n1236,1\\n1237,1\\n1238,1\\n1239,1\\n1240,1\\n1241,0\\n1242,1\\n1243,1\\n1244,0\\n1245,0\\n1246,0\\n1247,0\\n1248,1\\n1249,1\\n1250,1\\n1251,0\\n1252,1\\n1253,1\\n1254,0\\n1255,1\\n1256,0\\n1257,0\\n1258,0\\n1259,1\\n1260,0\\n1261,1\\n1262,0\\n1263,1\\n1264,0\\n1265,1\\n1266,1\\n1267,0\\n1268,0\\n1269,1\\n1270,1\\n1271,1\\n1272,1\\n1273,1\\n1274,0\\n1275,1\\n1276,1\\n1277,1\\n1278,0\\n1279,1\\n1280,1\\n1281,0\\n1282,1\\n1283,1\\n1284,0\\n1285,1\\n1286,1\\n1287,1\\n1288,0\\n1289,1\\n1290,1\\n1291,0\\n1292,0\\n1293,0\\n1294,0\\n1295,0\\n1296,0\\n1297,0\\n1298,0\\n1299,1\\n1300,0\\n1301,0\\n1302,0\\n1303,0\\n1304,0\\n1305,0\\n1306,0\\n1307,0\\n1308,1\\n1309,1\\n1310,0\\n1311,1\\n1312,0\\n1313,1\\n1314,0\\n1315,1\\n1316,0\\n1317,1\\n1318,0\\n1319,0\\n1320,1\\n1321,0\\n1322,1\\n1323,1\\n1324,0\\n1325,0\\n1326,0\\n1327,0\\n1328,1\\n1329,1\\n1330,1\\n1331,1\\n1332,1\\n1333,0\\n1334,0\\n1335,0\\n1336,0\\n1337,1\\n1338,1\\n1339,0\\n1340,1\\n1341,1\\n1342,1\\n1343,1\\n1344,1\\n1345,0\\n1346,1\\n1347,1\\n1348,1\\n1349,0\\n1350,1\\n1351,1\\n1352,1\\n1353,1\\n1354,1\\n1355,1\\n1356,0\\n1357,0\\n1358,0\\n1359,0\\n1360,1\\n1361,1\\n1362,0\\n1363,0\\n1364,1\\n1365,0\\n1366,1\\n1367,0\\n1368,0\\n1369,1\\n1370,1\\n1371,0\\n1372,0\\n1373,0\\n1374,1\\n1375,0\\n1376,1\\n1377,1\\n1378,1\\n1379,1\\n1380,1\\n1381,1\\n1382,0\\n1383,1\\n1384,0\\n1385,1\\n1386,1\\n1387,0\\n1388,1\\n1389,0\\n1390,0\\n1391,0\\n1392,1\\n1393,0\\n1394,0\\n1395,1\\n1396,1\\n1397,1\\n1398,1\\n1399,0\\n1400,1\\n1401,0\\n1402,1\\n1403,0\\n1404,0\\n1405,1\\n1406,1\\n1407,1\\n1408,0\\n1409,1\\n1410,0\\n1411,1\\n1412,0\\n1413,0\\n1414,1\\n1415,1\\n1416,1\\n1417,0\\n1418,1\\n1419,0\\n1420,1\\n1421,0\\n1422,1\\n1423,1\\n1424,1\\n1425,0\\n1426,0\\n1427,0\\n1428,0\\n1429,0\\n1430,1\\n1431,0\\n1432,0\\n1433,1\\n1434,1\\n1435,1\\n1436,0\\n1437,1\\n1438,0\\n1439,0\\n1440,1\\n1441,1\\n1442,1\\n1443,1\\n1444,1\\n1445,1\\n1446,1\\n1447,0\\n1448,0\\n1449,0\\n1450,1\\n1451,0\\n1452,0\\n1453,1\\n1454,1\\n1455,1\\n1456,1\\n1457,1\\n1458,1\\n1459,0\\n1460,1\\n1461,1\\n1462,0\\n1463,1\\n1464,0\\n1465,0\\n1466,0\\n1467,0\\n1468,1\\n1469,0\\n1470,1\\n1471,0\\n1472,1\\n1473,0\\n1474,1\\n1475,1\\n1476,1\\n1477,1\\n1478,0\\n1479,1\\n1480,1\\n1481,0\\n1482,0\\n1483,0\\n1484,0\\n1485,0\\n1486,1\\n1487,1\\n1488,1\\n1489,1\\n1490,0\\n1491,0\\n1492,1\\n1493,1\\n1494,0\\n1495,1\\n1496,0\\n1497,1\\n1498,1\\n1499,1\\n1500,1\\n1501,1\\n1502,0\\n1503,0\\n1504,0\\n1505,0\\n1506,1\\n1507,0\\n1508,0\\n1509,1\\n1510,1\\n1511,1\\n1512,0\\n1513,1\\n1514,1\\n1515,1\\n1516,0\\n1517,1\\n1518,1\\n1519,0\\n1520,0\\n1521,0\\n1522,0\\n1523,0\\n1524,0\\n1525,0\\n1526,0\\n1527,1\\n1528,0\\n1529,1\\n1530,1\\n1531,0\\n1532,1\\n1533,0\\n1534,1\\n1535,0\\n1536,0\\n1537,0\\n1538,0\\n1539,1\\n1540,0\\n1541,1\\n1542,0\\n1543,1\\n1544,1\\n1545,0\\n1546,1\\n1547,1\\n1548,0\\n1549,0\\n1550,1\\n1551,1\\n1552,1\\n1553,1\\n1554,1\\n1555,1\\n1556,0\\n1557,0\\n1558,1\\n1559,1\\n1560,0\\n1561,1\\n1562,0\\n1563,0\\n1564,1\\n1565,0\\n1566,1\\n1567,0\\n1568,1\\n1569,1\\n1570,0\\n1571,0\\n1572,0\\n1573,1\\n1574,1\\n1575,0\\n1576,0\\n1577,0\\n1578,1\\n1579,0\\n1580,1\\n1581,1\\n1582,1\\n1583,1\\n1584,0\\n1585,1\\n1586,1\\n1587,1\\n1588,1\\n1589,0\\n1590,1\\n1591,1\\n1592,0\\n1593,1\\n1594,0\\n1595,0\\n1596,0\\n1597,1\\n1598,1\\n1599,0\\n1600,1\\n1601,1\\n1602,0\\n1603,1\\n1604,1\\n1605,1\\n1606,1\\n1607,1\\n1608,0\\n1609,1\\n1610,1\\n1611,0\\n1612,1\\n1613,1\\n1614,1\\n1615,0\\n1616,1\\n1617,1\\n1618,1\\n1619,0\\n1620,1\\n1621,0\\n1622,1\\n1623,1\\n1624,1\\n1625,1\\n1626,0\\n1627,1\\n1628,1\\n1629,0\\n1630,1\\n1631,0\\n1632,0\\n1633,0\\n1634,1\\n1635,0\\n1636,1\\n1637,1\\n1638,1\\n1639,1\\n1640,1\\n1641,0\\n1642,0\\n1643,1\\n1644,0\\n1645,1\\n1646,0\\n1647,0\\n1648,1\\n1649,1\\n1650,0\\n1651,1\\n1652,1\\n1653,1\\n1654,0\\n1655,1\\n1656,1\\n1657,1\\n1658,1\\n1659,0\\n1660,0\\n1661,1\\n1662,0\\n1663,0\\n1664,1\\n1665,0\\n1666,0\\n1667,1\\n1668,0\\n1669,0\\n1670,1\\n1671,1\\n1672,0\\n1673,0\\n1674,1\\n1675,1\\n1676,0\\n1677,1\\n1678,0\\n1679,0\\n1680,1\\n1681,1\\n1682,0\\n1683,1\\n1684,1\\n1685,0\\n1686,0\\n1687,0\\n1688,1\\n1689,1\\n1690,1\\n1691,1\\n1692,1\\n1693,0\\n1694,1\\n1695,0\\n1696,0\\n1697,1\\n1698,1\\n1699,1\\n1700,1\\n1701,1\\n1702,1\\n1703,1\\n1704,0\\n1705,1\\n1706,0\\n1707,0\\n1708,0\\n1709,1\\n1710,0\\n1711,0\\n1712,1\\n1713,0\\n1714,1\\n1715,1\\n1716,0\\n1717,0\\n1718,0\\n1719,1\\n1720,1\\n1721,1\\n1722,0\\n1723,0\\n1724,0\\n1725,0\\n1726,1\\n1727,1\\n1728,1\\n1729,1\\n1730,1\\n1731,1\\n1732,0\\n1733,0\\n1734,1\\n1735,0\\n1736,0\\n1737,0\\n1738,1\\n1739,0\\n1740,1\\n1741,0\\n1742,0\\n1743,1\\n1744,0\\n1745,0\\n1746,1\\n1747,0\\n1748,0\\n1749,0\\n1750,0\\n1751,0\\n1752,1\\n1753,0\\n1754,1\\n1755,1\\n1756,0\\n1757,1\\n1758,0\\n1759,1\\n1760,1\\n1761,1\\n1762,1\\n1763,0\\n1764,0\\n1765,0\\n1766,1\\n1767,0\\n1768,1\\n1769,0\\n1770,0\\n1771,1\\n1772,1\\n1773,0\\n1774,1\\n1775,0\\n1776,0\\n1777,0\\n1778,0\\n1779,0\\n1780,0\\n1781,1\\n1782,0\\n1783,0\\n1784,0\\n1785,0\\n1786,0\\n1787,1\\n1788,1\\n1789,0\\n1790,1\\n1791,0\\n1792,1\\n1793,0\\n1794,1\\n1795,0\\n1796,0\\n1797,0\\n1798,0\\n1799,0\\n1800,0\\n1801,1\\n1802,1\\n1803,1\\n1804,1\\n1805,0\\n1806,0\\n1807,0\\n1808,1\\n1809,0\\n1810,0\\n1811,1\\n1812,0\\n1813,0\\n1814,1\\n1815,0\\n1816,1\\n1817,0\\n1818,1\\n1819,0\\n1820,1\\n1821,0\\n1822,0\\n1823,1\\n1824,0\\n1825,1\\n1826,0\\n1827,1\\n1828,1\\n1829,0\\n1830,0\\n1831,0\\n1832,0\\n1833,0\\n1834,0\\n1835,0\\n1836,1\\n1837,0\\n1838,0\\n1839,1\\n1840,1\\n1841,0\\n1842,0\\n1843,0\\n1844,0\\n1845,1\\n1846,1\\n1847,0\\n1848,0\\n1849,1\\n1850,0\\n1851,0\\n1852,0\\n1853,1\\n1854,0\\n1855,1\\n1856,1\\n1857,1\\n1858,0\\n1859,1\\n1860,1\\n1861,0\\n1862,0\\n1863,1\\n1864,0\\n1865,1\\n1866,1\\n1867,1\\n1868,0\\n1869,1\\n1870,0\\n1871,0\\n1872,0\\n1873,1\\n1874,0\\n1875,1\\n1876,1\\n1877,1\\n1878,0\\n1879,1\\n1880,0\\n1881,1\\n1882,0\\n1883,1\\n1884,1\\n1885,1\\n1886,0\\n1887,0\\n1888,0\\n1889,0\\n1890,1\\n1891,0\\n1892,1\\n1893,1\\n1894,1\\n1895,0\\n1896,1\\n1897,1\\n1898,0\\n1899,0\\n1900,1\\n1901,0\\n1902,0\\n1903,1\\n1904,1\\n1905,1\\n1906,0\\n1907,1\\n1908,1\\n1909,0\\n1910,1\\n1911,0\\n1912,1\\n1913,1\\n1914,0\\n1915,1\\n1916,1\\n1917,0\\n1918,0\\n1919,0\\n1920,1\\n1921,1\\n1922,0\\n1923,0\\n1924,0\\n1925,0\\n1926,0\\n1927,0\\n1928,1\\n1929,0\\n1930,1\\n1931,0\\n1932,1\\n1933,1\\n1934,0\\n1935,0\\n1936,1\\n1937,0\\n1938,1\\n1939,1\\n1940,1\\n1941,0\\n1942,0\\n1943,0\\n1944,0\\n1945,0\\n1946,0\\n1947,1\\n1948,0\\n1949,0\\n1950,0\\n1951,1\\n1952,0\\n1953,0\\n1954,1\\n1955,0\\n1956,1\\n1957,1\\n1958,1\\n1959,1\\n1960,0\\n1961,0\\n1962,1\\n1963,0\\n1964,1\\n1965,0\\n1966,0\\n1967,1\\n1968,0\\n1969,1\\n1970,1\\n1971,1\\n1972,1\\n1973,0\\n1974,0\\n1975,0\\n1976,0\\n1977,1\\n1978,1\\n1979,0\\n1980,1\\n1981,0\\n1982,1\\n1983,1\\n1984,1\\n1985,1\\n1986,0\\n1987,0\\n1988,0\\n1989,1\\n1990,1\\n1991,0\\n1992,0\\n1993,0\\n1994,0\\n1995,0\\n1996,0\\n1997,0\\n1998,1\\n1999,1\\n',\n",
              " 'ensemble_BERT_2.csv': b',BERT prediction\\n0,1\\n1,1\\n2,1\\n3,1\\n4,0\\n5,0\\n6,1\\n7,1\\n8,0\\n9,1\\n10,0\\n11,1\\n12,0\\n13,1\\n14,0\\n15,0\\n16,0\\n17,0\\n18,1\\n19,0\\n20,1\\n21,0\\n22,0\\n23,0\\n24,1\\n25,1\\n26,1\\n27,0\\n28,0\\n29,0\\n30,0\\n31,1\\n32,1\\n33,1\\n34,1\\n35,0\\n36,0\\n37,1\\n38,1\\n39,0\\n40,1\\n41,0\\n42,0\\n43,0\\n44,0\\n45,1\\n46,1\\n47,0\\n48,0\\n49,0\\n50,1\\n51,1\\n52,0\\n53,0\\n54,1\\n55,1\\n56,0\\n57,1\\n58,1\\n59,1\\n60,1\\n61,0\\n62,0\\n63,0\\n64,1\\n65,1\\n66,0\\n67,0\\n68,0\\n69,0\\n70,1\\n71,1\\n72,1\\n73,0\\n74,0\\n75,1\\n76,1\\n77,1\\n78,0\\n79,0\\n80,0\\n81,0\\n82,0\\n83,1\\n84,0\\n85,0\\n86,0\\n87,1\\n88,1\\n89,0\\n90,0\\n91,0\\n92,1\\n93,1\\n94,1\\n95,0\\n96,1\\n97,1\\n98,0\\n99,0\\n100,0\\n101,0\\n102,0\\n103,0\\n104,1\\n105,1\\n106,1\\n107,1\\n108,0\\n109,0\\n110,1\\n111,1\\n112,0\\n113,1\\n114,0\\n115,0\\n116,1\\n117,1\\n118,0\\n119,0\\n120,1\\n121,1\\n122,0\\n123,0\\n124,1\\n125,1\\n126,1\\n127,0\\n128,1\\n129,0\\n130,1\\n131,0\\n132,0\\n133,0\\n134,1\\n135,0\\n136,0\\n137,1\\n138,1\\n139,1\\n140,1\\n141,0\\n142,0\\n143,0\\n144,0\\n145,1\\n146,1\\n147,1\\n148,0\\n149,1\\n150,1\\n151,1\\n152,0\\n153,0\\n154,1\\n155,1\\n156,0\\n157,1\\n158,0\\n159,1\\n160,0\\n161,0\\n162,0\\n163,0\\n164,0\\n165,0\\n166,0\\n167,1\\n168,1\\n169,1\\n170,0\\n171,0\\n172,0\\n173,1\\n174,0\\n175,1\\n176,1\\n177,0\\n178,0\\n179,0\\n180,1\\n181,1\\n182,0\\n183,0\\n184,1\\n185,0\\n186,0\\n187,1\\n188,0\\n189,0\\n190,1\\n191,1\\n192,0\\n193,0\\n194,1\\n195,0\\n196,0\\n197,0\\n198,0\\n199,0\\n200,1\\n201,0\\n202,1\\n203,0\\n204,0\\n205,1\\n206,1\\n207,0\\n208,0\\n209,0\\n210,1\\n211,1\\n212,1\\n213,1\\n214,0\\n215,1\\n216,0\\n217,0\\n218,1\\n219,1\\n220,0\\n221,1\\n222,1\\n223,1\\n224,0\\n225,0\\n226,1\\n227,0\\n228,1\\n229,0\\n230,1\\n231,1\\n232,1\\n233,1\\n234,0\\n235,1\\n236,0\\n237,1\\n238,1\\n239,0\\n240,1\\n241,1\\n242,1\\n243,1\\n244,1\\n245,0\\n246,1\\n247,1\\n248,0\\n249,1\\n250,1\\n251,0\\n252,1\\n253,0\\n254,1\\n255,1\\n256,0\\n257,0\\n258,1\\n259,0\\n260,0\\n261,0\\n262,0\\n263,0\\n264,1\\n265,0\\n266,1\\n267,0\\n268,1\\n269,0\\n270,0\\n271,1\\n272,0\\n273,0\\n274,1\\n275,0\\n276,0\\n277,1\\n278,0\\n279,1\\n280,1\\n281,0\\n282,1\\n283,1\\n284,1\\n285,1\\n286,1\\n287,1\\n288,0\\n289,0\\n290,1\\n291,1\\n292,0\\n293,1\\n294,0\\n295,0\\n296,0\\n297,0\\n298,0\\n299,0\\n300,1\\n301,1\\n302,1\\n303,0\\n304,0\\n305,1\\n306,0\\n307,1\\n308,0\\n309,1\\n310,1\\n311,1\\n312,1\\n313,0\\n314,0\\n315,1\\n316,0\\n317,0\\n318,1\\n319,0\\n320,1\\n321,1\\n322,0\\n323,1\\n324,0\\n325,1\\n326,1\\n327,0\\n328,1\\n329,0\\n330,1\\n331,1\\n332,0\\n333,1\\n334,0\\n335,1\\n336,1\\n337,0\\n338,0\\n339,1\\n340,1\\n341,1\\n342,0\\n343,0\\n344,1\\n345,1\\n346,0\\n347,1\\n348,0\\n349,0\\n350,1\\n351,0\\n352,1\\n353,1\\n354,1\\n355,1\\n356,1\\n357,1\\n358,0\\n359,0\\n360,0\\n361,0\\n362,1\\n363,1\\n364,0\\n365,0\\n366,0\\n367,1\\n368,1\\n369,0\\n370,0\\n371,0\\n372,0\\n373,1\\n374,0\\n375,1\\n376,1\\n377,0\\n378,1\\n379,1\\n380,0\\n381,0\\n382,0\\n383,0\\n384,1\\n385,0\\n386,0\\n387,0\\n388,0\\n389,1\\n390,0\\n391,0\\n392,1\\n393,0\\n394,0\\n395,0\\n396,1\\n397,1\\n398,1\\n399,1\\n400,0\\n401,0\\n402,0\\n403,0\\n404,0\\n405,0\\n406,1\\n407,1\\n408,1\\n409,1\\n410,0\\n411,0\\n412,0\\n413,1\\n414,0\\n415,1\\n416,1\\n417,1\\n418,0\\n419,1\\n420,1\\n421,1\\n422,0\\n423,1\\n424,1\\n425,0\\n426,1\\n427,0\\n428,1\\n429,1\\n430,0\\n431,1\\n432,1\\n433,1\\n434,0\\n435,0\\n436,0\\n437,1\\n438,0\\n439,0\\n440,0\\n441,1\\n442,0\\n443,1\\n444,1\\n445,1\\n446,1\\n447,1\\n448,0\\n449,0\\n450,1\\n451,1\\n452,0\\n453,0\\n454,0\\n455,0\\n456,1\\n457,0\\n458,1\\n459,0\\n460,0\\n461,1\\n462,0\\n463,1\\n464,0\\n465,0\\n466,0\\n467,0\\n468,1\\n469,0\\n470,1\\n471,0\\n472,1\\n473,1\\n474,1\\n475,0\\n476,0\\n477,0\\n478,1\\n479,0\\n480,0\\n481,0\\n482,0\\n483,1\\n484,1\\n485,0\\n486,0\\n487,0\\n488,0\\n489,1\\n490,1\\n491,0\\n492,1\\n493,0\\n494,0\\n495,1\\n496,0\\n497,0\\n498,1\\n499,0\\n500,0\\n501,1\\n502,0\\n503,0\\n504,1\\n505,0\\n506,0\\n507,1\\n508,1\\n509,1\\n510,1\\n511,1\\n512,0\\n513,0\\n514,1\\n515,0\\n516,1\\n517,0\\n518,1\\n519,1\\n520,1\\n521,0\\n522,1\\n523,1\\n524,0\\n525,1\\n526,1\\n527,0\\n528,1\\n529,0\\n530,0\\n531,0\\n532,0\\n533,0\\n534,0\\n535,1\\n536,0\\n537,1\\n538,1\\n539,0\\n540,1\\n541,1\\n542,0\\n543,0\\n544,1\\n545,1\\n546,0\\n547,0\\n548,1\\n549,0\\n550,1\\n551,0\\n552,0\\n553,1\\n554,1\\n555,1\\n556,1\\n557,0\\n558,0\\n559,0\\n560,0\\n561,1\\n562,1\\n563,1\\n564,1\\n565,1\\n566,1\\n567,1\\n568,0\\n569,1\\n570,1\\n571,1\\n572,0\\n573,1\\n574,0\\n575,1\\n576,0\\n577,1\\n578,0\\n579,0\\n580,0\\n581,0\\n582,1\\n583,1\\n584,0\\n585,1\\n586,0\\n587,0\\n588,0\\n589,0\\n590,0\\n591,0\\n592,0\\n593,0\\n594,1\\n595,0\\n596,0\\n597,0\\n598,1\\n599,1\\n600,0\\n601,0\\n602,0\\n603,0\\n604,0\\n605,1\\n606,0\\n607,0\\n608,1\\n609,1\\n610,0\\n611,1\\n612,0\\n613,0\\n614,1\\n615,1\\n616,1\\n617,0\\n618,0\\n619,0\\n620,1\\n621,0\\n622,1\\n623,1\\n624,1\\n625,0\\n626,1\\n627,1\\n628,1\\n629,1\\n630,1\\n631,0\\n632,1\\n633,0\\n634,0\\n635,1\\n636,0\\n637,1\\n638,0\\n639,1\\n640,0\\n641,1\\n642,0\\n643,1\\n644,1\\n645,1\\n646,1\\n647,1\\n648,0\\n649,1\\n650,0\\n651,1\\n652,1\\n653,1\\n654,1\\n655,0\\n656,0\\n657,1\\n658,0\\n659,0\\n660,0\\n661,1\\n662,1\\n663,0\\n664,0\\n665,1\\n666,0\\n667,0\\n668,0\\n669,1\\n670,0\\n671,0\\n672,1\\n673,0\\n674,1\\n675,0\\n676,0\\n677,1\\n678,1\\n679,0\\n680,1\\n681,0\\n682,1\\n683,0\\n684,0\\n685,1\\n686,1\\n687,0\\n688,0\\n689,1\\n690,1\\n691,1\\n692,0\\n693,1\\n694,1\\n695,0\\n696,1\\n697,0\\n698,0\\n699,0\\n700,1\\n701,0\\n702,1\\n703,1\\n704,1\\n705,1\\n706,1\\n707,1\\n708,1\\n709,0\\n710,1\\n711,0\\n712,0\\n713,0\\n714,1\\n715,1\\n716,0\\n717,0\\n718,0\\n719,1\\n720,0\\n721,0\\n722,0\\n723,0\\n724,1\\n725,1\\n726,0\\n727,0\\n728,0\\n729,1\\n730,0\\n731,1\\n732,0\\n733,0\\n734,1\\n735,1\\n736,1\\n737,1\\n738,0\\n739,1\\n740,0\\n741,1\\n742,1\\n743,1\\n744,1\\n745,1\\n746,1\\n747,0\\n748,1\\n749,0\\n750,1\\n751,1\\n752,1\\n753,1\\n754,1\\n755,1\\n756,0\\n757,0\\n758,0\\n759,1\\n760,1\\n761,0\\n762,1\\n763,0\\n764,1\\n765,1\\n766,1\\n767,1\\n768,0\\n769,1\\n770,0\\n771,0\\n772,1\\n773,0\\n774,1\\n775,1\\n776,1\\n777,1\\n778,0\\n779,1\\n780,1\\n781,1\\n782,1\\n783,1\\n784,0\\n785,0\\n786,0\\n787,1\\n788,0\\n789,0\\n790,1\\n791,0\\n792,0\\n793,1\\n794,0\\n795,1\\n796,1\\n797,0\\n798,0\\n799,0\\n800,1\\n801,0\\n802,1\\n803,0\\n804,0\\n805,0\\n806,1\\n807,1\\n808,0\\n809,1\\n810,1\\n811,0\\n812,1\\n813,0\\n814,1\\n815,0\\n816,1\\n817,0\\n818,1\\n819,1\\n820,1\\n821,0\\n822,0\\n823,1\\n824,0\\n825,0\\n826,0\\n827,1\\n828,1\\n829,1\\n830,1\\n831,1\\n832,1\\n833,0\\n834,1\\n835,1\\n836,0\\n837,0\\n838,0\\n839,1\\n840,1\\n841,1\\n842,1\\n843,1\\n844,1\\n845,1\\n846,0\\n847,0\\n848,0\\n849,1\\n850,1\\n851,0\\n852,1\\n853,1\\n854,0\\n855,0\\n856,0\\n857,0\\n858,0\\n859,1\\n860,1\\n861,1\\n862,1\\n863,0\\n864,0\\n865,1\\n866,0\\n867,1\\n868,1\\n869,0\\n870,1\\n871,1\\n872,1\\n873,1\\n874,1\\n875,0\\n876,0\\n877,0\\n878,1\\n879,0\\n880,1\\n881,0\\n882,0\\n883,1\\n884,1\\n885,0\\n886,1\\n887,1\\n888,0\\n889,0\\n890,0\\n891,1\\n892,0\\n893,0\\n894,0\\n895,1\\n896,0\\n897,0\\n898,1\\n899,1\\n900,1\\n901,0\\n902,0\\n903,0\\n904,1\\n905,0\\n906,0\\n907,1\\n908,0\\n909,1\\n910,0\\n911,1\\n912,1\\n913,0\\n914,0\\n915,0\\n916,0\\n917,0\\n918,1\\n919,1\\n920,0\\n921,0\\n922,1\\n923,0\\n924,0\\n925,1\\n926,0\\n927,0\\n928,0\\n929,1\\n930,0\\n931,1\\n932,0\\n933,0\\n934,1\\n935,0\\n936,1\\n937,1\\n938,0\\n939,1\\n940,0\\n941,0\\n942,1\\n943,0\\n944,1\\n945,1\\n946,1\\n947,0\\n948,0\\n949,1\\n950,0\\n951,1\\n952,1\\n953,1\\n954,0\\n955,0\\n956,1\\n957,0\\n958,0\\n959,1\\n960,1\\n961,1\\n962,1\\n963,1\\n964,0\\n965,1\\n966,1\\n967,0\\n968,1\\n969,1\\n970,0\\n971,0\\n972,1\\n973,1\\n974,0\\n975,1\\n976,1\\n977,0\\n978,1\\n979,1\\n980,1\\n981,1\\n982,0\\n983,0\\n984,1\\n985,0\\n986,1\\n987,0\\n988,0\\n989,0\\n990,0\\n991,1\\n992,1\\n993,1\\n994,1\\n995,1\\n996,0\\n997,1\\n998,0\\n999,1\\n1000,1\\n1001,1\\n1002,1\\n1003,1\\n1004,0\\n1005,1\\n1006,1\\n1007,0\\n1008,1\\n1009,0\\n1010,1\\n1011,0\\n1012,0\\n1013,0\\n1014,0\\n1015,0\\n1016,1\\n1017,1\\n1018,1\\n1019,1\\n1020,0\\n1021,0\\n1022,0\\n1023,1\\n1024,0\\n1025,1\\n1026,1\\n1027,0\\n1028,0\\n1029,1\\n1030,0\\n1031,1\\n1032,0\\n1033,0\\n1034,0\\n1035,0\\n1036,1\\n1037,0\\n1038,1\\n1039,1\\n1040,1\\n1041,0\\n1042,1\\n1043,1\\n1044,1\\n1045,0\\n1046,0\\n1047,1\\n1048,1\\n1049,1\\n1050,1\\n1051,1\\n1052,0\\n1053,0\\n1054,0\\n1055,1\\n1056,0\\n1057,1\\n1058,0\\n1059,1\\n1060,1\\n1061,0\\n1062,0\\n1063,1\\n1064,0\\n1065,0\\n1066,1\\n1067,0\\n1068,0\\n1069,0\\n1070,0\\n1071,1\\n1072,0\\n1073,1\\n1074,0\\n1075,1\\n1076,1\\n1077,0\\n1078,0\\n1079,1\\n1080,1\\n1081,1\\n1082,1\\n1083,1\\n1084,0\\n1085,1\\n1086,0\\n1087,0\\n1088,1\\n1089,0\\n1090,1\\n1091,0\\n1092,1\\n1093,0\\n1094,0\\n1095,0\\n1096,0\\n1097,1\\n1098,1\\n1099,1\\n1100,1\\n1101,0\\n1102,1\\n1103,0\\n1104,0\\n1105,1\\n1106,1\\n1107,0\\n1108,0\\n1109,0\\n1110,0\\n1111,1\\n1112,1\\n1113,1\\n1114,0\\n1115,0\\n1116,1\\n1117,1\\n1118,1\\n1119,0\\n1120,0\\n1121,1\\n1122,0\\n1123,0\\n1124,1\\n1125,1\\n1126,1\\n1127,1\\n1128,1\\n1129,0\\n1130,0\\n1131,1\\n1132,0\\n1133,1\\n1134,0\\n1135,1\\n1136,0\\n1137,0\\n1138,0\\n1139,1\\n1140,0\\n1141,1\\n1142,0\\n1143,0\\n1144,1\\n1145,1\\n1146,1\\n1147,0\\n1148,1\\n1149,1\\n1150,0\\n1151,0\\n1152,0\\n1153,0\\n1154,0\\n1155,0\\n1156,0\\n1157,1\\n1158,0\\n1159,1\\n1160,0\\n1161,0\\n1162,1\\n1163,1\\n1164,0\\n1165,1\\n1166,0\\n1167,1\\n1168,1\\n1169,1\\n1170,0\\n1171,0\\n1172,0\\n1173,1\\n1174,0\\n1175,0\\n1176,1\\n1177,0\\n1178,1\\n1179,1\\n1180,0\\n1181,0\\n1182,1\\n1183,0\\n1184,1\\n1185,1\\n1186,0\\n1187,1\\n1188,0\\n1189,0\\n1190,1\\n1191,1\\n1192,1\\n1193,0\\n1194,1\\n1195,0\\n1196,0\\n1197,1\\n1198,0\\n1199,1\\n1200,1\\n1201,1\\n1202,1\\n1203,0\\n1204,0\\n1205,0\\n1206,1\\n1207,1\\n1208,0\\n1209,0\\n1210,1\\n1211,0\\n1212,1\\n1213,0\\n1214,1\\n1215,1\\n1216,1\\n1217,1\\n1218,0\\n1219,0\\n1220,1\\n1221,0\\n1222,1\\n1223,1\\n1224,1\\n1225,1\\n1226,0\\n1227,1\\n1228,1\\n1229,1\\n1230,1\\n1231,1\\n1232,1\\n1233,1\\n1234,1\\n1235,0\\n1236,1\\n1237,0\\n1238,0\\n1239,1\\n1240,1\\n1241,0\\n1242,0\\n1243,0\\n1244,1\\n1245,0\\n1246,0\\n1247,0\\n1248,0\\n1249,0\\n1250,0\\n1251,0\\n1252,1\\n1253,1\\n1254,0\\n1255,1\\n1256,0\\n1257,0\\n1258,1\\n1259,0\\n1260,0\\n1261,0\\n1262,1\\n1263,1\\n1264,1\\n1265,1\\n1266,0\\n1267,0\\n1268,0\\n1269,0\\n1270,1\\n1271,1\\n1272,1\\n1273,1\\n1274,1\\n1275,1\\n1276,1\\n1277,0\\n1278,0\\n1279,0\\n1280,0\\n1281,1\\n1282,1\\n1283,0\\n1284,0\\n1285,1\\n1286,0\\n1287,1\\n1288,0\\n1289,0\\n1290,1\\n1291,1\\n1292,1\\n1293,1\\n1294,0\\n1295,0\\n1296,1\\n1297,0\\n1298,0\\n1299,0\\n1300,1\\n1301,0\\n1302,1\\n1303,0\\n1304,0\\n1305,1\\n1306,1\\n1307,1\\n1308,0\\n1309,1\\n1310,1\\n1311,1\\n1312,1\\n1313,0\\n1314,1\\n1315,0\\n1316,1\\n1317,1\\n1318,0\\n1319,1\\n1320,0\\n1321,0\\n1322,1\\n1323,0\\n1324,1\\n1325,0\\n1326,1\\n1327,0\\n1328,0\\n1329,1\\n1330,0\\n1331,1\\n1332,0\\n1333,0\\n1334,1\\n1335,1\\n1336,1\\n1337,1\\n1338,1\\n1339,1\\n1340,0\\n1341,1\\n1342,1\\n1343,0\\n1344,1\\n1345,0\\n1346,0\\n1347,1\\n1348,1\\n1349,0\\n1350,0\\n1351,0\\n1352,0\\n1353,1\\n1354,0\\n1355,1\\n1356,1\\n1357,1\\n1358,0\\n1359,1\\n1360,0\\n1361,1\\n1362,1\\n1363,0\\n1364,0\\n1365,0\\n1366,0\\n1367,1\\n1368,1\\n1369,1\\n1370,1\\n1371,0\\n1372,1\\n1373,1\\n1374,1\\n1375,0\\n1376,0\\n1377,0\\n1378,1\\n1379,0\\n1380,1\\n1381,1\\n1382,0\\n1383,0\\n1384,0\\n1385,0\\n1386,1\\n1387,1\\n1388,1\\n1389,0\\n1390,1\\n1391,0\\n1392,1\\n1393,1\\n1394,1\\n1395,1\\n1396,0\\n1397,0\\n1398,1\\n1399,1\\n1400,1\\n1401,1\\n1402,0\\n1403,1\\n1404,0\\n1405,0\\n1406,0\\n1407,1\\n1408,0\\n1409,1\\n1410,0\\n1411,0\\n1412,0\\n1413,1\\n1414,1\\n1415,0\\n1416,1\\n1417,1\\n1418,1\\n1419,0\\n1420,1\\n1421,0\\n1422,0\\n1423,1\\n1424,0\\n1425,0\\n1426,0\\n1427,0\\n1428,0\\n1429,1\\n1430,1\\n1431,0\\n1432,0\\n1433,1\\n1434,0\\n1435,0\\n1436,0\\n1437,0\\n1438,0\\n1439,1\\n1440,0\\n1441,1\\n1442,0\\n1443,0\\n1444,1\\n1445,1\\n1446,1\\n1447,0\\n1448,1\\n1449,0\\n1450,1\\n1451,0\\n1452,0\\n1453,1\\n1454,1\\n1455,0\\n1456,0\\n1457,0\\n1458,0\\n1459,0\\n1460,1\\n1461,0\\n1462,0\\n1463,0\\n1464,0\\n1465,1\\n1466,0\\n1467,1\\n1468,0\\n1469,0\\n1470,1\\n1471,1\\n1472,1\\n1473,1\\n1474,0\\n1475,1\\n1476,0\\n1477,0\\n1478,1\\n1479,1\\n1480,0\\n1481,1\\n1482,1\\n1483,1\\n1484,1\\n1485,0\\n1486,0\\n1487,1\\n1488,0\\n1489,1\\n1490,1\\n1491,0\\n1492,0\\n1493,1\\n1494,0\\n1495,1\\n1496,0\\n1497,0\\n1498,1\\n1499,0\\n1500,1\\n1501,0\\n1502,1\\n1503,0\\n1504,0\\n1505,1\\n1506,0\\n1507,1\\n1508,1\\n1509,0\\n1510,0\\n1511,1\\n1512,1\\n1513,1\\n1514,1\\n1515,1\\n1516,1\\n1517,0\\n1518,1\\n1519,1\\n1520,0\\n1521,0\\n1522,0\\n1523,0\\n1524,0\\n1525,0\\n1526,0\\n1527,0\\n1528,0\\n1529,1\\n1530,1\\n1531,0\\n1532,1\\n1533,0\\n1534,0\\n1535,0\\n1536,1\\n1537,1\\n1538,1\\n1539,1\\n1540,0\\n1541,0\\n1542,1\\n1543,1\\n1544,0\\n1545,1\\n1546,0\\n1547,1\\n1548,1\\n1549,0\\n1550,1\\n1551,0\\n1552,0\\n1553,1\\n1554,0\\n1555,0\\n1556,0\\n1557,0\\n1558,1\\n1559,0\\n1560,1\\n1561,1\\n1562,1\\n1563,1\\n1564,1\\n1565,1\\n1566,0\\n1567,0\\n1568,1\\n1569,1\\n1570,1\\n1571,1\\n1572,1\\n1573,0\\n1574,1\\n1575,1\\n1576,1\\n1577,1\\n1578,0\\n1579,1\\n1580,1\\n1581,0\\n1582,0\\n1583,1\\n1584,0\\n1585,1\\n1586,1\\n1587,0\\n1588,0\\n1589,0\\n1590,0\\n1591,0\\n1592,1\\n1593,0\\n1594,1\\n1595,1\\n1596,1\\n1597,0\\n1598,0\\n1599,0\\n1600,1\\n1601,1\\n1602,1\\n1603,1\\n1604,1\\n1605,1\\n1606,0\\n1607,0\\n1608,0\\n1609,0\\n1610,0\\n1611,0\\n1612,1\\n1613,0\\n1614,0\\n1615,0\\n1616,1\\n1617,1\\n1618,0\\n1619,1\\n1620,1\\n1621,0\\n1622,0\\n1623,1\\n1624,1\\n1625,0\\n1626,0\\n1627,0\\n1628,1\\n1629,1\\n1630,1\\n1631,0\\n1632,1\\n1633,0\\n1634,1\\n1635,1\\n1636,0\\n1637,1\\n1638,1\\n1639,1\\n1640,0\\n1641,0\\n1642,0\\n1643,1\\n1644,0\\n1645,1\\n1646,1\\n1647,0\\n1648,0\\n1649,1\\n1650,1\\n1651,1\\n1652,0\\n1653,1\\n1654,1\\n1655,0\\n1656,0\\n1657,1\\n1658,0\\n1659,0\\n1660,0\\n1661,1\\n1662,0\\n1663,0\\n1664,1\\n1665,1\\n1666,1\\n1667,1\\n1668,0\\n1669,1\\n1670,1\\n1671,0\\n1672,0\\n1673,0\\n1674,1\\n1675,1\\n1676,0\\n1677,1\\n1678,0\\n1679,0\\n1680,0\\n1681,1\\n1682,1\\n1683,1\\n1684,0\\n1685,1\\n1686,0\\n1687,0\\n1688,0\\n1689,1\\n1690,0\\n1691,1\\n1692,0\\n1693,0\\n1694,0\\n1695,0\\n1696,1\\n1697,0\\n1698,1\\n1699,0\\n1700,0\\n1701,0\\n1702,0\\n1703,0\\n1704,1\\n1705,0\\n1706,1\\n1707,0\\n1708,0\\n1709,0\\n1710,0\\n1711,0\\n1712,1\\n1713,0\\n1714,1\\n1715,0\\n1716,0\\n1717,1\\n1718,1\\n1719,0\\n1720,1\\n1721,1\\n1722,1\\n1723,1\\n1724,0\\n1725,1\\n1726,0\\n1727,1\\n1728,1\\n1729,1\\n1730,0\\n1731,0\\n1732,1\\n1733,1\\n1734,1\\n1735,1\\n1736,1\\n1737,0\\n1738,1\\n1739,0\\n1740,0\\n1741,1\\n1742,0\\n1743,1\\n1744,0\\n1745,1\\n1746,1\\n1747,0\\n1748,0\\n1749,1\\n1750,0\\n1751,1\\n1752,1\\n1753,0\\n1754,1\\n1755,0\\n1756,1\\n1757,1\\n1758,0\\n1759,1\\n1760,1\\n1761,1\\n1762,1\\n1763,0\\n1764,1\\n1765,0\\n1766,0\\n1767,0\\n1768,0\\n1769,0\\n1770,1\\n1771,1\\n1772,0\\n1773,1\\n1774,0\\n1775,0\\n1776,0\\n1777,1\\n1778,1\\n1779,0\\n1780,1\\n1781,0\\n1782,1\\n1783,1\\n1784,1\\n1785,0\\n1786,1\\n1787,0\\n1788,0\\n1789,0\\n1790,1\\n1791,1\\n1792,1\\n1793,0\\n1794,1\\n1795,0\\n1796,1\\n1797,1\\n1798,0\\n1799,0\\n1800,0\\n1801,1\\n1802,1\\n1803,1\\n1804,0\\n1805,0\\n1806,1\\n1807,1\\n1808,0\\n1809,0\\n1810,0\\n1811,0\\n1812,0\\n1813,1\\n1814,0\\n1815,0\\n1816,0\\n1817,0\\n1818,1\\n1819,0\\n1820,1\\n1821,1\\n1822,0\\n1823,1\\n1824,0\\n1825,1\\n1826,0\\n1827,0\\n1828,0\\n1829,0\\n1830,1\\n1831,0\\n1832,1\\n1833,1\\n1834,1\\n1835,1\\n1836,1\\n1837,0\\n1838,0\\n1839,0\\n1840,1\\n1841,1\\n1842,0\\n1843,0\\n1844,0\\n1845,1\\n1846,1\\n1847,0\\n1848,1\\n1849,0\\n1850,0\\n1851,0\\n1852,1\\n1853,1\\n1854,0\\n1855,0\\n1856,1\\n1857,0\\n1858,1\\n1859,1\\n1860,1\\n1861,1\\n1862,1\\n1863,1\\n1864,1\\n1865,0\\n1866,1\\n1867,1\\n1868,0\\n1869,1\\n1870,1\\n1871,1\\n1872,1\\n1873,1\\n1874,1\\n1875,1\\n1876,0\\n1877,0\\n1878,0\\n1879,1\\n1880,0\\n1881,0\\n1882,0\\n1883,0\\n1884,0\\n1885,0\\n1886,1\\n1887,1\\n1888,1\\n1889,0\\n1890,0\\n1891,1\\n1892,0\\n1893,1\\n1894,1\\n1895,1\\n1896,0\\n1897,1\\n1898,1\\n1899,0\\n1900,0\\n1901,1\\n1902,1\\n1903,1\\n1904,0\\n1905,1\\n1906,1\\n1907,1\\n1908,1\\n1909,1\\n1910,1\\n1911,1\\n1912,1\\n1913,0\\n1914,0\\n1915,1\\n1916,0\\n1917,0\\n1918,1\\n1919,0\\n1920,1\\n1921,1\\n1922,0\\n1923,1\\n1924,1\\n1925,1\\n1926,0\\n1927,0\\n1928,1\\n1929,0\\n1930,1\\n1931,1\\n1932,0\\n1933,0\\n1934,1\\n1935,1\\n1936,1\\n1937,1\\n1938,0\\n1939,1\\n1940,1\\n1941,0\\n1942,0\\n1943,0\\n1944,1\\n1945,0\\n1946,1\\n1947,0\\n1948,1\\n1949,1\\n1950,0\\n1951,1\\n1952,1\\n1953,0\\n1954,0\\n1955,0\\n1956,1\\n1957,1\\n1958,0\\n1959,1\\n1960,0\\n1961,1\\n1962,1\\n1963,0\\n1964,0\\n1965,1\\n1966,0\\n1967,0\\n1968,0\\n1969,0\\n1970,1\\n1971,1\\n1972,1\\n1973,0\\n1974,0\\n1975,0\\n1976,0\\n1977,0\\n1978,1\\n1979,0\\n1980,1\\n1981,0\\n1982,1\\n1983,1\\n1984,1\\n1985,0\\n1986,0\\n1987,0\\n1988,0\\n1989,1\\n1990,1\\n1991,1\\n1992,1\\n1993,1\\n1994,1\\n1995,0\\n1996,0\\n1997,0\\n1998,0\\n1999,1\\n',\n",
              " 'ensemble_BERT_3.csv': b',BERT prediction\\n0,1\\n1,1\\n2,1\\n3,0\\n4,0\\n5,0\\n6,0\\n7,0\\n8,1\\n9,1\\n10,1\\n11,0\\n12,1\\n13,1\\n14,0\\n15,1\\n16,0\\n17,0\\n18,1\\n19,1\\n20,0\\n21,0\\n22,0\\n23,1\\n24,1\\n25,0\\n26,1\\n27,1\\n28,1\\n29,0\\n30,0\\n31,0\\n32,1\\n33,1\\n34,0\\n35,1\\n36,0\\n37,1\\n38,0\\n39,0\\n40,1\\n41,1\\n42,0\\n43,1\\n44,0\\n45,0\\n46,0\\n47,1\\n48,1\\n49,1\\n50,0\\n51,1\\n52,1\\n53,1\\n54,0\\n55,0\\n56,0\\n57,1\\n58,0\\n59,0\\n60,1\\n61,0\\n62,1\\n63,1\\n64,1\\n65,1\\n66,0\\n67,1\\n68,0\\n69,1\\n70,0\\n71,0\\n72,1\\n73,0\\n74,1\\n75,0\\n76,0\\n77,0\\n78,0\\n79,0\\n80,0\\n81,0\\n82,0\\n83,0\\n84,0\\n85,1\\n86,1\\n87,1\\n88,1\\n89,0\\n90,1\\n91,0\\n92,1\\n93,0\\n94,1\\n95,1\\n96,1\\n97,1\\n98,0\\n99,1\\n100,0\\n101,1\\n102,0\\n103,1\\n104,1\\n105,1\\n106,1\\n107,0\\n108,1\\n109,1\\n110,0\\n111,1\\n112,0\\n113,1\\n114,0\\n115,0\\n116,0\\n117,1\\n118,1\\n119,1\\n120,0\\n121,0\\n122,1\\n123,0\\n124,1\\n125,1\\n126,0\\n127,0\\n128,1\\n129,0\\n130,0\\n131,1\\n132,1\\n133,0\\n134,1\\n135,0\\n136,1\\n137,0\\n138,1\\n139,1\\n140,0\\n141,0\\n142,1\\n143,0\\n144,0\\n145,0\\n146,1\\n147,0\\n148,1\\n149,0\\n150,1\\n151,1\\n152,0\\n153,0\\n154,1\\n155,0\\n156,0\\n157,1\\n158,0\\n159,1\\n160,0\\n161,0\\n162,0\\n163,0\\n164,0\\n165,1\\n166,0\\n167,1\\n168,0\\n169,1\\n170,1\\n171,0\\n172,0\\n173,1\\n174,1\\n175,1\\n176,0\\n177,1\\n178,0\\n179,0\\n180,1\\n181,0\\n182,1\\n183,1\\n184,1\\n185,0\\n186,1\\n187,0\\n188,0\\n189,1\\n190,0\\n191,1\\n192,0\\n193,0\\n194,1\\n195,1\\n196,0\\n197,1\\n198,1\\n199,1\\n200,1\\n201,1\\n202,0\\n203,1\\n204,0\\n205,0\\n206,1\\n207,0\\n208,1\\n209,0\\n210,1\\n211,1\\n212,0\\n213,1\\n214,0\\n215,0\\n216,0\\n217,0\\n218,1\\n219,1\\n220,0\\n221,1\\n222,1\\n223,0\\n224,0\\n225,0\\n226,0\\n227,1\\n228,1\\n229,1\\n230,0\\n231,1\\n232,1\\n233,0\\n234,0\\n235,0\\n236,0\\n237,0\\n238,0\\n239,1\\n240,1\\n241,1\\n242,1\\n243,0\\n244,1\\n245,0\\n246,0\\n247,0\\n248,1\\n249,1\\n250,0\\n251,1\\n252,0\\n253,1\\n254,0\\n255,1\\n256,0\\n257,1\\n258,1\\n259,1\\n260,1\\n261,1\\n262,0\\n263,1\\n264,1\\n265,0\\n266,0\\n267,1\\n268,1\\n269,0\\n270,1\\n271,1\\n272,1\\n273,0\\n274,1\\n275,0\\n276,1\\n277,1\\n278,0\\n279,1\\n280,1\\n281,1\\n282,0\\n283,1\\n284,0\\n285,0\\n286,1\\n287,0\\n288,1\\n289,0\\n290,0\\n291,0\\n292,0\\n293,1\\n294,1\\n295,0\\n296,1\\n297,1\\n298,1\\n299,1\\n300,1\\n301,1\\n302,0\\n303,0\\n304,0\\n305,1\\n306,0\\n307,1\\n308,0\\n309,1\\n310,0\\n311,1\\n312,0\\n313,0\\n314,1\\n315,0\\n316,1\\n317,0\\n318,0\\n319,0\\n320,1\\n321,0\\n322,0\\n323,0\\n324,0\\n325,0\\n326,1\\n327,0\\n328,1\\n329,0\\n330,0\\n331,0\\n332,0\\n333,1\\n334,0\\n335,0\\n336,1\\n337,0\\n338,1\\n339,1\\n340,0\\n341,1\\n342,1\\n343,0\\n344,0\\n345,0\\n346,0\\n347,1\\n348,0\\n349,1\\n350,0\\n351,1\\n352,1\\n353,0\\n354,1\\n355,0\\n356,1\\n357,1\\n358,0\\n359,1\\n360,0\\n361,0\\n362,1\\n363,1\\n364,0\\n365,1\\n366,0\\n367,1\\n368,1\\n369,1\\n370,1\\n371,0\\n372,1\\n373,0\\n374,0\\n375,1\\n376,1\\n377,0\\n378,1\\n379,0\\n380,0\\n381,0\\n382,0\\n383,0\\n384,0\\n385,0\\n386,0\\n387,1\\n388,1\\n389,1\\n390,0\\n391,0\\n392,0\\n393,1\\n394,1\\n395,1\\n396,0\\n397,1\\n398,0\\n399,1\\n400,0\\n401,1\\n402,0\\n403,1\\n404,1\\n405,1\\n406,0\\n407,0\\n408,1\\n409,0\\n410,0\\n411,0\\n412,1\\n413,0\\n414,1\\n415,0\\n416,0\\n417,1\\n418,0\\n419,0\\n420,1\\n421,1\\n422,1\\n423,1\\n424,0\\n425,1\\n426,0\\n427,0\\n428,0\\n429,1\\n430,0\\n431,0\\n432,1\\n433,0\\n434,1\\n435,0\\n436,0\\n437,0\\n438,0\\n439,1\\n440,1\\n441,1\\n442,1\\n443,1\\n444,0\\n445,1\\n446,0\\n447,0\\n448,0\\n449,0\\n450,1\\n451,0\\n452,0\\n453,1\\n454,1\\n455,1\\n456,1\\n457,0\\n458,0\\n459,0\\n460,0\\n461,1\\n462,1\\n463,0\\n464,1\\n465,1\\n466,1\\n467,1\\n468,1\\n469,0\\n470,0\\n471,0\\n472,1\\n473,1\\n474,1\\n475,0\\n476,0\\n477,0\\n478,1\\n479,1\\n480,1\\n481,1\\n482,0\\n483,1\\n484,0\\n485,0\\n486,1\\n487,0\\n488,1\\n489,0\\n490,1\\n491,1\\n492,1\\n493,0\\n494,1\\n495,1\\n496,1\\n497,1\\n498,1\\n499,1\\n500,0\\n501,0\\n502,0\\n503,0\\n504,0\\n505,0\\n506,0\\n507,1\\n508,1\\n509,0\\n510,0\\n511,1\\n512,0\\n513,1\\n514,0\\n515,1\\n516,0\\n517,1\\n518,0\\n519,1\\n520,0\\n521,0\\n522,0\\n523,0\\n524,1\\n525,1\\n526,1\\n527,1\\n528,0\\n529,0\\n530,1\\n531,0\\n532,1\\n533,0\\n534,0\\n535,0\\n536,0\\n537,1\\n538,1\\n539,0\\n540,1\\n541,0\\n542,1\\n543,1\\n544,1\\n545,0\\n546,0\\n547,1\\n548,1\\n549,0\\n550,1\\n551,0\\n552,0\\n553,1\\n554,0\\n555,0\\n556,0\\n557,1\\n558,0\\n559,1\\n560,1\\n561,0\\n562,0\\n563,0\\n564,1\\n565,1\\n566,0\\n567,1\\n568,0\\n569,1\\n570,1\\n571,0\\n572,1\\n573,1\\n574,0\\n575,1\\n576,1\\n577,0\\n578,0\\n579,1\\n580,1\\n581,0\\n582,0\\n583,1\\n584,1\\n585,1\\n586,0\\n587,0\\n588,1\\n589,0\\n590,0\\n591,0\\n592,1\\n593,1\\n594,1\\n595,1\\n596,0\\n597,1\\n598,0\\n599,1\\n600,1\\n601,0\\n602,1\\n603,1\\n604,0\\n605,1\\n606,1\\n607,1\\n608,1\\n609,0\\n610,1\\n611,0\\n612,0\\n613,1\\n614,0\\n615,1\\n616,0\\n617,0\\n618,1\\n619,1\\n620,0\\n621,0\\n622,0\\n623,1\\n624,0\\n625,0\\n626,0\\n627,1\\n628,0\\n629,0\\n630,0\\n631,1\\n632,1\\n633,0\\n634,0\\n635,0\\n636,1\\n637,0\\n638,1\\n639,1\\n640,0\\n641,1\\n642,0\\n643,0\\n644,0\\n645,1\\n646,1\\n647,0\\n648,0\\n649,1\\n650,0\\n651,0\\n652,1\\n653,0\\n654,0\\n655,0\\n656,0\\n657,1\\n658,0\\n659,1\\n660,1\\n661,0\\n662,0\\n663,0\\n664,0\\n665,1\\n666,1\\n667,1\\n668,1\\n669,1\\n670,1\\n671,0\\n672,1\\n673,0\\n674,0\\n675,0\\n676,1\\n677,0\\n678,1\\n679,1\\n680,0\\n681,0\\n682,0\\n683,1\\n684,1\\n685,0\\n686,1\\n687,1\\n688,1\\n689,1\\n690,1\\n691,0\\n692,0\\n693,1\\n694,1\\n695,0\\n696,0\\n697,1\\n698,0\\n699,0\\n700,1\\n701,0\\n702,0\\n703,1\\n704,0\\n705,0\\n706,1\\n707,0\\n708,1\\n709,0\\n710,0\\n711,0\\n712,0\\n713,1\\n714,0\\n715,0\\n716,1\\n717,1\\n718,0\\n719,0\\n720,0\\n721,1\\n722,0\\n723,1\\n724,0\\n725,0\\n726,1\\n727,0\\n728,1\\n729,1\\n730,1\\n731,0\\n732,1\\n733,0\\n734,0\\n735,0\\n736,1\\n737,1\\n738,1\\n739,0\\n740,0\\n741,1\\n742,0\\n743,1\\n744,1\\n745,1\\n746,0\\n747,1\\n748,1\\n749,1\\n750,0\\n751,1\\n752,1\\n753,1\\n754,0\\n755,0\\n756,0\\n757,0\\n758,1\\n759,1\\n760,1\\n761,0\\n762,0\\n763,1\\n764,1\\n765,0\\n766,0\\n767,1\\n768,0\\n769,1\\n770,1\\n771,0\\n772,0\\n773,1\\n774,0\\n775,1\\n776,1\\n777,0\\n778,0\\n779,1\\n780,1\\n781,1\\n782,1\\n783,0\\n784,1\\n785,1\\n786,0\\n787,1\\n788,0\\n789,1\\n790,1\\n791,0\\n792,0\\n793,1\\n794,1\\n795,0\\n796,1\\n797,1\\n798,1\\n799,0\\n800,1\\n801,0\\n802,1\\n803,1\\n804,0\\n805,1\\n806,1\\n807,1\\n808,0\\n809,1\\n810,0\\n811,1\\n812,0\\n813,1\\n814,1\\n815,0\\n816,0\\n817,0\\n818,1\\n819,0\\n820,0\\n821,1\\n822,0\\n823,1\\n824,0\\n825,0\\n826,1\\n827,1\\n828,1\\n829,0\\n830,1\\n831,1\\n832,0\\n833,0\\n834,1\\n835,0\\n836,1\\n837,1\\n838,1\\n839,1\\n840,1\\n841,1\\n842,0\\n843,1\\n844,1\\n845,1\\n846,1\\n847,0\\n848,0\\n849,1\\n850,1\\n851,1\\n852,1\\n853,0\\n854,1\\n855,0\\n856,0\\n857,0\\n858,0\\n859,1\\n860,1\\n861,0\\n862,0\\n863,0\\n864,1\\n865,1\\n866,1\\n867,0\\n868,0\\n869,0\\n870,1\\n871,1\\n872,1\\n873,1\\n874,1\\n875,1\\n876,1\\n877,1\\n878,0\\n879,1\\n880,0\\n881,1\\n882,0\\n883,0\\n884,1\\n885,1\\n886,0\\n887,1\\n888,0\\n889,0\\n890,1\\n891,0\\n892,1\\n893,1\\n894,1\\n895,0\\n896,1\\n897,0\\n898,1\\n899,1\\n900,1\\n901,1\\n902,0\\n903,0\\n904,0\\n905,0\\n906,0\\n907,1\\n908,1\\n909,1\\n910,1\\n911,1\\n912,1\\n913,1\\n914,1\\n915,1\\n916,0\\n917,1\\n918,0\\n919,1\\n920,0\\n921,1\\n922,0\\n923,1\\n924,0\\n925,1\\n926,1\\n927,1\\n928,1\\n929,0\\n930,1\\n931,1\\n932,1\\n933,1\\n934,1\\n935,1\\n936,0\\n937,1\\n938,1\\n939,1\\n940,1\\n941,0\\n942,1\\n943,0\\n944,0\\n945,0\\n946,1\\n947,0\\n948,1\\n949,1\\n950,0\\n951,1\\n952,0\\n953,1\\n954,0\\n955,1\\n956,0\\n957,1\\n958,1\\n959,1\\n960,0\\n961,1\\n962,0\\n963,1\\n964,0\\n965,1\\n966,0\\n967,1\\n968,0\\n969,0\\n970,0\\n971,0\\n972,1\\n973,0\\n974,1\\n975,1\\n976,0\\n977,0\\n978,1\\n979,0\\n980,1\\n981,1\\n982,0\\n983,1\\n984,1\\n985,1\\n986,1\\n987,1\\n988,1\\n989,0\\n990,0\\n991,0\\n992,1\\n993,0\\n994,0\\n995,1\\n996,0\\n997,1\\n998,1\\n999,0\\n1000,0\\n1001,1\\n1002,0\\n1003,0\\n1004,1\\n1005,0\\n1006,1\\n1007,1\\n1008,0\\n1009,1\\n1010,0\\n1011,1\\n1012,1\\n1013,1\\n1014,1\\n1015,1\\n1016,0\\n1017,1\\n1018,0\\n1019,0\\n1020,1\\n1021,1\\n1022,0\\n1023,1\\n1024,1\\n1025,0\\n1026,0\\n1027,0\\n1028,0\\n1029,1\\n1030,1\\n1031,0\\n1032,0\\n1033,1\\n1034,0\\n1035,1\\n1036,1\\n1037,0\\n1038,1\\n1039,0\\n1040,1\\n1041,1\\n1042,0\\n1043,1\\n1044,0\\n1045,1\\n1046,1\\n1047,1\\n1048,1\\n1049,1\\n1050,1\\n1051,0\\n1052,0\\n1053,0\\n1054,0\\n1055,1\\n1056,1\\n1057,1\\n1058,0\\n1059,1\\n1060,0\\n1061,0\\n1062,1\\n1063,1\\n1064,1\\n1065,0\\n1066,0\\n1067,0\\n1068,1\\n1069,0\\n1070,0\\n1071,0\\n1072,0\\n1073,1\\n1074,0\\n1075,1\\n1076,0\\n1077,0\\n1078,0\\n1079,1\\n1080,1\\n1081,1\\n1082,0\\n1083,0\\n1084,0\\n1085,1\\n1086,0\\n1087,1\\n1088,0\\n1089,1\\n1090,0\\n1091,1\\n1092,0\\n1093,1\\n1094,1\\n1095,0\\n1096,1\\n1097,1\\n1098,0\\n1099,1\\n1100,0\\n1101,1\\n1102,1\\n1103,1\\n1104,1\\n1105,0\\n1106,0\\n1107,1\\n1108,0\\n1109,1\\n1110,0\\n1111,0\\n1112,1\\n1113,0\\n1114,0\\n1115,1\\n1116,0\\n1117,0\\n1118,1\\n1119,0\\n1120,0\\n1121,0\\n1122,0\\n1123,0\\n1124,0\\n1125,1\\n1126,1\\n1127,1\\n1128,1\\n1129,0\\n1130,1\\n1131,1\\n1132,0\\n1133,1\\n1134,0\\n1135,0\\n1136,1\\n1137,1\\n1138,1\\n1139,1\\n1140,0\\n1141,1\\n1142,0\\n1143,0\\n1144,1\\n1145,1\\n1146,1\\n1147,1\\n1148,1\\n1149,1\\n1150,0\\n1151,1\\n1152,0\\n1153,1\\n1154,1\\n1155,0\\n1156,0\\n1157,0\\n1158,1\\n1159,1\\n1160,1\\n1161,1\\n1162,1\\n1163,0\\n1164,0\\n1165,0\\n1166,1\\n1167,0\\n1168,0\\n1169,0\\n1170,0\\n1171,1\\n1172,1\\n1173,0\\n1174,1\\n1175,1\\n1176,0\\n1177,0\\n1178,0\\n1179,1\\n1180,1\\n1181,0\\n1182,1\\n1183,0\\n1184,1\\n1185,0\\n1186,1\\n1187,0\\n1188,1\\n1189,1\\n1190,1\\n1191,1\\n1192,1\\n1193,0\\n1194,0\\n1195,1\\n1196,0\\n1197,1\\n1198,0\\n1199,1\\n1200,0\\n1201,0\\n1202,0\\n1203,0\\n1204,0\\n1205,0\\n1206,0\\n1207,0\\n1208,0\\n1209,1\\n1210,1\\n1211,1\\n1212,0\\n1213,1\\n1214,0\\n1215,0\\n1216,1\\n1217,1\\n1218,1\\n1219,0\\n1220,0\\n1221,1\\n1222,1\\n1223,1\\n1224,1\\n1225,1\\n1226,0\\n1227,1\\n1228,0\\n1229,0\\n1230,0\\n1231,0\\n1232,1\\n1233,1\\n1234,1\\n1235,1\\n1236,1\\n1237,0\\n1238,0\\n1239,0\\n1240,0\\n1241,1\\n1242,0\\n1243,0\\n1244,1\\n1245,1\\n1246,0\\n1247,0\\n1248,0\\n1249,0\\n1250,1\\n1251,0\\n1252,1\\n1253,1\\n1254,0\\n1255,1\\n1256,1\\n1257,1\\n1258,0\\n1259,1\\n1260,1\\n1261,0\\n1262,1\\n1263,1\\n1264,0\\n1265,0\\n1266,0\\n1267,0\\n1268,0\\n1269,0\\n1270,1\\n1271,0\\n1272,0\\n1273,0\\n1274,0\\n1275,1\\n1276,0\\n1277,0\\n1278,1\\n1279,0\\n1280,1\\n1281,0\\n1282,1\\n1283,1\\n1284,1\\n1285,0\\n1286,1\\n1287,0\\n1288,0\\n1289,1\\n1290,1\\n1291,0\\n1292,0\\n1293,0\\n1294,0\\n1295,1\\n1296,0\\n1297,1\\n1298,0\\n1299,1\\n1300,1\\n1301,0\\n1302,1\\n1303,0\\n1304,1\\n1305,0\\n1306,0\\n1307,0\\n1308,1\\n1309,0\\n1310,0\\n1311,1\\n1312,0\\n1313,1\\n1314,0\\n1315,0\\n1316,0\\n1317,0\\n1318,1\\n1319,1\\n1320,0\\n1321,0\\n1322,0\\n1323,0\\n1324,1\\n1325,0\\n1326,0\\n1327,1\\n1328,0\\n1329,0\\n1330,0\\n1331,1\\n1332,1\\n1333,0\\n1334,1\\n1335,0\\n1336,1\\n1337,0\\n1338,1\\n1339,0\\n1340,1\\n1341,0\\n1342,1\\n1343,1\\n1344,0\\n1345,1\\n1346,1\\n1347,1\\n1348,1\\n1349,1\\n1350,0\\n1351,0\\n1352,1\\n1353,1\\n1354,0\\n1355,1\\n1356,1\\n1357,1\\n1358,0\\n1359,1\\n1360,1\\n1361,1\\n1362,0\\n1363,1\\n1364,1\\n1365,1\\n1366,0\\n1367,1\\n1368,1\\n1369,0\\n1370,0\\n1371,0\\n1372,1\\n1373,0\\n1374,1\\n1375,0\\n1376,0\\n1377,0\\n1378,0\\n1379,1\\n1380,0\\n1381,0\\n1382,0\\n1383,0\\n1384,1\\n1385,1\\n1386,1\\n1387,1\\n1388,0\\n1389,0\\n1390,1\\n1391,1\\n1392,1\\n1393,1\\n1394,1\\n1395,0\\n1396,1\\n1397,1\\n1398,0\\n1399,0\\n1400,1\\n1401,1\\n1402,0\\n1403,1\\n1404,0\\n1405,1\\n1406,1\\n1407,0\\n1408,1\\n1409,0\\n1410,0\\n1411,1\\n1412,0\\n1413,0\\n1414,1\\n1415,1\\n1416,1\\n1417,0\\n1418,0\\n1419,0\\n1420,1\\n1421,1\\n1422,0\\n1423,1\\n1424,0\\n1425,0\\n1426,1\\n1427,0\\n1428,0\\n1429,1\\n1430,0\\n1431,0\\n1432,1\\n1433,0\\n1434,1\\n1435,1\\n1436,1\\n1437,0\\n1438,1\\n1439,1\\n1440,0\\n1441,0\\n1442,1\\n1443,0\\n1444,0\\n1445,0\\n1446,1\\n1447,1\\n1448,1\\n1449,1\\n1450,0\\n1451,0\\n1452,1\\n1453,1\\n1454,0\\n1455,1\\n1456,1\\n1457,0\\n1458,0\\n1459,0\\n1460,1\\n1461,0\\n1462,0\\n1463,1\\n1464,1\\n1465,1\\n1466,1\\n1467,1\\n1468,0\\n1469,1\\n1470,0\\n1471,1\\n1472,0\\n1473,0\\n1474,0\\n1475,0\\n1476,0\\n1477,1\\n1478,1\\n1479,1\\n1480,0\\n1481,1\\n1482,0\\n1483,0\\n1484,1\\n1485,0\\n1486,1\\n1487,1\\n1488,1\\n1489,0\\n1490,0\\n1491,1\\n1492,1\\n1493,0\\n1494,0\\n1495,1\\n1496,0\\n1497,1\\n1498,0\\n1499,0\\n1500,0\\n1501,1\\n1502,1\\n1503,1\\n1504,0\\n1505,0\\n1506,0\\n1507,1\\n1508,0\\n1509,0\\n1510,0\\n1511,0\\n1512,0\\n1513,1\\n1514,0\\n1515,0\\n1516,1\\n1517,0\\n1518,1\\n1519,1\\n1520,1\\n1521,0\\n1522,0\\n1523,1\\n1524,0\\n1525,0\\n1526,1\\n1527,0\\n1528,1\\n1529,1\\n1530,0\\n1531,1\\n1532,1\\n1533,0\\n1534,1\\n1535,1\\n1536,1\\n1537,0\\n1538,0\\n1539,0\\n1540,0\\n1541,1\\n1542,1\\n1543,1\\n1544,0\\n1545,0\\n1546,1\\n1547,0\\n1548,0\\n1549,1\\n1550,1\\n1551,0\\n1552,1\\n1553,1\\n1554,1\\n1555,0\\n1556,1\\n1557,0\\n1558,0\\n1559,0\\n1560,0\\n1561,0\\n1562,0\\n1563,0\\n1564,0\\n1565,0\\n1566,0\\n1567,0\\n1568,0\\n1569,1\\n1570,0\\n1571,0\\n1572,1\\n1573,1\\n1574,0\\n1575,1\\n1576,0\\n1577,1\\n1578,0\\n1579,1\\n1580,0\\n1581,1\\n1582,1\\n1583,0\\n1584,0\\n1585,0\\n1586,1\\n1587,1\\n1588,0\\n1589,0\\n1590,0\\n1591,1\\n1592,0\\n1593,1\\n1594,1\\n1595,0\\n1596,1\\n1597,1\\n1598,0\\n1599,0\\n1600,0\\n1601,0\\n1602,1\\n1603,0\\n1604,1\\n1605,0\\n1606,1\\n1607,0\\n1608,1\\n1609,0\\n1610,1\\n1611,0\\n1612,1\\n1613,0\\n1614,0\\n1615,1\\n1616,1\\n1617,0\\n1618,0\\n1619,0\\n1620,1\\n1621,1\\n1622,1\\n1623,0\\n1624,1\\n1625,0\\n1626,1\\n1627,0\\n1628,1\\n1629,0\\n1630,1\\n1631,1\\n1632,0\\n1633,0\\n1634,1\\n1635,1\\n1636,1\\n1637,0\\n1638,0\\n1639,1\\n1640,0\\n1641,0\\n1642,1\\n1643,0\\n1644,1\\n1645,0\\n1646,1\\n1647,0\\n1648,1\\n1649,0\\n1650,0\\n1651,1\\n1652,0\\n1653,1\\n1654,1\\n1655,1\\n1656,0\\n1657,1\\n1658,1\\n1659,1\\n1660,0\\n1661,1\\n1662,1\\n1663,0\\n1664,1\\n1665,1\\n1666,0\\n1667,1\\n1668,1\\n1669,0\\n1670,1\\n1671,1\\n1672,1\\n1673,1\\n1674,1\\n1675,1\\n1676,1\\n1677,0\\n1678,0\\n1679,0\\n1680,0\\n1681,0\\n1682,0\\n1683,1\\n1684,0\\n1685,0\\n1686,1\\n1687,1\\n1688,1\\n1689,1\\n1690,1\\n1691,0\\n1692,1\\n1693,1\\n1694,0\\n1695,1\\n1696,1\\n1697,1\\n1698,0\\n1699,0\\n1700,1\\n1701,1\\n1702,0\\n1703,1\\n1704,1\\n1705,0\\n1706,1\\n1707,0\\n1708,1\\n1709,0\\n1710,1\\n1711,0\\n1712,1\\n1713,1\\n1714,1\\n1715,0\\n1716,0\\n1717,1\\n1718,1\\n1719,0\\n1720,0\\n1721,0\\n1722,0\\n1723,1\\n1724,1\\n1725,0\\n1726,1\\n1727,0\\n1728,1\\n1729,1\\n1730,0\\n1731,1\\n1732,1\\n1733,0\\n1734,0\\n1735,1\\n1736,1\\n1737,0\\n1738,0\\n1739,1\\n1740,1\\n1741,0\\n1742,1\\n1743,0\\n1744,0\\n1745,1\\n1746,0\\n1747,1\\n1748,0\\n1749,0\\n1750,0\\n1751,0\\n1752,1\\n1753,0\\n1754,1\\n1755,1\\n1756,1\\n1757,0\\n1758,0\\n1759,0\\n1760,1\\n1761,0\\n1762,1\\n1763,1\\n1764,1\\n1765,0\\n1766,1\\n1767,0\\n1768,0\\n1769,0\\n1770,1\\n1771,0\\n1772,0\\n1773,1\\n1774,1\\n1775,1\\n1776,1\\n1777,0\\n1778,0\\n1779,0\\n1780,1\\n1781,0\\n1782,0\\n1783,0\\n1784,1\\n1785,0\\n1786,0\\n1787,0\\n1788,1\\n1789,1\\n1790,0\\n1791,1\\n1792,1\\n1793,0\\n1794,0\\n1795,1\\n1796,1\\n1797,1\\n1798,0\\n1799,0\\n1800,0\\n1801,1\\n1802,1\\n1803,1\\n1804,0\\n1805,0\\n1806,1\\n1807,0\\n1808,0\\n1809,1\\n1810,1\\n1811,0\\n1812,0\\n1813,1\\n1814,0\\n1815,1\\n1816,0\\n1817,0\\n1818,1\\n1819,0\\n1820,1\\n1821,1\\n1822,0\\n1823,0\\n1824,1\\n1825,1\\n1826,1\\n1827,0\\n1828,0\\n1829,1\\n1830,0\\n1831,0\\n1832,0\\n1833,1\\n1834,1\\n1835,1\\n1836,1\\n1837,1\\n1838,1\\n1839,0\\n1840,1\\n1841,0\\n1842,1\\n1843,1\\n1844,1\\n1845,1\\n1846,0\\n1847,0\\n1848,1\\n1849,1\\n1850,1\\n1851,1\\n1852,1\\n1853,1\\n1854,0\\n1855,0\\n1856,1\\n1857,1\\n1858,0\\n1859,1\\n1860,0\\n1861,1\\n1862,1\\n1863,0\\n1864,1\\n1865,0\\n1866,0\\n1867,0\\n1868,0\\n1869,0\\n1870,1\\n1871,1\\n1872,0\\n1873,0\\n1874,1\\n1875,1\\n1876,1\\n1877,0\\n1878,1\\n1879,1\\n1880,0\\n1881,1\\n1882,1\\n1883,0\\n1884,0\\n1885,1\\n1886,1\\n1887,1\\n1888,0\\n1889,0\\n1890,0\\n1891,1\\n1892,1\\n1893,1\\n1894,0\\n1895,0\\n1896,0\\n1897,0\\n1898,1\\n1899,1\\n1900,1\\n1901,0\\n1902,1\\n1903,0\\n1904,1\\n1905,0\\n1906,0\\n1907,1\\n1908,1\\n1909,1\\n1910,1\\n1911,1\\n1912,0\\n1913,0\\n1914,0\\n1915,1\\n1916,0\\n1917,1\\n1918,1\\n1919,1\\n1920,1\\n1921,0\\n1922,1\\n1923,1\\n1924,1\\n1925,0\\n1926,1\\n1927,0\\n1928,1\\n1929,0\\n1930,1\\n1931,0\\n1932,0\\n1933,0\\n1934,0\\n1935,1\\n1936,1\\n1937,0\\n1938,1\\n1939,0\\n1940,0\\n1941,1\\n1942,1\\n1943,1\\n1944,1\\n1945,1\\n1946,0\\n1947,0\\n1948,0\\n1949,1\\n1950,0\\n1951,1\\n1952,1\\n1953,0\\n1954,0\\n1955,0\\n1956,0\\n1957,1\\n1958,0\\n1959,0\\n1960,0\\n1961,0\\n1962,1\\n1963,1\\n1964,0\\n1965,1\\n1966,1\\n1967,0\\n1968,1\\n1969,1\\n1970,1\\n1971,0\\n1972,1\\n1973,1\\n1974,0\\n1975,1\\n1976,1\\n1977,1\\n1978,1\\n1979,0\\n1980,1\\n1981,1\\n1982,1\\n1983,0\\n1984,1\\n1985,0\\n1986,0\\n1987,0\\n1988,1\\n1989,1\\n1990,0\\n1991,0\\n1992,1\\n1993,1\\n1994,1\\n1995,0\\n1996,0\\n1997,1\\n1998,0\\n1999,0\\n',\n",
              " 'ensemble_BERT_4.csv': b',BERT prediction\\n0,1\\n1,1\\n2,0\\n3,0\\n4,1\\n5,0\\n6,0\\n7,1\\n8,1\\n9,1\\n10,1\\n11,1\\n12,0\\n13,1\\n14,0\\n15,0\\n16,0\\n17,1\\n18,0\\n19,0\\n20,0\\n21,1\\n22,0\\n23,1\\n24,0\\n25,0\\n26,0\\n27,0\\n28,1\\n29,1\\n30,0\\n31,1\\n32,0\\n33,0\\n34,1\\n35,1\\n36,0\\n37,1\\n38,1\\n39,0\\n40,1\\n41,0\\n42,1\\n43,1\\n44,0\\n45,0\\n46,0\\n47,1\\n48,0\\n49,0\\n50,0\\n51,0\\n52,0\\n53,0\\n54,1\\n55,1\\n56,0\\n57,1\\n58,1\\n59,1\\n60,0\\n61,0\\n62,0\\n63,1\\n64,1\\n65,0\\n66,0\\n67,1\\n68,0\\n69,1\\n70,1\\n71,0\\n72,0\\n73,0\\n74,1\\n75,1\\n76,0\\n77,0\\n78,0\\n79,1\\n80,0\\n81,1\\n82,1\\n83,1\\n84,1\\n85,0\\n86,0\\n87,1\\n88,0\\n89,1\\n90,0\\n91,1\\n92,1\\n93,0\\n94,0\\n95,1\\n96,0\\n97,0\\n98,0\\n99,0\\n100,1\\n101,0\\n102,0\\n103,0\\n104,1\\n105,1\\n106,0\\n107,0\\n108,0\\n109,0\\n110,0\\n111,1\\n112,0\\n113,0\\n114,1\\n115,0\\n116,0\\n117,1\\n118,1\\n119,1\\n120,0\\n121,1\\n122,1\\n123,1\\n124,0\\n125,0\\n126,1\\n127,0\\n128,1\\n129,0\\n130,0\\n131,1\\n132,1\\n133,1\\n134,1\\n135,1\\n136,1\\n137,1\\n138,0\\n139,0\\n140,1\\n141,1\\n142,0\\n143,0\\n144,1\\n145,0\\n146,1\\n147,1\\n148,0\\n149,0\\n150,1\\n151,1\\n152,0\\n153,0\\n154,0\\n155,0\\n156,0\\n157,1\\n158,1\\n159,0\\n160,0\\n161,1\\n162,1\\n163,1\\n164,1\\n165,1\\n166,1\\n167,1\\n168,1\\n169,0\\n170,1\\n171,1\\n172,1\\n173,1\\n174,1\\n175,0\\n176,1\\n177,0\\n178,1\\n179,0\\n180,1\\n181,0\\n182,0\\n183,0\\n184,0\\n185,1\\n186,0\\n187,0\\n188,0\\n189,1\\n190,1\\n191,0\\n192,0\\n193,0\\n194,1\\n195,0\\n196,0\\n197,1\\n198,0\\n199,1\\n200,1\\n201,1\\n202,0\\n203,1\\n204,1\\n205,0\\n206,1\\n207,1\\n208,1\\n209,0\\n210,1\\n211,1\\n212,1\\n213,0\\n214,1\\n215,1\\n216,0\\n217,0\\n218,1\\n219,1\\n220,0\\n221,0\\n222,1\\n223,1\\n224,0\\n225,1\\n226,1\\n227,0\\n228,0\\n229,1\\n230,1\\n231,1\\n232,0\\n233,0\\n234,1\\n235,0\\n236,1\\n237,0\\n238,1\\n239,0\\n240,0\\n241,1\\n242,1\\n243,0\\n244,0\\n245,0\\n246,0\\n247,0\\n248,1\\n249,1\\n250,0\\n251,0\\n252,0\\n253,0\\n254,1\\n255,0\\n256,0\\n257,1\\n258,1\\n259,0\\n260,1\\n261,0\\n262,0\\n263,1\\n264,1\\n265,1\\n266,0\\n267,1\\n268,0\\n269,1\\n270,1\\n271,0\\n272,0\\n273,1\\n274,0\\n275,0\\n276,1\\n277,0\\n278,1\\n279,1\\n280,1\\n281,1\\n282,1\\n283,0\\n284,1\\n285,0\\n286,1\\n287,0\\n288,1\\n289,0\\n290,1\\n291,1\\n292,1\\n293,0\\n294,1\\n295,0\\n296,0\\n297,0\\n298,0\\n299,0\\n300,0\\n301,1\\n302,1\\n303,1\\n304,0\\n305,0\\n306,0\\n307,0\\n308,1\\n309,1\\n310,0\\n311,1\\n312,0\\n313,1\\n314,0\\n315,1\\n316,1\\n317,1\\n318,1\\n319,0\\n320,0\\n321,1\\n322,0\\n323,1\\n324,1\\n325,0\\n326,0\\n327,0\\n328,0\\n329,0\\n330,1\\n331,0\\n332,1\\n333,0\\n334,0\\n335,1\\n336,0\\n337,1\\n338,1\\n339,0\\n340,0\\n341,1\\n342,0\\n343,1\\n344,0\\n345,1\\n346,0\\n347,1\\n348,0\\n349,1\\n350,1\\n351,0\\n352,1\\n353,0\\n354,1\\n355,1\\n356,1\\n357,0\\n358,0\\n359,0\\n360,0\\n361,0\\n362,1\\n363,1\\n364,1\\n365,1\\n366,0\\n367,1\\n368,0\\n369,0\\n370,1\\n371,0\\n372,0\\n373,0\\n374,1\\n375,0\\n376,0\\n377,1\\n378,0\\n379,1\\n380,1\\n381,1\\n382,1\\n383,0\\n384,1\\n385,1\\n386,1\\n387,0\\n388,1\\n389,1\\n390,1\\n391,1\\n392,0\\n393,0\\n394,1\\n395,0\\n396,1\\n397,1\\n398,0\\n399,1\\n400,0\\n401,1\\n402,1\\n403,1\\n404,0\\n405,0\\n406,1\\n407,1\\n408,0\\n409,0\\n410,1\\n411,1\\n412,1\\n413,0\\n414,0\\n415,1\\n416,1\\n417,1\\n418,1\\n419,0\\n420,1\\n421,1\\n422,1\\n423,0\\n424,1\\n425,0\\n426,1\\n427,0\\n428,1\\n429,1\\n430,0\\n431,1\\n432,0\\n433,1\\n434,1\\n435,1\\n436,0\\n437,0\\n438,0\\n439,1\\n440,0\\n441,0\\n442,0\\n443,1\\n444,1\\n445,0\\n446,0\\n447,1\\n448,1\\n449,0\\n450,1\\n451,1\\n452,1\\n453,0\\n454,0\\n455,1\\n456,1\\n457,1\\n458,1\\n459,1\\n460,1\\n461,1\\n462,0\\n463,0\\n464,0\\n465,1\\n466,0\\n467,0\\n468,0\\n469,1\\n470,0\\n471,1\\n472,1\\n473,1\\n474,1\\n475,0\\n476,0\\n477,0\\n478,1\\n479,0\\n480,1\\n481,0\\n482,0\\n483,1\\n484,1\\n485,0\\n486,0\\n487,0\\n488,1\\n489,1\\n490,0\\n491,0\\n492,1\\n493,1\\n494,0\\n495,0\\n496,0\\n497,1\\n498,0\\n499,0\\n500,0\\n501,1\\n502,1\\n503,0\\n504,1\\n505,1\\n506,0\\n507,0\\n508,0\\n509,0\\n510,1\\n511,1\\n512,0\\n513,1\\n514,0\\n515,1\\n516,0\\n517,1\\n518,0\\n519,1\\n520,1\\n521,0\\n522,1\\n523,0\\n524,1\\n525,1\\n526,1\\n527,1\\n528,0\\n529,1\\n530,0\\n531,0\\n532,0\\n533,0\\n534,1\\n535,0\\n536,1\\n537,1\\n538,1\\n539,1\\n540,0\\n541,0\\n542,1\\n543,1\\n544,1\\n545,1\\n546,0\\n547,1\\n548,0\\n549,1\\n550,1\\n551,0\\n552,1\\n553,0\\n554,0\\n555,0\\n556,0\\n557,0\\n558,1\\n559,1\\n560,0\\n561,0\\n562,1\\n563,0\\n564,1\\n565,0\\n566,0\\n567,0\\n568,0\\n569,1\\n570,1\\n571,0\\n572,0\\n573,0\\n574,0\\n575,0\\n576,1\\n577,1\\n578,1\\n579,0\\n580,0\\n581,1\\n582,1\\n583,1\\n584,0\\n585,1\\n586,0\\n587,0\\n588,0\\n589,0\\n590,0\\n591,0\\n592,1\\n593,1\\n594,1\\n595,1\\n596,0\\n597,1\\n598,0\\n599,1\\n600,0\\n601,1\\n602,0\\n603,1\\n604,0\\n605,1\\n606,0\\n607,0\\n608,1\\n609,1\\n610,1\\n611,1\\n612,0\\n613,0\\n614,1\\n615,0\\n616,1\\n617,1\\n618,1\\n619,1\\n620,0\\n621,0\\n622,0\\n623,0\\n624,1\\n625,1\\n626,0\\n627,0\\n628,1\\n629,1\\n630,0\\n631,1\\n632,1\\n633,0\\n634,1\\n635,0\\n636,0\\n637,0\\n638,1\\n639,1\\n640,0\\n641,1\\n642,0\\n643,1\\n644,1\\n645,0\\n646,1\\n647,1\\n648,1\\n649,0\\n650,0\\n651,0\\n652,0\\n653,1\\n654,1\\n655,1\\n656,0\\n657,0\\n658,0\\n659,1\\n660,1\\n661,1\\n662,1\\n663,1\\n664,1\\n665,1\\n666,1\\n667,1\\n668,0\\n669,0\\n670,0\\n671,0\\n672,0\\n673,0\\n674,1\\n675,1\\n676,1\\n677,1\\n678,0\\n679,0\\n680,1\\n681,0\\n682,1\\n683,1\\n684,1\\n685,1\\n686,0\\n687,0\\n688,1\\n689,0\\n690,1\\n691,0\\n692,0\\n693,1\\n694,0\\n695,0\\n696,1\\n697,1\\n698,1\\n699,0\\n700,0\\n701,1\\n702,1\\n703,0\\n704,0\\n705,1\\n706,0\\n707,1\\n708,1\\n709,0\\n710,1\\n711,1\\n712,1\\n713,1\\n714,1\\n715,1\\n716,1\\n717,1\\n718,0\\n719,1\\n720,1\\n721,1\\n722,1\\n723,1\\n724,0\\n725,0\\n726,1\\n727,1\\n728,1\\n729,1\\n730,1\\n731,0\\n732,1\\n733,0\\n734,0\\n735,1\\n736,1\\n737,1\\n738,0\\n739,0\\n740,0\\n741,1\\n742,0\\n743,1\\n744,1\\n745,1\\n746,0\\n747,1\\n748,1\\n749,0\\n750,0\\n751,1\\n752,0\\n753,0\\n754,1\\n755,0\\n756,0\\n757,1\\n758,1\\n759,0\\n760,1\\n761,0\\n762,1\\n763,1\\n764,0\\n765,1\\n766,1\\n767,1\\n768,1\\n769,1\\n770,0\\n771,1\\n772,1\\n773,1\\n774,1\\n775,1\\n776,0\\n777,1\\n778,0\\n779,1\\n780,0\\n781,0\\n782,0\\n783,1\\n784,1\\n785,0\\n786,1\\n787,1\\n788,1\\n789,1\\n790,0\\n791,0\\n792,1\\n793,1\\n794,0\\n795,0\\n796,1\\n797,1\\n798,0\\n799,0\\n800,0\\n801,1\\n802,1\\n803,1\\n804,0\\n805,1\\n806,0\\n807,1\\n808,1\\n809,0\\n810,1\\n811,1\\n812,0\\n813,0\\n814,1\\n815,0\\n816,1\\n817,1\\n818,0\\n819,0\\n820,1\\n821,0\\n822,0\\n823,0\\n824,0\\n825,1\\n826,1\\n827,1\\n828,0\\n829,1\\n830,0\\n831,1\\n832,1\\n833,0\\n834,0\\n835,1\\n836,0\\n837,0\\n838,1\\n839,0\\n840,0\\n841,0\\n842,1\\n843,0\\n844,1\\n845,1\\n846,0\\n847,1\\n848,1\\n849,0\\n850,0\\n851,0\\n852,0\\n853,0\\n854,0\\n855,1\\n856,1\\n857,0\\n858,1\\n859,1\\n860,1\\n861,1\\n862,1\\n863,1\\n864,0\\n865,1\\n866,0\\n867,1\\n868,0\\n869,0\\n870,0\\n871,0\\n872,1\\n873,0\\n874,0\\n875,0\\n876,0\\n877,1\\n878,1\\n879,0\\n880,1\\n881,0\\n882,1\\n883,0\\n884,1\\n885,1\\n886,1\\n887,0\\n888,0\\n889,1\\n890,0\\n891,0\\n892,1\\n893,1\\n894,1\\n895,0\\n896,1\\n897,0\\n898,0\\n899,0\\n900,0\\n901,1\\n902,1\\n903,0\\n904,0\\n905,1\\n906,0\\n907,1\\n908,1\\n909,0\\n910,0\\n911,0\\n912,0\\n913,1\\n914,0\\n915,1\\n916,1\\n917,1\\n918,0\\n919,0\\n920,1\\n921,1\\n922,1\\n923,0\\n924,1\\n925,1\\n926,1\\n927,0\\n928,0\\n929,0\\n930,0\\n931,1\\n932,0\\n933,0\\n934,1\\n935,1\\n936,0\\n937,1\\n938,1\\n939,1\\n940,0\\n941,1\\n942,1\\n943,0\\n944,0\\n945,1\\n946,0\\n947,0\\n948,0\\n949,1\\n950,1\\n951,0\\n952,1\\n953,0\\n954,0\\n955,1\\n956,1\\n957,0\\n958,0\\n959,0\\n960,1\\n961,1\\n962,0\\n963,0\\n964,0\\n965,1\\n966,0\\n967,1\\n968,1\\n969,0\\n970,1\\n971,0\\n972,1\\n973,1\\n974,1\\n975,1\\n976,1\\n977,1\\n978,0\\n979,0\\n980,0\\n981,1\\n982,0\\n983,1\\n984,1\\n985,0\\n986,1\\n987,1\\n988,1\\n989,0\\n990,0\\n991,0\\n992,1\\n993,0\\n994,0\\n995,0\\n996,1\\n997,0\\n998,1\\n999,0\\n1000,0\\n1001,1\\n1002,0\\n1003,0\\n1004,1\\n1005,1\\n1006,1\\n1007,0\\n1008,0\\n1009,0\\n1010,1\\n1011,0\\n1012,1\\n1013,0\\n1014,1\\n1015,0\\n1016,1\\n1017,1\\n1018,1\\n1019,0\\n1020,1\\n1021,1\\n1022,1\\n1023,1\\n1024,1\\n1025,0\\n1026,0\\n1027,1\\n1028,0\\n1029,1\\n1030,1\\n1031,0\\n1032,1\\n1033,0\\n1034,1\\n1035,1\\n1036,0\\n1037,0\\n1038,0\\n1039,1\\n1040,0\\n1041,1\\n1042,0\\n1043,0\\n1044,0\\n1045,1\\n1046,1\\n1047,1\\n1048,0\\n1049,1\\n1050,0\\n1051,0\\n1052,0\\n1053,0\\n1054,1\\n1055,1\\n1056,1\\n1057,0\\n1058,1\\n1059,0\\n1060,0\\n1061,1\\n1062,0\\n1063,1\\n1064,1\\n1065,0\\n1066,0\\n1067,1\\n1068,0\\n1069,1\\n1070,0\\n1071,0\\n1072,0\\n1073,0\\n1074,0\\n1075,1\\n1076,1\\n1077,0\\n1078,0\\n1079,0\\n1080,0\\n1081,0\\n1082,0\\n1083,1\\n1084,0\\n1085,1\\n1086,1\\n1087,0\\n1088,1\\n1089,0\\n1090,0\\n1091,1\\n1092,0\\n1093,0\\n1094,1\\n1095,1\\n1096,0\\n1097,1\\n1098,0\\n1099,1\\n1100,0\\n1101,1\\n1102,0\\n1103,1\\n1104,1\\n1105,0\\n1106,1\\n1107,0\\n1108,0\\n1109,1\\n1110,1\\n1111,0\\n1112,0\\n1113,0\\n1114,0\\n1115,1\\n1116,0\\n1117,0\\n1118,0\\n1119,1\\n1120,0\\n1121,0\\n1122,1\\n1123,0\\n1124,1\\n1125,0\\n1126,1\\n1127,1\\n1128,1\\n1129,1\\n1130,1\\n1131,0\\n1132,0\\n1133,1\\n1134,0\\n1135,0\\n1136,1\\n1137,1\\n1138,1\\n1139,0\\n1140,0\\n1141,1\\n1142,0\\n1143,0\\n1144,1\\n1145,0\\n1146,0\\n1147,1\\n1148,0\\n1149,0\\n1150,1\\n1151,1\\n1152,1\\n1153,0\\n1154,0\\n1155,0\\n1156,0\\n1157,0\\n1158,1\\n1159,0\\n1160,1\\n1161,1\\n1162,1\\n1163,1\\n1164,0\\n1165,0\\n1166,1\\n1167,1\\n1168,1\\n1169,0\\n1170,0\\n1171,0\\n1172,1\\n1173,1\\n1174,0\\n1175,1\\n1176,0\\n1177,1\\n1178,0\\n1179,1\\n1180,0\\n1181,1\\n1182,0\\n1183,1\\n1184,1\\n1185,0\\n1186,1\\n1187,0\\n1188,1\\n1189,0\\n1190,0\\n1191,0\\n1192,0\\n1193,0\\n1194,0\\n1195,1\\n1196,0\\n1197,1\\n1198,1\\n1199,0\\n1200,1\\n1201,1\\n1202,0\\n1203,0\\n1204,0\\n1205,0\\n1206,0\\n1207,1\\n1208,0\\n1209,1\\n1210,0\\n1211,0\\n1212,0\\n1213,0\\n1214,0\\n1215,1\\n1216,0\\n1217,0\\n1218,1\\n1219,1\\n1220,0\\n1221,1\\n1222,0\\n1223,0\\n1224,0\\n1225,1\\n1226,1\\n1227,0\\n1228,1\\n1229,1\\n1230,0\\n1231,1\\n1232,1\\n1233,1\\n1234,1\\n1235,0\\n1236,0\\n1237,1\\n1238,1\\n1239,0\\n1240,1\\n1241,1\\n1242,0\\n1243,0\\n1244,1\\n1245,1\\n1246,1\\n1247,1\\n1248,0\\n1249,1\\n1250,0\\n1251,0\\n1252,1\\n1253,0\\n1254,0\\n1255,1\\n1256,1\\n1257,1\\n1258,0\\n1259,0\\n1260,1\\n1261,1\\n1262,0\\n1263,1\\n1264,0\\n1265,0\\n1266,0\\n1267,0\\n1268,1\\n1269,1\\n1270,1\\n1271,1\\n1272,1\\n1273,0\\n1274,0\\n1275,1\\n1276,0\\n1277,1\\n1278,0\\n1279,1\\n1280,0\\n1281,0\\n1282,1\\n1283,1\\n1284,1\\n1285,1\\n1286,0\\n1287,0\\n1288,1\\n1289,1\\n1290,1\\n1291,1\\n1292,0\\n1293,0\\n1294,1\\n1295,1\\n1296,1\\n1297,0\\n1298,1\\n1299,1\\n1300,1\\n1301,0\\n1302,1\\n1303,0\\n1304,0\\n1305,0\\n1306,0\\n1307,1\\n1308,1\\n1309,1\\n1310,1\\n1311,0\\n1312,0\\n1313,0\\n1314,1\\n1315,0\\n1316,0\\n1317,0\\n1318,1\\n1319,0\\n1320,0\\n1321,1\\n1322,0\\n1323,0\\n1324,1\\n1325,1\\n1326,1\\n1327,1\\n1328,0\\n1329,0\\n1330,0\\n1331,1\\n1332,1\\n1333,1\\n1334,0\\n1335,1\\n1336,0\\n1337,1\\n1338,0\\n1339,1\\n1340,1\\n1341,1\\n1342,1\\n1343,0\\n1344,1\\n1345,1\\n1346,0\\n1347,1\\n1348,1\\n1349,0\\n1350,1\\n1351,0\\n1352,0\\n1353,1\\n1354,1\\n1355,1\\n1356,0\\n1357,0\\n1358,0\\n1359,1\\n1360,1\\n1361,0\\n1362,0\\n1363,1\\n1364,0\\n1365,0\\n1366,1\\n1367,0\\n1368,1\\n1369,0\\n1370,1\\n1371,1\\n1372,1\\n1373,0\\n1374,0\\n1375,0\\n1376,0\\n1377,1\\n1378,0\\n1379,1\\n1380,0\\n1381,1\\n1382,0\\n1383,0\\n1384,1\\n1385,0\\n1386,1\\n1387,1\\n1388,0\\n1389,1\\n1390,1\\n1391,1\\n1392,0\\n1393,0\\n1394,0\\n1395,1\\n1396,1\\n1397,1\\n1398,0\\n1399,0\\n1400,1\\n1401,1\\n1402,0\\n1403,1\\n1404,0\\n1405,1\\n1406,0\\n1407,0\\n1408,0\\n1409,1\\n1410,1\\n1411,1\\n1412,1\\n1413,0\\n1414,0\\n1415,1\\n1416,1\\n1417,0\\n1418,0\\n1419,1\\n1420,1\\n1421,1\\n1422,1\\n1423,1\\n1424,0\\n1425,1\\n1426,0\\n1427,1\\n1428,1\\n1429,0\\n1430,1\\n1431,1\\n1432,0\\n1433,1\\n1434,1\\n1435,0\\n1436,0\\n1437,0\\n1438,1\\n1439,1\\n1440,1\\n1441,0\\n1442,1\\n1443,1\\n1444,0\\n1445,1\\n1446,1\\n1447,1\\n1448,0\\n1449,0\\n1450,0\\n1451,0\\n1452,0\\n1453,0\\n1454,1\\n1455,1\\n1456,1\\n1457,0\\n1458,0\\n1459,1\\n1460,1\\n1461,1\\n1462,1\\n1463,1\\n1464,0\\n1465,1\\n1466,0\\n1467,0\\n1468,0\\n1469,0\\n1470,0\\n1471,1\\n1472,1\\n1473,1\\n1474,0\\n1475,0\\n1476,1\\n1477,1\\n1478,0\\n1479,1\\n1480,0\\n1481,1\\n1482,1\\n1483,1\\n1484,0\\n1485,0\\n1486,1\\n1487,0\\n1488,0\\n1489,0\\n1490,1\\n1491,0\\n1492,0\\n1493,0\\n1494,0\\n1495,1\\n1496,0\\n1497,0\\n1498,1\\n1499,1\\n1500,0\\n1501,1\\n1502,0\\n1503,0\\n1504,1\\n1505,1\\n1506,1\\n1507,1\\n1508,0\\n1509,0\\n1510,0\\n1511,0\\n1512,1\\n1513,1\\n1514,0\\n1515,0\\n1516,0\\n1517,1\\n1518,1\\n1519,1\\n1520,1\\n1521,0\\n1522,1\\n1523,0\\n1524,1\\n1525,1\\n1526,0\\n1527,0\\n1528,0\\n1529,0\\n1530,0\\n1531,0\\n1532,0\\n1533,1\\n1534,0\\n1535,0\\n1536,1\\n1537,0\\n1538,0\\n1539,0\\n1540,1\\n1541,0\\n1542,1\\n1543,1\\n1544,1\\n1545,1\\n1546,0\\n1547,0\\n1548,1\\n1549,1\\n1550,1\\n1551,0\\n1552,1\\n1553,1\\n1554,0\\n1555,0\\n1556,1\\n1557,0\\n1558,0\\n1559,1\\n1560,1\\n1561,1\\n1562,1\\n1563,0\\n1564,0\\n1565,0\\n1566,1\\n1567,0\\n1568,1\\n1569,0\\n1570,0\\n1571,0\\n1572,0\\n1573,1\\n1574,0\\n1575,0\\n1576,1\\n1577,1\\n1578,1\\n1579,1\\n1580,0\\n1581,0\\n1582,0\\n1583,0\\n1584,0\\n1585,1\\n1586,0\\n1587,0\\n1588,1\\n1589,0\\n1590,1\\n1591,1\\n1592,0\\n1593,0\\n1594,0\\n1595,1\\n1596,1\\n1597,0\\n1598,1\\n1599,1\\n1600,1\\n1601,0\\n1602,0\\n1603,1\\n1604,1\\n1605,1\\n1606,0\\n1607,1\\n1608,0\\n1609,1\\n1610,1\\n1611,0\\n1612,0\\n1613,1\\n1614,1\\n1615,0\\n1616,1\\n1617,1\\n1618,0\\n1619,0\\n1620,0\\n1621,1\\n1622,0\\n1623,0\\n1624,0\\n1625,1\\n1626,0\\n1627,1\\n1628,1\\n1629,0\\n1630,1\\n1631,0\\n1632,0\\n1633,1\\n1634,1\\n1635,1\\n1636,0\\n1637,1\\n1638,0\\n1639,0\\n1640,1\\n1641,1\\n1642,1\\n1643,0\\n1644,1\\n1645,0\\n1646,1\\n1647,1\\n1648,0\\n1649,1\\n1650,0\\n1651,1\\n1652,1\\n1653,0\\n1654,0\\n1655,0\\n1656,1\\n1657,1\\n1658,1\\n1659,1\\n1660,0\\n1661,0\\n1662,0\\n1663,0\\n1664,0\\n1665,0\\n1666,1\\n1667,1\\n1668,0\\n1669,1\\n1670,1\\n1671,0\\n1672,0\\n1673,0\\n1674,1\\n1675,0\\n1676,0\\n1677,0\\n1678,0\\n1679,1\\n1680,1\\n1681,0\\n1682,1\\n1683,0\\n1684,1\\n1685,1\\n1686,1\\n1687,1\\n1688,1\\n1689,1\\n1690,0\\n1691,0\\n1692,0\\n1693,0\\n1694,0\\n1695,0\\n1696,1\\n1697,1\\n1698,0\\n1699,0\\n1700,0\\n1701,1\\n1702,0\\n1703,1\\n1704,0\\n1705,0\\n1706,0\\n1707,0\\n1708,1\\n1709,1\\n1710,0\\n1711,1\\n1712,1\\n1713,0\\n1714,0\\n1715,0\\n1716,0\\n1717,0\\n1718,0\\n1719,0\\n1720,0\\n1721,0\\n1722,1\\n1723,1\\n1724,1\\n1725,1\\n1726,0\\n1727,0\\n1728,0\\n1729,1\\n1730,1\\n1731,0\\n1732,0\\n1733,0\\n1734,1\\n1735,0\\n1736,0\\n1737,0\\n1738,0\\n1739,0\\n1740,1\\n1741,1\\n1742,1\\n1743,1\\n1744,0\\n1745,1\\n1746,0\\n1747,0\\n1748,1\\n1749,0\\n1750,1\\n1751,1\\n1752,1\\n1753,1\\n1754,0\\n1755,1\\n1756,1\\n1757,0\\n1758,0\\n1759,1\\n1760,1\\n1761,1\\n1762,0\\n1763,0\\n1764,0\\n1765,1\\n1766,1\\n1767,1\\n1768,1\\n1769,1\\n1770,0\\n1771,1\\n1772,0\\n1773,1\\n1774,1\\n1775,1\\n1776,0\\n1777,0\\n1778,0\\n1779,0\\n1780,0\\n1781,1\\n1782,0\\n1783,1\\n1784,1\\n1785,1\\n1786,0\\n1787,1\\n1788,1\\n1789,1\\n1790,1\\n1791,0\\n1792,0\\n1793,0\\n1794,1\\n1795,1\\n1796,0\\n1797,1\\n1798,1\\n1799,1\\n1800,1\\n1801,0\\n1802,0\\n1803,0\\n1804,0\\n1805,0\\n1806,0\\n1807,0\\n1808,0\\n1809,1\\n1810,0\\n1811,0\\n1812,1\\n1813,0\\n1814,1\\n1815,0\\n1816,1\\n1817,0\\n1818,1\\n1819,1\\n1820,1\\n1821,1\\n1822,0\\n1823,0\\n1824,1\\n1825,1\\n1826,0\\n1827,1\\n1828,1\\n1829,0\\n1830,0\\n1831,1\\n1832,1\\n1833,1\\n1834,1\\n1835,1\\n1836,0\\n1837,1\\n1838,0\\n1839,0\\n1840,1\\n1841,0\\n1842,0\\n1843,1\\n1844,0\\n1845,1\\n1846,0\\n1847,1\\n1848,1\\n1849,1\\n1850,1\\n1851,0\\n1852,0\\n1853,0\\n1854,1\\n1855,1\\n1856,0\\n1857,1\\n1858,1\\n1859,1\\n1860,1\\n1861,0\\n1862,1\\n1863,1\\n1864,0\\n1865,1\\n1866,0\\n1867,0\\n1868,0\\n1869,1\\n1870,1\\n1871,1\\n1872,1\\n1873,1\\n1874,0\\n1875,1\\n1876,0\\n1877,0\\n1878,1\\n1879,0\\n1880,0\\n1881,1\\n1882,1\\n1883,0\\n1884,1\\n1885,1\\n1886,0\\n1887,1\\n1888,1\\n1889,0\\n1890,1\\n1891,0\\n1892,1\\n1893,0\\n1894,1\\n1895,0\\n1896,0\\n1897,1\\n1898,0\\n1899,0\\n1900,1\\n1901,1\\n1902,0\\n1903,0\\n1904,1\\n1905,0\\n1906,1\\n1907,0\\n1908,1\\n1909,1\\n1910,0\\n1911,0\\n1912,1\\n1913,0\\n1914,1\\n1915,0\\n1916,0\\n1917,0\\n1918,1\\n1919,0\\n1920,1\\n1921,0\\n1922,0\\n1923,0\\n1924,1\\n1925,1\\n1926,1\\n1927,1\\n1928,0\\n1929,0\\n1930,0\\n1931,1\\n1932,1\\n1933,0\\n1934,0\\n1935,0\\n1936,0\\n1937,1\\n1938,0\\n1939,0\\n1940,1\\n1941,0\\n1942,1\\n1943,0\\n1944,1\\n1945,0\\n1946,0\\n1947,1\\n1948,1\\n1949,1\\n1950,0\\n1951,1\\n1952,0\\n1953,1\\n1954,1\\n1955,1\\n1956,0\\n1957,1\\n1958,0\\n1959,0\\n1960,0\\n1961,1\\n1962,1\\n1963,0\\n1964,0\\n1965,0\\n1966,1\\n1967,0\\n1968,0\\n1969,0\\n1970,1\\n1971,0\\n1972,1\\n1973,0\\n1974,1\\n1975,0\\n1976,1\\n1977,1\\n1978,1\\n1979,0\\n1980,0\\n1981,1\\n1982,1\\n1983,1\\n1984,1\\n1985,0\\n1986,0\\n1987,1\\n1988,0\\n1989,1\\n1990,1\\n1991,1\\n1992,1\\n1993,1\\n1994,1\\n1995,1\\n1996,1\\n1997,0\\n1998,0\\n1999,0\\n',\n",
              " 'ensemble_BERT_5.csv': b',BERT prediction\\n0,0\\n1,0\\n2,0\\n3,1\\n4,1\\n5,0\\n6,0\\n7,1\\n8,0\\n9,1\\n10,1\\n11,0\\n12,1\\n13,1\\n14,0\\n15,1\\n16,0\\n17,1\\n18,0\\n19,1\\n20,0\\n21,0\\n22,1\\n23,1\\n24,0\\n25,1\\n26,1\\n27,0\\n28,0\\n29,0\\n30,0\\n31,1\\n32,0\\n33,1\\n34,1\\n35,0\\n36,0\\n37,1\\n38,1\\n39,1\\n40,1\\n41,1\\n42,1\\n43,0\\n44,1\\n45,1\\n46,1\\n47,1\\n48,1\\n49,1\\n50,1\\n51,1\\n52,1\\n53,0\\n54,0\\n55,0\\n56,1\\n57,0\\n58,1\\n59,1\\n60,0\\n61,1\\n62,1\\n63,1\\n64,0\\n65,0\\n66,0\\n67,0\\n68,0\\n69,1\\n70,1\\n71,0\\n72,0\\n73,1\\n74,1\\n75,0\\n76,1\\n77,1\\n78,1\\n79,0\\n80,0\\n81,0\\n82,1\\n83,0\\n84,1\\n85,0\\n86,0\\n87,0\\n88,1\\n89,0\\n90,1\\n91,0\\n92,0\\n93,1\\n94,1\\n95,0\\n96,0\\n97,1\\n98,1\\n99,1\\n100,1\\n101,1\\n102,0\\n103,1\\n104,1\\n105,1\\n106,0\\n107,0\\n108,1\\n109,1\\n110,0\\n111,1\\n112,1\\n113,0\\n114,0\\n115,0\\n116,1\\n117,1\\n118,1\\n119,0\\n120,0\\n121,1\\n122,1\\n123,1\\n124,0\\n125,0\\n126,1\\n127,0\\n128,0\\n129,0\\n130,1\\n131,1\\n132,0\\n133,1\\n134,1\\n135,0\\n136,1\\n137,0\\n138,1\\n139,0\\n140,0\\n141,0\\n142,1\\n143,0\\n144,0\\n145,1\\n146,0\\n147,1\\n148,0\\n149,0\\n150,1\\n151,1\\n152,1\\n153,1\\n154,1\\n155,1\\n156,0\\n157,1\\n158,0\\n159,1\\n160,1\\n161,0\\n162,1\\n163,0\\n164,0\\n165,0\\n166,1\\n167,0\\n168,1\\n169,1\\n170,1\\n171,0\\n172,1\\n173,0\\n174,1\\n175,1\\n176,1\\n177,0\\n178,1\\n179,1\\n180,1\\n181,0\\n182,0\\n183,1\\n184,0\\n185,0\\n186,1\\n187,1\\n188,1\\n189,0\\n190,0\\n191,1\\n192,0\\n193,1\\n194,0\\n195,0\\n196,0\\n197,0\\n198,1\\n199,0\\n200,1\\n201,1\\n202,1\\n203,0\\n204,1\\n205,0\\n206,1\\n207,0\\n208,0\\n209,0\\n210,1\\n211,0\\n212,0\\n213,0\\n214,1\\n215,0\\n216,0\\n217,1\\n218,1\\n219,1\\n220,0\\n221,1\\n222,1\\n223,1\\n224,1\\n225,0\\n226,0\\n227,0\\n228,0\\n229,1\\n230,1\\n231,1\\n232,0\\n233,0\\n234,1\\n235,1\\n236,0\\n237,0\\n238,0\\n239,1\\n240,0\\n241,0\\n242,1\\n243,0\\n244,0\\n245,0\\n246,0\\n247,1\\n248,1\\n249,1\\n250,1\\n251,1\\n252,1\\n253,1\\n254,0\\n255,0\\n256,1\\n257,1\\n258,1\\n259,0\\n260,1\\n261,1\\n262,0\\n263,1\\n264,1\\n265,1\\n266,1\\n267,0\\n268,1\\n269,1\\n270,1\\n271,0\\n272,0\\n273,0\\n274,0\\n275,1\\n276,1\\n277,1\\n278,1\\n279,1\\n280,1\\n281,0\\n282,0\\n283,1\\n284,1\\n285,0\\n286,1\\n287,1\\n288,0\\n289,0\\n290,1\\n291,1\\n292,0\\n293,0\\n294,0\\n295,0\\n296,0\\n297,0\\n298,1\\n299,0\\n300,1\\n301,0\\n302,1\\n303,0\\n304,1\\n305,0\\n306,0\\n307,0\\n308,0\\n309,1\\n310,0\\n311,1\\n312,1\\n313,0\\n314,1\\n315,0\\n316,1\\n317,0\\n318,1\\n319,0\\n320,0\\n321,0\\n322,1\\n323,0\\n324,1\\n325,0\\n326,0\\n327,0\\n328,0\\n329,0\\n330,0\\n331,1\\n332,0\\n333,1\\n334,1\\n335,1\\n336,0\\n337,0\\n338,0\\n339,1\\n340,1\\n341,1\\n342,0\\n343,1\\n344,1\\n345,1\\n346,1\\n347,0\\n348,1\\n349,1\\n350,1\\n351,1\\n352,0\\n353,1\\n354,0\\n355,1\\n356,0\\n357,1\\n358,0\\n359,0\\n360,1\\n361,0\\n362,0\\n363,1\\n364,0\\n365,0\\n366,1\\n367,1\\n368,1\\n369,0\\n370,0\\n371,0\\n372,1\\n373,1\\n374,0\\n375,0\\n376,1\\n377,0\\n378,1\\n379,1\\n380,0\\n381,0\\n382,1\\n383,0\\n384,0\\n385,1\\n386,0\\n387,1\\n388,1\\n389,1\\n390,1\\n391,0\\n392,1\\n393,1\\n394,0\\n395,1\\n396,0\\n397,1\\n398,1\\n399,1\\n400,0\\n401,0\\n402,1\\n403,0\\n404,1\\n405,1\\n406,0\\n407,1\\n408,1\\n409,1\\n410,1\\n411,1\\n412,1\\n413,0\\n414,0\\n415,0\\n416,0\\n417,1\\n418,1\\n419,0\\n420,1\\n421,0\\n422,1\\n423,1\\n424,1\\n425,1\\n426,0\\n427,1\\n428,0\\n429,1\\n430,1\\n431,1\\n432,1\\n433,0\\n434,0\\n435,0\\n436,0\\n437,1\\n438,0\\n439,1\\n440,1\\n441,1\\n442,0\\n443,1\\n444,1\\n445,0\\n446,0\\n447,0\\n448,1\\n449,1\\n450,0\\n451,1\\n452,0\\n453,1\\n454,1\\n455,0\\n456,0\\n457,0\\n458,0\\n459,0\\n460,1\\n461,0\\n462,1\\n463,0\\n464,0\\n465,1\\n466,1\\n467,0\\n468,0\\n469,1\\n470,1\\n471,1\\n472,0\\n473,1\\n474,1\\n475,1\\n476,0\\n477,0\\n478,0\\n479,0\\n480,0\\n481,0\\n482,1\\n483,1\\n484,0\\n485,1\\n486,1\\n487,1\\n488,0\\n489,1\\n490,1\\n491,0\\n492,1\\n493,0\\n494,1\\n495,1\\n496,1\\n497,1\\n498,0\\n499,1\\n500,0\\n501,0\\n502,0\\n503,0\\n504,1\\n505,1\\n506,0\\n507,1\\n508,0\\n509,1\\n510,1\\n511,0\\n512,0\\n513,1\\n514,1\\n515,0\\n516,1\\n517,1\\n518,0\\n519,1\\n520,0\\n521,1\\n522,1\\n523,0\\n524,1\\n525,0\\n526,1\\n527,0\\n528,0\\n529,1\\n530,1\\n531,1\\n532,0\\n533,1\\n534,1\\n535,1\\n536,1\\n537,0\\n538,1\\n539,1\\n540,0\\n541,1\\n542,1\\n543,0\\n544,1\\n545,0\\n546,0\\n547,0\\n548,0\\n549,0\\n550,1\\n551,0\\n552,1\\n553,1\\n554,1\\n555,1\\n556,1\\n557,1\\n558,1\\n559,1\\n560,1\\n561,1\\n562,0\\n563,0\\n564,1\\n565,0\\n566,1\\n567,1\\n568,0\\n569,1\\n570,0\\n571,0\\n572,0\\n573,1\\n574,0\\n575,1\\n576,1\\n577,1\\n578,0\\n579,1\\n580,1\\n581,1\\n582,1\\n583,0\\n584,1\\n585,1\\n586,1\\n587,1\\n588,1\\n589,1\\n590,0\\n591,0\\n592,0\\n593,1\\n594,1\\n595,1\\n596,0\\n597,1\\n598,1\\n599,1\\n600,1\\n601,1\\n602,0\\n603,0\\n604,0\\n605,1\\n606,1\\n607,1\\n608,1\\n609,1\\n610,1\\n611,0\\n612,0\\n613,0\\n614,1\\n615,0\\n616,1\\n617,0\\n618,1\\n619,1\\n620,0\\n621,1\\n622,1\\n623,1\\n624,0\\n625,1\\n626,1\\n627,1\\n628,0\\n629,1\\n630,0\\n631,0\\n632,1\\n633,0\\n634,1\\n635,1\\n636,0\\n637,0\\n638,0\\n639,0\\n640,0\\n641,1\\n642,1\\n643,0\\n644,1\\n645,0\\n646,1\\n647,1\\n648,0\\n649,1\\n650,1\\n651,0\\n652,0\\n653,0\\n654,0\\n655,1\\n656,1\\n657,1\\n658,1\\n659,1\\n660,0\\n661,0\\n662,1\\n663,1\\n664,0\\n665,1\\n666,1\\n667,0\\n668,0\\n669,0\\n670,1\\n671,0\\n672,0\\n673,1\\n674,0\\n675,0\\n676,0\\n677,1\\n678,0\\n679,1\\n680,0\\n681,1\\n682,1\\n683,1\\n684,0\\n685,1\\n686,0\\n687,0\\n688,0\\n689,0\\n690,1\\n691,1\\n692,1\\n693,0\\n694,1\\n695,1\\n696,1\\n697,1\\n698,1\\n699,0\\n700,0\\n701,1\\n702,1\\n703,1\\n704,1\\n705,1\\n706,1\\n707,0\\n708,1\\n709,1\\n710,0\\n711,1\\n712,0\\n713,1\\n714,1\\n715,0\\n716,0\\n717,1\\n718,1\\n719,1\\n720,1\\n721,1\\n722,0\\n723,1\\n724,0\\n725,0\\n726,1\\n727,1\\n728,1\\n729,0\\n730,1\\n731,0\\n732,0\\n733,1\\n734,0\\n735,0\\n736,0\\n737,1\\n738,0\\n739,1\\n740,1\\n741,0\\n742,0\\n743,1\\n744,0\\n745,0\\n746,1\\n747,1\\n748,1\\n749,1\\n750,1\\n751,0\\n752,1\\n753,1\\n754,1\\n755,1\\n756,1\\n757,0\\n758,1\\n759,0\\n760,1\\n761,0\\n762,1\\n763,0\\n764,0\\n765,0\\n766,0\\n767,1\\n768,0\\n769,1\\n770,1\\n771,0\\n772,1\\n773,0\\n774,1\\n775,0\\n776,1\\n777,0\\n778,1\\n779,1\\n780,0\\n781,1\\n782,0\\n783,1\\n784,0\\n785,0\\n786,0\\n787,0\\n788,0\\n789,1\\n790,0\\n791,1\\n792,0\\n793,0\\n794,0\\n795,1\\n796,0\\n797,1\\n798,1\\n799,0\\n800,0\\n801,0\\n802,0\\n803,0\\n804,0\\n805,0\\n806,1\\n807,1\\n808,1\\n809,1\\n810,1\\n811,1\\n812,0\\n813,0\\n814,1\\n815,0\\n816,0\\n817,1\\n818,0\\n819,0\\n820,1\\n821,0\\n822,0\\n823,1\\n824,0\\n825,0\\n826,0\\n827,1\\n828,0\\n829,0\\n830,0\\n831,1\\n832,1\\n833,1\\n834,0\\n835,1\\n836,1\\n837,0\\n838,1\\n839,1\\n840,0\\n841,0\\n842,1\\n843,0\\n844,1\\n845,0\\n846,0\\n847,0\\n848,1\\n849,1\\n850,1\\n851,1\\n852,1\\n853,0\\n854,1\\n855,1\\n856,1\\n857,0\\n858,0\\n859,1\\n860,1\\n861,1\\n862,1\\n863,0\\n864,0\\n865,0\\n866,0\\n867,1\\n868,0\\n869,0\\n870,1\\n871,0\\n872,0\\n873,1\\n874,1\\n875,1\\n876,1\\n877,0\\n878,1\\n879,1\\n880,1\\n881,0\\n882,1\\n883,0\\n884,0\\n885,0\\n886,0\\n887,1\\n888,1\\n889,0\\n890,0\\n891,0\\n892,1\\n893,1\\n894,0\\n895,0\\n896,0\\n897,1\\n898,0\\n899,0\\n900,0\\n901,0\\n902,1\\n903,1\\n904,1\\n905,0\\n906,0\\n907,1\\n908,0\\n909,0\\n910,0\\n911,0\\n912,1\\n913,0\\n914,1\\n915,1\\n916,1\\n917,0\\n918,1\\n919,1\\n920,1\\n921,1\\n922,1\\n923,1\\n924,0\\n925,1\\n926,1\\n927,0\\n928,0\\n929,0\\n930,1\\n931,1\\n932,1\\n933,1\\n934,1\\n935,0\\n936,1\\n937,0\\n938,0\\n939,1\\n940,0\\n941,1\\n942,0\\n943,1\\n944,0\\n945,0\\n946,1\\n947,1\\n948,1\\n949,1\\n950,1\\n951,1\\n952,0\\n953,0\\n954,0\\n955,1\\n956,1\\n957,0\\n958,1\\n959,1\\n960,0\\n961,0\\n962,0\\n963,0\\n964,1\\n965,1\\n966,0\\n967,0\\n968,1\\n969,0\\n970,1\\n971,0\\n972,0\\n973,0\\n974,0\\n975,1\\n976,1\\n977,1\\n978,1\\n979,0\\n980,0\\n981,0\\n982,0\\n983,0\\n984,0\\n985,1\\n986,1\\n987,1\\n988,0\\n989,1\\n990,1\\n991,1\\n992,0\\n993,1\\n994,1\\n995,1\\n996,1\\n997,1\\n998,0\\n999,1\\n1000,1\\n1001,1\\n1002,1\\n1003,0\\n1004,1\\n1005,0\\n1006,1\\n1007,1\\n1008,1\\n1009,1\\n1010,1\\n1011,1\\n1012,0\\n1013,0\\n1014,1\\n1015,0\\n1016,0\\n1017,0\\n1018,0\\n1019,1\\n1020,1\\n1021,1\\n1022,1\\n1023,1\\n1024,0\\n1025,1\\n1026,1\\n1027,1\\n1028,1\\n1029,0\\n1030,1\\n1031,0\\n1032,1\\n1033,1\\n1034,1\\n1035,1\\n1036,0\\n1037,1\\n1038,0\\n1039,1\\n1040,1\\n1041,0\\n1042,0\\n1043,1\\n1044,1\\n1045,1\\n1046,0\\n1047,1\\n1048,1\\n1049,0\\n1050,1\\n1051,0\\n1052,1\\n1053,1\\n1054,0\\n1055,1\\n1056,0\\n1057,1\\n1058,0\\n1059,1\\n1060,1\\n1061,0\\n1062,0\\n1063,0\\n1064,1\\n1065,1\\n1066,1\\n1067,1\\n1068,0\\n1069,1\\n1070,1\\n1071,1\\n1072,0\\n1073,1\\n1074,0\\n1075,0\\n1076,0\\n1077,1\\n1078,0\\n1079,1\\n1080,1\\n1081,0\\n1082,0\\n1083,1\\n1084,0\\n1085,1\\n1086,0\\n1087,1\\n1088,1\\n1089,1\\n1090,1\\n1091,0\\n1092,1\\n1093,0\\n1094,1\\n1095,1\\n1096,0\\n1097,0\\n1098,1\\n1099,1\\n1100,0\\n1101,1\\n1102,0\\n1103,1\\n1104,0\\n1105,0\\n1106,1\\n1107,1\\n1108,0\\n1109,0\\n1110,0\\n1111,1\\n1112,0\\n1113,0\\n1114,1\\n1115,0\\n1116,0\\n1117,0\\n1118,0\\n1119,1\\n1120,1\\n1121,0\\n1122,0\\n1123,0\\n1124,0\\n1125,1\\n1126,1\\n1127,0\\n1128,0\\n1129,1\\n1130,1\\n1131,1\\n1132,1\\n1133,1\\n1134,0\\n1135,0\\n1136,1\\n1137,1\\n1138,0\\n1139,1\\n1140,1\\n1141,1\\n1142,1\\n1143,0\\n1144,0\\n1145,1\\n1146,0\\n1147,1\\n1148,0\\n1149,1\\n1150,0\\n1151,1\\n1152,0\\n1153,1\\n1154,0\\n1155,1\\n1156,1\\n1157,0\\n1158,0\\n1159,0\\n1160,1\\n1161,0\\n1162,0\\n1163,1\\n1164,0\\n1165,1\\n1166,1\\n1167,0\\n1168,1\\n1169,0\\n1170,0\\n1171,0\\n1172,0\\n1173,1\\n1174,1\\n1175,0\\n1176,0\\n1177,1\\n1178,0\\n1179,1\\n1180,0\\n1181,1\\n1182,0\\n1183,0\\n1184,1\\n1185,1\\n1186,1\\n1187,0\\n1188,0\\n1189,0\\n1190,0\\n1191,0\\n1192,1\\n1193,0\\n1194,0\\n1195,0\\n1196,1\\n1197,1\\n1198,1\\n1199,1\\n1200,1\\n1201,0\\n1202,0\\n1203,0\\n1204,1\\n1205,0\\n1206,0\\n1207,0\\n1208,1\\n1209,0\\n1210,0\\n1211,1\\n1212,1\\n1213,0\\n1214,0\\n1215,0\\n1216,0\\n1217,0\\n1218,1\\n1219,1\\n1220,0\\n1221,1\\n1222,0\\n1223,1\\n1224,0\\n1225,1\\n1226,1\\n1227,1\\n1228,0\\n1229,0\\n1230,0\\n1231,0\\n1232,0\\n1233,0\\n1234,0\\n1235,0\\n1236,1\\n1237,0\\n1238,1\\n1239,1\\n1240,0\\n1241,0\\n1242,1\\n1243,0\\n1244,1\\n1245,1\\n1246,0\\n1247,1\\n1248,1\\n1249,0\\n1250,1\\n1251,0\\n1252,1\\n1253,1\\n1254,0\\n1255,1\\n1256,0\\n1257,0\\n1258,1\\n1259,0\\n1260,1\\n1261,1\\n1262,1\\n1263,1\\n1264,0\\n1265,0\\n1266,1\\n1267,0\\n1268,1\\n1269,0\\n1270,1\\n1271,1\\n1272,1\\n1273,1\\n1274,1\\n1275,1\\n1276,0\\n1277,1\\n1278,1\\n1279,0\\n1280,1\\n1281,0\\n1282,0\\n1283,0\\n1284,1\\n1285,1\\n1286,1\\n1287,0\\n1288,0\\n1289,1\\n1290,1\\n1291,1\\n1292,1\\n1293,1\\n1294,1\\n1295,1\\n1296,0\\n1297,1\\n1298,0\\n1299,1\\n1300,1\\n1301,0\\n1302,1\\n1303,0\\n1304,1\\n1305,1\\n1306,1\\n1307,1\\n1308,1\\n1309,1\\n1310,0\\n1311,1\\n1312,0\\n1313,0\\n1314,0\\n1315,0\\n1316,1\\n1317,0\\n1318,1\\n1319,0\\n1320,1\\n1321,1\\n1322,1\\n1323,0\\n1324,1\\n1325,0\\n1326,1\\n1327,0\\n1328,0\\n1329,1\\n1330,0\\n1331,1\\n1332,1\\n1333,1\\n1334,0\\n1335,0\\n1336,1\\n1337,0\\n1338,0\\n1339,1\\n1340,0\\n1341,1\\n1342,1\\n1343,0\\n1344,1\\n1345,1\\n1346,0\\n1347,0\\n1348,0\\n1349,0\\n1350,0\\n1351,1\\n1352,1\\n1353,1\\n1354,0\\n1355,1\\n1356,0\\n1357,1\\n1358,0\\n1359,0\\n1360,0\\n1361,1\\n1362,1\\n1363,1\\n1364,0\\n1365,1\\n1366,0\\n1367,1\\n1368,1\\n1369,0\\n1370,0\\n1371,1\\n1372,0\\n1373,1\\n1374,1\\n1375,1\\n1376,0\\n1377,1\\n1378,1\\n1379,0\\n1380,0\\n1381,1\\n1382,0\\n1383,1\\n1384,1\\n1385,0\\n1386,1\\n1387,0\\n1388,1\\n1389,1\\n1390,1\\n1391,0\\n1392,1\\n1393,0\\n1394,1\\n1395,1\\n1396,1\\n1397,1\\n1398,0\\n1399,1\\n1400,1\\n1401,1\\n1402,1\\n1403,0\\n1404,0\\n1405,1\\n1406,1\\n1407,0\\n1408,1\\n1409,0\\n1410,1\\n1411,0\\n1412,0\\n1413,1\\n1414,1\\n1415,1\\n1416,1\\n1417,0\\n1418,1\\n1419,1\\n1420,0\\n1421,1\\n1422,0\\n1423,1\\n1424,1\\n1425,1\\n1426,0\\n1427,0\\n1428,0\\n1429,1\\n1430,1\\n1431,0\\n1432,0\\n1433,0\\n1434,0\\n1435,0\\n1436,0\\n1437,0\\n1438,0\\n1439,1\\n1440,1\\n1441,0\\n1442,0\\n1443,1\\n1444,0\\n1445,0\\n1446,1\\n1447,0\\n1448,0\\n1449,1\\n1450,0\\n1451,0\\n1452,1\\n1453,0\\n1454,0\\n1455,1\\n1456,1\\n1457,0\\n1458,1\\n1459,0\\n1460,1\\n1461,1\\n1462,1\\n1463,1\\n1464,1\\n1465,0\\n1466,0\\n1467,1\\n1468,1\\n1469,1\\n1470,0\\n1471,0\\n1472,1\\n1473,1\\n1474,1\\n1475,1\\n1476,1\\n1477,1\\n1478,1\\n1479,0\\n1480,0\\n1481,1\\n1482,0\\n1483,0\\n1484,0\\n1485,1\\n1486,0\\n1487,1\\n1488,1\\n1489,1\\n1490,1\\n1491,1\\n1492,1\\n1493,0\\n1494,0\\n1495,1\\n1496,0\\n1497,0\\n1498,0\\n1499,1\\n1500,0\\n1501,0\\n1502,0\\n1503,0\\n1504,0\\n1505,0\\n1506,1\\n1507,0\\n1508,1\\n1509,1\\n1510,0\\n1511,1\\n1512,0\\n1513,1\\n1514,1\\n1515,1\\n1516,0\\n1517,1\\n1518,0\\n1519,0\\n1520,0\\n1521,1\\n1522,1\\n1523,1\\n1524,0\\n1525,1\\n1526,0\\n1527,0\\n1528,1\\n1529,1\\n1530,0\\n1531,1\\n1532,0\\n1533,0\\n1534,0\\n1535,1\\n1536,1\\n1537,1\\n1538,0\\n1539,0\\n1540,0\\n1541,0\\n1542,0\\n1543,1\\n1544,0\\n1545,1\\n1546,1\\n1547,0\\n1548,1\\n1549,0\\n1550,0\\n1551,0\\n1552,0\\n1553,1\\n1554,0\\n1555,0\\n1556,1\\n1557,0\\n1558,0\\n1559,1\\n1560,1\\n1561,1\\n1562,1\\n1563,0\\n1564,0\\n1565,0\\n1566,1\\n1567,1\\n1568,0\\n1569,0\\n1570,0\\n1571,1\\n1572,1\\n1573,1\\n1574,1\\n1575,0\\n1576,1\\n1577,0\\n1578,1\\n1579,0\\n1580,1\\n1581,1\\n1582,1\\n1583,1\\n1584,0\\n1585,1\\n1586,0\\n1587,0\\n1588,1\\n1589,1\\n1590,1\\n1591,1\\n1592,0\\n1593,0\\n1594,0\\n1595,1\\n1596,0\\n1597,1\\n1598,0\\n1599,0\\n1600,1\\n1601,1\\n1602,0\\n1603,1\\n1604,1\\n1605,0\\n1606,1\\n1607,1\\n1608,1\\n1609,1\\n1610,1\\n1611,1\\n1612,1\\n1613,1\\n1614,1\\n1615,0\\n1616,0\\n1617,1\\n1618,1\\n1619,1\\n1620,1\\n1621,0\\n1622,0\\n1623,0\\n1624,0\\n1625,0\\n1626,0\\n1627,0\\n1628,1\\n1629,1\\n1630,1\\n1631,1\\n1632,0\\n1633,0\\n1634,1\\n1635,1\\n1636,0\\n1637,0\\n1638,1\\n1639,0\\n1640,0\\n1641,1\\n1642,0\\n1643,1\\n1644,0\\n1645,0\\n1646,0\\n1647,1\\n1648,1\\n1649,0\\n1650,0\\n1651,0\\n1652,0\\n1653,1\\n1654,0\\n1655,1\\n1656,0\\n1657,1\\n1658,1\\n1659,0\\n1660,1\\n1661,1\\n1662,1\\n1663,0\\n1664,1\\n1665,0\\n1666,0\\n1667,0\\n1668,1\\n1669,1\\n1670,0\\n1671,0\\n1672,0\\n1673,1\\n1674,1\\n1675,0\\n1676,0\\n1677,0\\n1678,0\\n1679,0\\n1680,1\\n1681,1\\n1682,0\\n1683,0\\n1684,1\\n1685,1\\n1686,1\\n1687,0\\n1688,0\\n1689,1\\n1690,0\\n1691,1\\n1692,0\\n1693,0\\n1694,0\\n1695,1\\n1696,0\\n1697,0\\n1698,0\\n1699,1\\n1700,0\\n1701,0\\n1702,0\\n1703,0\\n1704,0\\n1705,1\\n1706,0\\n1707,0\\n1708,1\\n1709,1\\n1710,0\\n1711,1\\n1712,0\\n1713,1\\n1714,1\\n1715,1\\n1716,1\\n1717,1\\n1718,1\\n1719,0\\n1720,0\\n1721,1\\n1722,0\\n1723,1\\n1724,0\\n1725,1\\n1726,0\\n1727,0\\n1728,1\\n1729,0\\n1730,0\\n1731,0\\n1732,0\\n1733,1\\n1734,1\\n1735,0\\n1736,0\\n1737,1\\n1738,0\\n1739,1\\n1740,0\\n1741,1\\n1742,1\\n1743,0\\n1744,0\\n1745,1\\n1746,1\\n1747,1\\n1748,0\\n1749,1\\n1750,0\\n1751,1\\n1752,1\\n1753,0\\n1754,0\\n1755,1\\n1756,1\\n1757,0\\n1758,0\\n1759,0\\n1760,0\\n1761,1\\n1762,0\\n1763,0\\n1764,0\\n1765,0\\n1766,0\\n1767,0\\n1768,0\\n1769,1\\n1770,1\\n1771,1\\n1772,0\\n1773,0\\n1774,0\\n1775,1\\n1776,1\\n1777,0\\n1778,1\\n1779,0\\n1780,1\\n1781,0\\n1782,1\\n1783,1\\n1784,1\\n1785,0\\n1786,1\\n1787,1\\n1788,1\\n1789,1\\n1790,1\\n1791,1\\n1792,1\\n1793,0\\n1794,1\\n1795,0\\n1796,1\\n1797,1\\n1798,1\\n1799,0\\n1800,0\\n1801,1\\n1802,0\\n1803,1\\n1804,1\\n1805,1\\n1806,1\\n1807,1\\n1808,0\\n1809,1\\n1810,1\\n1811,0\\n1812,1\\n1813,0\\n1814,1\\n1815,1\\n1816,0\\n1817,1\\n1818,0\\n1819,1\\n1820,1\\n1821,1\\n1822,1\\n1823,0\\n1824,0\\n1825,0\\n1826,0\\n1827,1\\n1828,0\\n1829,1\\n1830,1\\n1831,0\\n1832,1\\n1833,0\\n1834,0\\n1835,0\\n1836,0\\n1837,1\\n1838,1\\n1839,1\\n1840,0\\n1841,0\\n1842,0\\n1843,0\\n1844,0\\n1845,1\\n1846,0\\n1847,0\\n1848,0\\n1849,0\\n1850,0\\n1851,1\\n1852,0\\n1853,1\\n1854,0\\n1855,0\\n1856,0\\n1857,1\\n1858,0\\n1859,0\\n1860,1\\n1861,1\\n1862,1\\n1863,0\\n1864,0\\n1865,1\\n1866,1\\n1867,0\\n1868,0\\n1869,0\\n1870,0\\n1871,1\\n1872,0\\n1873,0\\n1874,1\\n1875,1\\n1876,1\\n1877,0\\n1878,0\\n1879,0\\n1880,0\\n1881,1\\n1882,0\\n1883,0\\n1884,1\\n1885,1\\n1886,1\\n1887,1\\n1888,0\\n1889,0\\n1890,1\\n1891,1\\n1892,0\\n1893,1\\n1894,0\\n1895,1\\n1896,0\\n1897,1\\n1898,1\\n1899,0\\n1900,0\\n1901,1\\n1902,0\\n1903,0\\n1904,1\\n1905,1\\n1906,0\\n1907,1\\n1908,1\\n1909,1\\n1910,0\\n1911,1\\n1912,1\\n1913,1\\n1914,1\\n1915,0\\n1916,0\\n1917,0\\n1918,0\\n1919,1\\n1920,1\\n1921,0\\n1922,0\\n1923,1\\n1924,1\\n1925,1\\n1926,0\\n1927,0\\n1928,0\\n1929,1\\n1930,1\\n1931,1\\n1932,0\\n1933,0\\n1934,0\\n1935,0\\n1936,1\\n1937,1\\n1938,1\\n1939,1\\n1940,1\\n1941,1\\n1942,0\\n1943,0\\n1944,0\\n1945,1\\n1946,0\\n1947,1\\n1948,0\\n1949,0\\n1950,0\\n1951,1\\n1952,1\\n1953,0\\n1954,0\\n1955,0\\n1956,0\\n1957,1\\n1958,0\\n1959,0\\n1960,1\\n1961,0\\n1962,1\\n1963,0\\n1964,0\\n1965,1\\n1966,1\\n1967,0\\n1968,0\\n1969,1\\n1970,1\\n1971,1\\n1972,0\\n1973,0\\n1974,0\\n1975,0\\n1976,1\\n1977,0\\n1978,1\\n1979,1\\n1980,0\\n1981,1\\n1982,1\\n1983,1\\n1984,1\\n1985,0\\n1986,0\\n1987,1\\n1988,1\\n1989,1\\n1990,1\\n1991,0\\n1992,0\\n1993,1\\n1994,1\\n1995,1\\n1996,0\\n1997,0\\n1998,0\\n1999,1\\n'}"
            ]
          },
          "metadata": {
            "tags": []
          },
          "execution_count": 7
        }
      ]
    },
    {
      "cell_type": "code",
      "metadata": {
        "id": "pM4upnGcrYzh"
      },
      "source": [
        "ensemble_BERT_1 = pd.read_csv(\"./ensemble_BERT_1.csv\")\r\n",
        "ensemble_BERT_2 = pd.read_csv(\"./ensemble_BERT_2.csv\")\r\n",
        "ensemble_BERT_3 = pd.read_csv(\"./ensemble_BERT_3.csv\")\r\n",
        "ensemble_BERT_4 = pd.read_csv(\"./ensemble_BERT_4.csv\")\r\n",
        "ensemble_BERT_5 = pd.read_csv(\"./ensemble_BERT_5.csv\")"
      ],
      "execution_count": null,
      "outputs": []
    },
    {
      "cell_type": "code",
      "metadata": {
        "id": "Yeq7eRGusHmV"
      },
      "source": [
        "ensemble_BERT_1_out = ensemble_BERT_1['BERT prediction']\r\n",
        "ensemble_BERT_2_out = ensemble_BERT_2['BERT prediction']\r\n",
        "ensemble_BERT_3_out = ensemble_BERT_3['BERT prediction']\r\n",
        "ensemble_BERT_4_out = ensemble_BERT_4['BERT prediction']\r\n",
        "ensemble_BERT_5_out = ensemble_BERT_5['BERT prediction']"
      ],
      "execution_count": null,
      "outputs": []
    },
    {
      "cell_type": "code",
      "metadata": {
        "id": "15kmiHQ7sYXC"
      },
      "source": [
        "ensemble_BERT_sum = ensemble_BERT_1_out\r\n",
        "ensemble_BERT_sum = ensemble_BERT_sum.append(ensemble_BERT_2_out)\r\n",
        "ensemble_BERT_sum = ensemble_BERT_sum.append(ensemble_BERT_3_out)\r\n",
        "ensemble_BERT_sum = ensemble_BERT_sum.append(ensemble_BERT_4_out)\r\n",
        "ensemble_BERT_sum = ensemble_BERT_sum.append(ensemble_BERT_5_out)"
      ],
      "execution_count": null,
      "outputs": []
    },
    {
      "cell_type": "code",
      "metadata": {
        "id": "cAT_CWMTo1XS"
      },
      "source": [
        "ensemble_BERT_sum_out = ensemble_BERT_sum.tolist()"
      ],
      "execution_count": null,
      "outputs": []
    },
    {
      "cell_type": "code",
      "metadata": {
        "id": "YZC01OH9QKQn",
        "colab": {
          "base_uri": "https://localhost:8080/"
        },
        "outputId": "f1af990e-6a3a-4fd9-a9f7-04e646b6634e"
      },
      "source": [
        "ensemble_BERT = pd.DataFrame({'BERT prediction' : ensemble_BERT_sum_out})\r\n",
        "print(ensemble_BERT)"
      ],
      "execution_count": null,
      "outputs": [
        {
          "output_type": "stream",
          "text": [
            "      BERT prediction\n",
            "0                   1\n",
            "1                   0\n",
            "2                   1\n",
            "3                   0\n",
            "4                   0\n",
            "...               ...\n",
            "9995                1\n",
            "9996                0\n",
            "9997                0\n",
            "9998                0\n",
            "9999                1\n",
            "\n",
            "[10000 rows x 1 columns]\n"
          ],
          "name": "stdout"
        }
      ]
    },
    {
      "cell_type": "code",
      "metadata": {
        "id": "5D8N1S9NQKta"
      },
      "source": [
        "ensemble_BERT.to_csv('ensemble_BERT.csv')"
      ],
      "execution_count": null,
      "outputs": []
    },
    {
      "cell_type": "markdown",
      "metadata": {
        "id": "qu7ggSkFn4ww"
      },
      "source": [
        "- BERT 모델 예측 결과 스코어링"
      ]
    },
    {
      "cell_type": "code",
      "metadata": {
        "id": "GCrDLb1qlkJu"
      },
      "source": [
        "labels_test_input = labels_test[:10000]"
      ],
      "execution_count": null,
      "outputs": []
    },
    {
      "cell_type": "code",
      "metadata": {
        "colab": {
          "base_uri": "https://localhost:8080/"
        },
        "id": "YSNSP-oKnuYN",
        "outputId": "9b3743fc-ec6d-4be9-b83b-f32ddacbbc1a"
      },
      "source": [
        "print(\"BERT model accuracy : \", accuracy_score(labels_test_input, ensemble_BERT_sum_out))\r\n",
        "print(\"BERT model recall : \",recall_score(labels_test_input, ensemble_BERT_sum_out))\r\n",
        "print(\"BERT model precision : \",precision_score(labels_test_input, ensemble_BERT_sum_out))\r\n",
        "print(\"BERT model f1 : \",f1_score(labels_test_input, ensemble_BERT_sum_out))"
      ],
      "execution_count": null,
      "outputs": [
        {
          "output_type": "stream",
          "text": [
            "BERT model accuracy :  0.8711\n",
            "BERT model recall :  0.8782849239280774\n",
            "BERT model precision :  0.8685033216100039\n",
            "BERT model f1 :  0.8733667354357009\n"
          ],
          "name": "stdout"
        }
      ]
    },
    {
      "cell_type": "markdown",
      "metadata": {
        "id": "60RC3gBcMFV4"
      },
      "source": [
        "**앙상블 예측 결과 산출 ③**"
      ]
    },
    {
      "cell_type": "markdown",
      "metadata": {
        "id": "wGc-UJNaMKz4"
      },
      "source": [
        "- Colab GPU 사용량 문제로 Transformer, CNN, BERT 예측결과 로컬 PC 저장 후 로딩하여 앙상블 결과 산출\r\n",
        "\r\n",
        "- Transformer(ensemble_transformer.csv), CNN(ensemble_CNN.csv), BERT(ensemble_BERT.csv) 파일 로컬 PC에서 업로드"
      ]
    },
    {
      "cell_type": "code",
      "metadata": {
        "id": "BqsoX05jMJor",
        "colab": {
          "resources": {
            "http://localhost:8080/nbextensions/google.colab/files.js": {
              "data": "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",
              "ok": true,
              "headers": [
                [
                  "content-type",
                  "application/javascript"
                ]
              ],
              "status": 200,
              "status_text": ""
            }
          },
          "base_uri": "https://localhost:8080/",
          "height": 218
        },
        "outputId": "ea63e0a5-aa77-4b0c-920e-58654f53edc7"
      },
      "source": [
        "from google.colab import files\r\n",
        "files.upload()"
      ],
      "execution_count": null,
      "outputs": [
        {
          "output_type": "display_data",
          "data": {
            "text/html": [
              "\n",
              "     <input type=\"file\" id=\"files-90747ff8-097c-4496-838f-986bf99e056c\" name=\"files[]\" multiple disabled\n",
              "        style=\"border:none\" />\n",
              "     <output id=\"result-90747ff8-097c-4496-838f-986bf99e056c\">\n",
              "      Upload widget is only available when the cell has been executed in the\n",
              "      current browser session. Please rerun this cell to enable.\n",
              "      </output>\n",
              "      <script src=\"/nbextensions/google.colab/files.js\"></script> "
            ],
            "text/plain": [
              "<IPython.core.display.HTML object>"
            ]
          },
          "metadata": {
            "tags": []
          }
        },
        {
          "output_type": "stream",
          "text": [
            "Saving ensemble_BERT.csv to ensemble_BERT (1).csv\n",
            "Saving ensemble_CNN.csv to ensemble_CNN.csv\n",
            "Saving ensemble_transformer.csv to ensemble_transformer.csv\n"
          ],
          "name": "stdout"
        },
        {
          "output_type": "execute_result",
          "data": {
            "text/plain": [
              "{'ensemble_BERT.csv': b',BERT prediction\\n0,1\\n1,0\\n2,1\\n3,0\\n4,0\\n5,1\\n6,0\\n7,0\\n8,0\\n9,1\\n10,1\\n11,0\\n12,1\\n13,1\\n14,0\\n15,1\\n16,1\\n17,0\\n18,0\\n19,0\\n20,1\\n21,0\\n22,1\\n23,1\\n24,0\\n25,0\\n26,1\\n27,1\\n28,0\\n29,1\\n30,1\\n31,1\\n32,0\\n33,1\\n34,0\\n35,0\\n36,0\\n37,0\\n38,0\\n39,0\\n40,0\\n41,0\\n42,0\\n43,1\\n44,1\\n45,1\\n46,1\\n47,0\\n48,1\\n49,1\\n50,0\\n51,0\\n52,0\\n53,1\\n54,1\\n55,1\\n56,1\\n57,0\\n58,1\\n59,1\\n60,0\\n61,0\\n62,0\\n63,0\\n64,1\\n65,0\\n66,1\\n67,1\\n68,1\\n69,1\\n70,0\\n71,0\\n72,0\\n73,0\\n74,0\\n75,1\\n76,1\\n77,1\\n78,1\\n79,0\\n80,0\\n81,1\\n82,0\\n83,1\\n84,0\\n85,1\\n86,1\\n87,0\\n88,1\\n89,1\\n90,0\\n91,1\\n92,0\\n93,1\\n94,0\\n95,0\\n96,1\\n97,1\\n98,0\\n99,1\\n100,0\\n101,0\\n102,1\\n103,1\\n104,1\\n105,0\\n106,1\\n107,1\\n108,0\\n109,1\\n110,1\\n111,0\\n112,1\\n113,1\\n114,1\\n115,0\\n116,1\\n117,1\\n118,1\\n119,1\\n120,0\\n121,0\\n122,1\\n123,1\\n124,0\\n125,1\\n126,0\\n127,1\\n128,0\\n129,1\\n130,0\\n131,0\\n132,0\\n133,1\\n134,1\\n135,1\\n136,1\\n137,1\\n138,1\\n139,1\\n140,0\\n141,0\\n142,1\\n143,1\\n144,0\\n145,1\\n146,1\\n147,0\\n148,0\\n149,1\\n150,1\\n151,0\\n152,1\\n153,1\\n154,1\\n155,1\\n156,1\\n157,0\\n158,1\\n159,0\\n160,1\\n161,1\\n162,1\\n163,1\\n164,1\\n165,0\\n166,1\\n167,1\\n168,1\\n169,0\\n170,0\\n171,0\\n172,1\\n173,1\\n174,1\\n175,0\\n176,1\\n177,1\\n178,0\\n179,1\\n180,1\\n181,1\\n182,0\\n183,0\\n184,1\\n185,1\\n186,0\\n187,0\\n188,0\\n189,1\\n190,1\\n191,0\\n192,1\\n193,1\\n194,1\\n195,0\\n196,1\\n197,1\\n198,0\\n199,0\\n200,0\\n201,1\\n202,1\\n203,1\\n204,1\\n205,1\\n206,1\\n207,0\\n208,0\\n209,1\\n210,1\\n211,1\\n212,0\\n213,1\\n214,0\\n215,0\\n216,1\\n217,1\\n218,0\\n219,1\\n220,1\\n221,1\\n222,0\\n223,0\\n224,0\\n225,1\\n226,1\\n227,0\\n228,1\\n229,0\\n230,0\\n231,0\\n232,1\\n233,1\\n234,1\\n235,0\\n236,0\\n237,1\\n238,0\\n239,0\\n240,0\\n241,1\\n242,1\\n243,1\\n244,0\\n245,1\\n246,1\\n247,1\\n248,1\\n249,0\\n250,0\\n251,0\\n252,0\\n253,0\\n254,0\\n255,1\\n256,1\\n257,1\\n258,0\\n259,1\\n260,0\\n261,1\\n262,1\\n263,1\\n264,1\\n265,0\\n266,1\\n267,0\\n268,1\\n269,1\\n270,1\\n271,1\\n272,0\\n273,1\\n274,1\\n275,1\\n276,0\\n277,1\\n278,0\\n279,1\\n280,1\\n281,1\\n282,1\\n283,0\\n284,0\\n285,0\\n286,1\\n287,1\\n288,0\\n289,1\\n290,1\\n291,1\\n292,1\\n293,1\\n294,1\\n295,0\\n296,1\\n297,0\\n298,1\\n299,1\\n300,1\\n301,1\\n302,1\\n303,0\\n304,0\\n305,1\\n306,0\\n307,1\\n308,1\\n309,1\\n310,0\\n311,1\\n312,1\\n313,1\\n314,0\\n315,0\\n316,0\\n317,0\\n318,0\\n319,0\\n320,0\\n321,0\\n322,1\\n323,1\\n324,0\\n325,1\\n326,0\\n327,1\\n328,1\\n329,0\\n330,1\\n331,1\\n332,0\\n333,1\\n334,0\\n335,0\\n336,1\\n337,0\\n338,1\\n339,1\\n340,1\\n341,1\\n342,0\\n343,0\\n344,1\\n345,0\\n346,1\\n347,1\\n348,0\\n349,0\\n350,1\\n351,0\\n352,1\\n353,0\\n354,0\\n355,0\\n356,1\\n357,0\\n358,0\\n359,1\\n360,1\\n361,0\\n362,1\\n363,1\\n364,1\\n365,1\\n366,1\\n367,0\\n368,1\\n369,1\\n370,1\\n371,1\\n372,1\\n373,0\\n374,1\\n375,0\\n376,1\\n377,0\\n378,0\\n379,1\\n380,1\\n381,1\\n382,1\\n383,0\\n384,1\\n385,0\\n386,1\\n387,1\\n388,1\\n389,1\\n390,0\\n391,0\\n392,1\\n393,0\\n394,1\\n395,1\\n396,1\\n397,0\\n398,1\\n399,0\\n400,1\\n401,1\\n402,0\\n403,0\\n404,1\\n405,1\\n406,0\\n407,1\\n408,0\\n409,0\\n410,0\\n411,1\\n412,0\\n413,1\\n414,0\\n415,1\\n416,1\\n417,0\\n418,0\\n419,0\\n420,0\\n421,0\\n422,0\\n423,0\\n424,1\\n425,1\\n426,0\\n427,0\\n428,1\\n429,1\\n430,0\\n431,1\\n432,0\\n433,1\\n434,1\\n435,0\\n436,0\\n437,0\\n438,0\\n439,0\\n440,1\\n441,1\\n442,0\\n443,0\\n444,1\\n445,0\\n446,0\\n447,1\\n448,0\\n449,0\\n450,1\\n451,0\\n452,1\\n453,0\\n454,1\\n455,1\\n456,0\\n457,0\\n458,0\\n459,0\\n460,0\\n461,0\\n462,0\\n463,1\\n464,0\\n465,1\\n466,0\\n467,0\\n468,1\\n469,0\\n470,1\\n471,1\\n472,1\\n473,1\\n474,0\\n475,1\\n476,1\\n477,0\\n478,1\\n479,0\\n480,1\\n481,0\\n482,0\\n483,0\\n484,1\\n485,0\\n486,0\\n487,0\\n488,0\\n489,1\\n490,0\\n491,1\\n492,1\\n493,0\\n494,0\\n495,0\\n496,1\\n497,1\\n498,1\\n499,1\\n500,1\\n501,0\\n502,1\\n503,0\\n504,0\\n505,1\\n506,1\\n507,1\\n508,0\\n509,0\\n510,0\\n511,0\\n512,1\\n513,1\\n514,0\\n515,1\\n516,0\\n517,0\\n518,1\\n519,1\\n520,0\\n521,0\\n522,0\\n523,0\\n524,0\\n525,0\\n526,0\\n527,1\\n528,1\\n529,1\\n530,0\\n531,1\\n532,1\\n533,0\\n534,0\\n535,1\\n536,1\\n537,1\\n538,0\\n539,0\\n540,1\\n541,0\\n542,1\\n543,1\\n544,0\\n545,1\\n546,1\\n547,0\\n548,1\\n549,0\\n550,1\\n551,1\\n552,1\\n553,0\\n554,0\\n555,1\\n556,1\\n557,1\\n558,0\\n559,1\\n560,1\\n561,0\\n562,0\\n563,0\\n564,0\\n565,0\\n566,0\\n567,1\\n568,0\\n569,1\\n570,0\\n571,1\\n572,1\\n573,1\\n574,0\\n575,0\\n576,1\\n577,1\\n578,0\\n579,1\\n580,1\\n581,0\\n582,0\\n583,0\\n584,0\\n585,1\\n586,0\\n587,0\\n588,1\\n589,0\\n590,1\\n591,0\\n592,1\\n593,1\\n594,0\\n595,1\\n596,1\\n597,0\\n598,0\\n599,1\\n600,1\\n601,1\\n602,1\\n603,1\\n604,0\\n605,1\\n606,1\\n607,1\\n608,0\\n609,1\\n610,1\\n611,1\\n612,0\\n613,0\\n614,0\\n615,0\\n616,1\\n617,0\\n618,0\\n619,0\\n620,1\\n621,0\\n622,1\\n623,1\\n624,1\\n625,0\\n626,0\\n627,0\\n628,1\\n629,1\\n630,0\\n631,1\\n632,1\\n633,1\\n634,0\\n635,1\\n636,1\\n637,1\\n638,1\\n639,1\\n640,1\\n641,0\\n642,0\\n643,0\\n644,1\\n645,0\\n646,1\\n647,1\\n648,1\\n649,0\\n650,1\\n651,0\\n652,1\\n653,0\\n654,0\\n655,1\\n656,1\\n657,1\\n658,1\\n659,0\\n660,0\\n661,1\\n662,1\\n663,1\\n664,1\\n665,1\\n666,0\\n667,1\\n668,1\\n669,0\\n670,0\\n671,0\\n672,1\\n673,1\\n674,0\\n675,0\\n676,1\\n677,0\\n678,0\\n679,0\\n680,1\\n681,1\\n682,1\\n683,0\\n684,0\\n685,1\\n686,0\\n687,0\\n688,0\\n689,1\\n690,1\\n691,0\\n692,1\\n693,1\\n694,1\\n695,1\\n696,1\\n697,1\\n698,0\\n699,1\\n700,1\\n701,0\\n702,0\\n703,1\\n704,1\\n705,0\\n706,0\\n707,0\\n708,0\\n709,1\\n710,1\\n711,0\\n712,0\\n713,1\\n714,1\\n715,0\\n716,0\\n717,0\\n718,1\\n719,0\\n720,0\\n721,0\\n722,0\\n723,1\\n724,1\\n725,1\\n726,0\\n727,1\\n728,1\\n729,0\\n730,1\\n731,0\\n732,0\\n733,1\\n734,0\\n735,1\\n736,0\\n737,0\\n738,0\\n739,1\\n740,0\\n741,1\\n742,1\\n743,1\\n744,0\\n745,1\\n746,1\\n747,0\\n748,0\\n749,1\\n750,0\\n751,1\\n752,0\\n753,1\\n754,1\\n755,1\\n756,1\\n757,0\\n758,1\\n759,0\\n760,1\\n761,0\\n762,0\\n763,0\\n764,1\\n765,1\\n766,1\\n767,1\\n768,1\\n769,1\\n770,1\\n771,0\\n772,1\\n773,0\\n774,0\\n775,0\\n776,0\\n777,0\\n778,1\\n779,0\\n780,1\\n781,1\\n782,0\\n783,1\\n784,0\\n785,1\\n786,0\\n787,1\\n788,0\\n789,0\\n790,0\\n791,1\\n792,0\\n793,0\\n794,1\\n795,1\\n796,0\\n797,1\\n798,0\\n799,0\\n800,1\\n801,1\\n802,0\\n803,0\\n804,0\\n805,0\\n806,1\\n807,0\\n808,1\\n809,0\\n810,1\\n811,0\\n812,1\\n813,0\\n814,1\\n815,1\\n816,0\\n817,0\\n818,0\\n819,1\\n820,0\\n821,0\\n822,0\\n823,0\\n824,0\\n825,1\\n826,0\\n827,1\\n828,1\\n829,0\\n830,0\\n831,1\\n832,1\\n833,1\\n834,0\\n835,0\\n836,0\\n837,1\\n838,1\\n839,0\\n840,0\\n841,1\\n842,1\\n843,0\\n844,1\\n845,0\\n846,1\\n847,0\\n848,0\\n849,1\\n850,1\\n851,0\\n852,0\\n853,1\\n854,0\\n855,0\\n856,1\\n857,0\\n858,0\\n859,0\\n860,1\\n861,1\\n862,0\\n863,0\\n864,1\\n865,1\\n866,0\\n867,1\\n868,1\\n869,1\\n870,1\\n871,1\\n872,1\\n873,1\\n874,1\\n875,0\\n876,0\\n877,0\\n878,1\\n879,0\\n880,0\\n881,0\\n882,0\\n883,0\\n884,0\\n885,1\\n886,0\\n887,1\\n888,1\\n889,1\\n890,0\\n891,1\\n892,0\\n893,0\\n894,1\\n895,1\\n896,0\\n897,0\\n898,1\\n899,1\\n900,0\\n901,0\\n902,1\\n903,0\\n904,0\\n905,1\\n906,1\\n907,0\\n908,0\\n909,0\\n910,1\\n911,1\\n912,1\\n913,1\\n914,1\\n915,1\\n916,1\\n917,0\\n918,0\\n919,1\\n920,0\\n921,1\\n922,1\\n923,1\\n924,0\\n925,0\\n926,0\\n927,0\\n928,0\\n929,0\\n930,0\\n931,0\\n932,1\\n933,1\\n934,1\\n935,0\\n936,1\\n937,0\\n938,1\\n939,0\\n940,0\\n941,1\\n942,0\\n943,0\\n944,1\\n945,1\\n946,1\\n947,0\\n948,1\\n949,1\\n950,1\\n951,1\\n952,1\\n953,0\\n954,1\\n955,0\\n956,1\\n957,1\\n958,0\\n959,1\\n960,1\\n961,0\\n962,1\\n963,0\\n964,0\\n965,0\\n966,0\\n967,0\\n968,0\\n969,1\\n970,0\\n971,0\\n972,1\\n973,0\\n974,1\\n975,1\\n976,1\\n977,0\\n978,1\\n979,0\\n980,0\\n981,0\\n982,0\\n983,1\\n984,1\\n985,0\\n986,1\\n987,0\\n988,0\\n989,1\\n990,0\\n991,1\\n992,0\\n993,1\\n994,0\\n995,1\\n996,0\\n997,0\\n998,0\\n999,0\\n1000,1\\n1001,0\\n1002,1\\n1003,1\\n1004,1\\n1005,1\\n1006,0\\n1007,1\\n1008,0\\n1009,0\\n1010,0\\n1011,1\\n1012,0\\n1013,0\\n1014,1\\n1015,0\\n1016,0\\n1017,0\\n1018,0\\n1019,1\\n1020,1\\n1021,0\\n1022,0\\n1023,1\\n1024,1\\n1025,1\\n1026,1\\n1027,0\\n1028,0\\n1029,1\\n1030,0\\n1031,0\\n1032,0\\n1033,0\\n1034,0\\n1035,1\\n1036,1\\n1037,1\\n1038,0\\n1039,0\\n1040,1\\n1041,1\\n1042,1\\n1043,0\\n1044,0\\n1045,1\\n1046,1\\n1047,1\\n1048,1\\n1049,1\\n1050,1\\n1051,1\\n1052,0\\n1053,0\\n1054,0\\n1055,0\\n1056,0\\n1057,1\\n1058,0\\n1059,0\\n1060,1\\n1061,1\\n1062,1\\n1063,1\\n1064,1\\n1065,1\\n1066,1\\n1067,1\\n1068,1\\n1069,1\\n1070,1\\n1071,0\\n1072,1\\n1073,0\\n1074,1\\n1075,0\\n1076,0\\n1077,1\\n1078,0\\n1079,0\\n1080,1\\n1081,0\\n1082,0\\n1083,1\\n1084,1\\n1085,1\\n1086,0\\n1087,0\\n1088,1\\n1089,1\\n1090,0\\n1091,0\\n1092,0\\n1093,0\\n1094,0\\n1095,0\\n1096,0\\n1097,1\\n1098,0\\n1099,1\\n1100,1\\n1101,1\\n1102,1\\n1103,0\\n1104,0\\n1105,0\\n1106,1\\n1107,1\\n1108,1\\n1109,1\\n1110,0\\n1111,1\\n1112,1\\n1113,1\\n1114,0\\n1115,0\\n1116,0\\n1117,0\\n1118,0\\n1119,1\\n1120,1\\n1121,0\\n1122,1\\n1123,1\\n1124,1\\n1125,0\\n1126,0\\n1127,0\\n1128,0\\n1129,1\\n1130,1\\n1131,0\\n1132,0\\n1133,0\\n1134,1\\n1135,1\\n1136,1\\n1137,1\\n1138,0\\n1139,1\\n1140,0\\n1141,1\\n1142,0\\n1143,0\\n1144,0\\n1145,0\\n1146,1\\n1147,1\\n1148,1\\n1149,1\\n1150,1\\n1151,1\\n1152,0\\n1153,0\\n1154,0\\n1155,0\\n1156,0\\n1157,1\\n1158,0\\n1159,1\\n1160,1\\n1161,1\\n1162,0\\n1163,0\\n1164,0\\n1165,0\\n1166,0\\n1167,0\\n1168,0\\n1169,0\\n1170,0\\n1171,0\\n1172,1\\n1173,0\\n1174,0\\n1175,1\\n1176,0\\n1177,1\\n1178,0\\n1179,0\\n1180,0\\n1181,0\\n1182,1\\n1183,1\\n1184,1\\n1185,0\\n1186,1\\n1187,1\\n1188,0\\n1189,0\\n1190,0\\n1191,0\\n1192,1\\n1193,0\\n1194,1\\n1195,1\\n1196,1\\n1197,0\\n1198,1\\n1199,0\\n1200,0\\n1201,1\\n1202,1\\n1203,1\\n1204,0\\n1205,0\\n1206,1\\n1207,0\\n1208,0\\n1209,1\\n1210,0\\n1211,0\\n1212,0\\n1213,1\\n1214,1\\n1215,1\\n1216,1\\n1217,1\\n1218,0\\n1219,0\\n1220,0\\n1221,0\\n1222,1\\n1223,1\\n1224,0\\n1225,0\\n1226,1\\n1227,0\\n1228,0\\n1229,0\\n1230,1\\n1231,0\\n1232,1\\n1233,0\\n1234,1\\n1235,0\\n1236,1\\n1237,1\\n1238,1\\n1239,1\\n1240,1\\n1241,0\\n1242,1\\n1243,1\\n1244,0\\n1245,0\\n1246,0\\n1247,0\\n1248,1\\n1249,1\\n1250,1\\n1251,0\\n1252,1\\n1253,1\\n1254,0\\n1255,1\\n1256,0\\n1257,0\\n1258,0\\n1259,1\\n1260,0\\n1261,1\\n1262,0\\n1263,1\\n1264,0\\n1265,1\\n1266,1\\n1267,0\\n1268,0\\n1269,1\\n1270,1\\n1271,1\\n1272,1\\n1273,1\\n1274,0\\n1275,1\\n1276,1\\n1277,1\\n1278,0\\n1279,1\\n1280,1\\n1281,0\\n1282,1\\n1283,1\\n1284,0\\n1285,1\\n1286,1\\n1287,1\\n1288,0\\n1289,1\\n1290,1\\n1291,0\\n1292,0\\n1293,0\\n1294,0\\n1295,0\\n1296,0\\n1297,0\\n1298,0\\n1299,1\\n1300,0\\n1301,0\\n1302,0\\n1303,0\\n1304,0\\n1305,0\\n1306,0\\n1307,0\\n1308,1\\n1309,1\\n1310,0\\n1311,1\\n1312,0\\n1313,1\\n1314,0\\n1315,1\\n1316,0\\n1317,1\\n1318,0\\n1319,0\\n1320,1\\n1321,0\\n1322,1\\n1323,1\\n1324,0\\n1325,0\\n1326,0\\n1327,0\\n1328,1\\n1329,1\\n1330,1\\n1331,1\\n1332,1\\n1333,0\\n1334,0\\n1335,0\\n1336,0\\n1337,1\\n1338,1\\n1339,0\\n1340,1\\n1341,1\\n1342,1\\n1343,1\\n1344,1\\n1345,0\\n1346,1\\n1347,1\\n1348,1\\n1349,0\\n1350,1\\n1351,1\\n1352,1\\n1353,1\\n1354,1\\n1355,1\\n1356,0\\n1357,0\\n1358,0\\n1359,0\\n1360,1\\n1361,1\\n1362,0\\n1363,0\\n1364,1\\n1365,0\\n1366,1\\n1367,0\\n1368,0\\n1369,1\\n1370,1\\n1371,0\\n1372,0\\n1373,0\\n1374,1\\n1375,0\\n1376,1\\n1377,1\\n1378,1\\n1379,1\\n1380,1\\n1381,1\\n1382,0\\n1383,1\\n1384,0\\n1385,1\\n1386,1\\n1387,0\\n1388,1\\n1389,0\\n1390,0\\n1391,0\\n1392,1\\n1393,0\\n1394,0\\n1395,1\\n1396,1\\n1397,1\\n1398,1\\n1399,0\\n1400,1\\n1401,0\\n1402,1\\n1403,0\\n1404,0\\n1405,1\\n1406,1\\n1407,1\\n1408,0\\n1409,1\\n1410,0\\n1411,1\\n1412,0\\n1413,0\\n1414,1\\n1415,1\\n1416,1\\n1417,0\\n1418,1\\n1419,0\\n1420,1\\n1421,0\\n1422,1\\n1423,1\\n1424,1\\n1425,0\\n1426,0\\n1427,0\\n1428,0\\n1429,0\\n1430,1\\n1431,0\\n1432,0\\n1433,1\\n1434,1\\n1435,1\\n1436,0\\n1437,1\\n1438,0\\n1439,0\\n1440,1\\n1441,1\\n1442,1\\n1443,1\\n1444,1\\n1445,1\\n1446,1\\n1447,0\\n1448,0\\n1449,0\\n1450,1\\n1451,0\\n1452,0\\n1453,1\\n1454,1\\n1455,1\\n1456,1\\n1457,1\\n1458,1\\n1459,0\\n1460,1\\n1461,1\\n1462,0\\n1463,1\\n1464,0\\n1465,0\\n1466,0\\n1467,0\\n1468,1\\n1469,0\\n1470,1\\n1471,0\\n1472,1\\n1473,0\\n1474,1\\n1475,1\\n1476,1\\n1477,1\\n1478,0\\n1479,1\\n1480,1\\n1481,0\\n1482,0\\n1483,0\\n1484,0\\n1485,0\\n1486,1\\n1487,1\\n1488,1\\n1489,1\\n1490,0\\n1491,0\\n1492,1\\n1493,1\\n1494,0\\n1495,1\\n1496,0\\n1497,1\\n1498,1\\n1499,1\\n1500,1\\n1501,1\\n1502,0\\n1503,0\\n1504,0\\n1505,0\\n1506,1\\n1507,0\\n1508,0\\n1509,1\\n1510,1\\n1511,1\\n1512,0\\n1513,1\\n1514,1\\n1515,1\\n1516,0\\n1517,1\\n1518,1\\n1519,0\\n1520,0\\n1521,0\\n1522,0\\n1523,0\\n1524,0\\n1525,0\\n1526,0\\n1527,1\\n1528,0\\n1529,1\\n1530,1\\n1531,0\\n1532,1\\n1533,0\\n1534,1\\n1535,0\\n1536,0\\n1537,0\\n1538,0\\n1539,1\\n1540,0\\n1541,1\\n1542,0\\n1543,1\\n1544,1\\n1545,0\\n1546,1\\n1547,1\\n1548,0\\n1549,0\\n1550,1\\n1551,1\\n1552,1\\n1553,1\\n1554,1\\n1555,1\\n1556,0\\n1557,0\\n1558,1\\n1559,1\\n1560,0\\n1561,1\\n1562,0\\n1563,0\\n1564,1\\n1565,0\\n1566,1\\n1567,0\\n1568,1\\n1569,1\\n1570,0\\n1571,0\\n1572,0\\n1573,1\\n1574,1\\n1575,0\\n1576,0\\n1577,0\\n1578,1\\n1579,0\\n1580,1\\n1581,1\\n1582,1\\n1583,1\\n1584,0\\n1585,1\\n1586,1\\n1587,1\\n1588,1\\n1589,0\\n1590,1\\n1591,1\\n1592,0\\n1593,1\\n1594,0\\n1595,0\\n1596,0\\n1597,1\\n1598,1\\n1599,0\\n1600,1\\n1601,1\\n1602,0\\n1603,1\\n1604,1\\n1605,1\\n1606,1\\n1607,1\\n1608,0\\n1609,1\\n1610,1\\n1611,0\\n1612,1\\n1613,1\\n1614,1\\n1615,0\\n1616,1\\n1617,1\\n1618,1\\n1619,0\\n1620,1\\n1621,0\\n1622,1\\n1623,1\\n1624,1\\n1625,1\\n1626,0\\n1627,1\\n1628,1\\n1629,0\\n1630,1\\n1631,0\\n1632,0\\n1633,0\\n1634,1\\n1635,0\\n1636,1\\n1637,1\\n1638,1\\n1639,1\\n1640,1\\n1641,0\\n1642,0\\n1643,1\\n1644,0\\n1645,1\\n1646,0\\n1647,0\\n1648,1\\n1649,1\\n1650,0\\n1651,1\\n1652,1\\n1653,1\\n1654,0\\n1655,1\\n1656,1\\n1657,1\\n1658,1\\n1659,0\\n1660,0\\n1661,1\\n1662,0\\n1663,0\\n1664,1\\n1665,0\\n1666,0\\n1667,1\\n1668,0\\n1669,0\\n1670,1\\n1671,1\\n1672,0\\n1673,0\\n1674,1\\n1675,1\\n1676,0\\n1677,1\\n1678,0\\n1679,0\\n1680,1\\n1681,1\\n1682,0\\n1683,1\\n1684,1\\n1685,0\\n1686,0\\n1687,0\\n1688,1\\n1689,1\\n1690,1\\n1691,1\\n1692,1\\n1693,0\\n1694,1\\n1695,0\\n1696,0\\n1697,1\\n1698,1\\n1699,1\\n1700,1\\n1701,1\\n1702,1\\n1703,1\\n1704,0\\n1705,1\\n1706,0\\n1707,0\\n1708,0\\n1709,1\\n1710,0\\n1711,0\\n1712,1\\n1713,0\\n1714,1\\n1715,1\\n1716,0\\n1717,0\\n1718,0\\n1719,1\\n1720,1\\n1721,1\\n1722,0\\n1723,0\\n1724,0\\n1725,0\\n1726,1\\n1727,1\\n1728,1\\n1729,1\\n1730,1\\n1731,1\\n1732,0\\n1733,0\\n1734,1\\n1735,0\\n1736,0\\n1737,0\\n1738,1\\n1739,0\\n1740,1\\n1741,0\\n1742,0\\n1743,1\\n1744,0\\n1745,0\\n1746,1\\n1747,0\\n1748,0\\n1749,0\\n1750,0\\n1751,0\\n1752,1\\n1753,0\\n1754,1\\n1755,1\\n1756,0\\n1757,1\\n1758,0\\n1759,1\\n1760,1\\n1761,1\\n1762,1\\n1763,0\\n1764,0\\n1765,0\\n1766,1\\n1767,0\\n1768,1\\n1769,0\\n1770,0\\n1771,1\\n1772,1\\n1773,0\\n1774,1\\n1775,0\\n1776,0\\n1777,0\\n1778,0\\n1779,0\\n1780,0\\n1781,1\\n1782,0\\n1783,0\\n1784,0\\n1785,0\\n1786,0\\n1787,1\\n1788,1\\n1789,0\\n1790,1\\n1791,0\\n1792,1\\n1793,0\\n1794,1\\n1795,0\\n1796,0\\n1797,0\\n1798,0\\n1799,0\\n1800,0\\n1801,1\\n1802,1\\n1803,1\\n1804,1\\n1805,0\\n1806,0\\n1807,0\\n1808,1\\n1809,0\\n1810,0\\n1811,1\\n1812,0\\n1813,0\\n1814,1\\n1815,0\\n1816,1\\n1817,0\\n1818,1\\n1819,0\\n1820,1\\n1821,0\\n1822,0\\n1823,1\\n1824,0\\n1825,1\\n1826,0\\n1827,1\\n1828,1\\n1829,0\\n1830,0\\n1831,0\\n1832,0\\n1833,0\\n1834,0\\n1835,0\\n1836,1\\n1837,0\\n1838,0\\n1839,1\\n1840,1\\n1841,0\\n1842,0\\n1843,0\\n1844,0\\n1845,1\\n1846,1\\n1847,0\\n1848,0\\n1849,1\\n1850,0\\n1851,0\\n1852,0\\n1853,1\\n1854,0\\n1855,1\\n1856,1\\n1857,1\\n1858,0\\n1859,1\\n1860,1\\n1861,0\\n1862,0\\n1863,1\\n1864,0\\n1865,1\\n1866,1\\n1867,1\\n1868,0\\n1869,1\\n1870,0\\n1871,0\\n1872,0\\n1873,1\\n1874,0\\n1875,1\\n1876,1\\n1877,1\\n1878,0\\n1879,1\\n1880,0\\n1881,1\\n1882,0\\n1883,1\\n1884,1\\n1885,1\\n1886,0\\n1887,0\\n1888,0\\n1889,0\\n1890,1\\n1891,0\\n1892,1\\n1893,1\\n1894,1\\n1895,0\\n1896,1\\n1897,1\\n1898,0\\n1899,0\\n1900,1\\n1901,0\\n1902,0\\n1903,1\\n1904,1\\n1905,1\\n1906,0\\n1907,1\\n1908,1\\n1909,0\\n1910,1\\n1911,0\\n1912,1\\n1913,1\\n1914,0\\n1915,1\\n1916,1\\n1917,0\\n1918,0\\n1919,0\\n1920,1\\n1921,1\\n1922,0\\n1923,0\\n1924,0\\n1925,0\\n1926,0\\n1927,0\\n1928,1\\n1929,0\\n1930,1\\n1931,0\\n1932,1\\n1933,1\\n1934,0\\n1935,0\\n1936,1\\n1937,0\\n1938,1\\n1939,1\\n1940,1\\n1941,0\\n1942,0\\n1943,0\\n1944,0\\n1945,0\\n1946,0\\n1947,1\\n1948,0\\n1949,0\\n1950,0\\n1951,1\\n1952,0\\n1953,0\\n1954,1\\n1955,0\\n1956,1\\n1957,1\\n1958,1\\n1959,1\\n1960,0\\n1961,0\\n1962,1\\n1963,0\\n1964,1\\n1965,0\\n1966,0\\n1967,1\\n1968,0\\n1969,1\\n1970,1\\n1971,1\\n1972,1\\n1973,0\\n1974,0\\n1975,0\\n1976,0\\n1977,1\\n1978,1\\n1979,0\\n1980,1\\n1981,0\\n1982,1\\n1983,1\\n1984,1\\n1985,1\\n1986,0\\n1987,0\\n1988,0\\n1989,1\\n1990,1\\n1991,0\\n1992,0\\n1993,0\\n1994,0\\n1995,0\\n1996,0\\n1997,0\\n1998,1\\n1999,1\\n2000,1\\n2001,1\\n2002,1\\n2003,1\\n2004,0\\n2005,0\\n2006,1\\n2007,1\\n2008,0\\n2009,1\\n2010,0\\n2011,1\\n2012,0\\n2013,1\\n2014,0\\n2015,0\\n2016,0\\n2017,0\\n2018,1\\n2019,0\\n2020,1\\n2021,0\\n2022,0\\n2023,0\\n2024,1\\n2025,1\\n2026,1\\n2027,0\\n2028,0\\n2029,0\\n2030,0\\n2031,1\\n2032,1\\n2033,1\\n2034,1\\n2035,0\\n2036,0\\n2037,1\\n2038,1\\n2039,0\\n2040,1\\n2041,0\\n2042,0\\n2043,0\\n2044,0\\n2045,1\\n2046,1\\n2047,0\\n2048,0\\n2049,0\\n2050,1\\n2051,1\\n2052,0\\n2053,0\\n2054,1\\n2055,1\\n2056,0\\n2057,1\\n2058,1\\n2059,1\\n2060,1\\n2061,0\\n2062,0\\n2063,0\\n2064,1\\n2065,1\\n2066,0\\n2067,0\\n2068,0\\n2069,0\\n2070,1\\n2071,1\\n2072,1\\n2073,0\\n2074,0\\n2075,1\\n2076,1\\n2077,1\\n2078,0\\n2079,0\\n2080,0\\n2081,0\\n2082,0\\n2083,1\\n2084,0\\n2085,0\\n2086,0\\n2087,1\\n2088,1\\n2089,0\\n2090,0\\n2091,0\\n2092,1\\n2093,1\\n2094,1\\n2095,0\\n2096,1\\n2097,1\\n2098,0\\n2099,0\\n2100,0\\n2101,0\\n2102,0\\n2103,0\\n2104,1\\n2105,1\\n2106,1\\n2107,1\\n2108,0\\n2109,0\\n2110,1\\n2111,1\\n2112,0\\n2113,1\\n2114,0\\n2115,0\\n2116,1\\n2117,1\\n2118,0\\n2119,0\\n2120,1\\n2121,1\\n2122,0\\n2123,0\\n2124,1\\n2125,1\\n2126,1\\n2127,0\\n2128,1\\n2129,0\\n2130,1\\n2131,0\\n2132,0\\n2133,0\\n2134,1\\n2135,0\\n2136,0\\n2137,1\\n2138,1\\n2139,1\\n2140,1\\n2141,0\\n2142,0\\n2143,0\\n2144,0\\n2145,1\\n2146,1\\n2147,1\\n2148,0\\n2149,1\\n2150,1\\n2151,1\\n2152,0\\n2153,0\\n2154,1\\n2155,1\\n2156,0\\n2157,1\\n2158,0\\n2159,1\\n2160,0\\n2161,0\\n2162,0\\n2163,0\\n2164,0\\n2165,0\\n2166,0\\n2167,1\\n2168,1\\n2169,1\\n2170,0\\n2171,0\\n2172,0\\n2173,1\\n2174,0\\n2175,1\\n2176,1\\n2177,0\\n2178,0\\n2179,0\\n2180,1\\n2181,1\\n2182,0\\n2183,0\\n2184,1\\n2185,0\\n2186,0\\n2187,1\\n2188,0\\n2189,0\\n2190,1\\n2191,1\\n2192,0\\n2193,0\\n2194,1\\n2195,0\\n2196,0\\n2197,0\\n2198,0\\n2199,0\\n2200,1\\n2201,0\\n2202,1\\n2203,0\\n2204,0\\n2205,1\\n2206,1\\n2207,0\\n2208,0\\n2209,0\\n2210,1\\n2211,1\\n2212,1\\n2213,1\\n2214,0\\n2215,1\\n2216,0\\n2217,0\\n2218,1\\n2219,1\\n2220,0\\n2221,1\\n2222,1\\n2223,1\\n2224,0\\n2225,0\\n2226,1\\n2227,0\\n2228,1\\n2229,0\\n2230,1\\n2231,1\\n2232,1\\n2233,1\\n2234,0\\n2235,1\\n2236,0\\n2237,1\\n2238,1\\n2239,0\\n2240,1\\n2241,1\\n2242,1\\n2243,1\\n2244,1\\n2245,0\\n2246,1\\n2247,1\\n2248,0\\n2249,1\\n2250,1\\n2251,0\\n2252,1\\n2253,0\\n2254,1\\n2255,1\\n2256,0\\n2257,0\\n2258,1\\n2259,0\\n2260,0\\n2261,0\\n2262,0\\n2263,0\\n2264,1\\n2265,0\\n2266,1\\n2267,0\\n2268,1\\n2269,0\\n2270,0\\n2271,1\\n2272,0\\n2273,0\\n2274,1\\n2275,0\\n2276,0\\n2277,1\\n2278,0\\n2279,1\\n2280,1\\n2281,0\\n2282,1\\n2283,1\\n2284,1\\n2285,1\\n2286,1\\n2287,1\\n2288,0\\n2289,0\\n2290,1\\n2291,1\\n2292,0\\n2293,1\\n2294,0\\n2295,0\\n2296,0\\n2297,0\\n2298,0\\n2299,0\\n2300,1\\n2301,1\\n2302,1\\n2303,0\\n2304,0\\n2305,1\\n2306,0\\n2307,1\\n2308,0\\n2309,1\\n2310,1\\n2311,1\\n2312,1\\n2313,0\\n2314,0\\n2315,1\\n2316,0\\n2317,0\\n2318,1\\n2319,0\\n2320,1\\n2321,1\\n2322,0\\n2323,1\\n2324,0\\n2325,1\\n2326,1\\n2327,0\\n2328,1\\n2329,0\\n2330,1\\n2331,1\\n2332,0\\n2333,1\\n2334,0\\n2335,1\\n2336,1\\n2337,0\\n2338,0\\n2339,1\\n2340,1\\n2341,1\\n2342,0\\n2343,0\\n2344,1\\n2345,1\\n2346,0\\n2347,1\\n2348,0\\n2349,0\\n2350,1\\n2351,0\\n2352,1\\n2353,1\\n2354,1\\n2355,1\\n2356,1\\n2357,1\\n2358,0\\n2359,0\\n2360,0\\n2361,0\\n2362,1\\n2363,1\\n2364,0\\n2365,0\\n2366,0\\n2367,1\\n2368,1\\n2369,0\\n2370,0\\n2371,0\\n2372,0\\n2373,1\\n2374,0\\n2375,1\\n2376,1\\n2377,0\\n2378,1\\n2379,1\\n2380,0\\n2381,0\\n2382,0\\n2383,0\\n2384,1\\n2385,0\\n2386,0\\n2387,0\\n2388,0\\n2389,1\\n2390,0\\n2391,0\\n2392,1\\n2393,0\\n2394,0\\n2395,0\\n2396,1\\n2397,1\\n2398,1\\n2399,1\\n2400,0\\n2401,0\\n2402,0\\n2403,0\\n2404,0\\n2405,0\\n2406,1\\n2407,1\\n2408,1\\n2409,1\\n2410,0\\n2411,0\\n2412,0\\n2413,1\\n2414,0\\n2415,1\\n2416,1\\n2417,1\\n2418,0\\n2419,1\\n2420,1\\n2421,1\\n2422,0\\n2423,1\\n2424,1\\n2425,0\\n2426,1\\n2427,0\\n2428,1\\n2429,1\\n2430,0\\n2431,1\\n2432,1\\n2433,1\\n2434,0\\n2435,0\\n2436,0\\n2437,1\\n2438,0\\n2439,0\\n2440,0\\n2441,1\\n2442,0\\n2443,1\\n2444,1\\n2445,1\\n2446,1\\n2447,1\\n2448,0\\n2449,0\\n2450,1\\n2451,1\\n2452,0\\n2453,0\\n2454,0\\n2455,0\\n2456,1\\n2457,0\\n2458,1\\n2459,0\\n2460,0\\n2461,1\\n2462,0\\n2463,1\\n2464,0\\n2465,0\\n2466,0\\n2467,0\\n2468,1\\n2469,0\\n2470,1\\n2471,0\\n2472,1\\n2473,1\\n2474,1\\n2475,0\\n2476,0\\n2477,0\\n2478,1\\n2479,0\\n2480,0\\n2481,0\\n2482,0\\n2483,1\\n2484,1\\n2485,0\\n2486,0\\n2487,0\\n2488,0\\n2489,1\\n2490,1\\n2491,0\\n2492,1\\n2493,0\\n2494,0\\n2495,1\\n2496,0\\n2497,0\\n2498,1\\n2499,0\\n2500,0\\n2501,1\\n2502,0\\n2503,0\\n2504,1\\n2505,0\\n2506,0\\n2507,1\\n2508,1\\n2509,1\\n2510,1\\n2511,1\\n2512,0\\n2513,0\\n2514,1\\n2515,0\\n2516,1\\n2517,0\\n2518,1\\n2519,1\\n2520,1\\n2521,0\\n2522,1\\n2523,1\\n2524,0\\n2525,1\\n2526,1\\n2527,0\\n2528,1\\n2529,0\\n2530,0\\n2531,0\\n2532,0\\n2533,0\\n2534,0\\n2535,1\\n2536,0\\n2537,1\\n2538,1\\n2539,0\\n2540,1\\n2541,1\\n2542,0\\n2543,0\\n2544,1\\n2545,1\\n2546,0\\n2547,0\\n2548,1\\n2549,0\\n2550,1\\n2551,0\\n2552,0\\n2553,1\\n2554,1\\n2555,1\\n2556,1\\n2557,0\\n2558,0\\n2559,0\\n2560,0\\n2561,1\\n2562,1\\n2563,1\\n2564,1\\n2565,1\\n2566,1\\n2567,1\\n2568,0\\n2569,1\\n2570,1\\n2571,1\\n2572,0\\n2573,1\\n2574,0\\n2575,1\\n2576,0\\n2577,1\\n2578,0\\n2579,0\\n2580,0\\n2581,0\\n2582,1\\n2583,1\\n2584,0\\n2585,1\\n2586,0\\n2587,0\\n2588,0\\n2589,0\\n2590,0\\n2591,0\\n2592,0\\n2593,0\\n2594,1\\n2595,0\\n2596,0\\n2597,0\\n2598,1\\n2599,1\\n2600,0\\n2601,0\\n2602,0\\n2603,0\\n2604,0\\n2605,1\\n2606,0\\n2607,0\\n2608,1\\n2609,1\\n2610,0\\n2611,1\\n2612,0\\n2613,0\\n2614,1\\n2615,1\\n2616,1\\n2617,0\\n2618,0\\n2619,0\\n2620,1\\n2621,0\\n2622,1\\n2623,1\\n2624,1\\n2625,0\\n2626,1\\n2627,1\\n2628,1\\n2629,1\\n2630,1\\n2631,0\\n2632,1\\n2633,0\\n2634,0\\n2635,1\\n2636,0\\n2637,1\\n2638,0\\n2639,1\\n2640,0\\n2641,1\\n2642,0\\n2643,1\\n2644,1\\n2645,1\\n2646,1\\n2647,1\\n2648,0\\n2649,1\\n2650,0\\n2651,1\\n2652,1\\n2653,1\\n2654,1\\n2655,0\\n2656,0\\n2657,1\\n2658,0\\n2659,0\\n2660,0\\n2661,1\\n2662,1\\n2663,0\\n2664,0\\n2665,1\\n2666,0\\n2667,0\\n2668,0\\n2669,1\\n2670,0\\n2671,0\\n2672,1\\n2673,0\\n2674,1\\n2675,0\\n2676,0\\n2677,1\\n2678,1\\n2679,0\\n2680,1\\n2681,0\\n2682,1\\n2683,0\\n2684,0\\n2685,1\\n2686,1\\n2687,0\\n2688,0\\n2689,1\\n2690,1\\n2691,1\\n2692,0\\n2693,1\\n2694,1\\n2695,0\\n2696,1\\n2697,0\\n2698,0\\n2699,0\\n2700,1\\n2701,0\\n2702,1\\n2703,1\\n2704,1\\n2705,1\\n2706,1\\n2707,1\\n2708,1\\n2709,0\\n2710,1\\n2711,0\\n2712,0\\n2713,0\\n2714,1\\n2715,1\\n2716,0\\n2717,0\\n2718,0\\n2719,1\\n2720,0\\n2721,0\\n2722,0\\n2723,0\\n2724,1\\n2725,1\\n2726,0\\n2727,0\\n2728,0\\n2729,1\\n2730,0\\n2731,1\\n2732,0\\n2733,0\\n2734,1\\n2735,1\\n2736,1\\n2737,1\\n2738,0\\n2739,1\\n2740,0\\n2741,1\\n2742,1\\n2743,1\\n2744,1\\n2745,1\\n2746,1\\n2747,0\\n2748,1\\n2749,0\\n2750,1\\n2751,1\\n2752,1\\n2753,1\\n2754,1\\n2755,1\\n2756,0\\n2757,0\\n2758,0\\n2759,1\\n2760,1\\n2761,0\\n2762,1\\n2763,0\\n2764,1\\n2765,1\\n2766,1\\n2767,1\\n2768,0\\n2769,1\\n2770,0\\n2771,0\\n2772,1\\n2773,0\\n2774,1\\n2775,1\\n2776,1\\n2777,1\\n2778,0\\n2779,1\\n2780,1\\n2781,1\\n2782,1\\n2783,1\\n2784,0\\n2785,0\\n2786,0\\n2787,1\\n2788,0\\n2789,0\\n2790,1\\n2791,0\\n2792,0\\n2793,1\\n2794,0\\n2795,1\\n2796,1\\n2797,0\\n2798,0\\n2799,0\\n2800,1\\n2801,0\\n2802,1\\n2803,0\\n2804,0\\n2805,0\\n2806,1\\n2807,1\\n2808,0\\n2809,1\\n2810,1\\n2811,0\\n2812,1\\n2813,0\\n2814,1\\n2815,0\\n2816,1\\n2817,0\\n2818,1\\n2819,1\\n2820,1\\n2821,0\\n2822,0\\n2823,1\\n2824,0\\n2825,0\\n2826,0\\n2827,1\\n2828,1\\n2829,1\\n2830,1\\n2831,1\\n2832,1\\n2833,0\\n2834,1\\n2835,1\\n2836,0\\n2837,0\\n2838,0\\n2839,1\\n2840,1\\n2841,1\\n2842,1\\n2843,1\\n2844,1\\n2845,1\\n2846,0\\n2847,0\\n2848,0\\n2849,1\\n2850,1\\n2851,0\\n2852,1\\n2853,1\\n2854,0\\n2855,0\\n2856,0\\n2857,0\\n2858,0\\n2859,1\\n2860,1\\n2861,1\\n2862,1\\n2863,0\\n2864,0\\n2865,1\\n2866,0\\n2867,1\\n2868,1\\n2869,0\\n2870,1\\n2871,1\\n2872,1\\n2873,1\\n2874,1\\n2875,0\\n2876,0\\n2877,0\\n2878,1\\n2879,0\\n2880,1\\n2881,0\\n2882,0\\n2883,1\\n2884,1\\n2885,0\\n2886,1\\n2887,1\\n2888,0\\n2889,0\\n2890,0\\n2891,1\\n2892,0\\n2893,0\\n2894,0\\n2895,1\\n2896,0\\n2897,0\\n2898,1\\n2899,1\\n2900,1\\n2901,0\\n2902,0\\n2903,0\\n2904,1\\n2905,0\\n2906,0\\n2907,1\\n2908,0\\n2909,1\\n2910,0\\n2911,1\\n2912,1\\n2913,0\\n2914,0\\n2915,0\\n2916,0\\n2917,0\\n2918,1\\n2919,1\\n2920,0\\n2921,0\\n2922,1\\n2923,0\\n2924,0\\n2925,1\\n2926,0\\n2927,0\\n2928,0\\n2929,1\\n2930,0\\n2931,1\\n2932,0\\n2933,0\\n2934,1\\n2935,0\\n2936,1\\n2937,1\\n2938,0\\n2939,1\\n2940,0\\n2941,0\\n2942,1\\n2943,0\\n2944,1\\n2945,1\\n2946,1\\n2947,0\\n2948,0\\n2949,1\\n2950,0\\n2951,1\\n2952,1\\n2953,1\\n2954,0\\n2955,0\\n2956,1\\n2957,0\\n2958,0\\n2959,1\\n2960,1\\n2961,1\\n2962,1\\n2963,1\\n2964,0\\n2965,1\\n2966,1\\n2967,0\\n2968,1\\n2969,1\\n2970,0\\n2971,0\\n2972,1\\n2973,1\\n2974,0\\n2975,1\\n2976,1\\n2977,0\\n2978,1\\n2979,1\\n2980,1\\n2981,1\\n2982,0\\n2983,0\\n2984,1\\n2985,0\\n2986,1\\n2987,0\\n2988,0\\n2989,0\\n2990,0\\n2991,1\\n2992,1\\n2993,1\\n2994,1\\n2995,1\\n2996,0\\n2997,1\\n2998,0\\n2999,1\\n3000,1\\n3001,1\\n3002,1\\n3003,1\\n3004,0\\n3005,1\\n3006,1\\n3007,0\\n3008,1\\n3009,0\\n3010,1\\n3011,0\\n3012,0\\n3013,0\\n3014,0\\n3015,0\\n3016,1\\n3017,1\\n3018,1\\n3019,1\\n3020,0\\n3021,0\\n3022,0\\n3023,1\\n3024,0\\n3025,1\\n3026,1\\n3027,0\\n3028,0\\n3029,1\\n3030,0\\n3031,1\\n3032,0\\n3033,0\\n3034,0\\n3035,0\\n3036,1\\n3037,0\\n3038,1\\n3039,1\\n3040,1\\n3041,0\\n3042,1\\n3043,1\\n3044,1\\n3045,0\\n3046,0\\n3047,1\\n3048,1\\n3049,1\\n3050,1\\n3051,1\\n3052,0\\n3053,0\\n3054,0\\n3055,1\\n3056,0\\n3057,1\\n3058,0\\n3059,1\\n3060,1\\n3061,0\\n3062,0\\n3063,1\\n3064,0\\n3065,0\\n3066,1\\n3067,0\\n3068,0\\n3069,0\\n3070,0\\n3071,1\\n3072,0\\n3073,1\\n3074,0\\n3075,1\\n3076,1\\n3077,0\\n3078,0\\n3079,1\\n3080,1\\n3081,1\\n3082,1\\n3083,1\\n3084,0\\n3085,1\\n3086,0\\n3087,0\\n3088,1\\n3089,0\\n3090,1\\n3091,0\\n3092,1\\n3093,0\\n3094,0\\n3095,0\\n3096,0\\n3097,1\\n3098,1\\n3099,1\\n3100,1\\n3101,0\\n3102,1\\n3103,0\\n3104,0\\n3105,1\\n3106,1\\n3107,0\\n3108,0\\n3109,0\\n3110,0\\n3111,1\\n3112,1\\n3113,1\\n3114,0\\n3115,0\\n3116,1\\n3117,1\\n3118,1\\n3119,0\\n3120,0\\n3121,1\\n3122,0\\n3123,0\\n3124,1\\n3125,1\\n3126,1\\n3127,1\\n3128,1\\n3129,0\\n3130,0\\n3131,1\\n3132,0\\n3133,1\\n3134,0\\n3135,1\\n3136,0\\n3137,0\\n3138,0\\n3139,1\\n3140,0\\n3141,1\\n3142,0\\n3143,0\\n3144,1\\n3145,1\\n3146,1\\n3147,0\\n3148,1\\n3149,1\\n3150,0\\n3151,0\\n3152,0\\n3153,0\\n3154,0\\n3155,0\\n3156,0\\n3157,1\\n3158,0\\n3159,1\\n3160,0\\n3161,0\\n3162,1\\n3163,1\\n3164,0\\n3165,1\\n3166,0\\n3167,1\\n3168,1\\n3169,1\\n3170,0\\n3171,0\\n3172,0\\n3173,1\\n3174,0\\n3175,0\\n3176,1\\n3177,0\\n3178,1\\n3179,1\\n3180,0\\n3181,0\\n3182,1\\n3183,0\\n3184,1\\n3185,1\\n3186,0\\n3187,1\\n3188,0\\n3189,0\\n3190,1\\n3191,1\\n3192,1\\n3193,0\\n3194,1\\n3195,0\\n3196,0\\n3197,1\\n3198,0\\n3199,1\\n3200,1\\n3201,1\\n3202,1\\n3203,0\\n3204,0\\n3205,0\\n3206,1\\n3207,1\\n3208,0\\n3209,0\\n3210,1\\n3211,0\\n3212,1\\n3213,0\\n3214,1\\n3215,1\\n3216,1\\n3217,1\\n3218,0\\n3219,0\\n3220,1\\n3221,0\\n3222,1\\n3223,1\\n3224,1\\n3225,1\\n3226,0\\n3227,1\\n3228,1\\n3229,1\\n3230,1\\n3231,1\\n3232,1\\n3233,1\\n3234,1\\n3235,0\\n3236,1\\n3237,0\\n3238,0\\n3239,1\\n3240,1\\n3241,0\\n3242,0\\n3243,0\\n3244,1\\n3245,0\\n3246,0\\n3247,0\\n3248,0\\n3249,0\\n3250,0\\n3251,0\\n3252,1\\n3253,1\\n3254,0\\n3255,1\\n3256,0\\n3257,0\\n3258,1\\n3259,0\\n3260,0\\n3261,0\\n3262,1\\n3263,1\\n3264,1\\n3265,1\\n3266,0\\n3267,0\\n3268,0\\n3269,0\\n3270,1\\n3271,1\\n3272,1\\n3273,1\\n3274,1\\n3275,1\\n3276,1\\n3277,0\\n3278,0\\n3279,0\\n3280,0\\n3281,1\\n3282,1\\n3283,0\\n3284,0\\n3285,1\\n3286,0\\n3287,1\\n3288,0\\n3289,0\\n3290,1\\n3291,1\\n3292,1\\n3293,1\\n3294,0\\n3295,0\\n3296,1\\n3297,0\\n3298,0\\n3299,0\\n3300,1\\n3301,0\\n3302,1\\n3303,0\\n3304,0\\n3305,1\\n3306,1\\n3307,1\\n3308,0\\n3309,1\\n3310,1\\n3311,1\\n3312,1\\n3313,0\\n3314,1\\n3315,0\\n3316,1\\n3317,1\\n3318,0\\n3319,1\\n3320,0\\n3321,0\\n3322,1\\n3323,0\\n3324,1\\n3325,0\\n3326,1\\n3327,0\\n3328,0\\n3329,1\\n3330,0\\n3331,1\\n3332,0\\n3333,0\\n3334,1\\n3335,1\\n3336,1\\n3337,1\\n3338,1\\n3339,1\\n3340,0\\n3341,1\\n3342,1\\n3343,0\\n3344,1\\n3345,0\\n3346,0\\n3347,1\\n3348,1\\n3349,0\\n3350,0\\n3351,0\\n3352,0\\n3353,1\\n3354,0\\n3355,1\\n3356,1\\n3357,1\\n3358,0\\n3359,1\\n3360,0\\n3361,1\\n3362,1\\n3363,0\\n3364,0\\n3365,0\\n3366,0\\n3367,1\\n3368,1\\n3369,1\\n3370,1\\n3371,0\\n3372,1\\n3373,1\\n3374,1\\n3375,0\\n3376,0\\n3377,0\\n3378,1\\n3379,0\\n3380,1\\n3381,1\\n3382,0\\n3383,0\\n3384,0\\n3385,0\\n3386,1\\n3387,1\\n3388,1\\n3389,0\\n3390,1\\n3391,0\\n3392,1\\n3393,1\\n3394,1\\n3395,1\\n3396,0\\n3397,0\\n3398,1\\n3399,1\\n3400,1\\n3401,1\\n3402,0\\n3403,1\\n3404,0\\n3405,0\\n3406,0\\n3407,1\\n3408,0\\n3409,1\\n3410,0\\n3411,0\\n3412,0\\n3413,1\\n3414,1\\n3415,0\\n3416,1\\n3417,1\\n3418,1\\n3419,0\\n3420,1\\n3421,0\\n3422,0\\n3423,1\\n3424,0\\n3425,0\\n3426,0\\n3427,0\\n3428,0\\n3429,1\\n3430,1\\n3431,0\\n3432,0\\n3433,1\\n3434,0\\n3435,0\\n3436,0\\n3437,0\\n3438,0\\n3439,1\\n3440,0\\n3441,1\\n3442,0\\n3443,0\\n3444,1\\n3445,1\\n3446,1\\n3447,0\\n3448,1\\n3449,0\\n3450,1\\n3451,0\\n3452,0\\n3453,1\\n3454,1\\n3455,0\\n3456,0\\n3457,0\\n3458,0\\n3459,0\\n3460,1\\n3461,0\\n3462,0\\n3463,0\\n3464,0\\n3465,1\\n3466,0\\n3467,1\\n3468,0\\n3469,0\\n3470,1\\n3471,1\\n3472,1\\n3473,1\\n3474,0\\n3475,1\\n3476,0\\n3477,0\\n3478,1\\n3479,1\\n3480,0\\n3481,1\\n3482,1\\n3483,1\\n3484,1\\n3485,0\\n3486,0\\n3487,1\\n3488,0\\n3489,1\\n3490,1\\n3491,0\\n3492,0\\n3493,1\\n3494,0\\n3495,1\\n3496,0\\n3497,0\\n3498,1\\n3499,0\\n3500,1\\n3501,0\\n3502,1\\n3503,0\\n3504,0\\n3505,1\\n3506,0\\n3507,1\\n3508,1\\n3509,0\\n3510,0\\n3511,1\\n3512,1\\n3513,1\\n3514,1\\n3515,1\\n3516,1\\n3517,0\\n3518,1\\n3519,1\\n3520,0\\n3521,0\\n3522,0\\n3523,0\\n3524,0\\n3525,0\\n3526,0\\n3527,0\\n3528,0\\n3529,1\\n3530,1\\n3531,0\\n3532,1\\n3533,0\\n3534,0\\n3535,0\\n3536,1\\n3537,1\\n3538,1\\n3539,1\\n3540,0\\n3541,0\\n3542,1\\n3543,1\\n3544,0\\n3545,1\\n3546,0\\n3547,1\\n3548,1\\n3549,0\\n3550,1\\n3551,0\\n3552,0\\n3553,1\\n3554,0\\n3555,0\\n3556,0\\n3557,0\\n3558,1\\n3559,0\\n3560,1\\n3561,1\\n3562,1\\n3563,1\\n3564,1\\n3565,1\\n3566,0\\n3567,0\\n3568,1\\n3569,1\\n3570,1\\n3571,1\\n3572,1\\n3573,0\\n3574,1\\n3575,1\\n3576,1\\n3577,1\\n3578,0\\n3579,1\\n3580,1\\n3581,0\\n3582,0\\n3583,1\\n3584,0\\n3585,1\\n3586,1\\n3587,0\\n3588,0\\n3589,0\\n3590,0\\n3591,0\\n3592,1\\n3593,0\\n3594,1\\n3595,1\\n3596,1\\n3597,0\\n3598,0\\n3599,0\\n3600,1\\n3601,1\\n3602,1\\n3603,1\\n3604,1\\n3605,1\\n3606,0\\n3607,0\\n3608,0\\n3609,0\\n3610,0\\n3611,0\\n3612,1\\n3613,0\\n3614,0\\n3615,0\\n3616,1\\n3617,1\\n3618,0\\n3619,1\\n3620,1\\n3621,0\\n3622,0\\n3623,1\\n3624,1\\n3625,0\\n3626,0\\n3627,0\\n3628,1\\n3629,1\\n3630,1\\n3631,0\\n3632,1\\n3633,0\\n3634,1\\n3635,1\\n3636,0\\n3637,1\\n3638,1\\n3639,1\\n3640,0\\n3641,0\\n3642,0\\n3643,1\\n3644,0\\n3645,1\\n3646,1\\n3647,0\\n3648,0\\n3649,1\\n3650,1\\n3651,1\\n3652,0\\n3653,1\\n3654,1\\n3655,0\\n3656,0\\n3657,1\\n3658,0\\n3659,0\\n3660,0\\n3661,1\\n3662,0\\n3663,0\\n3664,1\\n3665,1\\n3666,1\\n3667,1\\n3668,0\\n3669,1\\n3670,1\\n3671,0\\n3672,0\\n3673,0\\n3674,1\\n3675,1\\n3676,0\\n3677,1\\n3678,0\\n3679,0\\n3680,0\\n3681,1\\n3682,1\\n3683,1\\n3684,0\\n3685,1\\n3686,0\\n3687,0\\n3688,0\\n3689,1\\n3690,0\\n3691,1\\n3692,0\\n3693,0\\n3694,0\\n3695,0\\n3696,1\\n3697,0\\n3698,1\\n3699,0\\n3700,0\\n3701,0\\n3702,0\\n3703,0\\n3704,1\\n3705,0\\n3706,1\\n3707,0\\n3708,0\\n3709,0\\n3710,0\\n3711,0\\n3712,1\\n3713,0\\n3714,1\\n3715,0\\n3716,0\\n3717,1\\n3718,1\\n3719,0\\n3720,1\\n3721,1\\n3722,1\\n3723,1\\n3724,0\\n3725,1\\n3726,0\\n3727,1\\n3728,1\\n3729,1\\n3730,0\\n3731,0\\n3732,1\\n3733,1\\n3734,1\\n3735,1\\n3736,1\\n3737,0\\n3738,1\\n3739,0\\n3740,0\\n3741,1\\n3742,0\\n3743,1\\n3744,0\\n3745,1\\n3746,1\\n3747,0\\n3748,0\\n3749,1\\n3750,0\\n3751,1\\n3752,1\\n3753,0\\n3754,1\\n3755,0\\n3756,1\\n3757,1\\n3758,0\\n3759,1\\n3760,1\\n3761,1\\n3762,1\\n3763,0\\n3764,1\\n3765,0\\n3766,0\\n3767,0\\n3768,0\\n3769,0\\n3770,1\\n3771,1\\n3772,0\\n3773,1\\n3774,0\\n3775,0\\n3776,0\\n3777,1\\n3778,1\\n3779,0\\n3780,1\\n3781,0\\n3782,1\\n3783,1\\n3784,1\\n3785,0\\n3786,1\\n3787,0\\n3788,0\\n3789,0\\n3790,1\\n3791,1\\n3792,1\\n3793,0\\n3794,1\\n3795,0\\n3796,1\\n3797,1\\n3798,0\\n3799,0\\n3800,0\\n3801,1\\n3802,1\\n3803,1\\n3804,0\\n3805,0\\n3806,1\\n3807,1\\n3808,0\\n3809,0\\n3810,0\\n3811,0\\n3812,0\\n3813,1\\n3814,0\\n3815,0\\n3816,0\\n3817,0\\n3818,1\\n3819,0\\n3820,1\\n3821,1\\n3822,0\\n3823,1\\n3824,0\\n3825,1\\n3826,0\\n3827,0\\n3828,0\\n3829,0\\n3830,1\\n3831,0\\n3832,1\\n3833,1\\n3834,1\\n3835,1\\n3836,1\\n3837,0\\n3838,0\\n3839,0\\n3840,1\\n3841,1\\n3842,0\\n3843,0\\n3844,0\\n3845,1\\n3846,1\\n3847,0\\n3848,1\\n3849,0\\n3850,0\\n3851,0\\n3852,1\\n3853,1\\n3854,0\\n3855,0\\n3856,1\\n3857,0\\n3858,1\\n3859,1\\n3860,1\\n3861,1\\n3862,1\\n3863,1\\n3864,1\\n3865,0\\n3866,1\\n3867,1\\n3868,0\\n3869,1\\n3870,1\\n3871,1\\n3872,1\\n3873,1\\n3874,1\\n3875,1\\n3876,0\\n3877,0\\n3878,0\\n3879,1\\n3880,0\\n3881,0\\n3882,0\\n3883,0\\n3884,0\\n3885,0\\n3886,1\\n3887,1\\n3888,1\\n3889,0\\n3890,0\\n3891,1\\n3892,0\\n3893,1\\n3894,1\\n3895,1\\n3896,0\\n3897,1\\n3898,1\\n3899,0\\n3900,0\\n3901,1\\n3902,1\\n3903,1\\n3904,0\\n3905,1\\n3906,1\\n3907,1\\n3908,1\\n3909,1\\n3910,1\\n3911,1\\n3912,1\\n3913,0\\n3914,0\\n3915,1\\n3916,0\\n3917,0\\n3918,1\\n3919,0\\n3920,1\\n3921,1\\n3922,0\\n3923,1\\n3924,1\\n3925,1\\n3926,0\\n3927,0\\n3928,1\\n3929,0\\n3930,1\\n3931,1\\n3932,0\\n3933,0\\n3934,1\\n3935,1\\n3936,1\\n3937,1\\n3938,0\\n3939,1\\n3940,1\\n3941,0\\n3942,0\\n3943,0\\n3944,1\\n3945,0\\n3946,1\\n3947,0\\n3948,1\\n3949,1\\n3950,0\\n3951,1\\n3952,1\\n3953,0\\n3954,0\\n3955,0\\n3956,1\\n3957,1\\n3958,0\\n3959,1\\n3960,0\\n3961,1\\n3962,1\\n3963,0\\n3964,0\\n3965,1\\n3966,0\\n3967,0\\n3968,0\\n3969,0\\n3970,1\\n3971,1\\n3972,1\\n3973,0\\n3974,0\\n3975,0\\n3976,0\\n3977,0\\n3978,1\\n3979,0\\n3980,1\\n3981,0\\n3982,1\\n3983,1\\n3984,1\\n3985,0\\n3986,0\\n3987,0\\n3988,0\\n3989,1\\n3990,1\\n3991,1\\n3992,1\\n3993,1\\n3994,1\\n3995,0\\n3996,0\\n3997,0\\n3998,0\\n3999,1\\n4000,1\\n4001,1\\n4002,1\\n4003,0\\n4004,0\\n4005,0\\n4006,0\\n4007,0\\n4008,1\\n4009,1\\n4010,1\\n4011,0\\n4012,1\\n4013,1\\n4014,0\\n4015,1\\n4016,0\\n4017,0\\n4018,1\\n4019,1\\n4020,0\\n4021,0\\n4022,0\\n4023,1\\n4024,1\\n4025,0\\n4026,1\\n4027,1\\n4028,1\\n4029,0\\n4030,0\\n4031,0\\n4032,1\\n4033,1\\n4034,0\\n4035,1\\n4036,0\\n4037,1\\n4038,0\\n4039,0\\n4040,1\\n4041,1\\n4042,0\\n4043,1\\n4044,0\\n4045,0\\n4046,0\\n4047,1\\n4048,1\\n4049,1\\n4050,0\\n4051,1\\n4052,1\\n4053,1\\n4054,0\\n4055,0\\n4056,0\\n4057,1\\n4058,0\\n4059,0\\n4060,1\\n4061,0\\n4062,1\\n4063,1\\n4064,1\\n4065,1\\n4066,0\\n4067,1\\n4068,0\\n4069,1\\n4070,0\\n4071,0\\n4072,1\\n4073,0\\n4074,1\\n4075,0\\n4076,0\\n4077,0\\n4078,0\\n4079,0\\n4080,0\\n4081,0\\n4082,0\\n4083,0\\n4084,0\\n4085,1\\n4086,1\\n4087,1\\n4088,1\\n4089,0\\n4090,1\\n4091,0\\n4092,1\\n4093,0\\n4094,1\\n4095,1\\n4096,1\\n4097,1\\n4098,0\\n4099,1\\n4100,0\\n4101,1\\n4102,0\\n4103,1\\n4104,1\\n4105,1\\n4106,1\\n4107,0\\n4108,1\\n4109,1\\n4110,0\\n4111,1\\n4112,0\\n4113,1\\n4114,0\\n4115,0\\n4116,0\\n4117,1\\n4118,1\\n4119,1\\n4120,0\\n4121,0\\n4122,1\\n4123,0\\n4124,1\\n4125,1\\n4126,0\\n4127,0\\n4128,1\\n4129,0\\n4130,0\\n4131,1\\n4132,1\\n4133,0\\n4134,1\\n4135,0\\n4136,1\\n4137,0\\n4138,1\\n4139,1\\n4140,0\\n4141,0\\n4142,1\\n4143,0\\n4144,0\\n4145,0\\n4146,1\\n4147,0\\n4148,1\\n4149,0\\n4150,1\\n4151,1\\n4152,0\\n4153,0\\n4154,1\\n4155,0\\n4156,0\\n4157,1\\n4158,0\\n4159,1\\n4160,0\\n4161,0\\n4162,0\\n4163,0\\n4164,0\\n4165,1\\n4166,0\\n4167,1\\n4168,0\\n4169,1\\n4170,1\\n4171,0\\n4172,0\\n4173,1\\n4174,1\\n4175,1\\n4176,0\\n4177,1\\n4178,0\\n4179,0\\n4180,1\\n4181,0\\n4182,1\\n4183,1\\n4184,1\\n4185,0\\n4186,1\\n4187,0\\n4188,0\\n4189,1\\n4190,0\\n4191,1\\n4192,0\\n4193,0\\n4194,1\\n4195,1\\n4196,0\\n4197,1\\n4198,1\\n4199,1\\n4200,1\\n4201,1\\n4202,0\\n4203,1\\n4204,0\\n4205,0\\n4206,1\\n4207,0\\n4208,1\\n4209,0\\n4210,1\\n4211,1\\n4212,0\\n4213,1\\n4214,0\\n4215,0\\n4216,0\\n4217,0\\n4218,1\\n4219,1\\n4220,0\\n4221,1\\n4222,1\\n4223,0\\n4224,0\\n4225,0\\n4226,0\\n4227,1\\n4228,1\\n4229,1\\n4230,0\\n4231,1\\n4232,1\\n4233,0\\n4234,0\\n4235,0\\n4236,0\\n4237,0\\n4238,0\\n4239,1\\n4240,1\\n4241,1\\n4242,1\\n4243,0\\n4244,1\\n4245,0\\n4246,0\\n4247,0\\n4248,1\\n4249,1\\n4250,0\\n4251,1\\n4252,0\\n4253,1\\n4254,0\\n4255,1\\n4256,0\\n4257,1\\n4258,1\\n4259,1\\n4260,1\\n4261,1\\n4262,0\\n4263,1\\n4264,1\\n4265,0\\n4266,0\\n4267,1\\n4268,1\\n4269,0\\n4270,1\\n4271,1\\n4272,1\\n4273,0\\n4274,1\\n4275,0\\n4276,1\\n4277,1\\n4278,0\\n4279,1\\n4280,1\\n4281,1\\n4282,0\\n4283,1\\n4284,0\\n4285,0\\n4286,1\\n4287,0\\n4288,1\\n4289,0\\n4290,0\\n4291,0\\n4292,0\\n4293,1\\n4294,1\\n4295,0\\n4296,1\\n4297,1\\n4298,1\\n4299,1\\n4300,1\\n4301,1\\n4302,0\\n4303,0\\n4304,0\\n4305,1\\n4306,0\\n4307,1\\n4308,0\\n4309,1\\n4310,0\\n4311,1\\n4312,0\\n4313,0\\n4314,1\\n4315,0\\n4316,1\\n4317,0\\n4318,0\\n4319,0\\n4320,1\\n4321,0\\n4322,0\\n4323,0\\n4324,0\\n4325,0\\n4326,1\\n4327,0\\n4328,1\\n4329,0\\n4330,0\\n4331,0\\n4332,0\\n4333,1\\n4334,0\\n4335,0\\n4336,1\\n4337,0\\n4338,1\\n4339,1\\n4340,0\\n4341,1\\n4342,1\\n4343,0\\n4344,0\\n4345,0\\n4346,0\\n4347,1\\n4348,0\\n4349,1\\n4350,0\\n4351,1\\n4352,1\\n4353,0\\n4354,1\\n4355,0\\n4356,1\\n4357,1\\n4358,0\\n4359,1\\n4360,0\\n4361,0\\n4362,1\\n4363,1\\n4364,0\\n4365,1\\n4366,0\\n4367,1\\n4368,1\\n4369,1\\n4370,1\\n4371,0\\n4372,1\\n4373,0\\n4374,0\\n4375,1\\n4376,1\\n4377,0\\n4378,1\\n4379,0\\n4380,0\\n4381,0\\n4382,0\\n4383,0\\n4384,0\\n4385,0\\n4386,0\\n4387,1\\n4388,1\\n4389,1\\n4390,0\\n4391,0\\n4392,0\\n4393,1\\n4394,1\\n4395,1\\n4396,0\\n4397,1\\n4398,0\\n4399,1\\n4400,0\\n4401,1\\n4402,0\\n4403,1\\n4404,1\\n4405,1\\n4406,0\\n4407,0\\n4408,1\\n4409,0\\n4410,0\\n4411,0\\n4412,1\\n4413,0\\n4414,1\\n4415,0\\n4416,0\\n4417,1\\n4418,0\\n4419,0\\n4420,1\\n4421,1\\n4422,1\\n4423,1\\n4424,0\\n4425,1\\n4426,0\\n4427,0\\n4428,0\\n4429,1\\n4430,0\\n4431,0\\n4432,1\\n4433,0\\n4434,1\\n4435,0\\n4436,0\\n4437,0\\n4438,0\\n4439,1\\n4440,1\\n4441,1\\n4442,1\\n4443,1\\n4444,0\\n4445,1\\n4446,0\\n4447,0\\n4448,0\\n4449,0\\n4450,1\\n4451,0\\n4452,0\\n4453,1\\n4454,1\\n4455,1\\n4456,1\\n4457,0\\n4458,0\\n4459,0\\n4460,0\\n4461,1\\n4462,1\\n4463,0\\n4464,1\\n4465,1\\n4466,1\\n4467,1\\n4468,1\\n4469,0\\n4470,0\\n4471,0\\n4472,1\\n4473,1\\n4474,1\\n4475,0\\n4476,0\\n4477,0\\n4478,1\\n4479,1\\n4480,1\\n4481,1\\n4482,0\\n4483,1\\n4484,0\\n4485,0\\n4486,1\\n4487,0\\n4488,1\\n4489,0\\n4490,1\\n4491,1\\n4492,1\\n4493,0\\n4494,1\\n4495,1\\n4496,1\\n4497,1\\n4498,1\\n4499,1\\n4500,0\\n4501,0\\n4502,0\\n4503,0\\n4504,0\\n4505,0\\n4506,0\\n4507,1\\n4508,1\\n4509,0\\n4510,0\\n4511,1\\n4512,0\\n4513,1\\n4514,0\\n4515,1\\n4516,0\\n4517,1\\n4518,0\\n4519,1\\n4520,0\\n4521,0\\n4522,0\\n4523,0\\n4524,1\\n4525,1\\n4526,1\\n4527,1\\n4528,0\\n4529,0\\n4530,1\\n4531,0\\n4532,1\\n4533,0\\n4534,0\\n4535,0\\n4536,0\\n4537,1\\n4538,1\\n4539,0\\n4540,1\\n4541,0\\n4542,1\\n4543,1\\n4544,1\\n4545,0\\n4546,0\\n4547,1\\n4548,1\\n4549,0\\n4550,1\\n4551,0\\n4552,0\\n4553,1\\n4554,0\\n4555,0\\n4556,0\\n4557,1\\n4558,0\\n4559,1\\n4560,1\\n4561,0\\n4562,0\\n4563,0\\n4564,1\\n4565,1\\n4566,0\\n4567,1\\n4568,0\\n4569,1\\n4570,1\\n4571,0\\n4572,1\\n4573,1\\n4574,0\\n4575,1\\n4576,1\\n4577,0\\n4578,0\\n4579,1\\n4580,1\\n4581,0\\n4582,0\\n4583,1\\n4584,1\\n4585,1\\n4586,0\\n4587,0\\n4588,1\\n4589,0\\n4590,0\\n4591,0\\n4592,1\\n4593,1\\n4594,1\\n4595,1\\n4596,0\\n4597,1\\n4598,0\\n4599,1\\n4600,1\\n4601,0\\n4602,1\\n4603,1\\n4604,0\\n4605,1\\n4606,1\\n4607,1\\n4608,1\\n4609,0\\n4610,1\\n4611,0\\n4612,0\\n4613,1\\n4614,0\\n4615,1\\n4616,0\\n4617,0\\n4618,1\\n4619,1\\n4620,0\\n4621,0\\n4622,0\\n4623,1\\n4624,0\\n4625,0\\n4626,0\\n4627,1\\n4628,0\\n4629,0\\n4630,0\\n4631,1\\n4632,1\\n4633,0\\n4634,0\\n4635,0\\n4636,1\\n4637,0\\n4638,1\\n4639,1\\n4640,0\\n4641,1\\n4642,0\\n4643,0\\n4644,0\\n4645,1\\n4646,1\\n4647,0\\n4648,0\\n4649,1\\n4650,0\\n4651,0\\n4652,1\\n4653,0\\n4654,0\\n4655,0\\n4656,0\\n4657,1\\n4658,0\\n4659,1\\n4660,1\\n4661,0\\n4662,0\\n4663,0\\n4664,0\\n4665,1\\n4666,1\\n4667,1\\n4668,1\\n4669,1\\n4670,1\\n4671,0\\n4672,1\\n4673,0\\n4674,0\\n4675,0\\n4676,1\\n4677,0\\n4678,1\\n4679,1\\n4680,0\\n4681,0\\n4682,0\\n4683,1\\n4684,1\\n4685,0\\n4686,1\\n4687,1\\n4688,1\\n4689,1\\n4690,1\\n4691,0\\n4692,0\\n4693,1\\n4694,1\\n4695,0\\n4696,0\\n4697,1\\n4698,0\\n4699,0\\n4700,1\\n4701,0\\n4702,0\\n4703,1\\n4704,0\\n4705,0\\n4706,1\\n4707,0\\n4708,1\\n4709,0\\n4710,0\\n4711,0\\n4712,0\\n4713,1\\n4714,0\\n4715,0\\n4716,1\\n4717,1\\n4718,0\\n4719,0\\n4720,0\\n4721,1\\n4722,0\\n4723,1\\n4724,0\\n4725,0\\n4726,1\\n4727,0\\n4728,1\\n4729,1\\n4730,1\\n4731,0\\n4732,1\\n4733,0\\n4734,0\\n4735,0\\n4736,1\\n4737,1\\n4738,1\\n4739,0\\n4740,0\\n4741,1\\n4742,0\\n4743,1\\n4744,1\\n4745,1\\n4746,0\\n4747,1\\n4748,1\\n4749,1\\n4750,0\\n4751,1\\n4752,1\\n4753,1\\n4754,0\\n4755,0\\n4756,0\\n4757,0\\n4758,1\\n4759,1\\n4760,1\\n4761,0\\n4762,0\\n4763,1\\n4764,1\\n4765,0\\n4766,0\\n4767,1\\n4768,0\\n4769,1\\n4770,1\\n4771,0\\n4772,0\\n4773,1\\n4774,0\\n4775,1\\n4776,1\\n4777,0\\n4778,0\\n4779,1\\n4780,1\\n4781,1\\n4782,1\\n4783,0\\n4784,1\\n4785,1\\n4786,0\\n4787,1\\n4788,0\\n4789,1\\n4790,1\\n4791,0\\n4792,0\\n4793,1\\n4794,1\\n4795,0\\n4796,1\\n4797,1\\n4798,1\\n4799,0\\n4800,1\\n4801,0\\n4802,1\\n4803,1\\n4804,0\\n4805,1\\n4806,1\\n4807,1\\n4808,0\\n4809,1\\n4810,0\\n4811,1\\n4812,0\\n4813,1\\n4814,1\\n4815,0\\n4816,0\\n4817,0\\n4818,1\\n4819,0\\n4820,0\\n4821,1\\n4822,0\\n4823,1\\n4824,0\\n4825,0\\n4826,1\\n4827,1\\n4828,1\\n4829,0\\n4830,1\\n4831,1\\n4832,0\\n4833,0\\n4834,1\\n4835,0\\n4836,1\\n4837,1\\n4838,1\\n4839,1\\n4840,1\\n4841,1\\n4842,0\\n4843,1\\n4844,1\\n4845,1\\n4846,1\\n4847,0\\n4848,0\\n4849,1\\n4850,1\\n4851,1\\n4852,1\\n4853,0\\n4854,1\\n4855,0\\n4856,0\\n4857,0\\n4858,0\\n4859,1\\n4860,1\\n4861,0\\n4862,0\\n4863,0\\n4864,1\\n4865,1\\n4866,1\\n4867,0\\n4868,0\\n4869,0\\n4870,1\\n4871,1\\n4872,1\\n4873,1\\n4874,1\\n4875,1\\n4876,1\\n4877,1\\n4878,0\\n4879,1\\n4880,0\\n4881,1\\n4882,0\\n4883,0\\n4884,1\\n4885,1\\n4886,0\\n4887,1\\n4888,0\\n4889,0\\n4890,1\\n4891,0\\n4892,1\\n4893,1\\n4894,1\\n4895,0\\n4896,1\\n4897,0\\n4898,1\\n4899,1\\n4900,1\\n4901,1\\n4902,0\\n4903,0\\n4904,0\\n4905,0\\n4906,0\\n4907,1\\n4908,1\\n4909,1\\n4910,1\\n4911,1\\n4912,1\\n4913,1\\n4914,1\\n4915,1\\n4916,0\\n4917,1\\n4918,0\\n4919,1\\n4920,0\\n4921,1\\n4922,0\\n4923,1\\n4924,0\\n4925,1\\n4926,1\\n4927,1\\n4928,1\\n4929,0\\n4930,1\\n4931,1\\n4932,1\\n4933,1\\n4934,1\\n4935,1\\n4936,0\\n4937,1\\n4938,1\\n4939,1\\n4940,1\\n4941,0\\n4942,1\\n4943,0\\n4944,0\\n4945,0\\n4946,1\\n4947,0\\n4948,1\\n4949,1\\n4950,0\\n4951,1\\n4952,0\\n4953,1\\n4954,0\\n4955,1\\n4956,0\\n4957,1\\n4958,1\\n4959,1\\n4960,0\\n4961,1\\n4962,0\\n4963,1\\n4964,0\\n4965,1\\n4966,0\\n4967,1\\n4968,0\\n4969,0\\n4970,0\\n4971,0\\n4972,1\\n4973,0\\n4974,1\\n4975,1\\n4976,0\\n4977,0\\n4978,1\\n4979,0\\n4980,1\\n4981,1\\n4982,0\\n4983,1\\n4984,1\\n4985,1\\n4986,1\\n4987,1\\n4988,1\\n4989,0\\n4990,0\\n4991,0\\n4992,1\\n4993,0\\n4994,0\\n4995,1\\n4996,0\\n4997,1\\n4998,1\\n4999,0\\n5000,0\\n5001,1\\n5002,0\\n5003,0\\n5004,1\\n5005,0\\n5006,1\\n5007,1\\n5008,0\\n5009,1\\n5010,0\\n5011,1\\n5012,1\\n5013,1\\n5014,1\\n5015,1\\n5016,0\\n5017,1\\n5018,0\\n5019,0\\n5020,1\\n5021,1\\n5022,0\\n5023,1\\n5024,1\\n5025,0\\n5026,0\\n5027,0\\n5028,0\\n5029,1\\n5030,1\\n5031,0\\n5032,0\\n5033,1\\n5034,0\\n5035,1\\n5036,1\\n5037,0\\n5038,1\\n5039,0\\n5040,1\\n5041,1\\n5042,0\\n5043,1\\n5044,0\\n5045,1\\n5046,1\\n5047,1\\n5048,1\\n5049,1\\n5050,1\\n5051,0\\n5052,0\\n5053,0\\n5054,0\\n5055,1\\n5056,1\\n5057,1\\n5058,0\\n5059,1\\n5060,0\\n5061,0\\n5062,1\\n5063,1\\n5064,1\\n5065,0\\n5066,0\\n5067,0\\n5068,1\\n5069,0\\n5070,0\\n5071,0\\n5072,0\\n5073,1\\n5074,0\\n5075,1\\n5076,0\\n5077,0\\n5078,0\\n5079,1\\n5080,1\\n5081,1\\n5082,0\\n5083,0\\n5084,0\\n5085,1\\n5086,0\\n5087,1\\n5088,0\\n5089,1\\n5090,0\\n5091,1\\n5092,0\\n5093,1\\n5094,1\\n5095,0\\n5096,1\\n5097,1\\n5098,0\\n5099,1\\n5100,0\\n5101,1\\n5102,1\\n5103,1\\n5104,1\\n5105,0\\n5106,0\\n5107,1\\n5108,0\\n5109,1\\n5110,0\\n5111,0\\n5112,1\\n5113,0\\n5114,0\\n5115,1\\n5116,0\\n5117,0\\n5118,1\\n5119,0\\n5120,0\\n5121,0\\n5122,0\\n5123,0\\n5124,0\\n5125,1\\n5126,1\\n5127,1\\n5128,1\\n5129,0\\n5130,1\\n5131,1\\n5132,0\\n5133,1\\n5134,0\\n5135,0\\n5136,1\\n5137,1\\n5138,1\\n5139,1\\n5140,0\\n5141,1\\n5142,0\\n5143,0\\n5144,1\\n5145,1\\n5146,1\\n5147,1\\n5148,1\\n5149,1\\n5150,0\\n5151,1\\n5152,0\\n5153,1\\n5154,1\\n5155,0\\n5156,0\\n5157,0\\n5158,1\\n5159,1\\n5160,1\\n5161,1\\n5162,1\\n5163,0\\n5164,0\\n5165,0\\n5166,1\\n5167,0\\n5168,0\\n5169,0\\n5170,0\\n5171,1\\n5172,1\\n5173,0\\n5174,1\\n5175,1\\n5176,0\\n5177,0\\n5178,0\\n5179,1\\n5180,1\\n5181,0\\n5182,1\\n5183,0\\n5184,1\\n5185,0\\n5186,1\\n5187,0\\n5188,1\\n5189,1\\n5190,1\\n5191,1\\n5192,1\\n5193,0\\n5194,0\\n5195,1\\n5196,0\\n5197,1\\n5198,0\\n5199,1\\n5200,0\\n5201,0\\n5202,0\\n5203,0\\n5204,0\\n5205,0\\n5206,0\\n5207,0\\n5208,0\\n5209,1\\n5210,1\\n5211,1\\n5212,0\\n5213,1\\n5214,0\\n5215,0\\n5216,1\\n5217,1\\n5218,1\\n5219,0\\n5220,0\\n5221,1\\n5222,1\\n5223,1\\n5224,1\\n5225,1\\n5226,0\\n5227,1\\n5228,0\\n5229,0\\n5230,0\\n5231,0\\n5232,1\\n5233,1\\n5234,1\\n5235,1\\n5236,1\\n5237,0\\n5238,0\\n5239,0\\n5240,0\\n5241,1\\n5242,0\\n5243,0\\n5244,1\\n5245,1\\n5246,0\\n5247,0\\n5248,0\\n5249,0\\n5250,1\\n5251,0\\n5252,1\\n5253,1\\n5254,0\\n5255,1\\n5256,1\\n5257,1\\n5258,0\\n5259,1\\n5260,1\\n5261,0\\n5262,1\\n5263,1\\n5264,0\\n5265,0\\n5266,0\\n5267,0\\n5268,0\\n5269,0\\n5270,1\\n5271,0\\n5272,0\\n5273,0\\n5274,0\\n5275,1\\n5276,0\\n5277,0\\n5278,1\\n5279,0\\n5280,1\\n5281,0\\n5282,1\\n5283,1\\n5284,1\\n5285,0\\n5286,1\\n5287,0\\n5288,0\\n5289,1\\n5290,1\\n5291,0\\n5292,0\\n5293,0\\n5294,0\\n5295,1\\n5296,0\\n5297,1\\n5298,0\\n5299,1\\n5300,1\\n5301,0\\n5302,1\\n5303,0\\n5304,1\\n5305,0\\n5306,0\\n5307,0\\n5308,1\\n5309,0\\n5310,0\\n5311,1\\n5312,0\\n5313,1\\n5314,0\\n5315,0\\n5316,0\\n5317,0\\n5318,1\\n5319,1\\n5320,0\\n5321,0\\n5322,0\\n5323,0\\n5324,1\\n5325,0\\n5326,0\\n5327,1\\n5328,0\\n5329,0\\n5330,0\\n5331,1\\n5332,1\\n5333,0\\n5334,1\\n5335,0\\n5336,1\\n5337,0\\n5338,1\\n5339,0\\n5340,1\\n5341,0\\n5342,1\\n5343,1\\n5344,0\\n5345,1\\n5346,1\\n5347,1\\n5348,1\\n5349,1\\n5350,0\\n5351,0\\n5352,1\\n5353,1\\n5354,0\\n5355,1\\n5356,1\\n5357,1\\n5358,0\\n5359,1\\n5360,1\\n5361,1\\n5362,0\\n5363,1\\n5364,1\\n5365,1\\n5366,0\\n5367,1\\n5368,1\\n5369,0\\n5370,0\\n5371,0\\n5372,1\\n5373,0\\n5374,1\\n5375,0\\n5376,0\\n5377,0\\n5378,0\\n5379,1\\n5380,0\\n5381,0\\n5382,0\\n5383,0\\n5384,1\\n5385,1\\n5386,1\\n5387,1\\n5388,0\\n5389,0\\n5390,1\\n5391,1\\n5392,1\\n5393,1\\n5394,1\\n5395,0\\n5396,1\\n5397,1\\n5398,0\\n5399,0\\n5400,1\\n5401,1\\n5402,0\\n5403,1\\n5404,0\\n5405,1\\n5406,1\\n5407,0\\n5408,1\\n5409,0\\n5410,0\\n5411,1\\n5412,0\\n5413,0\\n5414,1\\n5415,1\\n5416,1\\n5417,0\\n5418,0\\n5419,0\\n5420,1\\n5421,1\\n5422,0\\n5423,1\\n5424,0\\n5425,0\\n5426,1\\n5427,0\\n5428,0\\n5429,1\\n5430,0\\n5431,0\\n5432,1\\n5433,0\\n5434,1\\n5435,1\\n5436,1\\n5437,0\\n5438,1\\n5439,1\\n5440,0\\n5441,0\\n5442,1\\n5443,0\\n5444,0\\n5445,0\\n5446,1\\n5447,1\\n5448,1\\n5449,1\\n5450,0\\n5451,0\\n5452,1\\n5453,1\\n5454,0\\n5455,1\\n5456,1\\n5457,0\\n5458,0\\n5459,0\\n5460,1\\n5461,0\\n5462,0\\n5463,1\\n5464,1\\n5465,1\\n5466,1\\n5467,1\\n5468,0\\n5469,1\\n5470,0\\n5471,1\\n5472,0\\n5473,0\\n5474,0\\n5475,0\\n5476,0\\n5477,1\\n5478,1\\n5479,1\\n5480,0\\n5481,1\\n5482,0\\n5483,0\\n5484,1\\n5485,0\\n5486,1\\n5487,1\\n5488,1\\n5489,0\\n5490,0\\n5491,1\\n5492,1\\n5493,0\\n5494,0\\n5495,1\\n5496,0\\n5497,1\\n5498,0\\n5499,0\\n5500,0\\n5501,1\\n5502,1\\n5503,1\\n5504,0\\n5505,0\\n5506,0\\n5507,1\\n5508,0\\n5509,0\\n5510,0\\n5511,0\\n5512,0\\n5513,1\\n5514,0\\n5515,0\\n5516,1\\n5517,0\\n5518,1\\n5519,1\\n5520,1\\n5521,0\\n5522,0\\n5523,1\\n5524,0\\n5525,0\\n5526,1\\n5527,0\\n5528,1\\n5529,1\\n5530,0\\n5531,1\\n5532,1\\n5533,0\\n5534,1\\n5535,1\\n5536,1\\n5537,0\\n5538,0\\n5539,0\\n5540,0\\n5541,1\\n5542,1\\n5543,1\\n5544,0\\n5545,0\\n5546,1\\n5547,0\\n5548,0\\n5549,1\\n5550,1\\n5551,0\\n5552,1\\n5553,1\\n5554,1\\n5555,0\\n5556,1\\n5557,0\\n5558,0\\n5559,0\\n5560,0\\n5561,0\\n5562,0\\n5563,0\\n5564,0\\n5565,0\\n5566,0\\n5567,0\\n5568,0\\n5569,1\\n5570,0\\n5571,0\\n5572,1\\n5573,1\\n5574,0\\n5575,1\\n5576,0\\n5577,1\\n5578,0\\n5579,1\\n5580,0\\n5581,1\\n5582,1\\n5583,0\\n5584,0\\n5585,0\\n5586,1\\n5587,1\\n5588,0\\n5589,0\\n5590,0\\n5591,1\\n5592,0\\n5593,1\\n5594,1\\n5595,0\\n5596,1\\n5597,1\\n5598,0\\n5599,0\\n5600,0\\n5601,0\\n5602,1\\n5603,0\\n5604,1\\n5605,0\\n5606,1\\n5607,0\\n5608,1\\n5609,0\\n5610,1\\n5611,0\\n5612,1\\n5613,0\\n5614,0\\n5615,1\\n5616,1\\n5617,0\\n5618,0\\n5619,0\\n5620,1\\n5621,1\\n5622,1\\n5623,0\\n5624,1\\n5625,0\\n5626,1\\n5627,0\\n5628,1\\n5629,0\\n5630,1\\n5631,1\\n5632,0\\n5633,0\\n5634,1\\n5635,1\\n5636,1\\n5637,0\\n5638,0\\n5639,1\\n5640,0\\n5641,0\\n5642,1\\n5643,0\\n5644,1\\n5645,0\\n5646,1\\n5647,0\\n5648,1\\n5649,0\\n5650,0\\n5651,1\\n5652,0\\n5653,1\\n5654,1\\n5655,1\\n5656,0\\n5657,1\\n5658,1\\n5659,1\\n5660,0\\n5661,1\\n5662,1\\n5663,0\\n5664,1\\n5665,1\\n5666,0\\n5667,1\\n5668,1\\n5669,0\\n5670,1\\n5671,1\\n5672,1\\n5673,1\\n5674,1\\n5675,1\\n5676,1\\n5677,0\\n5678,0\\n5679,0\\n5680,0\\n5681,0\\n5682,0\\n5683,1\\n5684,0\\n5685,0\\n5686,1\\n5687,1\\n5688,1\\n5689,1\\n5690,1\\n5691,0\\n5692,1\\n5693,1\\n5694,0\\n5695,1\\n5696,1\\n5697,1\\n5698,0\\n5699,0\\n5700,1\\n5701,1\\n5702,0\\n5703,1\\n5704,1\\n5705,0\\n5706,1\\n5707,0\\n5708,1\\n5709,0\\n5710,1\\n5711,0\\n5712,1\\n5713,1\\n5714,1\\n5715,0\\n5716,0\\n5717,1\\n5718,1\\n5719,0\\n5720,0\\n5721,0\\n5722,0\\n5723,1\\n5724,1\\n5725,0\\n5726,1\\n5727,0\\n5728,1\\n5729,1\\n5730,0\\n5731,1\\n5732,1\\n5733,0\\n5734,0\\n5735,1\\n5736,1\\n5737,0\\n5738,0\\n5739,1\\n5740,1\\n5741,0\\n5742,1\\n5743,0\\n5744,0\\n5745,1\\n5746,0\\n5747,1\\n5748,0\\n5749,0\\n5750,0\\n5751,0\\n5752,1\\n5753,0\\n5754,1\\n5755,1\\n5756,1\\n5757,0\\n5758,0\\n5759,0\\n5760,1\\n5761,0\\n5762,1\\n5763,1\\n5764,1\\n5765,0\\n5766,1\\n5767,0\\n5768,0\\n5769,0\\n5770,1\\n5771,0\\n5772,0\\n5773,1\\n5774,1\\n5775,1\\n5776,1\\n5777,0\\n5778,0\\n5779,0\\n5780,1\\n5781,0\\n5782,0\\n5783,0\\n5784,1\\n5785,0\\n5786,0\\n5787,0\\n5788,1\\n5789,1\\n5790,0\\n5791,1\\n5792,1\\n5793,0\\n5794,0\\n5795,1\\n5796,1\\n5797,1\\n5798,0\\n5799,0\\n5800,0\\n5801,1\\n5802,1\\n5803,1\\n5804,0\\n5805,0\\n5806,1\\n5807,0\\n5808,0\\n5809,1\\n5810,1\\n5811,0\\n5812,0\\n5813,1\\n5814,0\\n5815,1\\n5816,0\\n5817,0\\n5818,1\\n5819,0\\n5820,1\\n5821,1\\n5822,0\\n5823,0\\n5824,1\\n5825,1\\n5826,1\\n5827,0\\n5828,0\\n5829,1\\n5830,0\\n5831,0\\n5832,0\\n5833,1\\n5834,1\\n5835,1\\n5836,1\\n5837,1\\n5838,1\\n5839,0\\n5840,1\\n5841,0\\n5842,1\\n5843,1\\n5844,1\\n5845,1\\n5846,0\\n5847,0\\n5848,1\\n5849,1\\n5850,1\\n5851,1\\n5852,1\\n5853,1\\n5854,0\\n5855,0\\n5856,1\\n5857,1\\n5858,0\\n5859,1\\n5860,0\\n5861,1\\n5862,1\\n5863,0\\n5864,1\\n5865,0\\n5866,0\\n5867,0\\n5868,0\\n5869,0\\n5870,1\\n5871,1\\n5872,0\\n5873,0\\n5874,1\\n5875,1\\n5876,1\\n5877,0\\n5878,1\\n5879,1\\n5880,0\\n5881,1\\n5882,1\\n5883,0\\n5884,0\\n5885,1\\n5886,1\\n5887,1\\n5888,0\\n5889,0\\n5890,0\\n5891,1\\n5892,1\\n5893,1\\n5894,0\\n5895,0\\n5896,0\\n5897,0\\n5898,1\\n5899,1\\n5900,1\\n5901,0\\n5902,1\\n5903,0\\n5904,1\\n5905,0\\n5906,0\\n5907,1\\n5908,1\\n5909,1\\n5910,1\\n5911,1\\n5912,0\\n5913,0\\n5914,0\\n5915,1\\n5916,0\\n5917,1\\n5918,1\\n5919,1\\n5920,1\\n5921,0\\n5922,1\\n5923,1\\n5924,1\\n5925,0\\n5926,1\\n5927,0\\n5928,1\\n5929,0\\n5930,1\\n5931,0\\n5932,0\\n5933,0\\n5934,0\\n5935,1\\n5936,1\\n5937,0\\n5938,1\\n5939,0\\n5940,0\\n5941,1\\n5942,1\\n5943,1\\n5944,1\\n5945,1\\n5946,0\\n5947,0\\n5948,0\\n5949,1\\n5950,0\\n5951,1\\n5952,1\\n5953,0\\n5954,0\\n5955,0\\n5956,0\\n5957,1\\n5958,0\\n5959,0\\n5960,0\\n5961,0\\n5962,1\\n5963,1\\n5964,0\\n5965,1\\n5966,1\\n5967,0\\n5968,1\\n5969,1\\n5970,1\\n5971,0\\n5972,1\\n5973,1\\n5974,0\\n5975,1\\n5976,1\\n5977,1\\n5978,1\\n5979,0\\n5980,1\\n5981,1\\n5982,1\\n5983,0\\n5984,1\\n5985,0\\n5986,0\\n5987,0\\n5988,1\\n5989,1\\n5990,0\\n5991,0\\n5992,1\\n5993,1\\n5994,1\\n5995,0\\n5996,0\\n5997,1\\n5998,0\\n5999,0\\n6000,1\\n6001,1\\n6002,0\\n6003,0\\n6004,1\\n6005,0\\n6006,0\\n6007,1\\n6008,1\\n6009,1\\n6010,1\\n6011,1\\n6012,0\\n6013,1\\n6014,0\\n6015,0\\n6016,0\\n6017,1\\n6018,0\\n6019,0\\n6020,0\\n6021,1\\n6022,0\\n6023,1\\n6024,0\\n6025,0\\n6026,0\\n6027,0\\n6028,1\\n6029,1\\n6030,0\\n6031,1\\n6032,0\\n6033,0\\n6034,1\\n6035,1\\n6036,0\\n6037,1\\n6038,1\\n6039,0\\n6040,1\\n6041,0\\n6042,1\\n6043,1\\n6044,0\\n6045,0\\n6046,0\\n6047,1\\n6048,0\\n6049,0\\n6050,0\\n6051,0\\n6052,0\\n6053,0\\n6054,1\\n6055,1\\n6056,0\\n6057,1\\n6058,1\\n6059,1\\n6060,0\\n6061,0\\n6062,0\\n6063,1\\n6064,1\\n6065,0\\n6066,0\\n6067,1\\n6068,0\\n6069,1\\n6070,1\\n6071,0\\n6072,0\\n6073,0\\n6074,1\\n6075,1\\n6076,0\\n6077,0\\n6078,0\\n6079,1\\n6080,0\\n6081,1\\n6082,1\\n6083,1\\n6084,1\\n6085,0\\n6086,0\\n6087,1\\n6088,0\\n6089,1\\n6090,0\\n6091,1\\n6092,1\\n6093,0\\n6094,0\\n6095,1\\n6096,0\\n6097,0\\n6098,0\\n6099,0\\n6100,1\\n6101,0\\n6102,0\\n6103,0\\n6104,1\\n6105,1\\n6106,0\\n6107,0\\n6108,0\\n6109,0\\n6110,0\\n6111,1\\n6112,0\\n6113,0\\n6114,1\\n6115,0\\n6116,0\\n6117,1\\n6118,1\\n6119,1\\n6120,0\\n6121,1\\n6122,1\\n6123,1\\n6124,0\\n6125,0\\n6126,1\\n6127,0\\n6128,1\\n6129,0\\n6130,0\\n6131,1\\n6132,1\\n6133,1\\n6134,1\\n6135,1\\n6136,1\\n6137,1\\n6138,0\\n6139,0\\n6140,1\\n6141,1\\n6142,0\\n6143,0\\n6144,1\\n6145,0\\n6146,1\\n6147,1\\n6148,0\\n6149,0\\n6150,1\\n6151,1\\n6152,0\\n6153,0\\n6154,0\\n6155,0\\n6156,0\\n6157,1\\n6158,1\\n6159,0\\n6160,0\\n6161,1\\n6162,1\\n6163,1\\n6164,1\\n6165,1\\n6166,1\\n6167,1\\n6168,1\\n6169,0\\n6170,1\\n6171,1\\n6172,1\\n6173,1\\n6174,1\\n6175,0\\n6176,1\\n6177,0\\n6178,1\\n6179,0\\n6180,1\\n6181,0\\n6182,0\\n6183,0\\n6184,0\\n6185,1\\n6186,0\\n6187,0\\n6188,0\\n6189,1\\n6190,1\\n6191,0\\n6192,0\\n6193,0\\n6194,1\\n6195,0\\n6196,0\\n6197,1\\n6198,0\\n6199,1\\n6200,1\\n6201,1\\n6202,0\\n6203,1\\n6204,1\\n6205,0\\n6206,1\\n6207,1\\n6208,1\\n6209,0\\n6210,1\\n6211,1\\n6212,1\\n6213,0\\n6214,1\\n6215,1\\n6216,0\\n6217,0\\n6218,1\\n6219,1\\n6220,0\\n6221,0\\n6222,1\\n6223,1\\n6224,0\\n6225,1\\n6226,1\\n6227,0\\n6228,0\\n6229,1\\n6230,1\\n6231,1\\n6232,0\\n6233,0\\n6234,1\\n6235,0\\n6236,1\\n6237,0\\n6238,1\\n6239,0\\n6240,0\\n6241,1\\n6242,1\\n6243,0\\n6244,0\\n6245,0\\n6246,0\\n6247,0\\n6248,1\\n6249,1\\n6250,0\\n6251,0\\n6252,0\\n6253,0\\n6254,1\\n6255,0\\n6256,0\\n6257,1\\n6258,1\\n6259,0\\n6260,1\\n6261,0\\n6262,0\\n6263,1\\n6264,1\\n6265,1\\n6266,0\\n6267,1\\n6268,0\\n6269,1\\n6270,1\\n6271,0\\n6272,0\\n6273,1\\n6274,0\\n6275,0\\n6276,1\\n6277,0\\n6278,1\\n6279,1\\n6280,1\\n6281,1\\n6282,1\\n6283,0\\n6284,1\\n6285,0\\n6286,1\\n6287,0\\n6288,1\\n6289,0\\n6290,1\\n6291,1\\n6292,1\\n6293,0\\n6294,1\\n6295,0\\n6296,0\\n6297,0\\n6298,0\\n6299,0\\n6300,0\\n6301,1\\n6302,1\\n6303,1\\n6304,0\\n6305,0\\n6306,0\\n6307,0\\n6308,1\\n6309,1\\n6310,0\\n6311,1\\n6312,0\\n6313,1\\n6314,0\\n6315,1\\n6316,1\\n6317,1\\n6318,1\\n6319,0\\n6320,0\\n6321,1\\n6322,0\\n6323,1\\n6324,1\\n6325,0\\n6326,0\\n6327,0\\n6328,0\\n6329,0\\n6330,1\\n6331,0\\n6332,1\\n6333,0\\n6334,0\\n6335,1\\n6336,0\\n6337,1\\n6338,1\\n6339,0\\n6340,0\\n6341,1\\n6342,0\\n6343,1\\n6344,0\\n6345,1\\n6346,0\\n6347,1\\n6348,0\\n6349,1\\n6350,1\\n6351,0\\n6352,1\\n6353,0\\n6354,1\\n6355,1\\n6356,1\\n6357,0\\n6358,0\\n6359,0\\n6360,0\\n6361,0\\n6362,1\\n6363,1\\n6364,1\\n6365,1\\n6366,0\\n6367,1\\n6368,0\\n6369,0\\n6370,1\\n6371,0\\n6372,0\\n6373,0\\n6374,1\\n6375,0\\n6376,0\\n6377,1\\n6378,0\\n6379,1\\n6380,1\\n6381,1\\n6382,1\\n6383,0\\n6384,1\\n6385,1\\n6386,1\\n6387,0\\n6388,1\\n6389,1\\n6390,1\\n6391,1\\n6392,0\\n6393,0\\n6394,1\\n6395,0\\n6396,1\\n6397,1\\n6398,0\\n6399,1\\n6400,0\\n6401,1\\n6402,1\\n6403,1\\n6404,0\\n6405,0\\n6406,1\\n6407,1\\n6408,0\\n6409,0\\n6410,1\\n6411,1\\n6412,1\\n6413,0\\n6414,0\\n6415,1\\n6416,1\\n6417,1\\n6418,1\\n6419,0\\n6420,1\\n6421,1\\n6422,1\\n6423,0\\n6424,1\\n6425,0\\n6426,1\\n6427,0\\n6428,1\\n6429,1\\n6430,0\\n6431,1\\n6432,0\\n6433,1\\n6434,1\\n6435,1\\n6436,0\\n6437,0\\n6438,0\\n6439,1\\n6440,0\\n6441,0\\n6442,0\\n6443,1\\n6444,1\\n6445,0\\n6446,0\\n6447,1\\n6448,1\\n6449,0\\n6450,1\\n6451,1\\n6452,1\\n6453,0\\n6454,0\\n6455,1\\n6456,1\\n6457,1\\n6458,1\\n6459,1\\n6460,1\\n6461,1\\n6462,0\\n6463,0\\n6464,0\\n6465,1\\n6466,0\\n6467,0\\n6468,0\\n6469,1\\n6470,0\\n6471,1\\n6472,1\\n6473,1\\n6474,1\\n6475,0\\n6476,0\\n6477,0\\n6478,1\\n6479,0\\n6480,1\\n6481,0\\n6482,0\\n6483,1\\n6484,1\\n6485,0\\n6486,0\\n6487,0\\n6488,1\\n6489,1\\n6490,0\\n6491,0\\n6492,1\\n6493,1\\n6494,0\\n6495,0\\n6496,0\\n6497,1\\n6498,0\\n6499,0\\n6500,0\\n6501,1\\n6502,1\\n6503,0\\n6504,1\\n6505,1\\n6506,0\\n6507,0\\n6508,0\\n6509,0\\n6510,1\\n6511,1\\n6512,0\\n6513,1\\n6514,0\\n6515,1\\n6516,0\\n6517,1\\n6518,0\\n6519,1\\n6520,1\\n6521,0\\n6522,1\\n6523,0\\n6524,1\\n6525,1\\n6526,1\\n6527,1\\n6528,0\\n6529,1\\n6530,0\\n6531,0\\n6532,0\\n6533,0\\n6534,1\\n6535,0\\n6536,1\\n6537,1\\n6538,1\\n6539,1\\n6540,0\\n6541,0\\n6542,1\\n6543,1\\n6544,1\\n6545,1\\n6546,0\\n6547,1\\n6548,0\\n6549,1\\n6550,1\\n6551,0\\n6552,1\\n6553,0\\n6554,0\\n6555,0\\n6556,0\\n6557,0\\n6558,1\\n6559,1\\n6560,0\\n6561,0\\n6562,1\\n6563,0\\n6564,1\\n6565,0\\n6566,0\\n6567,0\\n6568,0\\n6569,1\\n6570,1\\n6571,0\\n6572,0\\n6573,0\\n6574,0\\n6575,0\\n6576,1\\n6577,1\\n6578,1\\n6579,0\\n6580,0\\n6581,1\\n6582,1\\n6583,1\\n6584,0\\n6585,1\\n6586,0\\n6587,0\\n6588,0\\n6589,0\\n6590,0\\n6591,0\\n6592,1\\n6593,1\\n6594,1\\n6595,1\\n6596,0\\n6597,1\\n6598,0\\n6599,1\\n6600,0\\n6601,1\\n6602,0\\n6603,1\\n6604,0\\n6605,1\\n6606,0\\n6607,0\\n6608,1\\n6609,1\\n6610,1\\n6611,1\\n6612,0\\n6613,0\\n6614,1\\n6615,0\\n6616,1\\n6617,1\\n6618,1\\n6619,1\\n6620,0\\n6621,0\\n6622,0\\n6623,0\\n6624,1\\n6625,1\\n6626,0\\n6627,0\\n6628,1\\n6629,1\\n6630,0\\n6631,1\\n6632,1\\n6633,0\\n6634,1\\n6635,0\\n6636,0\\n6637,0\\n6638,1\\n6639,1\\n6640,0\\n6641,1\\n6642,0\\n6643,1\\n6644,1\\n6645,0\\n6646,1\\n6647,1\\n6648,1\\n6649,0\\n6650,0\\n6651,0\\n6652,0\\n6653,1\\n6654,1\\n6655,1\\n6656,0\\n6657,0\\n6658,0\\n6659,1\\n6660,1\\n6661,1\\n6662,1\\n6663,1\\n6664,1\\n6665,1\\n6666,1\\n6667,1\\n6668,0\\n6669,0\\n6670,0\\n6671,0\\n6672,0\\n6673,0\\n6674,1\\n6675,1\\n6676,1\\n6677,1\\n6678,0\\n6679,0\\n6680,1\\n6681,0\\n6682,1\\n6683,1\\n6684,1\\n6685,1\\n6686,0\\n6687,0\\n6688,1\\n6689,0\\n6690,1\\n6691,0\\n6692,0\\n6693,1\\n6694,0\\n6695,0\\n6696,1\\n6697,1\\n6698,1\\n6699,0\\n6700,0\\n6701,1\\n6702,1\\n6703,0\\n6704,0\\n6705,1\\n6706,0\\n6707,1\\n6708,1\\n6709,0\\n6710,1\\n6711,1\\n6712,1\\n6713,1\\n6714,1\\n6715,1\\n6716,1\\n6717,1\\n6718,0\\n6719,1\\n6720,1\\n6721,1\\n6722,1\\n6723,1\\n6724,0\\n6725,0\\n6726,1\\n6727,1\\n6728,1\\n6729,1\\n6730,1\\n6731,0\\n6732,1\\n6733,0\\n6734,0\\n6735,1\\n6736,1\\n6737,1\\n6738,0\\n6739,0\\n6740,0\\n6741,1\\n6742,0\\n6743,1\\n6744,1\\n6745,1\\n6746,0\\n6747,1\\n6748,1\\n6749,0\\n6750,0\\n6751,1\\n6752,0\\n6753,0\\n6754,1\\n6755,0\\n6756,0\\n6757,1\\n6758,1\\n6759,0\\n6760,1\\n6761,0\\n6762,1\\n6763,1\\n6764,0\\n6765,1\\n6766,1\\n6767,1\\n6768,1\\n6769,1\\n6770,0\\n6771,1\\n6772,1\\n6773,1\\n6774,1\\n6775,1\\n6776,0\\n6777,1\\n6778,0\\n6779,1\\n6780,0\\n6781,0\\n6782,0\\n6783,1\\n6784,1\\n6785,0\\n6786,1\\n6787,1\\n6788,1\\n6789,1\\n6790,0\\n6791,0\\n6792,1\\n6793,1\\n6794,0\\n6795,0\\n6796,1\\n6797,1\\n6798,0\\n6799,0\\n6800,0\\n6801,1\\n6802,1\\n6803,1\\n6804,0\\n6805,1\\n6806,0\\n6807,1\\n6808,1\\n6809,0\\n6810,1\\n6811,1\\n6812,0\\n6813,0\\n6814,1\\n6815,0\\n6816,1\\n6817,1\\n6818,0\\n6819,0\\n6820,1\\n6821,0\\n6822,0\\n6823,0\\n6824,0\\n6825,1\\n6826,1\\n6827,1\\n6828,0\\n6829,1\\n6830,0\\n6831,1\\n6832,1\\n6833,0\\n6834,0\\n6835,1\\n6836,0\\n6837,0\\n6838,1\\n6839,0\\n6840,0\\n6841,0\\n6842,1\\n6843,0\\n6844,1\\n6845,1\\n6846,0\\n6847,1\\n6848,1\\n6849,0\\n6850,0\\n6851,0\\n6852,0\\n6853,0\\n6854,0\\n6855,1\\n6856,1\\n6857,0\\n6858,1\\n6859,1\\n6860,1\\n6861,1\\n6862,1\\n6863,1\\n6864,0\\n6865,1\\n6866,0\\n6867,1\\n6868,0\\n6869,0\\n6870,0\\n6871,0\\n6872,1\\n6873,0\\n6874,0\\n6875,0\\n6876,0\\n6877,1\\n6878,1\\n6879,0\\n6880,1\\n6881,0\\n6882,1\\n6883,0\\n6884,1\\n6885,1\\n6886,1\\n6887,0\\n6888,0\\n6889,1\\n6890,0\\n6891,0\\n6892,1\\n6893,1\\n6894,1\\n6895,0\\n6896,1\\n6897,0\\n6898,0\\n6899,0\\n6900,0\\n6901,1\\n6902,1\\n6903,0\\n6904,0\\n6905,1\\n6906,0\\n6907,1\\n6908,1\\n6909,0\\n6910,0\\n6911,0\\n6912,0\\n6913,1\\n6914,0\\n6915,1\\n6916,1\\n6917,1\\n6918,0\\n6919,0\\n6920,1\\n6921,1\\n6922,1\\n6923,0\\n6924,1\\n6925,1\\n6926,1\\n6927,0\\n6928,0\\n6929,0\\n6930,0\\n6931,1\\n6932,0\\n6933,0\\n6934,1\\n6935,1\\n6936,0\\n6937,1\\n6938,1\\n6939,1\\n6940,0\\n6941,1\\n6942,1\\n6943,0\\n6944,0\\n6945,1\\n6946,0\\n6947,0\\n6948,0\\n6949,1\\n6950,1\\n6951,0\\n6952,1\\n6953,0\\n6954,0\\n6955,1\\n6956,1\\n6957,0\\n6958,0\\n6959,0\\n6960,1\\n6961,1\\n6962,0\\n6963,0\\n6964,0\\n6965,1\\n6966,0\\n6967,1\\n6968,1\\n6969,0\\n6970,1\\n6971,0\\n6972,1\\n6973,1\\n6974,1\\n6975,1\\n6976,1\\n6977,1\\n6978,0\\n6979,0\\n6980,0\\n6981,1\\n6982,0\\n6983,1\\n6984,1\\n6985,0\\n6986,1\\n6987,1\\n6988,1\\n6989,0\\n6990,0\\n6991,0\\n6992,1\\n6993,0\\n6994,0\\n6995,0\\n6996,1\\n6997,0\\n6998,1\\n6999,0\\n7000,0\\n7001,1\\n7002,0\\n7003,0\\n7004,1\\n7005,1\\n7006,1\\n7007,0\\n7008,0\\n7009,0\\n7010,1\\n7011,0\\n7012,1\\n7013,0\\n7014,1\\n7015,0\\n7016,1\\n7017,1\\n7018,1\\n7019,0\\n7020,1\\n7021,1\\n7022,1\\n7023,1\\n7024,1\\n7025,0\\n7026,0\\n7027,1\\n7028,0\\n7029,1\\n7030,1\\n7031,0\\n7032,1\\n7033,0\\n7034,1\\n7035,1\\n7036,0\\n7037,0\\n7038,0\\n7039,1\\n7040,0\\n7041,1\\n7042,0\\n7043,0\\n7044,0\\n7045,1\\n7046,1\\n7047,1\\n7048,0\\n7049,1\\n7050,0\\n7051,0\\n7052,0\\n7053,0\\n7054,1\\n7055,1\\n7056,1\\n7057,0\\n7058,1\\n7059,0\\n7060,0\\n7061,1\\n7062,0\\n7063,1\\n7064,1\\n7065,0\\n7066,0\\n7067,1\\n7068,0\\n7069,1\\n7070,0\\n7071,0\\n7072,0\\n7073,0\\n7074,0\\n7075,1\\n7076,1\\n7077,0\\n7078,0\\n7079,0\\n7080,0\\n7081,0\\n7082,0\\n7083,1\\n7084,0\\n7085,1\\n7086,1\\n7087,0\\n7088,1\\n7089,0\\n7090,0\\n7091,1\\n7092,0\\n7093,0\\n7094,1\\n7095,1\\n7096,0\\n7097,1\\n7098,0\\n7099,1\\n7100,0\\n7101,1\\n7102,0\\n7103,1\\n7104,1\\n7105,0\\n7106,1\\n7107,0\\n7108,0\\n7109,1\\n7110,1\\n7111,0\\n7112,0\\n7113,0\\n7114,0\\n7115,1\\n7116,0\\n7117,0\\n7118,0\\n7119,1\\n7120,0\\n7121,0\\n7122,1\\n7123,0\\n7124,1\\n7125,0\\n7126,1\\n7127,1\\n7128,1\\n7129,1\\n7130,1\\n7131,0\\n7132,0\\n7133,1\\n7134,0\\n7135,0\\n7136,1\\n7137,1\\n7138,1\\n7139,0\\n7140,0\\n7141,1\\n7142,0\\n7143,0\\n7144,1\\n7145,0\\n7146,0\\n7147,1\\n7148,0\\n7149,0\\n7150,1\\n7151,1\\n7152,1\\n7153,0\\n7154,0\\n7155,0\\n7156,0\\n7157,0\\n7158,1\\n7159,0\\n7160,1\\n7161,1\\n7162,1\\n7163,1\\n7164,0\\n7165,0\\n7166,1\\n7167,1\\n7168,1\\n7169,0\\n7170,0\\n7171,0\\n7172,1\\n7173,1\\n7174,0\\n7175,1\\n7176,0\\n7177,1\\n7178,0\\n7179,1\\n7180,0\\n7181,1\\n7182,0\\n7183,1\\n7184,1\\n7185,0\\n7186,1\\n7187,0\\n7188,1\\n7189,0\\n7190,0\\n7191,0\\n7192,0\\n7193,0\\n7194,0\\n7195,1\\n7196,0\\n7197,1\\n7198,1\\n7199,0\\n7200,1\\n7201,1\\n7202,0\\n7203,0\\n7204,0\\n7205,0\\n7206,0\\n7207,1\\n7208,0\\n7209,1\\n7210,0\\n7211,0\\n7212,0\\n7213,0\\n7214,0\\n7215,1\\n7216,0\\n7217,0\\n7218,1\\n7219,1\\n7220,0\\n7221,1\\n7222,0\\n7223,0\\n7224,0\\n7225,1\\n7226,1\\n7227,0\\n7228,1\\n7229,1\\n7230,0\\n7231,1\\n7232,1\\n7233,1\\n7234,1\\n7235,0\\n7236,0\\n7237,1\\n7238,1\\n7239,0\\n7240,1\\n7241,1\\n7242,0\\n7243,0\\n7244,1\\n7245,1\\n7246,1\\n7247,1\\n7248,0\\n7249,1\\n7250,0\\n7251,0\\n7252,1\\n7253,0\\n7254,0\\n7255,1\\n7256,1\\n7257,1\\n7258,0\\n7259,0\\n7260,1\\n7261,1\\n7262,0\\n7263,1\\n7264,0\\n7265,0\\n7266,0\\n7267,0\\n7268,1\\n7269,1\\n7270,1\\n7271,1\\n7272,1\\n7273,0\\n7274,0\\n7275,1\\n7276,0\\n7277,1\\n7278,0\\n7279,1\\n7280,0\\n7281,0\\n7282,1\\n7283,1\\n7284,1\\n7285,1\\n7286,0\\n7287,0\\n7288,1\\n7289,1\\n7290,1\\n7291,1\\n7292,0\\n7293,0\\n7294,1\\n7295,1\\n7296,1\\n7297,0\\n7298,1\\n7299,1\\n7300,1\\n7301,0\\n7302,1\\n7303,0\\n7304,0\\n7305,0\\n7306,0\\n7307,1\\n7308,1\\n7309,1\\n7310,1\\n7311,0\\n7312,0\\n7313,0\\n7314,1\\n7315,0\\n7316,0\\n7317,0\\n7318,1\\n7319,0\\n7320,0\\n7321,1\\n7322,0\\n7323,0\\n7324,1\\n7325,1\\n7326,1\\n7327,1\\n7328,0\\n7329,0\\n7330,0\\n7331,1\\n7332,1\\n7333,1\\n7334,0\\n7335,1\\n7336,0\\n7337,1\\n7338,0\\n7339,1\\n7340,1\\n7341,1\\n7342,1\\n7343,0\\n7344,1\\n7345,1\\n7346,0\\n7347,1\\n7348,1\\n7349,0\\n7350,1\\n7351,0\\n7352,0\\n7353,1\\n7354,1\\n7355,1\\n7356,0\\n7357,0\\n7358,0\\n7359,1\\n7360,1\\n7361,0\\n7362,0\\n7363,1\\n7364,0\\n7365,0\\n7366,1\\n7367,0\\n7368,1\\n7369,0\\n7370,1\\n7371,1\\n7372,1\\n7373,0\\n7374,0\\n7375,0\\n7376,0\\n7377,1\\n7378,0\\n7379,1\\n7380,0\\n7381,1\\n7382,0\\n7383,0\\n7384,1\\n7385,0\\n7386,1\\n7387,1\\n7388,0\\n7389,1\\n7390,1\\n7391,1\\n7392,0\\n7393,0\\n7394,0\\n7395,1\\n7396,1\\n7397,1\\n7398,0\\n7399,0\\n7400,1\\n7401,1\\n7402,0\\n7403,1\\n7404,0\\n7405,1\\n7406,0\\n7407,0\\n7408,0\\n7409,1\\n7410,1\\n7411,1\\n7412,1\\n7413,0\\n7414,0\\n7415,1\\n7416,1\\n7417,0\\n7418,0\\n7419,1\\n7420,1\\n7421,1\\n7422,1\\n7423,1\\n7424,0\\n7425,1\\n7426,0\\n7427,1\\n7428,1\\n7429,0\\n7430,1\\n7431,1\\n7432,0\\n7433,1\\n7434,1\\n7435,0\\n7436,0\\n7437,0\\n7438,1\\n7439,1\\n7440,1\\n7441,0\\n7442,1\\n7443,1\\n7444,0\\n7445,1\\n7446,1\\n7447,1\\n7448,0\\n7449,0\\n7450,0\\n7451,0\\n7452,0\\n7453,0\\n7454,1\\n7455,1\\n7456,1\\n7457,0\\n7458,0\\n7459,1\\n7460,1\\n7461,1\\n7462,1\\n7463,1\\n7464,0\\n7465,1\\n7466,0\\n7467,0\\n7468,0\\n7469,0\\n7470,0\\n7471,1\\n7472,1\\n7473,1\\n7474,0\\n7475,0\\n7476,1\\n7477,1\\n7478,0\\n7479,1\\n7480,0\\n7481,1\\n7482,1\\n7483,1\\n7484,0\\n7485,0\\n7486,1\\n7487,0\\n7488,0\\n7489,0\\n7490,1\\n7491,0\\n7492,0\\n7493,0\\n7494,0\\n7495,1\\n7496,0\\n7497,0\\n7498,1\\n7499,1\\n7500,0\\n7501,1\\n7502,0\\n7503,0\\n7504,1\\n7505,1\\n7506,1\\n7507,1\\n7508,0\\n7509,0\\n7510,0\\n7511,0\\n7512,1\\n7513,1\\n7514,0\\n7515,0\\n7516,0\\n7517,1\\n7518,1\\n7519,1\\n7520,1\\n7521,0\\n7522,1\\n7523,0\\n7524,1\\n7525,1\\n7526,0\\n7527,0\\n7528,0\\n7529,0\\n7530,0\\n7531,0\\n7532,0\\n7533,1\\n7534,0\\n7535,0\\n7536,1\\n7537,0\\n7538,0\\n7539,0\\n7540,1\\n7541,0\\n7542,1\\n7543,1\\n7544,1\\n7545,1\\n7546,0\\n7547,0\\n7548,1\\n7549,1\\n7550,1\\n7551,0\\n7552,1\\n7553,1\\n7554,0\\n7555,0\\n7556,1\\n7557,0\\n7558,0\\n7559,1\\n7560,1\\n7561,1\\n7562,1\\n7563,0\\n7564,0\\n7565,0\\n7566,1\\n7567,0\\n7568,1\\n7569,0\\n7570,0\\n7571,0\\n7572,0\\n7573,1\\n7574,0\\n7575,0\\n7576,1\\n7577,1\\n7578,1\\n7579,1\\n7580,0\\n7581,0\\n7582,0\\n7583,0\\n7584,0\\n7585,1\\n7586,0\\n7587,0\\n7588,1\\n7589,0\\n7590,1\\n7591,1\\n7592,0\\n7593,0\\n7594,0\\n7595,1\\n7596,1\\n7597,0\\n7598,1\\n7599,1\\n7600,1\\n7601,0\\n7602,0\\n7603,1\\n7604,1\\n7605,1\\n7606,0\\n7607,1\\n7608,0\\n7609,1\\n7610,1\\n7611,0\\n7612,0\\n7613,1\\n7614,1\\n7615,0\\n7616,1\\n7617,1\\n7618,0\\n7619,0\\n7620,0\\n7621,1\\n7622,0\\n7623,0\\n7624,0\\n7625,1\\n7626,0\\n7627,1\\n7628,1\\n7629,0\\n7630,1\\n7631,0\\n7632,0\\n7633,1\\n7634,1\\n7635,1\\n7636,0\\n7637,1\\n7638,0\\n7639,0\\n7640,1\\n7641,1\\n7642,1\\n7643,0\\n7644,1\\n7645,0\\n7646,1\\n7647,1\\n7648,0\\n7649,1\\n7650,0\\n7651,1\\n7652,1\\n7653,0\\n7654,0\\n7655,0\\n7656,1\\n7657,1\\n7658,1\\n7659,1\\n7660,0\\n7661,0\\n7662,0\\n7663,0\\n7664,0\\n7665,0\\n7666,1\\n7667,1\\n7668,0\\n7669,1\\n7670,1\\n7671,0\\n7672,0\\n7673,0\\n7674,1\\n7675,0\\n7676,0\\n7677,0\\n7678,0\\n7679,1\\n7680,1\\n7681,0\\n7682,1\\n7683,0\\n7684,1\\n7685,1\\n7686,1\\n7687,1\\n7688,1\\n7689,1\\n7690,0\\n7691,0\\n7692,0\\n7693,0\\n7694,0\\n7695,0\\n7696,1\\n7697,1\\n7698,0\\n7699,0\\n7700,0\\n7701,1\\n7702,0\\n7703,1\\n7704,0\\n7705,0\\n7706,0\\n7707,0\\n7708,1\\n7709,1\\n7710,0\\n7711,1\\n7712,1\\n7713,0\\n7714,0\\n7715,0\\n7716,0\\n7717,0\\n7718,0\\n7719,0\\n7720,0\\n7721,0\\n7722,1\\n7723,1\\n7724,1\\n7725,1\\n7726,0\\n7727,0\\n7728,0\\n7729,1\\n7730,1\\n7731,0\\n7732,0\\n7733,0\\n7734,1\\n7735,0\\n7736,0\\n7737,0\\n7738,0\\n7739,0\\n7740,1\\n7741,1\\n7742,1\\n7743,1\\n7744,0\\n7745,1\\n7746,0\\n7747,0\\n7748,1\\n7749,0\\n7750,1\\n7751,1\\n7752,1\\n7753,1\\n7754,0\\n7755,1\\n7756,1\\n7757,0\\n7758,0\\n7759,1\\n7760,1\\n7761,1\\n7762,0\\n7763,0\\n7764,0\\n7765,1\\n7766,1\\n7767,1\\n7768,1\\n7769,1\\n7770,0\\n7771,1\\n7772,0\\n7773,1\\n7774,1\\n7775,1\\n7776,0\\n7777,0\\n7778,0\\n7779,0\\n7780,0\\n7781,1\\n7782,0\\n7783,1\\n7784,1\\n7785,1\\n7786,0\\n7787,1\\n7788,1\\n7789,1\\n7790,1\\n7791,0\\n7792,0\\n7793,0\\n7794,1\\n7795,1\\n7796,0\\n7797,1\\n7798,1\\n7799,1\\n7800,1\\n7801,0\\n7802,0\\n7803,0\\n7804,0\\n7805,0\\n7806,0\\n7807,0\\n7808,0\\n7809,1\\n7810,0\\n7811,0\\n7812,1\\n7813,0\\n7814,1\\n7815,0\\n7816,1\\n7817,0\\n7818,1\\n7819,1\\n7820,1\\n7821,1\\n7822,0\\n7823,0\\n7824,1\\n7825,1\\n7826,0\\n7827,1\\n7828,1\\n7829,0\\n7830,0\\n7831,1\\n7832,1\\n7833,1\\n7834,1\\n7835,1\\n7836,0\\n7837,1\\n7838,0\\n7839,0\\n7840,1\\n7841,0\\n7842,0\\n7843,1\\n7844,0\\n7845,1\\n7846,0\\n7847,1\\n7848,1\\n7849,1\\n7850,1\\n7851,0\\n7852,0\\n7853,0\\n7854,1\\n7855,1\\n7856,0\\n7857,1\\n7858,1\\n7859,1\\n7860,1\\n7861,0\\n7862,1\\n7863,1\\n7864,0\\n7865,1\\n7866,0\\n7867,0\\n7868,0\\n7869,1\\n7870,1\\n7871,1\\n7872,1\\n7873,1\\n7874,0\\n7875,1\\n7876,0\\n7877,0\\n7878,1\\n7879,0\\n7880,0\\n7881,1\\n7882,1\\n7883,0\\n7884,1\\n7885,1\\n7886,0\\n7887,1\\n7888,1\\n7889,0\\n7890,1\\n7891,0\\n7892,1\\n7893,0\\n7894,1\\n7895,0\\n7896,0\\n7897,1\\n7898,0\\n7899,0\\n7900,1\\n7901,1\\n7902,0\\n7903,0\\n7904,1\\n7905,0\\n7906,1\\n7907,0\\n7908,1\\n7909,1\\n7910,0\\n7911,0\\n7912,1\\n7913,0\\n7914,1\\n7915,0\\n7916,0\\n7917,0\\n7918,1\\n7919,0\\n7920,1\\n7921,0\\n7922,0\\n7923,0\\n7924,1\\n7925,1\\n7926,1\\n7927,1\\n7928,0\\n7929,0\\n7930,0\\n7931,1\\n7932,1\\n7933,0\\n7934,0\\n7935,0\\n7936,0\\n7937,1\\n7938,0\\n7939,0\\n7940,1\\n7941,0\\n7942,1\\n7943,0\\n7944,1\\n7945,0\\n7946,0\\n7947,1\\n7948,1\\n7949,1\\n7950,0\\n7951,1\\n7952,0\\n7953,1\\n7954,1\\n7955,1\\n7956,0\\n7957,1\\n7958,0\\n7959,0\\n7960,0\\n7961,1\\n7962,1\\n7963,0\\n7964,0\\n7965,0\\n7966,1\\n7967,0\\n7968,0\\n7969,0\\n7970,1\\n7971,0\\n7972,1\\n7973,0\\n7974,1\\n7975,0\\n7976,1\\n7977,1\\n7978,1\\n7979,0\\n7980,0\\n7981,1\\n7982,1\\n7983,1\\n7984,1\\n7985,0\\n7986,0\\n7987,1\\n7988,0\\n7989,1\\n7990,1\\n7991,1\\n7992,1\\n7993,1\\n7994,1\\n7995,1\\n7996,1\\n7997,0\\n7998,0\\n7999,0\\n8000,0\\n8001,0\\n8002,0\\n8003,1\\n8004,1\\n8005,0\\n8006,0\\n8007,1\\n8008,0\\n8009,1\\n8010,1\\n8011,0\\n8012,1\\n8013,1\\n8014,0\\n8015,1\\n8016,0\\n8017,1\\n8018,0\\n8019,1\\n8020,0\\n8021,0\\n8022,1\\n8023,1\\n8024,0\\n8025,1\\n8026,1\\n8027,0\\n8028,0\\n8029,0\\n8030,0\\n8031,1\\n8032,0\\n8033,1\\n8034,1\\n8035,0\\n8036,0\\n8037,1\\n8038,1\\n8039,1\\n8040,1\\n8041,1\\n8042,1\\n8043,0\\n8044,1\\n8045,1\\n8046,1\\n8047,1\\n8048,1\\n8049,1\\n8050,1\\n8051,1\\n8052,1\\n8053,0\\n8054,0\\n8055,0\\n8056,1\\n8057,0\\n8058,1\\n8059,1\\n8060,0\\n8061,1\\n8062,1\\n8063,1\\n8064,0\\n8065,0\\n8066,0\\n8067,0\\n8068,0\\n8069,1\\n8070,1\\n8071,0\\n8072,0\\n8073,1\\n8074,1\\n8075,0\\n8076,1\\n8077,1\\n8078,1\\n8079,0\\n8080,0\\n8081,0\\n8082,1\\n8083,0\\n8084,1\\n8085,0\\n8086,0\\n8087,0\\n8088,1\\n8089,0\\n8090,1\\n8091,0\\n8092,0\\n8093,1\\n8094,1\\n8095,0\\n8096,0\\n8097,1\\n8098,1\\n8099,1\\n8100,1\\n8101,1\\n8102,0\\n8103,1\\n8104,1\\n8105,1\\n8106,0\\n8107,0\\n8108,1\\n8109,1\\n8110,0\\n8111,1\\n8112,1\\n8113,0\\n8114,0\\n8115,0\\n8116,1\\n8117,1\\n8118,1\\n8119,0\\n8120,0\\n8121,1\\n8122,1\\n8123,1\\n8124,0\\n8125,0\\n8126,1\\n8127,0\\n8128,0\\n8129,0\\n8130,1\\n8131,1\\n8132,0\\n8133,1\\n8134,1\\n8135,0\\n8136,1\\n8137,0\\n8138,1\\n8139,0\\n8140,0\\n8141,0\\n8142,1\\n8143,0\\n8144,0\\n8145,1\\n8146,0\\n8147,1\\n8148,0\\n8149,0\\n8150,1\\n8151,1\\n8152,1\\n8153,1\\n8154,1\\n8155,1\\n8156,0\\n8157,1\\n8158,0\\n8159,1\\n8160,1\\n8161,0\\n8162,1\\n8163,0\\n8164,0\\n8165,0\\n8166,1\\n8167,0\\n8168,1\\n8169,1\\n8170,1\\n8171,0\\n8172,1\\n8173,0\\n8174,1\\n8175,1\\n8176,1\\n8177,0\\n8178,1\\n8179,1\\n8180,1\\n8181,0\\n8182,0\\n8183,1\\n8184,0\\n8185,0\\n8186,1\\n8187,1\\n8188,1\\n8189,0\\n8190,0\\n8191,1\\n8192,0\\n8193,1\\n8194,0\\n8195,0\\n8196,0\\n8197,0\\n8198,1\\n8199,0\\n8200,1\\n8201,1\\n8202,1\\n8203,0\\n8204,1\\n8205,0\\n8206,1\\n8207,0\\n8208,0\\n8209,0\\n8210,1\\n8211,0\\n8212,0\\n8213,0\\n8214,1\\n8215,0\\n8216,0\\n8217,1\\n8218,1\\n8219,1\\n8220,0\\n8221,1\\n8222,1\\n8223,1\\n8224,1\\n8225,0\\n8226,0\\n8227,0\\n8228,0\\n8229,1\\n8230,1\\n8231,1\\n8232,0\\n8233,0\\n8234,1\\n8235,1\\n8236,0\\n8237,0\\n8238,0\\n8239,1\\n8240,0\\n8241,0\\n8242,1\\n8243,0\\n8244,0\\n8245,0\\n8246,0\\n8247,1\\n8248,1\\n8249,1\\n8250,1\\n8251,1\\n8252,1\\n8253,1\\n8254,0\\n8255,0\\n8256,1\\n8257,1\\n8258,1\\n8259,0\\n8260,1\\n8261,1\\n8262,0\\n8263,1\\n8264,1\\n8265,1\\n8266,1\\n8267,0\\n8268,1\\n8269,1\\n8270,1\\n8271,0\\n8272,0\\n8273,0\\n8274,0\\n8275,1\\n8276,1\\n8277,1\\n8278,1\\n8279,1\\n8280,1\\n8281,0\\n8282,0\\n8283,1\\n8284,1\\n8285,0\\n8286,1\\n8287,1\\n8288,0\\n8289,0\\n8290,1\\n8291,1\\n8292,0\\n8293,0\\n8294,0\\n8295,0\\n8296,0\\n8297,0\\n8298,1\\n8299,0\\n8300,1\\n8301,0\\n8302,1\\n8303,0\\n8304,1\\n8305,0\\n8306,0\\n8307,0\\n8308,0\\n8309,1\\n8310,0\\n8311,1\\n8312,1\\n8313,0\\n8314,1\\n8315,0\\n8316,1\\n8317,0\\n8318,1\\n8319,0\\n8320,0\\n8321,0\\n8322,1\\n8323,0\\n8324,1\\n8325,0\\n8326,0\\n8327,0\\n8328,0\\n8329,0\\n8330,0\\n8331,1\\n8332,0\\n8333,1\\n8334,1\\n8335,1\\n8336,0\\n8337,0\\n8338,0\\n8339,1\\n8340,1\\n8341,1\\n8342,0\\n8343,1\\n8344,1\\n8345,1\\n8346,1\\n8347,0\\n8348,1\\n8349,1\\n8350,1\\n8351,1\\n8352,0\\n8353,1\\n8354,0\\n8355,1\\n8356,0\\n8357,1\\n8358,0\\n8359,0\\n8360,1\\n8361,0\\n8362,0\\n8363,1\\n8364,0\\n8365,0\\n8366,1\\n8367,1\\n8368,1\\n8369,0\\n8370,0\\n8371,0\\n8372,1\\n8373,1\\n8374,0\\n8375,0\\n8376,1\\n8377,0\\n8378,1\\n8379,1\\n8380,0\\n8381,0\\n8382,1\\n8383,0\\n8384,0\\n8385,1\\n8386,0\\n8387,1\\n8388,1\\n8389,1\\n8390,1\\n8391,0\\n8392,1\\n8393,1\\n8394,0\\n8395,1\\n8396,0\\n8397,1\\n8398,1\\n8399,1\\n8400,0\\n8401,0\\n8402,1\\n8403,0\\n8404,1\\n8405,1\\n8406,0\\n8407,1\\n8408,1\\n8409,1\\n8410,1\\n8411,1\\n8412,1\\n8413,0\\n8414,0\\n8415,0\\n8416,0\\n8417,1\\n8418,1\\n8419,0\\n8420,1\\n8421,0\\n8422,1\\n8423,1\\n8424,1\\n8425,1\\n8426,0\\n8427,1\\n8428,0\\n8429,1\\n8430,1\\n8431,1\\n8432,1\\n8433,0\\n8434,0\\n8435,0\\n8436,0\\n8437,1\\n8438,0\\n8439,1\\n8440,1\\n8441,1\\n8442,0\\n8443,1\\n8444,1\\n8445,0\\n8446,0\\n8447,0\\n8448,1\\n8449,1\\n8450,0\\n8451,1\\n8452,0\\n8453,1\\n8454,1\\n8455,0\\n8456,0\\n8457,0\\n8458,0\\n8459,0\\n8460,1\\n8461,0\\n8462,1\\n8463,0\\n8464,0\\n8465,1\\n8466,1\\n8467,0\\n8468,0\\n8469,1\\n8470,1\\n8471,1\\n8472,0\\n8473,1\\n8474,1\\n8475,1\\n8476,0\\n8477,0\\n8478,0\\n8479,0\\n8480,0\\n8481,0\\n8482,1\\n8483,1\\n8484,0\\n8485,1\\n8486,1\\n8487,1\\n8488,0\\n8489,1\\n8490,1\\n8491,0\\n8492,1\\n8493,0\\n8494,1\\n8495,1\\n8496,1\\n8497,1\\n8498,0\\n8499,1\\n8500,0\\n8501,0\\n8502,0\\n8503,0\\n8504,1\\n8505,1\\n8506,0\\n8507,1\\n8508,0\\n8509,1\\n8510,1\\n8511,0\\n8512,0\\n8513,1\\n8514,1\\n8515,0\\n8516,1\\n8517,1\\n8518,0\\n8519,1\\n8520,0\\n8521,1\\n8522,1\\n8523,0\\n8524,1\\n8525,0\\n8526,1\\n8527,0\\n8528,0\\n8529,1\\n8530,1\\n8531,1\\n8532,0\\n8533,1\\n8534,1\\n8535,1\\n8536,1\\n8537,0\\n8538,1\\n8539,1\\n8540,0\\n8541,1\\n8542,1\\n8543,0\\n8544,1\\n8545,0\\n8546,0\\n8547,0\\n8548,0\\n8549,0\\n8550,1\\n8551,0\\n8552,1\\n8553,1\\n8554,1\\n8555,1\\n8556,1\\n8557,1\\n8558,1\\n8559,1\\n8560,1\\n8561,1\\n8562,0\\n8563,0\\n8564,1\\n8565,0\\n8566,1\\n8567,1\\n8568,0\\n8569,1\\n8570,0\\n8571,0\\n8572,0\\n8573,1\\n8574,0\\n8575,1\\n8576,1\\n8577,1\\n8578,0\\n8579,1\\n8580,1\\n8581,1\\n8582,1\\n8583,0\\n8584,1\\n8585,1\\n8586,1\\n8587,1\\n8588,1\\n8589,1\\n8590,0\\n8591,0\\n8592,0\\n8593,1\\n8594,1\\n8595,1\\n8596,0\\n8597,1\\n8598,1\\n8599,1\\n8600,1\\n8601,1\\n8602,0\\n8603,0\\n8604,0\\n8605,1\\n8606,1\\n8607,1\\n8608,1\\n8609,1\\n8610,1\\n8611,0\\n8612,0\\n8613,0\\n8614,1\\n8615,0\\n8616,1\\n8617,0\\n8618,1\\n8619,1\\n8620,0\\n8621,1\\n8622,1\\n8623,1\\n8624,0\\n8625,1\\n8626,1\\n8627,1\\n8628,0\\n8629,1\\n8630,0\\n8631,0\\n8632,1\\n8633,0\\n8634,1\\n8635,1\\n8636,0\\n8637,0\\n8638,0\\n8639,0\\n8640,0\\n8641,1\\n8642,1\\n8643,0\\n8644,1\\n8645,0\\n8646,1\\n8647,1\\n8648,0\\n8649,1\\n8650,1\\n8651,0\\n8652,0\\n8653,0\\n8654,0\\n8655,1\\n8656,1\\n8657,1\\n8658,1\\n8659,1\\n8660,0\\n8661,0\\n8662,1\\n8663,1\\n8664,0\\n8665,1\\n8666,1\\n8667,0\\n8668,0\\n8669,0\\n8670,1\\n8671,0\\n8672,0\\n8673,1\\n8674,0\\n8675,0\\n8676,0\\n8677,1\\n8678,0\\n8679,1\\n8680,0\\n8681,1\\n8682,1\\n8683,1\\n8684,0\\n8685,1\\n8686,0\\n8687,0\\n8688,0\\n8689,0\\n8690,1\\n8691,1\\n8692,1\\n8693,0\\n8694,1\\n8695,1\\n8696,1\\n8697,1\\n8698,1\\n8699,0\\n8700,0\\n8701,1\\n8702,1\\n8703,1\\n8704,1\\n8705,1\\n8706,1\\n8707,0\\n8708,1\\n8709,1\\n8710,0\\n8711,1\\n8712,0\\n8713,1\\n8714,1\\n8715,0\\n8716,0\\n8717,1\\n8718,1\\n8719,1\\n8720,1\\n8721,1\\n8722,0\\n8723,1\\n8724,0\\n8725,0\\n8726,1\\n8727,1\\n8728,1\\n8729,0\\n8730,1\\n8731,0\\n8732,0\\n8733,1\\n8734,0\\n8735,0\\n8736,0\\n8737,1\\n8738,0\\n8739,1\\n8740,1\\n8741,0\\n8742,0\\n8743,1\\n8744,0\\n8745,0\\n8746,1\\n8747,1\\n8748,1\\n8749,1\\n8750,1\\n8751,0\\n8752,1\\n8753,1\\n8754,1\\n8755,1\\n8756,1\\n8757,0\\n8758,1\\n8759,0\\n8760,1\\n8761,0\\n8762,1\\n8763,0\\n8764,0\\n8765,0\\n8766,0\\n8767,1\\n8768,0\\n8769,1\\n8770,1\\n8771,0\\n8772,1\\n8773,0\\n8774,1\\n8775,0\\n8776,1\\n8777,0\\n8778,1\\n8779,1\\n8780,0\\n8781,1\\n8782,0\\n8783,1\\n8784,0\\n8785,0\\n8786,0\\n8787,0\\n8788,0\\n8789,1\\n8790,0\\n8791,1\\n8792,0\\n8793,0\\n8794,0\\n8795,1\\n8796,0\\n8797,1\\n8798,1\\n8799,0\\n8800,0\\n8801,0\\n8802,0\\n8803,0\\n8804,0\\n8805,0\\n8806,1\\n8807,1\\n8808,1\\n8809,1\\n8810,1\\n8811,1\\n8812,0\\n8813,0\\n8814,1\\n8815,0\\n8816,0\\n8817,1\\n8818,0\\n8819,0\\n8820,1\\n8821,0\\n8822,0\\n8823,1\\n8824,0\\n8825,0\\n8826,0\\n8827,1\\n8828,0\\n8829,0\\n8830,0\\n8831,1\\n8832,1\\n8833,1\\n8834,0\\n8835,1\\n8836,1\\n8837,0\\n8838,1\\n8839,1\\n8840,0\\n8841,0\\n8842,1\\n8843,0\\n8844,1\\n8845,0\\n8846,0\\n8847,0\\n8848,1\\n8849,1\\n8850,1\\n8851,1\\n8852,1\\n8853,0\\n8854,1\\n8855,1\\n8856,1\\n8857,0\\n8858,0\\n8859,1\\n8860,1\\n8861,1\\n8862,1\\n8863,0\\n8864,0\\n8865,0\\n8866,0\\n8867,1\\n8868,0\\n8869,0\\n8870,1\\n8871,0\\n8872,0\\n8873,1\\n8874,1\\n8875,1\\n8876,1\\n8877,0\\n8878,1\\n8879,1\\n8880,1\\n8881,0\\n8882,1\\n8883,0\\n8884,0\\n8885,0\\n8886,0\\n8887,1\\n8888,1\\n8889,0\\n8890,0\\n8891,0\\n8892,1\\n8893,1\\n8894,0\\n8895,0\\n8896,0\\n8897,1\\n8898,0\\n8899,0\\n8900,0\\n8901,0\\n8902,1\\n8903,1\\n8904,1\\n8905,0\\n8906,0\\n8907,1\\n8908,0\\n8909,0\\n8910,0\\n8911,0\\n8912,1\\n8913,0\\n8914,1\\n8915,1\\n8916,1\\n8917,0\\n8918,1\\n8919,1\\n8920,1\\n8921,1\\n8922,1\\n8923,1\\n8924,0\\n8925,1\\n8926,1\\n8927,0\\n8928,0\\n8929,0\\n8930,1\\n8931,1\\n8932,1\\n8933,1\\n8934,1\\n8935,0\\n8936,1\\n8937,0\\n8938,0\\n8939,1\\n8940,0\\n8941,1\\n8942,0\\n8943,1\\n8944,0\\n8945,0\\n8946,1\\n8947,1\\n8948,1\\n8949,1\\n8950,1\\n8951,1\\n8952,0\\n8953,0\\n8954,0\\n8955,1\\n8956,1\\n8957,0\\n8958,1\\n8959,1\\n8960,0\\n8961,0\\n8962,0\\n8963,0\\n8964,1\\n8965,1\\n8966,0\\n8967,0\\n8968,1\\n8969,0\\n8970,1\\n8971,0\\n8972,0\\n8973,0\\n8974,0\\n8975,1\\n8976,1\\n8977,1\\n8978,1\\n8979,0\\n8980,0\\n8981,0\\n8982,0\\n8983,0\\n8984,0\\n8985,1\\n8986,1\\n8987,1\\n8988,0\\n8989,1\\n8990,1\\n8991,1\\n8992,0\\n8993,1\\n8994,1\\n8995,1\\n8996,1\\n8997,1\\n8998,0\\n8999,1\\n9000,1\\n9001,1\\n9002,1\\n9003,0\\n9004,1\\n9005,0\\n9006,1\\n9007,1\\n9008,1\\n9009,1\\n9010,1\\n9011,1\\n9012,0\\n9013,0\\n9014,1\\n9015,0\\n9016,0\\n9017,0\\n9018,0\\n9019,1\\n9020,1\\n9021,1\\n9022,1\\n9023,1\\n9024,0\\n9025,1\\n9026,1\\n9027,1\\n9028,1\\n9029,0\\n9030,1\\n9031,0\\n9032,1\\n9033,1\\n9034,1\\n9035,1\\n9036,0\\n9037,1\\n9038,0\\n9039,1\\n9040,1\\n9041,0\\n9042,0\\n9043,1\\n9044,1\\n9045,1\\n9046,0\\n9047,1\\n9048,1\\n9049,0\\n9050,1\\n9051,0\\n9052,1\\n9053,1\\n9054,0\\n9055,1\\n9056,0\\n9057,1\\n9058,0\\n9059,1\\n9060,1\\n9061,0\\n9062,0\\n9063,0\\n9064,1\\n9065,1\\n9066,1\\n9067,1\\n9068,0\\n9069,1\\n9070,1\\n9071,1\\n9072,0\\n9073,1\\n9074,0\\n9075,0\\n9076,0\\n9077,1\\n9078,0\\n9079,1\\n9080,1\\n9081,0\\n9082,0\\n9083,1\\n9084,0\\n9085,1\\n9086,0\\n9087,1\\n9088,1\\n9089,1\\n9090,1\\n9091,0\\n9092,1\\n9093,0\\n9094,1\\n9095,1\\n9096,0\\n9097,0\\n9098,1\\n9099,1\\n9100,0\\n9101,1\\n9102,0\\n9103,1\\n9104,0\\n9105,0\\n9106,1\\n9107,1\\n9108,0\\n9109,0\\n9110,0\\n9111,1\\n9112,0\\n9113,0\\n9114,1\\n9115,0\\n9116,0\\n9117,0\\n9118,0\\n9119,1\\n9120,1\\n9121,0\\n9122,0\\n9123,0\\n9124,0\\n9125,1\\n9126,1\\n9127,0\\n9128,0\\n9129,1\\n9130,1\\n9131,1\\n9132,1\\n9133,1\\n9134,0\\n9135,0\\n9136,1\\n9137,1\\n9138,0\\n9139,1\\n9140,1\\n9141,1\\n9142,1\\n9143,0\\n9144,0\\n9145,1\\n9146,0\\n9147,1\\n9148,0\\n9149,1\\n9150,0\\n9151,1\\n9152,0\\n9153,1\\n9154,0\\n9155,1\\n9156,1\\n9157,0\\n9158,0\\n9159,0\\n9160,1\\n9161,0\\n9162,0\\n9163,1\\n9164,0\\n9165,1\\n9166,1\\n9167,0\\n9168,1\\n9169,0\\n9170,0\\n9171,0\\n9172,0\\n9173,1\\n9174,1\\n9175,0\\n9176,0\\n9177,1\\n9178,0\\n9179,1\\n9180,0\\n9181,1\\n9182,0\\n9183,0\\n9184,1\\n9185,1\\n9186,1\\n9187,0\\n9188,0\\n9189,0\\n9190,0\\n9191,0\\n9192,1\\n9193,0\\n9194,0\\n9195,0\\n9196,1\\n9197,1\\n9198,1\\n9199,1\\n9200,1\\n9201,0\\n9202,0\\n9203,0\\n9204,1\\n9205,0\\n9206,0\\n9207,0\\n9208,1\\n9209,0\\n9210,0\\n9211,1\\n9212,1\\n9213,0\\n9214,0\\n9215,0\\n9216,0\\n9217,0\\n9218,1\\n9219,1\\n9220,0\\n9221,1\\n9222,0\\n9223,1\\n9224,0\\n9225,1\\n9226,1\\n9227,1\\n9228,0\\n9229,0\\n9230,0\\n9231,0\\n9232,0\\n9233,0\\n9234,0\\n9235,0\\n9236,1\\n9237,0\\n9238,1\\n9239,1\\n9240,0\\n9241,0\\n9242,1\\n9243,0\\n9244,1\\n9245,1\\n9246,0\\n9247,1\\n9248,1\\n9249,0\\n9250,1\\n9251,0\\n9252,1\\n9253,1\\n9254,0\\n9255,1\\n9256,0\\n9257,0\\n9258,1\\n9259,0\\n9260,1\\n9261,1\\n9262,1\\n9263,1\\n9264,0\\n9265,0\\n9266,1\\n9267,0\\n9268,1\\n9269,0\\n9270,1\\n9271,1\\n9272,1\\n9273,1\\n9274,1\\n9275,1\\n9276,0\\n9277,1\\n9278,1\\n9279,0\\n9280,1\\n9281,0\\n9282,0\\n9283,0\\n9284,1\\n9285,1\\n9286,1\\n9287,0\\n9288,0\\n9289,1\\n9290,1\\n9291,1\\n9292,1\\n9293,1\\n9294,1\\n9295,1\\n9296,0\\n9297,1\\n9298,0\\n9299,1\\n9300,1\\n9301,0\\n9302,1\\n9303,0\\n9304,1\\n9305,1\\n9306,1\\n9307,1\\n9308,1\\n9309,1\\n9310,0\\n9311,1\\n9312,0\\n9313,0\\n9314,0\\n9315,0\\n9316,1\\n9317,0\\n9318,1\\n9319,0\\n9320,1\\n9321,1\\n9322,1\\n9323,0\\n9324,1\\n9325,0\\n9326,1\\n9327,0\\n9328,0\\n9329,1\\n9330,0\\n9331,1\\n9332,1\\n9333,1\\n9334,0\\n9335,0\\n9336,1\\n9337,0\\n9338,0\\n9339,1\\n9340,0\\n9341,1\\n9342,1\\n9343,0\\n9344,1\\n9345,1\\n9346,0\\n9347,0\\n9348,0\\n9349,0\\n9350,0\\n9351,1\\n9352,1\\n9353,1\\n9354,0\\n9355,1\\n9356,0\\n9357,1\\n9358,0\\n9359,0\\n9360,0\\n9361,1\\n9362,1\\n9363,1\\n9364,0\\n9365,1\\n9366,0\\n9367,1\\n9368,1\\n9369,0\\n9370,0\\n9371,1\\n9372,0\\n9373,1\\n9374,1\\n9375,1\\n9376,0\\n9377,1\\n9378,1\\n9379,0\\n9380,0\\n9381,1\\n9382,0\\n9383,1\\n9384,1\\n9385,0\\n9386,1\\n9387,0\\n9388,1\\n9389,1\\n9390,1\\n9391,0\\n9392,1\\n9393,0\\n9394,1\\n9395,1\\n9396,1\\n9397,1\\n9398,0\\n9399,1\\n9400,1\\n9401,1\\n9402,1\\n9403,0\\n9404,0\\n9405,1\\n9406,1\\n9407,0\\n9408,1\\n9409,0\\n9410,1\\n9411,0\\n9412,0\\n9413,1\\n9414,1\\n9415,1\\n9416,1\\n9417,0\\n9418,1\\n9419,1\\n9420,0\\n9421,1\\n9422,0\\n9423,1\\n9424,1\\n9425,1\\n9426,0\\n9427,0\\n9428,0\\n9429,1\\n9430,1\\n9431,0\\n9432,0\\n9433,0\\n9434,0\\n9435,0\\n9436,0\\n9437,0\\n9438,0\\n9439,1\\n9440,1\\n9441,0\\n9442,0\\n9443,1\\n9444,0\\n9445,0\\n9446,1\\n9447,0\\n9448,0\\n9449,1\\n9450,0\\n9451,0\\n9452,1\\n9453,0\\n9454,0\\n9455,1\\n9456,1\\n9457,0\\n9458,1\\n9459,0\\n9460,1\\n9461,1\\n9462,1\\n9463,1\\n9464,1\\n9465,0\\n9466,0\\n9467,1\\n9468,1\\n9469,1\\n9470,0\\n9471,0\\n9472,1\\n9473,1\\n9474,1\\n9475,1\\n9476,1\\n9477,1\\n9478,1\\n9479,0\\n9480,0\\n9481,1\\n9482,0\\n9483,0\\n9484,0\\n9485,1\\n9486,0\\n9487,1\\n9488,1\\n9489,1\\n9490,1\\n9491,1\\n9492,1\\n9493,0\\n9494,0\\n9495,1\\n9496,0\\n9497,0\\n9498,0\\n9499,1\\n9500,0\\n9501,0\\n9502,0\\n9503,0\\n9504,0\\n9505,0\\n9506,1\\n9507,0\\n9508,1\\n9509,1\\n9510,0\\n9511,1\\n9512,0\\n9513,1\\n9514,1\\n9515,1\\n9516,0\\n9517,1\\n9518,0\\n9519,0\\n9520,0\\n9521,1\\n9522,1\\n9523,1\\n9524,0\\n9525,1\\n9526,0\\n9527,0\\n9528,1\\n9529,1\\n9530,0\\n9531,1\\n9532,0\\n9533,0\\n9534,0\\n9535,1\\n9536,1\\n9537,1\\n9538,0\\n9539,0\\n9540,0\\n9541,0\\n9542,0\\n9543,1\\n9544,0\\n9545,1\\n9546,1\\n9547,0\\n9548,1\\n9549,0\\n9550,0\\n9551,0\\n9552,0\\n9553,1\\n9554,0\\n9555,0\\n9556,1\\n9557,0\\n9558,0\\n9559,1\\n9560,1\\n9561,1\\n9562,1\\n9563,0\\n9564,0\\n9565,0\\n9566,1\\n9567,1\\n9568,0\\n9569,0\\n9570,0\\n9571,1\\n9572,1\\n9573,1\\n9574,1\\n9575,0\\n9576,1\\n9577,0\\n9578,1\\n9579,0\\n9580,1\\n9581,1\\n9582,1\\n9583,1\\n9584,0\\n9585,1\\n9586,0\\n9587,0\\n9588,1\\n9589,1\\n9590,1\\n9591,1\\n9592,0\\n9593,0\\n9594,0\\n9595,1\\n9596,0\\n9597,1\\n9598,0\\n9599,0\\n9600,1\\n9601,1\\n9602,0\\n9603,1\\n9604,1\\n9605,0\\n9606,1\\n9607,1\\n9608,1\\n9609,1\\n9610,1\\n9611,1\\n9612,1\\n9613,1\\n9614,1\\n9615,0\\n9616,0\\n9617,1\\n9618,1\\n9619,1\\n9620,1\\n9621,0\\n9622,0\\n9623,0\\n9624,0\\n9625,0\\n9626,0\\n9627,0\\n9628,1\\n9629,1\\n9630,1\\n9631,1\\n9632,0\\n9633,0\\n9634,1\\n9635,1\\n9636,0\\n9637,0\\n9638,1\\n9639,0\\n9640,0\\n9641,1\\n9642,0\\n9643,1\\n9644,0\\n9645,0\\n9646,0\\n9647,1\\n9648,1\\n9649,0\\n9650,0\\n9651,0\\n9652,0\\n9653,1\\n9654,0\\n9655,1\\n9656,0\\n9657,1\\n9658,1\\n9659,0\\n9660,1\\n9661,1\\n9662,1\\n9663,0\\n9664,1\\n9665,0\\n9666,0\\n9667,0\\n9668,1\\n9669,1\\n9670,0\\n9671,0\\n9672,0\\n9673,1\\n9674,1\\n9675,0\\n9676,0\\n9677,0\\n9678,0\\n9679,0\\n9680,1\\n9681,1\\n9682,0\\n9683,0\\n9684,1\\n9685,1\\n9686,1\\n9687,0\\n9688,0\\n9689,1\\n9690,0\\n9691,1\\n9692,0\\n9693,0\\n9694,0\\n9695,1\\n9696,0\\n9697,0\\n9698,0\\n9699,1\\n9700,0\\n9701,0\\n9702,0\\n9703,0\\n9704,0\\n9705,1\\n9706,0\\n9707,0\\n9708,1\\n9709,1\\n9710,0\\n9711,1\\n9712,0\\n9713,1\\n9714,1\\n9715,1\\n9716,1\\n9717,1\\n9718,1\\n9719,0\\n9720,0\\n9721,1\\n9722,0\\n9723,1\\n9724,0\\n9725,1\\n9726,0\\n9727,0\\n9728,1\\n9729,0\\n9730,0\\n9731,0\\n9732,0\\n9733,1\\n9734,1\\n9735,0\\n9736,0\\n9737,1\\n9738,0\\n9739,1\\n9740,0\\n9741,1\\n9742,1\\n9743,0\\n9744,0\\n9745,1\\n9746,1\\n9747,1\\n9748,0\\n9749,1\\n9750,0\\n9751,1\\n9752,1\\n9753,0\\n9754,0\\n9755,1\\n9756,1\\n9757,0\\n9758,0\\n9759,0\\n9760,0\\n9761,1\\n9762,0\\n9763,0\\n9764,0\\n9765,0\\n9766,0\\n9767,0\\n9768,0\\n9769,1\\n9770,1\\n9771,1\\n9772,0\\n9773,0\\n9774,0\\n9775,1\\n9776,1\\n9777,0\\n9778,1\\n9779,0\\n9780,1\\n9781,0\\n9782,1\\n9783,1\\n9784,1\\n9785,0\\n9786,1\\n9787,1\\n9788,1\\n9789,1\\n9790,1\\n9791,1\\n9792,1\\n9793,0\\n9794,1\\n9795,0\\n9796,1\\n9797,1\\n9798,1\\n9799,0\\n9800,0\\n9801,1\\n9802,0\\n9803,1\\n9804,1\\n9805,1\\n9806,1\\n9807,1\\n9808,0\\n9809,1\\n9810,1\\n9811,0\\n9812,1\\n9813,0\\n9814,1\\n9815,1\\n9816,0\\n9817,1\\n9818,0\\n9819,1\\n9820,1\\n9821,1\\n9822,1\\n9823,0\\n9824,0\\n9825,0\\n9826,0\\n9827,1\\n9828,0\\n9829,1\\n9830,1\\n9831,0\\n9832,1\\n9833,0\\n9834,0\\n9835,0\\n9836,0\\n9837,1\\n9838,1\\n9839,1\\n9840,0\\n9841,0\\n9842,0\\n9843,0\\n9844,0\\n9845,1\\n9846,0\\n9847,0\\n9848,0\\n9849,0\\n9850,0\\n9851,1\\n9852,0\\n9853,1\\n9854,0\\n9855,0\\n9856,0\\n9857,1\\n9858,0\\n9859,0\\n9860,1\\n9861,1\\n9862,1\\n9863,0\\n9864,0\\n9865,1\\n9866,1\\n9867,0\\n9868,0\\n9869,0\\n9870,0\\n9871,1\\n9872,0\\n9873,0\\n9874,1\\n9875,1\\n9876,1\\n9877,0\\n9878,0\\n9879,0\\n9880,0\\n9881,1\\n9882,0\\n9883,0\\n9884,1\\n9885,1\\n9886,1\\n9887,1\\n9888,0\\n9889,0\\n9890,1\\n9891,1\\n9892,0\\n9893,1\\n9894,0\\n9895,1\\n9896,0\\n9897,1\\n9898,1\\n9899,0\\n9900,0\\n9901,1\\n9902,0\\n9903,0\\n9904,1\\n9905,1\\n9906,0\\n9907,1\\n9908,1\\n9909,1\\n9910,0\\n9911,1\\n9912,1\\n9913,1\\n9914,1\\n9915,0\\n9916,0\\n9917,0\\n9918,0\\n9919,1\\n9920,1\\n9921,0\\n9922,0\\n9923,1\\n9924,1\\n9925,1\\n9926,0\\n9927,0\\n9928,0\\n9929,1\\n9930,1\\n9931,1\\n9932,0\\n9933,0\\n9934,0\\n9935,0\\n9936,1\\n9937,1\\n9938,1\\n9939,1\\n9940,1\\n9941,1\\n9942,0\\n9943,0\\n9944,0\\n9945,1\\n9946,0\\n9947,1\\n9948,0\\n9949,0\\n9950,0\\n9951,1\\n9952,1\\n9953,0\\n9954,0\\n9955,0\\n9956,0\\n9957,1\\n9958,0\\n9959,0\\n9960,1\\n9961,0\\n9962,1\\n9963,0\\n9964,0\\n9965,1\\n9966,1\\n9967,0\\n9968,0\\n9969,1\\n9970,1\\n9971,1\\n9972,0\\n9973,0\\n9974,0\\n9975,0\\n9976,1\\n9977,0\\n9978,1\\n9979,1\\n9980,0\\n9981,1\\n9982,1\\n9983,1\\n9984,1\\n9985,0\\n9986,0\\n9987,1\\n9988,1\\n9989,1\\n9990,1\\n9991,0\\n9992,0\\n9993,1\\n9994,1\\n9995,1\\n9996,0\\n9997,0\\n9998,0\\n9999,1\\n',\n",
              " 'ensemble_CNN.csv': b',CNN prediction\\n0,1\\n1,1\\n2,0\\n3,0\\n4,0\\n5,1\\n6,0\\n7,0\\n8,0\\n9,1\\n10,1\\n11,0\\n12,1\\n13,1\\n14,0\\n15,0\\n16,1\\n17,0\\n18,1\\n19,0\\n20,1\\n21,0\\n22,1\\n23,0\\n24,0\\n25,1\\n26,1\\n27,1\\n28,1\\n29,1\\n30,1\\n31,0\\n32,0\\n33,0\\n34,0\\n35,1\\n36,0\\n37,0\\n38,0\\n39,1\\n40,0\\n41,0\\n42,0\\n43,1\\n44,0\\n45,1\\n46,1\\n47,0\\n48,1\\n49,1\\n50,0\\n51,1\\n52,0\\n53,1\\n54,1\\n55,1\\n56,0\\n57,1\\n58,1\\n59,1\\n60,0\\n61,0\\n62,0\\n63,0\\n64,1\\n65,0\\n66,1\\n67,1\\n68,1\\n69,1\\n70,0\\n71,0\\n72,0\\n73,0\\n74,0\\n75,1\\n76,1\\n77,1\\n78,1\\n79,0\\n80,0\\n81,1\\n82,0\\n83,1\\n84,0\\n85,1\\n86,1\\n87,0\\n88,1\\n89,0\\n90,0\\n91,1\\n92,0\\n93,1\\n94,0\\n95,0\\n96,1\\n97,1\\n98,0\\n99,1\\n100,0\\n101,1\\n102,1\\n103,1\\n104,1\\n105,0\\n106,1\\n107,0\\n108,0\\n109,1\\n110,0\\n111,1\\n112,1\\n113,1\\n114,1\\n115,0\\n116,0\\n117,1\\n118,1\\n119,1\\n120,1\\n121,0\\n122,1\\n123,1\\n124,0\\n125,1\\n126,0\\n127,1\\n128,0\\n129,1\\n130,0\\n131,1\\n132,0\\n133,1\\n134,1\\n135,0\\n136,1\\n137,1\\n138,1\\n139,1\\n140,0\\n141,0\\n142,1\\n143,1\\n144,0\\n145,1\\n146,0\\n147,0\\n148,0\\n149,1\\n150,1\\n151,0\\n152,1\\n153,1\\n154,1\\n155,1\\n156,1\\n157,0\\n158,1\\n159,0\\n160,1\\n161,1\\n162,0\\n163,0\\n164,0\\n165,0\\n166,1\\n167,1\\n168,1\\n169,0\\n170,0\\n171,0\\n172,0\\n173,1\\n174,1\\n175,0\\n176,1\\n177,0\\n178,0\\n179,1\\n180,1\\n181,1\\n182,0\\n183,0\\n184,1\\n185,1\\n186,0\\n187,0\\n188,0\\n189,1\\n190,0\\n191,0\\n192,1\\n193,1\\n194,1\\n195,0\\n196,1\\n197,1\\n198,0\\n199,0\\n200,0\\n201,1\\n202,1\\n203,1\\n204,1\\n205,1\\n206,1\\n207,0\\n208,0\\n209,0\\n210,0\\n211,1\\n212,1\\n213,1\\n214,0\\n215,0\\n216,1\\n217,1\\n218,1\\n219,0\\n220,1\\n221,0\\n222,0\\n223,0\\n224,0\\n225,1\\n226,1\\n227,0\\n228,1\\n229,1\\n230,0\\n231,0\\n232,1\\n233,1\\n234,1\\n235,0\\n236,1\\n237,1\\n238,0\\n239,0\\n240,0\\n241,0\\n242,1\\n243,1\\n244,0\\n245,1\\n246,1\\n247,1\\n248,1\\n249,0\\n250,0\\n251,0\\n252,1\\n253,0\\n254,0\\n255,0\\n256,1\\n257,1\\n258,0\\n259,1\\n260,0\\n261,1\\n262,1\\n263,1\\n264,1\\n265,1\\n266,1\\n267,0\\n268,1\\n269,1\\n270,1\\n271,1\\n272,1\\n273,1\\n274,1\\n275,1\\n276,0\\n277,1\\n278,0\\n279,1\\n280,1\\n281,1\\n282,1\\n283,0\\n284,0\\n285,0\\n286,1\\n287,1\\n288,0\\n289,1\\n290,1\\n291,0\\n292,1\\n293,0\\n294,1\\n295,0\\n296,0\\n297,0\\n298,1\\n299,1\\n300,1\\n301,1\\n302,1\\n303,0\\n304,0\\n305,1\\n306,0\\n307,1\\n308,1\\n309,1\\n310,0\\n311,1\\n312,1\\n313,0\\n314,0\\n315,0\\n316,0\\n317,0\\n318,0\\n319,1\\n320,0\\n321,0\\n322,1\\n323,1\\n324,0\\n325,0\\n326,0\\n327,0\\n328,1\\n329,0\\n330,1\\n331,1\\n332,1\\n333,1\\n334,0\\n335,0\\n336,1\\n337,1\\n338,1\\n339,1\\n340,1\\n341,1\\n342,0\\n343,0\\n344,1\\n345,0\\n346,1\\n347,1\\n348,0\\n349,0\\n350,1\\n351,0\\n352,1\\n353,0\\n354,1\\n355,0\\n356,1\\n357,0\\n358,0\\n359,1\\n360,1\\n361,1\\n362,1\\n363,1\\n364,1\\n365,0\\n366,0\\n367,1\\n368,1\\n369,0\\n370,1\\n371,1\\n372,1\\n373,0\\n374,1\\n375,0\\n376,1\\n377,1\\n378,0\\n379,1\\n380,1\\n381,0\\n382,1\\n383,0\\n384,1\\n385,1\\n386,1\\n387,1\\n388,1\\n389,1\\n390,0\\n391,0\\n392,1\\n393,0\\n394,0\\n395,1\\n396,1\\n397,0\\n398,1\\n399,0\\n400,1\\n401,1\\n402,0\\n403,1\\n404,1\\n405,1\\n406,0\\n407,0\\n408,0\\n409,0\\n410,1\\n411,1\\n412,0\\n413,1\\n414,0\\n415,1\\n416,1\\n417,1\\n418,0\\n419,0\\n420,0\\n421,0\\n422,0\\n423,0\\n424,1\\n425,1\\n426,0\\n427,0\\n428,1\\n429,1\\n430,0\\n431,1\\n432,0\\n433,1\\n434,1\\n435,0\\n436,0\\n437,0\\n438,0\\n439,0\\n440,1\\n441,0\\n442,0\\n443,0\\n444,1\\n445,0\\n446,0\\n447,1\\n448,0\\n449,0\\n450,1\\n451,0\\n452,1\\n453,0\\n454,1\\n455,1\\n456,0\\n457,0\\n458,0\\n459,0\\n460,1\\n461,0\\n462,0\\n463,1\\n464,0\\n465,0\\n466,0\\n467,0\\n468,1\\n469,0\\n470,1\\n471,1\\n472,1\\n473,1\\n474,0\\n475,1\\n476,0\\n477,0\\n478,1\\n479,0\\n480,1\\n481,0\\n482,0\\n483,0\\n484,1\\n485,1\\n486,0\\n487,0\\n488,1\\n489,1\\n490,0\\n491,1\\n492,0\\n493,1\\n494,0\\n495,0\\n496,0\\n497,0\\n498,1\\n499,1\\n500,0\\n501,0\\n502,1\\n503,0\\n504,0\\n505,1\\n506,1\\n507,0\\n508,0\\n509,0\\n510,0\\n511,0\\n512,1\\n513,1\\n514,0\\n515,0\\n516,0\\n517,0\\n518,1\\n519,1\\n520,0\\n521,0\\n522,0\\n523,0\\n524,0\\n525,0\\n526,0\\n527,1\\n528,1\\n529,1\\n530,0\\n531,1\\n532,1\\n533,0\\n534,1\\n535,1\\n536,1\\n537,1\\n538,0\\n539,0\\n540,1\\n541,0\\n542,1\\n543,1\\n544,1\\n545,1\\n546,0\\n547,1\\n548,1\\n549,0\\n550,1\\n551,1\\n552,1\\n553,0\\n554,0\\n555,1\\n556,1\\n557,1\\n558,1\\n559,1\\n560,1\\n561,0\\n562,0\\n563,1\\n564,0\\n565,1\\n566,1\\n567,1\\n568,0\\n569,1\\n570,0\\n571,1\\n572,1\\n573,1\\n574,0\\n575,0\\n576,1\\n577,1\\n578,0\\n579,1\\n580,1\\n581,0\\n582,0\\n583,0\\n584,0\\n585,1\\n586,0\\n587,0\\n588,0\\n589,1\\n590,1\\n591,0\\n592,1\\n593,0\\n594,0\\n595,1\\n596,1\\n597,0\\n598,0\\n599,1\\n600,1\\n601,1\\n602,1\\n603,1\\n604,0\\n605,1\\n606,1\\n607,1\\n608,0\\n609,1\\n610,1\\n611,1\\n612,0\\n613,0\\n614,1\\n615,0\\n616,1\\n617,0\\n618,0\\n619,0\\n620,1\\n621,0\\n622,1\\n623,1\\n624,1\\n625,1\\n626,0\\n627,0\\n628,1\\n629,1\\n630,0\\n631,1\\n632,1\\n633,1\\n634,0\\n635,1\\n636,0\\n637,1\\n638,1\\n639,1\\n640,1\\n641,1\\n642,0\\n643,0\\n644,1\\n645,0\\n646,1\\n647,1\\n648,1\\n649,1\\n650,1\\n651,0\\n652,1\\n653,0\\n654,0\\n655,1\\n656,1\\n657,1\\n658,0\\n659,0\\n660,0\\n661,1\\n662,1\\n663,1\\n664,1\\n665,1\\n666,0\\n667,1\\n668,1\\n669,0\\n670,0\\n671,0\\n672,1\\n673,1\\n674,0\\n675,0\\n676,1\\n677,0\\n678,0\\n679,0\\n680,0\\n681,1\\n682,1\\n683,0\\n684,0\\n685,1\\n686,0\\n687,0\\n688,0\\n689,1\\n690,0\\n691,0\\n692,1\\n693,1\\n694,0\\n695,0\\n696,1\\n697,1\\n698,0\\n699,1\\n700,1\\n701,0\\n702,0\\n703,0\\n704,1\\n705,0\\n706,0\\n707,0\\n708,0\\n709,1\\n710,0\\n711,0\\n712,0\\n713,0\\n714,1\\n715,0\\n716,0\\n717,1\\n718,1\\n719,0\\n720,0\\n721,0\\n722,0\\n723,1\\n724,1\\n725,0\\n726,0\\n727,1\\n728,1\\n729,0\\n730,1\\n731,0\\n732,0\\n733,1\\n734,0\\n735,1\\n736,0\\n737,0\\n738,0\\n739,0\\n740,0\\n741,1\\n742,1\\n743,1\\n744,0\\n745,1\\n746,1\\n747,1\\n748,0\\n749,1\\n750,0\\n751,1\\n752,0\\n753,1\\n754,0\\n755,1\\n756,1\\n757,0\\n758,1\\n759,0\\n760,1\\n761,0\\n762,0\\n763,0\\n764,1\\n765,1\\n766,1\\n767,0\\n768,1\\n769,1\\n770,1\\n771,0\\n772,1\\n773,1\\n774,0\\n775,0\\n776,1\\n777,0\\n778,1\\n779,0\\n780,1\\n781,1\\n782,1\\n783,1\\n784,1\\n785,1\\n786,0\\n787,0\\n788,0\\n789,0\\n790,0\\n791,1\\n792,1\\n793,0\\n794,1\\n795,0\\n796,0\\n797,0\\n798,1\\n799,0\\n800,1\\n801,1\\n802,0\\n803,1\\n804,0\\n805,0\\n806,1\\n807,0\\n808,1\\n809,0\\n810,1\\n811,0\\n812,1\\n813,1\\n814,1\\n815,1\\n816,0\\n817,0\\n818,0\\n819,1\\n820,0\\n821,0\\n822,0\\n823,0\\n824,0\\n825,1\\n826,0\\n827,1\\n828,0\\n829,0\\n830,0\\n831,1\\n832,0\\n833,1\\n834,0\\n835,0\\n836,0\\n837,0\\n838,1\\n839,0\\n840,0\\n841,1\\n842,1\\n843,1\\n844,1\\n845,0\\n846,1\\n847,1\\n848,0\\n849,1\\n850,0\\n851,1\\n852,0\\n853,1\\n854,0\\n855,1\\n856,1\\n857,0\\n858,1\\n859,0\\n860,1\\n861,1\\n862,1\\n863,0\\n864,1\\n865,1\\n866,1\\n867,1\\n868,1\\n869,1\\n870,1\\n871,1\\n872,1\\n873,1\\n874,1\\n875,0\\n876,0\\n877,0\\n878,1\\n879,1\\n880,0\\n881,1\\n882,0\\n883,0\\n884,0\\n885,1\\n886,0\\n887,1\\n888,1\\n889,1\\n890,0\\n891,1\\n892,0\\n893,0\\n894,1\\n895,1\\n896,0\\n897,0\\n898,1\\n899,1\\n900,0\\n901,0\\n902,1\\n903,0\\n904,0\\n905,1\\n906,1\\n907,0\\n908,1\\n909,0\\n910,1\\n911,1\\n912,1\\n913,1\\n914,1\\n915,1\\n916,1\\n917,0\\n918,0\\n919,1\\n920,1\\n921,1\\n922,1\\n923,1\\n924,0\\n925,1\\n926,0\\n927,0\\n928,0\\n929,1\\n930,0\\n931,0\\n932,1\\n933,1\\n934,1\\n935,0\\n936,1\\n937,0\\n938,1\\n939,0\\n940,0\\n941,1\\n942,0\\n943,0\\n944,0\\n945,1\\n946,1\\n947,0\\n948,1\\n949,0\\n950,1\\n951,1\\n952,0\\n953,0\\n954,0\\n955,0\\n956,1\\n957,0\\n958,1\\n959,1\\n960,1\\n961,0\\n962,1\\n963,0\\n964,1\\n965,0\\n966,0\\n967,0\\n968,0\\n969,1\\n970,0\\n971,0\\n972,1\\n973,0\\n974,1\\n975,1\\n976,1\\n977,0\\n978,1\\n979,0\\n980,0\\n981,0\\n982,0\\n983,1\\n984,1\\n985,0\\n986,1\\n987,0\\n988,1\\n989,1\\n990,0\\n991,1\\n992,0\\n993,1\\n994,0\\n995,1\\n996,0\\n997,0\\n998,1\\n999,0\\n1000,1\\n1001,0\\n1002,1\\n1003,1\\n1004,1\\n1005,1\\n1006,0\\n1007,0\\n1008,1\\n1009,0\\n1010,0\\n1011,1\\n1012,1\\n1013,0\\n1014,1\\n1015,0\\n1016,0\\n1017,0\\n1018,0\\n1019,1\\n1020,1\\n1021,1\\n1022,0\\n1023,0\\n1024,1\\n1025,1\\n1026,1\\n1027,0\\n1028,0\\n1029,1\\n1030,0\\n1031,0\\n1032,0\\n1033,0\\n1034,0\\n1035,0\\n1036,1\\n1037,1\\n1038,1\\n1039,0\\n1040,1\\n1041,1\\n1042,1\\n1043,0\\n1044,0\\n1045,1\\n1046,1\\n1047,1\\n1048,1\\n1049,1\\n1050,1\\n1051,1\\n1052,0\\n1053,1\\n1054,0\\n1055,0\\n1056,0\\n1057,1\\n1058,0\\n1059,1\\n1060,1\\n1061,0\\n1062,1\\n1063,1\\n1064,1\\n1065,1\\n1066,1\\n1067,1\\n1068,0\\n1069,1\\n1070,1\\n1071,0\\n1072,1\\n1073,1\\n1074,1\\n1075,0\\n1076,0\\n1077,1\\n1078,0\\n1079,0\\n1080,1\\n1081,0\\n1082,0\\n1083,1\\n1084,1\\n1085,1\\n1086,0\\n1087,0\\n1088,0\\n1089,1\\n1090,0\\n1091,0\\n1092,0\\n1093,0\\n1094,0\\n1095,0\\n1096,0\\n1097,1\\n1098,0\\n1099,1\\n1100,1\\n1101,1\\n1102,1\\n1103,0\\n1104,0\\n1105,0\\n1106,1\\n1107,1\\n1108,1\\n1109,1\\n1110,0\\n1111,1\\n1112,0\\n1113,1\\n1114,0\\n1115,0\\n1116,0\\n1117,0\\n1118,0\\n1119,1\\n1120,1\\n1121,0\\n1122,0\\n1123,1\\n1124,1\\n1125,0\\n1126,1\\n1127,0\\n1128,0\\n1129,1\\n1130,1\\n1131,0\\n1132,0\\n1133,1\\n1134,1\\n1135,1\\n1136,1\\n1137,1\\n1138,0\\n1139,1\\n1140,0\\n1141,1\\n1142,1\\n1143,0\\n1144,0\\n1145,1\\n1146,1\\n1147,1\\n1148,1\\n1149,1\\n1150,1\\n1151,1\\n1152,0\\n1153,1\\n1154,0\\n1155,0\\n1156,0\\n1157,1\\n1158,0\\n1159,1\\n1160,1\\n1161,1\\n1162,0\\n1163,0\\n1164,0\\n1165,1\\n1166,0\\n1167,0\\n1168,0\\n1169,0\\n1170,0\\n1171,0\\n1172,1\\n1173,0\\n1174,0\\n1175,0\\n1176,0\\n1177,1\\n1178,0\\n1179,0\\n1180,0\\n1181,0\\n1182,1\\n1183,1\\n1184,1\\n1185,0\\n1186,1\\n1187,1\\n1188,0\\n1189,0\\n1190,0\\n1191,0\\n1192,1\\n1193,1\\n1194,1\\n1195,1\\n1196,1\\n1197,0\\n1198,1\\n1199,0\\n1200,0\\n1201,1\\n1202,1\\n1203,1\\n1204,0\\n1205,0\\n1206,0\\n1207,0\\n1208,0\\n1209,1\\n1210,0\\n1211,0\\n1212,0\\n1213,1\\n1214,1\\n1215,1\\n1216,1\\n1217,0\\n1218,1\\n1219,0\\n1220,0\\n1221,0\\n1222,0\\n1223,1\\n1224,0\\n1225,0\\n1226,1\\n1227,0\\n1228,0\\n1229,0\\n1230,1\\n1231,0\\n1232,1\\n1233,1\\n1234,1\\n1235,0\\n1236,1\\n1237,0\\n1238,1\\n1239,1\\n1240,1\\n1241,0\\n1242,1\\n1243,1\\n1244,0\\n1245,0\\n1246,1\\n1247,0\\n1248,1\\n1249,1\\n1250,1\\n1251,0\\n1252,1\\n1253,1\\n1254,0\\n1255,1\\n1256,0\\n1257,0\\n1258,0\\n1259,1\\n1260,0\\n1261,1\\n1262,0\\n1263,0\\n1264,0\\n1265,1\\n1266,1\\n1267,1\\n1268,0\\n1269,1\\n1270,1\\n1271,1\\n1272,1\\n1273,1\\n1274,0\\n1275,1\\n1276,1\\n1277,0\\n1278,0\\n1279,0\\n1280,0\\n1281,0\\n1282,1\\n1283,1\\n1284,0\\n1285,0\\n1286,1\\n1287,1\\n1288,0\\n1289,1\\n1290,1\\n1291,0\\n1292,0\\n1293,0\\n1294,0\\n1295,0\\n1296,0\\n1297,0\\n1298,0\\n1299,1\\n1300,0\\n1301,0\\n1302,0\\n1303,0\\n1304,0\\n1305,0\\n1306,0\\n1307,0\\n1308,0\\n1309,1\\n1310,0\\n1311,1\\n1312,0\\n1313,0\\n1314,0\\n1315,1\\n1316,0\\n1317,0\\n1318,0\\n1319,0\\n1320,0\\n1321,0\\n1322,1\\n1323,1\\n1324,0\\n1325,0\\n1326,0\\n1327,0\\n1328,1\\n1329,1\\n1330,0\\n1331,0\\n1332,1\\n1333,0\\n1334,0\\n1335,0\\n1336,0\\n1337,1\\n1338,1\\n1339,0\\n1340,1\\n1341,1\\n1342,1\\n1343,0\\n1344,1\\n1345,0\\n1346,1\\n1347,1\\n1348,1\\n1349,0\\n1350,1\\n1351,1\\n1352,1\\n1353,1\\n1354,1\\n1355,1\\n1356,0\\n1357,0\\n1358,0\\n1359,0\\n1360,1\\n1361,1\\n1362,0\\n1363,0\\n1364,1\\n1365,0\\n1366,0\\n1367,0\\n1368,0\\n1369,1\\n1370,1\\n1371,0\\n1372,0\\n1373,0\\n1374,1\\n1375,0\\n1376,1\\n1377,1\\n1378,1\\n1379,1\\n1380,1\\n1381,1\\n1382,1\\n1383,1\\n1384,0\\n1385,0\\n1386,1\\n1387,0\\n1388,1\\n1389,0\\n1390,0\\n1391,0\\n1392,0\\n1393,0\\n1394,0\\n1395,0\\n1396,1\\n1397,1\\n1398,1\\n1399,0\\n1400,1\\n1401,0\\n1402,1\\n1403,0\\n1404,0\\n1405,1\\n1406,1\\n1407,1\\n1408,0\\n1409,1\\n1410,0\\n1411,1\\n1412,0\\n1413,0\\n1414,1\\n1415,0\\n1416,1\\n1417,0\\n1418,1\\n1419,0\\n1420,1\\n1421,0\\n1422,1\\n1423,1\\n1424,1\\n1425,0\\n1426,0\\n1427,0\\n1428,0\\n1429,0\\n1430,1\\n1431,0\\n1432,0\\n1433,1\\n1434,1\\n1435,1\\n1436,0\\n1437,1\\n1438,0\\n1439,0\\n1440,1\\n1441,0\\n1442,1\\n1443,1\\n1444,1\\n1445,1\\n1446,1\\n1447,0\\n1448,0\\n1449,0\\n1450,1\\n1451,1\\n1452,0\\n1453,1\\n1454,1\\n1455,1\\n1456,1\\n1457,0\\n1458,1\\n1459,0\\n1460,1\\n1461,1\\n1462,0\\n1463,0\\n1464,0\\n1465,0\\n1466,0\\n1467,0\\n1468,0\\n1469,0\\n1470,1\\n1471,0\\n1472,1\\n1473,0\\n1474,1\\n1475,1\\n1476,0\\n1477,1\\n1478,0\\n1479,1\\n1480,1\\n1481,1\\n1482,0\\n1483,0\\n1484,0\\n1485,0\\n1486,1\\n1487,1\\n1488,1\\n1489,1\\n1490,0\\n1491,0\\n1492,1\\n1493,0\\n1494,1\\n1495,1\\n1496,0\\n1497,1\\n1498,1\\n1499,1\\n1500,1\\n1501,1\\n1502,0\\n1503,0\\n1504,0\\n1505,1\\n1506,1\\n1507,0\\n1508,0\\n1509,1\\n1510,1\\n1511,1\\n1512,0\\n1513,1\\n1514,1\\n1515,1\\n1516,0\\n1517,1\\n1518,1\\n1519,0\\n1520,0\\n1521,0\\n1522,0\\n1523,0\\n1524,1\\n1525,0\\n1526,0\\n1527,1\\n1528,0\\n1529,1\\n1530,1\\n1531,0\\n1532,1\\n1533,0\\n1534,1\\n1535,0\\n1536,0\\n1537,0\\n1538,0\\n1539,1\\n1540,0\\n1541,0\\n1542,0\\n1543,1\\n1544,0\\n1545,0\\n1546,1\\n1547,1\\n1548,1\\n1549,0\\n1550,1\\n1551,1\\n1552,1\\n1553,1\\n1554,1\\n1555,1\\n1556,0\\n1557,0\\n1558,0\\n1559,1\\n1560,0\\n1561,1\\n1562,1\\n1563,0\\n1564,1\\n1565,0\\n1566,1\\n1567,0\\n1568,1\\n1569,1\\n1570,0\\n1571,0\\n1572,0\\n1573,1\\n1574,0\\n1575,0\\n1576,0\\n1577,0\\n1578,1\\n1579,0\\n1580,1\\n1581,1\\n1582,1\\n1583,0\\n1584,0\\n1585,0\\n1586,1\\n1587,1\\n1588,1\\n1589,0\\n1590,1\\n1591,1\\n1592,1\\n1593,1\\n1594,0\\n1595,0\\n1596,1\\n1597,1\\n1598,1\\n1599,0\\n1600,1\\n1601,1\\n1602,0\\n1603,1\\n1604,1\\n1605,1\\n1606,1\\n1607,1\\n1608,1\\n1609,1\\n1610,1\\n1611,0\\n1612,1\\n1613,1\\n1614,1\\n1615,0\\n1616,1\\n1617,0\\n1618,0\\n1619,1\\n1620,1\\n1621,0\\n1622,1\\n1623,1\\n1624,1\\n1625,1\\n1626,0\\n1627,0\\n1628,0\\n1629,0\\n1630,1\\n1631,0\\n1632,0\\n1633,0\\n1634,1\\n1635,0\\n1636,1\\n1637,1\\n1638,0\\n1639,0\\n1640,1\\n1641,1\\n1642,0\\n1643,0\\n1644,0\\n1645,1\\n1646,0\\n1647,0\\n1648,1\\n1649,1\\n1650,0\\n1651,1\\n1652,1\\n1653,1\\n1654,0\\n1655,1\\n1656,0\\n1657,1\\n1658,1\\n1659,0\\n1660,1\\n1661,1\\n1662,1\\n1663,0\\n1664,1\\n1665,0\\n1666,0\\n1667,1\\n1668,0\\n1669,0\\n1670,1\\n1671,1\\n1672,0\\n1673,0\\n1674,1\\n1675,1\\n1676,1\\n1677,1\\n1678,0\\n1679,0\\n1680,1\\n1681,1\\n1682,0\\n1683,0\\n1684,1\\n1685,0\\n1686,0\\n1687,0\\n1688,0\\n1689,0\\n1690,1\\n1691,1\\n1692,1\\n1693,0\\n1694,1\\n1695,0\\n1696,1\\n1697,1\\n1698,1\\n1699,1\\n1700,0\\n1701,1\\n1702,0\\n1703,1\\n1704,0\\n1705,1\\n1706,0\\n1707,0\\n1708,0\\n1709,1\\n1710,0\\n1711,0\\n1712,1\\n1713,0\\n1714,1\\n1715,0\\n1716,0\\n1717,0\\n1718,0\\n1719,1\\n1720,1\\n1721,1\\n1722,1\\n1723,1\\n1724,0\\n1725,0\\n1726,1\\n1727,0\\n1728,1\\n1729,1\\n1730,0\\n1731,1\\n1732,0\\n1733,0\\n1734,0\\n1735,0\\n1736,0\\n1737,0\\n1738,1\\n1739,0\\n1740,0\\n1741,0\\n1742,0\\n1743,1\\n1744,0\\n1745,0\\n1746,1\\n1747,0\\n1748,0\\n1749,0\\n1750,0\\n1751,0\\n1752,1\\n1753,0\\n1754,1\\n1755,1\\n1756,0\\n1757,0\\n1758,0\\n1759,1\\n1760,1\\n1761,1\\n1762,1\\n1763,0\\n1764,0\\n1765,0\\n1766,1\\n1767,0\\n1768,1\\n1769,0\\n1770,0\\n1771,1\\n1772,1\\n1773,1\\n1774,1\\n1775,0\\n1776,0\\n1777,0\\n1778,0\\n1779,0\\n1780,0\\n1781,1\\n1782,0\\n1783,0\\n1784,0\\n1785,0\\n1786,0\\n1787,0\\n1788,1\\n1789,0\\n1790,1\\n1791,0\\n1792,1\\n1793,0\\n1794,1\\n1795,0\\n1796,1\\n1797,0\\n1798,1\\n1799,1\\n1800,0\\n1801,1\\n1802,1\\n1803,1\\n1804,1\\n1805,0\\n1806,0\\n1807,0\\n1808,1\\n1809,0\\n1810,0\\n1811,1\\n1812,0\\n1813,1\\n1814,1\\n1815,0\\n1816,1\\n1817,1\\n1818,1\\n1819,0\\n1820,1\\n1821,0\\n1822,1\\n1823,1\\n1824,1\\n1825,0\\n1826,0\\n1827,0\\n1828,0\\n1829,1\\n1830,0\\n1831,0\\n1832,0\\n1833,0\\n1834,0\\n1835,0\\n1836,1\\n1837,0\\n1838,1\\n1839,1\\n1840,1\\n1841,0\\n1842,0\\n1843,0\\n1844,0\\n1845,1\\n1846,1\\n1847,0\\n1848,1\\n1849,1\\n1850,0\\n1851,0\\n1852,0\\n1853,0\\n1854,0\\n1855,1\\n1856,1\\n1857,1\\n1858,0\\n1859,1\\n1860,1\\n1861,0\\n1862,0\\n1863,1\\n1864,0\\n1865,1\\n1866,1\\n1867,1\\n1868,0\\n1869,1\\n1870,0\\n1871,0\\n1872,0\\n1873,1\\n1874,0\\n1875,1\\n1876,1\\n1877,1\\n1878,0\\n1879,1\\n1880,0\\n1881,1\\n1882,0\\n1883,1\\n1884,1\\n1885,1\\n1886,0\\n1887,0\\n1888,0\\n1889,0\\n1890,1\\n1891,0\\n1892,1\\n1893,1\\n1894,1\\n1895,0\\n1896,1\\n1897,1\\n1898,0\\n1899,0\\n1900,1\\n1901,0\\n1902,0\\n1903,0\\n1904,1\\n1905,1\\n1906,0\\n1907,1\\n1908,1\\n1909,0\\n1910,1\\n1911,0\\n1912,1\\n1913,1\\n1914,0\\n1915,1\\n1916,0\\n1917,0\\n1918,0\\n1919,0\\n1920,1\\n1921,0\\n1922,0\\n1923,0\\n1924,0\\n1925,0\\n1926,0\\n1927,0\\n1928,1\\n1929,1\\n1930,1\\n1931,0\\n1932,1\\n1933,1\\n1934,0\\n1935,0\\n1936,1\\n1937,0\\n1938,1\\n1939,1\\n1940,1\\n1941,0\\n1942,0\\n1943,1\\n1944,0\\n1945,1\\n1946,0\\n1947,1\\n1948,0\\n1949,0\\n1950,0\\n1951,1\\n1952,0\\n1953,1\\n1954,1\\n1955,1\\n1956,1\\n1957,0\\n1958,0\\n1959,1\\n1960,0\\n1961,0\\n1962,1\\n1963,0\\n1964,1\\n1965,0\\n1966,1\\n1967,0\\n1968,0\\n1969,1\\n1970,1\\n1971,1\\n1972,1\\n1973,0\\n1974,0\\n1975,1\\n1976,0\\n1977,1\\n1978,1\\n1979,0\\n1980,1\\n1981,1\\n1982,1\\n1983,1\\n1984,0\\n1985,1\\n1986,0\\n1987,0\\n1988,0\\n1989,1\\n1990,1\\n1991,0\\n1992,0\\n1993,1\\n1994,0\\n1995,0\\n1996,0\\n1997,0\\n1998,1\\n1999,0\\n2000,1\\n2001,1\\n2002,1\\n2003,1\\n2004,0\\n2005,0\\n2006,1\\n2007,1\\n2008,0\\n2009,0\\n2010,0\\n2011,1\\n2012,0\\n2013,1\\n2014,1\\n2015,0\\n2016,0\\n2017,1\\n2018,1\\n2019,0\\n2020,1\\n2021,0\\n2022,0\\n2023,0\\n2024,1\\n2025,1\\n2026,1\\n2027,0\\n2028,0\\n2029,0\\n2030,0\\n2031,1\\n2032,0\\n2033,1\\n2034,1\\n2035,0\\n2036,0\\n2037,1\\n2038,1\\n2039,0\\n2040,1\\n2041,0\\n2042,0\\n2043,0\\n2044,0\\n2045,1\\n2046,0\\n2047,0\\n2048,0\\n2049,0\\n2050,1\\n2051,1\\n2052,0\\n2053,0\\n2054,1\\n2055,1\\n2056,0\\n2057,1\\n2058,1\\n2059,1\\n2060,1\\n2061,0\\n2062,0\\n2063,0\\n2064,1\\n2065,1\\n2066,1\\n2067,0\\n2068,0\\n2069,0\\n2070,1\\n2071,1\\n2072,1\\n2073,0\\n2074,0\\n2075,1\\n2076,0\\n2077,1\\n2078,0\\n2079,1\\n2080,0\\n2081,0\\n2082,0\\n2083,1\\n2084,0\\n2085,1\\n2086,0\\n2087,1\\n2088,1\\n2089,0\\n2090,0\\n2091,0\\n2092,1\\n2093,1\\n2094,0\\n2095,0\\n2096,1\\n2097,0\\n2098,0\\n2099,0\\n2100,0\\n2101,0\\n2102,1\\n2103,0\\n2104,0\\n2105,1\\n2106,1\\n2107,0\\n2108,0\\n2109,1\\n2110,0\\n2111,1\\n2112,0\\n2113,1\\n2114,0\\n2115,0\\n2116,1\\n2117,0\\n2118,0\\n2119,0\\n2120,1\\n2121,1\\n2122,0\\n2123,0\\n2124,1\\n2125,1\\n2126,1\\n2127,0\\n2128,1\\n2129,0\\n2130,1\\n2131,0\\n2132,0\\n2133,0\\n2134,1\\n2135,0\\n2136,0\\n2137,1\\n2138,0\\n2139,1\\n2140,1\\n2141,0\\n2142,0\\n2143,1\\n2144,1\\n2145,1\\n2146,1\\n2147,1\\n2148,0\\n2149,1\\n2150,1\\n2151,1\\n2152,0\\n2153,0\\n2154,1\\n2155,1\\n2156,0\\n2157,1\\n2158,0\\n2159,1\\n2160,0\\n2161,0\\n2162,0\\n2163,1\\n2164,0\\n2165,0\\n2166,0\\n2167,1\\n2168,1\\n2169,1\\n2170,0\\n2171,0\\n2172,0\\n2173,1\\n2174,0\\n2175,1\\n2176,1\\n2177,0\\n2178,0\\n2179,0\\n2180,1\\n2181,1\\n2182,0\\n2183,0\\n2184,1\\n2185,0\\n2186,0\\n2187,1\\n2188,0\\n2189,0\\n2190,1\\n2191,1\\n2192,1\\n2193,0\\n2194,0\\n2195,0\\n2196,0\\n2197,0\\n2198,1\\n2199,0\\n2200,1\\n2201,0\\n2202,0\\n2203,0\\n2204,0\\n2205,1\\n2206,1\\n2207,0\\n2208,0\\n2209,0\\n2210,1\\n2211,0\\n2212,1\\n2213,1\\n2214,0\\n2215,1\\n2216,0\\n2217,1\\n2218,1\\n2219,1\\n2220,0\\n2221,0\\n2222,1\\n2223,1\\n2224,0\\n2225,0\\n2226,0\\n2227,0\\n2228,1\\n2229,0\\n2230,1\\n2231,0\\n2232,1\\n2233,1\\n2234,0\\n2235,1\\n2236,0\\n2237,0\\n2238,1\\n2239,0\\n2240,1\\n2241,1\\n2242,1\\n2243,1\\n2244,1\\n2245,1\\n2246,1\\n2247,1\\n2248,0\\n2249,1\\n2250,1\\n2251,0\\n2252,1\\n2253,0\\n2254,1\\n2255,1\\n2256,0\\n2257,0\\n2258,0\\n2259,0\\n2260,0\\n2261,0\\n2262,0\\n2263,1\\n2264,1\\n2265,0\\n2266,1\\n2267,0\\n2268,1\\n2269,0\\n2270,0\\n2271,1\\n2272,0\\n2273,1\\n2274,1\\n2275,0\\n2276,0\\n2277,1\\n2278,0\\n2279,1\\n2280,0\\n2281,0\\n2282,0\\n2283,1\\n2284,1\\n2285,1\\n2286,1\\n2287,1\\n2288,1\\n2289,0\\n2290,1\\n2291,1\\n2292,0\\n2293,1\\n2294,0\\n2295,0\\n2296,0\\n2297,0\\n2298,0\\n2299,0\\n2300,1\\n2301,1\\n2302,0\\n2303,1\\n2304,1\\n2305,1\\n2306,0\\n2307,1\\n2308,1\\n2309,1\\n2310,1\\n2311,1\\n2312,1\\n2313,0\\n2314,0\\n2315,1\\n2316,0\\n2317,1\\n2318,1\\n2319,0\\n2320,1\\n2321,1\\n2322,0\\n2323,1\\n2324,0\\n2325,1\\n2326,1\\n2327,0\\n2328,1\\n2329,0\\n2330,1\\n2331,1\\n2332,0\\n2333,1\\n2334,0\\n2335,1\\n2336,1\\n2337,1\\n2338,0\\n2339,1\\n2340,1\\n2341,1\\n2342,0\\n2343,0\\n2344,1\\n2345,1\\n2346,1\\n2347,0\\n2348,0\\n2349,1\\n2350,1\\n2351,0\\n2352,1\\n2353,1\\n2354,1\\n2355,1\\n2356,1\\n2357,0\\n2358,0\\n2359,0\\n2360,1\\n2361,0\\n2362,1\\n2363,1\\n2364,0\\n2365,0\\n2366,0\\n2367,1\\n2368,1\\n2369,0\\n2370,0\\n2371,0\\n2372,0\\n2373,1\\n2374,0\\n2375,1\\n2376,1\\n2377,1\\n2378,1\\n2379,1\\n2380,0\\n2381,0\\n2382,1\\n2383,0\\n2384,0\\n2385,0\\n2386,0\\n2387,0\\n2388,0\\n2389,1\\n2390,0\\n2391,1\\n2392,0\\n2393,0\\n2394,1\\n2395,0\\n2396,1\\n2397,1\\n2398,1\\n2399,1\\n2400,0\\n2401,0\\n2402,0\\n2403,0\\n2404,0\\n2405,0\\n2406,1\\n2407,1\\n2408,1\\n2409,1\\n2410,0\\n2411,0\\n2412,0\\n2413,0\\n2414,0\\n2415,1\\n2416,1\\n2417,1\\n2418,0\\n2419,1\\n2420,1\\n2421,1\\n2422,0\\n2423,1\\n2424,0\\n2425,0\\n2426,1\\n2427,0\\n2428,1\\n2429,1\\n2430,0\\n2431,1\\n2432,1\\n2433,1\\n2434,0\\n2435,0\\n2436,0\\n2437,1\\n2438,0\\n2439,0\\n2440,0\\n2441,1\\n2442,0\\n2443,1\\n2444,1\\n2445,1\\n2446,1\\n2447,1\\n2448,0\\n2449,0\\n2450,1\\n2451,1\\n2452,0\\n2453,0\\n2454,1\\n2455,0\\n2456,1\\n2457,0\\n2458,1\\n2459,0\\n2460,0\\n2461,1\\n2462,0\\n2463,1\\n2464,0\\n2465,0\\n2466,1\\n2467,0\\n2468,1\\n2469,0\\n2470,1\\n2471,0\\n2472,1\\n2473,0\\n2474,1\\n2475,0\\n2476,0\\n2477,0\\n2478,1\\n2479,0\\n2480,0\\n2481,0\\n2482,0\\n2483,1\\n2484,1\\n2485,0\\n2486,0\\n2487,0\\n2488,0\\n2489,1\\n2490,1\\n2491,0\\n2492,0\\n2493,0\\n2494,0\\n2495,1\\n2496,0\\n2497,0\\n2498,1\\n2499,0\\n2500,0\\n2501,1\\n2502,1\\n2503,0\\n2504,1\\n2505,0\\n2506,0\\n2507,1\\n2508,1\\n2509,1\\n2510,0\\n2511,1\\n2512,1\\n2513,0\\n2514,1\\n2515,0\\n2516,1\\n2517,1\\n2518,1\\n2519,1\\n2520,1\\n2521,0\\n2522,1\\n2523,0\\n2524,0\\n2525,1\\n2526,1\\n2527,0\\n2528,1\\n2529,0\\n2530,0\\n2531,0\\n2532,0\\n2533,0\\n2534,1\\n2535,1\\n2536,0\\n2537,1\\n2538,1\\n2539,1\\n2540,0\\n2541,1\\n2542,0\\n2543,0\\n2544,0\\n2545,1\\n2546,0\\n2547,0\\n2548,1\\n2549,0\\n2550,1\\n2551,0\\n2552,0\\n2553,1\\n2554,1\\n2555,1\\n2556,1\\n2557,0\\n2558,0\\n2559,0\\n2560,0\\n2561,1\\n2562,1\\n2563,1\\n2564,1\\n2565,1\\n2566,1\\n2567,1\\n2568,0\\n2569,0\\n2570,1\\n2571,1\\n2572,0\\n2573,1\\n2574,0\\n2575,1\\n2576,0\\n2577,0\\n2578,0\\n2579,1\\n2580,0\\n2581,0\\n2582,1\\n2583,1\\n2584,1\\n2585,0\\n2586,0\\n2587,0\\n2588,0\\n2589,0\\n2590,0\\n2591,0\\n2592,0\\n2593,0\\n2594,1\\n2595,0\\n2596,0\\n2597,1\\n2598,1\\n2599,0\\n2600,1\\n2601,0\\n2602,0\\n2603,0\\n2604,0\\n2605,1\\n2606,0\\n2607,0\\n2608,1\\n2609,1\\n2610,0\\n2611,1\\n2612,0\\n2613,0\\n2614,1\\n2615,1\\n2616,1\\n2617,1\\n2618,0\\n2619,0\\n2620,0\\n2621,0\\n2622,0\\n2623,1\\n2624,1\\n2625,1\\n2626,1\\n2627,1\\n2628,1\\n2629,1\\n2630,1\\n2631,0\\n2632,1\\n2633,0\\n2634,0\\n2635,0\\n2636,0\\n2637,1\\n2638,0\\n2639,1\\n2640,0\\n2641,1\\n2642,0\\n2643,1\\n2644,1\\n2645,1\\n2646,1\\n2647,1\\n2648,1\\n2649,1\\n2650,0\\n2651,1\\n2652,1\\n2653,1\\n2654,1\\n2655,1\\n2656,1\\n2657,1\\n2658,0\\n2659,0\\n2660,0\\n2661,1\\n2662,1\\n2663,1\\n2664,1\\n2665,1\\n2666,0\\n2667,0\\n2668,0\\n2669,0\\n2670,0\\n2671,1\\n2672,1\\n2673,0\\n2674,1\\n2675,0\\n2676,0\\n2677,1\\n2678,1\\n2679,0\\n2680,1\\n2681,1\\n2682,1\\n2683,0\\n2684,0\\n2685,1\\n2686,1\\n2687,0\\n2688,1\\n2689,1\\n2690,1\\n2691,1\\n2692,0\\n2693,1\\n2694,1\\n2695,1\\n2696,1\\n2697,0\\n2698,0\\n2699,0\\n2700,1\\n2701,0\\n2702,0\\n2703,1\\n2704,1\\n2705,1\\n2706,1\\n2707,1\\n2708,1\\n2709,0\\n2710,0\\n2711,0\\n2712,1\\n2713,0\\n2714,1\\n2715,1\\n2716,1\\n2717,0\\n2718,0\\n2719,1\\n2720,0\\n2721,0\\n2722,0\\n2723,0\\n2724,1\\n2725,1\\n2726,1\\n2727,0\\n2728,0\\n2729,1\\n2730,0\\n2731,1\\n2732,0\\n2733,0\\n2734,1\\n2735,1\\n2736,1\\n2737,1\\n2738,0\\n2739,1\\n2740,0\\n2741,1\\n2742,1\\n2743,1\\n2744,1\\n2745,1\\n2746,1\\n2747,0\\n2748,0\\n2749,0\\n2750,1\\n2751,1\\n2752,1\\n2753,0\\n2754,1\\n2755,1\\n2756,0\\n2757,1\\n2758,1\\n2759,0\\n2760,1\\n2761,0\\n2762,1\\n2763,0\\n2764,1\\n2765,1\\n2766,1\\n2767,1\\n2768,1\\n2769,1\\n2770,1\\n2771,1\\n2772,1\\n2773,0\\n2774,1\\n2775,1\\n2776,1\\n2777,1\\n2778,0\\n2779,1\\n2780,1\\n2781,1\\n2782,0\\n2783,1\\n2784,0\\n2785,0\\n2786,1\\n2787,0\\n2788,1\\n2789,0\\n2790,1\\n2791,0\\n2792,0\\n2793,0\\n2794,0\\n2795,1\\n2796,1\\n2797,0\\n2798,0\\n2799,0\\n2800,1\\n2801,0\\n2802,1\\n2803,0\\n2804,0\\n2805,0\\n2806,1\\n2807,1\\n2808,1\\n2809,1\\n2810,1\\n2811,0\\n2812,1\\n2813,0\\n2814,1\\n2815,0\\n2816,1\\n2817,0\\n2818,1\\n2819,1\\n2820,1\\n2821,0\\n2822,1\\n2823,1\\n2824,0\\n2825,0\\n2826,0\\n2827,1\\n2828,1\\n2829,1\\n2830,1\\n2831,0\\n2832,1\\n2833,0\\n2834,1\\n2835,1\\n2836,0\\n2837,0\\n2838,0\\n2839,1\\n2840,1\\n2841,1\\n2842,1\\n2843,1\\n2844,1\\n2845,0\\n2846,0\\n2847,0\\n2848,0\\n2849,1\\n2850,1\\n2851,1\\n2852,1\\n2853,1\\n2854,0\\n2855,0\\n2856,0\\n2857,0\\n2858,1\\n2859,1\\n2860,1\\n2861,1\\n2862,1\\n2863,1\\n2864,0\\n2865,0\\n2866,0\\n2867,0\\n2868,1\\n2869,0\\n2870,0\\n2871,1\\n2872,1\\n2873,1\\n2874,1\\n2875,0\\n2876,0\\n2877,0\\n2878,1\\n2879,0\\n2880,1\\n2881,0\\n2882,0\\n2883,1\\n2884,1\\n2885,1\\n2886,1\\n2887,0\\n2888,1\\n2889,0\\n2890,0\\n2891,0\\n2892,0\\n2893,0\\n2894,0\\n2895,1\\n2896,0\\n2897,0\\n2898,1\\n2899,0\\n2900,0\\n2901,0\\n2902,0\\n2903,0\\n2904,1\\n2905,0\\n2906,0\\n2907,1\\n2908,0\\n2909,1\\n2910,0\\n2911,1\\n2912,1\\n2913,0\\n2914,1\\n2915,0\\n2916,0\\n2917,0\\n2918,0\\n2919,1\\n2920,0\\n2921,0\\n2922,1\\n2923,0\\n2924,0\\n2925,1\\n2926,0\\n2927,0\\n2928,0\\n2929,1\\n2930,1\\n2931,1\\n2932,0\\n2933,0\\n2934,0\\n2935,0\\n2936,1\\n2937,1\\n2938,0\\n2939,0\\n2940,0\\n2941,0\\n2942,1\\n2943,0\\n2944,1\\n2945,0\\n2946,1\\n2947,0\\n2948,0\\n2949,1\\n2950,0\\n2951,1\\n2952,1\\n2953,1\\n2954,0\\n2955,0\\n2956,1\\n2957,0\\n2958,0\\n2959,1\\n2960,1\\n2961,1\\n2962,1\\n2963,1\\n2964,0\\n2965,1\\n2966,0\\n2967,1\\n2968,1\\n2969,1\\n2970,0\\n2971,0\\n2972,1\\n2973,1\\n2974,0\\n2975,1\\n2976,1\\n2977,0\\n2978,1\\n2979,1\\n2980,1\\n2981,0\\n2982,0\\n2983,0\\n2984,1\\n2985,0\\n2986,1\\n2987,1\\n2988,0\\n2989,0\\n2990,0\\n2991,1\\n2992,1\\n2993,1\\n2994,1\\n2995,1\\n2996,1\\n2997,1\\n2998,0\\n2999,0\\n3000,1\\n3001,1\\n3002,0\\n3003,1\\n3004,0\\n3005,1\\n3006,1\\n3007,0\\n3008,1\\n3009,0\\n3010,1\\n3011,0\\n3012,0\\n3013,0\\n3014,0\\n3015,0\\n3016,0\\n3017,1\\n3018,1\\n3019,1\\n3020,0\\n3021,0\\n3022,1\\n3023,1\\n3024,0\\n3025,1\\n3026,1\\n3027,1\\n3028,0\\n3029,0\\n3030,0\\n3031,1\\n3032,0\\n3033,0\\n3034,1\\n3035,0\\n3036,0\\n3037,0\\n3038,1\\n3039,1\\n3040,1\\n3041,0\\n3042,1\\n3043,1\\n3044,1\\n3045,1\\n3046,0\\n3047,1\\n3048,1\\n3049,1\\n3050,1\\n3051,1\\n3052,0\\n3053,1\\n3054,0\\n3055,1\\n3056,0\\n3057,1\\n3058,0\\n3059,1\\n3060,1\\n3061,1\\n3062,0\\n3063,1\\n3064,0\\n3065,0\\n3066,1\\n3067,0\\n3068,0\\n3069,0\\n3070,0\\n3071,1\\n3072,0\\n3073,1\\n3074,0\\n3075,1\\n3076,1\\n3077,0\\n3078,0\\n3079,1\\n3080,1\\n3081,1\\n3082,0\\n3083,1\\n3084,0\\n3085,1\\n3086,1\\n3087,0\\n3088,1\\n3089,0\\n3090,1\\n3091,0\\n3092,1\\n3093,0\\n3094,1\\n3095,0\\n3096,0\\n3097,1\\n3098,1\\n3099,1\\n3100,1\\n3101,0\\n3102,1\\n3103,0\\n3104,0\\n3105,1\\n3106,1\\n3107,0\\n3108,0\\n3109,0\\n3110,0\\n3111,1\\n3112,0\\n3113,1\\n3114,0\\n3115,0\\n3116,0\\n3117,1\\n3118,1\\n3119,0\\n3120,1\\n3121,1\\n3122,0\\n3123,0\\n3124,1\\n3125,1\\n3126,1\\n3127,0\\n3128,1\\n3129,0\\n3130,0\\n3131,1\\n3132,0\\n3133,1\\n3134,0\\n3135,0\\n3136,0\\n3137,0\\n3138,0\\n3139,1\\n3140,0\\n3141,1\\n3142,0\\n3143,0\\n3144,1\\n3145,1\\n3146,1\\n3147,1\\n3148,0\\n3149,1\\n3150,0\\n3151,0\\n3152,0\\n3153,0\\n3154,0\\n3155,1\\n3156,0\\n3157,0\\n3158,1\\n3159,1\\n3160,0\\n3161,1\\n3162,1\\n3163,1\\n3164,0\\n3165,1\\n3166,0\\n3167,1\\n3168,1\\n3169,1\\n3170,0\\n3171,1\\n3172,0\\n3173,1\\n3174,0\\n3175,0\\n3176,1\\n3177,0\\n3178,1\\n3179,1\\n3180,0\\n3181,0\\n3182,1\\n3183,0\\n3184,1\\n3185,1\\n3186,0\\n3187,1\\n3188,0\\n3189,0\\n3190,1\\n3191,1\\n3192,0\\n3193,0\\n3194,1\\n3195,0\\n3196,0\\n3197,1\\n3198,0\\n3199,0\\n3200,1\\n3201,1\\n3202,0\\n3203,0\\n3204,0\\n3205,0\\n3206,1\\n3207,1\\n3208,1\\n3209,0\\n3210,0\\n3211,0\\n3212,1\\n3213,0\\n3214,1\\n3215,1\\n3216,1\\n3217,1\\n3218,1\\n3219,0\\n3220,1\\n3221,0\\n3222,1\\n3223,1\\n3224,1\\n3225,1\\n3226,0\\n3227,1\\n3228,1\\n3229,1\\n3230,1\\n3231,1\\n3232,1\\n3233,1\\n3234,1\\n3235,1\\n3236,0\\n3237,0\\n3238,0\\n3239,1\\n3240,1\\n3241,1\\n3242,0\\n3243,0\\n3244,1\\n3245,0\\n3246,0\\n3247,0\\n3248,0\\n3249,0\\n3250,0\\n3251,0\\n3252,1\\n3253,1\\n3254,0\\n3255,1\\n3256,0\\n3257,1\\n3258,1\\n3259,0\\n3260,0\\n3261,0\\n3262,1\\n3263,1\\n3264,1\\n3265,1\\n3266,0\\n3267,1\\n3268,0\\n3269,0\\n3270,0\\n3271,1\\n3272,1\\n3273,1\\n3274,1\\n3275,1\\n3276,1\\n3277,1\\n3278,0\\n3279,0\\n3280,0\\n3281,1\\n3282,1\\n3283,0\\n3284,0\\n3285,1\\n3286,0\\n3287,1\\n3288,0\\n3289,0\\n3290,1\\n3291,0\\n3292,0\\n3293,1\\n3294,1\\n3295,0\\n3296,1\\n3297,0\\n3298,1\\n3299,0\\n3300,1\\n3301,0\\n3302,1\\n3303,0\\n3304,0\\n3305,1\\n3306,1\\n3307,1\\n3308,0\\n3309,1\\n3310,1\\n3311,1\\n3312,1\\n3313,0\\n3314,1\\n3315,0\\n3316,1\\n3317,0\\n3318,0\\n3319,1\\n3320,1\\n3321,1\\n3322,1\\n3323,0\\n3324,1\\n3325,0\\n3326,1\\n3327,0\\n3328,0\\n3329,1\\n3330,0\\n3331,1\\n3332,0\\n3333,0\\n3334,1\\n3335,1\\n3336,1\\n3337,0\\n3338,1\\n3339,1\\n3340,0\\n3341,1\\n3342,1\\n3343,0\\n3344,1\\n3345,1\\n3346,0\\n3347,1\\n3348,1\\n3349,0\\n3350,0\\n3351,0\\n3352,0\\n3353,1\\n3354,0\\n3355,1\\n3356,1\\n3357,1\\n3358,0\\n3359,1\\n3360,0\\n3361,1\\n3362,1\\n3363,0\\n3364,1\\n3365,1\\n3366,0\\n3367,1\\n3368,1\\n3369,1\\n3370,1\\n3371,0\\n3372,1\\n3373,0\\n3374,1\\n3375,0\\n3376,0\\n3377,0\\n3378,0\\n3379,1\\n3380,1\\n3381,0\\n3382,0\\n3383,0\\n3384,0\\n3385,0\\n3386,1\\n3387,1\\n3388,0\\n3389,0\\n3390,1\\n3391,0\\n3392,0\\n3393,1\\n3394,1\\n3395,1\\n3396,0\\n3397,0\\n3398,1\\n3399,1\\n3400,0\\n3401,1\\n3402,0\\n3403,1\\n3404,0\\n3405,0\\n3406,1\\n3407,1\\n3408,0\\n3409,1\\n3410,0\\n3411,0\\n3412,0\\n3413,1\\n3414,0\\n3415,0\\n3416,0\\n3417,1\\n3418,1\\n3419,0\\n3420,0\\n3421,1\\n3422,0\\n3423,1\\n3424,0\\n3425,0\\n3426,0\\n3427,0\\n3428,0\\n3429,1\\n3430,1\\n3431,0\\n3432,0\\n3433,1\\n3434,0\\n3435,0\\n3436,0\\n3437,0\\n3438,0\\n3439,1\\n3440,0\\n3441,1\\n3442,0\\n3443,1\\n3444,1\\n3445,1\\n3446,1\\n3447,0\\n3448,1\\n3449,0\\n3450,1\\n3451,0\\n3452,0\\n3453,1\\n3454,1\\n3455,1\\n3456,0\\n3457,0\\n3458,0\\n3459,0\\n3460,1\\n3461,0\\n3462,0\\n3463,0\\n3464,1\\n3465,1\\n3466,0\\n3467,1\\n3468,1\\n3469,0\\n3470,1\\n3471,1\\n3472,1\\n3473,0\\n3474,1\\n3475,1\\n3476,0\\n3477,1\\n3478,1\\n3479,1\\n3480,0\\n3481,0\\n3482,1\\n3483,1\\n3484,1\\n3485,0\\n3486,0\\n3487,1\\n3488,1\\n3489,1\\n3490,1\\n3491,0\\n3492,0\\n3493,1\\n3494,0\\n3495,0\\n3496,0\\n3497,1\\n3498,1\\n3499,1\\n3500,1\\n3501,1\\n3502,1\\n3503,0\\n3504,0\\n3505,1\\n3506,0\\n3507,1\\n3508,0\\n3509,0\\n3510,0\\n3511,1\\n3512,1\\n3513,1\\n3514,1\\n3515,1\\n3516,1\\n3517,0\\n3518,0\\n3519,1\\n3520,0\\n3521,0\\n3522,0\\n3523,0\\n3524,1\\n3525,1\\n3526,0\\n3527,0\\n3528,0\\n3529,1\\n3530,1\\n3531,1\\n3532,1\\n3533,0\\n3534,0\\n3535,0\\n3536,1\\n3537,1\\n3538,0\\n3539,1\\n3540,0\\n3541,0\\n3542,1\\n3543,0\\n3544,0\\n3545,0\\n3546,0\\n3547,0\\n3548,1\\n3549,0\\n3550,1\\n3551,0\\n3552,0\\n3553,0\\n3554,0\\n3555,0\\n3556,0\\n3557,0\\n3558,1\\n3559,1\\n3560,1\\n3561,1\\n3562,1\\n3563,0\\n3564,1\\n3565,0\\n3566,0\\n3567,0\\n3568,0\\n3569,1\\n3570,1\\n3571,1\\n3572,1\\n3573,0\\n3574,1\\n3575,1\\n3576,1\\n3577,1\\n3578,0\\n3579,1\\n3580,1\\n3581,0\\n3582,0\\n3583,1\\n3584,0\\n3585,1\\n3586,1\\n3587,0\\n3588,0\\n3589,0\\n3590,0\\n3591,0\\n3592,0\\n3593,0\\n3594,1\\n3595,1\\n3596,0\\n3597,1\\n3598,0\\n3599,0\\n3600,1\\n3601,0\\n3602,1\\n3603,1\\n3604,1\\n3605,0\\n3606,0\\n3607,0\\n3608,0\\n3609,0\\n3610,0\\n3611,0\\n3612,1\\n3613,0\\n3614,0\\n3615,1\\n3616,1\\n3617,1\\n3618,0\\n3619,1\\n3620,1\\n3621,0\\n3622,0\\n3623,1\\n3624,1\\n3625,0\\n3626,1\\n3627,0\\n3628,1\\n3629,1\\n3630,0\\n3631,0\\n3632,1\\n3633,0\\n3634,1\\n3635,1\\n3636,0\\n3637,1\\n3638,1\\n3639,1\\n3640,0\\n3641,1\\n3642,0\\n3643,1\\n3644,0\\n3645,1\\n3646,1\\n3647,0\\n3648,0\\n3649,1\\n3650,1\\n3651,0\\n3652,0\\n3653,1\\n3654,1\\n3655,0\\n3656,0\\n3657,1\\n3658,0\\n3659,0\\n3660,0\\n3661,1\\n3662,0\\n3663,0\\n3664,1\\n3665,1\\n3666,1\\n3667,1\\n3668,0\\n3669,1\\n3670,1\\n3671,0\\n3672,1\\n3673,0\\n3674,1\\n3675,1\\n3676,0\\n3677,1\\n3678,0\\n3679,0\\n3680,0\\n3681,1\\n3682,1\\n3683,1\\n3684,1\\n3685,1\\n3686,0\\n3687,0\\n3688,1\\n3689,1\\n3690,0\\n3691,0\\n3692,0\\n3693,0\\n3694,0\\n3695,1\\n3696,1\\n3697,0\\n3698,1\\n3699,0\\n3700,0\\n3701,0\\n3702,1\\n3703,0\\n3704,1\\n3705,0\\n3706,1\\n3707,0\\n3708,0\\n3709,0\\n3710,0\\n3711,0\\n3712,1\\n3713,0\\n3714,1\\n3715,0\\n3716,0\\n3717,1\\n3718,1\\n3719,0\\n3720,1\\n3721,1\\n3722,1\\n3723,0\\n3724,0\\n3725,1\\n3726,0\\n3727,0\\n3728,0\\n3729,1\\n3730,0\\n3731,0\\n3732,1\\n3733,1\\n3734,1\\n3735,1\\n3736,1\\n3737,0\\n3738,1\\n3739,0\\n3740,0\\n3741,1\\n3742,0\\n3743,0\\n3744,0\\n3745,0\\n3746,1\\n3747,0\\n3748,0\\n3749,0\\n3750,0\\n3751,1\\n3752,1\\n3753,0\\n3754,1\\n3755,0\\n3756,1\\n3757,1\\n3758,0\\n3759,1\\n3760,1\\n3761,1\\n3762,1\\n3763,0\\n3764,1\\n3765,1\\n3766,0\\n3767,0\\n3768,0\\n3769,1\\n3770,1\\n3771,1\\n3772,1\\n3773,1\\n3774,0\\n3775,0\\n3776,0\\n3777,0\\n3778,1\\n3779,1\\n3780,1\\n3781,0\\n3782,1\\n3783,1\\n3784,1\\n3785,0\\n3786,1\\n3787,0\\n3788,0\\n3789,0\\n3790,1\\n3791,0\\n3792,1\\n3793,0\\n3794,1\\n3795,0\\n3796,1\\n3797,0\\n3798,0\\n3799,0\\n3800,0\\n3801,0\\n3802,1\\n3803,1\\n3804,0\\n3805,0\\n3806,0\\n3807,1\\n3808,0\\n3809,0\\n3810,0\\n3811,0\\n3812,0\\n3813,0\\n3814,0\\n3815,0\\n3816,0\\n3817,0\\n3818,1\\n3819,0\\n3820,1\\n3821,1\\n3822,0\\n3823,1\\n3824,0\\n3825,1\\n3826,1\\n3827,0\\n3828,0\\n3829,0\\n3830,1\\n3831,1\\n3832,1\\n3833,1\\n3834,1\\n3835,1\\n3836,1\\n3837,0\\n3838,0\\n3839,1\\n3840,1\\n3841,1\\n3842,0\\n3843,1\\n3844,0\\n3845,0\\n3846,1\\n3847,0\\n3848,1\\n3849,0\\n3850,0\\n3851,0\\n3852,1\\n3853,1\\n3854,0\\n3855,0\\n3856,1\\n3857,0\\n3858,1\\n3859,1\\n3860,1\\n3861,1\\n3862,1\\n3863,1\\n3864,1\\n3865,0\\n3866,0\\n3867,1\\n3868,0\\n3869,1\\n3870,1\\n3871,1\\n3872,0\\n3873,1\\n3874,1\\n3875,0\\n3876,0\\n3877,0\\n3878,0\\n3879,0\\n3880,0\\n3881,0\\n3882,0\\n3883,0\\n3884,0\\n3885,0\\n3886,1\\n3887,1\\n3888,1\\n3889,0\\n3890,0\\n3891,1\\n3892,0\\n3893,1\\n3894,1\\n3895,0\\n3896,0\\n3897,1\\n3898,1\\n3899,1\\n3900,1\\n3901,1\\n3902,0\\n3903,1\\n3904,1\\n3905,1\\n3906,1\\n3907,1\\n3908,0\\n3909,1\\n3910,1\\n3911,1\\n3912,1\\n3913,0\\n3914,0\\n3915,1\\n3916,0\\n3917,0\\n3918,1\\n3919,0\\n3920,1\\n3921,1\\n3922,0\\n3923,0\\n3924,1\\n3925,1\\n3926,0\\n3927,1\\n3928,1\\n3929,0\\n3930,0\\n3931,1\\n3932,0\\n3933,0\\n3934,1\\n3935,0\\n3936,1\\n3937,1\\n3938,0\\n3939,1\\n3940,1\\n3941,0\\n3942,0\\n3943,1\\n3944,1\\n3945,1\\n3946,1\\n3947,0\\n3948,1\\n3949,1\\n3950,0\\n3951,1\\n3952,1\\n3953,0\\n3954,0\\n3955,0\\n3956,1\\n3957,1\\n3958,0\\n3959,1\\n3960,0\\n3961,1\\n3962,1\\n3963,0\\n3964,0\\n3965,0\\n3966,0\\n3967,0\\n3968,0\\n3969,0\\n3970,1\\n3971,1\\n3972,1\\n3973,0\\n3974,0\\n3975,0\\n3976,0\\n3977,0\\n3978,1\\n3979,0\\n3980,1\\n3981,0\\n3982,1\\n3983,1\\n3984,1\\n3985,0\\n3986,0\\n3987,0\\n3988,0\\n3989,1\\n3990,1\\n3991,1\\n3992,1\\n3993,1\\n3994,1\\n3995,0\\n3996,0\\n3997,0\\n3998,1\\n3999,0\\n4000,1\\n4001,1\\n4002,1\\n4003,0\\n4004,0\\n4005,0\\n4006,0\\n4007,0\\n4008,1\\n4009,1\\n4010,1\\n4011,0\\n4012,1\\n4013,1\\n4014,0\\n4015,1\\n4016,0\\n4017,0\\n4018,1\\n4019,1\\n4020,0\\n4021,0\\n4022,0\\n4023,1\\n4024,1\\n4025,0\\n4026,1\\n4027,1\\n4028,1\\n4029,1\\n4030,0\\n4031,0\\n4032,1\\n4033,1\\n4034,0\\n4035,1\\n4036,0\\n4037,1\\n4038,0\\n4039,0\\n4040,1\\n4041,1\\n4042,0\\n4043,1\\n4044,0\\n4045,0\\n4046,0\\n4047,1\\n4048,1\\n4049,1\\n4050,0\\n4051,1\\n4052,1\\n4053,1\\n4054,0\\n4055,0\\n4056,0\\n4057,1\\n4058,0\\n4059,1\\n4060,1\\n4061,0\\n4062,1\\n4063,1\\n4064,1\\n4065,1\\n4066,0\\n4067,1\\n4068,0\\n4069,0\\n4070,0\\n4071,0\\n4072,1\\n4073,0\\n4074,1\\n4075,1\\n4076,0\\n4077,0\\n4078,0\\n4079,0\\n4080,0\\n4081,1\\n4082,1\\n4083,0\\n4084,0\\n4085,1\\n4086,0\\n4087,1\\n4088,0\\n4089,1\\n4090,1\\n4091,0\\n4092,1\\n4093,1\\n4094,1\\n4095,1\\n4096,1\\n4097,1\\n4098,0\\n4099,1\\n4100,0\\n4101,1\\n4102,0\\n4103,1\\n4104,1\\n4105,1\\n4106,1\\n4107,0\\n4108,1\\n4109,0\\n4110,0\\n4111,1\\n4112,1\\n4113,1\\n4114,0\\n4115,0\\n4116,1\\n4117,1\\n4118,1\\n4119,1\\n4120,0\\n4121,0\\n4122,1\\n4123,0\\n4124,1\\n4125,1\\n4126,0\\n4127,0\\n4128,1\\n4129,0\\n4130,1\\n4131,1\\n4132,1\\n4133,0\\n4134,1\\n4135,0\\n4136,1\\n4137,0\\n4138,1\\n4139,1\\n4140,0\\n4141,0\\n4142,1\\n4143,0\\n4144,0\\n4145,0\\n4146,1\\n4147,0\\n4148,1\\n4149,0\\n4150,0\\n4151,1\\n4152,0\\n4153,0\\n4154,1\\n4155,0\\n4156,0\\n4157,1\\n4158,0\\n4159,1\\n4160,0\\n4161,0\\n4162,1\\n4163,0\\n4164,0\\n4165,1\\n4166,0\\n4167,1\\n4168,0\\n4169,1\\n4170,1\\n4171,0\\n4172,0\\n4173,1\\n4174,1\\n4175,1\\n4176,0\\n4177,0\\n4178,0\\n4179,0\\n4180,1\\n4181,0\\n4182,0\\n4183,1\\n4184,1\\n4185,0\\n4186,1\\n4187,0\\n4188,0\\n4189,1\\n4190,1\\n4191,0\\n4192,0\\n4193,0\\n4194,1\\n4195,0\\n4196,1\\n4197,1\\n4198,1\\n4199,1\\n4200,1\\n4201,1\\n4202,1\\n4203,1\\n4204,0\\n4205,1\\n4206,1\\n4207,0\\n4208,0\\n4209,1\\n4210,1\\n4211,1\\n4212,0\\n4213,1\\n4214,0\\n4215,0\\n4216,0\\n4217,1\\n4218,1\\n4219,1\\n4220,0\\n4221,1\\n4222,1\\n4223,0\\n4224,0\\n4225,0\\n4226,0\\n4227,1\\n4228,1\\n4229,1\\n4230,1\\n4231,1\\n4232,1\\n4233,0\\n4234,0\\n4235,0\\n4236,1\\n4237,0\\n4238,0\\n4239,1\\n4240,1\\n4241,1\\n4242,1\\n4243,0\\n4244,0\\n4245,0\\n4246,1\\n4247,0\\n4248,1\\n4249,0\\n4250,0\\n4251,0\\n4252,0\\n4253,1\\n4254,1\\n4255,1\\n4256,0\\n4257,0\\n4258,1\\n4259,1\\n4260,1\\n4261,1\\n4262,0\\n4263,1\\n4264,1\\n4265,1\\n4266,1\\n4267,1\\n4268,1\\n4269,0\\n4270,1\\n4271,1\\n4272,1\\n4273,1\\n4274,1\\n4275,0\\n4276,1\\n4277,1\\n4278,0\\n4279,0\\n4280,1\\n4281,1\\n4282,0\\n4283,0\\n4284,0\\n4285,0\\n4286,1\\n4287,0\\n4288,1\\n4289,0\\n4290,0\\n4291,0\\n4292,1\\n4293,1\\n4294,1\\n4295,1\\n4296,1\\n4297,0\\n4298,1\\n4299,1\\n4300,1\\n4301,1\\n4302,0\\n4303,1\\n4304,0\\n4305,1\\n4306,0\\n4307,1\\n4308,0\\n4309,1\\n4310,1\\n4311,1\\n4312,0\\n4313,0\\n4314,0\\n4315,0\\n4316,1\\n4317,0\\n4318,0\\n4319,0\\n4320,1\\n4321,0\\n4322,0\\n4323,0\\n4324,0\\n4325,0\\n4326,1\\n4327,0\\n4328,1\\n4329,0\\n4330,0\\n4331,0\\n4332,1\\n4333,1\\n4334,0\\n4335,0\\n4336,1\\n4337,1\\n4338,1\\n4339,1\\n4340,0\\n4341,1\\n4342,1\\n4343,0\\n4344,1\\n4345,0\\n4346,0\\n4347,1\\n4348,1\\n4349,1\\n4350,0\\n4351,1\\n4352,1\\n4353,0\\n4354,1\\n4355,0\\n4356,1\\n4357,1\\n4358,0\\n4359,1\\n4360,0\\n4361,0\\n4362,1\\n4363,1\\n4364,0\\n4365,1\\n4366,0\\n4367,1\\n4368,1\\n4369,1\\n4370,1\\n4371,0\\n4372,1\\n4373,0\\n4374,1\\n4375,1\\n4376,0\\n4377,0\\n4378,1\\n4379,1\\n4380,0\\n4381,1\\n4382,0\\n4383,0\\n4384,0\\n4385,0\\n4386,0\\n4387,1\\n4388,1\\n4389,1\\n4390,0\\n4391,0\\n4392,0\\n4393,1\\n4394,1\\n4395,1\\n4396,0\\n4397,1\\n4398,0\\n4399,1\\n4400,0\\n4401,1\\n4402,0\\n4403,0\\n4404,1\\n4405,0\\n4406,0\\n4407,0\\n4408,0\\n4409,0\\n4410,1\\n4411,0\\n4412,1\\n4413,1\\n4414,1\\n4415,0\\n4416,0\\n4417,1\\n4418,0\\n4419,0\\n4420,1\\n4421,1\\n4422,1\\n4423,1\\n4424,0\\n4425,1\\n4426,0\\n4427,0\\n4428,0\\n4429,1\\n4430,0\\n4431,0\\n4432,1\\n4433,0\\n4434,1\\n4435,0\\n4436,0\\n4437,0\\n4438,0\\n4439,1\\n4440,1\\n4441,1\\n4442,1\\n4443,1\\n4444,0\\n4445,1\\n4446,0\\n4447,0\\n4448,0\\n4449,0\\n4450,1\\n4451,0\\n4452,0\\n4453,0\\n4454,1\\n4455,1\\n4456,1\\n4457,0\\n4458,0\\n4459,0\\n4460,0\\n4461,0\\n4462,1\\n4463,0\\n4464,1\\n4465,0\\n4466,1\\n4467,1\\n4468,1\\n4469,1\\n4470,0\\n4471,0\\n4472,1\\n4473,1\\n4474,0\\n4475,0\\n4476,0\\n4477,1\\n4478,1\\n4479,1\\n4480,1\\n4481,1\\n4482,0\\n4483,1\\n4484,0\\n4485,1\\n4486,1\\n4487,1\\n4488,0\\n4489,0\\n4490,0\\n4491,1\\n4492,0\\n4493,0\\n4494,1\\n4495,1\\n4496,0\\n4497,1\\n4498,1\\n4499,1\\n4500,0\\n4501,0\\n4502,0\\n4503,0\\n4504,0\\n4505,1\\n4506,0\\n4507,1\\n4508,1\\n4509,1\\n4510,0\\n4511,1\\n4512,0\\n4513,1\\n4514,0\\n4515,1\\n4516,0\\n4517,1\\n4518,0\\n4519,1\\n4520,0\\n4521,0\\n4522,0\\n4523,0\\n4524,1\\n4525,1\\n4526,0\\n4527,1\\n4528,1\\n4529,1\\n4530,1\\n4531,0\\n4532,1\\n4533,0\\n4534,0\\n4535,0\\n4536,0\\n4537,0\\n4538,1\\n4539,0\\n4540,1\\n4541,0\\n4542,1\\n4543,1\\n4544,1\\n4545,0\\n4546,0\\n4547,1\\n4548,1\\n4549,0\\n4550,0\\n4551,0\\n4552,1\\n4553,0\\n4554,0\\n4555,0\\n4556,1\\n4557,1\\n4558,1\\n4559,1\\n4560,1\\n4561,0\\n4562,0\\n4563,1\\n4564,1\\n4565,1\\n4566,1\\n4567,1\\n4568,0\\n4569,1\\n4570,1\\n4571,0\\n4572,1\\n4573,1\\n4574,0\\n4575,1\\n4576,1\\n4577,1\\n4578,0\\n4579,1\\n4580,1\\n4581,0\\n4582,0\\n4583,1\\n4584,1\\n4585,1\\n4586,0\\n4587,0\\n4588,1\\n4589,0\\n4590,0\\n4591,0\\n4592,1\\n4593,1\\n4594,1\\n4595,1\\n4596,0\\n4597,1\\n4598,1\\n4599,1\\n4600,1\\n4601,0\\n4602,0\\n4603,1\\n4604,0\\n4605,1\\n4606,1\\n4607,1\\n4608,1\\n4609,0\\n4610,1\\n4611,0\\n4612,0\\n4613,1\\n4614,0\\n4615,1\\n4616,1\\n4617,0\\n4618,1\\n4619,1\\n4620,0\\n4621,0\\n4622,0\\n4623,1\\n4624,1\\n4625,0\\n4626,0\\n4627,1\\n4628,0\\n4629,0\\n4630,0\\n4631,1\\n4632,1\\n4633,0\\n4634,1\\n4635,0\\n4636,1\\n4637,1\\n4638,1\\n4639,1\\n4640,0\\n4641,1\\n4642,0\\n4643,0\\n4644,0\\n4645,1\\n4646,1\\n4647,0\\n4648,0\\n4649,1\\n4650,0\\n4651,1\\n4652,0\\n4653,0\\n4654,0\\n4655,1\\n4656,1\\n4657,1\\n4658,0\\n4659,1\\n4660,0\\n4661,0\\n4662,0\\n4663,1\\n4664,0\\n4665,1\\n4666,1\\n4667,0\\n4668,1\\n4669,0\\n4670,0\\n4671,0\\n4672,1\\n4673,0\\n4674,0\\n4675,0\\n4676,1\\n4677,0\\n4678,1\\n4679,1\\n4680,0\\n4681,0\\n4682,1\\n4683,1\\n4684,1\\n4685,0\\n4686,1\\n4687,1\\n4688,1\\n4689,1\\n4690,1\\n4691,0\\n4692,0\\n4693,1\\n4694,1\\n4695,0\\n4696,0\\n4697,1\\n4698,0\\n4699,0\\n4700,1\\n4701,1\\n4702,1\\n4703,1\\n4704,0\\n4705,0\\n4706,1\\n4707,0\\n4708,1\\n4709,0\\n4710,0\\n4711,0\\n4712,0\\n4713,1\\n4714,1\\n4715,1\\n4716,1\\n4717,1\\n4718,0\\n4719,0\\n4720,0\\n4721,1\\n4722,0\\n4723,1\\n4724,0\\n4725,0\\n4726,1\\n4727,0\\n4728,0\\n4729,1\\n4730,1\\n4731,0\\n4732,1\\n4733,0\\n4734,0\\n4735,1\\n4736,1\\n4737,1\\n4738,1\\n4739,0\\n4740,0\\n4741,1\\n4742,0\\n4743,1\\n4744,1\\n4745,0\\n4746,1\\n4747,1\\n4748,1\\n4749,1\\n4750,0\\n4751,1\\n4752,0\\n4753,1\\n4754,0\\n4755,1\\n4756,0\\n4757,0\\n4758,1\\n4759,1\\n4760,1\\n4761,0\\n4762,0\\n4763,1\\n4764,1\\n4765,0\\n4766,0\\n4767,1\\n4768,0\\n4769,1\\n4770,1\\n4771,0\\n4772,0\\n4773,1\\n4774,0\\n4775,0\\n4776,1\\n4777,0\\n4778,0\\n4779,0\\n4780,1\\n4781,1\\n4782,1\\n4783,0\\n4784,1\\n4785,0\\n4786,0\\n4787,1\\n4788,0\\n4789,1\\n4790,1\\n4791,0\\n4792,0\\n4793,1\\n4794,1\\n4795,0\\n4796,1\\n4797,1\\n4798,1\\n4799,0\\n4800,1\\n4801,0\\n4802,1\\n4803,1\\n4804,0\\n4805,1\\n4806,1\\n4807,0\\n4808,0\\n4809,1\\n4810,1\\n4811,1\\n4812,0\\n4813,1\\n4814,1\\n4815,0\\n4816,0\\n4817,1\\n4818,1\\n4819,0\\n4820,0\\n4821,1\\n4822,0\\n4823,1\\n4824,0\\n4825,0\\n4826,1\\n4827,1\\n4828,0\\n4829,0\\n4830,0\\n4831,0\\n4832,0\\n4833,0\\n4834,1\\n4835,0\\n4836,1\\n4837,1\\n4838,1\\n4839,0\\n4840,1\\n4841,1\\n4842,0\\n4843,1\\n4844,0\\n4845,1\\n4846,1\\n4847,1\\n4848,0\\n4849,1\\n4850,0\\n4851,1\\n4852,0\\n4853,0\\n4854,1\\n4855,0\\n4856,0\\n4857,0\\n4858,0\\n4859,1\\n4860,1\\n4861,1\\n4862,0\\n4863,0\\n4864,1\\n4865,1\\n4866,0\\n4867,0\\n4868,0\\n4869,0\\n4870,1\\n4871,1\\n4872,1\\n4873,1\\n4874,0\\n4875,1\\n4876,1\\n4877,1\\n4878,0\\n4879,1\\n4880,1\\n4881,1\\n4882,0\\n4883,0\\n4884,0\\n4885,0\\n4886,0\\n4887,1\\n4888,0\\n4889,0\\n4890,0\\n4891,0\\n4892,0\\n4893,1\\n4894,1\\n4895,1\\n4896,1\\n4897,0\\n4898,1\\n4899,1\\n4900,1\\n4901,1\\n4902,0\\n4903,0\\n4904,0\\n4905,0\\n4906,0\\n4907,0\\n4908,1\\n4909,1\\n4910,1\\n4911,1\\n4912,1\\n4913,1\\n4914,1\\n4915,1\\n4916,0\\n4917,1\\n4918,0\\n4919,1\\n4920,0\\n4921,1\\n4922,0\\n4923,1\\n4924,0\\n4925,1\\n4926,1\\n4927,1\\n4928,1\\n4929,0\\n4930,1\\n4931,1\\n4932,1\\n4933,0\\n4934,1\\n4935,1\\n4936,0\\n4937,1\\n4938,1\\n4939,0\\n4940,0\\n4941,0\\n4942,1\\n4943,0\\n4944,0\\n4945,1\\n4946,1\\n4947,1\\n4948,1\\n4949,1\\n4950,0\\n4951,1\\n4952,0\\n4953,1\\n4954,0\\n4955,1\\n4956,1\\n4957,1\\n4958,1\\n4959,1\\n4960,0\\n4961,1\\n4962,0\\n4963,1\\n4964,0\\n4965,1\\n4966,0\\n4967,1\\n4968,0\\n4969,0\\n4970,0\\n4971,0\\n4972,0\\n4973,0\\n4974,1\\n4975,1\\n4976,0\\n4977,0\\n4978,1\\n4979,0\\n4980,1\\n4981,1\\n4982,0\\n4983,1\\n4984,1\\n4985,1\\n4986,1\\n4987,1\\n4988,1\\n4989,0\\n4990,0\\n4991,0\\n4992,0\\n4993,0\\n4994,0\\n4995,1\\n4996,0\\n4997,1\\n4998,1\\n4999,0\\n5000,0\\n5001,1\\n5002,0\\n5003,0\\n5004,1\\n5005,0\\n5006,1\\n5007,1\\n5008,0\\n5009,1\\n5010,1\\n5011,0\\n5012,1\\n5013,1\\n5014,1\\n5015,1\\n5016,0\\n5017,1\\n5018,1\\n5019,0\\n5020,1\\n5021,1\\n5022,0\\n5023,1\\n5024,0\\n5025,0\\n5026,0\\n5027,0\\n5028,0\\n5029,0\\n5030,1\\n5031,0\\n5032,1\\n5033,1\\n5034,0\\n5035,1\\n5036,1\\n5037,0\\n5038,0\\n5039,0\\n5040,1\\n5041,1\\n5042,0\\n5043,1\\n5044,1\\n5045,1\\n5046,1\\n5047,1\\n5048,1\\n5049,1\\n5050,1\\n5051,0\\n5052,0\\n5053,0\\n5054,1\\n5055,1\\n5056,1\\n5057,1\\n5058,0\\n5059,1\\n5060,1\\n5061,0\\n5062,1\\n5063,1\\n5064,1\\n5065,0\\n5066,0\\n5067,0\\n5068,0\\n5069,0\\n5070,1\\n5071,0\\n5072,1\\n5073,1\\n5074,0\\n5075,1\\n5076,0\\n5077,0\\n5078,0\\n5079,0\\n5080,1\\n5081,1\\n5082,0\\n5083,0\\n5084,0\\n5085,1\\n5086,0\\n5087,1\\n5088,0\\n5089,1\\n5090,0\\n5091,0\\n5092,0\\n5093,1\\n5094,1\\n5095,0\\n5096,1\\n5097,0\\n5098,0\\n5099,1\\n5100,1\\n5101,1\\n5102,1\\n5103,1\\n5104,1\\n5105,0\\n5106,0\\n5107,1\\n5108,0\\n5109,1\\n5110,0\\n5111,0\\n5112,1\\n5113,0\\n5114,1\\n5115,1\\n5116,0\\n5117,1\\n5118,1\\n5119,0\\n5120,0\\n5121,1\\n5122,1\\n5123,0\\n5124,1\\n5125,0\\n5126,1\\n5127,1\\n5128,1\\n5129,0\\n5130,1\\n5131,1\\n5132,0\\n5133,1\\n5134,0\\n5135,1\\n5136,1\\n5137,0\\n5138,1\\n5139,1\\n5140,0\\n5141,1\\n5142,0\\n5143,0\\n5144,1\\n5145,1\\n5146,1\\n5147,1\\n5148,1\\n5149,1\\n5150,0\\n5151,0\\n5152,0\\n5153,1\\n5154,1\\n5155,0\\n5156,0\\n5157,0\\n5158,1\\n5159,1\\n5160,1\\n5161,1\\n5162,1\\n5163,0\\n5164,1\\n5165,1\\n5166,1\\n5167,0\\n5168,1\\n5169,0\\n5170,0\\n5171,1\\n5172,1\\n5173,0\\n5174,1\\n5175,1\\n5176,0\\n5177,0\\n5178,0\\n5179,1\\n5180,0\\n5181,0\\n5182,1\\n5183,1\\n5184,1\\n5185,0\\n5186,1\\n5187,0\\n5188,1\\n5189,1\\n5190,1\\n5191,0\\n5192,0\\n5193,0\\n5194,0\\n5195,1\\n5196,0\\n5197,1\\n5198,0\\n5199,1\\n5200,0\\n5201,0\\n5202,0\\n5203,0\\n5204,1\\n5205,0\\n5206,0\\n5207,0\\n5208,0\\n5209,1\\n5210,1\\n5211,1\\n5212,0\\n5213,1\\n5214,1\\n5215,0\\n5216,1\\n5217,1\\n5218,0\\n5219,0\\n5220,0\\n5221,1\\n5222,1\\n5223,1\\n5224,1\\n5225,1\\n5226,0\\n5227,1\\n5228,0\\n5229,0\\n5230,0\\n5231,1\\n5232,1\\n5233,0\\n5234,1\\n5235,1\\n5236,1\\n5237,0\\n5238,0\\n5239,0\\n5240,0\\n5241,1\\n5242,0\\n5243,1\\n5244,1\\n5245,1\\n5246,1\\n5247,0\\n5248,0\\n5249,0\\n5250,1\\n5251,0\\n5252,0\\n5253,0\\n5254,0\\n5255,1\\n5256,1\\n5257,1\\n5258,0\\n5259,1\\n5260,1\\n5261,0\\n5262,1\\n5263,1\\n5264,0\\n5265,0\\n5266,0\\n5267,0\\n5268,0\\n5269,0\\n5270,0\\n5271,0\\n5272,0\\n5273,0\\n5274,1\\n5275,1\\n5276,0\\n5277,0\\n5278,0\\n5279,0\\n5280,1\\n5281,0\\n5282,1\\n5283,1\\n5284,1\\n5285,0\\n5286,1\\n5287,0\\n5288,0\\n5289,1\\n5290,1\\n5291,1\\n5292,0\\n5293,0\\n5294,1\\n5295,1\\n5296,0\\n5297,1\\n5298,0\\n5299,1\\n5300,1\\n5301,0\\n5302,1\\n5303,0\\n5304,1\\n5305,0\\n5306,0\\n5307,0\\n5308,1\\n5309,0\\n5310,0\\n5311,1\\n5312,1\\n5313,0\\n5314,0\\n5315,0\\n5316,0\\n5317,0\\n5318,0\\n5319,1\\n5320,0\\n5321,0\\n5322,0\\n5323,0\\n5324,1\\n5325,0\\n5326,1\\n5327,1\\n5328,0\\n5329,0\\n5330,0\\n5331,1\\n5332,1\\n5333,1\\n5334,1\\n5335,0\\n5336,1\\n5337,0\\n5338,1\\n5339,0\\n5340,0\\n5341,0\\n5342,1\\n5343,1\\n5344,0\\n5345,1\\n5346,1\\n5347,1\\n5348,1\\n5349,1\\n5350,0\\n5351,1\\n5352,0\\n5353,1\\n5354,1\\n5355,1\\n5356,1\\n5357,1\\n5358,1\\n5359,1\\n5360,1\\n5361,1\\n5362,0\\n5363,1\\n5364,1\\n5365,1\\n5366,0\\n5367,1\\n5368,1\\n5369,0\\n5370,0\\n5371,0\\n5372,1\\n5373,0\\n5374,1\\n5375,1\\n5376,1\\n5377,0\\n5378,0\\n5379,1\\n5380,0\\n5381,0\\n5382,0\\n5383,0\\n5384,0\\n5385,1\\n5386,1\\n5387,1\\n5388,0\\n5389,0\\n5390,1\\n5391,1\\n5392,1\\n5393,1\\n5394,1\\n5395,1\\n5396,0\\n5397,1\\n5398,0\\n5399,0\\n5400,1\\n5401,1\\n5402,0\\n5403,0\\n5404,0\\n5405,1\\n5406,0\\n5407,0\\n5408,1\\n5409,1\\n5410,0\\n5411,1\\n5412,0\\n5413,1\\n5414,0\\n5415,1\\n5416,1\\n5417,0\\n5418,0\\n5419,1\\n5420,1\\n5421,1\\n5422,0\\n5423,1\\n5424,1\\n5425,0\\n5426,0\\n5427,0\\n5428,0\\n5429,1\\n5430,0\\n5431,0\\n5432,1\\n5433,0\\n5434,1\\n5435,1\\n5436,1\\n5437,0\\n5438,1\\n5439,1\\n5440,0\\n5441,0\\n5442,1\\n5443,0\\n5444,1\\n5445,1\\n5446,1\\n5447,1\\n5448,1\\n5449,1\\n5450,1\\n5451,0\\n5452,0\\n5453,1\\n5454,0\\n5455,1\\n5456,0\\n5457,1\\n5458,0\\n5459,0\\n5460,1\\n5461,0\\n5462,0\\n5463,1\\n5464,0\\n5465,1\\n5466,1\\n5467,1\\n5468,0\\n5469,1\\n5470,0\\n5471,1\\n5472,1\\n5473,1\\n5474,0\\n5475,0\\n5476,0\\n5477,0\\n5478,1\\n5479,1\\n5480,1\\n5481,1\\n5482,1\\n5483,0\\n5484,1\\n5485,0\\n5486,1\\n5487,0\\n5488,1\\n5489,0\\n5490,0\\n5491,1\\n5492,1\\n5493,0\\n5494,0\\n5495,1\\n5496,0\\n5497,1\\n5498,0\\n5499,0\\n5500,0\\n5501,1\\n5502,1\\n5503,0\\n5504,1\\n5505,1\\n5506,0\\n5507,1\\n5508,0\\n5509,0\\n5510,0\\n5511,1\\n5512,0\\n5513,0\\n5514,0\\n5515,0\\n5516,1\\n5517,0\\n5518,1\\n5519,1\\n5520,1\\n5521,0\\n5522,0\\n5523,1\\n5524,0\\n5525,0\\n5526,1\\n5527,0\\n5528,1\\n5529,1\\n5530,0\\n5531,1\\n5532,1\\n5533,0\\n5534,0\\n5535,0\\n5536,0\\n5537,1\\n5538,0\\n5539,0\\n5540,0\\n5541,0\\n5542,1\\n5543,1\\n5544,0\\n5545,0\\n5546,1\\n5547,0\\n5548,1\\n5549,0\\n5550,1\\n5551,0\\n5552,1\\n5553,1\\n5554,0\\n5555,0\\n5556,1\\n5557,0\\n5558,0\\n5559,0\\n5560,0\\n5561,0\\n5562,0\\n5563,0\\n5564,0\\n5565,1\\n5566,0\\n5567,0\\n5568,1\\n5569,1\\n5570,1\\n5571,0\\n5572,1\\n5573,1\\n5574,0\\n5575,1\\n5576,0\\n5577,1\\n5578,0\\n5579,0\\n5580,0\\n5581,1\\n5582,0\\n5583,0\\n5584,0\\n5585,0\\n5586,1\\n5587,1\\n5588,0\\n5589,1\\n5590,1\\n5591,1\\n5592,0\\n5593,1\\n5594,1\\n5595,0\\n5596,1\\n5597,1\\n5598,0\\n5599,0\\n5600,0\\n5601,0\\n5602,1\\n5603,0\\n5604,1\\n5605,0\\n5606,1\\n5607,0\\n5608,1\\n5609,1\\n5610,1\\n5611,0\\n5612,1\\n5613,1\\n5614,0\\n5615,1\\n5616,1\\n5617,0\\n5618,0\\n5619,1\\n5620,1\\n5621,1\\n5622,1\\n5623,0\\n5624,1\\n5625,0\\n5626,1\\n5627,0\\n5628,1\\n5629,0\\n5630,1\\n5631,1\\n5632,0\\n5633,0\\n5634,0\\n5635,0\\n5636,1\\n5637,1\\n5638,0\\n5639,1\\n5640,0\\n5641,1\\n5642,1\\n5643,0\\n5644,1\\n5645,0\\n5646,1\\n5647,0\\n5648,0\\n5649,0\\n5650,1\\n5651,1\\n5652,0\\n5653,1\\n5654,1\\n5655,1\\n5656,0\\n5657,1\\n5658,1\\n5659,1\\n5660,0\\n5661,1\\n5662,1\\n5663,0\\n5664,1\\n5665,1\\n5666,1\\n5667,0\\n5668,1\\n5669,0\\n5670,1\\n5671,1\\n5672,1\\n5673,1\\n5674,1\\n5675,1\\n5676,0\\n5677,0\\n5678,0\\n5679,0\\n5680,1\\n5681,0\\n5682,0\\n5683,1\\n5684,0\\n5685,0\\n5686,1\\n5687,1\\n5688,1\\n5689,1\\n5690,1\\n5691,0\\n5692,1\\n5693,1\\n5694,0\\n5695,0\\n5696,1\\n5697,1\\n5698,0\\n5699,0\\n5700,0\\n5701,1\\n5702,0\\n5703,0\\n5704,1\\n5705,0\\n5706,0\\n5707,0\\n5708,1\\n5709,1\\n5710,1\\n5711,0\\n5712,1\\n5713,0\\n5714,0\\n5715,0\\n5716,0\\n5717,1\\n5718,1\\n5719,0\\n5720,0\\n5721,1\\n5722,0\\n5723,1\\n5724,0\\n5725,0\\n5726,1\\n5727,0\\n5728,1\\n5729,1\\n5730,0\\n5731,1\\n5732,1\\n5733,0\\n5734,0\\n5735,1\\n5736,1\\n5737,0\\n5738,0\\n5739,0\\n5740,1\\n5741,0\\n5742,1\\n5743,0\\n5744,0\\n5745,1\\n5746,1\\n5747,1\\n5748,0\\n5749,0\\n5750,1\\n5751,0\\n5752,1\\n5753,0\\n5754,1\\n5755,1\\n5756,1\\n5757,0\\n5758,0\\n5759,1\\n5760,1\\n5761,0\\n5762,1\\n5763,1\\n5764,0\\n5765,0\\n5766,1\\n5767,0\\n5768,0\\n5769,0\\n5770,1\\n5771,0\\n5772,0\\n5773,1\\n5774,0\\n5775,1\\n5776,1\\n5777,0\\n5778,0\\n5779,0\\n5780,0\\n5781,0\\n5782,0\\n5783,0\\n5784,1\\n5785,0\\n5786,0\\n5787,0\\n5788,1\\n5789,1\\n5790,1\\n5791,1\\n5792,1\\n5793,1\\n5794,0\\n5795,1\\n5796,1\\n5797,1\\n5798,1\\n5799,1\\n5800,0\\n5801,1\\n5802,1\\n5803,1\\n5804,0\\n5805,0\\n5806,1\\n5807,0\\n5808,0\\n5809,0\\n5810,0\\n5811,1\\n5812,0\\n5813,0\\n5814,1\\n5815,1\\n5816,0\\n5817,0\\n5818,1\\n5819,0\\n5820,1\\n5821,1\\n5822,0\\n5823,0\\n5824,1\\n5825,1\\n5826,1\\n5827,0\\n5828,0\\n5829,1\\n5830,0\\n5831,0\\n5832,1\\n5833,1\\n5834,0\\n5835,1\\n5836,1\\n5837,0\\n5838,1\\n5839,0\\n5840,1\\n5841,0\\n5842,0\\n5843,1\\n5844,0\\n5845,1\\n5846,0\\n5847,1\\n5848,0\\n5849,1\\n5850,1\\n5851,1\\n5852,1\\n5853,1\\n5854,0\\n5855,0\\n5856,0\\n5857,1\\n5858,0\\n5859,1\\n5860,0\\n5861,1\\n5862,1\\n5863,0\\n5864,1\\n5865,0\\n5866,0\\n5867,1\\n5868,0\\n5869,1\\n5870,1\\n5871,1\\n5872,0\\n5873,1\\n5874,1\\n5875,0\\n5876,1\\n5877,1\\n5878,1\\n5879,1\\n5880,0\\n5881,0\\n5882,1\\n5883,0\\n5884,0\\n5885,1\\n5886,0\\n5887,1\\n5888,0\\n5889,0\\n5890,0\\n5891,0\\n5892,1\\n5893,1\\n5894,0\\n5895,0\\n5896,0\\n5897,0\\n5898,1\\n5899,1\\n5900,1\\n5901,0\\n5902,1\\n5903,0\\n5904,1\\n5905,1\\n5906,0\\n5907,1\\n5908,1\\n5909,1\\n5910,1\\n5911,1\\n5912,0\\n5913,0\\n5914,0\\n5915,1\\n5916,0\\n5917,1\\n5918,1\\n5919,1\\n5920,1\\n5921,0\\n5922,0\\n5923,1\\n5924,1\\n5925,0\\n5926,1\\n5927,0\\n5928,1\\n5929,0\\n5930,1\\n5931,1\\n5932,0\\n5933,0\\n5934,1\\n5935,1\\n5936,1\\n5937,0\\n5938,1\\n5939,0\\n5940,0\\n5941,1\\n5942,1\\n5943,1\\n5944,0\\n5945,1\\n5946,0\\n5947,0\\n5948,0\\n5949,1\\n5950,0\\n5951,1\\n5952,1\\n5953,0\\n5954,1\\n5955,0\\n5956,0\\n5957,1\\n5958,0\\n5959,0\\n5960,0\\n5961,0\\n5962,0\\n5963,1\\n5964,0\\n5965,1\\n5966,1\\n5967,0\\n5968,1\\n5969,1\\n5970,1\\n5971,0\\n5972,0\\n5973,0\\n5974,0\\n5975,1\\n5976,1\\n5977,1\\n5978,1\\n5979,0\\n5980,0\\n5981,1\\n5982,1\\n5983,0\\n5984,0\\n5985,0\\n5986,0\\n5987,0\\n5988,1\\n5989,1\\n5990,0\\n5991,0\\n5992,1\\n5993,1\\n5994,1\\n5995,0\\n5996,0\\n5997,1\\n5998,0\\n5999,0\\n6000,1\\n6001,0\\n6002,0\\n6003,1\\n6004,1\\n6005,0\\n6006,0\\n6007,1\\n6008,1\\n6009,1\\n6010,1\\n6011,1\\n6012,0\\n6013,1\\n6014,0\\n6015,1\\n6016,0\\n6017,1\\n6018,1\\n6019,0\\n6020,0\\n6021,1\\n6022,0\\n6023,0\\n6024,0\\n6025,0\\n6026,0\\n6027,0\\n6028,1\\n6029,1\\n6030,1\\n6031,1\\n6032,1\\n6033,0\\n6034,1\\n6035,1\\n6036,0\\n6037,1\\n6038,1\\n6039,0\\n6040,0\\n6041,0\\n6042,1\\n6043,1\\n6044,0\\n6045,0\\n6046,0\\n6047,1\\n6048,0\\n6049,1\\n6050,0\\n6051,0\\n6052,0\\n6053,0\\n6054,1\\n6055,1\\n6056,1\\n6057,1\\n6058,1\\n6059,1\\n6060,1\\n6061,1\\n6062,0\\n6063,1\\n6064,1\\n6065,0\\n6066,0\\n6067,0\\n6068,1\\n6069,1\\n6070,1\\n6071,0\\n6072,0\\n6073,0\\n6074,1\\n6075,1\\n6076,0\\n6077,0\\n6078,1\\n6079,1\\n6080,0\\n6081,1\\n6082,1\\n6083,1\\n6084,1\\n6085,0\\n6086,0\\n6087,1\\n6088,0\\n6089,1\\n6090,0\\n6091,1\\n6092,1\\n6093,0\\n6094,1\\n6095,1\\n6096,1\\n6097,0\\n6098,0\\n6099,0\\n6100,1\\n6101,0\\n6102,0\\n6103,0\\n6104,1\\n6105,1\\n6106,0\\n6107,0\\n6108,0\\n6109,1\\n6110,0\\n6111,1\\n6112,0\\n6113,0\\n6114,1\\n6115,0\\n6116,0\\n6117,1\\n6118,0\\n6119,1\\n6120,0\\n6121,1\\n6122,1\\n6123,1\\n6124,0\\n6125,0\\n6126,0\\n6127,0\\n6128,1\\n6129,0\\n6130,1\\n6131,1\\n6132,1\\n6133,1\\n6134,0\\n6135,1\\n6136,1\\n6137,1\\n6138,0\\n6139,0\\n6140,1\\n6141,1\\n6142,0\\n6143,0\\n6144,1\\n6145,0\\n6146,1\\n6147,1\\n6148,0\\n6149,0\\n6150,0\\n6151,1\\n6152,0\\n6153,0\\n6154,0\\n6155,1\\n6156,0\\n6157,1\\n6158,1\\n6159,0\\n6160,0\\n6161,1\\n6162,1\\n6163,0\\n6164,1\\n6165,1\\n6166,1\\n6167,0\\n6168,0\\n6169,0\\n6170,1\\n6171,1\\n6172,1\\n6173,0\\n6174,1\\n6175,0\\n6176,1\\n6177,0\\n6178,1\\n6179,0\\n6180,1\\n6181,0\\n6182,0\\n6183,1\\n6184,0\\n6185,0\\n6186,1\\n6187,0\\n6188,1\\n6189,1\\n6190,1\\n6191,0\\n6192,0\\n6193,0\\n6194,1\\n6195,0\\n6196,1\\n6197,1\\n6198,0\\n6199,1\\n6200,1\\n6201,1\\n6202,0\\n6203,1\\n6204,1\\n6205,1\\n6206,1\\n6207,1\\n6208,1\\n6209,0\\n6210,1\\n6211,1\\n6212,1\\n6213,0\\n6214,1\\n6215,1\\n6216,0\\n6217,0\\n6218,1\\n6219,1\\n6220,0\\n6221,0\\n6222,0\\n6223,1\\n6224,0\\n6225,0\\n6226,1\\n6227,1\\n6228,0\\n6229,1\\n6230,1\\n6231,1\\n6232,0\\n6233,0\\n6234,1\\n6235,0\\n6236,1\\n6237,0\\n6238,1\\n6239,0\\n6240,0\\n6241,1\\n6242,1\\n6243,0\\n6244,0\\n6245,0\\n6246,0\\n6247,0\\n6248,0\\n6249,0\\n6250,0\\n6251,0\\n6252,0\\n6253,0\\n6254,1\\n6255,1\\n6256,0\\n6257,1\\n6258,1\\n6259,0\\n6260,1\\n6261,0\\n6262,0\\n6263,1\\n6264,1\\n6265,1\\n6266,0\\n6267,1\\n6268,1\\n6269,1\\n6270,1\\n6271,0\\n6272,0\\n6273,1\\n6274,0\\n6275,0\\n6276,1\\n6277,0\\n6278,1\\n6279,0\\n6280,1\\n6281,1\\n6282,1\\n6283,0\\n6284,0\\n6285,0\\n6286,1\\n6287,0\\n6288,1\\n6289,0\\n6290,1\\n6291,1\\n6292,1\\n6293,0\\n6294,1\\n6295,1\\n6296,0\\n6297,0\\n6298,0\\n6299,0\\n6300,0\\n6301,1\\n6302,1\\n6303,1\\n6304,0\\n6305,0\\n6306,0\\n6307,0\\n6308,1\\n6309,1\\n6310,0\\n6311,1\\n6312,0\\n6313,1\\n6314,1\\n6315,1\\n6316,0\\n6317,1\\n6318,1\\n6319,0\\n6320,0\\n6321,1\\n6322,0\\n6323,1\\n6324,1\\n6325,1\\n6326,0\\n6327,0\\n6328,0\\n6329,0\\n6330,1\\n6331,0\\n6332,1\\n6333,0\\n6334,0\\n6335,1\\n6336,0\\n6337,1\\n6338,0\\n6339,0\\n6340,0\\n6341,1\\n6342,0\\n6343,1\\n6344,0\\n6345,1\\n6346,0\\n6347,1\\n6348,0\\n6349,1\\n6350,1\\n6351,0\\n6352,1\\n6353,0\\n6354,1\\n6355,1\\n6356,0\\n6357,0\\n6358,0\\n6359,0\\n6360,0\\n6361,0\\n6362,1\\n6363,1\\n6364,1\\n6365,1\\n6366,0\\n6367,1\\n6368,0\\n6369,0\\n6370,1\\n6371,0\\n6372,0\\n6373,0\\n6374,0\\n6375,0\\n6376,0\\n6377,1\\n6378,1\\n6379,1\\n6380,1\\n6381,1\\n6382,1\\n6383,0\\n6384,1\\n6385,0\\n6386,1\\n6387,1\\n6388,1\\n6389,1\\n6390,1\\n6391,1\\n6392,0\\n6393,1\\n6394,1\\n6395,0\\n6396,0\\n6397,1\\n6398,0\\n6399,1\\n6400,0\\n6401,1\\n6402,1\\n6403,1\\n6404,0\\n6405,0\\n6406,1\\n6407,0\\n6408,0\\n6409,1\\n6410,0\\n6411,0\\n6412,1\\n6413,0\\n6414,0\\n6415,1\\n6416,1\\n6417,1\\n6418,1\\n6419,0\\n6420,1\\n6421,1\\n6422,1\\n6423,0\\n6424,1\\n6425,1\\n6426,1\\n6427,0\\n6428,1\\n6429,0\\n6430,0\\n6431,1\\n6432,0\\n6433,1\\n6434,1\\n6435,1\\n6436,0\\n6437,0\\n6438,0\\n6439,1\\n6440,1\\n6441,0\\n6442,0\\n6443,1\\n6444,1\\n6445,0\\n6446,0\\n6447,1\\n6448,1\\n6449,0\\n6450,1\\n6451,1\\n6452,1\\n6453,0\\n6454,0\\n6455,1\\n6456,1\\n6457,1\\n6458,1\\n6459,1\\n6460,1\\n6461,1\\n6462,0\\n6463,0\\n6464,0\\n6465,1\\n6466,0\\n6467,1\\n6468,0\\n6469,1\\n6470,0\\n6471,1\\n6472,1\\n6473,1\\n6474,1\\n6475,0\\n6476,0\\n6477,0\\n6478,1\\n6479,0\\n6480,1\\n6481,0\\n6482,0\\n6483,1\\n6484,1\\n6485,0\\n6486,0\\n6487,0\\n6488,1\\n6489,1\\n6490,0\\n6491,0\\n6492,0\\n6493,1\\n6494,0\\n6495,0\\n6496,0\\n6497,1\\n6498,0\\n6499,0\\n6500,0\\n6501,1\\n6502,1\\n6503,0\\n6504,1\\n6505,1\\n6506,0\\n6507,0\\n6508,0\\n6509,0\\n6510,1\\n6511,1\\n6512,0\\n6513,1\\n6514,0\\n6515,1\\n6516,0\\n6517,1\\n6518,0\\n6519,1\\n6520,0\\n6521,0\\n6522,1\\n6523,0\\n6524,0\\n6525,1\\n6526,1\\n6527,1\\n6528,1\\n6529,0\\n6530,0\\n6531,0\\n6532,0\\n6533,0\\n6534,1\\n6535,0\\n6536,1\\n6537,0\\n6538,1\\n6539,1\\n6540,0\\n6541,0\\n6542,1\\n6543,1\\n6544,1\\n6545,0\\n6546,0\\n6547,1\\n6548,0\\n6549,1\\n6550,1\\n6551,0\\n6552,1\\n6553,0\\n6554,0\\n6555,0\\n6556,0\\n6557,0\\n6558,1\\n6559,1\\n6560,0\\n6561,0\\n6562,1\\n6563,0\\n6564,1\\n6565,0\\n6566,0\\n6567,0\\n6568,0\\n6569,1\\n6570,0\\n6571,1\\n6572,0\\n6573,0\\n6574,0\\n6575,0\\n6576,1\\n6577,1\\n6578,1\\n6579,0\\n6580,0\\n6581,1\\n6582,1\\n6583,0\\n6584,0\\n6585,1\\n6586,1\\n6587,1\\n6588,0\\n6589,0\\n6590,0\\n6591,0\\n6592,1\\n6593,1\\n6594,1\\n6595,1\\n6596,0\\n6597,1\\n6598,0\\n6599,1\\n6600,0\\n6601,1\\n6602,0\\n6603,1\\n6604,0\\n6605,1\\n6606,0\\n6607,0\\n6608,1\\n6609,1\\n6610,1\\n6611,1\\n6612,1\\n6613,0\\n6614,1\\n6615,0\\n6616,1\\n6617,1\\n6618,1\\n6619,1\\n6620,0\\n6621,0\\n6622,1\\n6623,0\\n6624,1\\n6625,0\\n6626,0\\n6627,0\\n6628,1\\n6629,1\\n6630,0\\n6631,1\\n6632,1\\n6633,0\\n6634,1\\n6635,0\\n6636,0\\n6637,0\\n6638,1\\n6639,0\\n6640,1\\n6641,1\\n6642,0\\n6643,1\\n6644,1\\n6645,0\\n6646,0\\n6647,1\\n6648,0\\n6649,0\\n6650,0\\n6651,0\\n6652,0\\n6653,1\\n6654,1\\n6655,1\\n6656,1\\n6657,0\\n6658,0\\n6659,1\\n6660,1\\n6661,1\\n6662,0\\n6663,1\\n6664,1\\n6665,1\\n6666,1\\n6667,1\\n6668,0\\n6669,0\\n6670,0\\n6671,0\\n6672,0\\n6673,0\\n6674,1\\n6675,1\\n6676,1\\n6677,1\\n6678,0\\n6679,0\\n6680,0\\n6681,1\\n6682,1\\n6683,1\\n6684,1\\n6685,1\\n6686,0\\n6687,0\\n6688,1\\n6689,0\\n6690,1\\n6691,0\\n6692,0\\n6693,0\\n6694,0\\n6695,0\\n6696,1\\n6697,0\\n6698,0\\n6699,1\\n6700,0\\n6701,1\\n6702,1\\n6703,0\\n6704,0\\n6705,1\\n6706,0\\n6707,1\\n6708,1\\n6709,1\\n6710,1\\n6711,1\\n6712,1\\n6713,1\\n6714,1\\n6715,1\\n6716,1\\n6717,0\\n6718,0\\n6719,1\\n6720,1\\n6721,0\\n6722,1\\n6723,1\\n6724,0\\n6725,0\\n6726,1\\n6727,1\\n6728,1\\n6729,1\\n6730,0\\n6731,0\\n6732,1\\n6733,0\\n6734,0\\n6735,0\\n6736,0\\n6737,1\\n6738,0\\n6739,0\\n6740,0\\n6741,1\\n6742,0\\n6743,1\\n6744,1\\n6745,1\\n6746,0\\n6747,1\\n6748,0\\n6749,0\\n6750,0\\n6751,1\\n6752,0\\n6753,0\\n6754,1\\n6755,0\\n6756,0\\n6757,1\\n6758,1\\n6759,0\\n6760,1\\n6761,0\\n6762,1\\n6763,1\\n6764,0\\n6765,1\\n6766,0\\n6767,1\\n6768,0\\n6769,0\\n6770,0\\n6771,1\\n6772,1\\n6773,1\\n6774,1\\n6775,1\\n6776,0\\n6777,1\\n6778,1\\n6779,1\\n6780,0\\n6781,0\\n6782,0\\n6783,1\\n6784,1\\n6785,1\\n6786,0\\n6787,1\\n6788,1\\n6789,1\\n6790,0\\n6791,0\\n6792,1\\n6793,1\\n6794,0\\n6795,0\\n6796,1\\n6797,1\\n6798,0\\n6799,1\\n6800,0\\n6801,1\\n6802,1\\n6803,1\\n6804,1\\n6805,1\\n6806,1\\n6807,1\\n6808,1\\n6809,0\\n6810,1\\n6811,1\\n6812,0\\n6813,0\\n6814,1\\n6815,1\\n6816,1\\n6817,0\\n6818,0\\n6819,0\\n6820,1\\n6821,0\\n6822,0\\n6823,0\\n6824,0\\n6825,1\\n6826,1\\n6827,1\\n6828,0\\n6829,1\\n6830,0\\n6831,1\\n6832,1\\n6833,0\\n6834,0\\n6835,1\\n6836,0\\n6837,0\\n6838,1\\n6839,0\\n6840,0\\n6841,0\\n6842,1\\n6843,0\\n6844,1\\n6845,1\\n6846,0\\n6847,1\\n6848,1\\n6849,0\\n6850,1\\n6851,1\\n6852,0\\n6853,0\\n6854,0\\n6855,1\\n6856,1\\n6857,0\\n6858,1\\n6859,1\\n6860,1\\n6861,0\\n6862,1\\n6863,1\\n6864,0\\n6865,1\\n6866,1\\n6867,1\\n6868,1\\n6869,0\\n6870,0\\n6871,0\\n6872,0\\n6873,0\\n6874,0\\n6875,0\\n6876,0\\n6877,1\\n6878,1\\n6879,0\\n6880,1\\n6881,0\\n6882,1\\n6883,0\\n6884,0\\n6885,1\\n6886,0\\n6887,0\\n6888,0\\n6889,0\\n6890,0\\n6891,0\\n6892,1\\n6893,0\\n6894,1\\n6895,0\\n6896,1\\n6897,0\\n6898,0\\n6899,0\\n6900,0\\n6901,1\\n6902,0\\n6903,0\\n6904,0\\n6905,1\\n6906,0\\n6907,1\\n6908,1\\n6909,0\\n6910,0\\n6911,0\\n6912,0\\n6913,1\\n6914,1\\n6915,1\\n6916,1\\n6917,1\\n6918,1\\n6919,0\\n6920,1\\n6921,1\\n6922,1\\n6923,0\\n6924,1\\n6925,1\\n6926,1\\n6927,0\\n6928,0\\n6929,0\\n6930,0\\n6931,1\\n6932,0\\n6933,0\\n6934,1\\n6935,1\\n6936,1\\n6937,1\\n6938,1\\n6939,0\\n6940,0\\n6941,1\\n6942,1\\n6943,0\\n6944,0\\n6945,1\\n6946,0\\n6947,0\\n6948,0\\n6949,1\\n6950,0\\n6951,0\\n6952,1\\n6953,1\\n6954,0\\n6955,1\\n6956,1\\n6957,0\\n6958,1\\n6959,0\\n6960,0\\n6961,1\\n6962,0\\n6963,0\\n6964,1\\n6965,1\\n6966,0\\n6967,1\\n6968,1\\n6969,0\\n6970,1\\n6971,0\\n6972,1\\n6973,1\\n6974,1\\n6975,1\\n6976,1\\n6977,1\\n6978,0\\n6979,0\\n6980,0\\n6981,0\\n6982,0\\n6983,1\\n6984,1\\n6985,1\\n6986,1\\n6987,1\\n6988,1\\n6989,1\\n6990,0\\n6991,0\\n6992,1\\n6993,0\\n6994,0\\n6995,0\\n6996,1\\n6997,0\\n6998,1\\n6999,0\\n7000,0\\n7001,1\\n7002,0\\n7003,0\\n7004,1\\n7005,1\\n7006,1\\n7007,0\\n7008,0\\n7009,0\\n7010,1\\n7011,0\\n7012,1\\n7013,0\\n7014,1\\n7015,0\\n7016,1\\n7017,1\\n7018,1\\n7019,0\\n7020,1\\n7021,1\\n7022,1\\n7023,1\\n7024,1\\n7025,0\\n7026,0\\n7027,1\\n7028,0\\n7029,1\\n7030,0\\n7031,0\\n7032,0\\n7033,0\\n7034,1\\n7035,0\\n7036,1\\n7037,0\\n7038,0\\n7039,1\\n7040,0\\n7041,1\\n7042,0\\n7043,0\\n7044,1\\n7045,1\\n7046,0\\n7047,1\\n7048,0\\n7049,0\\n7050,0\\n7051,0\\n7052,0\\n7053,0\\n7054,1\\n7055,0\\n7056,0\\n7057,0\\n7058,1\\n7059,0\\n7060,0\\n7061,1\\n7062,0\\n7063,1\\n7064,1\\n7065,0\\n7066,0\\n7067,1\\n7068,0\\n7069,1\\n7070,0\\n7071,0\\n7072,1\\n7073,0\\n7074,1\\n7075,1\\n7076,1\\n7077,0\\n7078,0\\n7079,0\\n7080,0\\n7081,0\\n7082,0\\n7083,1\\n7084,1\\n7085,1\\n7086,1\\n7087,0\\n7088,1\\n7089,1\\n7090,0\\n7091,1\\n7092,0\\n7093,0\\n7094,0\\n7095,1\\n7096,1\\n7097,1\\n7098,0\\n7099,1\\n7100,1\\n7101,1\\n7102,1\\n7103,1\\n7104,1\\n7105,0\\n7106,0\\n7107,0\\n7108,0\\n7109,1\\n7110,1\\n7111,0\\n7112,0\\n7113,0\\n7114,0\\n7115,1\\n7116,0\\n7117,0\\n7118,0\\n7119,1\\n7120,0\\n7121,0\\n7122,1\\n7123,0\\n7124,0\\n7125,0\\n7126,1\\n7127,1\\n7128,1\\n7129,1\\n7130,1\\n7131,0\\n7132,0\\n7133,1\\n7134,0\\n7135,1\\n7136,1\\n7137,1\\n7138,1\\n7139,0\\n7140,1\\n7141,1\\n7142,0\\n7143,0\\n7144,0\\n7145,0\\n7146,0\\n7147,1\\n7148,0\\n7149,0\\n7150,0\\n7151,1\\n7152,0\\n7153,0\\n7154,0\\n7155,1\\n7156,0\\n7157,0\\n7158,1\\n7159,0\\n7160,1\\n7161,1\\n7162,1\\n7163,0\\n7164,0\\n7165,0\\n7166,1\\n7167,1\\n7168,1\\n7169,0\\n7170,0\\n7171,0\\n7172,1\\n7173,0\\n7174,0\\n7175,1\\n7176,0\\n7177,1\\n7178,0\\n7179,1\\n7180,0\\n7181,1\\n7182,0\\n7183,1\\n7184,1\\n7185,0\\n7186,1\\n7187,0\\n7188,1\\n7189,0\\n7190,0\\n7191,1\\n7192,0\\n7193,0\\n7194,0\\n7195,1\\n7196,0\\n7197,1\\n7198,1\\n7199,0\\n7200,0\\n7201,1\\n7202,0\\n7203,0\\n7204,0\\n7205,0\\n7206,0\\n7207,1\\n7208,0\\n7209,1\\n7210,0\\n7211,0\\n7212,0\\n7213,0\\n7214,0\\n7215,1\\n7216,0\\n7217,0\\n7218,1\\n7219,1\\n7220,0\\n7221,1\\n7222,0\\n7223,0\\n7224,0\\n7225,1\\n7226,1\\n7227,0\\n7228,0\\n7229,1\\n7230,0\\n7231,0\\n7232,0\\n7233,1\\n7234,1\\n7235,0\\n7236,0\\n7237,0\\n7238,1\\n7239,0\\n7240,1\\n7241,1\\n7242,0\\n7243,0\\n7244,1\\n7245,1\\n7246,1\\n7247,1\\n7248,0\\n7249,1\\n7250,0\\n7251,0\\n7252,1\\n7253,0\\n7254,0\\n7255,0\\n7256,1\\n7257,0\\n7258,0\\n7259,0\\n7260,0\\n7261,1\\n7262,0\\n7263,1\\n7264,0\\n7265,0\\n7266,0\\n7267,0\\n7268,1\\n7269,1\\n7270,1\\n7271,0\\n7272,0\\n7273,0\\n7274,0\\n7275,1\\n7276,1\\n7277,1\\n7278,0\\n7279,0\\n7280,0\\n7281,0\\n7282,1\\n7283,1\\n7284,1\\n7285,1\\n7286,0\\n7287,0\\n7288,1\\n7289,1\\n7290,1\\n7291,1\\n7292,0\\n7293,0\\n7294,1\\n7295,1\\n7296,1\\n7297,0\\n7298,1\\n7299,1\\n7300,1\\n7301,0\\n7302,1\\n7303,0\\n7304,0\\n7305,0\\n7306,0\\n7307,1\\n7308,1\\n7309,1\\n7310,1\\n7311,0\\n7312,0\\n7313,0\\n7314,1\\n7315,0\\n7316,1\\n7317,0\\n7318,1\\n7319,0\\n7320,0\\n7321,1\\n7322,0\\n7323,0\\n7324,1\\n7325,1\\n7326,1\\n7327,1\\n7328,0\\n7329,0\\n7330,0\\n7331,1\\n7332,1\\n7333,1\\n7334,1\\n7335,1\\n7336,1\\n7337,0\\n7338,0\\n7339,1\\n7340,1\\n7341,1\\n7342,1\\n7343,1\\n7344,1\\n7345,1\\n7346,0\\n7347,1\\n7348,1\\n7349,0\\n7350,1\\n7351,0\\n7352,0\\n7353,1\\n7354,1\\n7355,1\\n7356,0\\n7357,0\\n7358,0\\n7359,1\\n7360,1\\n7361,0\\n7362,0\\n7363,0\\n7364,0\\n7365,0\\n7366,1\\n7367,1\\n7368,1\\n7369,0\\n7370,1\\n7371,1\\n7372,1\\n7373,0\\n7374,1\\n7375,0\\n7376,0\\n7377,0\\n7378,0\\n7379,1\\n7380,0\\n7381,1\\n7382,0\\n7383,0\\n7384,1\\n7385,0\\n7386,1\\n7387,1\\n7388,0\\n7389,1\\n7390,1\\n7391,1\\n7392,0\\n7393,0\\n7394,0\\n7395,1\\n7396,1\\n7397,1\\n7398,0\\n7399,0\\n7400,1\\n7401,1\\n7402,0\\n7403,1\\n7404,0\\n7405,1\\n7406,0\\n7407,0\\n7408,0\\n7409,1\\n7410,1\\n7411,1\\n7412,1\\n7413,0\\n7414,0\\n7415,1\\n7416,1\\n7417,0\\n7418,0\\n7419,1\\n7420,1\\n7421,1\\n7422,1\\n7423,1\\n7424,1\\n7425,1\\n7426,0\\n7427,1\\n7428,1\\n7429,0\\n7430,0\\n7431,1\\n7432,0\\n7433,1\\n7434,1\\n7435,1\\n7436,0\\n7437,0\\n7438,1\\n7439,1\\n7440,1\\n7441,0\\n7442,1\\n7443,1\\n7444,0\\n7445,1\\n7446,0\\n7447,1\\n7448,0\\n7449,0\\n7450,0\\n7451,1\\n7452,1\\n7453,0\\n7454,1\\n7455,0\\n7456,1\\n7457,1\\n7458,1\\n7459,0\\n7460,1\\n7461,1\\n7462,1\\n7463,1\\n7464,1\\n7465,0\\n7466,0\\n7467,0\\n7468,0\\n7469,0\\n7470,0\\n7471,0\\n7472,1\\n7473,1\\n7474,0\\n7475,1\\n7476,1\\n7477,1\\n7478,0\\n7479,1\\n7480,0\\n7481,0\\n7482,0\\n7483,1\\n7484,0\\n7485,1\\n7486,0\\n7487,0\\n7488,0\\n7489,0\\n7490,1\\n7491,0\\n7492,0\\n7493,0\\n7494,0\\n7495,1\\n7496,0\\n7497,0\\n7498,1\\n7499,1\\n7500,1\\n7501,1\\n7502,0\\n7503,0\\n7504,1\\n7505,1\\n7506,1\\n7507,1\\n7508,0\\n7509,0\\n7510,0\\n7511,0\\n7512,1\\n7513,1\\n7514,0\\n7515,1\\n7516,0\\n7517,1\\n7518,1\\n7519,1\\n7520,1\\n7521,1\\n7522,1\\n7523,0\\n7524,1\\n7525,1\\n7526,0\\n7527,0\\n7528,0\\n7529,0\\n7530,0\\n7531,0\\n7532,0\\n7533,1\\n7534,0\\n7535,0\\n7536,0\\n7537,0\\n7538,0\\n7539,0\\n7540,1\\n7541,0\\n7542,1\\n7543,1\\n7544,0\\n7545,1\\n7546,0\\n7547,0\\n7548,1\\n7549,1\\n7550,1\\n7551,0\\n7552,1\\n7553,0\\n7554,1\\n7555,1\\n7556,1\\n7557,0\\n7558,1\\n7559,1\\n7560,0\\n7561,1\\n7562,1\\n7563,0\\n7564,0\\n7565,0\\n7566,1\\n7567,1\\n7568,0\\n7569,0\\n7570,0\\n7571,0\\n7572,0\\n7573,1\\n7574,0\\n7575,0\\n7576,0\\n7577,1\\n7578,1\\n7579,1\\n7580,0\\n7581,1\\n7582,0\\n7583,0\\n7584,1\\n7585,1\\n7586,0\\n7587,0\\n7588,1\\n7589,0\\n7590,1\\n7591,1\\n7592,0\\n7593,0\\n7594,0\\n7595,0\\n7596,1\\n7597,0\\n7598,1\\n7599,1\\n7600,1\\n7601,1\\n7602,0\\n7603,1\\n7604,1\\n7605,0\\n7606,0\\n7607,0\\n7608,0\\n7609,1\\n7610,1\\n7611,0\\n7612,0\\n7613,1\\n7614,1\\n7615,0\\n7616,1\\n7617,1\\n7618,0\\n7619,0\\n7620,0\\n7621,1\\n7622,0\\n7623,0\\n7624,1\\n7625,1\\n7626,1\\n7627,1\\n7628,1\\n7629,0\\n7630,0\\n7631,0\\n7632,0\\n7633,1\\n7634,1\\n7635,1\\n7636,0\\n7637,0\\n7638,0\\n7639,1\\n7640,1\\n7641,0\\n7642,1\\n7643,0\\n7644,1\\n7645,0\\n7646,1\\n7647,1\\n7648,0\\n7649,1\\n7650,0\\n7651,1\\n7652,1\\n7653,0\\n7654,0\\n7655,0\\n7656,0\\n7657,1\\n7658,1\\n7659,1\\n7660,0\\n7661,0\\n7662,0\\n7663,0\\n7664,0\\n7665,0\\n7666,1\\n7667,1\\n7668,0\\n7669,1\\n7670,1\\n7671,0\\n7672,0\\n7673,0\\n7674,1\\n7675,1\\n7676,0\\n7677,0\\n7678,0\\n7679,1\\n7680,1\\n7681,1\\n7682,1\\n7683,0\\n7684,1\\n7685,0\\n7686,1\\n7687,1\\n7688,1\\n7689,1\\n7690,1\\n7691,0\\n7692,0\\n7693,0\\n7694,0\\n7695,0\\n7696,1\\n7697,1\\n7698,0\\n7699,0\\n7700,0\\n7701,1\\n7702,0\\n7703,1\\n7704,0\\n7705,0\\n7706,0\\n7707,0\\n7708,1\\n7709,1\\n7710,0\\n7711,0\\n7712,1\\n7713,0\\n7714,0\\n7715,1\\n7716,0\\n7717,0\\n7718,0\\n7719,0\\n7720,0\\n7721,0\\n7722,1\\n7723,1\\n7724,1\\n7725,1\\n7726,0\\n7727,0\\n7728,0\\n7729,0\\n7730,1\\n7731,0\\n7732,0\\n7733,0\\n7734,1\\n7735,0\\n7736,0\\n7737,0\\n7738,0\\n7739,0\\n7740,1\\n7741,1\\n7742,1\\n7743,1\\n7744,0\\n7745,0\\n7746,0\\n7747,0\\n7748,1\\n7749,0\\n7750,1\\n7751,1\\n7752,0\\n7753,1\\n7754,0\\n7755,1\\n7756,0\\n7757,0\\n7758,1\\n7759,1\\n7760,1\\n7761,1\\n7762,0\\n7763,0\\n7764,0\\n7765,1\\n7766,1\\n7767,1\\n7768,0\\n7769,1\\n7770,0\\n7771,1\\n7772,0\\n7773,1\\n7774,1\\n7775,1\\n7776,1\\n7777,0\\n7778,1\\n7779,0\\n7780,1\\n7781,0\\n7782,0\\n7783,0\\n7784,1\\n7785,1\\n7786,1\\n7787,1\\n7788,1\\n7789,1\\n7790,0\\n7791,0\\n7792,0\\n7793,0\\n7794,1\\n7795,1\\n7796,0\\n7797,1\\n7798,1\\n7799,0\\n7800,0\\n7801,0\\n7802,0\\n7803,0\\n7804,0\\n7805,0\\n7806,0\\n7807,0\\n7808,0\\n7809,1\\n7810,0\\n7811,0\\n7812,1\\n7813,0\\n7814,1\\n7815,1\\n7816,1\\n7817,0\\n7818,1\\n7819,1\\n7820,1\\n7821,1\\n7822,0\\n7823,0\\n7824,1\\n7825,1\\n7826,0\\n7827,0\\n7828,1\\n7829,0\\n7830,1\\n7831,0\\n7832,1\\n7833,0\\n7834,1\\n7835,1\\n7836,1\\n7837,1\\n7838,0\\n7839,0\\n7840,1\\n7841,1\\n7842,0\\n7843,1\\n7844,0\\n7845,1\\n7846,0\\n7847,1\\n7848,1\\n7849,1\\n7850,1\\n7851,0\\n7852,1\\n7853,1\\n7854,0\\n7855,1\\n7856,0\\n7857,1\\n7858,1\\n7859,0\\n7860,1\\n7861,1\\n7862,0\\n7863,1\\n7864,1\\n7865,0\\n7866,1\\n7867,0\\n7868,1\\n7869,1\\n7870,1\\n7871,1\\n7872,1\\n7873,0\\n7874,0\\n7875,1\\n7876,0\\n7877,0\\n7878,0\\n7879,0\\n7880,1\\n7881,1\\n7882,1\\n7883,1\\n7884,1\\n7885,1\\n7886,0\\n7887,1\\n7888,0\\n7889,0\\n7890,0\\n7891,0\\n7892,0\\n7893,1\\n7894,1\\n7895,0\\n7896,0\\n7897,1\\n7898,0\\n7899,1\\n7900,1\\n7901,1\\n7902,0\\n7903,0\\n7904,1\\n7905,0\\n7906,1\\n7907,0\\n7908,1\\n7909,1\\n7910,0\\n7911,0\\n7912,1\\n7913,0\\n7914,1\\n7915,0\\n7916,1\\n7917,0\\n7918,1\\n7919,1\\n7920,1\\n7921,0\\n7922,0\\n7923,0\\n7924,1\\n7925,0\\n7926,1\\n7927,1\\n7928,0\\n7929,0\\n7930,1\\n7931,0\\n7932,1\\n7933,0\\n7934,0\\n7935,0\\n7936,0\\n7937,1\\n7938,0\\n7939,0\\n7940,0\\n7941,1\\n7942,1\\n7943,0\\n7944,1\\n7945,0\\n7946,0\\n7947,1\\n7948,1\\n7949,1\\n7950,1\\n7951,1\\n7952,0\\n7953,1\\n7954,1\\n7955,1\\n7956,0\\n7957,0\\n7958,0\\n7959,0\\n7960,0\\n7961,1\\n7962,0\\n7963,1\\n7964,0\\n7965,0\\n7966,0\\n7967,0\\n7968,0\\n7969,0\\n7970,1\\n7971,0\\n7972,1\\n7973,0\\n7974,1\\n7975,1\\n7976,0\\n7977,1\\n7978,1\\n7979,0\\n7980,0\\n7981,1\\n7982,1\\n7983,0\\n7984,1\\n7985,0\\n7986,1\\n7987,1\\n7988,0\\n7989,1\\n7990,1\\n7991,1\\n7992,1\\n7993,1\\n7994,1\\n7995,0\\n7996,1\\n7997,0\\n7998,0\\n7999,0\\n8000,0\\n8001,0\\n8002,0\\n8003,1\\n8004,0\\n8005,0\\n8006,0\\n8007,1\\n8008,0\\n8009,0\\n8010,1\\n8011,0\\n8012,1\\n8013,1\\n8014,0\\n8015,1\\n8016,0\\n8017,1\\n8018,0\\n8019,1\\n8020,0\\n8021,0\\n8022,1\\n8023,1\\n8024,0\\n8025,1\\n8026,1\\n8027,0\\n8028,0\\n8029,0\\n8030,0\\n8031,1\\n8032,0\\n8033,1\\n8034,1\\n8035,0\\n8036,0\\n8037,1\\n8038,1\\n8039,1\\n8040,1\\n8041,1\\n8042,1\\n8043,0\\n8044,0\\n8045,1\\n8046,1\\n8047,1\\n8048,1\\n8049,1\\n8050,1\\n8051,1\\n8052,0\\n8053,1\\n8054,0\\n8055,0\\n8056,1\\n8057,0\\n8058,1\\n8059,1\\n8060,0\\n8061,0\\n8062,1\\n8063,1\\n8064,0\\n8065,0\\n8066,0\\n8067,0\\n8068,0\\n8069,1\\n8070,1\\n8071,0\\n8072,0\\n8073,1\\n8074,1\\n8075,0\\n8076,1\\n8077,0\\n8078,1\\n8079,0\\n8080,0\\n8081,0\\n8082,0\\n8083,1\\n8084,0\\n8085,0\\n8086,0\\n8087,0\\n8088,1\\n8089,0\\n8090,1\\n8091,1\\n8092,0\\n8093,1\\n8094,1\\n8095,0\\n8096,0\\n8097,1\\n8098,1\\n8099,1\\n8100,1\\n8101,0\\n8102,1\\n8103,0\\n8104,1\\n8105,1\\n8106,0\\n8107,1\\n8108,1\\n8109,1\\n8110,0\\n8111,1\\n8112,1\\n8113,0\\n8114,0\\n8115,0\\n8116,0\\n8117,1\\n8118,1\\n8119,0\\n8120,1\\n8121,1\\n8122,0\\n8123,0\\n8124,0\\n8125,0\\n8126,1\\n8127,0\\n8128,0\\n8129,0\\n8130,1\\n8131,1\\n8132,0\\n8133,1\\n8134,1\\n8135,1\\n8136,1\\n8137,0\\n8138,1\\n8139,0\\n8140,1\\n8141,1\\n8142,1\\n8143,0\\n8144,1\\n8145,1\\n8146,0\\n8147,1\\n8148,0\\n8149,0\\n8150,1\\n8151,1\\n8152,1\\n8153,1\\n8154,1\\n8155,1\\n8156,0\\n8157,1\\n8158,0\\n8159,1\\n8160,1\\n8161,1\\n8162,1\\n8163,1\\n8164,1\\n8165,0\\n8166,1\\n8167,0\\n8168,1\\n8169,1\\n8170,0\\n8171,0\\n8172,1\\n8173,0\\n8174,1\\n8175,1\\n8176,1\\n8177,1\\n8178,1\\n8179,1\\n8180,1\\n8181,0\\n8182,0\\n8183,1\\n8184,0\\n8185,0\\n8186,1\\n8187,1\\n8188,1\\n8189,0\\n8190,0\\n8191,1\\n8192,0\\n8193,1\\n8194,0\\n8195,0\\n8196,0\\n8197,0\\n8198,1\\n8199,0\\n8200,1\\n8201,1\\n8202,1\\n8203,0\\n8204,0\\n8205,0\\n8206,1\\n8207,0\\n8208,0\\n8209,0\\n8210,0\\n8211,0\\n8212,0\\n8213,0\\n8214,0\\n8215,1\\n8216,1\\n8217,1\\n8218,1\\n8219,1\\n8220,0\\n8221,1\\n8222,1\\n8223,1\\n8224,1\\n8225,1\\n8226,0\\n8227,1\\n8228,0\\n8229,1\\n8230,0\\n8231,1\\n8232,0\\n8233,1\\n8234,1\\n8235,1\\n8236,0\\n8237,0\\n8238,0\\n8239,1\\n8240,0\\n8241,0\\n8242,1\\n8243,0\\n8244,0\\n8245,0\\n8246,0\\n8247,1\\n8248,1\\n8249,1\\n8250,1\\n8251,0\\n8252,1\\n8253,1\\n8254,0\\n8255,1\\n8256,1\\n8257,1\\n8258,1\\n8259,0\\n8260,0\\n8261,1\\n8262,0\\n8263,1\\n8264,1\\n8265,1\\n8266,1\\n8267,0\\n8268,1\\n8269,1\\n8270,1\\n8271,0\\n8272,0\\n8273,0\\n8274,0\\n8275,1\\n8276,1\\n8277,1\\n8278,1\\n8279,1\\n8280,1\\n8281,0\\n8282,0\\n8283,1\\n8284,1\\n8285,0\\n8286,1\\n8287,1\\n8288,0\\n8289,0\\n8290,1\\n8291,1\\n8292,0\\n8293,0\\n8294,0\\n8295,0\\n8296,0\\n8297,0\\n8298,1\\n8299,0\\n8300,1\\n8301,0\\n8302,1\\n8303,0\\n8304,1\\n8305,1\\n8306,0\\n8307,0\\n8308,0\\n8309,1\\n8310,0\\n8311,1\\n8312,1\\n8313,0\\n8314,1\\n8315,0\\n8316,0\\n8317,0\\n8318,0\\n8319,0\\n8320,1\\n8321,0\\n8322,1\\n8323,0\\n8324,1\\n8325,0\\n8326,0\\n8327,0\\n8328,0\\n8329,0\\n8330,0\\n8331,1\\n8332,1\\n8333,0\\n8334,1\\n8335,1\\n8336,0\\n8337,0\\n8338,0\\n8339,1\\n8340,1\\n8341,1\\n8342,1\\n8343,0\\n8344,1\\n8345,1\\n8346,1\\n8347,1\\n8348,1\\n8349,1\\n8350,1\\n8351,0\\n8352,0\\n8353,1\\n8354,0\\n8355,0\\n8356,0\\n8357,1\\n8358,0\\n8359,0\\n8360,1\\n8361,0\\n8362,1\\n8363,1\\n8364,1\\n8365,0\\n8366,1\\n8367,1\\n8368,1\\n8369,0\\n8370,0\\n8371,0\\n8372,1\\n8373,1\\n8374,0\\n8375,1\\n8376,1\\n8377,0\\n8378,1\\n8379,1\\n8380,0\\n8381,0\\n8382,1\\n8383,0\\n8384,0\\n8385,1\\n8386,0\\n8387,1\\n8388,1\\n8389,1\\n8390,1\\n8391,0\\n8392,1\\n8393,1\\n8394,1\\n8395,1\\n8396,0\\n8397,1\\n8398,1\\n8399,1\\n8400,0\\n8401,0\\n8402,1\\n8403,0\\n8404,0\\n8405,1\\n8406,0\\n8407,1\\n8408,1\\n8409,1\\n8410,1\\n8411,0\\n8412,1\\n8413,0\\n8414,0\\n8415,0\\n8416,0\\n8417,1\\n8418,1\\n8419,0\\n8420,1\\n8421,0\\n8422,1\\n8423,1\\n8424,1\\n8425,1\\n8426,0\\n8427,1\\n8428,0\\n8429,1\\n8430,1\\n8431,1\\n8432,1\\n8433,0\\n8434,0\\n8435,0\\n8436,1\\n8437,1\\n8438,0\\n8439,1\\n8440,1\\n8441,0\\n8442,0\\n8443,1\\n8444,1\\n8445,1\\n8446,0\\n8447,0\\n8448,1\\n8449,1\\n8450,0\\n8451,1\\n8452,0\\n8453,1\\n8454,1\\n8455,0\\n8456,0\\n8457,0\\n8458,0\\n8459,1\\n8460,1\\n8461,0\\n8462,0\\n8463,0\\n8464,0\\n8465,1\\n8466,1\\n8467,1\\n8468,0\\n8469,1\\n8470,1\\n8471,1\\n8472,1\\n8473,1\\n8474,1\\n8475,1\\n8476,0\\n8477,0\\n8478,0\\n8479,0\\n8480,0\\n8481,0\\n8482,0\\n8483,1\\n8484,1\\n8485,0\\n8486,1\\n8487,1\\n8488,0\\n8489,1\\n8490,1\\n8491,1\\n8492,1\\n8493,0\\n8494,1\\n8495,1\\n8496,1\\n8497,1\\n8498,0\\n8499,1\\n8500,0\\n8501,1\\n8502,0\\n8503,0\\n8504,1\\n8505,1\\n8506,0\\n8507,1\\n8508,0\\n8509,0\\n8510,1\\n8511,0\\n8512,0\\n8513,0\\n8514,1\\n8515,0\\n8516,1\\n8517,0\\n8518,0\\n8519,1\\n8520,0\\n8521,1\\n8522,1\\n8523,0\\n8524,1\\n8525,0\\n8526,1\\n8527,1\\n8528,0\\n8529,1\\n8530,1\\n8531,0\\n8532,0\\n8533,1\\n8534,1\\n8535,1\\n8536,1\\n8537,1\\n8538,1\\n8539,1\\n8540,0\\n8541,0\\n8542,1\\n8543,0\\n8544,1\\n8545,0\\n8546,0\\n8547,0\\n8548,0\\n8549,0\\n8550,0\\n8551,1\\n8552,1\\n8553,1\\n8554,0\\n8555,1\\n8556,1\\n8557,1\\n8558,1\\n8559,0\\n8560,1\\n8561,1\\n8562,0\\n8563,0\\n8564,0\\n8565,0\\n8566,1\\n8567,1\\n8568,0\\n8569,1\\n8570,1\\n8571,0\\n8572,0\\n8573,1\\n8574,0\\n8575,1\\n8576,1\\n8577,1\\n8578,0\\n8579,1\\n8580,1\\n8581,1\\n8582,1\\n8583,0\\n8584,1\\n8585,1\\n8586,1\\n8587,1\\n8588,1\\n8589,1\\n8590,0\\n8591,0\\n8592,0\\n8593,1\\n8594,1\\n8595,1\\n8596,0\\n8597,1\\n8598,1\\n8599,1\\n8600,1\\n8601,1\\n8602,0\\n8603,0\\n8604,0\\n8605,1\\n8606,1\\n8607,1\\n8608,1\\n8609,1\\n8610,1\\n8611,0\\n8612,0\\n8613,0\\n8614,1\\n8615,0\\n8616,1\\n8617,0\\n8618,1\\n8619,1\\n8620,0\\n8621,0\\n8622,1\\n8623,1\\n8624,0\\n8625,1\\n8626,1\\n8627,1\\n8628,0\\n8629,1\\n8630,1\\n8631,0\\n8632,1\\n8633,1\\n8634,1\\n8635,1\\n8636,0\\n8637,0\\n8638,0\\n8639,0\\n8640,1\\n8641,1\\n8642,1\\n8643,0\\n8644,1\\n8645,0\\n8646,1\\n8647,1\\n8648,0\\n8649,1\\n8650,1\\n8651,0\\n8652,0\\n8653,0\\n8654,0\\n8655,1\\n8656,0\\n8657,1\\n8658,1\\n8659,1\\n8660,0\\n8661,0\\n8662,0\\n8663,1\\n8664,0\\n8665,0\\n8666,0\\n8667,1\\n8668,0\\n8669,0\\n8670,1\\n8671,0\\n8672,0\\n8673,1\\n8674,0\\n8675,0\\n8676,1\\n8677,1\\n8678,0\\n8679,1\\n8680,0\\n8681,1\\n8682,1\\n8683,1\\n8684,0\\n8685,1\\n8686,0\\n8687,0\\n8688,0\\n8689,0\\n8690,1\\n8691,1\\n8692,1\\n8693,0\\n8694,1\\n8695,0\\n8696,1\\n8697,0\\n8698,1\\n8699,1\\n8700,0\\n8701,1\\n8702,0\\n8703,1\\n8704,0\\n8705,1\\n8706,1\\n8707,1\\n8708,1\\n8709,1\\n8710,0\\n8711,1\\n8712,1\\n8713,1\\n8714,0\\n8715,0\\n8716,0\\n8717,1\\n8718,1\\n8719,1\\n8720,0\\n8721,1\\n8722,0\\n8723,1\\n8724,0\\n8725,0\\n8726,1\\n8727,0\\n8728,1\\n8729,0\\n8730,1\\n8731,1\\n8732,0\\n8733,1\\n8734,0\\n8735,0\\n8736,0\\n8737,1\\n8738,0\\n8739,1\\n8740,1\\n8741,0\\n8742,0\\n8743,1\\n8744,0\\n8745,0\\n8746,1\\n8747,1\\n8748,1\\n8749,0\\n8750,0\\n8751,0\\n8752,1\\n8753,1\\n8754,1\\n8755,1\\n8756,1\\n8757,0\\n8758,0\\n8759,0\\n8760,0\\n8761,0\\n8762,1\\n8763,0\\n8764,0\\n8765,0\\n8766,0\\n8767,1\\n8768,0\\n8769,0\\n8770,1\\n8771,0\\n8772,1\\n8773,0\\n8774,1\\n8775,0\\n8776,1\\n8777,0\\n8778,1\\n8779,1\\n8780,0\\n8781,1\\n8782,0\\n8783,1\\n8784,1\\n8785,0\\n8786,0\\n8787,0\\n8788,1\\n8789,1\\n8790,0\\n8791,1\\n8792,0\\n8793,0\\n8794,0\\n8795,1\\n8796,0\\n8797,1\\n8798,1\\n8799,0\\n8800,0\\n8801,0\\n8802,1\\n8803,0\\n8804,0\\n8805,0\\n8806,0\\n8807,1\\n8808,1\\n8809,0\\n8810,1\\n8811,0\\n8812,0\\n8813,0\\n8814,1\\n8815,0\\n8816,0\\n8817,1\\n8818,0\\n8819,0\\n8820,1\\n8821,0\\n8822,0\\n8823,1\\n8824,0\\n8825,1\\n8826,0\\n8827,1\\n8828,1\\n8829,0\\n8830,0\\n8831,0\\n8832,1\\n8833,1\\n8834,0\\n8835,1\\n8836,1\\n8837,0\\n8838,1\\n8839,1\\n8840,1\\n8841,0\\n8842,1\\n8843,0\\n8844,1\\n8845,1\\n8846,0\\n8847,0\\n8848,0\\n8849,1\\n8850,1\\n8851,1\\n8852,0\\n8853,0\\n8854,1\\n8855,1\\n8856,1\\n8857,1\\n8858,0\\n8859,1\\n8860,1\\n8861,1\\n8862,1\\n8863,0\\n8864,0\\n8865,0\\n8866,0\\n8867,0\\n8868,0\\n8869,0\\n8870,1\\n8871,0\\n8872,0\\n8873,1\\n8874,0\\n8875,1\\n8876,1\\n8877,0\\n8878,1\\n8879,1\\n8880,1\\n8881,1\\n8882,1\\n8883,0\\n8884,0\\n8885,0\\n8886,0\\n8887,1\\n8888,1\\n8889,0\\n8890,0\\n8891,0\\n8892,1\\n8893,1\\n8894,0\\n8895,1\\n8896,0\\n8897,1\\n8898,1\\n8899,0\\n8900,0\\n8901,1\\n8902,1\\n8903,1\\n8904,1\\n8905,0\\n8906,0\\n8907,0\\n8908,0\\n8909,0\\n8910,0\\n8911,0\\n8912,1\\n8913,0\\n8914,1\\n8915,1\\n8916,1\\n8917,1\\n8918,1\\n8919,1\\n8920,1\\n8921,1\\n8922,1\\n8923,1\\n8924,1\\n8925,1\\n8926,0\\n8927,0\\n8928,0\\n8929,0\\n8930,0\\n8931,1\\n8932,0\\n8933,1\\n8934,1\\n8935,0\\n8936,0\\n8937,0\\n8938,0\\n8939,1\\n8940,0\\n8941,1\\n8942,1\\n8943,1\\n8944,0\\n8945,0\\n8946,1\\n8947,1\\n8948,0\\n8949,1\\n8950,1\\n8951,1\\n8952,0\\n8953,0\\n8954,0\\n8955,1\\n8956,1\\n8957,1\\n8958,1\\n8959,1\\n8960,0\\n8961,0\\n8962,0\\n8963,1\\n8964,1\\n8965,0\\n8966,0\\n8967,1\\n8968,1\\n8969,0\\n8970,1\\n8971,0\\n8972,1\\n8973,1\\n8974,0\\n8975,1\\n8976,0\\n8977,1\\n8978,1\\n8979,0\\n8980,1\\n8981,1\\n8982,1\\n8983,1\\n8984,0\\n8985,1\\n8986,1\\n8987,1\\n8988,1\\n8989,1\\n8990,1\\n8991,1\\n8992,0\\n8993,1\\n8994,0\\n8995,1\\n8996,1\\n8997,1\\n8998,0\\n8999,1\\n9000,0\\n9001,1\\n9002,1\\n9003,0\\n9004,1\\n9005,0\\n9006,1\\n9007,1\\n9008,1\\n9009,1\\n9010,0\\n9011,0\\n9012,0\\n9013,0\\n9014,1\\n9015,0\\n9016,1\\n9017,0\\n9018,0\\n9019,1\\n9020,0\\n9021,1\\n9022,1\\n9023,0\\n9024,0\\n9025,1\\n9026,1\\n9027,1\\n9028,1\\n9029,0\\n9030,0\\n9031,0\\n9032,1\\n9033,0\\n9034,0\\n9035,1\\n9036,1\\n9037,1\\n9038,0\\n9039,1\\n9040,1\\n9041,0\\n9042,0\\n9043,1\\n9044,1\\n9045,1\\n9046,0\\n9047,1\\n9048,0\\n9049,0\\n9050,1\\n9051,0\\n9052,1\\n9053,1\\n9054,0\\n9055,1\\n9056,0\\n9057,1\\n9058,0\\n9059,1\\n9060,1\\n9061,0\\n9062,0\\n9063,0\\n9064,1\\n9065,1\\n9066,1\\n9067,1\\n9068,0\\n9069,1\\n9070,1\\n9071,1\\n9072,1\\n9073,1\\n9074,0\\n9075,0\\n9076,1\\n9077,1\\n9078,0\\n9079,1\\n9080,1\\n9081,0\\n9082,1\\n9083,0\\n9084,0\\n9085,1\\n9086,0\\n9087,1\\n9088,1\\n9089,1\\n9090,0\\n9091,0\\n9092,0\\n9093,0\\n9094,1\\n9095,0\\n9096,0\\n9097,0\\n9098,0\\n9099,1\\n9100,0\\n9101,1\\n9102,0\\n9103,1\\n9104,1\\n9105,0\\n9106,1\\n9107,1\\n9108,0\\n9109,1\\n9110,0\\n9111,1\\n9112,0\\n9113,0\\n9114,0\\n9115,0\\n9116,0\\n9117,0\\n9118,0\\n9119,1\\n9120,1\\n9121,0\\n9122,0\\n9123,0\\n9124,1\\n9125,1\\n9126,1\\n9127,0\\n9128,0\\n9129,1\\n9130,1\\n9131,0\\n9132,0\\n9133,0\\n9134,0\\n9135,0\\n9136,1\\n9137,1\\n9138,1\\n9139,1\\n9140,1\\n9141,1\\n9142,1\\n9143,0\\n9144,0\\n9145,1\\n9146,0\\n9147,0\\n9148,0\\n9149,1\\n9150,0\\n9151,1\\n9152,1\\n9153,1\\n9154,0\\n9155,0\\n9156,1\\n9157,0\\n9158,0\\n9159,0\\n9160,1\\n9161,0\\n9162,0\\n9163,1\\n9164,0\\n9165,1\\n9166,0\\n9167,1\\n9168,1\\n9169,0\\n9170,0\\n9171,0\\n9172,0\\n9173,1\\n9174,1\\n9175,1\\n9176,0\\n9177,1\\n9178,0\\n9179,0\\n9180,0\\n9181,1\\n9182,1\\n9183,0\\n9184,1\\n9185,1\\n9186,1\\n9187,0\\n9188,0\\n9189,0\\n9190,0\\n9191,0\\n9192,1\\n9193,0\\n9194,0\\n9195,0\\n9196,1\\n9197,1\\n9198,1\\n9199,0\\n9200,1\\n9201,0\\n9202,0\\n9203,0\\n9204,1\\n9205,1\\n9206,1\\n9207,0\\n9208,0\\n9209,1\\n9210,0\\n9211,1\\n9212,1\\n9213,0\\n9214,0\\n9215,0\\n9216,1\\n9217,0\\n9218,1\\n9219,0\\n9220,0\\n9221,1\\n9222,0\\n9223,1\\n9224,0\\n9225,1\\n9226,1\\n9227,0\\n9228,0\\n9229,0\\n9230,0\\n9231,0\\n9232,0\\n9233,0\\n9234,0\\n9235,0\\n9236,1\\n9237,0\\n9238,1\\n9239,1\\n9240,0\\n9241,0\\n9242,1\\n9243,0\\n9244,1\\n9245,1\\n9246,0\\n9247,1\\n9248,0\\n9249,1\\n9250,1\\n9251,0\\n9252,1\\n9253,1\\n9254,0\\n9255,1\\n9256,0\\n9257,1\\n9258,1\\n9259,0\\n9260,1\\n9261,1\\n9262,1\\n9263,1\\n9264,0\\n9265,0\\n9266,1\\n9267,0\\n9268,1\\n9269,1\\n9270,0\\n9271,1\\n9272,1\\n9273,1\\n9274,1\\n9275,1\\n9276,0\\n9277,1\\n9278,1\\n9279,0\\n9280,1\\n9281,0\\n9282,0\\n9283,0\\n9284,1\\n9285,1\\n9286,1\\n9287,0\\n9288,0\\n9289,0\\n9290,1\\n9291,1\\n9292,1\\n9293,1\\n9294,1\\n9295,1\\n9296,0\\n9297,1\\n9298,0\\n9299,0\\n9300,0\\n9301,0\\n9302,0\\n9303,0\\n9304,1\\n9305,1\\n9306,0\\n9307,1\\n9308,1\\n9309,1\\n9310,0\\n9311,0\\n9312,1\\n9313,1\\n9314,0\\n9315,1\\n9316,1\\n9317,0\\n9318,1\\n9319,1\\n9320,1\\n9321,1\\n9322,1\\n9323,0\\n9324,1\\n9325,0\\n9326,1\\n9327,0\\n9328,0\\n9329,1\\n9330,0\\n9331,1\\n9332,1\\n9333,1\\n9334,0\\n9335,0\\n9336,1\\n9337,0\\n9338,0\\n9339,1\\n9340,0\\n9341,1\\n9342,1\\n9343,0\\n9344,1\\n9345,1\\n9346,0\\n9347,0\\n9348,0\\n9349,1\\n9350,0\\n9351,1\\n9352,1\\n9353,1\\n9354,0\\n9355,1\\n9356,0\\n9357,0\\n9358,0\\n9359,0\\n9360,0\\n9361,1\\n9362,1\\n9363,1\\n9364,1\\n9365,1\\n9366,1\\n9367,1\\n9368,1\\n9369,0\\n9370,0\\n9371,0\\n9372,0\\n9373,1\\n9374,1\\n9375,1\\n9376,0\\n9377,1\\n9378,1\\n9379,0\\n9380,0\\n9381,1\\n9382,0\\n9383,0\\n9384,1\\n9385,0\\n9386,1\\n9387,0\\n9388,1\\n9389,0\\n9390,1\\n9391,0\\n9392,1\\n9393,0\\n9394,1\\n9395,1\\n9396,0\\n9397,1\\n9398,0\\n9399,1\\n9400,1\\n9401,1\\n9402,0\\n9403,0\\n9404,0\\n9405,0\\n9406,1\\n9407,1\\n9408,1\\n9409,0\\n9410,1\\n9411,0\\n9412,1\\n9413,1\\n9414,1\\n9415,1\\n9416,1\\n9417,1\\n9418,1\\n9419,1\\n9420,1\\n9421,1\\n9422,1\\n9423,1\\n9424,1\\n9425,1\\n9426,0\\n9427,0\\n9428,0\\n9429,1\\n9430,1\\n9431,0\\n9432,0\\n9433,0\\n9434,0\\n9435,0\\n9436,0\\n9437,0\\n9438,0\\n9439,1\\n9440,1\\n9441,0\\n9442,0\\n9443,1\\n9444,0\\n9445,0\\n9446,1\\n9447,0\\n9448,0\\n9449,0\\n9450,0\\n9451,0\\n9452,1\\n9453,0\\n9454,0\\n9455,1\\n9456,1\\n9457,0\\n9458,1\\n9459,0\\n9460,1\\n9461,0\\n9462,1\\n9463,1\\n9464,1\\n9465,0\\n9466,0\\n9467,1\\n9468,1\\n9469,1\\n9470,1\\n9471,1\\n9472,1\\n9473,0\\n9474,1\\n9475,1\\n9476,1\\n9477,1\\n9478,1\\n9479,0\\n9480,0\\n9481,1\\n9482,1\\n9483,0\\n9484,0\\n9485,1\\n9486,0\\n9487,1\\n9488,1\\n9489,1\\n9490,1\\n9491,1\\n9492,1\\n9493,0\\n9494,0\\n9495,1\\n9496,1\\n9497,0\\n9498,0\\n9499,1\\n9500,0\\n9501,0\\n9502,0\\n9503,0\\n9504,0\\n9505,0\\n9506,1\\n9507,0\\n9508,1\\n9509,1\\n9510,0\\n9511,1\\n9512,0\\n9513,1\\n9514,1\\n9515,1\\n9516,0\\n9517,0\\n9518,1\\n9519,0\\n9520,0\\n9521,1\\n9522,1\\n9523,1\\n9524,0\\n9525,1\\n9526,0\\n9527,0\\n9528,0\\n9529,1\\n9530,0\\n9531,1\\n9532,0\\n9533,0\\n9534,0\\n9535,1\\n9536,1\\n9537,1\\n9538,0\\n9539,0\\n9540,0\\n9541,1\\n9542,0\\n9543,1\\n9544,0\\n9545,1\\n9546,1\\n9547,0\\n9548,1\\n9549,0\\n9550,0\\n9551,0\\n9552,0\\n9553,1\\n9554,0\\n9555,0\\n9556,0\\n9557,0\\n9558,0\\n9559,1\\n9560,0\\n9561,1\\n9562,1\\n9563,0\\n9564,0\\n9565,0\\n9566,1\\n9567,1\\n9568,0\\n9569,0\\n9570,0\\n9571,1\\n9572,1\\n9573,1\\n9574,1\\n9575,0\\n9576,1\\n9577,0\\n9578,1\\n9579,1\\n9580,1\\n9581,1\\n9582,1\\n9583,1\\n9584,0\\n9585,1\\n9586,0\\n9587,1\\n9588,1\\n9589,0\\n9590,1\\n9591,1\\n9592,0\\n9593,1\\n9594,0\\n9595,1\\n9596,0\\n9597,1\\n9598,0\\n9599,1\\n9600,1\\n9601,1\\n9602,0\\n9603,1\\n9604,0\\n9605,0\\n9606,1\\n9607,1\\n9608,1\\n9609,1\\n9610,1\\n9611,1\\n9612,1\\n9613,0\\n9614,0\\n9615,1\\n9616,0\\n9617,1\\n9618,1\\n9619,1\\n9620,1\\n9621,0\\n9622,0\\n9623,1\\n9624,0\\n9625,0\\n9626,0\\n9627,0\\n9628,0\\n9629,0\\n9630,1\\n9631,1\\n9632,1\\n9633,1\\n9634,1\\n9635,1\\n9636,0\\n9637,0\\n9638,1\\n9639,0\\n9640,0\\n9641,1\\n9642,0\\n9643,1\\n9644,0\\n9645,1\\n9646,0\\n9647,0\\n9648,1\\n9649,0\\n9650,0\\n9651,1\\n9652,0\\n9653,0\\n9654,1\\n9655,1\\n9656,0\\n9657,1\\n9658,1\\n9659,0\\n9660,1\\n9661,1\\n9662,1\\n9663,0\\n9664,1\\n9665,0\\n9666,1\\n9667,0\\n9668,1\\n9669,1\\n9670,0\\n9671,1\\n9672,0\\n9673,1\\n9674,1\\n9675,0\\n9676,0\\n9677,1\\n9678,0\\n9679,0\\n9680,1\\n9681,1\\n9682,0\\n9683,0\\n9684,0\\n9685,1\\n9686,1\\n9687,0\\n9688,0\\n9689,1\\n9690,0\\n9691,1\\n9692,0\\n9693,0\\n9694,0\\n9695,1\\n9696,0\\n9697,0\\n9698,0\\n9699,1\\n9700,0\\n9701,0\\n9702,0\\n9703,0\\n9704,0\\n9705,1\\n9706,1\\n9707,0\\n9708,1\\n9709,1\\n9710,1\\n9711,1\\n9712,1\\n9713,1\\n9714,1\\n9715,1\\n9716,1\\n9717,1\\n9718,1\\n9719,1\\n9720,0\\n9721,1\\n9722,0\\n9723,1\\n9724,1\\n9725,1\\n9726,0\\n9727,0\\n9728,0\\n9729,1\\n9730,0\\n9731,0\\n9732,0\\n9733,1\\n9734,1\\n9735,0\\n9736,0\\n9737,0\\n9738,1\\n9739,1\\n9740,0\\n9741,1\\n9742,1\\n9743,0\\n9744,0\\n9745,1\\n9746,1\\n9747,1\\n9748,1\\n9749,1\\n9750,0\\n9751,1\\n9752,1\\n9753,1\\n9754,0\\n9755,1\\n9756,1\\n9757,0\\n9758,0\\n9759,0\\n9760,1\\n9761,1\\n9762,0\\n9763,0\\n9764,0\\n9765,0\\n9766,0\\n9767,0\\n9768,0\\n9769,1\\n9770,1\\n9771,0\\n9772,1\\n9773,0\\n9774,0\\n9775,1\\n9776,0\\n9777,0\\n9778,1\\n9779,0\\n9780,1\\n9781,0\\n9782,1\\n9783,1\\n9784,0\\n9785,1\\n9786,1\\n9787,1\\n9788,1\\n9789,1\\n9790,1\\n9791,1\\n9792,1\\n9793,0\\n9794,1\\n9795,0\\n9796,1\\n9797,1\\n9798,1\\n9799,0\\n9800,0\\n9801,1\\n9802,0\\n9803,1\\n9804,1\\n9805,1\\n9806,1\\n9807,1\\n9808,1\\n9809,1\\n9810,1\\n9811,0\\n9812,1\\n9813,0\\n9814,1\\n9815,0\\n9816,0\\n9817,0\\n9818,0\\n9819,1\\n9820,1\\n9821,0\\n9822,0\\n9823,0\\n9824,0\\n9825,0\\n9826,0\\n9827,1\\n9828,0\\n9829,0\\n9830,1\\n9831,0\\n9832,1\\n9833,0\\n9834,0\\n9835,0\\n9836,1\\n9837,1\\n9838,1\\n9839,1\\n9840,0\\n9841,0\\n9842,0\\n9843,1\\n9844,0\\n9845,1\\n9846,0\\n9847,0\\n9848,0\\n9849,0\\n9850,0\\n9851,1\\n9852,1\\n9853,0\\n9854,0\\n9855,0\\n9856,0\\n9857,1\\n9858,0\\n9859,0\\n9860,1\\n9861,1\\n9862,1\\n9863,1\\n9864,0\\n9865,1\\n9866,1\\n9867,0\\n9868,1\\n9869,0\\n9870,0\\n9871,1\\n9872,0\\n9873,0\\n9874,1\\n9875,1\\n9876,1\\n9877,0\\n9878,0\\n9879,0\\n9880,0\\n9881,1\\n9882,0\\n9883,1\\n9884,1\\n9885,1\\n9886,1\\n9887,1\\n9888,0\\n9889,1\\n9890,1\\n9891,1\\n9892,0\\n9893,1\\n9894,0\\n9895,0\\n9896,1\\n9897,1\\n9898,1\\n9899,0\\n9900,0\\n9901,0\\n9902,0\\n9903,0\\n9904,1\\n9905,1\\n9906,0\\n9907,0\\n9908,1\\n9909,1\\n9910,0\\n9911,1\\n9912,1\\n9913,0\\n9914,1\\n9915,0\\n9916,0\\n9917,0\\n9918,1\\n9919,1\\n9920,1\\n9921,0\\n9922,0\\n9923,1\\n9924,1\\n9925,1\\n9926,0\\n9927,0\\n9928,1\\n9929,1\\n9930,1\\n9931,0\\n9932,0\\n9933,0\\n9934,0\\n9935,0\\n9936,0\\n9937,0\\n9938,1\\n9939,1\\n9940,1\\n9941,1\\n9942,0\\n9943,1\\n9944,0\\n9945,1\\n9946,1\\n9947,1\\n9948,0\\n9949,0\\n9950,0\\n9951,1\\n9952,1\\n9953,1\\n9954,1\\n9955,1\\n9956,1\\n9957,1\\n9958,0\\n9959,0\\n9960,1\\n9961,0\\n9962,1\\n9963,0\\n9964,0\\n9965,1\\n9966,1\\n9967,0\\n9968,0\\n9969,1\\n9970,1\\n9971,1\\n9972,0\\n9973,0\\n9974,0\\n9975,0\\n9976,1\\n9977,0\\n9978,1\\n9979,1\\n9980,0\\n9981,1\\n9982,1\\n9983,1\\n9984,1\\n9985,1\\n9986,0\\n9987,1\\n9988,0\\n9989,1\\n9990,1\\n9991,0\\n9992,0\\n9993,1\\n9994,1\\n9995,1\\n9996,0\\n9997,0\\n9998,0\\n9999,0\\n',\n",
              " 'ensemble_transformer.csv': b',transformer prediction\\n0,1\\n1,0\\n2,0\\n3,0\\n4,0\\n5,1\\n6,0\\n7,0\\n8,0\\n9,1\\n10,1\\n11,0\\n12,1\\n13,1\\n14,0\\n15,0\\n16,1\\n17,0\\n18,1\\n19,0\\n20,1\\n21,0\\n22,1\\n23,0\\n24,0\\n25,1\\n26,0\\n27,1\\n28,0\\n29,1\\n30,1\\n31,1\\n32,0\\n33,0\\n34,0\\n35,1\\n36,0\\n37,0\\n38,0\\n39,1\\n40,0\\n41,0\\n42,0\\n43,1\\n44,0\\n45,1\\n46,1\\n47,0\\n48,1\\n49,0\\n50,0\\n51,1\\n52,0\\n53,0\\n54,1\\n55,1\\n56,1\\n57,1\\n58,1\\n59,1\\n60,0\\n61,0\\n62,0\\n63,0\\n64,1\\n65,0\\n66,1\\n67,1\\n68,1\\n69,1\\n70,0\\n71,0\\n72,0\\n73,0\\n74,0\\n75,1\\n76,1\\n77,1\\n78,1\\n79,0\\n80,0\\n81,1\\n82,0\\n83,1\\n84,0\\n85,1\\n86,1\\n87,0\\n88,1\\n89,0\\n90,0\\n91,1\\n92,0\\n93,1\\n94,0\\n95,1\\n96,1\\n97,0\\n98,0\\n99,1\\n100,0\\n101,0\\n102,1\\n103,1\\n104,1\\n105,0\\n106,1\\n107,0\\n108,0\\n109,1\\n110,0\\n111,1\\n112,1\\n113,1\\n114,1\\n115,0\\n116,0\\n117,1\\n118,1\\n119,1\\n120,1\\n121,0\\n122,1\\n123,1\\n124,0\\n125,1\\n126,0\\n127,1\\n128,0\\n129,1\\n130,0\\n131,1\\n132,0\\n133,1\\n134,1\\n135,0\\n136,1\\n137,1\\n138,1\\n139,1\\n140,0\\n141,0\\n142,1\\n143,1\\n144,0\\n145,1\\n146,0\\n147,0\\n148,0\\n149,1\\n150,1\\n151,0\\n152,1\\n153,1\\n154,1\\n155,1\\n156,1\\n157,0\\n158,1\\n159,0\\n160,1\\n161,1\\n162,1\\n163,0\\n164,1\\n165,0\\n166,1\\n167,1\\n168,1\\n169,0\\n170,0\\n171,0\\n172,0\\n173,1\\n174,1\\n175,0\\n176,1\\n177,0\\n178,0\\n179,1\\n180,0\\n181,1\\n182,0\\n183,0\\n184,0\\n185,1\\n186,0\\n187,0\\n188,0\\n189,1\\n190,1\\n191,0\\n192,1\\n193,1\\n194,1\\n195,0\\n196,0\\n197,1\\n198,0\\n199,0\\n200,0\\n201,1\\n202,1\\n203,1\\n204,1\\n205,1\\n206,1\\n207,0\\n208,0\\n209,0\\n210,0\\n211,1\\n212,0\\n213,1\\n214,0\\n215,1\\n216,1\\n217,1\\n218,0\\n219,0\\n220,1\\n221,0\\n222,0\\n223,0\\n224,0\\n225,1\\n226,1\\n227,1\\n228,1\\n229,1\\n230,0\\n231,0\\n232,1\\n233,0\\n234,1\\n235,0\\n236,0\\n237,1\\n238,0\\n239,0\\n240,0\\n241,0\\n242,1\\n243,1\\n244,0\\n245,1\\n246,1\\n247,1\\n248,1\\n249,0\\n250,0\\n251,0\\n252,0\\n253,0\\n254,0\\n255,1\\n256,1\\n257,1\\n258,1\\n259,1\\n260,0\\n261,1\\n262,1\\n263,1\\n264,0\\n265,0\\n266,1\\n267,0\\n268,1\\n269,1\\n270,1\\n271,1\\n272,0\\n273,1\\n274,1\\n275,1\\n276,0\\n277,1\\n278,0\\n279,1\\n280,1\\n281,1\\n282,1\\n283,0\\n284,0\\n285,0\\n286,1\\n287,1\\n288,0\\n289,1\\n290,0\\n291,0\\n292,1\\n293,0\\n294,1\\n295,0\\n296,1\\n297,0\\n298,1\\n299,1\\n300,1\\n301,1\\n302,1\\n303,0\\n304,0\\n305,1\\n306,0\\n307,1\\n308,1\\n309,1\\n310,1\\n311,1\\n312,1\\n313,1\\n314,0\\n315,0\\n316,0\\n317,0\\n318,0\\n319,1\\n320,0\\n321,0\\n322,1\\n323,1\\n324,1\\n325,1\\n326,0\\n327,0\\n328,1\\n329,0\\n330,1\\n331,1\\n332,1\\n333,1\\n334,0\\n335,1\\n336,1\\n337,1\\n338,1\\n339,1\\n340,1\\n341,1\\n342,0\\n343,0\\n344,1\\n345,0\\n346,1\\n347,1\\n348,0\\n349,0\\n350,1\\n351,0\\n352,1\\n353,0\\n354,0\\n355,0\\n356,1\\n357,0\\n358,0\\n359,1\\n360,1\\n361,0\\n362,1\\n363,1\\n364,1\\n365,0\\n366,1\\n367,0\\n368,1\\n369,1\\n370,1\\n371,1\\n372,1\\n373,1\\n374,1\\n375,0\\n376,1\\n377,1\\n378,0\\n379,1\\n380,1\\n381,1\\n382,1\\n383,0\\n384,1\\n385,0\\n386,1\\n387,1\\n388,1\\n389,1\\n390,0\\n391,0\\n392,1\\n393,0\\n394,0\\n395,0\\n396,1\\n397,0\\n398,1\\n399,0\\n400,1\\n401,0\\n402,0\\n403,1\\n404,0\\n405,1\\n406,1\\n407,0\\n408,0\\n409,0\\n410,0\\n411,1\\n412,0\\n413,1\\n414,0\\n415,0\\n416,1\\n417,1\\n418,0\\n419,0\\n420,0\\n421,0\\n422,0\\n423,0\\n424,1\\n425,1\\n426,0\\n427,0\\n428,1\\n429,1\\n430,0\\n431,1\\n432,0\\n433,1\\n434,1\\n435,0\\n436,1\\n437,0\\n438,0\\n439,0\\n440,1\\n441,0\\n442,0\\n443,0\\n444,1\\n445,0\\n446,0\\n447,1\\n448,0\\n449,0\\n450,1\\n451,0\\n452,0\\n453,0\\n454,1\\n455,1\\n456,0\\n457,1\\n458,0\\n459,0\\n460,0\\n461,0\\n462,0\\n463,1\\n464,0\\n465,1\\n466,0\\n467,0\\n468,0\\n469,0\\n470,1\\n471,0\\n472,1\\n473,0\\n474,0\\n475,1\\n476,0\\n477,0\\n478,1\\n479,0\\n480,1\\n481,0\\n482,0\\n483,0\\n484,1\\n485,0\\n486,0\\n487,1\\n488,1\\n489,1\\n490,0\\n491,1\\n492,1\\n493,0\\n494,0\\n495,0\\n496,1\\n497,1\\n498,1\\n499,1\\n500,0\\n501,0\\n502,1\\n503,0\\n504,0\\n505,1\\n506,1\\n507,0\\n508,0\\n509,0\\n510,1\\n511,0\\n512,0\\n513,1\\n514,0\\n515,0\\n516,0\\n517,0\\n518,0\\n519,1\\n520,0\\n521,0\\n522,0\\n523,0\\n524,1\\n525,0\\n526,0\\n527,0\\n528,1\\n529,1\\n530,0\\n531,1\\n532,1\\n533,0\\n534,1\\n535,1\\n536,1\\n537,1\\n538,0\\n539,0\\n540,1\\n541,0\\n542,1\\n543,1\\n544,1\\n545,1\\n546,0\\n547,0\\n548,1\\n549,0\\n550,1\\n551,1\\n552,1\\n553,0\\n554,0\\n555,1\\n556,1\\n557,1\\n558,0\\n559,1\\n560,1\\n561,0\\n562,0\\n563,1\\n564,0\\n565,1\\n566,1\\n567,1\\n568,0\\n569,1\\n570,0\\n571,1\\n572,1\\n573,1\\n574,0\\n575,0\\n576,1\\n577,1\\n578,0\\n579,0\\n580,1\\n581,0\\n582,0\\n583,0\\n584,1\\n585,1\\n586,0\\n587,1\\n588,1\\n589,1\\n590,1\\n591,0\\n592,1\\n593,1\\n594,0\\n595,1\\n596,1\\n597,0\\n598,0\\n599,1\\n600,1\\n601,1\\n602,1\\n603,1\\n604,0\\n605,1\\n606,1\\n607,1\\n608,0\\n609,1\\n610,1\\n611,1\\n612,0\\n613,0\\n614,1\\n615,0\\n616,1\\n617,0\\n618,0\\n619,0\\n620,1\\n621,0\\n622,1\\n623,1\\n624,1\\n625,1\\n626,0\\n627,0\\n628,1\\n629,1\\n630,0\\n631,1\\n632,1\\n633,1\\n634,0\\n635,1\\n636,0\\n637,1\\n638,1\\n639,1\\n640,1\\n641,1\\n642,0\\n643,0\\n644,1\\n645,0\\n646,1\\n647,1\\n648,0\\n649,0\\n650,1\\n651,0\\n652,1\\n653,0\\n654,0\\n655,1\\n656,1\\n657,1\\n658,0\\n659,0\\n660,0\\n661,1\\n662,1\\n663,1\\n664,1\\n665,1\\n666,0\\n667,1\\n668,1\\n669,0\\n670,0\\n671,0\\n672,1\\n673,1\\n674,0\\n675,1\\n676,1\\n677,0\\n678,0\\n679,0\\n680,0\\n681,0\\n682,1\\n683,0\\n684,0\\n685,1\\n686,1\\n687,0\\n688,0\\n689,1\\n690,0\\n691,0\\n692,1\\n693,1\\n694,1\\n695,0\\n696,1\\n697,1\\n698,0\\n699,0\\n700,1\\n701,0\\n702,0\\n703,1\\n704,1\\n705,0\\n706,1\\n707,0\\n708,0\\n709,1\\n710,0\\n711,0\\n712,1\\n713,0\\n714,1\\n715,0\\n716,0\\n717,1\\n718,1\\n719,0\\n720,0\\n721,0\\n722,0\\n723,1\\n724,1\\n725,0\\n726,0\\n727,1\\n728,1\\n729,0\\n730,1\\n731,0\\n732,0\\n733,1\\n734,0\\n735,1\\n736,0\\n737,0\\n738,0\\n739,1\\n740,0\\n741,1\\n742,1\\n743,0\\n744,0\\n745,1\\n746,1\\n747,0\\n748,0\\n749,1\\n750,0\\n751,1\\n752,0\\n753,1\\n754,0\\n755,1\\n756,0\\n757,0\\n758,1\\n759,0\\n760,1\\n761,0\\n762,0\\n763,0\\n764,1\\n765,1\\n766,0\\n767,0\\n768,1\\n769,1\\n770,1\\n771,0\\n772,1\\n773,0\\n774,1\\n775,0\\n776,1\\n777,0\\n778,1\\n779,0\\n780,1\\n781,1\\n782,1\\n783,1\\n784,1\\n785,1\\n786,0\\n787,0\\n788,0\\n789,0\\n790,0\\n791,1\\n792,0\\n793,0\\n794,0\\n795,1\\n796,0\\n797,0\\n798,0\\n799,0\\n800,0\\n801,1\\n802,0\\n803,0\\n804,0\\n805,0\\n806,1\\n807,0\\n808,1\\n809,0\\n810,1\\n811,0\\n812,1\\n813,0\\n814,0\\n815,1\\n816,0\\n817,0\\n818,0\\n819,1\\n820,0\\n821,0\\n822,0\\n823,0\\n824,0\\n825,1\\n826,0\\n827,0\\n828,0\\n829,0\\n830,0\\n831,1\\n832,0\\n833,1\\n834,0\\n835,0\\n836,0\\n837,0\\n838,1\\n839,0\\n840,1\\n841,1\\n842,1\\n843,0\\n844,1\\n845,0\\n846,1\\n847,0\\n848,0\\n849,1\\n850,0\\n851,0\\n852,0\\n853,1\\n854,0\\n855,0\\n856,1\\n857,0\\n858,0\\n859,0\\n860,0\\n861,1\\n862,0\\n863,0\\n864,1\\n865,1\\n866,0\\n867,1\\n868,1\\n869,1\\n870,1\\n871,1\\n872,1\\n873,1\\n874,1\\n875,0\\n876,1\\n877,0\\n878,1\\n879,0\\n880,0\\n881,1\\n882,0\\n883,0\\n884,0\\n885,1\\n886,0\\n887,1\\n888,1\\n889,1\\n890,0\\n891,0\\n892,0\\n893,0\\n894,1\\n895,1\\n896,0\\n897,0\\n898,1\\n899,1\\n900,0\\n901,0\\n902,1\\n903,0\\n904,0\\n905,1\\n906,1\\n907,0\\n908,1\\n909,0\\n910,1\\n911,1\\n912,1\\n913,1\\n914,1\\n915,1\\n916,1\\n917,0\\n918,0\\n919,1\\n920,0\\n921,1\\n922,1\\n923,1\\n924,0\\n925,1\\n926,0\\n927,0\\n928,0\\n929,1\\n930,0\\n931,0\\n932,1\\n933,1\\n934,1\\n935,0\\n936,1\\n937,1\\n938,0\\n939,0\\n940,0\\n941,0\\n942,0\\n943,1\\n944,1\\n945,1\\n946,1\\n947,0\\n948,1\\n949,0\\n950,1\\n951,1\\n952,0\\n953,1\\n954,1\\n955,0\\n956,1\\n957,0\\n958,0\\n959,1\\n960,1\\n961,0\\n962,0\\n963,0\\n964,0\\n965,0\\n966,0\\n967,0\\n968,0\\n969,1\\n970,0\\n971,0\\n972,1\\n973,0\\n974,1\\n975,1\\n976,1\\n977,0\\n978,1\\n979,0\\n980,0\\n981,0\\n982,0\\n983,1\\n984,1\\n985,0\\n986,1\\n987,0\\n988,1\\n989,1\\n990,0\\n991,1\\n992,0\\n993,0\\n994,0\\n995,1\\n996,0\\n997,0\\n998,0\\n999,0\\n1000,1\\n1001,1\\n1002,1\\n1003,1\\n1004,1\\n1005,1\\n1006,0\\n1007,0\\n1008,1\\n1009,0\\n1010,0\\n1011,1\\n1012,0\\n1013,0\\n1014,1\\n1015,0\\n1016,0\\n1017,0\\n1018,0\\n1019,1\\n1020,0\\n1021,1\\n1022,0\\n1023,1\\n1024,1\\n1025,1\\n1026,1\\n1027,0\\n1028,0\\n1029,1\\n1030,0\\n1031,0\\n1032,0\\n1033,0\\n1034,0\\n1035,0\\n1036,1\\n1037,1\\n1038,0\\n1039,0\\n1040,1\\n1041,1\\n1042,1\\n1043,0\\n1044,0\\n1045,1\\n1046,1\\n1047,1\\n1048,1\\n1049,1\\n1050,1\\n1051,1\\n1052,0\\n1053,1\\n1054,0\\n1055,0\\n1056,0\\n1057,1\\n1058,0\\n1059,0\\n1060,1\\n1061,1\\n1062,1\\n1063,1\\n1064,1\\n1065,1\\n1066,1\\n1067,1\\n1068,1\\n1069,1\\n1070,1\\n1071,0\\n1072,1\\n1073,0\\n1074,1\\n1075,1\\n1076,0\\n1077,1\\n1078,0\\n1079,0\\n1080,1\\n1081,0\\n1082,0\\n1083,1\\n1084,1\\n1085,1\\n1086,0\\n1087,0\\n1088,0\\n1089,1\\n1090,0\\n1091,0\\n1092,0\\n1093,0\\n1094,0\\n1095,0\\n1096,0\\n1097,1\\n1098,0\\n1099,1\\n1100,1\\n1101,1\\n1102,1\\n1103,0\\n1104,0\\n1105,0\\n1106,1\\n1107,1\\n1108,1\\n1109,1\\n1110,0\\n1111,1\\n1112,1\\n1113,1\\n1114,0\\n1115,0\\n1116,0\\n1117,0\\n1118,0\\n1119,1\\n1120,1\\n1121,0\\n1122,0\\n1123,1\\n1124,1\\n1125,0\\n1126,0\\n1127,0\\n1128,0\\n1129,1\\n1130,1\\n1131,0\\n1132,0\\n1133,1\\n1134,1\\n1135,0\\n1136,1\\n1137,1\\n1138,0\\n1139,1\\n1140,0\\n1141,1\\n1142,1\\n1143,0\\n1144,1\\n1145,0\\n1146,1\\n1147,1\\n1148,1\\n1149,1\\n1150,0\\n1151,0\\n1152,1\\n1153,1\\n1154,0\\n1155,0\\n1156,0\\n1157,1\\n1158,0\\n1159,1\\n1160,1\\n1161,1\\n1162,0\\n1163,0\\n1164,0\\n1165,0\\n1166,0\\n1167,0\\n1168,0\\n1169,0\\n1170,0\\n1171,0\\n1172,1\\n1173,0\\n1174,0\\n1175,0\\n1176,0\\n1177,1\\n1178,0\\n1179,0\\n1180,0\\n1181,0\\n1182,1\\n1183,1\\n1184,1\\n1185,0\\n1186,0\\n1187,0\\n1188,0\\n1189,1\\n1190,0\\n1191,0\\n1192,0\\n1193,0\\n1194,1\\n1195,1\\n1196,1\\n1197,0\\n1198,1\\n1199,0\\n1200,0\\n1201,1\\n1202,1\\n1203,1\\n1204,0\\n1205,0\\n1206,0\\n1207,0\\n1208,1\\n1209,0\\n1210,0\\n1211,0\\n1212,0\\n1213,0\\n1214,1\\n1215,0\\n1216,1\\n1217,0\\n1218,1\\n1219,0\\n1220,1\\n1221,0\\n1222,0\\n1223,1\\n1224,0\\n1225,0\\n1226,1\\n1227,0\\n1228,0\\n1229,0\\n1230,1\\n1231,0\\n1232,1\\n1233,0\\n1234,1\\n1235,0\\n1236,1\\n1237,1\\n1238,1\\n1239,1\\n1240,1\\n1241,0\\n1242,1\\n1243,0\\n1244,0\\n1245,0\\n1246,0\\n1247,0\\n1248,1\\n1249,1\\n1250,1\\n1251,1\\n1252,1\\n1253,1\\n1254,0\\n1255,1\\n1256,0\\n1257,0\\n1258,0\\n1259,1\\n1260,0\\n1261,1\\n1262,0\\n1263,1\\n1264,0\\n1265,1\\n1266,1\\n1267,0\\n1268,0\\n1269,1\\n1270,1\\n1271,1\\n1272,1\\n1273,1\\n1274,0\\n1275,1\\n1276,1\\n1277,0\\n1278,0\\n1279,0\\n1280,0\\n1281,0\\n1282,1\\n1283,1\\n1284,0\\n1285,0\\n1286,1\\n1287,1\\n1288,0\\n1289,1\\n1290,0\\n1291,0\\n1292,0\\n1293,0\\n1294,0\\n1295,0\\n1296,0\\n1297,0\\n1298,0\\n1299,1\\n1300,0\\n1301,0\\n1302,0\\n1303,0\\n1304,0\\n1305,0\\n1306,0\\n1307,0\\n1308,0\\n1309,1\\n1310,0\\n1311,1\\n1312,1\\n1313,0\\n1314,0\\n1315,1\\n1316,0\\n1317,0\\n1318,0\\n1319,0\\n1320,1\\n1321,0\\n1322,1\\n1323,1\\n1324,0\\n1325,0\\n1326,0\\n1327,0\\n1328,1\\n1329,1\\n1330,0\\n1331,0\\n1332,1\\n1333,0\\n1334,0\\n1335,0\\n1336,0\\n1337,1\\n1338,1\\n1339,0\\n1340,1\\n1341,1\\n1342,1\\n1343,1\\n1344,1\\n1345,0\\n1346,1\\n1347,1\\n1348,1\\n1349,0\\n1350,1\\n1351,1\\n1352,1\\n1353,1\\n1354,1\\n1355,0\\n1356,0\\n1357,0\\n1358,0\\n1359,0\\n1360,1\\n1361,1\\n1362,0\\n1363,0\\n1364,1\\n1365,0\\n1366,0\\n1367,0\\n1368,0\\n1369,1\\n1370,1\\n1371,0\\n1372,0\\n1373,0\\n1374,1\\n1375,0\\n1376,1\\n1377,1\\n1378,1\\n1379,1\\n1380,1\\n1381,1\\n1382,0\\n1383,1\\n1384,0\\n1385,1\\n1386,1\\n1387,0\\n1388,1\\n1389,0\\n1390,0\\n1391,0\\n1392,0\\n1393,0\\n1394,0\\n1395,0\\n1396,1\\n1397,1\\n1398,1\\n1399,0\\n1400,1\\n1401,0\\n1402,1\\n1403,1\\n1404,0\\n1405,1\\n1406,1\\n1407,1\\n1408,0\\n1409,1\\n1410,0\\n1411,1\\n1412,0\\n1413,0\\n1414,1\\n1415,0\\n1416,1\\n1417,0\\n1418,1\\n1419,0\\n1420,1\\n1421,0\\n1422,1\\n1423,1\\n1424,1\\n1425,0\\n1426,0\\n1427,1\\n1428,0\\n1429,0\\n1430,1\\n1431,0\\n1432,0\\n1433,1\\n1434,1\\n1435,1\\n1436,0\\n1437,1\\n1438,0\\n1439,0\\n1440,1\\n1441,1\\n1442,1\\n1443,1\\n1444,1\\n1445,1\\n1446,0\\n1447,0\\n1448,0\\n1449,0\\n1450,1\\n1451,1\\n1452,0\\n1453,1\\n1454,1\\n1455,1\\n1456,1\\n1457,0\\n1458,1\\n1459,0\\n1460,1\\n1461,1\\n1462,0\\n1463,1\\n1464,0\\n1465,0\\n1466,0\\n1467,0\\n1468,0\\n1469,0\\n1470,1\\n1471,0\\n1472,1\\n1473,0\\n1474,1\\n1475,1\\n1476,1\\n1477,1\\n1478,0\\n1479,1\\n1480,1\\n1481,1\\n1482,0\\n1483,0\\n1484,0\\n1485,0\\n1486,1\\n1487,1\\n1488,0\\n1489,1\\n1490,0\\n1491,0\\n1492,1\\n1493,0\\n1494,0\\n1495,1\\n1496,0\\n1497,1\\n1498,1\\n1499,1\\n1500,1\\n1501,1\\n1502,0\\n1503,0\\n1504,0\\n1505,0\\n1506,1\\n1507,0\\n1508,0\\n1509,1\\n1510,1\\n1511,1\\n1512,1\\n1513,1\\n1514,1\\n1515,1\\n1516,1\\n1517,1\\n1518,1\\n1519,0\\n1520,0\\n1521,0\\n1522,0\\n1523,0\\n1524,1\\n1525,0\\n1526,0\\n1527,1\\n1528,0\\n1529,1\\n1530,1\\n1531,0\\n1532,0\\n1533,0\\n1534,1\\n1535,0\\n1536,0\\n1537,0\\n1538,0\\n1539,1\\n1540,1\\n1541,0\\n1542,1\\n1543,1\\n1544,0\\n1545,0\\n1546,0\\n1547,1\\n1548,1\\n1549,0\\n1550,1\\n1551,1\\n1552,1\\n1553,1\\n1554,1\\n1555,1\\n1556,0\\n1557,0\\n1558,1\\n1559,1\\n1560,0\\n1561,1\\n1562,0\\n1563,0\\n1564,1\\n1565,0\\n1566,0\\n1567,0\\n1568,1\\n1569,1\\n1570,0\\n1571,0\\n1572,0\\n1573,1\\n1574,1\\n1575,1\\n1576,0\\n1577,0\\n1578,1\\n1579,0\\n1580,1\\n1581,0\\n1582,1\\n1583,0\\n1584,0\\n1585,0\\n1586,1\\n1587,1\\n1588,1\\n1589,0\\n1590,1\\n1591,1\\n1592,1\\n1593,1\\n1594,0\\n1595,1\\n1596,1\\n1597,1\\n1598,1\\n1599,0\\n1600,1\\n1601,1\\n1602,0\\n1603,1\\n1604,1\\n1605,1\\n1606,1\\n1607,1\\n1608,1\\n1609,1\\n1610,1\\n1611,0\\n1612,1\\n1613,1\\n1614,1\\n1615,0\\n1616,1\\n1617,0\\n1618,0\\n1619,0\\n1620,1\\n1621,0\\n1622,1\\n1623,1\\n1624,0\\n1625,1\\n1626,0\\n1627,0\\n1628,0\\n1629,0\\n1630,1\\n1631,1\\n1632,0\\n1633,0\\n1634,1\\n1635,0\\n1636,1\\n1637,1\\n1638,1\\n1639,1\\n1640,1\\n1641,1\\n1642,0\\n1643,0\\n1644,0\\n1645,1\\n1646,1\\n1647,0\\n1648,1\\n1649,1\\n1650,0\\n1651,1\\n1652,1\\n1653,1\\n1654,0\\n1655,1\\n1656,1\\n1657,1\\n1658,0\\n1659,0\\n1660,0\\n1661,1\\n1662,0\\n1663,0\\n1664,1\\n1665,0\\n1666,0\\n1667,1\\n1668,0\\n1669,0\\n1670,1\\n1671,1\\n1672,0\\n1673,0\\n1674,1\\n1675,1\\n1676,0\\n1677,1\\n1678,1\\n1679,0\\n1680,1\\n1681,1\\n1682,0\\n1683,0\\n1684,1\\n1685,0\\n1686,0\\n1687,0\\n1688,0\\n1689,1\\n1690,1\\n1691,1\\n1692,1\\n1693,0\\n1694,1\\n1695,0\\n1696,0\\n1697,1\\n1698,0\\n1699,1\\n1700,0\\n1701,1\\n1702,1\\n1703,1\\n1704,0\\n1705,0\\n1706,0\\n1707,0\\n1708,0\\n1709,1\\n1710,0\\n1711,1\\n1712,1\\n1713,0\\n1714,1\\n1715,1\\n1716,0\\n1717,0\\n1718,0\\n1719,1\\n1720,1\\n1721,1\\n1722,0\\n1723,1\\n1724,1\\n1725,0\\n1726,1\\n1727,1\\n1728,1\\n1729,1\\n1730,0\\n1731,1\\n1732,0\\n1733,0\\n1734,0\\n1735,0\\n1736,0\\n1737,0\\n1738,1\\n1739,0\\n1740,1\\n1741,0\\n1742,0\\n1743,1\\n1744,1\\n1745,0\\n1746,1\\n1747,0\\n1748,0\\n1749,0\\n1750,0\\n1751,0\\n1752,1\\n1753,0\\n1754,1\\n1755,1\\n1756,0\\n1757,0\\n1758,0\\n1759,1\\n1760,1\\n1761,1\\n1762,1\\n1763,0\\n1764,0\\n1765,0\\n1766,1\\n1767,1\\n1768,1\\n1769,0\\n1770,0\\n1771,1\\n1772,1\\n1773,1\\n1774,0\\n1775,0\\n1776,0\\n1777,0\\n1778,0\\n1779,0\\n1780,0\\n1781,0\\n1782,0\\n1783,0\\n1784,0\\n1785,0\\n1786,0\\n1787,0\\n1788,1\\n1789,0\\n1790,1\\n1791,0\\n1792,1\\n1793,1\\n1794,1\\n1795,0\\n1796,1\\n1797,0\\n1798,0\\n1799,0\\n1800,0\\n1801,1\\n1802,1\\n1803,0\\n1804,1\\n1805,0\\n1806,0\\n1807,0\\n1808,0\\n1809,0\\n1810,0\\n1811,1\\n1812,1\\n1813,0\\n1814,1\\n1815,0\\n1816,1\\n1817,1\\n1818,1\\n1819,1\\n1820,1\\n1821,0\\n1822,1\\n1823,1\\n1824,1\\n1825,0\\n1826,0\\n1827,0\\n1828,1\\n1829,1\\n1830,0\\n1831,0\\n1832,0\\n1833,0\\n1834,0\\n1835,0\\n1836,1\\n1837,0\\n1838,1\\n1839,1\\n1840,1\\n1841,0\\n1842,0\\n1843,0\\n1844,0\\n1845,1\\n1846,1\\n1847,0\\n1848,1\\n1849,1\\n1850,0\\n1851,0\\n1852,0\\n1853,0\\n1854,0\\n1855,1\\n1856,1\\n1857,1\\n1858,0\\n1859,1\\n1860,1\\n1861,0\\n1862,0\\n1863,1\\n1864,0\\n1865,1\\n1866,0\\n1867,1\\n1868,0\\n1869,1\\n1870,0\\n1871,0\\n1872,0\\n1873,1\\n1874,0\\n1875,1\\n1876,1\\n1877,1\\n1878,0\\n1879,0\\n1880,0\\n1881,1\\n1882,0\\n1883,1\\n1884,0\\n1885,1\\n1886,0\\n1887,0\\n1888,1\\n1889,0\\n1890,1\\n1891,0\\n1892,1\\n1893,1\\n1894,1\\n1895,0\\n1896,1\\n1897,1\\n1898,0\\n1899,0\\n1900,1\\n1901,0\\n1902,0\\n1903,0\\n1904,1\\n1905,1\\n1906,0\\n1907,0\\n1908,1\\n1909,0\\n1910,0\\n1911,0\\n1912,0\\n1913,1\\n1914,1\\n1915,1\\n1916,0\\n1917,0\\n1918,0\\n1919,0\\n1920,1\\n1921,0\\n1922,0\\n1923,0\\n1924,0\\n1925,0\\n1926,0\\n1927,0\\n1928,1\\n1929,0\\n1930,1\\n1931,0\\n1932,1\\n1933,1\\n1934,0\\n1935,0\\n1936,1\\n1937,0\\n1938,1\\n1939,1\\n1940,1\\n1941,0\\n1942,0\\n1943,1\\n1944,0\\n1945,0\\n1946,0\\n1947,1\\n1948,0\\n1949,0\\n1950,1\\n1951,1\\n1952,0\\n1953,1\\n1954,1\\n1955,0\\n1956,1\\n1957,1\\n1958,0\\n1959,0\\n1960,0\\n1961,0\\n1962,1\\n1963,0\\n1964,1\\n1965,0\\n1966,1\\n1967,1\\n1968,0\\n1969,0\\n1970,1\\n1971,1\\n1972,1\\n1973,0\\n1974,0\\n1975,0\\n1976,0\\n1977,1\\n1978,1\\n1979,0\\n1980,1\\n1981,0\\n1982,1\\n1983,1\\n1984,0\\n1985,1\\n1986,1\\n1987,0\\n1988,0\\n1989,1\\n1990,1\\n1991,0\\n1992,0\\n1993,1\\n1994,0\\n1995,0\\n1996,0\\n1997,0\\n1998,0\\n1999,1\\n2000,1\\n2001,1\\n2002,1\\n2003,1\\n2004,0\\n2005,0\\n2006,1\\n2007,1\\n2008,1\\n2009,1\\n2010,0\\n2011,1\\n2012,0\\n2013,1\\n2014,1\\n2015,0\\n2016,0\\n2017,0\\n2018,1\\n2019,0\\n2020,0\\n2021,0\\n2022,0\\n2023,0\\n2024,1\\n2025,0\\n2026,1\\n2027,0\\n2028,0\\n2029,0\\n2030,0\\n2031,1\\n2032,0\\n2033,1\\n2034,1\\n2035,0\\n2036,0\\n2037,1\\n2038,1\\n2039,0\\n2040,1\\n2041,0\\n2042,0\\n2043,0\\n2044,0\\n2045,1\\n2046,0\\n2047,0\\n2048,0\\n2049,0\\n2050,1\\n2051,1\\n2052,0\\n2053,1\\n2054,1\\n2055,1\\n2056,0\\n2057,1\\n2058,1\\n2059,1\\n2060,1\\n2061,0\\n2062,0\\n2063,1\\n2064,0\\n2065,1\\n2066,1\\n2067,0\\n2068,0\\n2069,0\\n2070,1\\n2071,1\\n2072,1\\n2073,1\\n2074,0\\n2075,1\\n2076,0\\n2077,1\\n2078,0\\n2079,1\\n2080,0\\n2081,0\\n2082,0\\n2083,1\\n2084,0\\n2085,0\\n2086,0\\n2087,1\\n2088,0\\n2089,0\\n2090,0\\n2091,0\\n2092,1\\n2093,1\\n2094,0\\n2095,0\\n2096,1\\n2097,0\\n2098,0\\n2099,0\\n2100,0\\n2101,0\\n2102,0\\n2103,0\\n2104,0\\n2105,1\\n2106,1\\n2107,0\\n2108,0\\n2109,1\\n2110,0\\n2111,1\\n2112,0\\n2113,1\\n2114,0\\n2115,0\\n2116,1\\n2117,0\\n2118,0\\n2119,0\\n2120,1\\n2121,1\\n2122,0\\n2123,0\\n2124,1\\n2125,0\\n2126,1\\n2127,0\\n2128,1\\n2129,0\\n2130,1\\n2131,0\\n2132,0\\n2133,0\\n2134,1\\n2135,0\\n2136,0\\n2137,1\\n2138,0\\n2139,1\\n2140,1\\n2141,0\\n2142,0\\n2143,1\\n2144,0\\n2145,1\\n2146,1\\n2147,1\\n2148,1\\n2149,0\\n2150,1\\n2151,1\\n2152,0\\n2153,0\\n2154,1\\n2155,1\\n2156,0\\n2157,1\\n2158,0\\n2159,1\\n2160,0\\n2161,0\\n2162,0\\n2163,0\\n2164,0\\n2165,0\\n2166,0\\n2167,1\\n2168,1\\n2169,1\\n2170,0\\n2171,0\\n2172,0\\n2173,1\\n2174,0\\n2175,1\\n2176,1\\n2177,0\\n2178,0\\n2179,0\\n2180,1\\n2181,1\\n2182,0\\n2183,0\\n2184,1\\n2185,0\\n2186,0\\n2187,1\\n2188,0\\n2189,0\\n2190,1\\n2191,1\\n2192,0\\n2193,0\\n2194,0\\n2195,0\\n2196,0\\n2197,0\\n2198,1\\n2199,0\\n2200,1\\n2201,0\\n2202,0\\n2203,0\\n2204,0\\n2205,1\\n2206,1\\n2207,0\\n2208,0\\n2209,0\\n2210,1\\n2211,0\\n2212,1\\n2213,1\\n2214,1\\n2215,1\\n2216,0\\n2217,1\\n2218,1\\n2219,1\\n2220,0\\n2221,0\\n2222,1\\n2223,1\\n2224,0\\n2225,0\\n2226,0\\n2227,0\\n2228,1\\n2229,0\\n2230,1\\n2231,0\\n2232,1\\n2233,1\\n2234,0\\n2235,1\\n2236,0\\n2237,1\\n2238,1\\n2239,0\\n2240,1\\n2241,1\\n2242,1\\n2243,1\\n2244,1\\n2245,1\\n2246,1\\n2247,1\\n2248,1\\n2249,1\\n2250,1\\n2251,0\\n2252,1\\n2253,0\\n2254,1\\n2255,1\\n2256,0\\n2257,0\\n2258,0\\n2259,0\\n2260,0\\n2261,0\\n2262,0\\n2263,1\\n2264,1\\n2265,1\\n2266,1\\n2267,0\\n2268,0\\n2269,0\\n2270,0\\n2271,1\\n2272,0\\n2273,0\\n2274,1\\n2275,1\\n2276,0\\n2277,1\\n2278,0\\n2279,1\\n2280,0\\n2281,0\\n2282,1\\n2283,1\\n2284,1\\n2285,1\\n2286,1\\n2287,1\\n2288,0\\n2289,0\\n2290,1\\n2291,1\\n2292,0\\n2293,1\\n2294,0\\n2295,0\\n2296,0\\n2297,0\\n2298,0\\n2299,0\\n2300,1\\n2301,1\\n2302,0\\n2303,0\\n2304,1\\n2305,1\\n2306,0\\n2307,1\\n2308,0\\n2309,1\\n2310,1\\n2311,1\\n2312,1\\n2313,0\\n2314,0\\n2315,1\\n2316,0\\n2317,1\\n2318,1\\n2319,0\\n2320,1\\n2321,0\\n2322,0\\n2323,1\\n2324,1\\n2325,1\\n2326,1\\n2327,0\\n2328,1\\n2329,0\\n2330,1\\n2331,0\\n2332,0\\n2333,1\\n2334,0\\n2335,1\\n2336,1\\n2337,0\\n2338,0\\n2339,1\\n2340,1\\n2341,1\\n2342,0\\n2343,0\\n2344,1\\n2345,1\\n2346,1\\n2347,0\\n2348,1\\n2349,1\\n2350,1\\n2351,0\\n2352,1\\n2353,0\\n2354,1\\n2355,1\\n2356,1\\n2357,0\\n2358,0\\n2359,0\\n2360,0\\n2361,0\\n2362,1\\n2363,1\\n2364,0\\n2365,0\\n2366,0\\n2367,0\\n2368,1\\n2369,0\\n2370,0\\n2371,0\\n2372,0\\n2373,1\\n2374,0\\n2375,1\\n2376,0\\n2377,0\\n2378,1\\n2379,1\\n2380,0\\n2381,0\\n2382,0\\n2383,0\\n2384,0\\n2385,0\\n2386,0\\n2387,0\\n2388,1\\n2389,0\\n2390,0\\n2391,0\\n2392,0\\n2393,0\\n2394,0\\n2395,0\\n2396,1\\n2397,1\\n2398,1\\n2399,1\\n2400,0\\n2401,0\\n2402,0\\n2403,1\\n2404,0\\n2405,0\\n2406,1\\n2407,0\\n2408,1\\n2409,1\\n2410,0\\n2411,0\\n2412,0\\n2413,0\\n2414,0\\n2415,1\\n2416,1\\n2417,1\\n2418,0\\n2419,1\\n2420,1\\n2421,1\\n2422,0\\n2423,1\\n2424,0\\n2425,0\\n2426,1\\n2427,0\\n2428,1\\n2429,1\\n2430,0\\n2431,0\\n2432,1\\n2433,1\\n2434,0\\n2435,0\\n2436,1\\n2437,1\\n2438,0\\n2439,0\\n2440,0\\n2441,1\\n2442,0\\n2443,1\\n2444,1\\n2445,1\\n2446,1\\n2447,1\\n2448,0\\n2449,0\\n2450,1\\n2451,1\\n2452,0\\n2453,0\\n2454,1\\n2455,0\\n2456,0\\n2457,0\\n2458,1\\n2459,0\\n2460,0\\n2461,1\\n2462,0\\n2463,1\\n2464,0\\n2465,0\\n2466,0\\n2467,0\\n2468,1\\n2469,0\\n2470,0\\n2471,0\\n2472,1\\n2473,0\\n2474,1\\n2475,0\\n2476,0\\n2477,0\\n2478,1\\n2479,0\\n2480,0\\n2481,0\\n2482,0\\n2483,1\\n2484,1\\n2485,0\\n2486,0\\n2487,0\\n2488,0\\n2489,1\\n2490,1\\n2491,0\\n2492,1\\n2493,0\\n2494,0\\n2495,1\\n2496,0\\n2497,0\\n2498,1\\n2499,0\\n2500,0\\n2501,1\\n2502,1\\n2503,0\\n2504,1\\n2505,0\\n2506,0\\n2507,1\\n2508,1\\n2509,1\\n2510,0\\n2511,1\\n2512,0\\n2513,0\\n2514,1\\n2515,0\\n2516,1\\n2517,1\\n2518,1\\n2519,0\\n2520,1\\n2521,1\\n2522,1\\n2523,1\\n2524,0\\n2525,1\\n2526,1\\n2527,0\\n2528,1\\n2529,0\\n2530,0\\n2531,0\\n2532,0\\n2533,0\\n2534,1\\n2535,1\\n2536,0\\n2537,1\\n2538,1\\n2539,1\\n2540,0\\n2541,1\\n2542,0\\n2543,0\\n2544,0\\n2545,1\\n2546,1\\n2547,0\\n2548,1\\n2549,0\\n2550,1\\n2551,0\\n2552,0\\n2553,1\\n2554,1\\n2555,1\\n2556,1\\n2557,0\\n2558,0\\n2559,0\\n2560,0\\n2561,1\\n2562,1\\n2563,1\\n2564,1\\n2565,0\\n2566,1\\n2567,1\\n2568,0\\n2569,0\\n2570,1\\n2571,1\\n2572,0\\n2573,1\\n2574,0\\n2575,1\\n2576,0\\n2577,1\\n2578,0\\n2579,0\\n2580,1\\n2581,0\\n2582,1\\n2583,1\\n2584,1\\n2585,1\\n2586,0\\n2587,0\\n2588,0\\n2589,0\\n2590,0\\n2591,0\\n2592,0\\n2593,0\\n2594,1\\n2595,0\\n2596,0\\n2597,0\\n2598,1\\n2599,1\\n2600,0\\n2601,0\\n2602,0\\n2603,0\\n2604,0\\n2605,1\\n2606,1\\n2607,0\\n2608,1\\n2609,1\\n2610,0\\n2611,1\\n2612,0\\n2613,0\\n2614,1\\n2615,1\\n2616,1\\n2617,1\\n2618,0\\n2619,0\\n2620,0\\n2621,0\\n2622,1\\n2623,1\\n2624,0\\n2625,0\\n2626,1\\n2627,1\\n2628,1\\n2629,1\\n2630,1\\n2631,1\\n2632,1\\n2633,0\\n2634,0\\n2635,0\\n2636,0\\n2637,1\\n2638,0\\n2639,1\\n2640,0\\n2641,1\\n2642,0\\n2643,1\\n2644,1\\n2645,1\\n2646,1\\n2647,1\\n2648,1\\n2649,1\\n2650,0\\n2651,1\\n2652,1\\n2653,1\\n2654,1\\n2655,1\\n2656,1\\n2657,1\\n2658,0\\n2659,0\\n2660,0\\n2661,1\\n2662,1\\n2663,0\\n2664,1\\n2665,1\\n2666,0\\n2667,0\\n2668,0\\n2669,1\\n2670,0\\n2671,0\\n2672,1\\n2673,0\\n2674,1\\n2675,0\\n2676,0\\n2677,1\\n2678,1\\n2679,0\\n2680,1\\n2681,1\\n2682,1\\n2683,0\\n2684,1\\n2685,1\\n2686,1\\n2687,1\\n2688,1\\n2689,1\\n2690,1\\n2691,1\\n2692,0\\n2693,1\\n2694,0\\n2695,0\\n2696,1\\n2697,1\\n2698,0\\n2699,0\\n2700,1\\n2701,0\\n2702,0\\n2703,1\\n2704,1\\n2705,1\\n2706,1\\n2707,1\\n2708,1\\n2709,0\\n2710,0\\n2711,0\\n2712,0\\n2713,0\\n2714,1\\n2715,1\\n2716,1\\n2717,0\\n2718,1\\n2719,1\\n2720,0\\n2721,0\\n2722,0\\n2723,0\\n2724,1\\n2725,1\\n2726,0\\n2727,0\\n2728,0\\n2729,1\\n2730,0\\n2731,1\\n2732,0\\n2733,1\\n2734,1\\n2735,1\\n2736,1\\n2737,1\\n2738,0\\n2739,1\\n2740,0\\n2741,1\\n2742,1\\n2743,1\\n2744,1\\n2745,1\\n2746,0\\n2747,0\\n2748,0\\n2749,1\\n2750,1\\n2751,1\\n2752,1\\n2753,0\\n2754,1\\n2755,1\\n2756,1\\n2757,0\\n2758,0\\n2759,0\\n2760,1\\n2761,0\\n2762,0\\n2763,0\\n2764,1\\n2765,1\\n2766,1\\n2767,0\\n2768,0\\n2769,1\\n2770,0\\n2771,0\\n2772,1\\n2773,0\\n2774,1\\n2775,1\\n2776,1\\n2777,1\\n2778,0\\n2779,1\\n2780,1\\n2781,1\\n2782,0\\n2783,1\\n2784,0\\n2785,0\\n2786,1\\n2787,0\\n2788,1\\n2789,0\\n2790,1\\n2791,0\\n2792,0\\n2793,0\\n2794,0\\n2795,1\\n2796,1\\n2797,0\\n2798,0\\n2799,0\\n2800,1\\n2801,0\\n2802,1\\n2803,0\\n2804,0\\n2805,1\\n2806,1\\n2807,1\\n2808,1\\n2809,1\\n2810,1\\n2811,0\\n2812,1\\n2813,0\\n2814,1\\n2815,0\\n2816,0\\n2817,0\\n2818,1\\n2819,1\\n2820,1\\n2821,0\\n2822,1\\n2823,1\\n2824,0\\n2825,0\\n2826,0\\n2827,1\\n2828,1\\n2829,1\\n2830,1\\n2831,1\\n2832,1\\n2833,0\\n2834,1\\n2835,1\\n2836,0\\n2837,0\\n2838,0\\n2839,1\\n2840,1\\n2841,1\\n2842,1\\n2843,0\\n2844,1\\n2845,1\\n2846,0\\n2847,0\\n2848,0\\n2849,1\\n2850,1\\n2851,0\\n2852,1\\n2853,1\\n2854,0\\n2855,0\\n2856,0\\n2857,0\\n2858,0\\n2859,1\\n2860,1\\n2861,1\\n2862,1\\n2863,1\\n2864,0\\n2865,0\\n2866,0\\n2867,1\\n2868,1\\n2869,1\\n2870,0\\n2871,1\\n2872,1\\n2873,1\\n2874,1\\n2875,0\\n2876,0\\n2877,0\\n2878,1\\n2879,0\\n2880,1\\n2881,0\\n2882,0\\n2883,1\\n2884,1\\n2885,1\\n2886,1\\n2887,1\\n2888,0\\n2889,0\\n2890,0\\n2891,0\\n2892,1\\n2893,0\\n2894,0\\n2895,1\\n2896,0\\n2897,1\\n2898,1\\n2899,0\\n2900,0\\n2901,0\\n2902,0\\n2903,0\\n2904,1\\n2905,0\\n2906,0\\n2907,1\\n2908,0\\n2909,1\\n2910,0\\n2911,1\\n2912,1\\n2913,0\\n2914,0\\n2915,0\\n2916,0\\n2917,0\\n2918,0\\n2919,1\\n2920,0\\n2921,0\\n2922,1\\n2923,0\\n2924,0\\n2925,1\\n2926,0\\n2927,0\\n2928,0\\n2929,1\\n2930,1\\n2931,1\\n2932,0\\n2933,0\\n2934,1\\n2935,0\\n2936,1\\n2937,1\\n2938,0\\n2939,0\\n2940,0\\n2941,0\\n2942,1\\n2943,0\\n2944,1\\n2945,0\\n2946,1\\n2947,0\\n2948,0\\n2949,0\\n2950,0\\n2951,1\\n2952,1\\n2953,1\\n2954,0\\n2955,0\\n2956,1\\n2957,0\\n2958,0\\n2959,1\\n2960,1\\n2961,1\\n2962,1\\n2963,1\\n2964,0\\n2965,1\\n2966,0\\n2967,0\\n2968,1\\n2969,1\\n2970,0\\n2971,0\\n2972,1\\n2973,1\\n2974,0\\n2975,1\\n2976,1\\n2977,0\\n2978,1\\n2979,1\\n2980,1\\n2981,0\\n2982,0\\n2983,0\\n2984,1\\n2985,0\\n2986,1\\n2987,0\\n2988,0\\n2989,0\\n2990,0\\n2991,1\\n2992,0\\n2993,1\\n2994,1\\n2995,1\\n2996,0\\n2997,0\\n2998,0\\n2999,0\\n3000,1\\n3001,1\\n3002,0\\n3003,1\\n3004,0\\n3005,1\\n3006,1\\n3007,1\\n3008,1\\n3009,0\\n3010,1\\n3011,0\\n3012,0\\n3013,0\\n3014,0\\n3015,0\\n3016,1\\n3017,1\\n3018,1\\n3019,1\\n3020,0\\n3021,0\\n3022,1\\n3023,1\\n3024,0\\n3025,1\\n3026,1\\n3027,0\\n3028,0\\n3029,0\\n3030,0\\n3031,1\\n3032,0\\n3033,0\\n3034,1\\n3035,1\\n3036,1\\n3037,0\\n3038,0\\n3039,1\\n3040,1\\n3041,1\\n3042,1\\n3043,1\\n3044,1\\n3045,0\\n3046,0\\n3047,1\\n3048,1\\n3049,1\\n3050,1\\n3051,1\\n3052,0\\n3053,0\\n3054,0\\n3055,1\\n3056,0\\n3057,1\\n3058,0\\n3059,1\\n3060,1\\n3061,1\\n3062,0\\n3063,1\\n3064,0\\n3065,0\\n3066,1\\n3067,0\\n3068,0\\n3069,0\\n3070,0\\n3071,1\\n3072,0\\n3073,1\\n3074,0\\n3075,1\\n3076,1\\n3077,1\\n3078,0\\n3079,1\\n3080,1\\n3081,1\\n3082,0\\n3083,1\\n3084,0\\n3085,1\\n3086,0\\n3087,0\\n3088,1\\n3089,0\\n3090,1\\n3091,0\\n3092,1\\n3093,0\\n3094,1\\n3095,0\\n3096,0\\n3097,1\\n3098,1\\n3099,1\\n3100,1\\n3101,0\\n3102,1\\n3103,0\\n3104,0\\n3105,0\\n3106,1\\n3107,0\\n3108,0\\n3109,0\\n3110,0\\n3111,1\\n3112,0\\n3113,1\\n3114,0\\n3115,0\\n3116,0\\n3117,1\\n3118,1\\n3119,0\\n3120,0\\n3121,1\\n3122,0\\n3123,0\\n3124,1\\n3125,1\\n3126,1\\n3127,1\\n3128,0\\n3129,0\\n3130,0\\n3131,1\\n3132,0\\n3133,1\\n3134,0\\n3135,0\\n3136,0\\n3137,0\\n3138,0\\n3139,1\\n3140,0\\n3141,1\\n3142,0\\n3143,0\\n3144,1\\n3145,1\\n3146,1\\n3147,0\\n3148,1\\n3149,1\\n3150,0\\n3151,0\\n3152,0\\n3153,0\\n3154,0\\n3155,1\\n3156,0\\n3157,0\\n3158,1\\n3159,0\\n3160,0\\n3161,0\\n3162,1\\n3163,1\\n3164,0\\n3165,1\\n3166,1\\n3167,1\\n3168,1\\n3169,1\\n3170,1\\n3171,0\\n3172,0\\n3173,1\\n3174,0\\n3175,0\\n3176,1\\n3177,0\\n3178,1\\n3179,1\\n3180,0\\n3181,0\\n3182,1\\n3183,0\\n3184,1\\n3185,1\\n3186,0\\n3187,1\\n3188,0\\n3189,0\\n3190,1\\n3191,1\\n3192,0\\n3193,0\\n3194,1\\n3195,0\\n3196,0\\n3197,1\\n3198,0\\n3199,1\\n3200,1\\n3201,1\\n3202,0\\n3203,0\\n3204,1\\n3205,0\\n3206,1\\n3207,1\\n3208,0\\n3209,0\\n3210,0\\n3211,0\\n3212,1\\n3213,0\\n3214,1\\n3215,1\\n3216,1\\n3217,0\\n3218,0\\n3219,0\\n3220,1\\n3221,0\\n3222,1\\n3223,1\\n3224,0\\n3225,1\\n3226,0\\n3227,1\\n3228,1\\n3229,1\\n3230,1\\n3231,1\\n3232,1\\n3233,1\\n3234,1\\n3235,1\\n3236,0\\n3237,0\\n3238,0\\n3239,1\\n3240,1\\n3241,0\\n3242,0\\n3243,0\\n3244,1\\n3245,0\\n3246,0\\n3247,0\\n3248,0\\n3249,0\\n3250,0\\n3251,0\\n3252,1\\n3253,1\\n3254,0\\n3255,1\\n3256,0\\n3257,0\\n3258,1\\n3259,0\\n3260,0\\n3261,0\\n3262,1\\n3263,1\\n3264,1\\n3265,1\\n3266,0\\n3267,1\\n3268,0\\n3269,0\\n3270,1\\n3271,1\\n3272,1\\n3273,1\\n3274,1\\n3275,1\\n3276,1\\n3277,0\\n3278,0\\n3279,0\\n3280,0\\n3281,1\\n3282,1\\n3283,0\\n3284,0\\n3285,1\\n3286,0\\n3287,1\\n3288,0\\n3289,0\\n3290,1\\n3291,0\\n3292,0\\n3293,1\\n3294,0\\n3295,0\\n3296,0\\n3297,0\\n3298,1\\n3299,0\\n3300,1\\n3301,1\\n3302,1\\n3303,0\\n3304,0\\n3305,1\\n3306,1\\n3307,1\\n3308,0\\n3309,0\\n3310,1\\n3311,1\\n3312,1\\n3313,0\\n3314,1\\n3315,0\\n3316,1\\n3317,1\\n3318,0\\n3319,1\\n3320,1\\n3321,1\\n3322,1\\n3323,0\\n3324,1\\n3325,0\\n3326,1\\n3327,0\\n3328,1\\n3329,1\\n3330,0\\n3331,1\\n3332,0\\n3333,0\\n3334,1\\n3335,1\\n3336,1\\n3337,1\\n3338,1\\n3339,1\\n3340,0\\n3341,1\\n3342,1\\n3343,0\\n3344,0\\n3345,0\\n3346,0\\n3347,1\\n3348,1\\n3349,0\\n3350,0\\n3351,0\\n3352,0\\n3353,1\\n3354,0\\n3355,1\\n3356,1\\n3357,1\\n3358,0\\n3359,1\\n3360,0\\n3361,1\\n3362,1\\n3363,0\\n3364,1\\n3365,1\\n3366,0\\n3367,1\\n3368,1\\n3369,0\\n3370,1\\n3371,0\\n3372,1\\n3373,0\\n3374,1\\n3375,1\\n3376,0\\n3377,0\\n3378,0\\n3379,1\\n3380,1\\n3381,0\\n3382,0\\n3383,0\\n3384,0\\n3385,0\\n3386,1\\n3387,1\\n3388,1\\n3389,0\\n3390,1\\n3391,0\\n3392,1\\n3393,1\\n3394,1\\n3395,1\\n3396,0\\n3397,0\\n3398,1\\n3399,1\\n3400,0\\n3401,1\\n3402,0\\n3403,1\\n3404,0\\n3405,0\\n3406,1\\n3407,1\\n3408,0\\n3409,1\\n3410,0\\n3411,0\\n3412,0\\n3413,1\\n3414,0\\n3415,0\\n3416,0\\n3417,1\\n3418,1\\n3419,0\\n3420,1\\n3421,0\\n3422,0\\n3423,1\\n3424,0\\n3425,1\\n3426,0\\n3427,0\\n3428,0\\n3429,0\\n3430,1\\n3431,0\\n3432,0\\n3433,1\\n3434,0\\n3435,0\\n3436,0\\n3437,0\\n3438,0\\n3439,1\\n3440,0\\n3441,1\\n3442,0\\n3443,0\\n3444,1\\n3445,1\\n3446,1\\n3447,0\\n3448,1\\n3449,0\\n3450,1\\n3451,0\\n3452,0\\n3453,1\\n3454,1\\n3455,0\\n3456,1\\n3457,0\\n3458,1\\n3459,0\\n3460,1\\n3461,0\\n3462,0\\n3463,0\\n3464,1\\n3465,1\\n3466,0\\n3467,1\\n3468,1\\n3469,0\\n3470,1\\n3471,1\\n3472,1\\n3473,0\\n3474,1\\n3475,1\\n3476,0\\n3477,1\\n3478,1\\n3479,1\\n3480,0\\n3481,0\\n3482,1\\n3483,1\\n3484,1\\n3485,0\\n3486,0\\n3487,0\\n3488,0\\n3489,1\\n3490,1\\n3491,0\\n3492,0\\n3493,1\\n3494,0\\n3495,0\\n3496,1\\n3497,0\\n3498,1\\n3499,1\\n3500,1\\n3501,1\\n3502,0\\n3503,0\\n3504,0\\n3505,1\\n3506,0\\n3507,1\\n3508,0\\n3509,0\\n3510,0\\n3511,0\\n3512,1\\n3513,1\\n3514,1\\n3515,1\\n3516,0\\n3517,0\\n3518,0\\n3519,0\\n3520,0\\n3521,0\\n3522,1\\n3523,0\\n3524,1\\n3525,0\\n3526,0\\n3527,0\\n3528,0\\n3529,1\\n3530,1\\n3531,1\\n3532,1\\n3533,0\\n3534,0\\n3535,1\\n3536,1\\n3537,1\\n3538,0\\n3539,0\\n3540,0\\n3541,0\\n3542,1\\n3543,1\\n3544,0\\n3545,0\\n3546,0\\n3547,0\\n3548,1\\n3549,0\\n3550,1\\n3551,0\\n3552,0\\n3553,1\\n3554,0\\n3555,0\\n3556,0\\n3557,0\\n3558,1\\n3559,0\\n3560,0\\n3561,1\\n3562,1\\n3563,0\\n3564,1\\n3565,0\\n3566,0\\n3567,0\\n3568,0\\n3569,1\\n3570,1\\n3571,1\\n3572,1\\n3573,0\\n3574,1\\n3575,1\\n3576,1\\n3577,0\\n3578,0\\n3579,1\\n3580,1\\n3581,0\\n3582,0\\n3583,1\\n3584,0\\n3585,1\\n3586,1\\n3587,0\\n3588,0\\n3589,0\\n3590,0\\n3591,0\\n3592,0\\n3593,0\\n3594,1\\n3595,0\\n3596,0\\n3597,0\\n3598,0\\n3599,0\\n3600,1\\n3601,1\\n3602,1\\n3603,1\\n3604,1\\n3605,1\\n3606,0\\n3607,0\\n3608,0\\n3609,0\\n3610,0\\n3611,0\\n3612,1\\n3613,0\\n3614,0\\n3615,1\\n3616,1\\n3617,0\\n3618,0\\n3619,1\\n3620,1\\n3621,0\\n3622,0\\n3623,1\\n3624,1\\n3625,0\\n3626,1\\n3627,0\\n3628,1\\n3629,1\\n3630,0\\n3631,0\\n3632,1\\n3633,0\\n3634,1\\n3635,1\\n3636,0\\n3637,1\\n3638,1\\n3639,1\\n3640,0\\n3641,0\\n3642,0\\n3643,1\\n3644,0\\n3645,1\\n3646,1\\n3647,0\\n3648,0\\n3649,1\\n3650,1\\n3651,1\\n3652,0\\n3653,1\\n3654,1\\n3655,0\\n3656,0\\n3657,1\\n3658,0\\n3659,0\\n3660,0\\n3661,1\\n3662,0\\n3663,0\\n3664,1\\n3665,1\\n3666,1\\n3667,1\\n3668,0\\n3669,1\\n3670,0\\n3671,0\\n3672,0\\n3673,0\\n3674,1\\n3675,1\\n3676,0\\n3677,1\\n3678,0\\n3679,0\\n3680,1\\n3681,1\\n3682,1\\n3683,1\\n3684,0\\n3685,1\\n3686,0\\n3687,0\\n3688,0\\n3689,1\\n3690,0\\n3691,0\\n3692,0\\n3693,0\\n3694,0\\n3695,1\\n3696,1\\n3697,0\\n3698,1\\n3699,0\\n3700,0\\n3701,0\\n3702,1\\n3703,0\\n3704,1\\n3705,0\\n3706,1\\n3707,0\\n3708,0\\n3709,0\\n3710,0\\n3711,0\\n3712,1\\n3713,0\\n3714,1\\n3715,0\\n3716,0\\n3717,1\\n3718,1\\n3719,0\\n3720,1\\n3721,1\\n3722,1\\n3723,1\\n3724,0\\n3725,1\\n3726,0\\n3727,0\\n3728,0\\n3729,1\\n3730,0\\n3731,0\\n3732,1\\n3733,1\\n3734,1\\n3735,1\\n3736,1\\n3737,0\\n3738,1\\n3739,0\\n3740,0\\n3741,1\\n3742,1\\n3743,1\\n3744,0\\n3745,0\\n3746,1\\n3747,0\\n3748,0\\n3749,0\\n3750,0\\n3751,0\\n3752,1\\n3753,0\\n3754,1\\n3755,0\\n3756,1\\n3757,1\\n3758,0\\n3759,1\\n3760,1\\n3761,1\\n3762,1\\n3763,0\\n3764,0\\n3765,0\\n3766,0\\n3767,1\\n3768,0\\n3769,0\\n3770,1\\n3771,1\\n3772,1\\n3773,1\\n3774,0\\n3775,0\\n3776,0\\n3777,0\\n3778,1\\n3779,1\\n3780,1\\n3781,0\\n3782,1\\n3783,0\\n3784,1\\n3785,0\\n3786,1\\n3787,0\\n3788,0\\n3789,0\\n3790,1\\n3791,0\\n3792,1\\n3793,0\\n3794,1\\n3795,0\\n3796,1\\n3797,1\\n3798,0\\n3799,0\\n3800,0\\n3801,0\\n3802,1\\n3803,1\\n3804,0\\n3805,0\\n3806,0\\n3807,1\\n3808,0\\n3809,0\\n3810,0\\n3811,0\\n3812,0\\n3813,0\\n3814,0\\n3815,0\\n3816,0\\n3817,0\\n3818,1\\n3819,0\\n3820,0\\n3821,1\\n3822,0\\n3823,1\\n3824,0\\n3825,1\\n3826,0\\n3827,0\\n3828,0\\n3829,0\\n3830,1\\n3831,1\\n3832,1\\n3833,1\\n3834,1\\n3835,1\\n3836,1\\n3837,0\\n3838,0\\n3839,1\\n3840,0\\n3841,1\\n3842,0\\n3843,1\\n3844,0\\n3845,1\\n3846,1\\n3847,0\\n3848,1\\n3849,0\\n3850,0\\n3851,1\\n3852,1\\n3853,1\\n3854,0\\n3855,0\\n3856,0\\n3857,0\\n3858,1\\n3859,1\\n3860,1\\n3861,1\\n3862,1\\n3863,1\\n3864,1\\n3865,0\\n3866,0\\n3867,1\\n3868,0\\n3869,1\\n3870,1\\n3871,1\\n3872,0\\n3873,1\\n3874,1\\n3875,0\\n3876,0\\n3877,0\\n3878,0\\n3879,1\\n3880,0\\n3881,0\\n3882,1\\n3883,0\\n3884,0\\n3885,0\\n3886,1\\n3887,1\\n3888,1\\n3889,0\\n3890,0\\n3891,1\\n3892,0\\n3893,0\\n3894,1\\n3895,0\\n3896,1\\n3897,1\\n3898,1\\n3899,0\\n3900,0\\n3901,1\\n3902,0\\n3903,1\\n3904,0\\n3905,1\\n3906,1\\n3907,1\\n3908,0\\n3909,1\\n3910,1\\n3911,1\\n3912,1\\n3913,0\\n3914,0\\n3915,1\\n3916,0\\n3917,0\\n3918,1\\n3919,0\\n3920,1\\n3921,1\\n3922,0\\n3923,1\\n3924,1\\n3925,1\\n3926,0\\n3927,0\\n3928,1\\n3929,0\\n3930,0\\n3931,1\\n3932,0\\n3933,0\\n3934,1\\n3935,0\\n3936,1\\n3937,1\\n3938,0\\n3939,1\\n3940,1\\n3941,1\\n3942,0\\n3943,1\\n3944,0\\n3945,1\\n3946,1\\n3947,0\\n3948,1\\n3949,1\\n3950,0\\n3951,1\\n3952,1\\n3953,0\\n3954,0\\n3955,0\\n3956,1\\n3957,1\\n3958,0\\n3959,1\\n3960,0\\n3961,1\\n3962,1\\n3963,0\\n3964,0\\n3965,1\\n3966,0\\n3967,0\\n3968,0\\n3969,0\\n3970,1\\n3971,1\\n3972,1\\n3973,0\\n3974,0\\n3975,0\\n3976,0\\n3977,0\\n3978,1\\n3979,0\\n3980,1\\n3981,0\\n3982,1\\n3983,1\\n3984,1\\n3985,0\\n3986,0\\n3987,1\\n3988,0\\n3989,1\\n3990,1\\n3991,1\\n3992,1\\n3993,1\\n3994,1\\n3995,0\\n3996,0\\n3997,1\\n3998,1\\n3999,0\\n4000,1\\n4001,1\\n4002,1\\n4003,0\\n4004,0\\n4005,0\\n4006,0\\n4007,0\\n4008,1\\n4009,1\\n4010,0\\n4011,0\\n4012,1\\n4013,1\\n4014,0\\n4015,1\\n4016,0\\n4017,0\\n4018,1\\n4019,1\\n4020,0\\n4021,0\\n4022,0\\n4023,1\\n4024,1\\n4025,0\\n4026,0\\n4027,1\\n4028,1\\n4029,1\\n4030,0\\n4031,0\\n4032,1\\n4033,1\\n4034,0\\n4035,1\\n4036,0\\n4037,1\\n4038,0\\n4039,0\\n4040,1\\n4041,1\\n4042,1\\n4043,1\\n4044,0\\n4045,0\\n4046,0\\n4047,1\\n4048,1\\n4049,1\\n4050,0\\n4051,1\\n4052,1\\n4053,1\\n4054,0\\n4055,0\\n4056,0\\n4057,1\\n4058,0\\n4059,0\\n4060,1\\n4061,0\\n4062,1\\n4063,1\\n4064,0\\n4065,1\\n4066,0\\n4067,1\\n4068,0\\n4069,0\\n4070,0\\n4071,0\\n4072,1\\n4073,0\\n4074,1\\n4075,1\\n4076,0\\n4077,0\\n4078,1\\n4079,0\\n4080,0\\n4081,0\\n4082,1\\n4083,0\\n4084,0\\n4085,1\\n4086,0\\n4087,1\\n4088,0\\n4089,0\\n4090,1\\n4091,0\\n4092,1\\n4093,0\\n4094,1\\n4095,1\\n4096,1\\n4097,1\\n4098,0\\n4099,1\\n4100,0\\n4101,1\\n4102,1\\n4103,1\\n4104,1\\n4105,1\\n4106,1\\n4107,0\\n4108,1\\n4109,0\\n4110,1\\n4111,1\\n4112,0\\n4113,1\\n4114,0\\n4115,0\\n4116,1\\n4117,0\\n4118,1\\n4119,1\\n4120,0\\n4121,0\\n4122,1\\n4123,0\\n4124,1\\n4125,1\\n4126,0\\n4127,0\\n4128,1\\n4129,0\\n4130,0\\n4131,1\\n4132,1\\n4133,0\\n4134,1\\n4135,1\\n4136,1\\n4137,0\\n4138,1\\n4139,1\\n4140,0\\n4141,0\\n4142,1\\n4143,0\\n4144,0\\n4145,0\\n4146,1\\n4147,0\\n4148,0\\n4149,0\\n4150,1\\n4151,1\\n4152,0\\n4153,0\\n4154,1\\n4155,0\\n4156,0\\n4157,1\\n4158,0\\n4159,1\\n4160,0\\n4161,0\\n4162,1\\n4163,1\\n4164,0\\n4165,1\\n4166,0\\n4167,1\\n4168,1\\n4169,1\\n4170,1\\n4171,0\\n4172,0\\n4173,1\\n4174,1\\n4175,1\\n4176,0\\n4177,1\\n4178,0\\n4179,0\\n4180,1\\n4181,0\\n4182,1\\n4183,1\\n4184,1\\n4185,1\\n4186,1\\n4187,0\\n4188,0\\n4189,0\\n4190,1\\n4191,0\\n4192,0\\n4193,0\\n4194,1\\n4195,1\\n4196,1\\n4197,1\\n4198,1\\n4199,1\\n4200,1\\n4201,1\\n4202,1\\n4203,1\\n4204,0\\n4205,1\\n4206,1\\n4207,0\\n4208,0\\n4209,1\\n4210,1\\n4211,1\\n4212,0\\n4213,1\\n4214,0\\n4215,0\\n4216,0\\n4217,0\\n4218,1\\n4219,1\\n4220,0\\n4221,1\\n4222,1\\n4223,0\\n4224,0\\n4225,0\\n4226,0\\n4227,1\\n4228,1\\n4229,1\\n4230,0\\n4231,0\\n4232,1\\n4233,0\\n4234,0\\n4235,0\\n4236,1\\n4237,0\\n4238,0\\n4239,0\\n4240,1\\n4241,0\\n4242,0\\n4243,0\\n4244,1\\n4245,0\\n4246,0\\n4247,0\\n4248,1\\n4249,1\\n4250,0\\n4251,0\\n4252,0\\n4253,1\\n4254,1\\n4255,1\\n4256,0\\n4257,0\\n4258,1\\n4259,0\\n4260,1\\n4261,1\\n4262,0\\n4263,1\\n4264,1\\n4265,1\\n4266,1\\n4267,1\\n4268,1\\n4269,0\\n4270,0\\n4271,1\\n4272,1\\n4273,1\\n4274,1\\n4275,0\\n4276,1\\n4277,1\\n4278,0\\n4279,0\\n4280,1\\n4281,0\\n4282,0\\n4283,1\\n4284,0\\n4285,0\\n4286,0\\n4287,0\\n4288,1\\n4289,0\\n4290,0\\n4291,0\\n4292,0\\n4293,1\\n4294,1\\n4295,0\\n4296,1\\n4297,0\\n4298,1\\n4299,1\\n4300,1\\n4301,1\\n4302,0\\n4303,1\\n4304,0\\n4305,1\\n4306,0\\n4307,1\\n4308,0\\n4309,1\\n4310,0\\n4311,1\\n4312,0\\n4313,0\\n4314,0\\n4315,0\\n4316,1\\n4317,0\\n4318,1\\n4319,0\\n4320,1\\n4321,0\\n4322,0\\n4323,0\\n4324,0\\n4325,0\\n4326,0\\n4327,0\\n4328,1\\n4329,0\\n4330,0\\n4331,1\\n4332,0\\n4333,1\\n4334,0\\n4335,0\\n4336,1\\n4337,1\\n4338,1\\n4339,1\\n4340,0\\n4341,1\\n4342,1\\n4343,0\\n4344,1\\n4345,1\\n4346,0\\n4347,1\\n4348,1\\n4349,1\\n4350,0\\n4351,1\\n4352,1\\n4353,0\\n4354,1\\n4355,0\\n4356,1\\n4357,1\\n4358,0\\n4359,1\\n4360,1\\n4361,0\\n4362,0\\n4363,1\\n4364,0\\n4365,1\\n4366,0\\n4367,1\\n4368,1\\n4369,1\\n4370,1\\n4371,0\\n4372,1\\n4373,0\\n4374,1\\n4375,1\\n4376,0\\n4377,0\\n4378,1\\n4379,1\\n4380,0\\n4381,1\\n4382,0\\n4383,1\\n4384,0\\n4385,0\\n4386,0\\n4387,1\\n4388,1\\n4389,1\\n4390,0\\n4391,0\\n4392,0\\n4393,1\\n4394,1\\n4395,0\\n4396,0\\n4397,1\\n4398,0\\n4399,1\\n4400,0\\n4401,0\\n4402,0\\n4403,0\\n4404,1\\n4405,0\\n4406,0\\n4407,0\\n4408,0\\n4409,0\\n4410,0\\n4411,0\\n4412,1\\n4413,1\\n4414,1\\n4415,0\\n4416,0\\n4417,1\\n4418,0\\n4419,0\\n4420,1\\n4421,0\\n4422,1\\n4423,1\\n4424,0\\n4425,1\\n4426,0\\n4427,0\\n4428,0\\n4429,1\\n4430,0\\n4431,0\\n4432,1\\n4433,0\\n4434,1\\n4435,0\\n4436,0\\n4437,0\\n4438,0\\n4439,1\\n4440,1\\n4441,1\\n4442,1\\n4443,1\\n4444,0\\n4445,0\\n4446,1\\n4447,0\\n4448,0\\n4449,0\\n4450,1\\n4451,0\\n4452,0\\n4453,1\\n4454,1\\n4455,1\\n4456,1\\n4457,0\\n4458,0\\n4459,0\\n4460,0\\n4461,1\\n4462,1\\n4463,0\\n4464,0\\n4465,0\\n4466,1\\n4467,1\\n4468,0\\n4469,0\\n4470,0\\n4471,0\\n4472,0\\n4473,1\\n4474,0\\n4475,0\\n4476,0\\n4477,1\\n4478,1\\n4479,1\\n4480,1\\n4481,1\\n4482,0\\n4483,0\\n4484,0\\n4485,0\\n4486,1\\n4487,1\\n4488,1\\n4489,0\\n4490,0\\n4491,1\\n4492,1\\n4493,0\\n4494,1\\n4495,1\\n4496,0\\n4497,1\\n4498,1\\n4499,1\\n4500,0\\n4501,0\\n4502,0\\n4503,0\\n4504,0\\n4505,0\\n4506,0\\n4507,1\\n4508,1\\n4509,1\\n4510,0\\n4511,1\\n4512,1\\n4513,0\\n4514,0\\n4515,1\\n4516,0\\n4517,0\\n4518,0\\n4519,0\\n4520,0\\n4521,0\\n4522,0\\n4523,0\\n4524,1\\n4525,0\\n4526,0\\n4527,0\\n4528,1\\n4529,1\\n4530,1\\n4531,0\\n4532,1\\n4533,0\\n4534,0\\n4535,0\\n4536,0\\n4537,0\\n4538,1\\n4539,0\\n4540,1\\n4541,0\\n4542,1\\n4543,1\\n4544,1\\n4545,1\\n4546,0\\n4547,1\\n4548,1\\n4549,0\\n4550,0\\n4551,0\\n4552,1\\n4553,0\\n4554,0\\n4555,0\\n4556,1\\n4557,1\\n4558,0\\n4559,1\\n4560,1\\n4561,0\\n4562,0\\n4563,1\\n4564,1\\n4565,1\\n4566,0\\n4567,1\\n4568,0\\n4569,1\\n4570,1\\n4571,0\\n4572,1\\n4573,1\\n4574,0\\n4575,1\\n4576,1\\n4577,0\\n4578,0\\n4579,1\\n4580,1\\n4581,0\\n4582,0\\n4583,1\\n4584,1\\n4585,1\\n4586,0\\n4587,0\\n4588,1\\n4589,0\\n4590,0\\n4591,1\\n4592,1\\n4593,1\\n4594,0\\n4595,1\\n4596,0\\n4597,1\\n4598,1\\n4599,1\\n4600,1\\n4601,0\\n4602,0\\n4603,1\\n4604,0\\n4605,1\\n4606,0\\n4607,1\\n4608,1\\n4609,0\\n4610,1\\n4611,0\\n4612,0\\n4613,1\\n4614,0\\n4615,1\\n4616,1\\n4617,0\\n4618,1\\n4619,1\\n4620,0\\n4621,0\\n4622,0\\n4623,1\\n4624,0\\n4625,0\\n4626,0\\n4627,1\\n4628,0\\n4629,0\\n4630,0\\n4631,1\\n4632,1\\n4633,0\\n4634,0\\n4635,0\\n4636,0\\n4637,0\\n4638,1\\n4639,1\\n4640,0\\n4641,1\\n4642,0\\n4643,0\\n4644,0\\n4645,1\\n4646,0\\n4647,0\\n4648,0\\n4649,1\\n4650,0\\n4651,0\\n4652,0\\n4653,0\\n4654,0\\n4655,1\\n4656,0\\n4657,1\\n4658,0\\n4659,1\\n4660,1\\n4661,0\\n4662,0\\n4663,1\\n4664,0\\n4665,1\\n4666,1\\n4667,1\\n4668,1\\n4669,1\\n4670,0\\n4671,0\\n4672,1\\n4673,0\\n4674,0\\n4675,0\\n4676,1\\n4677,0\\n4678,1\\n4679,1\\n4680,0\\n4681,1\\n4682,0\\n4683,0\\n4684,1\\n4685,0\\n4686,1\\n4687,0\\n4688,1\\n4689,1\\n4690,1\\n4691,0\\n4692,0\\n4693,1\\n4694,1\\n4695,0\\n4696,0\\n4697,1\\n4698,0\\n4699,0\\n4700,1\\n4701,1\\n4702,1\\n4703,1\\n4704,0\\n4705,1\\n4706,1\\n4707,0\\n4708,1\\n4709,0\\n4710,0\\n4711,0\\n4712,0\\n4713,1\\n4714,0\\n4715,1\\n4716,1\\n4717,1\\n4718,0\\n4719,0\\n4720,0\\n4721,0\\n4722,0\\n4723,0\\n4724,0\\n4725,0\\n4726,1\\n4727,0\\n4728,0\\n4729,1\\n4730,1\\n4731,0\\n4732,1\\n4733,0\\n4734,0\\n4735,0\\n4736,1\\n4737,1\\n4738,1\\n4739,0\\n4740,0\\n4741,1\\n4742,0\\n4743,1\\n4744,1\\n4745,0\\n4746,0\\n4747,1\\n4748,1\\n4749,1\\n4750,0\\n4751,1\\n4752,1\\n4753,1\\n4754,0\\n4755,1\\n4756,0\\n4757,0\\n4758,1\\n4759,1\\n4760,1\\n4761,0\\n4762,0\\n4763,1\\n4764,1\\n4765,0\\n4766,0\\n4767,0\\n4768,0\\n4769,1\\n4770,1\\n4771,0\\n4772,0\\n4773,1\\n4774,0\\n4775,1\\n4776,1\\n4777,0\\n4778,0\\n4779,0\\n4780,1\\n4781,1\\n4782,1\\n4783,0\\n4784,1\\n4785,0\\n4786,0\\n4787,1\\n4788,0\\n4789,0\\n4790,1\\n4791,0\\n4792,0\\n4793,1\\n4794,1\\n4795,0\\n4796,1\\n4797,1\\n4798,1\\n4799,0\\n4800,1\\n4801,0\\n4802,1\\n4803,1\\n4804,0\\n4805,1\\n4806,1\\n4807,0\\n4808,0\\n4809,1\\n4810,1\\n4811,1\\n4812,0\\n4813,1\\n4814,1\\n4815,0\\n4816,0\\n4817,0\\n4818,1\\n4819,0\\n4820,0\\n4821,1\\n4822,0\\n4823,1\\n4824,0\\n4825,0\\n4826,1\\n4827,1\\n4828,0\\n4829,0\\n4830,1\\n4831,0\\n4832,0\\n4833,0\\n4834,1\\n4835,0\\n4836,1\\n4837,1\\n4838,1\\n4839,1\\n4840,0\\n4841,1\\n4842,0\\n4843,1\\n4844,1\\n4845,1\\n4846,1\\n4847,0\\n4848,0\\n4849,1\\n4850,0\\n4851,1\\n4852,0\\n4853,0\\n4854,1\\n4855,0\\n4856,0\\n4857,0\\n4858,0\\n4859,1\\n4860,1\\n4861,0\\n4862,0\\n4863,0\\n4864,1\\n4865,1\\n4866,0\\n4867,0\\n4868,0\\n4869,1\\n4870,1\\n4871,1\\n4872,1\\n4873,1\\n4874,0\\n4875,1\\n4876,1\\n4877,1\\n4878,1\\n4879,1\\n4880,0\\n4881,1\\n4882,0\\n4883,0\\n4884,0\\n4885,1\\n4886,0\\n4887,1\\n4888,0\\n4889,0\\n4890,0\\n4891,1\\n4892,0\\n4893,1\\n4894,1\\n4895,0\\n4896,1\\n4897,0\\n4898,1\\n4899,1\\n4900,1\\n4901,1\\n4902,0\\n4903,0\\n4904,0\\n4905,0\\n4906,0\\n4907,0\\n4908,1\\n4909,1\\n4910,1\\n4911,1\\n4912,1\\n4913,1\\n4914,1\\n4915,1\\n4916,0\\n4917,1\\n4918,0\\n4919,1\\n4920,0\\n4921,1\\n4922,0\\n4923,0\\n4924,0\\n4925,1\\n4926,1\\n4927,1\\n4928,1\\n4929,0\\n4930,1\\n4931,1\\n4932,1\\n4933,1\\n4934,1\\n4935,1\\n4936,0\\n4937,1\\n4938,1\\n4939,1\\n4940,0\\n4941,0\\n4942,1\\n4943,0\\n4944,0\\n4945,0\\n4946,1\\n4947,0\\n4948,1\\n4949,1\\n4950,0\\n4951,1\\n4952,0\\n4953,1\\n4954,0\\n4955,1\\n4956,0\\n4957,1\\n4958,1\\n4959,1\\n4960,0\\n4961,1\\n4962,0\\n4963,1\\n4964,0\\n4965,1\\n4966,0\\n4967,1\\n4968,0\\n4969,0\\n4970,0\\n4971,0\\n4972,0\\n4973,0\\n4974,0\\n4975,1\\n4976,0\\n4977,0\\n4978,1\\n4979,0\\n4980,1\\n4981,1\\n4982,0\\n4983,1\\n4984,1\\n4985,1\\n4986,1\\n4987,1\\n4988,1\\n4989,0\\n4990,0\\n4991,0\\n4992,1\\n4993,0\\n4994,0\\n4995,1\\n4996,0\\n4997,1\\n4998,1\\n4999,0\\n5000,0\\n5001,1\\n5002,0\\n5003,0\\n5004,0\\n5005,0\\n5006,1\\n5007,1\\n5008,0\\n5009,1\\n5010,0\\n5011,1\\n5012,0\\n5013,1\\n5014,1\\n5015,1\\n5016,0\\n5017,1\\n5018,0\\n5019,0\\n5020,0\\n5021,1\\n5022,0\\n5023,1\\n5024,0\\n5025,1\\n5026,0\\n5027,0\\n5028,0\\n5029,0\\n5030,1\\n5031,0\\n5032,0\\n5033,1\\n5034,0\\n5035,1\\n5036,1\\n5037,0\\n5038,1\\n5039,0\\n5040,1\\n5041,1\\n5042,0\\n5043,1\\n5044,1\\n5045,1\\n5046,1\\n5047,1\\n5048,1\\n5049,1\\n5050,1\\n5051,0\\n5052,0\\n5053,0\\n5054,0\\n5055,1\\n5056,1\\n5057,0\\n5058,0\\n5059,1\\n5060,1\\n5061,0\\n5062,1\\n5063,1\\n5064,1\\n5065,0\\n5066,0\\n5067,0\\n5068,0\\n5069,0\\n5070,1\\n5071,0\\n5072,1\\n5073,1\\n5074,0\\n5075,1\\n5076,0\\n5077,0\\n5078,0\\n5079,0\\n5080,1\\n5081,1\\n5082,0\\n5083,0\\n5084,0\\n5085,1\\n5086,0\\n5087,1\\n5088,1\\n5089,1\\n5090,0\\n5091,1\\n5092,0\\n5093,1\\n5094,0\\n5095,0\\n5096,1\\n5097,0\\n5098,0\\n5099,0\\n5100,0\\n5101,1\\n5102,1\\n5103,1\\n5104,1\\n5105,0\\n5106,0\\n5107,1\\n5108,1\\n5109,1\\n5110,0\\n5111,1\\n5112,1\\n5113,0\\n5114,1\\n5115,1\\n5116,0\\n5117,1\\n5118,1\\n5119,1\\n5120,0\\n5121,0\\n5122,1\\n5123,0\\n5124,0\\n5125,0\\n5126,1\\n5127,1\\n5128,0\\n5129,0\\n5130,1\\n5131,1\\n5132,0\\n5133,1\\n5134,0\\n5135,1\\n5136,1\\n5137,0\\n5138,1\\n5139,0\\n5140,0\\n5141,1\\n5142,1\\n5143,0\\n5144,0\\n5145,1\\n5146,1\\n5147,1\\n5148,1\\n5149,1\\n5150,0\\n5151,1\\n5152,0\\n5153,1\\n5154,1\\n5155,0\\n5156,0\\n5157,0\\n5158,1\\n5159,0\\n5160,1\\n5161,0\\n5162,1\\n5163,0\\n5164,0\\n5165,0\\n5166,1\\n5167,0\\n5168,1\\n5169,0\\n5170,0\\n5171,1\\n5172,1\\n5173,0\\n5174,1\\n5175,1\\n5176,0\\n5177,0\\n5178,0\\n5179,1\\n5180,0\\n5181,0\\n5182,1\\n5183,1\\n5184,1\\n5185,0\\n5186,1\\n5187,0\\n5188,1\\n5189,1\\n5190,1\\n5191,0\\n5192,0\\n5193,0\\n5194,0\\n5195,1\\n5196,0\\n5197,1\\n5198,0\\n5199,1\\n5200,0\\n5201,0\\n5202,0\\n5203,0\\n5204,1\\n5205,0\\n5206,0\\n5207,0\\n5208,0\\n5209,1\\n5210,1\\n5211,1\\n5212,0\\n5213,1\\n5214,0\\n5215,0\\n5216,1\\n5217,1\\n5218,0\\n5219,0\\n5220,0\\n5221,1\\n5222,1\\n5223,1\\n5224,1\\n5225,1\\n5226,0\\n5227,1\\n5228,0\\n5229,0\\n5230,0\\n5231,1\\n5232,1\\n5233,0\\n5234,1\\n5235,1\\n5236,1\\n5237,0\\n5238,0\\n5239,0\\n5240,0\\n5241,1\\n5242,1\\n5243,1\\n5244,1\\n5245,1\\n5246,0\\n5247,0\\n5248,0\\n5249,0\\n5250,1\\n5251,0\\n5252,0\\n5253,0\\n5254,0\\n5255,1\\n5256,1\\n5257,1\\n5258,0\\n5259,1\\n5260,1\\n5261,0\\n5262,1\\n5263,1\\n5264,0\\n5265,0\\n5266,0\\n5267,0\\n5268,0\\n5269,0\\n5270,1\\n5271,0\\n5272,0\\n5273,0\\n5274,1\\n5275,1\\n5276,0\\n5277,0\\n5278,0\\n5279,0\\n5280,1\\n5281,0\\n5282,1\\n5283,1\\n5284,1\\n5285,0\\n5286,1\\n5287,0\\n5288,0\\n5289,1\\n5290,1\\n5291,1\\n5292,0\\n5293,0\\n5294,1\\n5295,0\\n5296,0\\n5297,0\\n5298,0\\n5299,0\\n5300,0\\n5301,1\\n5302,1\\n5303,0\\n5304,1\\n5305,0\\n5306,1\\n5307,0\\n5308,0\\n5309,0\\n5310,1\\n5311,1\\n5312,1\\n5313,0\\n5314,0\\n5315,0\\n5316,0\\n5317,0\\n5318,0\\n5319,1\\n5320,0\\n5321,0\\n5322,0\\n5323,0\\n5324,1\\n5325,0\\n5326,0\\n5327,1\\n5328,1\\n5329,0\\n5330,0\\n5331,1\\n5332,1\\n5333,0\\n5334,1\\n5335,0\\n5336,0\\n5337,1\\n5338,1\\n5339,0\\n5340,0\\n5341,0\\n5342,1\\n5343,1\\n5344,0\\n5345,1\\n5346,1\\n5347,1\\n5348,1\\n5349,1\\n5350,0\\n5351,1\\n5352,0\\n5353,1\\n5354,0\\n5355,1\\n5356,1\\n5357,1\\n5358,0\\n5359,1\\n5360,1\\n5361,1\\n5362,0\\n5363,0\\n5364,1\\n5365,1\\n5366,0\\n5367,1\\n5368,1\\n5369,1\\n5370,0\\n5371,0\\n5372,1\\n5373,0\\n5374,1\\n5375,1\\n5376,1\\n5377,0\\n5378,0\\n5379,1\\n5380,0\\n5381,0\\n5382,1\\n5383,0\\n5384,0\\n5385,1\\n5386,1\\n5387,1\\n5388,0\\n5389,0\\n5390,1\\n5391,1\\n5392,1\\n5393,1\\n5394,1\\n5395,1\\n5396,0\\n5397,1\\n5398,0\\n5399,0\\n5400,1\\n5401,1\\n5402,0\\n5403,1\\n5404,0\\n5405,1\\n5406,0\\n5407,0\\n5408,1\\n5409,0\\n5410,0\\n5411,1\\n5412,0\\n5413,1\\n5414,0\\n5415,0\\n5416,0\\n5417,0\\n5418,0\\n5419,1\\n5420,1\\n5421,1\\n5422,0\\n5423,1\\n5424,1\\n5425,0\\n5426,0\\n5427,0\\n5428,0\\n5429,1\\n5430,0\\n5431,1\\n5432,1\\n5433,0\\n5434,1\\n5435,1\\n5436,0\\n5437,0\\n5438,1\\n5439,1\\n5440,0\\n5441,0\\n5442,1\\n5443,0\\n5444,1\\n5445,0\\n5446,1\\n5447,1\\n5448,1\\n5449,1\\n5450,0\\n5451,0\\n5452,0\\n5453,1\\n5454,0\\n5455,1\\n5456,0\\n5457,1\\n5458,0\\n5459,0\\n5460,1\\n5461,0\\n5462,0\\n5463,1\\n5464,1\\n5465,1\\n5466,1\\n5467,1\\n5468,0\\n5469,1\\n5470,0\\n5471,1\\n5472,0\\n5473,1\\n5474,0\\n5475,0\\n5476,0\\n5477,0\\n5478,1\\n5479,1\\n5480,1\\n5481,1\\n5482,0\\n5483,0\\n5484,1\\n5485,0\\n5486,1\\n5487,1\\n5488,1\\n5489,0\\n5490,0\\n5491,1\\n5492,1\\n5493,0\\n5494,0\\n5495,1\\n5496,0\\n5497,1\\n5498,0\\n5499,0\\n5500,0\\n5501,1\\n5502,1\\n5503,0\\n5504,1\\n5505,1\\n5506,0\\n5507,1\\n5508,0\\n5509,0\\n5510,1\\n5511,1\\n5512,0\\n5513,0\\n5514,0\\n5515,0\\n5516,1\\n5517,0\\n5518,1\\n5519,1\\n5520,1\\n5521,0\\n5522,0\\n5523,1\\n5524,0\\n5525,0\\n5526,0\\n5527,0\\n5528,1\\n5529,1\\n5530,0\\n5531,1\\n5532,1\\n5533,0\\n5534,0\\n5535,0\\n5536,0\\n5537,0\\n5538,0\\n5539,0\\n5540,0\\n5541,0\\n5542,1\\n5543,1\\n5544,1\\n5545,0\\n5546,1\\n5547,0\\n5548,0\\n5549,0\\n5550,1\\n5551,1\\n5552,1\\n5553,1\\n5554,0\\n5555,0\\n5556,1\\n5557,0\\n5558,0\\n5559,0\\n5560,0\\n5561,0\\n5562,1\\n5563,0\\n5564,0\\n5565,0\\n5566,0\\n5567,0\\n5568,1\\n5569,1\\n5570,0\\n5571,0\\n5572,1\\n5573,1\\n5574,0\\n5575,1\\n5576,0\\n5577,1\\n5578,0\\n5579,0\\n5580,0\\n5581,1\\n5582,1\\n5583,0\\n5584,1\\n5585,0\\n5586,1\\n5587,1\\n5588,0\\n5589,1\\n5590,0\\n5591,0\\n5592,0\\n5593,1\\n5594,1\\n5595,0\\n5596,1\\n5597,1\\n5598,0\\n5599,0\\n5600,0\\n5601,0\\n5602,1\\n5603,0\\n5604,1\\n5605,0\\n5606,1\\n5607,0\\n5608,1\\n5609,0\\n5610,1\\n5611,0\\n5612,1\\n5613,0\\n5614,0\\n5615,1\\n5616,1\\n5617,0\\n5618,0\\n5619,0\\n5620,1\\n5621,1\\n5622,1\\n5623,0\\n5624,1\\n5625,0\\n5626,1\\n5627,0\\n5628,1\\n5629,0\\n5630,1\\n5631,1\\n5632,0\\n5633,0\\n5634,0\\n5635,0\\n5636,1\\n5637,1\\n5638,0\\n5639,1\\n5640,0\\n5641,0\\n5642,1\\n5643,0\\n5644,1\\n5645,1\\n5646,1\\n5647,0\\n5648,0\\n5649,0\\n5650,1\\n5651,0\\n5652,0\\n5653,0\\n5654,1\\n5655,1\\n5656,1\\n5657,1\\n5658,1\\n5659,1\\n5660,0\\n5661,1\\n5662,1\\n5663,0\\n5664,1\\n5665,1\\n5666,0\\n5667,1\\n5668,1\\n5669,0\\n5670,1\\n5671,1\\n5672,1\\n5673,1\\n5674,0\\n5675,1\\n5676,1\\n5677,0\\n5678,0\\n5679,0\\n5680,0\\n5681,0\\n5682,0\\n5683,1\\n5684,1\\n5685,0\\n5686,1\\n5687,1\\n5688,1\\n5689,1\\n5690,1\\n5691,0\\n5692,1\\n5693,1\\n5694,0\\n5695,0\\n5696,1\\n5697,1\\n5698,0\\n5699,0\\n5700,0\\n5701,1\\n5702,0\\n5703,1\\n5704,1\\n5705,0\\n5706,0\\n5707,0\\n5708,1\\n5709,0\\n5710,1\\n5711,0\\n5712,1\\n5713,0\\n5714,1\\n5715,1\\n5716,0\\n5717,1\\n5718,1\\n5719,0\\n5720,0\\n5721,1\\n5722,0\\n5723,1\\n5724,0\\n5725,0\\n5726,1\\n5727,1\\n5728,1\\n5729,1\\n5730,0\\n5731,1\\n5732,1\\n5733,0\\n5734,0\\n5735,1\\n5736,1\\n5737,0\\n5738,0\\n5739,0\\n5740,1\\n5741,0\\n5742,1\\n5743,0\\n5744,0\\n5745,1\\n5746,1\\n5747,1\\n5748,0\\n5749,0\\n5750,1\\n5751,0\\n5752,1\\n5753,0\\n5754,0\\n5755,1\\n5756,1\\n5757,0\\n5758,0\\n5759,0\\n5760,1\\n5761,1\\n5762,1\\n5763,1\\n5764,0\\n5765,0\\n5766,1\\n5767,0\\n5768,1\\n5769,0\\n5770,1\\n5771,0\\n5772,0\\n5773,1\\n5774,0\\n5775,1\\n5776,1\\n5777,0\\n5778,0\\n5779,0\\n5780,1\\n5781,1\\n5782,1\\n5783,0\\n5784,1\\n5785,0\\n5786,0\\n5787,0\\n5788,1\\n5789,1\\n5790,0\\n5791,1\\n5792,1\\n5793,0\\n5794,0\\n5795,1\\n5796,1\\n5797,1\\n5798,1\\n5799,0\\n5800,0\\n5801,1\\n5802,1\\n5803,1\\n5804,0\\n5805,0\\n5806,1\\n5807,0\\n5808,0\\n5809,0\\n5810,1\\n5811,0\\n5812,0\\n5813,1\\n5814,1\\n5815,1\\n5816,0\\n5817,0\\n5818,1\\n5819,0\\n5820,0\\n5821,0\\n5822,0\\n5823,0\\n5824,1\\n5825,1\\n5826,1\\n5827,0\\n5828,0\\n5829,1\\n5830,0\\n5831,0\\n5832,1\\n5833,1\\n5834,0\\n5835,1\\n5836,1\\n5837,0\\n5838,1\\n5839,0\\n5840,1\\n5841,0\\n5842,1\\n5843,1\\n5844,0\\n5845,1\\n5846,0\\n5847,1\\n5848,0\\n5849,1\\n5850,1\\n5851,1\\n5852,1\\n5853,1\\n5854,0\\n5855,0\\n5856,0\\n5857,1\\n5858,0\\n5859,1\\n5860,0\\n5861,1\\n5862,0\\n5863,0\\n5864,1\\n5865,0\\n5866,0\\n5867,1\\n5868,0\\n5869,1\\n5870,1\\n5871,1\\n5872,1\\n5873,0\\n5874,1\\n5875,0\\n5876,1\\n5877,0\\n5878,1\\n5879,1\\n5880,1\\n5881,0\\n5882,1\\n5883,0\\n5884,0\\n5885,1\\n5886,0\\n5887,1\\n5888,0\\n5889,0\\n5890,0\\n5891,0\\n5892,1\\n5893,1\\n5894,0\\n5895,0\\n5896,0\\n5897,0\\n5898,1\\n5899,1\\n5900,1\\n5901,0\\n5902,1\\n5903,0\\n5904,1\\n5905,0\\n5906,0\\n5907,0\\n5908,1\\n5909,0\\n5910,1\\n5911,1\\n5912,0\\n5913,0\\n5914,0\\n5915,1\\n5916,0\\n5917,1\\n5918,1\\n5919,0\\n5920,1\\n5921,0\\n5922,0\\n5923,1\\n5924,1\\n5925,0\\n5926,0\\n5927,0\\n5928,1\\n5929,0\\n5930,1\\n5931,1\\n5932,0\\n5933,0\\n5934,0\\n5935,1\\n5936,1\\n5937,0\\n5938,1\\n5939,0\\n5940,0\\n5941,1\\n5942,1\\n5943,1\\n5944,1\\n5945,1\\n5946,0\\n5947,0\\n5948,0\\n5949,1\\n5950,0\\n5951,1\\n5952,1\\n5953,0\\n5954,1\\n5955,0\\n5956,0\\n5957,1\\n5958,0\\n5959,0\\n5960,0\\n5961,0\\n5962,0\\n5963,1\\n5964,0\\n5965,1\\n5966,1\\n5967,1\\n5968,1\\n5969,1\\n5970,1\\n5971,0\\n5972,1\\n5973,0\\n5974,0\\n5975,1\\n5976,1\\n5977,1\\n5978,1\\n5979,0\\n5980,0\\n5981,1\\n5982,1\\n5983,0\\n5984,0\\n5985,0\\n5986,0\\n5987,0\\n5988,0\\n5989,1\\n5990,0\\n5991,0\\n5992,1\\n5993,0\\n5994,1\\n5995,0\\n5996,0\\n5997,1\\n5998,0\\n5999,1\\n6000,0\\n6001,0\\n6002,0\\n6003,0\\n6004,1\\n6005,0\\n6006,0\\n6007,0\\n6008,1\\n6009,1\\n6010,1\\n6011,1\\n6012,1\\n6013,1\\n6014,0\\n6015,1\\n6016,0\\n6017,1\\n6018,0\\n6019,0\\n6020,0\\n6021,1\\n6022,0\\n6023,0\\n6024,0\\n6025,0\\n6026,0\\n6027,0\\n6028,1\\n6029,1\\n6030,1\\n6031,0\\n6032,1\\n6033,0\\n6034,1\\n6035,1\\n6036,0\\n6037,1\\n6038,1\\n6039,0\\n6040,1\\n6041,1\\n6042,1\\n6043,1\\n6044,1\\n6045,0\\n6046,0\\n6047,1\\n6048,0\\n6049,1\\n6050,0\\n6051,1\\n6052,0\\n6053,0\\n6054,0\\n6055,1\\n6056,1\\n6057,0\\n6058,1\\n6059,1\\n6060,0\\n6061,0\\n6062,0\\n6063,1\\n6064,0\\n6065,0\\n6066,0\\n6067,1\\n6068,1\\n6069,1\\n6070,1\\n6071,0\\n6072,0\\n6073,0\\n6074,1\\n6075,1\\n6076,0\\n6077,0\\n6078,0\\n6079,1\\n6080,0\\n6081,1\\n6082,1\\n6083,0\\n6084,1\\n6085,0\\n6086,0\\n6087,1\\n6088,0\\n6089,1\\n6090,0\\n6091,1\\n6092,1\\n6093,0\\n6094,0\\n6095,1\\n6096,0\\n6097,0\\n6098,0\\n6099,0\\n6100,1\\n6101,1\\n6102,0\\n6103,0\\n6104,1\\n6105,1\\n6106,1\\n6107,0\\n6108,0\\n6109,1\\n6110,0\\n6111,1\\n6112,0\\n6113,0\\n6114,1\\n6115,1\\n6116,0\\n6117,1\\n6118,0\\n6119,1\\n6120,0\\n6121,1\\n6122,1\\n6123,1\\n6124,0\\n6125,0\\n6126,0\\n6127,0\\n6128,1\\n6129,1\\n6130,1\\n6131,1\\n6132,1\\n6133,1\\n6134,1\\n6135,1\\n6136,1\\n6137,1\\n6138,0\\n6139,0\\n6140,1\\n6141,1\\n6142,0\\n6143,0\\n6144,0\\n6145,0\\n6146,1\\n6147,1\\n6148,0\\n6149,0\\n6150,1\\n6151,1\\n6152,0\\n6153,0\\n6154,0\\n6155,1\\n6156,0\\n6157,1\\n6158,1\\n6159,0\\n6160,0\\n6161,1\\n6162,1\\n6163,0\\n6164,0\\n6165,0\\n6166,1\\n6167,0\\n6168,0\\n6169,0\\n6170,1\\n6171,1\\n6172,1\\n6173,0\\n6174,1\\n6175,0\\n6176,1\\n6177,0\\n6178,1\\n6179,1\\n6180,1\\n6181,0\\n6182,0\\n6183,1\\n6184,0\\n6185,0\\n6186,1\\n6187,0\\n6188,1\\n6189,1\\n6190,1\\n6191,0\\n6192,0\\n6193,0\\n6194,0\\n6195,0\\n6196,0\\n6197,1\\n6198,0\\n6199,1\\n6200,1\\n6201,0\\n6202,0\\n6203,1\\n6204,1\\n6205,1\\n6206,1\\n6207,1\\n6208,1\\n6209,0\\n6210,1\\n6211,1\\n6212,1\\n6213,0\\n6214,1\\n6215,0\\n6216,0\\n6217,0\\n6218,1\\n6219,1\\n6220,0\\n6221,0\\n6222,0\\n6223,1\\n6224,0\\n6225,0\\n6226,1\\n6227,1\\n6228,0\\n6229,1\\n6230,1\\n6231,1\\n6232,0\\n6233,0\\n6234,1\\n6235,0\\n6236,1\\n6237,0\\n6238,1\\n6239,0\\n6240,0\\n6241,1\\n6242,1\\n6243,0\\n6244,0\\n6245,0\\n6246,0\\n6247,0\\n6248,1\\n6249,1\\n6250,0\\n6251,0\\n6252,0\\n6253,0\\n6254,0\\n6255,1\\n6256,0\\n6257,1\\n6258,1\\n6259,0\\n6260,1\\n6261,0\\n6262,0\\n6263,1\\n6264,1\\n6265,1\\n6266,1\\n6267,1\\n6268,0\\n6269,1\\n6270,1\\n6271,0\\n6272,0\\n6273,1\\n6274,0\\n6275,0\\n6276,1\\n6277,0\\n6278,1\\n6279,0\\n6280,1\\n6281,1\\n6282,1\\n6283,0\\n6284,0\\n6285,1\\n6286,1\\n6287,0\\n6288,1\\n6289,0\\n6290,1\\n6291,1\\n6292,1\\n6293,1\\n6294,1\\n6295,0\\n6296,0\\n6297,0\\n6298,0\\n6299,0\\n6300,0\\n6301,1\\n6302,1\\n6303,1\\n6304,0\\n6305,0\\n6306,0\\n6307,0\\n6308,1\\n6309,1\\n6310,0\\n6311,1\\n6312,0\\n6313,1\\n6314,1\\n6315,1\\n6316,0\\n6317,1\\n6318,1\\n6319,0\\n6320,0\\n6321,1\\n6322,0\\n6323,1\\n6324,1\\n6325,0\\n6326,0\\n6327,0\\n6328,0\\n6329,0\\n6330,0\\n6331,0\\n6332,1\\n6333,0\\n6334,0\\n6335,1\\n6336,0\\n6337,1\\n6338,0\\n6339,0\\n6340,0\\n6341,1\\n6342,0\\n6343,1\\n6344,0\\n6345,1\\n6346,0\\n6347,1\\n6348,0\\n6349,1\\n6350,1\\n6351,0\\n6352,1\\n6353,0\\n6354,1\\n6355,1\\n6356,0\\n6357,0\\n6358,0\\n6359,0\\n6360,0\\n6361,0\\n6362,1\\n6363,1\\n6364,1\\n6365,1\\n6366,0\\n6367,1\\n6368,0\\n6369,0\\n6370,1\\n6371,0\\n6372,0\\n6373,0\\n6374,0\\n6375,0\\n6376,0\\n6377,1\\n6378,0\\n6379,1\\n6380,1\\n6381,1\\n6382,1\\n6383,0\\n6384,1\\n6385,1\\n6386,1\\n6387,1\\n6388,1\\n6389,1\\n6390,1\\n6391,1\\n6392,0\\n6393,0\\n6394,1\\n6395,0\\n6396,1\\n6397,1\\n6398,0\\n6399,1\\n6400,0\\n6401,0\\n6402,1\\n6403,1\\n6404,0\\n6405,0\\n6406,1\\n6407,1\\n6408,0\\n6409,1\\n6410,1\\n6411,1\\n6412,1\\n6413,0\\n6414,0\\n6415,1\\n6416,1\\n6417,1\\n6418,1\\n6419,0\\n6420,1\\n6421,1\\n6422,1\\n6423,0\\n6424,1\\n6425,1\\n6426,1\\n6427,0\\n6428,1\\n6429,1\\n6430,0\\n6431,1\\n6432,0\\n6433,0\\n6434,1\\n6435,1\\n6436,0\\n6437,0\\n6438,0\\n6439,1\\n6440,1\\n6441,0\\n6442,1\\n6443,1\\n6444,1\\n6445,0\\n6446,0\\n6447,1\\n6448,1\\n6449,0\\n6450,1\\n6451,1\\n6452,1\\n6453,0\\n6454,0\\n6455,1\\n6456,1\\n6457,1\\n6458,1\\n6459,1\\n6460,1\\n6461,1\\n6462,0\\n6463,0\\n6464,0\\n6465,0\\n6466,0\\n6467,1\\n6468,0\\n6469,1\\n6470,0\\n6471,1\\n6472,1\\n6473,1\\n6474,1\\n6475,0\\n6476,0\\n6477,0\\n6478,0\\n6479,0\\n6480,1\\n6481,0\\n6482,0\\n6483,0\\n6484,1\\n6485,0\\n6486,0\\n6487,0\\n6488,1\\n6489,1\\n6490,0\\n6491,0\\n6492,0\\n6493,1\\n6494,0\\n6495,0\\n6496,0\\n6497,1\\n6498,1\\n6499,0\\n6500,0\\n6501,0\\n6502,1\\n6503,0\\n6504,1\\n6505,1\\n6506,0\\n6507,0\\n6508,0\\n6509,0\\n6510,1\\n6511,1\\n6512,0\\n6513,1\\n6514,0\\n6515,1\\n6516,1\\n6517,1\\n6518,0\\n6519,1\\n6520,1\\n6521,0\\n6522,1\\n6523,0\\n6524,0\\n6525,1\\n6526,1\\n6527,1\\n6528,0\\n6529,0\\n6530,1\\n6531,0\\n6532,0\\n6533,0\\n6534,1\\n6535,0\\n6536,1\\n6537,1\\n6538,1\\n6539,1\\n6540,0\\n6541,1\\n6542,1\\n6543,1\\n6544,1\\n6545,0\\n6546,0\\n6547,1\\n6548,0\\n6549,1\\n6550,1\\n6551,1\\n6552,0\\n6553,0\\n6554,0\\n6555,1\\n6556,0\\n6557,0\\n6558,1\\n6559,1\\n6560,0\\n6561,0\\n6562,1\\n6563,0\\n6564,0\\n6565,1\\n6566,0\\n6567,0\\n6568,0\\n6569,1\\n6570,1\\n6571,0\\n6572,0\\n6573,0\\n6574,0\\n6575,0\\n6576,1\\n6577,1\\n6578,1\\n6579,0\\n6580,0\\n6581,1\\n6582,1\\n6583,1\\n6584,0\\n6585,1\\n6586,1\\n6587,0\\n6588,0\\n6589,0\\n6590,0\\n6591,0\\n6592,1\\n6593,1\\n6594,0\\n6595,1\\n6596,0\\n6597,1\\n6598,0\\n6599,1\\n6600,0\\n6601,1\\n6602,0\\n6603,1\\n6604,0\\n6605,1\\n6606,0\\n6607,0\\n6608,1\\n6609,1\\n6610,1\\n6611,1\\n6612,0\\n6613,0\\n6614,1\\n6615,0\\n6616,1\\n6617,1\\n6618,1\\n6619,0\\n6620,0\\n6621,0\\n6622,1\\n6623,0\\n6624,0\\n6625,0\\n6626,0\\n6627,0\\n6628,1\\n6629,1\\n6630,0\\n6631,1\\n6632,1\\n6633,1\\n6634,1\\n6635,0\\n6636,0\\n6637,0\\n6638,1\\n6639,1\\n6640,0\\n6641,1\\n6642,0\\n6643,1\\n6644,1\\n6645,0\\n6646,0\\n6647,1\\n6648,0\\n6649,0\\n6650,0\\n6651,0\\n6652,0\\n6653,1\\n6654,1\\n6655,1\\n6656,1\\n6657,0\\n6658,0\\n6659,1\\n6660,1\\n6661,1\\n6662,1\\n6663,1\\n6664,1\\n6665,1\\n6666,1\\n6667,1\\n6668,0\\n6669,0\\n6670,0\\n6671,0\\n6672,0\\n6673,0\\n6674,0\\n6675,0\\n6676,0\\n6677,1\\n6678,0\\n6679,0\\n6680,1\\n6681,0\\n6682,1\\n6683,1\\n6684,1\\n6685,1\\n6686,0\\n6687,0\\n6688,1\\n6689,0\\n6690,0\\n6691,0\\n6692,0\\n6693,0\\n6694,0\\n6695,0\\n6696,1\\n6697,0\\n6698,0\\n6699,1\\n6700,0\\n6701,1\\n6702,1\\n6703,0\\n6704,0\\n6705,1\\n6706,0\\n6707,1\\n6708,1\\n6709,1\\n6710,1\\n6711,1\\n6712,1\\n6713,1\\n6714,1\\n6715,1\\n6716,1\\n6717,1\\n6718,0\\n6719,1\\n6720,1\\n6721,0\\n6722,1\\n6723,1\\n6724,0\\n6725,0\\n6726,1\\n6727,1\\n6728,0\\n6729,1\\n6730,0\\n6731,0\\n6732,1\\n6733,0\\n6734,0\\n6735,1\\n6736,0\\n6737,1\\n6738,0\\n6739,1\\n6740,0\\n6741,1\\n6742,0\\n6743,1\\n6744,1\\n6745,1\\n6746,1\\n6747,1\\n6748,0\\n6749,0\\n6750,0\\n6751,1\\n6752,0\\n6753,0\\n6754,0\\n6755,0\\n6756,0\\n6757,1\\n6758,1\\n6759,0\\n6760,1\\n6761,1\\n6762,1\\n6763,1\\n6764,0\\n6765,0\\n6766,1\\n6767,1\\n6768,1\\n6769,0\\n6770,0\\n6771,1\\n6772,1\\n6773,1\\n6774,1\\n6775,1\\n6776,0\\n6777,1\\n6778,0\\n6779,1\\n6780,0\\n6781,0\\n6782,1\\n6783,1\\n6784,1\\n6785,0\\n6786,1\\n6787,1\\n6788,0\\n6789,1\\n6790,0\\n6791,0\\n6792,1\\n6793,1\\n6794,0\\n6795,0\\n6796,1\\n6797,1\\n6798,0\\n6799,1\\n6800,0\\n6801,1\\n6802,1\\n6803,1\\n6804,1\\n6805,1\\n6806,0\\n6807,1\\n6808,1\\n6809,0\\n6810,1\\n6811,1\\n6812,0\\n6813,0\\n6814,1\\n6815,0\\n6816,1\\n6817,0\\n6818,0\\n6819,0\\n6820,1\\n6821,0\\n6822,0\\n6823,0\\n6824,0\\n6825,1\\n6826,0\\n6827,1\\n6828,0\\n6829,1\\n6830,0\\n6831,1\\n6832,1\\n6833,0\\n6834,0\\n6835,1\\n6836,0\\n6837,0\\n6838,1\\n6839,0\\n6840,0\\n6841,0\\n6842,1\\n6843,0\\n6844,1\\n6845,1\\n6846,0\\n6847,1\\n6848,1\\n6849,0\\n6850,1\\n6851,0\\n6852,0\\n6853,0\\n6854,0\\n6855,1\\n6856,1\\n6857,0\\n6858,1\\n6859,1\\n6860,1\\n6861,1\\n6862,1\\n6863,1\\n6864,0\\n6865,1\\n6866,1\\n6867,1\\n6868,1\\n6869,0\\n6870,0\\n6871,0\\n6872,1\\n6873,0\\n6874,0\\n6875,0\\n6876,1\\n6877,1\\n6878,1\\n6879,0\\n6880,1\\n6881,0\\n6882,1\\n6883,0\\n6884,0\\n6885,1\\n6886,0\\n6887,1\\n6888,0\\n6889,1\\n6890,0\\n6891,0\\n6892,1\\n6893,0\\n6894,0\\n6895,0\\n6896,1\\n6897,0\\n6898,1\\n6899,1\\n6900,0\\n6901,1\\n6902,0\\n6903,0\\n6904,0\\n6905,1\\n6906,0\\n6907,1\\n6908,1\\n6909,0\\n6910,0\\n6911,0\\n6912,0\\n6913,1\\n6914,0\\n6915,1\\n6916,1\\n6917,1\\n6918,1\\n6919,0\\n6920,1\\n6921,1\\n6922,1\\n6923,0\\n6924,1\\n6925,1\\n6926,1\\n6927,0\\n6928,0\\n6929,0\\n6930,0\\n6931,1\\n6932,0\\n6933,0\\n6934,0\\n6935,1\\n6936,0\\n6937,1\\n6938,1\\n6939,1\\n6940,1\\n6941,1\\n6942,1\\n6943,0\\n6944,0\\n6945,1\\n6946,0\\n6947,0\\n6948,0\\n6949,1\\n6950,0\\n6951,0\\n6952,1\\n6953,1\\n6954,0\\n6955,1\\n6956,1\\n6957,0\\n6958,1\\n6959,0\\n6960,0\\n6961,1\\n6962,0\\n6963,0\\n6964,0\\n6965,1\\n6966,0\\n6967,1\\n6968,1\\n6969,0\\n6970,0\\n6971,0\\n6972,1\\n6973,1\\n6974,1\\n6975,1\\n6976,1\\n6977,1\\n6978,0\\n6979,0\\n6980,0\\n6981,1\\n6982,0\\n6983,1\\n6984,1\\n6985,0\\n6986,1\\n6987,0\\n6988,1\\n6989,1\\n6990,0\\n6991,0\\n6992,1\\n6993,0\\n6994,0\\n6995,0\\n6996,1\\n6997,0\\n6998,1\\n6999,0\\n7000,0\\n7001,1\\n7002,0\\n7003,0\\n7004,1\\n7005,1\\n7006,1\\n7007,0\\n7008,0\\n7009,0\\n7010,1\\n7011,0\\n7012,1\\n7013,0\\n7014,1\\n7015,0\\n7016,1\\n7017,1\\n7018,1\\n7019,0\\n7020,1\\n7021,1\\n7022,1\\n7023,1\\n7024,1\\n7025,0\\n7026,0\\n7027,1\\n7028,0\\n7029,1\\n7030,0\\n7031,1\\n7032,0\\n7033,0\\n7034,1\\n7035,0\\n7036,1\\n7037,0\\n7038,0\\n7039,0\\n7040,0\\n7041,1\\n7042,0\\n7043,0\\n7044,1\\n7045,1\\n7046,1\\n7047,1\\n7048,0\\n7049,0\\n7050,0\\n7051,0\\n7052,0\\n7053,0\\n7054,1\\n7055,0\\n7056,0\\n7057,0\\n7058,1\\n7059,0\\n7060,0\\n7061,1\\n7062,0\\n7063,1\\n7064,1\\n7065,0\\n7066,0\\n7067,1\\n7068,0\\n7069,1\\n7070,0\\n7071,0\\n7072,0\\n7073,0\\n7074,0\\n7075,1\\n7076,1\\n7077,0\\n7078,0\\n7079,1\\n7080,0\\n7081,1\\n7082,0\\n7083,1\\n7084,1\\n7085,1\\n7086,1\\n7087,0\\n7088,1\\n7089,0\\n7090,0\\n7091,0\\n7092,0\\n7093,0\\n7094,1\\n7095,0\\n7096,0\\n7097,1\\n7098,0\\n7099,1\\n7100,0\\n7101,1\\n7102,0\\n7103,1\\n7104,0\\n7105,0\\n7106,0\\n7107,0\\n7108,0\\n7109,1\\n7110,1\\n7111,0\\n7112,0\\n7113,0\\n7114,0\\n7115,1\\n7116,0\\n7117,0\\n7118,0\\n7119,1\\n7120,0\\n7121,1\\n7122,0\\n7123,0\\n7124,0\\n7125,0\\n7126,1\\n7127,1\\n7128,1\\n7129,1\\n7130,1\\n7131,0\\n7132,0\\n7133,1\\n7134,0\\n7135,1\\n7136,1\\n7137,0\\n7138,1\\n7139,0\\n7140,0\\n7141,1\\n7142,0\\n7143,0\\n7144,1\\n7145,0\\n7146,0\\n7147,1\\n7148,0\\n7149,0\\n7150,0\\n7151,1\\n7152,1\\n7153,0\\n7154,0\\n7155,1\\n7156,0\\n7157,1\\n7158,0\\n7159,0\\n7160,1\\n7161,1\\n7162,0\\n7163,1\\n7164,0\\n7165,0\\n7166,1\\n7167,1\\n7168,1\\n7169,0\\n7170,0\\n7171,1\\n7172,1\\n7173,0\\n7174,0\\n7175,1\\n7176,0\\n7177,1\\n7178,0\\n7179,1\\n7180,0\\n7181,1\\n7182,0\\n7183,1\\n7184,1\\n7185,1\\n7186,0\\n7187,0\\n7188,0\\n7189,0\\n7190,0\\n7191,1\\n7192,0\\n7193,0\\n7194,0\\n7195,1\\n7196,0\\n7197,1\\n7198,1\\n7199,0\\n7200,1\\n7201,1\\n7202,0\\n7203,0\\n7204,0\\n7205,0\\n7206,0\\n7207,1\\n7208,0\\n7209,1\\n7210,0\\n7211,0\\n7212,0\\n7213,0\\n7214,0\\n7215,1\\n7216,0\\n7217,0\\n7218,1\\n7219,1\\n7220,0\\n7221,0\\n7222,0\\n7223,0\\n7224,0\\n7225,1\\n7226,0\\n7227,0\\n7228,0\\n7229,1\\n7230,0\\n7231,1\\n7232,0\\n7233,1\\n7234,1\\n7235,0\\n7236,0\\n7237,0\\n7238,1\\n7239,1\\n7240,1\\n7241,1\\n7242,0\\n7243,0\\n7244,1\\n7245,1\\n7246,1\\n7247,1\\n7248,0\\n7249,1\\n7250,0\\n7251,0\\n7252,1\\n7253,0\\n7254,0\\n7255,0\\n7256,1\\n7257,0\\n7258,0\\n7259,0\\n7260,0\\n7261,1\\n7262,0\\n7263,1\\n7264,0\\n7265,0\\n7266,0\\n7267,0\\n7268,1\\n7269,1\\n7270,1\\n7271,0\\n7272,0\\n7273,0\\n7274,0\\n7275,1\\n7276,1\\n7277,1\\n7278,0\\n7279,1\\n7280,0\\n7281,0\\n7282,1\\n7283,1\\n7284,1\\n7285,1\\n7286,0\\n7287,0\\n7288,1\\n7289,1\\n7290,1\\n7291,1\\n7292,0\\n7293,0\\n7294,1\\n7295,1\\n7296,1\\n7297,0\\n7298,1\\n7299,1\\n7300,1\\n7301,0\\n7302,1\\n7303,0\\n7304,0\\n7305,0\\n7306,0\\n7307,1\\n7308,1\\n7309,1\\n7310,1\\n7311,0\\n7312,0\\n7313,0\\n7314,1\\n7315,0\\n7316,1\\n7317,0\\n7318,1\\n7319,0\\n7320,0\\n7321,0\\n7322,0\\n7323,0\\n7324,1\\n7325,1\\n7326,1\\n7327,1\\n7328,0\\n7329,0\\n7330,0\\n7331,1\\n7332,1\\n7333,1\\n7334,0\\n7335,1\\n7336,1\\n7337,0\\n7338,0\\n7339,1\\n7340,1\\n7341,1\\n7342,1\\n7343,0\\n7344,0\\n7345,1\\n7346,0\\n7347,1\\n7348,1\\n7349,0\\n7350,1\\n7351,0\\n7352,1\\n7353,1\\n7354,1\\n7355,1\\n7356,0\\n7357,0\\n7358,0\\n7359,1\\n7360,1\\n7361,0\\n7362,0\\n7363,0\\n7364,0\\n7365,0\\n7366,1\\n7367,0\\n7368,1\\n7369,0\\n7370,1\\n7371,0\\n7372,1\\n7373,0\\n7374,0\\n7375,0\\n7376,0\\n7377,0\\n7378,0\\n7379,1\\n7380,0\\n7381,1\\n7382,1\\n7383,0\\n7384,1\\n7385,0\\n7386,1\\n7387,1\\n7388,0\\n7389,1\\n7390,1\\n7391,1\\n7392,0\\n7393,0\\n7394,0\\n7395,1\\n7396,1\\n7397,0\\n7398,0\\n7399,0\\n7400,1\\n7401,1\\n7402,0\\n7403,1\\n7404,0\\n7405,1\\n7406,0\\n7407,0\\n7408,0\\n7409,1\\n7410,0\\n7411,1\\n7412,1\\n7413,0\\n7414,0\\n7415,1\\n7416,1\\n7417,0\\n7418,0\\n7419,0\\n7420,1\\n7421,1\\n7422,1\\n7423,1\\n7424,0\\n7425,1\\n7426,0\\n7427,1\\n7428,1\\n7429,0\\n7430,0\\n7431,1\\n7432,0\\n7433,0\\n7434,1\\n7435,0\\n7436,0\\n7437,0\\n7438,1\\n7439,1\\n7440,0\\n7441,0\\n7442,1\\n7443,1\\n7444,0\\n7445,1\\n7446,0\\n7447,1\\n7448,0\\n7449,0\\n7450,0\\n7451,0\\n7452,0\\n7453,0\\n7454,1\\n7455,0\\n7456,0\\n7457,1\\n7458,1\\n7459,0\\n7460,1\\n7461,1\\n7462,1\\n7463,1\\n7464,1\\n7465,1\\n7466,0\\n7467,0\\n7468,0\\n7469,0\\n7470,1\\n7471,1\\n7472,1\\n7473,1\\n7474,0\\n7475,0\\n7476,1\\n7477,0\\n7478,1\\n7479,1\\n7480,0\\n7481,1\\n7482,0\\n7483,1\\n7484,0\\n7485,1\\n7486,0\\n7487,0\\n7488,0\\n7489,0\\n7490,1\\n7491,0\\n7492,0\\n7493,0\\n7494,0\\n7495,1\\n7496,0\\n7497,0\\n7498,1\\n7499,1\\n7500,1\\n7501,1\\n7502,0\\n7503,0\\n7504,1\\n7505,1\\n7506,1\\n7507,1\\n7508,0\\n7509,0\\n7510,0\\n7511,1\\n7512,1\\n7513,1\\n7514,0\\n7515,0\\n7516,0\\n7517,1\\n7518,1\\n7519,1\\n7520,1\\n7521,0\\n7522,1\\n7523,0\\n7524,1\\n7525,1\\n7526,0\\n7527,0\\n7528,0\\n7529,0\\n7530,0\\n7531,0\\n7532,0\\n7533,0\\n7534,0\\n7535,1\\n7536,0\\n7537,0\\n7538,0\\n7539,0\\n7540,0\\n7541,0\\n7542,1\\n7543,1\\n7544,0\\n7545,1\\n7546,0\\n7547,0\\n7548,1\\n7549,1\\n7550,1\\n7551,0\\n7552,1\\n7553,0\\n7554,1\\n7555,0\\n7556,1\\n7557,0\\n7558,0\\n7559,1\\n7560,0\\n7561,0\\n7562,1\\n7563,0\\n7564,1\\n7565,0\\n7566,1\\n7567,1\\n7568,1\\n7569,0\\n7570,0\\n7571,0\\n7572,0\\n7573,1\\n7574,0\\n7575,0\\n7576,0\\n7577,1\\n7578,1\\n7579,1\\n7580,1\\n7581,0\\n7582,0\\n7583,0\\n7584,0\\n7585,1\\n7586,0\\n7587,0\\n7588,1\\n7589,0\\n7590,1\\n7591,0\\n7592,0\\n7593,0\\n7594,0\\n7595,0\\n7596,1\\n7597,0\\n7598,1\\n7599,1\\n7600,1\\n7601,1\\n7602,0\\n7603,1\\n7604,1\\n7605,0\\n7606,0\\n7607,0\\n7608,0\\n7609,1\\n7610,1\\n7611,0\\n7612,0\\n7613,0\\n7614,1\\n7615,0\\n7616,0\\n7617,1\\n7618,0\\n7619,0\\n7620,0\\n7621,1\\n7622,0\\n7623,0\\n7624,1\\n7625,0\\n7626,1\\n7627,1\\n7628,1\\n7629,0\\n7630,1\\n7631,0\\n7632,0\\n7633,0\\n7634,1\\n7635,1\\n7636,0\\n7637,1\\n7638,0\\n7639,1\\n7640,1\\n7641,0\\n7642,1\\n7643,0\\n7644,1\\n7645,1\\n7646,1\\n7647,1\\n7648,0\\n7649,1\\n7650,0\\n7651,1\\n7652,1\\n7653,0\\n7654,0\\n7655,0\\n7656,0\\n7657,1\\n7658,1\\n7659,1\\n7660,0\\n7661,1\\n7662,0\\n7663,0\\n7664,0\\n7665,0\\n7666,1\\n7667,1\\n7668,0\\n7669,1\\n7670,1\\n7671,0\\n7672,0\\n7673,0\\n7674,1\\n7675,0\\n7676,0\\n7677,0\\n7678,0\\n7679,1\\n7680,1\\n7681,1\\n7682,1\\n7683,0\\n7684,1\\n7685,1\\n7686,1\\n7687,0\\n7688,1\\n7689,1\\n7690,0\\n7691,0\\n7692,0\\n7693,1\\n7694,0\\n7695,0\\n7696,1\\n7697,1\\n7698,0\\n7699,0\\n7700,0\\n7701,1\\n7702,0\\n7703,1\\n7704,0\\n7705,0\\n7706,1\\n7707,0\\n7708,1\\n7709,1\\n7710,1\\n7711,0\\n7712,1\\n7713,0\\n7714,0\\n7715,1\\n7716,0\\n7717,0\\n7718,0\\n7719,0\\n7720,0\\n7721,1\\n7722,1\\n7723,1\\n7724,1\\n7725,1\\n7726,0\\n7727,0\\n7728,0\\n7729,0\\n7730,0\\n7731,0\\n7732,0\\n7733,0\\n7734,0\\n7735,0\\n7736,0\\n7737,0\\n7738,0\\n7739,0\\n7740,1\\n7741,1\\n7742,0\\n7743,1\\n7744,0\\n7745,0\\n7746,0\\n7747,0\\n7748,1\\n7749,0\\n7750,1\\n7751,1\\n7752,0\\n7753,1\\n7754,0\\n7755,1\\n7756,0\\n7757,0\\n7758,1\\n7759,1\\n7760,1\\n7761,1\\n7762,0\\n7763,0\\n7764,0\\n7765,1\\n7766,1\\n7767,1\\n7768,1\\n7769,1\\n7770,0\\n7771,1\\n7772,0\\n7773,1\\n7774,1\\n7775,1\\n7776,1\\n7777,0\\n7778,1\\n7779,0\\n7780,1\\n7781,0\\n7782,0\\n7783,1\\n7784,0\\n7785,1\\n7786,0\\n7787,1\\n7788,1\\n7789,1\\n7790,0\\n7791,0\\n7792,0\\n7793,0\\n7794,1\\n7795,1\\n7796,0\\n7797,1\\n7798,1\\n7799,0\\n7800,0\\n7801,0\\n7802,0\\n7803,0\\n7804,0\\n7805,0\\n7806,0\\n7807,0\\n7808,0\\n7809,1\\n7810,0\\n7811,0\\n7812,1\\n7813,0\\n7814,1\\n7815,1\\n7816,1\\n7817,0\\n7818,1\\n7819,1\\n7820,1\\n7821,1\\n7822,0\\n7823,0\\n7824,1\\n7825,1\\n7826,0\\n7827,0\\n7828,1\\n7829,0\\n7830,0\\n7831,0\\n7832,1\\n7833,0\\n7834,1\\n7835,1\\n7836,1\\n7837,1\\n7838,0\\n7839,0\\n7840,1\\n7841,0\\n7842,0\\n7843,1\\n7844,0\\n7845,1\\n7846,0\\n7847,1\\n7848,1\\n7849,1\\n7850,1\\n7851,0\\n7852,1\\n7853,0\\n7854,1\\n7855,1\\n7856,0\\n7857,1\\n7858,1\\n7859,1\\n7860,1\\n7861,1\\n7862,0\\n7863,1\\n7864,1\\n7865,0\\n7866,1\\n7867,0\\n7868,1\\n7869,1\\n7870,1\\n7871,1\\n7872,1\\n7873,1\\n7874,0\\n7875,1\\n7876,0\\n7877,0\\n7878,1\\n7879,0\\n7880,1\\n7881,1\\n7882,1\\n7883,1\\n7884,1\\n7885,1\\n7886,0\\n7887,1\\n7888,0\\n7889,0\\n7890,0\\n7891,0\\n7892,0\\n7893,1\\n7894,0\\n7895,0\\n7896,0\\n7897,1\\n7898,0\\n7899,1\\n7900,1\\n7901,1\\n7902,0\\n7903,0\\n7904,1\\n7905,0\\n7906,1\\n7907,0\\n7908,1\\n7909,1\\n7910,0\\n7911,0\\n7912,1\\n7913,0\\n7914,1\\n7915,0\\n7916,0\\n7917,0\\n7918,1\\n7919,0\\n7920,1\\n7921,0\\n7922,0\\n7923,0\\n7924,0\\n7925,0\\n7926,1\\n7927,1\\n7928,0\\n7929,0\\n7930,1\\n7931,0\\n7932,1\\n7933,0\\n7934,0\\n7935,0\\n7936,0\\n7937,1\\n7938,0\\n7939,0\\n7940,1\\n7941,1\\n7942,1\\n7943,0\\n7944,1\\n7945,0\\n7946,0\\n7947,1\\n7948,1\\n7949,0\\n7950,0\\n7951,1\\n7952,1\\n7953,1\\n7954,1\\n7955,1\\n7956,0\\n7957,1\\n7958,0\\n7959,0\\n7960,0\\n7961,1\\n7962,0\\n7963,0\\n7964,0\\n7965,0\\n7966,0\\n7967,0\\n7968,0\\n7969,0\\n7970,1\\n7971,0\\n7972,1\\n7973,0\\n7974,1\\n7975,0\\n7976,0\\n7977,1\\n7978,1\\n7979,0\\n7980,0\\n7981,1\\n7982,1\\n7983,0\\n7984,1\\n7985,0\\n7986,0\\n7987,1\\n7988,1\\n7989,1\\n7990,1\\n7991,1\\n7992,1\\n7993,1\\n7994,1\\n7995,1\\n7996,1\\n7997,0\\n7998,0\\n7999,0\\n8000,0\\n8001,0\\n8002,0\\n8003,1\\n8004,0\\n8005,0\\n8006,0\\n8007,1\\n8008,0\\n8009,1\\n8010,1\\n8011,0\\n8012,1\\n8013,1\\n8014,0\\n8015,1\\n8016,0\\n8017,1\\n8018,0\\n8019,1\\n8020,0\\n8021,0\\n8022,1\\n8023,1\\n8024,0\\n8025,1\\n8026,1\\n8027,0\\n8028,0\\n8029,0\\n8030,0\\n8031,1\\n8032,0\\n8033,1\\n8034,1\\n8035,0\\n8036,0\\n8037,1\\n8038,1\\n8039,1\\n8040,1\\n8041,1\\n8042,1\\n8043,0\\n8044,1\\n8045,1\\n8046,1\\n8047,1\\n8048,1\\n8049,1\\n8050,1\\n8051,0\\n8052,0\\n8053,0\\n8054,0\\n8055,1\\n8056,1\\n8057,0\\n8058,1\\n8059,1\\n8060,0\\n8061,0\\n8062,1\\n8063,1\\n8064,0\\n8065,0\\n8066,0\\n8067,0\\n8068,0\\n8069,1\\n8070,0\\n8071,0\\n8072,1\\n8073,0\\n8074,1\\n8075,0\\n8076,1\\n8077,0\\n8078,1\\n8079,0\\n8080,0\\n8081,0\\n8082,1\\n8083,1\\n8084,1\\n8085,0\\n8086,0\\n8087,0\\n8088,1\\n8089,0\\n8090,1\\n8091,1\\n8092,0\\n8093,0\\n8094,1\\n8095,0\\n8096,0\\n8097,0\\n8098,1\\n8099,0\\n8100,1\\n8101,1\\n8102,1\\n8103,1\\n8104,1\\n8105,1\\n8106,0\\n8107,1\\n8108,1\\n8109,1\\n8110,0\\n8111,1\\n8112,0\\n8113,0\\n8114,0\\n8115,0\\n8116,0\\n8117,1\\n8118,0\\n8119,0\\n8120,0\\n8121,1\\n8122,0\\n8123,0\\n8124,0\\n8125,0\\n8126,0\\n8127,0\\n8128,0\\n8129,0\\n8130,1\\n8131,1\\n8132,0\\n8133,1\\n8134,1\\n8135,1\\n8136,1\\n8137,0\\n8138,1\\n8139,0\\n8140,1\\n8141,1\\n8142,1\\n8143,0\\n8144,1\\n8145,1\\n8146,0\\n8147,1\\n8148,0\\n8149,0\\n8150,1\\n8151,1\\n8152,1\\n8153,1\\n8154,1\\n8155,1\\n8156,0\\n8157,1\\n8158,0\\n8159,1\\n8160,1\\n8161,0\\n8162,1\\n8163,1\\n8164,1\\n8165,0\\n8166,1\\n8167,0\\n8168,1\\n8169,1\\n8170,0\\n8171,0\\n8172,1\\n8173,0\\n8174,1\\n8175,1\\n8176,1\\n8177,0\\n8178,1\\n8179,1\\n8180,1\\n8181,1\\n8182,0\\n8183,1\\n8184,0\\n8185,0\\n8186,1\\n8187,1\\n8188,0\\n8189,0\\n8190,0\\n8191,1\\n8192,0\\n8193,1\\n8194,0\\n8195,0\\n8196,0\\n8197,0\\n8198,1\\n8199,0\\n8200,1\\n8201,1\\n8202,0\\n8203,0\\n8204,1\\n8205,0\\n8206,1\\n8207,0\\n8208,0\\n8209,0\\n8210,1\\n8211,0\\n8212,0\\n8213,0\\n8214,0\\n8215,0\\n8216,1\\n8217,1\\n8218,1\\n8219,1\\n8220,0\\n8221,1\\n8222,1\\n8223,0\\n8224,1\\n8225,0\\n8226,0\\n8227,1\\n8228,0\\n8229,1\\n8230,0\\n8231,1\\n8232,0\\n8233,0\\n8234,1\\n8235,0\\n8236,0\\n8237,1\\n8238,0\\n8239,1\\n8240,0\\n8241,0\\n8242,1\\n8243,0\\n8244,0\\n8245,0\\n8246,0\\n8247,1\\n8248,1\\n8249,1\\n8250,1\\n8251,0\\n8252,1\\n8253,1\\n8254,0\\n8255,1\\n8256,1\\n8257,1\\n8258,1\\n8259,0\\n8260,1\\n8261,1\\n8262,0\\n8263,1\\n8264,1\\n8265,1\\n8266,1\\n8267,0\\n8268,1\\n8269,1\\n8270,0\\n8271,0\\n8272,0\\n8273,0\\n8274,0\\n8275,1\\n8276,1\\n8277,1\\n8278,0\\n8279,1\\n8280,1\\n8281,0\\n8282,0\\n8283,1\\n8284,1\\n8285,0\\n8286,1\\n8287,1\\n8288,0\\n8289,0\\n8290,1\\n8291,1\\n8292,0\\n8293,0\\n8294,0\\n8295,1\\n8296,0\\n8297,1\\n8298,1\\n8299,0\\n8300,1\\n8301,0\\n8302,1\\n8303,0\\n8304,1\\n8305,0\\n8306,0\\n8307,0\\n8308,0\\n8309,0\\n8310,0\\n8311,1\\n8312,1\\n8313,0\\n8314,1\\n8315,0\\n8316,1\\n8317,0\\n8318,1\\n8319,0\\n8320,0\\n8321,0\\n8322,1\\n8323,1\\n8324,1\\n8325,1\\n8326,0\\n8327,0\\n8328,0\\n8329,0\\n8330,0\\n8331,1\\n8332,1\\n8333,0\\n8334,1\\n8335,1\\n8336,0\\n8337,0\\n8338,0\\n8339,1\\n8340,1\\n8341,1\\n8342,0\\n8343,0\\n8344,1\\n8345,1\\n8346,1\\n8347,0\\n8348,1\\n8349,1\\n8350,0\\n8351,0\\n8352,0\\n8353,1\\n8354,0\\n8355,0\\n8356,1\\n8357,1\\n8358,0\\n8359,0\\n8360,1\\n8361,0\\n8362,1\\n8363,1\\n8364,1\\n8365,0\\n8366,1\\n8367,1\\n8368,1\\n8369,0\\n8370,0\\n8371,0\\n8372,1\\n8373,1\\n8374,0\\n8375,1\\n8376,1\\n8377,0\\n8378,0\\n8379,1\\n8380,0\\n8381,0\\n8382,1\\n8383,0\\n8384,0\\n8385,1\\n8386,0\\n8387,1\\n8388,1\\n8389,0\\n8390,1\\n8391,0\\n8392,1\\n8393,1\\n8394,0\\n8395,1\\n8396,0\\n8397,1\\n8398,1\\n8399,1\\n8400,0\\n8401,0\\n8402,1\\n8403,0\\n8404,1\\n8405,1\\n8406,0\\n8407,1\\n8408,1\\n8409,1\\n8410,0\\n8411,0\\n8412,1\\n8413,0\\n8414,0\\n8415,0\\n8416,0\\n8417,1\\n8418,1\\n8419,0\\n8420,0\\n8421,0\\n8422,1\\n8423,1\\n8424,1\\n8425,1\\n8426,0\\n8427,1\\n8428,0\\n8429,1\\n8430,1\\n8431,1\\n8432,1\\n8433,0\\n8434,0\\n8435,0\\n8436,0\\n8437,1\\n8438,0\\n8439,1\\n8440,1\\n8441,0\\n8442,0\\n8443,1\\n8444,1\\n8445,1\\n8446,1\\n8447,0\\n8448,1\\n8449,1\\n8450,0\\n8451,1\\n8452,0\\n8453,1\\n8454,1\\n8455,0\\n8456,0\\n8457,0\\n8458,0\\n8459,0\\n8460,0\\n8461,0\\n8462,0\\n8463,0\\n8464,0\\n8465,1\\n8466,1\\n8467,0\\n8468,0\\n8469,1\\n8470,1\\n8471,1\\n8472,1\\n8473,1\\n8474,1\\n8475,1\\n8476,0\\n8477,0\\n8478,0\\n8479,0\\n8480,0\\n8481,0\\n8482,1\\n8483,1\\n8484,1\\n8485,0\\n8486,0\\n8487,1\\n8488,0\\n8489,1\\n8490,1\\n8491,1\\n8492,1\\n8493,0\\n8494,1\\n8495,1\\n8496,1\\n8497,1\\n8498,0\\n8499,1\\n8500,0\\n8501,1\\n8502,0\\n8503,0\\n8504,1\\n8505,0\\n8506,0\\n8507,1\\n8508,0\\n8509,0\\n8510,1\\n8511,0\\n8512,0\\n8513,1\\n8514,1\\n8515,0\\n8516,1\\n8517,1\\n8518,1\\n8519,1\\n8520,0\\n8521,1\\n8522,1\\n8523,0\\n8524,1\\n8525,0\\n8526,1\\n8527,1\\n8528,0\\n8529,1\\n8530,1\\n8531,1\\n8532,0\\n8533,1\\n8534,1\\n8535,1\\n8536,1\\n8537,1\\n8538,0\\n8539,1\\n8540,0\\n8541,1\\n8542,1\\n8543,0\\n8544,1\\n8545,0\\n8546,0\\n8547,0\\n8548,0\\n8549,0\\n8550,1\\n8551,1\\n8552,1\\n8553,1\\n8554,1\\n8555,1\\n8556,1\\n8557,1\\n8558,1\\n8559,0\\n8560,1\\n8561,0\\n8562,0\\n8563,0\\n8564,0\\n8565,0\\n8566,1\\n8567,1\\n8568,0\\n8569,1\\n8570,1\\n8571,0\\n8572,0\\n8573,1\\n8574,0\\n8575,1\\n8576,1\\n8577,1\\n8578,0\\n8579,0\\n8580,1\\n8581,1\\n8582,1\\n8583,0\\n8584,1\\n8585,1\\n8586,1\\n8587,1\\n8588,1\\n8589,1\\n8590,0\\n8591,0\\n8592,1\\n8593,1\\n8594,1\\n8595,0\\n8596,0\\n8597,1\\n8598,1\\n8599,1\\n8600,1\\n8601,0\\n8602,0\\n8603,0\\n8604,0\\n8605,1\\n8606,1\\n8607,1\\n8608,1\\n8609,1\\n8610,1\\n8611,0\\n8612,0\\n8613,0\\n8614,1\\n8615,0\\n8616,1\\n8617,0\\n8618,1\\n8619,0\\n8620,0\\n8621,1\\n8622,1\\n8623,0\\n8624,1\\n8625,1\\n8626,1\\n8627,1\\n8628,0\\n8629,1\\n8630,0\\n8631,0\\n8632,1\\n8633,1\\n8634,1\\n8635,1\\n8636,0\\n8637,0\\n8638,0\\n8639,0\\n8640,1\\n8641,1\\n8642,1\\n8643,0\\n8644,1\\n8645,0\\n8646,1\\n8647,1\\n8648,0\\n8649,1\\n8650,1\\n8651,0\\n8652,0\\n8653,0\\n8654,0\\n8655,1\\n8656,0\\n8657,1\\n8658,1\\n8659,1\\n8660,0\\n8661,0\\n8662,0\\n8663,0\\n8664,0\\n8665,1\\n8666,0\\n8667,0\\n8668,0\\n8669,0\\n8670,1\\n8671,0\\n8672,0\\n8673,1\\n8674,0\\n8675,0\\n8676,0\\n8677,1\\n8678,0\\n8679,1\\n8680,1\\n8681,1\\n8682,1\\n8683,1\\n8684,0\\n8685,1\\n8686,0\\n8687,0\\n8688,0\\n8689,0\\n8690,1\\n8691,0\\n8692,1\\n8693,0\\n8694,1\\n8695,0\\n8696,1\\n8697,0\\n8698,1\\n8699,1\\n8700,0\\n8701,1\\n8702,0\\n8703,1\\n8704,0\\n8705,1\\n8706,1\\n8707,0\\n8708,1\\n8709,1\\n8710,0\\n8711,1\\n8712,1\\n8713,1\\n8714,1\\n8715,0\\n8716,0\\n8717,1\\n8718,0\\n8719,1\\n8720,1\\n8721,1\\n8722,1\\n8723,1\\n8724,0\\n8725,0\\n8726,0\\n8727,0\\n8728,1\\n8729,1\\n8730,1\\n8731,1\\n8732,0\\n8733,1\\n8734,0\\n8735,0\\n8736,0\\n8737,1\\n8738,0\\n8739,1\\n8740,1\\n8741,0\\n8742,0\\n8743,1\\n8744,0\\n8745,0\\n8746,1\\n8747,1\\n8748,1\\n8749,0\\n8750,0\\n8751,0\\n8752,0\\n8753,1\\n8754,1\\n8755,1\\n8756,1\\n8757,0\\n8758,1\\n8759,0\\n8760,1\\n8761,0\\n8762,1\\n8763,0\\n8764,0\\n8765,0\\n8766,0\\n8767,1\\n8768,0\\n8769,0\\n8770,1\\n8771,0\\n8772,1\\n8773,0\\n8774,1\\n8775,0\\n8776,1\\n8777,0\\n8778,1\\n8779,1\\n8780,0\\n8781,1\\n8782,0\\n8783,1\\n8784,1\\n8785,0\\n8786,0\\n8787,0\\n8788,1\\n8789,1\\n8790,0\\n8791,1\\n8792,0\\n8793,1\\n8794,0\\n8795,1\\n8796,1\\n8797,1\\n8798,1\\n8799,0\\n8800,0\\n8801,0\\n8802,0\\n8803,0\\n8804,0\\n8805,0\\n8806,0\\n8807,0\\n8808,1\\n8809,0\\n8810,1\\n8811,0\\n8812,0\\n8813,0\\n8814,1\\n8815,0\\n8816,0\\n8817,1\\n8818,0\\n8819,0\\n8820,0\\n8821,0\\n8822,0\\n8823,1\\n8824,0\\n8825,0\\n8826,0\\n8827,1\\n8828,0\\n8829,0\\n8830,0\\n8831,1\\n8832,1\\n8833,1\\n8834,0\\n8835,1\\n8836,1\\n8837,1\\n8838,1\\n8839,1\\n8840,1\\n8841,1\\n8842,1\\n8843,0\\n8844,1\\n8845,0\\n8846,0\\n8847,0\\n8848,0\\n8849,1\\n8850,1\\n8851,1\\n8852,0\\n8853,0\\n8854,1\\n8855,1\\n8856,1\\n8857,0\\n8858,0\\n8859,1\\n8860,1\\n8861,1\\n8862,1\\n8863,0\\n8864,1\\n8865,0\\n8866,0\\n8867,1\\n8868,0\\n8869,1\\n8870,0\\n8871,0\\n8872,0\\n8873,1\\n8874,0\\n8875,1\\n8876,1\\n8877,0\\n8878,1\\n8879,1\\n8880,1\\n8881,1\\n8882,1\\n8883,1\\n8884,1\\n8885,0\\n8886,0\\n8887,1\\n8888,0\\n8889,0\\n8890,0\\n8891,0\\n8892,1\\n8893,0\\n8894,0\\n8895,1\\n8896,0\\n8897,1\\n8898,1\\n8899,0\\n8900,0\\n8901,0\\n8902,1\\n8903,1\\n8904,1\\n8905,0\\n8906,1\\n8907,0\\n8908,0\\n8909,0\\n8910,0\\n8911,0\\n8912,1\\n8913,0\\n8914,0\\n8915,1\\n8916,1\\n8917,1\\n8918,1\\n8919,1\\n8920,1\\n8921,1\\n8922,1\\n8923,1\\n8924,0\\n8925,1\\n8926,0\\n8927,0\\n8928,1\\n8929,0\\n8930,0\\n8931,1\\n8932,0\\n8933,1\\n8934,1\\n8935,0\\n8936,0\\n8937,0\\n8938,0\\n8939,1\\n8940,0\\n8941,1\\n8942,0\\n8943,1\\n8944,0\\n8945,0\\n8946,1\\n8947,1\\n8948,0\\n8949,1\\n8950,0\\n8951,1\\n8952,0\\n8953,0\\n8954,0\\n8955,1\\n8956,1\\n8957,1\\n8958,1\\n8959,1\\n8960,0\\n8961,0\\n8962,0\\n8963,0\\n8964,1\\n8965,1\\n8966,0\\n8967,0\\n8968,1\\n8969,0\\n8970,1\\n8971,0\\n8972,0\\n8973,1\\n8974,0\\n8975,1\\n8976,1\\n8977,1\\n8978,1\\n8979,0\\n8980,1\\n8981,1\\n8982,0\\n8983,0\\n8984,0\\n8985,1\\n8986,1\\n8987,1\\n8988,0\\n8989,1\\n8990,1\\n8991,1\\n8992,0\\n8993,1\\n8994,0\\n8995,0\\n8996,1\\n8997,1\\n8998,0\\n8999,1\\n9000,0\\n9001,1\\n9002,1\\n9003,0\\n9004,1\\n9005,0\\n9006,1\\n9007,1\\n9008,1\\n9009,1\\n9010,0\\n9011,0\\n9012,0\\n9013,0\\n9014,1\\n9015,0\\n9016,1\\n9017,0\\n9018,0\\n9019,0\\n9020,1\\n9021,0\\n9022,1\\n9023,0\\n9024,0\\n9025,1\\n9026,1\\n9027,1\\n9028,1\\n9029,1\\n9030,0\\n9031,0\\n9032,1\\n9033,0\\n9034,0\\n9035,1\\n9036,1\\n9037,1\\n9038,0\\n9039,1\\n9040,1\\n9041,0\\n9042,0\\n9043,0\\n9044,1\\n9045,1\\n9046,0\\n9047,1\\n9048,1\\n9049,0\\n9050,1\\n9051,0\\n9052,1\\n9053,1\\n9054,0\\n9055,1\\n9056,0\\n9057,1\\n9058,0\\n9059,1\\n9060,1\\n9061,0\\n9062,0\\n9063,0\\n9064,1\\n9065,1\\n9066,1\\n9067,1\\n9068,0\\n9069,1\\n9070,1\\n9071,1\\n9072,1\\n9073,1\\n9074,0\\n9075,0\\n9076,1\\n9077,1\\n9078,0\\n9079,0\\n9080,1\\n9081,0\\n9082,1\\n9083,0\\n9084,0\\n9085,1\\n9086,0\\n9087,1\\n9088,1\\n9089,1\\n9090,0\\n9091,0\\n9092,0\\n9093,0\\n9094,1\\n9095,0\\n9096,0\\n9097,0\\n9098,0\\n9099,1\\n9100,0\\n9101,1\\n9102,0\\n9103,1\\n9104,1\\n9105,0\\n9106,1\\n9107,1\\n9108,0\\n9109,0\\n9110,0\\n9111,1\\n9112,0\\n9113,0\\n9114,1\\n9115,0\\n9116,0\\n9117,0\\n9118,0\\n9119,1\\n9120,1\\n9121,0\\n9122,1\\n9123,0\\n9124,1\\n9125,1\\n9126,1\\n9127,0\\n9128,0\\n9129,1\\n9130,1\\n9131,0\\n9132,0\\n9133,0\\n9134,0\\n9135,0\\n9136,1\\n9137,1\\n9138,1\\n9139,0\\n9140,1\\n9141,1\\n9142,1\\n9143,0\\n9144,0\\n9145,1\\n9146,0\\n9147,0\\n9148,0\\n9149,1\\n9150,0\\n9151,1\\n9152,1\\n9153,1\\n9154,0\\n9155,0\\n9156,1\\n9157,1\\n9158,0\\n9159,0\\n9160,1\\n9161,0\\n9162,0\\n9163,1\\n9164,0\\n9165,1\\n9166,0\\n9167,1\\n9168,1\\n9169,0\\n9170,0\\n9171,0\\n9172,0\\n9173,1\\n9174,1\\n9175,0\\n9176,0\\n9177,1\\n9178,0\\n9179,1\\n9180,0\\n9181,1\\n9182,0\\n9183,0\\n9184,1\\n9185,1\\n9186,1\\n9187,0\\n9188,0\\n9189,0\\n9190,0\\n9191,0\\n9192,1\\n9193,0\\n9194,0\\n9195,0\\n9196,1\\n9197,0\\n9198,1\\n9199,0\\n9200,1\\n9201,0\\n9202,0\\n9203,0\\n9204,1\\n9205,1\\n9206,0\\n9207,0\\n9208,0\\n9209,0\\n9210,1\\n9211,1\\n9212,1\\n9213,0\\n9214,0\\n9215,0\\n9216,1\\n9217,0\\n9218,1\\n9219,1\\n9220,0\\n9221,1\\n9222,0\\n9223,1\\n9224,0\\n9225,0\\n9226,1\\n9227,0\\n9228,0\\n9229,0\\n9230,0\\n9231,0\\n9232,0\\n9233,0\\n9234,0\\n9235,0\\n9236,1\\n9237,0\\n9238,1\\n9239,1\\n9240,0\\n9241,0\\n9242,1\\n9243,0\\n9244,1\\n9245,1\\n9246,0\\n9247,1\\n9248,1\\n9249,1\\n9250,1\\n9251,0\\n9252,1\\n9253,1\\n9254,0\\n9255,1\\n9256,0\\n9257,1\\n9258,1\\n9259,1\\n9260,1\\n9261,1\\n9262,1\\n9263,1\\n9264,0\\n9265,0\\n9266,1\\n9267,0\\n9268,1\\n9269,0\\n9270,0\\n9271,1\\n9272,1\\n9273,1\\n9274,1\\n9275,1\\n9276,0\\n9277,1\\n9278,1\\n9279,0\\n9280,1\\n9281,0\\n9282,0\\n9283,0\\n9284,1\\n9285,1\\n9286,1\\n9287,0\\n9288,0\\n9289,0\\n9290,1\\n9291,1\\n9292,1\\n9293,1\\n9294,1\\n9295,1\\n9296,0\\n9297,1\\n9298,0\\n9299,0\\n9300,0\\n9301,0\\n9302,1\\n9303,0\\n9304,0\\n9305,1\\n9306,0\\n9307,1\\n9308,1\\n9309,1\\n9310,0\\n9311,1\\n9312,0\\n9313,1\\n9314,0\\n9315,0\\n9316,1\\n9317,0\\n9318,1\\n9319,0\\n9320,1\\n9321,1\\n9322,1\\n9323,0\\n9324,1\\n9325,0\\n9326,1\\n9327,0\\n9328,0\\n9329,1\\n9330,0\\n9331,1\\n9332,1\\n9333,0\\n9334,0\\n9335,0\\n9336,1\\n9337,0\\n9338,0\\n9339,1\\n9340,0\\n9341,1\\n9342,1\\n9343,0\\n9344,1\\n9345,1\\n9346,0\\n9347,0\\n9348,0\\n9349,1\\n9350,0\\n9351,1\\n9352,1\\n9353,1\\n9354,0\\n9355,1\\n9356,0\\n9357,1\\n9358,0\\n9359,0\\n9360,0\\n9361,1\\n9362,1\\n9363,1\\n9364,0\\n9365,1\\n9366,0\\n9367,1\\n9368,1\\n9369,0\\n9370,0\\n9371,0\\n9372,0\\n9373,1\\n9374,1\\n9375,1\\n9376,0\\n9377,1\\n9378,1\\n9379,0\\n9380,1\\n9381,0\\n9382,0\\n9383,0\\n9384,1\\n9385,0\\n9386,1\\n9387,0\\n9388,1\\n9389,0\\n9390,1\\n9391,0\\n9392,1\\n9393,0\\n9394,1\\n9395,1\\n9396,0\\n9397,1\\n9398,0\\n9399,1\\n9400,1\\n9401,1\\n9402,0\\n9403,0\\n9404,0\\n9405,0\\n9406,1\\n9407,1\\n9408,1\\n9409,0\\n9410,1\\n9411,0\\n9412,0\\n9413,1\\n9414,0\\n9415,1\\n9416,1\\n9417,1\\n9418,1\\n9419,1\\n9420,1\\n9421,1\\n9422,0\\n9423,1\\n9424,1\\n9425,1\\n9426,0\\n9427,1\\n9428,0\\n9429,0\\n9430,1\\n9431,0\\n9432,0\\n9433,0\\n9434,0\\n9435,0\\n9436,0\\n9437,0\\n9438,0\\n9439,1\\n9440,1\\n9441,0\\n9442,0\\n9443,1\\n9444,0\\n9445,0\\n9446,1\\n9447,0\\n9448,0\\n9449,0\\n9450,0\\n9451,0\\n9452,1\\n9453,0\\n9454,1\\n9455,1\\n9456,1\\n9457,0\\n9458,1\\n9459,0\\n9460,1\\n9461,0\\n9462,1\\n9463,1\\n9464,1\\n9465,0\\n9466,0\\n9467,1\\n9468,1\\n9469,1\\n9470,0\\n9471,0\\n9472,1\\n9473,0\\n9474,1\\n9475,1\\n9476,1\\n9477,1\\n9478,1\\n9479,0\\n9480,0\\n9481,0\\n9482,1\\n9483,0\\n9484,0\\n9485,0\\n9486,0\\n9487,1\\n9488,1\\n9489,1\\n9490,1\\n9491,1\\n9492,1\\n9493,0\\n9494,0\\n9495,1\\n9496,1\\n9497,0\\n9498,0\\n9499,1\\n9500,0\\n9501,1\\n9502,0\\n9503,0\\n9504,0\\n9505,0\\n9506,1\\n9507,0\\n9508,1\\n9509,1\\n9510,1\\n9511,1\\n9512,0\\n9513,0\\n9514,1\\n9515,1\\n9516,0\\n9517,0\\n9518,0\\n9519,0\\n9520,0\\n9521,1\\n9522,1\\n9523,1\\n9524,0\\n9525,1\\n9526,0\\n9527,0\\n9528,0\\n9529,1\\n9530,0\\n9531,1\\n9532,0\\n9533,0\\n9534,0\\n9535,1\\n9536,1\\n9537,0\\n9538,0\\n9539,0\\n9540,0\\n9541,1\\n9542,0\\n9543,1\\n9544,0\\n9545,1\\n9546,1\\n9547,0\\n9548,1\\n9549,0\\n9550,1\\n9551,0\\n9552,0\\n9553,1\\n9554,0\\n9555,0\\n9556,1\\n9557,0\\n9558,0\\n9559,1\\n9560,1\\n9561,0\\n9562,1\\n9563,0\\n9564,0\\n9565,0\\n9566,1\\n9567,1\\n9568,0\\n9569,0\\n9570,0\\n9571,1\\n9572,0\\n9573,1\\n9574,1\\n9575,0\\n9576,1\\n9577,0\\n9578,1\\n9579,1\\n9580,1\\n9581,1\\n9582,1\\n9583,1\\n9584,0\\n9585,1\\n9586,0\\n9587,0\\n9588,1\\n9589,1\\n9590,1\\n9591,1\\n9592,0\\n9593,1\\n9594,0\\n9595,1\\n9596,0\\n9597,1\\n9598,0\\n9599,1\\n9600,1\\n9601,1\\n9602,0\\n9603,1\\n9604,0\\n9605,0\\n9606,1\\n9607,1\\n9608,1\\n9609,1\\n9610,1\\n9611,1\\n9612,1\\n9613,0\\n9614,0\\n9615,1\\n9616,0\\n9617,1\\n9618,1\\n9619,1\\n9620,1\\n9621,0\\n9622,0\\n9623,0\\n9624,0\\n9625,1\\n9626,0\\n9627,1\\n9628,0\\n9629,1\\n9630,1\\n9631,0\\n9632,1\\n9633,0\\n9634,1\\n9635,1\\n9636,0\\n9637,0\\n9638,1\\n9639,0\\n9640,0\\n9641,1\\n9642,0\\n9643,1\\n9644,0\\n9645,0\\n9646,0\\n9647,0\\n9648,1\\n9649,1\\n9650,0\\n9651,1\\n9652,0\\n9653,0\\n9654,1\\n9655,1\\n9656,0\\n9657,1\\n9658,1\\n9659,1\\n9660,0\\n9661,1\\n9662,1\\n9663,0\\n9664,1\\n9665,0\\n9666,1\\n9667,0\\n9668,1\\n9669,1\\n9670,0\\n9671,1\\n9672,0\\n9673,1\\n9674,1\\n9675,0\\n9676,0\\n9677,1\\n9678,0\\n9679,0\\n9680,1\\n9681,1\\n9682,0\\n9683,0\\n9684,1\\n9685,1\\n9686,1\\n9687,0\\n9688,0\\n9689,1\\n9690,0\\n9691,1\\n9692,0\\n9693,0\\n9694,0\\n9695,1\\n9696,0\\n9697,0\\n9698,1\\n9699,0\\n9700,0\\n9701,0\\n9702,0\\n9703,0\\n9704,0\\n9705,1\\n9706,0\\n9707,0\\n9708,1\\n9709,1\\n9710,0\\n9711,1\\n9712,0\\n9713,1\\n9714,1\\n9715,1\\n9716,1\\n9717,1\\n9718,1\\n9719,0\\n9720,0\\n9721,0\\n9722,0\\n9723,0\\n9724,1\\n9725,1\\n9726,0\\n9727,0\\n9728,1\\n9729,1\\n9730,0\\n9731,0\\n9732,0\\n9733,1\\n9734,1\\n9735,0\\n9736,0\\n9737,0\\n9738,0\\n9739,1\\n9740,0\\n9741,0\\n9742,1\\n9743,0\\n9744,0\\n9745,1\\n9746,1\\n9747,1\\n9748,1\\n9749,1\\n9750,0\\n9751,1\\n9752,1\\n9753,0\\n9754,0\\n9755,1\\n9756,1\\n9757,0\\n9758,0\\n9759,0\\n9760,0\\n9761,1\\n9762,0\\n9763,0\\n9764,1\\n9765,0\\n9766,0\\n9767,0\\n9768,0\\n9769,0\\n9770,1\\n9771,0\\n9772,0\\n9773,0\\n9774,0\\n9775,1\\n9776,0\\n9777,0\\n9778,1\\n9779,0\\n9780,1\\n9781,1\\n9782,1\\n9783,1\\n9784,0\\n9785,1\\n9786,1\\n9787,1\\n9788,1\\n9789,1\\n9790,1\\n9791,1\\n9792,1\\n9793,0\\n9794,1\\n9795,0\\n9796,1\\n9797,1\\n9798,0\\n9799,0\\n9800,0\\n9801,1\\n9802,1\\n9803,1\\n9804,1\\n9805,1\\n9806,1\\n9807,1\\n9808,1\\n9809,1\\n9810,1\\n9811,0\\n9812,1\\n9813,0\\n9814,1\\n9815,1\\n9816,0\\n9817,0\\n9818,0\\n9819,1\\n9820,1\\n9821,1\\n9822,0\\n9823,0\\n9824,0\\n9825,0\\n9826,0\\n9827,1\\n9828,0\\n9829,0\\n9830,1\\n9831,0\\n9832,1\\n9833,1\\n9834,0\\n9835,0\\n9836,1\\n9837,1\\n9838,1\\n9839,1\\n9840,0\\n9841,0\\n9842,0\\n9843,0\\n9844,0\\n9845,1\\n9846,0\\n9847,0\\n9848,0\\n9849,0\\n9850,0\\n9851,1\\n9852,1\\n9853,0\\n9854,0\\n9855,0\\n9856,0\\n9857,1\\n9858,0\\n9859,0\\n9860,1\\n9861,0\\n9862,1\\n9863,1\\n9864,0\\n9865,1\\n9866,1\\n9867,1\\n9868,1\\n9869,0\\n9870,0\\n9871,1\\n9872,1\\n9873,0\\n9874,1\\n9875,1\\n9876,1\\n9877,0\\n9878,0\\n9879,0\\n9880,0\\n9881,1\\n9882,0\\n9883,0\\n9884,1\\n9885,1\\n9886,1\\n9887,1\\n9888,0\\n9889,0\\n9890,1\\n9891,1\\n9892,0\\n9893,1\\n9894,0\\n9895,0\\n9896,1\\n9897,1\\n9898,1\\n9899,0\\n9900,0\\n9901,0\\n9902,0\\n9903,0\\n9904,1\\n9905,1\\n9906,0\\n9907,0\\n9908,1\\n9909,0\\n9910,1\\n9911,1\\n9912,1\\n9913,1\\n9914,1\\n9915,0\\n9916,0\\n9917,0\\n9918,1\\n9919,1\\n9920,1\\n9921,0\\n9922,0\\n9923,1\\n9924,1\\n9925,1\\n9926,0\\n9927,0\\n9928,0\\n9929,0\\n9930,0\\n9931,1\\n9932,0\\n9933,0\\n9934,0\\n9935,0\\n9936,0\\n9937,0\\n9938,1\\n9939,1\\n9940,1\\n9941,1\\n9942,0\\n9943,0\\n9944,0\\n9945,1\\n9946,1\\n9947,1\\n9948,0\\n9949,0\\n9950,1\\n9951,1\\n9952,1\\n9953,1\\n9954,0\\n9955,1\\n9956,1\\n9957,1\\n9958,0\\n9959,0\\n9960,1\\n9961,0\\n9962,1\\n9963,0\\n9964,0\\n9965,1\\n9966,1\\n9967,1\\n9968,0\\n9969,1\\n9970,1\\n9971,1\\n9972,0\\n9973,0\\n9974,0\\n9975,0\\n9976,1\\n9977,0\\n9978,1\\n9979,1\\n9980,0\\n9981,1\\n9982,1\\n9983,0\\n9984,0\\n9985,1\\n9986,0\\n9987,0\\n9988,1\\n9989,1\\n9990,1\\n9991,0\\n9992,0\\n9993,0\\n9994,1\\n9995,1\\n9996,0\\n9997,0\\n9998,0\\n9999,0\\n'}"
            ]
          },
          "metadata": {
            "tags": []
          },
          "execution_count": 16
        }
      ]
    },
    {
      "cell_type": "code",
      "metadata": {
        "id": "EB0NSKdwM146",
        "colab": {
          "base_uri": "https://localhost:8080/"
        },
        "outputId": "b4d2b7b3-1eb6-413d-f145-844ab964518e"
      },
      "source": [
        "ensemble_transformer = pd.read_csv(\"./ensemble_transformer.csv\")\r\n",
        "ensemble_CNN= pd.read_csv(\"./ensemble_CNN.csv\")\r\n",
        "ensemble_BERT = pd.read_csv(\"./ensemble_BERT.csv\")\r\n",
        "\r\n",
        "\r\n",
        "print(ensemble_transformer)\r\n",
        "print(ensemble_CNN)\r\n",
        "print(ensemble_BERT)"
      ],
      "execution_count": null,
      "outputs": [
        {
          "output_type": "stream",
          "text": [
            "      Unnamed: 0  transformer prediction\n",
            "0              0                       1\n",
            "1              1                       0\n",
            "2              2                       0\n",
            "3              3                       0\n",
            "4              4                       0\n",
            "...          ...                     ...\n",
            "9995        9995                       1\n",
            "9996        9996                       0\n",
            "9997        9997                       0\n",
            "9998        9998                       0\n",
            "9999        9999                       0\n",
            "\n",
            "[10000 rows x 2 columns]\n",
            "      Unnamed: 0  CNN prediction\n",
            "0              0               1\n",
            "1              1               1\n",
            "2              2               0\n",
            "3              3               0\n",
            "4              4               0\n",
            "...          ...             ...\n",
            "9995        9995               1\n",
            "9996        9996               0\n",
            "9997        9997               0\n",
            "9998        9998               0\n",
            "9999        9999               0\n",
            "\n",
            "[10000 rows x 2 columns]\n",
            "      Unnamed: 0  BERT prediction\n",
            "0              0                1\n",
            "1              1                0\n",
            "2              2                1\n",
            "3              3                0\n",
            "4              4                0\n",
            "...          ...              ...\n",
            "9995        9995                1\n",
            "9996        9996                0\n",
            "9997        9997                0\n",
            "9998        9998                0\n",
            "9999        9999                1\n",
            "\n",
            "[10000 rows x 2 columns]\n"
          ],
          "name": "stdout"
        }
      ]
    },
    {
      "cell_type": "code",
      "metadata": {
        "id": "SXcheOB_nnFh"
      },
      "source": [
        "ensemble_transformer_out = ensemble_transformer['transformer prediction']\r\n",
        "ensemble_CNN_out= ensemble_CNN['CNN prediction']\r\n",
        "ensemble_BERT_out = ensemble_BERT['BERT prediction']"
      ],
      "execution_count": null,
      "outputs": []
    },
    {
      "cell_type": "code",
      "metadata": {
        "colab": {
          "base_uri": "https://localhost:8080/"
        },
        "id": "Gxffm537k8Cl",
        "outputId": "317bb897-bfeb-409f-a951-c3e2564d8245"
      },
      "source": [
        "x_output_total = pd.DataFrame({'Transformer' : ensemble_transformer_out, 'CNN' : ensemble_CNN_out, 'BERT' : ensemble_BERT_out})\r\n",
        "\r\n",
        "print(x_output_total)"
      ],
      "execution_count": null,
      "outputs": [
        {
          "output_type": "stream",
          "text": [
            "      Transformer  CNN  BERT\n",
            "0               1    1     1\n",
            "1               0    1     0\n",
            "2               0    0     1\n",
            "3               0    0     0\n",
            "4               0    0     0\n",
            "...           ...  ...   ...\n",
            "9995            1    1     1\n",
            "9996            0    0     0\n",
            "9997            0    0     0\n",
            "9998            0    0     0\n",
            "9999            0    0     1\n",
            "\n",
            "[10000 rows x 3 columns]\n"
          ],
          "name": "stdout"
        }
      ]
    },
    {
      "cell_type": "markdown",
      "metadata": {
        "id": "QXehUWstNw1k"
      },
      "source": [
        "- 앙상블 예측결과 Hard Voting"
      ]
    },
    {
      "cell_type": "code",
      "metadata": {
        "colab": {
          "base_uri": "https://localhost:8080/"
        },
        "id": "Z-vriEzmmMf2",
        "outputId": "b13679ca-6ee0-4e2d-a481-95ca587609fd"
      },
      "source": [
        "s = np.sum(x_output_total, axis = 1)\r\n",
        "s = s.tolist()\r\n",
        "print(s)"
      ],
      "execution_count": null,
      "outputs": [
        {
          "output_type": "stream",
          "text": [
            "[3, 1, 1, 0, 0, 3, 0, 0, 0, 3, 3, 0, 3, 3, 0, 1, 3, 0, 2, 0, 3, 0, 3, 1, 0, 2, 2, 3, 1, 3, 3, 2, 0, 1, 0, 2, 0, 0, 0, 2, 0, 0, 0, 3, 1, 3, 3, 0, 3, 2, 0, 2, 0, 2, 3, 3, 2, 2, 3, 3, 0, 0, 0, 0, 3, 0, 3, 3, 3, 3, 0, 0, 0, 0, 0, 3, 3, 3, 3, 0, 0, 3, 0, 3, 0, 3, 3, 0, 3, 1, 0, 3, 0, 3, 0, 1, 3, 2, 0, 3, 0, 1, 3, 3, 3, 0, 3, 1, 0, 3, 1, 2, 3, 3, 3, 0, 1, 3, 3, 3, 2, 0, 3, 3, 0, 3, 0, 3, 0, 3, 0, 2, 0, 3, 3, 1, 3, 3, 3, 3, 0, 0, 3, 3, 0, 3, 1, 0, 0, 3, 3, 0, 3, 3, 3, 3, 3, 0, 3, 0, 3, 3, 2, 1, 2, 0, 3, 3, 3, 0, 0, 0, 1, 3, 3, 0, 3, 1, 0, 3, 2, 3, 0, 0, 2, 3, 0, 0, 0, 3, 2, 0, 3, 3, 3, 0, 2, 3, 0, 0, 0, 3, 3, 3, 3, 3, 3, 0, 0, 1, 1, 3, 1, 3, 0, 1, 3, 3, 1, 1, 3, 1, 0, 0, 0, 3, 3, 1, 3, 2, 0, 0, 3, 2, 3, 0, 1, 3, 0, 0, 0, 1, 3, 3, 0, 3, 3, 3, 3, 0, 0, 0, 1, 0, 0, 2, 3, 3, 1, 3, 0, 3, 3, 3, 2, 1, 3, 0, 3, 3, 3, 3, 1, 3, 3, 3, 0, 3, 0, 3, 3, 3, 3, 0, 0, 0, 3, 3, 0, 3, 2, 1, 3, 1, 3, 0, 2, 0, 3, 3, 3, 3, 3, 0, 0, 3, 0, 3, 3, 3, 1, 3, 3, 2, 0, 0, 0, 0, 0, 2, 0, 0, 3, 3, 1, 2, 0, 1, 3, 0, 3, 3, 2, 3, 0, 1, 3, 2, 3, 3, 3, 3, 0, 0, 3, 0, 3, 3, 0, 0, 3, 0, 3, 0, 1, 0, 3, 0, 0, 3, 3, 1, 3, 3, 3, 1, 2, 1, 3, 2, 3, 3, 3, 1, 3, 0, 3, 2, 0, 3, 3, 2, 3, 0, 3, 1, 3, 3, 3, 3, 0, 0, 3, 0, 1, 2, 3, 0, 3, 0, 3, 2, 0, 2, 2, 3, 1, 1, 0, 0, 1, 3, 0, 3, 0, 2, 3, 2, 0, 0, 0, 0, 0, 0, 3, 3, 0, 0, 3, 3, 0, 3, 0, 3, 3, 0, 1, 0, 0, 0, 3, 1, 0, 0, 3, 0, 0, 3, 0, 0, 3, 0, 2, 0, 3, 3, 0, 1, 0, 0, 1, 0, 0, 3, 0, 2, 0, 0, 2, 0, 3, 2, 3, 2, 0, 3, 1, 0, 3, 0, 3, 0, 0, 0, 3, 1, 0, 1, 2, 3, 0, 3, 2, 1, 0, 0, 2, 2, 3, 3, 1, 0, 3, 0, 0, 3, 3, 1, 0, 0, 1, 0, 2, 3, 0, 1, 0, 0, 2, 3, 0, 0, 0, 0, 1, 0, 0, 2, 3, 3, 0, 3, 3, 0, 2, 3, 3, 3, 0, 0, 3, 0, 3, 3, 2, 3, 1, 1, 3, 0, 3, 3, 3, 0, 0, 3, 3, 3, 1, 3, 3, 0, 0, 2, 0, 2, 2, 3, 0, 3, 0, 3, 3, 3, 0, 0, 3, 3, 0, 2, 3, 0, 0, 0, 1, 3, 0, 1, 2, 2, 3, 0, 3, 2, 0, 3, 3, 0, 0, 3, 3, 3, 3, 3, 0, 3, 3, 3, 0, 3, 3, 3, 0, 0, 2, 0, 3, 0, 0, 0, 3, 0, 3, 3, 3, 2, 0, 0, 3, 3, 0, 3, 3, 3, 0, 3, 1, 3, 3, 3, 3, 2, 0, 0, 3, 0, 3, 3, 2, 1, 3, 0, 3, 0, 0, 3, 3, 3, 1, 0, 0, 3, 3, 3, 3, 3, 0, 3, 3, 0, 0, 0, 3, 3, 0, 1, 3, 0, 0, 0, 1, 2, 3, 0, 0, 3, 1, 0, 0, 3, 1, 0, 3, 3, 2, 1, 3, 3, 0, 2, 3, 0, 0, 2, 3, 0, 1, 0, 0, 3, 1, 0, 1, 1, 3, 0, 0, 2, 3, 0, 0, 0, 0, 3, 3, 1, 0, 3, 3, 0, 3, 0, 0, 3, 0, 3, 0, 0, 0, 2, 0, 3, 3, 2, 0, 3, 3, 1, 0, 3, 0, 3, 0, 3, 1, 3, 2, 0, 3, 0, 3, 0, 0, 0, 3, 3, 2, 1, 3, 3, 3, 0, 3, 1, 1, 0, 2, 0, 3, 0, 3, 3, 2, 3, 2, 3, 0, 1, 0, 0, 0, 3, 1, 0, 2, 2, 0, 1, 1, 0, 2, 3, 0, 1, 0, 0, 3, 0, 3, 0, 3, 0, 3, 1, 2, 3, 0, 0, 0, 3, 0, 0, 0, 0, 0, 3, 0, 2, 1, 0, 0, 3, 1, 3, 0, 0, 0, 1, 3, 0, 1, 3, 3, 1, 3, 0, 3, 1, 0, 3, 1, 1, 0, 3, 0, 1, 3, 0, 1, 0, 2, 3, 1, 0, 3, 3, 1, 3, 3, 3, 3, 3, 3, 3, 3, 0, 1, 0, 3, 1, 0, 2, 0, 0, 0, 3, 0, 3, 3, 3, 0, 2, 0, 0, 3, 3, 0, 0, 3, 3, 0, 0, 3, 0, 0, 3, 3, 0, 2, 0, 3, 3, 3, 3, 3, 3, 3, 0, 0, 3, 1, 3, 3, 3, 0, 2, 0, 0, 0, 2, 0, 0, 3, 3, 3, 0, 3, 1, 2, 0, 0, 2, 0, 1, 2, 3, 3, 0, 3, 1, 3, 3, 1, 1, 2, 0, 3, 1, 1, 3, 3, 0, 2, 0, 1, 0, 0, 0, 0, 3, 0, 0, 3, 0, 3, 3, 3, 0, 3, 0, 0, 0, 0, 3, 3, 0, 3, 0, 2, 3, 0, 3, 0, 2, 0, 3, 0, 0, 1, 0, 3, 1, 3, 3, 3, 3, 0, 1, 2, 0, 0, 3, 1, 0, 3, 0, 0, 0, 0, 3, 2, 2, 0, 2, 3, 3, 3, 0, 0, 3, 0, 0, 0, 0, 0, 1, 3, 3, 1, 0, 3, 3, 3, 0, 0, 3, 3, 3, 3, 3, 3, 3, 0, 2, 0, 0, 0, 3, 0, 1, 3, 2, 3, 3, 3, 3, 3, 3, 2, 3, 3, 0, 3, 1, 3, 1, 0, 3, 0, 0, 3, 0, 0, 3, 3, 3, 0, 0, 1, 3, 0, 0, 0, 0, 0, 0, 0, 3, 0, 3, 3, 3, 3, 0, 0, 0, 3, 3, 3, 3, 0, 3, 2, 3, 0, 0, 0, 0, 0, 3, 3, 0, 1, 3, 3, 0, 1, 0, 0, 3, 3, 0, 0, 2, 3, 2, 3, 3, 0, 3, 0, 3, 2, 0, 1, 1, 3, 3, 3, 3, 2, 2, 1, 2, 0, 0, 0, 3, 0, 3, 3, 3, 0, 0, 0, 1, 0, 0, 0, 0, 0, 0, 3, 0, 0, 1, 0, 3, 0, 0, 0, 0, 3, 3, 3, 0, 2, 2, 0, 1, 0, 0, 2, 1, 3, 3, 3, 0, 3, 0, 0, 3, 3, 3, 0, 0, 1, 0, 1, 2, 0, 0, 0, 2, 3, 2, 3, 1, 2, 0, 1, 0, 1, 3, 0, 0, 3, 0, 0, 0, 3, 0, 3, 1, 3, 0, 3, 2, 3, 3, 3, 0, 3, 2, 0, 0, 1, 0, 3, 3, 3, 1, 3, 3, 0, 3, 0, 0, 0, 3, 0, 3, 0, 2, 0, 3, 3, 1, 0, 3, 3, 3, 3, 3, 0, 3, 3, 1, 0, 1, 1, 0, 3, 3, 0, 1, 3, 3, 0, 3, 2, 0, 0, 0, 0, 0, 0, 0, 0, 3, 0, 0, 0, 0, 0, 0, 0, 0, 1, 3, 0, 3, 1, 1, 0, 3, 0, 1, 0, 0, 2, 0, 3, 3, 0, 0, 0, 0, 3, 3, 1, 1, 3, 0, 0, 0, 0, 3, 3, 0, 3, 3, 3, 2, 3, 0, 3, 3, 3, 0, 3, 3, 3, 3, 3, 2, 0, 0, 0, 0, 3, 3, 0, 0, 3, 0, 1, 0, 0, 3, 3, 0, 0, 0, 3, 0, 3, 3, 3, 3, 3, 3, 1, 3, 0, 2, 3, 0, 3, 0, 0, 0, 1, 0, 0, 1, 3, 3, 3, 0, 3, 0, 3, 1, 0, 3, 3, 3, 0, 3, 0, 3, 0, 0, 3, 1, 3, 0, 3, 0, 3, 0, 3, 3, 3, 0, 0, 1, 0, 0, 3, 0, 0, 3, 3, 3, 0, 3, 0, 0, 3, 2, 3, 3, 3, 3, 2, 0, 0, 0, 3, 2, 0, 3, 3, 3, 3, 1, 3, 0, 3, 3, 0, 2, 0, 0, 0, 0, 1, 0, 3, 0, 3, 0, 3, 3, 2, 3, 0, 3, 3, 2, 0, 0, 0, 0, 3, 3, 2, 3, 0, 0, 3, 1, 1, 3, 0, 3, 3, 3, 3, 3, 0, 0, 0, 1, 3, 0, 0, 3, 3, 3, 1, 3, 3, 3, 1, 3, 3, 0, 0, 0, 0, 0, 2, 0, 0, 3, 0, 3, 3, 0, 2, 0, 3, 0, 0, 0, 0, 3, 1, 1, 1, 3, 1, 0, 2, 3, 2, 0, 3, 3, 3, 3, 3, 3, 0, 0, 2, 3, 0, 3, 1, 0, 3, 0, 2, 0, 3, 3, 0, 0, 0, 3, 2, 1, 0, 0, 3, 0, 3, 2, 3, 1, 0, 1, 3, 3, 3, 0, 3, 3, 2, 3, 0, 1, 2, 3, 3, 0, 3, 3, 0, 3, 3, 3, 3, 3, 2, 3, 3, 0, 3, 3, 3, 0, 3, 1, 1, 1, 3, 0, 3, 3, 2, 3, 0, 1, 1, 0, 3, 1, 0, 0, 3, 0, 3, 3, 2, 2, 3, 2, 0, 1, 0, 3, 1, 0, 3, 3, 0, 3, 3, 3, 0, 3, 2, 3, 2, 0, 1, 3, 1, 0, 3, 0, 0, 3, 0, 0, 3, 3, 0, 0, 3, 3, 1, 3, 1, 0, 3, 3, 0, 1, 3, 0, 0, 0, 1, 2, 3, 3, 3, 0, 3, 0, 1, 3, 2, 3, 1, 3, 2, 3, 0, 2, 0, 0, 0, 3, 0, 1, 3, 0, 3, 2, 0, 0, 0, 3, 3, 3, 1, 2, 1, 0, 3, 2, 3, 3, 1, 3, 0, 0, 1, 0, 0, 0, 3, 0, 2, 0, 0, 3, 1, 0, 3, 0, 0, 0, 0, 0, 3, 0, 3, 3, 0, 1, 0, 3, 3, 3, 3, 0, 0, 0, 3, 1, 3, 0, 0, 3, 3, 2, 2, 0, 0, 0, 0, 0, 0, 2, 0, 0, 0, 0, 0, 1, 3, 0, 3, 0, 3, 1, 3, 0, 2, 0, 1, 1, 0, 3, 3, 2, 3, 0, 0, 0, 2, 0, 0, 3, 1, 1, 3, 0, 3, 2, 3, 1, 3, 0, 2, 3, 2, 1, 0, 1, 2, 2, 0, 0, 0, 0, 0, 0, 3, 0, 2, 3, 3, 0, 0, 0, 0, 3, 3, 0, 2, 3, 0, 0, 0, 1, 0, 3, 3, 3, 0, 3, 3, 0, 0, 3, 0, 3, 2, 3, 0, 3, 0, 0, 0, 3, 0, 3, 3, 3, 0, 2, 0, 3, 0, 3, 2, 3, 0, 0, 1, 0, 3, 0, 3, 3, 3, 0, 3, 3, 0, 0, 3, 0, 0, 1, 3, 3, 0, 2, 3, 0, 2, 0, 2, 3, 1, 3, 1, 0, 0, 0, 3, 1, 0, 0, 0, 0, 0, 0, 3, 1, 3, 0, 3, 3, 0, 0, 3, 0, 3, 3, 3, 0, 0, 2, 0, 1, 0, 3, 0, 0, 1, 3, 0, 2, 3, 1, 3, 2, 1, 2, 0, 0, 3, 0, 3, 0, 2, 2, 0, 2, 3, 3, 3, 0, 0, 1, 0, 3, 3, 0, 3, 1, 3, 3, 1, 3, 1, 0, 0, 3, 3, 0, 0, 2, 0, 0, 0, 0, 2, 2, 3, 3, 3, 3, 0, 0, 3, 3, 1, 2, 0, 3, 0, 3, 2, 0, 0, 1, 3, 0, 2, 0, 0, 0, 3, 2, 3, 0, 0, 0, 0, 3, 1, 3, 3, 0, 0, 3, 3, 0, 3, 0, 0, 0, 0, 3, 1, 0, 0, 0, 3, 3, 0, 1, 3, 3, 0, 3, 3, 3, 3, 0, 0, 1, 2, 3, 2, 0, 0, 0, 3, 3, 3, 1, 0, 3, 1, 3, 0, 2, 0, 0, 0, 3, 0, 1, 0, 3, 2, 0, 0, 0, 3, 3, 1, 0, 3, 1, 0, 0, 0, 0, 1, 0, 1, 3, 3, 1, 0, 2, 1, 3, 0, 3, 0, 0, 3, 1, 0, 0, 3, 3, 0, 0, 3, 2, 3, 0, 3, 0, 3, 0, 0, 0, 3, 0, 0, 3, 1, 3, 3, 0, 0, 2, 1, 3, 3, 3, 1, 2, 3, 3, 0, 0, 3, 3, 0, 3, 0, 3, 0, 0, 0, 1, 0, 0, 0, 3, 3, 3, 0, 0, 0, 3, 0, 3, 3, 0, 0, 0, 3, 3, 0, 0, 3, 0, 0, 3, 0, 0, 3, 3, 1, 0, 1, 0, 0, 0, 2, 0, 3, 0, 1, 0, 0, 3, 3, 0, 0, 0, 3, 1, 3, 3, 1, 3, 0, 2, 3, 3, 0, 1, 3, 3, 0, 0, 1, 0, 3, 0, 3, 1, 3, 3, 0, 3, 0, 2, 3, 0, 3, 3, 3, 3, 3, 2, 3, 3, 1, 3, 3, 0, 3, 0, 3, 3, 0, 0, 1, 0, 0, 0, 0, 2, 3, 1, 3, 0, 2, 0, 0, 3, 0, 1, 3, 1, 0, 3, 0, 3, 1, 0, 2, 3, 3, 3, 3, 3, 1, 0, 3, 3, 0, 3, 0, 0, 0, 0, 0, 0, 3, 3, 1, 1, 2, 3, 0, 3, 1, 3, 3, 3, 3, 0, 0, 3, 0, 2, 3, 0, 3, 2, 0, 3, 1, 3, 3, 0, 3, 0, 3, 2, 0, 3, 0, 3, 3, 1, 0, 3, 3, 3, 0, 0, 3, 3, 2, 1, 1, 2, 3, 0, 3, 2, 3, 3, 3, 1, 0, 0, 1, 0, 3, 3, 0, 0, 0, 2, 3, 0, 0, 0, 0, 3, 0, 3, 2, 1, 3, 3, 0, 0, 1, 0, 1, 0, 0, 0, 1, 2, 0, 1, 1, 0, 1, 0, 3, 3, 3, 3, 0, 0, 0, 1, 0, 0, 3, 2, 3, 3, 0, 0, 0, 1, 0, 3, 3, 3, 0, 3, 3, 3, 0, 3, 1, 0, 3, 0, 3, 3, 0, 2, 3, 3, 0, 0, 1, 3, 0, 0, 0, 3, 0, 3, 3, 3, 3, 3, 0, 0, 3, 3, 0, 0, 2, 0, 2, 0, 3, 0, 0, 3, 0, 3, 0, 0, 1, 0, 3, 0, 2, 0, 3, 1, 3, 0, 0, 0, 3, 0, 0, 0, 0, 3, 3, 0, 0, 0, 0, 3, 3, 0, 2, 0, 0, 3, 0, 0, 3, 0, 0, 3, 2, 0, 3, 0, 0, 3, 3, 3, 1, 3, 1, 0, 3, 0, 3, 2, 3, 2, 3, 1, 3, 2, 0, 3, 3, 0, 3, 0, 0, 0, 0, 0, 2, 3, 0, 3, 3, 2, 1, 3, 0, 0, 1, 3, 1, 0, 3, 0, 3, 0, 0, 3, 3, 3, 3, 0, 0, 0, 0, 3, 3, 3, 3, 2, 3, 3, 0, 1, 3, 3, 0, 3, 0, 3, 0, 2, 0, 1, 1, 0, 3, 3, 2, 2, 0, 0, 0, 0, 0, 0, 0, 0, 3, 0, 0, 1, 3, 2, 1, 0, 0, 0, 0, 3, 1, 0, 3, 3, 0, 3, 0, 0, 3, 3, 3, 2, 0, 0, 1, 0, 2, 3, 2, 1, 3, 3, 3, 3, 3, 1, 3, 0, 0, 1, 0, 3, 0, 3, 0, 3, 0, 3, 3, 3, 3, 3, 2, 3, 0, 3, 3, 3, 3, 2, 2, 3, 0, 0, 0, 3, 3, 1, 2, 3, 0, 0, 0, 2, 0, 1, 3, 0, 3, 0, 0, 3, 3, 0, 3, 2, 3, 0, 1, 3, 3, 1, 2, 3, 3, 3, 0, 3, 2, 1, 3, 1, 0, 0, 3, 0, 1, 3, 3, 3, 3, 3, 3, 0, 1, 0, 1, 0, 3, 3, 2, 0, 1, 3, 0, 0, 0, 0, 3, 3, 1, 0, 0, 3, 0, 3, 0, 1, 3, 3, 3, 3, 0, 3, 0, 3, 3, 3, 3, 3, 2, 0, 1, 1, 3, 3, 3, 1, 3, 3, 1, 1, 1, 1, 3, 0, 2, 0, 3, 3, 3, 2, 1, 3, 1, 1, 3, 0, 3, 3, 3, 3, 0, 3, 3, 3, 1, 3, 0, 0, 2, 1, 2, 0, 3, 0, 0, 1, 0, 3, 3, 0, 0, 0, 3, 0, 3, 0, 0, 1, 3, 3, 2, 3, 3, 0, 3, 0, 3, 0, 2, 0, 3, 3, 3, 0, 2, 3, 0, 0, 0, 3, 3, 3, 3, 2, 3, 0, 3, 3, 0, 0, 0, 3, 3, 3, 3, 2, 3, 2, 0, 0, 0, 3, 3, 1, 3, 3, 0, 0, 0, 0, 1, 3, 3, 3, 3, 2, 0, 1, 0, 2, 3, 1, 1, 3, 3, 3, 3, 0, 0, 0, 3, 0, 3, 0, 0, 3, 3, 2, 3, 2, 1, 0, 0, 1, 1, 0, 0, 3, 0, 1, 3, 1, 1, 0, 0, 0, 3, 0, 0, 3, 0, 3, 0, 3, 3, 0, 1, 0, 0, 0, 1, 3, 0, 0, 3, 0, 0, 3, 0, 0, 0, 3, 2, 3, 0, 0, 2, 0, 3, 3, 0, 1, 0, 0, 3, 0, 3, 1, 3, 0, 0, 2, 0, 3, 3, 3, 0, 0, 3, 0, 0, 3, 3, 3, 3, 3, 0, 3, 1, 1, 3, 3, 0, 0, 3, 3, 0, 3, 3, 0, 3, 3, 3, 1, 0, 0, 3, 0, 3, 1, 0, 0, 0, 3, 2, 3, 3, 3, 1, 2, 0, 1, 3, 3, 1, 3, 0, 3, 3, 1, 3, 0, 3, 0, 0, 0, 0, 0, 2, 3, 3, 3, 0, 0, 2, 3, 0, 3, 3, 1, 0, 1, 0, 3, 0, 0, 2, 1, 2, 0, 2, 3, 3, 1, 3, 3, 3, 1, 0, 3, 3, 3, 3, 3, 0, 1, 0, 3, 0, 3, 0, 3, 3, 2, 0, 3, 0, 0, 3, 0, 0, 0, 0, 3, 0, 3, 0, 3, 3, 1, 0, 3, 3, 3, 1, 3, 0, 3, 1, 0, 3, 0, 3, 0, 3, 0, 2, 0, 0, 3, 3, 3, 3, 0, 3, 0, 0, 2, 3, 0, 0, 0, 0, 3, 1, 3, 0, 0, 1, 3, 3, 0, 1, 3, 0, 0, 3, 3, 3, 2, 2, 0, 0, 3, 0, 3, 0, 1, 0, 0, 0, 3, 0, 3, 0, 0, 3, 3, 3, 1, 2, 3, 0, 0, 0, 0, 0, 2, 0, 1, 2, 2, 0, 1, 3, 3, 0, 3, 1, 3, 3, 3, 1, 1, 0, 3, 0, 0, 3, 0, 3, 3, 0, 0, 3, 0, 3, 3, 0, 3, 0, 0, 3, 3, 1, 0, 3, 0, 0, 3, 0, 2, 3, 3, 1, 0, 1, 0, 3, 3, 1, 0, 1, 0, 3, 0, 3, 3, 3, 2, 1, 0, 3, 0, 3, 3, 2, 3, 0, 3, 3, 3, 3, 3, 3, 3, 3, 2, 1, 0, 0, 3, 3, 1, 0, 0, 3, 0, 0, 0, 0, 0, 0, 0, 3, 3, 0, 3, 0, 1, 3, 0, 0, 0, 3, 3, 3, 3, 0, 2, 0, 0, 2, 3, 3, 3, 3, 3, 3, 1, 0, 0, 0, 3, 3, 0, 0, 3, 0, 3, 0, 0, 3, 1, 1, 3, 1, 0, 2, 0, 2, 0, 3, 1, 3, 0, 0, 3, 3, 3, 0, 2, 3, 3, 3, 0, 3, 0, 3, 2, 0, 3, 2, 2, 3, 0, 3, 0, 3, 0, 1, 3, 0, 3, 0, 0, 3, 3, 3, 2, 3, 3, 0, 3, 3, 0, 2, 1, 0, 3, 3, 0, 0, 0, 0, 3, 0, 3, 3, 3, 0, 3, 0, 3, 3, 0, 2, 2, 0, 3, 3, 2, 3, 0, 3, 1, 3, 1, 0, 0, 1, 2, 3, 1, 0, 0, 0, 0, 3, 3, 2, 0, 3, 0, 2, 3, 3, 3, 0, 0, 3, 3, 1, 3, 0, 3, 0, 0, 2, 3, 0, 3, 0, 0, 0, 3, 1, 0, 1, 3, 3, 0, 2, 1, 0, 3, 0, 1, 0, 0, 0, 2, 3, 0, 0, 3, 0, 0, 0, 0, 0, 3, 0, 3, 0, 1, 3, 3, 3, 0, 3, 0, 3, 0, 0, 3, 3, 1, 1, 0, 1, 0, 3, 0, 0, 0, 2, 3, 0, 3, 2, 0, 3, 3, 3, 1, 2, 3, 0, 2, 3, 3, 0, 1, 3, 3, 3, 0, 0, 2, 1, 3, 3, 0, 0, 3, 0, 1, 1, 1, 3, 2, 3, 2, 2, 0, 0, 3, 0, 3, 1, 0, 0, 2, 3, 3, 3, 3, 2, 0, 1, 2, 0, 0, 1, 0, 2, 1, 0, 0, 0, 3, 3, 2, 3, 0, 0, 1, 3, 3, 1, 2, 0, 0, 3, 2, 0, 1, 0, 1, 3, 0, 3, 0, 0, 2, 0, 0, 0, 0, 3, 1, 2, 3, 3, 1, 3, 1, 0, 0, 1, 3, 3, 3, 3, 0, 3, 3, 3, 2, 0, 3, 3, 0, 0, 3, 0, 3, 3, 0, 0, 0, 0, 0, 1, 0, 3, 2, 1, 1, 0, 0, 3, 2, 3, 3, 3, 2, 0, 0, 0, 0, 0, 0, 3, 0, 0, 2, 3, 2, 0, 3, 3, 0, 0, 3, 3, 0, 2, 0, 3, 3, 1, 0, 3, 0, 3, 3, 0, 3, 3, 3, 0, 1, 0, 3, 0, 3, 3, 0, 0, 3, 3, 2, 0, 3, 3, 0, 0, 3, 0, 0, 0, 3, 0, 0, 3, 3, 3, 3, 0, 3, 2, 0, 1, 0, 3, 3, 0, 3, 0, 0, 1, 3, 3, 3, 1, 3, 0, 0, 1, 3, 0, 1, 0, 0, 0, 2, 3, 0, 3, 0, 0, 0, 2, 0, 3, 0, 3, 0, 0, 0, 0, 0, 3, 0, 3, 0, 0, 3, 3, 0, 3, 3, 3, 2, 0, 3, 0, 1, 1, 3, 0, 0, 3, 3, 3, 3, 3, 0, 3, 0, 0, 3, 1, 2, 0, 1, 3, 0, 0, 1, 0, 2, 3, 0, 3, 0, 3, 3, 0, 3, 3, 3, 3, 0, 2, 1, 0, 1, 0, 1, 3, 3, 2, 3, 0, 0, 0, 1, 3, 2, 3, 0, 3, 2, 3, 0, 3, 0, 0, 0, 3, 1, 3, 0, 3, 0, 3, 2, 0, 0, 0, 1, 3, 3, 0, 0, 1, 3, 0, 0, 0, 0, 0, 1, 0, 0, 0, 0, 3, 0, 2, 3, 0, 3, 0, 3, 1, 0, 0, 0, 3, 2, 3, 3, 3, 3, 3, 0, 0, 2, 2, 3, 0, 2, 0, 2, 3, 0, 3, 0, 0, 1, 3, 3, 0, 0, 2, 0, 3, 3, 3, 3, 3, 3, 3, 0, 1, 3, 0, 3, 3, 3, 1, 3, 3, 1, 0, 0, 0, 2, 0, 0, 1, 0, 0, 0, 3, 3, 3, 0, 0, 3, 0, 2, 3, 1, 1, 3, 3, 1, 1, 3, 1, 3, 1, 3, 3, 3, 1, 3, 3, 3, 3, 0, 0, 3, 0, 0, 3, 0, 3, 3, 0, 2, 3, 3, 0, 1, 3, 0, 1, 3, 0, 0, 3, 1, 3, 3, 0, 3, 3, 1, 0, 2, 2, 2, 3, 0, 3, 3, 0, 3, 3, 0, 0, 0, 3, 3, 0, 3, 0, 3, 3, 0, 0, 2, 0, 0, 0, 0, 3, 3, 3, 0, 0, 0, 0, 0, 3, 0, 3, 0, 3, 3, 3, 0, 0, 1, 0, 3, 3, 3, 3, 3, 3, 0, 0, 1, 2, 1, 3, 3, 3, 0, 0, 0, 0, 0, 3, 3, 2, 0, 3, 3, 0, 3, 0, 0, 3, 3, 0, 0, 0, 3, 3, 0, 2, 3, 3, 2, 0, 0, 3, 3, 0, 3, 0, 3, 0, 0, 3, 3, 1, 3, 0, 0, 0, 3, 3, 3, 0, 3, 3, 3, 0, 0, 0, 3, 0, 1, 3, 0, 3, 3, 2, 3, 0, 3, 0, 1, 0, 0, 3, 0, 3, 2, 0, 0, 1, 0, 0, 1, 2, 0, 0, 3, 1, 3, 1, 1, 3, 0, 3, 1, 3, 3, 3, 3, 0, 3, 0, 3, 1, 3, 3, 3, 3, 0, 3, 1, 1, 3, 1, 3, 0, 0, 2, 2, 3, 3, 0, 0, 3, 0, 3, 3, 0, 0, 3, 0, 1, 3, 3, 0, 3, 1, 3, 0, 3, 3, 0, 0, 3, 0, 0, 0, 3, 0, 2, 0, 2, 3, 0, 0, 3, 0, 0, 3, 0, 3, 0, 0, 2, 1, 0, 3, 0, 3, 1, 3, 3, 0, 0, 3, 3, 3, 0, 2, 0, 0, 3, 0, 2, 3, 3, 1, 3, 0, 0, 2, 2, 1, 0, 0, 3, 2, 2, 3, 3, 3, 3, 3, 2, 3, 0, 2, 3, 0, 1, 2, 3, 3, 0, 3, 0, 0, 0, 1, 3, 3, 0, 3, 3, 0, 0, 0, 0, 3, 3, 3, 1, 2, 3, 0, 0, 0, 2, 0, 0, 2, 3, 2, 2, 0, 2, 0, 1, 0, 3, 2, 0, 1, 0, 3, 2, 3, 0, 1, 3, 2, 3, 3, 0, 3, 3, 2, 2, 3, 3, 0, 2, 3, 3, 2, 3, 0, 3, 3, 0, 1, 3, 2, 0, 2, 0, 0, 2, 0, 3, 0, 0, 0, 1, 3, 3, 1, 3, 1, 3, 3, 3, 3, 0, 2, 0, 3, 0, 3, 0, 3, 1, 3, 0, 0, 1, 0, 3, 0, 1, 0, 3, 0, 0, 0, 0, 0, 2, 0, 3, 0, 0, 1, 1, 3, 0, 0, 3, 2, 3, 3, 0, 3, 3, 0, 2, 1, 0, 3, 2, 3, 0, 3, 3, 0, 3, 0, 3, 3, 0, 3, 1, 0, 2, 3, 0, 3, 0, 3, 3, 3, 3, 0, 3, 0, 2, 3, 1, 0, 3, 2, 0, 2, 0, 1, 0, 0, 0, 3, 3, 3, 0, 0, 0, 3, 3, 2, 0, 3, 0, 3, 0, 2, 0, 1, 3, 1, 0, 0, 1, 0, 1, 0, 3, 2, 3, 0, 0, 3, 0, 0, 3, 2, 3, 3, 0, 3, 0, 0, 0, 3, 0, 0, 3, 0, 3, 0, 0, 0, 0, 3, 3, 3, 3, 3, 0, 2, 1, 0, 0, 0, 3, 0, 0, 2, 3, 3, 3, 0, 0, 0, 0, 2, 3, 0, 2, 1, 3, 3, 2, 1, 0, 0, 2, 3, 1, 0, 0, 2, 3, 3, 3, 3, 0, 2, 0, 1, 3, 2, 2, 0, 1, 3, 2, 0, 3, 3, 1, 3, 3, 3, 0, 0, 0, 0, 0, 1, 0, 3, 3, 2, 0, 3, 1, 2, 0, 3, 0, 2, 0, 2, 0, 0, 0, 0, 3, 2, 1, 2, 2, 2, 3, 0, 3, 0, 0, 0, 0, 1, 3, 0, 3, 0, 3, 3, 3, 1, 0, 3, 3, 0, 1, 0, 2, 1, 0, 0, 2, 3, 1, 3, 3, 0, 0, 2, 3, 3, 1, 3, 0, 3, 3, 0, 3, 3, 0, 3, 3, 1, 0, 3, 3, 0, 0, 3, 3, 3, 0, 0, 3, 0, 0, 1, 3, 3, 2, 3, 0, 3, 2, 3, 3, 0, 1, 3, 0, 3, 2, 3, 3, 0, 3, 0, 0, 3, 0, 3, 2, 0, 3, 3, 0, 0, 0, 3, 1, 0, 0, 3, 0, 0, 0, 3, 3, 0, 1, 0, 2, 1, 3, 3, 0, 3, 0, 0, 0, 3, 2, 0, 0, 3, 0, 1, 1, 0, 0, 2, 1, 3, 0, 3, 2, 0, 0, 2, 0, 3, 3, 2, 3, 2, 1, 0, 3, 0, 0, 0, 3, 0, 3, 3, 0, 1, 1, 2, 3, 0, 3, 2, 3, 3, 3, 0, 0, 3, 3, 0, 0, 3, 0, 0, 3, 2, 2, 3, 0, 1, 3, 0, 3, 0, 0, 0, 0, 3, 1, 2, 3, 3, 0, 0, 0, 2, 0, 2, 0, 0, 3, 0, 1, 3, 3, 0, 3, 0, 0, 1, 3, 3, 3, 0, 0, 3, 0, 3, 3, 1, 1, 3, 3, 3, 0, 3, 2, 3, 0, 2, 0, 0, 3, 3, 3, 0, 0, 3, 3, 0, 0, 2, 0, 3, 3, 0, 0, 3, 0, 2, 3, 0, 0, 1, 3, 3, 3, 0, 3, 1, 0, 3, 0, 2, 3, 0, 0, 3, 3, 0, 3, 3, 3, 0, 3, 0, 3, 3, 0, 3, 3, 1, 0, 3, 2, 3, 0, 3, 3, 0, 0, 1, 3, 0, 0, 3, 0, 3, 0, 0, 3, 3, 1, 0, 2, 1, 0, 0, 3, 0, 3, 3, 3, 2, 2, 3, 0, 3, 2, 3, 3, 1, 0, 3, 1, 3, 1, 0, 3, 0, 0, 0, 0, 3, 3, 1, 0, 0, 3, 3, 1, 0, 0, 1, 3, 3, 3, 3, 1, 3, 3, 3, 1, 3, 1, 3, 0, 0, 1, 2, 0, 3, 0, 0, 1, 1, 1, 3, 3, 1, 3, 0, 3, 3, 3, 3, 0, 0, 0, 0, 0, 1, 3, 3, 3, 3, 3, 3, 3, 3, 0, 3, 0, 3, 0, 3, 0, 2, 0, 3, 3, 3, 3, 0, 3, 3, 3, 2, 3, 3, 0, 3, 3, 2, 1, 0, 3, 0, 0, 1, 3, 1, 3, 3, 0, 3, 0, 3, 0, 3, 1, 3, 3, 3, 0, 3, 0, 3, 0, 3, 0, 3, 0, 0, 0, 0, 1, 0, 2, 3, 0, 0, 3, 0, 3, 3, 0, 3, 3, 3, 3, 3, 3, 0, 0, 0, 2, 0, 0, 3, 0, 3, 3, 0, 0, 3, 0, 0, 2, 0, 3, 3, 0, 3, 1, 2, 2, 3, 3, 3, 0, 3, 1, 0, 2, 3, 0, 3, 1, 1, 0, 0, 0, 1, 3, 0, 1, 3, 0, 3, 3, 0, 2, 0, 3, 3, 0, 3, 2, 3, 3, 3, 3, 3, 3, 0, 0, 0, 1, 3, 3, 2, 0, 3, 2, 0, 3, 3, 3, 0, 0, 0, 1, 0, 2, 0, 2, 3, 0, 3, 0, 0, 0, 1, 3, 3, 0, 0, 0, 3, 0, 3, 1, 3, 0, 2, 0, 3, 2, 0, 3, 1, 0, 2, 1, 3, 3, 3, 3, 0, 0, 3, 1, 3, 0, 1, 3, 0, 2, 3, 0, 2, 3, 1, 0, 1, 2, 0, 1, 1, 3, 3, 2, 0, 3, 3, 0, 3, 0, 2, 3, 1, 3, 2, 0, 3, 1, 0, 2, 3, 3, 3, 3, 3, 0, 2, 0, 3, 3, 0, 0, 0, 3, 2, 3, 2, 3, 0, 1, 1, 3, 0, 2, 0, 0, 3, 3, 0, 3, 3, 0, 0, 0, 3, 1, 0, 3, 2, 3, 0, 3, 0, 3, 3, 3, 1, 1, 0, 0, 3, 0, 3, 0, 3, 0, 0, 0, 0, 2, 0, 0, 0, 0, 3, 3, 3, 0, 3, 1, 0, 3, 3, 1, 0, 0, 3, 3, 3, 3, 3, 0, 3, 0, 0, 0, 2, 3, 1, 3, 3, 3, 0, 0, 0, 0, 3, 1, 2, 3, 3, 1, 0, 0, 0, 3, 0, 1, 1, 0, 3, 3, 3, 0, 3, 3, 0, 3, 3, 0, 0, 0, 0, 0, 0, 2, 0, 0, 0, 2, 3, 0, 0, 1, 0, 3, 0, 3, 3, 3, 0, 3, 0, 0, 3, 3, 2, 0, 0, 2, 2, 0, 2, 0, 2, 2, 1, 3, 0, 3, 0, 1, 0, 2, 0, 1, 3, 2, 1, 0, 0, 0, 0, 1, 3, 0, 0, 0, 0, 3, 0, 1, 3, 1, 0, 0, 3, 3, 1, 3, 0, 2, 1, 3, 0, 1, 0, 3, 3, 0, 3, 3, 3, 3, 3, 0, 2, 1, 3, 1, 3, 3, 3, 1, 3, 3, 3, 0, 2, 3, 3, 0, 3, 3, 1, 0, 0, 3, 0, 3, 2, 2, 0, 0, 3, 0, 0, 1, 0, 1, 3, 3, 3, 0, 0, 3, 3, 3, 3, 3, 2, 1, 3, 0, 0, 3, 3, 0, 2, 0, 3, 1, 0, 3, 1, 0, 3, 0, 2, 1, 2, 2, 0, 0, 2, 3, 3, 0, 3, 2, 0, 1, 0, 0, 3, 0, 1, 3, 0, 3, 3, 2, 0, 3, 3, 0, 0, 3, 0, 2, 1, 3, 3, 3, 3, 1, 0, 1, 3, 0, 3, 1, 2, 0, 0, 3, 0, 0, 3, 2, 3, 3, 3, 0, 3, 0, 3, 1, 2, 0, 0, 0, 1, 3, 3, 2, 3, 1, 0, 3, 0, 3, 2, 3, 0, 0, 3, 3, 0, 0, 3, 0, 3, 0, 0, 0, 3, 3, 1, 2, 2, 0, 3, 0, 0, 1, 2, 0, 1, 0, 0, 3, 0, 3, 3, 3, 0, 0, 3, 0, 0, 2, 0, 3, 3, 0, 3, 3, 0, 1, 1, 1, 1, 0, 0, 0, 1, 3, 3, 1, 0, 3, 0, 1, 1, 3, 1, 3, 3, 1, 0, 3, 0, 0, 0, 0, 0, 1, 0, 0, 1, 0, 0, 2, 3, 1, 0, 3, 3, 0, 3, 0, 3, 0, 1, 0, 3, 2, 0, 1, 0, 3, 3, 0, 2, 1, 2, 0, 3, 3, 0, 3, 3, 0, 0, 0, 0, 3, 0, 3, 0, 3, 0, 3, 1, 3, 0, 3, 1, 0, 3, 3, 0, 0, 1, 3, 3, 3, 0, 3, 0, 3, 0, 3, 0, 3, 3, 0, 0, 1, 1, 3, 2, 0, 3, 0, 1, 3, 0, 3, 1, 3, 0, 1, 0, 2, 2, 0, 2, 3, 3, 1, 3, 3, 3, 0, 3, 3, 0, 3, 3, 1, 2, 3, 0, 3, 3, 3, 3, 2, 3, 2, 0, 0, 0, 1, 0, 0, 3, 1, 0, 3, 3, 3, 3, 3, 0, 3, 3, 0, 1, 3, 3, 0, 0, 1, 3, 0, 2, 3, 0, 1, 0, 3, 1, 3, 0, 3, 1, 2, 1, 0, 3, 3, 0, 0, 2, 0, 3, 1, 0, 3, 1, 3, 3, 0, 3, 3, 0, 0, 3, 3, 0, 0, 1, 3, 0, 3, 0, 0, 3, 2, 3, 0, 0, 2, 0, 3, 0, 2, 3, 3, 0, 0, 1, 3, 1, 3, 3, 1, 0, 3, 0, 1, 0, 3, 0, 0, 3, 1, 3, 3, 0, 0, 0, 2, 1, 1, 0, 3, 0, 0, 0, 3, 3, 1, 3, 3, 1, 0, 3, 3, 3, 2, 1, 0, 3, 3, 3, 0, 0, 3, 0, 0, 1, 2, 1, 0, 2, 2, 3, 0, 0, 3, 0, 2, 2, 0, 0, 3, 3, 3, 0, 0, 3, 0, 0, 2, 3, 1, 3, 3, 1, 3, 0, 3, 0, 2, 3, 1, 3, 0, 2, 1, 3, 3, 3, 3, 3, 0, 0, 1, 3, 0, 3, 0, 3, 2, 0, 3, 0, 0, 2, 0, 2, 3, 3, 1, 1, 3, 1, 3, 1, 3, 3, 1, 1, 3, 0, 0, 3, 1, 3, 0, 0, 0, 1, 3, 3, 0, 0, 0, 0, 3, 3, 3, 0, 3, 0, 3, 1, 0, 2, 3, 2, 3, 3, 0, 0, 0, 3, 0, 3, 3, 2, 3, 0, 1, 3, 3, 0, 2, 0, 3, 0, 3, 2, 0, 0, 1, 3, 3, 0, 3, 0, 0, 3, 3, 3, 2, 3, 0, 0, 0, 3, 0, 3, 3, 0, 2, 0, 0, 3, 0, 0, 0, 0, 1, 3, 0, 3, 3, 1, 3, 3, 3, 0, 2, 1, 0, 3, 3, 3, 3, 0, 1, 3, 3, 0, 1, 0, 0, 0, 2, 3, 0, 0, 3, 2, 3, 0, 0, 3, 0, 1, 2, 1, 0, 1, 3, 0, 0, 2, 3, 3, 3, 3, 1, 3, 0, 2, 0, 3, 1, 0, 0, 3, 0, 1, 0, 0, 0, 0, 3, 3, 2, 2, 2, 0, 3, 3, 0, 3, 3, 0, 2, 1, 3, 3, 1, 0, 0, 3, 0, 2, 0, 1, 0, 0, 2, 3, 2, 2, 3, 3, 1, 1, 0, 3, 2, 0, 0, 2, 2, 3, 3, 0, 0, 0, 3, 3, 0, 0, 1, 3, 0, 3, 3, 2, 3, 0, 0, 3, 0, 3, 0, 3, 3, 0, 1, 3, 1, 0, 0, 0, 3, 1, 0, 0, 3, 3, 1, 0, 0, 2, 0, 3, 0, 0, 3, 1, 0, 3, 1, 3, 0, 3, 3, 3, 0, 0, 1, 0, 3, 1, 2, 3, 3, 3, 2, 3, 3, 3, 0, 0, 3, 3, 0, 0, 2, 0, 3, 3, 0, 0, 2, 3, 0, 0, 0, 2, 0, 3, 3, 0, 0, 3, 3, 1, 2, 2, 3, 1, 1, 0, 3, 3, 3, 1, 3, 0, 3, 0, 3, 1, 3, 0, 0, 2, 0, 1, 2, 0, 2, 3, 3, 0, 0, 0, 2, 0, 1, 3, 0, 3, 3, 2, 0, 3, 3, 2, 3, 3, 3, 0, 3, 3, 3, 0, 3, 2, 0, 0, 3, 3, 0, 0, 1, 3, 0, 1, 3, 2, 0, 3, 3, 3, 0, 0, 3, 0, 3, 0, 3, 0, 0, 3, 3, 0, 0, 0, 0, 0, 2, 2, 0, 0, 0, 0, 2, 2, 0, 3, 3, 0, 3, 0, 0, 3, 3, 3, 1, 3, 1, 3, 3, 0, 0, 3, 0, 0, 3, 0, 3, 1, 3, 3, 3, 0, 1, 1, 3, 0, 3, 0, 3, 3, 3, 1, 3, 1, 0, 0, 0, 0, 0, 3, 3, 3, 0, 0, 0, 0, 3, 3, 0, 3, 0, 3, 2, 3, 1, 3, 3, 0, 0, 3, 0, 3, 3, 1, 0, 0, 0, 0, 2, 0, 3, 0, 0, 3, 0, 3, 1, 0, 0, 3, 0, 3, 0, 3, 0, 3, 0, 3, 3, 0, 3, 0, 3, 3, 1, 0, 0, 0, 0, 0, 3, 3, 3, 3, 0, 3, 0, 0, 3, 0, 0, 0, 1, 0, 0, 3, 1, 3, 3, 3, 3, 0, 3, 2, 3, 2, 3, 3, 3, 3, 0, 1, 3, 0, 2, 3, 0, 3, 0, 2, 3, 3, 0, 0, 3, 2, 0, 2, 2, 2, 3, 0, 0, 3, 3, 3, 3, 0, 3, 3, 3, 0, 3, 2, 3, 0, 3, 2, 0, 3, 0, 2, 3, 3, 0, 0, 0, 3, 2, 0, 1, 3, 3, 0, 0, 3, 3, 0, 3, 3, 3, 0, 0, 3, 3, 3, 3, 3, 3, 3, 0, 0, 0, 2, 0, 2, 0, 3, 0, 3, 3, 3, 3, 0, 0, 0, 2, 0, 3, 0, 0, 2, 3, 0, 0, 0, 3, 3, 0, 0, 1, 3, 0, 0, 0, 3, 1, 0, 0, 2, 3, 0, 3, 3, 0, 0, 0, 0, 3, 3, 0, 3, 0, 3, 1, 3, 0, 3, 2, 0, 3, 0, 1, 3, 3, 3, 1, 1, 1, 0, 0, 0, 3, 0, 3, 2, 3, 3, 0, 1, 3, 3, 3, 1, 0, 3, 0, 3, 3, 1, 2, 0, 0, 1, 0, 0, 3, 3, 0, 0, 3, 0, 2, 1, 0, 0, 0, 3, 2, 1, 0, 0, 0, 0, 3, 3, 3, 0, 0, 3, 3, 2, 0, 3, 2, 1, 0, 0, 0, 0, 3, 3, 2, 3, 0, 3, 0, 3, 0, 3, 0, 3, 0, 3, 0, 0, 3, 3, 3, 3, 1, 0, 3, 0, 3, 3, 3, 2, 0, 0, 2, 0, 2, 1, 0, 0, 3, 3, 0, 3, 3, 1, 3, 0, 0, 0, 3, 2, 1, 3, 0, 3, 3, 0, 1, 3, 1, 0, 0, 0, 0, 3, 3, 3, 2, 0, 0, 3, 3, 3, 2, 3, 3, 3, 3, 3, 0, 0, 0, 0, 0, 0, 2, 2, 2, 3, 0, 0, 2, 1, 3, 3, 3, 3, 0, 0, 3, 0, 2, 0, 0, 1, 0, 0, 3, 1, 1, 2, 0, 3, 3, 0, 0, 3, 0, 3, 3, 2, 3, 3, 3, 3, 3, 3, 3, 2, 0, 3, 3, 1, 3, 3, 0, 0, 3, 3, 2, 3, 1, 0, 3, 0, 0, 2, 1, 3, 0, 1, 0, 3, 0, 3, 3, 3, 1, 3, 1, 0, 0, 3, 0, 0, 2, 0, 0, 3, 3, 0, 3, 1, 3, 3, 0, 2, 2, 3, 2, 1, 0, 3, 3, 3, 3, 3, 0, 3, 1, 3, 0, 0, 1, 3, 3, 1, 2, 3, 2, 3, 0, 0, 3, 3, 0, 0, 3, 3, 0, 2, 0, 3, 3, 3, 2, 3, 1, 3, 3, 0, 3, 3, 0, 0, 3, 1, 3, 1, 0, 0, 3, 0, 0, 0, 0, 3, 2, 3, 0, 3, 0, 3, 3, 0, 0, 3, 0, 0, 3, 0, 0, 0, 3, 0, 3, 3, 0, 3, 3, 0, 2, 1, 0, 0, 0, 3, 3, 0, 3, 3, 3, 2, 3, 3, 0, 3, 2, 3, 2, 0, 0, 0, 2, 0, 0, 0, 1, 3, 3, 0, 3, 0, 3, 0, 1, 3, 1, 1, 0, 2, 0, 0, 3, 1, 2, 0, 3, 0, 1, 1, 0, 3, 1, 0, 0, 3, 0, 3, 3, 0, 0, 0, 0, 3, 1, 3, 3, 3, 2, 0, 3, 3, 3, 0, 3, 3, 3, 0, 0, 0, 0, 3, 0, 0, 2, 3, 1, 3, 3, 2, 1, 3, 3, 0, 0, 3, 0, 0, 0, 3, 1, 0, 3, 2, 0, 3, 3, 0, 2, 0, 1, 3, 0, 0, 1, 3, 0, 3, 3, 0, 2, 0, 3, 3, 3, 3, 3, 3, 0, 0, 0, 2, 0, 3, 3, 1, 3, 2, 3, 2, 0, 0, 3, 0, 0, 0, 3, 0, 3, 0, 0, 3, 0, 0, 3, 3, 3, 0, 0, 0, 3, 0, 3, 0, 3, 0, 3, 3, 3, 0, 3, 3, 3, 3, 3, 0, 0, 3, 0, 3, 1, 1, 1, 0, 3, 1, 2, 0, 0, 2, 0, 3, 0, 0, 2, 3, 2, 3, 0, 1, 0, 0, 0, 0, 3, 1, 1, 0, 3, 0, 0, 3, 0, 3, 3, 0, 0, 3, 0, 3, 0, 0, 1, 0, 1, 3, 3, 0, 0, 1, 0, 1, 0, 3, 2, 3, 3, 0, 3, 1, 0, 2, 0, 0, 2, 2, 1, 3, 0, 3, 1, 3, 1, 3, 2, 0, 1, 0, 0, 3, 3, 0, 0, 0, 0, 3, 0, 0, 0, 3, 0, 1, 2, 0, 1, 0, 3, 3, 3, 3, 3, 0, 0, 3, 0, 2, 3, 2, 3, 0, 1, 3, 0, 0, 2, 0, 0, 3, 0, 0, 1, 3, 2, 0, 0, 2, 0, 1, 2, 0, 3, 3, 2, 2, 0, 0, 3, 3, 3, 0, 0, 1, 3, 1, 0, 3, 0, 3, 0, 3, 0, 3, 0, 3, 3, 1, 2, 0, 2, 0, 0, 2, 0, 0, 0, 3, 0, 3, 3, 0, 2, 3, 0, 0, 0, 0, 0, 3, 0, 3, 0, 0, 0, 0, 0, 3, 0, 0, 3, 3, 0, 2, 0, 0, 0, 3, 2, 0, 1, 3, 0, 2, 1, 3, 3, 0, 0, 1, 3, 1, 3, 3, 0, 0, 3, 3, 3, 3, 0, 3, 0, 0, 3, 0, 0, 1, 3, 1, 0, 0, 1, 3, 0, 3, 0, 0, 0, 0, 3, 3, 3, 1, 1, 0, 0, 3, 2, 3, 0, 2, 0, 0, 3, 3, 3, 3, 0, 0, 3, 3, 3, 3, 0, 0, 3, 3, 3, 0, 3, 3, 3, 0, 3, 0, 0, 0, 0, 3, 3, 3, 3, 0, 0, 0, 3, 0, 2, 0, 3, 0, 0, 2, 0, 0, 3, 3, 3, 3, 0, 0, 0, 3, 3, 3, 1, 3, 2, 1, 0, 3, 3, 3, 3, 1, 2, 3, 0, 3, 3, 0, 3, 0, 1, 3, 3, 3, 0, 0, 0, 3, 3, 0, 0, 1, 0, 0, 3, 1, 3, 0, 3, 2, 3, 0, 1, 0, 0, 1, 0, 3, 0, 3, 1, 0, 3, 0, 3, 3, 0, 3, 3, 3, 0, 0, 0, 3, 3, 2, 0, 0, 3, 3, 0, 3, 0, 3, 0, 0, 0, 3, 2, 3, 3, 0, 0, 3, 3, 0, 0, 2, 3, 3, 3, 3, 1, 3, 0, 3, 3, 0, 1, 3, 0, 2, 3, 1, 0, 0, 3, 3, 2, 0, 3, 3, 0, 3, 1, 3, 0, 0, 0, 1, 1, 0, 3, 1, 2, 2, 2, 1, 3, 3, 3, 3, 2, 2, 0, 0, 0, 0, 1, 2, 3, 3, 0, 1, 3, 2, 1, 3, 0, 2, 1, 3, 0, 2, 1, 0, 0, 0, 3, 0, 0, 0, 0, 3, 0, 0, 3, 3, 2, 3, 0, 0, 3, 3, 3, 3, 0, 0, 0, 1, 3, 3, 0, 1, 0, 3, 3, 3, 3, 1, 3, 0, 3, 3, 0, 0, 0, 0, 0, 0, 0, 2, 0, 1, 1, 0, 0, 0, 2, 0, 3, 3, 1, 3, 0, 0, 3, 3, 3, 0, 3, 1, 2, 1, 3, 0, 1, 3, 1, 2, 3, 0, 1, 0, 3, 2, 2, 0, 0, 0, 0, 3, 0, 0, 1, 3, 3, 3, 1, 1, 0, 0, 1, 3, 0, 0, 3, 0, 3, 2, 0, 0, 0, 1, 3, 0, 3, 3, 3, 2, 0, 3, 3, 1, 0, 1, 0, 3, 3, 0, 0, 2, 3, 0, 2, 3, 0, 0, 0, 3, 0, 0, 2, 2, 2, 3, 3, 0, 2, 0, 0, 2, 3, 3, 0, 2, 0, 2, 3, 1, 3, 0, 3, 1, 3, 3, 0, 3, 0, 3, 3, 0, 0, 0, 1, 3, 3, 3, 0, 1, 0, 0, 0, 0, 3, 3, 0, 3, 3, 0, 0, 0, 3, 1, 0, 0, 0, 3, 3, 2, 3, 0, 3, 2, 3, 2, 3, 3, 1, 0, 0, 1, 0, 0, 3, 3, 0, 0, 0, 3, 0, 3, 0, 0, 1, 0, 3, 3, 1, 1, 3, 0, 0, 2, 0, 0, 0, 0, 0, 1, 3, 3, 3, 3, 0, 0, 0, 1, 2, 0, 0, 0, 2, 0, 0, 0, 0, 0, 3, 3, 2, 3, 0, 1, 0, 0, 3, 0, 3, 3, 1, 3, 0, 3, 1, 0, 2, 3, 3, 3, 0, 0, 0, 3, 3, 3, 2, 3, 0, 3, 0, 3, 3, 3, 2, 0, 2, 0, 2, 1, 0, 2, 2, 3, 1, 3, 3, 3, 1, 0, 0, 0, 3, 3, 0, 3, 3, 1, 1, 0, 0, 0, 0, 0, 0, 0, 0, 3, 0, 0, 3, 0, 3, 2, 3, 0, 3, 3, 3, 3, 0, 0, 3, 3, 0, 1, 3, 0, 1, 1, 3, 1, 3, 3, 2, 3, 0, 0, 3, 1, 0, 3, 0, 3, 0, 3, 3, 3, 3, 0, 2, 1, 2, 3, 0, 3, 3, 2, 3, 2, 1, 3, 2, 1, 2, 0, 2, 3, 3, 3, 3, 2, 0, 3, 0, 0, 2, 0, 2, 3, 3, 2, 3, 3, 0, 3, 1, 0, 1, 0, 1, 2, 2, 0, 0, 3, 0, 2, 3, 3, 0, 0, 3, 0, 3, 0, 3, 3, 0, 0, 3, 0, 3, 0, 1, 0, 3, 1, 3, 0, 0, 0, 2, 1, 3, 3, 0, 0, 2, 1, 3, 0, 0, 0, 0, 3, 0, 0, 2, 2, 3, 0, 3, 0, 0, 3, 3, 2, 1, 3, 1, 3, 3, 3, 0, 2, 0, 0, 0, 3, 1, 1, 0, 0, 1, 0, 0, 0, 3, 0, 3, 0, 3, 1, 1, 3, 3, 0, 0, 3, 3, 1, 3, 0, 1, 3, 1, 3, 3, 3, 3, 3, 3, 2, 3, 0, 0, 0, 0, 0, 0, 3, 1, 0, 0, 3, 0, 2, 3, 0, 3, 3, 0, 3, 0, 3, 0, 3, 0, 0, 3, 3, 0, 3, 3, 0, 0, 0, 0, 3, 0, 3, 3, 0, 0, 3, 3, 3, 3, 3, 3, 0, 2, 3, 3, 3, 3, 3, 3, 2, 1, 1, 0, 1, 3, 0, 3, 3, 0, 1, 3, 3, 0, 0, 0, 0, 0, 3, 2, 0, 1, 2, 3, 0, 3, 1, 3, 0, 0, 0, 2, 2, 2, 0, 0, 0, 3, 0, 3, 2, 0, 2, 3, 0, 0, 2, 3, 2, 3, 2, 2, 2, 3, 3, 0, 2, 3, 3, 0, 3, 2, 0, 0, 0, 1, 3, 2, 0, 1, 3, 1, 1, 0, 0, 2, 0, 0, 0, 3, 3, 0, 3, 3, 2, 3, 0, 3, 0, 2, 2, 3, 0, 2, 3, 0, 3, 0, 0, 3, 3, 3, 3, 3, 3, 0, 3, 0, 3, 3, 1, 3, 2, 2, 0, 3, 0, 3, 3, 1, 0, 3, 0, 3, 3, 3, 1, 3, 3, 3, 1, 0, 3, 0, 0, 3, 3, 2, 0, 0, 3, 0, 3, 0, 0, 0, 0, 3, 0, 3, 3, 2, 0, 2, 0, 3, 0, 0, 0, 2, 0, 0, 0, 1, 1, 2, 3, 3, 3, 0, 3, 3, 2, 3, 1, 0, 2, 0, 3, 1, 3, 0, 1, 3, 2, 0, 1, 0, 3, 0, 0, 3, 0, 0, 0, 0, 3, 3, 3, 3, 1, 3, 3, 0, 2, 3, 3, 3, 0, 2, 3, 0, 3, 3, 3, 3, 0, 3, 3, 2, 0, 0, 0, 0, 3, 3, 3, 2, 3, 3, 0, 0, 3, 3, 0, 3, 3, 0, 0, 3, 3, 0, 0, 0, 1, 0, 1, 3, 0, 3, 0, 3, 0, 3, 1, 0, 0, 0, 2, 0, 3, 3, 0, 3, 0, 2, 0, 2, 0, 1, 0, 3, 1, 3, 1, 0, 0, 0, 0, 0, 3, 2, 1, 3, 3, 0, 0, 0, 3, 3, 3, 1, 1, 3, 3, 3, 1, 3, 3, 2, 1, 0, 3, 0, 1, 1, 3, 0, 0, 3, 0, 2, 3, 2, 0, 3, 3, 3, 0, 0, 0, 3, 3, 0, 2, 3, 0, 2, 3, 0, 0, 3, 0, 0, 3, 0, 3, 3, 2, 3, 0, 3, 3, 1, 3, 0, 3, 3, 3, 0, 0, 3, 0, 2, 3, 0, 3, 3, 3, 2, 1, 3, 0, 0, 0, 0, 3, 3, 0, 2, 0, 3, 3, 3, 3, 0, 3, 0, 3, 3, 3, 3, 0, 0, 0, 1, 3, 0, 3, 3, 1, 0, 3, 3, 2, 1, 0, 3, 3, 0, 3, 0, 3, 3, 0, 0, 0, 0, 1, 2, 0, 1, 0, 0, 3, 3, 1, 0, 3, 3, 3, 2, 3, 3, 3, 0, 0, 0, 0, 0, 0, 2, 3, 2, 1, 2, 3, 0, 3, 3, 2, 3, 0, 3, 3, 3, 3, 0, 3, 0, 2, 0, 0, 3, 2, 0, 3, 0, 1, 3, 0, 0, 2, 3, 0, 3, 2, 1, 3, 0, 3, 3, 0, 3, 0, 3, 2, 0, 3, 3, 2, 0, 3, 3, 3, 3, 2, 2, 3, 0, 2, 3, 0, 3, 0, 0, 0, 0, 0, 2, 2, 3, 3, 2, 3, 3, 3, 3, 1, 3, 2, 0, 0, 1, 0, 3, 3, 0, 3, 2, 0, 0, 3, 0, 3, 3, 3, 0, 2, 3, 3, 3, 0, 3, 3, 3, 3, 3, 3, 0, 0, 1, 3, 3, 2, 0, 3, 3, 3, 3, 2, 0, 0, 0, 3, 3, 3, 3, 3, 3, 0, 0, 0, 3, 0, 3, 0, 3, 2, 0, 2, 3, 2, 1, 3, 3, 3, 0, 3, 1, 0, 3, 2, 3, 3, 0, 0, 0, 0, 2, 3, 3, 0, 3, 0, 3, 3, 0, 3, 3, 0, 0, 0, 0, 3, 1, 3, 3, 3, 0, 0, 1, 2, 0, 2, 1, 1, 0, 0, 3, 0, 0, 3, 0, 0, 1, 3, 0, 3, 1, 3, 3, 3, 0, 3, 0, 0, 0, 0, 3, 2, 3, 0, 3, 1, 3, 1, 3, 2, 0, 3, 1, 3, 1, 3, 3, 1, 3, 3, 0, 3, 2, 3, 2, 0, 0, 3, 2, 3, 2, 3, 1, 3, 0, 0, 2, 1, 3, 1, 3, 2, 0, 3, 0, 0, 0, 3, 0, 3, 3, 0, 0, 3, 0, 0, 3, 3, 3, 1, 1, 0, 2, 3, 3, 3, 3, 0, 2, 0, 2, 0, 3, 0, 0, 0, 0, 3, 0, 1, 3, 0, 3, 0, 3, 0, 3, 0, 3, 3, 0, 3, 0, 3, 2, 0, 0, 0, 2, 3, 0, 3, 0, 1, 0, 3, 1, 3, 3, 0, 0, 0, 1, 0, 0, 0, 1, 2, 3, 1, 3, 1, 0, 0, 3, 0, 0, 3, 0, 0, 2, 0, 0, 3, 0, 1, 0, 3, 1, 0, 0, 2, 3, 3, 0, 3, 3, 1, 3, 3, 2, 1, 3, 0, 3, 1, 0, 0, 1, 3, 3, 3, 1, 0, 3, 3, 3, 1, 0, 3, 3, 3, 3, 0, 1, 0, 0, 2, 0, 1, 2, 0, 0, 3, 1, 3, 3, 0, 3, 3, 3, 2, 3, 1, 1, 0, 0, 3, 2, 0, 0, 0, 3, 2, 0, 2, 0, 3, 2, 0, 0, 1, 3, 3, 3, 0, 1, 1, 0, 0, 0, 0, 3, 0, 2, 3, 3, 2, 3, 3, 3, 3, 3, 3, 1, 3, 1, 0, 1, 0, 1, 3, 1, 3, 3, 0, 1, 0, 0, 3, 0, 3, 1, 3, 0, 0, 3, 3, 1, 3, 2, 3, 0, 0, 0, 3, 3, 2, 3, 3, 0, 0, 0, 1, 3, 2, 0, 1, 3, 0, 3, 0, 1, 2, 0, 3, 2, 3, 3, 0, 2, 2, 1, 1, 0, 3, 3, 3, 1, 3, 3, 3, 0, 3, 1, 2, 3, 3, 0, 3, 1, 3, 3, 0, 3, 0, 3, 3, 3, 3, 1, 1, 0, 0, 3, 0, 2, 0, 0, 2, 2, 2, 3, 1, 0, 3, 3, 3, 3, 1, 1, 0, 3, 1, 1, 3, 2, 3, 0, 3, 3, 0, 0, 2, 3, 3, 0, 3, 2, 0, 3, 0, 3, 3, 0, 3, 0, 3, 0, 3, 3, 0, 0, 0, 3, 3, 3, 3, 0, 3, 3, 3, 2, 3, 0, 0, 2, 3, 0, 2, 3, 0, 2, 1, 0, 3, 0, 3, 3, 3, 1, 0, 1, 0, 3, 1, 0, 0, 1, 3, 0, 3, 0, 3, 2, 0, 3, 3, 0, 1, 0, 3, 0, 0, 2, 0, 0, 0, 0, 3, 3, 0, 1, 0, 2, 3, 3, 0, 0, 3, 3, 1, 1, 1, 0, 0, 3, 3, 2, 2, 3, 3, 3, 0, 0, 3, 0, 1, 0, 3, 0, 3, 2, 3, 0, 1, 3, 1, 0, 0, 3, 0, 0, 3, 0, 3, 1, 2, 3, 0, 0, 0, 0, 3, 3, 1, 0, 3, 0, 2, 0, 3, 1, 0, 3, 3, 3, 0, 0, 0, 0, 0, 3, 0, 0, 0, 3, 2, 3, 1, 3, 0, 0, 0, 3, 2, 1, 0, 1, 1, 1, 3, 3, 0, 0, 0, 2, 0, 3, 2, 0, 3, 0, 3, 0, 2, 3, 1, 0, 0, 0, 0, 0, 0, 0, 0, 3, 0, 3, 3, 0, 0, 3, 0, 3, 3, 0, 3, 2, 2, 3, 0, 3, 3, 0, 3, 0, 2, 3, 1, 3, 3, 3, 3, 0, 0, 3, 0, 3, 1, 1, 3, 3, 3, 3, 3, 0, 3, 3, 0, 3, 0, 0, 0, 3, 3, 3, 0, 0, 1, 3, 3, 3, 3, 3, 3, 0, 3, 0, 1, 1, 0, 2, 0, 2, 3, 1, 3, 3, 3, 0, 2, 1, 2, 0, 1, 3, 0, 3, 1, 3, 3, 3, 0, 3, 0, 3, 0, 0, 3, 0, 3, 3, 2, 0, 0, 3, 0, 0, 3, 0, 3, 3, 0, 3, 3, 0, 0, 0, 2, 0, 3, 3, 3, 0, 3, 0, 2, 0, 0, 0, 3, 3, 3, 1, 3, 1, 3, 3, 0, 0, 1, 0, 3, 3, 3, 0, 3, 3, 0, 1, 2, 0, 1, 3, 0, 3, 0, 3, 1, 3, 0, 3, 0, 3, 3, 1, 3, 0, 3, 3, 3, 1, 0, 0, 1, 3, 2, 3, 0, 3, 0, 1, 3, 2, 3, 3, 2, 3, 3, 2, 3, 1, 3, 3, 3, 0, 1, 0, 2, 3, 0, 0, 0, 0, 0, 0, 0, 0, 3, 3, 0, 0, 3, 0, 0, 3, 0, 0, 1, 0, 0, 3, 0, 1, 3, 3, 0, 3, 0, 3, 1, 3, 3, 3, 0, 0, 3, 3, 3, 1, 1, 3, 1, 3, 3, 3, 3, 3, 0, 0, 2, 2, 0, 0, 2, 0, 3, 3, 3, 3, 3, 3, 0, 0, 3, 2, 0, 0, 3, 0, 1, 0, 0, 0, 0, 3, 0, 3, 3, 1, 3, 0, 2, 3, 3, 0, 1, 1, 0, 0, 3, 3, 3, 0, 3, 0, 0, 1, 3, 0, 3, 0, 0, 0, 3, 3, 2, 0, 0, 0, 2, 0, 3, 0, 3, 3, 0, 3, 0, 1, 0, 0, 3, 0, 0, 2, 0, 0, 3, 2, 2, 3, 0, 0, 0, 3, 3, 0, 0, 0, 3, 2, 3, 3, 0, 3, 0, 3, 2, 3, 3, 3, 3, 0, 3, 0, 1, 3, 2, 3, 3, 0, 2, 0, 3, 0, 3, 0, 2, 3, 3, 0, 3, 1, 0, 3, 3, 3, 3, 3, 3, 3, 1, 1, 2, 0, 3, 3, 3, 3, 0, 0, 1, 0, 1, 0, 1, 1, 2, 3, 2, 2, 1, 3, 3, 0, 0, 3, 0, 0, 3, 0, 3, 0, 1, 0, 1, 3, 1, 0, 2, 0, 1, 2, 3, 0, 3, 3, 1, 2, 3, 3, 0, 3, 0, 2, 0, 3, 3, 0, 2, 0, 3, 3, 0, 0, 2, 0, 0, 3, 3, 0, 0, 2, 3, 3, 0, 0, 3, 0, 3, 0, 0, 0, 3, 0, 0, 1, 2, 0, 0, 0, 0, 0, 3, 1, 0, 3, 3, 1, 3, 1, 3, 3, 3, 3, 3, 3, 1, 0, 2, 0, 2, 2, 3, 0, 0, 2, 2, 0, 0, 0, 3, 3, 0, 0, 1, 1, 3, 0, 2, 3, 0, 0, 3, 3, 3, 2, 3, 0, 3, 3, 1, 0, 3, 3, 0, 0, 0, 1, 3, 0, 0, 1, 0, 0, 0, 0, 2, 3, 1, 1, 0, 0, 3, 1, 0, 3, 0, 3, 1, 3, 3, 1, 2, 3, 3, 3, 3, 3, 3, 3, 0, 3, 0, 3, 3, 2, 0, 0, 3, 1, 3, 3, 3, 3, 3, 2, 3, 3, 0, 3, 0, 3, 2, 0, 1, 0, 3, 3, 2, 1, 0, 0, 0, 0, 3, 0, 1, 3, 0, 3, 1, 0, 0, 2, 3, 3, 3, 0, 0, 0, 1, 0, 3, 0, 0, 0, 0, 0, 3, 2, 1, 0, 0, 0, 3, 0, 0, 3, 2, 3, 2, 0, 3, 3, 1, 2, 0, 0, 3, 1, 0, 3, 3, 3, 0, 0, 0, 0, 3, 0, 1, 3, 3, 3, 3, 0, 1, 3, 3, 0, 3, 0, 1, 2, 3, 3, 0, 0, 1, 0, 0, 3, 3, 0, 1, 3, 2, 1, 3, 3, 2, 3, 0, 0, 0, 2, 3, 3, 0, 0, 3, 3, 3, 0, 0, 1, 2, 2, 2, 0, 0, 0, 0, 1, 1, 3, 3, 3, 3, 0, 1, 0, 3, 2, 3, 0, 0, 1, 3, 3, 2, 1, 2, 2, 3, 0, 0, 3, 0, 3, 0, 0, 3, 3, 1, 0, 3, 3, 3, 0, 0, 0, 0, 3, 0, 3, 3, 0, 3, 3, 2, 2, 2, 0, 2, 2, 3, 3, 0, 0, 2, 3, 3, 0, 0, 0, 1]\n"
          ],
          "name": "stdout"
        }
      ]
    },
    {
      "cell_type": "markdown",
      "metadata": {
        "id": "P12m7GkicutK"
      },
      "source": [
        "- 앙상블 예측결과 산출 (각 모델의 예측결과 합이 >= 2 면 1, 아니면 0)"
      ]
    },
    {
      "cell_type": "code",
      "metadata": {
        "colab": {
          "base_uri": "https://localhost:8080/"
        },
        "id": "mg_9n1kupTtx",
        "outputId": "650ea0ce-2576-4ec6-e256-e7c15ed57d49"
      },
      "source": [
        "predict_ensemble = []\r\n",
        "\r\n",
        "for i in s :\r\n",
        "      i = 1 if i >= 2 else 0\r\n",
        "      predict_ensemble.append(i)   \r\n",
        "\r\n",
        "print(predict_ensemble)"
      ],
      "execution_count": null,
      "outputs": [
        {
          "output_type": "stream",
          "text": [
            "[1, 0, 0, 0, 0, 1, 0, 0, 0, 1, 1, 0, 1, 1, 0, 0, 1, 0, 1, 0, 1, 0, 1, 0, 0, 1, 1, 1, 0, 1, 1, 1, 0, 0, 0, 1, 0, 0, 0, 1, 0, 0, 0, 1, 0, 1, 1, 0, 1, 1, 0, 1, 0, 1, 1, 1, 1, 1, 1, 1, 0, 0, 0, 0, 1, 0, 1, 1, 1, 1, 0, 0, 0, 0, 0, 1, 1, 1, 1, 0, 0, 1, 0, 1, 0, 1, 1, 0, 1, 0, 0, 1, 0, 1, 0, 0, 1, 1, 0, 1, 0, 0, 1, 1, 1, 0, 1, 0, 0, 1, 0, 1, 1, 1, 1, 0, 0, 1, 1, 1, 1, 0, 1, 1, 0, 1, 0, 1, 0, 1, 0, 1, 0, 1, 1, 0, 1, 1, 1, 1, 0, 0, 1, 1, 0, 1, 0, 0, 0, 1, 1, 0, 1, 1, 1, 1, 1, 0, 1, 0, 1, 1, 1, 0, 1, 0, 1, 1, 1, 0, 0, 0, 0, 1, 1, 0, 1, 0, 0, 1, 1, 1, 0, 0, 1, 1, 0, 0, 0, 1, 1, 0, 1, 1, 1, 0, 1, 1, 0, 0, 0, 1, 1, 1, 1, 1, 1, 0, 0, 0, 0, 1, 0, 1, 0, 0, 1, 1, 0, 0, 1, 0, 0, 0, 0, 1, 1, 0, 1, 1, 0, 0, 1, 1, 1, 0, 0, 1, 0, 0, 0, 0, 1, 1, 0, 1, 1, 1, 1, 0, 0, 0, 0, 0, 0, 1, 1, 1, 0, 1, 0, 1, 1, 1, 1, 0, 1, 0, 1, 1, 1, 1, 0, 1, 1, 1, 0, 1, 0, 1, 1, 1, 1, 0, 0, 0, 1, 1, 0, 1, 1, 0, 1, 0, 1, 0, 1, 0, 1, 1, 1, 1, 1, 0, 0, 1, 0, 1, 1, 1, 0, 1, 1, 1, 0, 0, 0, 0, 0, 1, 0, 0, 1, 1, 0, 1, 0, 0, 1, 0, 1, 1, 1, 1, 0, 0, 1, 1, 1, 1, 1, 1, 0, 0, 1, 0, 1, 1, 0, 0, 1, 0, 1, 0, 0, 0, 1, 0, 0, 1, 1, 0, 1, 1, 1, 0, 1, 0, 1, 1, 1, 1, 1, 0, 1, 0, 1, 1, 0, 1, 1, 1, 1, 0, 1, 0, 1, 1, 1, 1, 0, 0, 1, 0, 0, 1, 1, 0, 1, 0, 1, 1, 0, 1, 1, 1, 0, 0, 0, 0, 0, 1, 0, 1, 0, 1, 1, 1, 0, 0, 0, 0, 0, 0, 1, 1, 0, 0, 1, 1, 0, 1, 0, 1, 1, 0, 0, 0, 0, 0, 1, 0, 0, 0, 1, 0, 0, 1, 0, 0, 1, 0, 1, 0, 1, 1, 0, 0, 0, 0, 0, 0, 0, 1, 0, 1, 0, 0, 1, 0, 1, 1, 1, 1, 0, 1, 0, 0, 1, 0, 1, 0, 0, 0, 1, 0, 0, 0, 1, 1, 0, 1, 1, 0, 0, 0, 1, 1, 1, 1, 0, 0, 1, 0, 0, 1, 1, 0, 0, 0, 0, 0, 1, 1, 0, 0, 0, 0, 1, 1, 0, 0, 0, 0, 0, 0, 0, 1, 1, 1, 0, 1, 1, 0, 1, 1, 1, 1, 0, 0, 1, 0, 1, 1, 1, 1, 0, 0, 1, 0, 1, 1, 1, 0, 0, 1, 1, 1, 0, 1, 1, 0, 0, 1, 0, 1, 1, 1, 0, 1, 0, 1, 1, 1, 0, 0, 1, 1, 0, 1, 1, 0, 0, 0, 0, 1, 0, 0, 1, 1, 1, 0, 1, 1, 0, 1, 1, 0, 0, 1, 1, 1, 1, 1, 0, 1, 1, 1, 0, 1, 1, 1, 0, 0, 1, 0, 1, 0, 0, 0, 1, 0, 1, 1, 1, 1, 0, 0, 1, 1, 0, 1, 1, 1, 0, 1, 0, 1, 1, 1, 1, 1, 0, 0, 1, 0, 1, 1, 1, 0, 1, 0, 1, 0, 0, 1, 1, 1, 0, 0, 0, 1, 1, 1, 1, 1, 0, 1, 1, 0, 0, 0, 1, 1, 0, 0, 1, 0, 0, 0, 0, 1, 1, 0, 0, 1, 0, 0, 0, 1, 0, 0, 1, 1, 1, 0, 1, 1, 0, 1, 1, 0, 0, 1, 1, 0, 0, 0, 0, 1, 0, 0, 0, 0, 1, 0, 0, 1, 1, 0, 0, 0, 0, 1, 1, 0, 0, 1, 1, 0, 1, 0, 0, 1, 0, 1, 0, 0, 0, 1, 0, 1, 1, 1, 0, 1, 1, 0, 0, 1, 0, 1, 0, 1, 0, 1, 1, 0, 1, 0, 1, 0, 0, 0, 1, 1, 1, 0, 1, 1, 1, 0, 1, 0, 0, 0, 1, 0, 1, 0, 1, 1, 1, 1, 1, 1, 0, 0, 0, 0, 0, 1, 0, 0, 1, 1, 0, 0, 0, 0, 1, 1, 0, 0, 0, 0, 1, 0, 1, 0, 1, 0, 1, 0, 1, 1, 0, 0, 0, 1, 0, 0, 0, 0, 0, 1, 0, 1, 0, 0, 0, 1, 0, 1, 0, 0, 0, 0, 1, 0, 0, 1, 1, 0, 1, 0, 1, 0, 0, 1, 0, 0, 0, 1, 0, 0, 1, 0, 0, 0, 1, 1, 0, 0, 1, 1, 0, 1, 1, 1, 1, 1, 1, 1, 1, 0, 0, 0, 1, 0, 0, 1, 0, 0, 0, 1, 0, 1, 1, 1, 0, 1, 0, 0, 1, 1, 0, 0, 1, 1, 0, 0, 1, 0, 0, 1, 1, 0, 1, 0, 1, 1, 1, 1, 1, 1, 1, 0, 0, 1, 0, 1, 1, 1, 0, 1, 0, 0, 0, 1, 0, 0, 1, 1, 1, 0, 1, 0, 1, 0, 0, 1, 0, 0, 1, 1, 1, 0, 1, 0, 1, 1, 0, 0, 1, 0, 1, 0, 0, 1, 1, 0, 1, 0, 0, 0, 0, 0, 0, 1, 0, 0, 1, 0, 1, 1, 1, 0, 1, 0, 0, 0, 0, 1, 1, 0, 1, 0, 1, 1, 0, 1, 0, 1, 0, 1, 0, 0, 0, 0, 1, 0, 1, 1, 1, 1, 0, 0, 1, 0, 0, 1, 0, 0, 1, 0, 0, 0, 0, 1, 1, 1, 0, 1, 1, 1, 1, 0, 0, 1, 0, 0, 0, 0, 0, 0, 1, 1, 0, 0, 1, 1, 1, 0, 0, 1, 1, 1, 1, 1, 1, 1, 0, 1, 0, 0, 0, 1, 0, 0, 1, 1, 1, 1, 1, 1, 1, 1, 1, 1, 1, 0, 1, 0, 1, 0, 0, 1, 0, 0, 1, 0, 0, 1, 1, 1, 0, 0, 0, 1, 0, 0, 0, 0, 0, 0, 0, 1, 0, 1, 1, 1, 1, 0, 0, 0, 1, 1, 1, 1, 0, 1, 1, 1, 0, 0, 0, 0, 0, 1, 1, 0, 0, 1, 1, 0, 0, 0, 0, 1, 1, 0, 0, 1, 1, 1, 1, 1, 0, 1, 0, 1, 1, 0, 0, 0, 1, 1, 1, 1, 1, 1, 0, 1, 0, 0, 0, 1, 0, 1, 1, 1, 0, 0, 0, 0, 0, 0, 0, 0, 0, 0, 1, 0, 0, 0, 0, 1, 0, 0, 0, 0, 1, 1, 1, 0, 1, 1, 0, 0, 0, 0, 1, 0, 1, 1, 1, 0, 1, 0, 0, 1, 1, 1, 0, 0, 0, 0, 0, 1, 0, 0, 0, 1, 1, 1, 1, 0, 1, 0, 0, 0, 0, 1, 0, 0, 1, 0, 0, 0, 1, 0, 1, 0, 1, 0, 1, 1, 1, 1, 1, 0, 1, 1, 0, 0, 0, 0, 1, 1, 1, 0, 1, 1, 0, 1, 0, 0, 0, 1, 0, 1, 0, 1, 0, 1, 1, 0, 0, 1, 1, 1, 1, 1, 0, 1, 1, 0, 0, 0, 0, 0, 1, 1, 0, 0, 1, 1, 0, 1, 1, 0, 0, 0, 0, 0, 0, 0, 0, 1, 0, 0, 0, 0, 0, 0, 0, 0, 0, 1, 0, 1, 0, 0, 0, 1, 0, 0, 0, 0, 1, 0, 1, 1, 0, 0, 0, 0, 1, 1, 0, 0, 1, 0, 0, 0, 0, 1, 1, 0, 1, 1, 1, 1, 1, 0, 1, 1, 1, 0, 1, 1, 1, 1, 1, 1, 0, 0, 0, 0, 1, 1, 0, 0, 1, 0, 0, 0, 0, 1, 1, 0, 0, 0, 1, 0, 1, 1, 1, 1, 1, 1, 0, 1, 0, 1, 1, 0, 1, 0, 0, 0, 0, 0, 0, 0, 1, 1, 1, 0, 1, 0, 1, 0, 0, 1, 1, 1, 0, 1, 0, 1, 0, 0, 1, 0, 1, 0, 1, 0, 1, 0, 1, 1, 1, 0, 0, 0, 0, 0, 1, 0, 0, 1, 1, 1, 0, 1, 0, 0, 1, 1, 1, 1, 1, 1, 1, 0, 0, 0, 1, 1, 0, 1, 1, 1, 1, 0, 1, 0, 1, 1, 0, 1, 0, 0, 0, 0, 0, 0, 1, 0, 1, 0, 1, 1, 1, 1, 0, 1, 1, 1, 0, 0, 0, 0, 1, 1, 1, 1, 0, 0, 1, 0, 0, 1, 0, 1, 1, 1, 1, 1, 0, 0, 0, 0, 1, 0, 0, 1, 1, 1, 0, 1, 1, 1, 0, 1, 1, 0, 0, 0, 0, 0, 1, 0, 0, 1, 0, 1, 1, 0, 1, 0, 1, 0, 0, 0, 0, 1, 0, 0, 0, 1, 0, 0, 1, 1, 1, 0, 1, 1, 1, 1, 1, 1, 0, 0, 1, 1, 0, 1, 0, 0, 1, 0, 1, 0, 1, 1, 0, 0, 0, 1, 1, 0, 0, 0, 1, 0, 1, 1, 1, 0, 0, 0, 1, 1, 1, 0, 1, 1, 1, 1, 0, 0, 1, 1, 1, 0, 1, 1, 0, 1, 1, 1, 1, 1, 1, 1, 1, 0, 1, 1, 1, 0, 1, 0, 0, 0, 1, 0, 1, 1, 1, 1, 0, 0, 0, 0, 1, 0, 0, 0, 1, 0, 1, 1, 1, 1, 1, 1, 0, 0, 0, 1, 0, 0, 1, 1, 0, 1, 1, 1, 0, 1, 1, 1, 1, 0, 0, 1, 0, 0, 1, 0, 0, 1, 0, 0, 1, 1, 0, 0, 1, 1, 0, 1, 0, 0, 1, 1, 0, 0, 1, 0, 0, 0, 0, 1, 1, 1, 1, 0, 1, 0, 0, 1, 1, 1, 0, 1, 1, 1, 0, 1, 0, 0, 0, 1, 0, 0, 1, 0, 1, 1, 0, 0, 0, 1, 1, 1, 0, 1, 0, 0, 1, 1, 1, 1, 0, 1, 0, 0, 0, 0, 0, 0, 1, 0, 1, 0, 0, 1, 0, 0, 1, 0, 0, 0, 0, 0, 1, 0, 1, 1, 0, 0, 0, 1, 1, 1, 1, 0, 0, 0, 1, 0, 1, 0, 0, 1, 1, 1, 1, 0, 0, 0, 0, 0, 0, 1, 0, 0, 0, 0, 0, 0, 1, 0, 1, 0, 1, 0, 1, 0, 1, 0, 0, 0, 0, 1, 1, 1, 1, 0, 0, 0, 1, 0, 0, 1, 0, 0, 1, 0, 1, 1, 1, 0, 1, 0, 1, 1, 1, 0, 0, 0, 1, 1, 0, 0, 0, 0, 0, 0, 1, 0, 1, 1, 1, 0, 0, 0, 0, 1, 1, 0, 1, 1, 0, 0, 0, 0, 0, 1, 1, 1, 0, 1, 1, 0, 0, 1, 0, 1, 1, 1, 0, 1, 0, 0, 0, 1, 0, 1, 1, 1, 0, 1, 0, 1, 0, 1, 1, 1, 0, 0, 0, 0, 1, 0, 1, 1, 1, 0, 1, 1, 0, 0, 1, 0, 0, 0, 1, 1, 0, 1, 1, 0, 1, 0, 1, 1, 0, 1, 0, 0, 0, 0, 1, 0, 0, 0, 0, 0, 0, 0, 1, 0, 1, 0, 1, 1, 0, 0, 1, 0, 1, 1, 1, 0, 0, 1, 0, 0, 0, 1, 0, 0, 0, 1, 0, 1, 1, 0, 1, 1, 0, 1, 0, 0, 1, 0, 1, 0, 1, 1, 0, 1, 1, 1, 1, 0, 0, 0, 0, 1, 1, 0, 1, 0, 1, 1, 0, 1, 0, 0, 0, 1, 1, 0, 0, 1, 0, 0, 0, 0, 1, 1, 1, 1, 1, 1, 0, 0, 1, 1, 0, 1, 0, 1, 0, 1, 1, 0, 0, 0, 1, 0, 1, 0, 0, 0, 1, 1, 1, 0, 0, 0, 0, 1, 0, 1, 1, 0, 0, 1, 1, 0, 1, 0, 0, 0, 0, 1, 0, 0, 0, 0, 1, 1, 0, 0, 1, 1, 0, 1, 1, 1, 1, 0, 0, 0, 1, 1, 1, 0, 0, 0, 1, 1, 1, 0, 0, 1, 0, 1, 0, 1, 0, 0, 0, 1, 0, 0, 0, 1, 1, 0, 0, 0, 1, 1, 0, 0, 1, 0, 0, 0, 0, 0, 0, 0, 0, 1, 1, 0, 0, 1, 0, 1, 0, 1, 0, 0, 1, 0, 0, 0, 1, 1, 0, 0, 1, 1, 1, 0, 1, 0, 1, 0, 0, 0, 1, 0, 0, 1, 0, 1, 1, 0, 0, 1, 0, 1, 1, 1, 0, 1, 1, 1, 0, 0, 1, 1, 0, 1, 0, 1, 0, 0, 0, 0, 0, 0, 0, 1, 1, 1, 0, 0, 0, 1, 0, 1, 1, 0, 0, 0, 1, 1, 0, 0, 1, 0, 0, 1, 0, 0, 1, 1, 0, 0, 0, 0, 0, 0, 1, 0, 1, 0, 0, 0, 0, 1, 1, 0, 0, 0, 1, 0, 1, 1, 0, 1, 0, 1, 1, 1, 0, 0, 1, 1, 0, 0, 0, 0, 1, 0, 1, 0, 1, 1, 0, 1, 0, 1, 1, 0, 1, 1, 1, 1, 1, 1, 1, 1, 0, 1, 1, 0, 1, 0, 1, 1, 0, 0, 0, 0, 0, 0, 0, 1, 1, 0, 1, 0, 1, 0, 0, 1, 0, 0, 1, 0, 0, 1, 0, 1, 0, 0, 1, 1, 1, 1, 1, 1, 0, 0, 1, 1, 0, 1, 0, 0, 0, 0, 0, 0, 1, 1, 0, 0, 1, 1, 0, 1, 0, 1, 1, 1, 1, 0, 0, 1, 0, 1, 1, 0, 1, 1, 0, 1, 0, 1, 1, 0, 1, 0, 1, 1, 0, 1, 0, 1, 1, 0, 0, 1, 1, 1, 0, 0, 1, 1, 1, 0, 0, 1, 1, 0, 1, 1, 1, 1, 1, 0, 0, 0, 0, 0, 1, 1, 0, 0, 0, 1, 1, 0, 0, 0, 0, 1, 0, 1, 1, 0, 1, 1, 0, 0, 0, 0, 0, 0, 0, 0, 0, 1, 0, 0, 0, 0, 0, 0, 1, 1, 1, 1, 0, 0, 0, 0, 0, 0, 1, 1, 1, 1, 0, 0, 0, 0, 0, 1, 1, 1, 0, 1, 1, 1, 0, 1, 0, 0, 1, 0, 1, 1, 0, 1, 1, 1, 0, 0, 0, 1, 0, 0, 0, 1, 0, 1, 1, 1, 1, 1, 0, 0, 1, 1, 0, 0, 1, 0, 1, 0, 1, 0, 0, 1, 0, 1, 0, 0, 0, 0, 1, 0, 1, 0, 1, 0, 1, 0, 0, 0, 1, 0, 0, 0, 0, 1, 1, 0, 0, 0, 0, 1, 1, 0, 1, 0, 0, 1, 0, 0, 1, 0, 0, 1, 1, 0, 1, 0, 0, 1, 1, 1, 0, 1, 0, 0, 1, 0, 1, 1, 1, 1, 1, 0, 1, 1, 0, 1, 1, 0, 1, 0, 0, 0, 0, 0, 1, 1, 0, 1, 1, 1, 0, 1, 0, 0, 0, 1, 0, 0, 1, 0, 1, 0, 0, 1, 1, 1, 1, 0, 0, 0, 0, 1, 1, 1, 1, 1, 1, 1, 0, 0, 1, 1, 0, 1, 0, 1, 0, 1, 0, 0, 0, 0, 1, 1, 1, 1, 0, 0, 0, 0, 0, 0, 0, 0, 1, 0, 0, 0, 1, 1, 0, 0, 0, 0, 0, 1, 0, 0, 1, 1, 0, 1, 0, 0, 1, 1, 1, 1, 0, 0, 0, 0, 1, 1, 1, 0, 1, 1, 1, 1, 1, 0, 1, 0, 0, 0, 0, 1, 0, 1, 0, 1, 0, 1, 1, 1, 1, 1, 1, 1, 0, 1, 1, 1, 1, 1, 1, 1, 0, 0, 0, 1, 1, 0, 1, 1, 0, 0, 0, 1, 0, 0, 1, 0, 1, 0, 0, 1, 1, 0, 1, 1, 1, 0, 0, 1, 1, 0, 1, 1, 1, 1, 0, 1, 1, 0, 1, 0, 0, 0, 1, 0, 0, 1, 1, 1, 1, 1, 1, 0, 0, 0, 0, 0, 1, 1, 1, 0, 0, 1, 0, 0, 0, 0, 1, 1, 0, 0, 0, 1, 0, 1, 0, 0, 1, 1, 1, 1, 0, 1, 0, 1, 1, 1, 1, 1, 1, 0, 0, 0, 1, 1, 1, 0, 1, 1, 0, 0, 0, 0, 1, 0, 1, 0, 1, 1, 1, 1, 0, 1, 0, 0, 1, 0, 1, 1, 1, 1, 0, 1, 1, 1, 0, 1, 0, 0, 1, 0, 1, 0, 1, 0, 0, 0, 0, 1, 1, 0, 0, 0, 1, 0, 1, 0, 0, 0, 1, 1, 1, 1, 1, 0, 1, 0, 1, 0, 1, 0, 1, 1, 1, 0, 1, 1, 0, 0, 0, 1, 1, 1, 1, 1, 1, 0, 1, 1, 0, 0, 0, 1, 1, 1, 1, 1, 1, 1, 0, 0, 0, 1, 1, 0, 1, 1, 0, 0, 0, 0, 0, 1, 1, 1, 1, 1, 0, 0, 0, 1, 1, 0, 0, 1, 1, 1, 1, 0, 0, 0, 1, 0, 1, 0, 0, 1, 1, 1, 1, 1, 0, 0, 0, 0, 0, 0, 0, 1, 0, 0, 1, 0, 0, 0, 0, 0, 1, 0, 0, 1, 0, 1, 0, 1, 1, 0, 0, 0, 0, 0, 0, 1, 0, 0, 1, 0, 0, 1, 0, 0, 0, 1, 1, 1, 0, 0, 1, 0, 1, 1, 0, 0, 0, 0, 1, 0, 1, 0, 1, 0, 0, 1, 0, 1, 1, 1, 0, 0, 1, 0, 0, 1, 1, 1, 1, 1, 0, 1, 0, 0, 1, 1, 0, 0, 1, 1, 0, 1, 1, 0, 1, 1, 1, 0, 0, 0, 1, 0, 1, 0, 0, 0, 0, 1, 1, 1, 1, 1, 0, 1, 0, 0, 1, 1, 0, 1, 0, 1, 1, 0, 1, 0, 1, 0, 0, 0, 0, 0, 1, 1, 1, 1, 0, 0, 1, 1, 0, 1, 1, 0, 0, 0, 0, 1, 0, 0, 1, 0, 1, 0, 1, 1, 1, 0, 1, 1, 1, 0, 0, 1, 1, 1, 1, 1, 0, 0, 0, 1, 0, 1, 0, 1, 1, 1, 0, 1, 0, 0, 1, 0, 0, 0, 0, 1, 0, 1, 0, 1, 1, 0, 0, 1, 1, 1, 0, 1, 0, 1, 0, 0, 1, 0, 1, 0, 1, 0, 1, 0, 0, 1, 1, 1, 1, 0, 1, 0, 0, 1, 1, 0, 0, 0, 0, 1, 0, 1, 0, 0, 0, 1, 1, 0, 0, 1, 0, 0, 1, 1, 1, 1, 1, 0, 0, 1, 0, 1, 0, 0, 0, 0, 0, 1, 0, 1, 0, 0, 1, 1, 1, 0, 1, 1, 0, 0, 0, 0, 0, 1, 0, 0, 1, 1, 0, 0, 1, 1, 0, 1, 0, 1, 1, 1, 0, 0, 0, 1, 0, 0, 1, 0, 1, 1, 0, 0, 1, 0, 1, 1, 0, 1, 0, 0, 1, 1, 0, 0, 1, 0, 0, 1, 0, 1, 1, 1, 0, 0, 0, 0, 1, 1, 0, 0, 0, 0, 1, 0, 1, 1, 1, 1, 0, 0, 1, 0, 1, 1, 1, 1, 0, 1, 1, 1, 1, 1, 1, 1, 1, 1, 0, 0, 0, 1, 1, 0, 0, 0, 1, 0, 0, 0, 0, 0, 0, 0, 1, 1, 0, 1, 0, 0, 1, 0, 0, 0, 1, 1, 1, 1, 0, 1, 0, 0, 1, 1, 1, 1, 1, 1, 1, 0, 0, 0, 0, 1, 1, 0, 0, 1, 0, 1, 0, 0, 1, 0, 0, 1, 0, 0, 1, 0, 1, 0, 1, 0, 1, 0, 0, 1, 1, 1, 0, 1, 1, 1, 1, 0, 1, 0, 1, 1, 0, 1, 1, 1, 1, 0, 1, 0, 1, 0, 0, 1, 0, 1, 0, 0, 1, 1, 1, 1, 1, 1, 0, 1, 1, 0, 1, 0, 0, 1, 1, 0, 0, 0, 0, 1, 0, 1, 1, 1, 0, 1, 0, 1, 1, 0, 1, 1, 0, 1, 1, 1, 1, 0, 1, 0, 1, 0, 0, 0, 0, 1, 1, 0, 0, 0, 0, 0, 1, 1, 1, 0, 1, 0, 1, 1, 1, 1, 0, 0, 1, 1, 0, 1, 0, 1, 0, 0, 1, 1, 0, 1, 0, 0, 0, 1, 0, 0, 0, 1, 1, 0, 1, 0, 0, 1, 0, 0, 0, 0, 0, 1, 1, 0, 0, 1, 0, 0, 0, 0, 0, 1, 0, 1, 0, 0, 1, 1, 1, 0, 1, 0, 1, 0, 0, 1, 1, 0, 0, 0, 0, 0, 1, 0, 0, 0, 1, 1, 0, 1, 1, 0, 1, 1, 1, 0, 1, 1, 0, 1, 1, 1, 0, 0, 1, 1, 1, 0, 0, 1, 0, 1, 1, 0, 0, 1, 0, 0, 0, 0, 1, 1, 1, 1, 1, 0, 0, 1, 0, 1, 0, 0, 0, 1, 1, 1, 1, 1, 1, 0, 0, 1, 0, 0, 0, 0, 1, 0, 0, 0, 0, 1, 1, 1, 1, 0, 0, 0, 1, 1, 0, 1, 0, 0, 1, 1, 0, 0, 0, 0, 1, 0, 1, 0, 0, 1, 0, 0, 0, 0, 1, 0, 1, 1, 1, 0, 1, 0, 0, 0, 0, 1, 1, 1, 1, 0, 1, 1, 1, 1, 0, 1, 1, 0, 0, 1, 0, 1, 1, 0, 0, 0, 0, 0, 0, 0, 1, 1, 0, 0, 0, 0, 1, 1, 1, 1, 1, 1, 0, 0, 0, 0, 0, 0, 1, 0, 0, 1, 1, 1, 0, 1, 1, 0, 0, 1, 1, 0, 1, 0, 1, 1, 0, 0, 1, 0, 1, 1, 0, 1, 1, 1, 0, 0, 0, 1, 0, 1, 1, 0, 0, 1, 1, 1, 0, 1, 1, 0, 0, 1, 0, 0, 0, 1, 0, 0, 1, 1, 1, 1, 0, 1, 1, 0, 0, 0, 1, 1, 0, 1, 0, 0, 0, 1, 1, 1, 0, 1, 0, 0, 0, 1, 0, 0, 0, 0, 0, 1, 1, 0, 1, 0, 0, 0, 1, 0, 1, 0, 1, 0, 0, 0, 0, 0, 1, 0, 1, 0, 0, 1, 1, 0, 1, 1, 1, 1, 0, 1, 0, 0, 0, 1, 0, 0, 1, 1, 1, 1, 1, 0, 1, 0, 0, 1, 0, 1, 0, 0, 1, 0, 0, 0, 0, 1, 1, 0, 1, 0, 1, 1, 0, 1, 1, 1, 1, 0, 1, 0, 0, 0, 0, 0, 1, 1, 1, 1, 0, 0, 0, 0, 1, 1, 1, 0, 1, 1, 1, 0, 1, 0, 0, 0, 1, 0, 1, 0, 1, 0, 1, 1, 0, 0, 0, 0, 1, 1, 0, 0, 0, 1, 0, 0, 0, 0, 0, 0, 0, 0, 0, 0, 1, 0, 1, 1, 0, 1, 0, 1, 0, 0, 0, 0, 1, 1, 1, 1, 1, 1, 1, 0, 0, 1, 1, 1, 0, 1, 0, 1, 1, 0, 1, 0, 0, 0, 1, 1, 0, 0, 1, 0, 1, 1, 1, 1, 1, 1, 1, 0, 0, 1, 0, 1, 1, 1, 0, 1, 1, 0, 0, 0, 0, 1, 0, 0, 0, 0, 0, 0, 1, 1, 1, 0, 0, 1, 0, 1, 1, 0, 0, 1, 1, 0, 0, 1, 0, 1, 0, 1, 1, 1, 0, 1, 1, 1, 1, 0, 0, 1, 0, 0, 1, 0, 1, 1, 0, 1, 1, 1, 0, 0, 1, 0, 0, 1, 0, 0, 1, 0, 1, 1, 0, 1, 1, 0, 0, 1, 1, 1, 1, 0, 1, 1, 0, 1, 1, 0, 0, 0, 1, 1, 0, 1, 0, 1, 1, 0, 0, 1, 0, 0, 0, 0, 1, 1, 1, 0, 0, 0, 0, 0, 1, 0, 1, 0, 1, 1, 1, 0, 0, 0, 0, 1, 1, 1, 1, 1, 1, 0, 0, 0, 1, 0, 1, 1, 1, 0, 0, 0, 0, 0, 1, 1, 1, 0, 1, 1, 0, 1, 0, 0, 1, 1, 0, 0, 0, 1, 1, 0, 1, 1, 1, 1, 0, 0, 1, 1, 0, 1, 0, 1, 0, 0, 1, 1, 0, 1, 0, 0, 0, 1, 1, 1, 0, 1, 1, 1, 0, 0, 0, 1, 0, 0, 1, 0, 1, 1, 1, 1, 0, 1, 0, 0, 0, 0, 1, 0, 1, 1, 0, 0, 0, 0, 0, 0, 1, 0, 0, 1, 0, 1, 0, 0, 1, 0, 1, 0, 1, 1, 1, 1, 0, 1, 0, 1, 0, 1, 1, 1, 1, 0, 1, 0, 0, 1, 0, 1, 0, 0, 1, 1, 1, 1, 0, 0, 1, 0, 1, 1, 0, 0, 1, 0, 0, 1, 1, 0, 1, 0, 1, 0, 1, 1, 0, 0, 1, 0, 0, 0, 1, 0, 1, 0, 1, 1, 0, 0, 1, 0, 0, 1, 0, 1, 0, 0, 1, 0, 0, 1, 0, 1, 0, 1, 1, 0, 0, 1, 1, 1, 0, 1, 0, 0, 1, 0, 1, 1, 1, 0, 1, 0, 0, 1, 1, 0, 0, 0, 1, 1, 1, 1, 1, 1, 1, 1, 1, 1, 0, 1, 1, 0, 0, 1, 1, 1, 0, 1, 0, 0, 0, 0, 1, 1, 0, 1, 1, 0, 0, 0, 0, 1, 1, 1, 0, 1, 1, 0, 0, 0, 1, 0, 0, 1, 1, 1, 1, 0, 1, 0, 0, 0, 1, 1, 0, 0, 0, 1, 1, 1, 0, 0, 1, 1, 1, 1, 0, 1, 1, 1, 1, 1, 1, 0, 1, 1, 1, 1, 1, 0, 1, 1, 0, 0, 1, 1, 0, 1, 0, 0, 1, 0, 1, 0, 0, 0, 0, 1, 1, 0, 1, 0, 1, 1, 1, 1, 0, 1, 0, 1, 0, 1, 0, 1, 0, 1, 0, 0, 0, 0, 1, 0, 0, 0, 1, 0, 0, 0, 0, 0, 1, 0, 1, 0, 0, 0, 0, 1, 0, 0, 1, 1, 1, 1, 0, 1, 1, 0, 1, 0, 0, 1, 1, 1, 0, 1, 1, 0, 1, 0, 1, 1, 0, 1, 0, 0, 1, 1, 0, 1, 0, 1, 1, 1, 1, 0, 1, 0, 1, 1, 0, 0, 1, 1, 0, 1, 0, 0, 0, 0, 0, 1, 1, 1, 0, 0, 0, 1, 1, 1, 0, 1, 0, 1, 0, 1, 0, 0, 1, 0, 0, 0, 0, 0, 0, 0, 1, 1, 1, 0, 0, 1, 0, 0, 1, 1, 1, 1, 0, 1, 0, 0, 0, 1, 0, 0, 1, 0, 1, 0, 0, 0, 0, 1, 1, 1, 1, 1, 0, 1, 0, 0, 0, 0, 1, 0, 0, 1, 1, 1, 1, 0, 0, 0, 0, 1, 1, 0, 1, 0, 1, 1, 1, 0, 0, 0, 1, 1, 0, 0, 0, 1, 1, 1, 1, 1, 0, 1, 0, 0, 1, 1, 1, 0, 0, 1, 1, 0, 1, 1, 0, 1, 1, 1, 0, 0, 0, 0, 0, 0, 0, 1, 1, 1, 0, 1, 0, 1, 0, 1, 0, 1, 0, 1, 0, 0, 0, 0, 1, 1, 0, 1, 1, 1, 1, 0, 1, 0, 0, 0, 0, 0, 1, 0, 1, 0, 1, 1, 1, 0, 0, 1, 1, 0, 0, 0, 1, 0, 0, 0, 1, 1, 0, 1, 1, 0, 0, 1, 1, 1, 0, 1, 0, 1, 1, 0, 1, 1, 0, 1, 1, 0, 0, 1, 1, 0, 0, 1, 1, 1, 0, 0, 1, 0, 0, 0, 1, 1, 1, 1, 0, 1, 1, 1, 1, 0, 0, 1, 0, 1, 1, 1, 1, 0, 1, 0, 0, 1, 0, 1, 1, 0, 1, 1, 0, 0, 0, 1, 0, 0, 0, 1, 0, 0, 0, 1, 1, 0, 0, 0, 1, 0, 1, 1, 0, 1, 0, 0, 0, 1, 1, 0, 0, 1, 0, 0, 0, 0, 0, 1, 0, 1, 0, 1, 1, 0, 0, 1, 0, 1, 1, 1, 1, 1, 0, 0, 1, 0, 0, 0, 1, 0, 1, 1, 0, 0, 0, 1, 1, 0, 1, 1, 1, 1, 1, 0, 0, 1, 1, 0, 0, 1, 0, 0, 1, 1, 1, 1, 0, 0, 1, 0, 1, 0, 0, 0, 0, 1, 0, 1, 1, 1, 0, 0, 0, 1, 0, 1, 0, 0, 1, 0, 0, 1, 1, 0, 1, 0, 0, 0, 1, 1, 1, 0, 0, 1, 0, 1, 1, 0, 0, 1, 1, 1, 0, 1, 1, 1, 0, 1, 0, 0, 1, 1, 1, 0, 0, 1, 1, 0, 0, 1, 0, 1, 1, 0, 0, 1, 0, 1, 1, 0, 0, 0, 1, 1, 1, 0, 1, 0, 0, 1, 0, 1, 1, 0, 0, 1, 1, 0, 1, 1, 1, 0, 1, 0, 1, 1, 0, 1, 1, 0, 0, 1, 1, 1, 0, 1, 1, 0, 0, 0, 1, 0, 0, 1, 0, 1, 0, 0, 1, 1, 0, 0, 1, 0, 0, 0, 1, 0, 1, 1, 1, 1, 1, 1, 0, 1, 1, 1, 1, 0, 0, 1, 0, 1, 0, 0, 1, 0, 0, 0, 0, 1, 1, 0, 0, 0, 1, 1, 0, 0, 0, 0, 1, 1, 1, 1, 0, 1, 1, 1, 0, 1, 0, 1, 0, 0, 0, 1, 0, 1, 0, 0, 0, 0, 0, 1, 1, 0, 1, 0, 1, 1, 1, 1, 0, 0, 0, 0, 0, 0, 1, 1, 1, 1, 1, 1, 1, 1, 0, 1, 0, 1, 0, 1, 0, 1, 0, 1, 1, 1, 1, 0, 1, 1, 1, 1, 1, 1, 0, 1, 1, 1, 0, 0, 1, 0, 0, 0, 1, 0, 1, 1, 0, 1, 0, 1, 0, 1, 0, 1, 1, 1, 0, 1, 0, 1, 0, 1, 0, 1, 0, 0, 0, 0, 0, 0, 1, 1, 0, 0, 1, 0, 1, 1, 0, 1, 1, 1, 1, 1, 1, 0, 0, 0, 1, 0, 0, 1, 0, 1, 1, 0, 0, 1, 0, 0, 1, 0, 1, 1, 0, 1, 0, 1, 1, 1, 1, 1, 0, 1, 0, 0, 1, 1, 0, 1, 0, 0, 0, 0, 0, 0, 1, 0, 0, 1, 0, 1, 1, 0, 1, 0, 1, 1, 0, 1, 1, 1, 1, 1, 1, 1, 1, 0, 0, 0, 0, 1, 1, 1, 0, 1, 1, 0, 1, 1, 1, 0, 0, 0, 0, 0, 1, 0, 1, 1, 0, 1, 0, 0, 0, 0, 1, 1, 0, 0, 0, 1, 0, 1, 0, 1, 0, 1, 0, 1, 1, 0, 1, 0, 0, 1, 0, 1, 1, 1, 1, 0, 0, 1, 0, 1, 0, 0, 1, 0, 1, 1, 0, 1, 1, 0, 0, 0, 1, 0, 0, 0, 1, 1, 1, 0, 1, 1, 0, 1, 0, 1, 1, 0, 1, 1, 0, 1, 0, 0, 1, 1, 1, 1, 1, 1, 0, 1, 0, 1, 1, 0, 0, 0, 1, 1, 1, 1, 1, 0, 0, 0, 1, 0, 1, 0, 0, 1, 1, 0, 1, 1, 0, 0, 0, 1, 0, 0, 1, 1, 1, 0, 1, 0, 1, 1, 1, 0, 0, 0, 0, 1, 0, 1, 0, 1, 0, 0, 0, 0, 1, 0, 0, 0, 0, 1, 1, 1, 0, 1, 0, 0, 1, 1, 0, 0, 0, 1, 1, 1, 1, 1, 0, 1, 0, 0, 0, 1, 1, 0, 1, 1, 1, 0, 0, 0, 0, 1, 0, 1, 1, 1, 0, 0, 0, 0, 1, 0, 0, 0, 0, 1, 1, 1, 0, 1, 1, 0, 1, 1, 0, 0, 0, 0, 0, 0, 1, 0, 0, 0, 1, 1, 0, 0, 0, 0, 1, 0, 1, 1, 1, 0, 1, 0, 0, 1, 1, 1, 0, 0, 1, 1, 0, 1, 0, 1, 1, 0, 1, 0, 1, 0, 0, 0, 1, 0, 0, 1, 1, 0, 0, 0, 0, 0, 0, 1, 0, 0, 0, 0, 1, 0, 0, 1, 0, 0, 0, 1, 1, 0, 1, 0, 1, 0, 1, 0, 0, 0, 1, 1, 0, 1, 1, 1, 1, 1, 0, 1, 0, 1, 0, 1, 1, 1, 0, 1, 1, 1, 0, 1, 1, 1, 0, 1, 1, 0, 0, 0, 1, 0, 1, 1, 1, 0, 0, 1, 0, 0, 0, 0, 0, 1, 1, 1, 0, 0, 1, 1, 1, 1, 1, 1, 0, 1, 0, 0, 1, 1, 0, 1, 0, 1, 0, 0, 1, 0, 0, 1, 0, 1, 0, 1, 1, 0, 0, 1, 1, 1, 0, 1, 1, 0, 0, 0, 0, 1, 0, 0, 1, 0, 1, 1, 1, 0, 1, 1, 0, 0, 1, 0, 1, 0, 1, 1, 1, 1, 0, 0, 0, 1, 0, 1, 0, 1, 0, 0, 1, 0, 0, 1, 1, 1, 1, 1, 0, 1, 0, 1, 0, 1, 0, 0, 0, 0, 1, 1, 1, 1, 0, 0, 1, 0, 1, 1, 1, 0, 0, 1, 1, 0, 0, 1, 0, 1, 0, 0, 0, 1, 1, 0, 1, 1, 0, 1, 0, 0, 0, 1, 0, 0, 0, 0, 1, 0, 1, 1, 1, 0, 0, 1, 0, 0, 1, 0, 1, 1, 0, 1, 1, 0, 0, 0, 0, 0, 0, 0, 0, 0, 1, 1, 0, 0, 1, 0, 0, 0, 1, 0, 1, 1, 0, 0, 1, 0, 0, 0, 0, 0, 0, 0, 0, 0, 0, 0, 1, 1, 0, 0, 1, 1, 0, 1, 0, 1, 0, 0, 0, 1, 1, 0, 0, 0, 1, 1, 0, 1, 0, 1, 0, 1, 1, 0, 1, 1, 0, 0, 0, 0, 1, 0, 1, 0, 1, 0, 1, 0, 1, 0, 1, 0, 0, 1, 1, 0, 0, 0, 1, 1, 1, 0, 1, 0, 1, 0, 1, 0, 1, 1, 0, 0, 0, 0, 1, 1, 0, 1, 0, 0, 1, 0, 1, 0, 1, 0, 0, 0, 1, 1, 0, 1, 1, 1, 0, 1, 1, 1, 0, 1, 1, 0, 1, 1, 0, 1, 1, 0, 1, 1, 1, 1, 1, 1, 1, 0, 0, 0, 0, 0, 0, 1, 0, 0, 1, 1, 1, 1, 1, 0, 1, 1, 0, 0, 1, 1, 0, 0, 0, 1, 0, 1, 1, 0, 0, 0, 1, 0, 1, 0, 1, 0, 1, 0, 0, 1, 1, 0, 0, 1, 0, 1, 0, 0, 1, 0, 1, 1, 0, 1, 1, 0, 0, 1, 1, 0, 0, 0, 1, 0, 1, 0, 0, 1, 1, 1, 0, 0, 1, 0, 1, 0, 1, 1, 1, 0, 0, 0, 1, 0, 1, 1, 0, 0, 1, 0, 0, 0, 1, 0, 0, 1, 0, 1, 1, 0, 0, 0, 1, 0, 0, 0, 1, 0, 0, 0, 1, 1, 0, 1, 1, 0, 0, 1, 1, 1, 1, 0, 0, 1, 1, 1, 0, 0, 1, 0, 0, 0, 1, 0, 0, 1, 1, 1, 0, 0, 1, 0, 1, 1, 0, 0, 1, 1, 1, 0, 0, 1, 0, 0, 1, 1, 0, 1, 1, 0, 1, 0, 1, 0, 1, 1, 0, 1, 0, 1, 0, 1, 1, 1, 1, 1, 0, 0, 0, 1, 0, 1, 0, 1, 1, 0, 1, 0, 0, 1, 0, 1, 1, 1, 0, 0, 1, 0, 1, 0, 1, 1, 0, 0, 1, 0, 0, 1, 0, 1, 0, 0, 0, 0, 1, 1, 0, 0, 0, 0, 1, 1, 1, 0, 1, 0, 1, 0, 0, 1, 1, 1, 1, 1, 0, 0, 0, 1, 0, 1, 1, 1, 1, 0, 0, 1, 1, 0, 1, 0, 1, 0, 1, 1, 0, 0, 0, 1, 1, 0, 1, 0, 0, 1, 1, 1, 1, 1, 0, 0, 0, 1, 0, 1, 1, 0, 1, 0, 0, 1, 0, 0, 0, 0, 0, 1, 0, 1, 1, 0, 1, 1, 1, 0, 1, 0, 0, 1, 1, 1, 1, 0, 0, 1, 1, 0, 0, 0, 0, 0, 1, 1, 0, 0, 1, 1, 1, 0, 0, 1, 0, 0, 1, 0, 0, 0, 1, 0, 0, 1, 1, 1, 1, 1, 0, 1, 0, 1, 0, 1, 0, 0, 0, 1, 0, 0, 0, 0, 0, 0, 1, 1, 1, 1, 1, 0, 1, 1, 0, 1, 1, 0, 1, 0, 1, 1, 0, 0, 0, 1, 0, 1, 0, 0, 0, 0, 1, 1, 1, 1, 1, 1, 0, 0, 0, 1, 1, 0, 0, 1, 1, 1, 1, 0, 0, 0, 1, 1, 0, 0, 0, 1, 0, 1, 1, 1, 1, 0, 0, 1, 0, 1, 0, 1, 1, 0, 0, 1, 0, 0, 0, 0, 1, 0, 0, 0, 1, 1, 0, 0, 0, 1, 0, 1, 0, 0, 1, 0, 0, 1, 0, 1, 0, 1, 1, 1, 0, 0, 0, 0, 1, 0, 1, 1, 1, 1, 1, 1, 1, 1, 0, 0, 1, 1, 0, 0, 1, 0, 1, 1, 0, 0, 1, 1, 0, 0, 0, 1, 0, 1, 1, 0, 0, 1, 1, 0, 1, 1, 1, 0, 0, 0, 1, 1, 1, 0, 1, 0, 1, 0, 1, 0, 1, 0, 0, 1, 0, 0, 1, 0, 1, 1, 1, 0, 0, 0, 1, 0, 0, 1, 0, 1, 1, 1, 0, 1, 1, 1, 1, 1, 1, 0, 1, 1, 1, 0, 1, 1, 0, 0, 1, 1, 0, 0, 0, 1, 0, 0, 1, 1, 0, 1, 1, 1, 0, 0, 1, 0, 1, 0, 1, 0, 0, 1, 1, 0, 0, 0, 0, 0, 1, 1, 0, 0, 0, 0, 1, 1, 0, 1, 1, 0, 1, 0, 0, 1, 1, 1, 0, 1, 0, 1, 1, 0, 0, 1, 0, 0, 1, 0, 1, 0, 1, 1, 1, 0, 0, 0, 1, 0, 1, 0, 1, 1, 1, 0, 1, 0, 0, 0, 0, 0, 0, 1, 1, 1, 0, 0, 0, 0, 1, 1, 0, 1, 0, 1, 1, 1, 0, 1, 1, 0, 0, 1, 0, 1, 1, 0, 0, 0, 0, 0, 1, 0, 1, 0, 0, 1, 0, 1, 0, 0, 0, 1, 0, 1, 0, 1, 0, 1, 0, 1, 1, 0, 1, 0, 1, 1, 0, 0, 0, 0, 0, 0, 1, 1, 1, 1, 0, 1, 0, 0, 1, 0, 0, 0, 0, 0, 0, 1, 0, 1, 1, 1, 1, 0, 1, 1, 1, 1, 1, 1, 1, 1, 0, 0, 1, 0, 1, 1, 0, 1, 0, 1, 1, 1, 0, 0, 1, 1, 0, 1, 1, 1, 1, 0, 0, 1, 1, 1, 1, 0, 1, 1, 1, 0, 1, 1, 1, 0, 1, 1, 0, 1, 0, 1, 1, 1, 0, 0, 0, 1, 1, 0, 0, 1, 1, 0, 0, 1, 1, 0, 1, 1, 1, 0, 0, 1, 1, 1, 1, 1, 1, 1, 0, 0, 0, 1, 0, 1, 0, 1, 0, 1, 1, 1, 1, 0, 0, 0, 1, 0, 1, 0, 0, 1, 1, 0, 0, 0, 1, 1, 0, 0, 0, 1, 0, 0, 0, 1, 0, 0, 0, 1, 1, 0, 1, 1, 0, 0, 0, 0, 1, 1, 0, 1, 0, 1, 0, 1, 0, 1, 1, 0, 1, 0, 0, 1, 1, 1, 0, 0, 0, 0, 0, 0, 1, 0, 1, 1, 1, 1, 0, 0, 1, 1, 1, 0, 0, 1, 0, 1, 1, 0, 1, 0, 0, 0, 0, 0, 1, 1, 0, 0, 1, 0, 1, 0, 0, 0, 0, 1, 1, 0, 0, 0, 0, 0, 1, 1, 1, 0, 0, 1, 1, 1, 0, 1, 1, 0, 0, 0, 0, 0, 1, 1, 1, 1, 0, 1, 0, 1, 0, 1, 0, 1, 0, 1, 0, 0, 1, 1, 1, 1, 0, 0, 1, 0, 1, 1, 1, 1, 0, 0, 1, 0, 1, 0, 0, 0, 1, 1, 0, 1, 1, 0, 1, 0, 0, 0, 1, 1, 0, 1, 0, 1, 1, 0, 0, 1, 0, 0, 0, 0, 0, 1, 1, 1, 1, 0, 0, 1, 1, 1, 1, 1, 1, 1, 1, 1, 0, 0, 0, 0, 0, 0, 1, 1, 1, 1, 0, 0, 1, 0, 1, 1, 1, 1, 0, 0, 1, 0, 1, 0, 0, 0, 0, 0, 1, 0, 0, 1, 0, 1, 1, 0, 0, 1, 0, 1, 1, 1, 1, 1, 1, 1, 1, 1, 1, 1, 0, 1, 1, 0, 1, 1, 0, 0, 1, 1, 1, 1, 0, 0, 1, 0, 0, 1, 0, 1, 0, 0, 0, 1, 0, 1, 1, 1, 0, 1, 0, 0, 0, 1, 0, 0, 1, 0, 0, 1, 1, 0, 1, 0, 1, 1, 0, 1, 1, 1, 1, 0, 0, 1, 1, 1, 1, 1, 0, 1, 0, 1, 0, 0, 0, 1, 1, 0, 1, 1, 1, 1, 0, 0, 1, 1, 0, 0, 1, 1, 0, 1, 0, 1, 1, 1, 1, 1, 0, 1, 1, 0, 1, 1, 0, 0, 1, 0, 1, 0, 0, 0, 1, 0, 0, 0, 0, 1, 1, 1, 0, 1, 0, 1, 1, 0, 0, 1, 0, 0, 1, 0, 0, 0, 1, 0, 1, 1, 0, 1, 1, 0, 1, 0, 0, 0, 0, 1, 1, 0, 1, 1, 1, 1, 1, 1, 0, 1, 1, 1, 1, 0, 0, 0, 1, 0, 0, 0, 0, 1, 1, 0, 1, 0, 1, 0, 0, 1, 0, 0, 0, 1, 0, 0, 1, 0, 1, 0, 1, 0, 0, 0, 0, 1, 0, 0, 0, 1, 0, 1, 1, 0, 0, 0, 0, 1, 0, 1, 1, 1, 1, 0, 1, 1, 1, 0, 1, 1, 1, 0, 0, 0, 0, 1, 0, 0, 1, 1, 0, 1, 1, 1, 0, 1, 1, 0, 0, 1, 0, 0, 0, 1, 0, 0, 1, 1, 0, 1, 1, 0, 1, 0, 0, 1, 0, 0, 0, 1, 0, 1, 1, 0, 1, 0, 1, 1, 1, 1, 1, 1, 0, 0, 0, 1, 0, 1, 1, 0, 1, 1, 1, 1, 0, 0, 1, 0, 0, 0, 1, 0, 1, 0, 0, 1, 0, 0, 1, 1, 1, 0, 0, 0, 1, 0, 1, 0, 1, 0, 1, 1, 1, 0, 1, 1, 1, 1, 1, 0, 0, 1, 0, 1, 0, 0, 0, 0, 1, 0, 1, 0, 0, 1, 0, 1, 0, 0, 1, 1, 1, 1, 0, 0, 0, 0, 0, 0, 1, 0, 0, 0, 1, 0, 0, 1, 0, 1, 1, 0, 0, 1, 0, 1, 0, 0, 0, 0, 0, 1, 1, 0, 0, 0, 0, 0, 0, 1, 1, 1, 1, 0, 1, 0, 0, 1, 0, 0, 1, 1, 0, 1, 0, 1, 0, 1, 0, 1, 1, 0, 0, 0, 0, 1, 1, 0, 0, 0, 0, 1, 0, 0, 0, 1, 0, 0, 1, 0, 0, 0, 1, 1, 1, 1, 1, 0, 0, 1, 0, 1, 1, 1, 1, 0, 0, 1, 0, 0, 1, 0, 0, 1, 0, 0, 0, 1, 1, 0, 0, 1, 0, 0, 1, 0, 1, 1, 1, 1, 0, 0, 1, 1, 1, 0, 0, 0, 1, 0, 0, 1, 0, 1, 0, 1, 0, 1, 0, 1, 1, 0, 1, 0, 1, 0, 0, 1, 0, 0, 0, 1, 0, 1, 1, 0, 1, 1, 0, 0, 0, 0, 0, 1, 0, 1, 0, 0, 0, 0, 0, 1, 0, 0, 1, 1, 0, 1, 0, 0, 0, 1, 1, 0, 0, 1, 0, 1, 0, 1, 1, 0, 0, 0, 1, 0, 1, 1, 0, 0, 1, 1, 1, 1, 0, 1, 0, 0, 1, 0, 0, 0, 1, 0, 0, 0, 0, 1, 0, 1, 0, 0, 0, 0, 1, 1, 1, 0, 0, 0, 0, 1, 1, 1, 0, 1, 0, 0, 1, 1, 1, 1, 0, 0, 1, 1, 1, 1, 0, 0, 1, 1, 1, 0, 1, 1, 1, 0, 1, 0, 0, 0, 0, 1, 1, 1, 1, 0, 0, 0, 1, 0, 1, 0, 1, 0, 0, 1, 0, 0, 1, 1, 1, 1, 0, 0, 0, 1, 1, 1, 0, 1, 1, 0, 0, 1, 1, 1, 1, 0, 1, 1, 0, 1, 1, 0, 1, 0, 0, 1, 1, 1, 0, 0, 0, 1, 1, 0, 0, 0, 0, 0, 1, 0, 1, 0, 1, 1, 1, 0, 0, 0, 0, 0, 0, 1, 0, 1, 0, 0, 1, 0, 1, 1, 0, 1, 1, 1, 0, 0, 0, 1, 1, 1, 0, 0, 1, 1, 0, 1, 0, 1, 0, 0, 0, 1, 1, 1, 1, 0, 0, 1, 1, 0, 0, 1, 1, 1, 1, 1, 0, 1, 0, 1, 1, 0, 0, 1, 0, 1, 1, 0, 0, 0, 1, 1, 1, 0, 1, 1, 0, 1, 0, 1, 0, 0, 0, 0, 0, 0, 1, 0, 1, 1, 1, 0, 1, 1, 1, 1, 1, 1, 0, 0, 0, 0, 0, 1, 1, 1, 0, 0, 1, 1, 0, 1, 0, 1, 0, 1, 0, 1, 0, 0, 0, 0, 1, 0, 0, 0, 0, 1, 0, 0, 1, 1, 1, 1, 0, 0, 1, 1, 1, 1, 0, 0, 0, 0, 1, 1, 0, 0, 0, 1, 1, 1, 1, 0, 1, 0, 1, 1, 0, 0, 0, 0, 0, 0, 0, 1, 0, 0, 0, 0, 0, 0, 1, 0, 1, 1, 0, 1, 0, 0, 1, 1, 1, 0, 1, 0, 1, 0, 1, 0, 0, 1, 0, 1, 1, 0, 0, 0, 1, 1, 1, 0, 0, 0, 0, 1, 0, 0, 0, 1, 1, 1, 0, 0, 0, 0, 0, 1, 0, 0, 1, 0, 1, 1, 0, 0, 0, 0, 1, 0, 1, 1, 1, 1, 0, 1, 1, 0, 0, 0, 0, 1, 1, 0, 0, 1, 1, 0, 1, 1, 0, 0, 0, 1, 0, 0, 1, 1, 1, 1, 1, 0, 1, 0, 0, 1, 1, 1, 0, 1, 0, 1, 1, 0, 1, 0, 1, 0, 1, 1, 0, 1, 0, 1, 1, 0, 0, 0, 0, 1, 1, 1, 0, 0, 0, 0, 0, 0, 1, 1, 0, 1, 1, 0, 0, 0, 1, 0, 0, 0, 0, 1, 1, 1, 1, 0, 1, 1, 1, 1, 1, 1, 0, 0, 0, 0, 0, 0, 1, 1, 0, 0, 0, 1, 0, 1, 0, 0, 0, 0, 1, 1, 0, 0, 1, 0, 0, 1, 0, 0, 0, 0, 0, 0, 1, 1, 1, 1, 0, 0, 0, 0, 1, 0, 0, 0, 1, 0, 0, 0, 0, 0, 1, 1, 1, 1, 0, 0, 0, 0, 1, 0, 1, 1, 0, 1, 0, 1, 0, 0, 1, 1, 1, 1, 0, 0, 0, 1, 1, 1, 1, 1, 0, 1, 0, 1, 1, 1, 1, 0, 1, 0, 1, 0, 0, 1, 1, 1, 0, 1, 1, 1, 0, 0, 0, 0, 1, 1, 0, 1, 1, 0, 0, 0, 0, 0, 0, 0, 0, 0, 0, 1, 0, 0, 1, 0, 1, 1, 1, 0, 1, 1, 1, 1, 0, 0, 1, 1, 0, 0, 1, 0, 0, 0, 1, 0, 1, 1, 1, 1, 0, 0, 1, 0, 0, 1, 0, 1, 0, 1, 1, 1, 1, 0, 1, 0, 1, 1, 0, 1, 1, 1, 1, 1, 0, 1, 1, 0, 1, 0, 1, 1, 1, 1, 1, 1, 0, 1, 0, 0, 1, 0, 1, 1, 1, 1, 1, 1, 0, 1, 0, 0, 0, 0, 0, 1, 1, 0, 0, 1, 0, 1, 1, 1, 0, 0, 1, 0, 1, 0, 1, 1, 0, 0, 1, 0, 1, 0, 0, 0, 1, 0, 1, 0, 0, 0, 1, 0, 1, 1, 0, 0, 1, 0, 1, 0, 0, 0, 0, 1, 0, 0, 1, 1, 1, 0, 1, 0, 0, 1, 1, 1, 0, 1, 0, 1, 1, 1, 0, 1, 0, 0, 0, 1, 0, 0, 0, 0, 0, 0, 0, 0, 1, 0, 1, 0, 1, 0, 0, 1, 1, 0, 0, 1, 1, 0, 1, 0, 0, 1, 0, 1, 1, 1, 1, 1, 1, 1, 1, 0, 0, 0, 0, 0, 0, 1, 0, 0, 0, 1, 0, 1, 1, 0, 1, 1, 0, 1, 0, 1, 0, 1, 0, 0, 1, 1, 0, 1, 1, 0, 0, 0, 0, 1, 0, 1, 1, 0, 0, 1, 1, 1, 1, 1, 1, 0, 1, 1, 1, 1, 1, 1, 1, 1, 0, 0, 0, 0, 1, 0, 1, 1, 0, 0, 1, 1, 0, 0, 0, 0, 0, 1, 1, 0, 0, 1, 1, 0, 1, 0, 1, 0, 0, 0, 1, 1, 1, 0, 0, 0, 1, 0, 1, 1, 0, 1, 1, 0, 0, 1, 1, 1, 1, 1, 1, 1, 1, 1, 0, 1, 1, 1, 0, 1, 1, 0, 0, 0, 0, 1, 1, 0, 0, 1, 0, 0, 0, 0, 1, 0, 0, 0, 1, 1, 0, 1, 1, 1, 1, 0, 1, 0, 1, 1, 1, 0, 1, 1, 0, 1, 0, 0, 1, 1, 1, 1, 1, 1, 0, 1, 0, 1, 1, 0, 1, 1, 1, 0, 1, 0, 1, 1, 0, 0, 1, 0, 1, 1, 1, 0, 1, 1, 1, 0, 0, 1, 0, 0, 1, 1, 1, 0, 0, 1, 0, 1, 0, 0, 0, 0, 1, 0, 1, 1, 1, 0, 1, 0, 1, 0, 0, 0, 1, 0, 0, 0, 0, 0, 1, 1, 1, 1, 0, 1, 1, 1, 1, 0, 0, 1, 0, 1, 0, 1, 0, 0, 1, 1, 0, 0, 0, 1, 0, 0, 1, 0, 0, 0, 0, 1, 1, 1, 1, 0, 1, 1, 0, 1, 1, 1, 1, 0, 1, 1, 0, 1, 1, 1, 1, 0, 1, 1, 1, 0, 0, 0, 0, 1, 1, 1, 1, 1, 1, 0, 0, 1, 1, 0, 1, 1, 0, 0, 1, 1, 0, 0, 0, 0, 0, 0, 1, 0, 1, 0, 1, 0, 1, 0, 0, 0, 0, 1, 0, 1, 1, 0, 1, 0, 1, 0, 1, 0, 0, 0, 1, 0, 1, 0, 0, 0, 0, 0, 0, 1, 1, 0, 1, 1, 0, 0, 0, 1, 1, 1, 0, 0, 1, 1, 1, 0, 1, 1, 1, 0, 0, 1, 0, 0, 0, 1, 0, 0, 1, 0, 1, 1, 1, 0, 1, 1, 1, 0, 0, 0, 1, 1, 0, 1, 1, 0, 1, 1, 0, 0, 1, 0, 0, 1, 0, 1, 1, 1, 1, 0, 1, 1, 0, 1, 0, 1, 1, 1, 0, 0, 1, 0, 1, 1, 0, 1, 1, 1, 1, 0, 1, 0, 0, 0, 0, 1, 1, 0, 1, 0, 1, 1, 1, 1, 0, 1, 0, 1, 1, 1, 1, 0, 0, 0, 0, 1, 0, 1, 1, 0, 0, 1, 1, 1, 0, 0, 1, 1, 0, 1, 0, 1, 1, 0, 0, 0, 0, 0, 1, 0, 0, 0, 0, 1, 1, 0, 0, 1, 1, 1, 1, 1, 1, 1, 0, 0, 0, 0, 0, 0, 1, 1, 1, 0, 1, 1, 0, 1, 1, 1, 1, 0, 1, 1, 1, 1, 0, 1, 0, 1, 0, 0, 1, 1, 0, 1, 0, 0, 1, 0, 0, 1, 1, 0, 1, 1, 0, 1, 0, 1, 1, 0, 1, 0, 1, 1, 0, 1, 1, 1, 0, 1, 1, 1, 1, 1, 1, 1, 0, 1, 1, 0, 1, 0, 0, 0, 0, 0, 1, 1, 1, 1, 1, 1, 1, 1, 1, 0, 1, 1, 0, 0, 0, 0, 1, 1, 0, 1, 1, 0, 0, 1, 0, 1, 1, 1, 0, 1, 1, 1, 1, 0, 1, 1, 1, 1, 1, 1, 0, 0, 0, 1, 1, 1, 0, 1, 1, 1, 1, 1, 0, 0, 0, 1, 1, 1, 1, 1, 1, 0, 0, 0, 1, 0, 1, 0, 1, 1, 0, 1, 1, 1, 0, 1, 1, 1, 0, 1, 0, 0, 1, 1, 1, 1, 0, 0, 0, 0, 1, 1, 1, 0, 1, 0, 1, 1, 0, 1, 1, 0, 0, 0, 0, 1, 0, 1, 1, 1, 0, 0, 0, 1, 0, 1, 0, 0, 0, 0, 1, 0, 0, 1, 0, 0, 0, 1, 0, 1, 0, 1, 1, 1, 0, 1, 0, 0, 0, 0, 1, 1, 1, 0, 1, 0, 1, 0, 1, 1, 0, 1, 0, 1, 0, 1, 1, 0, 1, 1, 0, 1, 1, 1, 1, 0, 0, 1, 1, 1, 1, 1, 0, 1, 0, 0, 1, 0, 1, 0, 1, 1, 0, 1, 0, 0, 0, 1, 0, 1, 1, 0, 0, 1, 0, 0, 1, 1, 1, 0, 0, 0, 1, 1, 1, 1, 1, 0, 1, 0, 1, 0, 1, 0, 0, 0, 0, 1, 0, 0, 1, 0, 1, 0, 1, 0, 1, 0, 1, 1, 0, 1, 0, 1, 1, 0, 0, 0, 1, 1, 0, 1, 0, 0, 0, 1, 0, 1, 1, 0, 0, 0, 0, 0, 0, 0, 0, 1, 1, 0, 1, 0, 0, 0, 1, 0, 0, 1, 0, 0, 1, 0, 0, 1, 0, 0, 0, 1, 0, 0, 0, 1, 1, 1, 0, 1, 1, 0, 1, 1, 1, 0, 1, 0, 1, 0, 0, 0, 0, 1, 1, 1, 0, 0, 1, 1, 1, 0, 0, 1, 1, 1, 1, 0, 0, 0, 0, 1, 0, 0, 1, 0, 0, 1, 0, 1, 1, 0, 1, 1, 1, 1, 1, 0, 0, 0, 0, 1, 1, 0, 0, 0, 1, 1, 0, 1, 0, 1, 1, 0, 0, 0, 1, 1, 1, 0, 0, 0, 0, 0, 0, 0, 1, 0, 1, 1, 1, 1, 1, 1, 1, 1, 1, 1, 0, 1, 0, 0, 0, 0, 0, 1, 0, 1, 1, 0, 0, 0, 0, 1, 0, 1, 0, 1, 0, 0, 1, 1, 0, 1, 1, 1, 0, 0, 0, 1, 1, 1, 1, 1, 0, 0, 0, 0, 1, 1, 0, 0, 1, 0, 1, 0, 0, 1, 0, 1, 1, 1, 1, 0, 1, 1, 0, 0, 0, 1, 1, 1, 0, 1, 1, 1, 0, 1, 0, 1, 1, 1, 0, 1, 0, 1, 1, 0, 1, 0, 1, 1, 1, 1, 0, 0, 0, 0, 1, 0, 1, 0, 0, 1, 1, 1, 1, 0, 0, 1, 1, 1, 1, 0, 0, 0, 1, 0, 0, 1, 1, 1, 0, 1, 1, 0, 0, 1, 1, 1, 0, 1, 1, 0, 1, 0, 1, 1, 0, 1, 0, 1, 0, 1, 1, 0, 0, 0, 1, 1, 1, 1, 0, 1, 1, 1, 1, 1, 0, 0, 1, 1, 0, 1, 1, 0, 1, 0, 0, 1, 0, 1, 1, 1, 0, 0, 0, 0, 1, 0, 0, 0, 0, 1, 0, 1, 0, 1, 1, 0, 1, 1, 0, 0, 0, 1, 0, 0, 1, 0, 0, 0, 0, 1, 1, 0, 0, 0, 1, 1, 1, 0, 0, 1, 1, 0, 0, 0, 0, 0, 1, 1, 1, 1, 1, 1, 1, 0, 0, 1, 0, 0, 0, 1, 0, 1, 1, 1, 0, 0, 1, 0, 0, 0, 1, 0, 0, 1, 0, 1, 0, 1, 1, 0, 0, 0, 0, 1, 1, 0, 0, 1, 0, 1, 0, 1, 0, 0, 1, 1, 1, 0, 0, 0, 0, 0, 1, 0, 0, 0, 1, 1, 1, 0, 1, 0, 0, 0, 1, 1, 0, 0, 0, 0, 0, 1, 1, 0, 0, 0, 1, 0, 1, 1, 0, 1, 0, 1, 0, 1, 1, 0, 0, 0, 0, 0, 0, 0, 0, 0, 1, 0, 1, 1, 0, 0, 1, 0, 1, 1, 0, 1, 1, 1, 1, 0, 1, 1, 0, 1, 0, 1, 1, 0, 1, 1, 1, 1, 0, 0, 1, 0, 1, 0, 0, 1, 1, 1, 1, 1, 0, 1, 1, 0, 1, 0, 0, 0, 1, 1, 1, 0, 0, 0, 1, 1, 1, 1, 1, 1, 0, 1, 0, 0, 0, 0, 1, 0, 1, 1, 0, 1, 1, 1, 0, 1, 0, 1, 0, 0, 1, 0, 1, 0, 1, 1, 1, 0, 1, 0, 1, 0, 0, 1, 0, 1, 1, 1, 0, 0, 1, 0, 0, 1, 0, 1, 1, 0, 1, 1, 0, 0, 0, 1, 0, 1, 1, 1, 0, 1, 0, 1, 0, 0, 0, 1, 1, 1, 0, 1, 0, 1, 1, 0, 0, 0, 0, 1, 1, 1, 0, 1, 1, 0, 0, 1, 0, 0, 1, 0, 1, 0, 1, 0, 1, 0, 1, 0, 1, 1, 0, 1, 0, 1, 1, 1, 0, 0, 0, 0, 1, 1, 1, 0, 1, 0, 0, 1, 1, 1, 1, 1, 1, 1, 1, 1, 0, 1, 1, 1, 0, 0, 0, 1, 1, 0, 0, 0, 0, 0, 0, 0, 0, 1, 1, 0, 0, 1, 0, 0, 1, 0, 0, 0, 0, 0, 1, 0, 0, 1, 1, 0, 1, 0, 1, 0, 1, 1, 1, 0, 0, 1, 1, 1, 0, 0, 1, 0, 1, 1, 1, 1, 1, 0, 0, 1, 1, 0, 0, 1, 0, 1, 1, 1, 1, 1, 1, 0, 0, 1, 1, 0, 0, 1, 0, 0, 0, 0, 0, 0, 1, 0, 1, 1, 0, 1, 0, 1, 1, 1, 0, 0, 0, 0, 0, 1, 1, 1, 0, 1, 0, 0, 0, 1, 0, 1, 0, 0, 0, 1, 1, 1, 0, 0, 0, 1, 0, 1, 0, 1, 1, 0, 1, 0, 0, 0, 0, 1, 0, 0, 1, 0, 0, 1, 1, 1, 1, 0, 0, 0, 1, 1, 0, 0, 0, 1, 1, 1, 1, 0, 1, 0, 1, 1, 1, 1, 1, 1, 0, 1, 0, 0, 1, 1, 1, 1, 0, 1, 0, 1, 0, 1, 0, 1, 1, 1, 0, 1, 0, 0, 1, 1, 1, 1, 1, 1, 1, 0, 0, 1, 0, 1, 1, 1, 1, 0, 0, 0, 0, 0, 0, 0, 0, 1, 1, 1, 1, 0, 1, 1, 0, 0, 1, 0, 0, 1, 0, 1, 0, 0, 0, 0, 1, 0, 0, 1, 0, 0, 1, 1, 0, 1, 1, 0, 1, 1, 1, 0, 1, 0, 1, 0, 1, 1, 0, 1, 0, 1, 1, 0, 0, 1, 0, 0, 1, 1, 0, 0, 1, 1, 1, 0, 0, 1, 0, 1, 0, 0, 0, 1, 0, 0, 0, 1, 0, 0, 0, 0, 0, 1, 0, 0, 1, 1, 0, 1, 0, 1, 1, 1, 1, 1, 1, 0, 0, 1, 0, 1, 1, 1, 0, 0, 1, 1, 0, 0, 0, 1, 1, 0, 0, 0, 0, 1, 0, 1, 1, 0, 0, 1, 1, 1, 1, 1, 0, 1, 1, 0, 0, 1, 1, 0, 0, 0, 0, 1, 0, 0, 0, 0, 0, 0, 0, 1, 1, 0, 0, 0, 0, 1, 0, 0, 1, 0, 1, 0, 1, 1, 0, 1, 1, 1, 1, 1, 1, 1, 1, 0, 1, 0, 1, 1, 1, 0, 0, 1, 0, 1, 1, 1, 1, 1, 1, 1, 1, 0, 1, 0, 1, 1, 0, 0, 0, 1, 1, 1, 0, 0, 0, 0, 0, 1, 0, 0, 1, 0, 1, 0, 0, 0, 1, 1, 1, 1, 0, 0, 0, 0, 0, 1, 0, 0, 0, 0, 0, 1, 1, 0, 0, 0, 0, 1, 0, 0, 1, 1, 1, 1, 0, 1, 1, 0, 1, 0, 0, 1, 0, 0, 1, 1, 1, 0, 0, 0, 0, 1, 0, 0, 1, 1, 1, 1, 0, 0, 1, 1, 0, 1, 0, 0, 1, 1, 1, 0, 0, 0, 0, 0, 1, 1, 0, 0, 1, 1, 0, 1, 1, 1, 1, 0, 0, 0, 1, 1, 1, 0, 0, 1, 1, 1, 0, 0, 0, 1, 1, 1, 0, 0, 0, 0, 0, 0, 1, 1, 1, 1, 0, 0, 0, 1, 1, 1, 0, 0, 0, 1, 1, 1, 0, 1, 1, 1, 0, 0, 1, 0, 1, 0, 0, 1, 1, 0, 0, 1, 1, 1, 0, 0, 0, 0, 1, 0, 1, 1, 0, 1, 1, 1, 1, 1, 0, 1, 1, 1, 1, 0, 0, 1, 1, 1, 0, 0, 0, 0]\n"
          ],
          "name": "stdout"
        }
      ]
    },
    {
      "cell_type": "markdown",
      "metadata": {
        "id": "eq3ONzZUc9Tk"
      },
      "source": [
        "- 앙상블 예측결과와 테스트 레이블 데이터 결합"
      ]
    },
    {
      "cell_type": "code",
      "metadata": {
        "colab": {
          "base_uri": "https://localhost:8080/"
        },
        "id": "0ILjylWzUcFN",
        "outputId": "99a6dc94-e710-4657-a969-04e9a2b78205"
      },
      "source": [
        "ensemble_submission_w_label = pd.DataFrame({'Predicted' : predict_ensemble, 'label' : labels_test_input})\r\n",
        "print(ensemble_submission_w_label)"
      ],
      "execution_count": null,
      "outputs": [
        {
          "output_type": "stream",
          "text": [
            "      Predicted  label\n",
            "0             1      1\n",
            "1             0      0\n",
            "2             0      0\n",
            "3             0      0\n",
            "4             0      0\n",
            "...         ...    ...\n",
            "9995          1      1\n",
            "9996          0      0\n",
            "9997          0      0\n",
            "9998          0      0\n",
            "9999          0      0\n",
            "\n",
            "[10000 rows x 2 columns]\n"
          ],
          "name": "stdout"
        }
      ]
    },
    {
      "cell_type": "markdown",
      "metadata": {
        "id": "mGrDNsKheXu-"
      },
      "source": [
        "- 앙상블 예측결과와 테스트 레이블 데이터 결합 인스턴스 CSV 파일 저장(필요 시)"
      ]
    },
    {
      "cell_type": "code",
      "metadata": {
        "id": "CRJG0V71akbD"
      },
      "source": [
        "ensemble_submission_w_label.to_csv('ensemble_predict.csv')"
      ],
      "execution_count": null,
      "outputs": []
    },
    {
      "cell_type": "markdown",
      "metadata": {
        "id": "xhnmxNuxoRPw"
      },
      "source": [
        "- 앙상블 모델 예측 결과 스코어링"
      ]
    },
    {
      "cell_type": "code",
      "metadata": {
        "colab": {
          "base_uri": "https://localhost:8080/"
        },
        "id": "QAhdrEFzoMUb",
        "outputId": "ed3ac5ca-c728-4b9e-d0cc-1b446d81bc56"
      },
      "source": [
        "print(\"앙상블 model accuracy : \", accuracy_score(labels_test_input, predict_ensemble))\r\n",
        "print(\"앙상블 model recall : \",recall_score(labels_test_input,predict_ensemble))\r\n",
        "print(\"앙상블 model precision : \",precision_score(labels_test_input, predict_ensemble))\r\n",
        "print(\"앙상블 model f1 : \",f1_score(labels_test_input, predict_ensemble))"
      ],
      "execution_count": null,
      "outputs": [
        {
          "output_type": "stream",
          "text": [
            "앙상블 model accuracy :  0.8745\n",
            "앙상블 model recall :  0.8691958111045248\n",
            "앙상블 model precision :  0.8812099358974359\n",
            "앙상블 model f1 :  0.87516164329056\n"
          ],
          "name": "stdout"
        }
      ]
    }
  ]
}