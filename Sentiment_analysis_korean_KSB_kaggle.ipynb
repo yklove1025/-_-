{
  "nbformat": 4,
  "nbformat_minor": 0,
  "metadata": {
    "colab": {
      "name": "Sentiment_analysis_korean_KSB_kaggle.ipynb",
      "provenance": [],
      "collapsed_sections": [],
      "toc_visible": true,
      "machine_shape": "hm",
      "include_colab_link": true
    },
    "kernelspec": {
      "name": "python3",
      "display_name": "Python 3"
    },
    "accelerator": "GPU",
    "widgets": {
      "application/vnd.jupyter.widget-state+json": {
        "5b12c3f361334f6faa4027866d25a31b": {
          "model_module": "@jupyter-widgets/controls",
          "model_name": "HBoxModel",
          "state": {
            "_view_name": "HBoxView",
            "_dom_classes": [],
            "_model_name": "HBoxModel",
            "_view_module": "@jupyter-widgets/controls",
            "_model_module_version": "1.5.0",
            "_view_count": null,
            "_view_module_version": "1.5.0",
            "box_style": "",
            "layout": "IPY_MODEL_7b0c1a2d86964f1b908d6b9c49d56baf",
            "_model_module": "@jupyter-widgets/controls",
            "children": [
              "IPY_MODEL_e29f52ab743a4f3a972dae4635761152",
              "IPY_MODEL_367d6a1078004799a2b023f6bc585627"
            ]
          }
        },
        "7b0c1a2d86964f1b908d6b9c49d56baf": {
          "model_module": "@jupyter-widgets/base",
          "model_name": "LayoutModel",
          "state": {
            "_view_name": "LayoutView",
            "grid_template_rows": null,
            "right": null,
            "justify_content": null,
            "_view_module": "@jupyter-widgets/base",
            "overflow": null,
            "_model_module_version": "1.2.0",
            "_view_count": null,
            "flex_flow": null,
            "width": null,
            "min_width": null,
            "border": null,
            "align_items": null,
            "bottom": null,
            "_model_module": "@jupyter-widgets/base",
            "top": null,
            "grid_column": null,
            "overflow_y": null,
            "overflow_x": null,
            "grid_auto_flow": null,
            "grid_area": null,
            "grid_template_columns": null,
            "flex": null,
            "_model_name": "LayoutModel",
            "justify_items": null,
            "grid_row": null,
            "max_height": null,
            "align_content": null,
            "visibility": null,
            "align_self": null,
            "height": null,
            "min_height": null,
            "padding": null,
            "grid_auto_rows": null,
            "grid_gap": null,
            "max_width": null,
            "order": null,
            "_view_module_version": "1.2.0",
            "grid_template_areas": null,
            "object_position": null,
            "object_fit": null,
            "grid_auto_columns": null,
            "margin": null,
            "display": null,
            "left": null
          }
        },
        "e29f52ab743a4f3a972dae4635761152": {
          "model_module": "@jupyter-widgets/controls",
          "model_name": "FloatProgressModel",
          "state": {
            "_view_name": "ProgressView",
            "style": "IPY_MODEL_2668858960d741b78697a2e1864debb3",
            "_dom_classes": [],
            "description": "Downloading: 100%",
            "_model_name": "FloatProgressModel",
            "bar_style": "success",
            "max": 995526,
            "_view_module": "@jupyter-widgets/controls",
            "_model_module_version": "1.5.0",
            "value": 995526,
            "_view_count": null,
            "_view_module_version": "1.5.0",
            "orientation": "horizontal",
            "min": 0,
            "description_tooltip": null,
            "_model_module": "@jupyter-widgets/controls",
            "layout": "IPY_MODEL_c31f0c9ef5874990bf7ba453e4cef67e"
          }
        },
        "367d6a1078004799a2b023f6bc585627": {
          "model_module": "@jupyter-widgets/controls",
          "model_name": "HTMLModel",
          "state": {
            "_view_name": "HTMLView",
            "style": "IPY_MODEL_6ff106888034468d86d5cd0a591f8118",
            "_dom_classes": [],
            "description": "",
            "_model_name": "HTMLModel",
            "placeholder": "​",
            "_view_module": "@jupyter-widgets/controls",
            "_model_module_version": "1.5.0",
            "value": " 996k/996k [00:00&lt;00:00, 1.68MB/s]",
            "_view_count": null,
            "_view_module_version": "1.5.0",
            "description_tooltip": null,
            "_model_module": "@jupyter-widgets/controls",
            "layout": "IPY_MODEL_d48f8f5614aa45088f2d935b4e3cbb98"
          }
        },
        "2668858960d741b78697a2e1864debb3": {
          "model_module": "@jupyter-widgets/controls",
          "model_name": "ProgressStyleModel",
          "state": {
            "_view_name": "StyleView",
            "_model_name": "ProgressStyleModel",
            "description_width": "initial",
            "_view_module": "@jupyter-widgets/base",
            "_model_module_version": "1.5.0",
            "_view_count": null,
            "_view_module_version": "1.2.0",
            "bar_color": null,
            "_model_module": "@jupyter-widgets/controls"
          }
        },
        "c31f0c9ef5874990bf7ba453e4cef67e": {
          "model_module": "@jupyter-widgets/base",
          "model_name": "LayoutModel",
          "state": {
            "_view_name": "LayoutView",
            "grid_template_rows": null,
            "right": null,
            "justify_content": null,
            "_view_module": "@jupyter-widgets/base",
            "overflow": null,
            "_model_module_version": "1.2.0",
            "_view_count": null,
            "flex_flow": null,
            "width": null,
            "min_width": null,
            "border": null,
            "align_items": null,
            "bottom": null,
            "_model_module": "@jupyter-widgets/base",
            "top": null,
            "grid_column": null,
            "overflow_y": null,
            "overflow_x": null,
            "grid_auto_flow": null,
            "grid_area": null,
            "grid_template_columns": null,
            "flex": null,
            "_model_name": "LayoutModel",
            "justify_items": null,
            "grid_row": null,
            "max_height": null,
            "align_content": null,
            "visibility": null,
            "align_self": null,
            "height": null,
            "min_height": null,
            "padding": null,
            "grid_auto_rows": null,
            "grid_gap": null,
            "max_width": null,
            "order": null,
            "_view_module_version": "1.2.0",
            "grid_template_areas": null,
            "object_position": null,
            "object_fit": null,
            "grid_auto_columns": null,
            "margin": null,
            "display": null,
            "left": null
          }
        },
        "6ff106888034468d86d5cd0a591f8118": {
          "model_module": "@jupyter-widgets/controls",
          "model_name": "DescriptionStyleModel",
          "state": {
            "_view_name": "StyleView",
            "_model_name": "DescriptionStyleModel",
            "description_width": "",
            "_view_module": "@jupyter-widgets/base",
            "_model_module_version": "1.5.0",
            "_view_count": null,
            "_view_module_version": "1.2.0",
            "_model_module": "@jupyter-widgets/controls"
          }
        },
        "d48f8f5614aa45088f2d935b4e3cbb98": {
          "model_module": "@jupyter-widgets/base",
          "model_name": "LayoutModel",
          "state": {
            "_view_name": "LayoutView",
            "grid_template_rows": null,
            "right": null,
            "justify_content": null,
            "_view_module": "@jupyter-widgets/base",
            "overflow": null,
            "_model_module_version": "1.2.0",
            "_view_count": null,
            "flex_flow": null,
            "width": null,
            "min_width": null,
            "border": null,
            "align_items": null,
            "bottom": null,
            "_model_module": "@jupyter-widgets/base",
            "top": null,
            "grid_column": null,
            "overflow_y": null,
            "overflow_x": null,
            "grid_auto_flow": null,
            "grid_area": null,
            "grid_template_columns": null,
            "flex": null,
            "_model_name": "LayoutModel",
            "justify_items": null,
            "grid_row": null,
            "max_height": null,
            "align_content": null,
            "visibility": null,
            "align_self": null,
            "height": null,
            "min_height": null,
            "padding": null,
            "grid_auto_rows": null,
            "grid_gap": null,
            "max_width": null,
            "order": null,
            "_view_module_version": "1.2.0",
            "grid_template_areas": null,
            "object_position": null,
            "object_fit": null,
            "grid_auto_columns": null,
            "margin": null,
            "display": null,
            "left": null
          }
        },
        "c14a3d981cdc413fbbcf482cdc791def": {
          "model_module": "@jupyter-widgets/controls",
          "model_name": "HBoxModel",
          "state": {
            "_view_name": "HBoxView",
            "_dom_classes": [],
            "_model_name": "HBoxModel",
            "_view_module": "@jupyter-widgets/controls",
            "_model_module_version": "1.5.0",
            "_view_count": null,
            "_view_module_version": "1.5.0",
            "box_style": "",
            "layout": "IPY_MODEL_b232faf4ca2145069e723156e4fbc3e3",
            "_model_module": "@jupyter-widgets/controls",
            "children": [
              "IPY_MODEL_e5c5639f8d404620823055a5375c5476",
              "IPY_MODEL_8671a035597c4f7493030adc7ffdb3da"
            ]
          }
        },
        "b232faf4ca2145069e723156e4fbc3e3": {
          "model_module": "@jupyter-widgets/base",
          "model_name": "LayoutModel",
          "state": {
            "_view_name": "LayoutView",
            "grid_template_rows": null,
            "right": null,
            "justify_content": null,
            "_view_module": "@jupyter-widgets/base",
            "overflow": null,
            "_model_module_version": "1.2.0",
            "_view_count": null,
            "flex_flow": null,
            "width": null,
            "min_width": null,
            "border": null,
            "align_items": null,
            "bottom": null,
            "_model_module": "@jupyter-widgets/base",
            "top": null,
            "grid_column": null,
            "overflow_y": null,
            "overflow_x": null,
            "grid_auto_flow": null,
            "grid_area": null,
            "grid_template_columns": null,
            "flex": null,
            "_model_name": "LayoutModel",
            "justify_items": null,
            "grid_row": null,
            "max_height": null,
            "align_content": null,
            "visibility": null,
            "align_self": null,
            "height": null,
            "min_height": null,
            "padding": null,
            "grid_auto_rows": null,
            "grid_gap": null,
            "max_width": null,
            "order": null,
            "_view_module_version": "1.2.0",
            "grid_template_areas": null,
            "object_position": null,
            "object_fit": null,
            "grid_auto_columns": null,
            "margin": null,
            "display": null,
            "left": null
          }
        },
        "e5c5639f8d404620823055a5375c5476": {
          "model_module": "@jupyter-widgets/controls",
          "model_name": "FloatProgressModel",
          "state": {
            "_view_name": "ProgressView",
            "style": "IPY_MODEL_53b6d0585c234fdc995f4409eb42b77c",
            "_dom_classes": [],
            "description": "Downloading: 100%",
            "_model_name": "FloatProgressModel",
            "bar_style": "success",
            "max": 625,
            "_view_module": "@jupyter-widgets/controls",
            "_model_module_version": "1.5.0",
            "value": 625,
            "_view_count": null,
            "_view_module_version": "1.5.0",
            "orientation": "horizontal",
            "min": 0,
            "description_tooltip": null,
            "_model_module": "@jupyter-widgets/controls",
            "layout": "IPY_MODEL_3d76c5074b3943f9943083b741849979"
          }
        },
        "8671a035597c4f7493030adc7ffdb3da": {
          "model_module": "@jupyter-widgets/controls",
          "model_name": "HTMLModel",
          "state": {
            "_view_name": "HTMLView",
            "style": "IPY_MODEL_26f21df0198c47949a2be8a15382127b",
            "_dom_classes": [],
            "description": "",
            "_model_name": "HTMLModel",
            "placeholder": "​",
            "_view_module": "@jupyter-widgets/controls",
            "_model_module_version": "1.5.0",
            "value": " 625/625 [00:18&lt;00:00, 34.2B/s]",
            "_view_count": null,
            "_view_module_version": "1.5.0",
            "description_tooltip": null,
            "_model_module": "@jupyter-widgets/controls",
            "layout": "IPY_MODEL_b27950cf0d83414ba6ab41daefe968cd"
          }
        },
        "53b6d0585c234fdc995f4409eb42b77c": {
          "model_module": "@jupyter-widgets/controls",
          "model_name": "ProgressStyleModel",
          "state": {
            "_view_name": "StyleView",
            "_model_name": "ProgressStyleModel",
            "description_width": "initial",
            "_view_module": "@jupyter-widgets/base",
            "_model_module_version": "1.5.0",
            "_view_count": null,
            "_view_module_version": "1.2.0",
            "bar_color": null,
            "_model_module": "@jupyter-widgets/controls"
          }
        },
        "3d76c5074b3943f9943083b741849979": {
          "model_module": "@jupyter-widgets/base",
          "model_name": "LayoutModel",
          "state": {
            "_view_name": "LayoutView",
            "grid_template_rows": null,
            "right": null,
            "justify_content": null,
            "_view_module": "@jupyter-widgets/base",
            "overflow": null,
            "_model_module_version": "1.2.0",
            "_view_count": null,
            "flex_flow": null,
            "width": null,
            "min_width": null,
            "border": null,
            "align_items": null,
            "bottom": null,
            "_model_module": "@jupyter-widgets/base",
            "top": null,
            "grid_column": null,
            "overflow_y": null,
            "overflow_x": null,
            "grid_auto_flow": null,
            "grid_area": null,
            "grid_template_columns": null,
            "flex": null,
            "_model_name": "LayoutModel",
            "justify_items": null,
            "grid_row": null,
            "max_height": null,
            "align_content": null,
            "visibility": null,
            "align_self": null,
            "height": null,
            "min_height": null,
            "padding": null,
            "grid_auto_rows": null,
            "grid_gap": null,
            "max_width": null,
            "order": null,
            "_view_module_version": "1.2.0",
            "grid_template_areas": null,
            "object_position": null,
            "object_fit": null,
            "grid_auto_columns": null,
            "margin": null,
            "display": null,
            "left": null
          }
        },
        "26f21df0198c47949a2be8a15382127b": {
          "model_module": "@jupyter-widgets/controls",
          "model_name": "DescriptionStyleModel",
          "state": {
            "_view_name": "StyleView",
            "_model_name": "DescriptionStyleModel",
            "description_width": "",
            "_view_module": "@jupyter-widgets/base",
            "_model_module_version": "1.5.0",
            "_view_count": null,
            "_view_module_version": "1.2.0",
            "_model_module": "@jupyter-widgets/controls"
          }
        },
        "b27950cf0d83414ba6ab41daefe968cd": {
          "model_module": "@jupyter-widgets/base",
          "model_name": "LayoutModel",
          "state": {
            "_view_name": "LayoutView",
            "grid_template_rows": null,
            "right": null,
            "justify_content": null,
            "_view_module": "@jupyter-widgets/base",
            "overflow": null,
            "_model_module_version": "1.2.0",
            "_view_count": null,
            "flex_flow": null,
            "width": null,
            "min_width": null,
            "border": null,
            "align_items": null,
            "bottom": null,
            "_model_module": "@jupyter-widgets/base",
            "top": null,
            "grid_column": null,
            "overflow_y": null,
            "overflow_x": null,
            "grid_auto_flow": null,
            "grid_area": null,
            "grid_template_columns": null,
            "flex": null,
            "_model_name": "LayoutModel",
            "justify_items": null,
            "grid_row": null,
            "max_height": null,
            "align_content": null,
            "visibility": null,
            "align_self": null,
            "height": null,
            "min_height": null,
            "padding": null,
            "grid_auto_rows": null,
            "grid_gap": null,
            "max_width": null,
            "order": null,
            "_view_module_version": "1.2.0",
            "grid_template_areas": null,
            "object_position": null,
            "object_fit": null,
            "grid_auto_columns": null,
            "margin": null,
            "display": null,
            "left": null
          }
        },
        "906c82e9d78f42c09acef28f980c11ce": {
          "model_module": "@jupyter-widgets/controls",
          "model_name": "HBoxModel",
          "state": {
            "_view_name": "HBoxView",
            "_dom_classes": [],
            "_model_name": "HBoxModel",
            "_view_module": "@jupyter-widgets/controls",
            "_model_module_version": "1.5.0",
            "_view_count": null,
            "_view_module_version": "1.5.0",
            "box_style": "",
            "layout": "IPY_MODEL_87cff02415eb421db574fa1c51763071",
            "_model_module": "@jupyter-widgets/controls",
            "children": [
              "IPY_MODEL_095b690a3eb04ef0acc388fb9491a1f4",
              "IPY_MODEL_d2bf5f84f40d4583800a0e6de1902c52"
            ]
          }
        },
        "87cff02415eb421db574fa1c51763071": {
          "model_module": "@jupyter-widgets/base",
          "model_name": "LayoutModel",
          "state": {
            "_view_name": "LayoutView",
            "grid_template_rows": null,
            "right": null,
            "justify_content": null,
            "_view_module": "@jupyter-widgets/base",
            "overflow": null,
            "_model_module_version": "1.2.0",
            "_view_count": null,
            "flex_flow": null,
            "width": null,
            "min_width": null,
            "border": null,
            "align_items": null,
            "bottom": null,
            "_model_module": "@jupyter-widgets/base",
            "top": null,
            "grid_column": null,
            "overflow_y": null,
            "overflow_x": null,
            "grid_auto_flow": null,
            "grid_area": null,
            "grid_template_columns": null,
            "flex": null,
            "_model_name": "LayoutModel",
            "justify_items": null,
            "grid_row": null,
            "max_height": null,
            "align_content": null,
            "visibility": null,
            "align_self": null,
            "height": null,
            "min_height": null,
            "padding": null,
            "grid_auto_rows": null,
            "grid_gap": null,
            "max_width": null,
            "order": null,
            "_view_module_version": "1.2.0",
            "grid_template_areas": null,
            "object_position": null,
            "object_fit": null,
            "grid_auto_columns": null,
            "margin": null,
            "display": null,
            "left": null
          }
        },
        "095b690a3eb04ef0acc388fb9491a1f4": {
          "model_module": "@jupyter-widgets/controls",
          "model_name": "FloatProgressModel",
          "state": {
            "_view_name": "ProgressView",
            "style": "IPY_MODEL_60499528272a469ea684b6ddf8033512",
            "_dom_classes": [],
            "description": "Downloading: 100%",
            "_model_name": "FloatProgressModel",
            "bar_style": "success",
            "max": 714314041,
            "_view_module": "@jupyter-widgets/controls",
            "_model_module_version": "1.5.0",
            "value": 714314041,
            "_view_count": null,
            "_view_module_version": "1.5.0",
            "orientation": "horizontal",
            "min": 0,
            "description_tooltip": null,
            "_model_module": "@jupyter-widgets/controls",
            "layout": "IPY_MODEL_ab78ba0b4b0142888f231a2fe354634c"
          }
        },
        "d2bf5f84f40d4583800a0e6de1902c52": {
          "model_module": "@jupyter-widgets/controls",
          "model_name": "HTMLModel",
          "state": {
            "_view_name": "HTMLView",
            "style": "IPY_MODEL_74eaa0528e144c6da8c302a85383aef6",
            "_dom_classes": [],
            "description": "",
            "_model_name": "HTMLModel",
            "placeholder": "​",
            "_view_module": "@jupyter-widgets/controls",
            "_model_module_version": "1.5.0",
            "value": " 714M/714M [00:17&lt;00:00, 40.4MB/s]",
            "_view_count": null,
            "_view_module_version": "1.5.0",
            "description_tooltip": null,
            "_model_module": "@jupyter-widgets/controls",
            "layout": "IPY_MODEL_e0c97f8b28224b2e86795ef86a111880"
          }
        },
        "60499528272a469ea684b6ddf8033512": {
          "model_module": "@jupyter-widgets/controls",
          "model_name": "ProgressStyleModel",
          "state": {
            "_view_name": "StyleView",
            "_model_name": "ProgressStyleModel",
            "description_width": "initial",
            "_view_module": "@jupyter-widgets/base",
            "_model_module_version": "1.5.0",
            "_view_count": null,
            "_view_module_version": "1.2.0",
            "bar_color": null,
            "_model_module": "@jupyter-widgets/controls"
          }
        },
        "ab78ba0b4b0142888f231a2fe354634c": {
          "model_module": "@jupyter-widgets/base",
          "model_name": "LayoutModel",
          "state": {
            "_view_name": "LayoutView",
            "grid_template_rows": null,
            "right": null,
            "justify_content": null,
            "_view_module": "@jupyter-widgets/base",
            "overflow": null,
            "_model_module_version": "1.2.0",
            "_view_count": null,
            "flex_flow": null,
            "width": null,
            "min_width": null,
            "border": null,
            "align_items": null,
            "bottom": null,
            "_model_module": "@jupyter-widgets/base",
            "top": null,
            "grid_column": null,
            "overflow_y": null,
            "overflow_x": null,
            "grid_auto_flow": null,
            "grid_area": null,
            "grid_template_columns": null,
            "flex": null,
            "_model_name": "LayoutModel",
            "justify_items": null,
            "grid_row": null,
            "max_height": null,
            "align_content": null,
            "visibility": null,
            "align_self": null,
            "height": null,
            "min_height": null,
            "padding": null,
            "grid_auto_rows": null,
            "grid_gap": null,
            "max_width": null,
            "order": null,
            "_view_module_version": "1.2.0",
            "grid_template_areas": null,
            "object_position": null,
            "object_fit": null,
            "grid_auto_columns": null,
            "margin": null,
            "display": null,
            "left": null
          }
        },
        "74eaa0528e144c6da8c302a85383aef6": {
          "model_module": "@jupyter-widgets/controls",
          "model_name": "DescriptionStyleModel",
          "state": {
            "_view_name": "StyleView",
            "_model_name": "DescriptionStyleModel",
            "description_width": "",
            "_view_module": "@jupyter-widgets/base",
            "_model_module_version": "1.5.0",
            "_view_count": null,
            "_view_module_version": "1.2.0",
            "_model_module": "@jupyter-widgets/controls"
          }
        },
        "e0c97f8b28224b2e86795ef86a111880": {
          "model_module": "@jupyter-widgets/base",
          "model_name": "LayoutModel",
          "state": {
            "_view_name": "LayoutView",
            "grid_template_rows": null,
            "right": null,
            "justify_content": null,
            "_view_module": "@jupyter-widgets/base",
            "overflow": null,
            "_model_module_version": "1.2.0",
            "_view_count": null,
            "flex_flow": null,
            "width": null,
            "min_width": null,
            "border": null,
            "align_items": null,
            "bottom": null,
            "_model_module": "@jupyter-widgets/base",
            "top": null,
            "grid_column": null,
            "overflow_y": null,
            "overflow_x": null,
            "grid_auto_flow": null,
            "grid_area": null,
            "grid_template_columns": null,
            "flex": null,
            "_model_name": "LayoutModel",
            "justify_items": null,
            "grid_row": null,
            "max_height": null,
            "align_content": null,
            "visibility": null,
            "align_self": null,
            "height": null,
            "min_height": null,
            "padding": null,
            "grid_auto_rows": null,
            "grid_gap": null,
            "max_width": null,
            "order": null,
            "_view_module_version": "1.2.0",
            "grid_template_areas": null,
            "object_position": null,
            "object_fit": null,
            "grid_auto_columns": null,
            "margin": null,
            "display": null,
            "left": null
          }
        }
      }
    }
  },
  "cells": [
    {
      "cell_type": "markdown",
      "metadata": {
        "id": "view-in-github",
        "colab_type": "text"
      },
      "source": [
        "<a href=\"https://colab.research.google.com/github/yklove1025/Ensamble-Sentiment-Analysis-for-Korean-English/blob/main/Sentiment_analysis_korean_KSB_kaggle.ipynb\" target=\"_parent\"><img src=\"https://colab.research.google.com/assets/colab-badge.svg\" alt=\"Open In Colab\"/></a>"
      ]
    },
    {
      "cell_type": "markdown",
      "metadata": {
        "id": "vYJtT3GqGs4M"
      },
      "source": [
        "# **앙상블 한국어 감정분석 모델**\r\n",
        "\r\n",
        "본 한국어 감정분석 모델은 고려대학교 디지털금융공학과 DFE610 디지털금융공학을 위한 자연어처리기술 수업의 과제를 수행하기 위해 개발한 모델이다.\r\n",
        "\r\n",
        "본 앙상블 한국어 감정분석 모델은 앙상블 감정분석 대상 모델로 본 과정 수업 실습자료인 'Transformer를 이용한 감정분석 모델', 'CNN을 이용한 감정분석 모델' 과 '네이버 영화리뷰 감정분석 with Hugging Face BERT' 모델을 실습자료로 제공된 소스와 오픈소스를 참고하여 구성하였다.\r\n",
        "\r\n",
        "본 모델은 Transformer, CNN, BERT 모델의 아웃풋을 Hard Voting하여 최종 아웃풋을 산출한다.\r\n",
        "\r\n",
        "\r\n",
        "1.   모델의 오픈소스 참고 출처\r\n",
        "- 모델의 오픈소스 참고 출처\r\n",
        "\r\n",
        "     @ Transformer를 이용한 감정분석 모델 : https://github.com/Parkchanjun/KU-NLP-2020-1/Transformer를 이용한 감정분석_한국어.jpynb\r\n",
        "     \r\n",
        "     @ CNN을 이용한 감정분석 모델 : https://github.com/Parkchanjun/KU-NLP-2020-1/CNN_Sentiment_Analysis.jpynb\r\n",
        "     \r\n",
        "     @ 네이버 영화리뷰 감정분석 with Hugging Face BERT : https://colab.research.google.com/drive/13AMh8N9tEIw5rmxgc1fQfS8581mWegxj\r\n",
        "\r\n",
        "\r\n",
        "2. 상세사항\r\n",
        "- 아래 깃허브의 Readme.md 확인\r\n",
        "\r\n",
        "  https://github.com/yklove1025/Ensamble-Sentiment-Analysis-for-Korean\r\n",
        "\r\n",
        "3. 실행환경\r\n",
        "- 본 소스는 구글 Colab에서 작성됨 \r\n",
        "- 본 소스의 실행을 위해서는 Colab Pro 환경이 필요(GPU 메모리 필요)\r\n",
        "- ① 실행 후 런타임 초기화 ② 순차 실행 → 종료 후 ③ 실행 (실행순번 표기)\r\n",
        "- BERT 모델 저장 후 업로드 시에도 메모리 문제 발생 가능함(재실행 권장) \r\n",
        "\r\n",
        "☞ Kaggle 리더보드에는 Transformer, CNN, BERT, Ensemble 각각 업로드 함\r\n",
        "\r\n",
        "**☞ Kaggle 리더보드 업로드 시 index 칼럼명을 'Id'로 입력하여 저장 후 제출함**"
      ]
    },
    {
      "cell_type": "markdown",
      "metadata": {
        "id": "UhEEBCofxwdu"
      },
      "source": [
        "**Hugging Face의 Transformer Model 설치 ①,②**"
      ]
    },
    {
      "cell_type": "code",
      "metadata": {
        "colab": {
          "base_uri": "https://localhost:8080/"
        },
        "id": "l5JqXdFpxwAC",
        "outputId": "3adf84a6-8e4e-4e38-bc53-54231a0b19b2"
      },
      "source": [
        "!pip install transformers"
      ],
      "execution_count": null,
      "outputs": [
        {
          "output_type": "stream",
          "text": [
            "Collecting transformers\n",
            "\u001b[?25l  Downloading https://files.pythonhosted.org/packages/50/0c/7d5950fcd80b029be0a8891727ba21e0cd27692c407c51261c3c921f6da3/transformers-4.1.1-py3-none-any.whl (1.5MB)\n",
            "\r\u001b[K     |▏                               | 10kB 30.3MB/s eta 0:00:01\r\u001b[K     |▍                               | 20kB 36.5MB/s eta 0:00:01\r\u001b[K     |▋                               | 30kB 20.5MB/s eta 0:00:01\r\u001b[K     |▉                               | 40kB 17.1MB/s eta 0:00:01\r\u001b[K     |█                               | 51kB 14.8MB/s eta 0:00:01\r\u001b[K     |█▎                              | 61kB 13.2MB/s eta 0:00:01\r\u001b[K     |█▌                              | 71kB 14.7MB/s eta 0:00:01\r\u001b[K     |█▊                              | 81kB 14.7MB/s eta 0:00:01\r\u001b[K     |██                              | 92kB 13.4MB/s eta 0:00:01\r\u001b[K     |██▏                             | 102kB 13.1MB/s eta 0:00:01\r\u001b[K     |██▍                             | 112kB 13.1MB/s eta 0:00:01\r\u001b[K     |██▋                             | 122kB 13.1MB/s eta 0:00:01\r\u001b[K     |██▉                             | 133kB 13.1MB/s eta 0:00:01\r\u001b[K     |███                             | 143kB 13.1MB/s eta 0:00:01\r\u001b[K     |███▎                            | 153kB 13.1MB/s eta 0:00:01\r\u001b[K     |███▌                            | 163kB 13.1MB/s eta 0:00:01\r\u001b[K     |███▊                            | 174kB 13.1MB/s eta 0:00:01\r\u001b[K     |████                            | 184kB 13.1MB/s eta 0:00:01\r\u001b[K     |████▏                           | 194kB 13.1MB/s eta 0:00:01\r\u001b[K     |████▎                           | 204kB 13.1MB/s eta 0:00:01\r\u001b[K     |████▌                           | 215kB 13.1MB/s eta 0:00:01\r\u001b[K     |████▊                           | 225kB 13.1MB/s eta 0:00:01\r\u001b[K     |█████                           | 235kB 13.1MB/s eta 0:00:01\r\u001b[K     |█████▏                          | 245kB 13.1MB/s eta 0:00:01\r\u001b[K     |█████▍                          | 256kB 13.1MB/s eta 0:00:01\r\u001b[K     |█████▋                          | 266kB 13.1MB/s eta 0:00:01\r\u001b[K     |█████▉                          | 276kB 13.1MB/s eta 0:00:01\r\u001b[K     |██████                          | 286kB 13.1MB/s eta 0:00:01\r\u001b[K     |██████▎                         | 296kB 13.1MB/s eta 0:00:01\r\u001b[K     |██████▌                         | 307kB 13.1MB/s eta 0:00:01\r\u001b[K     |██████▊                         | 317kB 13.1MB/s eta 0:00:01\r\u001b[K     |███████                         | 327kB 13.1MB/s eta 0:00:01\r\u001b[K     |███████▏                        | 337kB 13.1MB/s eta 0:00:01\r\u001b[K     |███████▍                        | 348kB 13.1MB/s eta 0:00:01\r\u001b[K     |███████▋                        | 358kB 13.1MB/s eta 0:00:01\r\u001b[K     |███████▉                        | 368kB 13.1MB/s eta 0:00:01\r\u001b[K     |████████                        | 378kB 13.1MB/s eta 0:00:01\r\u001b[K     |████████▎                       | 389kB 13.1MB/s eta 0:00:01\r\u001b[K     |████████▌                       | 399kB 13.1MB/s eta 0:00:01\r\u001b[K     |████████▋                       | 409kB 13.1MB/s eta 0:00:01\r\u001b[K     |████████▉                       | 419kB 13.1MB/s eta 0:00:01\r\u001b[K     |█████████                       | 430kB 13.1MB/s eta 0:00:01\r\u001b[K     |█████████▎                      | 440kB 13.1MB/s eta 0:00:01\r\u001b[K     |█████████▌                      | 450kB 13.1MB/s eta 0:00:01\r\u001b[K     |█████████▊                      | 460kB 13.1MB/s eta 0:00:01\r\u001b[K     |██████████                      | 471kB 13.1MB/s eta 0:00:01\r\u001b[K     |██████████▏                     | 481kB 13.1MB/s eta 0:00:01\r\u001b[K     |██████████▍                     | 491kB 13.1MB/s eta 0:00:01\r\u001b[K     |██████████▋                     | 501kB 13.1MB/s eta 0:00:01\r\u001b[K     |██████████▉                     | 512kB 13.1MB/s eta 0:00:01\r\u001b[K     |███████████                     | 522kB 13.1MB/s eta 0:00:01\r\u001b[K     |███████████▎                    | 532kB 13.1MB/s eta 0:00:01\r\u001b[K     |███████████▌                    | 542kB 13.1MB/s eta 0:00:01\r\u001b[K     |███████████▊                    | 552kB 13.1MB/s eta 0:00:01\r\u001b[K     |████████████                    | 563kB 13.1MB/s eta 0:00:01\r\u001b[K     |████████████▏                   | 573kB 13.1MB/s eta 0:00:01\r\u001b[K     |████████████▍                   | 583kB 13.1MB/s eta 0:00:01\r\u001b[K     |████████████▋                   | 593kB 13.1MB/s eta 0:00:01\r\u001b[K     |████████████▉                   | 604kB 13.1MB/s eta 0:00:01\r\u001b[K     |█████████████                   | 614kB 13.1MB/s eta 0:00:01\r\u001b[K     |█████████████▏                  | 624kB 13.1MB/s eta 0:00:01\r\u001b[K     |█████████████▍                  | 634kB 13.1MB/s eta 0:00:01\r\u001b[K     |█████████████▋                  | 645kB 13.1MB/s eta 0:00:01\r\u001b[K     |█████████████▉                  | 655kB 13.1MB/s eta 0:00:01\r\u001b[K     |██████████████                  | 665kB 13.1MB/s eta 0:00:01\r\u001b[K     |██████████████▎                 | 675kB 13.1MB/s eta 0:00:01\r\u001b[K     |██████████████▌                 | 686kB 13.1MB/s eta 0:00:01\r\u001b[K     |██████████████▊                 | 696kB 13.1MB/s eta 0:00:01\r\u001b[K     |███████████████                 | 706kB 13.1MB/s eta 0:00:01\r\u001b[K     |███████████████▏                | 716kB 13.1MB/s eta 0:00:01\r\u001b[K     |███████████████▍                | 727kB 13.1MB/s eta 0:00:01\r\u001b[K     |███████████████▋                | 737kB 13.1MB/s eta 0:00:01\r\u001b[K     |███████████████▉                | 747kB 13.1MB/s eta 0:00:01\r\u001b[K     |████████████████                | 757kB 13.1MB/s eta 0:00:01\r\u001b[K     |████████████████▎               | 768kB 13.1MB/s eta 0:00:01\r\u001b[K     |████████████████▌               | 778kB 13.1MB/s eta 0:00:01\r\u001b[K     |████████████████▊               | 788kB 13.1MB/s eta 0:00:01\r\u001b[K     |█████████████████               | 798kB 13.1MB/s eta 0:00:01\r\u001b[K     |█████████████████               | 808kB 13.1MB/s eta 0:00:01\r\u001b[K     |█████████████████▎              | 819kB 13.1MB/s eta 0:00:01\r\u001b[K     |█████████████████▌              | 829kB 13.1MB/s eta 0:00:01\r\u001b[K     |█████████████████▊              | 839kB 13.1MB/s eta 0:00:01\r\u001b[K     |██████████████████              | 849kB 13.1MB/s eta 0:00:01\r\u001b[K     |██████████████████▏             | 860kB 13.1MB/s eta 0:00:01\r\u001b[K     |██████████████████▍             | 870kB 13.1MB/s eta 0:00:01\r\u001b[K     |██████████████████▋             | 880kB 13.1MB/s eta 0:00:01\r\u001b[K     |██████████████████▉             | 890kB 13.1MB/s eta 0:00:01\r\u001b[K     |███████████████████             | 901kB 13.1MB/s eta 0:00:01\r\u001b[K     |███████████████████▎            | 911kB 13.1MB/s eta 0:00:01\r\u001b[K     |███████████████████▌            | 921kB 13.1MB/s eta 0:00:01\r\u001b[K     |███████████████████▊            | 931kB 13.1MB/s eta 0:00:01\r\u001b[K     |████████████████████            | 942kB 13.1MB/s eta 0:00:01\r\u001b[K     |████████████████████▏           | 952kB 13.1MB/s eta 0:00:01\r\u001b[K     |████████████████████▍           | 962kB 13.1MB/s eta 0:00:01\r\u001b[K     |████████████████████▋           | 972kB 13.1MB/s eta 0:00:01\r\u001b[K     |████████████████████▉           | 983kB 13.1MB/s eta 0:00:01\r\u001b[K     |█████████████████████           | 993kB 13.1MB/s eta 0:00:01\r\u001b[K     |█████████████████████▎          | 1.0MB 13.1MB/s eta 0:00:01\r\u001b[K     |█████████████████████▍          | 1.0MB 13.1MB/s eta 0:00:01\r\u001b[K     |█████████████████████▋          | 1.0MB 13.1MB/s eta 0:00:01\r\u001b[K     |█████████████████████▉          | 1.0MB 13.1MB/s eta 0:00:01\r\u001b[K     |██████████████████████          | 1.0MB 13.1MB/s eta 0:00:01\r\u001b[K     |██████████████████████▎         | 1.1MB 13.1MB/s eta 0:00:01\r\u001b[K     |██████████████████████▌         | 1.1MB 13.1MB/s eta 0:00:01\r\u001b[K     |██████████████████████▊         | 1.1MB 13.1MB/s eta 0:00:01\r\u001b[K     |███████████████████████         | 1.1MB 13.1MB/s eta 0:00:01\r\u001b[K     |███████████████████████▏        | 1.1MB 13.1MB/s eta 0:00:01\r\u001b[K     |███████████████████████▍        | 1.1MB 13.1MB/s eta 0:00:01\r\u001b[K     |███████████████████████▋        | 1.1MB 13.1MB/s eta 0:00:01\r\u001b[K     |███████████████████████▉        | 1.1MB 13.1MB/s eta 0:00:01\r\u001b[K     |████████████████████████        | 1.1MB 13.1MB/s eta 0:00:01\r\u001b[K     |████████████████████████▎       | 1.1MB 13.1MB/s eta 0:00:01\r\u001b[K     |████████████████████████▌       | 1.2MB 13.1MB/s eta 0:00:01\r\u001b[K     |████████████████████████▊       | 1.2MB 13.1MB/s eta 0:00:01\r\u001b[K     |█████████████████████████       | 1.2MB 13.1MB/s eta 0:00:01\r\u001b[K     |█████████████████████████▏      | 1.2MB 13.1MB/s eta 0:00:01\r\u001b[K     |█████████████████████████▍      | 1.2MB 13.1MB/s eta 0:00:01\r\u001b[K     |█████████████████████████▋      | 1.2MB 13.1MB/s eta 0:00:01\r\u001b[K     |█████████████████████████▊      | 1.2MB 13.1MB/s eta 0:00:01\r\u001b[K     |██████████████████████████      | 1.2MB 13.1MB/s eta 0:00:01\r\u001b[K     |██████████████████████████▏     | 1.2MB 13.1MB/s eta 0:00:01\r\u001b[K     |██████████████████████████▍     | 1.2MB 13.1MB/s eta 0:00:01\r\u001b[K     |██████████████████████████▋     | 1.3MB 13.1MB/s eta 0:00:01\r\u001b[K     |██████████████████████████▉     | 1.3MB 13.1MB/s eta 0:00:01\r\u001b[K     |███████████████████████████     | 1.3MB 13.1MB/s eta 0:00:01\r\u001b[K     |███████████████████████████▎    | 1.3MB 13.1MB/s eta 0:00:01\r\u001b[K     |███████████████████████████▌    | 1.3MB 13.1MB/s eta 0:00:01\r\u001b[K     |███████████████████████████▊    | 1.3MB 13.1MB/s eta 0:00:01\r\u001b[K     |████████████████████████████    | 1.3MB 13.1MB/s eta 0:00:01\r\u001b[K     |████████████████████████████▏   | 1.3MB 13.1MB/s eta 0:00:01\r\u001b[K     |████████████████████████████▍   | 1.3MB 13.1MB/s eta 0:00:01\r\u001b[K     |████████████████████████████▋   | 1.4MB 13.1MB/s eta 0:00:01\r\u001b[K     |████████████████████████████▉   | 1.4MB 13.1MB/s eta 0:00:01\r\u001b[K     |█████████████████████████████   | 1.4MB 13.1MB/s eta 0:00:01\r\u001b[K     |█████████████████████████████▎  | 1.4MB 13.1MB/s eta 0:00:01\r\u001b[K     |█████████████████████████████▌  | 1.4MB 13.1MB/s eta 0:00:01\r\u001b[K     |█████████████████████████████▊  | 1.4MB 13.1MB/s eta 0:00:01\r\u001b[K     |█████████████████████████████▉  | 1.4MB 13.1MB/s eta 0:00:01\r\u001b[K     |██████████████████████████████  | 1.4MB 13.1MB/s eta 0:00:01\r\u001b[K     |██████████████████████████████▎ | 1.4MB 13.1MB/s eta 0:00:01\r\u001b[K     |██████████████████████████████▌ | 1.4MB 13.1MB/s eta 0:00:01\r\u001b[K     |██████████████████████████████▊ | 1.5MB 13.1MB/s eta 0:00:01\r\u001b[K     |███████████████████████████████ | 1.5MB 13.1MB/s eta 0:00:01\r\u001b[K     |███████████████████████████████▏| 1.5MB 13.1MB/s eta 0:00:01\r\u001b[K     |███████████████████████████████▍| 1.5MB 13.1MB/s eta 0:00:01\r\u001b[K     |███████████████████████████████▋| 1.5MB 13.1MB/s eta 0:00:01\r\u001b[K     |███████████████████████████████▉| 1.5MB 13.1MB/s eta 0:00:01\r\u001b[K     |████████████████████████████████| 1.5MB 13.1MB/s \n",
            "\u001b[?25hRequirement already satisfied: regex!=2019.12.17 in /usr/local/lib/python3.6/dist-packages (from transformers) (2019.12.20)\n",
            "Requirement already satisfied: dataclasses; python_version < \"3.7\" in /usr/local/lib/python3.6/dist-packages (from transformers) (0.8)\n",
            "Requirement already satisfied: tqdm>=4.27 in /usr/local/lib/python3.6/dist-packages (from transformers) (4.41.1)\n",
            "Requirement already satisfied: filelock in /usr/local/lib/python3.6/dist-packages (from transformers) (3.0.12)\n",
            "Requirement already satisfied: packaging in /usr/local/lib/python3.6/dist-packages (from transformers) (20.8)\n",
            "Requirement already satisfied: requests in /usr/local/lib/python3.6/dist-packages (from transformers) (2.23.0)\n",
            "Collecting tokenizers==0.9.4\n",
            "\u001b[?25l  Downloading https://files.pythonhosted.org/packages/0f/1c/e789a8b12e28be5bc1ce2156cf87cb522b379be9cadc7ad8091a4cc107c4/tokenizers-0.9.4-cp36-cp36m-manylinux2010_x86_64.whl (2.9MB)\n",
            "\u001b[K     |████████████████████████████████| 2.9MB 21.7MB/s \n",
            "\u001b[?25hRequirement already satisfied: numpy in /usr/local/lib/python3.6/dist-packages (from transformers) (1.19.4)\n",
            "Collecting sacremoses\n",
            "\u001b[?25l  Downloading https://files.pythonhosted.org/packages/7d/34/09d19aff26edcc8eb2a01bed8e98f13a1537005d31e95233fd48216eed10/sacremoses-0.0.43.tar.gz (883kB)\n",
            "\u001b[K     |████████████████████████████████| 890kB 64.3MB/s \n",
            "\u001b[?25hRequirement already satisfied: pyparsing>=2.0.2 in /usr/local/lib/python3.6/dist-packages (from packaging->transformers) (2.4.7)\n",
            "Requirement already satisfied: certifi>=2017.4.17 in /usr/local/lib/python3.6/dist-packages (from requests->transformers) (2020.12.5)\n",
            "Requirement already satisfied: idna<3,>=2.5 in /usr/local/lib/python3.6/dist-packages (from requests->transformers) (2.10)\n",
            "Requirement already satisfied: urllib3!=1.25.0,!=1.25.1,<1.26,>=1.21.1 in /usr/local/lib/python3.6/dist-packages (from requests->transformers) (1.24.3)\n",
            "Requirement already satisfied: chardet<4,>=3.0.2 in /usr/local/lib/python3.6/dist-packages (from requests->transformers) (3.0.4)\n",
            "Requirement already satisfied: six in /usr/local/lib/python3.6/dist-packages (from sacremoses->transformers) (1.15.0)\n",
            "Requirement already satisfied: click in /usr/local/lib/python3.6/dist-packages (from sacremoses->transformers) (7.1.2)\n",
            "Requirement already satisfied: joblib in /usr/local/lib/python3.6/dist-packages (from sacremoses->transformers) (1.0.0)\n",
            "Building wheels for collected packages: sacremoses\n",
            "  Building wheel for sacremoses (setup.py) ... \u001b[?25l\u001b[?25hdone\n",
            "  Created wheel for sacremoses: filename=sacremoses-0.0.43-cp36-none-any.whl size=893261 sha256=c13a143e6c128015f00b30f8167e7acd8dd2ca55aed8b117dc8a3271cd695ed6\n",
            "  Stored in directory: /root/.cache/pip/wheels/29/3c/fd/7ce5c3f0666dab31a50123635e6fb5e19ceb42ce38d4e58f45\n",
            "Successfully built sacremoses\n",
            "Installing collected packages: tokenizers, sacremoses, transformers\n",
            "Successfully installed sacremoses-0.0.43 tokenizers-0.9.4 transformers-4.1.1\n"
          ],
          "name": "stdout"
        }
      ]
    },
    {
      "cell_type": "markdown",
      "metadata": {
        "id": "GLqWbfuZymBa"
      },
      "source": [
        "**한국어 형태소 분석기(Konlpy) 설치 ①,②**"
      ]
    },
    {
      "cell_type": "code",
      "metadata": {
        "colab": {
          "base_uri": "https://localhost:8080/"
        },
        "id": "8IDpLcuQylfc",
        "outputId": "2023bd75-80c2-459d-f5a6-e13b423eb954"
      },
      "source": [
        "!pip install konlpy"
      ],
      "execution_count": null,
      "outputs": [
        {
          "output_type": "stream",
          "text": [
            "Collecting konlpy\n",
            "\u001b[?25l  Downloading https://files.pythonhosted.org/packages/85/0e/f385566fec837c0b83f216b2da65db9997b35dd675e107752005b7d392b1/konlpy-0.5.2-py2.py3-none-any.whl (19.4MB)\n",
            "\u001b[K     |████████████████████████████████| 19.4MB 51.8MB/s \n",
            "\u001b[?25hCollecting JPype1>=0.7.0\n",
            "\u001b[?25l  Downloading https://files.pythonhosted.org/packages/b7/21/9e2c0dbf9df856e6392a1aec1d18006c60b175aa4e31d351e8278a8a63c0/JPype1-1.2.0-cp36-cp36m-manylinux2010_x86_64.whl (453kB)\n",
            "\u001b[K     |████████████████████████████████| 460kB 74.8MB/s \n",
            "\u001b[?25hCollecting beautifulsoup4==4.6.0\n",
            "\u001b[?25l  Downloading https://files.pythonhosted.org/packages/9e/d4/10f46e5cfac773e22707237bfcd51bbffeaf0a576b0a847ec7ab15bd7ace/beautifulsoup4-4.6.0-py3-none-any.whl (86kB)\n",
            "\u001b[K     |████████████████████████████████| 92kB 14.8MB/s \n",
            "\u001b[?25hRequirement already satisfied: numpy>=1.6 in /usr/local/lib/python3.6/dist-packages (from konlpy) (1.19.4)\n",
            "Requirement already satisfied: lxml>=4.1.0 in /usr/local/lib/python3.6/dist-packages (from konlpy) (4.2.6)\n",
            "Collecting tweepy>=3.7.0\n",
            "  Downloading https://files.pythonhosted.org/packages/bb/7c/99d51f80f3b77b107ebae2634108717362c059a41384a1810d13e2429a81/tweepy-3.9.0-py2.py3-none-any.whl\n",
            "Collecting colorama\n",
            "  Downloading https://files.pythonhosted.org/packages/44/98/5b86278fbbf250d239ae0ecb724f8572af1c91f4a11edf4d36a206189440/colorama-0.4.4-py2.py3-none-any.whl\n",
            "Requirement already satisfied: typing-extensions; python_version < \"3.8\" in /usr/local/lib/python3.6/dist-packages (from JPype1>=0.7.0->konlpy) (3.7.4.3)\n",
            "Requirement already satisfied: six>=1.10.0 in /usr/local/lib/python3.6/dist-packages (from tweepy>=3.7.0->konlpy) (1.15.0)\n",
            "Requirement already satisfied: requests[socks]>=2.11.1 in /usr/local/lib/python3.6/dist-packages (from tweepy>=3.7.0->konlpy) (2.23.0)\n",
            "Requirement already satisfied: requests-oauthlib>=0.7.0 in /usr/local/lib/python3.6/dist-packages (from tweepy>=3.7.0->konlpy) (1.3.0)\n",
            "Requirement already satisfied: urllib3!=1.25.0,!=1.25.1,<1.26,>=1.21.1 in /usr/local/lib/python3.6/dist-packages (from requests[socks]>=2.11.1->tweepy>=3.7.0->konlpy) (1.24.3)\n",
            "Requirement already satisfied: chardet<4,>=3.0.2 in /usr/local/lib/python3.6/dist-packages (from requests[socks]>=2.11.1->tweepy>=3.7.0->konlpy) (3.0.4)\n",
            "Requirement already satisfied: certifi>=2017.4.17 in /usr/local/lib/python3.6/dist-packages (from requests[socks]>=2.11.1->tweepy>=3.7.0->konlpy) (2020.12.5)\n",
            "Requirement already satisfied: idna<3,>=2.5 in /usr/local/lib/python3.6/dist-packages (from requests[socks]>=2.11.1->tweepy>=3.7.0->konlpy) (2.10)\n",
            "Requirement already satisfied: PySocks!=1.5.7,>=1.5.6; extra == \"socks\" in /usr/local/lib/python3.6/dist-packages (from requests[socks]>=2.11.1->tweepy>=3.7.0->konlpy) (1.7.1)\n",
            "Requirement already satisfied: oauthlib>=3.0.0 in /usr/local/lib/python3.6/dist-packages (from requests-oauthlib>=0.7.0->tweepy>=3.7.0->konlpy) (3.1.0)\n",
            "Installing collected packages: JPype1, beautifulsoup4, tweepy, colorama, konlpy\n",
            "  Found existing installation: beautifulsoup4 4.6.3\n",
            "    Uninstalling beautifulsoup4-4.6.3:\n",
            "      Successfully uninstalled beautifulsoup4-4.6.3\n",
            "  Found existing installation: tweepy 3.6.0\n",
            "    Uninstalling tweepy-3.6.0:\n",
            "      Successfully uninstalled tweepy-3.6.0\n",
            "Successfully installed JPype1-1.2.0 beautifulsoup4-4.6.0 colorama-0.4.4 konlpy-0.5.2 tweepy-3.9.0\n"
          ],
          "name": "stdout"
        }
      ]
    },
    {
      "cell_type": "markdown",
      "metadata": {
        "id": "bwDEBVLWyUNT"
      },
      "source": [
        "**학습 데이터 다운로드 (Naver, NSMC) ①,②**"
      ]
    },
    {
      "cell_type": "code",
      "metadata": {
        "colab": {
          "base_uri": "https://localhost:8080/"
        },
        "id": "ONoF6NmlyfNI",
        "outputId": "ae56f341-fe1d-4c70-9c40-38a6d0f246ef"
      },
      "source": [
        "!git clone https://github.com/e9t/nsmc.git"
      ],
      "execution_count": null,
      "outputs": [
        {
          "output_type": "stream",
          "text": [
            "Cloning into 'nsmc'...\n",
            "remote: Enumerating objects: 14763, done.\u001b[K\n",
            "remote: Total 14763 (delta 0), reused 0 (delta 0), pack-reused 14763\u001b[K\n",
            "Receiving objects: 100% (14763/14763), 56.19 MiB | 10.64 MiB/s, done.\n",
            "Resolving deltas: 100% (1749/1749), done.\n",
            "Checking out files: 100% (14737/14737), done.\n"
          ],
          "name": "stdout"
        }
      ]
    },
    {
      "cell_type": "markdown",
      "metadata": {
        "id": "UoJe1HzR_ThF"
      },
      "source": [
        "**캐글 API 설정 ①,②**"
      ]
    },
    {
      "cell_type": "code",
      "metadata": {
        "colab": {
          "resources": {
            "http://localhost:8080/nbextensions/google.colab/files.js": {
              "data": "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",
              "ok": true,
              "headers": [
                [
                  "content-type",
                  "application/javascript"
                ]
              ],
              "status": 200,
              "status_text": ""
            }
          },
          "base_uri": "https://localhost:8080/",
          "height": 292
        },
        "id": "JkBjTu7-6nFH",
        "outputId": "4e3e9789-d870-47b3-fd69-d0b3fa291998"
      },
      "source": [
        "!pip install kaggle\r\n",
        "from google.colab import files\r\n",
        "files.upload()\r\n",
        "# 캐글 개인 API 토큰 파일 선택"
      ],
      "execution_count": null,
      "outputs": [
        {
          "output_type": "stream",
          "text": [
            "Requirement already satisfied: kaggle in /usr/local/lib/python3.6/dist-packages (1.5.10)\n",
            "Requirement already satisfied: six>=1.10 in /usr/local/lib/python3.6/dist-packages (from kaggle) (1.15.0)\n",
            "Requirement already satisfied: urllib3 in /usr/local/lib/python3.6/dist-packages (from kaggle) (1.24.3)\n",
            "Requirement already satisfied: certifi in /usr/local/lib/python3.6/dist-packages (from kaggle) (2020.12.5)\n",
            "Requirement already satisfied: python-slugify in /usr/local/lib/python3.6/dist-packages (from kaggle) (4.0.1)\n",
            "Requirement already satisfied: python-dateutil in /usr/local/lib/python3.6/dist-packages (from kaggle) (2.8.1)\n",
            "Requirement already satisfied: tqdm in /usr/local/lib/python3.6/dist-packages (from kaggle) (4.41.1)\n",
            "Requirement already satisfied: requests in /usr/local/lib/python3.6/dist-packages (from kaggle) (2.23.0)\n",
            "Requirement already satisfied: text-unidecode>=1.3 in /usr/local/lib/python3.6/dist-packages (from python-slugify->kaggle) (1.3)\n",
            "Requirement already satisfied: idna<3,>=2.5 in /usr/local/lib/python3.6/dist-packages (from requests->kaggle) (2.10)\n",
            "Requirement already satisfied: chardet<4,>=3.0.2 in /usr/local/lib/python3.6/dist-packages (from requests->kaggle) (3.0.4)\n"
          ],
          "name": "stdout"
        },
        {
          "output_type": "display_data",
          "data": {
            "text/html": [
              "\n",
              "     <input type=\"file\" id=\"files-a3bc9272-b362-4073-a85b-774a42897083\" name=\"files[]\" multiple disabled\n",
              "        style=\"border:none\" />\n",
              "     <output id=\"result-a3bc9272-b362-4073-a85b-774a42897083\">\n",
              "      Upload widget is only available when the cell has been executed in the\n",
              "      current browser session. Please rerun this cell to enable.\n",
              "      </output>\n",
              "      <script src=\"/nbextensions/google.colab/files.js\"></script> "
            ],
            "text/plain": [
              "<IPython.core.display.HTML object>"
            ]
          },
          "metadata": {
            "tags": []
          }
        },
        {
          "output_type": "stream",
          "text": [
            "Saving kaggle.json to kaggle.json\n"
          ],
          "name": "stdout"
        },
        {
          "output_type": "execute_result",
          "data": {
            "text/plain": [
              "{'kaggle.json': b'{\"username\":\"seungbumkim\",\"key\":\"e78c5b15195059c492af320f88f3e880\"}'}"
            ]
          },
          "metadata": {
            "tags": []
          },
          "execution_count": 4
        }
      ]
    },
    {
      "cell_type": "code",
      "metadata": {
        "colab": {
          "base_uri": "https://localhost:8080/"
        },
        "id": "ig1JOMH0-8C9",
        "outputId": "3256296b-fca7-47c9-8b22-38aaf7ade1d9"
      },
      "source": [
        "ls -1ha kaggle.json"
      ],
      "execution_count": null,
      "outputs": [
        {
          "output_type": "stream",
          "text": [
            "kaggle.json\n"
          ],
          "name": "stdout"
        }
      ]
    },
    {
      "cell_type": "code",
      "metadata": {
        "id": "OzuSXZQL-974"
      },
      "source": [
        "!mkdir -p ~/.kaggle\r\n",
        "!cp kaggle.json ~/.kaggle/\r\n",
        "# Permission Warning 이 일어나지 않도록 \r\n",
        "!chmod 600 ~/.kaggle/kaggle.json"
      ],
      "execution_count": null,
      "outputs": []
    },
    {
      "cell_type": "markdown",
      "metadata": {
        "id": "4-6BVk7P_gJk"
      },
      "source": [
        "**캐글 테스트 데이터 다운로드 ①,②**"
      ]
    },
    {
      "cell_type": "code",
      "metadata": {
        "colab": {
          "base_uri": "https://localhost:8080/"
        },
        "id": "jhG65gMf7QEE",
        "outputId": "641b738b-6e3c-412d-e6cb-f09e10d8304c"
      },
      "source": [
        "!kaggle competitions download -c korean-sa-competition-dfe610\r\n",
        "# 버젼 에러 발생할 경우 재실행"
      ],
      "execution_count": null,
      "outputs": [
        {
          "output_type": "stream",
          "text": [
            "Warning: Looks like you're using an outdated API Version, please consider updating (server 1.5.10 / client 1.5.4)\n",
            "ko_data.csv: Skipping, found more recently modified local copy (use --force to force download)\n"
          ],
          "name": "stdout"
        }
      ]
    },
    {
      "cell_type": "markdown",
      "metadata": {
        "id": "SnN3tSuknnu_"
      },
      "source": [
        "**Glove 다운로드 ①**"
      ]
    },
    {
      "cell_type": "code",
      "metadata": {
        "colab": {
          "base_uri": "https://localhost:8080/"
        },
        "id": "Yj0W3NxanlI7",
        "outputId": "0b3474c3-e6b8-4c9f-cfcb-5979d04b4502"
      },
      "source": [
        "#Glove 다운로드\n",
        "#출처: https://nlp.stanford.edu/projects/glove/\n",
        "!wget http://nlp.stanford.edu/data/glove.6B.zip\n",
        "!unzip glove*.zip"
      ],
      "execution_count": null,
      "outputs": [
        {
          "output_type": "stream",
          "text": [
            "--2020-12-19 15:25:28--  http://nlp.stanford.edu/data/glove.6B.zip\n",
            "Resolving nlp.stanford.edu (nlp.stanford.edu)... 171.64.67.140\n",
            "Connecting to nlp.stanford.edu (nlp.stanford.edu)|171.64.67.140|:80... connected.\n",
            "HTTP request sent, awaiting response... 302 Found\n",
            "Location: https://nlp.stanford.edu/data/glove.6B.zip [following]\n",
            "--2020-12-19 15:25:28--  https://nlp.stanford.edu/data/glove.6B.zip\n",
            "Connecting to nlp.stanford.edu (nlp.stanford.edu)|171.64.67.140|:443... connected.\n",
            "HTTP request sent, awaiting response... 301 Moved Permanently\n",
            "Location: http://downloads.cs.stanford.edu/nlp/data/glove.6B.zip [following]\n",
            "--2020-12-19 15:25:28--  http://downloads.cs.stanford.edu/nlp/data/glove.6B.zip\n",
            "Resolving downloads.cs.stanford.edu (downloads.cs.stanford.edu)... 171.64.64.22\n",
            "Connecting to downloads.cs.stanford.edu (downloads.cs.stanford.edu)|171.64.64.22|:80... connected.\n",
            "HTTP request sent, awaiting response... 200 OK\n",
            "Length: 862182613 (822M) [application/zip]\n",
            "Saving to: ‘glove.6B.zip’\n",
            "\n",
            "glove.6B.zip        100%[===================>] 822.24M  2.18MB/s    in 6m 26s  \n",
            "\n",
            "2020-12-19 15:31:54 (2.13 MB/s) - ‘glove.6B.zip’ saved [862182613/862182613]\n",
            "\n",
            "Archive:  glove.6B.zip\n",
            "  inflating: glove.6B.50d.txt        \n",
            "  inflating: glove.6B.100d.txt       \n",
            "  inflating: glove.6B.200d.txt       \n",
            "  inflating: glove.6B.300d.txt       \n"
          ],
          "name": "stdout"
        }
      ]
    },
    {
      "cell_type": "markdown",
      "metadata": {
        "id": "zDwwo4bLxHkX"
      },
      "source": [
        "**공통 패키지 Import ①,②**\n",
        "\n",
        "BERT, CNN, Transformer 모듈에 필요한 라이브러리 Import"
      ]
    },
    {
      "cell_type": "code",
      "metadata": {
        "id": "qX2FdeQZxoPy"
      },
      "source": [
        "import pandas as pd\n",
        "import numpy as np\n",
        "import random\n",
        "import time\n",
        "import datetime\n",
        "import torch\n",
        "import tensorflow as tf\n",
        "import keras\n",
        "import os\n",
        "import nltk\n",
        "import matplotlib.pyplot as plt\n",
        "\n",
        "from tensorflow import keras\n",
        "from tensorflow.keras import layers\n",
        "from tensorflow.keras.preprocessing.sequence import pad_sequences\n",
        "from tensorflow.keras.preprocessing.text import Tokenizer\n",
        "\n",
        "from transformers import BertTokenizer\n",
        "from transformers import BertForSequenceClassification, AdamW, BertConfig\n",
        "from transformers import get_linear_schedule_with_warmup\n",
        "\n",
        "from torch.utils.data import TensorDataset, DataLoader, RandomSampler, SequentialSampler\n",
        "\n",
        "from sklearn.model_selection import train_test_split\n",
        "from sklearn.ensemble import BaggingClassifier\n",
        "from sklearn.neighbors import KNeighborsClassifier\n",
        "from sklearn.linear_model import LogisticRegression\n",
        "from sklearn.naive_bayes import GaussianNB\n",
        "from sklearn.ensemble import RandomForestClassifier, VotingClassifier\n",
        "\n",
        "from keras.models import Sequential\n",
        "from keras import layers\n",
        "from keras.models import Model\n",
        "from keras.models import load_model\n",
        "from keras.preprocessing.text import Tokenizer\n",
        "from keras.preprocessing.sequence import pad_sequences\n",
        "\n",
        "from konlpy.tag import Okt\n",
        "from konlpy.tag import Kkma\n",
        "from konlpy.tag import Hannanum\n",
        "from konlpy.tag import Komoran\n",
        "from konlpy.tag import Twitter"
      ],
      "execution_count": null,
      "outputs": []
    },
    {
      "cell_type": "markdown",
      "metadata": {
        "id": "cF3XuToCzbYl"
      },
      "source": [
        "**데이터 로드 ①,②** "
      ]
    },
    {
      "cell_type": "code",
      "metadata": {
        "colab": {
          "base_uri": "https://localhost:8080/"
        },
        "id": "tpq0DeMszdMO",
        "outputId": "305159dc-0ce8-4718-9172-06462b8c084a"
      },
      "source": [
        "train = pd.read_csv(\"nsmc/ratings_train.txt\", sep='\\t')\n",
        "test = pd.read_csv(\"nsmc/ratings_test.txt\", sep='\\t')\n",
        "\n",
        "print(train.shape)\n",
        "print(test.shape)"
      ],
      "execution_count": null,
      "outputs": [
        {
          "output_type": "stream",
          "text": [
            "(150000, 3)\n",
            "(50000, 3)\n"
          ],
          "name": "stdout"
        }
      ]
    },
    {
      "cell_type": "code",
      "metadata": {
        "colab": {
          "base_uri": "https://localhost:8080/"
        },
        "id": "4xC_iZWmKNZF",
        "outputId": "ae9080fd-7551-4d5d-ad0b-32b97fa59c71"
      },
      "source": [
        "kaggle = pd.read_csv(\"/content/ko_data.csv\", sep='\\t', encoding = 'cp949', delimiter = ',')\r\n",
        "\r\n",
        "print(kaggle.shape)"
      ],
      "execution_count": null,
      "outputs": [
        {
          "output_type": "stream",
          "text": [
            "(11187, 2)\n"
          ],
          "name": "stdout"
        }
      ]
    },
    {
      "cell_type": "markdown",
      "metadata": {
        "id": "dClWALD-3k82"
      },
      "source": [
        "**테스트, 트레이닝 변수 선언 ①,②**"
      ]
    },
    {
      "cell_type": "code",
      "metadata": {
        "id": "nWAP_0DyYsdZ"
      },
      "source": [
        "X_train = []\n",
        "X_test = []\n",
        "kaggle_test = []\n",
        "okt = Okt()"
      ],
      "execution_count": null,
      "outputs": []
    },
    {
      "cell_type": "markdown",
      "metadata": {
        "id": "jSWTsppLpxoR"
      },
      "source": [
        "**트레이닝, 테스트 Document 형태소 분리 전처리 ①**"
      ]
    },
    {
      "cell_type": "code",
      "metadata": {
        "colab": {
          "base_uri": "https://localhost:8080/"
        },
        "id": "MsA76Cfi2iCD",
        "outputId": "046d4c67-8f1e-45ba-c116-9378b6e8d31c"
      },
      "source": [
        "sentences = train['document']\n",
        "\n",
        "X_train = [okt.morphs(word) for word in sentences.astype(str)]\n",
        "print('x_train : ', X_train[:10])"
      ],
      "execution_count": null,
      "outputs": [
        {
          "output_type": "stream",
          "text": [
            "x_train :  [['아', '더빙', '..', '진짜', '짜증나네요', '목소리'], ['흠', '...', '포스터', '보고', '초딩', '영화', '줄', '....', '오버', '연기', '조차', '가볍지', '않구나'], ['너', '무재', '밓었', '다그', '래서', '보는것을', '추천', '한', '다'], ['교도소', '이야기', '구먼', '..', '솔직히', '재미', '는', '없다', '..', '평점', '조정'], ['사이', '몬페', '그', '의', '익살스런', '연기', '가', '돋보였던', '영화', '!', '스파이더맨', '에서', '늙어', '보이기만', '했던', '커스틴', '던스트', '가', '너무나도', '이뻐', '보였다'], ['막', '걸음', '마', '뗀', '3', '세', '부터', '초등학교', '1', '학년', '생인', '8', '살용', '영화', '.', 'ㅋㅋㅋ', '...', '별', '반개', '도', '아까', '움', '.'], ['원작', '의', '긴장감', '을', '제대로', '살려내지못', '했다', '.'], ['별', '반개', '도', '아깝다', '욕', '나온다', '이응경', '길용우', '연', '기', '생활', '이', '몇', '년', '인지', '..', '정말', '발', '로', '해도', '그것', '보단', '낫겟다', '납치', '.', '감금', '만', '반복', '반복', '..', '이', '드라마', '는', '가족', '도', '없다', '연기', '못', '하는', '사람', '만', '모', '엿', '네'], ['액션', '이', '없는데도', '재미', '있는', '몇', '안되는', '영화'], ['왜케', '평점', '이', '낮은건데', '?', '꽤', '볼', '만', '한', '데', '..', '헐리우드', '식', '화려함에만', '너무', '길들여져', '있나', '?']]\n"
          ],
          "name": "stdout"
        }
      ]
    },
    {
      "cell_type": "code",
      "metadata": {
        "id": "qWIxZ71A9Y24",
        "colab": {
          "base_uri": "https://localhost:8080/"
        },
        "outputId": "1ff4841f-604b-4863-9b51-dc7ab1f01e1c"
      },
      "source": [
        "sentences = test['document']\n",
        "\n",
        "X_test = [okt.morphs(word) for word in sentences.astype(str)]\n",
        "print('x_test : ', X_test[:10])"
      ],
      "execution_count": null,
      "outputs": [
        {
          "output_type": "stream",
          "text": [
            "x_test :  [['굳', 'ㅋ'], ['GDNTOPCLASSINTHECLUB'], ['뭐', '야', '이', '평점', '들', '은', '....', '나쁘진', '않지만', '10', '점', '짜', '리', '는', '더', '더욱', '아니잖아'], ['지루하지는', '않은데', '완전', '막장', '임', '...', '돈', '주고', '보기', '에는', '....'], ['3', 'D', '만', '아니었어도', '별', '다섯', '개', '줬을텐데', '..', '왜', '3', 'D', '로', '나와서', '제', '심기', '를', '불편하게', '하죠', '??'], ['음악', '이', '주가', '된', ',', '최고', '의', '음악', '영화'], ['진정한', '쓰레기'], ['마치', '미국', '애니', '에서', '튀어나온듯', '한', '창의력', '없는', '로봇', '디자인', '부터가', ',', '고개', '를', '젖게', '한다'], ['갈수록', '개판', '되가는', '중국영화', '유치하고', '내용', '없음', '폼', '잡다', '끝남', '말', '도', '안되는', '무기', '에', '유치한', 'cg', '남무', '아', '그립다', '동사서독', '같은', '영화', '가', '이건', '3', '류', '아', '류작', '이다'], ['이별', '의', '아픔', '뒤', '에', '찾아오는', '새로운', '인연', '의', '기쁨', 'But', ',', '모든', '사람', '이', '그렇지는', '않네', '..']]\n"
          ],
          "name": "stdout"
        }
      ]
    },
    {
      "cell_type": "code",
      "metadata": {
        "colab": {
          "base_uri": "https://localhost:8080/"
        },
        "id": "eDhfyOdwPa2j",
        "outputId": "22b28b36-9c37-465c-f3b8-bfc59b73bfed"
      },
      "source": [
        "sentences = kaggle['Sentence']\r\n",
        "\r\n",
        "kaggle_test = [okt.morphs(word) for word in sentences.astype(str)]\r\n",
        "print('kaggle_test : ', kaggle_test[:10])"
      ],
      "execution_count": null,
      "outputs": [
        {
          "output_type": "stream",
          "text": [
            "kaggle_test :  [['정말', '많이', '울었던', '영화', '입니다', '.'], ['시간', '낭비', '예요', '.'], ['포스터', '를', '저렇게', '밖에', '만들지', '못', '했던', '제작자', '의', '소심함에', '침', '을', '뱉고', '싶다', '.'], ['지금', '봐도', '재미있는', '영화', '!!!', '코믹', '과', '감동', '!!!', '그리고', '요리', '!!!'], ['이', '걸', '영화로', '만드는', '거야', '?', '얼마나', '가는지', '보자', '.'], ['잔잔한', '감동', '을', '주는', '영화', '가', '좋은', '영화', '다', '.', '줄리', '안', '무어', '의', '매력', '!'], ['프랑스', '영화', ',', '정말', '재미없다는', '말', '밖에', '...'], ['이보', '다', '더', '자연스러울', '수', '는', '없다', '.'], ['잠', '만', '자고', '있었는데', '~~'], ['오프닝', '씬', '이', '...', '(', '이', '영화', '와', '젊음', '에', '대해', '말', '한다', '.)']]\n"
          ],
          "name": "stdout"
        }
      ]
    },
    {
      "cell_type": "code",
      "metadata": {
        "colab": {
          "base_uri": "https://localhost:8080/"
        },
        "id": "yuNuvxLzx6es",
        "outputId": "3d59b82b-25db-4480-86ae-469a954abb08"
      },
      "source": [
        "print(np.shape(X_test))\n",
        "print(np.shape(X_train))\n",
        "print(np.shape(kaggle_test))"
      ],
      "execution_count": null,
      "outputs": [
        {
          "output_type": "stream",
          "text": [
            "(50000,)\n",
            "(150000,)\n",
            "(11187,)\n"
          ],
          "name": "stdout"
        },
        {
          "output_type": "stream",
          "text": [
            "/usr/local/lib/python3.6/dist-packages/numpy/core/_asarray.py:83: VisibleDeprecationWarning: Creating an ndarray from ragged nested sequences (which is a list-or-tuple of lists-or-tuples-or ndarrays with different lengths or shapes) is deprecated. If you meant to do this, you must specify 'dtype=object' when creating the ndarray\n",
            "  return array(a, dtype, copy=False, order=order)\n"
          ],
          "name": "stderr"
        }
      ]
    },
    {
      "cell_type": "markdown",
      "metadata": {
        "id": "HGEPaFJRrZR8"
      },
      "source": [
        "- Lable data set ①,②"
      ]
    },
    {
      "cell_type": "code",
      "metadata": {
        "id": "HrYafYyYrZ4Q"
      },
      "source": [
        "labels_train = train['label'].values\r\n",
        "labels_test = test['label'].values"
      ],
      "execution_count": null,
      "outputs": []
    },
    {
      "cell_type": "markdown",
      "metadata": {
        "id": "SwnXeVp6xBdr"
      },
      "source": [
        "**Transformer, CNN 모델 텍스트 데이터 패딩 및 문장 처리 ①**"
      ]
    },
    {
      "cell_type": "code",
      "metadata": {
        "id": "H5fYss9kw_L6"
      },
      "source": [
        "tokenizer = Tokenizer()\n",
        "\n",
        "tokenizer.fit_on_texts(X_train) #단어 인덱스를 구축합니다.\n",
        "tokenizer.fit_on_texts(X_test) \n",
        "tokenizer.fit_on_texts(kaggle_test) \n",
        "\n",
        "X_train = tokenizer.texts_to_sequences(X_train) #문자열을 정수 인덱스의 리스트로 변환합니다.\n",
        "X_test = tokenizer.texts_to_sequences(X_test) \n",
        "kaggle_test = tokenizer.texts_to_sequences(kaggle_test)\n",
        "\n",
        "maxlen = 128  \n",
        "vocab_size = len(tokenizer.word_index)+1 # 단어의 수\n",
        "\n",
        "X_train = keras.preprocessing.sequence.pad_sequences(X_train, maxlen=maxlen)#패딩\n",
        "X_test = keras.preprocessing.sequence.pad_sequences(X_test, maxlen=maxlen)\n",
        "kaggle_test = keras.preprocessing.sequence.pad_sequences(kaggle_test, maxlen=maxlen)"
      ],
      "execution_count": null,
      "outputs": []
    },
    {
      "cell_type": "code",
      "metadata": {
        "id": "-eLaN1V_vOtq"
      },
      "source": [
        "def create_embedding_matrix(filepath, word_index, embedding_dim):\n",
        "    vocab_size = len(word_index) + 1  # Adding again 1 because of reserved 0 index\n",
        "    embedding_matrix = np.zeros((vocab_size, embedding_dim))\n",
        "\n",
        "    with open(filepath) as f:\n",
        "        for line in f:\n",
        "            word, *vector = line.split()\n",
        "            if word in word_index:\n",
        "                idx = word_index[word] \n",
        "                embedding_matrix[idx] = np.array(\n",
        "                    vector, dtype=np.float32)[:embedding_dim]\n",
        "\n",
        "    return embedding_matrix\n",
        "\n",
        "EMBEDDING_DIM = 50 #100\n",
        "embedding_matrix = create_embedding_matrix(\n",
        "    './glove.6B.50d.txt',\n",
        "    tokenizer.word_index, EMBEDDING_DIM\n",
        "    )"
      ],
      "execution_count": null,
      "outputs": []
    },
    {
      "cell_type": "markdown",
      "metadata": {
        "id": "4XWJd10iwioI"
      },
      "source": [
        "**BERT 모델 텍스트 전처리 ①,②**"
      ]
    },
    {
      "cell_type": "code",
      "metadata": {
        "colab": {
          "base_uri": "https://localhost:8080/"
        },
        "id": "IjEiIEwPwpnD",
        "outputId": "70fa08f3-8b11-41d1-b038-9e74004b28a9"
      },
      "source": [
        "sentences = train['document']\n",
        "\n",
        "X_train_bert = [\"[CLS] \" + str(sentence) + \" [SEP]\" for sentence in sentences]\n",
        "X_train_bert[:10]"
      ],
      "execution_count": null,
      "outputs": [
        {
          "output_type": "execute_result",
          "data": {
            "text/plain": [
              "['[CLS] 아 더빙.. 진짜 짜증나네요 목소리 [SEP]',\n",
              " '[CLS] 흠...포스터보고 초딩영화줄....오버연기조차 가볍지 않구나 [SEP]',\n",
              " '[CLS] 너무재밓었다그래서보는것을추천한다 [SEP]',\n",
              " '[CLS] 교도소 이야기구먼 ..솔직히 재미는 없다..평점 조정 [SEP]',\n",
              " '[CLS] 사이몬페그의 익살스런 연기가 돋보였던 영화!스파이더맨에서 늙어보이기만 했던 커스틴 던스트가 너무나도 이뻐보였다 [SEP]',\n",
              " '[CLS] 막 걸음마 뗀 3세부터 초등학교 1학년생인 8살용영화.ㅋㅋㅋ...별반개도 아까움. [SEP]',\n",
              " '[CLS] 원작의 긴장감을 제대로 살려내지못했다. [SEP]',\n",
              " '[CLS] 별 반개도 아깝다 욕나온다 이응경 길용우 연기생활이몇년인지..정말 발로해도 그것보단 낫겟다 납치.감금만반복반복..이드라마는 가족도없다 연기못하는사람만모엿네 [SEP]',\n",
              " '[CLS] 액션이 없는데도 재미 있는 몇안되는 영화 [SEP]',\n",
              " '[CLS] 왜케 평점이 낮은건데? 꽤 볼만한데.. 헐리우드식 화려함에만 너무 길들여져 있나? [SEP]']"
            ]
          },
          "metadata": {
            "tags": []
          },
          "execution_count": 13
        }
      ]
    },
    {
      "cell_type": "code",
      "metadata": {
        "colab": {
          "base_uri": "https://localhost:8080/"
        },
        "id": "tKwanaldyv0w",
        "outputId": "dc30891e-82e3-4021-fb23-ebfb31aa1fd8"
      },
      "source": [
        "sentences = test['document']\n",
        "\n",
        "X_test_bert = [\"[CLS] \" + str(sentence) + \" [SEP]\" for sentence in sentences]\n",
        "X_test_bert[:10]"
      ],
      "execution_count": null,
      "outputs": [
        {
          "output_type": "execute_result",
          "data": {
            "text/plain": [
              "['[CLS] 굳 ㅋ [SEP]',\n",
              " '[CLS] GDNTOPCLASSINTHECLUB [SEP]',\n",
              " '[CLS] 뭐야 이 평점들은.... 나쁘진 않지만 10점 짜리는 더더욱 아니잖아 [SEP]',\n",
              " '[CLS] 지루하지는 않은데 완전 막장임... 돈주고 보기에는.... [SEP]',\n",
              " '[CLS] 3D만 아니었어도 별 다섯 개 줬을텐데.. 왜 3D로 나와서 제 심기를 불편하게 하죠?? [SEP]',\n",
              " '[CLS] 음악이 주가 된, 최고의 음악영화 [SEP]',\n",
              " '[CLS] 진정한 쓰레기 [SEP]',\n",
              " '[CLS] 마치 미국애니에서 튀어나온듯한 창의력없는 로봇디자인부터가,고개를 젖게한다 [SEP]',\n",
              " '[CLS] 갈수록 개판되가는 중국영화 유치하고 내용없음 폼잡다 끝남 말도안되는 무기에 유치한cg남무 아 그립다 동사서독같은 영화가 이건 3류아류작이다 [SEP]',\n",
              " '[CLS] 이별의 아픔뒤에 찾아오는 새로운 인연의 기쁨 But, 모든 사람이 그렇지는 않네.. [SEP]']"
            ]
          },
          "metadata": {
            "tags": []
          },
          "execution_count": 14
        }
      ]
    },
    {
      "cell_type": "code",
      "metadata": {
        "colab": {
          "base_uri": "https://localhost:8080/"
        },
        "id": "NHAPrMZ6X7ex",
        "outputId": "5960aab8-e86d-4cbf-b1f7-b88c1d614a2a"
      },
      "source": [
        "sentences = kaggle['Sentence']\r\n",
        "\r\n",
        "X_kaggle_bert = [\"[CLS] \" + str(sentence) + \" [SEP]\" for sentence in sentences]\r\n",
        "X_kaggle_bert[:10]"
      ],
      "execution_count": null,
      "outputs": [
        {
          "output_type": "execute_result",
          "data": {
            "text/plain": [
              "['[CLS] 정말 많이 울었던 영화입니다. [SEP]',\n",
              " '[CLS] 시간 낭비예요. [SEP]',\n",
              " '[CLS] 포스터를 저렇게밖에 만들지 못했던 제작자의 소심함에 침을 뱉고 싶다. [SEP]',\n",
              " '[CLS] 지금 봐도 재미있는 영화!!! 코믹과 감동!!! 그리고 요리!!! [SEP]',\n",
              " '[CLS] 이걸 영화로 만드는 거야?얼마나 가는지 보자. [SEP]',\n",
              " '[CLS] 잔잔한 감동을 주는 영화가 좋은 영화다. 줄리안 무어의 매력! [SEP]',\n",
              " '[CLS] 프랑스 영화, 정말 재미없다는 말밖에... [SEP]',\n",
              " '[CLS] 이보다 더 자연스러울 수는 없다. [SEP]',\n",
              " '[CLS] 잠만 자고 있었는데~~ [SEP]',\n",
              " '[CLS] 오프닝 씬이... (이 영화와 젊음에 대해 말한다.) [SEP]']"
            ]
          },
          "metadata": {
            "tags": []
          },
          "execution_count": 15
        }
      ]
    },
    {
      "cell_type": "markdown",
      "metadata": {
        "id": "pALRi8TU3B10"
      },
      "source": [
        "**Transformer를 이용한 감정분석 모델 설정 ①**"
      ]
    },
    {
      "cell_type": "code",
      "metadata": {
        "id": "S_ByoETo3OlP"
      },
      "source": [
        "class MultiHeadSelfAttention(layers.Layer):\n",
        "    def __init__(self, embed_dim, num_heads=8):\n",
        "        super(MultiHeadSelfAttention, self).__init__()\n",
        "        self.embed_dim = embed_dim\n",
        "        self.num_heads = num_heads\n",
        "        if embed_dim % num_heads != 0:\n",
        "            raise ValueError(\n",
        "                f\"embedding dimension = {embed_dim} should be divisible by number of heads = {num_heads}\"\n",
        "            )\n",
        "        self.projection_dim = embed_dim // num_heads\n",
        "        self.query_dense = layers.Dense(embed_dim)\n",
        "        self.key_dense = layers.Dense(embed_dim)\n",
        "        self.value_dense = layers.Dense(embed_dim)\n",
        "        self.combine_heads = layers.Dense(embed_dim)\n",
        "\n",
        "    def attention(self, query, key, value):\n",
        "        score = tf.matmul(query, key, transpose_b=True)\n",
        "        dim_key = tf.cast(tf.shape(key)[-1], tf.float32)\n",
        "        scaled_score = score / tf.math.sqrt(dim_key)\n",
        "        weights = tf.nn.softmax(scaled_score, axis=-1)\n",
        "        output = tf.matmul(weights, value)\n",
        "        return output, weights\n",
        "\n",
        "    def separate_heads(self, x, batch_size):\n",
        "        x = tf.reshape(x, (batch_size, -1, self.num_heads, self.projection_dim))\n",
        "        return tf.transpose(x, perm=[0, 2, 1, 3])\n",
        "\n",
        "    def call(self, inputs):\n",
        "        # x.shape = [batch_size, seq_len, embedding_dim]\n",
        "        batch_size = tf.shape(inputs)[0]\n",
        "        query = self.query_dense(inputs)  # (batch_size, seq_len, embed_dim)\n",
        "        key = self.key_dense(inputs)  # (batch_size, seq_len, embed_dim)\n",
        "        value = self.value_dense(inputs)  # (batch_size, seq_len, embed_dim)\n",
        "        query = self.separate_heads(\n",
        "            query, batch_size\n",
        "        )  # (batch_size, num_heads, seq_len, projection_dim)\n",
        "        key = self.separate_heads(\n",
        "            key, batch_size\n",
        "        )  # (batch_size, num_heads, seq_len, projection_dim)\n",
        "        value = self.separate_heads(\n",
        "            value, batch_size\n",
        "        )  # (batch_size, num_heads, seq_len, projection_dim)\n",
        "        attention, weights = self.attention(query, key, value)\n",
        "        attention = tf.transpose(\n",
        "            attention, perm=[0, 2, 1, 3]\n",
        "        )  # (batch_size, seq_len, num_heads, projection_dim)\n",
        "        concat_attention = tf.reshape(\n",
        "            attention, (batch_size, -1, self.embed_dim)\n",
        "        )  # (batch_size, seq_len, embed_dim)\n",
        "        output = self.combine_heads(\n",
        "            concat_attention\n",
        "        )  # (batch_size, seq_len, embed_dim)\n",
        "        return output\n",
        "\n",
        "class TransformerBlock(layers.Layer):\n",
        "    def __init__(self, embed_dim, num_heads, ff_dim, rate=0.1):\n",
        "        super(TransformerBlock, self).__init__()\n",
        "        self.att = MultiHeadSelfAttention(embed_dim, num_heads)\n",
        "        self.ffn = keras.Sequential(\n",
        "            [layers.Dense(ff_dim, activation=\"relu\"), layers.Dense(embed_dim),]\n",
        "        )\n",
        "        self.layernorm1 = layers.LayerNormalization(epsilon=1e-6)\n",
        "        self.layernorm2 = layers.LayerNormalization(epsilon=1e-6)\n",
        "        self.dropout1 = layers.Dropout(rate)\n",
        "        self.dropout2 = layers.Dropout(rate)\n",
        "\n",
        "    def call(self, inputs, training):\n",
        "        attn_output = self.att(inputs) #Multihead Attn 블록\n",
        "        attn_output = self.dropout1(attn_output, training=training) #드롭아웃\n",
        "        out1 = self.layernorm1(inputs + attn_output) #LM + Residual\n",
        "        ffn_output = self.ffn(out1) #FF 블록\n",
        "        ffn_output = self.dropout2(ffn_output, training=training) #드롭아웃\n",
        "        return self.layernorm2(out1 + ffn_output) #LM + Residual\n",
        "\n",
        "class TokenAndPositionEmbedding(layers.Layer):\n",
        "    def __init__(self, maxlen, vocab_size, emded_dim):\n",
        "        super(TokenAndPositionEmbedding, self).__init__()\n",
        "        self.token_emb = layers.Embedding(input_dim=vocab_size, output_dim=emded_dim)\n",
        "        self.pos_emb = layers.Embedding(input_dim=maxlen, output_dim=emded_dim)\n",
        "\n",
        "    def call(self, x):\n",
        "        maxlen = tf.shape(x)[-1]\n",
        "        positions = tf.range(start=0, limit=maxlen, delta=1) #포지션 정보\n",
        "        positions = self.pos_emb(positions) #포지션 임베딩\n",
        "        x = self.token_emb(x) #토큰임베딩\n",
        "        return x + positions #합치기"
      ],
      "execution_count": null,
      "outputs": []
    },
    {
      "cell_type": "code",
      "metadata": {
        "id": "iiw8j4E93TpJ"
      },
      "source": [
        "embed_dim = 32  # Embedding size for each token\n",
        "# embed_dim = 512  # Embedding size for each token\n",
        "num_heads = 2  # Number of attention heads\n",
        "# num_heads = 8  # Number of attention heads\n",
        "ff_dim = 32  # Hidden layer size in feed forward network inside transformer\n",
        "# ff_dim = 2048  # Hidden layer size in feed forward network inside transformer\n",
        "\n",
        "inputs = layers.Input(shape=(maxlen,)) #처음 입력\n",
        "embedding_layer = TokenAndPositionEmbedding(maxlen, vocab_size, embed_dim) #객체 생성\n",
        "x = embedding_layer(inputs)  #포지셔널 임베딩\n",
        "transformer_block = TransformerBlock(embed_dim, num_heads, ff_dim) #객체 생성\n",
        "x = transformer_block(x) #트랜스포머 \n",
        "x = layers.GlobalAveragePooling1D()(x) #Average Pooling\n",
        "x = layers.Dropout(0.1)(x) #드롯아웃\n",
        "x = layers.Dense(20, activation=\"relu\")(x) #FFNN\n",
        "x = layers.Dropout(0.1)(x) #드롭아웃\n",
        "outputs = layers.Dense(2, activation=\"softmax\")(x) #Softmax\n",
        "\n",
        "model = keras.Model(inputs=inputs, outputs=outputs) #모델 생성"
      ],
      "execution_count": null,
      "outputs": []
    },
    {
      "cell_type": "markdown",
      "metadata": {
        "id": "AGwhlSCM7kg1"
      },
      "source": [
        "**Transformer를 이용한 감정분석 모델 학습 실행 ①**"
      ]
    },
    {
      "cell_type": "code",
      "metadata": {
        "colab": {
          "base_uri": "https://localhost:8080/"
        },
        "id": "uuismUNU3V70",
        "outputId": "5257f5c3-cf40-46aa-b199-223bfb4e3f01"
      },
      "source": [
        "model.compile(\"adam\", \"sparse_categorical_crossentropy\", metrics=[\"accuracy\"])\n",
        "\n",
        "history = model.fit(X_train, labels_train, batch_size=32, epochs=5, validation_split=0.2)"
      ],
      "execution_count": null,
      "outputs": [
        {
          "output_type": "stream",
          "text": [
            "Epoch 1/5\n",
            "3750/3750 [==============================] - 92s 24ms/step - loss: 0.4700 - accuracy: 0.7550 - val_loss: 0.3274 - val_accuracy: 0.8596\n",
            "Epoch 2/5\n",
            "3750/3750 [==============================] - 90s 24ms/step - loss: 0.2516 - accuracy: 0.8998 - val_loss: 0.3395 - val_accuracy: 0.8559\n",
            "Epoch 3/5\n",
            "3750/3750 [==============================] - 88s 23ms/step - loss: 0.1815 - accuracy: 0.9286 - val_loss: 0.3963 - val_accuracy: 0.8530\n",
            "Epoch 4/5\n",
            "3750/3750 [==============================] - 88s 23ms/step - loss: 0.1377 - accuracy: 0.9461 - val_loss: 0.4638 - val_accuracy: 0.8471\n",
            "Epoch 5/5\n",
            "3750/3750 [==============================] - 88s 23ms/step - loss: 0.1108 - accuracy: 0.9572 - val_loss: 0.5265 - val_accuracy: 0.8429\n"
          ],
          "name": "stdout"
        }
      ]
    },
    {
      "cell_type": "code",
      "metadata": {
        "colab": {
          "base_uri": "https://localhost:8080/"
        },
        "id": "TFS9dlebp5SF",
        "outputId": "44fc0e60-2c69-4b04-fe6c-445fd8701d0e"
      },
      "source": [
        "model.summary()"
      ],
      "execution_count": null,
      "outputs": [
        {
          "output_type": "stream",
          "text": [
            "Model: \"model\"\n",
            "_________________________________________________________________\n",
            "Layer (type)                 Output Shape              Param #   \n",
            "=================================================================\n",
            "input_1 (InputLayer)         [(None, 128)]             0         \n",
            "_________________________________________________________________\n",
            "token_and_position_embedding (None, 128, 32)           3977856   \n",
            "_________________________________________________________________\n",
            "transformer_block (Transform (None, 128, 32)           6464      \n",
            "_________________________________________________________________\n",
            "global_average_pooling1d (Gl (None, 32)                0         \n",
            "_________________________________________________________________\n",
            "dropout_2 (Dropout)          (None, 32)                0         \n",
            "_________________________________________________________________\n",
            "dense_6 (Dense)              (None, 20)                660       \n",
            "_________________________________________________________________\n",
            "dropout_3 (Dropout)          (None, 20)                0         \n",
            "_________________________________________________________________\n",
            "dense_7 (Dense)              (None, 2)                 42        \n",
            "=================================================================\n",
            "Total params: 3,985,022\n",
            "Trainable params: 3,985,022\n",
            "Non-trainable params: 0\n",
            "_________________________________________________________________\n"
          ],
          "name": "stdout"
        }
      ]
    },
    {
      "cell_type": "markdown",
      "metadata": {
        "id": "Kg8IC4qGZlRn"
      },
      "source": [
        "**Transformer를 이용한 감정분석 모델 테스트 Output 데이터 생성 ①**\r\n",
        "\r\n",
        "- Kaggle 테스트 데이터로 예측 수행"
      ]
    },
    {
      "cell_type": "code",
      "metadata": {
        "colab": {
          "base_uri": "https://localhost:8080/"
        },
        "id": "MCw1RZjPEzd1",
        "outputId": "5b5dd518-95e5-4b48-9be2-df3779984327"
      },
      "source": [
        "x_predict_transformer = ()\n",
        "x_predict_transformer = model.predict(kaggle_test)\n",
        "\n",
        "x_predict_transformer = np.argmax(x_predict_transformer, axis = 1)\n",
        "x_predict_transformer = x_predict_transformer.tolist()\n",
        "\n",
        "x_document = []\n",
        "x_document = kaggle['Sentence']\n",
        "x_document = x_document.tolist()\n",
        "\n",
        "x_output_transformer = pd.DataFrame({'document' : x_document, 'predict' : x_predict_transformer})\n",
        "print('아웃풋 데이터 : ', x_output_transformer[:20])\n",
        "print('아웃풋 데이터 Shape: ', np.shape(x_output_transformer))"
      ],
      "execution_count": null,
      "outputs": [
        {
          "output_type": "stream",
          "text": [
            "아웃풋 데이터 :                                      document  predict\n",
            "0                           정말 많이 울었던 영화입니다.        1\n",
            "1                                   시간 낭비예요.        0\n",
            "2     포스터를 저렇게밖에 만들지 못했던 제작자의 소심함에 침을 뱉고 싶다.        1\n",
            "3       지금 봐도 재미있는 영화!!! 코믹과 감동!!! 그리고 요리!!!        1\n",
            "4                  이걸 영화로 만드는 거야?얼마나 가는지 보자.        0\n",
            "5         잔잔한 감동을 주는 영화가 좋은 영화다. 줄리안 무어의 매력!        1\n",
            "6                    프랑스 영화, 정말 재미없다는 말밖에...        1\n",
            "7                         이보다 더 자연스러울 수는 없다.        1\n",
            "8                               잠만 자고 있었는데~~        0\n",
            "9              오프닝 씬이... (이 영화와 젊음에 대해 말한다.)        1\n",
            "10             내용도 재미있고~ 유덕화가 가장 멋지게 나온 영화들~        1\n",
            "11                             영화는 없고 색깔만 있다        0\n",
            "12                    홍성진 영화해설자님우뢰매를 욕하다니...        0\n",
            "13                                 이게 뭐라고...        0\n",
            "14                               우울한 작가주의인 척        0\n",
            "15                                   재밌는데...        1\n",
            "16          최고...녹화 찍어놓은 걸 볼 수 있어서 정말 다행이야..        1\n",
            "17  보면서 동감을 많이 해요. 보면 남의 일이 아닌 것 같아요. 수고하십시요        0\n",
            "18                                   역시 강 씨.        1\n",
            "19                             오오~ 정말 좋아해요!!        1\n",
            "아웃풋 데이터 Shape:  (11187, 2)\n"
          ],
          "name": "stdout"
        }
      ]
    },
    {
      "cell_type": "markdown",
      "metadata": {
        "id": "HAmUMGh_K2--"
      },
      "source": [
        "- Transformer 예측결과 CSV 파일 저장 ① \r\n",
        "- Colab GPU 사용량 문제로 Transformer, CNN, BERT 예측결과 로컬 PC 저장 후 로딩하여 앙상블 결과 산출"
      ]
    },
    {
      "cell_type": "code",
      "metadata": {
        "colab": {
          "base_uri": "https://localhost:8080/"
        },
        "id": "9XgliKp8KkHK",
        "outputId": "55944041-a097-4062-d581-d427c261084c"
      },
      "source": [
        "ensemble_transformer = pd.DataFrame({'transformer prediction' : x_predict_transformer})\r\n",
        "print(ensemble_transformer)"
      ],
      "execution_count": null,
      "outputs": [
        {
          "output_type": "stream",
          "text": [
            "       transformer prediction\n",
            "0                           1\n",
            "1                           0\n",
            "2                           1\n",
            "3                           1\n",
            "4                           0\n",
            "...                       ...\n",
            "11182                       1\n",
            "11183                       0\n",
            "11184                       1\n",
            "11185                       1\n",
            "11186                       0\n",
            "\n",
            "[11187 rows x 1 columns]\n"
          ],
          "name": "stdout"
        }
      ]
    },
    {
      "cell_type": "markdown",
      "metadata": {
        "id": "LCHu-9wHcWTt"
      },
      "source": [
        "- Kaggle 리더보드 업로드 파일 생성 (csv 파일 변환 후 다운로드 하여 예측결과 칼럼명 'Predicted'로 수정 및 인덱스 칼럼명 'Id' 입력 필요)"
      ]
    },
    {
      "cell_type": "code",
      "metadata": {
        "id": "HxISj-aEK17U"
      },
      "source": [
        "ensemble_transformer.to_csv('ensemble_transformer.csv')"
      ],
      "execution_count": null,
      "outputs": []
    },
    {
      "cell_type": "markdown",
      "metadata": {
        "id": "3-GVfCY5o19S"
      },
      "source": [
        "**CNN을 이용한 감정분석 모델 설정 ①**"
      ]
    },
    {
      "cell_type": "code",
      "metadata": {
        "id": "sIINQXhQotBj"
      },
      "source": [
        "seq_input = layers.Input(shape=(maxlen,), dtype='int32')\n",
        "\n",
        "seq_embedded = layers.Embedding(vocab_size, \n",
        "                           EMBEDDING_DIM, \n",
        "                           weights=[embedding_matrix], \n",
        "                           input_length=maxlen, \n",
        "                           trainable=True)(seq_input)\n",
        "\n",
        "filters = [2,3,4,5]\n",
        "conv_models = []\n",
        "for filter in filters:\n",
        "  conv_feat = layers.Conv1D(filters=100, \n",
        "                            kernel_size=filter, \n",
        "                            activation='relu',\n",
        "                            padding='valid')(seq_embedded) #Convolution Layer\n",
        "  pooled_feat = layers.GlobalMaxPooling1D()(conv_feat) #MaxPooling\n",
        "  conv_models.append(pooled_feat)\n",
        "\n",
        "conv_merged = layers.concatenate(conv_models, axis=1) #filter size가 2,3,4,5인 결과들 Concatenation\n",
        "\n",
        "model_output = layers.Dropout(0.2)(conv_merged)\n",
        "model_output = layers.Dense(10, activation='relu')(model_output)\n",
        "logits = layers.Dense(1, activation='sigmoid')(model_output)\n",
        "\n",
        "model = Model(seq_input, logits) #(입력,출력)"
      ],
      "execution_count": null,
      "outputs": []
    },
    {
      "cell_type": "markdown",
      "metadata": {
        "id": "IQhDb47y-Ptc"
      },
      "source": [
        "**CNN을 이용한 감정분석 모델 학습 실행 ①**"
      ]
    },
    {
      "cell_type": "code",
      "metadata": {
        "colab": {
          "base_uri": "https://localhost:8080/"
        },
        "id": "dNT_A3rX-OoE",
        "outputId": "5921534c-a5cf-47c0-ee25-d374edf754c5"
      },
      "source": [
        "model.compile(optimizer='adam',loss='binary_crossentropy', metrics=['accuracy'])\n",
        "\n",
        "#학습 시작\n",
        "history = model.fit(X_train, labels_train, epochs=5, verbose=True, validation_data=(X_test, labels_test),batch_size=32)"
      ],
      "execution_count": null,
      "outputs": [
        {
          "output_type": "stream",
          "text": [
            "Epoch 1/5\n",
            "4688/4688 [==============================] - 174s 36ms/step - loss: 0.4573 - accuracy: 0.7726 - val_loss: 0.3281 - val_accuracy: 0.8583\n",
            "Epoch 2/5\n",
            "4688/4688 [==============================] - 168s 36ms/step - loss: 0.2385 - accuracy: 0.9055 - val_loss: 0.3297 - val_accuracy: 0.8606\n",
            "Epoch 3/5\n",
            "4688/4688 [==============================] - 166s 35ms/step - loss: 0.1466 - accuracy: 0.9456 - val_loss: 0.3974 - val_accuracy: 0.8520\n",
            "Epoch 4/5\n",
            "4688/4688 [==============================] - 170s 36ms/step - loss: 0.0827 - accuracy: 0.9703 - val_loss: 0.4674 - val_accuracy: 0.8481\n",
            "Epoch 5/5\n",
            "4688/4688 [==============================] - 166s 35ms/step - loss: 0.0505 - accuracy: 0.9820 - val_loss: 0.5969 - val_accuracy: 0.8476\n"
          ],
          "name": "stdout"
        }
      ]
    },
    {
      "cell_type": "code",
      "metadata": {
        "id": "-7ilij2tp9mo",
        "colab": {
          "base_uri": "https://localhost:8080/"
        },
        "outputId": "c2d9dccd-0ea0-498d-9e63-b9ec23409636"
      },
      "source": [
        "model.summary()"
      ],
      "execution_count": null,
      "outputs": [
        {
          "output_type": "stream",
          "text": [
            "Model: \"model_1\"\n",
            "__________________________________________________________________________________________________\n",
            "Layer (type)                    Output Shape         Param #     Connected to                     \n",
            "==================================================================================================\n",
            "input_2 (InputLayer)            [(None, 128)]        0                                            \n",
            "__________________________________________________________________________________________________\n",
            "embedding_2 (Embedding)         (None, 128, 50)      6209000     input_2[0][0]                    \n",
            "__________________________________________________________________________________________________\n",
            "conv1d (Conv1D)                 (None, 127, 100)     10100       embedding_2[0][0]                \n",
            "__________________________________________________________________________________________________\n",
            "conv1d_1 (Conv1D)               (None, 126, 100)     15100       embedding_2[0][0]                \n",
            "__________________________________________________________________________________________________\n",
            "conv1d_2 (Conv1D)               (None, 125, 100)     20100       embedding_2[0][0]                \n",
            "__________________________________________________________________________________________________\n",
            "conv1d_3 (Conv1D)               (None, 124, 100)     25100       embedding_2[0][0]                \n",
            "__________________________________________________________________________________________________\n",
            "global_max_pooling1d (GlobalMax (None, 100)          0           conv1d[0][0]                     \n",
            "__________________________________________________________________________________________________\n",
            "global_max_pooling1d_1 (GlobalM (None, 100)          0           conv1d_1[0][0]                   \n",
            "__________________________________________________________________________________________________\n",
            "global_max_pooling1d_2 (GlobalM (None, 100)          0           conv1d_2[0][0]                   \n",
            "__________________________________________________________________________________________________\n",
            "global_max_pooling1d_3 (GlobalM (None, 100)          0           conv1d_3[0][0]                   \n",
            "__________________________________________________________________________________________________\n",
            "concatenate (Concatenate)       (None, 400)          0           global_max_pooling1d[0][0]       \n",
            "                                                                 global_max_pooling1d_1[0][0]     \n",
            "                                                                 global_max_pooling1d_2[0][0]     \n",
            "                                                                 global_max_pooling1d_3[0][0]     \n",
            "__________________________________________________________________________________________________\n",
            "dropout_4 (Dropout)             (None, 400)          0           concatenate[0][0]                \n",
            "__________________________________________________________________________________________________\n",
            "dense_8 (Dense)                 (None, 10)           4010        dropout_4[0][0]                  \n",
            "__________________________________________________________________________________________________\n",
            "dense_9 (Dense)                 (None, 1)            11          dense_8[0][0]                    \n",
            "==================================================================================================\n",
            "Total params: 6,283,421\n",
            "Trainable params: 6,283,421\n",
            "Non-trainable params: 0\n",
            "__________________________________________________________________________________________________\n"
          ],
          "name": "stdout"
        }
      ]
    },
    {
      "cell_type": "markdown",
      "metadata": {
        "id": "XeKR4lp2bKNO"
      },
      "source": [
        "**CNN를 이용한 감정분석 모델 테스트 Output 데이터 생성 ①**"
      ]
    },
    {
      "cell_type": "markdown",
      "metadata": {
        "id": "B6CORfLS6GLr"
      },
      "source": [
        "- CNN 아웃풋 변환 함수 선언"
      ]
    },
    {
      "cell_type": "code",
      "metadata": {
        "id": "4C82PtcqflvS"
      },
      "source": [
        "def sigmoid(x) :\n",
        "    \n",
        "    a = np.array(x)\n",
        "\n",
        "    return a > 0.5\n",
        "\n",
        "def convert(x) :\n",
        "\n",
        "    a = []\n",
        "\n",
        "    for i in x :\n",
        "      i = 1 if i == [True] else 0\n",
        "      a.append(i)   \n",
        "\n",
        "    return a"
      ],
      "execution_count": null,
      "outputs": []
    },
    {
      "cell_type": "markdown",
      "metadata": {
        "id": "1V6yY9P76FL4"
      },
      "source": [
        "- Kaggle 테스트 데이터로 예측 수행"
      ]
    },
    {
      "cell_type": "code",
      "metadata": {
        "colab": {
          "base_uri": "https://localhost:8080/"
        },
        "id": "0v3nvyIGFn0M",
        "outputId": "a6da03f6-57ad-4282-b6d2-8a3fa48d71b5"
      },
      "source": [
        "x_predict_CNN = ()\n",
        "x_predict_CNN = model.predict(kaggle_test)\n",
        "\n",
        "x_predict_CNN = sigmoid(x_predict_CNN)\n",
        "x_predict_CNN = x_predict_CNN.tolist()\n",
        "x_predict_CNN = convert(x_predict_CNN)\n",
        "\n",
        "x_document = []\n",
        "x_document = kaggle['Sentence']\n",
        "x_document = x_document.tolist()\n",
        "\n",
        "x_output_CNN = pd.DataFrame({'document' : x_document, 'predict' : x_predict_CNN})\n",
        "\n",
        "print('아웃풋 데이터: ', x_output_CNN[:100])\n",
        "print('아웃풋 데이터 Shape: ', np.shape(x_output_CNN))"
      ],
      "execution_count": null,
      "outputs": [
        {
          "output_type": "stream",
          "text": [
            "아웃풋 데이터:                                    document  predict\n",
            "0                         정말 많이 울었던 영화입니다.        1\n",
            "1                                 시간 낭비예요.        0\n",
            "2   포스터를 저렇게밖에 만들지 못했던 제작자의 소심함에 침을 뱉고 싶다.        1\n",
            "3     지금 봐도 재미있는 영화!!! 코믹과 감동!!! 그리고 요리!!!        1\n",
            "4                이걸 영화로 만드는 거야?얼마나 가는지 보자.        0\n",
            "..                                     ...      ...\n",
            "95                           ...정말 별로였다. .        0\n",
            "96     15년전부터 지금까지.. 곽재용의 영화는 모두 \"소나기\"다...        0\n",
            "97              너무 웃겼어. 전에 보고 최근에 봤는데 재밌어.        1\n",
            "98                                    쓰레기~        0\n",
            "99             솔직히 기대 했었는데 주인공인 성우에게 실망했어.        0\n",
            "\n",
            "[100 rows x 2 columns]\n",
            "아웃풋 데이터 Shape:  (11187, 2)\n"
          ],
          "name": "stdout"
        }
      ]
    },
    {
      "cell_type": "markdown",
      "metadata": {
        "id": "1-tLcy1yODWl"
      },
      "source": [
        "**CNN 예측결과 CSV 파일 저장 ①**\r\n",
        "\r\n",
        "Colab GPU 사용량 문제로 Transformer, CNN, BERT 예측결과 로컬 PC 저장 후 로딩하여 앙상블 결과 산출"
      ]
    },
    {
      "cell_type": "code",
      "metadata": {
        "colab": {
          "base_uri": "https://localhost:8080/"
        },
        "id": "EjzjA4KFOLR_",
        "outputId": "1171bc78-3df0-41fb-f9e5-514dd0f70843"
      },
      "source": [
        "ensemble_CNN = pd.DataFrame({'CNN prediction' : x_predict_CNN})\r\n",
        "print(ensemble_CNN)"
      ],
      "execution_count": null,
      "outputs": [
        {
          "output_type": "stream",
          "text": [
            "       CNN prediction\n",
            "0                   1\n",
            "1                   0\n",
            "2                   1\n",
            "3                   1\n",
            "4                   0\n",
            "...               ...\n",
            "11182               1\n",
            "11183               0\n",
            "11184               1\n",
            "11185               1\n",
            "11186               0\n",
            "\n",
            "[11187 rows x 1 columns]\n"
          ],
          "name": "stdout"
        }
      ]
    },
    {
      "cell_type": "markdown",
      "metadata": {
        "id": "sOIg-LFiL1x2"
      },
      "source": [
        "- Kaggle 리더보드 업로드 파일 생성 (csv 파일 변환 후 다운로드 하여 예측결과 칼럼명 'Predicted'로 수정 및 인덱스 칼럼명 'Id' 입력 필요)"
      ]
    },
    {
      "cell_type": "code",
      "metadata": {
        "id": "JwfiPdVjOsYQ"
      },
      "source": [
        "ensemble_CNN.to_csv('ensemble_CNN.csv')"
      ],
      "execution_count": null,
      "outputs": []
    },
    {
      "cell_type": "markdown",
      "metadata": {
        "id": "cMwheX6B3bEw"
      },
      "source": [
        "**BERT 감정분석 데이터 처리 ①,②**"
      ]
    },
    {
      "cell_type": "code",
      "metadata": {
        "id": "f0zSToZ5SzF1",
        "colab": {
          "base_uri": "https://localhost:8080/",
          "height": 121,
          "referenced_widgets": [
            "5b12c3f361334f6faa4027866d25a31b",
            "7b0c1a2d86964f1b908d6b9c49d56baf",
            "e29f52ab743a4f3a972dae4635761152",
            "367d6a1078004799a2b023f6bc585627",
            "2668858960d741b78697a2e1864debb3",
            "c31f0c9ef5874990bf7ba453e4cef67e",
            "6ff106888034468d86d5cd0a591f8118",
            "d48f8f5614aa45088f2d935b4e3cbb98"
          ]
        },
        "outputId": "4aee3dd3-e8ca-49b7-b660-d37ba72249f9"
      },
      "source": [
        "tokenizer = BertTokenizer.from_pretrained('bert-base-multilingual-cased', do_lower_case=False)\n",
        "\n",
        "\n",
        "X_train_tokenized_text = [tokenizer.tokenize(sent) for sent in X_train_bert]\n",
        "X_test_tokenized_text = [tokenizer.tokenize(sent) for sent in X_test_bert]\n",
        "X_kaggle_tokenized_text = [tokenizer.tokenize(sent) for sent in X_kaggle_bert]\n",
        "\n",
        "#X_train_tokenized_text = [transform(sent) for sent in X_train_bert]\n",
        "#X_test_tokenized_text = [transform(sent) for sent in X_test_bert]\n",
        "#X_kaggle_tokenized_text = [transform(sent) for sent in X_kaggle_bert]\n",
        "\n",
        "print (X_train_tokenized_text[0])\n",
        "print (X_test_tokenized_text[0])\n",
        "print (X_kaggle_tokenized_text[0])\n",
        "\n",
        "# 입력 토큰의 최대 시퀀스 길이\n",
        "MAX_LEN = 128\n",
        "\n",
        "# 토큰을 숫자 인덱스로 변환\n",
        "X_train_bert = [tokenizer.convert_tokens_to_ids(x) for x in X_train_tokenized_text]\n",
        "X_test_bert = [tokenizer.convert_tokens_to_ids(x) for x in X_test_tokenized_text]\n",
        "X_kaggle_bert = [tokenizer.convert_tokens_to_ids(x) for x in X_kaggle_tokenized_text]\n",
        "\n",
        "# 문장을 MAX_LEN 길이에 맞게 자르고, 모자란 부분을 패딩 0으로 채움\n",
        "X_train_bert = pad_sequences(X_train_bert, maxlen=MAX_LEN, dtype=\"long\", truncating=\"post\", padding=\"post\")\n",
        "X_test_bert = pad_sequences(X_test_bert, maxlen=MAX_LEN, dtype=\"long\", truncating=\"post\", padding=\"post\")\n",
        "X_kaggle_bert = pad_sequences(X_kaggle_bert, maxlen=MAX_LEN, dtype=\"long\", truncating=\"post\", padding=\"post\")"
      ],
      "execution_count": null,
      "outputs": [
        {
          "output_type": "display_data",
          "data": {
            "application/vnd.jupyter.widget-view+json": {
              "model_id": "5b12c3f361334f6faa4027866d25a31b",
              "version_minor": 0,
              "version_major": 2
            },
            "text/plain": [
              "HBox(children=(FloatProgress(value=0.0, description='Downloading', max=995526.0, style=ProgressStyle(descripti…"
            ]
          },
          "metadata": {
            "tags": []
          }
        },
        {
          "output_type": "stream",
          "text": [
            "\n",
            "['[CLS]', '아', '더', '##빙', '.', '.', '진', '##짜', '짜', '##증', '##나', '##네', '##요', '목', '##소', '##리', '[SEP]']\n",
            "['[CLS]', '굳', '[UNK]', '[SEP]']\n",
            "['[CLS]', '정', '##말', '많이', '울', '##었던', '영화', '##입', '##니다', '.', '[SEP]']\n"
          ],
          "name": "stdout"
        }
      ]
    },
    {
      "cell_type": "markdown",
      "metadata": {
        "id": "-8hFspMcTVl1"
      },
      "source": [
        "**BERT 감정분석 모델 설정 ①,②**"
      ]
    },
    {
      "cell_type": "code",
      "metadata": {
        "colab": {
          "base_uri": "https://localhost:8080/"
        },
        "id": "5pDSjeSX48iu",
        "outputId": "612288fd-d1b1-4a4f-e833-099e286a33e4"
      },
      "source": [
        "# 어텐션 마스크 초기화\n",
        "attention_masks = []\n",
        "\n",
        "# 어텐션 마스크를 패딩이 아니면 1, 패딩이면 0으로 설정\n",
        "# 패딩 부분은 BERT 모델에서 어텐션을 수행하지 않아 속도 향상\n",
        "for seq in X_train_bert:\n",
        "    seq_mask = [float(i>0) for i in seq]\n",
        "    attention_masks.append(seq_mask)\n",
        "\n",
        "print(attention_masks[0])\n",
        "\n",
        "# 훈련셋과 검증셋으로 분리\n",
        "train_inputs, validation_inputs, train_labels, validation_labels = train_test_split(X_train_bert,\n",
        "                                                                                    labels_train, \n",
        "                                                                                    random_state=2018, \n",
        "                                                                                    test_size=0.1)\n",
        "\n",
        "# 어텐션 마스크를 훈련셋과 검증셋으로 분리\n",
        "train_masks, validation_masks, _, _ = train_test_split(attention_masks, \n",
        "                                                       X_train_bert,\n",
        "                                                       random_state=2018, \n",
        "                                                       test_size=0.1)\n",
        "\n",
        "\n",
        "# 데이터를 파이토치의 텐서로 변환\n",
        "train_inputs = torch.tensor(train_inputs)\n",
        "train_labels = torch.tensor(train_labels)\n",
        "train_masks = torch.tensor(train_masks)\n",
        "validation_inputs = torch.tensor(validation_inputs)\n",
        "validation_labels = torch.tensor(validation_labels)\n",
        "validation_masks = torch.tensor(validation_masks)\t\t\t\t\n",
        "\n",
        "attention_masks = []\n",
        "\n",
        "for seq in X_kaggle_bert:\n",
        "    seq_mask = [float(i>0) for i in seq]\n",
        "    attention_masks.append(seq_mask)\n",
        "\n",
        "test_inputs = torch.tensor(X_kaggle_bert)\n",
        "test_masks = torch.tensor(attention_masks)"
      ],
      "execution_count": null,
      "outputs": [
        {
          "output_type": "stream",
          "text": [
            "[1.0, 1.0, 1.0, 1.0, 1.0, 1.0, 1.0, 1.0, 1.0, 1.0, 1.0, 1.0, 1.0, 1.0, 1.0, 1.0, 1.0, 0.0, 0.0, 0.0, 0.0, 0.0, 0.0, 0.0, 0.0, 0.0, 0.0, 0.0, 0.0, 0.0, 0.0, 0.0, 0.0, 0.0, 0.0, 0.0, 0.0, 0.0, 0.0, 0.0, 0.0, 0.0, 0.0, 0.0, 0.0, 0.0, 0.0, 0.0, 0.0, 0.0, 0.0, 0.0, 0.0, 0.0, 0.0, 0.0, 0.0, 0.0, 0.0, 0.0, 0.0, 0.0, 0.0, 0.0, 0.0, 0.0, 0.0, 0.0, 0.0, 0.0, 0.0, 0.0, 0.0, 0.0, 0.0, 0.0, 0.0, 0.0, 0.0, 0.0, 0.0, 0.0, 0.0, 0.0, 0.0, 0.0, 0.0, 0.0, 0.0, 0.0, 0.0, 0.0, 0.0, 0.0, 0.0, 0.0, 0.0, 0.0, 0.0, 0.0, 0.0, 0.0, 0.0, 0.0, 0.0, 0.0, 0.0, 0.0, 0.0, 0.0, 0.0, 0.0, 0.0, 0.0, 0.0, 0.0, 0.0, 0.0, 0.0, 0.0, 0.0, 0.0, 0.0, 0.0, 0.0, 0.0, 0.0, 0.0]\n"
          ],
          "name": "stdout"
        }
      ]
    },
    {
      "cell_type": "code",
      "metadata": {
        "id": "nB9LJ6GH6_-D"
      },
      "source": [
        "# 배치 사이즈\n",
        "batch_size = 32\n",
        "\n",
        "# 파이토치의 DataLoader로 입력, 마스크, 라벨을 묶어 데이터 설정\n",
        "# 학습시 배치 사이즈 만큼 데이터를 가져옴\n",
        "train_data = TensorDataset(train_inputs, train_masks, train_labels)\n",
        "train_sampler = RandomSampler(train_data)\n",
        "train_dataloader = DataLoader(train_data, sampler=train_sampler, batch_size=batch_size)\n",
        "\n",
        "validation_data = TensorDataset(validation_inputs, validation_masks, validation_labels)\n",
        "validation_sampler = SequentialSampler(validation_data)\n",
        "validation_dataloader = DataLoader(validation_data, sampler=validation_sampler, batch_size=batch_size)"
      ],
      "execution_count": null,
      "outputs": []
    },
    {
      "cell_type": "code",
      "metadata": {
        "colab": {
          "base_uri": "https://localhost:8080/"
        },
        "id": "M2bJEmys7Lrl",
        "outputId": "e627239a-1276-4b37-e27f-542a2f1563af"
      },
      "source": [
        "# GPU 디바이스 이름 구함\n",
        "device_name = tf.test.gpu_device_name()\n",
        "\n",
        "# GPU 디바이스 이름 검사\n",
        "if device_name == '/device:GPU:0':\n",
        "    print('Found GPU at: {}'.format(device_name))\n",
        "else:\n",
        "    raise SystemError('GPU device not found')"
      ],
      "execution_count": null,
      "outputs": [
        {
          "output_type": "stream",
          "text": [
            "Found GPU at: /device:GPU:0\n"
          ],
          "name": "stdout"
        }
      ]
    },
    {
      "cell_type": "code",
      "metadata": {
        "id": "gVULVQ9b7P2l",
        "colab": {
          "base_uri": "https://localhost:8080/"
        },
        "outputId": "76565067-1412-4e85-ec6d-88fb6625af71"
      },
      "source": [
        "# 디바이스 설정\n",
        "if torch.cuda.is_available():    \n",
        "    device = torch.device(\"cuda\")\n",
        "    print('There are %d GPU(s) available.' % torch.cuda.device_count())\n",
        "    print('We will use the GPU:', torch.cuda.get_device_name(0))\n",
        "else:\n",
        "    device = torch.device(\"cpu\")\n",
        "    print('No GPU available, using the CPU instead.')"
      ],
      "execution_count": null,
      "outputs": [
        {
          "output_type": "stream",
          "text": [
            "There are 1 GPU(s) available.\n",
            "We will use the GPU: Tesla P100-PCIE-16GB\n"
          ],
          "name": "stdout"
        }
      ]
    },
    {
      "cell_type": "code",
      "metadata": {
        "id": "K_H8eFpw7R-Z",
        "colab": {
          "base_uri": "https://localhost:8080/",
          "height": 1000,
          "referenced_widgets": [
            "c14a3d981cdc413fbbcf482cdc791def",
            "b232faf4ca2145069e723156e4fbc3e3",
            "e5c5639f8d404620823055a5375c5476",
            "8671a035597c4f7493030adc7ffdb3da",
            "53b6d0585c234fdc995f4409eb42b77c",
            "3d76c5074b3943f9943083b741849979",
            "26f21df0198c47949a2be8a15382127b",
            "b27950cf0d83414ba6ab41daefe968cd",
            "906c82e9d78f42c09acef28f980c11ce",
            "87cff02415eb421db574fa1c51763071",
            "095b690a3eb04ef0acc388fb9491a1f4",
            "d2bf5f84f40d4583800a0e6de1902c52",
            "60499528272a469ea684b6ddf8033512",
            "ab78ba0b4b0142888f231a2fe354634c",
            "74eaa0528e144c6da8c302a85383aef6",
            "e0c97f8b28224b2e86795ef86a111880"
          ]
        },
        "outputId": "adebd3ef-d71c-4c7c-e7f8-8a97719738b5"
      },
      "source": [
        "# 분류를 위한 BERT 모델 생성\n",
        "model = BertForSequenceClassification.from_pretrained(\"bert-base-multilingual-cased\", num_labels=2)\n",
        "model.cuda()"
      ],
      "execution_count": null,
      "outputs": [
        {
          "output_type": "display_data",
          "data": {
            "application/vnd.jupyter.widget-view+json": {
              "model_id": "c14a3d981cdc413fbbcf482cdc791def",
              "version_minor": 0,
              "version_major": 2
            },
            "text/plain": [
              "HBox(children=(FloatProgress(value=0.0, description='Downloading', max=625.0, style=ProgressStyle(description_…"
            ]
          },
          "metadata": {
            "tags": []
          }
        },
        {
          "output_type": "stream",
          "text": [
            "\n"
          ],
          "name": "stdout"
        },
        {
          "output_type": "display_data",
          "data": {
            "application/vnd.jupyter.widget-view+json": {
              "model_id": "906c82e9d78f42c09acef28f980c11ce",
              "version_minor": 0,
              "version_major": 2
            },
            "text/plain": [
              "HBox(children=(FloatProgress(value=0.0, description='Downloading', max=714314041.0, style=ProgressStyle(descri…"
            ]
          },
          "metadata": {
            "tags": []
          }
        },
        {
          "output_type": "stream",
          "text": [
            "\n"
          ],
          "name": "stdout"
        },
        {
          "output_type": "stream",
          "text": [
            "Some weights of the model checkpoint at bert-base-multilingual-cased were not used when initializing BertForSequenceClassification: ['cls.predictions.bias', 'cls.predictions.transform.dense.weight', 'cls.predictions.transform.dense.bias', 'cls.predictions.decoder.weight', 'cls.seq_relationship.weight', 'cls.seq_relationship.bias', 'cls.predictions.transform.LayerNorm.weight', 'cls.predictions.transform.LayerNorm.bias']\n",
            "- This IS expected if you are initializing BertForSequenceClassification from the checkpoint of a model trained on another task or with another architecture (e.g. initializing a BertForSequenceClassification model from a BertForPreTraining model).\n",
            "- This IS NOT expected if you are initializing BertForSequenceClassification from the checkpoint of a model that you expect to be exactly identical (initializing a BertForSequenceClassification model from a BertForSequenceClassification model).\n",
            "Some weights of BertForSequenceClassification were not initialized from the model checkpoint at bert-base-multilingual-cased and are newly initialized: ['classifier.weight', 'classifier.bias']\n",
            "You should probably TRAIN this model on a down-stream task to be able to use it for predictions and inference.\n"
          ],
          "name": "stderr"
        },
        {
          "output_type": "execute_result",
          "data": {
            "text/plain": [
              "BertForSequenceClassification(\n",
              "  (bert): BertModel(\n",
              "    (embeddings): BertEmbeddings(\n",
              "      (word_embeddings): Embedding(119547, 768, padding_idx=0)\n",
              "      (position_embeddings): Embedding(512, 768)\n",
              "      (token_type_embeddings): Embedding(2, 768)\n",
              "      (LayerNorm): LayerNorm((768,), eps=1e-12, elementwise_affine=True)\n",
              "      (dropout): Dropout(p=0.1, inplace=False)\n",
              "    )\n",
              "    (encoder): BertEncoder(\n",
              "      (layer): ModuleList(\n",
              "        (0): BertLayer(\n",
              "          (attention): BertAttention(\n",
              "            (self): BertSelfAttention(\n",
              "              (query): Linear(in_features=768, out_features=768, bias=True)\n",
              "              (key): Linear(in_features=768, out_features=768, bias=True)\n",
              "              (value): Linear(in_features=768, out_features=768, bias=True)\n",
              "              (dropout): Dropout(p=0.1, inplace=False)\n",
              "            )\n",
              "            (output): BertSelfOutput(\n",
              "              (dense): Linear(in_features=768, out_features=768, bias=True)\n",
              "              (LayerNorm): LayerNorm((768,), eps=1e-12, elementwise_affine=True)\n",
              "              (dropout): Dropout(p=0.1, inplace=False)\n",
              "            )\n",
              "          )\n",
              "          (intermediate): BertIntermediate(\n",
              "            (dense): Linear(in_features=768, out_features=3072, bias=True)\n",
              "          )\n",
              "          (output): BertOutput(\n",
              "            (dense): Linear(in_features=3072, out_features=768, bias=True)\n",
              "            (LayerNorm): LayerNorm((768,), eps=1e-12, elementwise_affine=True)\n",
              "            (dropout): Dropout(p=0.1, inplace=False)\n",
              "          )\n",
              "        )\n",
              "        (1): BertLayer(\n",
              "          (attention): BertAttention(\n",
              "            (self): BertSelfAttention(\n",
              "              (query): Linear(in_features=768, out_features=768, bias=True)\n",
              "              (key): Linear(in_features=768, out_features=768, bias=True)\n",
              "              (value): Linear(in_features=768, out_features=768, bias=True)\n",
              "              (dropout): Dropout(p=0.1, inplace=False)\n",
              "            )\n",
              "            (output): BertSelfOutput(\n",
              "              (dense): Linear(in_features=768, out_features=768, bias=True)\n",
              "              (LayerNorm): LayerNorm((768,), eps=1e-12, elementwise_affine=True)\n",
              "              (dropout): Dropout(p=0.1, inplace=False)\n",
              "            )\n",
              "          )\n",
              "          (intermediate): BertIntermediate(\n",
              "            (dense): Linear(in_features=768, out_features=3072, bias=True)\n",
              "          )\n",
              "          (output): BertOutput(\n",
              "            (dense): Linear(in_features=3072, out_features=768, bias=True)\n",
              "            (LayerNorm): LayerNorm((768,), eps=1e-12, elementwise_affine=True)\n",
              "            (dropout): Dropout(p=0.1, inplace=False)\n",
              "          )\n",
              "        )\n",
              "        (2): BertLayer(\n",
              "          (attention): BertAttention(\n",
              "            (self): BertSelfAttention(\n",
              "              (query): Linear(in_features=768, out_features=768, bias=True)\n",
              "              (key): Linear(in_features=768, out_features=768, bias=True)\n",
              "              (value): Linear(in_features=768, out_features=768, bias=True)\n",
              "              (dropout): Dropout(p=0.1, inplace=False)\n",
              "            )\n",
              "            (output): BertSelfOutput(\n",
              "              (dense): Linear(in_features=768, out_features=768, bias=True)\n",
              "              (LayerNorm): LayerNorm((768,), eps=1e-12, elementwise_affine=True)\n",
              "              (dropout): Dropout(p=0.1, inplace=False)\n",
              "            )\n",
              "          )\n",
              "          (intermediate): BertIntermediate(\n",
              "            (dense): Linear(in_features=768, out_features=3072, bias=True)\n",
              "          )\n",
              "          (output): BertOutput(\n",
              "            (dense): Linear(in_features=3072, out_features=768, bias=True)\n",
              "            (LayerNorm): LayerNorm((768,), eps=1e-12, elementwise_affine=True)\n",
              "            (dropout): Dropout(p=0.1, inplace=False)\n",
              "          )\n",
              "        )\n",
              "        (3): BertLayer(\n",
              "          (attention): BertAttention(\n",
              "            (self): BertSelfAttention(\n",
              "              (query): Linear(in_features=768, out_features=768, bias=True)\n",
              "              (key): Linear(in_features=768, out_features=768, bias=True)\n",
              "              (value): Linear(in_features=768, out_features=768, bias=True)\n",
              "              (dropout): Dropout(p=0.1, inplace=False)\n",
              "            )\n",
              "            (output): BertSelfOutput(\n",
              "              (dense): Linear(in_features=768, out_features=768, bias=True)\n",
              "              (LayerNorm): LayerNorm((768,), eps=1e-12, elementwise_affine=True)\n",
              "              (dropout): Dropout(p=0.1, inplace=False)\n",
              "            )\n",
              "          )\n",
              "          (intermediate): BertIntermediate(\n",
              "            (dense): Linear(in_features=768, out_features=3072, bias=True)\n",
              "          )\n",
              "          (output): BertOutput(\n",
              "            (dense): Linear(in_features=3072, out_features=768, bias=True)\n",
              "            (LayerNorm): LayerNorm((768,), eps=1e-12, elementwise_affine=True)\n",
              "            (dropout): Dropout(p=0.1, inplace=False)\n",
              "          )\n",
              "        )\n",
              "        (4): BertLayer(\n",
              "          (attention): BertAttention(\n",
              "            (self): BertSelfAttention(\n",
              "              (query): Linear(in_features=768, out_features=768, bias=True)\n",
              "              (key): Linear(in_features=768, out_features=768, bias=True)\n",
              "              (value): Linear(in_features=768, out_features=768, bias=True)\n",
              "              (dropout): Dropout(p=0.1, inplace=False)\n",
              "            )\n",
              "            (output): BertSelfOutput(\n",
              "              (dense): Linear(in_features=768, out_features=768, bias=True)\n",
              "              (LayerNorm): LayerNorm((768,), eps=1e-12, elementwise_affine=True)\n",
              "              (dropout): Dropout(p=0.1, inplace=False)\n",
              "            )\n",
              "          )\n",
              "          (intermediate): BertIntermediate(\n",
              "            (dense): Linear(in_features=768, out_features=3072, bias=True)\n",
              "          )\n",
              "          (output): BertOutput(\n",
              "            (dense): Linear(in_features=3072, out_features=768, bias=True)\n",
              "            (LayerNorm): LayerNorm((768,), eps=1e-12, elementwise_affine=True)\n",
              "            (dropout): Dropout(p=0.1, inplace=False)\n",
              "          )\n",
              "        )\n",
              "        (5): BertLayer(\n",
              "          (attention): BertAttention(\n",
              "            (self): BertSelfAttention(\n",
              "              (query): Linear(in_features=768, out_features=768, bias=True)\n",
              "              (key): Linear(in_features=768, out_features=768, bias=True)\n",
              "              (value): Linear(in_features=768, out_features=768, bias=True)\n",
              "              (dropout): Dropout(p=0.1, inplace=False)\n",
              "            )\n",
              "            (output): BertSelfOutput(\n",
              "              (dense): Linear(in_features=768, out_features=768, bias=True)\n",
              "              (LayerNorm): LayerNorm((768,), eps=1e-12, elementwise_affine=True)\n",
              "              (dropout): Dropout(p=0.1, inplace=False)\n",
              "            )\n",
              "          )\n",
              "          (intermediate): BertIntermediate(\n",
              "            (dense): Linear(in_features=768, out_features=3072, bias=True)\n",
              "          )\n",
              "          (output): BertOutput(\n",
              "            (dense): Linear(in_features=3072, out_features=768, bias=True)\n",
              "            (LayerNorm): LayerNorm((768,), eps=1e-12, elementwise_affine=True)\n",
              "            (dropout): Dropout(p=0.1, inplace=False)\n",
              "          )\n",
              "        )\n",
              "        (6): BertLayer(\n",
              "          (attention): BertAttention(\n",
              "            (self): BertSelfAttention(\n",
              "              (query): Linear(in_features=768, out_features=768, bias=True)\n",
              "              (key): Linear(in_features=768, out_features=768, bias=True)\n",
              "              (value): Linear(in_features=768, out_features=768, bias=True)\n",
              "              (dropout): Dropout(p=0.1, inplace=False)\n",
              "            )\n",
              "            (output): BertSelfOutput(\n",
              "              (dense): Linear(in_features=768, out_features=768, bias=True)\n",
              "              (LayerNorm): LayerNorm((768,), eps=1e-12, elementwise_affine=True)\n",
              "              (dropout): Dropout(p=0.1, inplace=False)\n",
              "            )\n",
              "          )\n",
              "          (intermediate): BertIntermediate(\n",
              "            (dense): Linear(in_features=768, out_features=3072, bias=True)\n",
              "          )\n",
              "          (output): BertOutput(\n",
              "            (dense): Linear(in_features=3072, out_features=768, bias=True)\n",
              "            (LayerNorm): LayerNorm((768,), eps=1e-12, elementwise_affine=True)\n",
              "            (dropout): Dropout(p=0.1, inplace=False)\n",
              "          )\n",
              "        )\n",
              "        (7): BertLayer(\n",
              "          (attention): BertAttention(\n",
              "            (self): BertSelfAttention(\n",
              "              (query): Linear(in_features=768, out_features=768, bias=True)\n",
              "              (key): Linear(in_features=768, out_features=768, bias=True)\n",
              "              (value): Linear(in_features=768, out_features=768, bias=True)\n",
              "              (dropout): Dropout(p=0.1, inplace=False)\n",
              "            )\n",
              "            (output): BertSelfOutput(\n",
              "              (dense): Linear(in_features=768, out_features=768, bias=True)\n",
              "              (LayerNorm): LayerNorm((768,), eps=1e-12, elementwise_affine=True)\n",
              "              (dropout): Dropout(p=0.1, inplace=False)\n",
              "            )\n",
              "          )\n",
              "          (intermediate): BertIntermediate(\n",
              "            (dense): Linear(in_features=768, out_features=3072, bias=True)\n",
              "          )\n",
              "          (output): BertOutput(\n",
              "            (dense): Linear(in_features=3072, out_features=768, bias=True)\n",
              "            (LayerNorm): LayerNorm((768,), eps=1e-12, elementwise_affine=True)\n",
              "            (dropout): Dropout(p=0.1, inplace=False)\n",
              "          )\n",
              "        )\n",
              "        (8): BertLayer(\n",
              "          (attention): BertAttention(\n",
              "            (self): BertSelfAttention(\n",
              "              (query): Linear(in_features=768, out_features=768, bias=True)\n",
              "              (key): Linear(in_features=768, out_features=768, bias=True)\n",
              "              (value): Linear(in_features=768, out_features=768, bias=True)\n",
              "              (dropout): Dropout(p=0.1, inplace=False)\n",
              "            )\n",
              "            (output): BertSelfOutput(\n",
              "              (dense): Linear(in_features=768, out_features=768, bias=True)\n",
              "              (LayerNorm): LayerNorm((768,), eps=1e-12, elementwise_affine=True)\n",
              "              (dropout): Dropout(p=0.1, inplace=False)\n",
              "            )\n",
              "          )\n",
              "          (intermediate): BertIntermediate(\n",
              "            (dense): Linear(in_features=768, out_features=3072, bias=True)\n",
              "          )\n",
              "          (output): BertOutput(\n",
              "            (dense): Linear(in_features=3072, out_features=768, bias=True)\n",
              "            (LayerNorm): LayerNorm((768,), eps=1e-12, elementwise_affine=True)\n",
              "            (dropout): Dropout(p=0.1, inplace=False)\n",
              "          )\n",
              "        )\n",
              "        (9): BertLayer(\n",
              "          (attention): BertAttention(\n",
              "            (self): BertSelfAttention(\n",
              "              (query): Linear(in_features=768, out_features=768, bias=True)\n",
              "              (key): Linear(in_features=768, out_features=768, bias=True)\n",
              "              (value): Linear(in_features=768, out_features=768, bias=True)\n",
              "              (dropout): Dropout(p=0.1, inplace=False)\n",
              "            )\n",
              "            (output): BertSelfOutput(\n",
              "              (dense): Linear(in_features=768, out_features=768, bias=True)\n",
              "              (LayerNorm): LayerNorm((768,), eps=1e-12, elementwise_affine=True)\n",
              "              (dropout): Dropout(p=0.1, inplace=False)\n",
              "            )\n",
              "          )\n",
              "          (intermediate): BertIntermediate(\n",
              "            (dense): Linear(in_features=768, out_features=3072, bias=True)\n",
              "          )\n",
              "          (output): BertOutput(\n",
              "            (dense): Linear(in_features=3072, out_features=768, bias=True)\n",
              "            (LayerNorm): LayerNorm((768,), eps=1e-12, elementwise_affine=True)\n",
              "            (dropout): Dropout(p=0.1, inplace=False)\n",
              "          )\n",
              "        )\n",
              "        (10): BertLayer(\n",
              "          (attention): BertAttention(\n",
              "            (self): BertSelfAttention(\n",
              "              (query): Linear(in_features=768, out_features=768, bias=True)\n",
              "              (key): Linear(in_features=768, out_features=768, bias=True)\n",
              "              (value): Linear(in_features=768, out_features=768, bias=True)\n",
              "              (dropout): Dropout(p=0.1, inplace=False)\n",
              "            )\n",
              "            (output): BertSelfOutput(\n",
              "              (dense): Linear(in_features=768, out_features=768, bias=True)\n",
              "              (LayerNorm): LayerNorm((768,), eps=1e-12, elementwise_affine=True)\n",
              "              (dropout): Dropout(p=0.1, inplace=False)\n",
              "            )\n",
              "          )\n",
              "          (intermediate): BertIntermediate(\n",
              "            (dense): Linear(in_features=768, out_features=3072, bias=True)\n",
              "          )\n",
              "          (output): BertOutput(\n",
              "            (dense): Linear(in_features=3072, out_features=768, bias=True)\n",
              "            (LayerNorm): LayerNorm((768,), eps=1e-12, elementwise_affine=True)\n",
              "            (dropout): Dropout(p=0.1, inplace=False)\n",
              "          )\n",
              "        )\n",
              "        (11): BertLayer(\n",
              "          (attention): BertAttention(\n",
              "            (self): BertSelfAttention(\n",
              "              (query): Linear(in_features=768, out_features=768, bias=True)\n",
              "              (key): Linear(in_features=768, out_features=768, bias=True)\n",
              "              (value): Linear(in_features=768, out_features=768, bias=True)\n",
              "              (dropout): Dropout(p=0.1, inplace=False)\n",
              "            )\n",
              "            (output): BertSelfOutput(\n",
              "              (dense): Linear(in_features=768, out_features=768, bias=True)\n",
              "              (LayerNorm): LayerNorm((768,), eps=1e-12, elementwise_affine=True)\n",
              "              (dropout): Dropout(p=0.1, inplace=False)\n",
              "            )\n",
              "          )\n",
              "          (intermediate): BertIntermediate(\n",
              "            (dense): Linear(in_features=768, out_features=3072, bias=True)\n",
              "          )\n",
              "          (output): BertOutput(\n",
              "            (dense): Linear(in_features=3072, out_features=768, bias=True)\n",
              "            (LayerNorm): LayerNorm((768,), eps=1e-12, elementwise_affine=True)\n",
              "            (dropout): Dropout(p=0.1, inplace=False)\n",
              "          )\n",
              "        )\n",
              "      )\n",
              "    )\n",
              "    (pooler): BertPooler(\n",
              "      (dense): Linear(in_features=768, out_features=768, bias=True)\n",
              "      (activation): Tanh()\n",
              "    )\n",
              "  )\n",
              "  (dropout): Dropout(p=0.1, inplace=False)\n",
              "  (classifier): Linear(in_features=768, out_features=2, bias=True)\n",
              ")"
            ]
          },
          "metadata": {
            "tags": []
          },
          "execution_count": 21
        }
      ]
    },
    {
      "cell_type": "code",
      "metadata": {
        "id": "LBzmBFA37Wa2"
      },
      "source": [
        "# 옵티마이저 설정\n",
        "optimizer = AdamW(model.parameters(),\n",
        "                  lr = 2e-5, # 학습률\n",
        "                  eps = 1e-8 # 0으로 나누는 것을 방지하기 위한 epsilon 값\n",
        "                )\n",
        "\n",
        "# 에폭수\n",
        "epochs = 5\n",
        "\n",
        "# 총 훈련 스텝 : 배치반복 횟수 * 에폭\n",
        "total_steps = len(train_dataloader) * epochs\n",
        "\n",
        "# 처음에 학습률을 조금씩 변화시키는 스케줄러 생성\n",
        "scheduler = get_linear_schedule_with_warmup(optimizer, \n",
        "                                            num_warmup_steps = 0,\n",
        "                                            num_training_steps = total_steps)"
      ],
      "execution_count": null,
      "outputs": []
    },
    {
      "cell_type": "code",
      "metadata": {
        "id": "zpT9qvrr7Zfc"
      },
      "source": [
        "# 정확도 계산 함수\n",
        "def flat_accuracy(preds, labels):\n",
        "    \n",
        "    pred_flat = np.argmax(preds, axis=1).flatten()\n",
        "    labels_flat = labels.flatten()\n",
        "\n",
        "    return np.sum(pred_flat == labels_flat) / len(labels_flat)"
      ],
      "execution_count": null,
      "outputs": []
    },
    {
      "cell_type": "code",
      "metadata": {
        "id": "tsWxC3c87Zvn"
      },
      "source": [
        "# 시간 표시 함수\n",
        "def format_time(elapsed):\n",
        "\n",
        "    # 반올림\n",
        "    elapsed_rounded = int(round((elapsed)))\n",
        "    \n",
        "    # hh:mm:ss으로 형태 변경\n",
        "    return str(datetime.timedelta(seconds=elapsed_rounded))"
      ],
      "execution_count": null,
      "outputs": []
    },
    {
      "cell_type": "markdown",
      "metadata": {
        "id": "Sj2PRwH-Fwmj"
      },
      "source": [
        "**BERT 감정분석 모델 학습 실행**"
      ]
    },
    {
      "cell_type": "markdown",
      "metadata": {
        "id": "9SXx6DYvTBrP"
      },
      "source": [
        "- Training, Validation 진행 (Colab Out of memory 시 초기화 후 분할 재실행 필요)"
      ]
    },
    {
      "cell_type": "code",
      "metadata": {
        "id": "e_0uwTuh7Z6S",
        "colab": {
          "base_uri": "https://localhost:8080/"
        },
        "outputId": "e1bb9244-f5cc-494a-dd24-383b5c380339"
      },
      "source": [
        "# 재현을 위해 랜덤시드 고정\n",
        "seed_val = 42\n",
        "random.seed(seed_val)\n",
        "np.random.seed(seed_val)\n",
        "torch.manual_seed(seed_val)\n",
        "torch.cuda.manual_seed_all(seed_val)\n",
        "\n",
        "# 그래디언트 초기화\n",
        "model.zero_grad()\n",
        "\n",
        "# 에폭만큼 반복\n",
        "for epoch_i in range(0, epochs):\n",
        "    \n",
        "    # ========================================\n",
        "    #               Training\n",
        "    # ========================================\n",
        "    \n",
        "    print(\"\")\n",
        "    print('======== Epoch {:} / {:} ========'.format(epoch_i + 1, epochs))\n",
        "    print('Training...')\n",
        "\n",
        "    # 시작 시간 설정\n",
        "    t0 = time.time()\n",
        "\n",
        "    # 로스 초기화\n",
        "    total_loss = 0\n",
        "\n",
        "    # 훈련모드로 변경\n",
        "    model.train()\n",
        "        \n",
        "    # 데이터로더에서 배치만큼 반복하여 가져옴\n",
        "    for step, batch in enumerate(train_dataloader):\n",
        "        # 경과 정보 표시\n",
        "        if step % 500 == 0 and not step == 0:\n",
        "            elapsed = format_time(time.time() - t0)\n",
        "            print('  Batch {:>5,}  of  {:>5,}.    Elapsed: {:}.'.format(step, len(train_dataloader), elapsed))\n",
        "\n",
        "        # 배치를 GPU에 넣음\n",
        "        batch = tuple(t.to(device) for t in batch)\n",
        "        \n",
        "        # 배치에서 데이터 추출\n",
        "        b_input_ids, b_input_mask, b_labels = batch\n",
        "\n",
        "        # Forward 수행                \n",
        "        outputs = model(b_input_ids, \n",
        "                        token_type_ids=None, \n",
        "                        attention_mask=b_input_mask, \n",
        "                        labels=b_labels)\n",
        "        \n",
        "        # 로스 구함\n",
        "        loss = outputs[0]\n",
        "\n",
        "        # 총 로스 계산\n",
        "        total_loss += loss.item()\n",
        "\n",
        "        # Backward 수행으로 그래디언트 계산\n",
        "        loss.backward()\n",
        "\n",
        "        # 그래디언트 클리핑\n",
        "        torch.nn.utils.clip_grad_norm_(model.parameters(), 1.0)\n",
        "\n",
        "        # 그래디언트를 통해 가중치 파라미터 업데이트\n",
        "        optimizer.step()\n",
        "\n",
        "        # 스케줄러로 학습률 감소\n",
        "        scheduler.step()\n",
        "\n",
        "        # 그래디언트 초기화\n",
        "        model.zero_grad()\n",
        "\n",
        "    # 평균 로스 계산\n",
        "    avg_train_loss = total_loss / len(train_dataloader)            \n",
        "\n",
        "    print(\"\")\n",
        "    print(\"  Average training loss: {0:.2f}\".format(avg_train_loss))\n",
        "    print(\"  Training epcoh took: {:}\".format(format_time(time.time() - t0)))\n",
        "        \n",
        "    # ========================================\n",
        "    #               Validation\n",
        "    # ========================================\n",
        "\n",
        "    print(\"\")\n",
        "    print(\"Running Validation...\")\n",
        "\n",
        "    #시작 시간 설정\n",
        "    t0 = time.time()\n",
        "\n",
        "    # 평가모드로 변경\n",
        "    model.eval()\n",
        "\n",
        "    # 변수 초기화\n",
        "    eval_loss, eval_accuracy = 0, 0\n",
        "    nb_eval_steps, nb_eval_examples = 0, 0\n",
        "\n",
        "    # 데이터로더에서 배치만큼 반복하여 가져옴\n",
        "    for batch in validation_dataloader:\n",
        "        # 배치를 GPU에 넣음\n",
        "        batch = tuple(t.to(device) for t in batch)\n",
        "        \n",
        "        # 배치에서 데이터 추출\n",
        "        b_input_ids, b_input_mask, b_labels = batch\n",
        "        \n",
        "        # 그래디언트 계산 안함\n",
        "        with torch.no_grad():     \n",
        "            # Forward 수행\n",
        "            outputs = model(b_input_ids, \n",
        "                            token_type_ids=None, \n",
        "                            attention_mask=b_input_mask)\n",
        "        \n",
        "        # 로스 구함\n",
        "        logits = outputs[0]\n",
        "\n",
        "        # CPU로 데이터 이동\n",
        "        logits = logits.detach().cpu().numpy()\n",
        "        label_ids = b_labels.to('cpu').numpy()\n",
        "        \n",
        "        # 출력 로짓과 라벨을 비교하여 정확도 계산\n",
        "        tmp_eval_accuracy = flat_accuracy(logits, label_ids)\n",
        "        eval_accuracy += tmp_eval_accuracy\n",
        "        nb_eval_steps += 1\n",
        "\n",
        "    print(\"  Accuracy: {0:.2f}\".format(eval_accuracy/nb_eval_steps))\n",
        "    print(\"  Validation took: {:}\".format(format_time(time.time() - t0)))\n",
        "\n",
        "print(\"\")\n",
        "print(\"Training complete!\")"
      ],
      "execution_count": null,
      "outputs": [
        {
          "output_type": "stream",
          "text": [
            "\n",
            "======== Epoch 1 / 5 ========\n",
            "Training...\n",
            "  Batch   500  of  4,219.    Elapsed: 0:03:17.\n",
            "  Batch 1,000  of  4,219.    Elapsed: 0:06:35.\n",
            "  Batch 1,500  of  4,219.    Elapsed: 0:09:52.\n",
            "  Batch 2,000  of  4,219.    Elapsed: 0:13:09.\n",
            "  Batch 2,500  of  4,219.    Elapsed: 0:16:26.\n",
            "  Batch 3,000  of  4,219.    Elapsed: 0:19:43.\n",
            "  Batch 3,500  of  4,219.    Elapsed: 0:23:00.\n",
            "  Batch 4,000  of  4,219.    Elapsed: 0:26:17.\n",
            "\n",
            "  Average training loss: 0.38\n",
            "  Training epcoh took: 0:27:43\n",
            "\n",
            "Running Validation...\n",
            "  Accuracy: 0.86\n",
            "  Validation took: 0:00:57\n",
            "\n",
            "======== Epoch 2 / 5 ========\n",
            "Training...\n",
            "  Batch   500  of  4,219.    Elapsed: 0:03:17.\n",
            "  Batch 1,000  of  4,219.    Elapsed: 0:06:34.\n",
            "  Batch 1,500  of  4,219.    Elapsed: 0:09:51.\n",
            "  Batch 2,000  of  4,219.    Elapsed: 0:13:08.\n",
            "  Batch 2,500  of  4,219.    Elapsed: 0:16:24.\n",
            "  Batch 3,000  of  4,219.    Elapsed: 0:19:41.\n",
            "  Batch 3,500  of  4,219.    Elapsed: 0:22:58.\n",
            "  Batch 4,000  of  4,219.    Elapsed: 0:26:15.\n",
            "\n",
            "  Average training loss: 0.29\n",
            "  Training epcoh took: 0:27:41\n",
            "\n",
            "Running Validation...\n",
            "  Accuracy: 0.87\n",
            "  Validation took: 0:00:57\n",
            "\n",
            "======== Epoch 3 / 5 ========\n",
            "Training...\n",
            "  Batch   500  of  4,219.    Elapsed: 0:03:17.\n",
            "  Batch 1,000  of  4,219.    Elapsed: 0:06:34.\n",
            "  Batch 1,500  of  4,219.    Elapsed: 0:09:50.\n",
            "  Batch 2,000  of  4,219.    Elapsed: 0:13:07.\n",
            "  Batch 2,500  of  4,219.    Elapsed: 0:16:24.\n",
            "  Batch 3,000  of  4,219.    Elapsed: 0:19:41.\n",
            "  Batch 3,500  of  4,219.    Elapsed: 0:22:58.\n",
            "  Batch 4,000  of  4,219.    Elapsed: 0:26:15.\n",
            "\n",
            "  Average training loss: 0.23\n",
            "  Training epcoh took: 0:27:41\n",
            "\n",
            "Running Validation...\n",
            "  Accuracy: 0.87\n",
            "  Validation took: 0:00:57\n",
            "\n",
            "======== Epoch 4 / 5 ========\n",
            "Training...\n",
            "  Batch   500  of  4,219.    Elapsed: 0:03:17.\n",
            "  Batch 1,000  of  4,219.    Elapsed: 0:06:34.\n",
            "  Batch 1,500  of  4,219.    Elapsed: 0:09:51.\n",
            "  Batch 2,000  of  4,219.    Elapsed: 0:13:08.\n",
            "  Batch 2,500  of  4,219.    Elapsed: 0:16:25.\n",
            "  Batch 3,000  of  4,219.    Elapsed: 0:19:41.\n",
            "  Batch 3,500  of  4,219.    Elapsed: 0:22:58.\n",
            "  Batch 4,000  of  4,219.    Elapsed: 0:26:15.\n",
            "\n",
            "  Average training loss: 0.18\n",
            "  Training epcoh took: 0:27:41\n",
            "\n",
            "Running Validation...\n",
            "  Accuracy: 0.87\n",
            "  Validation took: 0:00:57\n",
            "\n",
            "======== Epoch 5 / 5 ========\n",
            "Training...\n",
            "  Batch   500  of  4,219.    Elapsed: 0:03:17.\n",
            "  Batch 1,000  of  4,219.    Elapsed: 0:06:34.\n",
            "  Batch 1,500  of  4,219.    Elapsed: 0:09:50.\n",
            "  Batch 2,000  of  4,219.    Elapsed: 0:13:07.\n",
            "  Batch 2,500  of  4,219.    Elapsed: 0:16:24.\n",
            "  Batch 3,000  of  4,219.    Elapsed: 0:19:41.\n",
            "  Batch 3,500  of  4,219.    Elapsed: 0:22:58.\n",
            "  Batch 4,000  of  4,219.    Elapsed: 0:26:15.\n",
            "\n",
            "  Average training loss: 0.15\n",
            "  Training epcoh took: 0:27:41\n",
            "\n",
            "Running Validation...\n",
            "  Accuracy: 0.87\n",
            "  Validation took: 0:00:57\n",
            "\n",
            "Training complete!\n"
          ],
          "name": "stdout"
        }
      ]
    },
    {
      "cell_type": "markdown",
      "metadata": {
        "id": "bvONj04EtcWu"
      },
      "source": [
        "**BERT 감정분석 모델 신규 텍스트 함수 선언 ①,②**"
      ]
    },
    {
      "cell_type": "code",
      "metadata": {
        "id": "KiInMLzGJY1Z"
      },
      "source": [
        "# 문장 테스트\n",
        "def test_sentences(inputs, masks):\n",
        "\n",
        "    # 평가모드로 변경\n",
        "    model.eval()\n",
        "\n",
        "    # 문장을 입력 데이터로 변환\n",
        "    #inputs, masks = convert_input_data(sentences)\n",
        "    inputs = inputs\n",
        "    masks = masks\n",
        "\n",
        "    # 데이터를 GPU에 넣음\n",
        "    b_input_ids = inputs.to(device)\n",
        "    b_input_mask = masks.to(device)\n",
        "            \n",
        "    # 그래디언트 계산 안함\n",
        "    with torch.no_grad():     \n",
        "        # Forward 수행\n",
        "        outputs = model(b_input_ids, \n",
        "                        token_type_ids=None, \n",
        "                        attention_mask=b_input_mask)\n",
        "\n",
        "    # 로스 구함\n",
        "    logits = outputs[0]\n",
        "\n",
        "    # CPU로 데이터 이동\n",
        "    logits = logits.detach().cpu().numpy()\n",
        "\n",
        "    return logits"
      ],
      "execution_count": null,
      "outputs": []
    },
    {
      "cell_type": "markdown",
      "metadata": {
        "id": "b8uTqqANQU1Z"
      },
      "source": [
        "**BERT를 이용한 감정분석 모델 테스트 Output 데이터 생성 ①,②** "
      ]
    },
    {
      "cell_type": "markdown",
      "metadata": {
        "id": "ltINtXfEIMdz"
      },
      "source": [
        "- 테스트 데이터 분리 (코랩 GPU 메모리 문제로 분할 실행)"
      ]
    },
    {
      "cell_type": "code",
      "metadata": {
        "id": "BKULY9ojSvnO"
      },
      "source": [
        "# Kaggle test 데이터 분리 (Colab GPU 활용 제한으로 분리하여 예측 결과 저장 후 병합)\r\n",
        "test_kaggle_inputs_1 = test_inputs[:2000]\r\n",
        "test_kaggle_masks_1 = test_masks[:2000]\r\n",
        "test_kaggle_inputs_2 = test_inputs[2000:4000]\r\n",
        "test_kaggle_masks_2 = test_masks[2000:4000]\r\n",
        "test_kaggle_inputs_3 = test_inputs[4000:6000]\r\n",
        "test_kaggle_masks_3 = test_masks[4000:6000]\r\n",
        "test_kaggle_inputs_4 = test_inputs[6000:8000]\r\n",
        "test_kaggle_masks_4 = test_masks[6000:8000]\r\n",
        "test_kaggle_inputs_5 = test_inputs[8000:10000]\r\n",
        "test_kaggle_masks_5 = test_masks[8000:10000]\r\n",
        "test_kaggle_inputs_6 = test_inputs[10000:11187]\r\n",
        "test_kaggle_masks_6 = test_masks[10000:11187]"
      ],
      "execution_count": null,
      "outputs": []
    },
    {
      "cell_type": "markdown",
      "metadata": {
        "id": "UIrn64IgIYWS"
      },
      "source": [
        "- Kaggle 테스트 데이터로 예측 수행 1"
      ]
    },
    {
      "cell_type": "code",
      "metadata": {
        "colab": {
          "base_uri": "https://localhost:8080/"
        },
        "id": "6ar9hOh3FGwA",
        "outputId": "55756ffc-e54d-4f13-82e0-b61ef235e2fe"
      },
      "source": [
        "logits = test_sentences(test_kaggle_inputs_1, test_kaggle_masks_1)\r\n",
        "\r\n",
        "x_predict_BERT_1 = np.argmax(logits, axis = 1)\r\n",
        "x_predict_BERT_1 = x_predict_BERT_1.tolist()\r\n",
        "print('예측결과:', x_predict_BERT_1[:10])"
      ],
      "execution_count": null,
      "outputs": [
        {
          "output_type": "stream",
          "text": [
            "예측결과: [1, 0, 0, 1, 0, 1, 0, 1, 0, 1]\n"
          ],
          "name": "stdout"
        }
      ]
    },
    {
      "cell_type": "markdown",
      "metadata": {
        "id": "HtYNebQItMsd"
      },
      "source": [
        "- BERT output csv 파일 저장 1"
      ]
    },
    {
      "cell_type": "code",
      "metadata": {
        "id": "YZDBXFUnoWQ1",
        "colab": {
          "base_uri": "https://localhost:8080/"
        },
        "outputId": "fe113197-8553-4ab9-f5c3-8326ac5db9b4"
      },
      "source": [
        "ensemble_BERT_1 = pd.DataFrame({'BERT prediction' : x_predict_BERT_1})\r\n",
        "print(ensemble_BERT_1)"
      ],
      "execution_count": null,
      "outputs": [
        {
          "output_type": "stream",
          "text": [
            "      BERT prediction\n",
            "0                   1\n",
            "1                   0\n",
            "2                   0\n",
            "3                   1\n",
            "4                   0\n",
            "...               ...\n",
            "1995                1\n",
            "1996                0\n",
            "1997                0\n",
            "1998                1\n",
            "1999                1\n",
            "\n",
            "[2000 rows x 1 columns]\n"
          ],
          "name": "stdout"
        }
      ]
    },
    {
      "cell_type": "code",
      "metadata": {
        "id": "v2WIG9a7ob1a"
      },
      "source": [
        "ensemble_BERT_1.to_csv('ensemble_BERT_1.csv')"
      ],
      "execution_count": null,
      "outputs": []
    },
    {
      "cell_type": "markdown",
      "metadata": {
        "id": "UCm0jmGQIbWO"
      },
      "source": [
        "- Kaggle 테스트 데이터로 예측 수행 2"
      ]
    },
    {
      "cell_type": "code",
      "metadata": {
        "id": "yA9Ox9GjUkq1",
        "colab": {
          "base_uri": "https://localhost:8080/"
        },
        "outputId": "42ccf26b-b2f6-4bde-80bf-10a380d3a953"
      },
      "source": [
        "logits = test_sentences(test_kaggle_inputs_2, test_kaggle_masks_2)\r\n",
        "\r\n",
        "x_predict_BERT_2 = np.argmax(logits, axis = 1)\r\n",
        "x_predict_BERT_2 = x_predict_BERT_2.tolist()\r\n",
        "print('예측결과:', x_predict_BERT_2[:10])"
      ],
      "execution_count": null,
      "outputs": [
        {
          "output_type": "stream",
          "text": [
            "예측결과: [0, 0, 0, 1, 0, 1, 1, 0, 0, 0]\n"
          ],
          "name": "stdout"
        }
      ]
    },
    {
      "cell_type": "markdown",
      "metadata": {
        "id": "pEoRXOYNtPpB"
      },
      "source": [
        "- BERT output csv 파일 저장 2"
      ]
    },
    {
      "cell_type": "code",
      "metadata": {
        "id": "teuAFwIcoW-4",
        "colab": {
          "base_uri": "https://localhost:8080/"
        },
        "outputId": "bb0ac1d6-a004-4ed9-a446-056c62c8cc26"
      },
      "source": [
        "ensemble_BERT_2 = pd.DataFrame({'BERT prediction' : x_predict_BERT_2})\r\n",
        "print(ensemble_BERT_2)"
      ],
      "execution_count": null,
      "outputs": [
        {
          "output_type": "stream",
          "text": [
            "      BERT prediction\n",
            "0                   0\n",
            "1                   0\n",
            "2                   0\n",
            "3                   1\n",
            "4                   0\n",
            "...               ...\n",
            "1995                0\n",
            "1996                1\n",
            "1997                0\n",
            "1998                1\n",
            "1999                0\n",
            "\n",
            "[2000 rows x 1 columns]\n"
          ],
          "name": "stdout"
        }
      ]
    },
    {
      "cell_type": "code",
      "metadata": {
        "id": "gX_TPBN9ocxT"
      },
      "source": [
        "ensemble_BERT_2.to_csv('ensemble_BERT_2.csv')"
      ],
      "execution_count": null,
      "outputs": []
    },
    {
      "cell_type": "markdown",
      "metadata": {
        "id": "4Vd2HEWKIhF1"
      },
      "source": [
        "- Kaggle 테스트 데이터로 예측 수행 3"
      ]
    },
    {
      "cell_type": "code",
      "metadata": {
        "id": "tGqaNjzIUlI0",
        "colab": {
          "base_uri": "https://localhost:8080/"
        },
        "outputId": "319ba705-516c-4736-901e-0b38653dd80b"
      },
      "source": [
        "logits = test_sentences(test_kaggle_inputs_3, test_kaggle_masks_3)\r\n",
        "\r\n",
        "x_predict_BERT_3 = np.argmax(logits, axis = 1)\r\n",
        "x_predict_BERT_3 = x_predict_BERT_3.tolist()\r\n",
        "print('예측결과:', x_predict_BERT_3[:10])"
      ],
      "execution_count": null,
      "outputs": [
        {
          "output_type": "stream",
          "text": [
            "예측결과: [1, 1, 0, 0, 0, 0, 0, 0, 1, 1]\n"
          ],
          "name": "stdout"
        }
      ]
    },
    {
      "cell_type": "markdown",
      "metadata": {
        "id": "nqOAgJ-ZtR6M"
      },
      "source": [
        "- BERT output csv 파일 저장 3"
      ]
    },
    {
      "cell_type": "code",
      "metadata": {
        "id": "tSoE5yWfoX7k",
        "colab": {
          "base_uri": "https://localhost:8080/"
        },
        "outputId": "726170b5-2954-4e64-b093-118d3a59a4c1"
      },
      "source": [
        "ensemble_BERT_3 = pd.DataFrame({'BERT prediction' : x_predict_BERT_3})\r\n",
        "print(ensemble_BERT_3)"
      ],
      "execution_count": null,
      "outputs": [
        {
          "output_type": "stream",
          "text": [
            "      BERT prediction\n",
            "0                   1\n",
            "1                   1\n",
            "2                   0\n",
            "3                   0\n",
            "4                   0\n",
            "...               ...\n",
            "1995                1\n",
            "1996                1\n",
            "1997                0\n",
            "1998                1\n",
            "1999                1\n",
            "\n",
            "[2000 rows x 1 columns]\n"
          ],
          "name": "stdout"
        }
      ]
    },
    {
      "cell_type": "code",
      "metadata": {
        "id": "CDAakdA1odqI"
      },
      "source": [
        "ensemble_BERT_3.to_csv('ensemble_BERT_3.csv')"
      ],
      "execution_count": null,
      "outputs": []
    },
    {
      "cell_type": "markdown",
      "metadata": {
        "id": "POp5WH-QIljx"
      },
      "source": [
        "- Kaggle 테스트 데이터로 예측 수행 4"
      ]
    },
    {
      "cell_type": "code",
      "metadata": {
        "colab": {
          "base_uri": "https://localhost:8080/"
        },
        "id": "dpJ9c904ID4e",
        "outputId": "21a29f41-9a4a-41ae-a0f9-eb866fce4597"
      },
      "source": [
        "logits = test_sentences(test_kaggle_inputs_4, test_kaggle_masks_4)\r\n",
        "\r\n",
        "x_predict_BERT_4 = np.argmax(logits, axis = 1)\r\n",
        "x_predict_BERT_4 = x_predict_BERT_4.tolist()\r\n",
        "print('예측결과:', x_predict_BERT_4[:10])"
      ],
      "execution_count": null,
      "outputs": [
        {
          "output_type": "stream",
          "text": [
            "예측결과: [0, 0, 1, 1, 1, 0, 0, 1, 1, 0]\n"
          ],
          "name": "stdout"
        }
      ]
    },
    {
      "cell_type": "markdown",
      "metadata": {
        "id": "WeF8-11WIyoB"
      },
      "source": [
        "- BERT output csv 파일 저장 4"
      ]
    },
    {
      "cell_type": "code",
      "metadata": {
        "colab": {
          "base_uri": "https://localhost:8080/"
        },
        "id": "W6NADRiqIDxy",
        "outputId": "c3286f87-ca9e-4eba-93e9-6710397058f7"
      },
      "source": [
        "ensemble_BERT_4 = pd.DataFrame({'BERT prediction' : x_predict_BERT_4})\r\n",
        "print(ensemble_BERT_4)"
      ],
      "execution_count": null,
      "outputs": [
        {
          "output_type": "stream",
          "text": [
            "      BERT prediction\n",
            "0                   0\n",
            "1                   0\n",
            "2                   1\n",
            "3                   1\n",
            "4                   1\n",
            "...               ...\n",
            "1995                0\n",
            "1996                0\n",
            "1997                0\n",
            "1998                0\n",
            "1999                0\n",
            "\n",
            "[2000 rows x 1 columns]\n"
          ],
          "name": "stdout"
        }
      ]
    },
    {
      "cell_type": "code",
      "metadata": {
        "id": "EtoysaqlIDrz"
      },
      "source": [
        "ensemble_BERT_4.to_csv('ensemble_BERT_4.csv')"
      ],
      "execution_count": null,
      "outputs": []
    },
    {
      "cell_type": "markdown",
      "metadata": {
        "id": "gH_fKx_qI1WJ"
      },
      "source": [
        "- Kaggle 테스트 데이터로 예측 수행 5"
      ]
    },
    {
      "cell_type": "code",
      "metadata": {
        "colab": {
          "base_uri": "https://localhost:8080/"
        },
        "id": "0CJ-dD3pIDkl",
        "outputId": "bac21148-603a-4368-a3b4-210724fc84de"
      },
      "source": [
        "logits = test_sentences(test_kaggle_inputs_5, test_kaggle_masks_5)\r\n",
        "\r\n",
        "x_predict_BERT_5 = np.argmax(logits, axis = 1)\r\n",
        "x_predict_BERT_5 = x_predict_BERT_5.tolist()\r\n",
        "print('예측결과:', x_predict_BERT_5[:10])"
      ],
      "execution_count": null,
      "outputs": [
        {
          "output_type": "stream",
          "text": [
            "예측결과: [1, 0, 1, 0, 0, 1, 1, 1, 0, 0]\n"
          ],
          "name": "stdout"
        }
      ]
    },
    {
      "cell_type": "markdown",
      "metadata": {
        "id": "s-WAZ1HWJLtO"
      },
      "source": [
        "- BERT output csv 파일 저장 5"
      ]
    },
    {
      "cell_type": "code",
      "metadata": {
        "colab": {
          "base_uri": "https://localhost:8080/"
        },
        "id": "SfAds69tIDdz",
        "outputId": "9ca58999-f5f6-4d2d-c508-f5fa13ef73c5"
      },
      "source": [
        "ensemble_BERT_5 = pd.DataFrame({'BERT prediction' : x_predict_BERT_5})\r\n",
        "print(ensemble_BERT_5)"
      ],
      "execution_count": null,
      "outputs": [
        {
          "output_type": "stream",
          "text": [
            "      BERT prediction\n",
            "0                   1\n",
            "1                   0\n",
            "2                   1\n",
            "3                   0\n",
            "4                   0\n",
            "...               ...\n",
            "1995                1\n",
            "1996                0\n",
            "1997                0\n",
            "1998                0\n",
            "1999                1\n",
            "\n",
            "[2000 rows x 1 columns]\n"
          ],
          "name": "stdout"
        }
      ]
    },
    {
      "cell_type": "code",
      "metadata": {
        "id": "Vzh0G0PNIDWf"
      },
      "source": [
        "ensemble_BERT_5.to_csv('ensemble_BERT_5.csv')"
      ],
      "execution_count": null,
      "outputs": []
    },
    {
      "cell_type": "markdown",
      "metadata": {
        "id": "0oeBw5BIJOAh"
      },
      "source": [
        "- Kaggle 테스트 데이터로 예측 수행 6"
      ]
    },
    {
      "cell_type": "code",
      "metadata": {
        "id": "OPs0SEqjy9ny",
        "colab": {
          "base_uri": "https://localhost:8080/"
        },
        "outputId": "77d06c70-2899-4573-dbef-45c65275f0d8"
      },
      "source": [
        "logits = test_sentences(test_kaggle_inputs_6, test_kaggle_masks_6)\r\n",
        "\r\n",
        "x_predict_BERT_6 = np.argmax(logits, axis = 1)\r\n",
        "x_predict_BERT_6 = x_predict_BERT_6.tolist()\r\n",
        "print('예측결과:', x_predict_BERT_6[:10])"
      ],
      "execution_count": null,
      "outputs": [
        {
          "output_type": "stream",
          "text": [
            "예측결과: [1, 0, 1, 1, 1, 0, 1, 1, 0, 1]\n"
          ],
          "name": "stdout"
        }
      ]
    },
    {
      "cell_type": "code",
      "metadata": {
        "colab": {
          "base_uri": "https://localhost:8080/"
        },
        "id": "TLoI3SqVIDBK",
        "outputId": "8c659a40-1f99-4176-e29a-782e558893ec"
      },
      "source": [
        "ensemble_BERT_6 = pd.DataFrame({'BERT prediction' : x_predict_BERT_6})\r\n",
        "print(ensemble_BERT_6)"
      ],
      "execution_count": null,
      "outputs": [
        {
          "output_type": "stream",
          "text": [
            "      BERT prediction\n",
            "0                   1\n",
            "1                   0\n",
            "2                   1\n",
            "3                   1\n",
            "4                   1\n",
            "...               ...\n",
            "1182                1\n",
            "1183                0\n",
            "1184                1\n",
            "1185                1\n",
            "1186                0\n",
            "\n",
            "[1187 rows x 1 columns]\n"
          ],
          "name": "stdout"
        }
      ]
    },
    {
      "cell_type": "code",
      "metadata": {
        "id": "XASbYE0WIC4C"
      },
      "source": [
        "ensemble_BERT_6.to_csv('ensemble_BERT_6.csv')"
      ],
      "execution_count": null,
      "outputs": []
    },
    {
      "cell_type": "markdown",
      "metadata": {
        "id": "U-6cNv5SQJjv"
      },
      "source": [
        "**BERT 예측결과 CSV 파일 저장 ①,②**"
      ]
    },
    {
      "cell_type": "code",
      "metadata": {
        "id": "x_m8A_hZCvuJ"
      },
      "source": [
        "ensemble_BERT = np.concatenate((x_predict_BERT_1, x_predict_BERT_2, x_predict_BERT_3, x_predict_BERT_4, x_predict_BERT_5, x_predict_BERT_6), axis = 0)"
      ],
      "execution_count": null,
      "outputs": []
    },
    {
      "cell_type": "code",
      "metadata": {
        "id": "TluanwCwCw5f",
        "colab": {
          "base_uri": "https://localhost:8080/"
        },
        "outputId": "845419e1-3cd7-42eb-9822-13e788f45bfb"
      },
      "source": [
        "ensemble_BERT_out = pd.DataFrame({'BERT prediction' : ensemble_BERT})\r\n",
        "print(ensemble_BERT_out)"
      ],
      "execution_count": null,
      "outputs": [
        {
          "output_type": "stream",
          "text": [
            "       BERT prediction\n",
            "0                    1\n",
            "1                    0\n",
            "2                    0\n",
            "3                    1\n",
            "4                    0\n",
            "...                ...\n",
            "11182                1\n",
            "11183                0\n",
            "11184                1\n",
            "11185                1\n",
            "11186                0\n",
            "\n",
            "[11187 rows x 1 columns]\n"
          ],
          "name": "stdout"
        }
      ]
    },
    {
      "cell_type": "markdown",
      "metadata": {
        "id": "ukawJCSkcy6b"
      },
      "source": [
        "- Kaggle 리더보드 업로드 파일 생성 (csv 파일 변환 후 다운로드 하여 예측결과 칼럼명 'Predicted'로 수정 및 인덱스 칼럼명 'Id' 입력 필요)"
      ]
    },
    {
      "cell_type": "code",
      "metadata": {
        "id": "tY2Ag25vCxSO"
      },
      "source": [
        "ensemble_BERT_out.to_csv('ensemble_BERT.csv')"
      ],
      "execution_count": null,
      "outputs": []
    },
    {
      "cell_type": "markdown",
      "metadata": {
        "id": "zbMKJQ4iYgtj"
      },
      "source": [
        "※ 본 셀은 GPU 사용량 문제로 BERT 분할 예측결과 CSV 파일 업로드 시에만 사용\r\n",
        "\r\n",
        "- 업로드 ensemble_BERT_1, ensemble_BERT_2, ensemble_BERT_3, ensemble_BERT_4, ensemble_BERT_5, ensemble_BERT_6"
      ]
    },
    {
      "cell_type": "code",
      "metadata": {
        "id": "7YN1jmtorTnT",
        "colab": {
          "resources": {
            "http://localhost:8080/nbextensions/google.colab/files.js": {
              "data": "Ly8gQ29weXJpZ2h0IDIwMTcgR29vZ2xlIExMQwovLwovLyBMaWNlbnNlZCB1bmRlciB0aGUgQXBhY2hlIExpY2Vuc2UsIFZlcnNpb24gMi4wICh0aGUgIkxpY2Vuc2UiKTsKLy8geW91IG1heSBub3QgdXNlIHRoaXMgZmlsZSBleGNlcHQgaW4gY29tcGxpYW5jZSB3aXRoIHRoZSBMaWNlbnNlLgovLyBZb3UgbWF5IG9idGFpbiBhIGNvcHkgb2YgdGhlIExpY2Vuc2UgYXQKLy8KLy8gICAgICBodHRwOi8vd3d3LmFwYWNoZS5vcmcvbGljZW5zZXMvTElDRU5TRS0yLjAKLy8KLy8gVW5sZXNzIHJlcXVpcmVkIGJ5IGFwcGxpY2FibGUgbGF3IG9yIGFncmVlZCB0byBpbiB3cml0aW5nLCBzb2Z0d2FyZQovLyBkaXN0cmlidXRlZCB1bmRlciB0aGUgTGljZW5zZSBpcyBkaXN0cmlidXRlZCBvbiBhbiAiQVMgSVMiIEJBU0lTLAovLyBXSVRIT1VUIFdBUlJBTlRJRVMgT1IgQ09ORElUSU9OUyBPRiBBTlkgS0lORCwgZWl0aGVyIGV4cHJlc3Mgb3IgaW1wbGllZC4KLy8gU2VlIHRoZSBMaWNlbnNlIGZvciB0aGUgc3BlY2lmaWMgbGFuZ3VhZ2UgZ292ZXJuaW5nIHBlcm1pc3Npb25zIGFuZAovLyBsaW1pdGF0aW9ucyB1bmRlciB0aGUgTGljZW5zZS4KCi8qKgogKiBAZmlsZW92ZXJ2aWV3IEhlbHBlcnMgZm9yIGdvb2dsZS5jb2xhYiBQeXRob24gbW9kdWxlLgogKi8KKGZ1bmN0aW9uKHNjb3BlKSB7CmZ1bmN0aW9uIHNwYW4odGV4dCwgc3R5bGVBdHRyaWJ1dGVzID0ge30pIHsKICBjb25zdCBlbGVtZW50ID0gZG9jdW1lbnQuY3JlYXRlRWxlbWVudCgnc3BhbicpOwogIGVsZW1lbnQudGV4dENvbnRlbnQgPSB0ZXh0OwogIGZvciAoY29uc3Qga2V5IG9mIE9iamVjdC5rZXlzKHN0eWxlQXR0cmlidXRlcykpIHsKICAgIGVsZW1lbnQuc3R5bGVba2V5XSA9IHN0eWxlQXR0cmlidXRlc1trZXldOwogIH0KICByZXR1cm4gZWxlbWVudDsKfQoKLy8gTWF4IG51bWJlciBvZiBieXRlcyB3aGljaCB3aWxsIGJlIHVwbG9hZGVkIGF0IGEgdGltZS4KY29uc3QgTUFYX1BBWUxPQURfU0laRSA9IDEwMCAqIDEwMjQ7CgpmdW5jdGlvbiBfdXBsb2FkRmlsZXMoaW5wdXRJZCwgb3V0cHV0SWQpIHsKICBjb25zdCBzdGVwcyA9IHVwbG9hZEZpbGVzU3RlcChpbnB1dElkLCBvdXRwdXRJZCk7CiAgY29uc3Qgb3V0cHV0RWxlbWVudCA9IGRvY3VtZW50LmdldEVsZW1lbnRCeUlkKG91dHB1dElkKTsKICAvLyBDYWNoZSBzdGVwcyBvbiB0aGUgb3V0cHV0RWxlbWVudCB0byBtYWtlIGl0IGF2YWlsYWJsZSBmb3IgdGhlIG5leHQgY2FsbAogIC8vIHRvIHVwbG9hZEZpbGVzQ29udGludWUgZnJvbSBQeXRob24uCiAgb3V0cHV0RWxlbWVudC5zdGVwcyA9IHN0ZXBzOwoKICByZXR1cm4gX3VwbG9hZEZpbGVzQ29udGludWUob3V0cHV0SWQpOwp9CgovLyBUaGlzIGlzIHJvdWdobHkgYW4gYXN5bmMgZ2VuZXJhdG9yIChub3Qgc3VwcG9ydGVkIGluIHRoZSBicm93c2VyIHlldCksCi8vIHdoZXJlIHRoZXJlIGFyZSBtdWx0aXBsZSBhc3luY2hyb25vdXMgc3RlcHMgYW5kIHRoZSBQeXRob24gc2lkZSBpcyBnb2luZwovLyB0byBwb2xsIGZvciBjb21wbGV0aW9uIG9mIGVhY2ggc3RlcC4KLy8gVGhpcyB1c2VzIGEgUHJvbWlzZSB0byBibG9jayB0aGUgcHl0aG9uIHNpZGUgb24gY29tcGxldGlvbiBvZiBlYWNoIHN0ZXAsCi8vIHRoZW4gcGFzc2VzIHRoZSByZXN1bHQgb2YgdGhlIHByZXZpb3VzIHN0ZXAgYXMgdGhlIGlucHV0IHRvIHRoZSBuZXh0IHN0ZXAuCmZ1bmN0aW9uIF91cGxvYWRGaWxlc0NvbnRpbnVlKG91dHB1dElkKSB7CiAgY29uc3Qgb3V0cHV0RWxlbWVudCA9IGRvY3VtZW50LmdldEVsZW1lbnRCeUlkKG91dHB1dElkKTsKICBjb25zdCBzdGVwcyA9IG91dHB1dEVsZW1lbnQuc3RlcHM7CgogIGNvbnN0IG5leHQgPSBzdGVwcy5uZXh0KG91dHB1dEVsZW1lbnQubGFzdFByb21pc2VWYWx1ZSk7CiAgcmV0dXJuIFByb21pc2UucmVzb2x2ZShuZXh0LnZhbHVlLnByb21pc2UpLnRoZW4oKHZhbHVlKSA9PiB7CiAgICAvLyBDYWNoZSB0aGUgbGFzdCBwcm9taXNlIHZhbHVlIHRvIG1ha2UgaXQgYXZhaWxhYmxlIHRvIHRoZSBuZXh0CiAgICAvLyBzdGVwIG9mIHRoZSBnZW5lcmF0b3IuCiAgICBvdXRwdXRFbGVtZW50Lmxhc3RQcm9taXNlVmFsdWUgPSB2YWx1ZTsKICAgIHJldHVybiBuZXh0LnZhbHVlLnJlc3BvbnNlOwogIH0pOwp9CgovKioKICogR2VuZXJhdG9yIGZ1bmN0aW9uIHdoaWNoIGlzIGNhbGxlZCBiZXR3ZWVuIGVhY2ggYXN5bmMgc3RlcCBvZiB0aGUgdXBsb2FkCiAqIHByb2Nlc3MuCiAqIEBwYXJhbSB7c3RyaW5nfSBpbnB1dElkIEVsZW1lbnQgSUQgb2YgdGhlIGlucHV0IGZpbGUgcGlja2VyIGVsZW1lbnQuCiAqIEBwYXJhbSB7c3RyaW5nfSBvdXRwdXRJZCBFbGVtZW50IElEIG9mIHRoZSBvdXRwdXQgZGlzcGxheS4KICogQHJldHVybiB7IUl0ZXJhYmxlPCFPYmplY3Q+fSBJdGVyYWJsZSBvZiBuZXh0IHN0ZXBzLgogKi8KZnVuY3Rpb24qIHVwbG9hZEZpbGVzU3RlcChpbnB1dElkLCBvdXRwdXRJZCkgewogIGNvbnN0IGlucHV0RWxlbWVudCA9IGRvY3VtZW50LmdldEVsZW1lbnRCeUlkKGlucHV0SWQpOwogIGlucHV0RWxlbWVudC5kaXNhYmxlZCA9IGZhbHNlOwoKICBjb25zdCBvdXRwdXRFbGVtZW50ID0gZG9jdW1lbnQuZ2V0RWxlbWVudEJ5SWQob3V0cHV0SWQpOwogIG91dHB1dEVsZW1lbnQuaW5uZXJIVE1MID0gJyc7CgogIGNvbnN0IHBpY2tlZFByb21pc2UgPSBuZXcgUHJvbWlzZSgocmVzb2x2ZSkgPT4gewogICAgaW5wdXRFbGVtZW50LmFkZEV2ZW50TGlzdGVuZXIoJ2NoYW5nZScsIChlKSA9PiB7CiAgICAgIHJlc29sdmUoZS50YXJnZXQuZmlsZXMpOwogICAgfSk7CiAgfSk7CgogIGNvbnN0IGNhbmNlbCA9IGRvY3VtZW50LmNyZWF0ZUVsZW1lbnQoJ2J1dHRvbicpOwogIGlucHV0RWxlbWVudC5wYXJlbnRFbGVtZW50LmFwcGVuZENoaWxkKGNhbmNlbCk7CiAgY2FuY2VsLnRleHRDb250ZW50ID0gJ0NhbmNlbCB1cGxvYWQnOwogIGNvbnN0IGNhbmNlbFByb21pc2UgPSBuZXcgUHJvbWlzZSgocmVzb2x2ZSkgPT4gewogICAgY2FuY2VsLm9uY2xpY2sgPSAoKSA9PiB7CiAgICAgIHJlc29sdmUobnVsbCk7CiAgICB9OwogIH0pOwoKICAvLyBXYWl0IGZvciB0aGUgdXNlciB0byBwaWNrIHRoZSBmaWxlcy4KICBjb25zdCBmaWxlcyA9IHlpZWxkIHsKICAgIHByb21pc2U6IFByb21pc2UucmFjZShbcGlja2VkUHJvbWlzZSwgY2FuY2VsUHJvbWlzZV0pLAogICAgcmVzcG9uc2U6IHsKICAgICAgYWN0aW9uOiAnc3RhcnRpbmcnLAogICAgfQogIH07CgogIGNhbmNlbC5yZW1vdmUoKTsKCiAgLy8gRGlzYWJsZSB0aGUgaW5wdXQgZWxlbWVudCBzaW5jZSBmdXJ0aGVyIHBpY2tzIGFyZSBub3QgYWxsb3dlZC4KICBpbnB1dEVsZW1lbnQuZGlzYWJsZWQgPSB0cnVlOwoKICBpZiAoIWZpbGVzKSB7CiAgICByZXR1cm4gewogICAgICByZXNwb25zZTogewogICAgICAgIGFjdGlvbjogJ2NvbXBsZXRlJywKICAgICAgfQogICAgfTsKICB9CgogIGZvciAoY29uc3QgZmlsZSBvZiBmaWxlcykgewogICAgY29uc3QgbGkgPSBkb2N1bWVudC5jcmVhdGVFbGVtZW50KCdsaScpOwogICAgbGkuYXBwZW5kKHNwYW4oZmlsZS5uYW1lLCB7Zm9udFdlaWdodDogJ2JvbGQnfSkpOwogICAgbGkuYXBwZW5kKHNwYW4oCiAgICAgICAgYCgke2ZpbGUudHlwZSB8fCAnbi9hJ30pIC0gJHtmaWxlLnNpemV9IGJ5dGVzLCBgICsKICAgICAgICBgbGFzdCBtb2RpZmllZDogJHsKICAgICAgICAgICAgZmlsZS5sYXN0TW9kaWZpZWREYXRlID8gZmlsZS5sYXN0TW9kaWZpZWREYXRlLnRvTG9jYWxlRGF0ZVN0cmluZygpIDoKICAgICAgICAgICAgICAgICAgICAgICAgICAgICAgICAgICAgJ24vYSd9IC0gYCkpOwogICAgY29uc3QgcGVyY2VudCA9IHNwYW4oJzAlIGRvbmUnKTsKICAgIGxpLmFwcGVuZENoaWxkKHBlcmNlbnQpOwoKICAgIG91dHB1dEVsZW1lbnQuYXBwZW5kQ2hpbGQobGkpOwoKICAgIGNvbnN0IGZpbGVEYXRhUHJvbWlzZSA9IG5ldyBQcm9taXNlKChyZXNvbHZlKSA9PiB7CiAgICAgIGNvbnN0IHJlYWRlciA9IG5ldyBGaWxlUmVhZGVyKCk7CiAgICAgIHJlYWRlci5vbmxvYWQgPSAoZSkgPT4gewogICAgICAgIHJlc29sdmUoZS50YXJnZXQucmVzdWx0KTsKICAgICAgfTsKICAgICAgcmVhZGVyLnJlYWRBc0FycmF5QnVmZmVyKGZpbGUpOwogICAgfSk7CiAgICAvLyBXYWl0IGZvciB0aGUgZGF0YSB0byBiZSByZWFkeS4KICAgIGxldCBmaWxlRGF0YSA9IHlpZWxkIHsKICAgICAgcHJvbWlzZTogZmlsZURhdGFQcm9taXNlLAogICAgICByZXNwb25zZTogewogICAgICAgIGFjdGlvbjogJ2NvbnRpbnVlJywKICAgICAgfQogICAgfTsKCiAgICAvLyBVc2UgYSBjaHVua2VkIHNlbmRpbmcgdG8gYXZvaWQgbWVzc2FnZSBzaXplIGxpbWl0cy4gU2VlIGIvNjIxMTU2NjAuCiAgICBsZXQgcG9zaXRpb24gPSAwOwogICAgd2hpbGUgKHBvc2l0aW9uIDwgZmlsZURhdGEuYnl0ZUxlbmd0aCkgewogICAgICBjb25zdCBsZW5ndGggPSBNYXRoLm1pbihmaWxlRGF0YS5ieXRlTGVuZ3RoIC0gcG9zaXRpb24sIE1BWF9QQVlMT0FEX1NJWkUpOwogICAgICBjb25zdCBjaHVuayA9IG5ldyBVaW50OEFycmF5KGZpbGVEYXRhLCBwb3NpdGlvbiwgbGVuZ3RoKTsKICAgICAgcG9zaXRpb24gKz0gbGVuZ3RoOwoKICAgICAgY29uc3QgYmFzZTY0ID0gYnRvYShTdHJpbmcuZnJvbUNoYXJDb2RlLmFwcGx5KG51bGwsIGNodW5rKSk7CiAgICAgIHlpZWxkIHsKICAgICAgICByZXNwb25zZTogewogICAgICAgICAgYWN0aW9uOiAnYXBwZW5kJywKICAgICAgICAgIGZpbGU6IGZpbGUubmFtZSwKICAgICAgICAgIGRhdGE6IGJhc2U2NCwKICAgICAgICB9LAogICAgICB9OwogICAgICBwZXJjZW50LnRleHRDb250ZW50ID0KICAgICAgICAgIGAke01hdGgucm91bmQoKHBvc2l0aW9uIC8gZmlsZURhdGEuYnl0ZUxlbmd0aCkgKiAxMDApfSUgZG9uZWA7CiAgICB9CiAgfQoKICAvLyBBbGwgZG9uZS4KICB5aWVsZCB7CiAgICByZXNwb25zZTogewogICAgICBhY3Rpb246ICdjb21wbGV0ZScsCiAgICB9CiAgfTsKfQoKc2NvcGUuZ29vZ2xlID0gc2NvcGUuZ29vZ2xlIHx8IHt9OwpzY29wZS5nb29nbGUuY29sYWIgPSBzY29wZS5nb29nbGUuY29sYWIgfHwge307CnNjb3BlLmdvb2dsZS5jb2xhYi5fZmlsZXMgPSB7CiAgX3VwbG9hZEZpbGVzLAogIF91cGxvYWRGaWxlc0NvbnRpbnVlLAp9Owp9KShzZWxmKTsK",
              "ok": true,
              "headers": [
                [
                  "content-type",
                  "application/javascript"
                ]
              ],
              "status": 200,
              "status_text": ""
            }
          },
          "base_uri": "https://localhost:8080/",
          "height": 374
        },
        "outputId": "1fd4b736-dfcd-4f26-802a-f4a96854c57e"
      },
      "source": [
        "from google.colab import files\r\n",
        "files.upload()"
      ],
      "execution_count": null,
      "outputs": [
        {
          "output_type": "display_data",
          "data": {
            "text/html": [
              "\n",
              "     <input type=\"file\" id=\"files-b6b6abb6-ffb1-4c1e-a86a-91f2521fdf08\" name=\"files[]\" multiple disabled\n",
              "        style=\"border:none\" />\n",
              "     <output id=\"result-b6b6abb6-ffb1-4c1e-a86a-91f2521fdf08\">\n",
              "      Upload widget is only available when the cell has been executed in the\n",
              "      current browser session. Please rerun this cell to enable.\n",
              "      </output>\n",
              "      <script src=\"/nbextensions/google.colab/files.js\"></script> "
            ],
            "text/plain": [
              "<IPython.core.display.HTML object>"
            ]
          },
          "metadata": {
            "tags": []
          }
        },
        {
          "output_type": "stream",
          "text": [
            "Saving ensemble_BERT_1.csv to ensemble_BERT_1.csv\n",
            "Saving ensemble_BERT_2.csv to ensemble_BERT_2.csv\n",
            "Saving ensemble_BERT_3.csv to ensemble_BERT_3.csv\n",
            "Saving ensemble_BERT_4.csv to ensemble_BERT_4.csv\n",
            "Saving ensemble_BERT_5.csv to ensemble_BERT_5.csv\n",
            "Saving ensemble_BERT_6.csv to ensemble_BERT_6.csv\n"
          ],
          "name": "stdout"
        },
        {
          "output_type": "execute_result",
          "data": {
            "text/plain": [
              "{'ensemble_BERT_1.csv': b',BERT prediction\\n0,1\\n1,0\\n2,0\\n3,1\\n4,0\\n5,1\\n6,0\\n7,1\\n8,0\\n9,1\\n10,1\\n11,0\\n12,0\\n13,0\\n14,0\\n15,1\\n16,1\\n17,0\\n18,1\\n19,1\\n20,1\\n21,1\\n22,1\\n23,1\\n24,0\\n25,0\\n26,1\\n27,0\\n28,1\\n29,0\\n30,1\\n31,1\\n32,1\\n33,0\\n34,1\\n35,0\\n36,0\\n37,1\\n38,0\\n39,0\\n40,0\\n41,0\\n42,0\\n43,1\\n44,1\\n45,0\\n46,0\\n47,1\\n48,0\\n49,1\\n50,0\\n51,1\\n52,0\\n53,0\\n54,0\\n55,1\\n56,1\\n57,1\\n58,0\\n59,0\\n60,1\\n61,1\\n62,1\\n63,1\\n64,0\\n65,0\\n66,0\\n67,0\\n68,0\\n69,1\\n70,1\\n71,1\\n72,1\\n73,1\\n74,1\\n75,0\\n76,1\\n77,1\\n78,1\\n79,0\\n80,1\\n81,1\\n82,0\\n83,1\\n84,1\\n85,0\\n86,0\\n87,0\\n88,0\\n89,1\\n90,1\\n91,1\\n92,1\\n93,1\\n94,1\\n95,0\\n96,0\\n97,1\\n98,0\\n99,0\\n100,0\\n101,0\\n102,0\\n103,0\\n104,0\\n105,0\\n106,1\\n107,1\\n108,1\\n109,1\\n110,0\\n111,1\\n112,1\\n113,1\\n114,1\\n115,0\\n116,1\\n117,1\\n118,0\\n119,0\\n120,0\\n121,1\\n122,1\\n123,0\\n124,1\\n125,0\\n126,1\\n127,0\\n128,0\\n129,1\\n130,0\\n131,1\\n132,1\\n133,0\\n134,1\\n135,1\\n136,0\\n137,0\\n138,0\\n139,1\\n140,0\\n141,0\\n142,1\\n143,0\\n144,0\\n145,1\\n146,0\\n147,1\\n148,1\\n149,0\\n150,1\\n151,1\\n152,0\\n153,1\\n154,1\\n155,1\\n156,1\\n157,0\\n158,0\\n159,1\\n160,0\\n161,0\\n162,0\\n163,0\\n164,0\\n165,1\\n166,0\\n167,0\\n168,0\\n169,1\\n170,0\\n171,1\\n172,1\\n173,1\\n174,0\\n175,1\\n176,1\\n177,1\\n178,1\\n179,0\\n180,0\\n181,1\\n182,0\\n183,1\\n184,0\\n185,1\\n186,1\\n187,1\\n188,0\\n189,1\\n190,1\\n191,0\\n192,1\\n193,0\\n194,0\\n195,1\\n196,1\\n197,1\\n198,0\\n199,1\\n200,0\\n201,0\\n202,1\\n203,0\\n204,1\\n205,0\\n206,1\\n207,1\\n208,1\\n209,1\\n210,0\\n211,0\\n212,1\\n213,0\\n214,1\\n215,1\\n216,0\\n217,1\\n218,0\\n219,0\\n220,0\\n221,1\\n222,0\\n223,1\\n224,1\\n225,1\\n226,1\\n227,1\\n228,0\\n229,0\\n230,1\\n231,0\\n232,0\\n233,0\\n234,0\\n235,1\\n236,0\\n237,1\\n238,1\\n239,0\\n240,0\\n241,0\\n242,0\\n243,0\\n244,1\\n245,0\\n246,0\\n247,1\\n248,0\\n249,1\\n250,1\\n251,0\\n252,0\\n253,1\\n254,1\\n255,0\\n256,0\\n257,1\\n258,0\\n259,0\\n260,1\\n261,1\\n262,0\\n263,1\\n264,0\\n265,1\\n266,1\\n267,0\\n268,1\\n269,0\\n270,1\\n271,0\\n272,1\\n273,1\\n274,1\\n275,1\\n276,0\\n277,0\\n278,0\\n279,0\\n280,0\\n281,1\\n282,0\\n283,0\\n284,0\\n285,1\\n286,0\\n287,0\\n288,0\\n289,0\\n290,0\\n291,1\\n292,1\\n293,0\\n294,1\\n295,0\\n296,0\\n297,1\\n298,0\\n299,0\\n300,1\\n301,0\\n302,0\\n303,0\\n304,0\\n305,1\\n306,1\\n307,0\\n308,1\\n309,1\\n310,1\\n311,1\\n312,1\\n313,0\\n314,1\\n315,0\\n316,0\\n317,1\\n318,1\\n319,0\\n320,0\\n321,0\\n322,0\\n323,0\\n324,0\\n325,0\\n326,1\\n327,0\\n328,0\\n329,0\\n330,0\\n331,1\\n332,1\\n333,1\\n334,0\\n335,1\\n336,0\\n337,1\\n338,1\\n339,1\\n340,0\\n341,1\\n342,1\\n343,0\\n344,1\\n345,0\\n346,1\\n347,1\\n348,1\\n349,1\\n350,1\\n351,0\\n352,0\\n353,1\\n354,1\\n355,0\\n356,1\\n357,1\\n358,1\\n359,1\\n360,1\\n361,1\\n362,1\\n363,1\\n364,0\\n365,1\\n366,0\\n367,1\\n368,1\\n369,0\\n370,0\\n371,0\\n372,0\\n373,0\\n374,0\\n375,1\\n376,1\\n377,1\\n378,0\\n379,1\\n380,1\\n381,0\\n382,1\\n383,0\\n384,1\\n385,1\\n386,1\\n387,1\\n388,0\\n389,1\\n390,0\\n391,1\\n392,1\\n393,1\\n394,1\\n395,1\\n396,1\\n397,0\\n398,1\\n399,1\\n400,1\\n401,0\\n402,0\\n403,0\\n404,1\\n405,0\\n406,0\\n407,1\\n408,0\\n409,1\\n410,0\\n411,0\\n412,1\\n413,0\\n414,0\\n415,1\\n416,1\\n417,1\\n418,0\\n419,1\\n420,1\\n421,1\\n422,1\\n423,0\\n424,0\\n425,1\\n426,1\\n427,1\\n428,0\\n429,1\\n430,1\\n431,1\\n432,0\\n433,0\\n434,1\\n435,1\\n436,1\\n437,0\\n438,0\\n439,1\\n440,1\\n441,0\\n442,1\\n443,1\\n444,1\\n445,0\\n446,1\\n447,1\\n448,1\\n449,0\\n450,1\\n451,0\\n452,0\\n453,0\\n454,1\\n455,0\\n456,0\\n457,1\\n458,1\\n459,1\\n460,0\\n461,0\\n462,1\\n463,1\\n464,0\\n465,0\\n466,1\\n467,1\\n468,1\\n469,0\\n470,0\\n471,1\\n472,1\\n473,0\\n474,1\\n475,1\\n476,0\\n477,1\\n478,1\\n479,1\\n480,1\\n481,0\\n482,1\\n483,1\\n484,0\\n485,1\\n486,0\\n487,1\\n488,0\\n489,0\\n490,1\\n491,1\\n492,1\\n493,1\\n494,0\\n495,1\\n496,0\\n497,0\\n498,0\\n499,1\\n500,1\\n501,1\\n502,0\\n503,0\\n504,0\\n505,1\\n506,1\\n507,1\\n508,0\\n509,0\\n510,1\\n511,1\\n512,1\\n513,1\\n514,0\\n515,0\\n516,1\\n517,0\\n518,1\\n519,1\\n520,1\\n521,1\\n522,1\\n523,1\\n524,1\\n525,0\\n526,1\\n527,1\\n528,0\\n529,1\\n530,1\\n531,0\\n532,1\\n533,1\\n534,1\\n535,1\\n536,1\\n537,1\\n538,1\\n539,0\\n540,0\\n541,1\\n542,1\\n543,1\\n544,0\\n545,0\\n546,0\\n547,1\\n548,0\\n549,0\\n550,1\\n551,1\\n552,0\\n553,1\\n554,0\\n555,0\\n556,1\\n557,1\\n558,1\\n559,0\\n560,0\\n561,0\\n562,1\\n563,1\\n564,1\\n565,0\\n566,0\\n567,1\\n568,0\\n569,0\\n570,0\\n571,1\\n572,1\\n573,1\\n574,1\\n575,0\\n576,0\\n577,1\\n578,1\\n579,1\\n580,0\\n581,1\\n582,1\\n583,0\\n584,0\\n585,0\\n586,0\\n587,1\\n588,0\\n589,0\\n590,0\\n591,0\\n592,1\\n593,1\\n594,1\\n595,0\\n596,1\\n597,0\\n598,0\\n599,0\\n600,0\\n601,1\\n602,1\\n603,1\\n604,0\\n605,1\\n606,1\\n607,1\\n608,1\\n609,0\\n610,0\\n611,0\\n612,1\\n613,0\\n614,0\\n615,0\\n616,1\\n617,0\\n618,0\\n619,1\\n620,1\\n621,1\\n622,0\\n623,0\\n624,1\\n625,0\\n626,0\\n627,1\\n628,0\\n629,1\\n630,0\\n631,1\\n632,0\\n633,1\\n634,0\\n635,0\\n636,0\\n637,1\\n638,0\\n639,1\\n640,1\\n641,0\\n642,0\\n643,0\\n644,0\\n645,1\\n646,1\\n647,0\\n648,1\\n649,1\\n650,1\\n651,0\\n652,0\\n653,1\\n654,1\\n655,0\\n656,1\\n657,0\\n658,1\\n659,0\\n660,0\\n661,1\\n662,1\\n663,1\\n664,0\\n665,1\\n666,1\\n667,0\\n668,0\\n669,0\\n670,0\\n671,1\\n672,0\\n673,1\\n674,0\\n675,1\\n676,1\\n677,0\\n678,0\\n679,0\\n680,0\\n681,1\\n682,1\\n683,0\\n684,0\\n685,0\\n686,0\\n687,1\\n688,1\\n689,1\\n690,1\\n691,1\\n692,0\\n693,1\\n694,0\\n695,0\\n696,0\\n697,1\\n698,1\\n699,0\\n700,1\\n701,1\\n702,0\\n703,0\\n704,1\\n705,0\\n706,1\\n707,0\\n708,0\\n709,1\\n710,0\\n711,1\\n712,1\\n713,0\\n714,0\\n715,1\\n716,0\\n717,0\\n718,1\\n719,1\\n720,1\\n721,0\\n722,1\\n723,0\\n724,1\\n725,1\\n726,1\\n727,0\\n728,1\\n729,1\\n730,1\\n731,1\\n732,1\\n733,1\\n734,1\\n735,0\\n736,0\\n737,1\\n738,1\\n739,1\\n740,0\\n741,0\\n742,1\\n743,0\\n744,1\\n745,1\\n746,1\\n747,1\\n748,1\\n749,0\\n750,0\\n751,0\\n752,1\\n753,0\\n754,0\\n755,0\\n756,0\\n757,0\\n758,1\\n759,1\\n760,0\\n761,1\\n762,0\\n763,0\\n764,1\\n765,0\\n766,1\\n767,1\\n768,1\\n769,1\\n770,1\\n771,1\\n772,1\\n773,1\\n774,1\\n775,0\\n776,0\\n777,0\\n778,1\\n779,0\\n780,0\\n781,1\\n782,0\\n783,0\\n784,1\\n785,0\\n786,1\\n787,0\\n788,0\\n789,0\\n790,0\\n791,1\\n792,0\\n793,1\\n794,1\\n795,1\\n796,1\\n797,0\\n798,1\\n799,0\\n800,0\\n801,1\\n802,1\\n803,0\\n804,0\\n805,1\\n806,1\\n807,1\\n808,0\\n809,1\\n810,0\\n811,1\\n812,1\\n813,1\\n814,0\\n815,1\\n816,1\\n817,0\\n818,0\\n819,0\\n820,0\\n821,0\\n822,0\\n823,0\\n824,0\\n825,1\\n826,1\\n827,1\\n828,1\\n829,1\\n830,0\\n831,1\\n832,1\\n833,1\\n834,1\\n835,0\\n836,1\\n837,0\\n838,0\\n839,1\\n840,0\\n841,1\\n842,0\\n843,0\\n844,0\\n845,1\\n846,1\\n847,1\\n848,0\\n849,0\\n850,1\\n851,1\\n852,0\\n853,1\\n854,0\\n855,1\\n856,0\\n857,1\\n858,0\\n859,1\\n860,1\\n861,0\\n862,0\\n863,1\\n864,0\\n865,0\\n866,1\\n867,0\\n868,0\\n869,0\\n870,1\\n871,0\\n872,1\\n873,0\\n874,1\\n875,1\\n876,0\\n877,0\\n878,0\\n879,0\\n880,1\\n881,0\\n882,0\\n883,0\\n884,1\\n885,0\\n886,1\\n887,0\\n888,1\\n889,1\\n890,1\\n891,1\\n892,0\\n893,0\\n894,0\\n895,0\\n896,1\\n897,0\\n898,1\\n899,0\\n900,1\\n901,0\\n902,0\\n903,1\\n904,0\\n905,0\\n906,0\\n907,0\\n908,1\\n909,0\\n910,1\\n911,0\\n912,0\\n913,0\\n914,0\\n915,1\\n916,1\\n917,0\\n918,1\\n919,1\\n920,1\\n921,0\\n922,0\\n923,0\\n924,0\\n925,1\\n926,1\\n927,0\\n928,0\\n929,1\\n930,0\\n931,1\\n932,1\\n933,0\\n934,0\\n935,1\\n936,0\\n937,0\\n938,1\\n939,0\\n940,1\\n941,0\\n942,1\\n943,0\\n944,0\\n945,0\\n946,0\\n947,0\\n948,0\\n949,0\\n950,1\\n951,0\\n952,1\\n953,1\\n954,0\\n955,1\\n956,0\\n957,1\\n958,1\\n959,0\\n960,0\\n961,1\\n962,1\\n963,1\\n964,0\\n965,0\\n966,0\\n967,1\\n968,1\\n969,0\\n970,1\\n971,1\\n972,0\\n973,0\\n974,1\\n975,1\\n976,0\\n977,1\\n978,1\\n979,0\\n980,1\\n981,1\\n982,1\\n983,0\\n984,1\\n985,1\\n986,0\\n987,0\\n988,0\\n989,1\\n990,0\\n991,0\\n992,0\\n993,1\\n994,1\\n995,1\\n996,1\\n997,1\\n998,0\\n999,1\\n1000,0\\n1001,1\\n1002,1\\n1003,1\\n1004,0\\n1005,0\\n1006,0\\n1007,1\\n1008,1\\n1009,1\\n1010,1\\n1011,0\\n1012,0\\n1013,1\\n1014,0\\n1015,1\\n1016,1\\n1017,0\\n1018,0\\n1019,0\\n1020,0\\n1021,1\\n1022,1\\n1023,1\\n1024,0\\n1025,1\\n1026,1\\n1027,1\\n1028,0\\n1029,0\\n1030,0\\n1031,1\\n1032,0\\n1033,0\\n1034,0\\n1035,1\\n1036,0\\n1037,1\\n1038,1\\n1039,1\\n1040,0\\n1041,0\\n1042,0\\n1043,0\\n1044,0\\n1045,1\\n1046,1\\n1047,0\\n1048,1\\n1049,0\\n1050,1\\n1051,0\\n1052,1\\n1053,0\\n1054,1\\n1055,1\\n1056,0\\n1057,0\\n1058,1\\n1059,1\\n1060,0\\n1061,1\\n1062,0\\n1063,1\\n1064,1\\n1065,1\\n1066,0\\n1067,0\\n1068,0\\n1069,1\\n1070,0\\n1071,0\\n1072,0\\n1073,1\\n1074,0\\n1075,1\\n1076,1\\n1077,0\\n1078,1\\n1079,1\\n1080,1\\n1081,0\\n1082,1\\n1083,0\\n1084,1\\n1085,1\\n1086,1\\n1087,1\\n1088,1\\n1089,0\\n1090,0\\n1091,1\\n1092,1\\n1093,0\\n1094,1\\n1095,0\\n1096,0\\n1097,1\\n1098,1\\n1099,1\\n1100,0\\n1101,0\\n1102,0\\n1103,0\\n1104,0\\n1105,0\\n1106,0\\n1107,0\\n1108,1\\n1109,0\\n1110,0\\n1111,1\\n1112,0\\n1113,0\\n1114,0\\n1115,1\\n1116,0\\n1117,1\\n1118,0\\n1119,0\\n1120,0\\n1121,0\\n1122,0\\n1123,0\\n1124,1\\n1125,0\\n1126,0\\n1127,0\\n1128,1\\n1129,0\\n1130,1\\n1131,1\\n1132,1\\n1133,1\\n1134,1\\n1135,1\\n1136,1\\n1137,0\\n1138,0\\n1139,0\\n1140,0\\n1141,0\\n1142,1\\n1143,1\\n1144,1\\n1145,1\\n1146,1\\n1147,1\\n1148,0\\n1149,1\\n1150,0\\n1151,1\\n1152,0\\n1153,0\\n1154,0\\n1155,1\\n1156,1\\n1157,0\\n1158,0\\n1159,0\\n1160,0\\n1161,0\\n1162,1\\n1163,0\\n1164,0\\n1165,0\\n1166,0\\n1167,0\\n1168,0\\n1169,1\\n1170,1\\n1171,1\\n1172,0\\n1173,0\\n1174,1\\n1175,1\\n1176,0\\n1177,0\\n1178,1\\n1179,1\\n1180,0\\n1181,1\\n1182,1\\n1183,0\\n1184,0\\n1185,1\\n1186,1\\n1187,0\\n1188,1\\n1189,0\\n1190,1\\n1191,1\\n1192,1\\n1193,1\\n1194,0\\n1195,1\\n1196,1\\n1197,1\\n1198,0\\n1199,1\\n1200,0\\n1201,1\\n1202,0\\n1203,0\\n1204,0\\n1205,0\\n1206,0\\n1207,0\\n1208,1\\n1209,0\\n1210,0\\n1211,0\\n1212,0\\n1213,0\\n1214,0\\n1215,1\\n1216,1\\n1217,0\\n1218,0\\n1219,1\\n1220,0\\n1221,1\\n1222,0\\n1223,1\\n1224,1\\n1225,1\\n1226,0\\n1227,1\\n1228,0\\n1229,0\\n1230,0\\n1231,1\\n1232,0\\n1233,1\\n1234,1\\n1235,1\\n1236,0\\n1237,0\\n1238,1\\n1239,0\\n1240,0\\n1241,0\\n1242,0\\n1243,1\\n1244,0\\n1245,0\\n1246,1\\n1247,1\\n1248,0\\n1249,1\\n1250,0\\n1251,1\\n1252,1\\n1253,0\\n1254,1\\n1255,1\\n1256,0\\n1257,1\\n1258,0\\n1259,0\\n1260,0\\n1261,1\\n1262,1\\n1263,0\\n1264,0\\n1265,1\\n1266,1\\n1267,1\\n1268,0\\n1269,1\\n1270,0\\n1271,0\\n1272,1\\n1273,1\\n1274,0\\n1275,0\\n1276,0\\n1277,1\\n1278,0\\n1279,1\\n1280,1\\n1281,0\\n1282,0\\n1283,0\\n1284,0\\n1285,1\\n1286,1\\n1287,1\\n1288,0\\n1289,0\\n1290,0\\n1291,0\\n1292,1\\n1293,1\\n1294,0\\n1295,0\\n1296,0\\n1297,1\\n1298,1\\n1299,1\\n1300,1\\n1301,0\\n1302,1\\n1303,0\\n1304,0\\n1305,1\\n1306,1\\n1307,0\\n1308,0\\n1309,1\\n1310,1\\n1311,0\\n1312,0\\n1313,0\\n1314,1\\n1315,0\\n1316,1\\n1317,0\\n1318,0\\n1319,1\\n1320,1\\n1321,1\\n1322,0\\n1323,0\\n1324,0\\n1325,0\\n1326,0\\n1327,0\\n1328,0\\n1329,0\\n1330,1\\n1331,0\\n1332,0\\n1333,1\\n1334,1\\n1335,0\\n1336,1\\n1337,1\\n1338,1\\n1339,1\\n1340,0\\n1341,1\\n1342,1\\n1343,0\\n1344,1\\n1345,1\\n1346,0\\n1347,0\\n1348,1\\n1349,1\\n1350,1\\n1351,0\\n1352,0\\n1353,0\\n1354,1\\n1355,0\\n1356,1\\n1357,0\\n1358,0\\n1359,0\\n1360,1\\n1361,0\\n1362,1\\n1363,0\\n1364,1\\n1365,0\\n1366,0\\n1367,0\\n1368,0\\n1369,0\\n1370,1\\n1371,1\\n1372,0\\n1373,0\\n1374,1\\n1375,0\\n1376,0\\n1377,1\\n1378,0\\n1379,0\\n1380,0\\n1381,0\\n1382,0\\n1383,1\\n1384,1\\n1385,1\\n1386,0\\n1387,0\\n1388,0\\n1389,1\\n1390,1\\n1391,1\\n1392,0\\n1393,0\\n1394,1\\n1395,0\\n1396,1\\n1397,0\\n1398,0\\n1399,1\\n1400,1\\n1401,0\\n1402,1\\n1403,1\\n1404,0\\n1405,0\\n1406,1\\n1407,0\\n1408,1\\n1409,1\\n1410,0\\n1411,0\\n1412,1\\n1413,0\\n1414,0\\n1415,0\\n1416,0\\n1417,1\\n1418,0\\n1419,1\\n1420,1\\n1421,1\\n1422,0\\n1423,1\\n1424,0\\n1425,1\\n1426,0\\n1427,1\\n1428,1\\n1429,0\\n1430,0\\n1431,0\\n1432,1\\n1433,1\\n1434,0\\n1435,0\\n1436,1\\n1437,1\\n1438,1\\n1439,1\\n1440,0\\n1441,1\\n1442,1\\n1443,1\\n1444,0\\n1445,0\\n1446,0\\n1447,1\\n1448,1\\n1449,1\\n1450,1\\n1451,0\\n1452,1\\n1453,0\\n1454,1\\n1455,1\\n1456,0\\n1457,1\\n1458,0\\n1459,0\\n1460,0\\n1461,1\\n1462,1\\n1463,0\\n1464,0\\n1465,0\\n1466,0\\n1467,1\\n1468,1\\n1469,1\\n1470,0\\n1471,0\\n1472,0\\n1473,0\\n1474,1\\n1475,0\\n1476,1\\n1477,0\\n1478,0\\n1479,1\\n1480,0\\n1481,1\\n1482,1\\n1483,1\\n1484,1\\n1485,0\\n1486,0\\n1487,0\\n1488,0\\n1489,0\\n1490,0\\n1491,0\\n1492,1\\n1493,0\\n1494,0\\n1495,1\\n1496,1\\n1497,1\\n1498,0\\n1499,0\\n1500,1\\n1501,1\\n1502,1\\n1503,0\\n1504,0\\n1505,1\\n1506,1\\n1507,0\\n1508,0\\n1509,1\\n1510,0\\n1511,0\\n1512,1\\n1513,1\\n1514,0\\n1515,1\\n1516,0\\n1517,0\\n1518,0\\n1519,0\\n1520,0\\n1521,0\\n1522,0\\n1523,0\\n1524,1\\n1525,0\\n1526,1\\n1527,0\\n1528,0\\n1529,1\\n1530,0\\n1531,0\\n1532,1\\n1533,1\\n1534,1\\n1535,1\\n1536,1\\n1537,0\\n1538,0\\n1539,0\\n1540,1\\n1541,0\\n1542,1\\n1543,1\\n1544,1\\n1545,1\\n1546,0\\n1547,0\\n1548,1\\n1549,0\\n1550,1\\n1551,0\\n1552,1\\n1553,0\\n1554,1\\n1555,0\\n1556,1\\n1557,1\\n1558,1\\n1559,0\\n1560,0\\n1561,1\\n1562,0\\n1563,1\\n1564,0\\n1565,1\\n1566,1\\n1567,1\\n1568,1\\n1569,1\\n1570,1\\n1571,0\\n1572,1\\n1573,1\\n1574,1\\n1575,1\\n1576,1\\n1577,0\\n1578,1\\n1579,0\\n1580,1\\n1581,0\\n1582,1\\n1583,0\\n1584,0\\n1585,0\\n1586,1\\n1587,1\\n1588,1\\n1589,1\\n1590,1\\n1591,0\\n1592,0\\n1593,0\\n1594,0\\n1595,1\\n1596,0\\n1597,1\\n1598,0\\n1599,1\\n1600,1\\n1601,1\\n1602,1\\n1603,1\\n1604,0\\n1605,0\\n1606,1\\n1607,0\\n1608,1\\n1609,1\\n1610,0\\n1611,0\\n1612,1\\n1613,1\\n1614,0\\n1615,1\\n1616,0\\n1617,0\\n1618,0\\n1619,0\\n1620,0\\n1621,1\\n1622,1\\n1623,1\\n1624,0\\n1625,0\\n1626,1\\n1627,1\\n1628,0\\n1629,1\\n1630,1\\n1631,1\\n1632,1\\n1633,0\\n1634,0\\n1635,0\\n1636,0\\n1637,0\\n1638,0\\n1639,1\\n1640,0\\n1641,1\\n1642,1\\n1643,0\\n1644,1\\n1645,0\\n1646,0\\n1647,0\\n1648,1\\n1649,0\\n1650,1\\n1651,1\\n1652,0\\n1653,0\\n1654,1\\n1655,0\\n1656,0\\n1657,1\\n1658,0\\n1659,1\\n1660,1\\n1661,0\\n1662,0\\n1663,0\\n1664,0\\n1665,1\\n1666,0\\n1667,1\\n1668,1\\n1669,0\\n1670,0\\n1671,0\\n1672,1\\n1673,0\\n1674,1\\n1675,0\\n1676,0\\n1677,0\\n1678,0\\n1679,0\\n1680,0\\n1681,0\\n1682,1\\n1683,1\\n1684,1\\n1685,0\\n1686,0\\n1687,1\\n1688,1\\n1689,0\\n1690,0\\n1691,0\\n1692,1\\n1693,0\\n1694,0\\n1695,0\\n1696,1\\n1697,1\\n1698,0\\n1699,1\\n1700,1\\n1701,1\\n1702,1\\n1703,1\\n1704,0\\n1705,0\\n1706,1\\n1707,0\\n1708,1\\n1709,0\\n1710,1\\n1711,1\\n1712,1\\n1713,1\\n1714,0\\n1715,0\\n1716,1\\n1717,0\\n1718,0\\n1719,1\\n1720,1\\n1721,0\\n1722,0\\n1723,0\\n1724,1\\n1725,1\\n1726,0\\n1727,0\\n1728,0\\n1729,1\\n1730,0\\n1731,0\\n1732,1\\n1733,0\\n1734,0\\n1735,0\\n1736,0\\n1737,0\\n1738,0\\n1739,1\\n1740,1\\n1741,1\\n1742,0\\n1743,1\\n1744,0\\n1745,0\\n1746,1\\n1747,1\\n1748,1\\n1749,1\\n1750,0\\n1751,0\\n1752,1\\n1753,1\\n1754,1\\n1755,1\\n1756,1\\n1757,1\\n1758,1\\n1759,0\\n1760,0\\n1761,1\\n1762,1\\n1763,0\\n1764,0\\n1765,0\\n1766,1\\n1767,0\\n1768,1\\n1769,1\\n1770,0\\n1771,0\\n1772,1\\n1773,1\\n1774,0\\n1775,0\\n1776,0\\n1777,1\\n1778,0\\n1779,0\\n1780,1\\n1781,0\\n1782,0\\n1783,0\\n1784,0\\n1785,1\\n1786,1\\n1787,1\\n1788,1\\n1789,0\\n1790,0\\n1791,1\\n1792,1\\n1793,0\\n1794,1\\n1795,0\\n1796,1\\n1797,1\\n1798,1\\n1799,1\\n1800,1\\n1801,0\\n1802,0\\n1803,1\\n1804,0\\n1805,1\\n1806,0\\n1807,0\\n1808,0\\n1809,1\\n1810,1\\n1811,1\\n1812,1\\n1813,1\\n1814,1\\n1815,1\\n1816,1\\n1817,0\\n1818,0\\n1819,0\\n1820,0\\n1821,0\\n1822,1\\n1823,1\\n1824,0\\n1825,0\\n1826,1\\n1827,1\\n1828,1\\n1829,0\\n1830,1\\n1831,1\\n1832,0\\n1833,0\\n1834,1\\n1835,0\\n1836,1\\n1837,1\\n1838,1\\n1839,1\\n1840,1\\n1841,0\\n1842,0\\n1843,1\\n1844,1\\n1845,0\\n1846,1\\n1847,0\\n1848,0\\n1849,1\\n1850,1\\n1851,0\\n1852,1\\n1853,1\\n1854,1\\n1855,0\\n1856,0\\n1857,1\\n1858,1\\n1859,0\\n1860,1\\n1861,0\\n1862,1\\n1863,0\\n1864,1\\n1865,1\\n1866,0\\n1867,1\\n1868,1\\n1869,0\\n1870,1\\n1871,1\\n1872,1\\n1873,1\\n1874,1\\n1875,0\\n1876,0\\n1877,1\\n1878,0\\n1879,0\\n1880,1\\n1881,0\\n1882,0\\n1883,0\\n1884,0\\n1885,1\\n1886,0\\n1887,1\\n1888,0\\n1889,1\\n1890,0\\n1891,1\\n1892,1\\n1893,0\\n1894,1\\n1895,1\\n1896,1\\n1897,1\\n1898,1\\n1899,0\\n1900,0\\n1901,0\\n1902,0\\n1903,1\\n1904,1\\n1905,1\\n1906,0\\n1907,1\\n1908,1\\n1909,1\\n1910,0\\n1911,0\\n1912,1\\n1913,0\\n1914,1\\n1915,0\\n1916,1\\n1917,1\\n1918,0\\n1919,0\\n1920,0\\n1921,0\\n1922,1\\n1923,1\\n1924,0\\n1925,1\\n1926,0\\n1927,0\\n1928,1\\n1929,1\\n1930,1\\n1931,0\\n1932,1\\n1933,1\\n1934,0\\n1935,0\\n1936,1\\n1937,1\\n1938,0\\n1939,1\\n1940,1\\n1941,0\\n1942,1\\n1943,1\\n1944,0\\n1945,1\\n1946,1\\n1947,1\\n1948,0\\n1949,1\\n1950,1\\n1951,1\\n1952,1\\n1953,1\\n1954,0\\n1955,1\\n1956,1\\n1957,0\\n1958,0\\n1959,0\\n1960,1\\n1961,0\\n1962,0\\n1963,0\\n1964,0\\n1965,0\\n1966,1\\n1967,0\\n1968,0\\n1969,1\\n1970,1\\n1971,0\\n1972,1\\n1973,1\\n1974,1\\n1975,0\\n1976,1\\n1977,0\\n1978,1\\n1979,0\\n1980,1\\n1981,1\\n1982,0\\n1983,1\\n1984,0\\n1985,0\\n1986,1\\n1987,1\\n1988,1\\n1989,1\\n1990,0\\n1991,1\\n1992,0\\n1993,0\\n1994,1\\n1995,1\\n1996,0\\n1997,0\\n1998,1\\n1999,1\\n',\n",
              " 'ensemble_BERT_2.csv': b',BERT prediction\\n0,0\\n1,0\\n2,0\\n3,1\\n4,0\\n5,1\\n6,1\\n7,0\\n8,1\\n9,0\\n10,1\\n11,0\\n12,1\\n13,0\\n14,0\\n15,0\\n16,0\\n17,0\\n18,1\\n19,0\\n20,0\\n21,0\\n22,0\\n23,0\\n24,0\\n25,0\\n26,0\\n27,0\\n28,1\\n29,1\\n30,0\\n31,0\\n32,1\\n33,1\\n34,1\\n35,1\\n36,1\\n37,0\\n38,1\\n39,1\\n40,1\\n41,0\\n42,1\\n43,1\\n44,0\\n45,1\\n46,1\\n47,1\\n48,0\\n49,0\\n50,1\\n51,1\\n52,1\\n53,1\\n54,0\\n55,1\\n56,0\\n57,0\\n58,1\\n59,1\\n60,1\\n61,1\\n62,1\\n63,0\\n64,1\\n65,0\\n66,1\\n67,0\\n68,1\\n69,1\\n70,1\\n71,1\\n72,1\\n73,1\\n74,1\\n75,1\\n76,1\\n77,0\\n78,0\\n79,1\\n80,0\\n81,1\\n82,0\\n83,1\\n84,0\\n85,0\\n86,1\\n87,1\\n88,1\\n89,0\\n90,1\\n91,0\\n92,1\\n93,1\\n94,1\\n95,0\\n96,0\\n97,1\\n98,0\\n99,1\\n100,0\\n101,0\\n102,0\\n103,0\\n104,0\\n105,0\\n106,1\\n107,1\\n108,1\\n109,0\\n110,1\\n111,1\\n112,0\\n113,1\\n114,0\\n115,1\\n116,1\\n117,0\\n118,1\\n119,0\\n120,0\\n121,1\\n122,0\\n123,0\\n124,1\\n125,1\\n126,0\\n127,1\\n128,0\\n129,0\\n130,1\\n131,1\\n132,1\\n133,0\\n134,1\\n135,0\\n136,0\\n137,1\\n138,0\\n139,1\\n140,1\\n141,1\\n142,0\\n143,0\\n144,1\\n145,1\\n146,0\\n147,1\\n148,0\\n149,1\\n150,0\\n151,1\\n152,0\\n153,1\\n154,0\\n155,1\\n156,1\\n157,1\\n158,0\\n159,0\\n160,1\\n161,1\\n162,1\\n163,0\\n164,1\\n165,0\\n166,1\\n167,1\\n168,0\\n169,0\\n170,0\\n171,0\\n172,0\\n173,0\\n174,0\\n175,0\\n176,1\\n177,1\\n178,1\\n179,1\\n180,1\\n181,1\\n182,1\\n183,1\\n184,1\\n185,0\\n186,1\\n187,0\\n188,1\\n189,1\\n190,1\\n191,0\\n192,1\\n193,1\\n194,0\\n195,1\\n196,1\\n197,0\\n198,0\\n199,1\\n200,1\\n201,0\\n202,1\\n203,1\\n204,1\\n205,1\\n206,1\\n207,0\\n208,0\\n209,1\\n210,1\\n211,1\\n212,1\\n213,0\\n214,1\\n215,1\\n216,1\\n217,0\\n218,1\\n219,1\\n220,1\\n221,1\\n222,0\\n223,0\\n224,0\\n225,1\\n226,0\\n227,1\\n228,0\\n229,0\\n230,0\\n231,1\\n232,1\\n233,1\\n234,1\\n235,0\\n236,0\\n237,1\\n238,0\\n239,1\\n240,0\\n241,0\\n242,1\\n243,1\\n244,0\\n245,0\\n246,0\\n247,1\\n248,1\\n249,1\\n250,1\\n251,0\\n252,0\\n253,1\\n254,0\\n255,0\\n256,1\\n257,0\\n258,0\\n259,0\\n260,0\\n261,1\\n262,0\\n263,1\\n264,1\\n265,0\\n266,0\\n267,0\\n268,1\\n269,0\\n270,1\\n271,1\\n272,1\\n273,0\\n274,0\\n275,0\\n276,1\\n277,0\\n278,1\\n279,1\\n280,0\\n281,0\\n282,1\\n283,1\\n284,1\\n285,1\\n286,0\\n287,1\\n288,1\\n289,0\\n290,0\\n291,1\\n292,1\\n293,1\\n294,0\\n295,1\\n296,0\\n297,1\\n298,0\\n299,0\\n300,1\\n301,0\\n302,0\\n303,1\\n304,0\\n305,0\\n306,0\\n307,1\\n308,1\\n309,0\\n310,1\\n311,1\\n312,1\\n313,1\\n314,1\\n315,1\\n316,0\\n317,0\\n318,0\\n319,1\\n320,1\\n321,0\\n322,1\\n323,1\\n324,0\\n325,0\\n326,1\\n327,0\\n328,0\\n329,0\\n330,1\\n331,1\\n332,1\\n333,0\\n334,0\\n335,0\\n336,0\\n337,1\\n338,0\\n339,0\\n340,1\\n341,1\\n342,0\\n343,1\\n344,0\\n345,1\\n346,0\\n347,1\\n348,1\\n349,1\\n350,0\\n351,0\\n352,1\\n353,0\\n354,0\\n355,0\\n356,0\\n357,0\\n358,1\\n359,1\\n360,1\\n361,0\\n362,1\\n363,0\\n364,1\\n365,1\\n366,0\\n367,0\\n368,1\\n369,1\\n370,0\\n371,0\\n372,1\\n373,0\\n374,1\\n375,0\\n376,1\\n377,0\\n378,0\\n379,0\\n380,1\\n381,0\\n382,1\\n383,1\\n384,0\\n385,1\\n386,1\\n387,0\\n388,1\\n389,1\\n390,1\\n391,0\\n392,1\\n393,1\\n394,1\\n395,0\\n396,1\\n397,1\\n398,0\\n399,1\\n400,1\\n401,0\\n402,0\\n403,0\\n404,1\\n405,0\\n406,1\\n407,0\\n408,0\\n409,0\\n410,1\\n411,1\\n412,1\\n413,1\\n414,1\\n415,0\\n416,1\\n417,1\\n418,0\\n419,0\\n420,1\\n421,0\\n422,0\\n423,1\\n424,1\\n425,1\\n426,1\\n427,1\\n428,0\\n429,1\\n430,0\\n431,0\\n432,0\\n433,0\\n434,1\\n435,0\\n436,1\\n437,0\\n438,0\\n439,1\\n440,1\\n441,0\\n442,0\\n443,1\\n444,0\\n445,0\\n446,0\\n447,0\\n448,1\\n449,0\\n450,1\\n451,0\\n452,1\\n453,0\\n454,1\\n455,0\\n456,0\\n457,0\\n458,1\\n459,1\\n460,0\\n461,0\\n462,1\\n463,1\\n464,0\\n465,0\\n466,1\\n467,1\\n468,0\\n469,0\\n470,0\\n471,0\\n472,0\\n473,1\\n474,1\\n475,0\\n476,0\\n477,0\\n478,0\\n479,0\\n480,0\\n481,0\\n482,1\\n483,1\\n484,0\\n485,0\\n486,0\\n487,1\\n488,1\\n489,0\\n490,0\\n491,0\\n492,0\\n493,1\\n494,1\\n495,1\\n496,0\\n497,0\\n498,0\\n499,1\\n500,0\\n501,0\\n502,0\\n503,1\\n504,1\\n505,0\\n506,0\\n507,0\\n508,1\\n509,1\\n510,1\\n511,1\\n512,1\\n513,0\\n514,1\\n515,0\\n516,1\\n517,1\\n518,0\\n519,1\\n520,1\\n521,0\\n522,1\\n523,1\\n524,0\\n525,0\\n526,1\\n527,0\\n528,0\\n529,1\\n530,0\\n531,0\\n532,1\\n533,1\\n534,1\\n535,1\\n536,0\\n537,1\\n538,1\\n539,1\\n540,0\\n541,0\\n542,0\\n543,1\\n544,1\\n545,0\\n546,0\\n547,0\\n548,1\\n549,1\\n550,1\\n551,0\\n552,0\\n553,1\\n554,0\\n555,0\\n556,1\\n557,1\\n558,0\\n559,0\\n560,1\\n561,1\\n562,1\\n563,1\\n564,1\\n565,1\\n566,1\\n567,1\\n568,0\\n569,1\\n570,1\\n571,1\\n572,0\\n573,1\\n574,0\\n575,0\\n576,0\\n577,1\\n578,1\\n579,1\\n580,1\\n581,0\\n582,0\\n583,1\\n584,0\\n585,1\\n586,1\\n587,1\\n588,0\\n589,1\\n590,1\\n591,1\\n592,0\\n593,1\\n594,1\\n595,1\\n596,1\\n597,0\\n598,0\\n599,1\\n600,1\\n601,1\\n602,1\\n603,0\\n604,1\\n605,1\\n606,1\\n607,0\\n608,1\\n609,1\\n610,0\\n611,0\\n612,0\\n613,0\\n614,1\\n615,1\\n616,0\\n617,1\\n618,1\\n619,1\\n620,0\\n621,0\\n622,0\\n623,1\\n624,0\\n625,1\\n626,0\\n627,1\\n628,0\\n629,0\\n630,1\\n631,0\\n632,0\\n633,0\\n634,1\\n635,0\\n636,1\\n637,0\\n638,1\\n639,1\\n640,1\\n641,1\\n642,1\\n643,1\\n644,1\\n645,0\\n646,0\\n647,0\\n648,0\\n649,0\\n650,1\\n651,1\\n652,1\\n653,0\\n654,1\\n655,0\\n656,1\\n657,0\\n658,1\\n659,1\\n660,0\\n661,1\\n662,1\\n663,1\\n664,0\\n665,1\\n666,1\\n667,1\\n668,0\\n669,1\\n670,0\\n671,1\\n672,0\\n673,1\\n674,0\\n675,0\\n676,0\\n677,1\\n678,1\\n679,1\\n680,0\\n681,1\\n682,0\\n683,1\\n684,0\\n685,0\\n686,1\\n687,0\\n688,0\\n689,1\\n690,1\\n691,0\\n692,1\\n693,0\\n694,0\\n695,1\\n696,0\\n697,0\\n698,0\\n699,0\\n700,0\\n701,1\\n702,0\\n703,0\\n704,0\\n705,0\\n706,1\\n707,1\\n708,1\\n709,0\\n710,0\\n711,0\\n712,0\\n713,0\\n714,0\\n715,0\\n716,0\\n717,0\\n718,0\\n719,0\\n720,1\\n721,0\\n722,1\\n723,0\\n724,0\\n725,1\\n726,0\\n727,1\\n728,0\\n729,0\\n730,1\\n731,0\\n732,1\\n733,0\\n734,1\\n735,1\\n736,1\\n737,0\\n738,0\\n739,0\\n740,1\\n741,0\\n742,0\\n743,0\\n744,1\\n745,1\\n746,1\\n747,1\\n748,0\\n749,0\\n750,0\\n751,0\\n752,1\\n753,0\\n754,0\\n755,0\\n756,0\\n757,1\\n758,0\\n759,0\\n760,1\\n761,0\\n762,1\\n763,1\\n764,1\\n765,0\\n766,0\\n767,0\\n768,0\\n769,1\\n770,1\\n771,1\\n772,0\\n773,0\\n774,0\\n775,0\\n776,0\\n777,1\\n778,0\\n779,0\\n780,0\\n781,1\\n782,0\\n783,0\\n784,0\\n785,0\\n786,0\\n787,0\\n788,0\\n789,0\\n790,1\\n791,1\\n792,1\\n793,1\\n794,1\\n795,1\\n796,1\\n797,0\\n798,1\\n799,1\\n800,0\\n801,1\\n802,1\\n803,0\\n804,0\\n805,0\\n806,0\\n807,0\\n808,0\\n809,0\\n810,1\\n811,1\\n812,1\\n813,1\\n814,0\\n815,1\\n816,0\\n817,1\\n818,0\\n819,1\\n820,1\\n821,1\\n822,1\\n823,1\\n824,1\\n825,0\\n826,1\\n827,0\\n828,0\\n829,1\\n830,0\\n831,0\\n832,1\\n833,1\\n834,1\\n835,0\\n836,0\\n837,1\\n838,1\\n839,1\\n840,1\\n841,0\\n842,1\\n843,0\\n844,0\\n845,0\\n846,0\\n847,0\\n848,1\\n849,0\\n850,0\\n851,1\\n852,0\\n853,0\\n854,0\\n855,0\\n856,1\\n857,0\\n858,1\\n859,0\\n860,0\\n861,1\\n862,0\\n863,0\\n864,0\\n865,1\\n866,1\\n867,0\\n868,1\\n869,1\\n870,1\\n871,0\\n872,1\\n873,0\\n874,1\\n875,0\\n876,1\\n877,1\\n878,0\\n879,0\\n880,0\\n881,0\\n882,0\\n883,0\\n884,0\\n885,1\\n886,1\\n887,0\\n888,0\\n889,1\\n890,1\\n891,1\\n892,1\\n893,0\\n894,0\\n895,1\\n896,1\\n897,0\\n898,1\\n899,1\\n900,0\\n901,0\\n902,0\\n903,0\\n904,1\\n905,0\\n906,1\\n907,1\\n908,0\\n909,0\\n910,1\\n911,1\\n912,1\\n913,1\\n914,0\\n915,1\\n916,0\\n917,1\\n918,1\\n919,0\\n920,0\\n921,0\\n922,1\\n923,0\\n924,1\\n925,0\\n926,0\\n927,1\\n928,0\\n929,1\\n930,1\\n931,1\\n932,1\\n933,0\\n934,0\\n935,1\\n936,0\\n937,0\\n938,1\\n939,0\\n940,1\\n941,0\\n942,1\\n943,0\\n944,0\\n945,0\\n946,0\\n947,0\\n948,0\\n949,0\\n950,0\\n951,1\\n952,0\\n953,0\\n954,1\\n955,1\\n956,0\\n957,1\\n958,1\\n959,1\\n960,1\\n961,1\\n962,0\\n963,0\\n964,0\\n965,1\\n966,0\\n967,1\\n968,1\\n969,0\\n970,0\\n971,1\\n972,0\\n973,1\\n974,0\\n975,0\\n976,0\\n977,0\\n978,1\\n979,1\\n980,1\\n981,0\\n982,0\\n983,1\\n984,0\\n985,0\\n986,0\\n987,1\\n988,0\\n989,1\\n990,0\\n991,1\\n992,0\\n993,0\\n994,0\\n995,1\\n996,1\\n997,0\\n998,0\\n999,0\\n1000,0\\n1001,1\\n1002,0\\n1003,0\\n1004,0\\n1005,1\\n1006,1\\n1007,1\\n1008,1\\n1009,0\\n1010,1\\n1011,0\\n1012,0\\n1013,1\\n1014,1\\n1015,0\\n1016,0\\n1017,0\\n1018,0\\n1019,1\\n1020,0\\n1021,0\\n1022,1\\n1023,0\\n1024,0\\n1025,0\\n1026,1\\n1027,1\\n1028,0\\n1029,1\\n1030,0\\n1031,1\\n1032,1\\n1033,0\\n1034,1\\n1035,0\\n1036,0\\n1037,0\\n1038,1\\n1039,1\\n1040,1\\n1041,1\\n1042,1\\n1043,1\\n1044,1\\n1045,1\\n1046,0\\n1047,1\\n1048,0\\n1049,0\\n1050,0\\n1051,1\\n1052,0\\n1053,1\\n1054,1\\n1055,0\\n1056,1\\n1057,0\\n1058,0\\n1059,0\\n1060,0\\n1061,0\\n1062,0\\n1063,0\\n1064,0\\n1065,0\\n1066,1\\n1067,1\\n1068,0\\n1069,1\\n1070,1\\n1071,1\\n1072,0\\n1073,0\\n1074,1\\n1075,1\\n1076,0\\n1077,1\\n1078,0\\n1079,0\\n1080,1\\n1081,1\\n1082,1\\n1083,0\\n1084,0\\n1085,0\\n1086,0\\n1087,0\\n1088,1\\n1089,0\\n1090,0\\n1091,1\\n1092,1\\n1093,1\\n1094,1\\n1095,0\\n1096,0\\n1097,1\\n1098,0\\n1099,1\\n1100,1\\n1101,0\\n1102,0\\n1103,1\\n1104,0\\n1105,0\\n1106,1\\n1107,0\\n1108,1\\n1109,0\\n1110,0\\n1111,0\\n1112,0\\n1113,0\\n1114,0\\n1115,0\\n1116,1\\n1117,1\\n1118,0\\n1119,0\\n1120,0\\n1121,0\\n1122,0\\n1123,1\\n1124,0\\n1125,0\\n1126,0\\n1127,1\\n1128,0\\n1129,0\\n1130,1\\n1131,1\\n1132,0\\n1133,1\\n1134,1\\n1135,1\\n1136,0\\n1137,1\\n1138,1\\n1139,1\\n1140,1\\n1141,0\\n1142,0\\n1143,0\\n1144,0\\n1145,1\\n1146,1\\n1147,0\\n1148,1\\n1149,0\\n1150,0\\n1151,0\\n1152,0\\n1153,1\\n1154,0\\n1155,0\\n1156,0\\n1157,0\\n1158,1\\n1159,1\\n1160,0\\n1161,0\\n1162,0\\n1163,0\\n1164,0\\n1165,1\\n1166,0\\n1167,0\\n1168,1\\n1169,1\\n1170,1\\n1171,0\\n1172,1\\n1173,0\\n1174,1\\n1175,0\\n1176,1\\n1177,1\\n1178,0\\n1179,1\\n1180,0\\n1181,1\\n1182,1\\n1183,0\\n1184,1\\n1185,1\\n1186,0\\n1187,0\\n1188,1\\n1189,1\\n1190,1\\n1191,0\\n1192,0\\n1193,1\\n1194,1\\n1195,1\\n1196,0\\n1197,0\\n1198,1\\n1199,1\\n1200,1\\n1201,1\\n1202,1\\n1203,0\\n1204,0\\n1205,1\\n1206,0\\n1207,0\\n1208,0\\n1209,0\\n1210,0\\n1211,0\\n1212,1\\n1213,0\\n1214,0\\n1215,1\\n1216,1\\n1217,1\\n1218,1\\n1219,0\\n1220,1\\n1221,1\\n1222,0\\n1223,0\\n1224,1\\n1225,0\\n1226,1\\n1227,0\\n1228,0\\n1229,1\\n1230,1\\n1231,0\\n1232,1\\n1233,0\\n1234,1\\n1235,1\\n1236,1\\n1237,0\\n1238,0\\n1239,1\\n1240,0\\n1241,0\\n1242,0\\n1243,0\\n1244,0\\n1245,0\\n1246,1\\n1247,0\\n1248,0\\n1249,1\\n1250,1\\n1251,1\\n1252,0\\n1253,1\\n1254,0\\n1255,1\\n1256,1\\n1257,0\\n1258,1\\n1259,1\\n1260,1\\n1261,1\\n1262,0\\n1263,0\\n1264,1\\n1265,1\\n1266,0\\n1267,0\\n1268,1\\n1269,0\\n1270,1\\n1271,1\\n1272,1\\n1273,1\\n1274,1\\n1275,1\\n1276,1\\n1277,1\\n1278,1\\n1279,0\\n1280,0\\n1281,0\\n1282,1\\n1283,0\\n1284,0\\n1285,0\\n1286,0\\n1287,1\\n1288,0\\n1289,0\\n1290,0\\n1291,1\\n1292,0\\n1293,0\\n1294,1\\n1295,0\\n1296,0\\n1297,0\\n1298,0\\n1299,1\\n1300,1\\n1301,1\\n1302,0\\n1303,1\\n1304,0\\n1305,0\\n1306,0\\n1307,1\\n1308,0\\n1309,0\\n1310,0\\n1311,1\\n1312,0\\n1313,1\\n1314,1\\n1315,1\\n1316,0\\n1317,0\\n1318,0\\n1319,0\\n1320,1\\n1321,1\\n1322,0\\n1323,0\\n1324,0\\n1325,0\\n1326,0\\n1327,1\\n1328,1\\n1329,0\\n1330,1\\n1331,1\\n1332,1\\n1333,1\\n1334,1\\n1335,0\\n1336,1\\n1337,1\\n1338,1\\n1339,0\\n1340,1\\n1341,1\\n1342,0\\n1343,1\\n1344,0\\n1345,0\\n1346,1\\n1347,0\\n1348,1\\n1349,0\\n1350,1\\n1351,0\\n1352,0\\n1353,0\\n1354,1\\n1355,0\\n1356,1\\n1357,0\\n1358,1\\n1359,1\\n1360,0\\n1361,0\\n1362,0\\n1363,0\\n1364,0\\n1365,1\\n1366,1\\n1367,0\\n1368,0\\n1369,0\\n1370,0\\n1371,0\\n1372,1\\n1373,1\\n1374,1\\n1375,1\\n1376,0\\n1377,0\\n1378,1\\n1379,1\\n1380,0\\n1381,0\\n1382,1\\n1383,0\\n1384,0\\n1385,1\\n1386,1\\n1387,1\\n1388,1\\n1389,1\\n1390,1\\n1391,0\\n1392,1\\n1393,0\\n1394,0\\n1395,1\\n1396,0\\n1397,0\\n1398,1\\n1399,0\\n1400,0\\n1401,0\\n1402,1\\n1403,0\\n1404,0\\n1405,1\\n1406,1\\n1407,0\\n1408,1\\n1409,1\\n1410,0\\n1411,1\\n1412,1\\n1413,1\\n1414,1\\n1415,0\\n1416,0\\n1417,0\\n1418,0\\n1419,0\\n1420,0\\n1421,0\\n1422,0\\n1423,0\\n1424,1\\n1425,1\\n1426,1\\n1427,0\\n1428,1\\n1429,1\\n1430,0\\n1431,0\\n1432,0\\n1433,0\\n1434,1\\n1435,0\\n1436,0\\n1437,0\\n1438,0\\n1439,1\\n1440,1\\n1441,0\\n1442,1\\n1443,0\\n1444,0\\n1445,1\\n1446,0\\n1447,0\\n1448,1\\n1449,1\\n1450,1\\n1451,0\\n1452,0\\n1453,0\\n1454,0\\n1455,0\\n1456,1\\n1457,0\\n1458,0\\n1459,0\\n1460,1\\n1461,1\\n1462,1\\n1463,1\\n1464,1\\n1465,0\\n1466,0\\n1467,0\\n1468,0\\n1469,0\\n1470,0\\n1471,0\\n1472,0\\n1473,1\\n1474,1\\n1475,0\\n1476,1\\n1477,1\\n1478,1\\n1479,1\\n1480,1\\n1481,0\\n1482,0\\n1483,0\\n1484,1\\n1485,1\\n1486,0\\n1487,0\\n1488,0\\n1489,1\\n1490,1\\n1491,0\\n1492,0\\n1493,1\\n1494,1\\n1495,1\\n1496,1\\n1497,0\\n1498,1\\n1499,1\\n1500,0\\n1501,1\\n1502,0\\n1503,0\\n1504,0\\n1505,1\\n1506,1\\n1507,1\\n1508,0\\n1509,0\\n1510,1\\n1511,1\\n1512,1\\n1513,1\\n1514,1\\n1515,0\\n1516,1\\n1517,1\\n1518,1\\n1519,1\\n1520,1\\n1521,0\\n1522,1\\n1523,0\\n1524,1\\n1525,1\\n1526,1\\n1527,1\\n1528,0\\n1529,1\\n1530,1\\n1531,1\\n1532,0\\n1533,1\\n1534,0\\n1535,1\\n1536,1\\n1537,0\\n1538,0\\n1539,0\\n1540,0\\n1541,1\\n1542,0\\n1543,1\\n1544,0\\n1545,0\\n1546,1\\n1547,0\\n1548,0\\n1549,0\\n1550,1\\n1551,1\\n1552,0\\n1553,1\\n1554,1\\n1555,0\\n1556,1\\n1557,1\\n1558,0\\n1559,1\\n1560,0\\n1561,1\\n1562,0\\n1563,1\\n1564,0\\n1565,0\\n1566,1\\n1567,0\\n1568,1\\n1569,0\\n1570,0\\n1571,0\\n1572,0\\n1573,1\\n1574,0\\n1575,1\\n1576,1\\n1577,1\\n1578,0\\n1579,1\\n1580,0\\n1581,0\\n1582,0\\n1583,1\\n1584,1\\n1585,0\\n1586,1\\n1587,0\\n1588,1\\n1589,0\\n1590,0\\n1591,1\\n1592,1\\n1593,1\\n1594,1\\n1595,1\\n1596,1\\n1597,1\\n1598,0\\n1599,0\\n1600,0\\n1601,0\\n1602,0\\n1603,0\\n1604,0\\n1605,0\\n1606,1\\n1607,1\\n1608,1\\n1609,1\\n1610,1\\n1611,0\\n1612,0\\n1613,0\\n1614,0\\n1615,0\\n1616,1\\n1617,0\\n1618,1\\n1619,0\\n1620,1\\n1621,0\\n1622,1\\n1623,1\\n1624,0\\n1625,0\\n1626,0\\n1627,1\\n1628,0\\n1629,0\\n1630,0\\n1631,0\\n1632,1\\n1633,1\\n1634,0\\n1635,0\\n1636,1\\n1637,0\\n1638,1\\n1639,0\\n1640,0\\n1641,0\\n1642,1\\n1643,1\\n1644,1\\n1645,1\\n1646,1\\n1647,1\\n1648,1\\n1649,0\\n1650,0\\n1651,0\\n1652,1\\n1653,0\\n1654,1\\n1655,1\\n1656,0\\n1657,1\\n1658,1\\n1659,0\\n1660,0\\n1661,1\\n1662,1\\n1663,0\\n1664,0\\n1665,0\\n1666,0\\n1667,0\\n1668,0\\n1669,0\\n1670,1\\n1671,0\\n1672,1\\n1673,1\\n1674,0\\n1675,1\\n1676,1\\n1677,0\\n1678,0\\n1679,0\\n1680,1\\n1681,1\\n1682,1\\n1683,1\\n1684,0\\n1685,0\\n1686,1\\n1687,0\\n1688,1\\n1689,1\\n1690,0\\n1691,1\\n1692,1\\n1693,0\\n1694,1\\n1695,1\\n1696,1\\n1697,0\\n1698,1\\n1699,1\\n1700,1\\n1701,1\\n1702,0\\n1703,1\\n1704,0\\n1705,0\\n1706,0\\n1707,0\\n1708,1\\n1709,0\\n1710,1\\n1711,0\\n1712,0\\n1713,0\\n1714,0\\n1715,1\\n1716,0\\n1717,1\\n1718,0\\n1719,1\\n1720,1\\n1721,0\\n1722,1\\n1723,0\\n1724,0\\n1725,1\\n1726,0\\n1727,0\\n1728,1\\n1729,0\\n1730,0\\n1731,0\\n1732,0\\n1733,0\\n1734,1\\n1735,1\\n1736,0\\n1737,0\\n1738,0\\n1739,0\\n1740,1\\n1741,0\\n1742,0\\n1743,1\\n1744,1\\n1745,1\\n1746,1\\n1747,1\\n1748,1\\n1749,1\\n1750,1\\n1751,1\\n1752,0\\n1753,0\\n1754,0\\n1755,0\\n1756,1\\n1757,1\\n1758,1\\n1759,1\\n1760,1\\n1761,0\\n1762,0\\n1763,0\\n1764,0\\n1765,1\\n1766,1\\n1767,0\\n1768,0\\n1769,1\\n1770,0\\n1771,1\\n1772,1\\n1773,1\\n1774,1\\n1775,0\\n1776,0\\n1777,1\\n1778,0\\n1779,1\\n1780,1\\n1781,0\\n1782,0\\n1783,0\\n1784,1\\n1785,1\\n1786,1\\n1787,0\\n1788,0\\n1789,1\\n1790,0\\n1791,0\\n1792,0\\n1793,0\\n1794,0\\n1795,0\\n1796,0\\n1797,0\\n1798,1\\n1799,1\\n1800,1\\n1801,1\\n1802,1\\n1803,0\\n1804,1\\n1805,0\\n1806,0\\n1807,1\\n1808,0\\n1809,1\\n1810,1\\n1811,0\\n1812,1\\n1813,1\\n1814,1\\n1815,1\\n1816,1\\n1817,1\\n1818,1\\n1819,0\\n1820,1\\n1821,1\\n1822,1\\n1823,0\\n1824,0\\n1825,0\\n1826,0\\n1827,1\\n1828,1\\n1829,1\\n1830,0\\n1831,1\\n1832,1\\n1833,0\\n1834,0\\n1835,1\\n1836,0\\n1837,1\\n1838,0\\n1839,0\\n1840,0\\n1841,1\\n1842,1\\n1843,1\\n1844,1\\n1845,0\\n1846,1\\n1847,0\\n1848,1\\n1849,1\\n1850,0\\n1851,1\\n1852,1\\n1853,0\\n1854,0\\n1855,0\\n1856,0\\n1857,0\\n1858,0\\n1859,0\\n1860,0\\n1861,0\\n1862,0\\n1863,0\\n1864,1\\n1865,1\\n1866,1\\n1867,1\\n1868,0\\n1869,0\\n1870,0\\n1871,0\\n1872,0\\n1873,1\\n1874,1\\n1875,0\\n1876,0\\n1877,0\\n1878,0\\n1879,0\\n1880,1\\n1881,1\\n1882,1\\n1883,0\\n1884,1\\n1885,1\\n1886,1\\n1887,0\\n1888,1\\n1889,0\\n1890,0\\n1891,0\\n1892,0\\n1893,0\\n1894,0\\n1895,1\\n1896,0\\n1897,1\\n1898,0\\n1899,0\\n1900,0\\n1901,0\\n1902,0\\n1903,1\\n1904,1\\n1905,0\\n1906,0\\n1907,0\\n1908,1\\n1909,1\\n1910,1\\n1911,0\\n1912,0\\n1913,0\\n1914,1\\n1915,1\\n1916,1\\n1917,1\\n1918,0\\n1919,1\\n1920,1\\n1921,0\\n1922,0\\n1923,1\\n1924,1\\n1925,1\\n1926,0\\n1927,0\\n1928,0\\n1929,0\\n1930,0\\n1931,1\\n1932,1\\n1933,0\\n1934,0\\n1935,1\\n1936,1\\n1937,1\\n1938,0\\n1939,0\\n1940,0\\n1941,0\\n1942,1\\n1943,0\\n1944,0\\n1945,0\\n1946,1\\n1947,1\\n1948,1\\n1949,1\\n1950,1\\n1951,1\\n1952,0\\n1953,0\\n1954,1\\n1955,1\\n1956,1\\n1957,0\\n1958,1\\n1959,1\\n1960,0\\n1961,1\\n1962,0\\n1963,1\\n1964,0\\n1965,1\\n1966,1\\n1967,1\\n1968,1\\n1969,0\\n1970,1\\n1971,1\\n1972,1\\n1973,0\\n1974,0\\n1975,0\\n1976,0\\n1977,1\\n1978,0\\n1979,1\\n1980,0\\n1981,1\\n1982,0\\n1983,0\\n1984,1\\n1985,1\\n1986,1\\n1987,0\\n1988,0\\n1989,0\\n1990,1\\n1991,1\\n1992,1\\n1993,1\\n1994,0\\n1995,0\\n1996,1\\n1997,0\\n1998,1\\n1999,0\\n',\n",
              " 'ensemble_BERT_3.csv': b',BERT prediction\\n0,1\\n1,1\\n2,0\\n3,0\\n4,0\\n5,0\\n6,0\\n7,0\\n8,1\\n9,1\\n10,0\\n11,0\\n12,1\\n13,0\\n14,0\\n15,1\\n16,1\\n17,1\\n18,0\\n19,0\\n20,1\\n21,0\\n22,0\\n23,0\\n24,1\\n25,1\\n26,1\\n27,0\\n28,0\\n29,1\\n30,0\\n31,0\\n32,0\\n33,1\\n34,1\\n35,0\\n36,0\\n37,1\\n38,1\\n39,1\\n40,1\\n41,1\\n42,0\\n43,1\\n44,0\\n45,1\\n46,1\\n47,1\\n48,0\\n49,0\\n50,0\\n51,1\\n52,1\\n53,1\\n54,1\\n55,1\\n56,0\\n57,0\\n58,0\\n59,0\\n60,0\\n61,0\\n62,1\\n63,0\\n64,0\\n65,1\\n66,1\\n67,0\\n68,0\\n69,1\\n70,1\\n71,0\\n72,0\\n73,0\\n74,0\\n75,0\\n76,0\\n77,1\\n78,0\\n79,0\\n80,0\\n81,1\\n82,0\\n83,1\\n84,0\\n85,1\\n86,1\\n87,1\\n88,1\\n89,0\\n90,0\\n91,0\\n92,1\\n93,0\\n94,0\\n95,0\\n96,0\\n97,1\\n98,0\\n99,1\\n100,1\\n101,1\\n102,0\\n103,1\\n104,0\\n105,1\\n106,1\\n107,0\\n108,1\\n109,0\\n110,1\\n111,0\\n112,1\\n113,0\\n114,1\\n115,1\\n116,0\\n117,0\\n118,1\\n119,1\\n120,0\\n121,1\\n122,1\\n123,0\\n124,1\\n125,0\\n126,1\\n127,1\\n128,1\\n129,1\\n130,0\\n131,0\\n132,0\\n133,1\\n134,1\\n135,0\\n136,0\\n137,0\\n138,1\\n139,1\\n140,0\\n141,1\\n142,1\\n143,0\\n144,0\\n145,0\\n146,0\\n147,0\\n148,0\\n149,1\\n150,1\\n151,0\\n152,1\\n153,0\\n154,0\\n155,0\\n156,0\\n157,1\\n158,0\\n159,0\\n160,0\\n161,0\\n162,1\\n163,1\\n164,1\\n165,0\\n166,0\\n167,1\\n168,1\\n169,0\\n170,1\\n171,0\\n172,1\\n173,1\\n174,0\\n175,1\\n176,0\\n177,0\\n178,0\\n179,1\\n180,1\\n181,0\\n182,0\\n183,0\\n184,1\\n185,0\\n186,0\\n187,0\\n188,1\\n189,0\\n190,1\\n191,1\\n192,0\\n193,1\\n194,0\\n195,0\\n196,0\\n197,1\\n198,1\\n199,1\\n200,0\\n201,1\\n202,1\\n203,1\\n204,0\\n205,1\\n206,1\\n207,0\\n208,1\\n209,0\\n210,1\\n211,0\\n212,1\\n213,0\\n214,0\\n215,1\\n216,1\\n217,0\\n218,0\\n219,1\\n220,0\\n221,0\\n222,1\\n223,0\\n224,0\\n225,1\\n226,0\\n227,1\\n228,0\\n229,1\\n230,0\\n231,0\\n232,1\\n233,1\\n234,0\\n235,1\\n236,0\\n237,0\\n238,0\\n239,0\\n240,1\\n241,0\\n242,0\\n243,0\\n244,0\\n245,1\\n246,0\\n247,0\\n248,0\\n249,0\\n250,1\\n251,1\\n252,1\\n253,1\\n254,1\\n255,0\\n256,0\\n257,0\\n258,1\\n259,0\\n260,0\\n261,1\\n262,0\\n263,1\\n264,0\\n265,1\\n266,1\\n267,0\\n268,1\\n269,0\\n270,0\\n271,1\\n272,1\\n273,0\\n274,1\\n275,0\\n276,0\\n277,0\\n278,1\\n279,1\\n280,1\\n281,0\\n282,1\\n283,1\\n284,0\\n285,1\\n286,1\\n287,0\\n288,1\\n289,0\\n290,1\\n291,1\\n292,0\\n293,1\\n294,0\\n295,1\\n296,0\\n297,0\\n298,1\\n299,0\\n300,1\\n301,0\\n302,1\\n303,0\\n304,0\\n305,1\\n306,1\\n307,0\\n308,1\\n309,1\\n310,1\\n311,0\\n312,0\\n313,1\\n314,1\\n315,0\\n316,1\\n317,0\\n318,1\\n319,1\\n320,0\\n321,0\\n322,1\\n323,0\\n324,1\\n325,0\\n326,0\\n327,1\\n328,0\\n329,1\\n330,1\\n331,1\\n332,0\\n333,0\\n334,0\\n335,0\\n336,0\\n337,0\\n338,1\\n339,0\\n340,0\\n341,1\\n342,0\\n343,1\\n344,0\\n345,1\\n346,1\\n347,0\\n348,1\\n349,1\\n350,1\\n351,0\\n352,0\\n353,1\\n354,1\\n355,0\\n356,0\\n357,0\\n358,1\\n359,0\\n360,1\\n361,0\\n362,0\\n363,0\\n364,1\\n365,0\\n366,1\\n367,0\\n368,1\\n369,1\\n370,0\\n371,1\\n372,1\\n373,0\\n374,1\\n375,0\\n376,0\\n377,1\\n378,0\\n379,1\\n380,0\\n381,0\\n382,1\\n383,0\\n384,0\\n385,1\\n386,1\\n387,0\\n388,1\\n389,0\\n390,0\\n391,1\\n392,0\\n393,0\\n394,0\\n395,1\\n396,1\\n397,1\\n398,1\\n399,1\\n400,1\\n401,0\\n402,1\\n403,0\\n404,0\\n405,0\\n406,0\\n407,0\\n408,1\\n409,0\\n410,1\\n411,1\\n412,1\\n413,0\\n414,1\\n415,1\\n416,1\\n417,0\\n418,1\\n419,1\\n420,0\\n421,0\\n422,0\\n423,1\\n424,0\\n425,0\\n426,0\\n427,0\\n428,1\\n429,0\\n430,0\\n431,0\\n432,1\\n433,0\\n434,1\\n435,1\\n436,1\\n437,0\\n438,1\\n439,0\\n440,0\\n441,1\\n442,0\\n443,1\\n444,1\\n445,1\\n446,0\\n447,0\\n448,0\\n449,1\\n450,0\\n451,0\\n452,0\\n453,0\\n454,0\\n455,1\\n456,0\\n457,0\\n458,0\\n459,0\\n460,1\\n461,1\\n462,1\\n463,1\\n464,0\\n465,1\\n466,0\\n467,0\\n468,0\\n469,0\\n470,0\\n471,0\\n472,0\\n473,0\\n474,0\\n475,0\\n476,1\\n477,1\\n478,1\\n479,1\\n480,1\\n481,0\\n482,0\\n483,1\\n484,1\\n485,1\\n486,1\\n487,0\\n488,0\\n489,1\\n490,0\\n491,0\\n492,1\\n493,0\\n494,0\\n495,1\\n496,0\\n497,0\\n498,1\\n499,0\\n500,1\\n501,1\\n502,0\\n503,0\\n504,0\\n505,0\\n506,0\\n507,0\\n508,0\\n509,1\\n510,0\\n511,1\\n512,0\\n513,0\\n514,0\\n515,1\\n516,0\\n517,0\\n518,1\\n519,0\\n520,0\\n521,1\\n522,1\\n523,0\\n524,1\\n525,1\\n526,0\\n527,1\\n528,0\\n529,1\\n530,0\\n531,0\\n532,0\\n533,1\\n534,1\\n535,0\\n536,0\\n537,1\\n538,0\\n539,1\\n540,0\\n541,1\\n542,1\\n543,1\\n544,1\\n545,0\\n546,1\\n547,0\\n548,1\\n549,0\\n550,1\\n551,1\\n552,0\\n553,0\\n554,0\\n555,0\\n556,1\\n557,0\\n558,0\\n559,0\\n560,0\\n561,1\\n562,1\\n563,1\\n564,0\\n565,0\\n566,0\\n567,0\\n568,1\\n569,1\\n570,1\\n571,1\\n572,1\\n573,0\\n574,0\\n575,0\\n576,0\\n577,0\\n578,0\\n579,0\\n580,0\\n581,1\\n582,1\\n583,0\\n584,1\\n585,1\\n586,0\\n587,1\\n588,1\\n589,1\\n590,0\\n591,1\\n592,1\\n593,0\\n594,0\\n595,1\\n596,1\\n597,0\\n598,0\\n599,1\\n600,1\\n601,0\\n602,1\\n603,1\\n604,1\\n605,0\\n606,1\\n607,0\\n608,0\\n609,1\\n610,1\\n611,0\\n612,1\\n613,0\\n614,0\\n615,0\\n616,1\\n617,1\\n618,1\\n619,0\\n620,1\\n621,0\\n622,0\\n623,0\\n624,1\\n625,0\\n626,0\\n627,1\\n628,0\\n629,1\\n630,0\\n631,1\\n632,1\\n633,0\\n634,0\\n635,1\\n636,0\\n637,1\\n638,0\\n639,1\\n640,1\\n641,0\\n642,1\\n643,0\\n644,1\\n645,1\\n646,1\\n647,1\\n648,0\\n649,1\\n650,1\\n651,0\\n652,0\\n653,0\\n654,1\\n655,0\\n656,1\\n657,1\\n658,1\\n659,0\\n660,1\\n661,0\\n662,0\\n663,0\\n664,1\\n665,1\\n666,1\\n667,1\\n668,1\\n669,0\\n670,0\\n671,0\\n672,1\\n673,0\\n674,0\\n675,1\\n676,1\\n677,1\\n678,1\\n679,0\\n680,1\\n681,1\\n682,1\\n683,1\\n684,0\\n685,1\\n686,0\\n687,0\\n688,0\\n689,0\\n690,1\\n691,0\\n692,0\\n693,1\\n694,1\\n695,1\\n696,1\\n697,1\\n698,1\\n699,0\\n700,0\\n701,1\\n702,0\\n703,1\\n704,1\\n705,0\\n706,0\\n707,0\\n708,1\\n709,1\\n710,0\\n711,1\\n712,0\\n713,0\\n714,1\\n715,1\\n716,0\\n717,1\\n718,1\\n719,1\\n720,1\\n721,1\\n722,1\\n723,0\\n724,1\\n725,0\\n726,0\\n727,0\\n728,0\\n729,1\\n730,1\\n731,1\\n732,0\\n733,0\\n734,1\\n735,1\\n736,1\\n737,1\\n738,1\\n739,0\\n740,1\\n741,1\\n742,1\\n743,0\\n744,1\\n745,0\\n746,0\\n747,1\\n748,1\\n749,1\\n750,1\\n751,1\\n752,0\\n753,0\\n754,0\\n755,0\\n756,0\\n757,1\\n758,1\\n759,1\\n760,0\\n761,0\\n762,0\\n763,0\\n764,0\\n765,0\\n766,0\\n767,1\\n768,0\\n769,0\\n770,1\\n771,0\\n772,1\\n773,1\\n774,1\\n775,1\\n776,0\\n777,1\\n778,1\\n779,1\\n780,0\\n781,1\\n782,0\\n783,1\\n784,1\\n785,0\\n786,0\\n787,0\\n788,0\\n789,1\\n790,0\\n791,0\\n792,0\\n793,0\\n794,0\\n795,0\\n796,0\\n797,1\\n798,0\\n799,1\\n800,0\\n801,1\\n802,1\\n803,1\\n804,1\\n805,0\\n806,0\\n807,1\\n808,0\\n809,1\\n810,1\\n811,1\\n812,0\\n813,0\\n814,1\\n815,0\\n816,1\\n817,0\\n818,0\\n819,0\\n820,0\\n821,1\\n822,0\\n823,1\\n824,1\\n825,0\\n826,1\\n827,1\\n828,1\\n829,1\\n830,1\\n831,1\\n832,0\\n833,0\\n834,1\\n835,0\\n836,1\\n837,1\\n838,0\\n839,0\\n840,0\\n841,1\\n842,0\\n843,1\\n844,1\\n845,0\\n846,1\\n847,1\\n848,1\\n849,0\\n850,1\\n851,0\\n852,1\\n853,1\\n854,1\\n855,1\\n856,1\\n857,1\\n858,0\\n859,1\\n860,1\\n861,1\\n862,0\\n863,1\\n864,1\\n865,1\\n866,1\\n867,0\\n868,0\\n869,1\\n870,1\\n871,1\\n872,0\\n873,1\\n874,0\\n875,1\\n876,0\\n877,1\\n878,0\\n879,0\\n880,0\\n881,1\\n882,0\\n883,0\\n884,1\\n885,1\\n886,1\\n887,1\\n888,1\\n889,0\\n890,0\\n891,1\\n892,0\\n893,0\\n894,1\\n895,0\\n896,1\\n897,0\\n898,1\\n899,0\\n900,1\\n901,1\\n902,0\\n903,0\\n904,1\\n905,0\\n906,1\\n907,0\\n908,1\\n909,1\\n910,0\\n911,1\\n912,1\\n913,1\\n914,0\\n915,0\\n916,0\\n917,1\\n918,0\\n919,0\\n920,0\\n921,0\\n922,1\\n923,0\\n924,1\\n925,1\\n926,1\\n927,1\\n928,1\\n929,1\\n930,0\\n931,1\\n932,1\\n933,0\\n934,1\\n935,0\\n936,1\\n937,0\\n938,1\\n939,0\\n940,1\\n941,1\\n942,1\\n943,0\\n944,0\\n945,1\\n946,0\\n947,0\\n948,1\\n949,0\\n950,0\\n951,1\\n952,1\\n953,1\\n954,0\\n955,0\\n956,1\\n957,1\\n958,1\\n959,0\\n960,0\\n961,1\\n962,0\\n963,0\\n964,0\\n965,1\\n966,1\\n967,1\\n968,1\\n969,0\\n970,1\\n971,1\\n972,0\\n973,1\\n974,1\\n975,0\\n976,0\\n977,0\\n978,1\\n979,0\\n980,0\\n981,0\\n982,0\\n983,0\\n984,1\\n985,0\\n986,0\\n987,1\\n988,0\\n989,1\\n990,0\\n991,1\\n992,0\\n993,0\\n994,1\\n995,0\\n996,0\\n997,1\\n998,0\\n999,1\\n1000,0\\n1001,0\\n1002,1\\n1003,1\\n1004,0\\n1005,1\\n1006,0\\n1007,1\\n1008,1\\n1009,0\\n1010,1\\n1011,1\\n1012,0\\n1013,0\\n1014,0\\n1015,0\\n1016,0\\n1017,1\\n1018,0\\n1019,1\\n1020,1\\n1021,0\\n1022,0\\n1023,0\\n1024,1\\n1025,0\\n1026,1\\n1027,1\\n1028,1\\n1029,0\\n1030,1\\n1031,1\\n1032,0\\n1033,0\\n1034,1\\n1035,1\\n1036,0\\n1037,0\\n1038,1\\n1039,1\\n1040,0\\n1041,1\\n1042,1\\n1043,0\\n1044,0\\n1045,0\\n1046,0\\n1047,1\\n1048,0\\n1049,0\\n1050,1\\n1051,0\\n1052,1\\n1053,1\\n1054,1\\n1055,1\\n1056,0\\n1057,0\\n1058,1\\n1059,1\\n1060,0\\n1061,1\\n1062,1\\n1063,0\\n1064,1\\n1065,0\\n1066,0\\n1067,1\\n1068,1\\n1069,1\\n1070,1\\n1071,1\\n1072,1\\n1073,0\\n1074,1\\n1075,0\\n1076,0\\n1077,0\\n1078,0\\n1079,1\\n1080,0\\n1081,1\\n1082,1\\n1083,0\\n1084,0\\n1085,1\\n1086,0\\n1087,0\\n1088,1\\n1089,1\\n1090,1\\n1091,1\\n1092,1\\n1093,1\\n1094,1\\n1095,0\\n1096,0\\n1097,0\\n1098,0\\n1099,1\\n1100,0\\n1101,1\\n1102,0\\n1103,0\\n1104,0\\n1105,1\\n1106,0\\n1107,0\\n1108,0\\n1109,0\\n1110,0\\n1111,1\\n1112,1\\n1113,0\\n1114,0\\n1115,1\\n1116,1\\n1117,0\\n1118,1\\n1119,1\\n1120,0\\n1121,1\\n1122,0\\n1123,1\\n1124,1\\n1125,0\\n1126,0\\n1127,1\\n1128,0\\n1129,1\\n1130,1\\n1131,1\\n1132,0\\n1133,1\\n1134,1\\n1135,1\\n1136,1\\n1137,1\\n1138,0\\n1139,1\\n1140,0\\n1141,1\\n1142,1\\n1143,0\\n1144,0\\n1145,1\\n1146,0\\n1147,1\\n1148,1\\n1149,1\\n1150,1\\n1151,0\\n1152,1\\n1153,0\\n1154,1\\n1155,1\\n1156,0\\n1157,0\\n1158,0\\n1159,0\\n1160,1\\n1161,0\\n1162,0\\n1163,0\\n1164,1\\n1165,0\\n1166,1\\n1167,0\\n1168,1\\n1169,1\\n1170,1\\n1171,1\\n1172,0\\n1173,0\\n1174,0\\n1175,0\\n1176,1\\n1177,1\\n1178,1\\n1179,0\\n1180,0\\n1181,1\\n1182,0\\n1183,0\\n1184,0\\n1185,1\\n1186,1\\n1187,1\\n1188,1\\n1189,1\\n1190,0\\n1191,0\\n1192,1\\n1193,0\\n1194,1\\n1195,1\\n1196,0\\n1197,0\\n1198,1\\n1199,1\\n1200,0\\n1201,0\\n1202,1\\n1203,0\\n1204,1\\n1205,1\\n1206,1\\n1207,0\\n1208,1\\n1209,0\\n1210,1\\n1211,0\\n1212,0\\n1213,1\\n1214,0\\n1215,1\\n1216,0\\n1217,0\\n1218,0\\n1219,0\\n1220,1\\n1221,1\\n1222,1\\n1223,1\\n1224,0\\n1225,0\\n1226,0\\n1227,1\\n1228,1\\n1229,0\\n1230,1\\n1231,1\\n1232,0\\n1233,0\\n1234,1\\n1235,0\\n1236,0\\n1237,0\\n1238,1\\n1239,0\\n1240,0\\n1241,0\\n1242,1\\n1243,1\\n1244,1\\n1245,0\\n1246,1\\n1247,1\\n1248,1\\n1249,1\\n1250,1\\n1251,1\\n1252,0\\n1253,0\\n1254,0\\n1255,1\\n1256,1\\n1257,1\\n1258,1\\n1259,1\\n1260,1\\n1261,0\\n1262,0\\n1263,1\\n1264,0\\n1265,0\\n1266,1\\n1267,1\\n1268,0\\n1269,1\\n1270,0\\n1271,0\\n1272,0\\n1273,0\\n1274,1\\n1275,0\\n1276,1\\n1277,0\\n1278,0\\n1279,1\\n1280,0\\n1281,0\\n1282,1\\n1283,0\\n1284,0\\n1285,0\\n1286,1\\n1287,1\\n1288,1\\n1289,0\\n1290,1\\n1291,0\\n1292,0\\n1293,1\\n1294,1\\n1295,1\\n1296,1\\n1297,0\\n1298,1\\n1299,1\\n1300,0\\n1301,1\\n1302,0\\n1303,1\\n1304,0\\n1305,1\\n1306,1\\n1307,0\\n1308,0\\n1309,0\\n1310,1\\n1311,0\\n1312,1\\n1313,1\\n1314,0\\n1315,1\\n1316,0\\n1317,1\\n1318,1\\n1319,0\\n1320,1\\n1321,0\\n1322,0\\n1323,1\\n1324,0\\n1325,1\\n1326,0\\n1327,1\\n1328,1\\n1329,1\\n1330,1\\n1331,0\\n1332,1\\n1333,0\\n1334,1\\n1335,0\\n1336,1\\n1337,1\\n1338,1\\n1339,0\\n1340,0\\n1341,0\\n1342,0\\n1343,1\\n1344,0\\n1345,1\\n1346,0\\n1347,0\\n1348,1\\n1349,0\\n1350,1\\n1351,1\\n1352,1\\n1353,0\\n1354,0\\n1355,0\\n1356,1\\n1357,0\\n1358,1\\n1359,1\\n1360,0\\n1361,0\\n1362,0\\n1363,0\\n1364,0\\n1365,1\\n1366,1\\n1367,1\\n1368,0\\n1369,0\\n1370,0\\n1371,0\\n1372,0\\n1373,0\\n1374,1\\n1375,1\\n1376,1\\n1377,0\\n1378,1\\n1379,0\\n1380,0\\n1381,0\\n1382,1\\n1383,0\\n1384,0\\n1385,0\\n1386,1\\n1387,1\\n1388,1\\n1389,1\\n1390,1\\n1391,0\\n1392,1\\n1393,0\\n1394,1\\n1395,1\\n1396,1\\n1397,1\\n1398,0\\n1399,0\\n1400,0\\n1401,0\\n1402,1\\n1403,1\\n1404,1\\n1405,1\\n1406,1\\n1407,1\\n1408,1\\n1409,0\\n1410,1\\n1411,1\\n1412,0\\n1413,1\\n1414,0\\n1415,1\\n1416,1\\n1417,1\\n1418,1\\n1419,0\\n1420,1\\n1421,1\\n1422,1\\n1423,0\\n1424,1\\n1425,0\\n1426,1\\n1427,0\\n1428,1\\n1429,1\\n1430,0\\n1431,0\\n1432,0\\n1433,0\\n1434,0\\n1435,0\\n1436,1\\n1437,0\\n1438,0\\n1439,1\\n1440,1\\n1441,0\\n1442,1\\n1443,1\\n1444,1\\n1445,1\\n1446,1\\n1447,1\\n1448,0\\n1449,0\\n1450,1\\n1451,0\\n1452,1\\n1453,0\\n1454,1\\n1455,1\\n1456,0\\n1457,0\\n1458,0\\n1459,0\\n1460,1\\n1461,0\\n1462,1\\n1463,0\\n1464,0\\n1465,1\\n1466,1\\n1467,1\\n1468,1\\n1469,1\\n1470,1\\n1471,0\\n1472,0\\n1473,1\\n1474,0\\n1475,0\\n1476,1\\n1477,1\\n1478,0\\n1479,0\\n1480,0\\n1481,1\\n1482,1\\n1483,0\\n1484,1\\n1485,0\\n1486,0\\n1487,1\\n1488,1\\n1489,1\\n1490,1\\n1491,1\\n1492,0\\n1493,0\\n1494,0\\n1495,1\\n1496,1\\n1497,0\\n1498,1\\n1499,1\\n1500,1\\n1501,1\\n1502,1\\n1503,1\\n1504,0\\n1505,1\\n1506,1\\n1507,1\\n1508,1\\n1509,1\\n1510,1\\n1511,0\\n1512,0\\n1513,1\\n1514,1\\n1515,1\\n1516,1\\n1517,0\\n1518,0\\n1519,1\\n1520,0\\n1521,1\\n1522,1\\n1523,0\\n1524,1\\n1525,1\\n1526,1\\n1527,0\\n1528,1\\n1529,0\\n1530,1\\n1531,0\\n1532,0\\n1533,0\\n1534,0\\n1535,1\\n1536,0\\n1537,0\\n1538,0\\n1539,1\\n1540,0\\n1541,1\\n1542,0\\n1543,0\\n1544,0\\n1545,0\\n1546,1\\n1547,0\\n1548,1\\n1549,0\\n1550,1\\n1551,0\\n1552,0\\n1553,1\\n1554,1\\n1555,1\\n1556,1\\n1557,1\\n1558,0\\n1559,1\\n1560,1\\n1561,1\\n1562,1\\n1563,1\\n1564,1\\n1565,1\\n1566,0\\n1567,1\\n1568,0\\n1569,1\\n1570,1\\n1571,1\\n1572,0\\n1573,0\\n1574,0\\n1575,0\\n1576,0\\n1577,1\\n1578,0\\n1579,1\\n1580,0\\n1581,0\\n1582,0\\n1583,0\\n1584,0\\n1585,0\\n1586,1\\n1587,0\\n1588,0\\n1589,0\\n1590,0\\n1591,0\\n1592,0\\n1593,0\\n1594,0\\n1595,0\\n1596,0\\n1597,0\\n1598,0\\n1599,1\\n1600,1\\n1601,0\\n1602,1\\n1603,0\\n1604,1\\n1605,0\\n1606,1\\n1607,1\\n1608,1\\n1609,1\\n1610,0\\n1611,0\\n1612,0\\n1613,1\\n1614,0\\n1615,1\\n1616,1\\n1617,0\\n1618,0\\n1619,1\\n1620,0\\n1621,1\\n1622,0\\n1623,1\\n1624,1\\n1625,0\\n1626,1\\n1627,1\\n1628,0\\n1629,1\\n1630,0\\n1631,0\\n1632,0\\n1633,1\\n1634,1\\n1635,1\\n1636,0\\n1637,1\\n1638,1\\n1639,1\\n1640,1\\n1641,1\\n1642,0\\n1643,1\\n1644,1\\n1645,0\\n1646,0\\n1647,0\\n1648,0\\n1649,1\\n1650,0\\n1651,0\\n1652,1\\n1653,1\\n1654,0\\n1655,1\\n1656,0\\n1657,0\\n1658,1\\n1659,0\\n1660,0\\n1661,1\\n1662,0\\n1663,1\\n1664,0\\n1665,0\\n1666,0\\n1667,0\\n1668,0\\n1669,1\\n1670,1\\n1671,1\\n1672,0\\n1673,1\\n1674,0\\n1675,1\\n1676,1\\n1677,1\\n1678,1\\n1679,0\\n1680,1\\n1681,1\\n1682,0\\n1683,0\\n1684,1\\n1685,1\\n1686,1\\n1687,1\\n1688,1\\n1689,1\\n1690,1\\n1691,1\\n1692,1\\n1693,0\\n1694,1\\n1695,0\\n1696,1\\n1697,0\\n1698,1\\n1699,1\\n1700,0\\n1701,0\\n1702,0\\n1703,1\\n1704,1\\n1705,0\\n1706,1\\n1707,1\\n1708,0\\n1709,1\\n1710,0\\n1711,1\\n1712,1\\n1713,0\\n1714,1\\n1715,0\\n1716,1\\n1717,1\\n1718,0\\n1719,1\\n1720,0\\n1721,1\\n1722,1\\n1723,0\\n1724,1\\n1725,0\\n1726,0\\n1727,1\\n1728,0\\n1729,0\\n1730,1\\n1731,1\\n1732,1\\n1733,0\\n1734,1\\n1735,0\\n1736,0\\n1737,0\\n1738,1\\n1739,1\\n1740,1\\n1741,0\\n1742,1\\n1743,0\\n1744,0\\n1745,0\\n1746,1\\n1747,1\\n1748,1\\n1749,0\\n1750,0\\n1751,0\\n1752,0\\n1753,1\\n1754,0\\n1755,0\\n1756,1\\n1757,1\\n1758,1\\n1759,0\\n1760,1\\n1761,1\\n1762,0\\n1763,0\\n1764,0\\n1765,1\\n1766,0\\n1767,0\\n1768,1\\n1769,0\\n1770,0\\n1771,0\\n1772,0\\n1773,0\\n1774,0\\n1775,1\\n1776,0\\n1777,1\\n1778,0\\n1779,1\\n1780,0\\n1781,0\\n1782,1\\n1783,0\\n1784,0\\n1785,0\\n1786,0\\n1787,0\\n1788,1\\n1789,1\\n1790,0\\n1791,1\\n1792,0\\n1793,0\\n1794,0\\n1795,0\\n1796,1\\n1797,1\\n1798,0\\n1799,1\\n1800,0\\n1801,1\\n1802,0\\n1803,1\\n1804,0\\n1805,0\\n1806,0\\n1807,1\\n1808,1\\n1809,0\\n1810,1\\n1811,1\\n1812,0\\n1813,0\\n1814,0\\n1815,0\\n1816,1\\n1817,1\\n1818,1\\n1819,0\\n1820,0\\n1821,0\\n1822,1\\n1823,1\\n1824,1\\n1825,1\\n1826,0\\n1827,1\\n1828,1\\n1829,1\\n1830,0\\n1831,0\\n1832,0\\n1833,0\\n1834,0\\n1835,1\\n1836,0\\n1837,0\\n1838,1\\n1839,0\\n1840,1\\n1841,0\\n1842,0\\n1843,0\\n1844,1\\n1845,1\\n1846,0\\n1847,1\\n1848,0\\n1849,1\\n1850,1\\n1851,1\\n1852,0\\n1853,0\\n1854,1\\n1855,1\\n1856,0\\n1857,0\\n1858,1\\n1859,0\\n1860,0\\n1861,0\\n1862,1\\n1863,0\\n1864,1\\n1865,1\\n1866,1\\n1867,1\\n1868,1\\n1869,1\\n1870,1\\n1871,1\\n1872,1\\n1873,0\\n1874,0\\n1875,1\\n1876,1\\n1877,0\\n1878,1\\n1879,0\\n1880,0\\n1881,0\\n1882,1\\n1883,1\\n1884,0\\n1885,1\\n1886,0\\n1887,1\\n1888,1\\n1889,0\\n1890,0\\n1891,1\\n1892,0\\n1893,0\\n1894,1\\n1895,1\\n1896,1\\n1897,1\\n1898,1\\n1899,0\\n1900,0\\n1901,1\\n1902,1\\n1903,0\\n1904,1\\n1905,0\\n1906,0\\n1907,1\\n1908,0\\n1909,0\\n1910,0\\n1911,0\\n1912,1\\n1913,1\\n1914,1\\n1915,0\\n1916,1\\n1917,0\\n1918,0\\n1919,0\\n1920,1\\n1921,0\\n1922,1\\n1923,0\\n1924,1\\n1925,1\\n1926,0\\n1927,0\\n1928,1\\n1929,1\\n1930,1\\n1931,1\\n1932,1\\n1933,0\\n1934,0\\n1935,0\\n1936,0\\n1937,0\\n1938,1\\n1939,1\\n1940,1\\n1941,0\\n1942,0\\n1943,1\\n1944,1\\n1945,1\\n1946,1\\n1947,1\\n1948,0\\n1949,1\\n1950,0\\n1951,1\\n1952,1\\n1953,0\\n1954,0\\n1955,1\\n1956,0\\n1957,0\\n1958,1\\n1959,0\\n1960,1\\n1961,1\\n1962,0\\n1963,1\\n1964,0\\n1965,1\\n1966,0\\n1967,0\\n1968,0\\n1969,1\\n1970,0\\n1971,0\\n1972,0\\n1973,1\\n1974,0\\n1975,0\\n1976,1\\n1977,0\\n1978,0\\n1979,0\\n1980,0\\n1981,0\\n1982,1\\n1983,1\\n1984,1\\n1985,1\\n1986,0\\n1987,0\\n1988,0\\n1989,0\\n1990,0\\n1991,0\\n1992,1\\n1993,0\\n1994,0\\n1995,1\\n1996,1\\n1997,0\\n1998,1\\n1999,0\\n',\n",
              " 'ensemble_BERT_4.csv': b',BERT prediction\\n0,0\\n1,0\\n2,1\\n3,1\\n4,1\\n5,0\\n6,0\\n7,1\\n8,1\\n9,1\\n10,1\\n11,1\\n12,0\\n13,1\\n14,0\\n15,0\\n16,1\\n17,1\\n18,1\\n19,1\\n20,0\\n21,1\\n22,1\\n23,1\\n24,0\\n25,1\\n26,0\\n27,0\\n28,0\\n29,0\\n30,0\\n31,1\\n32,1\\n33,1\\n34,0\\n35,1\\n36,0\\n37,1\\n38,0\\n39,0\\n40,0\\n41,1\\n42,0\\n43,1\\n44,0\\n45,0\\n46,0\\n47,1\\n48,0\\n49,1\\n50,1\\n51,1\\n52,1\\n53,1\\n54,0\\n55,0\\n56,0\\n57,0\\n58,0\\n59,1\\n60,0\\n61,0\\n62,1\\n63,0\\n64,0\\n65,0\\n66,0\\n67,1\\n68,0\\n69,0\\n70,0\\n71,0\\n72,0\\n73,1\\n74,1\\n75,0\\n76,0\\n77,0\\n78,1\\n79,1\\n80,1\\n81,0\\n82,0\\n83,0\\n84,0\\n85,0\\n86,1\\n87,1\\n88,0\\n89,0\\n90,1\\n91,1\\n92,1\\n93,0\\n94,1\\n95,1\\n96,1\\n97,0\\n98,1\\n99,0\\n100,1\\n101,1\\n102,1\\n103,0\\n104,0\\n105,1\\n106,0\\n107,1\\n108,0\\n109,1\\n110,1\\n111,0\\n112,1\\n113,0\\n114,1\\n115,1\\n116,1\\n117,1\\n118,0\\n119,0\\n120,1\\n121,0\\n122,0\\n123,1\\n124,0\\n125,0\\n126,1\\n127,0\\n128,0\\n129,1\\n130,0\\n131,0\\n132,0\\n133,0\\n134,1\\n135,0\\n136,0\\n137,0\\n138,1\\n139,0\\n140,1\\n141,1\\n142,0\\n143,0\\n144,0\\n145,1\\n146,0\\n147,1\\n148,0\\n149,1\\n150,1\\n151,0\\n152,0\\n153,1\\n154,1\\n155,0\\n156,1\\n157,1\\n158,0\\n159,0\\n160,1\\n161,0\\n162,1\\n163,0\\n164,0\\n165,1\\n166,0\\n167,1\\n168,1\\n169,1\\n170,1\\n171,1\\n172,0\\n173,0\\n174,1\\n175,0\\n176,1\\n177,0\\n178,1\\n179,0\\n180,0\\n181,1\\n182,0\\n183,0\\n184,1\\n185,1\\n186,0\\n187,0\\n188,0\\n189,0\\n190,0\\n191,1\\n192,1\\n193,0\\n194,1\\n195,1\\n196,0\\n197,1\\n198,1\\n199,1\\n200,0\\n201,1\\n202,1\\n203,0\\n204,0\\n205,1\\n206,1\\n207,1\\n208,1\\n209,0\\n210,0\\n211,0\\n212,0\\n213,0\\n214,0\\n215,0\\n216,0\\n217,0\\n218,1\\n219,1\\n220,1\\n221,1\\n222,0\\n223,0\\n224,1\\n225,0\\n226,0\\n227,0\\n228,1\\n229,0\\n230,0\\n231,1\\n232,0\\n233,0\\n234,1\\n235,0\\n236,1\\n237,0\\n238,1\\n239,1\\n240,1\\n241,0\\n242,0\\n243,1\\n244,1\\n245,0\\n246,1\\n247,1\\n248,1\\n249,0\\n250,1\\n251,0\\n252,0\\n253,0\\n254,0\\n255,0\\n256,0\\n257,1\\n258,1\\n259,1\\n260,1\\n261,0\\n262,1\\n263,0\\n264,0\\n265,1\\n266,1\\n267,0\\n268,0\\n269,1\\n270,0\\n271,1\\n272,1\\n273,1\\n274,1\\n275,0\\n276,0\\n277,1\\n278,0\\n279,0\\n280,0\\n281,1\\n282,1\\n283,0\\n284,1\\n285,1\\n286,0\\n287,1\\n288,0\\n289,0\\n290,1\\n291,1\\n292,1\\n293,1\\n294,0\\n295,1\\n296,1\\n297,0\\n298,1\\n299,1\\n300,1\\n301,0\\n302,0\\n303,0\\n304,0\\n305,0\\n306,1\\n307,0\\n308,0\\n309,1\\n310,0\\n311,1\\n312,0\\n313,1\\n314,0\\n315,1\\n316,1\\n317,0\\n318,0\\n319,1\\n320,0\\n321,0\\n322,1\\n323,0\\n324,1\\n325,0\\n326,0\\n327,1\\n328,0\\n329,0\\n330,0\\n331,1\\n332,0\\n333,1\\n334,1\\n335,1\\n336,1\\n337,1\\n338,0\\n339,1\\n340,1\\n341,1\\n342,0\\n343,1\\n344,0\\n345,1\\n346,1\\n347,1\\n348,1\\n349,0\\n350,0\\n351,1\\n352,1\\n353,0\\n354,1\\n355,0\\n356,0\\n357,0\\n358,1\\n359,0\\n360,0\\n361,0\\n362,0\\n363,1\\n364,0\\n365,0\\n366,1\\n367,0\\n368,1\\n369,0\\n370,1\\n371,1\\n372,1\\n373,1\\n374,1\\n375,1\\n376,0\\n377,1\\n378,1\\n379,1\\n380,0\\n381,1\\n382,0\\n383,1\\n384,0\\n385,0\\n386,1\\n387,1\\n388,1\\n389,0\\n390,1\\n391,0\\n392,1\\n393,0\\n394,0\\n395,0\\n396,0\\n397,1\\n398,0\\n399,0\\n400,0\\n401,0\\n402,1\\n403,0\\n404,0\\n405,0\\n406,0\\n407,0\\n408,1\\n409,1\\n410,0\\n411,1\\n412,1\\n413,0\\n414,1\\n415,1\\n416,1\\n417,1\\n418,1\\n419,1\\n420,0\\n421,0\\n422,1\\n423,0\\n424,0\\n425,1\\n426,0\\n427,0\\n428,0\\n429,0\\n430,0\\n431,0\\n432,0\\n433,0\\n434,0\\n435,1\\n436,1\\n437,1\\n438,0\\n439,1\\n440,1\\n441,0\\n442,1\\n443,1\\n444,1\\n445,1\\n446,1\\n447,0\\n448,1\\n449,1\\n450,0\\n451,0\\n452,1\\n453,0\\n454,1\\n455,1\\n456,1\\n457,1\\n458,1\\n459,1\\n460,0\\n461,1\\n462,1\\n463,0\\n464,1\\n465,1\\n466,1\\n467,0\\n468,0\\n469,0\\n470,0\\n471,1\\n472,1\\n473,0\\n474,0\\n475,0\\n476,0\\n477,1\\n478,0\\n479,0\\n480,0\\n481,0\\n482,1\\n483,1\\n484,0\\n485,1\\n486,0\\n487,1\\n488,1\\n489,1\\n490,0\\n491,1\\n492,1\\n493,1\\n494,1\\n495,1\\n496,1\\n497,1\\n498,0\\n499,0\\n500,1\\n501,1\\n502,0\\n503,0\\n504,0\\n505,1\\n506,0\\n507,1\\n508,1\\n509,0\\n510,0\\n511,1\\n512,0\\n513,1\\n514,1\\n515,0\\n516,0\\n517,0\\n518,0\\n519,1\\n520,0\\n521,0\\n522,0\\n523,1\\n524,1\\n525,1\\n526,0\\n527,1\\n528,1\\n529,0\\n530,0\\n531,1\\n532,1\\n533,1\\n534,1\\n535,0\\n536,0\\n537,0\\n538,1\\n539,0\\n540,1\\n541,0\\n542,1\\n543,0\\n544,0\\n545,0\\n546,1\\n547,1\\n548,0\\n549,0\\n550,0\\n551,0\\n552,1\\n553,0\\n554,1\\n555,0\\n556,0\\n557,0\\n558,1\\n559,1\\n560,0\\n561,1\\n562,0\\n563,1\\n564,0\\n565,0\\n566,0\\n567,0\\n568,0\\n569,0\\n570,0\\n571,1\\n572,0\\n573,1\\n574,0\\n575,1\\n576,0\\n577,0\\n578,0\\n579,0\\n580,0\\n581,0\\n582,0\\n583,1\\n584,0\\n585,1\\n586,0\\n587,1\\n588,0\\n589,0\\n590,0\\n591,1\\n592,0\\n593,1\\n594,0\\n595,1\\n596,1\\n597,1\\n598,0\\n599,1\\n600,1\\n601,0\\n602,0\\n603,0\\n604,0\\n605,1\\n606,1\\n607,0\\n608,0\\n609,1\\n610,0\\n611,1\\n612,1\\n613,0\\n614,0\\n615,0\\n616,1\\n617,0\\n618,1\\n619,1\\n620,1\\n621,0\\n622,1\\n623,1\\n624,1\\n625,0\\n626,0\\n627,0\\n628,0\\n629,1\\n630,1\\n631,0\\n632,1\\n633,0\\n634,1\\n635,0\\n636,0\\n637,1\\n638,1\\n639,1\\n640,1\\n641,1\\n642,1\\n643,0\\n644,1\\n645,0\\n646,0\\n647,0\\n648,0\\n649,0\\n650,1\\n651,1\\n652,0\\n653,1\\n654,1\\n655,1\\n656,0\\n657,0\\n658,1\\n659,1\\n660,1\\n661,0\\n662,0\\n663,1\\n664,1\\n665,0\\n666,0\\n667,1\\n668,0\\n669,1\\n670,0\\n671,1\\n672,1\\n673,1\\n674,0\\n675,0\\n676,0\\n677,0\\n678,1\\n679,0\\n680,0\\n681,1\\n682,0\\n683,0\\n684,0\\n685,1\\n686,0\\n687,1\\n688,1\\n689,0\\n690,1\\n691,0\\n692,0\\n693,0\\n694,1\\n695,1\\n696,1\\n697,0\\n698,1\\n699,0\\n700,0\\n701,1\\n702,0\\n703,0\\n704,1\\n705,0\\n706,0\\n707,1\\n708,1\\n709,0\\n710,1\\n711,1\\n712,0\\n713,1\\n714,0\\n715,1\\n716,1\\n717,1\\n718,0\\n719,0\\n720,1\\n721,0\\n722,1\\n723,1\\n724,1\\n725,1\\n726,0\\n727,1\\n728,1\\n729,1\\n730,1\\n731,0\\n732,1\\n733,0\\n734,1\\n735,0\\n736,0\\n737,0\\n738,0\\n739,1\\n740,0\\n741,0\\n742,0\\n743,1\\n744,0\\n745,0\\n746,0\\n747,1\\n748,0\\n749,0\\n750,1\\n751,0\\n752,0\\n753,1\\n754,0\\n755,0\\n756,0\\n757,0\\n758,1\\n759,1\\n760,1\\n761,0\\n762,1\\n763,1\\n764,1\\n765,0\\n766,0\\n767,1\\n768,1\\n769,0\\n770,0\\n771,0\\n772,0\\n773,1\\n774,1\\n775,0\\n776,1\\n777,1\\n778,0\\n779,1\\n780,1\\n781,1\\n782,1\\n783,1\\n784,0\\n785,0\\n786,1\\n787,0\\n788,0\\n789,0\\n790,1\\n791,0\\n792,1\\n793,0\\n794,1\\n795,1\\n796,0\\n797,0\\n798,0\\n799,0\\n800,0\\n801,0\\n802,1\\n803,0\\n804,0\\n805,0\\n806,1\\n807,0\\n808,0\\n809,0\\n810,1\\n811,0\\n812,1\\n813,0\\n814,0\\n815,1\\n816,1\\n817,1\\n818,1\\n819,0\\n820,0\\n821,1\\n822,1\\n823,0\\n824,1\\n825,1\\n826,1\\n827,0\\n828,0\\n829,0\\n830,1\\n831,1\\n832,1\\n833,1\\n834,1\\n835,0\\n836,1\\n837,0\\n838,0\\n839,1\\n840,0\\n841,0\\n842,0\\n843,0\\n844,0\\n845,0\\n846,0\\n847,0\\n848,0\\n849,0\\n850,0\\n851,1\\n852,1\\n853,0\\n854,1\\n855,0\\n856,0\\n857,0\\n858,0\\n859,0\\n860,0\\n861,1\\n862,0\\n863,0\\n864,0\\n865,1\\n866,0\\n867,0\\n868,0\\n869,0\\n870,0\\n871,0\\n872,1\\n873,1\\n874,0\\n875,0\\n876,0\\n877,0\\n878,1\\n879,0\\n880,1\\n881,1\\n882,1\\n883,0\\n884,1\\n885,0\\n886,1\\n887,1\\n888,1\\n889,1\\n890,0\\n891,0\\n892,0\\n893,0\\n894,0\\n895,1\\n896,1\\n897,0\\n898,0\\n899,0\\n900,0\\n901,1\\n902,0\\n903,0\\n904,0\\n905,0\\n906,0\\n907,1\\n908,1\\n909,1\\n910,0\\n911,0\\n912,1\\n913,0\\n914,0\\n915,1\\n916,1\\n917,0\\n918,1\\n919,0\\n920,0\\n921,1\\n922,1\\n923,0\\n924,1\\n925,1\\n926,0\\n927,1\\n928,1\\n929,1\\n930,1\\n931,1\\n932,1\\n933,1\\n934,0\\n935,0\\n936,0\\n937,1\\n938,1\\n939,1\\n940,0\\n941,0\\n942,1\\n943,1\\n944,1\\n945,0\\n946,1\\n947,0\\n948,0\\n949,1\\n950,0\\n951,1\\n952,0\\n953,0\\n954,1\\n955,1\\n956,1\\n957,1\\n958,0\\n959,1\\n960,1\\n961,1\\n962,0\\n963,1\\n964,1\\n965,0\\n966,1\\n967,0\\n968,1\\n969,1\\n970,0\\n971,0\\n972,1\\n973,0\\n974,1\\n975,1\\n976,0\\n977,1\\n978,0\\n979,1\\n980,0\\n981,1\\n982,0\\n983,1\\n984,1\\n985,0\\n986,1\\n987,0\\n988,1\\n989,0\\n990,0\\n991,0\\n992,1\\n993,0\\n994,1\\n995,0\\n996,1\\n997,1\\n998,1\\n999,0\\n1000,1\\n1001,1\\n1002,1\\n1003,1\\n1004,1\\n1005,1\\n1006,1\\n1007,0\\n1008,0\\n1009,0\\n1010,1\\n1011,0\\n1012,1\\n1013,0\\n1014,1\\n1015,0\\n1016,0\\n1017,1\\n1018,0\\n1019,0\\n1020,1\\n1021,1\\n1022,1\\n1023,1\\n1024,0\\n1025,1\\n1026,0\\n1027,1\\n1028,0\\n1029,1\\n1030,1\\n1031,1\\n1032,1\\n1033,1\\n1034,0\\n1035,0\\n1036,0\\n1037,0\\n1038,1\\n1039,0\\n1040,0\\n1041,1\\n1042,1\\n1043,1\\n1044,1\\n1045,1\\n1046,0\\n1047,0\\n1048,1\\n1049,0\\n1050,0\\n1051,0\\n1052,0\\n1053,0\\n1054,0\\n1055,1\\n1056,0\\n1057,1\\n1058,0\\n1059,0\\n1060,1\\n1061,1\\n1062,1\\n1063,1\\n1064,1\\n1065,1\\n1066,1\\n1067,0\\n1068,0\\n1069,1\\n1070,0\\n1071,1\\n1072,0\\n1073,1\\n1074,0\\n1075,1\\n1076,1\\n1077,0\\n1078,1\\n1079,0\\n1080,1\\n1081,1\\n1082,1\\n1083,0\\n1084,1\\n1085,0\\n1086,1\\n1087,0\\n1088,1\\n1089,0\\n1090,0\\n1091,1\\n1092,1\\n1093,1\\n1094,0\\n1095,0\\n1096,1\\n1097,1\\n1098,1\\n1099,1\\n1100,1\\n1101,1\\n1102,1\\n1103,1\\n1104,0\\n1105,1\\n1106,1\\n1107,1\\n1108,1\\n1109,1\\n1110,1\\n1111,0\\n1112,0\\n1113,1\\n1114,1\\n1115,0\\n1116,1\\n1117,1\\n1118,0\\n1119,1\\n1120,0\\n1121,0\\n1122,0\\n1123,0\\n1124,0\\n1125,0\\n1126,0\\n1127,0\\n1128,1\\n1129,0\\n1130,1\\n1131,1\\n1132,1\\n1133,0\\n1134,0\\n1135,1\\n1136,1\\n1137,0\\n1138,1\\n1139,1\\n1140,1\\n1141,1\\n1142,0\\n1143,0\\n1144,0\\n1145,1\\n1146,0\\n1147,0\\n1148,1\\n1149,0\\n1150,0\\n1151,0\\n1152,0\\n1153,0\\n1154,0\\n1155,0\\n1156,1\\n1157,0\\n1158,0\\n1159,0\\n1160,0\\n1161,1\\n1162,1\\n1163,1\\n1164,1\\n1165,0\\n1166,0\\n1167,0\\n1168,1\\n1169,1\\n1170,0\\n1171,0\\n1172,0\\n1173,0\\n1174,1\\n1175,1\\n1176,0\\n1177,1\\n1178,1\\n1179,1\\n1180,0\\n1181,0\\n1182,0\\n1183,1\\n1184,0\\n1185,0\\n1186,0\\n1187,1\\n1188,0\\n1189,0\\n1190,1\\n1191,1\\n1192,0\\n1193,0\\n1194,0\\n1195,1\\n1196,1\\n1197,0\\n1198,1\\n1199,0\\n1200,0\\n1201,1\\n1202,1\\n1203,1\\n1204,0\\n1205,1\\n1206,0\\n1207,0\\n1208,0\\n1209,1\\n1210,0\\n1211,1\\n1212,0\\n1213,0\\n1214,0\\n1215,1\\n1216,0\\n1217,0\\n1218,1\\n1219,0\\n1220,1\\n1221,1\\n1222,1\\n1223,1\\n1224,0\\n1225,0\\n1226,1\\n1227,1\\n1228,1\\n1229,1\\n1230,1\\n1231,0\\n1232,0\\n1233,1\\n1234,0\\n1235,1\\n1236,0\\n1237,0\\n1238,0\\n1239,0\\n1240,1\\n1241,0\\n1242,1\\n1243,0\\n1244,1\\n1245,1\\n1246,0\\n1247,0\\n1248,0\\n1249,1\\n1250,1\\n1251,0\\n1252,0\\n1253,0\\n1254,1\\n1255,0\\n1256,0\\n1257,1\\n1258,1\\n1259,0\\n1260,1\\n1261,1\\n1262,1\\n1263,1\\n1264,0\\n1265,1\\n1266,1\\n1267,1\\n1268,0\\n1269,0\\n1270,1\\n1271,0\\n1272,0\\n1273,1\\n1274,1\\n1275,1\\n1276,1\\n1277,1\\n1278,0\\n1279,0\\n1280,0\\n1281,1\\n1282,0\\n1283,0\\n1284,1\\n1285,0\\n1286,1\\n1287,0\\n1288,0\\n1289,1\\n1290,0\\n1291,0\\n1292,1\\n1293,0\\n1294,0\\n1295,1\\n1296,0\\n1297,1\\n1298,0\\n1299,1\\n1300,0\\n1301,1\\n1302,1\\n1303,0\\n1304,0\\n1305,0\\n1306,1\\n1307,0\\n1308,0\\n1309,1\\n1310,0\\n1311,0\\n1312,0\\n1313,0\\n1314,1\\n1315,1\\n1316,0\\n1317,1\\n1318,0\\n1319,1\\n1320,1\\n1321,0\\n1322,0\\n1323,0\\n1324,1\\n1325,1\\n1326,0\\n1327,0\\n1328,1\\n1329,0\\n1330,1\\n1331,0\\n1332,1\\n1333,0\\n1334,0\\n1335,1\\n1336,1\\n1337,1\\n1338,1\\n1339,1\\n1340,0\\n1341,0\\n1342,0\\n1343,0\\n1344,1\\n1345,1\\n1346,1\\n1347,1\\n1348,0\\n1349,0\\n1350,0\\n1351,0\\n1352,0\\n1353,0\\n1354,0\\n1355,0\\n1356,1\\n1357,0\\n1358,0\\n1359,1\\n1360,0\\n1361,0\\n1362,0\\n1363,1\\n1364,0\\n1365,0\\n1366,0\\n1367,0\\n1368,1\\n1369,1\\n1370,1\\n1371,1\\n1372,1\\n1373,0\\n1374,1\\n1375,0\\n1376,0\\n1377,1\\n1378,1\\n1379,1\\n1380,0\\n1381,1\\n1382,1\\n1383,1\\n1384,0\\n1385,0\\n1386,0\\n1387,0\\n1388,0\\n1389,0\\n1390,0\\n1391,1\\n1392,0\\n1393,1\\n1394,1\\n1395,0\\n1396,1\\n1397,0\\n1398,0\\n1399,1\\n1400,0\\n1401,0\\n1402,0\\n1403,0\\n1404,0\\n1405,0\\n1406,0\\n1407,1\\n1408,0\\n1409,0\\n1410,0\\n1411,0\\n1412,0\\n1413,1\\n1414,1\\n1415,1\\n1416,1\\n1417,0\\n1418,0\\n1419,0\\n1420,0\\n1421,1\\n1422,1\\n1423,0\\n1424,1\\n1425,0\\n1426,0\\n1427,0\\n1428,0\\n1429,1\\n1430,1\\n1431,1\\n1432,1\\n1433,1\\n1434,1\\n1435,1\\n1436,1\\n1437,0\\n1438,0\\n1439,0\\n1440,0\\n1441,0\\n1442,1\\n1443,0\\n1444,0\\n1445,0\\n1446,1\\n1447,0\\n1448,0\\n1449,1\\n1450,0\\n1451,0\\n1452,0\\n1453,0\\n1454,1\\n1455,0\\n1456,0\\n1457,0\\n1458,0\\n1459,0\\n1460,1\\n1461,0\\n1462,1\\n1463,1\\n1464,0\\n1465,1\\n1466,0\\n1467,0\\n1468,1\\n1469,0\\n1470,1\\n1471,0\\n1472,1\\n1473,1\\n1474,0\\n1475,0\\n1476,0\\n1477,1\\n1478,1\\n1479,0\\n1480,0\\n1481,0\\n1482,1\\n1483,0\\n1484,1\\n1485,0\\n1486,1\\n1487,1\\n1488,1\\n1489,1\\n1490,1\\n1491,0\\n1492,1\\n1493,0\\n1494,1\\n1495,1\\n1496,1\\n1497,1\\n1498,1\\n1499,1\\n1500,0\\n1501,1\\n1502,0\\n1503,0\\n1504,0\\n1505,1\\n1506,1\\n1507,1\\n1508,0\\n1509,1\\n1510,0\\n1511,0\\n1512,0\\n1513,1\\n1514,1\\n1515,1\\n1516,0\\n1517,1\\n1518,0\\n1519,1\\n1520,1\\n1521,1\\n1522,0\\n1523,1\\n1524,1\\n1525,0\\n1526,0\\n1527,0\\n1528,0\\n1529,1\\n1530,0\\n1531,0\\n1532,0\\n1533,0\\n1534,1\\n1535,0\\n1536,1\\n1537,1\\n1538,1\\n1539,0\\n1540,0\\n1541,1\\n1542,1\\n1543,1\\n1544,0\\n1545,0\\n1546,0\\n1547,1\\n1548,1\\n1549,1\\n1550,0\\n1551,1\\n1552,1\\n1553,1\\n1554,1\\n1555,0\\n1556,1\\n1557,0\\n1558,0\\n1559,1\\n1560,1\\n1561,1\\n1562,1\\n1563,0\\n1564,0\\n1565,0\\n1566,0\\n1567,0\\n1568,0\\n1569,1\\n1570,1\\n1571,0\\n1572,0\\n1573,1\\n1574,0\\n1575,1\\n1576,1\\n1577,0\\n1578,1\\n1579,1\\n1580,1\\n1581,0\\n1582,0\\n1583,0\\n1584,0\\n1585,1\\n1586,1\\n1587,1\\n1588,1\\n1589,1\\n1590,0\\n1591,0\\n1592,0\\n1593,1\\n1594,1\\n1595,0\\n1596,1\\n1597,0\\n1598,1\\n1599,1\\n1600,1\\n1601,1\\n1602,1\\n1603,0\\n1604,0\\n1605,1\\n1606,1\\n1607,0\\n1608,1\\n1609,0\\n1610,1\\n1611,1\\n1612,1\\n1613,1\\n1614,0\\n1615,0\\n1616,1\\n1617,1\\n1618,1\\n1619,1\\n1620,0\\n1621,1\\n1622,0\\n1623,1\\n1624,0\\n1625,0\\n1626,1\\n1627,1\\n1628,1\\n1629,0\\n1630,0\\n1631,0\\n1632,1\\n1633,1\\n1634,0\\n1635,1\\n1636,1\\n1637,0\\n1638,0\\n1639,1\\n1640,1\\n1641,0\\n1642,1\\n1643,0\\n1644,0\\n1645,0\\n1646,0\\n1647,0\\n1648,0\\n1649,1\\n1650,0\\n1651,1\\n1652,0\\n1653,0\\n1654,0\\n1655,1\\n1656,0\\n1657,1\\n1658,1\\n1659,0\\n1660,1\\n1661,1\\n1662,1\\n1663,1\\n1664,1\\n1665,1\\n1666,1\\n1667,1\\n1668,0\\n1669,0\\n1670,1\\n1671,1\\n1672,1\\n1673,0\\n1674,0\\n1675,1\\n1676,1\\n1677,0\\n1678,1\\n1679,1\\n1680,1\\n1681,1\\n1682,1\\n1683,1\\n1684,0\\n1685,1\\n1686,1\\n1687,1\\n1688,1\\n1689,1\\n1690,0\\n1691,0\\n1692,0\\n1693,1\\n1694,1\\n1695,1\\n1696,1\\n1697,0\\n1698,0\\n1699,0\\n1700,1\\n1701,0\\n1702,0\\n1703,0\\n1704,1\\n1705,1\\n1706,1\\n1707,1\\n1708,0\\n1709,1\\n1710,1\\n1711,1\\n1712,1\\n1713,0\\n1714,0\\n1715,0\\n1716,1\\n1717,1\\n1718,0\\n1719,0\\n1720,0\\n1721,1\\n1722,1\\n1723,1\\n1724,0\\n1725,1\\n1726,0\\n1727,1\\n1728,1\\n1729,1\\n1730,0\\n1731,1\\n1732,0\\n1733,1\\n1734,1\\n1735,0\\n1736,1\\n1737,0\\n1738,0\\n1739,1\\n1740,1\\n1741,1\\n1742,1\\n1743,0\\n1744,1\\n1745,0\\n1746,1\\n1747,1\\n1748,1\\n1749,1\\n1750,1\\n1751,1\\n1752,1\\n1753,0\\n1754,1\\n1755,1\\n1756,0\\n1757,0\\n1758,0\\n1759,0\\n1760,1\\n1761,0\\n1762,0\\n1763,0\\n1764,1\\n1765,1\\n1766,0\\n1767,1\\n1768,0\\n1769,0\\n1770,1\\n1771,1\\n1772,0\\n1773,0\\n1774,1\\n1775,0\\n1776,0\\n1777,1\\n1778,0\\n1779,0\\n1780,1\\n1781,0\\n1782,0\\n1783,1\\n1784,0\\n1785,1\\n1786,1\\n1787,0\\n1788,1\\n1789,1\\n1790,1\\n1791,0\\n1792,1\\n1793,1\\n1794,0\\n1795,1\\n1796,0\\n1797,1\\n1798,0\\n1799,1\\n1800,0\\n1801,1\\n1802,0\\n1803,0\\n1804,1\\n1805,1\\n1806,1\\n1807,1\\n1808,1\\n1809,0\\n1810,0\\n1811,1\\n1812,1\\n1813,0\\n1814,1\\n1815,1\\n1816,0\\n1817,0\\n1818,1\\n1819,0\\n1820,1\\n1821,0\\n1822,1\\n1823,0\\n1824,1\\n1825,1\\n1826,0\\n1827,1\\n1828,1\\n1829,0\\n1830,1\\n1831,0\\n1832,1\\n1833,1\\n1834,1\\n1835,1\\n1836,1\\n1837,0\\n1838,1\\n1839,1\\n1840,1\\n1841,1\\n1842,1\\n1843,0\\n1844,0\\n1845,1\\n1846,0\\n1847,0\\n1848,0\\n1849,1\\n1850,1\\n1851,1\\n1852,1\\n1853,0\\n1854,0\\n1855,0\\n1856,1\\n1857,1\\n1858,0\\n1859,0\\n1860,1\\n1861,0\\n1862,1\\n1863,1\\n1864,1\\n1865,1\\n1866,0\\n1867,1\\n1868,1\\n1869,1\\n1870,0\\n1871,1\\n1872,0\\n1873,1\\n1874,1\\n1875,1\\n1876,1\\n1877,0\\n1878,0\\n1879,0\\n1880,1\\n1881,0\\n1882,0\\n1883,1\\n1884,0\\n1885,1\\n1886,1\\n1887,0\\n1888,1\\n1889,1\\n1890,0\\n1891,1\\n1892,1\\n1893,0\\n1894,1\\n1895,0\\n1896,1\\n1897,1\\n1898,0\\n1899,0\\n1900,1\\n1901,0\\n1902,1\\n1903,1\\n1904,1\\n1905,0\\n1906,1\\n1907,1\\n1908,0\\n1909,1\\n1910,0\\n1911,1\\n1912,1\\n1913,0\\n1914,0\\n1915,1\\n1916,0\\n1917,1\\n1918,1\\n1919,1\\n1920,0\\n1921,0\\n1922,1\\n1923,1\\n1924,0\\n1925,1\\n1926,1\\n1927,0\\n1928,0\\n1929,1\\n1930,0\\n1931,0\\n1932,1\\n1933,1\\n1934,1\\n1935,1\\n1936,0\\n1937,1\\n1938,0\\n1939,1\\n1940,1\\n1941,0\\n1942,0\\n1943,0\\n1944,1\\n1945,1\\n1946,1\\n1947,1\\n1948,0\\n1949,1\\n1950,0\\n1951,0\\n1952,0\\n1953,1\\n1954,1\\n1955,1\\n1956,1\\n1957,1\\n1958,0\\n1959,0\\n1960,0\\n1961,1\\n1962,0\\n1963,1\\n1964,1\\n1965,1\\n1966,1\\n1967,1\\n1968,1\\n1969,1\\n1970,0\\n1971,1\\n1972,0\\n1973,0\\n1974,1\\n1975,0\\n1976,1\\n1977,0\\n1978,1\\n1979,0\\n1980,0\\n1981,1\\n1982,1\\n1983,1\\n1984,0\\n1985,0\\n1986,1\\n1987,1\\n1988,0\\n1989,1\\n1990,0\\n1991,1\\n1992,0\\n1993,1\\n1994,0\\n1995,1\\n1996,1\\n1997,0\\n1998,0\\n1999,0\\n',\n",
              " 'ensemble_BERT_5.csv': b',BERT prediction\\n0,1\\n1,0\\n2,1\\n3,0\\n4,0\\n5,1\\n6,1\\n7,1\\n8,0\\n9,0\\n10,1\\n11,1\\n12,0\\n13,1\\n14,1\\n15,1\\n16,0\\n17,1\\n18,0\\n19,1\\n20,0\\n21,0\\n22,0\\n23,0\\n24,1\\n25,0\\n26,1\\n27,0\\n28,1\\n29,1\\n30,0\\n31,0\\n32,1\\n33,0\\n34,0\\n35,0\\n36,1\\n37,1\\n38,0\\n39,1\\n40,0\\n41,1\\n42,0\\n43,1\\n44,1\\n45,1\\n46,0\\n47,1\\n48,1\\n49,1\\n50,1\\n51,0\\n52,0\\n53,0\\n54,0\\n55,1\\n56,0\\n57,1\\n58,0\\n59,1\\n60,0\\n61,1\\n62,1\\n63,0\\n64,0\\n65,0\\n66,1\\n67,0\\n68,1\\n69,1\\n70,0\\n71,1\\n72,1\\n73,1\\n74,0\\n75,1\\n76,0\\n77,0\\n78,1\\n79,0\\n80,0\\n81,0\\n82,0\\n83,1\\n84,0\\n85,1\\n86,1\\n87,1\\n88,0\\n89,0\\n90,0\\n91,0\\n92,1\\n93,1\\n94,1\\n95,1\\n96,0\\n97,1\\n98,0\\n99,1\\n100,0\\n101,1\\n102,1\\n103,1\\n104,0\\n105,1\\n106,0\\n107,0\\n108,1\\n109,1\\n110,1\\n111,0\\n112,0\\n113,1\\n114,0\\n115,0\\n116,1\\n117,1\\n118,1\\n119,0\\n120,0\\n121,0\\n122,0\\n123,1\\n124,1\\n125,1\\n126,0\\n127,0\\n128,0\\n129,0\\n130,1\\n131,1\\n132,1\\n133,1\\n134,0\\n135,1\\n136,0\\n137,0\\n138,1\\n139,0\\n140,1\\n141,0\\n142,1\\n143,0\\n144,0\\n145,1\\n146,0\\n147,0\\n148,1\\n149,1\\n150,1\\n151,1\\n152,1\\n153,0\\n154,0\\n155,1\\n156,1\\n157,0\\n158,1\\n159,1\\n160,1\\n161,1\\n162,1\\n163,0\\n164,1\\n165,0\\n166,0\\n167,1\\n168,1\\n169,1\\n170,1\\n171,1\\n172,0\\n173,0\\n174,1\\n175,1\\n176,0\\n177,0\\n178,0\\n179,1\\n180,1\\n181,0\\n182,1\\n183,0\\n184,1\\n185,1\\n186,1\\n187,0\\n188,0\\n189,1\\n190,0\\n191,0\\n192,1\\n193,0\\n194,1\\n195,1\\n196,0\\n197,1\\n198,0\\n199,1\\n200,1\\n201,1\\n202,1\\n203,1\\n204,1\\n205,0\\n206,0\\n207,0\\n208,1\\n209,0\\n210,0\\n211,1\\n212,0\\n213,1\\n214,0\\n215,0\\n216,0\\n217,0\\n218,1\\n219,0\\n220,1\\n221,1\\n222,1\\n223,0\\n224,0\\n225,0\\n226,0\\n227,1\\n228,0\\n229,1\\n230,1\\n231,0\\n232,0\\n233,1\\n234,0\\n235,1\\n236,0\\n237,1\\n238,0\\n239,1\\n240,0\\n241,0\\n242,0\\n243,1\\n244,0\\n245,1\\n246,0\\n247,0\\n248,0\\n249,1\\n250,1\\n251,1\\n252,1\\n253,1\\n254,0\\n255,1\\n256,0\\n257,0\\n258,1\\n259,1\\n260,1\\n261,1\\n262,0\\n263,1\\n264,1\\n265,0\\n266,1\\n267,0\\n268,0\\n269,1\\n270,1\\n271,1\\n272,0\\n273,0\\n274,0\\n275,1\\n276,1\\n277,0\\n278,0\\n279,1\\n280,1\\n281,1\\n282,1\\n283,0\\n284,1\\n285,0\\n286,0\\n287,0\\n288,0\\n289,0\\n290,0\\n291,0\\n292,0\\n293,1\\n294,1\\n295,0\\n296,0\\n297,1\\n298,1\\n299,1\\n300,1\\n301,0\\n302,0\\n303,1\\n304,0\\n305,0\\n306,0\\n307,1\\n308,1\\n309,0\\n310,1\\n311,1\\n312,0\\n313,1\\n314,0\\n315,1\\n316,0\\n317,1\\n318,1\\n319,1\\n320,0\\n321,0\\n322,1\\n323,1\\n324,1\\n325,1\\n326,1\\n327,1\\n328,1\\n329,0\\n330,0\\n331,0\\n332,1\\n333,1\\n334,1\\n335,0\\n336,1\\n337,1\\n338,0\\n339,1\\n340,0\\n341,0\\n342,1\\n343,1\\n344,1\\n345,1\\n346,0\\n347,1\\n348,1\\n349,1\\n350,1\\n351,0\\n352,1\\n353,0\\n354,0\\n355,1\\n356,1\\n357,0\\n358,1\\n359,1\\n360,1\\n361,1\\n362,0\\n363,1\\n364,0\\n365,0\\n366,1\\n367,0\\n368,1\\n369,1\\n370,0\\n371,0\\n372,0\\n373,0\\n374,1\\n375,0\\n376,0\\n377,0\\n378,0\\n379,0\\n380,0\\n381,1\\n382,1\\n383,1\\n384,0\\n385,1\\n386,0\\n387,0\\n388,0\\n389,0\\n390,0\\n391,1\\n392,0\\n393,0\\n394,0\\n395,1\\n396,1\\n397,0\\n398,0\\n399,0\\n400,1\\n401,0\\n402,0\\n403,0\\n404,1\\n405,0\\n406,1\\n407,1\\n408,0\\n409,1\\n410,0\\n411,1\\n412,1\\n413,0\\n414,0\\n415,1\\n416,0\\n417,1\\n418,1\\n419,0\\n420,0\\n421,1\\n422,1\\n423,0\\n424,0\\n425,1\\n426,1\\n427,0\\n428,0\\n429,0\\n430,0\\n431,0\\n432,1\\n433,1\\n434,0\\n435,0\\n436,0\\n437,0\\n438,1\\n439,0\\n440,0\\n441,1\\n442,1\\n443,1\\n444,1\\n445,1\\n446,1\\n447,0\\n448,0\\n449,1\\n450,0\\n451,0\\n452,1\\n453,0\\n454,1\\n455,0\\n456,1\\n457,1\\n458,1\\n459,0\\n460,0\\n461,0\\n462,1\\n463,0\\n464,1\\n465,1\\n466,1\\n467,0\\n468,1\\n469,0\\n470,0\\n471,1\\n472,0\\n473,0\\n474,0\\n475,1\\n476,1\\n477,1\\n478,1\\n479,0\\n480,0\\n481,1\\n482,0\\n483,1\\n484,0\\n485,1\\n486,0\\n487,1\\n488,1\\n489,0\\n490,0\\n491,0\\n492,1\\n493,1\\n494,1\\n495,1\\n496,1\\n497,1\\n498,1\\n499,0\\n500,1\\n501,1\\n502,1\\n503,1\\n504,1\\n505,0\\n506,0\\n507,0\\n508,1\\n509,1\\n510,0\\n511,1\\n512,1\\n513,0\\n514,0\\n515,1\\n516,0\\n517,0\\n518,1\\n519,0\\n520,0\\n521,0\\n522,1\\n523,1\\n524,0\\n525,1\\n526,0\\n527,1\\n528,0\\n529,1\\n530,1\\n531,0\\n532,1\\n533,0\\n534,0\\n535,0\\n536,1\\n537,1\\n538,0\\n539,1\\n540,1\\n541,1\\n542,0\\n543,1\\n544,1\\n545,1\\n546,0\\n547,1\\n548,0\\n549,1\\n550,0\\n551,1\\n552,0\\n553,1\\n554,1\\n555,0\\n556,0\\n557,1\\n558,1\\n559,1\\n560,1\\n561,0\\n562,1\\n563,1\\n564,0\\n565,1\\n566,1\\n567,1\\n568,0\\n569,0\\n570,0\\n571,0\\n572,1\\n573,0\\n574,1\\n575,0\\n576,1\\n577,0\\n578,1\\n579,0\\n580,0\\n581,0\\n582,1\\n583,0\\n584,0\\n585,1\\n586,1\\n587,1\\n588,0\\n589,1\\n590,0\\n591,0\\n592,0\\n593,0\\n594,0\\n595,1\\n596,0\\n597,1\\n598,0\\n599,0\\n600,1\\n601,1\\n602,0\\n603,1\\n604,1\\n605,0\\n606,0\\n607,0\\n608,1\\n609,1\\n610,1\\n611,0\\n612,0\\n613,1\\n614,0\\n615,1\\n616,0\\n617,0\\n618,1\\n619,1\\n620,0\\n621,1\\n622,0\\n623,1\\n624,0\\n625,1\\n626,1\\n627,1\\n628,1\\n629,0\\n630,0\\n631,1\\n632,1\\n633,1\\n634,1\\n635,0\\n636,0\\n637,0\\n638,0\\n639,1\\n640,0\\n641,0\\n642,0\\n643,1\\n644,1\\n645,0\\n646,0\\n647,0\\n648,0\\n649,0\\n650,0\\n651,0\\n652,1\\n653,0\\n654,1\\n655,0\\n656,0\\n657,0\\n658,0\\n659,0\\n660,1\\n661,1\\n662,1\\n663,0\\n664,0\\n665,0\\n666,1\\n667,0\\n668,1\\n669,1\\n670,0\\n671,0\\n672,1\\n673,1\\n674,0\\n675,0\\n676,0\\n677,1\\n678,1\\n679,0\\n680,1\\n681,0\\n682,1\\n683,1\\n684,0\\n685,0\\n686,0\\n687,1\\n688,1\\n689,0\\n690,1\\n691,1\\n692,1\\n693,1\\n694,1\\n695,1\\n696,0\\n697,0\\n698,0\\n699,1\\n700,0\\n701,0\\n702,1\\n703,1\\n704,0\\n705,0\\n706,1\\n707,0\\n708,1\\n709,0\\n710,0\\n711,0\\n712,0\\n713,1\\n714,0\\n715,1\\n716,1\\n717,1\\n718,0\\n719,1\\n720,0\\n721,1\\n722,0\\n723,0\\n724,1\\n725,0\\n726,1\\n727,0\\n728,0\\n729,0\\n730,1\\n731,0\\n732,0\\n733,0\\n734,1\\n735,0\\n736,0\\n737,0\\n738,1\\n739,1\\n740,0\\n741,0\\n742,1\\n743,0\\n744,1\\n745,0\\n746,0\\n747,1\\n748,0\\n749,1\\n750,0\\n751,1\\n752,0\\n753,1\\n754,0\\n755,0\\n756,1\\n757,1\\n758,1\\n759,0\\n760,0\\n761,0\\n762,0\\n763,0\\n764,1\\n765,0\\n766,1\\n767,1\\n768,1\\n769,0\\n770,0\\n771,0\\n772,1\\n773,1\\n774,0\\n775,1\\n776,1\\n777,0\\n778,0\\n779,0\\n780,1\\n781,0\\n782,1\\n783,1\\n784,1\\n785,0\\n786,0\\n787,0\\n788,0\\n789,1\\n790,1\\n791,0\\n792,1\\n793,1\\n794,0\\n795,1\\n796,1\\n797,0\\n798,0\\n799,0\\n800,1\\n801,0\\n802,0\\n803,1\\n804,0\\n805,1\\n806,1\\n807,0\\n808,1\\n809,1\\n810,0\\n811,0\\n812,1\\n813,0\\n814,0\\n815,0\\n816,1\\n817,1\\n818,1\\n819,0\\n820,0\\n821,0\\n822,0\\n823,0\\n824,0\\n825,0\\n826,1\\n827,0\\n828,0\\n829,1\\n830,1\\n831,1\\n832,0\\n833,1\\n834,1\\n835,0\\n836,0\\n837,1\\n838,0\\n839,0\\n840,0\\n841,1\\n842,0\\n843,1\\n844,1\\n845,0\\n846,1\\n847,1\\n848,1\\n849,0\\n850,1\\n851,1\\n852,1\\n853,1\\n854,1\\n855,0\\n856,0\\n857,1\\n858,1\\n859,0\\n860,1\\n861,1\\n862,0\\n863,0\\n864,0\\n865,1\\n866,1\\n867,1\\n868,1\\n869,1\\n870,1\\n871,1\\n872,1\\n873,0\\n874,0\\n875,0\\n876,0\\n877,1\\n878,0\\n879,0\\n880,0\\n881,0\\n882,0\\n883,1\\n884,0\\n885,0\\n886,1\\n887,1\\n888,0\\n889,1\\n890,0\\n891,0\\n892,1\\n893,0\\n894,0\\n895,0\\n896,0\\n897,1\\n898,1\\n899,1\\n900,0\\n901,1\\n902,0\\n903,1\\n904,1\\n905,1\\n906,0\\n907,1\\n908,1\\n909,1\\n910,0\\n911,0\\n912,1\\n913,1\\n914,1\\n915,1\\n916,1\\n917,1\\n918,1\\n919,1\\n920,1\\n921,0\\n922,0\\n923,1\\n924,1\\n925,1\\n926,0\\n927,1\\n928,0\\n929,1\\n930,1\\n931,0\\n932,0\\n933,0\\n934,1\\n935,0\\n936,1\\n937,0\\n938,1\\n939,1\\n940,1\\n941,0\\n942,1\\n943,0\\n944,1\\n945,1\\n946,1\\n947,1\\n948,1\\n949,0\\n950,0\\n951,0\\n952,1\\n953,1\\n954,0\\n955,1\\n956,1\\n957,1\\n958,1\\n959,1\\n960,0\\n961,0\\n962,1\\n963,1\\n964,1\\n965,1\\n966,0\\n967,1\\n968,1\\n969,0\\n970,1\\n971,0\\n972,0\\n973,1\\n974,0\\n975,0\\n976,1\\n977,1\\n978,0\\n979,0\\n980,0\\n981,0\\n982,0\\n983,0\\n984,0\\n985,1\\n986,0\\n987,1\\n988,0\\n989,0\\n990,1\\n991,0\\n992,1\\n993,1\\n994,1\\n995,1\\n996,0\\n997,1\\n998,1\\n999,1\\n1000,0\\n1001,0\\n1002,1\\n1003,1\\n1004,0\\n1005,0\\n1006,1\\n1007,1\\n1008,0\\n1009,1\\n1010,0\\n1011,0\\n1012,0\\n1013,0\\n1014,0\\n1015,1\\n1016,1\\n1017,1\\n1018,1\\n1019,0\\n1020,1\\n1021,0\\n1022,1\\n1023,1\\n1024,0\\n1025,0\\n1026,1\\n1027,1\\n1028,1\\n1029,0\\n1030,1\\n1031,1\\n1032,0\\n1033,1\\n1034,1\\n1035,1\\n1036,1\\n1037,0\\n1038,0\\n1039,1\\n1040,0\\n1041,1\\n1042,1\\n1043,1\\n1044,0\\n1045,0\\n1046,0\\n1047,0\\n1048,1\\n1049,0\\n1050,1\\n1051,1\\n1052,0\\n1053,0\\n1054,0\\n1055,1\\n1056,1\\n1057,0\\n1058,1\\n1059,1\\n1060,1\\n1061,0\\n1062,0\\n1063,0\\n1064,0\\n1065,1\\n1066,1\\n1067,1\\n1068,0\\n1069,0\\n1070,0\\n1071,0\\n1072,0\\n1073,1\\n1074,1\\n1075,1\\n1076,0\\n1077,0\\n1078,1\\n1079,1\\n1080,0\\n1081,1\\n1082,0\\n1083,1\\n1084,0\\n1085,1\\n1086,0\\n1087,1\\n1088,0\\n1089,1\\n1090,0\\n1091,0\\n1092,1\\n1093,1\\n1094,0\\n1095,1\\n1096,0\\n1097,1\\n1098,0\\n1099,1\\n1100,0\\n1101,0\\n1102,0\\n1103,1\\n1104,1\\n1105,0\\n1106,1\\n1107,0\\n1108,1\\n1109,0\\n1110,1\\n1111,0\\n1112,1\\n1113,0\\n1114,0\\n1115,1\\n1116,1\\n1117,1\\n1118,1\\n1119,0\\n1120,0\\n1121,1\\n1122,1\\n1123,0\\n1124,0\\n1125,1\\n1126,1\\n1127,1\\n1128,1\\n1129,1\\n1130,0\\n1131,0\\n1132,1\\n1133,0\\n1134,1\\n1135,1\\n1136,1\\n1137,0\\n1138,1\\n1139,1\\n1140,0\\n1141,0\\n1142,1\\n1143,0\\n1144,0\\n1145,1\\n1146,0\\n1147,0\\n1148,0\\n1149,1\\n1150,1\\n1151,1\\n1152,0\\n1153,1\\n1154,0\\n1155,1\\n1156,0\\n1157,0\\n1158,0\\n1159,1\\n1160,1\\n1161,0\\n1162,1\\n1163,0\\n1164,1\\n1165,1\\n1166,1\\n1167,1\\n1168,0\\n1169,1\\n1170,1\\n1171,0\\n1172,1\\n1173,1\\n1174,1\\n1175,0\\n1176,1\\n1177,0\\n1178,1\\n1179,1\\n1180,1\\n1181,1\\n1182,0\\n1183,0\\n1184,1\\n1185,1\\n1186,0\\n1187,1\\n1188,1\\n1189,1\\n1190,0\\n1191,0\\n1192,1\\n1193,1\\n1194,1\\n1195,1\\n1196,1\\n1197,0\\n1198,1\\n1199,0\\n1200,1\\n1201,1\\n1202,1\\n1203,1\\n1204,1\\n1205,0\\n1206,0\\n1207,1\\n1208,0\\n1209,1\\n1210,1\\n1211,0\\n1212,1\\n1213,1\\n1214,0\\n1215,1\\n1216,1\\n1217,1\\n1218,1\\n1219,1\\n1220,1\\n1221,1\\n1222,1\\n1223,0\\n1224,1\\n1225,0\\n1226,1\\n1227,0\\n1228,1\\n1229,0\\n1230,1\\n1231,0\\n1232,0\\n1233,0\\n1234,1\\n1235,0\\n1236,0\\n1237,0\\n1238,0\\n1239,1\\n1240,1\\n1241,1\\n1242,1\\n1243,1\\n1244,1\\n1245,0\\n1246,1\\n1247,1\\n1248,1\\n1249,0\\n1250,1\\n1251,0\\n1252,0\\n1253,0\\n1254,0\\n1255,0\\n1256,1\\n1257,1\\n1258,0\\n1259,1\\n1260,1\\n1261,1\\n1262,1\\n1263,0\\n1264,1\\n1265,1\\n1266,0\\n1267,1\\n1268,1\\n1269,1\\n1270,0\\n1271,1\\n1272,0\\n1273,1\\n1274,1\\n1275,0\\n1276,1\\n1277,1\\n1278,0\\n1279,1\\n1280,0\\n1281,0\\n1282,0\\n1283,0\\n1284,0\\n1285,0\\n1286,0\\n1287,0\\n1288,1\\n1289,1\\n1290,1\\n1291,0\\n1292,0\\n1293,1\\n1294,1\\n1295,0\\n1296,1\\n1297,0\\n1298,1\\n1299,0\\n1300,1\\n1301,1\\n1302,1\\n1303,0\\n1304,0\\n1305,1\\n1306,0\\n1307,0\\n1308,1\\n1309,0\\n1310,1\\n1311,1\\n1312,0\\n1313,0\\n1314,1\\n1315,1\\n1316,0\\n1317,1\\n1318,0\\n1319,0\\n1320,1\\n1321,0\\n1322,0\\n1323,0\\n1324,1\\n1325,0\\n1326,0\\n1327,1\\n1328,0\\n1329,0\\n1330,0\\n1331,0\\n1332,0\\n1333,1\\n1334,1\\n1335,1\\n1336,1\\n1337,1\\n1338,0\\n1339,1\\n1340,1\\n1341,0\\n1342,0\\n1343,0\\n1344,0\\n1345,1\\n1346,1\\n1347,0\\n1348,1\\n1349,1\\n1350,1\\n1351,1\\n1352,1\\n1353,0\\n1354,1\\n1355,1\\n1356,1\\n1357,1\\n1358,1\\n1359,0\\n1360,1\\n1361,1\\n1362,1\\n1363,0\\n1364,0\\n1365,1\\n1366,0\\n1367,0\\n1368,1\\n1369,0\\n1370,1\\n1371,0\\n1372,0\\n1373,0\\n1374,1\\n1375,0\\n1376,1\\n1377,0\\n1378,0\\n1379,0\\n1380,0\\n1381,0\\n1382,0\\n1383,0\\n1384,0\\n1385,1\\n1386,0\\n1387,1\\n1388,0\\n1389,0\\n1390,0\\n1391,0\\n1392,0\\n1393,0\\n1394,1\\n1395,0\\n1396,1\\n1397,1\\n1398,0\\n1399,0\\n1400,1\\n1401,0\\n1402,1\\n1403,1\\n1404,0\\n1405,1\\n1406,1\\n1407,1\\n1408,1\\n1409,0\\n1410,1\\n1411,0\\n1412,0\\n1413,0\\n1414,0\\n1415,1\\n1416,1\\n1417,0\\n1418,1\\n1419,0\\n1420,0\\n1421,1\\n1422,1\\n1423,1\\n1424,0\\n1425,0\\n1426,0\\n1427,1\\n1428,1\\n1429,1\\n1430,0\\n1431,1\\n1432,1\\n1433,0\\n1434,1\\n1435,1\\n1436,1\\n1437,0\\n1438,0\\n1439,1\\n1440,1\\n1441,0\\n1442,1\\n1443,1\\n1444,1\\n1445,1\\n1446,0\\n1447,1\\n1448,1\\n1449,1\\n1450,1\\n1451,1\\n1452,1\\n1453,0\\n1454,0\\n1455,1\\n1456,0\\n1457,0\\n1458,1\\n1459,1\\n1460,1\\n1461,0\\n1462,1\\n1463,1\\n1464,1\\n1465,1\\n1466,1\\n1467,1\\n1468,1\\n1469,0\\n1470,1\\n1471,1\\n1472,0\\n1473,0\\n1474,1\\n1475,0\\n1476,1\\n1477,1\\n1478,0\\n1479,1\\n1480,1\\n1481,0\\n1482,1\\n1483,0\\n1484,1\\n1485,0\\n1486,0\\n1487,0\\n1488,0\\n1489,1\\n1490,1\\n1491,1\\n1492,1\\n1493,0\\n1494,1\\n1495,0\\n1496,0\\n1497,0\\n1498,1\\n1499,0\\n1500,1\\n1501,0\\n1502,1\\n1503,1\\n1504,0\\n1505,1\\n1506,1\\n1507,1\\n1508,0\\n1509,0\\n1510,0\\n1511,1\\n1512,0\\n1513,1\\n1514,0\\n1515,1\\n1516,1\\n1517,1\\n1518,1\\n1519,1\\n1520,1\\n1521,1\\n1522,1\\n1523,0\\n1524,1\\n1525,0\\n1526,0\\n1527,0\\n1528,1\\n1529,1\\n1530,0\\n1531,1\\n1532,1\\n1533,1\\n1534,0\\n1535,0\\n1536,1\\n1537,1\\n1538,0\\n1539,0\\n1540,0\\n1541,1\\n1542,1\\n1543,0\\n1544,0\\n1545,1\\n1546,0\\n1547,1\\n1548,1\\n1549,1\\n1550,0\\n1551,1\\n1552,1\\n1553,0\\n1554,1\\n1555,1\\n1556,1\\n1557,1\\n1558,0\\n1559,1\\n1560,1\\n1561,1\\n1562,0\\n1563,0\\n1564,1\\n1565,1\\n1566,0\\n1567,0\\n1568,1\\n1569,1\\n1570,1\\n1571,1\\n1572,1\\n1573,1\\n1574,1\\n1575,1\\n1576,1\\n1577,1\\n1578,0\\n1579,0\\n1580,0\\n1581,1\\n1582,1\\n1583,0\\n1584,0\\n1585,0\\n1586,1\\n1587,1\\n1588,1\\n1589,1\\n1590,0\\n1591,1\\n1592,1\\n1593,1\\n1594,1\\n1595,0\\n1596,0\\n1597,0\\n1598,0\\n1599,0\\n1600,1\\n1601,0\\n1602,0\\n1603,0\\n1604,1\\n1605,1\\n1606,1\\n1607,0\\n1608,0\\n1609,1\\n1610,1\\n1611,0\\n1612,1\\n1613,1\\n1614,0\\n1615,1\\n1616,1\\n1617,0\\n1618,0\\n1619,1\\n1620,1\\n1621,1\\n1622,1\\n1623,0\\n1624,1\\n1625,0\\n1626,0\\n1627,1\\n1628,0\\n1629,1\\n1630,1\\n1631,0\\n1632,1\\n1633,1\\n1634,0\\n1635,0\\n1636,0\\n1637,1\\n1638,1\\n1639,0\\n1640,0\\n1641,0\\n1642,1\\n1643,0\\n1644,0\\n1645,1\\n1646,0\\n1647,0\\n1648,1\\n1649,0\\n1650,1\\n1651,1\\n1652,0\\n1653,1\\n1654,1\\n1655,0\\n1656,0\\n1657,0\\n1658,0\\n1659,0\\n1660,1\\n1661,1\\n1662,1\\n1663,0\\n1664,1\\n1665,0\\n1666,0\\n1667,0\\n1668,1\\n1669,0\\n1670,0\\n1671,0\\n1672,0\\n1673,0\\n1674,0\\n1675,0\\n1676,1\\n1677,1\\n1678,1\\n1679,1\\n1680,1\\n1681,1\\n1682,0\\n1683,1\\n1684,1\\n1685,0\\n1686,1\\n1687,1\\n1688,1\\n1689,1\\n1690,1\\n1691,1\\n1692,1\\n1693,0\\n1694,0\\n1695,1\\n1696,1\\n1697,1\\n1698,1\\n1699,0\\n1700,1\\n1701,1\\n1702,1\\n1703,1\\n1704,0\\n1705,1\\n1706,1\\n1707,1\\n1708,1\\n1709,0\\n1710,0\\n1711,0\\n1712,0\\n1713,1\\n1714,1\\n1715,1\\n1716,1\\n1717,1\\n1718,0\\n1719,1\\n1720,1\\n1721,1\\n1722,0\\n1723,1\\n1724,0\\n1725,1\\n1726,1\\n1727,1\\n1728,1\\n1729,0\\n1730,1\\n1731,1\\n1732,1\\n1733,1\\n1734,1\\n1735,0\\n1736,1\\n1737,0\\n1738,0\\n1739,0\\n1740,0\\n1741,0\\n1742,0\\n1743,1\\n1744,1\\n1745,0\\n1746,0\\n1747,1\\n1748,1\\n1749,1\\n1750,1\\n1751,1\\n1752,1\\n1753,0\\n1754,0\\n1755,1\\n1756,1\\n1757,0\\n1758,0\\n1759,0\\n1760,0\\n1761,1\\n1762,1\\n1763,1\\n1764,0\\n1765,0\\n1766,0\\n1767,1\\n1768,0\\n1769,0\\n1770,1\\n1771,0\\n1772,1\\n1773,0\\n1774,0\\n1775,0\\n1776,1\\n1777,1\\n1778,1\\n1779,0\\n1780,0\\n1781,1\\n1782,1\\n1783,1\\n1784,1\\n1785,0\\n1786,0\\n1787,0\\n1788,1\\n1789,1\\n1790,1\\n1791,0\\n1792,1\\n1793,0\\n1794,0\\n1795,1\\n1796,1\\n1797,0\\n1798,0\\n1799,0\\n1800,1\\n1801,0\\n1802,1\\n1803,1\\n1804,1\\n1805,0\\n1806,1\\n1807,1\\n1808,0\\n1809,1\\n1810,1\\n1811,1\\n1812,1\\n1813,0\\n1814,0\\n1815,0\\n1816,0\\n1817,0\\n1818,1\\n1819,1\\n1820,1\\n1821,1\\n1822,0\\n1823,0\\n1824,0\\n1825,0\\n1826,1\\n1827,0\\n1828,1\\n1829,1\\n1830,1\\n1831,0\\n1832,1\\n1833,1\\n1834,0\\n1835,0\\n1836,1\\n1837,0\\n1838,0\\n1839,1\\n1840,1\\n1841,0\\n1842,0\\n1843,0\\n1844,0\\n1845,1\\n1846,1\\n1847,1\\n1848,1\\n1849,0\\n1850,0\\n1851,0\\n1852,1\\n1853,0\\n1854,0\\n1855,0\\n1856,1\\n1857,0\\n1858,0\\n1859,1\\n1860,0\\n1861,1\\n1862,0\\n1863,1\\n1864,0\\n1865,1\\n1866,1\\n1867,0\\n1868,0\\n1869,1\\n1870,1\\n1871,0\\n1872,1\\n1873,1\\n1874,1\\n1875,1\\n1876,0\\n1877,0\\n1878,0\\n1879,0\\n1880,1\\n1881,1\\n1882,1\\n1883,1\\n1884,0\\n1885,1\\n1886,1\\n1887,1\\n1888,1\\n1889,0\\n1890,0\\n1891,1\\n1892,0\\n1893,1\\n1894,1\\n1895,1\\n1896,0\\n1897,0\\n1898,0\\n1899,0\\n1900,0\\n1901,1\\n1902,1\\n1903,0\\n1904,0\\n1905,0\\n1906,0\\n1907,1\\n1908,1\\n1909,0\\n1910,1\\n1911,0\\n1912,0\\n1913,1\\n1914,0\\n1915,1\\n1916,1\\n1917,0\\n1918,1\\n1919,1\\n1920,0\\n1921,0\\n1922,1\\n1923,1\\n1924,1\\n1925,1\\n1926,1\\n1927,0\\n1928,1\\n1929,1\\n1930,1\\n1931,0\\n1932,1\\n1933,0\\n1934,0\\n1935,0\\n1936,1\\n1937,1\\n1938,1\\n1939,0\\n1940,1\\n1941,1\\n1942,0\\n1943,0\\n1944,0\\n1945,0\\n1946,0\\n1947,1\\n1948,1\\n1949,1\\n1950,1\\n1951,1\\n1952,1\\n1953,0\\n1954,1\\n1955,0\\n1956,1\\n1957,1\\n1958,1\\n1959,1\\n1960,0\\n1961,0\\n1962,1\\n1963,0\\n1964,1\\n1965,1\\n1966,0\\n1967,1\\n1968,1\\n1969,1\\n1970,1\\n1971,0\\n1972,1\\n1973,1\\n1974,0\\n1975,0\\n1976,1\\n1977,0\\n1978,0\\n1979,1\\n1980,0\\n1981,0\\n1982,0\\n1983,1\\n1984,0\\n1985,1\\n1986,0\\n1987,0\\n1988,1\\n1989,0\\n1990,1\\n1991,0\\n1992,0\\n1993,0\\n1994,0\\n1995,1\\n1996,0\\n1997,0\\n1998,0\\n1999,1\\n',\n",
              " 'ensemble_BERT_6.csv': b',BERT prediction\\n0,1\\n1,0\\n2,1\\n3,1\\n4,1\\n5,0\\n6,1\\n7,1\\n8,0\\n9,1\\n10,0\\n11,1\\n12,0\\n13,1\\n14,0\\n15,1\\n16,0\\n17,0\\n18,1\\n19,1\\n20,1\\n21,1\\n22,1\\n23,1\\n24,0\\n25,0\\n26,0\\n27,1\\n28,1\\n29,1\\n30,0\\n31,1\\n32,1\\n33,0\\n34,1\\n35,0\\n36,1\\n37,0\\n38,0\\n39,0\\n40,0\\n41,1\\n42,0\\n43,1\\n44,1\\n45,1\\n46,1\\n47,0\\n48,1\\n49,0\\n50,0\\n51,1\\n52,0\\n53,1\\n54,1\\n55,0\\n56,1\\n57,0\\n58,0\\n59,1\\n60,1\\n61,0\\n62,1\\n63,0\\n64,1\\n65,1\\n66,0\\n67,1\\n68,1\\n69,1\\n70,1\\n71,0\\n72,1\\n73,0\\n74,1\\n75,1\\n76,1\\n77,1\\n78,1\\n79,1\\n80,1\\n81,1\\n82,0\\n83,1\\n84,1\\n85,1\\n86,1\\n87,0\\n88,1\\n89,1\\n90,1\\n91,1\\n92,0\\n93,1\\n94,0\\n95,1\\n96,1\\n97,1\\n98,1\\n99,1\\n100,1\\n101,1\\n102,1\\n103,1\\n104,1\\n105,0\\n106,1\\n107,1\\n108,0\\n109,0\\n110,0\\n111,1\\n112,0\\n113,0\\n114,0\\n115,0\\n116,0\\n117,0\\n118,1\\n119,0\\n120,0\\n121,0\\n122,1\\n123,0\\n124,1\\n125,0\\n126,1\\n127,1\\n128,0\\n129,0\\n130,1\\n131,1\\n132,1\\n133,1\\n134,1\\n135,0\\n136,1\\n137,1\\n138,1\\n139,1\\n140,1\\n141,1\\n142,1\\n143,0\\n144,1\\n145,0\\n146,0\\n147,1\\n148,1\\n149,1\\n150,0\\n151,0\\n152,0\\n153,0\\n154,0\\n155,1\\n156,1\\n157,0\\n158,0\\n159,1\\n160,1\\n161,0\\n162,1\\n163,1\\n164,1\\n165,1\\n166,1\\n167,1\\n168,1\\n169,0\\n170,0\\n171,1\\n172,0\\n173,1\\n174,0\\n175,0\\n176,0\\n177,1\\n178,0\\n179,1\\n180,0\\n181,1\\n182,1\\n183,1\\n184,1\\n185,1\\n186,1\\n187,0\\n188,0\\n189,1\\n190,1\\n191,0\\n192,0\\n193,1\\n194,0\\n195,1\\n196,1\\n197,0\\n198,1\\n199,1\\n200,0\\n201,0\\n202,0\\n203,1\\n204,1\\n205,1\\n206,0\\n207,1\\n208,0\\n209,1\\n210,1\\n211,0\\n212,1\\n213,1\\n214,0\\n215,1\\n216,0\\n217,1\\n218,0\\n219,0\\n220,0\\n221,1\\n222,0\\n223,1\\n224,0\\n225,1\\n226,1\\n227,1\\n228,1\\n229,1\\n230,0\\n231,0\\n232,0\\n233,0\\n234,1\\n235,0\\n236,0\\n237,0\\n238,1\\n239,0\\n240,1\\n241,0\\n242,1\\n243,1\\n244,0\\n245,0\\n246,0\\n247,1\\n248,0\\n249,1\\n250,1\\n251,1\\n252,1\\n253,0\\n254,1\\n255,0\\n256,1\\n257,1\\n258,1\\n259,1\\n260,0\\n261,0\\n262,1\\n263,1\\n264,1\\n265,0\\n266,0\\n267,1\\n268,0\\n269,0\\n270,1\\n271,1\\n272,1\\n273,0\\n274,0\\n275,1\\n276,0\\n277,1\\n278,0\\n279,1\\n280,0\\n281,1\\n282,0\\n283,0\\n284,0\\n285,0\\n286,0\\n287,1\\n288,1\\n289,1\\n290,0\\n291,1\\n292,1\\n293,0\\n294,0\\n295,1\\n296,0\\n297,1\\n298,0\\n299,0\\n300,0\\n301,1\\n302,1\\n303,1\\n304,1\\n305,1\\n306,1\\n307,1\\n308,0\\n309,0\\n310,0\\n311,0\\n312,1\\n313,0\\n314,0\\n315,0\\n316,1\\n317,0\\n318,1\\n319,0\\n320,1\\n321,0\\n322,1\\n323,1\\n324,0\\n325,1\\n326,0\\n327,0\\n328,1\\n329,0\\n330,1\\n331,1\\n332,1\\n333,0\\n334,1\\n335,1\\n336,1\\n337,0\\n338,0\\n339,1\\n340,0\\n341,0\\n342,1\\n343,1\\n344,1\\n345,1\\n346,1\\n347,1\\n348,1\\n349,0\\n350,0\\n351,1\\n352,0\\n353,0\\n354,1\\n355,1\\n356,1\\n357,0\\n358,1\\n359,1\\n360,0\\n361,0\\n362,0\\n363,0\\n364,1\\n365,0\\n366,0\\n367,0\\n368,1\\n369,1\\n370,1\\n371,0\\n372,1\\n373,1\\n374,1\\n375,1\\n376,0\\n377,0\\n378,1\\n379,1\\n380,1\\n381,0\\n382,1\\n383,0\\n384,1\\n385,1\\n386,1\\n387,0\\n388,1\\n389,0\\n390,1\\n391,1\\n392,0\\n393,0\\n394,0\\n395,0\\n396,1\\n397,1\\n398,0\\n399,1\\n400,1\\n401,0\\n402,1\\n403,0\\n404,1\\n405,0\\n406,1\\n407,0\\n408,1\\n409,1\\n410,1\\n411,0\\n412,0\\n413,1\\n414,1\\n415,0\\n416,1\\n417,0\\n418,0\\n419,0\\n420,1\\n421,0\\n422,0\\n423,1\\n424,0\\n425,1\\n426,0\\n427,0\\n428,0\\n429,1\\n430,1\\n431,0\\n432,0\\n433,0\\n434,0\\n435,1\\n436,1\\n437,1\\n438,1\\n439,0\\n440,0\\n441,0\\n442,1\\n443,1\\n444,1\\n445,1\\n446,0\\n447,1\\n448,0\\n449,0\\n450,0\\n451,1\\n452,1\\n453,1\\n454,0\\n455,1\\n456,0\\n457,0\\n458,0\\n459,1\\n460,1\\n461,1\\n462,1\\n463,1\\n464,1\\n465,1\\n466,1\\n467,1\\n468,0\\n469,0\\n470,0\\n471,1\\n472,0\\n473,1\\n474,1\\n475,0\\n476,1\\n477,0\\n478,1\\n479,1\\n480,0\\n481,1\\n482,1\\n483,0\\n484,1\\n485,0\\n486,1\\n487,1\\n488,1\\n489,0\\n490,0\\n491,0\\n492,0\\n493,1\\n494,0\\n495,1\\n496,0\\n497,1\\n498,1\\n499,1\\n500,0\\n501,0\\n502,0\\n503,0\\n504,0\\n505,0\\n506,1\\n507,1\\n508,1\\n509,0\\n510,0\\n511,0\\n512,0\\n513,1\\n514,1\\n515,1\\n516,1\\n517,0\\n518,0\\n519,0\\n520,1\\n521,0\\n522,1\\n523,0\\n524,1\\n525,1\\n526,0\\n527,0\\n528,1\\n529,0\\n530,0\\n531,0\\n532,1\\n533,1\\n534,0\\n535,0\\n536,1\\n537,0\\n538,0\\n539,1\\n540,0\\n541,1\\n542,0\\n543,0\\n544,1\\n545,1\\n546,0\\n547,1\\n548,1\\n549,0\\n550,0\\n551,1\\n552,1\\n553,1\\n554,0\\n555,1\\n556,0\\n557,1\\n558,1\\n559,0\\n560,1\\n561,0\\n562,0\\n563,1\\n564,1\\n565,0\\n566,0\\n567,0\\n568,1\\n569,1\\n570,0\\n571,0\\n572,0\\n573,1\\n574,1\\n575,1\\n576,0\\n577,1\\n578,0\\n579,1\\n580,0\\n581,0\\n582,1\\n583,0\\n584,0\\n585,1\\n586,0\\n587,1\\n588,1\\n589,1\\n590,1\\n591,1\\n592,1\\n593,0\\n594,0\\n595,0\\n596,0\\n597,0\\n598,0\\n599,1\\n600,0\\n601,1\\n602,1\\n603,0\\n604,0\\n605,1\\n606,1\\n607,0\\n608,0\\n609,1\\n610,0\\n611,0\\n612,0\\n613,0\\n614,0\\n615,0\\n616,0\\n617,1\\n618,0\\n619,0\\n620,1\\n621,0\\n622,1\\n623,1\\n624,1\\n625,0\\n626,1\\n627,1\\n628,0\\n629,1\\n630,1\\n631,1\\n632,0\\n633,1\\n634,0\\n635,0\\n636,0\\n637,1\\n638,1\\n639,0\\n640,1\\n641,1\\n642,0\\n643,0\\n644,0\\n645,1\\n646,0\\n647,0\\n648,0\\n649,0\\n650,1\\n651,1\\n652,0\\n653,0\\n654,1\\n655,0\\n656,0\\n657,1\\n658,1\\n659,0\\n660,1\\n661,0\\n662,1\\n663,1\\n664,1\\n665,1\\n666,1\\n667,1\\n668,1\\n669,1\\n670,0\\n671,1\\n672,0\\n673,1\\n674,0\\n675,1\\n676,0\\n677,1\\n678,0\\n679,1\\n680,1\\n681,1\\n682,1\\n683,0\\n684,1\\n685,1\\n686,0\\n687,0\\n688,1\\n689,0\\n690,1\\n691,1\\n692,0\\n693,1\\n694,0\\n695,1\\n696,1\\n697,1\\n698,1\\n699,1\\n700,1\\n701,0\\n702,0\\n703,1\\n704,1\\n705,0\\n706,1\\n707,1\\n708,0\\n709,0\\n710,0\\n711,1\\n712,0\\n713,1\\n714,0\\n715,1\\n716,0\\n717,0\\n718,0\\n719,1\\n720,1\\n721,1\\n722,1\\n723,0\\n724,1\\n725,1\\n726,1\\n727,1\\n728,1\\n729,1\\n730,0\\n731,1\\n732,1\\n733,1\\n734,1\\n735,0\\n736,0\\n737,1\\n738,1\\n739,0\\n740,0\\n741,1\\n742,0\\n743,0\\n744,1\\n745,0\\n746,0\\n747,1\\n748,1\\n749,1\\n750,1\\n751,0\\n752,0\\n753,1\\n754,0\\n755,1\\n756,1\\n757,1\\n758,1\\n759,1\\n760,1\\n761,1\\n762,1\\n763,1\\n764,1\\n765,1\\n766,1\\n767,0\\n768,0\\n769,0\\n770,1\\n771,1\\n772,0\\n773,1\\n774,0\\n775,1\\n776,1\\n777,1\\n778,1\\n779,1\\n780,0\\n781,1\\n782,0\\n783,1\\n784,0\\n785,0\\n786,1\\n787,0\\n788,1\\n789,1\\n790,0\\n791,0\\n792,0\\n793,1\\n794,0\\n795,1\\n796,0\\n797,1\\n798,1\\n799,0\\n800,0\\n801,1\\n802,1\\n803,0\\n804,0\\n805,0\\n806,1\\n807,0\\n808,0\\n809,0\\n810,1\\n811,0\\n812,0\\n813,1\\n814,1\\n815,1\\n816,1\\n817,0\\n818,1\\n819,1\\n820,1\\n821,1\\n822,1\\n823,1\\n824,0\\n825,1\\n826,0\\n827,0\\n828,0\\n829,1\\n830,0\\n831,0\\n832,1\\n833,1\\n834,1\\n835,0\\n836,0\\n837,1\\n838,0\\n839,0\\n840,0\\n841,0\\n842,1\\n843,1\\n844,0\\n845,1\\n846,0\\n847,1\\n848,1\\n849,0\\n850,0\\n851,0\\n852,0\\n853,0\\n854,0\\n855,1\\n856,0\\n857,0\\n858,0\\n859,1\\n860,1\\n861,1\\n862,1\\n863,0\\n864,0\\n865,0\\n866,0\\n867,1\\n868,0\\n869,0\\n870,1\\n871,1\\n872,0\\n873,0\\n874,1\\n875,1\\n876,0\\n877,1\\n878,0\\n879,0\\n880,1\\n881,0\\n882,1\\n883,0\\n884,1\\n885,0\\n886,1\\n887,1\\n888,1\\n889,1\\n890,1\\n891,1\\n892,1\\n893,0\\n894,1\\n895,1\\n896,0\\n897,0\\n898,0\\n899,1\\n900,0\\n901,0\\n902,1\\n903,1\\n904,1\\n905,1\\n906,1\\n907,0\\n908,1\\n909,1\\n910,1\\n911,1\\n912,1\\n913,1\\n914,1\\n915,0\\n916,0\\n917,0\\n918,1\\n919,1\\n920,1\\n921,0\\n922,0\\n923,0\\n924,1\\n925,1\\n926,0\\n927,0\\n928,0\\n929,1\\n930,1\\n931,0\\n932,1\\n933,0\\n934,1\\n935,1\\n936,0\\n937,1\\n938,0\\n939,0\\n940,1\\n941,0\\n942,1\\n943,0\\n944,0\\n945,1\\n946,1\\n947,1\\n948,0\\n949,1\\n950,0\\n951,1\\n952,1\\n953,1\\n954,1\\n955,1\\n956,0\\n957,1\\n958,0\\n959,0\\n960,1\\n961,0\\n962,0\\n963,0\\n964,0\\n965,1\\n966,1\\n967,1\\n968,1\\n969,1\\n970,1\\n971,1\\n972,1\\n973,1\\n974,1\\n975,1\\n976,0\\n977,1\\n978,1\\n979,0\\n980,0\\n981,1\\n982,1\\n983,1\\n984,1\\n985,1\\n986,0\\n987,0\\n988,1\\n989,1\\n990,0\\n991,1\\n992,0\\n993,1\\n994,1\\n995,0\\n996,1\\n997,0\\n998,0\\n999,1\\n1000,0\\n1001,1\\n1002,0\\n1003,0\\n1004,1\\n1005,1\\n1006,0\\n1007,0\\n1008,1\\n1009,1\\n1010,1\\n1011,1\\n1012,0\\n1013,1\\n1014,0\\n1015,0\\n1016,1\\n1017,0\\n1018,1\\n1019,1\\n1020,1\\n1021,0\\n1022,0\\n1023,0\\n1024,1\\n1025,1\\n1026,1\\n1027,1\\n1028,1\\n1029,0\\n1030,1\\n1031,1\\n1032,1\\n1033,0\\n1034,0\\n1035,1\\n1036,1\\n1037,1\\n1038,1\\n1039,1\\n1040,1\\n1041,0\\n1042,1\\n1043,1\\n1044,1\\n1045,1\\n1046,0\\n1047,1\\n1048,1\\n1049,1\\n1050,1\\n1051,0\\n1052,0\\n1053,0\\n1054,1\\n1055,1\\n1056,0\\n1057,0\\n1058,0\\n1059,1\\n1060,1\\n1061,1\\n1062,1\\n1063,1\\n1064,1\\n1065,1\\n1066,1\\n1067,0\\n1068,1\\n1069,1\\n1070,0\\n1071,1\\n1072,0\\n1073,0\\n1074,1\\n1075,0\\n1076,0\\n1077,1\\n1078,1\\n1079,0\\n1080,0\\n1081,1\\n1082,0\\n1083,0\\n1084,0\\n1085,1\\n1086,0\\n1087,1\\n1088,1\\n1089,0\\n1090,0\\n1091,0\\n1092,0\\n1093,0\\n1094,1\\n1095,0\\n1096,1\\n1097,0\\n1098,1\\n1099,0\\n1100,1\\n1101,1\\n1102,1\\n1103,1\\n1104,1\\n1105,0\\n1106,1\\n1107,0\\n1108,1\\n1109,0\\n1110,0\\n1111,0\\n1112,1\\n1113,0\\n1114,1\\n1115,0\\n1116,0\\n1117,0\\n1118,1\\n1119,1\\n1120,1\\n1121,1\\n1122,0\\n1123,1\\n1124,1\\n1125,1\\n1126,1\\n1127,0\\n1128,1\\n1129,1\\n1130,1\\n1131,0\\n1132,0\\n1133,0\\n1134,0\\n1135,0\\n1136,1\\n1137,1\\n1138,0\\n1139,1\\n1140,1\\n1141,1\\n1142,1\\n1143,0\\n1144,1\\n1145,1\\n1146,1\\n1147,1\\n1148,0\\n1149,0\\n1150,1\\n1151,0\\n1152,0\\n1153,0\\n1154,1\\n1155,0\\n1156,1\\n1157,1\\n1158,0\\n1159,0\\n1160,0\\n1161,1\\n1162,1\\n1163,1\\n1164,0\\n1165,0\\n1166,1\\n1167,1\\n1168,0\\n1169,0\\n1170,1\\n1171,0\\n1172,1\\n1173,1\\n1174,0\\n1175,0\\n1176,1\\n1177,0\\n1178,0\\n1179,1\\n1180,1\\n1181,1\\n1182,1\\n1183,0\\n1184,1\\n1185,1\\n1186,0\\n'}"
            ]
          },
          "metadata": {
            "tags": []
          },
          "execution_count": 42
        }
      ]
    },
    {
      "cell_type": "code",
      "metadata": {
        "id": "pM4upnGcrYzh"
      },
      "source": [
        "ensemble_BERT_1 = pd.read_csv(\"./ensemble_BERT_1.csv\")\r\n",
        "ensemble_BERT_2 = pd.read_csv(\"./ensemble_BERT_2.csv\")\r\n",
        "ensemble_BERT_3 = pd.read_csv(\"./ensemble_BERT_3.csv\")\r\n",
        "ensemble_BERT_4 = pd.read_csv(\"./ensemble_BERT_4.csv\")\r\n",
        "ensemble_BERT_5 = pd.read_csv(\"./ensemble_BERT_5.csv\")\r\n",
        "ensemble_BERT_6 = pd.read_csv(\"./ensemble_BERT_6.csv\")"
      ],
      "execution_count": null,
      "outputs": []
    },
    {
      "cell_type": "code",
      "metadata": {
        "id": "Yeq7eRGusHmV"
      },
      "source": [
        "ensemble_BERT_1_out = ensemble_BERT_1['BERT prediction']\r\n",
        "ensemble_BERT_2_out = ensemble_BERT_2['BERT prediction']\r\n",
        "ensemble_BERT_3_out = ensemble_BERT_3['BERT prediction']\r\n",
        "ensemble_BERT_4_out = ensemble_BERT_4['BERT prediction']\r\n",
        "ensemble_BERT_5_out = ensemble_BERT_5['BERT prediction']\r\n",
        "ensemble_BERT_6_out = ensemble_BERT_6['BERT prediction']"
      ],
      "execution_count": null,
      "outputs": []
    },
    {
      "cell_type": "code",
      "metadata": {
        "id": "15kmiHQ7sYXC"
      },
      "source": [
        "ensemble_BERT_sum = ensemble_BERT_1_out\r\n",
        "ensemble_BERT_sum = ensemble_BERT_sum.append(ensemble_BERT_2_out)\r\n",
        "ensemble_BERT_sum = ensemble_BERT_sum.append(ensemble_BERT_3_out)\r\n",
        "ensemble_BERT_sum = ensemble_BERT_sum.append(ensemble_BERT_4_out)\r\n",
        "ensemble_BERT_sum = ensemble_BERT_sum.append(ensemble_BERT_5_out)\r\n",
        "ensemble_BERT_sum = ensemble_BERT_sum.append(ensemble_BERT_6_out)"
      ],
      "execution_count": null,
      "outputs": []
    },
    {
      "cell_type": "code",
      "metadata": {
        "id": "YZC01OH9QKQn",
        "colab": {
          "base_uri": "https://localhost:8080/"
        },
        "outputId": "ed842fac-42ef-4f86-f2c7-0d9d7f0678f7"
      },
      "source": [
        "ensemble_BERT = pd.DataFrame({'BERT prediction' : ensemble_BERT_sum})\r\n",
        "print(ensemble_BERT)"
      ],
      "execution_count": null,
      "outputs": [
        {
          "output_type": "stream",
          "text": [
            "      BERT prediction\n",
            "0                   1\n",
            "1                   0\n",
            "2                   0\n",
            "3                   1\n",
            "4                   0\n",
            "...               ...\n",
            "1182                1\n",
            "1183                0\n",
            "1184                1\n",
            "1185                1\n",
            "1186                0\n",
            "\n",
            "[11187 rows x 1 columns]\n"
          ],
          "name": "stdout"
        }
      ]
    },
    {
      "cell_type": "code",
      "metadata": {
        "id": "5D8N1S9NQKta"
      },
      "source": [
        "ensemble_BERT.to_csv('ensemble_BERT.csv')"
      ],
      "execution_count": null,
      "outputs": []
    },
    {
      "cell_type": "markdown",
      "metadata": {
        "id": "60RC3gBcMFV4"
      },
      "source": [
        "**앙상블 예측 결과 산출 ③**"
      ]
    },
    {
      "cell_type": "markdown",
      "metadata": {
        "id": "wGc-UJNaMKz4"
      },
      "source": [
        "- Transformer(ensemble_transformer.csv), CNN(ensemble_CNN.csv), BERT(ensemble_BERT.csv, 분할실행으로 파일 업로드 필요 시) 파일 로컬 PC에서 업로드"
      ]
    },
    {
      "cell_type": "code",
      "metadata": {
        "id": "BqsoX05jMJor",
        "colab": {
          "resources": {
            "http://localhost:8080/nbextensions/google.colab/files.js": {
              "data": "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",
              "ok": true,
              "headers": [
                [
                  "content-type",
                  "application/javascript"
                ]
              ],
              "status": 200,
              "status_text": ""
            }
          },
          "base_uri": "https://localhost:8080/",
          "height": 167
        },
        "outputId": "db40ebc3-8361-46fb-f064-2091dc724f10"
      },
      "source": [
        "from google.colab import files\r\n",
        "files.upload()"
      ],
      "execution_count": null,
      "outputs": [
        {
          "output_type": "display_data",
          "data": {
            "text/html": [
              "\n",
              "     <input type=\"file\" id=\"files-fbed9965-2f6c-4679-bd2d-586729aa67ee\" name=\"files[]\" multiple disabled\n",
              "        style=\"border:none\" />\n",
              "     <output id=\"result-fbed9965-2f6c-4679-bd2d-586729aa67ee\">\n",
              "      Upload widget is only available when the cell has been executed in the\n",
              "      current browser session. Please rerun this cell to enable.\n",
              "      </output>\n",
              "      <script src=\"/nbextensions/google.colab/files.js\"></script> "
            ],
            "text/plain": [
              "<IPython.core.display.HTML object>"
            ]
          },
          "metadata": {
            "tags": []
          }
        },
        {
          "output_type": "stream",
          "text": [
            "Saving ensemble_transformer.csv to ensemble_transformer.csv\n",
            "Saving ensemble_CNN.csv to ensemble_CNN.csv\n"
          ],
          "name": "stdout"
        },
        {
          "output_type": "execute_result",
          "data": {
            "text/plain": [
              "{'ensemble_CNN.csv': b',CNN prediction\\n0,1\\n1,0\\n2,1\\n3,1\\n4,0\\n5,1\\n6,1\\n7,1\\n8,0\\n9,1\\n10,1\\n11,0\\n12,0\\n13,0\\n14,0\\n15,1\\n16,1\\n17,1\\n18,1\\n19,1\\n20,1\\n21,1\\n22,1\\n23,1\\n24,0\\n25,0\\n26,0\\n27,0\\n28,1\\n29,0\\n30,1\\n31,1\\n32,1\\n33,0\\n34,1\\n35,0\\n36,1\\n37,1\\n38,1\\n39,0\\n40,0\\n41,0\\n42,0\\n43,1\\n44,0\\n45,1\\n46,0\\n47,1\\n48,0\\n49,1\\n50,0\\n51,1\\n52,0\\n53,0\\n54,1\\n55,1\\n56,1\\n57,1\\n58,0\\n59,0\\n60,1\\n61,1\\n62,1\\n63,0\\n64,0\\n65,0\\n66,0\\n67,1\\n68,0\\n69,1\\n70,1\\n71,1\\n72,1\\n73,1\\n74,1\\n75,0\\n76,1\\n77,1\\n78,1\\n79,0\\n80,1\\n81,1\\n82,0\\n83,1\\n84,1\\n85,0\\n86,0\\n87,0\\n88,1\\n89,0\\n90,1\\n91,0\\n92,1\\n93,1\\n94,0\\n95,0\\n96,0\\n97,1\\n98,0\\n99,0\\n100,0\\n101,0\\n102,0\\n103,0\\n104,0\\n105,0\\n106,1\\n107,1\\n108,1\\n109,1\\n110,0\\n111,1\\n112,1\\n113,0\\n114,1\\n115,1\\n116,1\\n117,1\\n118,0\\n119,0\\n120,0\\n121,0\\n122,0\\n123,0\\n124,1\\n125,0\\n126,1\\n127,0\\n128,0\\n129,1\\n130,0\\n131,1\\n132,1\\n133,0\\n134,1\\n135,1\\n136,1\\n137,0\\n138,0\\n139,1\\n140,0\\n141,0\\n142,1\\n143,0\\n144,0\\n145,1\\n146,0\\n147,1\\n148,1\\n149,0\\n150,0\\n151,1\\n152,1\\n153,1\\n154,1\\n155,1\\n156,1\\n157,0\\n158,0\\n159,1\\n160,0\\n161,0\\n162,0\\n163,0\\n164,0\\n165,0\\n166,0\\n167,0\\n168,0\\n169,1\\n170,0\\n171,1\\n172,1\\n173,1\\n174,0\\n175,1\\n176,1\\n177,0\\n178,1\\n179,0\\n180,0\\n181,1\\n182,0\\n183,1\\n184,1\\n185,1\\n186,1\\n187,1\\n188,0\\n189,0\\n190,1\\n191,0\\n192,0\\n193,0\\n194,0\\n195,1\\n196,1\\n197,1\\n198,0\\n199,1\\n200,0\\n201,0\\n202,1\\n203,0\\n204,1\\n205,0\\n206,1\\n207,1\\n208,1\\n209,1\\n210,0\\n211,0\\n212,1\\n213,1\\n214,1\\n215,1\\n216,0\\n217,1\\n218,0\\n219,0\\n220,0\\n221,1\\n222,0\\n223,1\\n224,1\\n225,1\\n226,1\\n227,1\\n228,0\\n229,0\\n230,0\\n231,0\\n232,1\\n233,1\\n234,0\\n235,1\\n236,0\\n237,1\\n238,1\\n239,1\\n240,0\\n241,1\\n242,0\\n243,0\\n244,1\\n245,0\\n246,1\\n247,1\\n248,0\\n249,1\\n250,1\\n251,1\\n252,0\\n253,1\\n254,1\\n255,1\\n256,0\\n257,1\\n258,0\\n259,1\\n260,1\\n261,1\\n262,0\\n263,0\\n264,0\\n265,1\\n266,1\\n267,0\\n268,1\\n269,0\\n270,0\\n271,0\\n272,1\\n273,1\\n274,1\\n275,1\\n276,1\\n277,1\\n278,0\\n279,0\\n280,0\\n281,1\\n282,0\\n283,1\\n284,0\\n285,0\\n286,0\\n287,0\\n288,0\\n289,0\\n290,0\\n291,1\\n292,1\\n293,0\\n294,1\\n295,0\\n296,1\\n297,1\\n298,0\\n299,0\\n300,1\\n301,0\\n302,0\\n303,0\\n304,0\\n305,1\\n306,0\\n307,0\\n308,1\\n309,1\\n310,1\\n311,1\\n312,0\\n313,0\\n314,1\\n315,0\\n316,1\\n317,1\\n318,1\\n319,0\\n320,0\\n321,0\\n322,1\\n323,0\\n324,0\\n325,1\\n326,1\\n327,0\\n328,0\\n329,1\\n330,0\\n331,0\\n332,1\\n333,1\\n334,0\\n335,1\\n336,0\\n337,1\\n338,1\\n339,0\\n340,0\\n341,0\\n342,1\\n343,0\\n344,0\\n345,0\\n346,1\\n347,1\\n348,1\\n349,1\\n350,1\\n351,1\\n352,0\\n353,1\\n354,1\\n355,0\\n356,1\\n357,1\\n358,1\\n359,1\\n360,1\\n361,1\\n362,1\\n363,1\\n364,0\\n365,1\\n366,0\\n367,1\\n368,1\\n369,0\\n370,0\\n371,0\\n372,0\\n373,0\\n374,0\\n375,1\\n376,1\\n377,1\\n378,0\\n379,1\\n380,1\\n381,0\\n382,1\\n383,0\\n384,1\\n385,1\\n386,0\\n387,1\\n388,0\\n389,1\\n390,1\\n391,1\\n392,1\\n393,1\\n394,1\\n395,1\\n396,1\\n397,0\\n398,1\\n399,1\\n400,1\\n401,0\\n402,0\\n403,0\\n404,0\\n405,0\\n406,0\\n407,1\\n408,0\\n409,1\\n410,0\\n411,0\\n412,1\\n413,0\\n414,1\\n415,1\\n416,1\\n417,1\\n418,1\\n419,1\\n420,1\\n421,1\\n422,1\\n423,0\\n424,1\\n425,1\\n426,1\\n427,1\\n428,0\\n429,1\\n430,1\\n431,1\\n432,0\\n433,0\\n434,1\\n435,0\\n436,1\\n437,0\\n438,0\\n439,1\\n440,1\\n441,0\\n442,0\\n443,1\\n444,0\\n445,0\\n446,0\\n447,1\\n448,1\\n449,0\\n450,1\\n451,0\\n452,0\\n453,0\\n454,0\\n455,0\\n456,0\\n457,1\\n458,1\\n459,1\\n460,0\\n461,0\\n462,1\\n463,0\\n464,0\\n465,0\\n466,0\\n467,0\\n468,1\\n469,0\\n470,1\\n471,1\\n472,1\\n473,0\\n474,1\\n475,1\\n476,0\\n477,1\\n478,1\\n479,1\\n480,1\\n481,0\\n482,1\\n483,1\\n484,0\\n485,1\\n486,0\\n487,1\\n488,0\\n489,0\\n490,1\\n491,1\\n492,1\\n493,0\\n494,0\\n495,1\\n496,0\\n497,0\\n498,0\\n499,1\\n500,1\\n501,1\\n502,0\\n503,0\\n504,0\\n505,1\\n506,1\\n507,1\\n508,0\\n509,0\\n510,1\\n511,1\\n512,1\\n513,1\\n514,0\\n515,0\\n516,1\\n517,0\\n518,1\\n519,1\\n520,1\\n521,1\\n522,1\\n523,1\\n524,1\\n525,0\\n526,1\\n527,1\\n528,0\\n529,1\\n530,1\\n531,0\\n532,1\\n533,1\\n534,0\\n535,1\\n536,0\\n537,0\\n538,1\\n539,0\\n540,1\\n541,1\\n542,1\\n543,1\\n544,1\\n545,0\\n546,1\\n547,1\\n548,0\\n549,0\\n550,1\\n551,1\\n552,0\\n553,1\\n554,0\\n555,0\\n556,0\\n557,1\\n558,1\\n559,0\\n560,0\\n561,0\\n562,1\\n563,1\\n564,1\\n565,0\\n566,0\\n567,1\\n568,0\\n569,0\\n570,0\\n571,1\\n572,1\\n573,1\\n574,1\\n575,0\\n576,1\\n577,1\\n578,1\\n579,0\\n580,0\\n581,1\\n582,1\\n583,0\\n584,0\\n585,1\\n586,0\\n587,1\\n588,0\\n589,0\\n590,0\\n591,0\\n592,1\\n593,0\\n594,1\\n595,0\\n596,1\\n597,0\\n598,0\\n599,0\\n600,0\\n601,1\\n602,1\\n603,1\\n604,0\\n605,1\\n606,1\\n607,0\\n608,1\\n609,0\\n610,0\\n611,0\\n612,1\\n613,0\\n614,0\\n615,0\\n616,0\\n617,0\\n618,0\\n619,1\\n620,1\\n621,1\\n622,0\\n623,1\\n624,1\\n625,0\\n626,0\\n627,1\\n628,1\\n629,1\\n630,0\\n631,0\\n632,0\\n633,1\\n634,0\\n635,0\\n636,0\\n637,1\\n638,0\\n639,0\\n640,1\\n641,0\\n642,0\\n643,0\\n644,0\\n645,1\\n646,1\\n647,0\\n648,1\\n649,1\\n650,1\\n651,0\\n652,0\\n653,1\\n654,1\\n655,0\\n656,1\\n657,0\\n658,1\\n659,0\\n660,0\\n661,1\\n662,0\\n663,1\\n664,0\\n665,1\\n666,1\\n667,0\\n668,0\\n669,0\\n670,0\\n671,1\\n672,1\\n673,1\\n674,0\\n675,1\\n676,0\\n677,0\\n678,0\\n679,0\\n680,0\\n681,1\\n682,1\\n683,0\\n684,1\\n685,1\\n686,0\\n687,1\\n688,0\\n689,1\\n690,1\\n691,0\\n692,0\\n693,1\\n694,0\\n695,0\\n696,0\\n697,1\\n698,1\\n699,0\\n700,1\\n701,1\\n702,0\\n703,0\\n704,1\\n705,1\\n706,1\\n707,0\\n708,0\\n709,1\\n710,0\\n711,1\\n712,1\\n713,1\\n714,0\\n715,1\\n716,0\\n717,0\\n718,1\\n719,0\\n720,1\\n721,0\\n722,1\\n723,0\\n724,1\\n725,1\\n726,1\\n727,0\\n728,1\\n729,1\\n730,0\\n731,1\\n732,1\\n733,1\\n734,1\\n735,0\\n736,0\\n737,1\\n738,1\\n739,0\\n740,0\\n741,1\\n742,1\\n743,1\\n744,0\\n745,1\\n746,1\\n747,1\\n748,1\\n749,1\\n750,1\\n751,0\\n752,1\\n753,0\\n754,1\\n755,0\\n756,0\\n757,0\\n758,1\\n759,0\\n760,0\\n761,1\\n762,1\\n763,0\\n764,1\\n765,0\\n766,1\\n767,0\\n768,0\\n769,1\\n770,0\\n771,1\\n772,0\\n773,1\\n774,1\\n775,0\\n776,1\\n777,1\\n778,1\\n779,0\\n780,0\\n781,1\\n782,0\\n783,0\\n784,1\\n785,0\\n786,1\\n787,0\\n788,0\\n789,0\\n790,0\\n791,1\\n792,0\\n793,1\\n794,1\\n795,1\\n796,1\\n797,0\\n798,1\\n799,0\\n800,0\\n801,0\\n802,1\\n803,0\\n804,1\\n805,1\\n806,1\\n807,0\\n808,0\\n809,0\\n810,1\\n811,1\\n812,1\\n813,1\\n814,0\\n815,1\\n816,1\\n817,1\\n818,1\\n819,0\\n820,0\\n821,0\\n822,0\\n823,0\\n824,0\\n825,1\\n826,1\\n827,1\\n828,1\\n829,1\\n830,0\\n831,1\\n832,1\\n833,1\\n834,1\\n835,0\\n836,1\\n837,0\\n838,0\\n839,1\\n840,0\\n841,1\\n842,0\\n843,0\\n844,0\\n845,1\\n846,1\\n847,1\\n848,0\\n849,0\\n850,1\\n851,1\\n852,0\\n853,1\\n854,0\\n855,1\\n856,1\\n857,1\\n858,0\\n859,1\\n860,1\\n861,0\\n862,0\\n863,1\\n864,0\\n865,1\\n866,0\\n867,1\\n868,0\\n869,0\\n870,0\\n871,1\\n872,1\\n873,0\\n874,1\\n875,1\\n876,0\\n877,0\\n878,0\\n879,1\\n880,0\\n881,1\\n882,0\\n883,1\\n884,1\\n885,1\\n886,1\\n887,1\\n888,1\\n889,1\\n890,1\\n891,0\\n892,0\\n893,0\\n894,0\\n895,0\\n896,1\\n897,0\\n898,1\\n899,0\\n900,1\\n901,0\\n902,0\\n903,1\\n904,0\\n905,1\\n906,0\\n907,0\\n908,1\\n909,0\\n910,1\\n911,0\\n912,0\\n913,1\\n914,0\\n915,1\\n916,1\\n917,1\\n918,1\\n919,1\\n920,0\\n921,0\\n922,1\\n923,0\\n924,1\\n925,0\\n926,1\\n927,0\\n928,0\\n929,1\\n930,1\\n931,1\\n932,0\\n933,1\\n934,0\\n935,1\\n936,0\\n937,0\\n938,0\\n939,0\\n940,1\\n941,0\\n942,1\\n943,0\\n944,0\\n945,0\\n946,0\\n947,0\\n948,1\\n949,0\\n950,1\\n951,0\\n952,1\\n953,1\\n954,0\\n955,1\\n956,1\\n957,1\\n958,1\\n959,0\\n960,0\\n961,1\\n962,1\\n963,1\\n964,0\\n965,0\\n966,0\\n967,0\\n968,1\\n969,0\\n970,1\\n971,1\\n972,1\\n973,0\\n974,0\\n975,1\\n976,0\\n977,1\\n978,0\\n979,1\\n980,1\\n981,1\\n982,1\\n983,0\\n984,1\\n985,0\\n986,0\\n987,0\\n988,0\\n989,1\\n990,0\\n991,1\\n992,0\\n993,1\\n994,1\\n995,1\\n996,1\\n997,1\\n998,0\\n999,1\\n1000,0\\n1001,0\\n1002,1\\n1003,1\\n1004,1\\n1005,0\\n1006,0\\n1007,1\\n1008,1\\n1009,1\\n1010,1\\n1011,1\\n1012,0\\n1013,1\\n1014,1\\n1015,1\\n1016,0\\n1017,0\\n1018,0\\n1019,0\\n1020,0\\n1021,1\\n1022,1\\n1023,1\\n1024,0\\n1025,0\\n1026,0\\n1027,1\\n1028,1\\n1029,0\\n1030,0\\n1031,1\\n1032,0\\n1033,0\\n1034,0\\n1035,1\\n1036,0\\n1037,1\\n1038,1\\n1039,1\\n1040,0\\n1041,0\\n1042,0\\n1043,1\\n1044,0\\n1045,0\\n1046,1\\n1047,0\\n1048,1\\n1049,0\\n1050,1\\n1051,0\\n1052,1\\n1053,0\\n1054,1\\n1055,1\\n1056,0\\n1057,0\\n1058,1\\n1059,0\\n1060,0\\n1061,1\\n1062,1\\n1063,1\\n1064,0\\n1065,1\\n1066,1\\n1067,0\\n1068,0\\n1069,1\\n1070,0\\n1071,1\\n1072,0\\n1073,0\\n1074,0\\n1075,1\\n1076,1\\n1077,1\\n1078,1\\n1079,1\\n1080,1\\n1081,0\\n1082,0\\n1083,0\\n1084,1\\n1085,1\\n1086,1\\n1087,1\\n1088,0\\n1089,0\\n1090,0\\n1091,1\\n1092,0\\n1093,0\\n1094,0\\n1095,0\\n1096,0\\n1097,1\\n1098,1\\n1099,1\\n1100,0\\n1101,0\\n1102,0\\n1103,0\\n1104,0\\n1105,0\\n1106,0\\n1107,0\\n1108,1\\n1109,0\\n1110,0\\n1111,1\\n1112,0\\n1113,0\\n1114,0\\n1115,1\\n1116,0\\n1117,1\\n1118,0\\n1119,0\\n1120,0\\n1121,1\\n1122,0\\n1123,0\\n1124,1\\n1125,0\\n1126,1\\n1127,0\\n1128,1\\n1129,1\\n1130,1\\n1131,1\\n1132,1\\n1133,1\\n1134,1\\n1135,1\\n1136,1\\n1137,0\\n1138,0\\n1139,0\\n1140,0\\n1141,0\\n1142,1\\n1143,1\\n1144,0\\n1145,1\\n1146,1\\n1147,1\\n1148,0\\n1149,0\\n1150,0\\n1151,1\\n1152,1\\n1153,0\\n1154,0\\n1155,1\\n1156,1\\n1157,0\\n1158,0\\n1159,0\\n1160,0\\n1161,0\\n1162,1\\n1163,1\\n1164,1\\n1165,0\\n1166,0\\n1167,1\\n1168,1\\n1169,1\\n1170,1\\n1171,1\\n1172,1\\n1173,0\\n1174,1\\n1175,1\\n1176,0\\n1177,0\\n1178,0\\n1179,1\\n1180,0\\n1181,1\\n1182,1\\n1183,1\\n1184,0\\n1185,1\\n1186,1\\n1187,1\\n1188,1\\n1189,0\\n1190,1\\n1191,0\\n1192,0\\n1193,1\\n1194,0\\n1195,0\\n1196,1\\n1197,1\\n1198,0\\n1199,1\\n1200,0\\n1201,0\\n1202,0\\n1203,0\\n1204,0\\n1205,0\\n1206,1\\n1207,0\\n1208,1\\n1209,0\\n1210,0\\n1211,0\\n1212,0\\n1213,0\\n1214,0\\n1215,1\\n1216,1\\n1217,1\\n1218,0\\n1219,1\\n1220,0\\n1221,1\\n1222,0\\n1223,1\\n1224,0\\n1225,1\\n1226,1\\n1227,1\\n1228,1\\n1229,0\\n1230,0\\n1231,1\\n1232,0\\n1233,1\\n1234,1\\n1235,1\\n1236,0\\n1237,0\\n1238,0\\n1239,0\\n1240,0\\n1241,0\\n1242,1\\n1243,1\\n1244,0\\n1245,0\\n1246,1\\n1247,0\\n1248,0\\n1249,0\\n1250,1\\n1251,0\\n1252,1\\n1253,1\\n1254,1\\n1255,0\\n1256,0\\n1257,1\\n1258,0\\n1259,0\\n1260,1\\n1261,1\\n1262,1\\n1263,1\\n1264,0\\n1265,1\\n1266,1\\n1267,1\\n1268,0\\n1269,1\\n1270,0\\n1271,0\\n1272,1\\n1273,0\\n1274,1\\n1275,1\\n1276,0\\n1277,1\\n1278,0\\n1279,1\\n1280,1\\n1281,0\\n1282,0\\n1283,0\\n1284,0\\n1285,1\\n1286,1\\n1287,1\\n1288,0\\n1289,1\\n1290,0\\n1291,1\\n1292,0\\n1293,1\\n1294,0\\n1295,1\\n1296,0\\n1297,1\\n1298,0\\n1299,1\\n1300,1\\n1301,0\\n1302,1\\n1303,0\\n1304,0\\n1305,1\\n1306,0\\n1307,0\\n1308,0\\n1309,1\\n1310,1\\n1311,0\\n1312,0\\n1313,0\\n1314,1\\n1315,1\\n1316,0\\n1317,1\\n1318,0\\n1319,1\\n1320,1\\n1321,1\\n1322,0\\n1323,0\\n1324,0\\n1325,1\\n1326,0\\n1327,0\\n1328,0\\n1329,0\\n1330,1\\n1331,0\\n1332,0\\n1333,1\\n1334,1\\n1335,0\\n1336,0\\n1337,1\\n1338,0\\n1339,1\\n1340,0\\n1341,0\\n1342,1\\n1343,0\\n1344,1\\n1345,1\\n1346,0\\n1347,0\\n1348,0\\n1349,1\\n1350,1\\n1351,1\\n1352,1\\n1353,0\\n1354,1\\n1355,0\\n1356,1\\n1357,1\\n1358,0\\n1359,1\\n1360,1\\n1361,0\\n1362,1\\n1363,0\\n1364,0\\n1365,0\\n1366,0\\n1367,0\\n1368,0\\n1369,1\\n1370,1\\n1371,1\\n1372,0\\n1373,0\\n1374,1\\n1375,0\\n1376,0\\n1377,0\\n1378,0\\n1379,0\\n1380,0\\n1381,0\\n1382,0\\n1383,1\\n1384,1\\n1385,1\\n1386,0\\n1387,0\\n1388,1\\n1389,1\\n1390,1\\n1391,1\\n1392,0\\n1393,0\\n1394,1\\n1395,0\\n1396,0\\n1397,0\\n1398,1\\n1399,1\\n1400,1\\n1401,0\\n1402,1\\n1403,0\\n1404,0\\n1405,0\\n1406,1\\n1407,0\\n1408,1\\n1409,0\\n1410,0\\n1411,1\\n1412,1\\n1413,0\\n1414,0\\n1415,0\\n1416,0\\n1417,1\\n1418,1\\n1419,0\\n1420,0\\n1421,1\\n1422,0\\n1423,0\\n1424,0\\n1425,1\\n1426,0\\n1427,1\\n1428,1\\n1429,0\\n1430,0\\n1431,0\\n1432,1\\n1433,1\\n1434,0\\n1435,1\\n1436,1\\n1437,1\\n1438,1\\n1439,1\\n1440,0\\n1441,1\\n1442,1\\n1443,1\\n1444,1\\n1445,0\\n1446,0\\n1447,1\\n1448,0\\n1449,0\\n1450,1\\n1451,0\\n1452,0\\n1453,0\\n1454,1\\n1455,1\\n1456,1\\n1457,1\\n1458,0\\n1459,0\\n1460,1\\n1461,1\\n1462,1\\n1463,0\\n1464,0\\n1465,0\\n1466,0\\n1467,1\\n1468,1\\n1469,1\\n1470,0\\n1471,0\\n1472,0\\n1473,0\\n1474,1\\n1475,1\\n1476,1\\n1477,0\\n1478,1\\n1479,1\\n1480,0\\n1481,1\\n1482,1\\n1483,1\\n1484,1\\n1485,1\\n1486,1\\n1487,0\\n1488,0\\n1489,0\\n1490,0\\n1491,1\\n1492,1\\n1493,0\\n1494,0\\n1495,0\\n1496,1\\n1497,1\\n1498,0\\n1499,0\\n1500,1\\n1501,1\\n1502,1\\n1503,0\\n1504,0\\n1505,1\\n1506,1\\n1507,0\\n1508,0\\n1509,1\\n1510,0\\n1511,0\\n1512,1\\n1513,1\\n1514,0\\n1515,1\\n1516,0\\n1517,0\\n1518,0\\n1519,1\\n1520,0\\n1521,1\\n1522,1\\n1523,0\\n1524,0\\n1525,0\\n1526,0\\n1527,0\\n1528,0\\n1529,1\\n1530,0\\n1531,0\\n1532,0\\n1533,0\\n1534,1\\n1535,1\\n1536,1\\n1537,0\\n1538,0\\n1539,1\\n1540,1\\n1541,0\\n1542,1\\n1543,1\\n1544,0\\n1545,1\\n1546,0\\n1547,0\\n1548,1\\n1549,0\\n1550,1\\n1551,0\\n1552,1\\n1553,0\\n1554,1\\n1555,0\\n1556,0\\n1557,1\\n1558,1\\n1559,0\\n1560,0\\n1561,1\\n1562,0\\n1563,1\\n1564,0\\n1565,0\\n1566,1\\n1567,1\\n1568,1\\n1569,1\\n1570,1\\n1571,1\\n1572,1\\n1573,1\\n1574,0\\n1575,1\\n1576,1\\n1577,1\\n1578,1\\n1579,0\\n1580,1\\n1581,0\\n1582,0\\n1583,0\\n1584,1\\n1585,0\\n1586,1\\n1587,1\\n1588,1\\n1589,1\\n1590,1\\n1591,0\\n1592,1\\n1593,0\\n1594,0\\n1595,1\\n1596,0\\n1597,1\\n1598,1\\n1599,1\\n1600,1\\n1601,1\\n1602,1\\n1603,1\\n1604,0\\n1605,0\\n1606,1\\n1607,0\\n1608,1\\n1609,1\\n1610,0\\n1611,1\\n1612,1\\n1613,1\\n1614,0\\n1615,1\\n1616,0\\n1617,1\\n1618,1\\n1619,0\\n1620,0\\n1621,1\\n1622,1\\n1623,1\\n1624,0\\n1625,0\\n1626,1\\n1627,1\\n1628,0\\n1629,1\\n1630,1\\n1631,1\\n1632,0\\n1633,0\\n1634,0\\n1635,0\\n1636,0\\n1637,0\\n1638,1\\n1639,1\\n1640,0\\n1641,1\\n1642,1\\n1643,0\\n1644,1\\n1645,0\\n1646,1\\n1647,0\\n1648,1\\n1649,0\\n1650,1\\n1651,0\\n1652,1\\n1653,0\\n1654,1\\n1655,0\\n1656,0\\n1657,1\\n1658,0\\n1659,1\\n1660,1\\n1661,0\\n1662,0\\n1663,1\\n1664,0\\n1665,1\\n1666,0\\n1667,1\\n1668,1\\n1669,0\\n1670,1\\n1671,0\\n1672,1\\n1673,0\\n1674,1\\n1675,0\\n1676,0\\n1677,1\\n1678,0\\n1679,0\\n1680,0\\n1681,0\\n1682,1\\n1683,1\\n1684,1\\n1685,0\\n1686,0\\n1687,1\\n1688,1\\n1689,0\\n1690,0\\n1691,0\\n1692,1\\n1693,1\\n1694,0\\n1695,0\\n1696,1\\n1697,1\\n1698,0\\n1699,1\\n1700,1\\n1701,1\\n1702,1\\n1703,1\\n1704,0\\n1705,0\\n1706,1\\n1707,0\\n1708,1\\n1709,0\\n1710,1\\n1711,1\\n1712,1\\n1713,1\\n1714,0\\n1715,0\\n1716,1\\n1717,1\\n1718,0\\n1719,1\\n1720,1\\n1721,0\\n1722,0\\n1723,0\\n1724,1\\n1725,1\\n1726,0\\n1727,0\\n1728,0\\n1729,1\\n1730,0\\n1731,0\\n1732,1\\n1733,0\\n1734,0\\n1735,0\\n1736,0\\n1737,0\\n1738,0\\n1739,1\\n1740,0\\n1741,1\\n1742,0\\n1743,0\\n1744,0\\n1745,0\\n1746,1\\n1747,1\\n1748,1\\n1749,1\\n1750,0\\n1751,0\\n1752,1\\n1753,1\\n1754,1\\n1755,0\\n1756,1\\n1757,1\\n1758,1\\n1759,0\\n1760,0\\n1761,1\\n1762,1\\n1763,0\\n1764,0\\n1765,0\\n1766,1\\n1767,0\\n1768,1\\n1769,1\\n1770,0\\n1771,0\\n1772,1\\n1773,0\\n1774,0\\n1775,0\\n1776,0\\n1777,1\\n1778,1\\n1779,0\\n1780,1\\n1781,0\\n1782,0\\n1783,0\\n1784,1\\n1785,1\\n1786,1\\n1787,1\\n1788,1\\n1789,0\\n1790,0\\n1791,1\\n1792,1\\n1793,0\\n1794,1\\n1795,0\\n1796,1\\n1797,1\\n1798,1\\n1799,1\\n1800,1\\n1801,0\\n1802,0\\n1803,1\\n1804,0\\n1805,1\\n1806,0\\n1807,0\\n1808,0\\n1809,1\\n1810,1\\n1811,0\\n1812,1\\n1813,1\\n1814,1\\n1815,0\\n1816,1\\n1817,0\\n1818,0\\n1819,0\\n1820,0\\n1821,1\\n1822,1\\n1823,0\\n1824,0\\n1825,0\\n1826,1\\n1827,1\\n1828,1\\n1829,0\\n1830,1\\n1831,1\\n1832,0\\n1833,1\\n1834,1\\n1835,0\\n1836,1\\n1837,1\\n1838,1\\n1839,0\\n1840,1\\n1841,1\\n1842,0\\n1843,1\\n1844,1\\n1845,0\\n1846,1\\n1847,0\\n1848,0\\n1849,1\\n1850,1\\n1851,0\\n1852,1\\n1853,0\\n1854,1\\n1855,0\\n1856,0\\n1857,1\\n1858,0\\n1859,0\\n1860,0\\n1861,0\\n1862,1\\n1863,0\\n1864,1\\n1865,1\\n1866,0\\n1867,1\\n1868,1\\n1869,0\\n1870,1\\n1871,1\\n1872,1\\n1873,1\\n1874,1\\n1875,0\\n1876,0\\n1877,1\\n1878,0\\n1879,0\\n1880,1\\n1881,0\\n1882,0\\n1883,0\\n1884,0\\n1885,0\\n1886,0\\n1887,1\\n1888,0\\n1889,1\\n1890,1\\n1891,1\\n1892,1\\n1893,0\\n1894,1\\n1895,1\\n1896,1\\n1897,1\\n1898,1\\n1899,0\\n1900,1\\n1901,0\\n1902,0\\n1903,1\\n1904,1\\n1905,0\\n1906,0\\n1907,0\\n1908,1\\n1909,0\\n1910,0\\n1911,0\\n1912,1\\n1913,0\\n1914,1\\n1915,0\\n1916,1\\n1917,1\\n1918,0\\n1919,0\\n1920,0\\n1921,0\\n1922,1\\n1923,1\\n1924,0\\n1925,1\\n1926,0\\n1927,0\\n1928,0\\n1929,0\\n1930,1\\n1931,0\\n1932,1\\n1933,1\\n1934,0\\n1935,0\\n1936,1\\n1937,1\\n1938,1\\n1939,1\\n1940,1\\n1941,1\\n1942,1\\n1943,1\\n1944,0\\n1945,0\\n1946,1\\n1947,1\\n1948,1\\n1949,1\\n1950,1\\n1951,1\\n1952,1\\n1953,1\\n1954,0\\n1955,1\\n1956,0\\n1957,0\\n1958,0\\n1959,0\\n1960,1\\n1961,1\\n1962,0\\n1963,0\\n1964,1\\n1965,0\\n1966,1\\n1967,1\\n1968,0\\n1969,1\\n1970,1\\n1971,1\\n1972,1\\n1973,1\\n1974,0\\n1975,1\\n1976,1\\n1977,0\\n1978,1\\n1979,0\\n1980,0\\n1981,1\\n1982,1\\n1983,1\\n1984,0\\n1985,0\\n1986,1\\n1987,1\\n1988,1\\n1989,1\\n1990,0\\n1991,0\\n1992,0\\n1993,0\\n1994,1\\n1995,0\\n1996,0\\n1997,0\\n1998,1\\n1999,1\\n2000,0\\n2001,0\\n2002,1\\n2003,1\\n2004,0\\n2005,1\\n2006,1\\n2007,0\\n2008,0\\n2009,1\\n2010,1\\n2011,0\\n2012,1\\n2013,0\\n2014,0\\n2015,0\\n2016,0\\n2017,0\\n2018,1\\n2019,0\\n2020,1\\n2021,0\\n2022,0\\n2023,0\\n2024,1\\n2025,1\\n2026,0\\n2027,0\\n2028,1\\n2029,1\\n2030,0\\n2031,0\\n2032,1\\n2033,1\\n2034,1\\n2035,0\\n2036,1\\n2037,0\\n2038,1\\n2039,1\\n2040,1\\n2041,0\\n2042,1\\n2043,1\\n2044,0\\n2045,1\\n2046,1\\n2047,1\\n2048,1\\n2049,0\\n2050,1\\n2051,1\\n2052,1\\n2053,1\\n2054,0\\n2055,1\\n2056,0\\n2057,0\\n2058,0\\n2059,1\\n2060,1\\n2061,1\\n2062,1\\n2063,0\\n2064,1\\n2065,0\\n2066,1\\n2067,1\\n2068,1\\n2069,1\\n2070,1\\n2071,1\\n2072,0\\n2073,1\\n2074,0\\n2075,1\\n2076,1\\n2077,0\\n2078,0\\n2079,0\\n2080,0\\n2081,1\\n2082,1\\n2083,1\\n2084,0\\n2085,0\\n2086,1\\n2087,0\\n2088,1\\n2089,0\\n2090,1\\n2091,0\\n2092,1\\n2093,1\\n2094,1\\n2095,0\\n2096,0\\n2097,0\\n2098,0\\n2099,1\\n2100,0\\n2101,0\\n2102,0\\n2103,0\\n2104,1\\n2105,0\\n2106,1\\n2107,1\\n2108,1\\n2109,0\\n2110,1\\n2111,1\\n2112,0\\n2113,1\\n2114,0\\n2115,1\\n2116,0\\n2117,0\\n2118,1\\n2119,0\\n2120,0\\n2121,1\\n2122,0\\n2123,0\\n2124,1\\n2125,1\\n2126,0\\n2127,1\\n2128,0\\n2129,1\\n2130,1\\n2131,1\\n2132,1\\n2133,0\\n2134,1\\n2135,1\\n2136,1\\n2137,1\\n2138,0\\n2139,1\\n2140,1\\n2141,1\\n2142,1\\n2143,0\\n2144,1\\n2145,1\\n2146,1\\n2147,1\\n2148,0\\n2149,1\\n2150,0\\n2151,1\\n2152,0\\n2153,1\\n2154,0\\n2155,1\\n2156,1\\n2157,1\\n2158,0\\n2159,0\\n2160,1\\n2161,1\\n2162,1\\n2163,0\\n2164,1\\n2165,0\\n2166,1\\n2167,1\\n2168,0\\n2169,1\\n2170,0\\n2171,0\\n2172,0\\n2173,0\\n2174,1\\n2175,1\\n2176,1\\n2177,1\\n2178,1\\n2179,1\\n2180,1\\n2181,0\\n2182,1\\n2183,1\\n2184,1\\n2185,0\\n2186,1\\n2187,1\\n2188,0\\n2189,1\\n2190,1\\n2191,0\\n2192,1\\n2193,1\\n2194,0\\n2195,1\\n2196,1\\n2197,0\\n2198,0\\n2199,1\\n2200,1\\n2201,0\\n2202,1\\n2203,1\\n2204,1\\n2205,1\\n2206,1\\n2207,0\\n2208,0\\n2209,1\\n2210,1\\n2211,1\\n2212,1\\n2213,0\\n2214,1\\n2215,1\\n2216,1\\n2217,0\\n2218,1\\n2219,1\\n2220,1\\n2221,1\\n2222,0\\n2223,1\\n2224,1\\n2225,1\\n2226,0\\n2227,0\\n2228,0\\n2229,1\\n2230,0\\n2231,1\\n2232,1\\n2233,1\\n2234,1\\n2235,0\\n2236,1\\n2237,1\\n2238,0\\n2239,1\\n2240,0\\n2241,0\\n2242,1\\n2243,1\\n2244,0\\n2245,0\\n2246,0\\n2247,1\\n2248,0\\n2249,1\\n2250,1\\n2251,1\\n2252,0\\n2253,1\\n2254,1\\n2255,0\\n2256,1\\n2257,0\\n2258,1\\n2259,0\\n2260,1\\n2261,1\\n2262,0\\n2263,1\\n2264,1\\n2265,0\\n2266,1\\n2267,0\\n2268,1\\n2269,0\\n2270,1\\n2271,1\\n2272,1\\n2273,0\\n2274,0\\n2275,0\\n2276,1\\n2277,0\\n2278,1\\n2279,1\\n2280,0\\n2281,0\\n2282,1\\n2283,1\\n2284,1\\n2285,1\\n2286,0\\n2287,1\\n2288,1\\n2289,0\\n2290,0\\n2291,0\\n2292,1\\n2293,1\\n2294,0\\n2295,1\\n2296,0\\n2297,1\\n2298,0\\n2299,0\\n2300,1\\n2301,0\\n2302,0\\n2303,1\\n2304,0\\n2305,0\\n2306,0\\n2307,1\\n2308,1\\n2309,0\\n2310,1\\n2311,0\\n2312,1\\n2313,1\\n2314,0\\n2315,1\\n2316,0\\n2317,0\\n2318,1\\n2319,1\\n2320,1\\n2321,0\\n2322,1\\n2323,1\\n2324,0\\n2325,0\\n2326,0\\n2327,0\\n2328,0\\n2329,0\\n2330,1\\n2331,1\\n2332,1\\n2333,0\\n2334,0\\n2335,0\\n2336,0\\n2337,1\\n2338,0\\n2339,0\\n2340,1\\n2341,1\\n2342,0\\n2343,1\\n2344,0\\n2345,1\\n2346,0\\n2347,1\\n2348,1\\n2349,1\\n2350,0\\n2351,0\\n2352,0\\n2353,0\\n2354,0\\n2355,0\\n2356,0\\n2357,1\\n2358,0\\n2359,0\\n2360,1\\n2361,0\\n2362,1\\n2363,0\\n2364,1\\n2365,1\\n2366,1\\n2367,0\\n2368,1\\n2369,1\\n2370,0\\n2371,0\\n2372,1\\n2373,0\\n2374,1\\n2375,0\\n2376,1\\n2377,0\\n2378,1\\n2379,0\\n2380,1\\n2381,0\\n2382,1\\n2383,1\\n2384,0\\n2385,0\\n2386,1\\n2387,0\\n2388,1\\n2389,0\\n2390,0\\n2391,0\\n2392,1\\n2393,1\\n2394,1\\n2395,1\\n2396,1\\n2397,1\\n2398,0\\n2399,1\\n2400,1\\n2401,0\\n2402,0\\n2403,0\\n2404,1\\n2405,0\\n2406,1\\n2407,0\\n2408,1\\n2409,0\\n2410,1\\n2411,1\\n2412,1\\n2413,0\\n2414,1\\n2415,0\\n2416,0\\n2417,1\\n2418,0\\n2419,1\\n2420,1\\n2421,0\\n2422,1\\n2423,1\\n2424,1\\n2425,1\\n2426,1\\n2427,1\\n2428,0\\n2429,1\\n2430,0\\n2431,0\\n2432,0\\n2433,1\\n2434,1\\n2435,0\\n2436,1\\n2437,0\\n2438,0\\n2439,0\\n2440,1\\n2441,0\\n2442,0\\n2443,1\\n2444,0\\n2445,0\\n2446,0\\n2447,0\\n2448,0\\n2449,0\\n2450,1\\n2451,0\\n2452,1\\n2453,0\\n2454,1\\n2455,0\\n2456,0\\n2457,0\\n2458,1\\n2459,0\\n2460,1\\n2461,0\\n2462,0\\n2463,1\\n2464,0\\n2465,0\\n2466,1\\n2467,1\\n2468,0\\n2469,0\\n2470,0\\n2471,0\\n2472,0\\n2473,0\\n2474,0\\n2475,0\\n2476,0\\n2477,0\\n2478,0\\n2479,0\\n2480,0\\n2481,0\\n2482,1\\n2483,1\\n2484,0\\n2485,0\\n2486,0\\n2487,1\\n2488,1\\n2489,0\\n2490,0\\n2491,0\\n2492,0\\n2493,1\\n2494,1\\n2495,1\\n2496,0\\n2497,0\\n2498,0\\n2499,1\\n2500,1\\n2501,0\\n2502,0\\n2503,1\\n2504,0\\n2505,0\\n2506,0\\n2507,0\\n2508,1\\n2509,1\\n2510,1\\n2511,1\\n2512,0\\n2513,0\\n2514,1\\n2515,0\\n2516,1\\n2517,1\\n2518,0\\n2519,0\\n2520,1\\n2521,0\\n2522,1\\n2523,1\\n2524,0\\n2525,0\\n2526,1\\n2527,0\\n2528,0\\n2529,1\\n2530,0\\n2531,0\\n2532,1\\n2533,1\\n2534,1\\n2535,1\\n2536,0\\n2537,0\\n2538,1\\n2539,1\\n2540,0\\n2541,1\\n2542,0\\n2543,1\\n2544,1\\n2545,1\\n2546,0\\n2547,0\\n2548,1\\n2549,1\\n2550,1\\n2551,1\\n2552,0\\n2553,1\\n2554,1\\n2555,1\\n2556,1\\n2557,1\\n2558,0\\n2559,0\\n2560,0\\n2561,1\\n2562,1\\n2563,0\\n2564,1\\n2565,1\\n2566,1\\n2567,1\\n2568,0\\n2569,1\\n2570,0\\n2571,1\\n2572,0\\n2573,0\\n2574,0\\n2575,0\\n2576,0\\n2577,1\\n2578,1\\n2579,0\\n2580,1\\n2581,0\\n2582,0\\n2583,0\\n2584,1\\n2585,1\\n2586,1\\n2587,1\\n2588,1\\n2589,0\\n2590,1\\n2591,1\\n2592,0\\n2593,1\\n2594,1\\n2595,1\\n2596,1\\n2597,0\\n2598,1\\n2599,1\\n2600,1\\n2601,1\\n2602,1\\n2603,0\\n2604,1\\n2605,1\\n2606,1\\n2607,0\\n2608,1\\n2609,1\\n2610,0\\n2611,0\\n2612,0\\n2613,1\\n2614,0\\n2615,1\\n2616,0\\n2617,1\\n2618,1\\n2619,1\\n2620,0\\n2621,1\\n2622,0\\n2623,1\\n2624,0\\n2625,1\\n2626,0\\n2627,1\\n2628,0\\n2629,1\\n2630,1\\n2631,0\\n2632,0\\n2633,0\\n2634,1\\n2635,0\\n2636,1\\n2637,0\\n2638,1\\n2639,1\\n2640,1\\n2641,1\\n2642,1\\n2643,0\\n2644,1\\n2645,1\\n2646,0\\n2647,0\\n2648,0\\n2649,0\\n2650,1\\n2651,1\\n2652,1\\n2653,0\\n2654,1\\n2655,0\\n2656,1\\n2657,0\\n2658,1\\n2659,0\\n2660,1\\n2661,0\\n2662,1\\n2663,1\\n2664,0\\n2665,1\\n2666,1\\n2667,1\\n2668,0\\n2669,0\\n2670,0\\n2671,1\\n2672,1\\n2673,1\\n2674,1\\n2675,0\\n2676,0\\n2677,1\\n2678,1\\n2679,1\\n2680,0\\n2681,1\\n2682,1\\n2683,1\\n2684,0\\n2685,0\\n2686,1\\n2687,0\\n2688,0\\n2689,1\\n2690,1\\n2691,0\\n2692,1\\n2693,0\\n2694,0\\n2695,1\\n2696,1\\n2697,0\\n2698,0\\n2699,0\\n2700,1\\n2701,1\\n2702,0\\n2703,1\\n2704,0\\n2705,0\\n2706,1\\n2707,1\\n2708,1\\n2709,1\\n2710,1\\n2711,0\\n2712,0\\n2713,1\\n2714,0\\n2715,0\\n2716,0\\n2717,0\\n2718,0\\n2719,0\\n2720,1\\n2721,0\\n2722,1\\n2723,0\\n2724,0\\n2725,1\\n2726,0\\n2727,1\\n2728,0\\n2729,0\\n2730,1\\n2731,0\\n2732,1\\n2733,1\\n2734,1\\n2735,1\\n2736,1\\n2737,0\\n2738,0\\n2739,0\\n2740,1\\n2741,0\\n2742,0\\n2743,1\\n2744,1\\n2745,1\\n2746,1\\n2747,1\\n2748,0\\n2749,0\\n2750,1\\n2751,0\\n2752,0\\n2753,0\\n2754,0\\n2755,0\\n2756,0\\n2757,1\\n2758,0\\n2759,0\\n2760,0\\n2761,0\\n2762,1\\n2763,1\\n2764,1\\n2765,0\\n2766,0\\n2767,0\\n2768,0\\n2769,1\\n2770,1\\n2771,0\\n2772,0\\n2773,0\\n2774,0\\n2775,0\\n2776,0\\n2777,0\\n2778,0\\n2779,0\\n2780,0\\n2781,1\\n2782,0\\n2783,1\\n2784,0\\n2785,0\\n2786,1\\n2787,0\\n2788,0\\n2789,0\\n2790,1\\n2791,1\\n2792,1\\n2793,1\\n2794,1\\n2795,1\\n2796,1\\n2797,0\\n2798,1\\n2799,1\\n2800,0\\n2801,1\\n2802,1\\n2803,0\\n2804,0\\n2805,0\\n2806,0\\n2807,0\\n2808,1\\n2809,0\\n2810,1\\n2811,1\\n2812,1\\n2813,1\\n2814,0\\n2815,1\\n2816,0\\n2817,1\\n2818,1\\n2819,0\\n2820,1\\n2821,1\\n2822,1\\n2823,0\\n2824,1\\n2825,0\\n2826,1\\n2827,0\\n2828,1\\n2829,1\\n2830,0\\n2831,0\\n2832,1\\n2833,1\\n2834,1\\n2835,0\\n2836,0\\n2837,1\\n2838,1\\n2839,1\\n2840,1\\n2841,0\\n2842,1\\n2843,1\\n2844,0\\n2845,0\\n2846,0\\n2847,0\\n2848,1\\n2849,0\\n2850,0\\n2851,1\\n2852,0\\n2853,0\\n2854,0\\n2855,0\\n2856,1\\n2857,0\\n2858,0\\n2859,0\\n2860,0\\n2861,1\\n2862,0\\n2863,0\\n2864,0\\n2865,1\\n2866,1\\n2867,0\\n2868,1\\n2869,1\\n2870,1\\n2871,0\\n2872,1\\n2873,0\\n2874,0\\n2875,0\\n2876,1\\n2877,1\\n2878,0\\n2879,0\\n2880,0\\n2881,0\\n2882,0\\n2883,0\\n2884,0\\n2885,1\\n2886,1\\n2887,1\\n2888,0\\n2889,1\\n2890,1\\n2891,1\\n2892,1\\n2893,0\\n2894,0\\n2895,1\\n2896,1\\n2897,0\\n2898,1\\n2899,1\\n2900,1\\n2901,0\\n2902,0\\n2903,0\\n2904,1\\n2905,0\\n2906,1\\n2907,1\\n2908,0\\n2909,0\\n2910,1\\n2911,1\\n2912,1\\n2913,1\\n2914,1\\n2915,1\\n2916,0\\n2917,1\\n2918,1\\n2919,1\\n2920,0\\n2921,0\\n2922,1\\n2923,1\\n2924,1\\n2925,0\\n2926,0\\n2927,1\\n2928,0\\n2929,1\\n2930,1\\n2931,1\\n2932,0\\n2933,0\\n2934,0\\n2935,0\\n2936,0\\n2937,0\\n2938,1\\n2939,1\\n2940,1\\n2941,0\\n2942,1\\n2943,0\\n2944,0\\n2945,0\\n2946,0\\n2947,0\\n2948,1\\n2949,1\\n2950,0\\n2951,1\\n2952,0\\n2953,0\\n2954,1\\n2955,1\\n2956,0\\n2957,1\\n2958,1\\n2959,1\\n2960,1\\n2961,1\\n2962,0\\n2963,0\\n2964,0\\n2965,0\\n2966,0\\n2967,1\\n2968,1\\n2969,0\\n2970,0\\n2971,1\\n2972,0\\n2973,1\\n2974,0\\n2975,0\\n2976,0\\n2977,0\\n2978,0\\n2979,1\\n2980,1\\n2981,0\\n2982,0\\n2983,0\\n2984,0\\n2985,0\\n2986,0\\n2987,1\\n2988,0\\n2989,1\\n2990,0\\n2991,1\\n2992,1\\n2993,1\\n2994,0\\n2995,1\\n2996,1\\n2997,0\\n2998,1\\n2999,0\\n3000,1\\n3001,1\\n3002,0\\n3003,0\\n3004,0\\n3005,1\\n3006,1\\n3007,0\\n3008,1\\n3009,0\\n3010,1\\n3011,0\\n3012,0\\n3013,1\\n3014,1\\n3015,0\\n3016,0\\n3017,0\\n3018,0\\n3019,1\\n3020,1\\n3021,0\\n3022,1\\n3023,0\\n3024,1\\n3025,0\\n3026,1\\n3027,0\\n3028,0\\n3029,1\\n3030,0\\n3031,1\\n3032,1\\n3033,0\\n3034,1\\n3035,0\\n3036,0\\n3037,0\\n3038,1\\n3039,1\\n3040,1\\n3041,1\\n3042,0\\n3043,1\\n3044,1\\n3045,1\\n3046,0\\n3047,1\\n3048,0\\n3049,1\\n3050,0\\n3051,1\\n3052,0\\n3053,1\\n3054,0\\n3055,1\\n3056,1\\n3057,0\\n3058,0\\n3059,0\\n3060,0\\n3061,0\\n3062,1\\n3063,1\\n3064,0\\n3065,1\\n3066,1\\n3067,1\\n3068,0\\n3069,1\\n3070,0\\n3071,1\\n3072,1\\n3073,0\\n3074,0\\n3075,1\\n3076,0\\n3077,1\\n3078,0\\n3079,0\\n3080,0\\n3081,1\\n3082,1\\n3083,0\\n3084,1\\n3085,1\\n3086,0\\n3087,0\\n3088,1\\n3089,0\\n3090,0\\n3091,1\\n3092,1\\n3093,1\\n3094,1\\n3095,0\\n3096,0\\n3097,0\\n3098,0\\n3099,1\\n3100,1\\n3101,1\\n3102,0\\n3103,1\\n3104,0\\n3105,0\\n3106,0\\n3107,0\\n3108,1\\n3109,0\\n3110,0\\n3111,1\\n3112,0\\n3113,0\\n3114,0\\n3115,0\\n3116,1\\n3117,1\\n3118,0\\n3119,0\\n3120,0\\n3121,0\\n3122,0\\n3123,1\\n3124,0\\n3125,0\\n3126,0\\n3127,0\\n3128,0\\n3129,0\\n3130,1\\n3131,1\\n3132,0\\n3133,1\\n3134,1\\n3135,1\\n3136,0\\n3137,1\\n3138,1\\n3139,1\\n3140,1\\n3141,0\\n3142,0\\n3143,0\\n3144,1\\n3145,1\\n3146,1\\n3147,0\\n3148,1\\n3149,0\\n3150,0\\n3151,0\\n3152,0\\n3153,1\\n3154,0\\n3155,0\\n3156,1\\n3157,1\\n3158,1\\n3159,1\\n3160,0\\n3161,0\\n3162,0\\n3163,0\\n3164,0\\n3165,1\\n3166,0\\n3167,0\\n3168,1\\n3169,0\\n3170,1\\n3171,1\\n3172,1\\n3173,1\\n3174,1\\n3175,0\\n3176,1\\n3177,1\\n3178,1\\n3179,1\\n3180,1\\n3181,1\\n3182,1\\n3183,0\\n3184,1\\n3185,1\\n3186,1\\n3187,0\\n3188,1\\n3189,1\\n3190,1\\n3191,0\\n3192,0\\n3193,1\\n3194,1\\n3195,1\\n3196,0\\n3197,0\\n3198,0\\n3199,1\\n3200,1\\n3201,1\\n3202,1\\n3203,0\\n3204,0\\n3205,1\\n3206,0\\n3207,0\\n3208,0\\n3209,0\\n3210,0\\n3211,0\\n3212,1\\n3213,0\\n3214,0\\n3215,1\\n3216,0\\n3217,1\\n3218,1\\n3219,1\\n3220,1\\n3221,1\\n3222,1\\n3223,0\\n3224,1\\n3225,0\\n3226,1\\n3227,0\\n3228,0\\n3229,1\\n3230,1\\n3231,0\\n3232,1\\n3233,0\\n3234,1\\n3235,1\\n3236,1\\n3237,1\\n3238,0\\n3239,1\\n3240,1\\n3241,0\\n3242,0\\n3243,0\\n3244,1\\n3245,0\\n3246,1\\n3247,0\\n3248,0\\n3249,1\\n3250,1\\n3251,0\\n3252,1\\n3253,1\\n3254,0\\n3255,0\\n3256,1\\n3257,0\\n3258,1\\n3259,1\\n3260,1\\n3261,1\\n3262,0\\n3263,1\\n3264,1\\n3265,1\\n3266,0\\n3267,0\\n3268,1\\n3269,1\\n3270,1\\n3271,0\\n3272,1\\n3273,1\\n3274,1\\n3275,1\\n3276,0\\n3277,1\\n3278,1\\n3279,1\\n3280,0\\n3281,0\\n3282,1\\n3283,0\\n3284,0\\n3285,0\\n3286,0\\n3287,1\\n3288,0\\n3289,0\\n3290,0\\n3291,1\\n3292,0\\n3293,0\\n3294,1\\n3295,0\\n3296,0\\n3297,0\\n3298,0\\n3299,1\\n3300,1\\n3301,1\\n3302,0\\n3303,0\\n3304,1\\n3305,0\\n3306,0\\n3307,1\\n3308,1\\n3309,0\\n3310,0\\n3311,1\\n3312,0\\n3313,1\\n3314,0\\n3315,1\\n3316,0\\n3317,0\\n3318,0\\n3319,0\\n3320,1\\n3321,1\\n3322,0\\n3323,0\\n3324,0\\n3325,0\\n3326,0\\n3327,1\\n3328,1\\n3329,0\\n3330,1\\n3331,0\\n3332,1\\n3333,1\\n3334,1\\n3335,0\\n3336,0\\n3337,1\\n3338,0\\n3339,0\\n3340,1\\n3341,1\\n3342,0\\n3343,0\\n3344,0\\n3345,1\\n3346,1\\n3347,0\\n3348,0\\n3349,0\\n3350,1\\n3351,1\\n3352,0\\n3353,0\\n3354,1\\n3355,1\\n3356,1\\n3357,0\\n3358,1\\n3359,1\\n3360,0\\n3361,1\\n3362,0\\n3363,0\\n3364,1\\n3365,1\\n3366,0\\n3367,0\\n3368,0\\n3369,0\\n3370,0\\n3371,1\\n3372,1\\n3373,1\\n3374,0\\n3375,1\\n3376,0\\n3377,0\\n3378,1\\n3379,1\\n3380,0\\n3381,1\\n3382,1\\n3383,0\\n3384,0\\n3385,1\\n3386,1\\n3387,1\\n3388,1\\n3389,1\\n3390,1\\n3391,0\\n3392,1\\n3393,0\\n3394,0\\n3395,1\\n3396,1\\n3397,0\\n3398,1\\n3399,0\\n3400,1\\n3401,1\\n3402,1\\n3403,0\\n3404,0\\n3405,1\\n3406,1\\n3407,0\\n3408,1\\n3409,1\\n3410,0\\n3411,1\\n3412,1\\n3413,1\\n3414,1\\n3415,1\\n3416,0\\n3417,0\\n3418,0\\n3419,0\\n3420,0\\n3421,0\\n3422,0\\n3423,0\\n3424,1\\n3425,1\\n3426,1\\n3427,0\\n3428,1\\n3429,1\\n3430,0\\n3431,0\\n3432,0\\n3433,0\\n3434,1\\n3435,0\\n3436,0\\n3437,1\\n3438,0\\n3439,0\\n3440,1\\n3441,0\\n3442,1\\n3443,0\\n3444,0\\n3445,1\\n3446,0\\n3447,0\\n3448,1\\n3449,1\\n3450,1\\n3451,0\\n3452,1\\n3453,1\\n3454,0\\n3455,0\\n3456,1\\n3457,0\\n3458,0\\n3459,0\\n3460,1\\n3461,1\\n3462,1\\n3463,1\\n3464,1\\n3465,0\\n3466,0\\n3467,0\\n3468,0\\n3469,0\\n3470,1\\n3471,0\\n3472,1\\n3473,1\\n3474,1\\n3475,0\\n3476,1\\n3477,1\\n3478,1\\n3479,1\\n3480,1\\n3481,0\\n3482,0\\n3483,1\\n3484,1\\n3485,1\\n3486,0\\n3487,0\\n3488,1\\n3489,1\\n3490,1\\n3491,0\\n3492,0\\n3493,0\\n3494,1\\n3495,1\\n3496,1\\n3497,0\\n3498,1\\n3499,1\\n3500,0\\n3501,1\\n3502,1\\n3503,1\\n3504,0\\n3505,1\\n3506,1\\n3507,1\\n3508,0\\n3509,1\\n3510,1\\n3511,1\\n3512,1\\n3513,1\\n3514,1\\n3515,1\\n3516,1\\n3517,1\\n3518,1\\n3519,1\\n3520,1\\n3521,1\\n3522,1\\n3523,0\\n3524,1\\n3525,1\\n3526,0\\n3527,1\\n3528,0\\n3529,1\\n3530,1\\n3531,0\\n3532,0\\n3533,1\\n3534,0\\n3535,1\\n3536,0\\n3537,0\\n3538,0\\n3539,0\\n3540,0\\n3541,1\\n3542,1\\n3543,1\\n3544,1\\n3545,1\\n3546,1\\n3547,0\\n3548,1\\n3549,0\\n3550,1\\n3551,1\\n3552,0\\n3553,1\\n3554,1\\n3555,0\\n3556,1\\n3557,1\\n3558,0\\n3559,1\\n3560,0\\n3561,1\\n3562,0\\n3563,1\\n3564,0\\n3565,0\\n3566,1\\n3567,1\\n3568,1\\n3569,0\\n3570,1\\n3571,0\\n3572,0\\n3573,1\\n3574,1\\n3575,0\\n3576,1\\n3577,1\\n3578,0\\n3579,1\\n3580,1\\n3581,0\\n3582,0\\n3583,1\\n3584,1\\n3585,0\\n3586,1\\n3587,0\\n3588,1\\n3589,0\\n3590,0\\n3591,1\\n3592,1\\n3593,1\\n3594,1\\n3595,1\\n3596,1\\n3597,1\\n3598,0\\n3599,0\\n3600,1\\n3601,1\\n3602,0\\n3603,0\\n3604,0\\n3605,0\\n3606,1\\n3607,1\\n3608,1\\n3609,1\\n3610,1\\n3611,1\\n3612,1\\n3613,0\\n3614,0\\n3615,0\\n3616,1\\n3617,0\\n3618,1\\n3619,0\\n3620,1\\n3621,0\\n3622,0\\n3623,1\\n3624,0\\n3625,0\\n3626,0\\n3627,1\\n3628,0\\n3629,0\\n3630,0\\n3631,1\\n3632,1\\n3633,0\\n3634,0\\n3635,0\\n3636,1\\n3637,0\\n3638,1\\n3639,0\\n3640,0\\n3641,0\\n3642,1\\n3643,1\\n3644,1\\n3645,1\\n3646,1\\n3647,1\\n3648,1\\n3649,0\\n3650,1\\n3651,0\\n3652,1\\n3653,0\\n3654,1\\n3655,1\\n3656,0\\n3657,1\\n3658,1\\n3659,0\\n3660,0\\n3661,1\\n3662,1\\n3663,0\\n3664,1\\n3665,1\\n3666,0\\n3667,0\\n3668,0\\n3669,0\\n3670,1\\n3671,0\\n3672,1\\n3673,1\\n3674,0\\n3675,1\\n3676,1\\n3677,1\\n3678,0\\n3679,0\\n3680,1\\n3681,0\\n3682,1\\n3683,0\\n3684,0\\n3685,1\\n3686,0\\n3687,0\\n3688,1\\n3689,1\\n3690,1\\n3691,1\\n3692,1\\n3693,0\\n3694,1\\n3695,1\\n3696,1\\n3697,0\\n3698,0\\n3699,1\\n3700,0\\n3701,1\\n3702,0\\n3703,0\\n3704,0\\n3705,0\\n3706,0\\n3707,1\\n3708,1\\n3709,1\\n3710,1\\n3711,0\\n3712,0\\n3713,0\\n3714,1\\n3715,1\\n3716,0\\n3717,1\\n3718,0\\n3719,1\\n3720,1\\n3721,0\\n3722,1\\n3723,0\\n3724,1\\n3725,0\\n3726,0\\n3727,0\\n3728,1\\n3729,0\\n3730,0\\n3731,0\\n3732,0\\n3733,0\\n3734,1\\n3735,0\\n3736,0\\n3737,0\\n3738,0\\n3739,0\\n3740,1\\n3741,0\\n3742,1\\n3743,1\\n3744,1\\n3745,1\\n3746,1\\n3747,0\\n3748,1\\n3749,0\\n3750,1\\n3751,1\\n3752,0\\n3753,1\\n3754,0\\n3755,1\\n3756,1\\n3757,0\\n3758,0\\n3759,1\\n3760,1\\n3761,0\\n3762,0\\n3763,1\\n3764,0\\n3765,1\\n3766,1\\n3767,0\\n3768,0\\n3769,1\\n3770,0\\n3771,1\\n3772,1\\n3773,1\\n3774,1\\n3775,0\\n3776,0\\n3777,1\\n3778,0\\n3779,0\\n3780,1\\n3781,0\\n3782,0\\n3783,0\\n3784,1\\n3785,1\\n3786,1\\n3787,0\\n3788,1\\n3789,1\\n3790,0\\n3791,0\\n3792,0\\n3793,1\\n3794,1\\n3795,0\\n3796,1\\n3797,0\\n3798,1\\n3799,0\\n3800,1\\n3801,1\\n3802,1\\n3803,1\\n3804,0\\n3805,0\\n3806,0\\n3807,1\\n3808,1\\n3809,1\\n3810,0\\n3811,0\\n3812,1\\n3813,1\\n3814,1\\n3815,1\\n3816,1\\n3817,1\\n3818,1\\n3819,0\\n3820,1\\n3821,1\\n3822,1\\n3823,0\\n3824,0\\n3825,0\\n3826,0\\n3827,1\\n3828,0\\n3829,1\\n3830,1\\n3831,1\\n3832,1\\n3833,0\\n3834,0\\n3835,0\\n3836,0\\n3837,1\\n3838,0\\n3839,0\\n3840,0\\n3841,1\\n3842,1\\n3843,0\\n3844,1\\n3845,1\\n3846,1\\n3847,0\\n3848,0\\n3849,1\\n3850,0\\n3851,1\\n3852,1\\n3853,0\\n3854,0\\n3855,0\\n3856,0\\n3857,1\\n3858,0\\n3859,0\\n3860,0\\n3861,0\\n3862,0\\n3863,1\\n3864,1\\n3865,1\\n3866,1\\n3867,1\\n3868,1\\n3869,1\\n3870,0\\n3871,0\\n3872,1\\n3873,0\\n3874,1\\n3875,0\\n3876,0\\n3877,1\\n3878,0\\n3879,0\\n3880,1\\n3881,1\\n3882,1\\n3883,0\\n3884,1\\n3885,1\\n3886,1\\n3887,0\\n3888,1\\n3889,0\\n3890,0\\n3891,0\\n3892,0\\n3893,1\\n3894,0\\n3895,1\\n3896,1\\n3897,0\\n3898,0\\n3899,0\\n3900,1\\n3901,0\\n3902,1\\n3903,0\\n3904,1\\n3905,0\\n3906,0\\n3907,0\\n3908,1\\n3909,1\\n3910,1\\n3911,0\\n3912,0\\n3913,0\\n3914,0\\n3915,1\\n3916,0\\n3917,1\\n3918,0\\n3919,0\\n3920,1\\n3921,0\\n3922,0\\n3923,1\\n3924,1\\n3925,1\\n3926,0\\n3927,0\\n3928,1\\n3929,0\\n3930,0\\n3931,1\\n3932,1\\n3933,0\\n3934,0\\n3935,0\\n3936,1\\n3937,1\\n3938,1\\n3939,0\\n3940,0\\n3941,0\\n3942,0\\n3943,0\\n3944,0\\n3945,0\\n3946,1\\n3947,1\\n3948,1\\n3949,1\\n3950,1\\n3951,1\\n3952,0\\n3953,1\\n3954,1\\n3955,1\\n3956,1\\n3957,0\\n3958,1\\n3959,1\\n3960,0\\n3961,0\\n3962,0\\n3963,0\\n3964,0\\n3965,0\\n3966,1\\n3967,1\\n3968,1\\n3969,0\\n3970,1\\n3971,0\\n3972,1\\n3973,0\\n3974,0\\n3975,0\\n3976,0\\n3977,0\\n3978,0\\n3979,1\\n3980,0\\n3981,1\\n3982,0\\n3983,0\\n3984,1\\n3985,1\\n3986,1\\n3987,0\\n3988,0\\n3989,1\\n3990,1\\n3991,1\\n3992,1\\n3993,1\\n3994,0\\n3995,0\\n3996,1\\n3997,0\\n3998,1\\n3999,0\\n4000,1\\n4001,1\\n4002,0\\n4003,0\\n4004,0\\n4005,0\\n4006,1\\n4007,0\\n4008,1\\n4009,1\\n4010,0\\n4011,0\\n4012,1\\n4013,0\\n4014,0\\n4015,1\\n4016,1\\n4017,1\\n4018,0\\n4019,0\\n4020,1\\n4021,0\\n4022,0\\n4023,0\\n4024,0\\n4025,0\\n4026,1\\n4027,0\\n4028,0\\n4029,1\\n4030,0\\n4031,0\\n4032,1\\n4033,1\\n4034,0\\n4035,0\\n4036,1\\n4037,1\\n4038,0\\n4039,1\\n4040,1\\n4041,0\\n4042,0\\n4043,1\\n4044,0\\n4045,1\\n4046,0\\n4047,0\\n4048,1\\n4049,0\\n4050,1\\n4051,1\\n4052,1\\n4053,1\\n4054,1\\n4055,1\\n4056,0\\n4057,0\\n4058,0\\n4059,0\\n4060,0\\n4061,0\\n4062,1\\n4063,0\\n4064,1\\n4065,1\\n4066,1\\n4067,0\\n4068,1\\n4069,1\\n4070,1\\n4071,0\\n4072,0\\n4073,0\\n4074,0\\n4075,1\\n4076,0\\n4077,1\\n4078,0\\n4079,0\\n4080,1\\n4081,1\\n4082,0\\n4083,1\\n4084,0\\n4085,1\\n4086,0\\n4087,0\\n4088,1\\n4089,0\\n4090,1\\n4091,0\\n4092,1\\n4093,0\\n4094,1\\n4095,0\\n4096,0\\n4097,1\\n4098,1\\n4099,0\\n4100,1\\n4101,1\\n4102,0\\n4103,1\\n4104,0\\n4105,1\\n4106,1\\n4107,0\\n4108,1\\n4109,0\\n4110,1\\n4111,0\\n4112,1\\n4113,0\\n4114,1\\n4115,1\\n4116,0\\n4117,0\\n4118,1\\n4119,1\\n4120,0\\n4121,1\\n4122,1\\n4123,0\\n4124,1\\n4125,0\\n4126,1\\n4127,1\\n4128,1\\n4129,1\\n4130,0\\n4131,0\\n4132,0\\n4133,1\\n4134,1\\n4135,0\\n4136,0\\n4137,0\\n4138,1\\n4139,1\\n4140,0\\n4141,1\\n4142,0\\n4143,0\\n4144,0\\n4145,0\\n4146,0\\n4147,0\\n4148,0\\n4149,1\\n4150,1\\n4151,0\\n4152,1\\n4153,0\\n4154,0\\n4155,0\\n4156,0\\n4157,1\\n4158,0\\n4159,0\\n4160,0\\n4161,0\\n4162,1\\n4163,0\\n4164,1\\n4165,1\\n4166,0\\n4167,1\\n4168,1\\n4169,0\\n4170,1\\n4171,0\\n4172,1\\n4173,1\\n4174,0\\n4175,1\\n4176,0\\n4177,0\\n4178,0\\n4179,1\\n4180,1\\n4181,0\\n4182,0\\n4183,0\\n4184,1\\n4185,0\\n4186,1\\n4187,0\\n4188,1\\n4189,0\\n4190,1\\n4191,1\\n4192,0\\n4193,0\\n4194,0\\n4195,0\\n4196,0\\n4197,1\\n4198,1\\n4199,1\\n4200,0\\n4201,1\\n4202,0\\n4203,1\\n4204,1\\n4205,1\\n4206,0\\n4207,0\\n4208,1\\n4209,0\\n4210,1\\n4211,0\\n4212,1\\n4213,0\\n4214,0\\n4215,0\\n4216,1\\n4217,0\\n4218,0\\n4219,1\\n4220,0\\n4221,0\\n4222,1\\n4223,0\\n4224,0\\n4225,1\\n4226,0\\n4227,1\\n4228,0\\n4229,1\\n4230,0\\n4231,0\\n4232,1\\n4233,1\\n4234,1\\n4235,1\\n4236,0\\n4237,0\\n4238,0\\n4239,0\\n4240,1\\n4241,0\\n4242,0\\n4243,1\\n4244,0\\n4245,1\\n4246,0\\n4247,0\\n4248,0\\n4249,0\\n4250,1\\n4251,1\\n4252,1\\n4253,0\\n4254,1\\n4255,0\\n4256,0\\n4257,0\\n4258,1\\n4259,0\\n4260,0\\n4261,1\\n4262,0\\n4263,1\\n4264,0\\n4265,1\\n4266,1\\n4267,1\\n4268,1\\n4269,0\\n4270,0\\n4271,1\\n4272,1\\n4273,0\\n4274,1\\n4275,0\\n4276,0\\n4277,1\\n4278,1\\n4279,1\\n4280,1\\n4281,0\\n4282,1\\n4283,1\\n4284,0\\n4285,1\\n4286,1\\n4287,0\\n4288,0\\n4289,0\\n4290,0\\n4291,1\\n4292,0\\n4293,1\\n4294,1\\n4295,1\\n4296,0\\n4297,0\\n4298,1\\n4299,0\\n4300,1\\n4301,1\\n4302,1\\n4303,0\\n4304,1\\n4305,1\\n4306,1\\n4307,0\\n4308,1\\n4309,1\\n4310,1\\n4311,0\\n4312,0\\n4313,1\\n4314,1\\n4315,1\\n4316,1\\n4317,0\\n4318,0\\n4319,1\\n4320,1\\n4321,0\\n4322,0\\n4323,1\\n4324,1\\n4325,0\\n4326,0\\n4327,1\\n4328,0\\n4329,1\\n4330,1\\n4331,1\\n4332,0\\n4333,0\\n4334,0\\n4335,0\\n4336,0\\n4337,0\\n4338,1\\n4339,1\\n4340,0\\n4341,1\\n4342,0\\n4343,1\\n4344,1\\n4345,1\\n4346,1\\n4347,0\\n4348,0\\n4349,1\\n4350,1\\n4351,0\\n4352,0\\n4353,1\\n4354,1\\n4355,1\\n4356,0\\n4357,0\\n4358,1\\n4359,0\\n4360,1\\n4361,1\\n4362,0\\n4363,0\\n4364,1\\n4365,0\\n4366,1\\n4367,1\\n4368,1\\n4369,1\\n4370,0\\n4371,1\\n4372,1\\n4373,0\\n4374,1\\n4375,1\\n4376,0\\n4377,0\\n4378,0\\n4379,1\\n4380,0\\n4381,0\\n4382,0\\n4383,1\\n4384,0\\n4385,1\\n4386,0\\n4387,0\\n4388,1\\n4389,0\\n4390,0\\n4391,1\\n4392,0\\n4393,0\\n4394,0\\n4395,1\\n4396,1\\n4397,0\\n4398,1\\n4399,1\\n4400,1\\n4401,1\\n4402,1\\n4403,0\\n4404,0\\n4405,0\\n4406,0\\n4407,0\\n4408,1\\n4409,0\\n4410,1\\n4411,1\\n4412,0\\n4413,0\\n4414,1\\n4415,1\\n4416,1\\n4417,0\\n4418,1\\n4419,1\\n4420,0\\n4421,0\\n4422,0\\n4423,1\\n4424,0\\n4425,0\\n4426,1\\n4427,0\\n4428,1\\n4429,0\\n4430,0\\n4431,0\\n4432,1\\n4433,0\\n4434,1\\n4435,0\\n4436,1\\n4437,0\\n4438,1\\n4439,0\\n4440,0\\n4441,1\\n4442,0\\n4443,1\\n4444,1\\n4445,1\\n4446,0\\n4447,0\\n4448,0\\n4449,1\\n4450,0\\n4451,0\\n4452,1\\n4453,0\\n4454,0\\n4455,1\\n4456,0\\n4457,0\\n4458,0\\n4459,0\\n4460,1\\n4461,1\\n4462,1\\n4463,1\\n4464,0\\n4465,0\\n4466,0\\n4467,0\\n4468,0\\n4469,1\\n4470,0\\n4471,0\\n4472,0\\n4473,1\\n4474,0\\n4475,0\\n4476,1\\n4477,1\\n4478,1\\n4479,1\\n4480,1\\n4481,1\\n4482,1\\n4483,1\\n4484,1\\n4485,0\\n4486,0\\n4487,0\\n4488,0\\n4489,1\\n4490,0\\n4491,0\\n4492,1\\n4493,0\\n4494,1\\n4495,1\\n4496,0\\n4497,0\\n4498,0\\n4499,0\\n4500,1\\n4501,1\\n4502,0\\n4503,0\\n4504,0\\n4505,1\\n4506,0\\n4507,0\\n4508,0\\n4509,1\\n4510,0\\n4511,1\\n4512,0\\n4513,0\\n4514,0\\n4515,1\\n4516,0\\n4517,0\\n4518,1\\n4519,0\\n4520,1\\n4521,1\\n4522,1\\n4523,0\\n4524,1\\n4525,1\\n4526,0\\n4527,1\\n4528,0\\n4529,1\\n4530,0\\n4531,0\\n4532,1\\n4533,1\\n4534,1\\n4535,0\\n4536,0\\n4537,1\\n4538,0\\n4539,1\\n4540,0\\n4541,1\\n4542,0\\n4543,1\\n4544,1\\n4545,0\\n4546,1\\n4547,0\\n4548,1\\n4549,0\\n4550,1\\n4551,1\\n4552,0\\n4553,0\\n4554,0\\n4555,0\\n4556,1\\n4557,0\\n4558,0\\n4559,0\\n4560,0\\n4561,1\\n4562,1\\n4563,1\\n4564,0\\n4565,0\\n4566,0\\n4567,0\\n4568,0\\n4569,1\\n4570,1\\n4571,1\\n4572,1\\n4573,0\\n4574,0\\n4575,1\\n4576,0\\n4577,0\\n4578,0\\n4579,0\\n4580,0\\n4581,1\\n4582,1\\n4583,0\\n4584,1\\n4585,1\\n4586,0\\n4587,1\\n4588,1\\n4589,1\\n4590,0\\n4591,1\\n4592,1\\n4593,0\\n4594,0\\n4595,1\\n4596,1\\n4597,1\\n4598,0\\n4599,1\\n4600,1\\n4601,0\\n4602,0\\n4603,1\\n4604,1\\n4605,0\\n4606,1\\n4607,0\\n4608,0\\n4609,0\\n4610,1\\n4611,0\\n4612,1\\n4613,0\\n4614,0\\n4615,0\\n4616,1\\n4617,1\\n4618,1\\n4619,0\\n4620,1\\n4621,0\\n4622,1\\n4623,0\\n4624,1\\n4625,0\\n4626,0\\n4627,0\\n4628,0\\n4629,1\\n4630,0\\n4631,1\\n4632,1\\n4633,1\\n4634,0\\n4635,0\\n4636,0\\n4637,0\\n4638,0\\n4639,1\\n4640,1\\n4641,0\\n4642,1\\n4643,0\\n4644,0\\n4645,1\\n4646,1\\n4647,0\\n4648,0\\n4649,1\\n4650,0\\n4651,0\\n4652,0\\n4653,0\\n4654,1\\n4655,0\\n4656,1\\n4657,1\\n4658,1\\n4659,1\\n4660,1\\n4661,0\\n4662,0\\n4663,0\\n4664,1\\n4665,1\\n4666,1\\n4667,1\\n4668,1\\n4669,0\\n4670,0\\n4671,1\\n4672,1\\n4673,0\\n4674,0\\n4675,1\\n4676,1\\n4677,0\\n4678,1\\n4679,1\\n4680,1\\n4681,1\\n4682,1\\n4683,1\\n4684,0\\n4685,1\\n4686,1\\n4687,0\\n4688,1\\n4689,0\\n4690,1\\n4691,0\\n4692,1\\n4693,1\\n4694,1\\n4695,1\\n4696,1\\n4697,0\\n4698,1\\n4699,1\\n4700,0\\n4701,1\\n4702,0\\n4703,1\\n4704,1\\n4705,0\\n4706,0\\n4707,0\\n4708,1\\n4709,1\\n4710,0\\n4711,1\\n4712,0\\n4713,0\\n4714,1\\n4715,1\\n4716,0\\n4717,1\\n4718,1\\n4719,1\\n4720,1\\n4721,1\\n4722,1\\n4723,0\\n4724,0\\n4725,0\\n4726,0\\n4727,0\\n4728,0\\n4729,1\\n4730,1\\n4731,1\\n4732,0\\n4733,0\\n4734,1\\n4735,1\\n4736,1\\n4737,0\\n4738,0\\n4739,0\\n4740,1\\n4741,0\\n4742,1\\n4743,0\\n4744,1\\n4745,1\\n4746,1\\n4747,1\\n4748,1\\n4749,0\\n4750,1\\n4751,1\\n4752,0\\n4753,0\\n4754,0\\n4755,1\\n4756,0\\n4757,1\\n4758,1\\n4759,1\\n4760,0\\n4761,0\\n4762,0\\n4763,0\\n4764,1\\n4765,0\\n4766,0\\n4767,1\\n4768,0\\n4769,0\\n4770,1\\n4771,0\\n4772,1\\n4773,1\\n4774,1\\n4775,1\\n4776,0\\n4777,1\\n4778,1\\n4779,1\\n4780,0\\n4781,1\\n4782,0\\n4783,1\\n4784,1\\n4785,0\\n4786,0\\n4787,0\\n4788,0\\n4789,1\\n4790,0\\n4791,1\\n4792,0\\n4793,0\\n4794,0\\n4795,0\\n4796,0\\n4797,1\\n4798,0\\n4799,0\\n4800,0\\n4801,1\\n4802,0\\n4803,1\\n4804,1\\n4805,1\\n4806,0\\n4807,1\\n4808,1\\n4809,1\\n4810,1\\n4811,1\\n4812,0\\n4813,0\\n4814,1\\n4815,0\\n4816,1\\n4817,0\\n4818,0\\n4819,0\\n4820,0\\n4821,1\\n4822,1\\n4823,0\\n4824,0\\n4825,0\\n4826,1\\n4827,1\\n4828,1\\n4829,1\\n4830,1\\n4831,1\\n4832,0\\n4833,0\\n4834,1\\n4835,0\\n4836,1\\n4837,1\\n4838,0\\n4839,0\\n4840,0\\n4841,1\\n4842,0\\n4843,1\\n4844,1\\n4845,0\\n4846,1\\n4847,1\\n4848,1\\n4849,0\\n4850,1\\n4851,0\\n4852,1\\n4853,1\\n4854,1\\n4855,1\\n4856,1\\n4857,1\\n4858,0\\n4859,1\\n4860,1\\n4861,1\\n4862,0\\n4863,1\\n4864,1\\n4865,1\\n4866,1\\n4867,0\\n4868,0\\n4869,1\\n4870,1\\n4871,0\\n4872,0\\n4873,1\\n4874,0\\n4875,1\\n4876,0\\n4877,1\\n4878,0\\n4879,0\\n4880,0\\n4881,1\\n4882,1\\n4883,0\\n4884,0\\n4885,1\\n4886,1\\n4887,1\\n4888,1\\n4889,0\\n4890,0\\n4891,1\\n4892,0\\n4893,0\\n4894,1\\n4895,0\\n4896,1\\n4897,0\\n4898,1\\n4899,0\\n4900,1\\n4901,0\\n4902,0\\n4903,0\\n4904,1\\n4905,0\\n4906,1\\n4907,0\\n4908,1\\n4909,1\\n4910,0\\n4911,1\\n4912,1\\n4913,1\\n4914,0\\n4915,1\\n4916,0\\n4917,1\\n4918,0\\n4919,0\\n4920,0\\n4921,0\\n4922,1\\n4923,0\\n4924,1\\n4925,1\\n4926,1\\n4927,1\\n4928,1\\n4929,1\\n4930,0\\n4931,1\\n4932,1\\n4933,0\\n4934,1\\n4935,0\\n4936,1\\n4937,1\\n4938,1\\n4939,0\\n4940,1\\n4941,1\\n4942,1\\n4943,0\\n4944,0\\n4945,1\\n4946,0\\n4947,0\\n4948,1\\n4949,0\\n4950,0\\n4951,1\\n4952,1\\n4953,1\\n4954,0\\n4955,0\\n4956,1\\n4957,1\\n4958,1\\n4959,0\\n4960,0\\n4961,1\\n4962,0\\n4963,0\\n4964,0\\n4965,1\\n4966,1\\n4967,0\\n4968,1\\n4969,0\\n4970,1\\n4971,1\\n4972,0\\n4973,1\\n4974,1\\n4975,1\\n4976,0\\n4977,0\\n4978,0\\n4979,0\\n4980,0\\n4981,0\\n4982,0\\n4983,1\\n4984,1\\n4985,0\\n4986,1\\n4987,1\\n4988,1\\n4989,1\\n4990,1\\n4991,1\\n4992,0\\n4993,0\\n4994,1\\n4995,0\\n4996,0\\n4997,1\\n4998,0\\n4999,1\\n5000,0\\n5001,0\\n5002,1\\n5003,1\\n5004,1\\n5005,1\\n5006,0\\n5007,1\\n5008,1\\n5009,1\\n5010,1\\n5011,1\\n5012,0\\n5013,0\\n5014,0\\n5015,0\\n5016,0\\n5017,1\\n5018,0\\n5019,1\\n5020,1\\n5021,0\\n5022,1\\n5023,0\\n5024,1\\n5025,0\\n5026,1\\n5027,1\\n5028,1\\n5029,0\\n5030,1\\n5031,1\\n5032,0\\n5033,0\\n5034,1\\n5035,1\\n5036,0\\n5037,0\\n5038,1\\n5039,1\\n5040,1\\n5041,1\\n5042,1\\n5043,0\\n5044,0\\n5045,1\\n5046,0\\n5047,1\\n5048,0\\n5049,0\\n5050,1\\n5051,0\\n5052,1\\n5053,1\\n5054,1\\n5055,1\\n5056,0\\n5057,0\\n5058,1\\n5059,1\\n5060,0\\n5061,1\\n5062,1\\n5063,0\\n5064,1\\n5065,0\\n5066,0\\n5067,1\\n5068,0\\n5069,1\\n5070,1\\n5071,1\\n5072,0\\n5073,0\\n5074,1\\n5075,0\\n5076,0\\n5077,0\\n5078,0\\n5079,1\\n5080,0\\n5081,1\\n5082,1\\n5083,0\\n5084,0\\n5085,1\\n5086,0\\n5087,0\\n5088,1\\n5089,1\\n5090,1\\n5091,1\\n5092,1\\n5093,1\\n5094,1\\n5095,0\\n5096,0\\n5097,1\\n5098,0\\n5099,0\\n5100,0\\n5101,1\\n5102,1\\n5103,1\\n5104,0\\n5105,1\\n5106,0\\n5107,1\\n5108,0\\n5109,1\\n5110,0\\n5111,1\\n5112,1\\n5113,0\\n5114,0\\n5115,1\\n5116,1\\n5117,0\\n5118,1\\n5119,1\\n5120,0\\n5121,1\\n5122,0\\n5123,1\\n5124,0\\n5125,0\\n5126,0\\n5127,1\\n5128,0\\n5129,0\\n5130,1\\n5131,1\\n5132,0\\n5133,1\\n5134,1\\n5135,1\\n5136,1\\n5137,1\\n5138,1\\n5139,1\\n5140,0\\n5141,1\\n5142,1\\n5143,0\\n5144,0\\n5145,1\\n5146,0\\n5147,1\\n5148,1\\n5149,1\\n5150,1\\n5151,1\\n5152,1\\n5153,0\\n5154,0\\n5155,1\\n5156,0\\n5157,0\\n5158,0\\n5159,1\\n5160,1\\n5161,0\\n5162,1\\n5163,0\\n5164,0\\n5165,0\\n5166,1\\n5167,0\\n5168,0\\n5169,1\\n5170,0\\n5171,0\\n5172,0\\n5173,0\\n5174,0\\n5175,0\\n5176,1\\n5177,1\\n5178,1\\n5179,1\\n5180,0\\n5181,1\\n5182,0\\n5183,0\\n5184,0\\n5185,1\\n5186,1\\n5187,0\\n5188,0\\n5189,1\\n5190,0\\n5191,0\\n5192,1\\n5193,0\\n5194,1\\n5195,1\\n5196,1\\n5197,0\\n5198,1\\n5199,1\\n5200,1\\n5201,1\\n5202,1\\n5203,0\\n5204,1\\n5205,1\\n5206,1\\n5207,0\\n5208,1\\n5209,0\\n5210,0\\n5211,0\\n5212,0\\n5213,0\\n5214,0\\n5215,0\\n5216,1\\n5217,0\\n5218,1\\n5219,0\\n5220,1\\n5221,1\\n5222,1\\n5223,1\\n5224,0\\n5225,0\\n5226,0\\n5227,1\\n5228,1\\n5229,1\\n5230,1\\n5231,1\\n5232,0\\n5233,0\\n5234,1\\n5235,1\\n5236,0\\n5237,0\\n5238,1\\n5239,0\\n5240,0\\n5241,0\\n5242,1\\n5243,1\\n5244,1\\n5245,0\\n5246,1\\n5247,1\\n5248,1\\n5249,1\\n5250,1\\n5251,1\\n5252,1\\n5253,0\\n5254,0\\n5255,1\\n5256,1\\n5257,0\\n5258,0\\n5259,0\\n5260,1\\n5261,0\\n5262,0\\n5263,1\\n5264,0\\n5265,0\\n5266,0\\n5267,0\\n5268,0\\n5269,1\\n5270,0\\n5271,0\\n5272,0\\n5273,1\\n5274,1\\n5275,0\\n5276,1\\n5277,0\\n5278,0\\n5279,1\\n5280,0\\n5281,1\\n5282,1\\n5283,0\\n5284,1\\n5285,0\\n5286,1\\n5287,1\\n5288,0\\n5289,0\\n5290,1\\n5291,1\\n5292,0\\n5293,1\\n5294,1\\n5295,1\\n5296,1\\n5297,0\\n5298,1\\n5299,1\\n5300,1\\n5301,1\\n5302,0\\n5303,1\\n5304,1\\n5305,1\\n5306,1\\n5307,1\\n5308,0\\n5309,0\\n5310,1\\n5311,0\\n5312,1\\n5313,1\\n5314,0\\n5315,0\\n5316,0\\n5317,1\\n5318,0\\n5319,0\\n5320,1\\n5321,0\\n5322,0\\n5323,1\\n5324,1\\n5325,1\\n5326,0\\n5327,1\\n5328,1\\n5329,1\\n5330,1\\n5331,0\\n5332,0\\n5333,1\\n5334,1\\n5335,0\\n5336,1\\n5337,1\\n5338,1\\n5339,0\\n5340,0\\n5341,0\\n5342,1\\n5343,1\\n5344,1\\n5345,1\\n5346,0\\n5347,0\\n5348,1\\n5349,1\\n5350,1\\n5351,1\\n5352,1\\n5353,0\\n5354,1\\n5355,0\\n5356,1\\n5357,1\\n5358,1\\n5359,1\\n5360,0\\n5361,0\\n5362,0\\n5363,0\\n5364,0\\n5365,1\\n5366,1\\n5367,1\\n5368,0\\n5369,1\\n5370,0\\n5371,1\\n5372,1\\n5373,1\\n5374,1\\n5375,1\\n5376,1\\n5377,0\\n5378,1\\n5379,0\\n5380,0\\n5381,0\\n5382,1\\n5383,0\\n5384,0\\n5385,0\\n5386,1\\n5387,1\\n5388,1\\n5389,1\\n5390,1\\n5391,0\\n5392,1\\n5393,0\\n5394,1\\n5395,1\\n5396,1\\n5397,0\\n5398,1\\n5399,0\\n5400,0\\n5401,0\\n5402,1\\n5403,1\\n5404,1\\n5405,1\\n5406,1\\n5407,1\\n5408,1\\n5409,0\\n5410,1\\n5411,1\\n5412,0\\n5413,1\\n5414,0\\n5415,1\\n5416,1\\n5417,1\\n5418,1\\n5419,0\\n5420,1\\n5421,1\\n5422,1\\n5423,0\\n5424,1\\n5425,0\\n5426,1\\n5427,0\\n5428,1\\n5429,1\\n5430,0\\n5431,0\\n5432,0\\n5433,0\\n5434,0\\n5435,1\\n5436,1\\n5437,0\\n5438,0\\n5439,1\\n5440,1\\n5441,0\\n5442,0\\n5443,1\\n5444,1\\n5445,1\\n5446,1\\n5447,0\\n5448,1\\n5449,0\\n5450,0\\n5451,0\\n5452,1\\n5453,0\\n5454,0\\n5455,1\\n5456,0\\n5457,0\\n5458,0\\n5459,1\\n5460,1\\n5461,0\\n5462,0\\n5463,1\\n5464,0\\n5465,1\\n5466,1\\n5467,1\\n5468,1\\n5469,1\\n5470,1\\n5471,0\\n5472,0\\n5473,1\\n5474,0\\n5475,0\\n5476,1\\n5477,1\\n5478,0\\n5479,0\\n5480,0\\n5481,1\\n5482,0\\n5483,1\\n5484,1\\n5485,0\\n5486,1\\n5487,1\\n5488,1\\n5489,1\\n5490,1\\n5491,1\\n5492,1\\n5493,0\\n5494,0\\n5495,1\\n5496,1\\n5497,0\\n5498,1\\n5499,1\\n5500,1\\n5501,1\\n5502,1\\n5503,1\\n5504,0\\n5505,1\\n5506,1\\n5507,1\\n5508,1\\n5509,1\\n5510,0\\n5511,0\\n5512,0\\n5513,1\\n5514,1\\n5515,1\\n5516,1\\n5517,0\\n5518,0\\n5519,1\\n5520,0\\n5521,1\\n5522,1\\n5523,0\\n5524,0\\n5525,1\\n5526,1\\n5527,1\\n5528,1\\n5529,0\\n5530,1\\n5531,0\\n5532,0\\n5533,0\\n5534,0\\n5535,1\\n5536,0\\n5537,0\\n5538,0\\n5539,0\\n5540,0\\n5541,1\\n5542,0\\n5543,0\\n5544,0\\n5545,0\\n5546,1\\n5547,1\\n5548,1\\n5549,0\\n5550,1\\n5551,1\\n5552,0\\n5553,0\\n5554,1\\n5555,1\\n5556,1\\n5557,1\\n5558,0\\n5559,0\\n5560,1\\n5561,1\\n5562,1\\n5563,1\\n5564,1\\n5565,1\\n5566,0\\n5567,1\\n5568,0\\n5569,1\\n5570,1\\n5571,1\\n5572,0\\n5573,0\\n5574,0\\n5575,0\\n5576,0\\n5577,1\\n5578,0\\n5579,1\\n5580,1\\n5581,0\\n5582,0\\n5583,0\\n5584,0\\n5585,0\\n5586,1\\n5587,0\\n5588,0\\n5589,1\\n5590,0\\n5591,0\\n5592,1\\n5593,0\\n5594,0\\n5595,0\\n5596,0\\n5597,0\\n5598,0\\n5599,1\\n5600,1\\n5601,1\\n5602,1\\n5603,0\\n5604,1\\n5605,0\\n5606,1\\n5607,1\\n5608,1\\n5609,1\\n5610,0\\n5611,0\\n5612,0\\n5613,1\\n5614,0\\n5615,0\\n5616,1\\n5617,0\\n5618,0\\n5619,1\\n5620,0\\n5621,1\\n5622,0\\n5623,1\\n5624,1\\n5625,0\\n5626,1\\n5627,1\\n5628,0\\n5629,1\\n5630,0\\n5631,0\\n5632,0\\n5633,1\\n5634,1\\n5635,1\\n5636,0\\n5637,0\\n5638,1\\n5639,1\\n5640,1\\n5641,1\\n5642,0\\n5643,1\\n5644,1\\n5645,0\\n5646,0\\n5647,0\\n5648,0\\n5649,1\\n5650,0\\n5651,0\\n5652,1\\n5653,1\\n5654,0\\n5655,1\\n5656,0\\n5657,0\\n5658,1\\n5659,1\\n5660,0\\n5661,1\\n5662,0\\n5663,1\\n5664,0\\n5665,0\\n5666,0\\n5667,0\\n5668,0\\n5669,1\\n5670,1\\n5671,1\\n5672,0\\n5673,1\\n5674,0\\n5675,1\\n5676,1\\n5677,1\\n5678,1\\n5679,0\\n5680,0\\n5681,1\\n5682,0\\n5683,1\\n5684,1\\n5685,1\\n5686,1\\n5687,1\\n5688,1\\n5689,1\\n5690,1\\n5691,1\\n5692,1\\n5693,0\\n5694,1\\n5695,1\\n5696,1\\n5697,0\\n5698,1\\n5699,1\\n5700,0\\n5701,0\\n5702,1\\n5703,1\\n5704,1\\n5705,0\\n5706,0\\n5707,1\\n5708,0\\n5709,1\\n5710,0\\n5711,1\\n5712,1\\n5713,0\\n5714,0\\n5715,1\\n5716,0\\n5717,1\\n5718,0\\n5719,1\\n5720,1\\n5721,1\\n5722,1\\n5723,1\\n5724,1\\n5725,0\\n5726,0\\n5727,0\\n5728,0\\n5729,1\\n5730,1\\n5731,1\\n5732,1\\n5733,0\\n5734,1\\n5735,0\\n5736,0\\n5737,0\\n5738,1\\n5739,1\\n5740,1\\n5741,0\\n5742,0\\n5743,0\\n5744,0\\n5745,0\\n5746,1\\n5747,1\\n5748,1\\n5749,0\\n5750,0\\n5751,1\\n5752,1\\n5753,1\\n5754,0\\n5755,0\\n5756,1\\n5757,1\\n5758,1\\n5759,0\\n5760,1\\n5761,0\\n5762,0\\n5763,0\\n5764,0\\n5765,0\\n5766,0\\n5767,0\\n5768,1\\n5769,0\\n5770,0\\n5771,0\\n5772,0\\n5773,0\\n5774,1\\n5775,1\\n5776,0\\n5777,1\\n5778,0\\n5779,1\\n5780,0\\n5781,0\\n5782,0\\n5783,1\\n5784,0\\n5785,0\\n5786,0\\n5787,0\\n5788,1\\n5789,0\\n5790,1\\n5791,0\\n5792,0\\n5793,0\\n5794,0\\n5795,1\\n5796,0\\n5797,1\\n5798,0\\n5799,1\\n5800,1\\n5801,1\\n5802,0\\n5803,1\\n5804,0\\n5805,0\\n5806,1\\n5807,0\\n5808,1\\n5809,0\\n5810,1\\n5811,1\\n5812,0\\n5813,0\\n5814,1\\n5815,0\\n5816,1\\n5817,1\\n5818,0\\n5819,0\\n5820,0\\n5821,0\\n5822,1\\n5823,0\\n5824,1\\n5825,0\\n5826,0\\n5827,1\\n5828,1\\n5829,1\\n5830,0\\n5831,0\\n5832,0\\n5833,0\\n5834,0\\n5835,1\\n5836,0\\n5837,0\\n5838,0\\n5839,0\\n5840,1\\n5841,1\\n5842,0\\n5843,0\\n5844,1\\n5845,1\\n5846,0\\n5847,1\\n5848,0\\n5849,1\\n5850,1\\n5851,1\\n5852,0\\n5853,0\\n5854,0\\n5855,1\\n5856,1\\n5857,0\\n5858,1\\n5859,0\\n5860,0\\n5861,0\\n5862,1\\n5863,0\\n5864,1\\n5865,1\\n5866,1\\n5867,1\\n5868,0\\n5869,1\\n5870,1\\n5871,1\\n5872,1\\n5873,0\\n5874,0\\n5875,1\\n5876,1\\n5877,0\\n5878,1\\n5879,0\\n5880,0\\n5881,0\\n5882,1\\n5883,1\\n5884,1\\n5885,1\\n5886,0\\n5887,1\\n5888,1\\n5889,0\\n5890,1\\n5891,1\\n5892,0\\n5893,0\\n5894,1\\n5895,1\\n5896,1\\n5897,1\\n5898,1\\n5899,0\\n5900,0\\n5901,1\\n5902,1\\n5903,0\\n5904,1\\n5905,0\\n5906,0\\n5907,1\\n5908,0\\n5909,1\\n5910,0\\n5911,0\\n5912,0\\n5913,1\\n5914,1\\n5915,0\\n5916,1\\n5917,0\\n5918,0\\n5919,0\\n5920,1\\n5921,1\\n5922,0\\n5923,0\\n5924,1\\n5925,1\\n5926,0\\n5927,0\\n5928,1\\n5929,1\\n5930,1\\n5931,1\\n5932,1\\n5933,0\\n5934,1\\n5935,1\\n5936,0\\n5937,0\\n5938,1\\n5939,1\\n5940,1\\n5941,0\\n5942,0\\n5943,0\\n5944,1\\n5945,1\\n5946,1\\n5947,0\\n5948,0\\n5949,1\\n5950,0\\n5951,1\\n5952,1\\n5953,0\\n5954,0\\n5955,1\\n5956,0\\n5957,1\\n5958,1\\n5959,0\\n5960,1\\n5961,1\\n5962,0\\n5963,1\\n5964,1\\n5965,1\\n5966,0\\n5967,0\\n5968,0\\n5969,1\\n5970,1\\n5971,0\\n5972,0\\n5973,1\\n5974,0\\n5975,0\\n5976,1\\n5977,1\\n5978,0\\n5979,1\\n5980,0\\n5981,0\\n5982,1\\n5983,1\\n5984,1\\n5985,1\\n5986,0\\n5987,0\\n5988,0\\n5989,1\\n5990,0\\n5991,0\\n5992,1\\n5993,1\\n5994,0\\n5995,1\\n5996,0\\n5997,0\\n5998,1\\n5999,1\\n6000,0\\n6001,0\\n6002,1\\n6003,1\\n6004,1\\n6005,0\\n6006,0\\n6007,1\\n6008,1\\n6009,1\\n6010,1\\n6011,1\\n6012,0\\n6013,1\\n6014,1\\n6015,0\\n6016,1\\n6017,1\\n6018,1\\n6019,0\\n6020,1\\n6021,1\\n6022,1\\n6023,1\\n6024,0\\n6025,1\\n6026,0\\n6027,0\\n6028,1\\n6029,0\\n6030,0\\n6031,1\\n6032,1\\n6033,1\\n6034,0\\n6035,1\\n6036,1\\n6037,1\\n6038,0\\n6039,1\\n6040,0\\n6041,1\\n6042,0\\n6043,1\\n6044,0\\n6045,0\\n6046,0\\n6047,1\\n6048,0\\n6049,1\\n6050,1\\n6051,1\\n6052,1\\n6053,1\\n6054,0\\n6055,0\\n6056,0\\n6057,0\\n6058,0\\n6059,1\\n6060,0\\n6061,1\\n6062,1\\n6063,0\\n6064,0\\n6065,1\\n6066,0\\n6067,1\\n6068,0\\n6069,0\\n6070,0\\n6071,0\\n6072,1\\n6073,1\\n6074,1\\n6075,0\\n6076,1\\n6077,0\\n6078,1\\n6079,0\\n6080,1\\n6081,0\\n6082,0\\n6083,0\\n6084,0\\n6085,0\\n6086,0\\n6087,1\\n6088,1\\n6089,0\\n6090,1\\n6091,1\\n6092,1\\n6093,0\\n6094,1\\n6095,1\\n6096,1\\n6097,0\\n6098,1\\n6099,1\\n6100,1\\n6101,1\\n6102,1\\n6103,0\\n6104,0\\n6105,0\\n6106,0\\n6107,1\\n6108,0\\n6109,1\\n6110,1\\n6111,0\\n6112,1\\n6113,1\\n6114,1\\n6115,1\\n6116,0\\n6117,1\\n6118,0\\n6119,1\\n6120,1\\n6121,0\\n6122,0\\n6123,1\\n6124,0\\n6125,0\\n6126,1\\n6127,0\\n6128,0\\n6129,1\\n6130,0\\n6131,0\\n6132,0\\n6133,0\\n6134,1\\n6135,0\\n6136,0\\n6137,0\\n6138,1\\n6139,0\\n6140,1\\n6141,1\\n6142,0\\n6143,0\\n6144,0\\n6145,1\\n6146,0\\n6147,1\\n6148,0\\n6149,1\\n6150,1\\n6151,0\\n6152,1\\n6153,1\\n6154,1\\n6155,0\\n6156,0\\n6157,1\\n6158,0\\n6159,0\\n6160,1\\n6161,0\\n6162,1\\n6163,0\\n6164,0\\n6165,1\\n6166,0\\n6167,1\\n6168,1\\n6169,1\\n6170,1\\n6171,0\\n6172,0\\n6173,0\\n6174,0\\n6175,0\\n6176,1\\n6177,0\\n6178,1\\n6179,0\\n6180,0\\n6181,1\\n6182,0\\n6183,0\\n6184,1\\n6185,1\\n6186,0\\n6187,0\\n6188,1\\n6189,0\\n6190,0\\n6191,1\\n6192,0\\n6193,0\\n6194,1\\n6195,1\\n6196,0\\n6197,1\\n6198,1\\n6199,0\\n6200,0\\n6201,1\\n6202,1\\n6203,0\\n6204,0\\n6205,1\\n6206,1\\n6207,1\\n6208,1\\n6209,0\\n6210,0\\n6211,0\\n6212,0\\n6213,1\\n6214,1\\n6215,0\\n6216,0\\n6217,0\\n6218,1\\n6219,1\\n6220,1\\n6221,1\\n6222,0\\n6223,1\\n6224,1\\n6225,0\\n6226,0\\n6227,0\\n6228,1\\n6229,0\\n6230,0\\n6231,1\\n6232,0\\n6233,1\\n6234,1\\n6235,0\\n6236,1\\n6237,0\\n6238,1\\n6239,1\\n6240,1\\n6241,1\\n6242,0\\n6243,1\\n6244,1\\n6245,0\\n6246,1\\n6247,0\\n6248,1\\n6249,0\\n6250,1\\n6251,0\\n6252,1\\n6253,0\\n6254,0\\n6255,0\\n6256,0\\n6257,1\\n6258,1\\n6259,1\\n6260,1\\n6261,0\\n6262,1\\n6263,0\\n6264,0\\n6265,1\\n6266,0\\n6267,0\\n6268,0\\n6269,1\\n6270,0\\n6271,0\\n6272,1\\n6273,1\\n6274,1\\n6275,0\\n6276,0\\n6277,1\\n6278,0\\n6279,0\\n6280,1\\n6281,1\\n6282,0\\n6283,0\\n6284,1\\n6285,1\\n6286,1\\n6287,1\\n6288,0\\n6289,1\\n6290,0\\n6291,1\\n6292,1\\n6293,1\\n6294,0\\n6295,1\\n6296,1\\n6297,0\\n6298,1\\n6299,1\\n6300,1\\n6301,0\\n6302,0\\n6303,0\\n6304,0\\n6305,1\\n6306,1\\n6307,0\\n6308,0\\n6309,1\\n6310,0\\n6311,1\\n6312,0\\n6313,1\\n6314,0\\n6315,1\\n6316,1\\n6317,0\\n6318,0\\n6319,1\\n6320,1\\n6321,0\\n6322,1\\n6323,0\\n6324,1\\n6325,0\\n6326,0\\n6327,1\\n6328,1\\n6329,1\\n6330,0\\n6331,1\\n6332,0\\n6333,1\\n6334,1\\n6335,1\\n6336,1\\n6337,1\\n6338,0\\n6339,1\\n6340,1\\n6341,1\\n6342,0\\n6343,1\\n6344,0\\n6345,1\\n6346,1\\n6347,1\\n6348,1\\n6349,1\\n6350,0\\n6351,0\\n6352,1\\n6353,0\\n6354,1\\n6355,0\\n6356,0\\n6357,0\\n6358,1\\n6359,1\\n6360,0\\n6361,0\\n6362,1\\n6363,1\\n6364,0\\n6365,0\\n6366,1\\n6367,0\\n6368,0\\n6369,1\\n6370,1\\n6371,1\\n6372,1\\n6373,1\\n6374,1\\n6375,1\\n6376,0\\n6377,1\\n6378,1\\n6379,1\\n6380,0\\n6381,1\\n6382,0\\n6383,1\\n6384,0\\n6385,0\\n6386,0\\n6387,1\\n6388,1\\n6389,0\\n6390,0\\n6391,0\\n6392,1\\n6393,0\\n6394,0\\n6395,0\\n6396,0\\n6397,0\\n6398,0\\n6399,0\\n6400,0\\n6401,0\\n6402,1\\n6403,0\\n6404,0\\n6405,0\\n6406,0\\n6407,0\\n6408,1\\n6409,1\\n6410,0\\n6411,1\\n6412,1\\n6413,0\\n6414,1\\n6415,1\\n6416,1\\n6417,1\\n6418,1\\n6419,0\\n6420,0\\n6421,1\\n6422,1\\n6423,0\\n6424,0\\n6425,1\\n6426,0\\n6427,0\\n6428,0\\n6429,0\\n6430,0\\n6431,0\\n6432,0\\n6433,0\\n6434,0\\n6435,0\\n6436,1\\n6437,1\\n6438,0\\n6439,1\\n6440,0\\n6441,0\\n6442,1\\n6443,1\\n6444,1\\n6445,1\\n6446,1\\n6447,0\\n6448,1\\n6449,1\\n6450,0\\n6451,0\\n6452,1\\n6453,1\\n6454,1\\n6455,1\\n6456,0\\n6457,1\\n6458,1\\n6459,1\\n6460,1\\n6461,1\\n6462,1\\n6463,0\\n6464,1\\n6465,1\\n6466,0\\n6467,0\\n6468,0\\n6469,0\\n6470,0\\n6471,1\\n6472,1\\n6473,0\\n6474,0\\n6475,1\\n6476,0\\n6477,1\\n6478,0\\n6479,0\\n6480,0\\n6481,0\\n6482,1\\n6483,1\\n6484,0\\n6485,1\\n6486,0\\n6487,1\\n6488,0\\n6489,0\\n6490,0\\n6491,1\\n6492,1\\n6493,1\\n6494,0\\n6495,0\\n6496,1\\n6497,1\\n6498,0\\n6499,0\\n6500,0\\n6501,1\\n6502,0\\n6503,0\\n6504,0\\n6505,1\\n6506,0\\n6507,1\\n6508,1\\n6509,0\\n6510,0\\n6511,1\\n6512,0\\n6513,1\\n6514,1\\n6515,0\\n6516,0\\n6517,0\\n6518,0\\n6519,0\\n6520,0\\n6521,0\\n6522,0\\n6523,1\\n6524,0\\n6525,1\\n6526,0\\n6527,1\\n6528,0\\n6529,0\\n6530,0\\n6531,1\\n6532,1\\n6533,1\\n6534,1\\n6535,0\\n6536,1\\n6537,1\\n6538,1\\n6539,0\\n6540,0\\n6541,0\\n6542,1\\n6543,0\\n6544,0\\n6545,1\\n6546,1\\n6547,1\\n6548,1\\n6549,1\\n6550,0\\n6551,0\\n6552,1\\n6553,0\\n6554,0\\n6555,0\\n6556,0\\n6557,0\\n6558,1\\n6559,1\\n6560,0\\n6561,1\\n6562,0\\n6563,1\\n6564,0\\n6565,0\\n6566,0\\n6567,0\\n6568,1\\n6569,0\\n6570,0\\n6571,1\\n6572,1\\n6573,1\\n6574,0\\n6575,1\\n6576,1\\n6577,0\\n6578,0\\n6579,0\\n6580,0\\n6581,0\\n6582,0\\n6583,1\\n6584,0\\n6585,1\\n6586,0\\n6587,1\\n6588,0\\n6589,0\\n6590,0\\n6591,1\\n6592,0\\n6593,1\\n6594,0\\n6595,1\\n6596,1\\n6597,1\\n6598,0\\n6599,1\\n6600,1\\n6601,0\\n6602,0\\n6603,0\\n6604,0\\n6605,1\\n6606,1\\n6607,0\\n6608,0\\n6609,1\\n6610,0\\n6611,1\\n6612,1\\n6613,0\\n6614,0\\n6615,0\\n6616,1\\n6617,0\\n6618,1\\n6619,1\\n6620,1\\n6621,1\\n6622,0\\n6623,1\\n6624,1\\n6625,0\\n6626,0\\n6627,0\\n6628,0\\n6629,1\\n6630,1\\n6631,0\\n6632,1\\n6633,0\\n6634,0\\n6635,0\\n6636,0\\n6637,0\\n6638,1\\n6639,1\\n6640,1\\n6641,1\\n6642,1\\n6643,0\\n6644,1\\n6645,0\\n6646,0\\n6647,0\\n6648,0\\n6649,0\\n6650,1\\n6651,1\\n6652,0\\n6653,1\\n6654,1\\n6655,1\\n6656,0\\n6657,0\\n6658,1\\n6659,1\\n6660,1\\n6661,0\\n6662,0\\n6663,1\\n6664,1\\n6665,0\\n6666,0\\n6667,1\\n6668,0\\n6669,1\\n6670,1\\n6671,1\\n6672,1\\n6673,1\\n6674,0\\n6675,0\\n6676,0\\n6677,0\\n6678,1\\n6679,0\\n6680,0\\n6681,1\\n6682,0\\n6683,0\\n6684,0\\n6685,0\\n6686,0\\n6687,1\\n6688,1\\n6689,0\\n6690,1\\n6691,0\\n6692,1\\n6693,0\\n6694,1\\n6695,1\\n6696,1\\n6697,0\\n6698,1\\n6699,0\\n6700,0\\n6701,1\\n6702,0\\n6703,0\\n6704,1\\n6705,0\\n6706,0\\n6707,1\\n6708,1\\n6709,0\\n6710,1\\n6711,1\\n6712,1\\n6713,1\\n6714,0\\n6715,1\\n6716,0\\n6717,0\\n6718,0\\n6719,0\\n6720,1\\n6721,0\\n6722,0\\n6723,1\\n6724,0\\n6725,1\\n6726,0\\n6727,1\\n6728,1\\n6729,1\\n6730,1\\n6731,0\\n6732,1\\n6733,1\\n6734,1\\n6735,0\\n6736,0\\n6737,0\\n6738,0\\n6739,1\\n6740,0\\n6741,1\\n6742,1\\n6743,1\\n6744,0\\n6745,1\\n6746,0\\n6747,1\\n6748,0\\n6749,0\\n6750,0\\n6751,0\\n6752,0\\n6753,1\\n6754,0\\n6755,0\\n6756,0\\n6757,0\\n6758,1\\n6759,1\\n6760,0\\n6761,0\\n6762,0\\n6763,1\\n6764,1\\n6765,0\\n6766,0\\n6767,1\\n6768,1\\n6769,0\\n6770,0\\n6771,0\\n6772,1\\n6773,1\\n6774,1\\n6775,1\\n6776,0\\n6777,1\\n6778,0\\n6779,1\\n6780,1\\n6781,1\\n6782,1\\n6783,1\\n6784,1\\n6785,0\\n6786,1\\n6787,1\\n6788,0\\n6789,0\\n6790,1\\n6791,0\\n6792,1\\n6793,0\\n6794,0\\n6795,1\\n6796,0\\n6797,0\\n6798,0\\n6799,0\\n6800,1\\n6801,0\\n6802,1\\n6803,0\\n6804,0\\n6805,0\\n6806,1\\n6807,0\\n6808,0\\n6809,0\\n6810,1\\n6811,0\\n6812,1\\n6813,0\\n6814,0\\n6815,1\\n6816,1\\n6817,0\\n6818,1\\n6819,0\\n6820,0\\n6821,1\\n6822,1\\n6823,0\\n6824,1\\n6825,1\\n6826,1\\n6827,0\\n6828,0\\n6829,0\\n6830,1\\n6831,1\\n6832,1\\n6833,1\\n6834,1\\n6835,1\\n6836,1\\n6837,0\\n6838,1\\n6839,1\\n6840,0\\n6841,0\\n6842,0\\n6843,0\\n6844,0\\n6845,0\\n6846,0\\n6847,0\\n6848,1\\n6849,0\\n6850,0\\n6851,0\\n6852,1\\n6853,0\\n6854,1\\n6855,1\\n6856,0\\n6857,0\\n6858,0\\n6859,0\\n6860,0\\n6861,1\\n6862,0\\n6863,1\\n6864,0\\n6865,1\\n6866,0\\n6867,0\\n6868,0\\n6869,1\\n6870,0\\n6871,0\\n6872,1\\n6873,1\\n6874,1\\n6875,0\\n6876,0\\n6877,1\\n6878,1\\n6879,0\\n6880,1\\n6881,1\\n6882,1\\n6883,0\\n6884,1\\n6885,0\\n6886,1\\n6887,1\\n6888,1\\n6889,1\\n6890,0\\n6891,0\\n6892,0\\n6893,0\\n6894,0\\n6895,1\\n6896,1\\n6897,0\\n6898,0\\n6899,0\\n6900,0\\n6901,1\\n6902,0\\n6903,0\\n6904,0\\n6905,0\\n6906,0\\n6907,1\\n6908,1\\n6909,1\\n6910,0\\n6911,0\\n6912,1\\n6913,0\\n6914,0\\n6915,1\\n6916,0\\n6917,1\\n6918,1\\n6919,1\\n6920,0\\n6921,1\\n6922,1\\n6923,0\\n6924,1\\n6925,1\\n6926,0\\n6927,1\\n6928,1\\n6929,1\\n6930,1\\n6931,1\\n6932,1\\n6933,1\\n6934,1\\n6935,0\\n6936,0\\n6937,1\\n6938,1\\n6939,1\\n6940,0\\n6941,0\\n6942,1\\n6943,1\\n6944,1\\n6945,0\\n6946,1\\n6947,0\\n6948,0\\n6949,1\\n6950,0\\n6951,1\\n6952,1\\n6953,0\\n6954,1\\n6955,1\\n6956,1\\n6957,1\\n6958,0\\n6959,1\\n6960,1\\n6961,0\\n6962,0\\n6963,1\\n6964,1\\n6965,0\\n6966,1\\n6967,0\\n6968,0\\n6969,0\\n6970,0\\n6971,0\\n6972,1\\n6973,1\\n6974,1\\n6975,1\\n6976,1\\n6977,1\\n6978,0\\n6979,1\\n6980,1\\n6981,1\\n6982,0\\n6983,1\\n6984,1\\n6985,0\\n6986,1\\n6987,1\\n6988,1\\n6989,0\\n6990,0\\n6991,1\\n6992,1\\n6993,0\\n6994,1\\n6995,1\\n6996,1\\n6997,1\\n6998,1\\n6999,0\\n7000,0\\n7001,1\\n7002,1\\n7003,1\\n7004,1\\n7005,1\\n7006,1\\n7007,0\\n7008,0\\n7009,0\\n7010,1\\n7011,0\\n7012,1\\n7013,0\\n7014,1\\n7015,0\\n7016,0\\n7017,1\\n7018,0\\n7019,0\\n7020,1\\n7021,1\\n7022,1\\n7023,1\\n7024,1\\n7025,1\\n7026,1\\n7027,1\\n7028,0\\n7029,0\\n7030,1\\n7031,1\\n7032,0\\n7033,1\\n7034,0\\n7035,0\\n7036,1\\n7037,0\\n7038,1\\n7039,0\\n7040,0\\n7041,0\\n7042,1\\n7043,1\\n7044,1\\n7045,1\\n7046,0\\n7047,0\\n7048,1\\n7049,0\\n7050,0\\n7051,0\\n7052,1\\n7053,0\\n7054,1\\n7055,1\\n7056,0\\n7057,1\\n7058,0\\n7059,0\\n7060,1\\n7061,1\\n7062,1\\n7063,1\\n7064,1\\n7065,0\\n7066,1\\n7067,0\\n7068,1\\n7069,1\\n7070,0\\n7071,0\\n7072,0\\n7073,1\\n7074,1\\n7075,1\\n7076,1\\n7077,1\\n7078,1\\n7079,0\\n7080,1\\n7081,0\\n7082,1\\n7083,0\\n7084,1\\n7085,0\\n7086,0\\n7087,0\\n7088,1\\n7089,0\\n7090,0\\n7091,0\\n7092,1\\n7093,1\\n7094,0\\n7095,0\\n7096,0\\n7097,1\\n7098,1\\n7099,1\\n7100,1\\n7101,1\\n7102,0\\n7103,1\\n7104,0\\n7105,1\\n7106,1\\n7107,1\\n7108,1\\n7109,1\\n7110,0\\n7111,0\\n7112,0\\n7113,1\\n7114,0\\n7115,1\\n7116,1\\n7117,1\\n7118,0\\n7119,1\\n7120,0\\n7121,0\\n7122,1\\n7123,0\\n7124,0\\n7125,0\\n7126,0\\n7127,0\\n7128,1\\n7129,0\\n7130,1\\n7131,1\\n7132,0\\n7133,0\\n7134,0\\n7135,1\\n7136,0\\n7137,0\\n7138,1\\n7139,0\\n7140,1\\n7141,1\\n7142,1\\n7143,0\\n7144,0\\n7145,1\\n7146,0\\n7147,0\\n7148,1\\n7149,0\\n7150,0\\n7151,0\\n7152,0\\n7153,0\\n7154,0\\n7155,0\\n7156,1\\n7157,0\\n7158,0\\n7159,0\\n7160,1\\n7161,1\\n7162,1\\n7163,1\\n7164,1\\n7165,0\\n7166,1\\n7167,0\\n7168,1\\n7169,1\\n7170,0\\n7171,0\\n7172,0\\n7173,0\\n7174,0\\n7175,0\\n7176,0\\n7177,0\\n7178,1\\n7179,1\\n7180,0\\n7181,0\\n7182,0\\n7183,1\\n7184,1\\n7185,0\\n7186,0\\n7187,1\\n7188,0\\n7189,0\\n7190,1\\n7191,1\\n7192,0\\n7193,0\\n7194,0\\n7195,0\\n7196,1\\n7197,1\\n7198,1\\n7199,0\\n7200,0\\n7201,1\\n7202,1\\n7203,1\\n7204,1\\n7205,1\\n7206,0\\n7207,1\\n7208,0\\n7209,1\\n7210,0\\n7211,1\\n7212,0\\n7213,0\\n7214,1\\n7215,1\\n7216,0\\n7217,1\\n7218,1\\n7219,1\\n7220,1\\n7221,1\\n7222,1\\n7223,0\\n7224,0\\n7225,0\\n7226,0\\n7227,1\\n7228,1\\n7229,1\\n7230,1\\n7231,0\\n7232,0\\n7233,1\\n7234,0\\n7235,0\\n7236,0\\n7237,0\\n7238,0\\n7239,0\\n7240,1\\n7241,0\\n7242,1\\n7243,1\\n7244,1\\n7245,1\\n7246,0\\n7247,1\\n7248,1\\n7249,1\\n7250,1\\n7251,1\\n7252,0\\n7253,1\\n7254,1\\n7255,1\\n7256,0\\n7257,0\\n7258,1\\n7259,0\\n7260,1\\n7261,1\\n7262,0\\n7263,1\\n7264,0\\n7265,1\\n7266,1\\n7267,1\\n7268,0\\n7269,0\\n7270,1\\n7271,0\\n7272,0\\n7273,1\\n7274,1\\n7275,1\\n7276,1\\n7277,1\\n7278,0\\n7279,1\\n7280,0\\n7281,0\\n7282,1\\n7283,0\\n7284,1\\n7285,1\\n7286,1\\n7287,1\\n7288,0\\n7289,1\\n7290,1\\n7291,0\\n7292,1\\n7293,0\\n7294,0\\n7295,1\\n7296,0\\n7297,1\\n7298,0\\n7299,1\\n7300,0\\n7301,0\\n7302,1\\n7303,1\\n7304,0\\n7305,0\\n7306,1\\n7307,0\\n7308,0\\n7309,1\\n7310,0\\n7311,0\\n7312,0\\n7313,1\\n7314,0\\n7315,1\\n7316,1\\n7317,1\\n7318,1\\n7319,1\\n7320,1\\n7321,1\\n7322,0\\n7323,0\\n7324,1\\n7325,1\\n7326,0\\n7327,0\\n7328,1\\n7329,0\\n7330,1\\n7331,0\\n7332,1\\n7333,1\\n7334,0\\n7335,0\\n7336,1\\n7337,1\\n7338,1\\n7339,1\\n7340,0\\n7341,0\\n7342,0\\n7343,0\\n7344,1\\n7345,0\\n7346,1\\n7347,0\\n7348,1\\n7349,1\\n7350,1\\n7351,0\\n7352,1\\n7353,0\\n7354,0\\n7355,0\\n7356,1\\n7357,0\\n7358,1\\n7359,1\\n7360,0\\n7361,0\\n7362,0\\n7363,1\\n7364,0\\n7365,0\\n7366,0\\n7367,0\\n7368,0\\n7369,1\\n7370,1\\n7371,1\\n7372,0\\n7373,1\\n7374,1\\n7375,0\\n7376,0\\n7377,1\\n7378,1\\n7379,1\\n7380,0\\n7381,1\\n7382,0\\n7383,1\\n7384,0\\n7385,0\\n7386,0\\n7387,0\\n7388,0\\n7389,0\\n7390,0\\n7391,1\\n7392,0\\n7393,1\\n7394,1\\n7395,0\\n7396,0\\n7397,0\\n7398,0\\n7399,1\\n7400,0\\n7401,1\\n7402,1\\n7403,0\\n7404,0\\n7405,1\\n7406,0\\n7407,0\\n7408,0\\n7409,1\\n7410,0\\n7411,0\\n7412,0\\n7413,0\\n7414,1\\n7415,1\\n7416,1\\n7417,0\\n7418,0\\n7419,0\\n7420,0\\n7421,0\\n7422,1\\n7423,1\\n7424,1\\n7425,0\\n7426,0\\n7427,0\\n7428,0\\n7429,1\\n7430,1\\n7431,1\\n7432,1\\n7433,1\\n7434,0\\n7435,1\\n7436,1\\n7437,0\\n7438,0\\n7439,1\\n7440,0\\n7441,0\\n7442,1\\n7443,0\\n7444,0\\n7445,0\\n7446,1\\n7447,0\\n7448,0\\n7449,1\\n7450,0\\n7451,0\\n7452,0\\n7453,0\\n7454,1\\n7455,1\\n7456,0\\n7457,0\\n7458,0\\n7459,0\\n7460,1\\n7461,0\\n7462,0\\n7463,1\\n7464,0\\n7465,1\\n7466,0\\n7467,0\\n7468,1\\n7469,0\\n7470,1\\n7471,1\\n7472,0\\n7473,1\\n7474,0\\n7475,1\\n7476,0\\n7477,1\\n7478,1\\n7479,0\\n7480,0\\n7481,0\\n7482,1\\n7483,1\\n7484,1\\n7485,0\\n7486,0\\n7487,0\\n7488,1\\n7489,1\\n7490,1\\n7491,0\\n7492,1\\n7493,0\\n7494,1\\n7495,1\\n7496,1\\n7497,1\\n7498,1\\n7499,1\\n7500,1\\n7501,1\\n7502,0\\n7503,0\\n7504,0\\n7505,1\\n7506,1\\n7507,1\\n7508,0\\n7509,1\\n7510,0\\n7511,0\\n7512,0\\n7513,1\\n7514,1\\n7515,1\\n7516,0\\n7517,1\\n7518,0\\n7519,1\\n7520,1\\n7521,1\\n7522,0\\n7523,0\\n7524,1\\n7525,0\\n7526,0\\n7527,0\\n7528,0\\n7529,1\\n7530,0\\n7531,0\\n7532,0\\n7533,0\\n7534,1\\n7535,1\\n7536,1\\n7537,1\\n7538,1\\n7539,0\\n7540,0\\n7541,1\\n7542,1\\n7543,1\\n7544,0\\n7545,0\\n7546,0\\n7547,0\\n7548,1\\n7549,1\\n7550,0\\n7551,1\\n7552,1\\n7553,1\\n7554,1\\n7555,1\\n7556,1\\n7557,0\\n7558,0\\n7559,0\\n7560,0\\n7561,0\\n7562,1\\n7563,0\\n7564,0\\n7565,1\\n7566,0\\n7567,0\\n7568,0\\n7569,0\\n7570,1\\n7571,0\\n7572,0\\n7573,1\\n7574,0\\n7575,1\\n7576,1\\n7577,0\\n7578,1\\n7579,1\\n7580,1\\n7581,0\\n7582,0\\n7583,0\\n7584,0\\n7585,0\\n7586,1\\n7587,1\\n7588,1\\n7589,1\\n7590,0\\n7591,0\\n7592,0\\n7593,1\\n7594,1\\n7595,0\\n7596,1\\n7597,1\\n7598,1\\n7599,1\\n7600,1\\n7601,1\\n7602,0\\n7603,0\\n7604,0\\n7605,1\\n7606,1\\n7607,0\\n7608,0\\n7609,0\\n7610,1\\n7611,1\\n7612,1\\n7613,1\\n7614,0\\n7615,0\\n7616,1\\n7617,1\\n7618,1\\n7619,1\\n7620,1\\n7621,1\\n7622,0\\n7623,0\\n7624,1\\n7625,0\\n7626,1\\n7627,1\\n7628,1\\n7629,1\\n7630,0\\n7631,0\\n7632,1\\n7633,1\\n7634,1\\n7635,1\\n7636,1\\n7637,0\\n7638,0\\n7639,1\\n7640,1\\n7641,1\\n7642,0\\n7643,0\\n7644,0\\n7645,0\\n7646,0\\n7647,0\\n7648,0\\n7649,1\\n7650,0\\n7651,1\\n7652,0\\n7653,0\\n7654,0\\n7655,1\\n7656,0\\n7657,0\\n7658,1\\n7659,0\\n7660,1\\n7661,1\\n7662,1\\n7663,1\\n7664,0\\n7665,1\\n7666,1\\n7667,1\\n7668,0\\n7669,1\\n7670,1\\n7671,1\\n7672,1\\n7673,0\\n7674,0\\n7675,1\\n7676,1\\n7677,0\\n7678,1\\n7679,1\\n7680,1\\n7681,1\\n7682,0\\n7683,1\\n7684,0\\n7685,1\\n7686,1\\n7687,1\\n7688,1\\n7689,1\\n7690,0\\n7691,0\\n7692,1\\n7693,1\\n7694,0\\n7695,1\\n7696,1\\n7697,0\\n7698,0\\n7699,1\\n7700,1\\n7701,0\\n7702,0\\n7703,0\\n7704,1\\n7705,1\\n7706,1\\n7707,1\\n7708,0\\n7709,1\\n7710,1\\n7711,1\\n7712,1\\n7713,0\\n7714,0\\n7715,1\\n7716,1\\n7717,1\\n7718,0\\n7719,0\\n7720,0\\n7721,1\\n7722,1\\n7723,1\\n7724,0\\n7725,1\\n7726,0\\n7727,1\\n7728,1\\n7729,1\\n7730,0\\n7731,1\\n7732,1\\n7733,0\\n7734,1\\n7735,0\\n7736,1\\n7737,0\\n7738,0\\n7739,1\\n7740,1\\n7741,1\\n7742,1\\n7743,0\\n7744,1\\n7745,0\\n7746,1\\n7747,1\\n7748,0\\n7749,1\\n7750,1\\n7751,1\\n7752,1\\n7753,0\\n7754,1\\n7755,0\\n7756,1\\n7757,0\\n7758,0\\n7759,0\\n7760,1\\n7761,0\\n7762,0\\n7763,0\\n7764,1\\n7765,1\\n7766,0\\n7767,1\\n7768,0\\n7769,0\\n7770,1\\n7771,1\\n7772,0\\n7773,0\\n7774,1\\n7775,0\\n7776,1\\n7777,0\\n7778,0\\n7779,0\\n7780,1\\n7781,0\\n7782,0\\n7783,1\\n7784,1\\n7785,1\\n7786,1\\n7787,0\\n7788,1\\n7789,0\\n7790,0\\n7791,0\\n7792,1\\n7793,1\\n7794,0\\n7795,1\\n7796,1\\n7797,1\\n7798,0\\n7799,1\\n7800,1\\n7801,0\\n7802,0\\n7803,0\\n7804,1\\n7805,1\\n7806,1\\n7807,1\\n7808,1\\n7809,0\\n7810,0\\n7811,1\\n7812,1\\n7813,0\\n7814,1\\n7815,1\\n7816,0\\n7817,0\\n7818,1\\n7819,0\\n7820,1\\n7821,1\\n7822,1\\n7823,0\\n7824,1\\n7825,1\\n7826,0\\n7827,1\\n7828,1\\n7829,0\\n7830,0\\n7831,0\\n7832,1\\n7833,0\\n7834,1\\n7835,1\\n7836,1\\n7837,0\\n7838,1\\n7839,1\\n7840,0\\n7841,1\\n7842,0\\n7843,0\\n7844,0\\n7845,1\\n7846,0\\n7847,0\\n7848,1\\n7849,1\\n7850,1\\n7851,1\\n7852,1\\n7853,1\\n7854,0\\n7855,1\\n7856,1\\n7857,1\\n7858,0\\n7859,0\\n7860,1\\n7861,0\\n7862,1\\n7863,1\\n7864,1\\n7865,1\\n7866,0\\n7867,1\\n7868,1\\n7869,1\\n7870,1\\n7871,1\\n7872,0\\n7873,1\\n7874,1\\n7875,1\\n7876,1\\n7877,0\\n7878,0\\n7879,0\\n7880,1\\n7881,0\\n7882,0\\n7883,1\\n7884,0\\n7885,1\\n7886,0\\n7887,0\\n7888,0\\n7889,1\\n7890,0\\n7891,1\\n7892,1\\n7893,0\\n7894,1\\n7895,0\\n7896,1\\n7897,1\\n7898,1\\n7899,0\\n7900,1\\n7901,1\\n7902,1\\n7903,0\\n7904,1\\n7905,0\\n7906,1\\n7907,1\\n7908,1\\n7909,1\\n7910,0\\n7911,1\\n7912,1\\n7913,0\\n7914,0\\n7915,1\\n7916,0\\n7917,1\\n7918,1\\n7919,1\\n7920,0\\n7921,0\\n7922,1\\n7923,1\\n7924,0\\n7925,1\\n7926,1\\n7927,0\\n7928,1\\n7929,1\\n7930,0\\n7931,0\\n7932,1\\n7933,1\\n7934,1\\n7935,1\\n7936,0\\n7937,0\\n7938,0\\n7939,1\\n7940,1\\n7941,0\\n7942,0\\n7943,0\\n7944,1\\n7945,0\\n7946,1\\n7947,1\\n7948,0\\n7949,1\\n7950,1\\n7951,0\\n7952,0\\n7953,1\\n7954,1\\n7955,0\\n7956,1\\n7957,1\\n7958,0\\n7959,0\\n7960,0\\n7961,1\\n7962,0\\n7963,0\\n7964,1\\n7965,1\\n7966,1\\n7967,1\\n7968,1\\n7969,1\\n7970,0\\n7971,1\\n7972,0\\n7973,0\\n7974,1\\n7975,0\\n7976,1\\n7977,0\\n7978,1\\n7979,0\\n7980,1\\n7981,1\\n7982,1\\n7983,1\\n7984,0\\n7985,0\\n7986,1\\n7987,1\\n7988,0\\n7989,1\\n7990,1\\n7991,1\\n7992,1\\n7993,1\\n7994,0\\n7995,0\\n7996,1\\n7997,0\\n7998,0\\n7999,0\\n8000,1\\n8001,0\\n8002,1\\n8003,0\\n8004,0\\n8005,1\\n8006,1\\n8007,1\\n8008,0\\n8009,0\\n8010,1\\n8011,1\\n8012,1\\n8013,1\\n8014,1\\n8015,1\\n8016,0\\n8017,1\\n8018,0\\n8019,1\\n8020,0\\n8021,1\\n8022,0\\n8023,0\\n8024,1\\n8025,0\\n8026,1\\n8027,0\\n8028,1\\n8029,1\\n8030,0\\n8031,0\\n8032,1\\n8033,0\\n8034,0\\n8035,0\\n8036,1\\n8037,1\\n8038,1\\n8039,1\\n8040,0\\n8041,1\\n8042,0\\n8043,1\\n8044,1\\n8045,0\\n8046,1\\n8047,0\\n8048,1\\n8049,1\\n8050,0\\n8051,1\\n8052,0\\n8053,1\\n8054,0\\n8055,1\\n8056,1\\n8057,1\\n8058,0\\n8059,1\\n8060,1\\n8061,1\\n8062,1\\n8063,0\\n8064,0\\n8065,0\\n8066,1\\n8067,0\\n8068,1\\n8069,1\\n8070,0\\n8071,0\\n8072,1\\n8073,1\\n8074,1\\n8075,1\\n8076,0\\n8077,0\\n8078,1\\n8079,0\\n8080,0\\n8081,0\\n8082,0\\n8083,1\\n8084,0\\n8085,1\\n8086,1\\n8087,1\\n8088,0\\n8089,1\\n8090,0\\n8091,0\\n8092,1\\n8093,1\\n8094,1\\n8095,1\\n8096,0\\n8097,0\\n8098,0\\n8099,1\\n8100,0\\n8101,0\\n8102,1\\n8103,1\\n8104,0\\n8105,1\\n8106,0\\n8107,1\\n8108,1\\n8109,1\\n8110,1\\n8111,0\\n8112,0\\n8113,1\\n8114,0\\n8115,0\\n8116,1\\n8117,1\\n8118,1\\n8119,0\\n8120,0\\n8121,0\\n8122,0\\n8123,1\\n8124,0\\n8125,0\\n8126,0\\n8127,0\\n8128,0\\n8129,0\\n8130,1\\n8131,1\\n8132,1\\n8133,1\\n8134,1\\n8135,1\\n8136,0\\n8137,0\\n8138,1\\n8139,0\\n8140,1\\n8141,0\\n8142,1\\n8143,0\\n8144,0\\n8145,1\\n8146,0\\n8147,0\\n8148,0\\n8149,1\\n8150,1\\n8151,1\\n8152,1\\n8153,0\\n8154,0\\n8155,1\\n8156,1\\n8157,0\\n8158,1\\n8159,1\\n8160,1\\n8161,1\\n8162,1\\n8163,0\\n8164,1\\n8165,1\\n8166,0\\n8167,1\\n8168,0\\n8169,1\\n8170,1\\n8171,1\\n8172,0\\n8173,0\\n8174,1\\n8175,1\\n8176,0\\n8177,0\\n8178,1\\n8179,1\\n8180,1\\n8181,0\\n8182,1\\n8183,0\\n8184,0\\n8185,1\\n8186,1\\n8187,0\\n8188,1\\n8189,1\\n8190,0\\n8191,1\\n8192,1\\n8193,0\\n8194,1\\n8195,0\\n8196,0\\n8197,0\\n8198,0\\n8199,1\\n8200,1\\n8201,1\\n8202,1\\n8203,1\\n8204,1\\n8205,0\\n8206,1\\n8207,0\\n8208,1\\n8209,1\\n8210,1\\n8211,1\\n8212,1\\n8213,1\\n8214,0\\n8215,0\\n8216,0\\n8217,0\\n8218,1\\n8219,0\\n8220,0\\n8221,1\\n8222,1\\n8223,0\\n8224,1\\n8225,1\\n8226,0\\n8227,0\\n8228,0\\n8229,1\\n8230,1\\n8231,1\\n8232,1\\n8233,1\\n8234,1\\n8235,1\\n8236,0\\n8237,1\\n8238,0\\n8239,1\\n8240,0\\n8241,0\\n8242,0\\n8243,1\\n8244,0\\n8245,1\\n8246,0\\n8247,1\\n8248,0\\n8249,1\\n8250,1\\n8251,1\\n8252,1\\n8253,1\\n8254,0\\n8255,1\\n8256,0\\n8257,0\\n8258,1\\n8259,1\\n8260,1\\n8261,1\\n8262,1\\n8263,1\\n8264,0\\n8265,0\\n8266,1\\n8267,0\\n8268,0\\n8269,1\\n8270,1\\n8271,1\\n8272,0\\n8273,0\\n8274,0\\n8275,1\\n8276,1\\n8277,1\\n8278,0\\n8279,1\\n8280,0\\n8281,1\\n8282,1\\n8283,0\\n8284,1\\n8285,0\\n8286,0\\n8287,0\\n8288,0\\n8289,0\\n8290,0\\n8291,0\\n8292,1\\n8293,1\\n8294,1\\n8295,0\\n8296,0\\n8297,1\\n8298,1\\n8299,1\\n8300,1\\n8301,0\\n8302,1\\n8303,1\\n8304,0\\n8305,0\\n8306,1\\n8307,1\\n8308,1\\n8309,0\\n8310,1\\n8311,1\\n8312,0\\n8313,1\\n8314,1\\n8315,1\\n8316,0\\n8317,1\\n8318,1\\n8319,1\\n8320,0\\n8321,0\\n8322,1\\n8323,1\\n8324,1\\n8325,1\\n8326,1\\n8327,1\\n8328,1\\n8329,1\\n8330,1\\n8331,0\\n8332,1\\n8333,1\\n8334,1\\n8335,1\\n8336,1\\n8337,1\\n8338,0\\n8339,1\\n8340,0\\n8341,0\\n8342,1\\n8343,0\\n8344,1\\n8345,0\\n8346,0\\n8347,1\\n8348,1\\n8349,1\\n8350,1\\n8351,1\\n8352,1\\n8353,0\\n8354,0\\n8355,1\\n8356,1\\n8357,0\\n8358,1\\n8359,0\\n8360,0\\n8361,1\\n8362,0\\n8363,1\\n8364,0\\n8365,0\\n8366,1\\n8367,0\\n8368,1\\n8369,1\\n8370,0\\n8371,0\\n8372,0\\n8373,0\\n8374,1\\n8375,0\\n8376,0\\n8377,0\\n8378,0\\n8379,0\\n8380,0\\n8381,1\\n8382,0\\n8383,1\\n8384,0\\n8385,0\\n8386,0\\n8387,0\\n8388,0\\n8389,1\\n8390,0\\n8391,1\\n8392,1\\n8393,0\\n8394,0\\n8395,1\\n8396,1\\n8397,0\\n8398,0\\n8399,0\\n8400,1\\n8401,1\\n8402,0\\n8403,0\\n8404,1\\n8405,0\\n8406,1\\n8407,1\\n8408,0\\n8409,1\\n8410,0\\n8411,0\\n8412,1\\n8413,0\\n8414,0\\n8415,1\\n8416,0\\n8417,1\\n8418,1\\n8419,0\\n8420,0\\n8421,1\\n8422,1\\n8423,0\\n8424,1\\n8425,1\\n8426,1\\n8427,0\\n8428,0\\n8429,0\\n8430,0\\n8431,0\\n8432,1\\n8433,1\\n8434,0\\n8435,0\\n8436,0\\n8437,0\\n8438,1\\n8439,0\\n8440,1\\n8441,1\\n8442,0\\n8443,1\\n8444,1\\n8445,0\\n8446,1\\n8447,1\\n8448,0\\n8449,1\\n8450,0\\n8451,0\\n8452,1\\n8453,0\\n8454,1\\n8455,0\\n8456,1\\n8457,1\\n8458,0\\n8459,0\\n8460,1\\n8461,0\\n8462,1\\n8463,1\\n8464,1\\n8465,1\\n8466,1\\n8467,0\\n8468,1\\n8469,1\\n8470,1\\n8471,1\\n8472,0\\n8473,1\\n8474,1\\n8475,1\\n8476,1\\n8477,1\\n8478,0\\n8479,0\\n8480,0\\n8481,1\\n8482,0\\n8483,1\\n8484,0\\n8485,1\\n8486,0\\n8487,1\\n8488,1\\n8489,0\\n8490,0\\n8491,0\\n8492,1\\n8493,1\\n8494,1\\n8495,1\\n8496,0\\n8497,1\\n8498,1\\n8499,0\\n8500,0\\n8501,1\\n8502,1\\n8503,1\\n8504,1\\n8505,0\\n8506,0\\n8507,0\\n8508,1\\n8509,1\\n8510,0\\n8511,1\\n8512,1\\n8513,1\\n8514,0\\n8515,1\\n8516,0\\n8517,0\\n8518,1\\n8519,0\\n8520,0\\n8521,0\\n8522,0\\n8523,1\\n8524,1\\n8525,1\\n8526,0\\n8527,0\\n8528,0\\n8529,1\\n8530,0\\n8531,0\\n8532,1\\n8533,1\\n8534,0\\n8535,0\\n8536,1\\n8537,1\\n8538,0\\n8539,0\\n8540,1\\n8541,1\\n8542,0\\n8543,0\\n8544,0\\n8545,1\\n8546,0\\n8547,1\\n8548,0\\n8549,1\\n8550,0\\n8551,1\\n8552,0\\n8553,1\\n8554,1\\n8555,0\\n8556,0\\n8557,1\\n8558,1\\n8559,1\\n8560,1\\n8561,1\\n8562,1\\n8563,1\\n8564,0\\n8565,0\\n8566,1\\n8567,1\\n8568,0\\n8569,0\\n8570,1\\n8571,0\\n8572,1\\n8573,0\\n8574,0\\n8575,0\\n8576,1\\n8577,0\\n8578,1\\n8579,1\\n8580,0\\n8581,0\\n8582,1\\n8583,0\\n8584,0\\n8585,1\\n8586,1\\n8587,1\\n8588,0\\n8589,1\\n8590,1\\n8591,0\\n8592,1\\n8593,0\\n8594,0\\n8595,1\\n8596,0\\n8597,1\\n8598,0\\n8599,0\\n8600,1\\n8601,1\\n8602,0\\n8603,1\\n8604,0\\n8605,0\\n8606,0\\n8607,0\\n8608,1\\n8609,0\\n8610,1\\n8611,0\\n8612,0\\n8613,1\\n8614,0\\n8615,1\\n8616,1\\n8617,0\\n8618,1\\n8619,1\\n8620,0\\n8621,1\\n8622,0\\n8623,1\\n8624,0\\n8625,1\\n8626,1\\n8627,1\\n8628,1\\n8629,1\\n8630,0\\n8631,1\\n8632,1\\n8633,1\\n8634,1\\n8635,0\\n8636,0\\n8637,0\\n8638,0\\n8639,1\\n8640,1\\n8641,0\\n8642,0\\n8643,1\\n8644,1\\n8645,0\\n8646,1\\n8647,1\\n8648,0\\n8649,1\\n8650,0\\n8651,0\\n8652,1\\n8653,0\\n8654,1\\n8655,1\\n8656,0\\n8657,0\\n8658,0\\n8659,1\\n8660,0\\n8661,1\\n8662,1\\n8663,0\\n8664,0\\n8665,0\\n8666,0\\n8667,0\\n8668,1\\n8669,1\\n8670,0\\n8671,0\\n8672,1\\n8673,1\\n8674,0\\n8675,0\\n8676,0\\n8677,1\\n8678,1\\n8679,0\\n8680,1\\n8681,1\\n8682,1\\n8683,1\\n8684,0\\n8685,0\\n8686,0\\n8687,1\\n8688,1\\n8689,0\\n8690,0\\n8691,1\\n8692,1\\n8693,1\\n8694,1\\n8695,1\\n8696,0\\n8697,1\\n8698,0\\n8699,1\\n8700,0\\n8701,1\\n8702,1\\n8703,1\\n8704,0\\n8705,0\\n8706,1\\n8707,0\\n8708,0\\n8709,1\\n8710,0\\n8711,0\\n8712,0\\n8713,1\\n8714,0\\n8715,1\\n8716,1\\n8717,1\\n8718,0\\n8719,1\\n8720,0\\n8721,1\\n8722,0\\n8723,1\\n8724,1\\n8725,0\\n8726,1\\n8727,0\\n8728,0\\n8729,0\\n8730,0\\n8731,0\\n8732,0\\n8733,0\\n8734,1\\n8735,0\\n8736,0\\n8737,0\\n8738,1\\n8739,0\\n8740,0\\n8741,1\\n8742,1\\n8743,0\\n8744,0\\n8745,0\\n8746,1\\n8747,1\\n8748,0\\n8749,0\\n8750,1\\n8751,1\\n8752,0\\n8753,1\\n8754,0\\n8755,0\\n8756,1\\n8757,1\\n8758,1\\n8759,0\\n8760,0\\n8761,0\\n8762,0\\n8763,0\\n8764,1\\n8765,0\\n8766,1\\n8767,1\\n8768,1\\n8769,1\\n8770,0\\n8771,0\\n8772,1\\n8773,1\\n8774,0\\n8775,1\\n8776,1\\n8777,0\\n8778,0\\n8779,0\\n8780,1\\n8781,0\\n8782,1\\n8783,1\\n8784,1\\n8785,0\\n8786,0\\n8787,0\\n8788,0\\n8789,1\\n8790,1\\n8791,0\\n8792,1\\n8793,1\\n8794,0\\n8795,1\\n8796,1\\n8797,0\\n8798,1\\n8799,0\\n8800,1\\n8801,0\\n8802,0\\n8803,0\\n8804,0\\n8805,1\\n8806,1\\n8807,0\\n8808,1\\n8809,1\\n8810,1\\n8811,0\\n8812,1\\n8813,0\\n8814,1\\n8815,0\\n8816,1\\n8817,1\\n8818,1\\n8819,0\\n8820,0\\n8821,1\\n8822,0\\n8823,1\\n8824,0\\n8825,0\\n8826,1\\n8827,0\\n8828,0\\n8829,1\\n8830,1\\n8831,1\\n8832,1\\n8833,1\\n8834,1\\n8835,0\\n8836,0\\n8837,1\\n8838,0\\n8839,0\\n8840,0\\n8841,1\\n8842,0\\n8843,1\\n8844,1\\n8845,1\\n8846,1\\n8847,1\\n8848,1\\n8849,0\\n8850,1\\n8851,0\\n8852,1\\n8853,1\\n8854,1\\n8855,0\\n8856,0\\n8857,1\\n8858,0\\n8859,0\\n8860,1\\n8861,1\\n8862,1\\n8863,0\\n8864,0\\n8865,1\\n8866,1\\n8867,1\\n8868,0\\n8869,1\\n8870,1\\n8871,0\\n8872,1\\n8873,1\\n8874,0\\n8875,0\\n8876,0\\n8877,1\\n8878,0\\n8879,0\\n8880,0\\n8881,0\\n8882,0\\n8883,0\\n8884,0\\n8885,1\\n8886,1\\n8887,1\\n8888,0\\n8889,1\\n8890,0\\n8891,0\\n8892,1\\n8893,0\\n8894,0\\n8895,0\\n8896,0\\n8897,1\\n8898,1\\n8899,1\\n8900,0\\n8901,1\\n8902,1\\n8903,1\\n8904,1\\n8905,1\\n8906,0\\n8907,1\\n8908,1\\n8909,1\\n8910,1\\n8911,0\\n8912,1\\n8913,1\\n8914,1\\n8915,1\\n8916,1\\n8917,1\\n8918,1\\n8919,1\\n8920,1\\n8921,1\\n8922,0\\n8923,1\\n8924,1\\n8925,1\\n8926,0\\n8927,1\\n8928,0\\n8929,1\\n8930,1\\n8931,0\\n8932,0\\n8933,1\\n8934,1\\n8935,0\\n8936,1\\n8937,0\\n8938,1\\n8939,1\\n8940,0\\n8941,0\\n8942,1\\n8943,0\\n8944,1\\n8945,1\\n8946,1\\n8947,1\\n8948,1\\n8949,1\\n8950,0\\n8951,0\\n8952,1\\n8953,1\\n8954,0\\n8955,1\\n8956,1\\n8957,1\\n8958,1\\n8959,1\\n8960,0\\n8961,0\\n8962,1\\n8963,1\\n8964,1\\n8965,1\\n8966,0\\n8967,1\\n8968,1\\n8969,0\\n8970,1\\n8971,1\\n8972,0\\n8973,1\\n8974,0\\n8975,0\\n8976,1\\n8977,1\\n8978,0\\n8979,0\\n8980,0\\n8981,1\\n8982,0\\n8983,0\\n8984,0\\n8985,1\\n8986,1\\n8987,1\\n8988,0\\n8989,0\\n8990,0\\n8991,0\\n8992,1\\n8993,1\\n8994,1\\n8995,1\\n8996,0\\n8997,1\\n8998,1\\n8999,1\\n9000,0\\n9001,0\\n9002,1\\n9003,1\\n9004,0\\n9005,0\\n9006,0\\n9007,1\\n9008,0\\n9009,1\\n9010,1\\n9011,0\\n9012,0\\n9013,0\\n9014,0\\n9015,1\\n9016,1\\n9017,0\\n9018,1\\n9019,0\\n9020,1\\n9021,1\\n9022,0\\n9023,1\\n9024,0\\n9025,0\\n9026,1\\n9027,1\\n9028,1\\n9029,1\\n9030,1\\n9031,1\\n9032,0\\n9033,1\\n9034,1\\n9035,1\\n9036,1\\n9037,0\\n9038,0\\n9039,1\\n9040,0\\n9041,1\\n9042,0\\n9043,1\\n9044,0\\n9045,0\\n9046,0\\n9047,0\\n9048,1\\n9049,0\\n9050,1\\n9051,1\\n9052,0\\n9053,0\\n9054,0\\n9055,1\\n9056,1\\n9057,0\\n9058,1\\n9059,1\\n9060,1\\n9061,1\\n9062,0\\n9063,0\\n9064,0\\n9065,1\\n9066,1\\n9067,1\\n9068,0\\n9069,0\\n9070,0\\n9071,0\\n9072,1\\n9073,0\\n9074,1\\n9075,1\\n9076,1\\n9077,0\\n9078,1\\n9079,1\\n9080,0\\n9081,1\\n9082,0\\n9083,1\\n9084,1\\n9085,0\\n9086,0\\n9087,1\\n9088,0\\n9089,1\\n9090,0\\n9091,1\\n9092,1\\n9093,1\\n9094,0\\n9095,1\\n9096,1\\n9097,1\\n9098,0\\n9099,1\\n9100,0\\n9101,0\\n9102,0\\n9103,0\\n9104,1\\n9105,0\\n9106,1\\n9107,0\\n9108,1\\n9109,0\\n9110,0\\n9111,0\\n9112,1\\n9113,0\\n9114,0\\n9115,1\\n9116,1\\n9117,1\\n9118,1\\n9119,0\\n9120,0\\n9121,1\\n9122,1\\n9123,1\\n9124,1\\n9125,1\\n9126,1\\n9127,1\\n9128,1\\n9129,1\\n9130,1\\n9131,0\\n9132,1\\n9133,0\\n9134,1\\n9135,1\\n9136,0\\n9137,0\\n9138,1\\n9139,1\\n9140,0\\n9141,0\\n9142,1\\n9143,0\\n9144,0\\n9145,0\\n9146,0\\n9147,0\\n9148,1\\n9149,1\\n9150,1\\n9151,1\\n9152,0\\n9153,1\\n9154,0\\n9155,1\\n9156,0\\n9157,1\\n9158,0\\n9159,1\\n9160,1\\n9161,0\\n9162,0\\n9163,1\\n9164,1\\n9165,1\\n9166,1\\n9167,0\\n9168,0\\n9169,1\\n9170,1\\n9171,0\\n9172,1\\n9173,1\\n9174,1\\n9175,1\\n9176,1\\n9177,0\\n9178,1\\n9179,0\\n9180,0\\n9181,1\\n9182,0\\n9183,0\\n9184,1\\n9185,1\\n9186,0\\n9187,1\\n9188,1\\n9189,1\\n9190,0\\n9191,0\\n9192,0\\n9193,1\\n9194,1\\n9195,1\\n9196,1\\n9197,1\\n9198,1\\n9199,0\\n9200,1\\n9201,1\\n9202,1\\n9203,1\\n9204,1\\n9205,0\\n9206,0\\n9207,1\\n9208,0\\n9209,1\\n9210,1\\n9211,0\\n9212,1\\n9213,1\\n9214,0\\n9215,1\\n9216,1\\n9217,0\\n9218,1\\n9219,1\\n9220,1\\n9221,1\\n9222,1\\n9223,0\\n9224,1\\n9225,0\\n9226,1\\n9227,0\\n9228,0\\n9229,0\\n9230,1\\n9231,0\\n9232,0\\n9233,0\\n9234,1\\n9235,0\\n9236,0\\n9237,0\\n9238,1\\n9239,1\\n9240,1\\n9241,1\\n9242,1\\n9243,1\\n9244,1\\n9245,0\\n9246,1\\n9247,1\\n9248,1\\n9249,0\\n9250,0\\n9251,0\\n9252,1\\n9253,0\\n9254,0\\n9255,0\\n9256,1\\n9257,1\\n9258,0\\n9259,1\\n9260,1\\n9261,1\\n9262,1\\n9263,1\\n9264,1\\n9265,1\\n9266,0\\n9267,0\\n9268,1\\n9269,1\\n9270,0\\n9271,1\\n9272,1\\n9273,1\\n9274,0\\n9275,0\\n9276,1\\n9277,1\\n9278,0\\n9279,1\\n9280,0\\n9281,0\\n9282,0\\n9283,0\\n9284,0\\n9285,0\\n9286,0\\n9287,0\\n9288,1\\n9289,1\\n9290,1\\n9291,0\\n9292,0\\n9293,1\\n9294,1\\n9295,0\\n9296,1\\n9297,0\\n9298,0\\n9299,0\\n9300,1\\n9301,1\\n9302,1\\n9303,1\\n9304,1\\n9305,1\\n9306,0\\n9307,0\\n9308,1\\n9309,0\\n9310,1\\n9311,1\\n9312,0\\n9313,0\\n9314,1\\n9315,1\\n9316,0\\n9317,1\\n9318,0\\n9319,0\\n9320,1\\n9321,0\\n9322,1\\n9323,0\\n9324,0\\n9325,0\\n9326,0\\n9327,1\\n9328,0\\n9329,0\\n9330,0\\n9331,0\\n9332,0\\n9333,1\\n9334,1\\n9335,1\\n9336,1\\n9337,1\\n9338,0\\n9339,1\\n9340,1\\n9341,0\\n9342,0\\n9343,0\\n9344,1\\n9345,1\\n9346,1\\n9347,1\\n9348,1\\n9349,1\\n9350,1\\n9351,1\\n9352,1\\n9353,0\\n9354,1\\n9355,1\\n9356,1\\n9357,1\\n9358,1\\n9359,0\\n9360,0\\n9361,1\\n9362,1\\n9363,1\\n9364,0\\n9365,1\\n9366,0\\n9367,0\\n9368,0\\n9369,0\\n9370,1\\n9371,1\\n9372,0\\n9373,0\\n9374,0\\n9375,0\\n9376,1\\n9377,0\\n9378,0\\n9379,0\\n9380,0\\n9381,0\\n9382,0\\n9383,0\\n9384,0\\n9385,1\\n9386,0\\n9387,1\\n9388,0\\n9389,0\\n9390,1\\n9391,1\\n9392,0\\n9393,0\\n9394,1\\n9395,0\\n9396,1\\n9397,0\\n9398,0\\n9399,1\\n9400,1\\n9401,0\\n9402,1\\n9403,1\\n9404,0\\n9405,1\\n9406,1\\n9407,1\\n9408,1\\n9409,0\\n9410,0\\n9411,0\\n9412,0\\n9413,0\\n9414,0\\n9415,1\\n9416,1\\n9417,0\\n9418,1\\n9419,1\\n9420,0\\n9421,1\\n9422,1\\n9423,1\\n9424,0\\n9425,0\\n9426,0\\n9427,1\\n9428,1\\n9429,0\\n9430,0\\n9431,1\\n9432,1\\n9433,0\\n9434,1\\n9435,1\\n9436,0\\n9437,0\\n9438,0\\n9439,1\\n9440,1\\n9441,0\\n9442,1\\n9443,1\\n9444,0\\n9445,1\\n9446,0\\n9447,0\\n9448,1\\n9449,1\\n9450,1\\n9451,1\\n9452,1\\n9453,0\\n9454,0\\n9455,0\\n9456,0\\n9457,0\\n9458,1\\n9459,1\\n9460,1\\n9461,0\\n9462,1\\n9463,1\\n9464,0\\n9465,1\\n9466,1\\n9467,1\\n9468,1\\n9469,0\\n9470,0\\n9471,1\\n9472,1\\n9473,0\\n9474,1\\n9475,0\\n9476,1\\n9477,1\\n9478,0\\n9479,1\\n9480,1\\n9481,0\\n9482,0\\n9483,1\\n9484,1\\n9485,0\\n9486,0\\n9487,1\\n9488,1\\n9489,0\\n9490,1\\n9491,1\\n9492,1\\n9493,0\\n9494,0\\n9495,1\\n9496,0\\n9497,1\\n9498,0\\n9499,0\\n9500,1\\n9501,0\\n9502,1\\n9503,1\\n9504,0\\n9505,1\\n9506,1\\n9507,1\\n9508,0\\n9509,1\\n9510,1\\n9511,1\\n9512,0\\n9513,1\\n9514,0\\n9515,1\\n9516,0\\n9517,0\\n9518,1\\n9519,1\\n9520,1\\n9521,1\\n9522,1\\n9523,0\\n9524,1\\n9525,0\\n9526,0\\n9527,1\\n9528,0\\n9529,1\\n9530,0\\n9531,1\\n9532,1\\n9533,1\\n9534,1\\n9535,0\\n9536,1\\n9537,1\\n9538,0\\n9539,0\\n9540,0\\n9541,1\\n9542,1\\n9543,1\\n9544,0\\n9545,1\\n9546,0\\n9547,1\\n9548,1\\n9549,1\\n9550,0\\n9551,1\\n9552,0\\n9553,0\\n9554,0\\n9555,1\\n9556,1\\n9557,1\\n9558,0\\n9559,1\\n9560,1\\n9561,1\\n9562,0\\n9563,0\\n9564,1\\n9565,1\\n9566,0\\n9567,0\\n9568,1\\n9569,0\\n9570,1\\n9571,1\\n9572,1\\n9573,1\\n9574,1\\n9575,1\\n9576,1\\n9577,1\\n9578,0\\n9579,0\\n9580,1\\n9581,1\\n9582,1\\n9583,0\\n9584,0\\n9585,0\\n9586,1\\n9587,1\\n9588,1\\n9589,1\\n9590,1\\n9591,1\\n9592,1\\n9593,1\\n9594,1\\n9595,1\\n9596,1\\n9597,0\\n9598,1\\n9599,0\\n9600,1\\n9601,0\\n9602,0\\n9603,0\\n9604,0\\n9605,1\\n9606,1\\n9607,0\\n9608,0\\n9609,1\\n9610,1\\n9611,1\\n9612,1\\n9613,1\\n9614,0\\n9615,1\\n9616,1\\n9617,1\\n9618,0\\n9619,1\\n9620,1\\n9621,1\\n9622,0\\n9623,0\\n9624,1\\n9625,0\\n9626,0\\n9627,0\\n9628,0\\n9629,1\\n9630,1\\n9631,0\\n9632,1\\n9633,1\\n9634,1\\n9635,0\\n9636,1\\n9637,1\\n9638,1\\n9639,1\\n9640,0\\n9641,0\\n9642,0\\n9643,0\\n9644,0\\n9645,1\\n9646,0\\n9647,0\\n9648,1\\n9649,0\\n9650,1\\n9651,1\\n9652,0\\n9653,1\\n9654,1\\n9655,0\\n9656,0\\n9657,0\\n9658,0\\n9659,0\\n9660,1\\n9661,1\\n9662,1\\n9663,1\\n9664,1\\n9665,0\\n9666,1\\n9667,0\\n9668,0\\n9669,1\\n9670,0\\n9671,1\\n9672,0\\n9673,0\\n9674,1\\n9675,0\\n9676,1\\n9677,1\\n9678,1\\n9679,1\\n9680,0\\n9681,1\\n9682,0\\n9683,1\\n9684,1\\n9685,0\\n9686,1\\n9687,1\\n9688,1\\n9689,1\\n9690,1\\n9691,0\\n9692,1\\n9693,0\\n9694,0\\n9695,1\\n9696,1\\n9697,1\\n9698,1\\n9699,0\\n9700,0\\n9701,0\\n9702,0\\n9703,1\\n9704,1\\n9705,0\\n9706,0\\n9707,0\\n9708,1\\n9709,0\\n9710,0\\n9711,0\\n9712,0\\n9713,1\\n9714,1\\n9715,1\\n9716,1\\n9717,1\\n9718,0\\n9719,1\\n9720,1\\n9721,1\\n9722,0\\n9723,1\\n9724,1\\n9725,1\\n9726,1\\n9727,1\\n9728,1\\n9729,1\\n9730,1\\n9731,1\\n9732,1\\n9733,1\\n9734,1\\n9735,0\\n9736,0\\n9737,0\\n9738,0\\n9739,0\\n9740,0\\n9741,0\\n9742,0\\n9743,0\\n9744,1\\n9745,0\\n9746,0\\n9747,1\\n9748,1\\n9749,1\\n9750,1\\n9751,1\\n9752,1\\n9753,0\\n9754,1\\n9755,1\\n9756,1\\n9757,0\\n9758,0\\n9759,1\\n9760,0\\n9761,1\\n9762,1\\n9763,0\\n9764,0\\n9765,0\\n9766,0\\n9767,1\\n9768,0\\n9769,1\\n9770,0\\n9771,0\\n9772,1\\n9773,0\\n9774,0\\n9775,1\\n9776,1\\n9777,1\\n9778,1\\n9779,0\\n9780,0\\n9781,1\\n9782,0\\n9783,1\\n9784,1\\n9785,0\\n9786,1\\n9787,0\\n9788,0\\n9789,0\\n9790,1\\n9791,0\\n9792,1\\n9793,0\\n9794,0\\n9795,1\\n9796,1\\n9797,0\\n9798,0\\n9799,0\\n9800,1\\n9801,0\\n9802,1\\n9803,1\\n9804,1\\n9805,1\\n9806,1\\n9807,1\\n9808,0\\n9809,1\\n9810,1\\n9811,1\\n9812,1\\n9813,1\\n9814,0\\n9815,0\\n9816,0\\n9817,0\\n9818,1\\n9819,1\\n9820,1\\n9821,1\\n9822,0\\n9823,0\\n9824,0\\n9825,0\\n9826,1\\n9827,0\\n9828,0\\n9829,0\\n9830,1\\n9831,1\\n9832,1\\n9833,1\\n9834,1\\n9835,0\\n9836,1\\n9837,0\\n9838,0\\n9839,1\\n9840,1\\n9841,0\\n9842,0\\n9843,0\\n9844,1\\n9845,1\\n9846,1\\n9847,1\\n9848,1\\n9849,0\\n9850,0\\n9851,0\\n9852,1\\n9853,0\\n9854,0\\n9855,1\\n9856,1\\n9857,0\\n9858,0\\n9859,1\\n9860,0\\n9861,1\\n9862,0\\n9863,1\\n9864,0\\n9865,0\\n9866,1\\n9867,1\\n9868,0\\n9869,1\\n9870,1\\n9871,0\\n9872,1\\n9873,1\\n9874,1\\n9875,0\\n9876,0\\n9877,1\\n9878,0\\n9879,0\\n9880,1\\n9881,0\\n9882,1\\n9883,1\\n9884,0\\n9885,1\\n9886,0\\n9887,1\\n9888,1\\n9889,0\\n9890,0\\n9891,0\\n9892,0\\n9893,1\\n9894,1\\n9895,1\\n9896,0\\n9897,0\\n9898,0\\n9899,0\\n9900,0\\n9901,0\\n9902,1\\n9903,0\\n9904,1\\n9905,1\\n9906,0\\n9907,0\\n9908,1\\n9909,0\\n9910,1\\n9911,0\\n9912,0\\n9913,0\\n9914,0\\n9915,1\\n9916,1\\n9917,0\\n9918,1\\n9919,1\\n9920,1\\n9921,1\\n9922,1\\n9923,1\\n9924,0\\n9925,1\\n9926,1\\n9927,0\\n9928,1\\n9929,1\\n9930,1\\n9931,0\\n9932,1\\n9933,0\\n9934,0\\n9935,1\\n9936,1\\n9937,1\\n9938,1\\n9939,0\\n9940,1\\n9941,1\\n9942,0\\n9943,0\\n9944,0\\n9945,0\\n9946,0\\n9947,1\\n9948,0\\n9949,1\\n9950,1\\n9951,1\\n9952,0\\n9953,0\\n9954,1\\n9955,0\\n9956,1\\n9957,1\\n9958,0\\n9959,1\\n9960,0\\n9961,0\\n9962,0\\n9963,0\\n9964,1\\n9965,1\\n9966,0\\n9967,1\\n9968,1\\n9969,1\\n9970,1\\n9971,0\\n9972,1\\n9973,0\\n9974,1\\n9975,0\\n9976,1\\n9977,0\\n9978,0\\n9979,1\\n9980,0\\n9981,0\\n9982,0\\n9983,1\\n9984,1\\n9985,0\\n9986,0\\n9987,0\\n9988,1\\n9989,0\\n9990,1\\n9991,0\\n9992,0\\n9993,0\\n9994,0\\n9995,1\\n9996,0\\n9997,0\\n9998,0\\n9999,1\\n10000,1\\n10001,0\\n10002,0\\n10003,1\\n10004,1\\n10005,0\\n10006,1\\n10007,1\\n10008,0\\n10009,1\\n10010,0\\n10011,1\\n10012,0\\n10013,1\\n10014,0\\n10015,0\\n10016,1\\n10017,0\\n10018,0\\n10019,1\\n10020,1\\n10021,0\\n10022,1\\n10023,1\\n10024,1\\n10025,0\\n10026,0\\n10027,1\\n10028,0\\n10029,1\\n10030,0\\n10031,1\\n10032,1\\n10033,1\\n10034,1\\n10035,0\\n10036,1\\n10037,1\\n10038,0\\n10039,1\\n10040,1\\n10041,1\\n10042,0\\n10043,1\\n10044,1\\n10045,1\\n10046,1\\n10047,0\\n10048,1\\n10049,0\\n10050,0\\n10051,1\\n10052,0\\n10053,1\\n10054,1\\n10055,0\\n10056,1\\n10057,1\\n10058,0\\n10059,1\\n10060,1\\n10061,0\\n10062,1\\n10063,0\\n10064,1\\n10065,0\\n10066,0\\n10067,1\\n10068,1\\n10069,1\\n10070,1\\n10071,0\\n10072,0\\n10073,0\\n10074,1\\n10075,1\\n10076,1\\n10077,1\\n10078,1\\n10079,1\\n10080,1\\n10081,1\\n10082,0\\n10083,1\\n10084,1\\n10085,1\\n10086,1\\n10087,0\\n10088,0\\n10089,1\\n10090,1\\n10091,1\\n10092,0\\n10093,1\\n10094,0\\n10095,0\\n10096,1\\n10097,1\\n10098,1\\n10099,1\\n10100,1\\n10101,1\\n10102,1\\n10103,1\\n10104,1\\n10105,0\\n10106,1\\n10107,1\\n10108,0\\n10109,0\\n10110,1\\n10111,1\\n10112,0\\n10113,0\\n10114,0\\n10115,0\\n10116,1\\n10117,0\\n10118,1\\n10119,0\\n10120,0\\n10121,0\\n10122,1\\n10123,0\\n10124,1\\n10125,0\\n10126,1\\n10127,1\\n10128,0\\n10129,0\\n10130,1\\n10131,1\\n10132,1\\n10133,1\\n10134,1\\n10135,0\\n10136,1\\n10137,1\\n10138,1\\n10139,1\\n10140,1\\n10141,1\\n10142,1\\n10143,0\\n10144,0\\n10145,0\\n10146,1\\n10147,0\\n10148,1\\n10149,1\\n10150,0\\n10151,0\\n10152,0\\n10153,1\\n10154,0\\n10155,1\\n10156,1\\n10157,1\\n10158,0\\n10159,1\\n10160,1\\n10161,0\\n10162,1\\n10163,1\\n10164,1\\n10165,1\\n10166,1\\n10167,0\\n10168,1\\n10169,0\\n10170,0\\n10171,1\\n10172,0\\n10173,1\\n10174,0\\n10175,0\\n10176,0\\n10177,1\\n10178,0\\n10179,1\\n10180,0\\n10181,1\\n10182,1\\n10183,1\\n10184,1\\n10185,0\\n10186,1\\n10187,0\\n10188,0\\n10189,1\\n10190,1\\n10191,1\\n10192,0\\n10193,0\\n10194,1\\n10195,1\\n10196,1\\n10197,0\\n10198,1\\n10199,0\\n10200,0\\n10201,0\\n10202,1\\n10203,1\\n10204,1\\n10205,0\\n10206,0\\n10207,1\\n10208,1\\n10209,1\\n10210,1\\n10211,0\\n10212,1\\n10213,0\\n10214,0\\n10215,1\\n10216,0\\n10217,1\\n10218,1\\n10219,0\\n10220,0\\n10221,1\\n10222,0\\n10223,1\\n10224,0\\n10225,1\\n10226,1\\n10227,1\\n10228,0\\n10229,0\\n10230,0\\n10231,0\\n10232,1\\n10233,0\\n10234,1\\n10235,0\\n10236,0\\n10237,0\\n10238,0\\n10239,0\\n10240,1\\n10241,1\\n10242,1\\n10243,1\\n10244,0\\n10245,0\\n10246,0\\n10247,1\\n10248,0\\n10249,0\\n10250,1\\n10251,1\\n10252,0\\n10253,1\\n10254,1\\n10255,0\\n10256,1\\n10257,1\\n10258,0\\n10259,1\\n10260,0\\n10261,0\\n10262,1\\n10263,1\\n10264,0\\n10265,0\\n10266,0\\n10267,1\\n10268,0\\n10269,1\\n10270,1\\n10271,0\\n10272,1\\n10273,0\\n10274,0\\n10275,1\\n10276,0\\n10277,1\\n10278,0\\n10279,1\\n10280,0\\n10281,1\\n10282,0\\n10283,0\\n10284,0\\n10285,0\\n10286,0\\n10287,1\\n10288,1\\n10289,1\\n10290,0\\n10291,1\\n10292,1\\n10293,0\\n10294,0\\n10295,1\\n10296,0\\n10297,1\\n10298,0\\n10299,0\\n10300,0\\n10301,1\\n10302,1\\n10303,1\\n10304,1\\n10305,1\\n10306,0\\n10307,1\\n10308,0\\n10309,0\\n10310,0\\n10311,0\\n10312,0\\n10313,1\\n10314,0\\n10315,0\\n10316,1\\n10317,0\\n10318,0\\n10319,0\\n10320,1\\n10321,0\\n10322,1\\n10323,1\\n10324,0\\n10325,0\\n10326,0\\n10327,0\\n10328,1\\n10329,0\\n10330,0\\n10331,1\\n10332,0\\n10333,0\\n10334,1\\n10335,0\\n10336,1\\n10337,0\\n10338,0\\n10339,1\\n10340,1\\n10341,0\\n10342,0\\n10343,1\\n10344,1\\n10345,1\\n10346,1\\n10347,1\\n10348,1\\n10349,0\\n10350,0\\n10351,1\\n10352,1\\n10353,0\\n10354,0\\n10355,1\\n10356,0\\n10357,0\\n10358,1\\n10359,1\\n10360,0\\n10361,0\\n10362,0\\n10363,0\\n10364,1\\n10365,0\\n10366,0\\n10367,0\\n10368,1\\n10369,1\\n10370,1\\n10371,0\\n10372,1\\n10373,1\\n10374,1\\n10375,1\\n10376,0\\n10377,0\\n10378,1\\n10379,0\\n10380,1\\n10381,1\\n10382,1\\n10383,0\\n10384,1\\n10385,1\\n10386,1\\n10387,0\\n10388,1\\n10389,1\\n10390,1\\n10391,1\\n10392,0\\n10393,0\\n10394,1\\n10395,0\\n10396,1\\n10397,1\\n10398,0\\n10399,1\\n10400,1\\n10401,0\\n10402,1\\n10403,0\\n10404,1\\n10405,1\\n10406,1\\n10407,0\\n10408,1\\n10409,1\\n10410,1\\n10411,1\\n10412,0\\n10413,1\\n10414,1\\n10415,0\\n10416,1\\n10417,0\\n10418,0\\n10419,0\\n10420,0\\n10421,0\\n10422,1\\n10423,1\\n10424,1\\n10425,1\\n10426,0\\n10427,0\\n10428,0\\n10429,0\\n10430,1\\n10431,0\\n10432,0\\n10433,0\\n10434,0\\n10435,1\\n10436,1\\n10437,1\\n10438,1\\n10439,0\\n10440,0\\n10441,0\\n10442,1\\n10443,1\\n10444,1\\n10445,1\\n10446,0\\n10447,1\\n10448,0\\n10449,0\\n10450,0\\n10451,0\\n10452,1\\n10453,0\\n10454,0\\n10455,1\\n10456,1\\n10457,0\\n10458,0\\n10459,1\\n10460,1\\n10461,1\\n10462,1\\n10463,1\\n10464,1\\n10465,1\\n10466,1\\n10467,1\\n10468,0\\n10469,0\\n10470,0\\n10471,1\\n10472,0\\n10473,1\\n10474,1\\n10475,0\\n10476,1\\n10477,0\\n10478,0\\n10479,1\\n10480,0\\n10481,1\\n10482,1\\n10483,1\\n10484,1\\n10485,0\\n10486,1\\n10487,1\\n10488,1\\n10489,0\\n10490,0\\n10491,0\\n10492,0\\n10493,1\\n10494,1\\n10495,1\\n10496,0\\n10497,1\\n10498,1\\n10499,1\\n10500,0\\n10501,0\\n10502,0\\n10503,0\\n10504,1\\n10505,0\\n10506,1\\n10507,1\\n10508,1\\n10509,0\\n10510,0\\n10511,0\\n10512,0\\n10513,1\\n10514,1\\n10515,1\\n10516,1\\n10517,0\\n10518,0\\n10519,0\\n10520,1\\n10521,0\\n10522,1\\n10523,0\\n10524,1\\n10525,1\\n10526,0\\n10527,0\\n10528,1\\n10529,1\\n10530,1\\n10531,1\\n10532,1\\n10533,1\\n10534,0\\n10535,0\\n10536,1\\n10537,1\\n10538,0\\n10539,1\\n10540,1\\n10541,1\\n10542,0\\n10543,0\\n10544,1\\n10545,1\\n10546,0\\n10547,1\\n10548,1\\n10549,0\\n10550,0\\n10551,1\\n10552,0\\n10553,1\\n10554,0\\n10555,1\\n10556,0\\n10557,1\\n10558,1\\n10559,0\\n10560,0\\n10561,0\\n10562,0\\n10563,1\\n10564,1\\n10565,0\\n10566,0\\n10567,0\\n10568,1\\n10569,1\\n10570,0\\n10571,0\\n10572,0\\n10573,1\\n10574,1\\n10575,1\\n10576,0\\n10577,1\\n10578,0\\n10579,0\\n10580,0\\n10581,0\\n10582,1\\n10583,0\\n10584,0\\n10585,1\\n10586,1\\n10587,1\\n10588,1\\n10589,1\\n10590,1\\n10591,1\\n10592,1\\n10593,0\\n10594,1\\n10595,0\\n10596,0\\n10597,1\\n10598,0\\n10599,1\\n10600,0\\n10601,1\\n10602,1\\n10603,0\\n10604,0\\n10605,1\\n10606,1\\n10607,0\\n10608,0\\n10609,1\\n10610,0\\n10611,0\\n10612,0\\n10613,0\\n10614,0\\n10615,0\\n10616,0\\n10617,1\\n10618,0\\n10619,0\\n10620,1\\n10621,0\\n10622,1\\n10623,1\\n10624,1\\n10625,1\\n10626,0\\n10627,0\\n10628,1\\n10629,1\\n10630,1\\n10631,1\\n10632,1\\n10633,1\\n10634,0\\n10635,0\\n10636,0\\n10637,1\\n10638,1\\n10639,0\\n10640,1\\n10641,1\\n10642,0\\n10643,0\\n10644,1\\n10645,0\\n10646,1\\n10647,0\\n10648,0\\n10649,1\\n10650,0\\n10651,1\\n10652,0\\n10653,0\\n10654,0\\n10655,0\\n10656,1\\n10657,1\\n10658,1\\n10659,0\\n10660,1\\n10661,0\\n10662,1\\n10663,1\\n10664,1\\n10665,1\\n10666,1\\n10667,1\\n10668,1\\n10669,1\\n10670,0\\n10671,1\\n10672,0\\n10673,1\\n10674,0\\n10675,1\\n10676,1\\n10677,1\\n10678,0\\n10679,1\\n10680,1\\n10681,1\\n10682,1\\n10683,0\\n10684,0\\n10685,1\\n10686,0\\n10687,0\\n10688,0\\n10689,1\\n10690,1\\n10691,0\\n10692,0\\n10693,1\\n10694,0\\n10695,1\\n10696,1\\n10697,1\\n10698,1\\n10699,1\\n10700,1\\n10701,0\\n10702,0\\n10703,1\\n10704,1\\n10705,0\\n10706,1\\n10707,1\\n10708,0\\n10709,0\\n10710,0\\n10711,1\\n10712,1\\n10713,1\\n10714,0\\n10715,1\\n10716,0\\n10717,0\\n10718,0\\n10719,0\\n10720,1\\n10721,1\\n10722,1\\n10723,0\\n10724,0\\n10725,1\\n10726,1\\n10727,1\\n10728,1\\n10729,1\\n10730,1\\n10731,1\\n10732,0\\n10733,0\\n10734,1\\n10735,0\\n10736,0\\n10737,1\\n10738,1\\n10739,0\\n10740,0\\n10741,0\\n10742,0\\n10743,0\\n10744,1\\n10745,0\\n10746,0\\n10747,1\\n10748,1\\n10749,1\\n10750,1\\n10751,0\\n10752,0\\n10753,1\\n10754,0\\n10755,1\\n10756,1\\n10757,1\\n10758,1\\n10759,1\\n10760,1\\n10761,1\\n10762,1\\n10763,1\\n10764,1\\n10765,1\\n10766,0\\n10767,0\\n10768,0\\n10769,0\\n10770,0\\n10771,1\\n10772,0\\n10773,1\\n10774,0\\n10775,1\\n10776,1\\n10777,1\\n10778,1\\n10779,1\\n10780,0\\n10781,0\\n10782,0\\n10783,1\\n10784,1\\n10785,0\\n10786,1\\n10787,0\\n10788,1\\n10789,1\\n10790,0\\n10791,0\\n10792,0\\n10793,1\\n10794,0\\n10795,1\\n10796,1\\n10797,1\\n10798,1\\n10799,0\\n10800,0\\n10801,1\\n10802,1\\n10803,0\\n10804,0\\n10805,0\\n10806,1\\n10807,0\\n10808,0\\n10809,0\\n10810,1\\n10811,0\\n10812,0\\n10813,1\\n10814,1\\n10815,1\\n10816,1\\n10817,0\\n10818,1\\n10819,1\\n10820,0\\n10821,1\\n10822,0\\n10823,1\\n10824,1\\n10825,1\\n10826,0\\n10827,0\\n10828,0\\n10829,1\\n10830,1\\n10831,0\\n10832,1\\n10833,1\\n10834,1\\n10835,0\\n10836,0\\n10837,0\\n10838,1\\n10839,1\\n10840,0\\n10841,1\\n10842,1\\n10843,1\\n10844,0\\n10845,1\\n10846,0\\n10847,1\\n10848,1\\n10849,0\\n10850,0\\n10851,0\\n10852,0\\n10853,0\\n10854,0\\n10855,0\\n10856,1\\n10857,0\\n10858,0\\n10859,1\\n10860,1\\n10861,1\\n10862,1\\n10863,0\\n10864,0\\n10865,1\\n10866,0\\n10867,1\\n10868,0\\n10869,0\\n10870,1\\n10871,0\\n10872,0\\n10873,0\\n10874,0\\n10875,0\\n10876,0\\n10877,1\\n10878,0\\n10879,0\\n10880,0\\n10881,0\\n10882,1\\n10883,1\\n10884,1\\n10885,0\\n10886,1\\n10887,1\\n10888,1\\n10889,1\\n10890,0\\n10891,0\\n10892,1\\n10893,0\\n10894,0\\n10895,1\\n10896,0\\n10897,0\\n10898,0\\n10899,1\\n10900,0\\n10901,0\\n10902,1\\n10903,1\\n10904,1\\n10905,1\\n10906,1\\n10907,0\\n10908,1\\n10909,1\\n10910,0\\n10911,0\\n10912,1\\n10913,0\\n10914,1\\n10915,0\\n10916,0\\n10917,0\\n10918,1\\n10919,1\\n10920,1\\n10921,0\\n10922,0\\n10923,0\\n10924,1\\n10925,1\\n10926,0\\n10927,0\\n10928,1\\n10929,1\\n10930,1\\n10931,0\\n10932,1\\n10933,0\\n10934,1\\n10935,1\\n10936,0\\n10937,1\\n10938,0\\n10939,0\\n10940,1\\n10941,0\\n10942,1\\n10943,1\\n10944,1\\n10945,0\\n10946,1\\n10947,1\\n10948,1\\n10949,1\\n10950,0\\n10951,1\\n10952,1\\n10953,0\\n10954,1\\n10955,1\\n10956,0\\n10957,1\\n10958,0\\n10959,0\\n10960,1\\n10961,1\\n10962,1\\n10963,0\\n10964,1\\n10965,1\\n10966,1\\n10967,0\\n10968,1\\n10969,1\\n10970,0\\n10971,1\\n10972,1\\n10973,1\\n10974,1\\n10975,1\\n10976,1\\n10977,0\\n10978,1\\n10979,0\\n10980,0\\n10981,1\\n10982,1\\n10983,1\\n10984,1\\n10985,1\\n10986,0\\n10987,0\\n10988,1\\n10989,1\\n10990,1\\n10991,1\\n10992,0\\n10993,1\\n10994,1\\n10995,0\\n10996,0\\n10997,0\\n10998,0\\n10999,1\\n11000,0\\n11001,1\\n11002,0\\n11003,0\\n11004,1\\n11005,1\\n11006,0\\n11007,0\\n11008,1\\n11009,1\\n11010,1\\n11011,1\\n11012,0\\n11013,1\\n11014,0\\n11015,0\\n11016,1\\n11017,0\\n11018,1\\n11019,1\\n11020,1\\n11021,0\\n11022,0\\n11023,0\\n11024,1\\n11025,1\\n11026,1\\n11027,1\\n11028,1\\n11029,0\\n11030,1\\n11031,1\\n11032,1\\n11033,0\\n11034,0\\n11035,1\\n11036,0\\n11037,1\\n11038,1\\n11039,1\\n11040,1\\n11041,0\\n11042,1\\n11043,1\\n11044,1\\n11045,1\\n11046,0\\n11047,1\\n11048,1\\n11049,1\\n11050,1\\n11051,0\\n11052,0\\n11053,0\\n11054,1\\n11055,1\\n11056,0\\n11057,0\\n11058,1\\n11059,1\\n11060,1\\n11061,1\\n11062,1\\n11063,1\\n11064,1\\n11065,1\\n11066,0\\n11067,0\\n11068,1\\n11069,0\\n11070,1\\n11071,0\\n11072,0\\n11073,0\\n11074,1\\n11075,0\\n11076,0\\n11077,1\\n11078,1\\n11079,0\\n11080,1\\n11081,1\\n11082,0\\n11083,0\\n11084,0\\n11085,1\\n11086,0\\n11087,1\\n11088,1\\n11089,1\\n11090,0\\n11091,0\\n11092,0\\n11093,0\\n11094,1\\n11095,0\\n11096,1\\n11097,1\\n11098,1\\n11099,1\\n11100,1\\n11101,1\\n11102,1\\n11103,0\\n11104,1\\n11105,1\\n11106,0\\n11107,1\\n11108,0\\n11109,0\\n11110,1\\n11111,0\\n11112,1\\n11113,0\\n11114,1\\n11115,0\\n11116,1\\n11117,1\\n11118,1\\n11119,0\\n11120,1\\n11121,1\\n11122,0\\n11123,1\\n11124,1\\n11125,1\\n11126,1\\n11127,1\\n11128,0\\n11129,1\\n11130,0\\n11131,0\\n11132,0\\n11133,0\\n11134,0\\n11135,0\\n11136,1\\n11137,1\\n11138,1\\n11139,1\\n11140,1\\n11141,1\\n11142,1\\n11143,0\\n11144,1\\n11145,1\\n11146,0\\n11147,1\\n11148,1\\n11149,0\\n11150,1\\n11151,0\\n11152,0\\n11153,0\\n11154,1\\n11155,1\\n11156,1\\n11157,1\\n11158,0\\n11159,0\\n11160,0\\n11161,1\\n11162,1\\n11163,1\\n11164,0\\n11165,0\\n11166,1\\n11167,1\\n11168,0\\n11169,0\\n11170,1\\n11171,0\\n11172,1\\n11173,1\\n11174,0\\n11175,0\\n11176,1\\n11177,1\\n11178,0\\n11179,1\\n11180,1\\n11181,1\\n11182,1\\n11183,0\\n11184,1\\n11185,1\\n11186,0\\n',\n",
              " 'ensemble_transformer.csv': b',transformer prediction\\n0,1\\n1,0\\n2,1\\n3,1\\n4,0\\n5,1\\n6,1\\n7,1\\n8,0\\n9,1\\n10,1\\n11,0\\n12,0\\n13,0\\n14,0\\n15,1\\n16,1\\n17,0\\n18,1\\n19,1\\n20,1\\n21,1\\n22,1\\n23,1\\n24,0\\n25,0\\n26,0\\n27,1\\n28,1\\n29,0\\n30,1\\n31,1\\n32,1\\n33,0\\n34,1\\n35,0\\n36,1\\n37,0\\n38,1\\n39,0\\n40,0\\n41,0\\n42,0\\n43,1\\n44,0\\n45,0\\n46,0\\n47,0\\n48,0\\n49,1\\n50,1\\n51,0\\n52,0\\n53,0\\n54,0\\n55,1\\n56,1\\n57,1\\n58,0\\n59,0\\n60,1\\n61,1\\n62,0\\n63,0\\n64,0\\n65,0\\n66,0\\n67,1\\n68,0\\n69,1\\n70,1\\n71,1\\n72,1\\n73,1\\n74,1\\n75,0\\n76,1\\n77,1\\n78,1\\n79,0\\n80,1\\n81,1\\n82,0\\n83,1\\n84,1\\n85,0\\n86,0\\n87,0\\n88,1\\n89,0\\n90,1\\n91,0\\n92,1\\n93,1\\n94,1\\n95,0\\n96,1\\n97,1\\n98,0\\n99,1\\n100,0\\n101,0\\n102,0\\n103,0\\n104,0\\n105,0\\n106,1\\n107,1\\n108,1\\n109,1\\n110,0\\n111,1\\n112,1\\n113,0\\n114,1\\n115,0\\n116,1\\n117,1\\n118,0\\n119,0\\n120,0\\n121,1\\n122,0\\n123,0\\n124,1\\n125,0\\n126,1\\n127,0\\n128,0\\n129,0\\n130,1\\n131,1\\n132,1\\n133,0\\n134,1\\n135,1\\n136,0\\n137,0\\n138,0\\n139,1\\n140,0\\n141,0\\n142,1\\n143,0\\n144,0\\n145,1\\n146,0\\n147,1\\n148,0\\n149,0\\n150,0\\n151,1\\n152,1\\n153,1\\n154,0\\n155,1\\n156,1\\n157,0\\n158,0\\n159,0\\n160,0\\n161,0\\n162,1\\n163,0\\n164,1\\n165,0\\n166,0\\n167,0\\n168,0\\n169,1\\n170,0\\n171,1\\n172,1\\n173,0\\n174,0\\n175,1\\n176,1\\n177,0\\n178,1\\n179,0\\n180,0\\n181,1\\n182,1\\n183,1\\n184,0\\n185,1\\n186,0\\n187,1\\n188,0\\n189,0\\n190,1\\n191,0\\n192,0\\n193,0\\n194,0\\n195,1\\n196,1\\n197,0\\n198,0\\n199,1\\n200,0\\n201,1\\n202,1\\n203,0\\n204,1\\n205,0\\n206,1\\n207,1\\n208,1\\n209,1\\n210,0\\n211,0\\n212,1\\n213,1\\n214,1\\n215,1\\n216,0\\n217,1\\n218,0\\n219,0\\n220,0\\n221,1\\n222,0\\n223,1\\n224,1\\n225,1\\n226,1\\n227,1\\n228,0\\n229,0\\n230,0\\n231,0\\n232,1\\n233,0\\n234,0\\n235,1\\n236,0\\n237,1\\n238,1\\n239,0\\n240,0\\n241,0\\n242,1\\n243,0\\n244,1\\n245,0\\n246,0\\n247,1\\n248,0\\n249,1\\n250,1\\n251,1\\n252,0\\n253,1\\n254,1\\n255,0\\n256,0\\n257,1\\n258,0\\n259,1\\n260,1\\n261,1\\n262,0\\n263,0\\n264,0\\n265,1\\n266,1\\n267,0\\n268,1\\n269,0\\n270,1\\n271,1\\n272,1\\n273,1\\n274,1\\n275,1\\n276,1\\n277,0\\n278,0\\n279,0\\n280,0\\n281,1\\n282,0\\n283,1\\n284,1\\n285,0\\n286,1\\n287,0\\n288,0\\n289,0\\n290,0\\n291,1\\n292,1\\n293,0\\n294,1\\n295,0\\n296,1\\n297,1\\n298,0\\n299,0\\n300,1\\n301,0\\n302,0\\n303,0\\n304,0\\n305,1\\n306,1\\n307,0\\n308,1\\n309,1\\n310,1\\n311,1\\n312,0\\n313,0\\n314,1\\n315,0\\n316,1\\n317,1\\n318,1\\n319,0\\n320,0\\n321,0\\n322,1\\n323,0\\n324,1\\n325,1\\n326,1\\n327,0\\n328,0\\n329,1\\n330,0\\n331,0\\n332,1\\n333,1\\n334,0\\n335,1\\n336,0\\n337,1\\n338,1\\n339,1\\n340,0\\n341,0\\n342,1\\n343,0\\n344,0\\n345,0\\n346,1\\n347,1\\n348,1\\n349,1\\n350,1\\n351,0\\n352,0\\n353,1\\n354,1\\n355,0\\n356,1\\n357,1\\n358,1\\n359,1\\n360,1\\n361,1\\n362,1\\n363,1\\n364,0\\n365,1\\n366,0\\n367,1\\n368,1\\n369,1\\n370,0\\n371,1\\n372,0\\n373,0\\n374,0\\n375,1\\n376,1\\n377,1\\n378,0\\n379,0\\n380,1\\n381,0\\n382,1\\n383,0\\n384,1\\n385,1\\n386,0\\n387,1\\n388,0\\n389,1\\n390,1\\n391,0\\n392,1\\n393,1\\n394,1\\n395,1\\n396,1\\n397,0\\n398,1\\n399,1\\n400,1\\n401,0\\n402,0\\n403,0\\n404,0\\n405,0\\n406,0\\n407,1\\n408,0\\n409,1\\n410,0\\n411,0\\n412,1\\n413,0\\n414,1\\n415,1\\n416,1\\n417,1\\n418,1\\n419,0\\n420,1\\n421,0\\n422,0\\n423,0\\n424,1\\n425,1\\n426,1\\n427,1\\n428,0\\n429,0\\n430,1\\n431,1\\n432,1\\n433,0\\n434,1\\n435,0\\n436,1\\n437,1\\n438,1\\n439,1\\n440,1\\n441,0\\n442,1\\n443,1\\n444,0\\n445,0\\n446,1\\n447,1\\n448,1\\n449,0\\n450,0\\n451,0\\n452,0\\n453,0\\n454,0\\n455,0\\n456,0\\n457,1\\n458,1\\n459,1\\n460,1\\n461,0\\n462,1\\n463,0\\n464,0\\n465,1\\n466,0\\n467,0\\n468,1\\n469,0\\n470,0\\n471,1\\n472,1\\n473,0\\n474,1\\n475,1\\n476,0\\n477,1\\n478,1\\n479,1\\n480,1\\n481,0\\n482,1\\n483,1\\n484,0\\n485,1\\n486,0\\n487,1\\n488,0\\n489,0\\n490,1\\n491,1\\n492,1\\n493,0\\n494,0\\n495,0\\n496,0\\n497,0\\n498,0\\n499,1\\n500,1\\n501,0\\n502,0\\n503,0\\n504,0\\n505,1\\n506,1\\n507,1\\n508,0\\n509,0\\n510,1\\n511,1\\n512,1\\n513,1\\n514,0\\n515,0\\n516,1\\n517,0\\n518,1\\n519,1\\n520,1\\n521,1\\n522,1\\n523,1\\n524,1\\n525,0\\n526,0\\n527,1\\n528,0\\n529,1\\n530,1\\n531,1\\n532,1\\n533,1\\n534,1\\n535,0\\n536,0\\n537,0\\n538,1\\n539,0\\n540,1\\n541,1\\n542,1\\n543,1\\n544,1\\n545,0\\n546,1\\n547,0\\n548,0\\n549,0\\n550,1\\n551,1\\n552,0\\n553,1\\n554,0\\n555,0\\n556,1\\n557,1\\n558,1\\n559,0\\n560,0\\n561,0\\n562,1\\n563,1\\n564,1\\n565,0\\n566,0\\n567,1\\n568,0\\n569,0\\n570,0\\n571,0\\n572,1\\n573,1\\n574,1\\n575,0\\n576,0\\n577,1\\n578,1\\n579,1\\n580,0\\n581,1\\n582,1\\n583,0\\n584,0\\n585,1\\n586,1\\n587,1\\n588,0\\n589,0\\n590,0\\n591,0\\n592,1\\n593,0\\n594,1\\n595,0\\n596,1\\n597,0\\n598,0\\n599,0\\n600,1\\n601,1\\n602,1\\n603,1\\n604,0\\n605,1\\n606,1\\n607,1\\n608,1\\n609,0\\n610,0\\n611,0\\n612,1\\n613,0\\n614,0\\n615,0\\n616,0\\n617,0\\n618,0\\n619,1\\n620,1\\n621,1\\n622,0\\n623,1\\n624,1\\n625,0\\n626,0\\n627,1\\n628,0\\n629,1\\n630,0\\n631,0\\n632,0\\n633,1\\n634,0\\n635,0\\n636,0\\n637,1\\n638,0\\n639,0\\n640,1\\n641,1\\n642,1\\n643,0\\n644,0\\n645,1\\n646,0\\n647,0\\n648,0\\n649,1\\n650,1\\n651,1\\n652,0\\n653,1\\n654,0\\n655,0\\n656,1\\n657,0\\n658,1\\n659,0\\n660,0\\n661,1\\n662,1\\n663,1\\n664,0\\n665,1\\n666,1\\n667,0\\n668,0\\n669,0\\n670,0\\n671,1\\n672,1\\n673,1\\n674,0\\n675,1\\n676,0\\n677,0\\n678,0\\n679,0\\n680,0\\n681,0\\n682,1\\n683,0\\n684,0\\n685,0\\n686,0\\n687,1\\n688,1\\n689,0\\n690,1\\n691,0\\n692,1\\n693,1\\n694,0\\n695,0\\n696,0\\n697,1\\n698,1\\n699,0\\n700,1\\n701,1\\n702,0\\n703,0\\n704,1\\n705,0\\n706,0\\n707,0\\n708,0\\n709,1\\n710,0\\n711,1\\n712,1\\n713,1\\n714,0\\n715,1\\n716,0\\n717,0\\n718,1\\n719,1\\n720,1\\n721,0\\n722,1\\n723,0\\n724,1\\n725,1\\n726,1\\n727,0\\n728,1\\n729,1\\n730,1\\n731,1\\n732,1\\n733,1\\n734,1\\n735,0\\n736,0\\n737,1\\n738,1\\n739,0\\n740,0\\n741,1\\n742,1\\n743,0\\n744,0\\n745,1\\n746,1\\n747,1\\n748,1\\n749,1\\n750,0\\n751,0\\n752,1\\n753,0\\n754,1\\n755,0\\n756,0\\n757,0\\n758,1\\n759,0\\n760,0\\n761,1\\n762,1\\n763,0\\n764,1\\n765,0\\n766,0\\n767,1\\n768,0\\n769,0\\n770,0\\n771,1\\n772,1\\n773,1\\n774,1\\n775,0\\n776,1\\n777,0\\n778,1\\n779,0\\n780,0\\n781,1\\n782,0\\n783,0\\n784,1\\n785,0\\n786,1\\n787,0\\n788,0\\n789,0\\n790,0\\n791,1\\n792,0\\n793,1\\n794,1\\n795,1\\n796,1\\n797,0\\n798,1\\n799,0\\n800,0\\n801,0\\n802,1\\n803,0\\n804,1\\n805,1\\n806,1\\n807,1\\n808,0\\n809,1\\n810,1\\n811,1\\n812,1\\n813,1\\n814,0\\n815,0\\n816,1\\n817,1\\n818,1\\n819,0\\n820,0\\n821,1\\n822,0\\n823,1\\n824,0\\n825,0\\n826,1\\n827,1\\n828,1\\n829,1\\n830,1\\n831,1\\n832,1\\n833,1\\n834,1\\n835,0\\n836,1\\n837,0\\n838,0\\n839,1\\n840,0\\n841,1\\n842,1\\n843,0\\n844,0\\n845,1\\n846,1\\n847,1\\n848,0\\n849,0\\n850,1\\n851,1\\n852,0\\n853,1\\n854,1\\n855,1\\n856,1\\n857,1\\n858,0\\n859,1\\n860,1\\n861,0\\n862,0\\n863,1\\n864,0\\n865,1\\n866,0\\n867,0\\n868,0\\n869,0\\n870,0\\n871,0\\n872,1\\n873,0\\n874,1\\n875,0\\n876,0\\n877,0\\n878,0\\n879,1\\n880,0\\n881,1\\n882,0\\n883,0\\n884,1\\n885,0\\n886,1\\n887,1\\n888,1\\n889,1\\n890,1\\n891,0\\n892,0\\n893,1\\n894,0\\n895,0\\n896,1\\n897,0\\n898,1\\n899,0\\n900,1\\n901,0\\n902,0\\n903,1\\n904,0\\n905,0\\n906,0\\n907,0\\n908,1\\n909,0\\n910,1\\n911,1\\n912,1\\n913,0\\n914,0\\n915,0\\n916,1\\n917,1\\n918,1\\n919,1\\n920,0\\n921,0\\n922,1\\n923,0\\n924,0\\n925,0\\n926,1\\n927,0\\n928,0\\n929,1\\n930,0\\n931,0\\n932,1\\n933,1\\n934,0\\n935,1\\n936,0\\n937,0\\n938,0\\n939,0\\n940,1\\n941,0\\n942,1\\n943,0\\n944,0\\n945,0\\n946,0\\n947,1\\n948,1\\n949,0\\n950,1\\n951,0\\n952,1\\n953,1\\n954,0\\n955,1\\n956,1\\n957,1\\n958,1\\n959,0\\n960,0\\n961,1\\n962,1\\n963,1\\n964,0\\n965,0\\n966,0\\n967,0\\n968,1\\n969,0\\n970,1\\n971,1\\n972,1\\n973,0\\n974,0\\n975,1\\n976,0\\n977,1\\n978,1\\n979,1\\n980,1\\n981,1\\n982,1\\n983,0\\n984,1\\n985,0\\n986,0\\n987,0\\n988,0\\n989,1\\n990,0\\n991,1\\n992,0\\n993,1\\n994,1\\n995,1\\n996,1\\n997,1\\n998,0\\n999,0\\n1000,0\\n1001,0\\n1002,1\\n1003,1\\n1004,0\\n1005,1\\n1006,0\\n1007,1\\n1008,1\\n1009,1\\n1010,1\\n1011,1\\n1012,0\\n1013,1\\n1014,1\\n1015,1\\n1016,0\\n1017,0\\n1018,0\\n1019,0\\n1020,0\\n1021,1\\n1022,1\\n1023,1\\n1024,1\\n1025,0\\n1026,0\\n1027,0\\n1028,1\\n1029,0\\n1030,0\\n1031,1\\n1032,0\\n1033,0\\n1034,0\\n1035,1\\n1036,0\\n1037,1\\n1038,1\\n1039,1\\n1040,0\\n1041,0\\n1042,0\\n1043,0\\n1044,0\\n1045,1\\n1046,1\\n1047,0\\n1048,1\\n1049,0\\n1050,1\\n1051,0\\n1052,1\\n1053,0\\n1054,1\\n1055,1\\n1056,0\\n1057,0\\n1058,1\\n1059,0\\n1060,0\\n1061,0\\n1062,0\\n1063,1\\n1064,0\\n1065,1\\n1066,1\\n1067,0\\n1068,0\\n1069,1\\n1070,0\\n1071,1\\n1072,0\\n1073,1\\n1074,0\\n1075,1\\n1076,1\\n1077,1\\n1078,1\\n1079,1\\n1080,1\\n1081,0\\n1082,0\\n1083,0\\n1084,1\\n1085,1\\n1086,1\\n1087,1\\n1088,0\\n1089,0\\n1090,0\\n1091,1\\n1092,1\\n1093,0\\n1094,1\\n1095,0\\n1096,0\\n1097,1\\n1098,1\\n1099,1\\n1100,0\\n1101,0\\n1102,0\\n1103,0\\n1104,0\\n1105,0\\n1106,1\\n1107,1\\n1108,0\\n1109,0\\n1110,0\\n1111,1\\n1112,0\\n1113,0\\n1114,0\\n1115,1\\n1116,0\\n1117,1\\n1118,0\\n1119,0\\n1120,0\\n1121,0\\n1122,0\\n1123,0\\n1124,1\\n1125,0\\n1126,1\\n1127,0\\n1128,1\\n1129,1\\n1130,1\\n1131,1\\n1132,1\\n1133,1\\n1134,1\\n1135,1\\n1136,1\\n1137,0\\n1138,0\\n1139,0\\n1140,1\\n1141,0\\n1142,1\\n1143,1\\n1144,0\\n1145,1\\n1146,1\\n1147,1\\n1148,0\\n1149,1\\n1150,0\\n1151,1\\n1152,0\\n1153,0\\n1154,0\\n1155,1\\n1156,1\\n1157,1\\n1158,1\\n1159,1\\n1160,0\\n1161,0\\n1162,1\\n1163,0\\n1164,0\\n1165,0\\n1166,0\\n1167,0\\n1168,0\\n1169,1\\n1170,1\\n1171,1\\n1172,0\\n1173,0\\n1174,1\\n1175,1\\n1176,0\\n1177,1\\n1178,0\\n1179,1\\n1180,0\\n1181,1\\n1182,1\\n1183,0\\n1184,0\\n1185,1\\n1186,1\\n1187,0\\n1188,1\\n1189,0\\n1190,1\\n1191,0\\n1192,0\\n1193,1\\n1194,0\\n1195,0\\n1196,1\\n1197,1\\n1198,1\\n1199,1\\n1200,0\\n1201,1\\n1202,0\\n1203,0\\n1204,0\\n1205,0\\n1206,0\\n1207,0\\n1208,1\\n1209,0\\n1210,0\\n1211,0\\n1212,0\\n1213,0\\n1214,0\\n1215,1\\n1216,1\\n1217,1\\n1218,0\\n1219,1\\n1220,0\\n1221,1\\n1222,0\\n1223,1\\n1224,1\\n1225,1\\n1226,1\\n1227,1\\n1228,1\\n1229,1\\n1230,0\\n1231,1\\n1232,0\\n1233,1\\n1234,1\\n1235,1\\n1236,0\\n1237,0\\n1238,0\\n1239,0\\n1240,0\\n1241,0\\n1242,0\\n1243,1\\n1244,0\\n1245,0\\n1246,1\\n1247,0\\n1248,0\\n1249,0\\n1250,1\\n1251,1\\n1252,1\\n1253,1\\n1254,0\\n1255,0\\n1256,0\\n1257,1\\n1258,0\\n1259,1\\n1260,0\\n1261,1\\n1262,1\\n1263,0\\n1264,0\\n1265,1\\n1266,1\\n1267,1\\n1268,0\\n1269,1\\n1270,0\\n1271,0\\n1272,1\\n1273,0\\n1274,0\\n1275,0\\n1276,1\\n1277,1\\n1278,0\\n1279,1\\n1280,1\\n1281,0\\n1282,0\\n1283,0\\n1284,1\\n1285,1\\n1286,1\\n1287,1\\n1288,0\\n1289,0\\n1290,0\\n1291,1\\n1292,1\\n1293,1\\n1294,0\\n1295,0\\n1296,0\\n1297,1\\n1298,0\\n1299,1\\n1300,1\\n1301,0\\n1302,1\\n1303,0\\n1304,0\\n1305,1\\n1306,0\\n1307,0\\n1308,0\\n1309,1\\n1310,1\\n1311,0\\n1312,0\\n1313,0\\n1314,1\\n1315,1\\n1316,1\\n1317,1\\n1318,1\\n1319,1\\n1320,1\\n1321,1\\n1322,0\\n1323,0\\n1324,0\\n1325,1\\n1326,0\\n1327,1\\n1328,0\\n1329,0\\n1330,1\\n1331,0\\n1332,0\\n1333,1\\n1334,1\\n1335,0\\n1336,0\\n1337,1\\n1338,0\\n1339,1\\n1340,0\\n1341,0\\n1342,1\\n1343,0\\n1344,1\\n1345,1\\n1346,0\\n1347,0\\n1348,0\\n1349,1\\n1350,1\\n1351,1\\n1352,0\\n1353,0\\n1354,1\\n1355,0\\n1356,0\\n1357,0\\n1358,0\\n1359,0\\n1360,1\\n1361,0\\n1362,1\\n1363,0\\n1364,0\\n1365,0\\n1366,0\\n1367,0\\n1368,0\\n1369,1\\n1370,0\\n1371,1\\n1372,0\\n1373,0\\n1374,1\\n1375,0\\n1376,0\\n1377,1\\n1378,0\\n1379,0\\n1380,0\\n1381,0\\n1382,0\\n1383,1\\n1384,0\\n1385,1\\n1386,0\\n1387,0\\n1388,1\\n1389,1\\n1390,1\\n1391,1\\n1392,1\\n1393,0\\n1394,1\\n1395,1\\n1396,1\\n1397,0\\n1398,1\\n1399,1\\n1400,0\\n1401,0\\n1402,1\\n1403,0\\n1404,0\\n1405,0\\n1406,1\\n1407,0\\n1408,1\\n1409,0\\n1410,0\\n1411,0\\n1412,1\\n1413,0\\n1414,0\\n1415,0\\n1416,0\\n1417,1\\n1418,0\\n1419,0\\n1420,1\\n1421,1\\n1422,0\\n1423,1\\n1424,0\\n1425,1\\n1426,0\\n1427,1\\n1428,1\\n1429,0\\n1430,0\\n1431,0\\n1432,1\\n1433,1\\n1434,0\\n1435,1\\n1436,1\\n1437,1\\n1438,1\\n1439,1\\n1440,0\\n1441,1\\n1442,1\\n1443,1\\n1444,1\\n1445,1\\n1446,0\\n1447,1\\n1448,1\\n1449,1\\n1450,1\\n1451,0\\n1452,0\\n1453,1\\n1454,1\\n1455,1\\n1456,1\\n1457,0\\n1458,0\\n1459,0\\n1460,0\\n1461,0\\n1462,1\\n1463,0\\n1464,0\\n1465,0\\n1466,0\\n1467,1\\n1468,1\\n1469,1\\n1470,0\\n1471,0\\n1472,0\\n1473,0\\n1474,1\\n1475,1\\n1476,1\\n1477,0\\n1478,0\\n1479,1\\n1480,0\\n1481,1\\n1482,1\\n1483,1\\n1484,1\\n1485,0\\n1486,1\\n1487,0\\n1488,0\\n1489,0\\n1490,0\\n1491,0\\n1492,0\\n1493,0\\n1494,1\\n1495,1\\n1496,1\\n1497,1\\n1498,0\\n1499,0\\n1500,1\\n1501,1\\n1502,1\\n1503,0\\n1504,0\\n1505,1\\n1506,1\\n1507,0\\n1508,0\\n1509,1\\n1510,0\\n1511,0\\n1512,1\\n1513,1\\n1514,0\\n1515,1\\n1516,1\\n1517,0\\n1518,0\\n1519,1\\n1520,0\\n1521,1\\n1522,1\\n1523,0\\n1524,1\\n1525,0\\n1526,1\\n1527,0\\n1528,0\\n1529,1\\n1530,0\\n1531,0\\n1532,1\\n1533,0\\n1534,1\\n1535,1\\n1536,1\\n1537,0\\n1538,0\\n1539,0\\n1540,1\\n1541,0\\n1542,1\\n1543,1\\n1544,0\\n1545,1\\n1546,1\\n1547,0\\n1548,1\\n1549,1\\n1550,1\\n1551,0\\n1552,1\\n1553,0\\n1554,1\\n1555,0\\n1556,1\\n1557,1\\n1558,1\\n1559,0\\n1560,0\\n1561,1\\n1562,0\\n1563,1\\n1564,0\\n1565,1\\n1566,1\\n1567,1\\n1568,1\\n1569,1\\n1570,1\\n1571,0\\n1572,1\\n1573,1\\n1574,0\\n1575,1\\n1576,1\\n1577,0\\n1578,1\\n1579,0\\n1580,1\\n1581,0\\n1582,1\\n1583,0\\n1584,0\\n1585,0\\n1586,1\\n1587,1\\n1588,1\\n1589,0\\n1590,1\\n1591,0\\n1592,1\\n1593,0\\n1594,0\\n1595,1\\n1596,0\\n1597,1\\n1598,1\\n1599,1\\n1600,1\\n1601,1\\n1602,1\\n1603,1\\n1604,0\\n1605,0\\n1606,0\\n1607,0\\n1608,1\\n1609,1\\n1610,1\\n1611,1\\n1612,1\\n1613,0\\n1614,0\\n1615,0\\n1616,0\\n1617,1\\n1618,1\\n1619,0\\n1620,0\\n1621,1\\n1622,1\\n1623,1\\n1624,1\\n1625,0\\n1626,1\\n1627,1\\n1628,1\\n1629,1\\n1630,1\\n1631,0\\n1632,1\\n1633,0\\n1634,0\\n1635,1\\n1636,0\\n1637,0\\n1638,1\\n1639,0\\n1640,0\\n1641,1\\n1642,1\\n1643,0\\n1644,1\\n1645,0\\n1646,1\\n1647,0\\n1648,0\\n1649,1\\n1650,1\\n1651,0\\n1652,0\\n1653,0\\n1654,1\\n1655,0\\n1656,0\\n1657,1\\n1658,0\\n1659,1\\n1660,1\\n1661,1\\n1662,0\\n1663,0\\n1664,0\\n1665,1\\n1666,0\\n1667,1\\n1668,0\\n1669,0\\n1670,0\\n1671,0\\n1672,1\\n1673,0\\n1674,1\\n1675,0\\n1676,0\\n1677,1\\n1678,0\\n1679,0\\n1680,1\\n1681,0\\n1682,1\\n1683,1\\n1684,0\\n1685,0\\n1686,1\\n1687,1\\n1688,0\\n1689,0\\n1690,0\\n1691,0\\n1692,1\\n1693,0\\n1694,0\\n1695,0\\n1696,1\\n1697,1\\n1698,0\\n1699,1\\n1700,1\\n1701,1\\n1702,1\\n1703,1\\n1704,0\\n1705,0\\n1706,1\\n1707,0\\n1708,1\\n1709,0\\n1710,1\\n1711,1\\n1712,1\\n1713,1\\n1714,0\\n1715,0\\n1716,1\\n1717,0\\n1718,0\\n1719,1\\n1720,1\\n1721,0\\n1722,0\\n1723,0\\n1724,1\\n1725,1\\n1726,0\\n1727,0\\n1728,0\\n1729,1\\n1730,0\\n1731,0\\n1732,1\\n1733,0\\n1734,0\\n1735,1\\n1736,0\\n1737,0\\n1738,0\\n1739,1\\n1740,1\\n1741,1\\n1742,0\\n1743,1\\n1744,0\\n1745,0\\n1746,1\\n1747,0\\n1748,1\\n1749,1\\n1750,1\\n1751,0\\n1752,1\\n1753,1\\n1754,1\\n1755,0\\n1756,1\\n1757,1\\n1758,1\\n1759,0\\n1760,0\\n1761,1\\n1762,0\\n1763,0\\n1764,0\\n1765,0\\n1766,1\\n1767,0\\n1768,1\\n1769,0\\n1770,1\\n1771,0\\n1772,1\\n1773,0\\n1774,0\\n1775,0\\n1776,0\\n1777,1\\n1778,0\\n1779,0\\n1780,1\\n1781,0\\n1782,0\\n1783,0\\n1784,0\\n1785,1\\n1786,1\\n1787,1\\n1788,1\\n1789,1\\n1790,0\\n1791,1\\n1792,1\\n1793,0\\n1794,1\\n1795,1\\n1796,1\\n1797,1\\n1798,1\\n1799,1\\n1800,1\\n1801,0\\n1802,0\\n1803,1\\n1804,0\\n1805,1\\n1806,0\\n1807,0\\n1808,0\\n1809,1\\n1810,1\\n1811,0\\n1812,1\\n1813,1\\n1814,1\\n1815,1\\n1816,1\\n1817,0\\n1818,0\\n1819,0\\n1820,0\\n1821,1\\n1822,1\\n1823,1\\n1824,0\\n1825,0\\n1826,1\\n1827,1\\n1828,1\\n1829,0\\n1830,1\\n1831,1\\n1832,0\\n1833,1\\n1834,1\\n1835,0\\n1836,1\\n1837,1\\n1838,1\\n1839,1\\n1840,1\\n1841,0\\n1842,0\\n1843,1\\n1844,1\\n1845,0\\n1846,1\\n1847,0\\n1848,0\\n1849,0\\n1850,1\\n1851,1\\n1852,1\\n1853,0\\n1854,1\\n1855,0\\n1856,0\\n1857,1\\n1858,0\\n1859,0\\n1860,0\\n1861,1\\n1862,1\\n1863,0\\n1864,0\\n1865,1\\n1866,0\\n1867,1\\n1868,1\\n1869,0\\n1870,1\\n1871,1\\n1872,1\\n1873,1\\n1874,1\\n1875,0\\n1876,0\\n1877,1\\n1878,0\\n1879,1\\n1880,1\\n1881,1\\n1882,0\\n1883,0\\n1884,0\\n1885,0\\n1886,0\\n1887,0\\n1888,0\\n1889,1\\n1890,0\\n1891,1\\n1892,1\\n1893,0\\n1894,1\\n1895,1\\n1896,0\\n1897,1\\n1898,1\\n1899,0\\n1900,1\\n1901,0\\n1902,0\\n1903,1\\n1904,1\\n1905,1\\n1906,0\\n1907,1\\n1908,1\\n1909,0\\n1910,0\\n1911,0\\n1912,1\\n1913,0\\n1914,1\\n1915,0\\n1916,1\\n1917,1\\n1918,0\\n1919,0\\n1920,1\\n1921,0\\n1922,1\\n1923,1\\n1924,0\\n1925,0\\n1926,0\\n1927,0\\n1928,1\\n1929,1\\n1930,1\\n1931,1\\n1932,1\\n1933,1\\n1934,0\\n1935,0\\n1936,1\\n1937,1\\n1938,1\\n1939,1\\n1940,1\\n1941,0\\n1942,1\\n1943,0\\n1944,0\\n1945,1\\n1946,1\\n1947,1\\n1948,1\\n1949,1\\n1950,1\\n1951,1\\n1952,1\\n1953,1\\n1954,0\\n1955,1\\n1956,0\\n1957,0\\n1958,0\\n1959,0\\n1960,1\\n1961,0\\n1962,0\\n1963,0\\n1964,0\\n1965,0\\n1966,1\\n1967,1\\n1968,0\\n1969,1\\n1970,1\\n1971,0\\n1972,1\\n1973,1\\n1974,0\\n1975,1\\n1976,1\\n1977,0\\n1978,1\\n1979,0\\n1980,0\\n1981,1\\n1982,1\\n1983,1\\n1984,0\\n1985,0\\n1986,1\\n1987,1\\n1988,1\\n1989,1\\n1990,0\\n1991,0\\n1992,0\\n1993,0\\n1994,0\\n1995,1\\n1996,0\\n1997,0\\n1998,1\\n1999,1\\n2000,0\\n2001,0\\n2002,0\\n2003,1\\n2004,0\\n2005,1\\n2006,1\\n2007,0\\n2008,1\\n2009,0\\n2010,1\\n2011,0\\n2012,1\\n2013,0\\n2014,0\\n2015,0\\n2016,0\\n2017,0\\n2018,1\\n2019,0\\n2020,1\\n2021,0\\n2022,0\\n2023,0\\n2024,1\\n2025,1\\n2026,0\\n2027,0\\n2028,1\\n2029,0\\n2030,0\\n2031,0\\n2032,0\\n2033,1\\n2034,1\\n2035,1\\n2036,1\\n2037,1\\n2038,1\\n2039,1\\n2040,1\\n2041,0\\n2042,1\\n2043,1\\n2044,0\\n2045,0\\n2046,1\\n2047,1\\n2048,1\\n2049,0\\n2050,1\\n2051,1\\n2052,1\\n2053,1\\n2054,0\\n2055,1\\n2056,0\\n2057,0\\n2058,0\\n2059,1\\n2060,1\\n2061,1\\n2062,0\\n2063,0\\n2064,1\\n2065,0\\n2066,1\\n2067,1\\n2068,0\\n2069,1\\n2070,1\\n2071,0\\n2072,0\\n2073,1\\n2074,0\\n2075,1\\n2076,1\\n2077,0\\n2078,0\\n2079,0\\n2080,0\\n2081,1\\n2082,1\\n2083,1\\n2084,0\\n2085,0\\n2086,1\\n2087,0\\n2088,1\\n2089,0\\n2090,1\\n2091,0\\n2092,1\\n2093,1\\n2094,1\\n2095,0\\n2096,0\\n2097,0\\n2098,0\\n2099,1\\n2100,0\\n2101,0\\n2102,0\\n2103,0\\n2104,0\\n2105,0\\n2106,1\\n2107,1\\n2108,1\\n2109,0\\n2110,1\\n2111,1\\n2112,0\\n2113,1\\n2114,0\\n2115,1\\n2116,1\\n2117,1\\n2118,1\\n2119,0\\n2120,0\\n2121,1\\n2122,0\\n2123,0\\n2124,1\\n2125,1\\n2126,0\\n2127,1\\n2128,0\\n2129,1\\n2130,1\\n2131,1\\n2132,0\\n2133,0\\n2134,1\\n2135,1\\n2136,1\\n2137,1\\n2138,0\\n2139,1\\n2140,1\\n2141,1\\n2142,0\\n2143,0\\n2144,1\\n2145,1\\n2146,0\\n2147,1\\n2148,0\\n2149,1\\n2150,0\\n2151,1\\n2152,0\\n2153,1\\n2154,0\\n2155,1\\n2156,1\\n2157,1\\n2158,0\\n2159,0\\n2160,1\\n2161,1\\n2162,1\\n2163,0\\n2164,1\\n2165,0\\n2166,1\\n2167,0\\n2168,0\\n2169,1\\n2170,0\\n2171,0\\n2172,0\\n2173,0\\n2174,1\\n2175,1\\n2176,1\\n2177,1\\n2178,1\\n2179,1\\n2180,1\\n2181,0\\n2182,1\\n2183,0\\n2184,1\\n2185,1\\n2186,1\\n2187,1\\n2188,1\\n2189,1\\n2190,1\\n2191,1\\n2192,1\\n2193,1\\n2194,0\\n2195,1\\n2196,1\\n2197,0\\n2198,0\\n2199,1\\n2200,1\\n2201,0\\n2202,1\\n2203,1\\n2204,1\\n2205,1\\n2206,1\\n2207,0\\n2208,0\\n2209,1\\n2210,1\\n2211,1\\n2212,1\\n2213,0\\n2214,1\\n2215,1\\n2216,1\\n2217,0\\n2218,0\\n2219,1\\n2220,1\\n2221,1\\n2222,0\\n2223,1\\n2224,1\\n2225,1\\n2226,0\\n2227,0\\n2228,0\\n2229,1\\n2230,0\\n2231,1\\n2232,1\\n2233,1\\n2234,1\\n2235,1\\n2236,1\\n2237,1\\n2238,0\\n2239,1\\n2240,0\\n2241,0\\n2242,1\\n2243,1\\n2244,0\\n2245,0\\n2246,0\\n2247,1\\n2248,1\\n2249,1\\n2250,1\\n2251,0\\n2252,0\\n2253,1\\n2254,0\\n2255,0\\n2256,1\\n2257,0\\n2258,1\\n2259,0\\n2260,1\\n2261,1\\n2262,0\\n2263,1\\n2264,0\\n2265,0\\n2266,1\\n2267,0\\n2268,1\\n2269,0\\n2270,1\\n2271,1\\n2272,1\\n2273,0\\n2274,1\\n2275,0\\n2276,1\\n2277,0\\n2278,1\\n2279,1\\n2280,0\\n2281,0\\n2282,1\\n2283,1\\n2284,1\\n2285,1\\n2286,0\\n2287,1\\n2288,1\\n2289,0\\n2290,0\\n2291,0\\n2292,0\\n2293,1\\n2294,0\\n2295,1\\n2296,0\\n2297,1\\n2298,0\\n2299,1\\n2300,1\\n2301,0\\n2302,0\\n2303,1\\n2304,1\\n2305,0\\n2306,0\\n2307,1\\n2308,1\\n2309,0\\n2310,1\\n2311,0\\n2312,1\\n2313,1\\n2314,1\\n2315,1\\n2316,0\\n2317,0\\n2318,1\\n2319,1\\n2320,1\\n2321,1\\n2322,1\\n2323,1\\n2324,0\\n2325,0\\n2326,1\\n2327,0\\n2328,0\\n2329,0\\n2330,1\\n2331,1\\n2332,1\\n2333,0\\n2334,0\\n2335,0\\n2336,0\\n2337,1\\n2338,0\\n2339,0\\n2340,1\\n2341,1\\n2342,0\\n2343,1\\n2344,0\\n2345,1\\n2346,0\\n2347,1\\n2348,1\\n2349,1\\n2350,0\\n2351,0\\n2352,0\\n2353,0\\n2354,0\\n2355,0\\n2356,0\\n2357,1\\n2358,0\\n2359,0\\n2360,1\\n2361,1\\n2362,1\\n2363,0\\n2364,1\\n2365,1\\n2366,0\\n2367,0\\n2368,1\\n2369,1\\n2370,0\\n2371,0\\n2372,1\\n2373,0\\n2374,1\\n2375,1\\n2376,1\\n2377,0\\n2378,0\\n2379,0\\n2380,1\\n2381,0\\n2382,1\\n2383,1\\n2384,0\\n2385,0\\n2386,1\\n2387,0\\n2388,1\\n2389,1\\n2390,1\\n2391,0\\n2392,1\\n2393,1\\n2394,1\\n2395,1\\n2396,1\\n2397,1\\n2398,0\\n2399,1\\n2400,1\\n2401,0\\n2402,0\\n2403,0\\n2404,0\\n2405,0\\n2406,1\\n2407,0\\n2408,1\\n2409,0\\n2410,1\\n2411,1\\n2412,1\\n2413,1\\n2414,0\\n2415,0\\n2416,1\\n2417,1\\n2418,0\\n2419,1\\n2420,1\\n2421,0\\n2422,0\\n2423,1\\n2424,1\\n2425,1\\n2426,1\\n2427,1\\n2428,0\\n2429,1\\n2430,0\\n2431,0\\n2432,1\\n2433,1\\n2434,1\\n2435,0\\n2436,1\\n2437,0\\n2438,0\\n2439,0\\n2440,1\\n2441,0\\n2442,0\\n2443,1\\n2444,1\\n2445,0\\n2446,0\\n2447,0\\n2448,0\\n2449,0\\n2450,1\\n2451,0\\n2452,1\\n2453,0\\n2454,0\\n2455,0\\n2456,0\\n2457,0\\n2458,1\\n2459,0\\n2460,1\\n2461,0\\n2462,0\\n2463,1\\n2464,0\\n2465,0\\n2466,1\\n2467,1\\n2468,0\\n2469,0\\n2470,0\\n2471,0\\n2472,0\\n2473,0\\n2474,0\\n2475,0\\n2476,0\\n2477,0\\n2478,0\\n2479,0\\n2480,0\\n2481,0\\n2482,1\\n2483,1\\n2484,0\\n2485,0\\n2486,0\\n2487,1\\n2488,1\\n2489,0\\n2490,0\\n2491,0\\n2492,0\\n2493,1\\n2494,1\\n2495,1\\n2496,0\\n2497,0\\n2498,0\\n2499,1\\n2500,1\\n2501,0\\n2502,0\\n2503,0\\n2504,1\\n2505,0\\n2506,0\\n2507,0\\n2508,1\\n2509,1\\n2510,1\\n2511,1\\n2512,0\\n2513,0\\n2514,1\\n2515,0\\n2516,1\\n2517,1\\n2518,0\\n2519,0\\n2520,1\\n2521,0\\n2522,1\\n2523,1\\n2524,0\\n2525,0\\n2526,1\\n2527,0\\n2528,0\\n2529,0\\n2530,0\\n2531,0\\n2532,1\\n2533,1\\n2534,1\\n2535,1\\n2536,0\\n2537,1\\n2538,1\\n2539,1\\n2540,0\\n2541,0\\n2542,1\\n2543,1\\n2544,1\\n2545,1\\n2546,0\\n2547,0\\n2548,1\\n2549,1\\n2550,1\\n2551,1\\n2552,0\\n2553,1\\n2554,1\\n2555,1\\n2556,1\\n2557,0\\n2558,0\\n2559,0\\n2560,0\\n2561,1\\n2562,1\\n2563,0\\n2564,1\\n2565,0\\n2566,1\\n2567,1\\n2568,0\\n2569,1\\n2570,0\\n2571,1\\n2572,0\\n2573,1\\n2574,0\\n2575,0\\n2576,0\\n2577,1\\n2578,1\\n2579,0\\n2580,1\\n2581,0\\n2582,0\\n2583,0\\n2584,0\\n2585,1\\n2586,1\\n2587,1\\n2588,1\\n2589,0\\n2590,1\\n2591,1\\n2592,1\\n2593,0\\n2594,1\\n2595,1\\n2596,1\\n2597,0\\n2598,1\\n2599,1\\n2600,0\\n2601,1\\n2602,1\\n2603,0\\n2604,1\\n2605,1\\n2606,1\\n2607,1\\n2608,1\\n2609,1\\n2610,0\\n2611,0\\n2612,1\\n2613,1\\n2614,1\\n2615,1\\n2616,0\\n2617,1\\n2618,1\\n2619,1\\n2620,0\\n2621,1\\n2622,0\\n2623,1\\n2624,0\\n2625,1\\n2626,0\\n2627,1\\n2628,0\\n2629,1\\n2630,1\\n2631,0\\n2632,0\\n2633,0\\n2634,1\\n2635,1\\n2636,1\\n2637,0\\n2638,1\\n2639,1\\n2640,1\\n2641,1\\n2642,1\\n2643,1\\n2644,1\\n2645,0\\n2646,0\\n2647,0\\n2648,0\\n2649,0\\n2650,1\\n2651,1\\n2652,1\\n2653,0\\n2654,1\\n2655,0\\n2656,1\\n2657,0\\n2658,1\\n2659,0\\n2660,0\\n2661,1\\n2662,1\\n2663,1\\n2664,0\\n2665,1\\n2666,1\\n2667,1\\n2668,0\\n2669,0\\n2670,0\\n2671,1\\n2672,1\\n2673,1\\n2674,0\\n2675,0\\n2676,0\\n2677,1\\n2678,0\\n2679,1\\n2680,1\\n2681,1\\n2682,0\\n2683,1\\n2684,0\\n2685,0\\n2686,1\\n2687,0\\n2688,0\\n2689,1\\n2690,1\\n2691,1\\n2692,1\\n2693,0\\n2694,0\\n2695,1\\n2696,1\\n2697,0\\n2698,0\\n2699,0\\n2700,1\\n2701,1\\n2702,0\\n2703,1\\n2704,0\\n2705,0\\n2706,1\\n2707,1\\n2708,1\\n2709,1\\n2710,1\\n2711,0\\n2712,0\\n2713,0\\n2714,0\\n2715,0\\n2716,0\\n2717,0\\n2718,0\\n2719,0\\n2720,1\\n2721,1\\n2722,1\\n2723,0\\n2724,0\\n2725,1\\n2726,0\\n2727,1\\n2728,0\\n2729,0\\n2730,1\\n2731,1\\n2732,1\\n2733,0\\n2734,1\\n2735,1\\n2736,1\\n2737,0\\n2738,1\\n2739,1\\n2740,0\\n2741,0\\n2742,0\\n2743,0\\n2744,1\\n2745,1\\n2746,1\\n2747,0\\n2748,0\\n2749,0\\n2750,1\\n2751,0\\n2752,0\\n2753,0\\n2754,0\\n2755,0\\n2756,0\\n2757,1\\n2758,0\\n2759,1\\n2760,0\\n2761,0\\n2762,1\\n2763,1\\n2764,1\\n2765,0\\n2766,0\\n2767,0\\n2768,0\\n2769,1\\n2770,1\\n2771,0\\n2772,1\\n2773,0\\n2774,0\\n2775,0\\n2776,0\\n2777,0\\n2778,0\\n2779,0\\n2780,1\\n2781,1\\n2782,0\\n2783,1\\n2784,0\\n2785,0\\n2786,1\\n2787,0\\n2788,1\\n2789,0\\n2790,1\\n2791,1\\n2792,1\\n2793,1\\n2794,1\\n2795,1\\n2796,1\\n2797,0\\n2798,1\\n2799,1\\n2800,0\\n2801,1\\n2802,0\\n2803,0\\n2804,0\\n2805,0\\n2806,0\\n2807,0\\n2808,1\\n2809,1\\n2810,1\\n2811,1\\n2812,1\\n2813,1\\n2814,0\\n2815,1\\n2816,0\\n2817,1\\n2818,0\\n2819,0\\n2820,1\\n2821,1\\n2822,1\\n2823,0\\n2824,1\\n2825,0\\n2826,1\\n2827,0\\n2828,1\\n2829,1\\n2830,0\\n2831,0\\n2832,1\\n2833,0\\n2834,1\\n2835,0\\n2836,0\\n2837,1\\n2838,1\\n2839,1\\n2840,1\\n2841,0\\n2842,1\\n2843,1\\n2844,0\\n2845,0\\n2846,0\\n2847,1\\n2848,1\\n2849,0\\n2850,1\\n2851,1\\n2852,0\\n2853,0\\n2854,0\\n2855,0\\n2856,1\\n2857,1\\n2858,0\\n2859,0\\n2860,0\\n2861,1\\n2862,0\\n2863,0\\n2864,0\\n2865,0\\n2866,1\\n2867,1\\n2868,1\\n2869,1\\n2870,1\\n2871,0\\n2872,1\\n2873,0\\n2874,0\\n2875,0\\n2876,1\\n2877,1\\n2878,0\\n2879,0\\n2880,0\\n2881,0\\n2882,0\\n2883,0\\n2884,0\\n2885,1\\n2886,1\\n2887,0\\n2888,0\\n2889,1\\n2890,1\\n2891,1\\n2892,1\\n2893,0\\n2894,1\\n2895,1\\n2896,1\\n2897,0\\n2898,1\\n2899,1\\n2900,0\\n2901,0\\n2902,1\\n2903,1\\n2904,1\\n2905,0\\n2906,1\\n2907,1\\n2908,0\\n2909,0\\n2910,1\\n2911,1\\n2912,1\\n2913,1\\n2914,0\\n2915,1\\n2916,0\\n2917,1\\n2918,1\\n2919,1\\n2920,0\\n2921,1\\n2922,1\\n2923,1\\n2924,1\\n2925,0\\n2926,0\\n2927,1\\n2928,0\\n2929,1\\n2930,1\\n2931,0\\n2932,1\\n2933,0\\n2934,0\\n2935,0\\n2936,0\\n2937,0\\n2938,1\\n2939,1\\n2940,1\\n2941,0\\n2942,1\\n2943,0\\n2944,0\\n2945,0\\n2946,0\\n2947,0\\n2948,1\\n2949,1\\n2950,0\\n2951,1\\n2952,0\\n2953,0\\n2954,1\\n2955,1\\n2956,0\\n2957,1\\n2958,1\\n2959,0\\n2960,1\\n2961,1\\n2962,0\\n2963,0\\n2964,0\\n2965,1\\n2966,0\\n2967,1\\n2968,1\\n2969,0\\n2970,0\\n2971,1\\n2972,0\\n2973,1\\n2974,1\\n2975,0\\n2976,0\\n2977,0\\n2978,0\\n2979,1\\n2980,1\\n2981,0\\n2982,0\\n2983,1\\n2984,0\\n2985,0\\n2986,0\\n2987,1\\n2988,0\\n2989,1\\n2990,0\\n2991,1\\n2992,0\\n2993,1\\n2994,0\\n2995,1\\n2996,1\\n2997,0\\n2998,1\\n2999,0\\n3000,1\\n3001,1\\n3002,0\\n3003,0\\n3004,0\\n3005,1\\n3006,1\\n3007,1\\n3008,0\\n3009,0\\n3010,1\\n3011,0\\n3012,0\\n3013,1\\n3014,1\\n3015,1\\n3016,0\\n3017,0\\n3018,0\\n3019,1\\n3020,0\\n3021,0\\n3022,1\\n3023,0\\n3024,1\\n3025,0\\n3026,1\\n3027,1\\n3028,0\\n3029,1\\n3030,0\\n3031,1\\n3032,1\\n3033,0\\n3034,1\\n3035,0\\n3036,0\\n3037,0\\n3038,1\\n3039,1\\n3040,1\\n3041,1\\n3042,0\\n3043,1\\n3044,1\\n3045,1\\n3046,0\\n3047,1\\n3048,0\\n3049,0\\n3050,0\\n3051,1\\n3052,0\\n3053,1\\n3054,0\\n3055,0\\n3056,1\\n3057,0\\n3058,0\\n3059,0\\n3060,0\\n3061,0\\n3062,1\\n3063,0\\n3064,0\\n3065,1\\n3066,1\\n3067,1\\n3068,0\\n3069,0\\n3070,0\\n3071,1\\n3072,0\\n3073,0\\n3074,1\\n3075,1\\n3076,0\\n3077,1\\n3078,0\\n3079,0\\n3080,1\\n3081,1\\n3082,1\\n3083,0\\n3084,1\\n3085,1\\n3086,0\\n3087,0\\n3088,1\\n3089,0\\n3090,0\\n3091,1\\n3092,1\\n3093,1\\n3094,1\\n3095,0\\n3096,0\\n3097,0\\n3098,0\\n3099,1\\n3100,0\\n3101,1\\n3102,0\\n3103,1\\n3104,0\\n3105,0\\n3106,0\\n3107,0\\n3108,1\\n3109,0\\n3110,1\\n3111,1\\n3112,0\\n3113,0\\n3114,0\\n3115,0\\n3116,1\\n3117,0\\n3118,0\\n3119,0\\n3120,0\\n3121,0\\n3122,0\\n3123,1\\n3124,0\\n3125,0\\n3126,0\\n3127,0\\n3128,0\\n3129,0\\n3130,1\\n3131,1\\n3132,0\\n3133,1\\n3134,1\\n3135,1\\n3136,0\\n3137,1\\n3138,1\\n3139,1\\n3140,0\\n3141,1\\n3142,0\\n3143,0\\n3144,0\\n3145,1\\n3146,1\\n3147,1\\n3148,1\\n3149,1\\n3150,0\\n3151,0\\n3152,0\\n3153,1\\n3154,0\\n3155,0\\n3156,1\\n3157,0\\n3158,1\\n3159,0\\n3160,0\\n3161,0\\n3162,0\\n3163,0\\n3164,0\\n3165,1\\n3166,0\\n3167,0\\n3168,1\\n3169,1\\n3170,1\\n3171,1\\n3172,1\\n3173,1\\n3174,1\\n3175,0\\n3176,1\\n3177,1\\n3178,0\\n3179,1\\n3180,1\\n3181,1\\n3182,0\\n3183,0\\n3184,1\\n3185,1\\n3186,1\\n3187,0\\n3188,1\\n3189,1\\n3190,1\\n3191,0\\n3192,1\\n3193,1\\n3194,1\\n3195,1\\n3196,0\\n3197,0\\n3198,0\\n3199,1\\n3200,1\\n3201,0\\n3202,1\\n3203,0\\n3204,0\\n3205,1\\n3206,0\\n3207,0\\n3208,0\\n3209,1\\n3210,0\\n3211,1\\n3212,1\\n3213,0\\n3214,0\\n3215,1\\n3216,0\\n3217,1\\n3218,1\\n3219,1\\n3220,1\\n3221,1\\n3222,0\\n3223,0\\n3224,1\\n3225,0\\n3226,1\\n3227,0\\n3228,0\\n3229,1\\n3230,1\\n3231,0\\n3232,1\\n3233,0\\n3234,1\\n3235,1\\n3236,1\\n3237,0\\n3238,0\\n3239,0\\n3240,1\\n3241,0\\n3242,0\\n3243,0\\n3244,0\\n3245,0\\n3246,1\\n3247,0\\n3248,0\\n3249,1\\n3250,1\\n3251,0\\n3252,0\\n3253,1\\n3254,0\\n3255,0\\n3256,1\\n3257,0\\n3258,1\\n3259,1\\n3260,1\\n3261,1\\n3262,0\\n3263,1\\n3264,1\\n3265,1\\n3266,0\\n3267,0\\n3268,1\\n3269,1\\n3270,1\\n3271,1\\n3272,1\\n3273,1\\n3274,1\\n3275,1\\n3276,0\\n3277,1\\n3278,1\\n3279,0\\n3280,1\\n3281,0\\n3282,1\\n3283,0\\n3284,0\\n3285,0\\n3286,0\\n3287,1\\n3288,0\\n3289,0\\n3290,0\\n3291,1\\n3292,0\\n3293,0\\n3294,1\\n3295,0\\n3296,0\\n3297,0\\n3298,0\\n3299,1\\n3300,1\\n3301,0\\n3302,0\\n3303,1\\n3304,1\\n3305,1\\n3306,0\\n3307,1\\n3308,0\\n3309,0\\n3310,0\\n3311,1\\n3312,0\\n3313,1\\n3314,0\\n3315,1\\n3316,0\\n3317,0\\n3318,0\\n3319,0\\n3320,0\\n3321,0\\n3322,0\\n3323,0\\n3324,0\\n3325,0\\n3326,0\\n3327,1\\n3328,1\\n3329,0\\n3330,1\\n3331,0\\n3332,1\\n3333,1\\n3334,1\\n3335,0\\n3336,0\\n3337,1\\n3338,0\\n3339,0\\n3340,1\\n3341,0\\n3342,0\\n3343,0\\n3344,0\\n3345,1\\n3346,1\\n3347,0\\n3348,0\\n3349,0\\n3350,1\\n3351,1\\n3352,0\\n3353,0\\n3354,1\\n3355,1\\n3356,1\\n3357,0\\n3358,1\\n3359,1\\n3360,0\\n3361,1\\n3362,0\\n3363,0\\n3364,1\\n3365,1\\n3366,0\\n3367,1\\n3368,0\\n3369,0\\n3370,0\\n3371,1\\n3372,1\\n3373,1\\n3374,0\\n3375,1\\n3376,0\\n3377,0\\n3378,1\\n3379,0\\n3380,0\\n3381,0\\n3382,1\\n3383,0\\n3384,0\\n3385,1\\n3386,1\\n3387,1\\n3388,1\\n3389,1\\n3390,1\\n3391,0\\n3392,0\\n3393,0\\n3394,0\\n3395,1\\n3396,1\\n3397,0\\n3398,1\\n3399,0\\n3400,1\\n3401,1\\n3402,1\\n3403,0\\n3404,1\\n3405,1\\n3406,1\\n3407,0\\n3408,1\\n3409,0\\n3410,0\\n3411,1\\n3412,1\\n3413,1\\n3414,1\\n3415,1\\n3416,0\\n3417,0\\n3418,0\\n3419,0\\n3420,0\\n3421,0\\n3422,0\\n3423,0\\n3424,1\\n3425,1\\n3426,1\\n3427,0\\n3428,1\\n3429,1\\n3430,0\\n3431,0\\n3432,1\\n3433,0\\n3434,1\\n3435,1\\n3436,0\\n3437,0\\n3438,0\\n3439,0\\n3440,1\\n3441,0\\n3442,1\\n3443,0\\n3444,0\\n3445,1\\n3446,0\\n3447,0\\n3448,1\\n3449,1\\n3450,1\\n3451,0\\n3452,1\\n3453,1\\n3454,0\\n3455,0\\n3456,1\\n3457,0\\n3458,0\\n3459,0\\n3460,1\\n3461,1\\n3462,1\\n3463,1\\n3464,1\\n3465,0\\n3466,0\\n3467,0\\n3468,0\\n3469,0\\n3470,1\\n3471,0\\n3472,1\\n3473,1\\n3474,1\\n3475,0\\n3476,1\\n3477,1\\n3478,1\\n3479,1\\n3480,1\\n3481,0\\n3482,1\\n3483,1\\n3484,1\\n3485,1\\n3486,1\\n3487,0\\n3488,0\\n3489,1\\n3490,1\\n3491,0\\n3492,0\\n3493,0\\n3494,1\\n3495,1\\n3496,1\\n3497,1\\n3498,1\\n3499,1\\n3500,0\\n3501,1\\n3502,0\\n3503,1\\n3504,0\\n3505,1\\n3506,1\\n3507,1\\n3508,0\\n3509,1\\n3510,1\\n3511,1\\n3512,1\\n3513,1\\n3514,1\\n3515,1\\n3516,1\\n3517,1\\n3518,1\\n3519,1\\n3520,1\\n3521,0\\n3522,0\\n3523,0\\n3524,1\\n3525,1\\n3526,0\\n3527,1\\n3528,0\\n3529,1\\n3530,1\\n3531,0\\n3532,0\\n3533,1\\n3534,0\\n3535,1\\n3536,0\\n3537,0\\n3538,0\\n3539,0\\n3540,0\\n3541,1\\n3542,0\\n3543,1\\n3544,1\\n3545,0\\n3546,1\\n3547,1\\n3548,0\\n3549,0\\n3550,1\\n3551,1\\n3552,0\\n3553,1\\n3554,1\\n3555,0\\n3556,1\\n3557,1\\n3558,1\\n3559,1\\n3560,0\\n3561,0\\n3562,0\\n3563,1\\n3564,0\\n3565,0\\n3566,1\\n3567,1\\n3568,1\\n3569,0\\n3570,1\\n3571,0\\n3572,1\\n3573,1\\n3574,1\\n3575,0\\n3576,1\\n3577,1\\n3578,0\\n3579,1\\n3580,1\\n3581,0\\n3582,0\\n3583,1\\n3584,0\\n3585,0\\n3586,1\\n3587,0\\n3588,1\\n3589,0\\n3590,1\\n3591,1\\n3592,1\\n3593,1\\n3594,1\\n3595,1\\n3596,1\\n3597,1\\n3598,0\\n3599,0\\n3600,0\\n3601,0\\n3602,0\\n3603,0\\n3604,0\\n3605,0\\n3606,1\\n3607,0\\n3608,1\\n3609,1\\n3610,1\\n3611,1\\n3612,0\\n3613,0\\n3614,1\\n3615,0\\n3616,1\\n3617,0\\n3618,1\\n3619,0\\n3620,1\\n3621,0\\n3622,0\\n3623,1\\n3624,0\\n3625,0\\n3626,0\\n3627,1\\n3628,0\\n3629,0\\n3630,0\\n3631,1\\n3632,1\\n3633,0\\n3634,0\\n3635,1\\n3636,1\\n3637,1\\n3638,1\\n3639,0\\n3640,1\\n3641,0\\n3642,1\\n3643,1\\n3644,1\\n3645,0\\n3646,1\\n3647,1\\n3648,1\\n3649,0\\n3650,0\\n3651,0\\n3652,0\\n3653,0\\n3654,1\\n3655,1\\n3656,1\\n3657,1\\n3658,1\\n3659,0\\n3660,0\\n3661,1\\n3662,1\\n3663,0\\n3664,1\\n3665,0\\n3666,0\\n3667,0\\n3668,0\\n3669,0\\n3670,1\\n3671,0\\n3672,1\\n3673,1\\n3674,0\\n3675,1\\n3676,1\\n3677,1\\n3678,0\\n3679,0\\n3680,1\\n3681,1\\n3682,1\\n3683,1\\n3684,0\\n3685,0\\n3686,0\\n3687,0\\n3688,1\\n3689,1\\n3690,0\\n3691,1\\n3692,1\\n3693,0\\n3694,1\\n3695,1\\n3696,0\\n3697,0\\n3698,0\\n3699,0\\n3700,1\\n3701,1\\n3702,0\\n3703,0\\n3704,0\\n3705,0\\n3706,0\\n3707,0\\n3708,1\\n3709,0\\n3710,1\\n3711,0\\n3712,0\\n3713,0\\n3714,1\\n3715,0\\n3716,0\\n3717,1\\n3718,0\\n3719,1\\n3720,1\\n3721,0\\n3722,1\\n3723,0\\n3724,1\\n3725,1\\n3726,0\\n3727,0\\n3728,1\\n3729,0\\n3730,0\\n3731,0\\n3732,0\\n3733,0\\n3734,1\\n3735,1\\n3736,1\\n3737,1\\n3738,0\\n3739,0\\n3740,1\\n3741,0\\n3742,1\\n3743,1\\n3744,1\\n3745,1\\n3746,1\\n3747,0\\n3748,1\\n3749,0\\n3750,1\\n3751,1\\n3752,0\\n3753,0\\n3754,0\\n3755,1\\n3756,1\\n3757,0\\n3758,0\\n3759,1\\n3760,1\\n3761,0\\n3762,0\\n3763,1\\n3764,0\\n3765,1\\n3766,1\\n3767,0\\n3768,0\\n3769,1\\n3770,0\\n3771,1\\n3772,1\\n3773,1\\n3774,1\\n3775,0\\n3776,0\\n3777,1\\n3778,0\\n3779,0\\n3780,1\\n3781,0\\n3782,0\\n3783,0\\n3784,1\\n3785,1\\n3786,1\\n3787,0\\n3788,0\\n3789,1\\n3790,0\\n3791,0\\n3792,0\\n3793,0\\n3794,1\\n3795,0\\n3796,1\\n3797,0\\n3798,1\\n3799,0\\n3800,1\\n3801,1\\n3802,1\\n3803,1\\n3804,0\\n3805,0\\n3806,0\\n3807,1\\n3808,0\\n3809,1\\n3810,0\\n3811,0\\n3812,1\\n3813,1\\n3814,1\\n3815,1\\n3816,1\\n3817,1\\n3818,1\\n3819,0\\n3820,0\\n3821,1\\n3822,1\\n3823,0\\n3824,0\\n3825,0\\n3826,0\\n3827,1\\n3828,0\\n3829,0\\n3830,1\\n3831,1\\n3832,1\\n3833,0\\n3834,0\\n3835,0\\n3836,1\\n3837,1\\n3838,0\\n3839,0\\n3840,0\\n3841,1\\n3842,1\\n3843,0\\n3844,1\\n3845,1\\n3846,1\\n3847,0\\n3848,1\\n3849,1\\n3850,0\\n3851,1\\n3852,1\\n3853,0\\n3854,0\\n3855,0\\n3856,0\\n3857,0\\n3858,0\\n3859,0\\n3860,0\\n3861,0\\n3862,0\\n3863,0\\n3864,1\\n3865,1\\n3866,1\\n3867,1\\n3868,0\\n3869,0\\n3870,0\\n3871,0\\n3872,1\\n3873,0\\n3874,1\\n3875,0\\n3876,0\\n3877,1\\n3878,0\\n3879,0\\n3880,1\\n3881,1\\n3882,1\\n3883,0\\n3884,1\\n3885,1\\n3886,1\\n3887,0\\n3888,1\\n3889,0\\n3890,0\\n3891,0\\n3892,0\\n3893,1\\n3894,0\\n3895,1\\n3896,1\\n3897,0\\n3898,1\\n3899,1\\n3900,1\\n3901,0\\n3902,0\\n3903,0\\n3904,1\\n3905,0\\n3906,1\\n3907,0\\n3908,1\\n3909,1\\n3910,1\\n3911,0\\n3912,0\\n3913,0\\n3914,1\\n3915,1\\n3916,0\\n3917,1\\n3918,0\\n3919,1\\n3920,1\\n3921,0\\n3922,0\\n3923,1\\n3924,1\\n3925,1\\n3926,1\\n3927,0\\n3928,1\\n3929,0\\n3930,0\\n3931,1\\n3932,1\\n3933,0\\n3934,0\\n3935,1\\n3936,1\\n3937,1\\n3938,1\\n3939,0\\n3940,0\\n3941,0\\n3942,0\\n3943,0\\n3944,0\\n3945,0\\n3946,1\\n3947,1\\n3948,1\\n3949,1\\n3950,1\\n3951,1\\n3952,0\\n3953,0\\n3954,1\\n3955,1\\n3956,1\\n3957,0\\n3958,1\\n3959,1\\n3960,0\\n3961,0\\n3962,0\\n3963,1\\n3964,0\\n3965,0\\n3966,1\\n3967,1\\n3968,1\\n3969,0\\n3970,1\\n3971,1\\n3972,0\\n3973,0\\n3974,0\\n3975,0\\n3976,0\\n3977,0\\n3978,0\\n3979,1\\n3980,0\\n3981,1\\n3982,0\\n3983,0\\n3984,0\\n3985,1\\n3986,1\\n3987,0\\n3988,0\\n3989,0\\n3990,1\\n3991,1\\n3992,1\\n3993,1\\n3994,0\\n3995,0\\n3996,1\\n3997,0\\n3998,1\\n3999,0\\n4000,1\\n4001,1\\n4002,0\\n4003,0\\n4004,0\\n4005,0\\n4006,0\\n4007,0\\n4008,0\\n4009,1\\n4010,0\\n4011,0\\n4012,1\\n4013,0\\n4014,0\\n4015,0\\n4016,1\\n4017,1\\n4018,0\\n4019,0\\n4020,1\\n4021,0\\n4022,1\\n4023,0\\n4024,0\\n4025,0\\n4026,1\\n4027,0\\n4028,0\\n4029,1\\n4030,1\\n4031,0\\n4032,1\\n4033,1\\n4034,0\\n4035,0\\n4036,1\\n4037,1\\n4038,0\\n4039,1\\n4040,1\\n4041,0\\n4042,0\\n4043,1\\n4044,0\\n4045,1\\n4046,1\\n4047,1\\n4048,1\\n4049,1\\n4050,1\\n4051,0\\n4052,1\\n4053,1\\n4054,1\\n4055,1\\n4056,0\\n4057,1\\n4058,1\\n4059,1\\n4060,0\\n4061,0\\n4062,1\\n4063,0\\n4064,1\\n4065,1\\n4066,1\\n4067,0\\n4068,1\\n4069,1\\n4070,1\\n4071,0\\n4072,0\\n4073,0\\n4074,0\\n4075,1\\n4076,0\\n4077,1\\n4078,0\\n4079,0\\n4080,1\\n4081,0\\n4082,0\\n4083,0\\n4084,0\\n4085,1\\n4086,1\\n4087,0\\n4088,1\\n4089,0\\n4090,1\\n4091,0\\n4092,1\\n4093,1\\n4094,1\\n4095,0\\n4096,0\\n4097,1\\n4098,1\\n4099,1\\n4100,1\\n4101,1\\n4102,0\\n4103,1\\n4104,0\\n4105,1\\n4106,1\\n4107,0\\n4108,1\\n4109,0\\n4110,0\\n4111,0\\n4112,1\\n4113,0\\n4114,1\\n4115,1\\n4116,0\\n4117,0\\n4118,1\\n4119,1\\n4120,1\\n4121,1\\n4122,1\\n4123,0\\n4124,1\\n4125,0\\n4126,1\\n4127,1\\n4128,1\\n4129,1\\n4130,0\\n4131,0\\n4132,0\\n4133,1\\n4134,1\\n4135,0\\n4136,0\\n4137,0\\n4138,1\\n4139,1\\n4140,0\\n4141,1\\n4142,1\\n4143,0\\n4144,0\\n4145,0\\n4146,0\\n4147,0\\n4148,1\\n4149,1\\n4150,1\\n4151,0\\n4152,1\\n4153,0\\n4154,0\\n4155,0\\n4156,0\\n4157,1\\n4158,0\\n4159,0\\n4160,0\\n4161,1\\n4162,1\\n4163,1\\n4164,1\\n4165,0\\n4166,0\\n4167,1\\n4168,0\\n4169,0\\n4170,1\\n4171,0\\n4172,1\\n4173,1\\n4174,0\\n4175,1\\n4176,0\\n4177,0\\n4178,0\\n4179,1\\n4180,1\\n4181,0\\n4182,0\\n4183,1\\n4184,1\\n4185,0\\n4186,1\\n4187,0\\n4188,1\\n4189,0\\n4190,1\\n4191,1\\n4192,0\\n4193,1\\n4194,0\\n4195,0\\n4196,0\\n4197,1\\n4198,0\\n4199,1\\n4200,0\\n4201,1\\n4202,1\\n4203,1\\n4204,0\\n4205,1\\n4206,1\\n4207,1\\n4208,1\\n4209,0\\n4210,1\\n4211,0\\n4212,1\\n4213,1\\n4214,0\\n4215,0\\n4216,1\\n4217,0\\n4218,0\\n4219,1\\n4220,1\\n4221,0\\n4222,1\\n4223,0\\n4224,0\\n4225,1\\n4226,0\\n4227,1\\n4228,0\\n4229,1\\n4230,0\\n4231,0\\n4232,1\\n4233,1\\n4234,1\\n4235,1\\n4236,0\\n4237,0\\n4238,0\\n4239,0\\n4240,1\\n4241,0\\n4242,0\\n4243,1\\n4244,0\\n4245,1\\n4246,0\\n4247,0\\n4248,0\\n4249,0\\n4250,1\\n4251,1\\n4252,1\\n4253,1\\n4254,0\\n4255,0\\n4256,0\\n4257,0\\n4258,1\\n4259,0\\n4260,0\\n4261,1\\n4262,0\\n4263,1\\n4264,0\\n4265,1\\n4266,1\\n4267,1\\n4268,1\\n4269,0\\n4270,0\\n4271,1\\n4272,1\\n4273,0\\n4274,1\\n4275,0\\n4276,0\\n4277,0\\n4278,1\\n4279,1\\n4280,1\\n4281,0\\n4282,1\\n4283,1\\n4284,0\\n4285,1\\n4286,1\\n4287,0\\n4288,0\\n4289,0\\n4290,0\\n4291,1\\n4292,0\\n4293,1\\n4294,0\\n4295,1\\n4296,0\\n4297,0\\n4298,1\\n4299,0\\n4300,1\\n4301,0\\n4302,1\\n4303,0\\n4304,1\\n4305,1\\n4306,1\\n4307,0\\n4308,1\\n4309,1\\n4310,1\\n4311,0\\n4312,0\\n4313,1\\n4314,1\\n4315,1\\n4316,1\\n4317,0\\n4318,0\\n4319,1\\n4320,1\\n4321,0\\n4322,0\\n4323,0\\n4324,1\\n4325,0\\n4326,0\\n4327,1\\n4328,0\\n4329,1\\n4330,1\\n4331,1\\n4332,0\\n4333,0\\n4334,0\\n4335,0\\n4336,0\\n4337,0\\n4338,1\\n4339,1\\n4340,0\\n4341,1\\n4342,0\\n4343,1\\n4344,0\\n4345,1\\n4346,1\\n4347,0\\n4348,1\\n4349,1\\n4350,1\\n4351,1\\n4352,0\\n4353,1\\n4354,1\\n4355,1\\n4356,0\\n4357,0\\n4358,1\\n4359,0\\n4360,1\\n4361,0\\n4362,0\\n4363,0\\n4364,1\\n4365,0\\n4366,1\\n4367,0\\n4368,1\\n4369,0\\n4370,0\\n4371,1\\n4372,1\\n4373,0\\n4374,1\\n4375,1\\n4376,0\\n4377,1\\n4378,0\\n4379,1\\n4380,0\\n4381,0\\n4382,0\\n4383,1\\n4384,1\\n4385,1\\n4386,0\\n4387,0\\n4388,1\\n4389,0\\n4390,1\\n4391,0\\n4392,0\\n4393,0\\n4394,0\\n4395,0\\n4396,1\\n4397,0\\n4398,1\\n4399,1\\n4400,1\\n4401,1\\n4402,1\\n4403,0\\n4404,0\\n4405,0\\n4406,0\\n4407,1\\n4408,1\\n4409,0\\n4410,1\\n4411,1\\n4412,0\\n4413,0\\n4414,1\\n4415,1\\n4416,1\\n4417,0\\n4418,1\\n4419,1\\n4420,0\\n4421,0\\n4422,0\\n4423,1\\n4424,0\\n4425,0\\n4426,1\\n4427,0\\n4428,1\\n4429,0\\n4430,0\\n4431,0\\n4432,1\\n4433,0\\n4434,1\\n4435,0\\n4436,1\\n4437,0\\n4438,1\\n4439,0\\n4440,0\\n4441,1\\n4442,0\\n4443,1\\n4444,1\\n4445,1\\n4446,0\\n4447,0\\n4448,0\\n4449,1\\n4450,0\\n4451,0\\n4452,0\\n4453,0\\n4454,0\\n4455,1\\n4456,0\\n4457,0\\n4458,1\\n4459,0\\n4460,1\\n4461,1\\n4462,1\\n4463,1\\n4464,0\\n4465,0\\n4466,0\\n4467,0\\n4468,0\\n4469,1\\n4470,0\\n4471,0\\n4472,0\\n4473,1\\n4474,0\\n4475,0\\n4476,1\\n4477,1\\n4478,0\\n4479,1\\n4480,1\\n4481,1\\n4482,0\\n4483,1\\n4484,1\\n4485,1\\n4486,1\\n4487,0\\n4488,0\\n4489,1\\n4490,0\\n4491,0\\n4492,1\\n4493,0\\n4494,0\\n4495,0\\n4496,0\\n4497,0\\n4498,1\\n4499,0\\n4500,1\\n4501,1\\n4502,0\\n4503,0\\n4504,0\\n4505,1\\n4506,0\\n4507,0\\n4508,0\\n4509,1\\n4510,0\\n4511,1\\n4512,0\\n4513,0\\n4514,0\\n4515,1\\n4516,0\\n4517,0\\n4518,0\\n4519,0\\n4520,1\\n4521,1\\n4522,1\\n4523,0\\n4524,1\\n4525,1\\n4526,0\\n4527,1\\n4528,0\\n4529,1\\n4530,0\\n4531,0\\n4532,0\\n4533,1\\n4534,1\\n4535,0\\n4536,0\\n4537,1\\n4538,0\\n4539,1\\n4540,0\\n4541,1\\n4542,1\\n4543,1\\n4544,1\\n4545,0\\n4546,1\\n4547,0\\n4548,1\\n4549,0\\n4550,1\\n4551,1\\n4552,1\\n4553,0\\n4554,0\\n4555,0\\n4556,1\\n4557,0\\n4558,0\\n4559,0\\n4560,0\\n4561,1\\n4562,1\\n4563,1\\n4564,0\\n4565,0\\n4566,0\\n4567,0\\n4568,0\\n4569,1\\n4570,1\\n4571,1\\n4572,0\\n4573,0\\n4574,0\\n4575,1\\n4576,1\\n4577,0\\n4578,0\\n4579,0\\n4580,0\\n4581,1\\n4582,1\\n4583,0\\n4584,1\\n4585,1\\n4586,0\\n4587,1\\n4588,1\\n4589,1\\n4590,0\\n4591,1\\n4592,1\\n4593,0\\n4594,0\\n4595,1\\n4596,1\\n4597,1\\n4598,0\\n4599,1\\n4600,1\\n4601,0\\n4602,1\\n4603,1\\n4604,1\\n4605,0\\n4606,1\\n4607,0\\n4608,0\\n4609,0\\n4610,1\\n4611,0\\n4612,1\\n4613,1\\n4614,0\\n4615,1\\n4616,1\\n4617,1\\n4618,1\\n4619,0\\n4620,1\\n4621,0\\n4622,1\\n4623,0\\n4624,1\\n4625,0\\n4626,0\\n4627,1\\n4628,0\\n4629,1\\n4630,0\\n4631,1\\n4632,0\\n4633,1\\n4634,0\\n4635,0\\n4636,0\\n4637,1\\n4638,0\\n4639,1\\n4640,1\\n4641,0\\n4642,1\\n4643,0\\n4644,1\\n4645,1\\n4646,1\\n4647,0\\n4648,0\\n4649,1\\n4650,0\\n4651,0\\n4652,0\\n4653,0\\n4654,1\\n4655,0\\n4656,1\\n4657,1\\n4658,1\\n4659,0\\n4660,1\\n4661,0\\n4662,0\\n4663,0\\n4664,1\\n4665,1\\n4666,1\\n4667,0\\n4668,1\\n4669,0\\n4670,0\\n4671,0\\n4672,1\\n4673,0\\n4674,0\\n4675,0\\n4676,1\\n4677,1\\n4678,1\\n4679,1\\n4680,1\\n4681,1\\n4682,0\\n4683,1\\n4684,0\\n4685,1\\n4686,0\\n4687,0\\n4688,0\\n4689,0\\n4690,1\\n4691,0\\n4692,1\\n4693,1\\n4694,1\\n4695,0\\n4696,1\\n4697,1\\n4698,1\\n4699,0\\n4700,0\\n4701,1\\n4702,0\\n4703,1\\n4704,1\\n4705,0\\n4706,0\\n4707,0\\n4708,1\\n4709,0\\n4710,0\\n4711,1\\n4712,0\\n4713,0\\n4714,1\\n4715,1\\n4716,0\\n4717,1\\n4718,1\\n4719,0\\n4720,1\\n4721,1\\n4722,1\\n4723,0\\n4724,0\\n4725,0\\n4726,0\\n4727,0\\n4728,0\\n4729,1\\n4730,1\\n4731,1\\n4732,0\\n4733,0\\n4734,0\\n4735,1\\n4736,1\\n4737,0\\n4738,1\\n4739,0\\n4740,1\\n4741,1\\n4742,1\\n4743,0\\n4744,1\\n4745,1\\n4746,0\\n4747,1\\n4748,1\\n4749,0\\n4750,1\\n4751,1\\n4752,0\\n4753,1\\n4754,0\\n4755,0\\n4756,0\\n4757,1\\n4758,1\\n4759,1\\n4760,0\\n4761,0\\n4762,0\\n4763,0\\n4764,0\\n4765,0\\n4766,0\\n4767,1\\n4768,0\\n4769,0\\n4770,1\\n4771,0\\n4772,1\\n4773,1\\n4774,1\\n4775,1\\n4776,0\\n4777,1\\n4778,1\\n4779,1\\n4780,0\\n4781,0\\n4782,0\\n4783,1\\n4784,1\\n4785,0\\n4786,0\\n4787,0\\n4788,0\\n4789,1\\n4790,0\\n4791,0\\n4792,0\\n4793,0\\n4794,0\\n4795,0\\n4796,0\\n4797,1\\n4798,0\\n4799,1\\n4800,1\\n4801,1\\n4802,0\\n4803,1\\n4804,1\\n4805,0\\n4806,0\\n4807,1\\n4808,0\\n4809,1\\n4810,1\\n4811,1\\n4812,0\\n4813,0\\n4814,1\\n4815,0\\n4816,1\\n4817,0\\n4818,0\\n4819,0\\n4820,0\\n4821,1\\n4822,1\\n4823,1\\n4824,0\\n4825,1\\n4826,1\\n4827,1\\n4828,1\\n4829,1\\n4830,1\\n4831,1\\n4832,0\\n4833,0\\n4834,1\\n4835,0\\n4836,1\\n4837,1\\n4838,0\\n4839,0\\n4840,0\\n4841,1\\n4842,0\\n4843,1\\n4844,0\\n4845,0\\n4846,1\\n4847,1\\n4848,1\\n4849,0\\n4850,1\\n4851,0\\n4852,1\\n4853,1\\n4854,1\\n4855,1\\n4856,0\\n4857,1\\n4858,0\\n4859,1\\n4860,1\\n4861,1\\n4862,0\\n4863,1\\n4864,1\\n4865,1\\n4866,1\\n4867,1\\n4868,0\\n4869,1\\n4870,1\\n4871,1\\n4872,0\\n4873,1\\n4874,0\\n4875,1\\n4876,0\\n4877,1\\n4878,0\\n4879,0\\n4880,0\\n4881,1\\n4882,0\\n4883,0\\n4884,1\\n4885,1\\n4886,1\\n4887,1\\n4888,1\\n4889,0\\n4890,0\\n4891,1\\n4892,0\\n4893,0\\n4894,1\\n4895,0\\n4896,1\\n4897,0\\n4898,1\\n4899,0\\n4900,1\\n4901,0\\n4902,0\\n4903,0\\n4904,1\\n4905,1\\n4906,1\\n4907,0\\n4908,1\\n4909,1\\n4910,0\\n4911,1\\n4912,1\\n4913,1\\n4914,0\\n4915,0\\n4916,0\\n4917,1\\n4918,0\\n4919,0\\n4920,0\\n4921,0\\n4922,1\\n4923,0\\n4924,0\\n4925,1\\n4926,1\\n4927,0\\n4928,1\\n4929,1\\n4930,0\\n4931,1\\n4932,1\\n4933,0\\n4934,1\\n4935,0\\n4936,1\\n4937,1\\n4938,1\\n4939,0\\n4940,0\\n4941,1\\n4942,1\\n4943,0\\n4944,0\\n4945,0\\n4946,0\\n4947,0\\n4948,1\\n4949,0\\n4950,0\\n4951,1\\n4952,1\\n4953,1\\n4954,0\\n4955,0\\n4956,0\\n4957,1\\n4958,1\\n4959,0\\n4960,0\\n4961,1\\n4962,0\\n4963,0\\n4964,0\\n4965,1\\n4966,1\\n4967,1\\n4968,1\\n4969,0\\n4970,1\\n4971,1\\n4972,0\\n4973,1\\n4974,0\\n4975,1\\n4976,0\\n4977,0\\n4978,0\\n4979,0\\n4980,0\\n4981,0\\n4982,0\\n4983,1\\n4984,1\\n4985,0\\n4986,0\\n4987,1\\n4988,0\\n4989,1\\n4990,1\\n4991,1\\n4992,0\\n4993,1\\n4994,1\\n4995,1\\n4996,0\\n4997,1\\n4998,1\\n4999,1\\n5000,1\\n5001,0\\n5002,1\\n5003,1\\n5004,1\\n5005,1\\n5006,0\\n5007,1\\n5008,1\\n5009,1\\n5010,1\\n5011,1\\n5012,0\\n5013,0\\n5014,0\\n5015,0\\n5016,0\\n5017,1\\n5018,1\\n5019,0\\n5020,1\\n5021,0\\n5022,1\\n5023,0\\n5024,1\\n5025,0\\n5026,1\\n5027,1\\n5028,1\\n5029,0\\n5030,1\\n5031,1\\n5032,0\\n5033,0\\n5034,1\\n5035,0\\n5036,0\\n5037,0\\n5038,1\\n5039,1\\n5040,1\\n5041,1\\n5042,1\\n5043,0\\n5044,0\\n5045,1\\n5046,0\\n5047,0\\n5048,0\\n5049,0\\n5050,1\\n5051,0\\n5052,1\\n5053,1\\n5054,1\\n5055,1\\n5056,0\\n5057,0\\n5058,1\\n5059,1\\n5060,1\\n5061,1\\n5062,1\\n5063,0\\n5064,1\\n5065,0\\n5066,0\\n5067,1\\n5068,1\\n5069,1\\n5070,0\\n5071,1\\n5072,1\\n5073,0\\n5074,1\\n5075,0\\n5076,0\\n5077,0\\n5078,0\\n5079,1\\n5080,0\\n5081,1\\n5082,1\\n5083,0\\n5084,0\\n5085,1\\n5086,0\\n5087,0\\n5088,1\\n5089,1\\n5090,1\\n5091,1\\n5092,1\\n5093,1\\n5094,1\\n5095,0\\n5096,0\\n5097,1\\n5098,0\\n5099,1\\n5100,0\\n5101,1\\n5102,1\\n5103,1\\n5104,0\\n5105,1\\n5106,0\\n5107,1\\n5108,1\\n5109,0\\n5110,1\\n5111,1\\n5112,1\\n5113,0\\n5114,0\\n5115,1\\n5116,1\\n5117,0\\n5118,1\\n5119,1\\n5120,0\\n5121,1\\n5122,0\\n5123,1\\n5124,0\\n5125,0\\n5126,0\\n5127,1\\n5128,0\\n5129,0\\n5130,1\\n5131,1\\n5132,0\\n5133,1\\n5134,1\\n5135,1\\n5136,1\\n5137,1\\n5138,1\\n5139,0\\n5140,0\\n5141,1\\n5142,1\\n5143,0\\n5144,1\\n5145,1\\n5146,0\\n5147,1\\n5148,1\\n5149,1\\n5150,1\\n5151,1\\n5152,1\\n5153,0\\n5154,0\\n5155,1\\n5156,0\\n5157,0\\n5158,0\\n5159,1\\n5160,1\\n5161,0\\n5162,1\\n5163,0\\n5164,0\\n5165,0\\n5166,1\\n5167,0\\n5168,0\\n5169,1\\n5170,1\\n5171,0\\n5172,0\\n5173,0\\n5174,0\\n5175,0\\n5176,1\\n5177,1\\n5178,1\\n5179,1\\n5180,0\\n5181,1\\n5182,0\\n5183,0\\n5184,1\\n5185,1\\n5186,1\\n5187,1\\n5188,0\\n5189,1\\n5190,0\\n5191,0\\n5192,1\\n5193,0\\n5194,1\\n5195,1\\n5196,0\\n5197,1\\n5198,1\\n5199,1\\n5200,1\\n5201,1\\n5202,1\\n5203,0\\n5204,1\\n5205,1\\n5206,1\\n5207,0\\n5208,1\\n5209,0\\n5210,0\\n5211,0\\n5212,0\\n5213,0\\n5214,0\\n5215,1\\n5216,1\\n5217,0\\n5218,0\\n5219,0\\n5220,1\\n5221,1\\n5222,1\\n5223,1\\n5224,0\\n5225,0\\n5226,0\\n5227,1\\n5228,1\\n5229,0\\n5230,1\\n5231,1\\n5232,0\\n5233,0\\n5234,1\\n5235,1\\n5236,0\\n5237,0\\n5238,1\\n5239,0\\n5240,0\\n5241,1\\n5242,1\\n5243,0\\n5244,1\\n5245,0\\n5246,1\\n5247,1\\n5248,0\\n5249,1\\n5250,1\\n5251,1\\n5252,1\\n5253,0\\n5254,0\\n5255,1\\n5256,1\\n5257,0\\n5258,1\\n5259,0\\n5260,1\\n5261,0\\n5262,0\\n5263,1\\n5264,0\\n5265,0\\n5266,0\\n5267,0\\n5268,0\\n5269,1\\n5270,0\\n5271,0\\n5272,0\\n5273,1\\n5274,0\\n5275,0\\n5276,0\\n5277,0\\n5278,0\\n5279,1\\n5280,0\\n5281,1\\n5282,1\\n5283,0\\n5284,1\\n5285,0\\n5286,1\\n5287,1\\n5288,1\\n5289,0\\n5290,1\\n5291,0\\n5292,0\\n5293,1\\n5294,1\\n5295,1\\n5296,0\\n5297,0\\n5298,1\\n5299,1\\n5300,0\\n5301,1\\n5302,0\\n5303,1\\n5304,0\\n5305,1\\n5306,1\\n5307,0\\n5308,0\\n5309,0\\n5310,1\\n5311,0\\n5312,0\\n5313,1\\n5314,0\\n5315,0\\n5316,0\\n5317,1\\n5318,1\\n5319,0\\n5320,1\\n5321,0\\n5322,0\\n5323,1\\n5324,1\\n5325,0\\n5326,0\\n5327,1\\n5328,1\\n5329,0\\n5330,1\\n5331,0\\n5332,0\\n5333,1\\n5334,1\\n5335,0\\n5336,1\\n5337,1\\n5338,1\\n5339,0\\n5340,0\\n5341,0\\n5342,0\\n5343,1\\n5344,0\\n5345,1\\n5346,0\\n5347,0\\n5348,1\\n5349,1\\n5350,1\\n5351,1\\n5352,0\\n5353,0\\n5354,1\\n5355,0\\n5356,0\\n5357,0\\n5358,1\\n5359,1\\n5360,0\\n5361,0\\n5362,0\\n5363,0\\n5364,1\\n5365,1\\n5366,1\\n5367,1\\n5368,0\\n5369,1\\n5370,0\\n5371,0\\n5372,0\\n5373,1\\n5374,1\\n5375,1\\n5376,1\\n5377,0\\n5378,1\\n5379,0\\n5380,0\\n5381,0\\n5382,1\\n5383,0\\n5384,0\\n5385,0\\n5386,1\\n5387,1\\n5388,1\\n5389,1\\n5390,1\\n5391,0\\n5392,1\\n5393,0\\n5394,1\\n5395,0\\n5396,0\\n5397,0\\n5398,0\\n5399,0\\n5400,0\\n5401,0\\n5402,1\\n5403,1\\n5404,1\\n5405,1\\n5406,1\\n5407,1\\n5408,1\\n5409,0\\n5410,1\\n5411,1\\n5412,0\\n5413,0\\n5414,0\\n5415,1\\n5416,0\\n5417,1\\n5418,1\\n5419,0\\n5420,1\\n5421,1\\n5422,1\\n5423,1\\n5424,1\\n5425,0\\n5426,1\\n5427,0\\n5428,1\\n5429,1\\n5430,0\\n5431,0\\n5432,0\\n5433,0\\n5434,0\\n5435,0\\n5436,1\\n5437,0\\n5438,0\\n5439,1\\n5440,1\\n5441,0\\n5442,1\\n5443,1\\n5444,1\\n5445,1\\n5446,1\\n5447,0\\n5448,0\\n5449,0\\n5450,0\\n5451,1\\n5452,1\\n5453,0\\n5454,0\\n5455,1\\n5456,0\\n5457,0\\n5458,0\\n5459,1\\n5460,1\\n5461,0\\n5462,1\\n5463,1\\n5464,0\\n5465,1\\n5466,1\\n5467,1\\n5468,1\\n5469,1\\n5470,1\\n5471,0\\n5472,0\\n5473,1\\n5474,0\\n5475,0\\n5476,1\\n5477,1\\n5478,0\\n5479,0\\n5480,0\\n5481,1\\n5482,1\\n5483,0\\n5484,1\\n5485,0\\n5486,1\\n5487,1\\n5488,1\\n5489,1\\n5490,1\\n5491,1\\n5492,0\\n5493,0\\n5494,0\\n5495,1\\n5496,1\\n5497,0\\n5498,1\\n5499,1\\n5500,1\\n5501,1\\n5502,1\\n5503,1\\n5504,0\\n5505,1\\n5506,1\\n5507,1\\n5508,1\\n5509,1\\n5510,0\\n5511,0\\n5512,0\\n5513,1\\n5514,0\\n5515,1\\n5516,1\\n5517,0\\n5518,1\\n5519,1\\n5520,0\\n5521,1\\n5522,1\\n5523,0\\n5524,1\\n5525,1\\n5526,1\\n5527,0\\n5528,1\\n5529,0\\n5530,1\\n5531,0\\n5532,0\\n5533,1\\n5534,0\\n5535,1\\n5536,0\\n5537,0\\n5538,0\\n5539,0\\n5540,0\\n5541,1\\n5542,0\\n5543,0\\n5544,0\\n5545,0\\n5546,1\\n5547,1\\n5548,1\\n5549,0\\n5550,1\\n5551,1\\n5552,0\\n5553,0\\n5554,1\\n5555,1\\n5556,1\\n5557,1\\n5558,1\\n5559,0\\n5560,1\\n5561,0\\n5562,1\\n5563,1\\n5564,0\\n5565,0\\n5566,0\\n5567,1\\n5568,0\\n5569,1\\n5570,1\\n5571,1\\n5572,0\\n5573,0\\n5574,0\\n5575,0\\n5576,0\\n5577,1\\n5578,0\\n5579,1\\n5580,1\\n5581,0\\n5582,0\\n5583,0\\n5584,0\\n5585,0\\n5586,1\\n5587,0\\n5588,0\\n5589,1\\n5590,0\\n5591,0\\n5592,1\\n5593,0\\n5594,0\\n5595,0\\n5596,0\\n5597,0\\n5598,0\\n5599,1\\n5600,1\\n5601,1\\n5602,1\\n5603,0\\n5604,0\\n5605,0\\n5606,1\\n5607,1\\n5608,1\\n5609,1\\n5610,0\\n5611,0\\n5612,0\\n5613,1\\n5614,0\\n5615,0\\n5616,1\\n5617,0\\n5618,0\\n5619,1\\n5620,0\\n5621,0\\n5622,0\\n5623,1\\n5624,1\\n5625,0\\n5626,1\\n5627,1\\n5628,0\\n5629,1\\n5630,0\\n5631,1\\n5632,0\\n5633,0\\n5634,1\\n5635,1\\n5636,0\\n5637,0\\n5638,0\\n5639,1\\n5640,1\\n5641,1\\n5642,0\\n5643,1\\n5644,1\\n5645,0\\n5646,0\\n5647,0\\n5648,0\\n5649,0\\n5650,0\\n5651,0\\n5652,1\\n5653,1\\n5654,0\\n5655,1\\n5656,0\\n5657,0\\n5658,1\\n5659,1\\n5660,0\\n5661,0\\n5662,0\\n5663,1\\n5664,0\\n5665,0\\n5666,0\\n5667,0\\n5668,0\\n5669,1\\n5670,1\\n5671,1\\n5672,0\\n5673,1\\n5674,0\\n5675,0\\n5676,1\\n5677,1\\n5678,1\\n5679,0\\n5680,0\\n5681,1\\n5682,0\\n5683,1\\n5684,1\\n5685,0\\n5686,1\\n5687,1\\n5688,0\\n5689,1\\n5690,1\\n5691,1\\n5692,1\\n5693,0\\n5694,1\\n5695,1\\n5696,1\\n5697,0\\n5698,1\\n5699,1\\n5700,0\\n5701,0\\n5702,1\\n5703,1\\n5704,1\\n5705,0\\n5706,0\\n5707,1\\n5708,0\\n5709,1\\n5710,0\\n5711,1\\n5712,1\\n5713,0\\n5714,0\\n5715,0\\n5716,1\\n5717,1\\n5718,0\\n5719,1\\n5720,1\\n5721,1\\n5722,1\\n5723,1\\n5724,1\\n5725,0\\n5726,1\\n5727,0\\n5728,1\\n5729,1\\n5730,1\\n5731,1\\n5732,1\\n5733,0\\n5734,1\\n5735,0\\n5736,0\\n5737,0\\n5738,1\\n5739,1\\n5740,1\\n5741,0\\n5742,0\\n5743,0\\n5744,0\\n5745,0\\n5746,1\\n5747,1\\n5748,0\\n5749,0\\n5750,0\\n5751,1\\n5752,1\\n5753,1\\n5754,0\\n5755,0\\n5756,1\\n5757,1\\n5758,1\\n5759,0\\n5760,1\\n5761,0\\n5762,0\\n5763,0\\n5764,0\\n5765,0\\n5766,0\\n5767,0\\n5768,1\\n5769,0\\n5770,0\\n5771,0\\n5772,0\\n5773,0\\n5774,1\\n5775,1\\n5776,0\\n5777,1\\n5778,0\\n5779,1\\n5780,0\\n5781,0\\n5782,0\\n5783,0\\n5784,0\\n5785,0\\n5786,0\\n5787,0\\n5788,0\\n5789,1\\n5790,1\\n5791,0\\n5792,0\\n5793,1\\n5794,0\\n5795,1\\n5796,1\\n5797,1\\n5798,0\\n5799,1\\n5800,0\\n5801,1\\n5802,0\\n5803,1\\n5804,0\\n5805,0\\n5806,0\\n5807,1\\n5808,1\\n5809,0\\n5810,1\\n5811,1\\n5812,0\\n5813,0\\n5814,1\\n5815,0\\n5816,1\\n5817,1\\n5818,1\\n5819,0\\n5820,0\\n5821,0\\n5822,1\\n5823,0\\n5824,0\\n5825,0\\n5826,0\\n5827,1\\n5828,1\\n5829,0\\n5830,0\\n5831,0\\n5832,0\\n5833,0\\n5834,0\\n5835,1\\n5836,0\\n5837,0\\n5838,0\\n5839,0\\n5840,1\\n5841,0\\n5842,0\\n5843,0\\n5844,0\\n5845,1\\n5846,0\\n5847,1\\n5848,0\\n5849,1\\n5850,1\\n5851,1\\n5852,0\\n5853,0\\n5854,1\\n5855,1\\n5856,0\\n5857,0\\n5858,1\\n5859,0\\n5860,1\\n5861,0\\n5862,1\\n5863,0\\n5864,1\\n5865,1\\n5866,0\\n5867,1\\n5868,1\\n5869,0\\n5870,1\\n5871,1\\n5872,1\\n5873,0\\n5874,1\\n5875,1\\n5876,1\\n5877,0\\n5878,1\\n5879,0\\n5880,1\\n5881,0\\n5882,1\\n5883,1\\n5884,1\\n5885,1\\n5886,0\\n5887,1\\n5888,1\\n5889,0\\n5890,1\\n5891,1\\n5892,0\\n5893,0\\n5894,1\\n5895,1\\n5896,1\\n5897,1\\n5898,0\\n5899,0\\n5900,0\\n5901,1\\n5902,1\\n5903,0\\n5904,1\\n5905,0\\n5906,0\\n5907,0\\n5908,0\\n5909,0\\n5910,0\\n5911,0\\n5912,1\\n5913,1\\n5914,1\\n5915,0\\n5916,1\\n5917,0\\n5918,0\\n5919,0\\n5920,1\\n5921,0\\n5922,1\\n5923,1\\n5924,1\\n5925,1\\n5926,0\\n5927,0\\n5928,1\\n5929,1\\n5930,1\\n5931,1\\n5932,1\\n5933,0\\n5934,0\\n5935,1\\n5936,0\\n5937,1\\n5938,1\\n5939,1\\n5940,1\\n5941,0\\n5942,0\\n5943,1\\n5944,1\\n5945,1\\n5946,1\\n5947,1\\n5948,0\\n5949,1\\n5950,0\\n5951,1\\n5952,1\\n5953,1\\n5954,0\\n5955,1\\n5956,0\\n5957,0\\n5958,1\\n5959,0\\n5960,1\\n5961,1\\n5962,0\\n5963,0\\n5964,1\\n5965,1\\n5966,0\\n5967,1\\n5968,0\\n5969,1\\n5970,1\\n5971,0\\n5972,0\\n5973,1\\n5974,1\\n5975,0\\n5976,1\\n5977,0\\n5978,0\\n5979,0\\n5980,0\\n5981,0\\n5982,1\\n5983,1\\n5984,1\\n5985,1\\n5986,0\\n5987,0\\n5988,1\\n5989,0\\n5990,0\\n5991,0\\n5992,0\\n5993,1\\n5994,0\\n5995,1\\n5996,0\\n5997,0\\n5998,1\\n5999,0\\n6000,0\\n6001,0\\n6002,1\\n6003,1\\n6004,1\\n6005,0\\n6006,0\\n6007,1\\n6008,1\\n6009,1\\n6010,1\\n6011,1\\n6012,0\\n6013,1\\n6014,0\\n6015,0\\n6016,1\\n6017,1\\n6018,0\\n6019,1\\n6020,0\\n6021,1\\n6022,1\\n6023,1\\n6024,0\\n6025,1\\n6026,0\\n6027,0\\n6028,0\\n6029,1\\n6030,0\\n6031,1\\n6032,1\\n6033,1\\n6034,0\\n6035,1\\n6036,1\\n6037,1\\n6038,0\\n6039,0\\n6040,0\\n6041,1\\n6042,0\\n6043,1\\n6044,0\\n6045,0\\n6046,0\\n6047,1\\n6048,0\\n6049,1\\n6050,1\\n6051,1\\n6052,1\\n6053,1\\n6054,0\\n6055,0\\n6056,0\\n6057,0\\n6058,0\\n6059,1\\n6060,0\\n6061,0\\n6062,1\\n6063,0\\n6064,0\\n6065,1\\n6066,0\\n6067,1\\n6068,0\\n6069,0\\n6070,0\\n6071,0\\n6072,0\\n6073,1\\n6074,1\\n6075,0\\n6076,0\\n6077,0\\n6078,1\\n6079,0\\n6080,1\\n6081,0\\n6082,0\\n6083,0\\n6084,0\\n6085,0\\n6086,1\\n6087,1\\n6088,1\\n6089,0\\n6090,1\\n6091,1\\n6092,1\\n6093,0\\n6094,1\\n6095,1\\n6096,1\\n6097,0\\n6098,0\\n6099,1\\n6100,1\\n6101,1\\n6102,1\\n6103,1\\n6104,0\\n6105,0\\n6106,0\\n6107,1\\n6108,0\\n6109,0\\n6110,1\\n6111,0\\n6112,1\\n6113,0\\n6114,1\\n6115,1\\n6116,0\\n6117,1\\n6118,0\\n6119,0\\n6120,1\\n6121,0\\n6122,0\\n6123,1\\n6124,0\\n6125,0\\n6126,1\\n6127,0\\n6128,0\\n6129,1\\n6130,0\\n6131,1\\n6132,0\\n6133,0\\n6134,1\\n6135,0\\n6136,0\\n6137,0\\n6138,1\\n6139,0\\n6140,0\\n6141,1\\n6142,0\\n6143,0\\n6144,0\\n6145,1\\n6146,0\\n6147,1\\n6148,0\\n6149,1\\n6150,1\\n6151,0\\n6152,0\\n6153,1\\n6154,1\\n6155,1\\n6156,0\\n6157,1\\n6158,0\\n6159,0\\n6160,1\\n6161,0\\n6162,1\\n6163,0\\n6164,0\\n6165,1\\n6166,0\\n6167,1\\n6168,1\\n6169,1\\n6170,0\\n6171,0\\n6172,0\\n6173,0\\n6174,0\\n6175,0\\n6176,1\\n6177,0\\n6178,1\\n6179,0\\n6180,0\\n6181,1\\n6182,0\\n6183,0\\n6184,1\\n6185,1\\n6186,1\\n6187,0\\n6188,0\\n6189,0\\n6190,0\\n6191,0\\n6192,0\\n6193,0\\n6194,1\\n6195,1\\n6196,0\\n6197,1\\n6198,1\\n6199,0\\n6200,0\\n6201,1\\n6202,1\\n6203,0\\n6204,0\\n6205,1\\n6206,1\\n6207,1\\n6208,1\\n6209,0\\n6210,0\\n6211,0\\n6212,0\\n6213,0\\n6214,1\\n6215,0\\n6216,0\\n6217,0\\n6218,0\\n6219,1\\n6220,1\\n6221,1\\n6222,0\\n6223,1\\n6224,1\\n6225,0\\n6226,0\\n6227,0\\n6228,1\\n6229,0\\n6230,0\\n6231,1\\n6232,0\\n6233,0\\n6234,1\\n6235,0\\n6236,1\\n6237,0\\n6238,1\\n6239,1\\n6240,1\\n6241,0\\n6242,0\\n6243,1\\n6244,1\\n6245,0\\n6246,1\\n6247,0\\n6248,0\\n6249,0\\n6250,1\\n6251,0\\n6252,1\\n6253,0\\n6254,0\\n6255,0\\n6256,0\\n6257,1\\n6258,1\\n6259,1\\n6260,1\\n6261,0\\n6262,1\\n6263,0\\n6264,0\\n6265,1\\n6266,0\\n6267,1\\n6268,0\\n6269,1\\n6270,0\\n6271,1\\n6272,1\\n6273,1\\n6274,1\\n6275,1\\n6276,0\\n6277,1\\n6278,0\\n6279,0\\n6280,0\\n6281,1\\n6282,0\\n6283,0\\n6284,1\\n6285,1\\n6286,1\\n6287,1\\n6288,0\\n6289,0\\n6290,1\\n6291,0\\n6292,1\\n6293,1\\n6294,0\\n6295,0\\n6296,1\\n6297,1\\n6298,1\\n6299,1\\n6300,1\\n6301,0\\n6302,0\\n6303,0\\n6304,0\\n6305,1\\n6306,1\\n6307,0\\n6308,0\\n6309,1\\n6310,0\\n6311,0\\n6312,0\\n6313,1\\n6314,0\\n6315,1\\n6316,1\\n6317,0\\n6318,1\\n6319,1\\n6320,1\\n6321,0\\n6322,1\\n6323,0\\n6324,1\\n6325,0\\n6326,0\\n6327,1\\n6328,1\\n6329,0\\n6330,1\\n6331,1\\n6332,0\\n6333,0\\n6334,1\\n6335,1\\n6336,1\\n6337,1\\n6338,0\\n6339,1\\n6340,1\\n6341,1\\n6342,0\\n6343,1\\n6344,0\\n6345,1\\n6346,1\\n6347,1\\n6348,1\\n6349,1\\n6350,0\\n6351,1\\n6352,1\\n6353,0\\n6354,1\\n6355,0\\n6356,0\\n6357,0\\n6358,1\\n6359,1\\n6360,0\\n6361,0\\n6362,1\\n6363,1\\n6364,0\\n6365,0\\n6366,1\\n6367,0\\n6368,0\\n6369,1\\n6370,1\\n6371,1\\n6372,1\\n6373,1\\n6374,1\\n6375,1\\n6376,0\\n6377,1\\n6378,0\\n6379,1\\n6380,0\\n6381,1\\n6382,0\\n6383,1\\n6384,0\\n6385,0\\n6386,1\\n6387,1\\n6388,1\\n6389,0\\n6390,1\\n6391,1\\n6392,1\\n6393,0\\n6394,0\\n6395,0\\n6396,1\\n6397,1\\n6398,0\\n6399,1\\n6400,0\\n6401,0\\n6402,1\\n6403,0\\n6404,0\\n6405,0\\n6406,0\\n6407,1\\n6408,1\\n6409,1\\n6410,0\\n6411,1\\n6412,1\\n6413,0\\n6414,1\\n6415,1\\n6416,1\\n6417,1\\n6418,1\\n6419,1\\n6420,0\\n6421,1\\n6422,1\\n6423,0\\n6424,0\\n6425,1\\n6426,1\\n6427,0\\n6428,0\\n6429,0\\n6430,0\\n6431,0\\n6432,0\\n6433,0\\n6434,0\\n6435,0\\n6436,1\\n6437,1\\n6438,0\\n6439,1\\n6440,0\\n6441,0\\n6442,1\\n6443,1\\n6444,1\\n6445,1\\n6446,1\\n6447,0\\n6448,1\\n6449,1\\n6450,0\\n6451,0\\n6452,1\\n6453,1\\n6454,1\\n6455,1\\n6456,1\\n6457,1\\n6458,1\\n6459,0\\n6460,1\\n6461,1\\n6462,1\\n6463,0\\n6464,1\\n6465,1\\n6466,1\\n6467,0\\n6468,0\\n6469,0\\n6470,0\\n6471,1\\n6472,0\\n6473,1\\n6474,0\\n6475,0\\n6476,0\\n6477,1\\n6478,0\\n6479,0\\n6480,0\\n6481,0\\n6482,1\\n6483,1\\n6484,0\\n6485,1\\n6486,0\\n6487,1\\n6488,0\\n6489,0\\n6490,1\\n6491,1\\n6492,1\\n6493,1\\n6494,0\\n6495,0\\n6496,1\\n6497,1\\n6498,0\\n6499,0\\n6500,1\\n6501,1\\n6502,0\\n6503,0\\n6504,0\\n6505,1\\n6506,0\\n6507,1\\n6508,1\\n6509,0\\n6510,0\\n6511,0\\n6512,0\\n6513,1\\n6514,1\\n6515,0\\n6516,0\\n6517,0\\n6518,0\\n6519,0\\n6520,0\\n6521,0\\n6522,0\\n6523,1\\n6524,1\\n6525,0\\n6526,0\\n6527,0\\n6528,1\\n6529,0\\n6530,0\\n6531,1\\n6532,1\\n6533,1\\n6534,1\\n6535,0\\n6536,0\\n6537,1\\n6538,1\\n6539,0\\n6540,1\\n6541,0\\n6542,1\\n6543,1\\n6544,0\\n6545,1\\n6546,1\\n6547,1\\n6548,1\\n6549,1\\n6550,0\\n6551,0\\n6552,1\\n6553,0\\n6554,1\\n6555,0\\n6556,0\\n6557,0\\n6558,1\\n6559,1\\n6560,0\\n6561,1\\n6562,1\\n6563,1\\n6564,0\\n6565,0\\n6566,0\\n6567,0\\n6568,1\\n6569,0\\n6570,0\\n6571,1\\n6572,1\\n6573,1\\n6574,1\\n6575,1\\n6576,1\\n6577,0\\n6578,0\\n6579,0\\n6580,0\\n6581,0\\n6582,0\\n6583,1\\n6584,0\\n6585,1\\n6586,0\\n6587,1\\n6588,0\\n6589,0\\n6590,1\\n6591,1\\n6592,0\\n6593,0\\n6594,0\\n6595,1\\n6596,1\\n6597,1\\n6598,0\\n6599,1\\n6600,1\\n6601,1\\n6602,0\\n6603,0\\n6604,0\\n6605,1\\n6606,1\\n6607,0\\n6608,0\\n6609,1\\n6610,0\\n6611,1\\n6612,1\\n6613,0\\n6614,0\\n6615,0\\n6616,1\\n6617,0\\n6618,1\\n6619,1\\n6620,1\\n6621,0\\n6622,1\\n6623,0\\n6624,1\\n6625,0\\n6626,1\\n6627,1\\n6628,0\\n6629,1\\n6630,1\\n6631,1\\n6632,1\\n6633,0\\n6634,0\\n6635,0\\n6636,0\\n6637,0\\n6638,1\\n6639,1\\n6640,1\\n6641,1\\n6642,1\\n6643,0\\n6644,1\\n6645,0\\n6646,0\\n6647,0\\n6648,0\\n6649,0\\n6650,1\\n6651,1\\n6652,0\\n6653,1\\n6654,1\\n6655,1\\n6656,0\\n6657,0\\n6658,1\\n6659,1\\n6660,1\\n6661,0\\n6662,1\\n6663,1\\n6664,1\\n6665,0\\n6666,1\\n6667,1\\n6668,1\\n6669,1\\n6670,1\\n6671,1\\n6672,0\\n6673,1\\n6674,0\\n6675,0\\n6676,0\\n6677,0\\n6678,0\\n6679,0\\n6680,0\\n6681,1\\n6682,0\\n6683,0\\n6684,0\\n6685,0\\n6686,0\\n6687,1\\n6688,1\\n6689,0\\n6690,1\\n6691,0\\n6692,0\\n6693,0\\n6694,1\\n6695,1\\n6696,1\\n6697,0\\n6698,1\\n6699,0\\n6700,0\\n6701,1\\n6702,0\\n6703,0\\n6704,1\\n6705,0\\n6706,0\\n6707,1\\n6708,1\\n6709,0\\n6710,1\\n6711,1\\n6712,1\\n6713,1\\n6714,0\\n6715,1\\n6716,1\\n6717,0\\n6718,0\\n6719,0\\n6720,1\\n6721,0\\n6722,0\\n6723,1\\n6724,0\\n6725,1\\n6726,0\\n6727,1\\n6728,1\\n6729,0\\n6730,1\\n6731,0\\n6732,1\\n6733,0\\n6734,1\\n6735,0\\n6736,0\\n6737,0\\n6738,0\\n6739,1\\n6740,0\\n6741,1\\n6742,0\\n6743,1\\n6744,0\\n6745,1\\n6746,0\\n6747,0\\n6748,0\\n6749,0\\n6750,0\\n6751,0\\n6752,1\\n6753,1\\n6754,0\\n6755,0\\n6756,0\\n6757,0\\n6758,1\\n6759,1\\n6760,0\\n6761,0\\n6762,0\\n6763,1\\n6764,1\\n6765,0\\n6766,0\\n6767,1\\n6768,1\\n6769,0\\n6770,0\\n6771,0\\n6772,1\\n6773,1\\n6774,1\\n6775,1\\n6776,1\\n6777,1\\n6778,1\\n6779,1\\n6780,1\\n6781,1\\n6782,1\\n6783,1\\n6784,0\\n6785,0\\n6786,1\\n6787,1\\n6788,0\\n6789,0\\n6790,1\\n6791,0\\n6792,1\\n6793,0\\n6794,0\\n6795,1\\n6796,0\\n6797,0\\n6798,0\\n6799,0\\n6800,1\\n6801,0\\n6802,0\\n6803,0\\n6804,0\\n6805,0\\n6806,1\\n6807,0\\n6808,0\\n6809,0\\n6810,1\\n6811,0\\n6812,1\\n6813,0\\n6814,0\\n6815,0\\n6816,1\\n6817,1\\n6818,0\\n6819,0\\n6820,0\\n6821,1\\n6822,1\\n6823,0\\n6824,1\\n6825,1\\n6826,1\\n6827,0\\n6828,0\\n6829,0\\n6830,0\\n6831,1\\n6832,0\\n6833,1\\n6834,1\\n6835,1\\n6836,1\\n6837,0\\n6838,1\\n6839,1\\n6840,1\\n6841,0\\n6842,0\\n6843,0\\n6844,0\\n6845,0\\n6846,0\\n6847,0\\n6848,0\\n6849,0\\n6850,0\\n6851,1\\n6852,1\\n6853,0\\n6854,1\\n6855,0\\n6856,0\\n6857,0\\n6858,0\\n6859,0\\n6860,0\\n6861,1\\n6862,0\\n6863,1\\n6864,0\\n6865,1\\n6866,0\\n6867,1\\n6868,0\\n6869,1\\n6870,0\\n6871,0\\n6872,1\\n6873,1\\n6874,1\\n6875,0\\n6876,0\\n6877,0\\n6878,1\\n6879,0\\n6880,0\\n6881,0\\n6882,1\\n6883,0\\n6884,1\\n6885,0\\n6886,1\\n6887,1\\n6888,1\\n6889,1\\n6890,0\\n6891,0\\n6892,0\\n6893,0\\n6894,0\\n6895,0\\n6896,1\\n6897,0\\n6898,0\\n6899,0\\n6900,0\\n6901,1\\n6902,0\\n6903,0\\n6904,0\\n6905,0\\n6906,0\\n6907,1\\n6908,0\\n6909,1\\n6910,0\\n6911,0\\n6912,1\\n6913,0\\n6914,0\\n6915,0\\n6916,0\\n6917,0\\n6918,1\\n6919,1\\n6920,0\\n6921,1\\n6922,1\\n6923,1\\n6924,1\\n6925,1\\n6926,0\\n6927,0\\n6928,1\\n6929,1\\n6930,1\\n6931,0\\n6932,1\\n6933,1\\n6934,0\\n6935,0\\n6936,0\\n6937,1\\n6938,1\\n6939,1\\n6940,1\\n6941,1\\n6942,1\\n6943,1\\n6944,1\\n6945,0\\n6946,1\\n6947,0\\n6948,0\\n6949,0\\n6950,1\\n6951,1\\n6952,1\\n6953,0\\n6954,1\\n6955,1\\n6956,1\\n6957,1\\n6958,0\\n6959,1\\n6960,0\\n6961,0\\n6962,0\\n6963,1\\n6964,1\\n6965,0\\n6966,1\\n6967,0\\n6968,0\\n6969,1\\n6970,0\\n6971,0\\n6972,1\\n6973,0\\n6974,1\\n6975,1\\n6976,1\\n6977,1\\n6978,1\\n6979,1\\n6980,1\\n6981,1\\n6982,0\\n6983,1\\n6984,1\\n6985,0\\n6986,1\\n6987,0\\n6988,0\\n6989,0\\n6990,0\\n6991,0\\n6992,1\\n6993,0\\n6994,1\\n6995,1\\n6996,1\\n6997,1\\n6998,1\\n6999,0\\n7000,0\\n7001,0\\n7002,1\\n7003,1\\n7004,1\\n7005,1\\n7006,1\\n7007,0\\n7008,0\\n7009,0\\n7010,1\\n7011,0\\n7012,1\\n7013,0\\n7014,1\\n7015,0\\n7016,0\\n7017,1\\n7018,0\\n7019,0\\n7020,1\\n7021,1\\n7022,1\\n7023,1\\n7024,1\\n7025,1\\n7026,0\\n7027,1\\n7028,0\\n7029,0\\n7030,1\\n7031,0\\n7032,0\\n7033,1\\n7034,0\\n7035,0\\n7036,1\\n7037,0\\n7038,1\\n7039,0\\n7040,1\\n7041,0\\n7042,1\\n7043,1\\n7044,1\\n7045,1\\n7046,0\\n7047,0\\n7048,1\\n7049,0\\n7050,1\\n7051,0\\n7052,1\\n7053,0\\n7054,1\\n7055,1\\n7056,1\\n7057,1\\n7058,0\\n7059,0\\n7060,1\\n7061,1\\n7062,1\\n7063,1\\n7064,0\\n7065,1\\n7066,1\\n7067,1\\n7068,1\\n7069,1\\n7070,0\\n7071,0\\n7072,0\\n7073,1\\n7074,1\\n7075,1\\n7076,1\\n7077,0\\n7078,1\\n7079,1\\n7080,1\\n7081,0\\n7082,1\\n7083,0\\n7084,1\\n7085,0\\n7086,0\\n7087,1\\n7088,1\\n7089,0\\n7090,0\\n7091,0\\n7092,1\\n7093,1\\n7094,0\\n7095,0\\n7096,0\\n7097,1\\n7098,1\\n7099,1\\n7100,1\\n7101,1\\n7102,1\\n7103,1\\n7104,0\\n7105,1\\n7106,1\\n7107,1\\n7108,1\\n7109,1\\n7110,1\\n7111,0\\n7112,0\\n7113,1\\n7114,0\\n7115,0\\n7116,1\\n7117,1\\n7118,0\\n7119,1\\n7120,0\\n7121,0\\n7122,0\\n7123,0\\n7124,0\\n7125,0\\n7126,0\\n7127,0\\n7128,1\\n7129,0\\n7130,1\\n7131,1\\n7132,1\\n7133,0\\n7134,0\\n7135,1\\n7136,1\\n7137,0\\n7138,1\\n7139,1\\n7140,1\\n7141,1\\n7142,0\\n7143,0\\n7144,0\\n7145,1\\n7146,0\\n7147,0\\n7148,1\\n7149,0\\n7150,0\\n7151,0\\n7152,0\\n7153,0\\n7154,0\\n7155,0\\n7156,1\\n7157,0\\n7158,0\\n7159,0\\n7160,1\\n7161,0\\n7162,1\\n7163,1\\n7164,1\\n7165,0\\n7166,0\\n7167,1\\n7168,1\\n7169,1\\n7170,0\\n7171,0\\n7172,0\\n7173,0\\n7174,0\\n7175,1\\n7176,0\\n7177,0\\n7178,1\\n7179,1\\n7180,0\\n7181,0\\n7182,0\\n7183,1\\n7184,1\\n7185,0\\n7186,1\\n7187,1\\n7188,0\\n7189,1\\n7190,1\\n7191,1\\n7192,0\\n7193,0\\n7194,0\\n7195,1\\n7196,1\\n7197,0\\n7198,1\\n7199,0\\n7200,0\\n7201,1\\n7202,1\\n7203,1\\n7204,1\\n7205,1\\n7206,0\\n7207,1\\n7208,0\\n7209,1\\n7210,0\\n7211,1\\n7212,0\\n7213,0\\n7214,0\\n7215,1\\n7216,0\\n7217,1\\n7218,1\\n7219,0\\n7220,1\\n7221,1\\n7222,1\\n7223,0\\n7224,0\\n7225,1\\n7226,0\\n7227,1\\n7228,1\\n7229,1\\n7230,1\\n7231,0\\n7232,1\\n7233,1\\n7234,0\\n7235,0\\n7236,0\\n7237,0\\n7238,1\\n7239,0\\n7240,1\\n7241,0\\n7242,1\\n7243,0\\n7244,1\\n7245,1\\n7246,0\\n7247,1\\n7248,1\\n7249,1\\n7250,1\\n7251,1\\n7252,0\\n7253,1\\n7254,1\\n7255,1\\n7256,0\\n7257,0\\n7258,1\\n7259,0\\n7260,1\\n7261,1\\n7262,0\\n7263,1\\n7264,0\\n7265,1\\n7266,1\\n7267,1\\n7268,0\\n7269,1\\n7270,1\\n7271,0\\n7272,0\\n7273,1\\n7274,1\\n7275,1\\n7276,1\\n7277,1\\n7278,0\\n7279,1\\n7280,0\\n7281,1\\n7282,1\\n7283,0\\n7284,1\\n7285,0\\n7286,1\\n7287,0\\n7288,0\\n7289,1\\n7290,1\\n7291,0\\n7292,1\\n7293,0\\n7294,0\\n7295,1\\n7296,0\\n7297,1\\n7298,0\\n7299,1\\n7300,0\\n7301,1\\n7302,1\\n7303,1\\n7304,0\\n7305,1\\n7306,1\\n7307,0\\n7308,0\\n7309,1\\n7310,0\\n7311,0\\n7312,0\\n7313,1\\n7314,0\\n7315,1\\n7316,1\\n7317,1\\n7318,1\\n7319,1\\n7320,1\\n7321,1\\n7322,0\\n7323,0\\n7324,1\\n7325,1\\n7326,0\\n7327,0\\n7328,1\\n7329,0\\n7330,1\\n7331,0\\n7332,1\\n7333,0\\n7334,0\\n7335,0\\n7336,1\\n7337,1\\n7338,0\\n7339,1\\n7340,0\\n7341,0\\n7342,0\\n7343,0\\n7344,1\\n7345,1\\n7346,1\\n7347,0\\n7348,1\\n7349,1\\n7350,1\\n7351,0\\n7352,1\\n7353,0\\n7354,0\\n7355,0\\n7356,1\\n7357,0\\n7358,1\\n7359,1\\n7360,0\\n7361,0\\n7362,0\\n7363,1\\n7364,0\\n7365,0\\n7366,0\\n7367,0\\n7368,1\\n7369,1\\n7370,1\\n7371,1\\n7372,1\\n7373,0\\n7374,1\\n7375,0\\n7376,0\\n7377,1\\n7378,1\\n7379,1\\n7380,0\\n7381,1\\n7382,1\\n7383,1\\n7384,0\\n7385,0\\n7386,0\\n7387,0\\n7388,0\\n7389,1\\n7390,0\\n7391,1\\n7392,0\\n7393,1\\n7394,1\\n7395,0\\n7396,0\\n7397,0\\n7398,0\\n7399,1\\n7400,0\\n7401,1\\n7402,0\\n7403,0\\n7404,0\\n7405,1\\n7406,0\\n7407,0\\n7408,0\\n7409,1\\n7410,0\\n7411,0\\n7412,0\\n7413,0\\n7414,1\\n7415,1\\n7416,1\\n7417,0\\n7418,0\\n7419,0\\n7420,0\\n7421,1\\n7422,1\\n7423,0\\n7424,1\\n7425,0\\n7426,0\\n7427,0\\n7428,0\\n7429,1\\n7430,1\\n7431,1\\n7432,1\\n7433,1\\n7434,1\\n7435,1\\n7436,1\\n7437,0\\n7438,0\\n7439,1\\n7440,0\\n7441,0\\n7442,1\\n7443,0\\n7444,0\\n7445,0\\n7446,0\\n7447,0\\n7448,0\\n7449,1\\n7450,0\\n7451,0\\n7452,0\\n7453,0\\n7454,1\\n7455,0\\n7456,0\\n7457,0\\n7458,0\\n7459,0\\n7460,1\\n7461,0\\n7462,0\\n7463,1\\n7464,0\\n7465,1\\n7466,0\\n7467,0\\n7468,1\\n7469,0\\n7470,1\\n7471,0\\n7472,0\\n7473,1\\n7474,0\\n7475,0\\n7476,0\\n7477,1\\n7478,1\\n7479,0\\n7480,1\\n7481,0\\n7482,1\\n7483,1\\n7484,0\\n7485,0\\n7486,0\\n7487,0\\n7488,1\\n7489,1\\n7490,1\\n7491,0\\n7492,1\\n7493,0\\n7494,1\\n7495,1\\n7496,1\\n7497,1\\n7498,1\\n7499,1\\n7500,1\\n7501,1\\n7502,0\\n7503,0\\n7504,0\\n7505,1\\n7506,1\\n7507,1\\n7508,0\\n7509,1\\n7510,0\\n7511,0\\n7512,0\\n7513,1\\n7514,1\\n7515,1\\n7516,0\\n7517,0\\n7518,0\\n7519,1\\n7520,1\\n7521,1\\n7522,0\\n7523,0\\n7524,1\\n7525,0\\n7526,0\\n7527,0\\n7528,0\\n7529,1\\n7530,0\\n7531,0\\n7532,0\\n7533,0\\n7534,1\\n7535,0\\n7536,1\\n7537,1\\n7538,1\\n7539,0\\n7540,0\\n7541,1\\n7542,1\\n7543,1\\n7544,0\\n7545,0\\n7546,0\\n7547,0\\n7548,1\\n7549,1\\n7550,0\\n7551,1\\n7552,1\\n7553,1\\n7554,1\\n7555,1\\n7556,1\\n7557,0\\n7558,0\\n7559,0\\n7560,0\\n7561,1\\n7562,1\\n7563,0\\n7564,0\\n7565,0\\n7566,0\\n7567,0\\n7568,0\\n7569,0\\n7570,1\\n7571,0\\n7572,0\\n7573,0\\n7574,0\\n7575,1\\n7576,1\\n7577,0\\n7578,1\\n7579,1\\n7580,1\\n7581,0\\n7582,1\\n7583,0\\n7584,0\\n7585,1\\n7586,1\\n7587,1\\n7588,0\\n7589,1\\n7590,0\\n7591,0\\n7592,0\\n7593,1\\n7594,1\\n7595,0\\n7596,1\\n7597,1\\n7598,1\\n7599,1\\n7600,1\\n7601,1\\n7602,0\\n7603,0\\n7604,0\\n7605,1\\n7606,1\\n7607,0\\n7608,0\\n7609,0\\n7610,1\\n7611,1\\n7612,1\\n7613,1\\n7614,0\\n7615,0\\n7616,1\\n7617,1\\n7618,1\\n7619,1\\n7620,1\\n7621,1\\n7622,0\\n7623,0\\n7624,1\\n7625,0\\n7626,1\\n7627,1\\n7628,1\\n7629,0\\n7630,1\\n7631,0\\n7632,1\\n7633,1\\n7634,1\\n7635,1\\n7636,1\\n7637,0\\n7638,0\\n7639,1\\n7640,1\\n7641,1\\n7642,0\\n7643,0\\n7644,0\\n7645,0\\n7646,0\\n7647,0\\n7648,0\\n7649,1\\n7650,0\\n7651,1\\n7652,0\\n7653,0\\n7654,0\\n7655,1\\n7656,0\\n7657,0\\n7658,1\\n7659,0\\n7660,1\\n7661,1\\n7662,0\\n7663,1\\n7664,1\\n7665,1\\n7666,1\\n7667,1\\n7668,0\\n7669,1\\n7670,1\\n7671,1\\n7672,1\\n7673,0\\n7674,0\\n7675,1\\n7676,1\\n7677,0\\n7678,1\\n7679,0\\n7680,1\\n7681,1\\n7682,1\\n7683,1\\n7684,0\\n7685,1\\n7686,1\\n7687,1\\n7688,1\\n7689,1\\n7690,0\\n7691,0\\n7692,0\\n7693,1\\n7694,0\\n7695,1\\n7696,1\\n7697,0\\n7698,0\\n7699,1\\n7700,1\\n7701,0\\n7702,1\\n7703,0\\n7704,1\\n7705,1\\n7706,1\\n7707,1\\n7708,0\\n7709,1\\n7710,1\\n7711,1\\n7712,1\\n7713,0\\n7714,0\\n7715,1\\n7716,1\\n7717,1\\n7718,0\\n7719,0\\n7720,0\\n7721,0\\n7722,1\\n7723,1\\n7724,0\\n7725,1\\n7726,0\\n7727,1\\n7728,1\\n7729,1\\n7730,0\\n7731,1\\n7732,0\\n7733,0\\n7734,1\\n7735,0\\n7736,1\\n7737,0\\n7738,0\\n7739,1\\n7740,0\\n7741,1\\n7742,1\\n7743,0\\n7744,1\\n7745,0\\n7746,1\\n7747,1\\n7748,0\\n7749,1\\n7750,1\\n7751,1\\n7752,1\\n7753,0\\n7754,1\\n7755,0\\n7756,1\\n7757,0\\n7758,0\\n7759,0\\n7760,1\\n7761,0\\n7762,0\\n7763,0\\n7764,1\\n7765,1\\n7766,0\\n7767,1\\n7768,0\\n7769,1\\n7770,1\\n7771,1\\n7772,0\\n7773,0\\n7774,1\\n7775,0\\n7776,1\\n7777,0\\n7778,0\\n7779,0\\n7780,1\\n7781,0\\n7782,0\\n7783,1\\n7784,0\\n7785,1\\n7786,1\\n7787,1\\n7788,1\\n7789,0\\n7790,1\\n7791,0\\n7792,1\\n7793,1\\n7794,0\\n7795,0\\n7796,1\\n7797,1\\n7798,0\\n7799,1\\n7800,0\\n7801,0\\n7802,0\\n7803,0\\n7804,1\\n7805,1\\n7806,1\\n7807,1\\n7808,1\\n7809,0\\n7810,0\\n7811,1\\n7812,1\\n7813,0\\n7814,1\\n7815,1\\n7816,1\\n7817,0\\n7818,1\\n7819,0\\n7820,1\\n7821,0\\n7822,1\\n7823,1\\n7824,1\\n7825,1\\n7826,0\\n7827,1\\n7828,1\\n7829,0\\n7830,1\\n7831,0\\n7832,0\\n7833,1\\n7834,1\\n7835,1\\n7836,1\\n7837,0\\n7838,1\\n7839,1\\n7840,0\\n7841,1\\n7842,1\\n7843,0\\n7844,0\\n7845,1\\n7846,0\\n7847,0\\n7848,1\\n7849,1\\n7850,1\\n7851,1\\n7852,1\\n7853,0\\n7854,0\\n7855,1\\n7856,1\\n7857,1\\n7858,0\\n7859,0\\n7860,1\\n7861,0\\n7862,1\\n7863,1\\n7864,1\\n7865,1\\n7866,0\\n7867,1\\n7868,1\\n7869,1\\n7870,0\\n7871,1\\n7872,0\\n7873,0\\n7874,1\\n7875,1\\n7876,1\\n7877,0\\n7878,0\\n7879,0\\n7880,1\\n7881,0\\n7882,0\\n7883,1\\n7884,0\\n7885,1\\n7886,1\\n7887,0\\n7888,0\\n7889,1\\n7890,0\\n7891,1\\n7892,0\\n7893,0\\n7894,1\\n7895,0\\n7896,1\\n7897,0\\n7898,0\\n7899,0\\n7900,1\\n7901,1\\n7902,1\\n7903,1\\n7904,1\\n7905,0\\n7906,1\\n7907,1\\n7908,0\\n7909,1\\n7910,0\\n7911,1\\n7912,1\\n7913,0\\n7914,1\\n7915,1\\n7916,0\\n7917,1\\n7918,1\\n7919,1\\n7920,0\\n7921,0\\n7922,1\\n7923,1\\n7924,0\\n7925,1\\n7926,1\\n7927,0\\n7928,1\\n7929,1\\n7930,0\\n7931,0\\n7932,1\\n7933,1\\n7934,1\\n7935,1\\n7936,0\\n7937,0\\n7938,0\\n7939,1\\n7940,1\\n7941,0\\n7942,0\\n7943,1\\n7944,1\\n7945,0\\n7946,1\\n7947,1\\n7948,0\\n7949,0\\n7950,1\\n7951,0\\n7952,0\\n7953,1\\n7954,1\\n7955,1\\n7956,0\\n7957,1\\n7958,0\\n7959,0\\n7960,0\\n7961,1\\n7962,0\\n7963,0\\n7964,1\\n7965,0\\n7966,1\\n7967,1\\n7968,1\\n7969,1\\n7970,0\\n7971,1\\n7972,0\\n7973,0\\n7974,1\\n7975,1\\n7976,1\\n7977,0\\n7978,1\\n7979,0\\n7980,0\\n7981,1\\n7982,1\\n7983,1\\n7984,0\\n7985,0\\n7986,1\\n7987,1\\n7988,0\\n7989,0\\n7990,1\\n7991,1\\n7992,1\\n7993,1\\n7994,0\\n7995,1\\n7996,1\\n7997,0\\n7998,0\\n7999,0\\n8000,0\\n8001,0\\n8002,0\\n8003,0\\n8004,0\\n8005,1\\n8006,1\\n8007,1\\n8008,0\\n8009,0\\n8010,1\\n8011,1\\n8012,1\\n8013,1\\n8014,1\\n8015,1\\n8016,0\\n8017,1\\n8018,0\\n8019,1\\n8020,0\\n8021,1\\n8022,0\\n8023,0\\n8024,1\\n8025,0\\n8026,1\\n8027,0\\n8028,1\\n8029,1\\n8030,0\\n8031,0\\n8032,1\\n8033,1\\n8034,0\\n8035,0\\n8036,1\\n8037,1\\n8038,1\\n8039,1\\n8040,0\\n8041,1\\n8042,0\\n8043,1\\n8044,1\\n8045,0\\n8046,1\\n8047,0\\n8048,1\\n8049,1\\n8050,1\\n8051,1\\n8052,0\\n8053,0\\n8054,1\\n8055,1\\n8056,1\\n8057,1\\n8058,0\\n8059,1\\n8060,0\\n8061,0\\n8062,1\\n8063,0\\n8064,0\\n8065,0\\n8066,1\\n8067,0\\n8068,0\\n8069,1\\n8070,1\\n8071,0\\n8072,1\\n8073,1\\n8074,1\\n8075,1\\n8076,1\\n8077,0\\n8078,1\\n8079,0\\n8080,0\\n8081,0\\n8082,0\\n8083,1\\n8084,0\\n8085,1\\n8086,1\\n8087,1\\n8088,0\\n8089,1\\n8090,0\\n8091,0\\n8092,1\\n8093,1\\n8094,1\\n8095,0\\n8096,0\\n8097,0\\n8098,0\\n8099,1\\n8100,0\\n8101,0\\n8102,1\\n8103,1\\n8104,0\\n8105,1\\n8106,0\\n8107,1\\n8108,1\\n8109,1\\n8110,1\\n8111,0\\n8112,0\\n8113,1\\n8114,0\\n8115,1\\n8116,1\\n8117,1\\n8118,1\\n8119,0\\n8120,0\\n8121,1\\n8122,0\\n8123,1\\n8124,1\\n8125,0\\n8126,0\\n8127,0\\n8128,0\\n8129,0\\n8130,1\\n8131,1\\n8132,1\\n8133,1\\n8134,1\\n8135,1\\n8136,0\\n8137,0\\n8138,1\\n8139,0\\n8140,1\\n8141,0\\n8142,1\\n8143,0\\n8144,0\\n8145,1\\n8146,0\\n8147,0\\n8148,0\\n8149,1\\n8150,1\\n8151,0\\n8152,1\\n8153,0\\n8154,0\\n8155,1\\n8156,1\\n8157,0\\n8158,1\\n8159,1\\n8160,1\\n8161,1\\n8162,1\\n8163,1\\n8164,1\\n8165,1\\n8166,0\\n8167,1\\n8168,0\\n8169,1\\n8170,1\\n8171,1\\n8172,0\\n8173,0\\n8174,1\\n8175,1\\n8176,0\\n8177,0\\n8178,1\\n8179,1\\n8180,1\\n8181,0\\n8182,1\\n8183,0\\n8184,1\\n8185,0\\n8186,1\\n8187,0\\n8188,1\\n8189,1\\n8190,0\\n8191,1\\n8192,1\\n8193,0\\n8194,1\\n8195,0\\n8196,1\\n8197,0\\n8198,0\\n8199,1\\n8200,1\\n8201,1\\n8202,0\\n8203,1\\n8204,1\\n8205,0\\n8206,1\\n8207,0\\n8208,0\\n8209,1\\n8210,1\\n8211,1\\n8212,1\\n8213,1\\n8214,0\\n8215,0\\n8216,1\\n8217,0\\n8218,1\\n8219,0\\n8220,1\\n8221,1\\n8222,1\\n8223,0\\n8224,1\\n8225,0\\n8226,0\\n8227,1\\n8228,0\\n8229,1\\n8230,1\\n8231,0\\n8232,1\\n8233,1\\n8234,1\\n8235,1\\n8236,0\\n8237,1\\n8238,0\\n8239,1\\n8240,0\\n8241,1\\n8242,0\\n8243,1\\n8244,0\\n8245,1\\n8246,0\\n8247,1\\n8248,0\\n8249,1\\n8250,1\\n8251,1\\n8252,1\\n8253,1\\n8254,0\\n8255,1\\n8256,0\\n8257,0\\n8258,1\\n8259,1\\n8260,1\\n8261,1\\n8262,1\\n8263,1\\n8264,0\\n8265,0\\n8266,1\\n8267,0\\n8268,1\\n8269,1\\n8270,1\\n8271,1\\n8272,0\\n8273,0\\n8274,0\\n8275,1\\n8276,0\\n8277,0\\n8278,0\\n8279,1\\n8280,1\\n8281,1\\n8282,0\\n8283,0\\n8284,1\\n8285,1\\n8286,1\\n8287,0\\n8288,0\\n8289,0\\n8290,0\\n8291,0\\n8292,1\\n8293,1\\n8294,1\\n8295,0\\n8296,0\\n8297,1\\n8298,1\\n8299,1\\n8300,1\\n8301,0\\n8302,1\\n8303,1\\n8304,0\\n8305,0\\n8306,1\\n8307,1\\n8308,1\\n8309,0\\n8310,1\\n8311,1\\n8312,0\\n8313,1\\n8314,1\\n8315,1\\n8316,0\\n8317,1\\n8318,1\\n8319,1\\n8320,0\\n8321,0\\n8322,1\\n8323,1\\n8324,1\\n8325,1\\n8326,1\\n8327,1\\n8328,0\\n8329,1\\n8330,0\\n8331,0\\n8332,1\\n8333,1\\n8334,0\\n8335,0\\n8336,1\\n8337,1\\n8338,0\\n8339,1\\n8340,0\\n8341,0\\n8342,1\\n8343,1\\n8344,1\\n8345,0\\n8346,1\\n8347,1\\n8348,1\\n8349,1\\n8350,1\\n8351,1\\n8352,1\\n8353,0\\n8354,0\\n8355,1\\n8356,1\\n8357,0\\n8358,1\\n8359,1\\n8360,1\\n8361,1\\n8362,0\\n8363,1\\n8364,0\\n8365,0\\n8366,1\\n8367,0\\n8368,1\\n8369,1\\n8370,0\\n8371,0\\n8372,0\\n8373,0\\n8374,1\\n8375,0\\n8376,0\\n8377,0\\n8378,0\\n8379,0\\n8380,1\\n8381,1\\n8382,1\\n8383,1\\n8384,1\\n8385,1\\n8386,0\\n8387,0\\n8388,0\\n8389,1\\n8390,0\\n8391,1\\n8392,1\\n8393,0\\n8394,0\\n8395,1\\n8396,1\\n8397,0\\n8398,1\\n8399,0\\n8400,1\\n8401,1\\n8402,0\\n8403,0\\n8404,1\\n8405,0\\n8406,1\\n8407,1\\n8408,0\\n8409,1\\n8410,0\\n8411,0\\n8412,1\\n8413,0\\n8414,0\\n8415,1\\n8416,1\\n8417,0\\n8418,1\\n8419,0\\n8420,0\\n8421,1\\n8422,1\\n8423,0\\n8424,0\\n8425,1\\n8426,1\\n8427,1\\n8428,0\\n8429,0\\n8430,0\\n8431,0\\n8432,1\\n8433,1\\n8434,0\\n8435,0\\n8436,0\\n8437,0\\n8438,1\\n8439,0\\n8440,0\\n8441,1\\n8442,1\\n8443,1\\n8444,1\\n8445,0\\n8446,1\\n8447,1\\n8448,1\\n8449,1\\n8450,0\\n8451,0\\n8452,1\\n8453,0\\n8454,1\\n8455,0\\n8456,1\\n8457,1\\n8458,0\\n8459,0\\n8460,1\\n8461,0\\n8462,1\\n8463,1\\n8464,1\\n8465,1\\n8466,1\\n8467,0\\n8468,1\\n8469,1\\n8470,0\\n8471,1\\n8472,0\\n8473,1\\n8474,0\\n8475,1\\n8476,1\\n8477,0\\n8478,0\\n8479,0\\n8480,0\\n8481,1\\n8482,0\\n8483,1\\n8484,0\\n8485,1\\n8486,0\\n8487,1\\n8488,1\\n8489,0\\n8490,0\\n8491,0\\n8492,1\\n8493,1\\n8494,1\\n8495,1\\n8496,0\\n8497,1\\n8498,1\\n8499,0\\n8500,0\\n8501,1\\n8502,1\\n8503,1\\n8504,1\\n8505,0\\n8506,0\\n8507,1\\n8508,1\\n8509,1\\n8510,0\\n8511,1\\n8512,1\\n8513,0\\n8514,0\\n8515,1\\n8516,0\\n8517,0\\n8518,1\\n8519,0\\n8520,1\\n8521,0\\n8522,0\\n8523,1\\n8524,1\\n8525,1\\n8526,0\\n8527,0\\n8528,0\\n8529,1\\n8530,0\\n8531,0\\n8532,1\\n8533,1\\n8534,0\\n8535,0\\n8536,1\\n8537,1\\n8538,0\\n8539,1\\n8540,1\\n8541,0\\n8542,0\\n8543,1\\n8544,1\\n8545,1\\n8546,0\\n8547,1\\n8548,0\\n8549,1\\n8550,0\\n8551,1\\n8552,0\\n8553,1\\n8554,1\\n8555,0\\n8556,0\\n8557,1\\n8558,1\\n8559,1\\n8560,1\\n8561,0\\n8562,1\\n8563,1\\n8564,0\\n8565,1\\n8566,1\\n8567,1\\n8568,0\\n8569,0\\n8570,1\\n8571,0\\n8572,1\\n8573,0\\n8574,0\\n8575,0\\n8576,1\\n8577,0\\n8578,1\\n8579,1\\n8580,1\\n8581,0\\n8582,0\\n8583,0\\n8584,1\\n8585,1\\n8586,1\\n8587,1\\n8588,0\\n8589,0\\n8590,1\\n8591,0\\n8592,0\\n8593,0\\n8594,1\\n8595,1\\n8596,0\\n8597,1\\n8598,0\\n8599,0\\n8600,1\\n8601,1\\n8602,0\\n8603,1\\n8604,1\\n8605,0\\n8606,0\\n8607,0\\n8608,1\\n8609,1\\n8610,1\\n8611,0\\n8612,0\\n8613,1\\n8614,0\\n8615,1\\n8616,1\\n8617,0\\n8618,1\\n8619,1\\n8620,0\\n8621,1\\n8622,0\\n8623,1\\n8624,0\\n8625,1\\n8626,1\\n8627,1\\n8628,1\\n8629,1\\n8630,0\\n8631,1\\n8632,1\\n8633,1\\n8634,1\\n8635,0\\n8636,1\\n8637,0\\n8638,0\\n8639,1\\n8640,1\\n8641,1\\n8642,1\\n8643,1\\n8644,1\\n8645,0\\n8646,0\\n8647,1\\n8648,0\\n8649,1\\n8650,0\\n8651,0\\n8652,0\\n8653,0\\n8654,1\\n8655,0\\n8656,0\\n8657,0\\n8658,1\\n8659,1\\n8660,1\\n8661,1\\n8662,1\\n8663,0\\n8664,0\\n8665,0\\n8666,1\\n8667,0\\n8668,1\\n8669,1\\n8670,1\\n8671,0\\n8672,1\\n8673,1\\n8674,0\\n8675,0\\n8676,1\\n8677,1\\n8678,1\\n8679,1\\n8680,0\\n8681,0\\n8682,1\\n8683,1\\n8684,0\\n8685,0\\n8686,0\\n8687,1\\n8688,1\\n8689,0\\n8690,0\\n8691,1\\n8692,0\\n8693,1\\n8694,1\\n8695,1\\n8696,0\\n8697,0\\n8698,0\\n8699,1\\n8700,0\\n8701,1\\n8702,1\\n8703,0\\n8704,0\\n8705,0\\n8706,1\\n8707,0\\n8708,0\\n8709,0\\n8710,0\\n8711,0\\n8712,0\\n8713,0\\n8714,0\\n8715,1\\n8716,1\\n8717,1\\n8718,0\\n8719,1\\n8720,0\\n8721,1\\n8722,0\\n8723,0\\n8724,1\\n8725,0\\n8726,1\\n8727,0\\n8728,1\\n8729,0\\n8730,1\\n8731,0\\n8732,0\\n8733,0\\n8734,1\\n8735,0\\n8736,0\\n8737,0\\n8738,1\\n8739,1\\n8740,0\\n8741,1\\n8742,1\\n8743,1\\n8744,0\\n8745,0\\n8746,1\\n8747,1\\n8748,0\\n8749,0\\n8750,0\\n8751,1\\n8752,0\\n8753,1\\n8754,0\\n8755,0\\n8756,1\\n8757,1\\n8758,1\\n8759,0\\n8760,0\\n8761,0\\n8762,0\\n8763,0\\n8764,1\\n8765,1\\n8766,1\\n8767,1\\n8768,1\\n8769,1\\n8770,0\\n8771,0\\n8772,1\\n8773,1\\n8774,0\\n8775,1\\n8776,1\\n8777,0\\n8778,0\\n8779,0\\n8780,1\\n8781,0\\n8782,1\\n8783,1\\n8784,1\\n8785,0\\n8786,0\\n8787,0\\n8788,0\\n8789,1\\n8790,1\\n8791,0\\n8792,1\\n8793,1\\n8794,0\\n8795,1\\n8796,1\\n8797,0\\n8798,1\\n8799,0\\n8800,1\\n8801,0\\n8802,0\\n8803,1\\n8804,0\\n8805,1\\n8806,1\\n8807,0\\n8808,1\\n8809,1\\n8810,1\\n8811,0\\n8812,1\\n8813,0\\n8814,1\\n8815,0\\n8816,1\\n8817,1\\n8818,1\\n8819,0\\n8820,0\\n8821,0\\n8822,0\\n8823,1\\n8824,0\\n8825,0\\n8826,1\\n8827,0\\n8828,0\\n8829,1\\n8830,1\\n8831,1\\n8832,1\\n8833,1\\n8834,1\\n8835,0\\n8836,0\\n8837,1\\n8838,0\\n8839,0\\n8840,0\\n8841,1\\n8842,1\\n8843,1\\n8844,1\\n8845,0\\n8846,1\\n8847,1\\n8848,1\\n8849,0\\n8850,1\\n8851,1\\n8852,1\\n8853,1\\n8854,1\\n8855,0\\n8856,0\\n8857,1\\n8858,1\\n8859,0\\n8860,1\\n8861,0\\n8862,0\\n8863,0\\n8864,0\\n8865,1\\n8866,1\\n8867,1\\n8868,1\\n8869,1\\n8870,1\\n8871,0\\n8872,1\\n8873,1\\n8874,0\\n8875,0\\n8876,0\\n8877,1\\n8878,0\\n8879,0\\n8880,0\\n8881,0\\n8882,0\\n8883,0\\n8884,1\\n8885,0\\n8886,1\\n8887,1\\n8888,0\\n8889,1\\n8890,0\\n8891,0\\n8892,1\\n8893,0\\n8894,0\\n8895,0\\n8896,0\\n8897,1\\n8898,1\\n8899,1\\n8900,0\\n8901,1\\n8902,1\\n8903,1\\n8904,1\\n8905,1\\n8906,1\\n8907,1\\n8908,1\\n8909,1\\n8910,1\\n8911,0\\n8912,1\\n8913,1\\n8914,1\\n8915,1\\n8916,1\\n8917,1\\n8918,1\\n8919,1\\n8920,0\\n8921,0\\n8922,0\\n8923,1\\n8924,1\\n8925,1\\n8926,0\\n8927,1\\n8928,0\\n8929,1\\n8930,1\\n8931,0\\n8932,0\\n8933,1\\n8934,1\\n8935,1\\n8936,1\\n8937,0\\n8938,1\\n8939,1\\n8940,0\\n8941,0\\n8942,1\\n8943,0\\n8944,1\\n8945,1\\n8946,1\\n8947,1\\n8948,0\\n8949,1\\n8950,0\\n8951,0\\n8952,1\\n8953,0\\n8954,0\\n8955,1\\n8956,0\\n8957,1\\n8958,0\\n8959,1\\n8960,0\\n8961,0\\n8962,1\\n8963,1\\n8964,1\\n8965,1\\n8966,0\\n8967,1\\n8968,1\\n8969,0\\n8970,1\\n8971,1\\n8972,0\\n8973,0\\n8974,1\\n8975,0\\n8976,1\\n8977,1\\n8978,0\\n8979,0\\n8980,0\\n8981,0\\n8982,0\\n8983,0\\n8984,0\\n8985,1\\n8986,1\\n8987,1\\n8988,1\\n8989,0\\n8990,0\\n8991,0\\n8992,1\\n8993,1\\n8994,1\\n8995,1\\n8996,0\\n8997,1\\n8998,1\\n8999,1\\n9000,0\\n9001,0\\n9002,1\\n9003,1\\n9004,0\\n9005,0\\n9006,0\\n9007,1\\n9008,0\\n9009,1\\n9010,0\\n9011,0\\n9012,0\\n9013,0\\n9014,0\\n9015,1\\n9016,1\\n9017,0\\n9018,1\\n9019,0\\n9020,1\\n9021,0\\n9022,1\\n9023,1\\n9024,0\\n9025,0\\n9026,1\\n9027,1\\n9028,1\\n9029,1\\n9030,1\\n9031,1\\n9032,0\\n9033,1\\n9034,1\\n9035,1\\n9036,1\\n9037,0\\n9038,0\\n9039,1\\n9040,0\\n9041,1\\n9042,0\\n9043,1\\n9044,0\\n9045,1\\n9046,0\\n9047,0\\n9048,1\\n9049,0\\n9050,1\\n9051,1\\n9052,0\\n9053,0\\n9054,0\\n9055,1\\n9056,1\\n9057,0\\n9058,1\\n9059,1\\n9060,1\\n9061,0\\n9062,0\\n9063,0\\n9064,0\\n9065,1\\n9066,1\\n9067,1\\n9068,0\\n9069,0\\n9070,0\\n9071,0\\n9072,1\\n9073,1\\n9074,1\\n9075,1\\n9076,1\\n9077,1\\n9078,1\\n9079,1\\n9080,1\\n9081,1\\n9082,0\\n9083,1\\n9084,1\\n9085,1\\n9086,0\\n9087,1\\n9088,1\\n9089,1\\n9090,0\\n9091,1\\n9092,1\\n9093,1\\n9094,0\\n9095,0\\n9096,1\\n9097,1\\n9098,0\\n9099,1\\n9100,0\\n9101,0\\n9102,0\\n9103,0\\n9104,1\\n9105,0\\n9106,1\\n9107,0\\n9108,1\\n9109,0\\n9110,1\\n9111,0\\n9112,1\\n9113,1\\n9114,0\\n9115,1\\n9116,1\\n9117,1\\n9118,1\\n9119,1\\n9120,0\\n9121,1\\n9122,1\\n9123,0\\n9124,1\\n9125,1\\n9126,1\\n9127,0\\n9128,1\\n9129,1\\n9130,1\\n9131,0\\n9132,1\\n9133,0\\n9134,1\\n9135,1\\n9136,1\\n9137,1\\n9138,1\\n9139,1\\n9140,0\\n9141,0\\n9142,1\\n9143,0\\n9144,0\\n9145,0\\n9146,0\\n9147,0\\n9148,0\\n9149,1\\n9150,1\\n9151,1\\n9152,0\\n9153,1\\n9154,0\\n9155,1\\n9156,0\\n9157,1\\n9158,0\\n9159,1\\n9160,0\\n9161,0\\n9162,1\\n9163,1\\n9164,1\\n9165,1\\n9166,1\\n9167,1\\n9168,0\\n9169,1\\n9170,1\\n9171,0\\n9172,1\\n9173,1\\n9174,1\\n9175,0\\n9176,1\\n9177,0\\n9178,1\\n9179,1\\n9180,1\\n9181,1\\n9182,0\\n9183,0\\n9184,1\\n9185,1\\n9186,0\\n9187,1\\n9188,1\\n9189,1\\n9190,0\\n9191,0\\n9192,1\\n9193,1\\n9194,1\\n9195,1\\n9196,1\\n9197,1\\n9198,1\\n9199,0\\n9200,1\\n9201,1\\n9202,1\\n9203,1\\n9204,1\\n9205,1\\n9206,0\\n9207,1\\n9208,0\\n9209,1\\n9210,1\\n9211,0\\n9212,1\\n9213,1\\n9214,0\\n9215,1\\n9216,1\\n9217,0\\n9218,1\\n9219,1\\n9220,1\\n9221,1\\n9222,1\\n9223,0\\n9224,1\\n9225,0\\n9226,1\\n9227,0\\n9228,1\\n9229,0\\n9230,1\\n9231,0\\n9232,0\\n9233,0\\n9234,1\\n9235,0\\n9236,0\\n9237,0\\n9238,1\\n9239,1\\n9240,1\\n9241,1\\n9242,1\\n9243,1\\n9244,1\\n9245,0\\n9246,1\\n9247,1\\n9248,1\\n9249,0\\n9250,1\\n9251,0\\n9252,1\\n9253,0\\n9254,0\\n9255,0\\n9256,1\\n9257,1\\n9258,0\\n9259,1\\n9260,1\\n9261,1\\n9262,1\\n9263,1\\n9264,1\\n9265,1\\n9266,1\\n9267,1\\n9268,1\\n9269,1\\n9270,0\\n9271,1\\n9272,1\\n9273,1\\n9274,1\\n9275,0\\n9276,1\\n9277,1\\n9278,0\\n9279,1\\n9280,0\\n9281,0\\n9282,1\\n9283,0\\n9284,0\\n9285,0\\n9286,1\\n9287,0\\n9288,1\\n9289,1\\n9290,1\\n9291,0\\n9292,0\\n9293,1\\n9294,1\\n9295,0\\n9296,1\\n9297,0\\n9298,1\\n9299,0\\n9300,1\\n9301,1\\n9302,1\\n9303,1\\n9304,1\\n9305,1\\n9306,0\\n9307,1\\n9308,1\\n9309,0\\n9310,1\\n9311,1\\n9312,0\\n9313,0\\n9314,0\\n9315,1\\n9316,0\\n9317,1\\n9318,0\\n9319,0\\n9320,1\\n9321,0\\n9322,0\\n9323,0\\n9324,0\\n9325,0\\n9326,0\\n9327,1\\n9328,0\\n9329,0\\n9330,0\\n9331,0\\n9332,0\\n9333,1\\n9334,1\\n9335,1\\n9336,1\\n9337,1\\n9338,0\\n9339,1\\n9340,1\\n9341,1\\n9342,0\\n9343,0\\n9344,1\\n9345,1\\n9346,1\\n9347,1\\n9348,1\\n9349,1\\n9350,1\\n9351,1\\n9352,1\\n9353,0\\n9354,1\\n9355,1\\n9356,1\\n9357,0\\n9358,1\\n9359,0\\n9360,0\\n9361,1\\n9362,1\\n9363,1\\n9364,0\\n9365,1\\n9366,0\\n9367,0\\n9368,1\\n9369,0\\n9370,1\\n9371,0\\n9372,0\\n9373,0\\n9374,0\\n9375,0\\n9376,1\\n9377,0\\n9378,0\\n9379,0\\n9380,0\\n9381,0\\n9382,0\\n9383,1\\n9384,0\\n9385,1\\n9386,0\\n9387,1\\n9388,0\\n9389,0\\n9390,0\\n9391,0\\n9392,0\\n9393,0\\n9394,1\\n9395,0\\n9396,1\\n9397,0\\n9398,0\\n9399,1\\n9400,1\\n9401,0\\n9402,1\\n9403,1\\n9404,0\\n9405,1\\n9406,0\\n9407,1\\n9408,1\\n9409,0\\n9410,0\\n9411,0\\n9412,0\\n9413,0\\n9414,0\\n9415,1\\n9416,1\\n9417,0\\n9418,1\\n9419,0\\n9420,0\\n9421,1\\n9422,1\\n9423,1\\n9424,0\\n9425,0\\n9426,0\\n9427,1\\n9428,1\\n9429,1\\n9430,0\\n9431,1\\n9432,1\\n9433,0\\n9434,1\\n9435,1\\n9436,1\\n9437,0\\n9438,0\\n9439,0\\n9440,1\\n9441,0\\n9442,1\\n9443,1\\n9444,0\\n9445,1\\n9446,0\\n9447,0\\n9448,1\\n9449,1\\n9450,1\\n9451,1\\n9452,1\\n9453,0\\n9454,0\\n9455,0\\n9456,0\\n9457,0\\n9458,1\\n9459,1\\n9460,1\\n9461,0\\n9462,1\\n9463,1\\n9464,0\\n9465,1\\n9466,1\\n9467,1\\n9468,1\\n9469,0\\n9470,0\\n9471,1\\n9472,1\\n9473,0\\n9474,1\\n9475,1\\n9476,1\\n9477,1\\n9478,0\\n9479,1\\n9480,1\\n9481,0\\n9482,0\\n9483,1\\n9484,1\\n9485,0\\n9486,0\\n9487,0\\n9488,1\\n9489,1\\n9490,1\\n9491,1\\n9492,1\\n9493,0\\n9494,0\\n9495,0\\n9496,0\\n9497,1\\n9498,1\\n9499,0\\n9500,1\\n9501,0\\n9502,1\\n9503,1\\n9504,0\\n9505,1\\n9506,1\\n9507,1\\n9508,0\\n9509,0\\n9510,1\\n9511,1\\n9512,1\\n9513,1\\n9514,0\\n9515,1\\n9516,0\\n9517,1\\n9518,1\\n9519,1\\n9520,1\\n9521,1\\n9522,1\\n9523,0\\n9524,1\\n9525,0\\n9526,0\\n9527,1\\n9528,1\\n9529,1\\n9530,0\\n9531,1\\n9532,1\\n9533,1\\n9534,1\\n9535,1\\n9536,0\\n9537,1\\n9538,0\\n9539,0\\n9540,0\\n9541,1\\n9542,1\\n9543,1\\n9544,0\\n9545,1\\n9546,1\\n9547,1\\n9548,1\\n9549,1\\n9550,0\\n9551,0\\n9552,0\\n9553,1\\n9554,1\\n9555,1\\n9556,1\\n9557,1\\n9558,0\\n9559,1\\n9560,1\\n9561,1\\n9562,0\\n9563,1\\n9564,1\\n9565,0\\n9566,1\\n9567,0\\n9568,1\\n9569,1\\n9570,1\\n9571,1\\n9572,1\\n9573,1\\n9574,1\\n9575,1\\n9576,0\\n9577,1\\n9578,0\\n9579,0\\n9580,0\\n9581,1\\n9582,1\\n9583,0\\n9584,0\\n9585,0\\n9586,1\\n9587,1\\n9588,1\\n9589,1\\n9590,0\\n9591,1\\n9592,1\\n9593,1\\n9594,1\\n9595,1\\n9596,1\\n9597,0\\n9598,0\\n9599,1\\n9600,1\\n9601,0\\n9602,0\\n9603,0\\n9604,0\\n9605,1\\n9606,1\\n9607,0\\n9608,0\\n9609,1\\n9610,1\\n9611,1\\n9612,1\\n9613,0\\n9614,0\\n9615,1\\n9616,1\\n9617,1\\n9618,0\\n9619,1\\n9620,1\\n9621,1\\n9622,0\\n9623,0\\n9624,1\\n9625,0\\n9626,0\\n9627,1\\n9628,0\\n9629,1\\n9630,1\\n9631,0\\n9632,1\\n9633,1\\n9634,1\\n9635,0\\n9636,1\\n9637,1\\n9638,1\\n9639,1\\n9640,0\\n9641,0\\n9642,0\\n9643,0\\n9644,0\\n9645,1\\n9646,0\\n9647,0\\n9648,1\\n9649,0\\n9650,1\\n9651,1\\n9652,0\\n9653,1\\n9654,1\\n9655,0\\n9656,0\\n9657,1\\n9658,0\\n9659,0\\n9660,1\\n9661,1\\n9662,1\\n9663,0\\n9664,1\\n9665,0\\n9666,1\\n9667,0\\n9668,1\\n9669,0\\n9670,0\\n9671,0\\n9672,0\\n9673,0\\n9674,1\\n9675,0\\n9676,1\\n9677,1\\n9678,1\\n9679,1\\n9680,1\\n9681,1\\n9682,0\\n9683,1\\n9684,1\\n9685,0\\n9686,1\\n9687,1\\n9688,0\\n9689,1\\n9690,0\\n9691,0\\n9692,1\\n9693,0\\n9694,0\\n9695,1\\n9696,1\\n9697,1\\n9698,1\\n9699,0\\n9700,1\\n9701,0\\n9702,0\\n9703,1\\n9704,1\\n9705,0\\n9706,0\\n9707,0\\n9708,1\\n9709,0\\n9710,0\\n9711,0\\n9712,0\\n9713,1\\n9714,1\\n9715,1\\n9716,1\\n9717,1\\n9718,0\\n9719,1\\n9720,1\\n9721,1\\n9722,0\\n9723,1\\n9724,1\\n9725,1\\n9726,1\\n9727,1\\n9728,1\\n9729,1\\n9730,1\\n9731,1\\n9732,1\\n9733,1\\n9734,1\\n9735,0\\n9736,1\\n9737,0\\n9738,0\\n9739,0\\n9740,0\\n9741,0\\n9742,1\\n9743,0\\n9744,1\\n9745,0\\n9746,0\\n9747,0\\n9748,1\\n9749,1\\n9750,1\\n9751,1\\n9752,1\\n9753,0\\n9754,1\\n9755,0\\n9756,1\\n9757,0\\n9758,0\\n9759,0\\n9760,0\\n9761,1\\n9762,1\\n9763,0\\n9764,0\\n9765,0\\n9766,0\\n9767,1\\n9768,0\\n9769,0\\n9770,0\\n9771,0\\n9772,1\\n9773,0\\n9774,0\\n9775,0\\n9776,1\\n9777,1\\n9778,1\\n9779,0\\n9780,0\\n9781,1\\n9782,1\\n9783,1\\n9784,1\\n9785,0\\n9786,1\\n9787,0\\n9788,0\\n9789,1\\n9790,1\\n9791,0\\n9792,1\\n9793,0\\n9794,0\\n9795,1\\n9796,1\\n9797,1\\n9798,0\\n9799,0\\n9800,1\\n9801,0\\n9802,1\\n9803,1\\n9804,1\\n9805,1\\n9806,1\\n9807,1\\n9808,0\\n9809,0\\n9810,0\\n9811,1\\n9812,1\\n9813,1\\n9814,0\\n9815,0\\n9816,0\\n9817,0\\n9818,1\\n9819,1\\n9820,1\\n9821,0\\n9822,0\\n9823,0\\n9824,1\\n9825,0\\n9826,1\\n9827,0\\n9828,1\\n9829,1\\n9830,1\\n9831,0\\n9832,1\\n9833,1\\n9834,1\\n9835,0\\n9836,1\\n9837,0\\n9838,0\\n9839,1\\n9840,1\\n9841,0\\n9842,0\\n9843,0\\n9844,1\\n9845,1\\n9846,1\\n9847,1\\n9848,1\\n9849,0\\n9850,0\\n9851,0\\n9852,1\\n9853,0\\n9854,0\\n9855,1\\n9856,1\\n9857,0\\n9858,1\\n9859,1\\n9860,0\\n9861,1\\n9862,0\\n9863,1\\n9864,0\\n9865,0\\n9866,0\\n9867,1\\n9868,0\\n9869,1\\n9870,1\\n9871,0\\n9872,1\\n9873,1\\n9874,1\\n9875,1\\n9876,0\\n9877,1\\n9878,0\\n9879,0\\n9880,1\\n9881,0\\n9882,1\\n9883,1\\n9884,0\\n9885,1\\n9886,0\\n9887,1\\n9888,1\\n9889,0\\n9890,0\\n9891,1\\n9892,0\\n9893,1\\n9894,1\\n9895,0\\n9896,0\\n9897,0\\n9898,0\\n9899,1\\n9900,0\\n9901,0\\n9902,1\\n9903,1\\n9904,0\\n9905,1\\n9906,0\\n9907,1\\n9908,1\\n9909,0\\n9910,1\\n9911,0\\n9912,0\\n9913,0\\n9914,0\\n9915,1\\n9916,1\\n9917,0\\n9918,1\\n9919,1\\n9920,1\\n9921,0\\n9922,1\\n9923,1\\n9924,1\\n9925,1\\n9926,1\\n9927,0\\n9928,1\\n9929,1\\n9930,1\\n9931,0\\n9932,1\\n9933,0\\n9934,0\\n9935,1\\n9936,1\\n9937,1\\n9938,1\\n9939,0\\n9940,1\\n9941,1\\n9942,0\\n9943,0\\n9944,0\\n9945,0\\n9946,1\\n9947,1\\n9948,0\\n9949,1\\n9950,1\\n9951,1\\n9952,1\\n9953,0\\n9954,1\\n9955,1\\n9956,1\\n9957,1\\n9958,1\\n9959,1\\n9960,1\\n9961,1\\n9962,0\\n9963,0\\n9964,1\\n9965,1\\n9966,0\\n9967,1\\n9968,1\\n9969,1\\n9970,1\\n9971,0\\n9972,1\\n9973,0\\n9974,1\\n9975,0\\n9976,1\\n9977,1\\n9978,1\\n9979,1\\n9980,1\\n9981,1\\n9982,1\\n9983,0\\n9984,1\\n9985,0\\n9986,0\\n9987,0\\n9988,1\\n9989,0\\n9990,1\\n9991,0\\n9992,0\\n9993,0\\n9994,0\\n9995,0\\n9996,0\\n9997,0\\n9998,0\\n9999,1\\n10000,1\\n10001,0\\n10002,1\\n10003,1\\n10004,1\\n10005,0\\n10006,1\\n10007,1\\n10008,0\\n10009,1\\n10010,0\\n10011,1\\n10012,1\\n10013,1\\n10014,0\\n10015,1\\n10016,0\\n10017,0\\n10018,0\\n10019,1\\n10020,1\\n10021,1\\n10022,1\\n10023,1\\n10024,1\\n10025,0\\n10026,0\\n10027,1\\n10028,1\\n10029,1\\n10030,0\\n10031,1\\n10032,1\\n10033,1\\n10034,1\\n10035,0\\n10036,1\\n10037,1\\n10038,0\\n10039,0\\n10040,0\\n10041,1\\n10042,0\\n10043,1\\n10044,1\\n10045,1\\n10046,0\\n10047,0\\n10048,1\\n10049,0\\n10050,1\\n10051,1\\n10052,1\\n10053,1\\n10054,1\\n10055,0\\n10056,0\\n10057,0\\n10058,1\\n10059,1\\n10060,1\\n10061,0\\n10062,0\\n10063,0\\n10064,1\\n10065,0\\n10066,0\\n10067,1\\n10068,1\\n10069,0\\n10070,1\\n10071,0\\n10072,0\\n10073,0\\n10074,0\\n10075,1\\n10076,1\\n10077,1\\n10078,1\\n10079,1\\n10080,1\\n10081,1\\n10082,0\\n10083,1\\n10084,1\\n10085,0\\n10086,1\\n10087,0\\n10088,1\\n10089,0\\n10090,1\\n10091,1\\n10092,0\\n10093,1\\n10094,0\\n10095,1\\n10096,1\\n10097,1\\n10098,1\\n10099,1\\n10100,1\\n10101,0\\n10102,1\\n10103,1\\n10104,1\\n10105,0\\n10106,1\\n10107,1\\n10108,0\\n10109,0\\n10110,1\\n10111,1\\n10112,0\\n10113,0\\n10114,0\\n10115,0\\n10116,0\\n10117,1\\n10118,1\\n10119,0\\n10120,0\\n10121,0\\n10122,1\\n10123,0\\n10124,1\\n10125,0\\n10126,1\\n10127,1\\n10128,0\\n10129,0\\n10130,1\\n10131,1\\n10132,1\\n10133,1\\n10134,1\\n10135,0\\n10136,1\\n10137,1\\n10138,1\\n10139,1\\n10140,1\\n10141,1\\n10142,1\\n10143,0\\n10144,0\\n10145,0\\n10146,1\\n10147,0\\n10148,1\\n10149,1\\n10150,0\\n10151,0\\n10152,1\\n10153,0\\n10154,0\\n10155,1\\n10156,1\\n10157,1\\n10158,0\\n10159,1\\n10160,1\\n10161,0\\n10162,1\\n10163,1\\n10164,1\\n10165,1\\n10166,1\\n10167,0\\n10168,1\\n10169,0\\n10170,0\\n10171,1\\n10172,0\\n10173,1\\n10174,1\\n10175,1\\n10176,0\\n10177,1\\n10178,0\\n10179,1\\n10180,0\\n10181,1\\n10182,1\\n10183,1\\n10184,1\\n10185,0\\n10186,1\\n10187,0\\n10188,0\\n10189,1\\n10190,1\\n10191,1\\n10192,0\\n10193,0\\n10194,1\\n10195,1\\n10196,1\\n10197,0\\n10198,1\\n10199,0\\n10200,0\\n10201,0\\n10202,1\\n10203,1\\n10204,1\\n10205,0\\n10206,0\\n10207,1\\n10208,0\\n10209,1\\n10210,1\\n10211,0\\n10212,1\\n10213,0\\n10214,0\\n10215,1\\n10216,0\\n10217,1\\n10218,1\\n10219,0\\n10220,1\\n10221,1\\n10222,0\\n10223,1\\n10224,0\\n10225,1\\n10226,1\\n10227,1\\n10228,0\\n10229,1\\n10230,0\\n10231,0\\n10232,1\\n10233,0\\n10234,1\\n10235,0\\n10236,0\\n10237,1\\n10238,1\\n10239,0\\n10240,1\\n10241,0\\n10242,1\\n10243,1\\n10244,0\\n10245,0\\n10246,0\\n10247,0\\n10248,0\\n10249,1\\n10250,1\\n10251,1\\n10252,0\\n10253,0\\n10254,1\\n10255,0\\n10256,1\\n10257,1\\n10258,0\\n10259,1\\n10260,0\\n10261,0\\n10262,1\\n10263,1\\n10264,0\\n10265,0\\n10266,0\\n10267,0\\n10268,0\\n10269,1\\n10270,1\\n10271,0\\n10272,1\\n10273,0\\n10274,0\\n10275,1\\n10276,0\\n10277,1\\n10278,1\\n10279,1\\n10280,1\\n10281,1\\n10282,0\\n10283,0\\n10284,0\\n10285,0\\n10286,1\\n10287,1\\n10288,0\\n10289,0\\n10290,0\\n10291,1\\n10292,1\\n10293,0\\n10294,0\\n10295,1\\n10296,0\\n10297,1\\n10298,0\\n10299,0\\n10300,0\\n10301,1\\n10302,1\\n10303,1\\n10304,1\\n10305,1\\n10306,1\\n10307,1\\n10308,1\\n10309,0\\n10310,0\\n10311,0\\n10312,0\\n10313,1\\n10314,0\\n10315,0\\n10316,1\\n10317,0\\n10318,0\\n10319,0\\n10320,1\\n10321,0\\n10322,1\\n10323,1\\n10324,0\\n10325,1\\n10326,0\\n10327,0\\n10328,0\\n10329,0\\n10330,0\\n10331,1\\n10332,1\\n10333,0\\n10334,1\\n10335,1\\n10336,1\\n10337,0\\n10338,0\\n10339,1\\n10340,0\\n10341,0\\n10342,0\\n10343,1\\n10344,1\\n10345,0\\n10346,1\\n10347,1\\n10348,1\\n10349,1\\n10350,0\\n10351,1\\n10352,1\\n10353,0\\n10354,1\\n10355,1\\n10356,1\\n10357,0\\n10358,1\\n10359,1\\n10360,0\\n10361,0\\n10362,0\\n10363,1\\n10364,1\\n10365,0\\n10366,0\\n10367,0\\n10368,1\\n10369,1\\n10370,1\\n10371,0\\n10372,1\\n10373,1\\n10374,1\\n10375,1\\n10376,0\\n10377,0\\n10378,1\\n10379,0\\n10380,1\\n10381,1\\n10382,1\\n10383,0\\n10384,0\\n10385,0\\n10386,1\\n10387,0\\n10388,1\\n10389,1\\n10390,1\\n10391,0\\n10392,0\\n10393,1\\n10394,1\\n10395,0\\n10396,1\\n10397,1\\n10398,0\\n10399,0\\n10400,1\\n10401,0\\n10402,1\\n10403,1\\n10404,1\\n10405,1\\n10406,1\\n10407,0\\n10408,1\\n10409,1\\n10410,1\\n10411,1\\n10412,0\\n10413,1\\n10414,1\\n10415,0\\n10416,1\\n10417,0\\n10418,0\\n10419,0\\n10420,0\\n10421,0\\n10422,0\\n10423,1\\n10424,0\\n10425,1\\n10426,0\\n10427,0\\n10428,0\\n10429,1\\n10430,1\\n10431,0\\n10432,1\\n10433,0\\n10434,0\\n10435,1\\n10436,1\\n10437,1\\n10438,1\\n10439,0\\n10440,0\\n10441,0\\n10442,1\\n10443,1\\n10444,1\\n10445,1\\n10446,0\\n10447,1\\n10448,0\\n10449,0\\n10450,0\\n10451,1\\n10452,1\\n10453,1\\n10454,0\\n10455,1\\n10456,1\\n10457,0\\n10458,1\\n10459,1\\n10460,1\\n10461,1\\n10462,1\\n10463,1\\n10464,1\\n10465,1\\n10466,1\\n10467,1\\n10468,0\\n10469,0\\n10470,0\\n10471,1\\n10472,0\\n10473,1\\n10474,1\\n10475,0\\n10476,1\\n10477,0\\n10478,1\\n10479,1\\n10480,0\\n10481,1\\n10482,1\\n10483,0\\n10484,1\\n10485,0\\n10486,1\\n10487,1\\n10488,1\\n10489,0\\n10490,0\\n10491,0\\n10492,0\\n10493,0\\n10494,1\\n10495,1\\n10496,0\\n10497,1\\n10498,0\\n10499,1\\n10500,0\\n10501,0\\n10502,1\\n10503,0\\n10504,0\\n10505,0\\n10506,1\\n10507,1\\n10508,1\\n10509,0\\n10510,0\\n10511,0\\n10512,0\\n10513,0\\n10514,1\\n10515,1\\n10516,1\\n10517,1\\n10518,0\\n10519,0\\n10520,1\\n10521,0\\n10522,1\\n10523,0\\n10524,1\\n10525,0\\n10526,0\\n10527,0\\n10528,1\\n10529,0\\n10530,1\\n10531,1\\n10532,1\\n10533,0\\n10534,1\\n10535,0\\n10536,1\\n10537,0\\n10538,0\\n10539,1\\n10540,0\\n10541,1\\n10542,0\\n10543,0\\n10544,0\\n10545,1\\n10546,0\\n10547,1\\n10548,1\\n10549,0\\n10550,0\\n10551,1\\n10552,0\\n10553,1\\n10554,1\\n10555,1\\n10556,0\\n10557,1\\n10558,1\\n10559,0\\n10560,1\\n10561,0\\n10562,1\\n10563,1\\n10564,1\\n10565,0\\n10566,0\\n10567,0\\n10568,1\\n10569,1\\n10570,0\\n10571,0\\n10572,0\\n10573,1\\n10574,1\\n10575,1\\n10576,0\\n10577,1\\n10578,0\\n10579,0\\n10580,0\\n10581,0\\n10582,1\\n10583,0\\n10584,0\\n10585,1\\n10586,0\\n10587,1\\n10588,1\\n10589,1\\n10590,1\\n10591,1\\n10592,1\\n10593,0\\n10594,1\\n10595,0\\n10596,0\\n10597,1\\n10598,0\\n10599,1\\n10600,0\\n10601,1\\n10602,1\\n10603,0\\n10604,0\\n10605,1\\n10606,1\\n10607,0\\n10608,0\\n10609,1\\n10610,0\\n10611,0\\n10612,0\\n10613,0\\n10614,0\\n10615,0\\n10616,0\\n10617,1\\n10618,0\\n10619,0\\n10620,1\\n10621,0\\n10622,1\\n10623,1\\n10624,1\\n10625,1\\n10626,1\\n10627,0\\n10628,1\\n10629,1\\n10630,1\\n10631,1\\n10632,1\\n10633,1\\n10634,0\\n10635,0\\n10636,0\\n10637,1\\n10638,1\\n10639,0\\n10640,1\\n10641,1\\n10642,0\\n10643,0\\n10644,1\\n10645,1\\n10646,1\\n10647,0\\n10648,0\\n10649,0\\n10650,0\\n10651,1\\n10652,0\\n10653,1\\n10654,1\\n10655,0\\n10656,1\\n10657,1\\n10658,1\\n10659,0\\n10660,1\\n10661,0\\n10662,1\\n10663,1\\n10664,1\\n10665,1\\n10666,1\\n10667,1\\n10668,1\\n10669,1\\n10670,0\\n10671,1\\n10672,0\\n10673,1\\n10674,0\\n10675,1\\n10676,0\\n10677,1\\n10678,0\\n10679,1\\n10680,1\\n10681,1\\n10682,1\\n10683,0\\n10684,1\\n10685,1\\n10686,0\\n10687,0\\n10688,0\\n10689,0\\n10690,1\\n10691,0\\n10692,0\\n10693,1\\n10694,0\\n10695,1\\n10696,1\\n10697,1\\n10698,1\\n10699,1\\n10700,1\\n10701,0\\n10702,0\\n10703,1\\n10704,1\\n10705,0\\n10706,1\\n10707,1\\n10708,0\\n10709,0\\n10710,0\\n10711,1\\n10712,0\\n10713,1\\n10714,0\\n10715,1\\n10716,0\\n10717,0\\n10718,0\\n10719,0\\n10720,1\\n10721,0\\n10722,1\\n10723,0\\n10724,0\\n10725,1\\n10726,1\\n10727,1\\n10728,1\\n10729,1\\n10730,0\\n10731,1\\n10732,0\\n10733,1\\n10734,1\\n10735,0\\n10736,0\\n10737,1\\n10738,1\\n10739,0\\n10740,1\\n10741,0\\n10742,1\\n10743,0\\n10744,1\\n10745,0\\n10746,0\\n10747,1\\n10748,1\\n10749,1\\n10750,1\\n10751,0\\n10752,0\\n10753,1\\n10754,0\\n10755,1\\n10756,1\\n10757,1\\n10758,1\\n10759,1\\n10760,1\\n10761,1\\n10762,1\\n10763,1\\n10764,1\\n10765,1\\n10766,0\\n10767,0\\n10768,0\\n10769,0\\n10770,0\\n10771,1\\n10772,0\\n10773,1\\n10774,0\\n10775,1\\n10776,1\\n10777,1\\n10778,1\\n10779,1\\n10780,0\\n10781,0\\n10782,0\\n10783,1\\n10784,1\\n10785,0\\n10786,1\\n10787,0\\n10788,1\\n10789,1\\n10790,0\\n10791,0\\n10792,0\\n10793,1\\n10794,0\\n10795,1\\n10796,0\\n10797,1\\n10798,1\\n10799,0\\n10800,0\\n10801,1\\n10802,1\\n10803,0\\n10804,0\\n10805,0\\n10806,1\\n10807,0\\n10808,0\\n10809,1\\n10810,1\\n10811,0\\n10812,0\\n10813,1\\n10814,1\\n10815,1\\n10816,1\\n10817,0\\n10818,1\\n10819,1\\n10820,0\\n10821,1\\n10822,0\\n10823,1\\n10824,0\\n10825,1\\n10826,0\\n10827,0\\n10828,0\\n10829,1\\n10830,0\\n10831,0\\n10832,1\\n10833,1\\n10834,1\\n10835,0\\n10836,0\\n10837,0\\n10838,1\\n10839,1\\n10840,0\\n10841,1\\n10842,1\\n10843,1\\n10844,0\\n10845,1\\n10846,0\\n10847,1\\n10848,1\\n10849,1\\n10850,0\\n10851,0\\n10852,0\\n10853,1\\n10854,0\\n10855,1\\n10856,1\\n10857,0\\n10858,0\\n10859,1\\n10860,1\\n10861,1\\n10862,1\\n10863,0\\n10864,0\\n10865,1\\n10866,0\\n10867,1\\n10868,0\\n10869,0\\n10870,1\\n10871,1\\n10872,0\\n10873,0\\n10874,0\\n10875,1\\n10876,0\\n10877,1\\n10878,0\\n10879,0\\n10880,0\\n10881,0\\n10882,1\\n10883,0\\n10884,1\\n10885,0\\n10886,1\\n10887,1\\n10888,1\\n10889,1\\n10890,0\\n10891,1\\n10892,1\\n10893,1\\n10894,1\\n10895,1\\n10896,0\\n10897,0\\n10898,0\\n10899,1\\n10900,0\\n10901,0\\n10902,1\\n10903,1\\n10904,1\\n10905,1\\n10906,1\\n10907,0\\n10908,1\\n10909,1\\n10910,1\\n10911,0\\n10912,1\\n10913,1\\n10914,1\\n10915,0\\n10916,0\\n10917,0\\n10918,0\\n10919,1\\n10920,1\\n10921,0\\n10922,0\\n10923,0\\n10924,1\\n10925,1\\n10926,0\\n10927,1\\n10928,1\\n10929,1\\n10930,1\\n10931,0\\n10932,1\\n10933,0\\n10934,1\\n10935,1\\n10936,1\\n10937,1\\n10938,0\\n10939,0\\n10940,0\\n10941,1\\n10942,1\\n10943,1\\n10944,1\\n10945,0\\n10946,1\\n10947,1\\n10948,0\\n10949,1\\n10950,0\\n10951,1\\n10952,1\\n10953,0\\n10954,1\\n10955,1\\n10956,0\\n10957,1\\n10958,1\\n10959,0\\n10960,1\\n10961,1\\n10962,1\\n10963,0\\n10964,1\\n10965,1\\n10966,1\\n10967,0\\n10968,1\\n10969,1\\n10970,0\\n10971,1\\n10972,1\\n10973,1\\n10974,1\\n10975,1\\n10976,1\\n10977,0\\n10978,1\\n10979,0\\n10980,0\\n10981,1\\n10982,1\\n10983,1\\n10984,1\\n10985,1\\n10986,0\\n10987,0\\n10988,1\\n10989,1\\n10990,1\\n10991,1\\n10992,0\\n10993,1\\n10994,1\\n10995,0\\n10996,0\\n10997,0\\n10998,0\\n10999,1\\n11000,0\\n11001,1\\n11002,0\\n11003,0\\n11004,1\\n11005,1\\n11006,0\\n11007,0\\n11008,1\\n11009,1\\n11010,1\\n11011,1\\n11012,0\\n11013,1\\n11014,0\\n11015,0\\n11016,1\\n11017,0\\n11018,1\\n11019,1\\n11020,1\\n11021,0\\n11022,0\\n11023,0\\n11024,1\\n11025,1\\n11026,1\\n11027,1\\n11028,1\\n11029,0\\n11030,1\\n11031,1\\n11032,1\\n11033,0\\n11034,0\\n11035,1\\n11036,1\\n11037,1\\n11038,1\\n11039,1\\n11040,1\\n11041,0\\n11042,1\\n11043,1\\n11044,1\\n11045,1\\n11046,0\\n11047,1\\n11048,1\\n11049,1\\n11050,1\\n11051,0\\n11052,0\\n11053,0\\n11054,1\\n11055,0\\n11056,0\\n11057,0\\n11058,0\\n11059,1\\n11060,1\\n11061,1\\n11062,1\\n11063,0\\n11064,1\\n11065,1\\n11066,1\\n11067,0\\n11068,1\\n11069,1\\n11070,0\\n11071,0\\n11072,0\\n11073,0\\n11074,1\\n11075,0\\n11076,0\\n11077,0\\n11078,1\\n11079,0\\n11080,1\\n11081,1\\n11082,0\\n11083,0\\n11084,0\\n11085,1\\n11086,0\\n11087,1\\n11088,1\\n11089,1\\n11090,0\\n11091,0\\n11092,0\\n11093,0\\n11094,1\\n11095,0\\n11096,1\\n11097,0\\n11098,1\\n11099,1\\n11100,1\\n11101,1\\n11102,1\\n11103,1\\n11104,1\\n11105,0\\n11106,1\\n11107,0\\n11108,0\\n11109,0\\n11110,1\\n11111,0\\n11112,1\\n11113,0\\n11114,1\\n11115,0\\n11116,0\\n11117,0\\n11118,1\\n11119,1\\n11120,1\\n11121,1\\n11122,0\\n11123,1\\n11124,1\\n11125,1\\n11126,1\\n11127,1\\n11128,0\\n11129,1\\n11130,1\\n11131,1\\n11132,0\\n11133,0\\n11134,0\\n11135,0\\n11136,0\\n11137,1\\n11138,1\\n11139,1\\n11140,1\\n11141,1\\n11142,1\\n11143,0\\n11144,1\\n11145,1\\n11146,1\\n11147,1\\n11148,0\\n11149,0\\n11150,1\\n11151,1\\n11152,0\\n11153,0\\n11154,1\\n11155,1\\n11156,1\\n11157,1\\n11158,0\\n11159,0\\n11160,0\\n11161,1\\n11162,1\\n11163,1\\n11164,0\\n11165,0\\n11166,1\\n11167,1\\n11168,0\\n11169,0\\n11170,1\\n11171,0\\n11172,1\\n11173,0\\n11174,0\\n11175,0\\n11176,1\\n11177,1\\n11178,0\\n11179,1\\n11180,1\\n11181,1\\n11182,1\\n11183,0\\n11184,1\\n11185,1\\n11186,0\\n'}"
            ]
          },
          "metadata": {
            "tags": []
          },
          "execution_count": 49
        }
      ]
    },
    {
      "cell_type": "code",
      "metadata": {
        "id": "EB0NSKdwM146",
        "colab": {
          "base_uri": "https://localhost:8080/"
        },
        "outputId": "e967ac76-059d-445d-e1fd-dcebfe8ca02a"
      },
      "source": [
        "ensemble_transformer = pd.read_csv(\"./ensemble_transformer.csv\")\r\n",
        "ensemble_CNN= pd.read_csv(\"./ensemble_CNN.csv\")\r\n",
        "ensemble_BERT = pd.read_csv(\"./ensemble_BERT.csv\")\r\n",
        "\r\n",
        "\r\n",
        "print(ensemble_transformer)\r\n",
        "print(ensemble_CNN)\r\n",
        "print(ensemble_BERT)"
      ],
      "execution_count": null,
      "outputs": [
        {
          "output_type": "stream",
          "text": [
            "       Unnamed: 0  transformer prediction\n",
            "0               0                       1\n",
            "1               1                       0\n",
            "2               2                       1\n",
            "3               3                       1\n",
            "4               4                       0\n",
            "...           ...                     ...\n",
            "11182       11182                       1\n",
            "11183       11183                       0\n",
            "11184       11184                       1\n",
            "11185       11185                       1\n",
            "11186       11186                       0\n",
            "\n",
            "[11187 rows x 2 columns]\n",
            "       Unnamed: 0  CNN prediction\n",
            "0               0               1\n",
            "1               1               0\n",
            "2               2               1\n",
            "3               3               1\n",
            "4               4               0\n",
            "...           ...             ...\n",
            "11182       11182               1\n",
            "11183       11183               0\n",
            "11184       11184               1\n",
            "11185       11185               1\n",
            "11186       11186               0\n",
            "\n",
            "[11187 rows x 2 columns]\n",
            "       Unnamed: 0  BERT prediction\n",
            "0               0                1\n",
            "1               1                0\n",
            "2               2                0\n",
            "3               3                1\n",
            "4               4                0\n",
            "...           ...              ...\n",
            "11182       11182                1\n",
            "11183       11183                0\n",
            "11184       11184                1\n",
            "11185       11185                1\n",
            "11186       11186                0\n",
            "\n",
            "[11187 rows x 2 columns]\n"
          ],
          "name": "stdout"
        }
      ]
    },
    {
      "cell_type": "code",
      "metadata": {
        "id": "SXcheOB_nnFh"
      },
      "source": [
        "ensemble_transformer_out = ensemble_transformer['transformer prediction']\r\n",
        "ensemble_CNN_out= ensemble_CNN['CNN prediction']\r\n",
        "ensemble_BERT_out = ensemble_BERT['BERT prediction']"
      ],
      "execution_count": null,
      "outputs": []
    },
    {
      "cell_type": "code",
      "metadata": {
        "colab": {
          "base_uri": "https://localhost:8080/"
        },
        "id": "Gxffm537k8Cl",
        "outputId": "a1a1963e-d3fb-4cf7-f240-76808e662ec2"
      },
      "source": [
        "x_output_total = pd.DataFrame({'Transformer' : ensemble_transformer_out, 'CNN' : ensemble_CNN_out, 'BERT' : ensemble_BERT_out})\r\n",
        "\r\n",
        "print(x_output_total)"
      ],
      "execution_count": null,
      "outputs": [
        {
          "output_type": "stream",
          "text": [
            "       Transformer  CNN  BERT\n",
            "0                1    1     1\n",
            "1                0    0     0\n",
            "2                1    1     0\n",
            "3                1    1     1\n",
            "4                0    0     0\n",
            "...            ...  ...   ...\n",
            "11182            1    1     1\n",
            "11183            0    0     0\n",
            "11184            1    1     1\n",
            "11185            1    1     1\n",
            "11186            0    0     0\n",
            "\n",
            "[11187 rows x 3 columns]\n"
          ],
          "name": "stdout"
        }
      ]
    },
    {
      "cell_type": "markdown",
      "metadata": {
        "id": "QXehUWstNw1k"
      },
      "source": [
        "- 앙상블 예측결과 산출"
      ]
    },
    {
      "cell_type": "code",
      "metadata": {
        "colab": {
          "base_uri": "https://localhost:8080/"
        },
        "id": "Z-vriEzmmMf2",
        "outputId": "640d7d1f-74ac-47b1-de36-9c3658cc39e5"
      },
      "source": [
        "s = np.sum(x_output_total, axis = 1)\r\n",
        "s = s.tolist()\r\n",
        "print(s)"
      ],
      "execution_count": null,
      "outputs": [
        {
          "output_type": "stream",
          "text": [
            "[3, 0, 2, 3, 0, 3, 2, 3, 0, 3, 3, 0, 0, 0, 0, 2, 3, 1, 3, 3, 3, 3, 3, 3, 0, 0, 1, 1, 3, 1, 3, 3, 3, 0, 3, 0, 2, 2, 2, 0, 0, 0, 0, 3, 1, 1, 0, 2, 0, 3, 2, 2, 0, 0, 1, 3, 3, 3, 0, 0, 3, 3, 2, 1, 0, 0, 0, 3, 0, 3, 3, 3, 3, 3, 2, 0, 3, 3, 3, 0, 3, 3, 0, 3, 3, 0, 0, 0, 2, 1, 3, 1, 3, 3, 2, 0, 2, 3, 0, 1, 0, 0, 0, 0, 0, 0, 3, 3, 3, 3, 0, 3, 3, 1, 3, 1, 3, 3, 0, 0, 0, 2, 0, 0, 3, 0, 3, 0, 0, 2, 1, 3, 3, 0, 3, 3, 1, 0, 0, 3, 0, 0, 3, 0, 0, 3, 0, 3, 1, 0, 0, 3, 2, 3, 2, 3, 3, 0, 0, 2, 0, 0, 1, 0, 1, 1, 0, 0, 0, 3, 0, 3, 3, 2, 0, 3, 3, 1, 3, 0, 0, 3, 1, 3, 1, 3, 2, 3, 0, 0, 3, 0, 1, 0, 0, 3, 3, 1, 0, 3, 0, 1, 3, 0, 3, 0, 3, 2, 3, 3, 0, 0, 3, 2, 3, 3, 0, 3, 0, 0, 0, 3, 0, 3, 3, 3, 3, 3, 0, 0, 1, 0, 3, 2, 0, 3, 0, 3, 3, 1, 0, 1, 1, 0, 3, 0, 1, 3, 0, 3, 3, 2, 0, 2, 3, 1, 0, 3, 0, 2, 3, 3, 0, 1, 0, 3, 3, 0, 3, 0, 2, 1, 3, 3, 3, 3, 3, 1, 0, 0, 0, 3, 0, 2, 1, 1, 1, 0, 0, 0, 0, 3, 3, 0, 2, 0, 2, 3, 1, 0, 3, 0, 0, 0, 1, 3, 2, 0, 3, 3, 3, 3, 1, 0, 3, 0, 3, 3, 3, 0, 0, 0, 2, 0, 1, 2, 3, 0, 0, 3, 0, 1, 3, 3, 0, 3, 0, 3, 3, 1, 0, 0, 3, 0, 1, 0, 3, 3, 3, 3, 3, 1, 0, 3, 3, 0, 3, 3, 3, 3, 3, 3, 3, 3, 0, 3, 0, 3, 3, 1, 0, 1, 0, 0, 0, 3, 3, 3, 0, 2, 3, 0, 3, 0, 2, 3, 1, 3, 0, 3, 2, 2, 3, 3, 3, 3, 3, 0, 3, 3, 3, 0, 0, 0, 1, 0, 0, 3, 1, 3, 0, 0, 3, 0, 2, 3, 3, 3, 2, 2, 3, 2, 2, 0, 2, 3, 3, 3, 0, 2, 3, 3, 1, 0, 3, 1, 2, 1, 1, 3, 3, 0, 2, 3, 0, 0, 2, 3, 3, 0, 2, 0, 0, 0, 0, 0, 0, 3, 3, 3, 2, 0, 3, 0, 0, 1, 1, 1, 3, 0, 1, 2, 3, 0, 3, 3, 0, 3, 3, 3, 3, 0, 3, 3, 1, 3, 0, 3, 0, 0, 3, 3, 3, 1, 0, 2, 0, 0, 0, 3, 3, 1, 0, 0, 0, 3, 3, 3, 0, 0, 3, 3, 3, 3, 0, 0, 3, 0, 3, 3, 3, 3, 3, 3, 3, 0, 1, 3, 0, 3, 3, 2, 3, 3, 2, 2, 1, 1, 2, 0, 2, 3, 3, 3, 2, 0, 2, 2, 0, 0, 3, 3, 0, 3, 0, 0, 2, 3, 3, 0, 0, 0, 3, 3, 3, 0, 0, 3, 0, 0, 0, 2, 3, 3, 3, 0, 1, 3, 3, 2, 0, 3, 3, 0, 0, 3, 1, 3, 0, 0, 0, 0, 3, 0, 3, 0, 3, 0, 0, 0, 1, 3, 3, 3, 0, 3, 3, 1, 3, 0, 0, 0, 3, 0, 0, 0, 0, 0, 0, 3, 3, 3, 0, 3, 3, 0, 0, 3, 1, 3, 0, 1, 0, 3, 0, 0, 0, 3, 0, 0, 3, 1, 2, 0, 0, 3, 2, 0, 1, 3, 3, 1, 0, 3, 2, 0, 3, 0, 3, 0, 0, 3, 2, 3, 0, 3, 3, 0, 0, 0, 0, 3, 2, 3, 0, 3, 1, 0, 0, 0, 0, 2, 3, 0, 1, 1, 1, 3, 2, 2, 3, 1, 2, 3, 0, 0, 0, 3, 2, 0, 3, 3, 0, 0, 3, 1, 2, 0, 0, 3, 0, 3, 3, 3, 0, 3, 0, 0, 3, 2, 3, 0, 3, 0, 3, 3, 3, 1, 3, 3, 2, 3, 3, 3, 3, 0, 0, 3, 3, 1, 0, 3, 3, 1, 1, 3, 3, 3, 3, 2, 1, 0, 3, 0, 3, 0, 0, 0, 3, 1, 0, 3, 3, 0, 3, 0, 1, 2, 0, 2, 1, 3, 1, 3, 3, 0, 3, 1, 3, 0, 0, 3, 0, 0, 3, 0, 3, 0, 0, 0, 0, 3, 0, 3, 3, 3, 3, 0, 3, 0, 0, 1, 3, 0, 3, 3, 3, 2, 0, 1, 2, 3, 3, 3, 0, 2, 3, 2, 3, 0, 0, 1, 0, 1, 0, 2, 3, 3, 3, 3, 2, 3, 3, 3, 3, 0, 3, 0, 0, 3, 0, 3, 1, 0, 0, 3, 3, 3, 0, 0, 2, 3, 0, 3, 1, 3, 2, 3, 0, 3, 3, 0, 0, 3, 0, 3, 1, 1, 0, 0, 1, 1, 3, 0, 3, 2, 0, 0, 0, 2, 1, 2, 0, 2, 3, 1, 3, 2, 3, 3, 3, 1, 0, 1, 0, 0, 3, 0, 3, 0, 3, 0, 0, 3, 0, 1, 0, 0, 3, 0, 3, 2, 1, 1, 0, 1, 2, 3, 3, 3, 1, 1, 2, 0, 2, 1, 3, 0, 0, 3, 1, 2, 2, 2, 0, 3, 0, 0, 0, 0, 3, 0, 3, 0, 0, 0, 0, 1, 2, 0, 3, 0, 3, 3, 0, 3, 2, 3, 3, 0, 0, 3, 3, 3, 0, 0, 0, 0, 3, 0, 3, 3, 2, 0, 1, 3, 0, 3, 2, 2, 3, 3, 3, 0, 3, 0, 0, 0, 0, 3, 0, 3, 0, 3, 3, 3, 3, 3, 0, 2, 0, 1, 3, 3, 1, 1, 0, 3, 3, 3, 3, 2, 0, 3, 2, 3, 0, 0, 0, 0, 0, 3, 3, 3, 1, 1, 1, 2, 2, 0, 0, 3, 0, 0, 0, 3, 0, 2, 3, 3, 0, 0, 0, 1, 0, 1, 3, 0, 3, 0, 3, 0, 3, 0, 3, 3, 0, 0, 3, 1, 0, 2, 1, 3, 1, 3, 2, 0, 0, 3, 0, 2, 0, 2, 0, 3, 3, 2, 3, 3, 3, 0, 0, 0, 3, 3, 3, 3, 1, 0, 0, 3, 2, 0, 2, 0, 0, 3, 3, 3, 0, 0, 0, 0, 0, 0, 1, 1, 1, 0, 0, 3, 0, 0, 0, 3, 0, 3, 1, 0, 0, 1, 0, 0, 3, 0, 3, 0, 3, 2, 3, 3, 3, 3, 3, 3, 2, 0, 0, 0, 1, 0, 3, 3, 1, 3, 2, 3, 0, 2, 0, 2, 1, 0, 0, 3, 3, 2, 1, 1, 0, 0, 3, 2, 1, 0, 0, 1, 1, 3, 3, 3, 1, 0, 3, 3, 0, 1, 1, 3, 0, 3, 3, 1, 0, 3, 3, 1, 3, 0, 3, 1, 0, 3, 0, 0, 3, 3, 1, 3, 0, 2, 0, 0, 0, 0, 1, 0, 3, 0, 0, 0, 0, 0, 0, 3, 3, 2, 0, 3, 0, 3, 0, 3, 2, 3, 3, 3, 2, 1, 0, 3, 0, 3, 3, 3, 0, 0, 1, 0, 0, 0, 2, 3, 0, 0, 3, 0, 0, 1, 3, 2, 3, 3, 2, 0, 0, 2, 0, 2, 1, 2, 3, 1, 0, 3, 3, 3, 0, 3, 0, 0, 3, 1, 1, 2, 1, 3, 0, 3, 3, 0, 0, 0, 1, 3, 3, 3, 0, 1, 0, 2, 1, 3, 0, 1, 0, 3, 1, 3, 3, 0, 3, 0, 0, 3, 0, 0, 0, 3, 3, 0, 0, 0, 3, 2, 2, 2, 1, 3, 3, 3, 0, 0, 0, 3, 0, 1, 0, 0, 3, 0, 0, 3, 3, 0, 0, 3, 0, 3, 0, 0, 3, 0, 3, 3, 0, 0, 1, 3, 3, 2, 1, 0, 3, 0, 2, 1, 0, 1, 3, 1, 3, 0, 0, 0, 0, 0, 0, 2, 1, 3, 0, 0, 3, 0, 0, 2, 0, 0, 0, 0, 0, 3, 2, 3, 0, 0, 2, 3, 3, 3, 1, 1, 3, 1, 2, 0, 2, 3, 2, 0, 3, 1, 0, 0, 3, 0, 3, 0, 0, 1, 3, 0, 0, 0, 0, 3, 1, 1, 2, 3, 0, 2, 0, 3, 0, 3, 3, 1, 0, 0, 3, 3, 0, 2, 3, 3, 3, 3, 1, 3, 3, 3, 2, 1, 0, 3, 2, 2, 3, 0, 0, 1, 3, 3, 2, 2, 0, 0, 2, 1, 3, 0, 0, 0, 0, 3, 3, 3, 0, 0, 0, 1, 3, 2, 3, 0, 1, 3, 0, 3, 3, 3, 3, 1, 2, 0, 0, 0, 0, 2, 2, 0, 1, 1, 3, 3, 0, 1, 3, 3, 3, 0, 0, 3, 3, 0, 0, 3, 0, 0, 3, 3, 0, 3, 1, 0, 0, 2, 0, 2, 2, 0, 1, 0, 2, 0, 0, 3, 0, 0, 2, 1, 3, 3, 3, 0, 0, 1, 3, 0, 3, 2, 0, 3, 1, 0, 3, 2, 3, 0, 3, 0, 3, 0, 2, 3, 3, 0, 0, 3, 0, 3, 0, 2, 3, 3, 3, 3, 3, 1, 3, 3, 1, 3, 3, 1, 3, 1, 3, 0, 2, 0, 1, 0, 3, 3, 3, 2, 3, 0, 2, 0, 0, 3, 0, 3, 3, 3, 3, 3, 3, 3, 0, 0, 2, 0, 3, 3, 1, 2, 3, 2, 0, 2, 0, 3, 2, 0, 0, 3, 3, 3, 1, 0, 3, 3, 1, 3, 3, 2, 2, 0, 0, 1, 0, 0, 2, 2, 0, 3, 3, 0, 3, 0, 2, 0, 1, 1, 3, 0, 2, 0, 3, 0, 0, 3, 0, 3, 3, 1, 0, 1, 0, 3, 1, 3, 2, 0, 1, 0, 3, 0, 3, 0, 0, 2, 0, 0, 1, 0, 3, 3, 1, 0, 1, 3, 2, 0, 0, 0, 3, 2, 0, 0, 3, 3, 0, 2, 3, 3, 3, 3, 0, 0, 3, 0, 3, 0, 3, 3, 3, 3, 0, 0, 3, 2, 0, 3, 3, 0, 0, 0, 3, 3, 0, 0, 0, 3, 0, 0, 3, 0, 0, 2, 0, 0, 0, 3, 2, 3, 0, 2, 0, 0, 3, 2, 2, 3, 1, 0, 3, 3, 3, 1, 3, 3, 3, 0, 0, 3, 1, 0, 0, 0, 3, 0, 3, 2, 1, 0, 3, 0, 0, 0, 0, 3, 1, 0, 3, 0, 0, 0, 1, 3, 3, 3, 3, 1, 0, 3, 3, 0, 3, 1, 3, 3, 3, 3, 3, 0, 0, 3, 0, 3, 0, 0, 0, 3, 3, 1, 3, 3, 3, 2, 3, 0, 0, 0, 0, 2, 3, 2, 1, 0, 3, 3, 3, 0, 3, 3, 0, 2, 3, 0, 3, 3, 3, 2, 3, 1, 0, 3, 2, 0, 3, 0, 0, 2, 3, 1, 3, 1, 3, 0, 0, 3, 0, 0, 0, 1, 3, 0, 2, 3, 0, 3, 3, 0, 3, 3, 3, 3, 3, 0, 0, 3, 0, 1, 3, 1, 0, 0, 0, 1, 0, 2, 0, 3, 1, 3, 3, 0, 3, 3, 2, 3, 3, 0, 3, 0, 0, 3, 3, 1, 0, 2, 3, 1, 0, 0, 3, 0, 3, 0, 3, 3, 0, 0, 1, 0, 3, 3, 0, 2, 0, 0, 2, 2, 3, 1, 3, 3, 0, 0, 3, 3, 2, 3, 3, 2, 3, 2, 0, 2, 3, 3, 3, 3, 3, 3, 3, 3, 0, 3, 1, 0, 0, 0, 3, 1, 0, 0, 1, 0, 3, 2, 0, 3, 3, 1, 2, 3, 1, 2, 3, 0, 3, 0, 0, 3, 3, 3, 0, 0, 3, 3, 3, 3, 0, 1, 0, 0, 2, 2, 0, 0, 3, 3, 0, 0, 1, 3, 0, 3, 3, 0, 1, 1, 2, 0, 3, 0, 0, 0, 0, 0, 3, 0, 3, 0, 0, 0, 3, 2, 0, 0, 3, 2, 0, 0, 1, 3, 3, 1, 3, 2, 3, 3, 3, 0, 3, 3, 0, 1, 3, 3, 3, 0, 3, 3, 3, 3, 0, 3, 0, 0, 1, 3, 3, 3, 2, 0, 3, 0, 3, 2, 2, 3, 3, 1, 1, 3, 1, 3, 3, 0, 0, 1, 0, 3, 3, 3, 0, 0, 3, 0, 3, 0, 3, 0, 3, 3, 3, 0, 0, 0, 0, 3, 0, 0, 0, 0, 2, 0, 3, 3, 3, 0, 3, 3, 0, 3, 0, 3, 2, 1, 3, 0, 0, 3, 0, 0, 3, 3, 0, 3, 0, 2, 3, 3, 2, 0, 3, 2, 2, 3, 0, 3, 3, 3, 1, 0, 3, 3, 1, 3, 0, 3, 0, 3, 0, 3, 0, 3, 3, 3, 0, 0, 3, 3, 3, 0, 3, 0, 3, 1, 0, 2, 0, 0, 0, 0, 2, 3, 3, 3, 3, 3, 3, 0, 3, 1, 3, 1, 3, 2, 2, 3, 3, 1, 3, 3, 1, 3, 3, 0, 0, 3, 3, 0, 3, 3, 3, 3, 3, 0, 0, 3, 3, 3, 3, 0, 3, 3, 3, 0, 2, 3, 3, 3, 0, 2, 3, 3, 0, 0, 0, 2, 0, 3, 3, 3, 3, 1, 2, 3, 0, 3, 0, 0, 3, 3, 0, 0, 0, 3, 2, 3, 3, 1, 0, 3, 2, 0, 3, 0, 2, 0, 2, 3, 0, 3, 2, 0, 2, 0, 3, 0, 3, 3, 3, 0, 1, 0, 3, 0, 3, 3, 0, 0, 3, 3, 3, 3, 0, 3, 3, 0, 1, 0, 2, 3, 0, 3, 0, 3, 0, 1, 3, 0, 0, 3, 1, 0, 0, 3, 3, 0, 3, 0, 3, 3, 2, 3, 0, 0, 3, 2, 3, 1, 3, 3, 0, 0, 1, 0, 0, 0, 3, 3, 3, 0, 0, 0, 0, 3, 0, 0, 3, 3, 0, 3, 0, 3, 0, 3, 3, 3, 0, 0, 0, 0, 0, 0, 1, 2, 0, 1, 3, 1, 3, 0, 3, 3, 1, 0, 3, 3, 0, 0, 3, 0, 3, 1, 3, 0, 1, 0, 3, 0, 3, 3, 0, 0, 3, 0, 3, 2, 2, 0, 3, 3, 3, 2, 3, 3, 1, 3, 3, 0, 0, 0, 2, 0, 3, 0, 2, 0, 3, 3, 3, 1, 2, 0, 2, 3, 0, 2, 3, 0, 2, 3, 3, 3, 3, 3, 0, 3, 0, 0, 1, 2, 3, 0, 3, 0, 0, 1, 3, 0, 0, 3, 1, 0, 0, 0, 1, 0, 3, 0, 3, 0, 2, 0, 0, 0, 3, 1, 2, 1, 1, 2, 0, 0, 3, 3, 0, 0, 0, 0, 0, 1, 0, 0, 0, 0, 0, 0, 0, 0, 3, 3, 0, 0, 0, 3, 3, 0, 1, 0, 0, 3, 2, 3, 0, 1, 0, 3, 2, 0, 0, 2, 2, 0, 0, 0, 3, 3, 3, 3, 1, 0, 3, 0, 3, 3, 0, 0, 3, 0, 3, 2, 0, 0, 3, 0, 0, 1, 0, 0, 3, 3, 3, 3, 0, 1, 3, 3, 0, 2, 1, 3, 3, 3, 0, 0, 3, 3, 3, 2, 0, 3, 2, 2, 3, 2, 0, 0, 0, 3, 3, 0, 3, 2, 3, 3, 0, 3, 1, 3, 0, 1, 0, 0, 0, 3, 3, 1, 3, 0, 0, 1, 1, 3, 3, 3, 2, 0, 3, 3, 2, 2, 2, 3, 2, 0, 3, 3, 2, 3, 3, 0, 3, 3, 3, 2, 3, 3, 0, 0, 1, 2, 2, 3, 0, 3, 3, 3, 0, 3, 0, 3, 0, 3, 0, 3, 0, 3, 2, 0, 0, 0, 3, 1, 3, 0, 3, 3, 3, 3, 3, 2, 3, 1, 0, 0, 0, 0, 3, 3, 3, 0, 3, 0, 3, 0, 3, 0, 1, 2, 3, 3, 0, 3, 3, 3, 0, 1, 0, 3, 2, 3, 1, 0, 0, 3, 2, 3, 1, 3, 1, 2, 0, 0, 3, 0, 0, 3, 3, 1, 3, 0, 0, 3, 3, 0, 0, 0, 2, 3, 0, 2, 0, 0, 3, 3, 3, 3, 3, 0, 0, 1, 0, 0, 0, 0, 0, 0, 3, 1, 3, 0, 0, 3, 0, 3, 0, 0, 3, 1, 3, 1, 3, 3, 3, 0, 2, 1, 2, 1, 0, 1, 3, 2, 3, 2, 0, 0, 2, 0, 0, 0, 0, 0, 0, 3, 0, 1, 0, 0, 3, 3, 3, 0, 0, 0, 0, 3, 3, 1, 1, 0, 0, 0, 0, 1, 0, 0, 1, 3, 0, 2, 0, 0, 2, 0, 2, 0, 3, 3, 3, 3, 3, 3, 3, 0, 3, 3, 0, 3, 2, 0, 0, 0, 0, 0, 2, 1, 2, 3, 3, 3, 0, 3, 0, 3, 2, 1, 3, 3, 3, 0, 3, 0, 3, 1, 3, 3, 0, 0, 3, 2, 3, 0, 0, 3, 3, 3, 2, 0, 3, 2, 0, 0, 0, 1, 3, 0, 2, 3, 0, 0, 0, 0, 3, 1, 1, 0, 0, 3, 0, 0, 0, 2, 3, 1, 3, 3, 3, 0, 3, 0, 0, 0, 3, 3, 0, 0, 0, 0, 0, 0, 0, 3, 3, 1, 0, 2, 3, 3, 3, 0, 2, 3, 3, 1, 3, 3, 1, 0, 1, 1, 3, 1, 3, 3, 0, 0, 3, 3, 3, 3, 1, 3, 0, 3, 3, 3, 0, 1, 3, 3, 3, 0, 0, 3, 0, 3, 3, 1, 2, 0, 0, 1, 0, 0, 3, 2, 3, 0, 2, 0, 0, 0, 0, 0, 2, 2, 0, 3, 0, 0, 3, 3, 0, 3, 3, 2, 3, 3, 0, 0, 0, 2, 0, 3, 3, 0, 0, 3, 0, 3, 1, 0, 0, 0, 1, 3, 3, 0, 0, 2, 0, 0, 0, 3, 0, 3, 0, 3, 1, 2, 0, 3, 3, 0, 3, 0, 2, 3, 0, 0, 0, 3, 3, 2, 2, 0, 3, 0, 0, 3, 3, 1, 0, 0, 0, 3, 1, 0, 3, 0, 2, 0, 3, 1, 0, 3, 0, 3, 3, 0, 3, 0, 0, 0, 3, 3, 3, 3, 1, 3, 3, 3, 0, 3, 0, 1, 0, 3, 0, 3, 1, 1, 2, 0, 0, 0, 0, 0, 2, 1, 0, 2, 3, 3, 0, 2, 1, 3, 1, 0, 1, 3, 0, 3, 0, 0, 2, 3, 3, 0, 3, 2, 0, 0, 3, 0, 1, 3, 3, 3, 3, 0, 0, 1, 0, 3, 2, 2, 0, 3, 1, 0, 0, 0, 3, 0, 1, 3, 0, 0, 0, 0, 3, 2, 0, 0, 0, 0, 0, 3, 0, 0, 0, 0, 1, 0, 3, 3, 0, 3, 3, 3, 0, 3, 3, 3, 2, 1, 0, 0, 1, 3, 3, 1, 3, 1, 0, 0, 0, 3, 0, 0, 2, 2, 3, 2, 0, 0, 0, 1, 1, 3, 0, 0, 3, 2, 3, 3, 2, 2, 2, 0, 3, 3, 1, 3, 2, 3, 2, 0, 3, 3, 3, 0, 3, 3, 3, 0, 1, 3, 3, 3, 0, 0, 0, 3, 3, 2, 3, 0, 0, 3, 0, 0, 0, 1, 0, 1, 3, 0, 0, 3, 1, 3, 3, 2, 3, 2, 1, 1, 3, 0, 3, 1, 0, 3, 3, 0, 3, 0, 3, 3, 3, 1, 0, 1, 2, 0, 0, 0, 2, 0, 3, 0, 1, 3, 3, 1, 1, 3, 0, 0, 3, 0, 3, 3, 3, 3, 0, 2, 2, 3, 0, 0, 3, 3, 3, 2, 3, 3, 3, 3, 1, 3, 3, 1, 1, 0, 3, 0, 0, 0, 0, 3, 0, 0, 0, 3, 0, 0, 3, 0, 0, 0, 0, 3, 3, 2, 0, 1, 2, 1, 0, 3, 1, 0, 0, 3, 0, 3, 1, 3, 0, 0, 0, 0, 2, 1, 0, 0, 0, 0, 1, 3, 3, 0, 3, 1, 3, 3, 3, 0, 1, 3, 1, 0, 3, 2, 0, 1, 0, 2, 3, 0, 0, 1, 3, 2, 0, 0, 3, 3, 3, 0, 3, 3, 0, 2, 0, 0, 2, 3, 0, 1, 0, 0, 0, 2, 3, 3, 1, 3, 0, 0, 3, 2, 0, 1, 3, 0, 0, 3, 3, 3, 3, 3, 3, 0, 2, 0, 0, 3, 2, 0, 3, 0, 2, 2, 3, 0, 1, 3, 3, 0, 3, 2, 0, 3, 3, 3, 3, 3, 0, 0, 0, 0, 0, 0, 1, 0, 3, 3, 3, 0, 3, 3, 0, 0, 1, 0, 3, 2, 0, 1, 0, 1, 3, 0, 3, 0, 0, 2, 0, 0, 3, 3, 3, 0, 2, 2, 0, 0, 3, 1, 0, 0, 3, 3, 3, 3, 3, 0, 0, 0, 0, 0, 2, 0, 2, 3, 3, 0, 3, 3, 3, 3, 3, 0, 1, 2, 3, 3, 1, 0, 1, 3, 3, 0, 0, 1, 3, 3, 3, 1, 3, 3, 0, 3, 1, 3, 0, 3, 3, 3, 0, 3, 3, 3, 3, 3, 3, 2, 2, 3, 3, 3, 3, 2, 2, 0, 3, 3, 0, 3, 0, 3, 3, 0, 0, 3, 0, 3, 1, 0, 0, 0, 0, 2, 1, 3, 3, 2, 3, 2, 1, 0, 3, 3, 0, 3, 3, 0, 3, 3, 1, 3, 0, 2, 0, 3, 0, 0, 3, 2, 3, 0, 3, 0, 1, 3, 2, 0, 3, 3, 0, 3, 2, 0, 0, 3, 2, 1, 3, 0, 3, 0, 1, 3, 3, 3, 3, 3, 3, 2, 0, 0, 1, 2, 0, 0, 0, 0, 3, 2, 3, 3, 3, 2, 2, 0, 1, 0, 3, 0, 3, 0, 3, 0, 0, 3, 0, 0, 0, 3, 0, 0, 0, 3, 3, 1, 0, 1, 3, 1, 3, 0, 1, 0, 3, 3, 3, 2, 3, 3, 3, 0, 2, 0, 2, 0, 3, 3, 1, 3, 3, 0, 0, 3, 3, 0, 3, 2, 0, 0, 0, 0, 3, 0, 3, 3, 0, 3, 3, 2, 0, 0, 3, 2, 3, 2, 0, 1, 0, 0, 3, 3, 1, 3, 3, 0, 3, 3, 2, 0, 1, 2, 1, 3, 0, 0, 0, 1, 0, 1, 3, 2, 3, 0, 0, 0, 2, 2, 0, 3, 0, 3, 3, 0, 3, 0, 2, 2, 0, 0, 3, 0, 0, 0, 0, 0, 3, 1, 1, 1, 0, 0, 3, 0, 2, 3, 3, 3, 3, 0, 3, 0, 3, 3, 0, 2, 0, 2, 3, 1, 0, 3, 3, 0, 0, 2, 0, 3, 3, 0, 0, 3, 0, 3, 3, 3, 3, 0, 0, 3, 0, 1, 3, 0, 0, 0, 3, 3, 3, 0, 1, 3, 0, 0, 0, 2, 3, 0, 3, 0, 3, 1, 3, 3, 3, 2, 0, 1, 0, 2, 1, 2, 1, 0, 3, 3, 3, 3, 3, 3, 3, 0, 2, 3, 3, 0, 0, 1, 0, 3, 0, 2, 3, 3, 3, 0, 0, 1, 1, 3, 0, 0, 1, 3, 3, 0, 3, 2, 3, 0, 1, 3, 0, 3, 3, 0, 0, 0, 0, 1, 0, 0, 0, 0, 0, 2, 3, 3, 3, 3, 2, 2, 0, 0, 3, 1, 3, 1, 0, 3, 1, 0, 3, 3, 3, 0, 3, 3, 3, 0, 3, 0, 0, 0, 0, 2, 0, 2, 3, 0, 1, 1, 2, 0, 1, 1, 3, 0, 1, 0, 3, 3, 3, 0, 0, 0, 2, 3, 1, 3, 0, 1, 2, 0, 0, 3, 3, 3, 1, 0, 3, 0, 0, 3, 3, 0, 0, 1, 3, 3, 3, 0, 0, 0, 1, 0, 0, 0, 3, 3, 3, 3, 3, 3, 0, 1, 3, 3, 3, 0, 3, 3, 0, 1, 0, 2, 0, 0, 3, 3, 3, 0, 3, 2, 2, 0, 0, 0, 0, 1, 0, 3, 0, 3, 0, 0, 2, 3, 3, 0, 0, 2, 3, 3, 3, 3, 0, 0, 3, 0, 3, 0, 3, 3, 0, 0, 0, 0, 1, 0, 2, 3, 0, 0, 3, 0, 0, 1, 3, 3, 0, 0, 3, 0, 2, 0, 1, 0, 3, 0, 0, 3, 1, 0, 2, 3, 1, 0, 2, 3, 0, 3, 3, 0, 0, 3, 0, 3, 2, 2, 2, 1, 2, 2, 3, 3, 3, 3, 0, 1, 1, 1, 0, 0, 3, 0, 2, 3, 3, 0, 2, 3, 3, 0, 0, 0, 0, 2, 0, 3, 0, 0, 3, 2, 0, 2, 0, 3, 2, 0, 3, 0, 2, 0, 3, 1, 3, 0, 0, 3, 3, 1, 3, 3, 0, 2, 0, 3, 3, 1, 3, 0, 2, 0, 3, 0, 3, 3, 0, 0, 3, 3, 1, 3, 3, 0, 3, 0, 3, 3, 3, 3, 0, 0, 0, 3, 3, 0, 0, 0, 2, 3, 0, 3, 2, 0, 0, 0, 0, 0, 1, 3, 3, 0, 3, 0, 0, 0, 0, 3, 0, 0, 0, 1, 3, 2, 3, 1, 0, 3, 2, 0, 2, 0, 3, 3, 0, 3, 0, 0, 0, 3, 3, 0, 0, 2, 3, 0, 2, 0, 3, 0, 3, 3, 0, 2, 0, 0, 0, 3, 2, 3, 0, 3, 2, 3, 2, 3, 2, 1, 3, 0, 3, 0, 3, 1, 0, 1, 3, 0, 0, 3, 1, 0, 3, 0, 0, 3, 0, 3, 0, 3, 0, 0, 3, 3, 3, 2, 0, 0, 1, 0, 3, 0, 0, 2, 0, 3, 0, 0, 0, 0, 3, 3, 3, 2, 1, 0, 0, 0, 3, 0, 0, 3, 0, 3, 0, 3, 3, 2, 3, 0, 0, 2, 3, 0, 3, 0, 0, 2, 3, 3, 3, 0, 3, 3, 0, 3, 3, 0, 0, 0, 0, 3, 0, 2, 1, 3, 0, 0, 3, 0, 3, 1, 3, 0, 2, 2, 3, 0, 3, 3, 3, 0, 0, 3, 3, 2, 3, 0, 1, 3, 3, 0, 1, 1, 3, 0, 0, 3, 0, 3, 3, 3, 0, 0, 0, 0, 1, 0, 3, 2, 0, 3, 0, 3, 1, 3, 3, 0, 2, 3, 3, 1, 0, 3, 3, 2, 0, 0, 3, 0, 3, 2, 0, 0, 3, 0, 3, 1, 3, 2, 0, 3, 3, 0, 3, 3, 0, 1, 0, 3, 0, 0, 1, 2, 1, 3, 1, 0, 3, 0, 1, 2, 0, 0, 0, 2, 3, 1, 3, 3, 3, 3, 3, 0, 0, 0, 1, 1, 3, 0, 3, 3, 1, 0, 3, 3, 3, 0, 3, 3, 0, 0, 0, 3, 1, 0, 2, 0, 3, 0, 0, 0, 3, 0, 3, 0, 3, 0, 3, 0, 0, 3, 0, 3, 3, 3, 0, 0, 0, 3, 0, 0, 1, 0, 0, 3, 0, 0, 1, 0, 3, 3, 3, 3, 0, 1, 0, 0, 0, 3, 0, 0, 0, 2, 0, 0, 3, 3, 2, 3, 3, 3, 1, 3, 3, 2, 2, 0, 0, 2, 0, 0, 3, 0, 1, 2, 0, 0, 2, 0, 3, 3, 0, 0, 1, 2, 0, 0, 0, 3, 0, 3, 0, 0, 0, 3, 0, 0, 2, 0, 2, 3, 3, 0, 3, 3, 0, 3, 0, 3, 1, 0, 1, 3, 3, 0, 0, 3, 0, 3, 0, 3, 2, 3, 3, 0, 3, 0, 3, 0, 3, 3, 1, 0, 0, 0, 3, 0, 0, 0, 0, 3, 3, 3, 0, 0, 0, 0, 1, 3, 3, 3, 2, 0, 0, 2, 1, 0, 0, 0, 1, 3, 3, 0, 3, 3, 0, 3, 3, 3, 0, 3, 3, 0, 0, 3, 3, 2, 0, 2, 3, 0, 1, 3, 3, 0, 3, 0, 0, 1, 3, 0, 3, 1, 0, 2, 3, 3, 3, 0, 3, 0, 3, 0, 3, 0, 0, 2, 0, 3, 0, 3, 1, 2, 0, 1, 0, 2, 0, 3, 3, 0, 3, 0, 2, 3, 3, 1, 0, 3, 1, 0, 0, 0, 3, 0, 2, 3, 3, 1, 3, 0, 0, 0, 3, 3, 2, 1, 3, 0, 0, 1, 3, 0, 0, 2, 3, 2, 3, 2, 3, 3, 2, 3, 0, 3, 2, 0, 1, 0, 3, 0, 2, 3, 3, 2, 3, 2, 3, 1, 0, 3, 0, 2, 3, 0, 0, 0, 3, 2, 0, 3, 0, 0, 3, 3, 0, 3, 3, 2, 3, 3, 3, 0, 1, 0, 1, 0, 0, 3, 3, 3, 0, 0, 2, 3, 3, 0, 1, 0, 3, 2, 3, 0, 3, 2, 1, 3, 3, 0, 3, 3, 0, 1, 0, 1, 0, 3, 3, 3, 0, 0, 0, 0, 1, 0, 0, 3, 0, 0, 3, 0, 3, 3, 3, 2, 0, 3, 3, 3, 0, 2, 0, 2, 3, 0, 1, 0, 0, 3, 0, 1, 0, 1, 0, 0, 0, 3, 0, 1, 1, 3, 1, 3, 3, 1, 0, 3, 1, 3, 2, 3, 0, 0, 3, 0, 3, 0, 0, 0, 0, 3, 2, 1, 1, 1, 3, 3, 3, 3, 3, 3, 0, 0, 3, 0, 2, 3, 0, 0, 0, 3, 0, 3, 2, 0, 3, 3, 3, 0, 3, 0, 3, 3, 3, 3, 2, 3, 0, 3, 3, 3, 0, 3, 3, 3, 3, 2, 0, 3, 3, 2, 0, 3, 0, 3, 0, 3, 1, 0, 0, 3, 1, 0, 2, 3, 3, 3, 3, 0, 0, 3, 0, 1, 2, 0, 3, 0, 3, 0, 3, 1, 0, 0, 3, 1, 3, 0, 3, 3, 0, 3, 3, 3, 0, 1, 0, 3, 0, 0, 0, 0, 3, 0, 2, 3, 3, 1, 3, 3, 0, 3, 3, 0, 3, 0, 3, 2, 3, 0, 2, 3, 3, 0, 0, 2, 0, 0, 3, 0, 0, 3, 3, 2, 0, 0, 1, 3, 3, 0, 0, 3, 0, 0, 0, 3, 3, 1, 3, 0, 3, 3, 0, 3, 2, 3, 0, 0, 0, 0, 0, 0, 0, 2, 2, 0, 1, 3, 1, 3, 2, 3, 0, 1, 3, 1, 0, 2, 1, 3, 1, 0, 3, 3, 2, 3, 0, 3, 3, 3, 3, 3, 0, 0, 0, 0, 0, 3, 1, 2, 3, 0, 2, 0, 3, 0, 3, 3, 3, 0, 3, 3, 1, 0, 3, 2, 0, 0, 3, 3, 2, 3, 3, 0, 0, 2, 0, 2, 0, 0, 3, 0, 3, 3, 3, 2, 0, 0, 3, 3, 1, 3, 3, 0, 3, 0, 0, 3, 2, 3, 2, 3, 2, 0, 3, 0, 0, 0, 0, 3, 0, 3, 3, 0, 0, 3, 0, 0, 3, 3, 3, 3, 3, 2, 3, 0, 0, 3, 0, 1, 0, 3, 2, 2, 0, 3, 0, 2, 1, 2, 1, 3, 2, 0, 0, 3, 3, 0, 3, 3, 0, 3, 0, 3, 0, 0, 0, 3, 0, 1, 3, 3, 0, 3, 3, 3, 3, 3, 2, 2, 0, 3, 3, 0, 1, 3, 0, 3, 3, 3, 3, 2, 3, 0, 0, 3, 0, 0, 0, 2, 3, 0, 2, 0, 1, 1, 3, 0, 1, 3, 2, 1, 0, 0, 0, 0, 3, 3, 3, 3, 0, 3, 0, 0, 1, 3, 3, 2, 0, 3, 0, 0, 3, 0, 3, 3, 1, 1, 3, 3, 2, 2, 3, 0, 3, 3, 3, 0, 3, 0, 1, 0, 1, 1, 0, 2, 2, 0, 2, 0, 3, 3, 3, 3, 0, 0, 0, 3, 3, 1, 3, 3, 0, 0, 3, 3, 0, 0, 3, 0, 0, 1, 3, 1, 3, 0, 3, 3, 2, 3, 3, 3, 2, 0, 0, 3, 3, 1, 2, 0, 3, 0, 0, 3, 0, 0, 1, 0, 0, 3, 0, 0, 0, 2, 2, 0, 1, 0, 0, 3, 0, 3, 3, 0, 3, 0, 3, 3, 2, 0, 3, 1, 0, 3, 3, 3, 2, 0, 3, 3, 1, 3, 0, 3, 1, 3, 3, 1, 0, 0, 3, 0, 2, 3, 0, 0, 0, 3, 2, 0, 3, 0, 0, 3, 2, 2, 0, 3, 3, 1, 3, 0, 0, 2, 3, 0, 3, 3, 3, 1, 0, 0, 1, 2, 1, 3, 1, 0, 3, 2, 3, 3, 2, 0, 2, 0, 2, 1, 3, 3, 0, 0, 1, 0, 1, 3, 3, 3, 0, 2, 0, 1, 1, 3, 3, 3, 3, 0, 3, 0, 0, 0, 3, 0, 0, 0, 3, 3, 3, 3, 3, 0, 3, 0, 3, 2, 2, 0, 2, 0, 1, 0, 3, 3, 3, 3, 3, 3, 3, 0, 3, 3, 0, 2, 0, 3, 2, 3, 3, 0, 3, 3, 3, 1, 3, 0, 3, 0, 3, 3, 1, 0, 0, 0, 0, 2, 3, 0, 0, 3, 3, 0, 1, 3, 3, 3, 3, 1, 2, 0, 0, 1, 3, 0, 1, 3, 0, 0, 0, 2, 2, 0, 2, 3, 0, 3, 3, 3, 3, 3, 3, 0, 0, 3, 0, 0, 3, 3, 0, 0, 0, 3, 2, 1, 3, 0, 2, 3, 3, 3, 3, 3, 1, 0, 0, 3, 3, 0, 3, 3, 3, 3, 3, 3, 0, 3, 3, 3, 3, 3, 1, 0, 0, 3, 2, 3, 3, 0, 1, 3, 0, 2, 3, 0, 2, 3, 3, 1, 3, 0, 3, 0, 0, 1, 0, 2, 0, 0, 0, 1, 0, 3, 0, 0, 0, 0, 3, 3, 3, 0, 3, 3, 0, 0, 3, 3, 3, 3, 1, 1, 3, 2, 3, 3, 2, 2, 0, 3, 0, 3, 3, 3, 0, 0, 0, 0, 0, 3, 0, 3, 3, 0, 0, 0, 0, 0, 3, 0, 0, 2, 0, 0, 3, 0, 0, 0, 0, 0, 0, 3, 3, 2, 3, 0, 2, 0, 3, 3, 3, 3, 0, 0, 0, 3, 0, 0, 3, 0, 0, 3, 0, 2, 0, 3, 3, 0, 3, 3, 0, 3, 0, 2, 0, 1, 3, 3, 0, 1, 2, 3, 3, 3, 0, 3, 3, 0, 0, 0, 0, 2, 0, 0, 3, 3, 0, 3, 0, 0, 3, 3, 0, 2, 0, 3, 0, 0, 0, 1, 0, 3, 3, 3, 0, 3, 0, 2, 3, 3, 3, 0, 1, 3, 0, 2, 3, 2, 3, 3, 2, 3, 3, 2, 3, 0, 3, 2, 3, 0, 3, 3, 0, 0, 3, 3, 3, 0, 1, 3, 0, 3, 0, 3, 3, 0, 0, 1, 2, 3, 0, 3, 2, 3, 3, 2, 3, 0, 1, 1, 1, 2, 3, 3, 3, 0, 3, 0, 0, 0, 3, 3, 2, 0, 0, 0, 0, 0, 3, 3, 2, 0, 0, 2, 3, 2, 0, 0, 3, 3, 3, 0, 3, 1, 0, 0, 0, 1, 0, 0, 3, 0, 0, 0, 0, 0, 2, 3, 0, 3, 0, 3, 0, 0, 1, 1, 0, 0, 0, 0, 2, 2, 2, 1, 0, 1, 0, 3, 2, 3, 0, 3, 2, 3, 0, 3, 0, 0, 1, 1, 3, 0, 3, 3, 0, 0, 2, 0, 3, 3, 2, 0, 0, 0, 3, 1, 2, 0, 0, 3, 3, 2, 0, 0, 0, 0, 0, 3, 0, 0, 1, 0, 3, 1, 0, 1, 2, 3, 0, 3, 0, 3, 3, 3, 0, 0, 2, 3, 1, 0, 3, 0, 1, 0, 3, 0, 3, 3, 1, 3, 2, 2, 3, 3, 3, 0, 1, 3, 3, 0, 3, 0, 1, 0, 3, 3, 3, 3, 0, 2, 3, 0, 2, 2, 0, 0, 3, 3, 3, 3, 2, 0, 0, 3, 3, 0, 3, 0, 0, 2, 0, 2, 0, 0, 2, 3, 3, 0, 3, 0, 0, 0, 3, 1, 2, 1, 3, 3, 0, 1, 3, 2, 3, 3, 3, 0, 1, 2, 0, 1, 3, 3, 3, 0, 0, 2, 3, 3, 3, 2, 0, 3, 0, 3, 3, 1, 0, 3, 0, 1, 3, 0, 3, 3, 0, 2, 3, 3, 0, 1, 0, 3, 2, 0, 0, 3, 1, 0, 3, 1, 0, 1, 0, 0, 3, 3, 3, 3, 0, 0, 1, 1, 0, 0, 2, 3, 1, 3, 1, 0, 3, 2, 0, 0, 3, 3, 3, 0, 0, 3, 3, 2, 3, 3, 0, 3, 1, 0, 3, 3, 2, 2, 1, 3, 3, 3, 0, 3, 0, 0, 1, 1, 0, 3, 3, 3, 0, 3, 2, 3, 0, 2, 0, 3, 0, 3, 0, 0, 0, 3, 0, 3, 3, 3, 3, 3, 0, 0, 0, 1, 0, 3, 0, 1, 3, 0, 0, 2, 0, 3, 0, 0, 0, 0, 1, 3, 3, 0, 1, 0, 3, 1, 3, 0, 0, 0, 0, 0, 1, 3, 2, 0, 3, 3, 3, 0, 3, 2, 3, 0, 2, 2, 3, 3, 3, 2, 0, 0, 0, 3, 0, 2, 3, 0, 3, 1, 3, 3, 0, 3, 0, 1, 3, 0, 0, 3, 0, 0, 3, 0, 0, 3, 1, 2, 0, 0, 3, 0, 0, 0, 3, 0, 2, 3, 0, 0, 0, 3, 0, 3, 0, 3, 3, 0, 1, 3, 3, 1, 0, 3, 0, 0, 3, 0, 3, 0, 0, 3, 1, 3, 3, 3, 1, 1, 0, 0, 1, 0, 3, 0, 3, 0, 0, 2, 0, 0, 3, 3, 1, 0, 2, 0, 0, 1, 1, 0, 3, 3, 0, 3, 3, 1, 0, 3, 3, 0, 0, 3, 3, 3, 3, 0, 0, 0, 0, 2, 3, 0, 0, 0, 2, 3, 3, 3, 0, 3, 3, 0, 0, 0, 3, 1, 0, 3, 0, 2, 3, 0, 3, 0, 3, 3, 3, 1, 0, 3, 3, 0, 3, 0, 2, 0, 3, 0, 2, 0, 0, 0, 0, 3, 3, 3, 3, 0, 3, 0, 0, 3, 0, 1, 0, 3, 0, 1, 2, 3, 3, 1, 0, 3, 0, 0, 1, 3, 0, 0, 3, 3, 2, 3, 0, 1, 2, 2, 3, 3, 0, 2, 3, 2, 3, 3, 3, 0, 0, 0, 0, 2, 3, 0, 0, 3, 0, 2, 0, 3, 0, 3, 3, 0, 1, 2, 2, 0, 3, 0, 3, 0, 0, 3, 3, 2, 1, 3, 0, 2, 3, 3, 3, 3, 0, 3, 3, 2, 0, 3, 0, 3, 3, 3, 3, 3, 0, 2, 3, 0, 3, 0, 0, 0, 3, 2, 0, 0, 2, 3, 0, 0, 3, 0, 0, 3, 3, 3, 3, 3, 3, 3, 0, 3, 2, 3, 0, 3, 0, 3, 0, 0, 2, 2, 3, 0, 2, 1, 3, 0, 0, 0, 1, 2, 0, 1, 0, 0, 3, 0, 0, 0, 0, 1, 3, 3, 0, 2, 3, 0, 3, 3, 3, 3, 3, 2, 0, 2, 3, 0, 0, 3, 1, 0, 1, 0, 0, 0, 0, 0, 0, 1, 3, 3, 0, 3, 1, 0, 3, 3, 3, 3, 3, 0, 2, 3, 0, 0, 3, 2, 3, 3, 2, 3, 3, 2, 2, 3, 3, 0, 3, 3, 2, 0, 0, 0, 0, 3, 2, 1, 0, 1, 0, 3, 0, 0, 0, 0, 3, 3, 0, 3, 0, 3, 1, 1, 1, 3, 3, 3, 1, 1, 3, 3, 0, 0, 2, 3, 0, 0, 0, 3, 0, 3, 3, 0, 1, 2, 0, 3, 2, 0, 0, 0, 0, 1, 0, 0, 0, 3, 1, 2, 0, 2, 2, 0, 0, 3, 2, 3, 3, 0, 1, 2, 3, 0, 2, 0, 3, 1, 0, 2, 3, 3, 2, 3, 0, 0, 3, 0, 2, 0, 0, 0, 3, 3, 0, 3, 1, 3, 0, 0, 0, 0, 2, 0, 0, 3, 2, 3, 1, 3, 2, 0, 0, 0, 0, 0, 0, 3, 0, 3, 0, 3, 0, 0, 1, 3, 0, 2, 0, 3, 3, 3, 0, 3, 3, 1, 0, 0, 0, 3, 3, 0, 0, 2, 0, 3, 3, 0, 0, 0, 3, 0, 3, 3, 3, 1, 2, 2, 3, 0, 1, 1, 0, 3, 3, 1, 3, 0, 1, 0, 0, 1, 3, 3, 3, 3, 3, 0, 3, 0, 0, 0, 0, 0, 2, 3, 0, 3, 3, 3, 0, 0, 3, 3, 3, 0, 2, 3, 3, 0, 1, 3, 1, 3, 3, 3, 2, 3, 0, 0, 0, 0, 2, 0, 0, 3, 0, 0, 0, 0, 0, 3, 3, 0, 3, 0, 1, 0, 3, 2, 3, 0, 3, 0, 0, 3, 0, 0, 2, 0, 0, 3, 3, 0, 3, 3, 2, 3, 0, 3, 2, 1, 0, 0, 3, 0, 1, 3, 1, 3, 0, 3, 3, 2, 3, 0, 3, 1, 3, 0, 0, 0, 0, 3, 0, 2, 1, 3, 0, 2, 0, 2, 0, 0, 1, 0, 1, 3, 0, 0, 0, 0, 3, 3, 1, 0, 0, 3, 3, 0, 0, 3, 3, 0, 0, 0, 2, 3, 3, 3, 2, 3, 1, 3, 3, 3, 3, 3, 1, 0, 3, 3, 0, 0, 3, 0, 3, 0, 0, 3, 0, 0, 0, 0, 2, 0, 2, 0, 0, 0, 3, 0, 0, 0, 3, 0, 3, 0, 0, 2, 3, 2, 2, 0, 0, 3, 3, 0, 3, 3, 3, 0, 0, 0, 2, 3, 2, 3, 3, 2, 3, 0, 2, 3, 2, 1, 0, 0, 0, 0, 0, 0, 1, 0, 0, 2, 3, 0, 3, 2, 0, 0, 0, 0, 0, 3, 0, 2, 0, 3, 0, 1, 0, 2, 0, 0, 3, 3, 2, 0, 0, 1, 3, 0, 2, 2, 3, 0, 3, 0, 3, 3, 3, 3, 0, 0, 0, 0, 0, 1, 3, 0, 0, 0, 0, 3, 0, 0, 0, 0, 0, 3, 2, 3, 0, 0, 3, 0, 0, 2, 1, 1, 3, 2, 0, 3, 3, 1, 3, 3, 0, 2, 3, 3, 3, 2, 3, 3, 1, 0, 0, 3, 3, 3, 1, 1, 3, 3, 3, 0, 3, 0, 0, 2, 1, 3, 2, 0, 3, 3, 3, 3, 0, 3, 2, 1, 0, 3, 3, 0, 3, 0, 1, 2, 0, 0, 3, 2, 3, 3, 2, 3, 1, 3, 2, 3, 0, 3, 3, 0, 3, 1, 2, 0, 0, 1, 3, 0, 3, 2, 3, 3, 3, 0, 0, 2, 3, 3, 3, 3, 3, 0, 0, 0, 3, 0, 3, 0, 3, 0, 0, 3, 0, 0, 3, 3, 3, 3, 2, 3, 1, 3, 0, 1, 3, 2, 0, 3, 0, 0, 3, 0, 3, 0, 1, 1, 3, 3, 3, 3, 0, 0, 3, 0, 1, 0, 2, 0, 2, 3, 1, 3, 0, 0, 3, 3, 3, 3, 2, 2, 2, 1, 2, 3, 0, 0, 0, 3, 2, 3, 3, 1, 3, 1, 3, 1, 2, 0, 3, 0, 1, 1, 3, 0, 0, 0, 3, 3, 0, 0, 1, 3, 3, 3, 3, 3, 2, 3, 0, 3, 3, 3, 3, 3, 2, 0, 0, 3, 1, 2, 3, 3, 0, 3, 0, 0, 1, 0, 0, 0, 0, 0, 3, 0, 3, 2, 2, 0, 0, 3, 1, 0, 3, 2, 3, 3, 2, 0, 0, 3, 0, 0, 3, 0, 0, 0, 0, 0, 0, 0, 3, 0, 0, 0, 2, 2, 3, 3, 3, 0, 1, 1, 3, 2, 0, 0, 0, 0, 1, 1, 0, 1, 3, 3, 0, 0, 0, 3, 2, 0, 2, 3, 0, 2, 3, 3, 0, 0, 0, 2, 3, 1, 3, 0, 0, 3, 3, 3, 2, 3, 0, 3, 1, 3, 0, 3, 0, 0, 1, 3, 0, 2, 3, 1, 3, 3, 3, 0, 0, 1, 1, 3, 3, 3, 3, 0, 1, 3, 0, 1, 1, 0, 1, 0, 3, 0, 3, 1, 3, 3, 0, 2, 2, 3, 3, 2, 0, 2, 3, 3, 0, 1, 3, 0, 3, 3, 1, 3, 0, 3, 3, 3, 0, 1, 3, 0, 0, 3, 3, 3, 3, 3, 0, 3, 0, 2, 2, 0, 3, 2, 3, 2, 0, 3, 2, 1, 3, 0, 0, 3, 0, 3, 0, 3, 0, 1, 3, 2, 0, 1, 3, 0, 0, 3, 0, 0, 0, 2, 1, 3, 2, 3, 2, 3, 3, 3, 0, 0, 3, 3, 0, 0, 3, 0, 3, 0, 3, 1, 0, 1, 3, 3, 2, 3, 1, 0, 0, 0, 3, 2, 3, 1, 2, 2, 2, 0, 3, 0, 0, 0, 3, 0, 3, 3, 0, 0, 1, 3, 0, 0, 0, 0, 2, 3, 3, 3, 2, 1, 3, 0, 0, 3, 3, 3, 0, 3, 2, 3, 0, 0, 0, 0, 0, 2, 0, 3, 0, 2, 3, 1, 0, 0, 0, 3, 0, 2, 1, 0, 0, 3, 0, 1, 0, 2, 0, 0, 0, 0, 3, 3, 3, 0, 0, 0, 0, 2, 3, 1, 3, 0, 0, 0, 0, 3, 3, 3, 3, 3, 2, 3, 3, 0, 0, 2, 0, 0, 3, 0, 0, 0, 2, 1, 0, 3, 0, 0, 0, 0, 3, 1, 0, 0, 0, 0, 3, 0, 1, 3, 0, 3, 0, 0, 3, 0, 3, 1, 1, 3, 0, 1, 0, 3, 3, 0, 1, 0, 2, 2, 2, 0, 1, 1, 3, 3, 3, 0, 3, 0, 2, 3, 3, 3, 3, 3, 2, 3, 0, 0, 0, 3, 3, 3, 1, 3, 0, 0, 0, 3, 3, 3, 0, 2, 0, 2, 3, 3, 0, 1, 3, 0, 0, 0, 0, 3, 0, 0, 0, 0, 3, 1, 3, 3, 3, 0, 0, 2, 3, 3, 0, 0, 0, 0, 3, 3, 0, 3, 3, 3, 3, 2, 3, 0, 0, 1, 1, 2, 3, 0, 0, 1, 0, 0, 0, 0, 3, 0, 0, 2, 0, 3, 3, 0, 3, 3, 3, 0, 1, 0, 0, 2, 3, 3, 1, 3, 0, 0, 0, 3, 3, 0, 3, 3, 3, 3, 3, 3, 1, 0, 0, 3, 3, 0, 0, 0, 3, 3, 3, 3, 0, 0, 3, 3, 3, 3, 2, 3, 0, 0, 2, 0, 3, 3, 3, 1, 1, 0, 3, 3, 3, 3, 3, 0, 0, 3, 3, 2, 0, 0, 0, 0, 0, 0, 0, 3, 0, 3, 0, 0, 1, 3, 0, 1, 3, 0, 3, 3, 2, 3, 1, 3, 3, 3, 0, 3, 2, 3, 3, 0, 0, 3, 3, 0, 3, 2, 3, 3, 2, 3, 0, 3, 3, 3, 3, 3, 0, 0, 1, 3, 0, 3, 2, 0, 0, 2, 3, 1, 1, 0, 3, 3, 3, 3, 0, 3, 3, 3, 3, 0, 0, 2, 3, 3, 0, 0, 0, 2, 3, 3, 0, 3, 0, 3, 3, 3, 0, 3, 1, 1, 3, 0, 3, 0, 0, 3, 2, 3, 3, 0, 3, 0, 3, 3, 0, 3, 3, 3, 3, 0, 3, 0, 2, 0, 0, 0, 3, 0, 0, 0, 3, 3, 0, 3, 0, 2, 3, 3, 0, 0, 3, 0, 3, 1, 0, 0, 2, 0, 0, 3, 1, 3, 3, 1, 3, 1, 2, 0, 3, 3, 0, 2, 2, 3, 0, 3, 1, 0, 0, 0, 3, 3, 3, 3, 3, 0, 0, 3, 3, 0, 3, 3, 1, 0, 3, 0, 3, 1, 3, 1, 3, 3, 0, 3, 3, 0, 2, 0, 2, 2, 3, 2, 3, 0, 3, 3, 1, 3, 2, 0, 0, 3, 0, 0, 2, 3, 3, 3, 3, 2, 0, 2, 2, 3, 0, 0, 3, 0, 2, 3, 3, 3, 0, 3, 3, 3, 1, 3, 0, 2, 3, 3, 3, 0, 0, 0, 3, 0, 0, 3, 0, 3, 1, 0, 1, 3, 0, 3, 2, 0, 3, 0, 3, 2, 1, 0, 3, 2, 3, 1, 3, 0, 3, 3, 1, 3, 0, 3, 3, 0, 2, 3, 0, 3, 3, 3, 0, 0, 3, 3, 0, 3, 3, 0, 3, 3, 0, 0, 3, 3, 3, 3, 0, 0, 0, 3, 3, 0, 0, 1, 3, 0, 3, 3, 0, 2, 2, 0, 0, 3, 3, 1, 2, 3, 0, 0, 1, 3, 0, 1, 3, 2, 3, 2, 3, 3, 0, 3, 1, 0, 3, 1, 3, 0, 3, 0, 1, 3, 3, 3, 0, 0, 3, 3, 0, 2, 2, 3, 3, 3, 0, 1, 2, 0, 0, 0, 2, 0, 2, 0, 0, 3, 3, 3, 0, 0, 3, 3, 2, 3, 3, 3, 0, 3, 0, 3, 0, 2, 0, 0, 3, 0, 3, 0, 3, 3, 0, 0, 2, 1, 0, 0, 3, 3, 2, 3, 0, 3, 0, 3, 3, 1, 2, 1, 3, 3, 2, 2, 0, 1, 1, 3, 2, 3, 0, 3, 1, 1, 3, 0, 0, 0, 3, 0, 2, 3, 1, 1, 3, 3, 3, 3, 1, 0, 3, 0, 0, 0, 0, 3, 0, 3, 3, 3, 0, 3, 0, 0, 3, 3, 3, 2, 0, 1, 0, 3, 0, 1, 3, 3, 0, 2, 0, 3, 3, 3, 3, 0, 0, 3, 0, 1, 3, 3, 3, 0, 0, 1, 0, 3, 1, 1, 0, 0, 0, 0, 3, 2, 3, 3, 3, 3, 0, 0, 3, 0, 3, 0, 3, 0, 0, 3, 0, 0, 0, 3, 3, 1, 3, 0, 0, 3, 3, 0, 3, 3, 3, 3, 3, 1, 3, 2, 0, 3, 1, 3, 3, 3, 0, 0, 3, 3, 0, 0, 3, 3, 3, 0, 3, 0, 2, 1, 3, 0, 2, 3, 0, 2, 3, 0, 3, 0, 1, 1, 1, 3, 3, 3, 1, 3, 3, 0, 2, 0, 2, 3, 3, 3, 2, 3, 0, 0, 1, 0, 3, 0, 2, 3, 3, 0, 2, 1, 0, 1, 0, 3, 3, 1, 2, 2, 2, 2, 0, 2, 0, 3, 0, 2, 0, 3, 0, 3, 0, 2, 1, 3, 3, 3, 3, 3, 0, 3, 0, 0, 3, 3, 3, 3, 2, 3, 1, 0, 3, 0, 1, 3, 3, 3, 0, 0, 0, 3, 1, 1, 0, 3, 2, 3, 2, 0, 3, 1, 1, 0, 0, 0, 0, 0, 3, 3, 3, 0, 0, 3, 3, 3, 3, 0, 2, 3, 1, 0, 2, 3, 3, 0, 3, 3, 0, 3, 2, 3, 1, 3, 3, 3, 0, 0, 3, 3, 3, 3, 3, 3, 2, 2, 1, 0, 3, 3, 2, 1, 3, 3, 0, 3, 0, 0, 3, 2, 3, 1, 2, 3, 3, 3, 3, 2, 3, 0, 0, 3, 3, 0, 3, 2, 2, 3, 0, 3, 0, 0, 3, 0, 3, 3, 0, 0, 0, 0, 3, 0, 0, 0, 0, 0, 1, 3, 1, 3, 1, 1, 0, 0, 0, 2, 0, 3, 2, 0, 0, 3, 3, 0, 1, 0, 3, 2, 1, 0, 3, 0, 3, 3, 0, 3, 0, 1, 3, 0, 0, 3, 1, 1, 3, 0, 1, 3, 3, 1, 2, 3, 3, 1, 0, 0, 1, 0, 3, 3, 0, 0, 0, 0, 3, 0, 1, 3, 1, 3, 3, 1, 3, 3, 1, 3, 0, 0, 3, 1, 3, 0, 3, 3, 1, 0, 3, 0, 3, 2, 3, 3, 3, 0, 3, 2, 1, 3, 0, 2, 1, 3, 3, 1, 0, 0, 0, 3, 0, 3, 0, 3, 0, 3, 3, 0, 0, 0, 3, 3, 2, 3, 1, 3, 3, 0, 1, 3, 3, 2, 3, 0, 0, 1, 3, 3, 0, 3, 3, 2, 0, 3, 0, 0, 3, 1, 1, 0, 0, 3, 2, 3, 0, 1, 0, 3, 0, 0, 3, 3, 0, 0, 3, 3, 0, 2, 3, 2, 0, 2, 2, 3, 0, 3, 0, 3, 0, 3, 0, 3, 2, 0, 0, 3, 3, 3, 3, 1, 3, 3, 0, 2, 3, 3, 0, 0, 3, 0, 3, 0, 0, 0, 3, 1, 3, 2, 2, 0, 2, 1, 1, 3, 3, 3, 0, 1, 2, 0, 2, 0, 1, 3, 0, 3, 0, 0, 3, 3, 0, 3, 2, 0, 0, 0, 3, 2, 3, 1, 0, 3, 0, 3, 2, 0, 3, 2, 0, 3, 0, 3, 0, 3, 3, 3, 3, 2, 0, 3, 3, 3, 3, 0, 1, 0, 0, 3, 2, 1, 1, 3, 3, 0, 1, 3, 0, 2, 0, 0, 1, 0, 3, 1, 0, 0, 1, 2, 2, 3, 3, 0, 0, 0, 2, 0, 3, 3, 1, 0, 3, 3, 0, 0, 1, 3, 3, 1, 2, 1, 3, 3, 0, 0, 0, 3, 3, 0, 1, 3, 1, 3, 3, 3, 0, 1, 0, 3, 0, 2, 3, 2, 0, 0, 2, 0, 1, 1, 0, 0, 0, 2, 0, 3, 3, 3, 0, 3, 0, 3, 0, 1, 3, 0, 3, 0, 1, 0, 2, 0, 0, 0, 3, 0, 0, 0, 3, 2, 0, 3, 3, 1, 1, 0, 2, 3, 0, 0, 1, 3, 0, 3, 0, 0, 3, 3, 3, 1, 0, 0, 0, 0, 3, 1, 3, 3, 3, 2, 0, 0, 3, 3, 0, 3, 3, 0, 0, 0, 3, 0, 3, 3, 3, 0, 0, 0, 0, 3, 3, 0, 3, 2, 0, 3, 3, 0, 3, 0, 3, 0, 0, 2, 0, 3, 3, 0, 3, 3, 2, 1, 3, 0, 2, 0, 3, 3, 3, 0, 0, 1, 0, 2, 0, 0, 3, 0, 0, 3, 3, 3, 3, 3, 3, 0, 0, 3, 0, 0, 0, 3, 1, 3, 3, 1, 3, 3, 3, 0, 2, 2, 3, 3, 3, 0, 0, 3, 2, 0, 3, 2, 1, 0, 0, 3, 3, 3, 2, 3, 3, 1, 3, 2, 0, 0, 0, 3, 0, 0, 0, 0, 1, 1, 1, 2, 2, 3, 0, 3, 0, 0, 3, 0, 0, 0, 0, 3, 3, 3, 0, 3, 2, 3, 3, 3, 2, 3, 3, 3, 2, 0, 3, 3, 3, 3, 3, 2, 2, 3, 2, 1, 0, 3, 3, 3, 0, 3, 0, 3, 3, 1, 0, 3, 3, 1, 3, 0, 3, 3, 1, 0, 3, 0, 3, 3, 3, 3, 2, 3, 0, 0, 3, 2, 0, 3, 2, 3, 2, 3, 0, 0, 3, 3, 3, 3, 0, 3, 3, 0, 3, 2, 0, 2, 1, 0, 3, 3, 0, 0, 0, 1, 0, 0, 0, 3, 2, 3, 1, 1, 1, 0, 3, 3, 3, 3, 0, 3, 3, 3, 1, 0, 3, 3, 0, 0, 1, 3, 0, 3, 1, 1, 0, 0, 0, 3, 3, 1, 3, 0, 3, 1, 2, 3, 0, 0, 3, 3, 3, 2, 3, 3, 0, 3, 3, 3, 3, 1, 0, 3, 0, 3, 0, 3, 0, 1, 0, 0, 2, 0, 3, 3, 0, 0, 0, 3, 3, 0, 3, 3, 3, 1, 0, 0, 0, 3, 3, 3, 0, 0, 0, 0, 2, 2, 3, 3, 2, 1, 3, 3, 1, 3, 0, 3, 3, 2, 1, 3, 1, 3, 0, 2, 3, 3, 0, 2, 2, 3, 0, 3, 0, 0, 0, 1, 3, 0, 3, 0, 3, 0, 2, 0, 3, 1, 0, 3, 2, 3, 3, 1, 0, 3, 3, 1, 2, 3, 3, 2, 3, 3, 2, 0, 3, 0, 3, 2, 2, 1, 3, 3, 0, 0, 3, 0, 0, 1, 0, 0, 1, 3, 3, 3, 0, 3, 0, 3, 0, 3, 0, 3, 1, 0, 1, 2, 3, 3, 3, 2, 0, 3, 3, 0, 3, 3, 3, 2, 3, 0, 3, 1, 2, 2, 0, 0, 3, 3, 0, 3, 3, 3, 0, 0, 2, 3, 3, 3, 3, 3, 3, 0, 3, 3, 3, 3, 3, 1, 0, 3, 0, 3, 3, 0, 3, 3, 0, 3, 3, 1, 3, 3, 3, 3, 3, 1, 3, 0, 3, 0, 1, 0, 3, 0, 0, 0, 3, 0, 0, 0, 3, 3, 3, 3, 3, 3, 3, 0, 3, 3, 3, 0, 2, 0, 2, 0, 0, 0, 3, 3, 0, 3, 3, 3, 3, 2, 3, 3, 2, 1, 3, 3, 0, 3, 2, 3, 2, 0, 3, 3, 0, 3, 0, 0, 2, 0, 0, 0, 1, 1, 3, 3, 3, 0, 0, 3, 3, 0, 3, 0, 1, 0, 3, 3, 3, 2, 2, 3, 0, 1, 3, 0, 3, 3, 0, 0, 2, 3, 0, 3, 0, 1, 3, 0, 1, 0, 1, 1, 0, 3, 0, 0, 0, 0, 0, 3, 3, 3, 3, 2, 0, 2, 3, 1, 0, 0, 2, 3, 3, 2, 3, 3, 3, 3, 3, 0, 3, 3, 3, 2, 2, 0, 0, 3, 3, 3, 0, 3, 0, 0, 2, 0, 3, 1, 0, 0, 1, 0, 3, 0, 0, 0, 1, 0, 0, 1, 0, 3, 0, 3, 0, 0, 2, 1, 0, 0, 3, 0, 3, 0, 0, 2, 3, 0, 3, 3, 0, 3, 2, 3, 3, 0, 0, 0, 0, 0, 0, 3, 3, 0, 3, 2, 0, 3, 3, 3, 1, 0, 0, 2, 3, 2, 0, 3, 3, 0, 3, 3, 2, 0, 0, 2, 3, 0, 3, 3, 0, 3, 0, 1, 3, 3, 3, 3, 3, 0, 0, 1, 0, 0, 3, 3, 3, 0, 3, 3, 0, 3, 3, 3, 3, 0, 1, 3, 3, 0, 3, 2, 3, 3, 0, 3, 3, 0, 1, 2, 3, 0, 0, 1, 3, 2, 3, 3, 3, 0, 1, 1, 0, 2, 1, 0, 3, 0, 3, 3, 0, 3, 3, 3, 0, 2, 2, 3, 1, 3, 0, 3, 1, 2, 3, 3, 3, 3, 3, 0, 3, 0, 1, 2, 2, 3, 0, 3, 3, 3, 2, 1, 2, 3, 0, 0, 0, 3, 3, 2, 0, 3, 1, 3, 3, 3, 0, 2, 1, 1, 2, 3, 3, 3, 0, 3, 3, 3, 0, 2, 3, 2, 1, 0, 3, 2, 3, 3, 3, 3, 3, 3, 2, 3, 0, 0, 2, 3, 3, 0, 0, 0, 3, 3, 3, 3, 1, 3, 2, 3, 3, 2, 2, 0, 1, 2, 3, 0, 0, 0, 0, 3, 3, 0, 0, 3, 2, 2, 3, 2, 0, 3, 3, 2, 0, 3, 3, 3, 1, 0, 3, 0, 0, 2, 0, 3, 3, 0, 3, 3, 2, 0, 3, 3, 3, 2, 0, 0, 1, 0, 0, 3, 0, 0, 2, 0, 3, 3, 0, 2, 3, 0, 0, 2, 0, 0, 3, 3, 3, 1, 3, 0, 2, 0, 2, 1, 0, 1, 0, 0, 2, 0, 3, 3, 3, 3, 1, 3, 0, 3, 3, 1, 3, 3, 1, 3, 2, 1, 3, 0, 0, 3, 3, 3, 3, 0, 2, 1, 1, 3, 3, 1, 1, 1, 3, 0, 0, 0, 0, 2, 3, 3, 3, 3, 0, 3, 3, 3, 0, 3, 2, 3, 3, 3, 3, 2, 3, 3, 3, 3, 3, 0, 2, 0, 0, 0, 0, 0, 1, 1, 3, 0, 0, 2, 3, 3, 3, 3, 3, 0, 2, 2, 3, 0, 0, 2, 0, 3, 3, 0, 0, 0, 0, 3, 0, 1, 1, 0, 3, 0, 0, 1, 3, 3, 3, 0, 0, 3, 2, 3, 3, 0, 2, 0, 1, 2, 3, 0, 3, 0, 0, 3, 3, 1, 0, 0, 3, 0, 3, 3, 3, 3, 3, 3, 0, 2, 2, 3, 3, 3, 0, 0, 0, 0, 3, 3, 3, 2, 0, 0, 1, 0, 3, 0, 2, 1, 3, 1, 3, 3, 3, 0, 3, 0, 0, 3, 3, 0, 0, 0, 3, 3, 3, 3, 3, 0, 0, 0, 3, 0, 0, 2, 3, 0, 1, 3, 0, 3, 0, 3, 0, 1, 2, 2, 0, 3, 2, 0, 3, 3, 3, 1, 0, 3, 0, 0, 3, 1, 3, 3, 0, 3, 0, 3, 3, 0, 0, 2, 0, 3, 3, 1, 0, 0, 0, 1, 0, 0, 3, 1, 1, 2, 0, 2, 2, 0, 3, 0, 0, 1, 0, 3, 3, 0, 3, 3, 3, 2, 3, 3, 2, 3, 3, 0, 3, 3, 3, 0, 3, 0, 0, 3, 3, 3, 3, 0, 3, 3, 0, 0, 0, 0, 1, 3, 1, 3, 3, 3, 2, 0, 3, 1, 3, 3, 2, 3, 2, 1, 1, 0, 3, 3, 0, 3, 3, 3, 3, 0, 3, 0, 2, 0, 3, 1, 1, 3, 1, 1, 1, 2, 2, 1, 0, 0, 3, 0, 3, 0, 0, 0, 0, 2, 0, 0, 0, 3, 3, 0, 2, 3, 3, 0, 3, 3, 0, 3, 0, 3, 2, 3, 0, 2, 1, 0, 1, 3, 3, 1, 2, 3, 2, 0, 0, 3, 1, 3, 0, 3, 3, 2, 3, 0, 3, 2, 0, 1, 1, 3, 0, 3, 3, 3, 2, 0, 3, 1, 1, 3, 1, 3, 3, 0, 2, 1, 2, 3, 3, 0, 2, 0, 3, 1, 0, 3, 3, 2, 3, 0, 1, 0, 2, 3, 3, 2, 3, 3, 3, 3, 0, 3, 3, 2, 3, 0, 1, 2, 3, 3, 0, 3, 0, 2, 3, 3, 3, 3, 3, 2, 3, 3, 3, 0, 3, 3, 0, 0, 2, 3, 0, 0, 0, 0, 1, 1, 3, 0, 0, 0, 3, 0, 3, 0, 3, 2, 0, 0, 3, 2, 3, 3, 3, 0, 3, 3, 3, 3, 3, 3, 3, 0, 1, 0, 2, 1, 3, 3, 0, 0, 2, 1, 0, 3, 3, 3, 0, 3, 3, 0, 3, 3, 3, 3, 3, 1, 3, 0, 0, 3, 0, 3, 1, 1, 0, 3, 0, 3, 0, 3, 3, 3, 3, 1, 3, 0, 0, 3, 3, 2, 0, 1, 3, 3, 3, 0, 3, 1, 0, 0, 2, 3, 3, 1, 0, 3, 1, 3, 3, 0, 3, 1, 0, 3, 0, 3, 2, 0, 1, 3, 0, 3, 0, 3, 3, 3, 1, 2, 0, 0, 2, 0, 3, 0, 0, 1, 1, 0, 3, 1, 3, 3, 0, 0, 0, 2, 0, 2, 3, 3, 1, 1, 3, 0, 2, 3, 0, 2, 0, 0, 3, 3, 0, 0, 0, 1, 0, 2, 3, 1, 3, 0, 0, 3, 0, 3, 1, 3, 2, 3, 0, 0, 0, 0, 1, 3, 2, 2, 0, 3, 3, 0, 0, 3, 0, 3, 0, 0, 1, 3, 3, 3, 3, 3, 2, 3, 1, 0, 0, 0, 0, 2, 0, 0, 3, 0, 1, 0, 2, 0, 3, 3, 0, 2, 0, 0, 1, 0, 1, 3, 1, 0, 3, 2, 3, 0, 0, 3, 1, 0, 0, 3, 3, 2, 3, 3, 3, 1, 0, 3, 2, 0, 2, 3, 2, 1, 3, 3, 0, 1, 0, 1, 3, 0, 0, 0, 3, 3, 3, 0, 3, 3, 3, 3, 0, 0, 3, 1, 3, 2, 3, 0, 2, 2, 3, 0, 3, 2, 3, 1, 0, 1, 2, 0, 3, 3, 0, 2, 3, 0, 3, 2, 3, 2, 3, 0, 3, 3, 3, 2, 0, 3, 3, 0, 3, 0, 0, 0, 0, 0, 1, 2, 1, 3, 0, 0, 0, 2, 3, 0, 1, 0, 0, 3, 3, 3, 3, 0, 0, 0, 3, 3, 3, 3, 0, 3, 0, 0, 0, 2, 3, 2, 0, 3, 2, 0, 1, 2, 3, 3, 3, 3, 3, 3, 3, 3, 0, 0, 0, 3, 1, 3, 3, 0, 3, 0, 1, 3, 0, 3, 3, 1, 3, 0, 3, 3, 3, 0, 0, 0, 0, 1, 2, 3, 0, 3, 1, 3, 0, 0, 2, 0, 1, 0, 3, 3, 3, 0, 0, 0, 0, 2, 3, 3, 3, 1, 0, 0, 2, 0, 3, 0, 3, 2, 0, 0, 3, 2, 2, 3, 3, 2, 1, 0, 3, 2, 0, 3, 1, 3, 0, 0, 2, 3, 0, 3, 3, 0, 0, 2, 1, 3, 1, 3, 0, 3, 3, 0, 2, 0, 2, 3, 3, 0, 0, 0, 3, 3, 0, 1, 0, 3, 3, 3, 0, 3, 0, 1, 0, 0, 3, 0, 0, 3, 1, 3, 3, 3, 3, 3, 3, 0, 2, 0, 0, 2, 0, 2, 0, 3, 3, 0, 0, 3, 3, 0, 0, 3, 0, 0, 0, 0, 0, 0, 0, 3, 0, 0, 3, 0, 3, 3, 3, 3, 1, 1, 2, 3, 3, 3, 2, 3, 0, 0, 0, 3, 3, 0, 3, 3, 0, 0, 2, 1, 3, 0, 0, 1, 1, 3, 0, 1, 2, 0, 2, 3, 3, 0, 3, 0, 3, 3, 3, 3, 3, 3, 3, 3, 0, 3, 1, 3, 0, 3, 1, 3, 0, 3, 3, 3, 3, 0, 2, 3, 0, 0, 0, 1, 3, 1, 0, 2, 0, 3, 3, 3, 3, 3, 3, 0, 0, 3, 3, 0, 3, 3, 0, 0, 0, 3, 1, 3, 1, 3, 0, 0, 0, 1, 3, 2, 3, 0, 0, 3, 3, 3, 3, 3, 1, 3, 1, 2, 3, 0, 0, 3, 3, 0, 1, 1, 1, 0, 3, 1, 0, 3, 3, 3, 3, 0, 0, 3, 0, 3, 3, 3, 3, 3, 3, 3, 3, 3, 3, 3, 0, 0, 0, 0, 1, 3, 0, 3, 0, 3, 2, 3, 3, 3, 0, 1, 0, 3, 3, 0, 3, 0, 2, 3, 0, 0, 0, 3, 0, 3, 1, 3, 3, 0, 0, 3, 3, 0, 0, 0, 3, 0, 0, 1, 3, 0, 0, 3, 3, 3, 3, 0, 3, 3, 0, 3, 1, 3, 1, 3, 0, 0, 0, 3, 2, 0, 3, 3, 3, 0, 0, 0, 2, 2, 0, 3, 3, 3, 0, 3, 0, 3, 3, 1, 0, 0, 0, 1, 0, 1, 3, 0, 0, 3, 3, 3, 3, 0, 0, 3, 0, 3, 0, 0, 3, 2, 0, 0, 1, 2, 0, 3, 0, 0, 1, 0, 2, 1, 3, 0, 3, 3, 3, 3, 1, 2, 3, 1, 1, 3, 0, 0, 0, 3, 0, 0, 3, 3, 3, 3, 3, 0, 3, 3, 2, 1, 3, 1, 3, 0, 0, 0, 2, 3, 3, 0, 0, 0, 3, 3, 1, 1, 2, 3, 3, 0, 3, 0, 3, 3, 1, 3, 0, 0, 2, 1, 3, 3, 2, 1, 3, 3, 1, 3, 0, 3, 3, 1, 3, 3, 0, 2, 1, 0, 3, 2, 2, 0, 2, 3, 3, 1, 3, 3, 1, 3, 3, 3, 3, 3, 3, 1, 3, 0, 0, 3, 3, 3, 3, 3, 1, 0, 3, 3, 2, 3, 0, 3, 3, 0, 1, 0, 0, 3, 0, 3, 0, 0, 3, 3, 0, 0, 3, 3, 3, 3, 0, 3, 0, 0, 3, 0, 3, 3, 3, 0, 0, 0, 3, 3, 3, 3, 3, 0, 3, 3, 3, 0, 0, 3, 2, 2, 3, 3, 3, 0, 3, 3, 3, 3, 0, 3, 3, 3, 3, 0, 0, 0, 3, 2, 0, 0, 1, 3, 3, 3, 3, 2, 3, 3, 1, 0, 3, 2, 1, 0, 0, 0, 3, 1, 0, 2, 3, 0, 2, 3, 0, 0, 1, 3, 0, 3, 3, 2, 0, 0, 0, 0, 3, 0, 3, 1, 3, 3, 3, 3, 3, 2, 3, 2, 2, 1, 1, 0, 3, 0, 3, 0, 3, 0, 1, 1, 3, 2, 3, 3, 0, 3, 3, 3, 3, 3, 1, 3, 2, 1, 0, 0, 0, 0, 2, 3, 3, 3, 3, 3, 3, 0, 3, 3, 2, 3, 1, 0, 3, 1, 0, 0, 3, 2, 3, 3, 0, 0, 0, 3, 3, 3, 0, 0, 3, 3, 0, 0, 3, 0, 3, 2, 0, 0, 3, 2, 0, 3, 3, 3, 3, 0, 3, 3, 0]\n"
          ],
          "name": "stdout"
        }
      ]
    },
    {
      "cell_type": "code",
      "metadata": {
        "colab": {
          "base_uri": "https://localhost:8080/"
        },
        "id": "mg_9n1kupTtx",
        "outputId": "9d546e1a-f395-487f-b8c6-507e48a391ae"
      },
      "source": [
        "predict_ensemble = []\r\n",
        "\r\n",
        "for i in s :\r\n",
        "      i = 1 if i >= 2 else 0\r\n",
        "      predict_ensemble.append(i)   \r\n",
        "\r\n",
        "print(predict_ensemble)"
      ],
      "execution_count": null,
      "outputs": [
        {
          "output_type": "stream",
          "text": [
            "[1, 0, 1, 1, 0, 1, 1, 1, 0, 1, 1, 0, 0, 0, 0, 1, 1, 0, 1, 1, 1, 1, 1, 1, 0, 0, 0, 0, 1, 0, 1, 1, 1, 0, 1, 0, 1, 1, 1, 0, 0, 0, 0, 1, 0, 0, 0, 1, 0, 1, 1, 1, 0, 0, 0, 1, 1, 1, 0, 0, 1, 1, 1, 0, 0, 0, 0, 1, 0, 1, 1, 1, 1, 1, 1, 0, 1, 1, 1, 0, 1, 1, 0, 1, 1, 0, 0, 0, 1, 0, 1, 0, 1, 1, 1, 0, 1, 1, 0, 0, 0, 0, 0, 0, 0, 0, 1, 1, 1, 1, 0, 1, 1, 0, 1, 0, 1, 1, 0, 0, 0, 1, 0, 0, 1, 0, 1, 0, 0, 1, 0, 1, 1, 0, 1, 1, 0, 0, 0, 1, 0, 0, 1, 0, 0, 1, 0, 1, 0, 0, 0, 1, 1, 1, 1, 1, 1, 0, 0, 1, 0, 0, 0, 0, 0, 0, 0, 0, 0, 1, 0, 1, 1, 1, 0, 1, 1, 0, 1, 0, 0, 1, 0, 1, 0, 1, 1, 1, 0, 0, 1, 0, 0, 0, 0, 1, 1, 0, 0, 1, 0, 0, 1, 0, 1, 0, 1, 1, 1, 1, 0, 0, 1, 1, 1, 1, 0, 1, 0, 0, 0, 1, 0, 1, 1, 1, 1, 1, 0, 0, 0, 0, 1, 1, 0, 1, 0, 1, 1, 0, 0, 0, 0, 0, 1, 0, 0, 1, 0, 1, 1, 1, 0, 1, 1, 0, 0, 1, 0, 1, 1, 1, 0, 0, 0, 1, 1, 0, 1, 0, 1, 0, 1, 1, 1, 1, 1, 0, 0, 0, 0, 1, 0, 1, 0, 0, 0, 0, 0, 0, 0, 1, 1, 0, 1, 0, 1, 1, 0, 0, 1, 0, 0, 0, 0, 1, 1, 0, 1, 1, 1, 1, 0, 0, 1, 0, 1, 1, 1, 0, 0, 0, 1, 0, 0, 1, 1, 0, 0, 1, 0, 0, 1, 1, 0, 1, 0, 1, 1, 0, 0, 0, 1, 0, 0, 0, 1, 1, 1, 1, 1, 0, 0, 1, 1, 0, 1, 1, 1, 1, 1, 1, 1, 1, 0, 1, 0, 1, 1, 0, 0, 0, 0, 0, 0, 1, 1, 1, 0, 1, 1, 0, 1, 0, 1, 1, 0, 1, 0, 1, 1, 1, 1, 1, 1, 1, 1, 0, 1, 1, 1, 0, 0, 0, 0, 0, 0, 1, 0, 1, 0, 0, 1, 0, 1, 1, 1, 1, 1, 1, 1, 1, 1, 0, 1, 1, 1, 1, 0, 1, 1, 1, 0, 0, 1, 0, 1, 0, 0, 1, 1, 0, 1, 1, 0, 0, 1, 1, 1, 0, 1, 0, 0, 0, 0, 0, 0, 1, 1, 1, 1, 0, 1, 0, 0, 0, 0, 0, 1, 0, 0, 1, 1, 0, 1, 1, 0, 1, 1, 1, 1, 0, 1, 1, 0, 1, 0, 1, 0, 0, 1, 1, 1, 0, 0, 1, 0, 0, 0, 1, 1, 0, 0, 0, 0, 1, 1, 1, 0, 0, 1, 1, 1, 1, 0, 0, 1, 0, 1, 1, 1, 1, 1, 1, 1, 0, 0, 1, 0, 1, 1, 1, 1, 1, 1, 1, 0, 0, 1, 0, 1, 1, 1, 1, 1, 0, 1, 1, 0, 0, 1, 1, 0, 1, 0, 0, 1, 1, 1, 0, 0, 0, 1, 1, 1, 0, 0, 1, 0, 0, 0, 1, 1, 1, 1, 0, 0, 1, 1, 1, 0, 1, 1, 0, 0, 1, 0, 1, 0, 0, 0, 0, 1, 0, 1, 0, 1, 0, 0, 0, 0, 1, 1, 1, 0, 1, 1, 0, 1, 0, 0, 0, 1, 0, 0, 0, 0, 0, 0, 1, 1, 1, 0, 1, 1, 0, 0, 1, 0, 1, 0, 0, 0, 1, 0, 0, 0, 1, 0, 0, 1, 0, 1, 0, 0, 1, 1, 0, 0, 1, 1, 0, 0, 1, 1, 0, 1, 0, 1, 0, 0, 1, 1, 1, 0, 1, 1, 0, 0, 0, 0, 1, 1, 1, 0, 1, 0, 0, 0, 0, 0, 1, 1, 0, 0, 0, 0, 1, 1, 1, 1, 0, 1, 1, 0, 0, 0, 1, 1, 0, 1, 1, 0, 0, 1, 0, 1, 0, 0, 1, 0, 1, 1, 1, 0, 1, 0, 0, 1, 1, 1, 0, 1, 0, 1, 1, 1, 0, 1, 1, 1, 1, 1, 1, 1, 0, 0, 1, 1, 0, 0, 1, 1, 0, 0, 1, 1, 1, 1, 1, 0, 0, 1, 0, 1, 0, 0, 0, 1, 0, 0, 1, 1, 0, 1, 0, 0, 1, 0, 1, 0, 1, 0, 1, 1, 0, 1, 0, 1, 0, 0, 1, 0, 0, 1, 0, 1, 0, 0, 0, 0, 1, 0, 1, 1, 1, 1, 0, 1, 0, 0, 0, 1, 0, 1, 1, 1, 1, 0, 0, 1, 1, 1, 1, 0, 1, 1, 1, 1, 0, 0, 0, 0, 0, 0, 1, 1, 1, 1, 1, 1, 1, 1, 1, 1, 0, 1, 0, 0, 1, 0, 1, 0, 0, 0, 1, 1, 1, 0, 0, 1, 1, 0, 1, 0, 1, 1, 1, 0, 1, 1, 0, 0, 1, 0, 1, 0, 0, 0, 0, 0, 0, 1, 0, 1, 1, 0, 0, 0, 1, 0, 1, 0, 1, 1, 0, 1, 1, 1, 1, 1, 0, 0, 0, 0, 0, 1, 0, 1, 0, 1, 0, 0, 1, 0, 0, 0, 0, 1, 0, 1, 1, 0, 0, 0, 0, 1, 1, 1, 1, 0, 0, 1, 0, 1, 0, 1, 0, 0, 1, 0, 1, 1, 1, 0, 1, 0, 0, 0, 0, 1, 0, 1, 0, 0, 0, 0, 0, 1, 0, 1, 0, 1, 1, 0, 1, 1, 1, 1, 0, 0, 1, 1, 1, 0, 0, 0, 0, 1, 0, 1, 1, 1, 0, 0, 1, 0, 1, 1, 1, 1, 1, 1, 0, 1, 0, 0, 0, 0, 1, 0, 1, 0, 1, 1, 1, 1, 1, 0, 1, 0, 0, 1, 1, 0, 0, 0, 1, 1, 1, 1, 1, 0, 1, 1, 1, 0, 0, 0, 0, 0, 1, 1, 1, 0, 0, 0, 1, 1, 0, 0, 1, 0, 0, 0, 1, 0, 1, 1, 1, 0, 0, 0, 0, 0, 0, 1, 0, 1, 0, 1, 0, 1, 0, 1, 1, 0, 0, 1, 0, 0, 1, 0, 1, 0, 1, 1, 0, 0, 1, 0, 1, 0, 1, 0, 1, 1, 1, 1, 1, 1, 0, 0, 0, 1, 1, 1, 1, 0, 0, 0, 1, 1, 0, 1, 0, 0, 1, 1, 1, 0, 0, 0, 0, 0, 0, 0, 0, 0, 0, 0, 1, 0, 0, 0, 1, 0, 1, 0, 0, 0, 0, 0, 0, 1, 0, 1, 0, 1, 1, 1, 1, 1, 1, 1, 1, 1, 0, 0, 0, 0, 0, 1, 1, 0, 1, 1, 1, 0, 1, 0, 1, 0, 0, 0, 1, 1, 1, 0, 0, 0, 0, 1, 1, 0, 0, 0, 0, 0, 1, 1, 1, 0, 0, 1, 1, 0, 0, 0, 1, 0, 1, 1, 0, 0, 1, 1, 0, 1, 0, 1, 0, 0, 1, 0, 0, 1, 1, 0, 1, 0, 1, 0, 0, 0, 0, 0, 0, 1, 0, 0, 0, 0, 0, 0, 1, 1, 1, 0, 1, 0, 1, 0, 1, 1, 1, 1, 1, 1, 0, 0, 1, 0, 1, 1, 1, 0, 0, 0, 0, 0, 0, 1, 1, 0, 0, 1, 0, 0, 0, 1, 1, 1, 1, 1, 0, 0, 1, 0, 1, 0, 1, 1, 0, 0, 1, 1, 1, 0, 1, 0, 0, 1, 0, 0, 1, 0, 1, 0, 1, 1, 0, 0, 0, 0, 1, 1, 1, 0, 0, 0, 1, 0, 1, 0, 0, 0, 1, 0, 1, 1, 0, 1, 0, 0, 1, 0, 0, 0, 1, 1, 0, 0, 0, 1, 1, 1, 1, 0, 1, 1, 1, 0, 0, 0, 1, 0, 0, 0, 0, 1, 0, 0, 1, 1, 0, 0, 1, 0, 1, 0, 0, 1, 0, 1, 1, 0, 0, 0, 1, 1, 1, 0, 0, 1, 0, 1, 0, 0, 0, 1, 0, 1, 0, 0, 0, 0, 0, 0, 1, 0, 1, 0, 0, 1, 0, 0, 1, 0, 0, 0, 0, 0, 1, 1, 1, 0, 0, 1, 1, 1, 1, 0, 0, 1, 0, 1, 0, 1, 1, 1, 0, 1, 0, 0, 0, 1, 0, 1, 0, 0, 0, 1, 0, 0, 0, 0, 1, 0, 0, 1, 1, 0, 1, 0, 1, 0, 1, 1, 0, 0, 0, 1, 1, 0, 1, 1, 1, 1, 1, 0, 1, 1, 1, 1, 0, 0, 1, 1, 1, 1, 0, 0, 0, 1, 1, 1, 1, 0, 0, 1, 0, 1, 0, 0, 0, 0, 1, 1, 1, 0, 0, 0, 0, 1, 1, 1, 0, 0, 1, 0, 1, 1, 1, 1, 0, 1, 0, 0, 0, 0, 1, 1, 0, 0, 0, 1, 1, 0, 0, 1, 1, 1, 0, 0, 1, 1, 0, 0, 1, 0, 0, 1, 1, 0, 1, 0, 0, 0, 1, 0, 1, 1, 0, 0, 0, 1, 0, 0, 1, 0, 0, 1, 0, 1, 1, 1, 0, 0, 0, 1, 0, 1, 1, 0, 1, 0, 0, 1, 1, 1, 0, 1, 0, 1, 0, 1, 1, 1, 0, 0, 1, 0, 1, 0, 1, 1, 1, 1, 1, 1, 0, 1, 1, 0, 1, 1, 0, 1, 0, 1, 0, 1, 0, 0, 0, 1, 1, 1, 1, 1, 0, 1, 0, 0, 1, 0, 1, 1, 1, 1, 1, 1, 1, 0, 0, 1, 0, 1, 1, 0, 1, 1, 1, 0, 1, 0, 1, 1, 0, 0, 1, 1, 1, 0, 0, 1, 1, 0, 1, 1, 1, 1, 0, 0, 0, 0, 0, 1, 1, 0, 1, 1, 0, 1, 0, 1, 0, 0, 0, 1, 0, 1, 0, 1, 0, 0, 1, 0, 1, 1, 0, 0, 0, 0, 1, 0, 1, 1, 0, 0, 0, 1, 0, 1, 0, 0, 1, 0, 0, 0, 0, 1, 1, 0, 0, 0, 1, 1, 0, 0, 0, 1, 1, 0, 0, 1, 1, 0, 1, 1, 1, 1, 1, 0, 0, 1, 0, 1, 0, 1, 1, 1, 1, 0, 0, 1, 1, 0, 1, 1, 0, 0, 0, 1, 1, 0, 0, 0, 1, 0, 0, 1, 0, 0, 1, 0, 0, 0, 1, 1, 1, 0, 1, 0, 0, 1, 1, 1, 1, 0, 0, 1, 1, 1, 0, 1, 1, 1, 0, 0, 1, 0, 0, 0, 0, 1, 0, 1, 1, 0, 0, 1, 0, 0, 0, 0, 1, 0, 0, 1, 0, 0, 0, 0, 1, 1, 1, 1, 0, 0, 1, 1, 0, 1, 0, 1, 1, 1, 1, 1, 0, 0, 1, 0, 1, 0, 0, 0, 1, 1, 0, 1, 1, 1, 1, 1, 0, 0, 0, 0, 1, 1, 1, 0, 0, 1, 1, 1, 0, 1, 1, 0, 1, 1, 0, 1, 1, 1, 1, 1, 0, 0, 1, 1, 0, 1, 0, 0, 1, 1, 0, 1, 0, 1, 0, 0, 1, 0, 0, 0, 0, 1, 0, 1, 1, 0, 1, 1, 0, 1, 1, 1, 1, 1, 0, 0, 1, 0, 0, 1, 0, 0, 0, 0, 0, 0, 1, 0, 1, 0, 1, 1, 0, 1, 1, 1, 1, 1, 0, 1, 0, 0, 1, 1, 0, 0, 1, 1, 0, 0, 0, 1, 0, 1, 0, 1, 1, 0, 0, 0, 0, 1, 1, 0, 1, 0, 0, 1, 1, 1, 0, 1, 1, 0, 0, 1, 1, 1, 1, 1, 1, 1, 1, 0, 1, 1, 1, 1, 1, 1, 1, 1, 1, 0, 1, 0, 0, 0, 0, 1, 0, 0, 0, 0, 0, 1, 1, 0, 1, 1, 0, 1, 1, 0, 1, 1, 0, 1, 0, 0, 1, 1, 1, 0, 0, 1, 1, 1, 1, 0, 0, 0, 0, 1, 1, 0, 0, 1, 1, 0, 0, 0, 1, 0, 1, 1, 0, 0, 0, 1, 0, 1, 0, 0, 0, 0, 0, 1, 0, 1, 0, 0, 0, 1, 1, 0, 0, 1, 1, 0, 0, 0, 1, 1, 0, 1, 1, 1, 1, 1, 0, 1, 1, 0, 0, 1, 1, 1, 0, 1, 1, 1, 1, 0, 1, 0, 0, 0, 1, 1, 1, 1, 0, 1, 0, 1, 1, 1, 1, 1, 0, 0, 1, 0, 1, 1, 0, 0, 0, 0, 1, 1, 1, 0, 0, 1, 0, 1, 0, 1, 0, 1, 1, 1, 0, 0, 0, 0, 1, 0, 0, 0, 0, 1, 0, 1, 1, 1, 0, 1, 1, 0, 1, 0, 1, 1, 0, 1, 0, 0, 1, 0, 0, 1, 1, 0, 1, 0, 1, 1, 1, 1, 0, 1, 1, 1, 1, 0, 1, 1, 1, 0, 0, 1, 1, 0, 1, 0, 1, 0, 1, 0, 1, 0, 1, 1, 1, 0, 0, 1, 1, 1, 0, 1, 0, 1, 0, 0, 1, 0, 0, 0, 0, 1, 1, 1, 1, 1, 1, 1, 0, 1, 0, 1, 0, 1, 1, 1, 1, 1, 0, 1, 1, 0, 1, 1, 0, 0, 1, 1, 0, 1, 1, 1, 1, 1, 0, 0, 1, 1, 1, 1, 0, 1, 1, 1, 0, 1, 1, 1, 1, 0, 1, 1, 1, 0, 0, 0, 1, 0, 1, 1, 1, 1, 0, 1, 1, 0, 1, 0, 0, 1, 1, 0, 0, 0, 1, 1, 1, 1, 0, 0, 1, 1, 0, 1, 0, 1, 0, 1, 1, 0, 1, 1, 0, 1, 0, 1, 0, 1, 1, 1, 0, 0, 0, 1, 0, 1, 1, 0, 0, 1, 1, 1, 1, 0, 1, 1, 0, 0, 0, 1, 1, 0, 1, 0, 1, 0, 0, 1, 0, 0, 1, 0, 0, 0, 1, 1, 0, 1, 0, 1, 1, 1, 1, 0, 0, 1, 1, 1, 0, 1, 1, 0, 0, 0, 0, 0, 0, 1, 1, 1, 0, 0, 0, 0, 1, 0, 0, 1, 1, 0, 1, 0, 1, 0, 1, 1, 1, 0, 0, 0, 0, 0, 0, 0, 1, 0, 0, 1, 0, 1, 0, 1, 1, 0, 0, 1, 1, 0, 0, 1, 0, 1, 0, 1, 0, 0, 0, 1, 0, 1, 1, 0, 0, 1, 0, 1, 1, 1, 0, 1, 1, 1, 1, 1, 1, 0, 1, 1, 0, 0, 0, 1, 0, 1, 0, 1, 0, 1, 1, 1, 0, 1, 0, 1, 1, 0, 1, 1, 0, 1, 1, 1, 1, 1, 1, 0, 1, 0, 0, 0, 1, 1, 0, 1, 0, 0, 0, 1, 0, 0, 1, 0, 0, 0, 0, 0, 0, 1, 0, 1, 0, 1, 0, 0, 0, 1, 0, 1, 0, 0, 1, 0, 0, 1, 1, 0, 0, 0, 0, 0, 0, 0, 0, 0, 0, 0, 0, 0, 0, 1, 1, 0, 0, 0, 1, 1, 0, 0, 0, 0, 1, 1, 1, 0, 0, 0, 1, 1, 0, 0, 1, 1, 0, 0, 0, 1, 1, 1, 1, 0, 0, 1, 0, 1, 1, 0, 0, 1, 0, 1, 1, 0, 0, 1, 0, 0, 0, 0, 0, 1, 1, 1, 1, 0, 0, 1, 1, 0, 1, 0, 1, 1, 1, 0, 0, 1, 1, 1, 1, 0, 1, 1, 1, 1, 1, 0, 0, 0, 1, 1, 0, 1, 1, 1, 1, 0, 1, 0, 1, 0, 0, 0, 0, 0, 1, 1, 0, 1, 0, 0, 0, 0, 1, 1, 1, 1, 0, 1, 1, 1, 1, 1, 1, 1, 0, 1, 1, 1, 1, 1, 0, 1, 1, 1, 1, 1, 1, 0, 0, 0, 1, 1, 1, 0, 1, 1, 1, 0, 1, 0, 1, 0, 1, 0, 1, 0, 1, 1, 0, 0, 0, 1, 0, 1, 0, 1, 1, 1, 1, 1, 1, 1, 0, 0, 0, 0, 0, 1, 1, 1, 0, 1, 0, 1, 0, 1, 0, 0, 1, 1, 1, 0, 1, 1, 1, 0, 0, 0, 1, 1, 1, 0, 0, 0, 1, 1, 1, 0, 1, 0, 1, 0, 0, 1, 0, 0, 1, 1, 0, 1, 0, 0, 1, 1, 0, 0, 0, 1, 1, 0, 1, 0, 0, 1, 1, 1, 1, 1, 0, 0, 0, 0, 0, 0, 0, 0, 0, 1, 0, 1, 0, 0, 1, 0, 1, 0, 0, 1, 0, 1, 0, 1, 1, 1, 0, 1, 0, 1, 0, 0, 0, 1, 1, 1, 1, 0, 0, 1, 0, 0, 0, 0, 0, 0, 1, 0, 0, 0, 0, 1, 1, 1, 0, 0, 0, 0, 1, 1, 0, 0, 0, 0, 0, 0, 0, 0, 0, 0, 1, 0, 1, 0, 0, 1, 0, 1, 0, 1, 1, 1, 1, 1, 1, 1, 0, 1, 1, 0, 1, 1, 0, 0, 0, 0, 0, 1, 0, 1, 1, 1, 1, 0, 1, 0, 1, 1, 0, 1, 1, 1, 0, 1, 0, 1, 0, 1, 1, 0, 0, 1, 1, 1, 0, 0, 1, 1, 1, 1, 0, 1, 1, 0, 0, 0, 0, 1, 0, 1, 1, 0, 0, 0, 0, 1, 0, 0, 0, 0, 1, 0, 0, 0, 1, 1, 0, 1, 1, 1, 0, 1, 0, 0, 0, 1, 1, 0, 0, 0, 0, 0, 0, 0, 1, 1, 0, 0, 1, 1, 1, 1, 0, 1, 1, 1, 0, 1, 1, 0, 0, 0, 0, 1, 0, 1, 1, 0, 0, 1, 1, 1, 1, 0, 1, 0, 1, 1, 1, 0, 0, 1, 1, 1, 0, 0, 1, 0, 1, 1, 0, 1, 0, 0, 0, 0, 0, 1, 1, 1, 0, 1, 0, 0, 0, 0, 0, 1, 1, 0, 1, 0, 0, 1, 1, 0, 1, 1, 1, 1, 1, 0, 0, 0, 1, 0, 1, 1, 0, 0, 1, 0, 1, 0, 0, 0, 0, 0, 1, 1, 0, 0, 1, 0, 0, 0, 1, 0, 1, 0, 1, 0, 1, 0, 1, 1, 0, 1, 0, 1, 1, 0, 0, 0, 1, 1, 1, 1, 0, 1, 0, 0, 1, 1, 0, 0, 0, 0, 1, 0, 0, 1, 0, 1, 0, 1, 0, 0, 1, 0, 1, 1, 0, 1, 0, 0, 0, 1, 1, 1, 1, 0, 1, 1, 1, 0, 1, 0, 0, 0, 1, 0, 1, 0, 0, 1, 0, 0, 0, 0, 0, 1, 0, 0, 1, 1, 1, 0, 1, 0, 1, 0, 0, 0, 1, 0, 1, 0, 0, 1, 1, 1, 0, 1, 1, 0, 0, 1, 0, 0, 1, 1, 1, 1, 0, 0, 0, 0, 1, 1, 1, 0, 1, 0, 0, 0, 0, 1, 0, 0, 1, 0, 0, 0, 0, 1, 1, 0, 0, 0, 0, 0, 1, 0, 0, 0, 0, 0, 0, 1, 1, 0, 1, 1, 1, 0, 1, 1, 1, 1, 0, 0, 0, 0, 1, 1, 0, 1, 0, 0, 0, 0, 1, 0, 0, 1, 1, 1, 1, 0, 0, 0, 0, 0, 1, 0, 0, 1, 1, 1, 1, 1, 1, 1, 0, 1, 1, 0, 1, 1, 1, 1, 0, 1, 1, 1, 0, 1, 1, 1, 0, 0, 1, 1, 1, 0, 0, 0, 1, 1, 1, 1, 0, 0, 1, 0, 0, 0, 0, 0, 0, 1, 0, 0, 1, 0, 1, 1, 1, 1, 1, 0, 0, 1, 0, 1, 0, 0, 1, 1, 0, 1, 0, 1, 1, 1, 0, 0, 0, 1, 0, 0, 0, 1, 0, 1, 0, 0, 1, 1, 0, 0, 1, 0, 0, 1, 0, 1, 1, 1, 1, 0, 1, 1, 1, 0, 0, 1, 1, 1, 1, 1, 1, 1, 1, 0, 1, 1, 0, 0, 0, 1, 0, 0, 0, 0, 1, 0, 0, 0, 1, 0, 0, 1, 0, 0, 0, 0, 1, 1, 1, 0, 0, 1, 0, 0, 1, 0, 0, 0, 1, 0, 1, 0, 1, 0, 0, 0, 0, 1, 0, 0, 0, 0, 0, 0, 1, 1, 0, 1, 0, 1, 1, 1, 0, 0, 1, 0, 0, 1, 1, 0, 0, 0, 1, 1, 0, 0, 0, 1, 1, 0, 0, 1, 1, 1, 0, 1, 1, 0, 1, 0, 0, 1, 1, 0, 0, 0, 0, 0, 1, 1, 1, 0, 1, 0, 0, 1, 1, 0, 0, 1, 0, 0, 1, 1, 1, 1, 1, 1, 0, 1, 0, 0, 1, 1, 0, 1, 0, 1, 1, 1, 0, 0, 1, 1, 0, 1, 1, 0, 1, 1, 1, 1, 1, 0, 0, 0, 0, 0, 0, 0, 0, 1, 1, 1, 0, 1, 1, 0, 0, 0, 0, 1, 1, 0, 0, 0, 0, 1, 0, 1, 0, 0, 1, 0, 0, 1, 1, 1, 0, 1, 1, 0, 0, 1, 0, 0, 0, 1, 1, 1, 1, 1, 0, 0, 0, 0, 0, 1, 0, 1, 1, 1, 0, 1, 1, 1, 1, 1, 0, 0, 1, 1, 1, 0, 0, 0, 1, 1, 0, 0, 0, 1, 1, 1, 0, 1, 1, 0, 1, 0, 1, 0, 1, 1, 1, 0, 1, 1, 1, 1, 1, 1, 1, 1, 1, 1, 1, 1, 1, 1, 0, 1, 1, 0, 1, 0, 1, 1, 0, 0, 1, 0, 1, 0, 0, 0, 0, 0, 1, 0, 1, 1, 1, 1, 1, 0, 0, 1, 1, 0, 1, 1, 0, 1, 1, 0, 1, 0, 1, 0, 1, 0, 0, 1, 1, 1, 0, 1, 0, 0, 1, 1, 0, 1, 1, 0, 1, 1, 0, 0, 1, 1, 0, 1, 0, 1, 0, 0, 1, 1, 1, 1, 1, 1, 1, 0, 0, 0, 1, 0, 0, 0, 0, 1, 1, 1, 1, 1, 1, 1, 0, 0, 0, 1, 0, 1, 0, 1, 0, 0, 1, 0, 0, 0, 1, 0, 0, 0, 1, 1, 0, 0, 0, 1, 0, 1, 0, 0, 0, 1, 1, 1, 1, 1, 1, 1, 0, 1, 0, 1, 0, 1, 1, 0, 1, 1, 0, 0, 1, 1, 0, 1, 1, 0, 0, 0, 0, 1, 0, 1, 1, 0, 1, 1, 1, 0, 0, 1, 1, 1, 1, 0, 0, 0, 0, 1, 1, 0, 1, 1, 0, 1, 1, 1, 0, 0, 1, 0, 1, 0, 0, 0, 0, 0, 0, 1, 1, 1, 0, 0, 0, 1, 1, 0, 1, 0, 1, 1, 0, 1, 0, 1, 1, 0, 0, 1, 0, 0, 0, 0, 0, 1, 0, 0, 0, 0, 0, 1, 0, 1, 1, 1, 1, 1, 0, 1, 0, 1, 1, 0, 1, 0, 1, 1, 0, 0, 1, 1, 0, 0, 1, 0, 1, 1, 0, 0, 1, 0, 1, 1, 1, 1, 0, 0, 1, 0, 0, 1, 0, 0, 0, 1, 1, 1, 0, 0, 1, 0, 0, 0, 1, 1, 0, 1, 0, 1, 0, 1, 1, 1, 1, 0, 0, 0, 1, 0, 1, 0, 0, 1, 1, 1, 1, 1, 1, 1, 0, 1, 1, 1, 0, 0, 0, 0, 1, 0, 1, 1, 1, 1, 0, 0, 0, 0, 1, 0, 0, 0, 1, 1, 0, 1, 1, 1, 0, 0, 1, 0, 1, 1, 0, 0, 0, 0, 0, 0, 0, 0, 0, 0, 1, 1, 1, 1, 1, 1, 1, 0, 0, 1, 0, 1, 0, 0, 1, 0, 0, 1, 1, 1, 0, 1, 1, 1, 0, 1, 0, 0, 0, 0, 1, 0, 1, 1, 0, 0, 0, 1, 0, 0, 0, 1, 0, 0, 0, 1, 1, 1, 0, 0, 0, 1, 1, 0, 1, 0, 0, 1, 0, 0, 1, 1, 1, 0, 0, 1, 0, 0, 1, 1, 0, 0, 0, 1, 1, 1, 0, 0, 0, 0, 0, 0, 0, 1, 1, 1, 1, 1, 1, 0, 0, 1, 1, 1, 0, 1, 1, 0, 0, 0, 1, 0, 0, 1, 1, 1, 0, 1, 1, 1, 0, 0, 0, 0, 0, 0, 1, 0, 1, 0, 0, 1, 1, 1, 0, 0, 1, 1, 1, 1, 1, 0, 0, 1, 0, 1, 0, 1, 1, 0, 0, 0, 0, 0, 0, 1, 1, 0, 0, 1, 0, 0, 0, 1, 1, 0, 0, 1, 0, 1, 0, 0, 0, 1, 0, 0, 1, 0, 0, 1, 1, 0, 0, 1, 1, 0, 1, 1, 0, 0, 1, 0, 1, 1, 1, 1, 0, 1, 1, 1, 1, 1, 1, 0, 0, 0, 0, 0, 0, 1, 0, 1, 1, 1, 0, 1, 1, 1, 0, 0, 0, 0, 1, 0, 1, 0, 0, 1, 1, 0, 1, 0, 1, 1, 0, 1, 0, 1, 0, 1, 0, 1, 0, 0, 1, 1, 0, 1, 1, 0, 1, 0, 1, 1, 0, 1, 0, 1, 0, 1, 0, 1, 1, 0, 0, 1, 1, 0, 1, 1, 0, 1, 0, 1, 1, 1, 1, 0, 0, 0, 1, 1, 0, 0, 0, 1, 1, 0, 1, 1, 0, 0, 0, 0, 0, 0, 1, 1, 0, 1, 0, 0, 0, 0, 1, 0, 0, 0, 0, 1, 1, 1, 0, 0, 1, 1, 0, 1, 0, 1, 1, 0, 1, 0, 0, 0, 1, 1, 0, 0, 1, 1, 0, 1, 0, 1, 0, 1, 1, 0, 1, 0, 0, 0, 1, 1, 1, 0, 1, 1, 1, 1, 1, 1, 0, 1, 0, 1, 0, 1, 0, 0, 0, 1, 0, 0, 1, 0, 0, 1, 0, 0, 1, 0, 1, 0, 1, 0, 0, 1, 1, 1, 1, 0, 0, 0, 0, 1, 0, 0, 1, 0, 1, 0, 0, 0, 0, 1, 1, 1, 1, 0, 0, 0, 0, 1, 0, 0, 1, 0, 1, 0, 1, 1, 1, 1, 0, 0, 1, 1, 0, 1, 0, 0, 1, 1, 1, 1, 0, 1, 1, 0, 1, 1, 0, 0, 0, 0, 1, 0, 1, 0, 1, 0, 0, 1, 0, 1, 0, 1, 0, 1, 1, 1, 0, 1, 1, 1, 0, 0, 1, 1, 1, 1, 0, 0, 1, 1, 0, 0, 0, 1, 0, 0, 1, 0, 1, 1, 1, 0, 0, 0, 0, 0, 0, 1, 1, 0, 1, 0, 1, 0, 1, 1, 0, 1, 1, 1, 0, 0, 1, 1, 1, 0, 0, 1, 0, 1, 1, 0, 0, 1, 0, 1, 0, 1, 1, 0, 1, 1, 0, 1, 1, 0, 0, 0, 1, 0, 0, 0, 1, 0, 1, 0, 0, 1, 0, 0, 1, 0, 0, 0, 1, 1, 0, 1, 1, 1, 1, 1, 0, 0, 0, 0, 0, 1, 0, 1, 1, 0, 0, 1, 1, 1, 0, 1, 1, 0, 0, 0, 1, 0, 0, 1, 0, 1, 0, 0, 0, 1, 0, 1, 0, 1, 0, 1, 0, 0, 1, 0, 1, 1, 1, 0, 0, 0, 1, 0, 0, 0, 0, 0, 1, 0, 0, 0, 0, 1, 1, 1, 1, 0, 0, 0, 0, 0, 1, 0, 0, 0, 1, 0, 0, 1, 1, 1, 1, 1, 1, 0, 1, 1, 1, 1, 0, 0, 1, 0, 0, 1, 0, 0, 1, 0, 0, 1, 0, 1, 1, 0, 0, 0, 1, 0, 0, 0, 1, 0, 1, 0, 0, 0, 1, 0, 0, 1, 0, 1, 1, 1, 0, 1, 1, 0, 1, 0, 1, 0, 0, 0, 1, 1, 0, 0, 1, 0, 1, 0, 1, 1, 1, 1, 0, 1, 0, 1, 0, 1, 1, 0, 0, 0, 0, 1, 0, 0, 0, 0, 1, 1, 1, 0, 0, 0, 0, 0, 1, 1, 1, 1, 0, 0, 1, 0, 0, 0, 0, 0, 1, 1, 0, 1, 1, 0, 1, 1, 1, 0, 1, 1, 0, 0, 1, 1, 1, 0, 1, 1, 0, 0, 1, 1, 0, 1, 0, 0, 0, 1, 0, 1, 0, 0, 1, 1, 1, 1, 0, 1, 0, 1, 0, 1, 0, 0, 1, 0, 1, 0, 1, 0, 1, 0, 0, 0, 1, 0, 1, 1, 0, 1, 0, 1, 1, 1, 0, 0, 1, 0, 0, 0, 0, 1, 0, 1, 1, 1, 0, 1, 0, 0, 0, 1, 1, 1, 0, 1, 0, 0, 0, 1, 0, 0, 1, 1, 1, 1, 1, 1, 1, 1, 1, 0, 1, 1, 0, 0, 0, 1, 0, 1, 1, 1, 1, 1, 1, 1, 0, 0, 1, 0, 1, 1, 0, 0, 0, 1, 1, 0, 1, 0, 0, 1, 1, 0, 1, 1, 1, 1, 1, 1, 0, 0, 0, 0, 0, 0, 1, 1, 1, 0, 0, 1, 1, 1, 0, 0, 0, 1, 1, 1, 0, 1, 1, 0, 1, 1, 0, 1, 1, 0, 0, 0, 0, 0, 1, 1, 1, 0, 0, 0, 0, 0, 0, 0, 1, 0, 0, 1, 0, 1, 1, 1, 1, 0, 1, 1, 1, 0, 1, 0, 1, 1, 0, 0, 0, 0, 1, 0, 0, 0, 0, 0, 0, 0, 1, 0, 0, 0, 1, 0, 1, 1, 0, 0, 1, 0, 1, 1, 1, 0, 0, 1, 0, 1, 0, 0, 0, 0, 1, 1, 0, 0, 0, 1, 1, 1, 1, 1, 1, 0, 0, 1, 0, 1, 1, 0, 0, 0, 1, 0, 1, 1, 0, 1, 1, 1, 0, 1, 0, 1, 1, 1, 1, 1, 1, 0, 1, 1, 1, 0, 1, 1, 1, 1, 1, 0, 1, 1, 1, 0, 1, 0, 1, 0, 1, 0, 0, 0, 1, 0, 0, 1, 1, 1, 1, 1, 0, 0, 1, 0, 0, 1, 0, 1, 0, 1, 0, 1, 0, 0, 0, 1, 0, 1, 0, 1, 1, 0, 1, 1, 1, 0, 0, 0, 1, 0, 0, 0, 0, 1, 0, 1, 1, 1, 0, 1, 1, 0, 1, 1, 0, 1, 0, 1, 1, 1, 0, 1, 1, 1, 0, 0, 1, 0, 0, 1, 0, 0, 1, 1, 1, 0, 0, 0, 1, 1, 0, 0, 1, 0, 0, 0, 1, 1, 0, 1, 0, 1, 1, 0, 1, 1, 1, 0, 0, 0, 0, 0, 0, 0, 1, 1, 0, 0, 1, 0, 1, 1, 1, 0, 0, 1, 0, 0, 1, 0, 1, 0, 0, 1, 1, 1, 1, 0, 1, 1, 1, 1, 1, 0, 0, 0, 0, 0, 1, 0, 1, 1, 0, 1, 0, 1, 0, 1, 1, 1, 0, 1, 1, 0, 0, 1, 1, 0, 0, 1, 1, 1, 1, 1, 0, 0, 1, 0, 1, 0, 0, 1, 0, 1, 1, 1, 1, 0, 0, 1, 1, 0, 1, 1, 0, 1, 0, 0, 1, 1, 1, 1, 1, 1, 0, 1, 0, 0, 0, 0, 1, 0, 1, 1, 0, 0, 1, 0, 0, 1, 1, 1, 1, 1, 1, 1, 0, 0, 1, 0, 0, 0, 1, 1, 1, 0, 1, 0, 1, 0, 1, 0, 1, 1, 0, 0, 1, 1, 0, 1, 1, 0, 1, 0, 1, 0, 0, 0, 1, 0, 0, 1, 1, 0, 1, 1, 1, 1, 1, 1, 1, 0, 1, 1, 0, 0, 1, 0, 1, 1, 1, 1, 1, 1, 0, 0, 1, 0, 0, 0, 1, 1, 0, 1, 0, 0, 0, 1, 0, 0, 1, 1, 0, 0, 0, 0, 0, 1, 1, 1, 1, 0, 1, 0, 0, 0, 1, 1, 1, 0, 1, 0, 0, 1, 0, 1, 1, 0, 0, 1, 1, 1, 1, 1, 0, 1, 1, 1, 0, 1, 0, 0, 0, 0, 0, 0, 1, 1, 0, 1, 0, 1, 1, 1, 1, 0, 0, 0, 1, 1, 0, 1, 1, 0, 0, 1, 1, 0, 0, 1, 0, 0, 0, 1, 0, 1, 0, 1, 1, 1, 1, 1, 1, 1, 0, 0, 1, 1, 0, 1, 0, 1, 0, 0, 1, 0, 0, 0, 0, 0, 1, 0, 0, 0, 1, 1, 0, 0, 0, 0, 1, 0, 1, 1, 0, 1, 0, 1, 1, 1, 0, 1, 0, 0, 1, 1, 1, 1, 0, 1, 1, 0, 1, 0, 1, 0, 1, 1, 0, 0, 0, 1, 0, 1, 1, 0, 0, 0, 1, 1, 0, 1, 0, 0, 1, 1, 1, 0, 1, 1, 0, 1, 0, 0, 1, 1, 0, 1, 1, 1, 0, 0, 0, 0, 1, 0, 1, 0, 0, 1, 1, 1, 1, 1, 0, 1, 0, 1, 0, 1, 1, 0, 0, 0, 0, 0, 1, 1, 1, 0, 1, 0, 0, 0, 1, 1, 1, 1, 0, 1, 0, 0, 0, 1, 0, 0, 0, 1, 1, 1, 1, 1, 0, 1, 0, 1, 1, 1, 0, 1, 0, 0, 0, 1, 1, 1, 1, 1, 1, 1, 0, 1, 1, 0, 1, 0, 1, 1, 1, 1, 0, 1, 1, 1, 0, 1, 0, 1, 0, 1, 1, 0, 0, 0, 0, 0, 1, 1, 0, 0, 1, 1, 0, 0, 1, 1, 1, 1, 0, 1, 0, 0, 0, 1, 0, 0, 1, 0, 0, 0, 1, 1, 0, 1, 1, 0, 1, 1, 1, 1, 1, 1, 0, 0, 1, 0, 0, 1, 1, 0, 0, 0, 1, 1, 0, 1, 0, 1, 1, 1, 1, 1, 1, 0, 0, 0, 1, 1, 0, 1, 1, 1, 1, 1, 1, 0, 1, 1, 1, 1, 1, 0, 0, 0, 1, 1, 1, 1, 0, 0, 1, 0, 1, 1, 0, 1, 1, 1, 0, 1, 0, 1, 0, 0, 0, 0, 1, 0, 0, 0, 0, 0, 1, 0, 0, 0, 0, 1, 1, 1, 0, 1, 1, 0, 0, 1, 1, 1, 1, 0, 0, 1, 1, 1, 1, 1, 1, 0, 1, 0, 1, 1, 1, 0, 0, 0, 0, 0, 1, 0, 1, 1, 0, 0, 0, 0, 0, 1, 0, 0, 1, 0, 0, 1, 0, 0, 0, 0, 0, 0, 1, 1, 1, 1, 0, 1, 0, 1, 1, 1, 1, 0, 0, 0, 1, 0, 0, 1, 0, 0, 1, 0, 1, 0, 1, 1, 0, 1, 1, 0, 1, 0, 1, 0, 0, 1, 1, 0, 0, 1, 1, 1, 1, 0, 1, 1, 0, 0, 0, 0, 1, 0, 0, 1, 1, 0, 1, 0, 0, 1, 1, 0, 1, 0, 1, 0, 0, 0, 0, 0, 1, 1, 1, 0, 1, 0, 1, 1, 1, 1, 0, 0, 1, 0, 1, 1, 1, 1, 1, 1, 1, 1, 1, 1, 0, 1, 1, 1, 0, 1, 1, 0, 0, 1, 1, 1, 0, 0, 1, 0, 1, 0, 1, 1, 0, 0, 0, 1, 1, 0, 1, 1, 1, 1, 1, 1, 0, 0, 0, 0, 1, 1, 1, 1, 0, 1, 0, 0, 0, 1, 1, 1, 0, 0, 0, 0, 0, 1, 1, 1, 0, 0, 1, 1, 1, 0, 0, 1, 1, 1, 0, 1, 0, 0, 0, 0, 0, 0, 0, 1, 0, 0, 0, 0, 0, 1, 1, 0, 1, 0, 1, 0, 0, 0, 0, 0, 0, 0, 0, 1, 1, 1, 0, 0, 0, 0, 1, 1, 1, 0, 1, 1, 1, 0, 1, 0, 0, 0, 0, 1, 0, 1, 1, 0, 0, 1, 0, 1, 1, 1, 0, 0, 0, 1, 0, 1, 0, 0, 1, 1, 1, 0, 0, 0, 0, 0, 1, 0, 0, 0, 0, 1, 0, 0, 0, 1, 1, 0, 1, 0, 1, 1, 1, 0, 0, 1, 1, 0, 0, 1, 0, 0, 0, 1, 0, 1, 1, 0, 1, 1, 1, 1, 1, 1, 0, 0, 1, 1, 0, 1, 0, 0, 0, 1, 1, 1, 1, 0, 1, 1, 0, 1, 1, 0, 0, 1, 1, 1, 1, 1, 0, 0, 1, 1, 0, 1, 0, 0, 1, 0, 1, 0, 0, 1, 1, 1, 0, 1, 0, 0, 0, 1, 0, 1, 0, 1, 1, 0, 0, 1, 1, 1, 1, 1, 0, 0, 1, 0, 0, 1, 1, 1, 0, 0, 1, 1, 1, 1, 1, 0, 1, 0, 1, 1, 0, 0, 1, 0, 0, 1, 0, 1, 1, 0, 1, 1, 1, 0, 0, 0, 1, 1, 0, 0, 1, 0, 0, 1, 0, 0, 0, 0, 0, 1, 1, 1, 1, 0, 0, 0, 0, 0, 0, 1, 1, 0, 1, 0, 0, 1, 1, 0, 0, 1, 1, 1, 0, 0, 1, 1, 1, 1, 1, 0, 1, 0, 0, 1, 1, 1, 1, 0, 1, 1, 1, 0, 1, 0, 0, 0, 0, 0, 1, 1, 1, 0, 1, 1, 1, 0, 1, 0, 1, 0, 1, 0, 0, 0, 1, 0, 1, 1, 1, 1, 1, 0, 0, 0, 0, 0, 1, 0, 0, 1, 0, 0, 1, 0, 1, 0, 0, 0, 0, 0, 1, 1, 0, 0, 0, 1, 0, 1, 0, 0, 0, 0, 0, 0, 1, 1, 0, 1, 1, 1, 0, 1, 1, 1, 0, 1, 1, 1, 1, 1, 1, 0, 0, 0, 1, 0, 1, 1, 0, 1, 0, 1, 1, 0, 1, 0, 0, 1, 0, 0, 1, 0, 0, 1, 0, 0, 1, 0, 1, 0, 0, 1, 0, 0, 0, 1, 0, 1, 1, 0, 0, 0, 1, 0, 1, 0, 1, 1, 0, 0, 1, 1, 0, 0, 1, 0, 0, 1, 0, 1, 0, 0, 1, 0, 1, 1, 1, 0, 0, 0, 0, 0, 0, 1, 0, 1, 0, 0, 1, 0, 0, 1, 1, 0, 0, 1, 0, 0, 0, 0, 0, 1, 1, 0, 1, 1, 0, 0, 1, 1, 0, 0, 1, 1, 1, 1, 0, 0, 0, 0, 1, 1, 0, 0, 0, 1, 1, 1, 1, 0, 1, 1, 0, 0, 0, 1, 0, 0, 1, 0, 1, 1, 0, 1, 0, 1, 1, 1, 0, 0, 1, 1, 0, 1, 0, 1, 0, 1, 0, 1, 0, 0, 0, 0, 1, 1, 1, 1, 0, 1, 0, 0, 1, 0, 0, 0, 1, 0, 0, 1, 1, 1, 0, 0, 1, 0, 0, 0, 1, 0, 0, 1, 1, 1, 1, 0, 0, 1, 1, 1, 1, 0, 1, 1, 1, 1, 1, 1, 0, 0, 0, 0, 1, 1, 0, 0, 1, 0, 1, 0, 1, 0, 1, 1, 0, 0, 1, 1, 0, 1, 0, 1, 0, 0, 1, 1, 1, 0, 1, 0, 1, 1, 1, 1, 1, 0, 1, 1, 1, 0, 1, 0, 1, 1, 1, 1, 1, 0, 1, 1, 0, 1, 0, 0, 0, 1, 1, 0, 0, 1, 1, 0, 0, 1, 0, 0, 1, 1, 1, 1, 1, 1, 1, 0, 1, 1, 1, 0, 1, 0, 1, 0, 0, 1, 1, 1, 0, 1, 0, 1, 0, 0, 0, 0, 1, 0, 0, 0, 0, 1, 0, 0, 0, 0, 0, 1, 1, 0, 1, 1, 0, 1, 1, 1, 1, 1, 1, 0, 1, 1, 0, 0, 1, 0, 0, 0, 0, 0, 0, 0, 0, 0, 0, 1, 1, 0, 1, 0, 0, 1, 1, 1, 1, 1, 0, 1, 1, 0, 0, 1, 1, 1, 1, 1, 1, 1, 1, 1, 1, 1, 0, 1, 1, 1, 0, 0, 0, 0, 1, 1, 0, 0, 0, 0, 1, 0, 0, 0, 0, 1, 1, 0, 1, 0, 1, 0, 0, 0, 1, 1, 1, 0, 0, 1, 1, 0, 0, 1, 1, 0, 0, 0, 1, 0, 1, 1, 0, 0, 1, 0, 1, 1, 0, 0, 0, 0, 0, 0, 0, 0, 1, 0, 1, 0, 1, 1, 0, 0, 1, 1, 1, 1, 0, 0, 1, 1, 0, 1, 0, 1, 0, 0, 1, 1, 1, 1, 1, 0, 0, 1, 0, 1, 0, 0, 0, 1, 1, 0, 1, 0, 1, 0, 0, 0, 0, 1, 0, 0, 1, 1, 1, 0, 1, 1, 0, 0, 0, 0, 0, 0, 1, 0, 1, 0, 1, 0, 0, 0, 1, 0, 1, 0, 1, 1, 1, 0, 1, 1, 0, 0, 0, 0, 1, 1, 0, 0, 1, 0, 1, 1, 0, 0, 0, 1, 0, 1, 1, 1, 0, 1, 1, 1, 0, 0, 0, 0, 1, 1, 0, 1, 0, 0, 0, 0, 0, 1, 1, 1, 1, 1, 0, 1, 0, 0, 0, 0, 0, 1, 1, 0, 1, 1, 1, 0, 0, 1, 1, 1, 0, 1, 1, 1, 0, 0, 1, 0, 1, 1, 1, 1, 1, 0, 0, 0, 0, 1, 0, 0, 1, 0, 0, 0, 0, 0, 1, 1, 0, 1, 0, 0, 0, 1, 1, 1, 0, 1, 0, 0, 1, 0, 0, 1, 0, 0, 1, 1, 0, 1, 1, 1, 1, 0, 1, 1, 0, 0, 0, 1, 0, 0, 1, 0, 1, 0, 1, 1, 1, 1, 0, 1, 0, 1, 0, 0, 0, 0, 1, 0, 1, 0, 1, 0, 1, 0, 1, 0, 0, 0, 0, 0, 1, 0, 0, 0, 0, 1, 1, 0, 0, 0, 1, 1, 0, 0, 1, 1, 0, 0, 0, 1, 1, 1, 1, 1, 1, 0, 1, 1, 1, 1, 1, 0, 0, 1, 1, 0, 0, 1, 0, 1, 0, 0, 1, 0, 0, 0, 0, 1, 0, 1, 0, 0, 0, 1, 0, 0, 0, 1, 0, 1, 0, 0, 1, 1, 1, 1, 0, 0, 1, 1, 0, 1, 1, 1, 0, 0, 0, 1, 1, 1, 1, 1, 1, 1, 0, 1, 1, 1, 0, 0, 0, 0, 0, 0, 0, 0, 0, 0, 1, 1, 0, 1, 1, 0, 0, 0, 0, 0, 1, 0, 1, 0, 1, 0, 0, 0, 1, 0, 0, 1, 1, 1, 0, 0, 0, 1, 0, 1, 1, 1, 0, 1, 0, 1, 1, 1, 1, 0, 0, 0, 0, 0, 0, 1, 0, 0, 0, 0, 1, 0, 0, 0, 0, 0, 1, 1, 1, 0, 0, 1, 0, 0, 1, 0, 0, 1, 1, 0, 1, 1, 0, 1, 1, 0, 1, 1, 1, 1, 1, 1, 1, 0, 0, 0, 1, 1, 1, 0, 0, 1, 1, 1, 0, 1, 0, 0, 1, 0, 1, 1, 0, 1, 1, 1, 1, 0, 1, 1, 0, 0, 1, 1, 0, 1, 0, 0, 1, 0, 0, 1, 1, 1, 1, 1, 1, 0, 1, 1, 1, 0, 1, 1, 0, 1, 0, 1, 0, 0, 0, 1, 0, 1, 1, 1, 1, 1, 0, 0, 1, 1, 1, 1, 1, 1, 0, 0, 0, 1, 0, 1, 0, 1, 0, 0, 1, 0, 0, 1, 1, 1, 1, 1, 1, 0, 1, 0, 0, 1, 1, 0, 1, 0, 0, 1, 0, 1, 0, 0, 0, 1, 1, 1, 1, 0, 0, 1, 0, 0, 0, 1, 0, 1, 1, 0, 1, 0, 0, 1, 1, 1, 1, 1, 1, 1, 0, 1, 1, 0, 0, 0, 1, 1, 1, 1, 0, 1, 0, 1, 0, 1, 0, 1, 0, 0, 0, 1, 0, 0, 0, 1, 1, 0, 0, 0, 1, 1, 1, 1, 1, 1, 1, 0, 1, 1, 1, 1, 1, 1, 0, 0, 1, 0, 1, 1, 1, 0, 1, 0, 0, 0, 0, 0, 0, 0, 0, 1, 0, 1, 1, 1, 0, 0, 1, 0, 0, 1, 1, 1, 1, 1, 0, 0, 1, 0, 0, 1, 0, 0, 0, 0, 0, 0, 0, 1, 0, 0, 0, 1, 1, 1, 1, 1, 0, 0, 0, 1, 1, 0, 0, 0, 0, 0, 0, 0, 0, 1, 1, 0, 0, 0, 1, 1, 0, 1, 1, 0, 1, 1, 1, 0, 0, 0, 1, 1, 0, 1, 0, 0, 1, 1, 1, 1, 1, 0, 1, 0, 1, 0, 1, 0, 0, 0, 1, 0, 1, 1, 0, 1, 1, 1, 0, 0, 0, 0, 1, 1, 1, 1, 0, 0, 1, 0, 0, 0, 0, 0, 0, 1, 0, 1, 0, 1, 1, 0, 1, 1, 1, 1, 1, 0, 1, 1, 1, 0, 0, 1, 0, 1, 1, 0, 1, 0, 1, 1, 1, 0, 0, 1, 0, 0, 1, 1, 1, 1, 1, 0, 1, 0, 1, 1, 0, 1, 1, 1, 1, 0, 1, 1, 0, 1, 0, 0, 1, 0, 1, 0, 1, 0, 0, 1, 1, 0, 0, 1, 0, 0, 1, 0, 0, 0, 1, 0, 1, 1, 1, 1, 1, 1, 1, 0, 0, 1, 1, 0, 0, 1, 0, 1, 0, 1, 0, 0, 0, 1, 1, 1, 1, 0, 0, 0, 0, 1, 1, 1, 0, 1, 1, 1, 0, 1, 0, 0, 0, 1, 0, 1, 1, 0, 0, 0, 1, 0, 0, 0, 0, 1, 1, 1, 1, 1, 0, 1, 0, 0, 1, 1, 1, 0, 1, 1, 1, 0, 0, 0, 0, 0, 1, 0, 1, 0, 1, 1, 0, 0, 0, 0, 1, 0, 1, 0, 0, 0, 1, 0, 0, 0, 1, 0, 0, 0, 0, 1, 1, 1, 0, 0, 0, 0, 1, 1, 0, 1, 0, 0, 0, 0, 1, 1, 1, 1, 1, 1, 1, 1, 0, 0, 1, 0, 0, 1, 0, 0, 0, 1, 0, 0, 1, 0, 0, 0, 0, 1, 0, 0, 0, 0, 0, 1, 0, 0, 1, 0, 1, 0, 0, 1, 0, 1, 0, 0, 1, 0, 0, 0, 1, 1, 0, 0, 0, 1, 1, 1, 0, 0, 0, 1, 1, 1, 0, 1, 0, 1, 1, 1, 1, 1, 1, 1, 1, 0, 0, 0, 1, 1, 1, 0, 1, 0, 0, 0, 1, 1, 1, 0, 1, 0, 1, 1, 1, 0, 0, 1, 0, 0, 0, 0, 1, 0, 0, 0, 0, 1, 0, 1, 1, 1, 0, 0, 1, 1, 1, 0, 0, 0, 0, 1, 1, 0, 1, 1, 1, 1, 1, 1, 0, 0, 0, 0, 1, 1, 0, 0, 0, 0, 0, 0, 0, 1, 0, 0, 1, 0, 1, 1, 0, 1, 1, 1, 0, 0, 0, 0, 1, 1, 1, 0, 1, 0, 0, 0, 1, 1, 0, 1, 1, 1, 1, 1, 1, 0, 0, 0, 1, 1, 0, 0, 0, 1, 1, 1, 1, 0, 0, 1, 1, 1, 1, 1, 1, 0, 0, 1, 0, 1, 1, 1, 0, 0, 0, 1, 1, 1, 1, 1, 0, 0, 1, 1, 1, 0, 0, 0, 0, 0, 0, 0, 1, 0, 1, 0, 0, 0, 1, 0, 0, 1, 0, 1, 1, 1, 1, 0, 1, 1, 1, 0, 1, 1, 1, 1, 0, 0, 1, 1, 0, 1, 1, 1, 1, 1, 1, 0, 1, 1, 1, 1, 1, 0, 0, 0, 1, 0, 1, 1, 0, 0, 1, 1, 0, 0, 0, 1, 1, 1, 1, 0, 1, 1, 1, 1, 0, 0, 1, 1, 1, 0, 0, 0, 1, 1, 1, 0, 1, 0, 1, 1, 1, 0, 1, 0, 0, 1, 0, 1, 0, 0, 1, 1, 1, 1, 0, 1, 0, 1, 1, 0, 1, 1, 1, 1, 0, 1, 0, 1, 0, 0, 0, 1, 0, 0, 0, 1, 1, 0, 1, 0, 1, 1, 1, 0, 0, 1, 0, 1, 0, 0, 0, 1, 0, 0, 1, 0, 1, 1, 0, 1, 0, 1, 0, 1, 1, 0, 1, 1, 1, 0, 1, 0, 0, 0, 0, 1, 1, 1, 1, 1, 0, 0, 1, 1, 0, 1, 1, 0, 0, 1, 0, 1, 0, 1, 0, 1, 1, 0, 1, 1, 0, 1, 0, 1, 1, 1, 1, 1, 0, 1, 1, 0, 1, 1, 0, 0, 1, 0, 0, 1, 1, 1, 1, 1, 1, 0, 1, 1, 1, 0, 0, 1, 0, 1, 1, 1, 1, 0, 1, 1, 1, 0, 1, 0, 1, 1, 1, 1, 0, 0, 0, 1, 0, 0, 1, 0, 1, 0, 0, 0, 1, 0, 1, 1, 0, 1, 0, 1, 1, 0, 0, 1, 1, 1, 0, 1, 0, 1, 1, 0, 1, 0, 1, 1, 0, 1, 1, 0, 1, 1, 1, 0, 0, 1, 1, 0, 1, 1, 0, 1, 1, 0, 0, 1, 1, 1, 1, 0, 0, 0, 1, 1, 0, 0, 0, 1, 0, 1, 1, 0, 1, 1, 0, 0, 1, 1, 0, 1, 1, 0, 0, 0, 1, 0, 0, 1, 1, 1, 1, 1, 1, 0, 1, 0, 0, 1, 0, 1, 0, 1, 0, 0, 1, 1, 1, 0, 0, 1, 1, 0, 1, 1, 1, 1, 1, 0, 0, 1, 0, 0, 0, 1, 0, 1, 0, 0, 1, 1, 1, 0, 0, 1, 1, 1, 1, 1, 1, 0, 1, 0, 1, 0, 1, 0, 0, 1, 0, 1, 0, 1, 1, 0, 0, 1, 0, 0, 0, 1, 1, 1, 1, 0, 1, 0, 1, 1, 0, 1, 0, 1, 1, 1, 1, 0, 0, 0, 1, 1, 1, 0, 1, 0, 0, 1, 0, 0, 0, 1, 0, 1, 1, 0, 0, 1, 1, 1, 1, 0, 0, 1, 0, 0, 0, 0, 1, 0, 1, 1, 1, 0, 1, 0, 0, 1, 1, 1, 1, 0, 0, 0, 1, 0, 0, 1, 1, 0, 1, 0, 1, 1, 1, 1, 0, 0, 1, 0, 0, 1, 1, 1, 0, 0, 0, 0, 1, 0, 0, 0, 0, 0, 0, 1, 1, 1, 1, 1, 1, 0, 0, 1, 0, 1, 0, 1, 0, 0, 1, 0, 0, 0, 1, 1, 0, 1, 0, 0, 1, 1, 0, 1, 1, 1, 1, 1, 0, 1, 1, 0, 1, 0, 1, 1, 1, 0, 0, 1, 1, 0, 0, 1, 1, 1, 0, 1, 0, 1, 0, 1, 0, 1, 1, 0, 1, 1, 0, 1, 0, 0, 0, 0, 1, 1, 1, 0, 1, 1, 0, 1, 0, 1, 1, 1, 1, 1, 1, 0, 0, 0, 0, 1, 0, 1, 1, 1, 0, 1, 0, 0, 0, 0, 1, 1, 0, 1, 1, 1, 1, 0, 1, 0, 1, 0, 1, 0, 1, 0, 1, 0, 1, 0, 1, 1, 1, 1, 1, 0, 1, 0, 0, 1, 1, 1, 1, 1, 1, 0, 0, 1, 0, 0, 1, 1, 1, 0, 0, 0, 1, 0, 0, 0, 1, 1, 1, 1, 0, 1, 0, 0, 0, 0, 0, 0, 0, 1, 1, 1, 0, 0, 1, 1, 1, 1, 0, 1, 1, 0, 0, 1, 1, 1, 0, 1, 1, 0, 1, 1, 1, 0, 1, 1, 1, 0, 0, 1, 1, 1, 1, 1, 1, 1, 1, 0, 0, 1, 1, 1, 0, 1, 1, 0, 1, 0, 0, 1, 1, 1, 0, 1, 1, 1, 1, 1, 1, 1, 0, 0, 1, 1, 0, 1, 1, 1, 1, 0, 1, 0, 0, 1, 0, 1, 1, 0, 0, 0, 0, 1, 0, 0, 0, 0, 0, 0, 1, 0, 1, 0, 0, 0, 0, 0, 1, 0, 1, 1, 0, 0, 1, 1, 0, 0, 0, 1, 1, 0, 0, 1, 0, 1, 1, 0, 1, 0, 0, 1, 0, 0, 1, 0, 0, 1, 0, 0, 1, 1, 0, 1, 1, 1, 0, 0, 0, 0, 0, 1, 1, 0, 0, 0, 0, 1, 0, 0, 1, 0, 1, 1, 0, 1, 1, 0, 1, 0, 0, 1, 0, 1, 0, 1, 1, 0, 0, 1, 0, 1, 1, 1, 1, 1, 0, 1, 1, 0, 1, 0, 1, 0, 1, 1, 0, 0, 0, 0, 1, 0, 1, 0, 1, 0, 1, 1, 0, 0, 0, 1, 1, 1, 1, 0, 1, 1, 0, 0, 1, 1, 1, 1, 0, 0, 0, 1, 1, 0, 1, 1, 1, 0, 1, 0, 0, 1, 0, 0, 0, 0, 1, 1, 1, 0, 0, 0, 1, 0, 0, 1, 1, 0, 0, 1, 1, 0, 1, 1, 1, 0, 1, 1, 1, 0, 1, 0, 1, 0, 1, 0, 1, 1, 0, 0, 1, 1, 1, 1, 0, 1, 1, 0, 1, 1, 1, 0, 0, 1, 0, 1, 0, 0, 0, 1, 0, 1, 1, 1, 0, 1, 0, 0, 1, 1, 1, 0, 0, 1, 0, 1, 0, 0, 1, 0, 1, 0, 0, 1, 1, 0, 1, 1, 0, 0, 0, 1, 1, 1, 0, 0, 1, 0, 1, 1, 0, 1, 1, 0, 1, 0, 1, 0, 1, 1, 1, 1, 1, 0, 1, 1, 1, 1, 0, 0, 0, 0, 1, 1, 0, 0, 1, 1, 0, 0, 1, 0, 1, 0, 0, 0, 0, 1, 0, 0, 0, 0, 1, 1, 1, 1, 0, 0, 0, 1, 0, 1, 1, 0, 0, 1, 1, 0, 0, 0, 1, 1, 0, 1, 0, 1, 1, 0, 0, 0, 1, 1, 0, 0, 1, 0, 1, 1, 1, 0, 0, 0, 1, 0, 1, 1, 1, 0, 0, 1, 0, 0, 0, 0, 0, 0, 1, 0, 1, 1, 1, 0, 1, 0, 1, 0, 0, 1, 0, 1, 0, 0, 0, 1, 0, 0, 0, 1, 0, 0, 0, 1, 1, 0, 1, 1, 0, 0, 0, 1, 1, 0, 0, 0, 1, 0, 1, 0, 0, 1, 1, 1, 0, 0, 0, 0, 0, 1, 0, 1, 1, 1, 1, 0, 0, 1, 1, 0, 1, 1, 0, 0, 0, 1, 0, 1, 1, 1, 0, 0, 0, 0, 1, 1, 0, 1, 1, 0, 1, 1, 0, 1, 0, 1, 0, 0, 1, 0, 1, 1, 0, 1, 1, 1, 0, 1, 0, 1, 0, 1, 1, 1, 0, 0, 0, 0, 1, 0, 0, 1, 0, 0, 1, 1, 1, 1, 1, 1, 0, 0, 1, 0, 0, 0, 1, 0, 1, 1, 0, 1, 1, 1, 0, 1, 1, 1, 1, 1, 0, 0, 1, 1, 0, 1, 1, 0, 0, 0, 1, 1, 1, 1, 1, 1, 0, 1, 1, 0, 0, 0, 1, 0, 0, 0, 0, 0, 0, 0, 1, 1, 1, 0, 1, 0, 0, 1, 0, 0, 0, 0, 1, 1, 1, 0, 1, 1, 1, 1, 1, 1, 1, 1, 1, 1, 0, 1, 1, 1, 1, 1, 1, 1, 1, 1, 0, 0, 1, 1, 1, 0, 1, 0, 1, 1, 0, 0, 1, 1, 0, 1, 0, 1, 1, 0, 0, 1, 0, 1, 1, 1, 1, 1, 1, 0, 0, 1, 1, 0, 1, 1, 1, 1, 1, 0, 0, 1, 1, 1, 1, 0, 1, 1, 0, 1, 1, 0, 1, 0, 0, 1, 1, 0, 0, 0, 0, 0, 0, 0, 1, 1, 1, 0, 0, 0, 0, 1, 1, 1, 1, 0, 1, 1, 1, 0, 0, 1, 1, 0, 0, 0, 1, 0, 1, 0, 0, 0, 0, 0, 1, 1, 0, 1, 0, 1, 0, 1, 1, 0, 0, 1, 1, 1, 1, 1, 1, 0, 1, 1, 1, 1, 0, 0, 1, 0, 1, 0, 1, 0, 0, 0, 0, 1, 0, 1, 1, 0, 0, 0, 1, 1, 0, 1, 1, 1, 0, 0, 0, 0, 1, 1, 1, 0, 0, 0, 0, 1, 1, 1, 1, 1, 0, 1, 1, 0, 1, 0, 1, 1, 1, 0, 1, 0, 1, 0, 1, 1, 1, 0, 1, 1, 1, 0, 1, 0, 0, 0, 0, 1, 0, 1, 0, 1, 0, 1, 0, 1, 0, 0, 1, 1, 1, 1, 0, 0, 1, 1, 0, 1, 1, 1, 1, 1, 1, 1, 0, 1, 0, 1, 1, 1, 0, 1, 1, 0, 0, 1, 0, 0, 0, 0, 0, 0, 1, 1, 1, 0, 1, 0, 1, 0, 1, 0, 1, 0, 0, 0, 1, 1, 1, 1, 1, 0, 1, 1, 0, 1, 1, 1, 1, 1, 0, 1, 0, 1, 1, 0, 0, 1, 1, 0, 1, 1, 1, 0, 0, 1, 1, 1, 1, 1, 1, 1, 0, 1, 1, 1, 1, 1, 0, 0, 1, 0, 1, 1, 0, 1, 1, 0, 1, 1, 0, 1, 1, 1, 1, 1, 0, 1, 0, 1, 0, 0, 0, 1, 0, 0, 0, 1, 0, 0, 0, 1, 1, 1, 1, 1, 1, 1, 0, 1, 1, 1, 0, 1, 0, 1, 0, 0, 0, 1, 1, 0, 1, 1, 1, 1, 1, 1, 1, 1, 0, 1, 1, 0, 1, 1, 1, 1, 0, 1, 1, 0, 1, 0, 0, 1, 0, 0, 0, 0, 0, 1, 1, 1, 0, 0, 1, 1, 0, 1, 0, 0, 0, 1, 1, 1, 1, 1, 1, 0, 0, 1, 0, 1, 1, 0, 0, 1, 1, 0, 1, 0, 0, 1, 0, 0, 0, 0, 0, 0, 1, 0, 0, 0, 0, 0, 1, 1, 1, 1, 1, 0, 1, 1, 0, 0, 0, 1, 1, 1, 1, 1, 1, 1, 1, 1, 0, 1, 1, 1, 1, 1, 0, 0, 1, 1, 1, 0, 1, 0, 0, 1, 0, 1, 0, 0, 0, 0, 0, 1, 0, 0, 0, 0, 0, 0, 0, 0, 1, 0, 1, 0, 0, 1, 0, 0, 0, 1, 0, 1, 0, 0, 1, 1, 0, 1, 1, 0, 1, 1, 1, 1, 0, 0, 0, 0, 0, 0, 1, 1, 0, 1, 1, 0, 1, 1, 1, 0, 0, 0, 1, 1, 1, 0, 1, 1, 0, 1, 1, 1, 0, 0, 1, 1, 0, 1, 1, 0, 1, 0, 0, 1, 1, 1, 1, 1, 0, 0, 0, 0, 0, 1, 1, 1, 0, 1, 1, 0, 1, 1, 1, 1, 0, 0, 1, 1, 0, 1, 1, 1, 1, 0, 1, 1, 0, 0, 1, 1, 0, 0, 0, 1, 1, 1, 1, 1, 0, 0, 0, 0, 1, 0, 0, 1, 0, 1, 1, 0, 1, 1, 1, 0, 1, 1, 1, 0, 1, 0, 1, 0, 1, 1, 1, 1, 1, 1, 0, 1, 0, 0, 1, 1, 1, 0, 1, 1, 1, 1, 0, 1, 1, 0, 0, 0, 1, 1, 1, 0, 1, 0, 1, 1, 1, 0, 1, 0, 0, 1, 1, 1, 1, 0, 1, 1, 1, 0, 1, 1, 1, 0, 0, 1, 1, 1, 1, 1, 1, 1, 1, 1, 1, 0, 0, 1, 1, 1, 0, 0, 0, 1, 1, 1, 1, 0, 1, 1, 1, 1, 1, 1, 0, 0, 1, 1, 0, 0, 0, 0, 1, 1, 0, 0, 1, 1, 1, 1, 1, 0, 1, 1, 1, 0, 1, 1, 1, 0, 0, 1, 0, 0, 1, 0, 1, 1, 0, 1, 1, 1, 0, 1, 1, 1, 1, 0, 0, 0, 0, 0, 1, 0, 0, 1, 0, 1, 1, 0, 1, 1, 0, 0, 1, 0, 0, 1, 1, 1, 0, 1, 0, 1, 0, 1, 0, 0, 0, 0, 0, 1, 0, 1, 1, 1, 1, 0, 1, 0, 1, 1, 0, 1, 1, 0, 1, 1, 0, 1, 0, 0, 1, 1, 1, 1, 0, 1, 0, 0, 1, 1, 0, 0, 0, 1, 0, 0, 0, 0, 1, 1, 1, 1, 1, 0, 1, 1, 1, 0, 1, 1, 1, 1, 1, 1, 1, 1, 1, 1, 1, 1, 0, 1, 0, 0, 0, 0, 0, 0, 0, 1, 0, 0, 1, 1, 1, 1, 1, 1, 0, 1, 1, 1, 0, 0, 1, 0, 1, 1, 0, 0, 0, 0, 1, 0, 0, 0, 0, 1, 0, 0, 0, 1, 1, 1, 0, 0, 1, 1, 1, 1, 0, 1, 0, 0, 1, 1, 0, 1, 0, 0, 1, 1, 0, 0, 0, 1, 0, 1, 1, 1, 1, 1, 1, 0, 1, 1, 1, 1, 1, 0, 0, 0, 0, 1, 1, 1, 1, 0, 0, 0, 0, 1, 0, 1, 0, 1, 0, 1, 1, 1, 0, 1, 0, 0, 1, 1, 0, 0, 0, 1, 1, 1, 1, 1, 0, 0, 0, 1, 0, 0, 1, 1, 0, 0, 1, 0, 1, 0, 1, 0, 0, 1, 1, 0, 1, 1, 0, 1, 1, 1, 0, 0, 1, 0, 0, 1, 0, 1, 1, 0, 1, 0, 1, 1, 0, 0, 1, 0, 1, 1, 0, 0, 0, 0, 0, 0, 0, 1, 0, 0, 1, 0, 1, 1, 0, 1, 0, 0, 0, 0, 1, 1, 0, 1, 1, 1, 1, 1, 1, 1, 1, 1, 0, 1, 1, 1, 0, 1, 0, 0, 1, 1, 1, 1, 0, 1, 1, 0, 0, 0, 0, 0, 1, 0, 1, 1, 1, 1, 0, 1, 0, 1, 1, 1, 1, 1, 0, 0, 0, 1, 1, 0, 1, 1, 1, 1, 0, 1, 0, 1, 0, 1, 0, 0, 1, 0, 0, 0, 1, 1, 0, 0, 0, 1, 0, 1, 0, 0, 0, 0, 1, 0, 0, 0, 1, 1, 0, 1, 1, 1, 0, 1, 1, 0, 1, 0, 1, 1, 1, 0, 1, 0, 0, 0, 1, 1, 0, 1, 1, 1, 0, 0, 1, 0, 1, 0, 1, 1, 1, 1, 0, 1, 1, 0, 0, 0, 1, 0, 1, 1, 1, 1, 0, 1, 0, 0, 1, 0, 1, 1, 0, 1, 0, 1, 1, 1, 0, 1, 0, 1, 0, 0, 1, 1, 1, 1, 0, 0, 0, 1, 1, 1, 1, 1, 1, 1, 1, 0, 1, 1, 1, 1, 0, 0, 1, 1, 1, 0, 1, 0, 1, 1, 1, 1, 1, 1, 1, 1, 1, 1, 0, 1, 1, 0, 0, 1, 1, 0, 0, 0, 0, 0, 0, 1, 0, 0, 0, 1, 0, 1, 0, 1, 1, 0, 0, 1, 1, 1, 1, 1, 0, 1, 1, 1, 1, 1, 1, 1, 0, 0, 0, 1, 0, 1, 1, 0, 0, 1, 0, 0, 1, 1, 1, 0, 1, 1, 0, 1, 1, 1, 1, 1, 0, 1, 0, 0, 1, 0, 1, 0, 0, 0, 1, 0, 1, 0, 1, 1, 1, 1, 0, 1, 0, 0, 1, 1, 1, 0, 0, 1, 1, 1, 0, 1, 0, 0, 0, 1, 1, 1, 0, 0, 1, 0, 1, 1, 0, 1, 0, 0, 1, 0, 1, 1, 0, 0, 1, 0, 1, 0, 1, 1, 1, 0, 1, 0, 0, 1, 0, 1, 0, 0, 0, 0, 0, 1, 0, 1, 1, 0, 0, 0, 1, 0, 1, 1, 1, 0, 0, 1, 0, 1, 1, 0, 1, 0, 0, 1, 1, 0, 0, 0, 0, 0, 1, 1, 0, 1, 0, 0, 1, 0, 1, 0, 1, 1, 1, 0, 0, 0, 0, 0, 1, 1, 1, 0, 1, 1, 0, 0, 1, 0, 1, 0, 0, 0, 1, 1, 1, 1, 1, 1, 1, 0, 0, 0, 0, 0, 1, 0, 0, 1, 0, 0, 0, 1, 0, 1, 1, 0, 1, 0, 0, 0, 0, 0, 1, 0, 0, 1, 1, 1, 0, 0, 1, 0, 0, 0, 1, 1, 1, 1, 1, 1, 0, 0, 1, 1, 0, 1, 1, 1, 0, 1, 1, 0, 0, 0, 0, 1, 0, 0, 0, 1, 1, 1, 0, 1, 1, 1, 1, 0, 0, 1, 0, 1, 1, 1, 0, 1, 1, 1, 0, 1, 1, 1, 0, 0, 0, 1, 0, 1, 1, 0, 1, 1, 0, 1, 1, 1, 1, 1, 0, 1, 1, 1, 1, 0, 1, 1, 0, 1, 0, 0, 0, 0, 0, 0, 1, 0, 1, 0, 0, 0, 1, 1, 0, 0, 0, 0, 1, 1, 1, 1, 0, 0, 0, 1, 1, 1, 1, 0, 1, 0, 0, 0, 1, 1, 1, 0, 1, 1, 0, 0, 1, 1, 1, 1, 1, 1, 1, 1, 1, 0, 0, 0, 1, 0, 1, 1, 0, 1, 0, 0, 1, 0, 1, 1, 0, 1, 0, 1, 1, 1, 0, 0, 0, 0, 0, 1, 1, 0, 1, 0, 1, 0, 0, 1, 0, 0, 0, 1, 1, 1, 0, 0, 0, 0, 1, 1, 1, 1, 0, 0, 0, 1, 0, 1, 0, 1, 1, 0, 0, 1, 1, 1, 1, 1, 1, 0, 0, 1, 1, 0, 1, 0, 1, 0, 0, 1, 1, 0, 1, 1, 0, 0, 1, 0, 1, 0, 1, 0, 1, 1, 0, 1, 0, 1, 1, 1, 0, 0, 0, 1, 1, 0, 0, 0, 1, 1, 1, 0, 1, 0, 0, 0, 0, 1, 0, 0, 1, 0, 1, 1, 1, 1, 1, 1, 0, 1, 0, 0, 1, 0, 1, 0, 1, 1, 0, 0, 1, 1, 0, 0, 1, 0, 0, 0, 0, 0, 0, 0, 1, 0, 0, 1, 0, 1, 1, 1, 1, 0, 0, 1, 1, 1, 1, 1, 1, 0, 0, 0, 1, 1, 0, 1, 1, 0, 0, 1, 0, 1, 0, 0, 0, 0, 1, 0, 0, 1, 0, 1, 1, 1, 0, 1, 0, 1, 1, 1, 1, 1, 1, 1, 1, 0, 1, 0, 1, 0, 1, 0, 1, 0, 1, 1, 1, 1, 0, 1, 1, 0, 0, 0, 0, 1, 0, 0, 1, 0, 1, 1, 1, 1, 1, 1, 0, 0, 1, 1, 0, 1, 1, 0, 0, 0, 1, 0, 1, 0, 1, 0, 0, 0, 0, 1, 1, 1, 0, 0, 1, 1, 1, 1, 1, 0, 1, 0, 1, 1, 0, 0, 1, 1, 0, 0, 0, 0, 0, 1, 0, 0, 1, 1, 1, 1, 0, 0, 1, 0, 1, 1, 1, 1, 1, 1, 1, 1, 1, 1, 1, 0, 0, 0, 0, 0, 1, 0, 1, 0, 1, 1, 1, 1, 1, 0, 0, 0, 1, 1, 0, 1, 0, 1, 1, 0, 0, 0, 1, 0, 1, 0, 1, 1, 0, 0, 1, 1, 0, 0, 0, 1, 0, 0, 0, 1, 0, 0, 1, 1, 1, 1, 0, 1, 1, 0, 1, 0, 1, 0, 1, 0, 0, 0, 1, 1, 0, 1, 1, 1, 0, 0, 0, 1, 1, 0, 1, 1, 1, 0, 1, 0, 1, 1, 0, 0, 0, 0, 0, 0, 0, 1, 0, 0, 1, 1, 1, 1, 0, 0, 1, 0, 1, 0, 0, 1, 1, 0, 0, 0, 1, 0, 1, 0, 0, 0, 0, 1, 0, 1, 0, 1, 1, 1, 1, 0, 1, 1, 0, 0, 1, 0, 0, 0, 1, 0, 0, 1, 1, 1, 1, 1, 0, 1, 1, 1, 0, 1, 0, 1, 0, 0, 0, 1, 1, 1, 0, 0, 0, 1, 1, 0, 0, 1, 1, 1, 0, 1, 0, 1, 1, 0, 1, 0, 0, 1, 0, 1, 1, 1, 0, 1, 1, 0, 1, 0, 1, 1, 0, 1, 1, 0, 1, 0, 0, 1, 1, 1, 0, 1, 1, 1, 0, 1, 1, 0, 1, 1, 1, 1, 1, 1, 0, 1, 0, 0, 1, 1, 1, 1, 1, 0, 0, 1, 1, 1, 1, 0, 1, 1, 0, 0, 0, 0, 1, 0, 1, 0, 0, 1, 1, 0, 0, 1, 1, 1, 1, 0, 1, 0, 0, 1, 0, 1, 1, 1, 0, 0, 0, 1, 1, 1, 1, 1, 0, 1, 1, 1, 0, 0, 1, 1, 1, 1, 1, 1, 0, 1, 1, 1, 1, 0, 1, 1, 1, 1, 0, 0, 0, 1, 1, 0, 0, 0, 1, 1, 1, 1, 1, 1, 1, 0, 0, 1, 1, 0, 0, 0, 0, 1, 0, 0, 1, 1, 0, 1, 1, 0, 0, 0, 1, 0, 1, 1, 1, 0, 0, 0, 0, 1, 0, 1, 0, 1, 1, 1, 1, 1, 1, 1, 1, 1, 0, 0, 0, 1, 0, 1, 0, 1, 0, 0, 0, 1, 1, 1, 1, 0, 1, 1, 1, 1, 1, 0, 1, 1, 0, 0, 0, 0, 0, 1, 1, 1, 1, 1, 1, 1, 0, 1, 1, 1, 1, 0, 0, 1, 0, 0, 0, 1, 1, 1, 1, 0, 0, 0, 1, 1, 1, 0, 0, 1, 1, 0, 0, 1, 0, 1, 1, 0, 0, 1, 1, 0, 1, 1, 1, 1, 0, 1, 1, 0]\n"
          ],
          "name": "stdout"
        }
      ]
    },
    {
      "cell_type": "code",
      "metadata": {
        "colab": {
          "base_uri": "https://localhost:8080/"
        },
        "id": "nTR-AYF3qb0O",
        "outputId": "ad4e2f87-d810-4d94-e0b9-3a8f7f82374a"
      },
      "source": [
        "ensemble_submission = pd.DataFrame({'Predicted' : predict_ensemble})\r\n",
        "print(ensemble_submission)"
      ],
      "execution_count": null,
      "outputs": [
        {
          "output_type": "stream",
          "text": [
            "       Predicted\n",
            "0              1\n",
            "1              0\n",
            "2              1\n",
            "3              1\n",
            "4              0\n",
            "...          ...\n",
            "11182          1\n",
            "11183          0\n",
            "11184          1\n",
            "11185          1\n",
            "11186          0\n",
            "\n",
            "[11187 rows x 1 columns]\n"
          ],
          "name": "stdout"
        }
      ]
    },
    {
      "cell_type": "markdown",
      "metadata": {
        "id": "_IGGsPo8c2Iu"
      },
      "source": [
        "- Kaggle 리더보드 업로드 파일 생성 (csv 파일 변환 후 다운로드 하여 인덱스 칼럼명 'Id' 입력 필요)"
      ]
    },
    {
      "cell_type": "code",
      "metadata": {
        "id": "umFQulhSp97H"
      },
      "source": [
        "ensemble_submission.to_csv('ensemble prediction.csv')"
      ],
      "execution_count": null,
      "outputs": []
    }
  ]
}